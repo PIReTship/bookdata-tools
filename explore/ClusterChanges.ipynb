{
 "cells": [
  {
   "cell_type": "markdown",
   "id": "6480a2da",
   "metadata": {},
   "source": [
    "# Debug Cluster Changes\n",
    "\n",
    "This notebook is a utility notebook for examining changes between the current branch and `master`.\n",
    "\n",
    "**Warning:** this notebook consumes quite a bit of memory (over 32GB)."
   ]
  },
  {
   "cell_type": "markdown",
   "id": "dcc57f7c",
   "metadata": {},
   "source": [
    "## Setup\n",
    "\n",
    "Libraries:"
   ]
  },
  {
   "cell_type": "code",
   "execution_count": 1,
   "id": "dda87878",
   "metadata": {},
   "outputs": [],
   "source": [
    "import dvc.api\n",
    "import numpy as np\n",
    "import pandas as pd\n",
    "import seaborn as sns"
   ]
  },
  {
   "cell_type": "markdown",
   "id": "d9295c0e",
   "metadata": {},
   "source": [
    "## Load Data\n",
    "\n",
    "We need to load some data files.  We are primarily interested in the book genders."
   ]
  },
  {
   "cell_type": "markdown",
   "id": "54edcf9e",
   "metadata": {},
   "source": [
    "### Current Book Genders\n",
    "\n",
    "Load the current genders:"
   ]
  },
  {
   "cell_type": "code",
   "execution_count": 2,
   "id": "b62c6ff1",
   "metadata": {},
   "outputs": [
    {
     "name": "stdout",
     "output_type": "stream",
     "text": [
      "<class 'pandas.core.frame.DataFrame'>\n",
      "RangeIndex: 32185879 entries, 0 to 32185878\n",
      "Data columns (total 2 columns):\n",
      " #   Column   Dtype   \n",
      "---  ------   -----   \n",
      " 0   cluster  int32   \n",
      " 1   gender   category\n",
      "dtypes: category(1), int32(1)\n",
      "memory usage: 153.5 MB\n"
     ]
    }
   ],
   "source": [
    "current = pd.read_parquet(\"book-links/cluster-genders.parquet\")\n",
    "current[\"gender\"] = current[\"gender\"].astype(\"category\")\n",
    "current.info()"
   ]
  },
  {
   "cell_type": "code",
   "execution_count": 3,
   "id": "914e854c",
   "metadata": {},
   "outputs": [
    {
     "data": {
      "text/plain": [
       "<AxesSubplot:xlabel='count', ylabel='gender'>"
      ]
     },
     "execution_count": 3,
     "metadata": {},
     "output_type": "execute_result"
    },
    {
     "data": {
      "image/png": "[encoded data removed]",
      "text/plain": [
       "<Figure size 432x288 with 1 Axes>"
      ]
     },
     "metadata": {
      "needs_background": "light"
     },
     "output_type": "display_data"
    }
   ],
   "source": [
    "sns.countplot(y=\"gender\", data=current)"
   ]
  },
  {
   "cell_type": "code",
   "execution_count": 4,
   "id": "0e8c84ef",
   "metadata": {},
   "outputs": [],
   "source": [
    "current = current.set_index(\"cluster\").sort_index()"
   ]
  },
  {
   "cell_type": "markdown",
   "id": "658e65c1",
   "metadata": {},
   "source": [
    "### Master Book Genders\n",
    "\n",
    "Now load the genders from the `master` branch:"
   ]
  },
  {
   "cell_type": "code",
   "execution_count": 5,
   "id": "2a57d4a1",
   "metadata": {},
   "outputs": [
    {
     "name": "stdout",
     "output_type": "stream",
     "text": [
      "<class 'pandas.core.frame.DataFrame'>\n",
      "RangeIndex: 32185879 entries, 0 to 32185878\n",
      "Data columns (total 2 columns):\n",
      " #   Column   Dtype   \n",
      "---  ------   -----   \n",
      " 0   cluster  int32   \n",
      " 1   gender   category\n",
      "dtypes: category(1), int32(1)\n",
      "memory usage: 153.5 MB\n"
     ]
    }
   ],
   "source": [
    "with dvc.api.open(\"book-links/cluster-genders.parquet\", rev=\"master\", mode=\"rb\") as pqf:\n",
    "    master = pd.read_parquet(pqf)\n",
    "master[\"gender\"] = master[\"gender\"].astype(\"category\")\n",
    "master.info()"
   ]
  },
  {
   "cell_type": "code",
   "execution_count": 6,
   "id": "c61429e8",
   "metadata": {},
   "outputs": [
    {
     "data": {
      "text/plain": [
       "<AxesSubplot:xlabel='count', ylabel='gender'>"
      ]
     },
     "execution_count": 6,
     "metadata": {},
     "output_type": "execute_result"
    },
    {
     "data": {
      "image/png": "[encoded data removed]",
      "text/plain": [
       "<Figure size 432x288 with 1 Axes>"
      ]
     },
     "metadata": {
      "needs_background": "light"
     },
     "output_type": "display_data"
    }
   ],
   "source": [
    "sns.countplot(y=\"gender\", data=master)"
   ]
  },
  {
   "cell_type": "code",
   "execution_count": 7,
   "id": "ff6312cc",
   "metadata": {},
   "outputs": [],
   "source": [
    "master = master.set_index(\"cluster\").sort_index()"
   ]
  },
  {
   "cell_type": "markdown",
   "id": "be2b104c",
   "metadata": {},
   "source": [
    "### Authors\n",
    "\n",
    "Let's load book first authors:"
   ]
  },
  {
   "cell_type": "code",
   "execution_count": 8,
   "id": "bebd27f6",
   "metadata": {},
   "outputs": [
    {
     "name": "stdout",
     "output_type": "stream",
     "text": [
      "<class 'pandas.core.frame.DataFrame'>\n",
      "RangeIndex: 23474948 entries, 0 to 23474947\n",
      "Data columns (total 2 columns):\n",
      " #   Column       Dtype \n",
      "---  ------       ----- \n",
      " 0   cluster      int32 \n",
      " 1   author_name  object\n",
      "dtypes: int32(1), object(1)\n",
      "memory usage: 268.6+ MB\n"
     ]
    }
   ],
   "source": [
    "authors = pd.read_parquet(\"book-links/cluster-first-authors.parquet\")\n",
    "authors.info()"
   ]
  },
  {
   "cell_type": "markdown",
   "id": "490ef94b",
   "metadata": {},
   "source": [
    "And the author indexes:"
   ]
  },
  {
   "cell_type": "code",
   "execution_count": 9,
   "id": "eef79128",
   "metadata": {},
   "outputs": [
    {
     "name": "stdout",
     "output_type": "stream",
     "text": [
      "<class 'pandas.core.frame.DataFrame'>\n",
      "RangeIndex: 60791876 entries, 0 to 60791875\n",
      "Data columns (total 2 columns):\n",
      " #   Column  Dtype \n",
      "---  ------  ----- \n",
      " 0   rec_id  uint32\n",
      " 1   name    object\n",
      "dtypes: object(1), uint32(1)\n",
      "memory usage: 695.7+ MB\n"
     ]
    }
   ],
   "source": [
    "cur_au_idx = pd.read_parquet(\"viaf/author-name-index.parquet\")\n",
    "cur_au_idx.info()"
   ]
  },
  {
   "cell_type": "code",
   "execution_count": 10,
   "id": "11198ff8",
   "metadata": {},
   "outputs": [
    {
     "name": "stdout",
     "output_type": "stream",
     "text": [
      "<class 'pandas.core.frame.DataFrame'>\n",
      "RangeIndex: 61681353 entries, 0 to 61681352\n",
      "Data columns (total 2 columns):\n",
      " #   Column  Dtype \n",
      "---  ------  ----- \n",
      " 0   rec_id  uint32\n",
      " 1   name    object\n",
      "dtypes: object(1), uint32(1)\n",
      "memory usage: 705.9+ MB\n"
     ]
    }
   ],
   "source": [
    "with dvc.api.open(\"viaf/author-name-index.parquet\", rev=\"master\", mode=\"rb\") as pqf:\n",
    "    old_au_idx = pd.read_parquet(pqf)\n",
    "old_au_idx.info()"
   ]
  },
  {
   "cell_type": "markdown",
   "id": "a1d43a12",
   "metadata": {},
   "source": [
    "And the old author names:"
   ]
  },
  {
   "cell_type": "code",
   "execution_count": 11,
   "id": "72cc835c",
   "metadata": {},
   "outputs": [
    {
     "name": "stdout",
     "output_type": "stream",
     "text": [
      "<class 'pandas.core.frame.DataFrame'>\n",
      "RangeIndex: 24331117 entries, 0 to 24331116\n",
      "Data columns (total 2 columns):\n",
      " #   Column       Dtype \n",
      "---  ------       ----- \n",
      " 0   cluster      int32 \n",
      " 1   author_name  object\n",
      "dtypes: int32(1), object(1)\n",
      "memory usage: 278.4+ MB\n"
     ]
    }
   ],
   "source": [
    "with dvc.api.open(\"book-links/cluster-first-authors.parquet\", rev=\"master\", mode=\"rb\") as pqf:\n",
    "    old_authors = pd.read_parquet(pqf)\n",
    "old_authors.info()"
   ]
  },
  {
   "cell_type": "markdown",
   "id": "551b63b6",
   "metadata": {},
   "source": [
    "## Tabulate Results\n",
    "\n",
    "Let's compare gender link results."
   ]
  },
  {
   "cell_type": "code",
   "execution_count": 12,
   "id": "b070b4af",
   "metadata": {},
   "outputs": [
    {
     "data": {
      "text/html": [
       "<div>\n",
       "<style scoped>\n",
       "    .dataframe tbody tr th:only-of-type {\n",
       "        vertical-align: middle;\n",
       "    }\n",
       "\n",
       "    .dataframe tbody tr th {\n",
       "        vertical-align: top;\n",
       "    }\n",
       "\n",
       "    .dataframe thead th {\n",
       "        text-align: right;\n",
       "    }\n",
       "</style>\n",
       "<table border=\"1\" class=\"dataframe\">\n",
       "  <thead>\n",
       "    <tr style=\"text-align: right;\">\n",
       "      <th>source</th>\n",
       "      <th>gender_old</th>\n",
       "      <th>gender_cur</th>\n",
       "    </tr>\n",
       "    <tr>\n",
       "      <th>cluster</th>\n",
       "      <th></th>\n",
       "      <th></th>\n",
       "    </tr>\n",
       "  </thead>\n",
       "  <tbody>\n",
       "    <tr>\n",
       "      <th>100000001</th>\n",
       "      <td>no-author-rec</td>\n",
       "      <td>no-author-rec</td>\n",
       "    </tr>\n",
       "    <tr>\n",
       "      <th>100000002</th>\n",
       "      <td>no-author-rec</td>\n",
       "      <td>no-author-rec</td>\n",
       "    </tr>\n",
       "    <tr>\n",
       "      <th>100000003</th>\n",
       "      <td>male</td>\n",
       "      <td>male</td>\n",
       "    </tr>\n",
       "    <tr>\n",
       "      <th>100000004</th>\n",
       "      <td>male</td>\n",
       "      <td>male</td>\n",
       "    </tr>\n",
       "    <tr>\n",
       "      <th>100000005</th>\n",
       "      <td>female</td>\n",
       "      <td>female</td>\n",
       "    </tr>\n",
       "  </tbody>\n",
       "</table>\n",
       "</div>"
      ],
      "text/plain": [
       "source        gender_old     gender_cur\n",
       "cluster                                \n",
       "100000001  no-author-rec  no-author-rec\n",
       "100000002  no-author-rec  no-author-rec\n",
       "100000003           male           male\n",
       "100000004           male           male\n",
       "100000005         female         female"
      ]
     },
     "execution_count": 12,
     "metadata": {},
     "output_type": "execute_result"
    }
   ],
   "source": [
    "genders = master.join(current, how=\"outer\", lsuffix=\"_old\", rsuffix=\"_cur\")\n",
    "genders.columns.name = \"source\"\n",
    "genders.head()"
   ]
  },
  {
   "cell_type": "code",
   "execution_count": 13,
   "id": "d57495f6",
   "metadata": {},
   "outputs": [
    {
     "data": {
      "text/html": [
       "<div>\n",
       "<style scoped>\n",
       "    .dataframe tbody tr th:only-of-type {\n",
       "        vertical-align: middle;\n",
       "    }\n",
       "\n",
       "    .dataframe tbody tr th {\n",
       "        vertical-align: top;\n",
       "    }\n",
       "\n",
       "    .dataframe thead th {\n",
       "        text-align: right;\n",
       "    }\n",
       "</style>\n",
       "<table border=\"1\" class=\"dataframe\">\n",
       "  <thead>\n",
       "    <tr style=\"text-align: right;\">\n",
       "      <th></th>\n",
       "      <th>cluster</th>\n",
       "      <th>source</th>\n",
       "      <th>gender</th>\n",
       "    </tr>\n",
       "  </thead>\n",
       "  <tbody>\n",
       "    <tr>\n",
       "      <th>0</th>\n",
       "      <td>100000001</td>\n",
       "      <td>old</td>\n",
       "      <td>no-author-rec</td>\n",
       "    </tr>\n",
       "    <tr>\n",
       "      <th>1</th>\n",
       "      <td>100000001</td>\n",
       "      <td>cur</td>\n",
       "      <td>no-author-rec</td>\n",
       "    </tr>\n",
       "    <tr>\n",
       "      <th>2</th>\n",
       "      <td>100000002</td>\n",
       "      <td>old</td>\n",
       "      <td>no-author-rec</td>\n",
       "    </tr>\n",
       "    <tr>\n",
       "      <th>3</th>\n",
       "      <td>100000002</td>\n",
       "      <td>cur</td>\n",
       "      <td>no-author-rec</td>\n",
       "    </tr>\n",
       "    <tr>\n",
       "      <th>4</th>\n",
       "      <td>100000003</td>\n",
       "      <td>old</td>\n",
       "      <td>male</td>\n",
       "    </tr>\n",
       "  </tbody>\n",
       "</table>\n",
       "</div>"
      ],
      "text/plain": [
       "     cluster source         gender\n",
       "0  100000001    old  no-author-rec\n",
       "1  100000001    cur  no-author-rec\n",
       "2  100000002    old  no-author-rec\n",
       "3  100000002    cur  no-author-rec\n",
       "4  100000003    old           male"
      ]
     },
     "execution_count": 13,
     "metadata": {},
     "output_type": "execute_result"
    }
   ],
   "source": [
    "gender_tall = genders.stack().to_frame(name=\"gender\").reset_index()\n",
    "gender_tall[\"source\"] = gender_tall[\"source\"].str.replace(\"gender_\", \"\", regex=False)\n",
    "gender_tall.head()"
   ]
  },
  {
   "cell_type": "code",
   "execution_count": 14,
   "id": "1b4b041a",
   "metadata": {},
   "outputs": [
    {
     "data": {
      "text/plain": [
       "<AxesSubplot:xlabel='count', ylabel='gender'>"
      ]
     },
     "execution_count": 14,
     "metadata": {},
     "output_type": "execute_result"
    },
    {
     "data": {
      "image/png": "[encoded data removed]",
      "text/plain": [
       "<Figure size 432x288 with 1 Axes>"
      ]
     },
     "metadata": {
      "needs_background": "light"
     },
     "output_type": "display_data"
    }
   ],
   "source": [
    "sns.countplot(y=\"gender\", hue=\"source\", data=gender_tall)"
   ]
  },
  {
   "cell_type": "code",
   "execution_count": 15,
   "id": "51196c61",
   "metadata": {},
   "outputs": [
    {
     "data": {
      "text/html": [
       "<div>\n",
       "<style scoped>\n",
       "    .dataframe tbody tr th:only-of-type {\n",
       "        vertical-align: middle;\n",
       "    }\n",
       "\n",
       "    .dataframe tbody tr th {\n",
       "        vertical-align: top;\n",
       "    }\n",
       "\n",
       "    .dataframe thead th {\n",
       "        text-align: right;\n",
       "    }\n",
       "</style>\n",
       "<table border=\"1\" class=\"dataframe\">\n",
       "  <thead>\n",
       "    <tr style=\"text-align: right;\">\n",
       "      <th>gender_cur</th>\n",
       "      <th>ambiguous</th>\n",
       "      <th>female</th>\n",
       "      <th>male</th>\n",
       "      <th>no-author-rec</th>\n",
       "      <th>no-book</th>\n",
       "      <th>no-book-author</th>\n",
       "      <th>unknown</th>\n",
       "    </tr>\n",
       "    <tr>\n",
       "      <th>gender_old</th>\n",
       "      <th></th>\n",
       "      <th></th>\n",
       "      <th></th>\n",
       "      <th></th>\n",
       "      <th></th>\n",
       "      <th></th>\n",
       "      <th></th>\n",
       "    </tr>\n",
       "  </thead>\n",
       "  <tbody>\n",
       "    <tr>\n",
       "      <th>ambiguous</th>\n",
       "      <td>198502</td>\n",
       "      <td>186</td>\n",
       "      <td>533</td>\n",
       "      <td>82</td>\n",
       "      <td>0</td>\n",
       "      <td>0</td>\n",
       "      <td>39</td>\n",
       "    </tr>\n",
       "    <tr>\n",
       "      <th>female</th>\n",
       "      <td>4281</td>\n",
       "      <td>1862861</td>\n",
       "      <td>0</td>\n",
       "      <td>0</td>\n",
       "      <td>0</td>\n",
       "      <td>0</td>\n",
       "      <td>0</td>\n",
       "    </tr>\n",
       "    <tr>\n",
       "      <th>male</th>\n",
       "      <td>6880</td>\n",
       "      <td>0</td>\n",
       "      <td>5099696</td>\n",
       "      <td>3</td>\n",
       "      <td>0</td>\n",
       "      <td>0</td>\n",
       "      <td>0</td>\n",
       "    </tr>\n",
       "    <tr>\n",
       "      <th>no-author-rec</th>\n",
       "      <td>7674</td>\n",
       "      <td>58038</td>\n",
       "      <td>259604</td>\n",
       "      <td>3301200</td>\n",
       "      <td>0</td>\n",
       "      <td>0</td>\n",
       "      <td>255683</td>\n",
       "    </tr>\n",
       "    <tr>\n",
       "      <th>no-book</th>\n",
       "      <td>0</td>\n",
       "      <td>0</td>\n",
       "      <td>0</td>\n",
       "      <td>0</td>\n",
       "      <td>433755</td>\n",
       "      <td>0</td>\n",
       "      <td>0</td>\n",
       "    </tr>\n",
       "    <tr>\n",
       "      <th>no-book-author</th>\n",
       "      <td>0</td>\n",
       "      <td>0</td>\n",
       "      <td>0</td>\n",
       "      <td>0</td>\n",
       "      <td>0</td>\n",
       "      <td>17515835</td>\n",
       "      <td>0</td>\n",
       "    </tr>\n",
       "    <tr>\n",
       "      <th>unknown</th>\n",
       "      <td>3017</td>\n",
       "      <td>2956</td>\n",
       "      <td>27402</td>\n",
       "      <td>51</td>\n",
       "      <td>0</td>\n",
       "      <td>0</td>\n",
       "      <td>2161886</td>\n",
       "    </tr>\n",
       "  </tbody>\n",
       "</table>\n",
       "</div>"
      ],
      "text/plain": [
       "gender_cur      ambiguous   female     male  no-author-rec  no-book  \\\n",
       "gender_old                                                            \n",
       "ambiguous          198502      186      533             82        0   \n",
       "female               4281  1862861        0              0        0   \n",
       "male                 6880        0  5099696              3        0   \n",
       "no-author-rec        7674    58038   259604        3301200        0   \n",
       "no-book                 0        0        0              0   433755   \n",
       "no-book-author          0        0        0              0        0   \n",
       "unknown              3017     2956    27402             51        0   \n",
       "\n",
       "gender_cur      no-book-author  unknown  \n",
       "gender_old                               \n",
       "ambiguous                    0       39  \n",
       "female                       0        0  \n",
       "male                         0        0  \n",
       "no-author-rec                0   255683  \n",
       "no-book                      0        0  \n",
       "no-book-author        17515835        0  \n",
       "unknown                      0  2161886  "
      ]
     },
     "execution_count": 15,
     "metadata": {},
     "output_type": "execute_result"
    }
   ],
   "source": [
    "pd.crosstab(genders[\"gender_old\"], genders[\"gender_cur\"])"
   ]
  },
  {
   "cell_type": "markdown",
   "id": "d4b700b5",
   "metadata": {},
   "source": [
    "## Examine Unmatched Books\n",
    "\n",
    "Our initial question is to study why we have books without author records matching."
   ]
  },
  {
   "cell_type": "code",
   "execution_count": 16,
   "id": "b5d35e39",
   "metadata": {},
   "outputs": [
    {
     "data": {
      "text/plain": [
       "count     32185879\n",
       "unique           2\n",
       "top          False\n",
       "freq      28884543\n",
       "Name: gender, dtype: object"
      ]
     },
     "execution_count": 16,
     "metadata": {},
     "output_type": "execute_result"
    }
   ],
   "source": [
    "cur_nar_mask = current[\"gender\"] == \"no-author-rec\"\n",
    "cur_nar_mask.describe()"
   ]
  },
  {
   "cell_type": "code",
   "execution_count": 17,
   "id": "ca951ea6",
   "metadata": {},
   "outputs": [
    {
     "data": {
      "text/plain": [
       "count     32185879\n",
       "unique           2\n",
       "top          False\n",
       "freq      28303680\n",
       "Name: gender, dtype: object"
      ]
     },
     "execution_count": 17,
     "metadata": {},
     "output_type": "execute_result"
    }
   ],
   "source": [
    "old_nar_mask = master[\"gender\"] == \"no-author-rec\"\n",
    "old_nar_mask.describe()"
   ]
  },
  {
   "cell_type": "markdown",
   "id": "e4913638",
   "metadata": {},
   "source": [
    "Get the books that are now NAR, but were not before:"
   ]
  },
  {
   "cell_type": "code",
   "execution_count": 18,
   "id": "5fa598af",
   "metadata": {},
   "outputs": [
    {
     "data": {
      "text/plain": [
       "136"
      ]
     },
     "execution_count": 18,
     "metadata": {},
     "output_type": "execute_result"
    }
   ],
   "source": [
    "newly_nar = cur_nar_mask & ~old_nar_mask\n",
    "newly_nar.sum()"
   ]
  },
  {
   "cell_type": "markdown",
   "id": "735519ed",
   "metadata": {},
   "source": [
    "Now let's try to look at why. What are these author names?"
   ]
  },
  {
   "cell_type": "code",
   "execution_count": 19,
   "id": "b7aa2f3e",
   "metadata": {
    "scrolled": true
   },
   "outputs": [
    {
     "name": "stderr",
     "output_type": "stream",
     "text": [
      "C:\\Users\\michaelekstrand\\AppData\\Local\\Temp\\ipykernel_29772\\2118428709.py:1: UserWarning: Boolean Series key will be reindexed to match DataFrame index.\n",
      "  nnar = master[newly_nar]\n"
     ]
    },
    {
     "data": {
      "text/html": [
       "<div>\n",
       "<style scoped>\n",
       "    .dataframe tbody tr th:only-of-type {\n",
       "        vertical-align: middle;\n",
       "    }\n",
       "\n",
       "    .dataframe tbody tr th {\n",
       "        vertical-align: top;\n",
       "    }\n",
       "\n",
       "    .dataframe thead th {\n",
       "        text-align: right;\n",
       "    }\n",
       "</style>\n",
       "<table border=\"1\" class=\"dataframe\">\n",
       "  <thead>\n",
       "    <tr style=\"text-align: right;\">\n",
       "      <th></th>\n",
       "      <th>cluster</th>\n",
       "      <th>gender</th>\n",
       "      <th>author_name</th>\n",
       "    </tr>\n",
       "  </thead>\n",
       "  <tbody>\n",
       "    <tr>\n",
       "      <th>0</th>\n",
       "      <td>100627655</td>\n",
       "      <td>male</td>\n",
       "      <td>Peter, Walker</td>\n",
       "    </tr>\n",
       "    <tr>\n",
       "      <th>1</th>\n",
       "      <td>100680709</td>\n",
       "      <td>unknown</td>\n",
       "      <td>William, Martin</td>\n",
       "    </tr>\n",
       "    <tr>\n",
       "      <th>2</th>\n",
       "      <td>100682497</td>\n",
       "      <td>unknown</td>\n",
       "      <td>Abraham, Rothberg</td>\n",
       "    </tr>\n",
       "    <tr>\n",
       "      <th>3</th>\n",
       "      <td>100803580</td>\n",
       "      <td>ambiguous</td>\n",
       "      <td></td>\n",
       "    </tr>\n",
       "    <tr>\n",
       "      <th>4</th>\n",
       "      <td>100803580</td>\n",
       "      <td>ambiguous</td>\n",
       "      <td>.</td>\n",
       "    </tr>\n",
       "  </tbody>\n",
       "</table>\n",
       "</div>"
      ],
      "text/plain": [
       "     cluster     gender        author_name\n",
       "0  100627655       male      Peter, Walker\n",
       "1  100680709    unknown    William, Martin\n",
       "2  100682497    unknown  Abraham, Rothberg\n",
       "3  100803580  ambiguous                   \n",
       "4  100803580  ambiguous                  ."
      ]
     },
     "execution_count": 19,
     "metadata": {},
     "output_type": "execute_result"
    }
   ],
   "source": [
    "nnar = master[newly_nar]\n",
    "nnar_auth = pd.merge(nnar.reset_index(), old_authors)\n",
    "nnar_auth.head()"
   ]
  },
  {
   "cell_type": "markdown",
   "id": "41495e74",
   "metadata": {},
   "source": [
    "What does that look like in current data?"
   ]
  },
  {
   "cell_type": "code",
   "execution_count": 20,
   "id": "8dc49430",
   "metadata": {
    "scrolled": true
   },
   "outputs": [
    {
     "name": "stderr",
     "output_type": "stream",
     "text": [
      "C:\\Users\\michaelekstrand\\AppData\\Local\\Temp\\ipykernel_29772\\394937405.py:1: UserWarning: Boolean Series key will be reindexed to match DataFrame index.\n",
      "  nnar_cauth = pd.merge(current[newly_nar].reset_index(), authors).head()\n"
     ]
    },
    {
     "data": {
      "text/html": [
       "<div>\n",
       "<style scoped>\n",
       "    .dataframe tbody tr th:only-of-type {\n",
       "        vertical-align: middle;\n",
       "    }\n",
       "\n",
       "    .dataframe tbody tr th {\n",
       "        vertical-align: top;\n",
       "    }\n",
       "\n",
       "    .dataframe thead th {\n",
       "        text-align: right;\n",
       "    }\n",
       "</style>\n",
       "<table border=\"1\" class=\"dataframe\">\n",
       "  <thead>\n",
       "    <tr style=\"text-align: right;\">\n",
       "      <th></th>\n",
       "      <th>cluster</th>\n",
       "      <th>gender</th>\n",
       "      <th>author_name</th>\n",
       "    </tr>\n",
       "  </thead>\n",
       "  <tbody>\n",
       "    <tr>\n",
       "      <th>0</th>\n",
       "      <td>100627655</td>\n",
       "      <td>no-author-rec</td>\n",
       "      <td>Peter, Walker</td>\n",
       "    </tr>\n",
       "    <tr>\n",
       "      <th>1</th>\n",
       "      <td>100680709</td>\n",
       "      <td>no-author-rec</td>\n",
       "      <td>William, Martin</td>\n",
       "    </tr>\n",
       "    <tr>\n",
       "      <th>2</th>\n",
       "      <td>100682497</td>\n",
       "      <td>no-author-rec</td>\n",
       "      <td>Abraham, Rothberg</td>\n",
       "    </tr>\n",
       "    <tr>\n",
       "      <th>3</th>\n",
       "      <td>100803580</td>\n",
       "      <td>no-author-rec</td>\n",
       "      <td></td>\n",
       "    </tr>\n",
       "    <tr>\n",
       "      <th>4</th>\n",
       "      <td>100813338</td>\n",
       "      <td>no-author-rec</td>\n",
       "      <td></td>\n",
       "    </tr>\n",
       "  </tbody>\n",
       "</table>\n",
       "</div>"
      ],
      "text/plain": [
       "     cluster         gender        author_name\n",
       "0  100627655  no-author-rec      Peter, Walker\n",
       "1  100680709  no-author-rec    William, Martin\n",
       "2  100682497  no-author-rec  Abraham, Rothberg\n",
       "3  100803580  no-author-rec                   \n",
       "4  100813338  no-author-rec                   "
      ]
     },
     "execution_count": 20,
     "metadata": {},
     "output_type": "execute_result"
    }
   ],
   "source": [
    "nnar_cauth = pd.merge(current[newly_nar].reset_index(), authors).head()\n",
    "nnar_cauth"
   ]
  },
  {
   "cell_type": "markdown",
   "id": "71083bfa",
   "metadata": {},
   "source": [
    "Grab that first cluster."
   ]
  },
  {
   "cell_type": "code",
   "execution_count": 21,
   "id": "29db9011",
   "metadata": {},
   "outputs": [
    {
     "data": {
      "text/plain": [
       "0    Peter, Walker\n",
       "Name: author_name, dtype: object"
      ]
     },
     "execution_count": 21,
     "metadata": {},
     "output_type": "execute_result"
    }
   ],
   "source": [
    "sc = nnar_auth.iloc[0, 0]\n",
    "sought = nnar_auth.loc[nnar_auth[\"cluster\"] == sc, \"author_name\"]\n",
    "sought"
   ]
  },
  {
   "cell_type": "markdown",
   "id": "2b541cda",
   "metadata": {},
   "source": [
    "Find them in the old data:"
   ]
  },
  {
   "cell_type": "code",
   "execution_count": 22,
   "id": "69567ffe",
   "metadata": {},
   "outputs": [
    {
     "data": {
      "text/html": [
       "<div>\n",
       "<style scoped>\n",
       "    .dataframe tbody tr th:only-of-type {\n",
       "        vertical-align: middle;\n",
       "    }\n",
       "\n",
       "    .dataframe tbody tr th {\n",
       "        vertical-align: top;\n",
       "    }\n",
       "\n",
       "    .dataframe thead th {\n",
       "        text-align: right;\n",
       "    }\n",
       "</style>\n",
       "<table border=\"1\" class=\"dataframe\">\n",
       "  <thead>\n",
       "    <tr style=\"text-align: right;\">\n",
       "      <th></th>\n",
       "      <th>rec_id</th>\n",
       "      <th>name</th>\n",
       "    </tr>\n",
       "  </thead>\n",
       "  <tbody>\n",
       "    <tr>\n",
       "      <th>41009805</th>\n",
       "      <td>18890592</td>\n",
       "      <td>Peter, Walker</td>\n",
       "    </tr>\n",
       "  </tbody>\n",
       "</table>\n",
       "</div>"
      ],
      "text/plain": [
       "            rec_id           name\n",
       "41009805  18890592  Peter, Walker"
      ]
     },
     "execution_count": 22,
     "metadata": {},
     "output_type": "execute_result"
    }
   ],
   "source": [
    "matched = old_au_idx[old_au_idx[\"name\"].isin(sought)]\n",
    "matched"
   ]
  },
  {
   "cell_type": "markdown",
   "id": "98582a66",
   "metadata": {},
   "source": [
    "What does the current data say for those records?"
   ]
  },
  {
   "cell_type": "code",
   "execution_count": 23,
   "id": "72a5f4db",
   "metadata": {},
   "outputs": [
    {
     "data": {
      "text/html": [
       "<div>\n",
       "<style scoped>\n",
       "    .dataframe tbody tr th:only-of-type {\n",
       "        vertical-align: middle;\n",
       "    }\n",
       "\n",
       "    .dataframe tbody tr th {\n",
       "        vertical-align: top;\n",
       "    }\n",
       "\n",
       "    .dataframe thead th {\n",
       "        text-align: right;\n",
       "    }\n",
       "</style>\n",
       "<table border=\"1\" class=\"dataframe\">\n",
       "  <thead>\n",
       "    <tr style=\"text-align: right;\">\n",
       "      <th></th>\n",
       "      <th>rec_id</th>\n",
       "      <th>name</th>\n",
       "      <th>repr</th>\n",
       "    </tr>\n",
       "  </thead>\n",
       "  <tbody>\n",
       "    <tr>\n",
       "      <th>40337673</th>\n",
       "      <td>18890592</td>\n",
       "      <td>Peter Walker</td>\n",
       "      <td>'Peter Walker'</td>\n",
       "    </tr>\n",
       "    <tr>\n",
       "      <th>52517659</th>\n",
       "      <td>18890592</td>\n",
       "      <td>Walker, Peter</td>\n",
       "      <td>'Walker, Peter'</td>\n",
       "    </tr>\n",
       "  </tbody>\n",
       "</table>\n",
       "</div>"
      ],
      "text/plain": [
       "            rec_id           name             repr\n",
       "40337673  18890592   Peter Walker   'Peter Walker'\n",
       "52517659  18890592  Walker, Peter  'Walker, Peter'"
      ]
     },
     "execution_count": 23,
     "metadata": {},
     "output_type": "execute_result"
    }
   ],
   "source": [
    "cur_ver = cur_au_idx[cur_au_idx[\"rec_id\"].isin(matched[\"rec_id\"])].copy()\n",
    "cur_ver[\"repr\"] = cur_ver[\"name\"].apply(repr)\n",
    "cur_ver"
   ]
  },
  {
   "cell_type": "code",
   "execution_count": 24,
   "id": "c63422e3",
   "metadata": {},
   "outputs": [
    {
     "data": {
      "text/html": [
       "<div>\n",
       "<style scoped>\n",
       "    .dataframe tbody tr th:only-of-type {\n",
       "        vertical-align: middle;\n",
       "    }\n",
       "\n",
       "    .dataframe tbody tr th {\n",
       "        vertical-align: top;\n",
       "    }\n",
       "\n",
       "    .dataframe thead th {\n",
       "        text-align: right;\n",
       "    }\n",
       "</style>\n",
       "<table border=\"1\" class=\"dataframe\">\n",
       "  <thead>\n",
       "    <tr style=\"text-align: right;\">\n",
       "      <th></th>\n",
       "      <th>rec_id</th>\n",
       "      <th>name</th>\n",
       "    </tr>\n",
       "  </thead>\n",
       "  <tbody>\n",
       "  </tbody>\n",
       "</table>\n",
       "</div>"
      ],
      "text/plain": [
       "Empty DataFrame\n",
       "Columns: [rec_id, name]\n",
       "Index: []"
      ]
     },
     "execution_count": 24,
     "metadata": {},
     "output_type": "execute_result"
    }
   ],
   "source": [
    "csc = nnar_cauth.iloc[0, 0]\n",
    "cso = nnar_cauth.loc[nnar_cauth[\"cluster\"] == csc, \"author_name\"]\n",
    "cmatch = cur_au_idx[cur_au_idx[\"name\"].isin(cso)]\n",
    "cmatch"
   ]
  },
  {
   "cell_type": "code",
   "execution_count": null,
   "id": "3d673909",
   "metadata": {},
   "outputs": [],
   "source": []
  }
 ],
 "metadata": {
  "kernelspec": {
   "display_name": "Python 3 (ipykernel)",
   "language": "python",
   "name": "python3"
  },
  "language_info": {
   "codemirror_mode": {
    "name": "ipython",
    "version": 3
   },
   "file_extension": ".py",
   "mimetype": "text/x-python",
   "name": "python",
   "nbconvert_exporter": "python",
   "pygments_lexer": "ipython3",
   "version": "3.8.12"
  }
 },
 "nbformat": 4,
 "nbformat_minor": 5
}
