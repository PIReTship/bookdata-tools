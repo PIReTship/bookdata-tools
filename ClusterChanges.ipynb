{
 "cells": [
  {
   "cell_type": "markdown",
   "id": "6480a2da",
   "metadata": {},
   "source": [
    "# Debug Cluster Changes\n",
    "\n",
    "This notebook is a utility notebook for examining changes between the current branch and `master`.\n",
    "\n",
    "**Warning:** this notebook consumes quite a bit of memory (over 32GB)."
   ]
  },
  {
   "cell_type": "markdown",
   "id": "dcc57f7c",
   "metadata": {},
   "source": [
    "## Setup\n",
    "\n",
    "Libraries:"
   ]
  },
  {
   "cell_type": "code",
   "execution_count": null,
   "id": "dda87878",
   "metadata": {},
   "outputs": [],
   "source": [
    "import numpy as np\n",
    "import pandas as pd\n",
    "import seaborn as sns\n",
    "import dvc.api"
   ]
  },
  {
   "cell_type": "markdown",
   "id": "d9295c0e",
   "metadata": {},
   "source": [
    "## Load Data\n",
    "\n",
    "We need to load some data files.  We are primarily interested in the book genders."
   ]
  },
  {
   "cell_type": "markdown",
   "id": "54edcf9e",
   "metadata": {},
   "source": [
    "### Current Book Genders\n",
    "\n",
    "Load the current genders:"
   ]
  },
  {
   "cell_type": "code",
   "execution_count": null,
   "id": "b62c6ff1",
   "metadata": {},
   "outputs": [],
   "source": [
    "current = pd.read_parquet('book-links/cluster-genders.parquet')\n",
    "current['gender'] = current['gender'].astype('category')\n",
    "current.info()"
   ]
  },
  {
   "cell_type": "code",
   "execution_count": null,
   "id": "914e854c",
   "metadata": {},
   "outputs": [],
   "source": [
    "sns.countplot(y='gender', data=current)"
   ]
  },
  {
   "cell_type": "code",
   "execution_count": null,
   "id": "0e8c84ef",
   "metadata": {},
   "outputs": [],
   "source": [
    "current = current.set_index('cluster').sort_index()"
   ]
  },
  {
   "cell_type": "markdown",
   "id": "658e65c1",
   "metadata": {},
   "source": [
    "### Master Book Genders\n",
    "\n",
    "Now load the genders from the `master` branch:"
   ]
  },
  {
   "cell_type": "code",
   "execution_count": null,
   "id": "2a57d4a1",
   "metadata": {},
   "outputs": [],
   "source": [
    "with dvc.api.open('book-links/cluster-genders.parquet', rev='master', mode='rb') as pqf:\n",
    "    master = pd.read_parquet(pqf)\n",
    "master['gender'] = master['gender'].astype('category')\n",
    "master.info()"
   ]
  },
  {
   "cell_type": "code",
   "execution_count": null,
   "id": "c61429e8",
   "metadata": {},
   "outputs": [],
   "source": [
    "sns.countplot(y='gender', data=master)"
   ]
  },
  {
   "cell_type": "code",
   "execution_count": null,
   "id": "ff6312cc",
   "metadata": {},
   "outputs": [],
   "source": [
    "master = master.set_index('cluster').sort_index()"
   ]
  },
  {
   "cell_type": "markdown",
   "id": "be2b104c",
   "metadata": {},
   "source": [
    "### Authors\n",
    "\n",
    "Let's load book first authors:"
   ]
  },
  {
   "cell_type": "code",
   "execution_count": null,
   "id": "bebd27f6",
   "metadata": {},
   "outputs": [],
   "source": [
    "authors = pd.read_parquet('book-links/cluster-first-authors.parquet')\n",
    "authors.info()"
   ]
  },
  {
   "cell_type": "markdown",
   "id": "490ef94b",
   "metadata": {},
   "source": [
    "And the author indexes:"
   ]
  },
  {
   "cell_type": "code",
   "execution_count": null,
   "id": "eef79128",
   "metadata": {},
   "outputs": [],
   "source": [
    "cur_au_idx = pd.read_parquet('viaf/author-name-index.parquet')\n",
    "cur_au_idx.info()"
   ]
  },
  {
   "cell_type": "code",
   "execution_count": null,
   "id": "11198ff8",
   "metadata": {},
   "outputs": [],
   "source": [
    "with dvc.api.open('viaf/author-name-index.parquet', rev='master', mode='rb') as pqf:\n",
    "    old_au_idx = pd.read_parquet(pqf)\n",
    "old_au_idx.info()"
   ]
  },
  {
   "cell_type": "markdown",
   "id": "a1d43a12",
   "metadata": {},
   "source": [
    "And the old author names:"
   ]
  },
  {
   "cell_type": "code",
   "execution_count": null,
   "id": "72cc835c",
   "metadata": {},
   "outputs": [],
   "source": [
    "with dvc.api.open('book-links/cluster-first-authors.parquet', rev='master', mode='rb') as pqf:\n",
    "    old_authors = pd.read_parquet(pqf)\n",
    "old_authors.info()"
   ]
  },
  {
   "cell_type": "markdown",
   "id": "551b63b6",
   "metadata": {},
   "source": [
    "## Tabulate Results\n",
    "\n",
    "Let's compare gender link results."
   ]
  },
  {
   "cell_type": "code",
   "execution_count": null,
   "id": "b070b4af",
   "metadata": {},
   "outputs": [],
   "source": [
    "genders = master.join(current, how='outer', lsuffix='_old', rsuffix='_cur')\n",
    "genders.columns.name = 'source'\n",
    "genders.head()"
   ]
  },
  {
   "cell_type": "code",
   "execution_count": null,
   "id": "d57495f6",
   "metadata": {},
   "outputs": [],
   "source": [
    "gender_tall = genders.stack().to_frame(name='gender').reset_index()\n",
    "gender_tall['source'] = gender_tall['source'].str.replace('gender_', '', regex=False)\n",
    "gender_tall.head()"
   ]
  },
  {
   "cell_type": "code",
   "execution_count": null,
   "id": "1b4b041a",
   "metadata": {},
   "outputs": [],
   "source": [
    "sns.countplot(y='gender', hue='source', data=gender_tall)"
   ]
  },
  {
   "cell_type": "code",
   "execution_count": null,
   "id": "51196c61",
   "metadata": {},
   "outputs": [],
   "source": [
    "pd.crosstab(genders['gender_old'], genders['gender_cur'])"
   ]
  },
  {
   "cell_type": "markdown",
   "id": "d4b700b5",
   "metadata": {},
   "source": [
    "## Examine Unmatched Books\n",
    "\n",
    "Our initial question is to study why we have books without author records matching."
   ]
  },
  {
   "cell_type": "code",
   "execution_count": null,
   "id": "b5d35e39",
   "metadata": {},
   "outputs": [],
   "source": [
    "cur_nar_mask = current['gender'] == 'no-author-rec'\n",
    "cur_nar_mask.describe()"
   ]
  },
  {
   "cell_type": "code",
   "execution_count": null,
   "id": "ca951ea6",
   "metadata": {},
   "outputs": [],
   "source": [
    "old_nar_mask = master['gender'] == 'no-author-rec'\n",
    "old_nar_mask.describe()"
   ]
  },
  {
   "cell_type": "markdown",
   "id": "e4913638",
   "metadata": {},
   "source": [
    "Get the books that are now NAR, but were not before:"
   ]
  },
  {
   "cell_type": "code",
   "execution_count": null,
   "id": "5fa598af",
   "metadata": {},
   "outputs": [],
   "source": [
    "newly_nar = cur_nar_mask & ~old_nar_mask\n",
    "newly_nar.sum()"
   ]
  },
  {
   "cell_type": "markdown",
   "id": "735519ed",
   "metadata": {},
   "source": [
    "Now let's try to look at why. What are these author names?"
   ]
  },
  {
   "cell_type": "code",
   "execution_count": null,
   "id": "b7aa2f3e",
   "metadata": {
    "scrolled": true
   },
   "outputs": [],
   "source": [
    "nnar = master[newly_nar]\n",
    "nnar_auth = pd.merge(nnar.reset_index(), old_authors)\n",
    "nnar_auth.head()"
   ]
  },
  {
   "cell_type": "markdown",
   "id": "41495e74",
   "metadata": {},
   "source": [
    "What does that look like in current data?"
   ]
  },
  {
   "cell_type": "code",
   "execution_count": null,
   "id": "8dc49430",
   "metadata": {
    "scrolled": true
   },
   "outputs": [],
   "source": [
    "nnar_cauth = pd.merge(current[newly_nar].reset_index(), authors).head()\n",
    "nnar_cauth"
   ]
  },
  {
   "cell_type": "markdown",
   "id": "71083bfa",
   "metadata": {},
   "source": [
    "Grab that first cluster."
   ]
  },
  {
   "cell_type": "code",
   "execution_count": null,
   "id": "29db9011",
   "metadata": {},
   "outputs": [],
   "source": [
    "sc = nnar_auth.iloc[0,0]\n",
    "sought = nnar_auth.loc[nnar_auth['cluster'] == sc, 'author_name']\n",
    "sought"
   ]
  },
  {
   "cell_type": "markdown",
   "id": "2b541cda",
   "metadata": {},
   "source": [
    "Find them in the old data:"
   ]
  },
  {
   "cell_type": "code",
   "execution_count": null,
   "id": "69567ffe",
   "metadata": {},
   "outputs": [],
   "source": [
    "matched = old_au_idx[old_au_idx['name'].isin(sought)]\n",
    "matched"
   ]
  },
  {
   "cell_type": "markdown",
   "id": "98582a66",
   "metadata": {},
   "source": [
    "What does the current data say for those records?"
   ]
  },
  {
   "cell_type": "code",
   "execution_count": null,
   "id": "72a5f4db",
   "metadata": {},
   "outputs": [],
   "source": [
    "cur_ver = cur_au_idx[cur_au_idx['rec_id'].isin(matched['rec_id'])].copy()\n",
    "cur_ver['repr'] = cur_ver['name'].apply(repr)\n",
    "cur_ver"
   ]
  },
  {
   "cell_type": "code",
   "execution_count": null,
   "id": "c63422e3",
   "metadata": {},
   "outputs": [],
   "source": [
    "csc = nnar_cauth.iloc[0, 0]\n",
    "cso = nnar_cauth.loc[nnar_cauth['cluster'] == csc, 'author_name']\n",
    "cmatch = cur_au_idx[cur_au_idx['name'].isin(cso)]\n",
    "cmatch"
   ]
  },
  {
   "cell_type": "code",
   "execution_count": null,
   "id": "a08882e5",
   "metadata": {},
   "outputs": [],
   "source": []
  }
 ],
 "metadata": {
  "kernelspec": {
   "display_name": "Python 3 (ipykernel)",
   "language": "python",
   "name": "python3"
  },
  "language_info": {
   "codemirror_mode": {
    "name": "ipython",
    "version": 3
   },
   "file_extension": ".py",
   "mimetype": "text/x-python",
   "name": "python",
   "nbconvert_exporter": "python",
   "pygments_lexer": "ipython3",
   "version": "3.8.12"
  }
 },
 "nbformat": 4,
 "nbformat_minor": 5
}
