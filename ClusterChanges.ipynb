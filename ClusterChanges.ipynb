{
 "cells": [
  {
   "cell_type": "markdown",
   "id": "6480a2da",
   "metadata": {},
   "source": [
    "# Debug Cluster Changes\n",
    "\n",
    "This notebook is a utility notebook for examining changes between the current branch and `master`."
   ]
  },
  {
   "cell_type": "markdown",
   "id": "dcc57f7c",
   "metadata": {},
   "source": [
    "## Setup\n",
    "\n",
    "Libraries:"
   ]
  },
  {
   "cell_type": "code",
   "execution_count": 1,
   "id": "dda87878",
   "metadata": {},
   "outputs": [],
   "source": [
    "import numpy as np\n",
    "import pandas as pd\n",
    "import seaborn as sns\n",
    "import dvc.api"
   ]
  },
  {
   "cell_type": "markdown",
   "id": "d9295c0e",
   "metadata": {},
   "source": [
    "## Load Data\n",
    "\n",
    "We need to load some data files.  We are primarily interested in the book genders."
   ]
  },
  {
   "cell_type": "markdown",
   "id": "54edcf9e",
   "metadata": {},
   "source": [
    "### Current Book Genders\n",
    "\n",
    "Load the current genders:"
   ]
  },
  {
   "cell_type": "code",
   "execution_count": 2,
   "id": "b62c6ff1",
   "metadata": {},
   "outputs": [
    {
     "name": "stdout",
     "output_type": "stream",
     "text": [
      "<class 'pandas.core.frame.DataFrame'>\n",
      "RangeIndex: 32185879 entries, 0 to 32185878\n",
      "Data columns (total 2 columns):\n",
      " #   Column   Dtype \n",
      "---  ------   ----- \n",
      " 0   cluster  int32 \n",
      " 1   gender   object\n",
      "dtypes: int32(1), object(1)\n",
      "memory usage: 368.3+ MB\n"
     ]
    }
   ],
   "source": [
    "current = pd.read_parquet('book-links/cluster-genders.parquet')\n",
    "current.info()"
   ]
  },
  {
   "cell_type": "code",
   "execution_count": 3,
   "id": "914e854c",
   "metadata": {},
   "outputs": [
    {
     "data": {
      "text/plain": [
       "<AxesSubplot:xlabel='count', ylabel='gender'>"
      ]
     },
     "execution_count": 3,
     "metadata": {},
     "output_type": "execute_result"
    },
    {
     "data": {
      "image/png": "[encoded data removed]",
      "text/plain": [
       "<Figure size 432x288 with 1 Axes>"
      ]
     },
     "metadata": {
      "needs_background": "light"
     },
     "output_type": "display_data"
    }
   ],
   "source": [
    "sns.countplot(y='gender', data=current)"
   ]
  },
  {
   "cell_type": "code",
   "execution_count": 4,
   "id": "0e8c84ef",
   "metadata": {},
   "outputs": [],
   "source": [
    "current = current.set_index('cluster').sort_index()"
   ]
  },
  {
   "cell_type": "markdown",
   "id": "658e65c1",
   "metadata": {},
   "source": [
    "### Master Book Genders\n",
    "\n",
    "Now load the genders from the `master` branch:"
   ]
  },
  {
   "cell_type": "code",
   "execution_count": 5,
   "id": "2a57d4a1",
   "metadata": {},
   "outputs": [
    {
     "name": "stdout",
     "output_type": "stream",
     "text": [
      "<class 'pandas.core.frame.DataFrame'>\n",
      "RangeIndex: 32185879 entries, 0 to 32185878\n",
      "Data columns (total 2 columns):\n",
      " #   Column   Dtype \n",
      "---  ------   ----- \n",
      " 0   cluster  int32 \n",
      " 1   gender   object\n",
      "dtypes: int32(1), object(1)\n",
      "memory usage: 368.3+ MB\n"
     ]
    }
   ],
   "source": [
    "with dvc.api.open('book-links/cluster-genders.parquet', rev='master', mode='rb') as pqf:\n",
    "    master = pd.read_parquet(pqf)\n",
    "master.info()"
   ]
  },
  {
   "cell_type": "code",
   "execution_count": 6,
   "id": "ff6312cc",
   "metadata": {},
   "outputs": [],
   "source": [
    "master = master.set_index('cluster').sort_index()"
   ]
  },
  {
   "cell_type": "markdown",
   "id": "be2b104c",
   "metadata": {},
   "source": [
    "### Authors\n",
    "\n",
    "Let's load book first authors:"
   ]
  },
  {
   "cell_type": "code",
   "execution_count": 7,
   "id": "bebd27f6",
   "metadata": {},
   "outputs": [
    {
     "name": "stdout",
     "output_type": "stream",
     "text": [
      "<class 'pandas.core.frame.DataFrame'>\n",
      "RangeIndex: 23475836 entries, 0 to 23475835\n",
      "Data columns (total 2 columns):\n",
      " #   Column       Dtype \n",
      "---  ------       ----- \n",
      " 0   cluster      int32 \n",
      " 1   author_name  object\n",
      "dtypes: int32(1), object(1)\n",
      "memory usage: 268.7+ MB\n"
     ]
    }
   ],
   "source": [
    "authors = pd.read_parquet('book-links/cluster-first-authors.parquet')\n",
    "authors.info()"
   ]
  },
  {
   "cell_type": "markdown",
   "id": "490ef94b",
   "metadata": {},
   "source": [
    "And the author indexes:"
   ]
  },
  {
   "cell_type": "code",
   "execution_count": 8,
   "id": "eef79128",
   "metadata": {},
   "outputs": [
    {
     "name": "stdout",
     "output_type": "stream",
     "text": [
      "<class 'pandas.core.frame.DataFrame'>\n",
      "RangeIndex: 61657282 entries, 0 to 61657281\n",
      "Data columns (total 2 columns):\n",
      " #   Column  Dtype \n",
      "---  ------  ----- \n",
      " 0   rec_id  uint32\n",
      " 1   name    object\n",
      "dtypes: object(1), uint32(1)\n",
      "memory usage: 705.6+ MB\n"
     ]
    }
   ],
   "source": [
    "cur_au_idx = pd.read_parquet('viaf/author-name-index.parquet')\n",
    "cur_au_idx.info()"
   ]
  },
  {
   "cell_type": "code",
   "execution_count": 9,
   "id": "11198ff8",
   "metadata": {},
   "outputs": [
    {
     "name": "stdout",
     "output_type": "stream",
     "text": [
      "<class 'pandas.core.frame.DataFrame'>\n",
      "RangeIndex: 61681353 entries, 0 to 61681352\n",
      "Data columns (total 2 columns):\n",
      " #   Column  Dtype \n",
      "---  ------  ----- \n",
      " 0   rec_id  uint32\n",
      " 1   name    object\n",
      "dtypes: object(1), uint32(1)\n",
      "memory usage: 705.9+ MB\n"
     ]
    }
   ],
   "source": [
    "with dvc.api.open('viaf/author-name-index.parquet', rev='master', mode='rb') as pqf:\n",
    "    old_au_idx = pd.read_parquet(pqf)\n",
    "old_au_idx.info()"
   ]
  },
  {
   "cell_type": "markdown",
   "id": "d4b700b5",
   "metadata": {},
   "source": [
    "## Examine Unmatched Books\n",
    "\n",
    "Our initial question is to study why we have books without author records matching."
   ]
  },
  {
   "cell_type": "code",
   "execution_count": 10,
   "id": "b5d35e39",
   "metadata": {},
   "outputs": [
    {
     "data": {
      "text/plain": [
       "count     32185879\n",
       "unique           2\n",
       "top          False\n",
       "freq      28379752\n",
       "Name: gender, dtype: object"
      ]
     },
     "execution_count": 10,
     "metadata": {},
     "output_type": "execute_result"
    }
   ],
   "source": [
    "cur_nar_mask = current['gender'] == 'no-author-rec'\n",
    "cur_nar_mask.describe()"
   ]
  },
  {
   "cell_type": "code",
   "execution_count": 11,
   "id": "ca951ea6",
   "metadata": {},
   "outputs": [
    {
     "data": {
      "text/plain": [
       "count     32185879\n",
       "unique           2\n",
       "top          False\n",
       "freq      28303680\n",
       "Name: gender, dtype: object"
      ]
     },
     "execution_count": 11,
     "metadata": {},
     "output_type": "execute_result"
    }
   ],
   "source": [
    "old_nar_mask = master['gender'] == 'no-author-rec'\n",
    "old_nar_mask.describe()"
   ]
  },
  {
   "cell_type": "markdown",
   "id": "e4913638",
   "metadata": {},
   "source": [
    "Get the books that are now NAR, but were not before:"
   ]
  },
  {
   "cell_type": "code",
   "execution_count": 12,
   "id": "5fa598af",
   "metadata": {},
   "outputs": [
    {
     "data": {
      "text/plain": [
       "333336"
      ]
     },
     "execution_count": 12,
     "metadata": {},
     "output_type": "execute_result"
    }
   ],
   "source": [
    "newly_nar = cur_nar_mask & ~old_nar_mask\n",
    "newly_nar.sum()"
   ]
  },
  {
   "cell_type": "code",
   "execution_count": 13,
   "id": "16deb018",
   "metadata": {},
   "outputs": [
    {
     "name": "stderr",
     "output_type": "stream",
     "text": [
      "C:\\Users\\michaelekstrand\\AppData\\Local\\Temp\\ipykernel_9656\\2738600571.py:1: UserWarning: Boolean Series key will be reindexed to match DataFrame index.\n",
      "  sns.countplot(y='gender', data=master[newly_nar])\n"
     ]
    },
    {
     "data": {
      "text/plain": [
       "<AxesSubplot:xlabel='count', ylabel='gender'>"
      ]
     },
     "execution_count": 13,
     "metadata": {},
     "output_type": "execute_result"
    },
    {
     "data": {
      "image/png": "[encoded data removed]",
      "text/plain": [
       "<Figure size 432x288 with 1 Axes>"
      ]
     },
     "metadata": {
      "needs_background": "light"
     },
     "output_type": "display_data"
    }
   ],
   "source": [
    "sns.countplot(y='gender', data=master[newly_nar])"
   ]
  },
  {
   "cell_type": "markdown",
   "id": "735519ed",
   "metadata": {},
   "source": [
    "Now let's try to look at why. What are these author names?"
   ]
  },
  {
   "cell_type": "code",
   "execution_count": 14,
   "id": "b7aa2f3e",
   "metadata": {
    "scrolled": true
   },
   "outputs": [
    {
     "name": "stderr",
     "output_type": "stream",
     "text": [
      "C:\\Users\\michaelekstrand\\AppData\\Local\\Temp\\ipykernel_9656\\1737044343.py:1: UserWarning: Boolean Series key will be reindexed to match DataFrame index.\n",
      "  nnar = master[newly_nar]\n"
     ]
    },
    {
     "data": {
      "text/html": [
       "<div>\n",
       "<style scoped>\n",
       "    .dataframe tbody tr th:only-of-type {\n",
       "        vertical-align: middle;\n",
       "    }\n",
       "\n",
       "    .dataframe tbody tr th {\n",
       "        vertical-align: top;\n",
       "    }\n",
       "\n",
       "    .dataframe thead th {\n",
       "        text-align: right;\n",
       "    }\n",
       "</style>\n",
       "<table border=\"1\" class=\"dataframe\">\n",
       "  <thead>\n",
       "    <tr style=\"text-align: right;\">\n",
       "      <th></th>\n",
       "      <th>cluster</th>\n",
       "      <th>gender</th>\n",
       "      <th>author_name</th>\n",
       "    </tr>\n",
       "  </thead>\n",
       "  <tbody>\n",
       "    <tr>\n",
       "      <th>0</th>\n",
       "      <td>100000113</td>\n",
       "      <td>male</td>\n",
       "      <td>J Randall Taraborrelli</td>\n",
       "    </tr>\n",
       "    <tr>\n",
       "      <th>1</th>\n",
       "      <td>100000113</td>\n",
       "      <td>male</td>\n",
       "      <td>J Randy Taraborrelli</td>\n",
       "    </tr>\n",
       "    <tr>\n",
       "      <th>2</th>\n",
       "      <td>100000113</td>\n",
       "      <td>male</td>\n",
       "      <td>Taraborrelli, J Randy</td>\n",
       "    </tr>\n",
       "    <tr>\n",
       "      <th>3</th>\n",
       "      <td>100000191</td>\n",
       "      <td>unknown</td>\n",
       "      <td>L M Portnoĭ</td>\n",
       "    </tr>\n",
       "    <tr>\n",
       "      <th>4</th>\n",
       "      <td>100000191</td>\n",
       "      <td>unknown</td>\n",
       "      <td>L M Portnoy</td>\n",
       "    </tr>\n",
       "  </tbody>\n",
       "</table>\n",
       "</div>"
      ],
      "text/plain": [
       "     cluster   gender             author_name\n",
       "0  100000113     male  J Randall Taraborrelli\n",
       "1  100000113     male    J Randy Taraborrelli\n",
       "2  100000113     male   Taraborrelli, J Randy\n",
       "3  100000191  unknown            L M Portnoĭ\n",
       "4  100000191  unknown             L M Portnoy"
      ]
     },
     "execution_count": 14,
     "metadata": {},
     "output_type": "execute_result"
    }
   ],
   "source": [
    "nnar = master[newly_nar]\n",
    "nnar_auth = pd.merge(nnar.reset_index(), authors)\n",
    "nnar_auth.head()"
   ]
  },
  {
   "cell_type": "markdown",
   "id": "41495e74",
   "metadata": {},
   "source": [
    "What does that look like in current data?"
   ]
  },
  {
   "cell_type": "code",
   "execution_count": 15,
   "id": "8dc49430",
   "metadata": {},
   "outputs": [
    {
     "name": "stderr",
     "output_type": "stream",
     "text": [
      "C:\\Users\\michaelekstrand\\AppData\\Local\\Temp\\ipykernel_9656\\3034751730.py:1: UserWarning: Boolean Series key will be reindexed to match DataFrame index.\n",
      "  pd.merge(current[newly_nar].reset_index(), authors).head()\n"
     ]
    },
    {
     "data": {
      "text/html": [
       "<div>\n",
       "<style scoped>\n",
       "    .dataframe tbody tr th:only-of-type {\n",
       "        vertical-align: middle;\n",
       "    }\n",
       "\n",
       "    .dataframe tbody tr th {\n",
       "        vertical-align: top;\n",
       "    }\n",
       "\n",
       "    .dataframe thead th {\n",
       "        text-align: right;\n",
       "    }\n",
       "</style>\n",
       "<table border=\"1\" class=\"dataframe\">\n",
       "  <thead>\n",
       "    <tr style=\"text-align: right;\">\n",
       "      <th></th>\n",
       "      <th>cluster</th>\n",
       "      <th>gender</th>\n",
       "      <th>author_name</th>\n",
       "    </tr>\n",
       "  </thead>\n",
       "  <tbody>\n",
       "    <tr>\n",
       "      <th>0</th>\n",
       "      <td>100000113</td>\n",
       "      <td>no-author-rec</td>\n",
       "      <td>J Randall Taraborrelli</td>\n",
       "    </tr>\n",
       "    <tr>\n",
       "      <th>1</th>\n",
       "      <td>100000113</td>\n",
       "      <td>no-author-rec</td>\n",
       "      <td>J Randy Taraborrelli</td>\n",
       "    </tr>\n",
       "    <tr>\n",
       "      <th>2</th>\n",
       "      <td>100000113</td>\n",
       "      <td>no-author-rec</td>\n",
       "      <td>Taraborrelli, J Randy</td>\n",
       "    </tr>\n",
       "    <tr>\n",
       "      <th>3</th>\n",
       "      <td>100000191</td>\n",
       "      <td>no-author-rec</td>\n",
       "      <td>L M Portnoĭ</td>\n",
       "    </tr>\n",
       "    <tr>\n",
       "      <th>4</th>\n",
       "      <td>100000191</td>\n",
       "      <td>no-author-rec</td>\n",
       "      <td>L M Portnoy</td>\n",
       "    </tr>\n",
       "  </tbody>\n",
       "</table>\n",
       "</div>"
      ],
      "text/plain": [
       "     cluster         gender             author_name\n",
       "0  100000113  no-author-rec  J Randall Taraborrelli\n",
       "1  100000113  no-author-rec    J Randy Taraborrelli\n",
       "2  100000113  no-author-rec   Taraborrelli, J Randy\n",
       "3  100000191  no-author-rec            L M Portnoĭ\n",
       "4  100000191  no-author-rec             L M Portnoy"
      ]
     },
     "execution_count": 15,
     "metadata": {},
     "output_type": "execute_result"
    }
   ],
   "source": [
    "pd.merge(current[newly_nar].reset_index(), authors).head()"
   ]
  },
  {
   "cell_type": "markdown",
   "id": "71083bfa",
   "metadata": {},
   "source": [
    "Grab that first cluster."
   ]
  },
  {
   "cell_type": "code",
   "execution_count": 16,
   "id": "29db9011",
   "metadata": {},
   "outputs": [
    {
     "data": {
      "text/plain": [
       "['J Randall Taraborrelli', 'J Randy Taraborrelli']"
      ]
     },
     "execution_count": 16,
     "metadata": {},
     "output_type": "execute_result"
    }
   ],
   "source": [
    "sought = nnar_auth.iloc[:2, 2].tolist()\n",
    "sought"
   ]
  },
  {
   "cell_type": "markdown",
   "id": "2b541cda",
   "metadata": {},
   "source": [
    "Find them in the old data:"
   ]
  },
  {
   "cell_type": "code",
   "execution_count": 17,
   "id": "69567ffe",
   "metadata": {},
   "outputs": [
    {
     "data": {
      "text/html": [
       "<div>\n",
       "<style scoped>\n",
       "    .dataframe tbody tr th:only-of-type {\n",
       "        vertical-align: middle;\n",
       "    }\n",
       "\n",
       "    .dataframe tbody tr th {\n",
       "        vertical-align: top;\n",
       "    }\n",
       "\n",
       "    .dataframe thead th {\n",
       "        text-align: right;\n",
       "    }\n",
       "</style>\n",
       "<table border=\"1\" class=\"dataframe\">\n",
       "  <thead>\n",
       "    <tr style=\"text-align: right;\">\n",
       "      <th></th>\n",
       "      <th>rec_id</th>\n",
       "      <th>name</th>\n",
       "    </tr>\n",
       "  </thead>\n",
       "  <tbody>\n",
       "  </tbody>\n",
       "</table>\n",
       "</div>"
      ],
      "text/plain": [
       "Empty DataFrame\n",
       "Columns: [rec_id, name]\n",
       "Index: []"
      ]
     },
     "execution_count": 17,
     "metadata": {},
     "output_type": "execute_result"
    }
   ],
   "source": [
    "matched = old_au_idx[old_au_idx['name'].isin(sought)]\n",
    "matched"
   ]
  },
  {
   "cell_type": "markdown",
   "id": "98582a66",
   "metadata": {},
   "source": [
    "What does the current data say for that record?"
   ]
  },
  {
   "cell_type": "code",
   "execution_count": 18,
   "id": "72a5f4db",
   "metadata": {},
   "outputs": [
    {
     "data": {
      "text/html": [
       "<div>\n",
       "<style scoped>\n",
       "    .dataframe tbody tr th:only-of-type {\n",
       "        vertical-align: middle;\n",
       "    }\n",
       "\n",
       "    .dataframe tbody tr th {\n",
       "        vertical-align: top;\n",
       "    }\n",
       "\n",
       "    .dataframe thead th {\n",
       "        text-align: right;\n",
       "    }\n",
       "</style>\n",
       "<table border=\"1\" class=\"dataframe\">\n",
       "  <thead>\n",
       "    <tr style=\"text-align: right;\">\n",
       "      <th></th>\n",
       "      <th>rec_id</th>\n",
       "      <th>name</th>\n",
       "      <th>repr</th>\n",
       "    </tr>\n",
       "  </thead>\n",
       "  <tbody>\n",
       "  </tbody>\n",
       "</table>\n",
       "</div>"
      ],
      "text/plain": [
       "Empty DataFrame\n",
       "Columns: [rec_id, name, repr]\n",
       "Index: []"
      ]
     },
     "execution_count": 18,
     "metadata": {},
     "output_type": "execute_result"
    }
   ],
   "source": [
    "cur_ver = cur_au_idx[cur_au_idx['rec_id'].isin(matched['rec_id'])].copy()\n",
    "cur_ver['repr'] = cur_ver['name'].apply(repr)\n",
    "cur_ver"
   ]
  },
  {
   "cell_type": "code",
   "execution_count": null,
   "id": "c63422e3",
   "metadata": {},
   "outputs": [],
   "source": []
  }
 ],
 "metadata": {
  "kernelspec": {
   "display_name": "Python 3 (ipykernel)",
   "language": "python",
   "name": "python3"
  },
  "language_info": {
   "codemirror_mode": {
    "name": "ipython",
    "version": 3
   },
   "file_extension": ".py",
   "mimetype": "text/x-python",
   "name": "python",
   "nbconvert_exporter": "python",
   "pygments_lexer": "ipython3",
   "version": "3.8.12"
  }
 },
 "nbformat": 4,
 "nbformat_minor": 5
}
