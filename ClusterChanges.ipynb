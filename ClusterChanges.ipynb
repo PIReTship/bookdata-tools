{
 "cells": [
  {
   "cell_type": "markdown",
   "id": "f8c70c42",
   "metadata": {},
   "source": [
    "# Debug Cluster Changes\n",
    "\n",
    "This notebook is a utility notebook for examining changes between the current branch and `master`."
   ]
  },
  {
   "cell_type": "markdown",
   "id": "a4dec818",
   "metadata": {},
   "source": [
    "## Setup\n",
    "\n",
    "Libraries:"
   ]
  },
  {
   "cell_type": "code",
   "execution_count": 20,
   "id": "3186b0ca",
   "metadata": {},
   "outputs": [],
   "source": [
    "import numpy as np\n",
    "import pandas as pd\n",
    "import seaborn as sns\n",
    "import dvc.api"
   ]
  },
  {
   "cell_type": "markdown",
   "id": "1918762d",
   "metadata": {},
   "source": [
    "## Load Data\n",
    "\n",
    "We need to load some data files.  We are primarily interested in the book genders."
   ]
  },
  {
   "cell_type": "markdown",
   "id": "ed923d1f",
   "metadata": {},
   "source": [
    "### Current Book Genders\n",
    "\n",
    "Load the current genders:"
   ]
  },
  {
   "cell_type": "code",
   "execution_count": 2,
   "id": "e6b02134",
   "metadata": {},
   "outputs": [
    {
     "name": "stdout",
     "output_type": "stream",
     "text": [
      "<class 'pandas.core.frame.DataFrame'>\n",
      "RangeIndex: 32185879 entries, 0 to 32185878\n",
      "Data columns (total 2 columns):\n",
      " #   Column   Dtype \n",
      "---  ------   ----- \n",
      " 0   cluster  int32 \n",
      " 1   gender   object\n",
      "dtypes: int32(1), object(1)\n",
      "memory usage: 368.3+ MB\n"
     ]
    }
   ],
   "source": [
    "current = pd.read_parquet('book-links/cluster-genders.parquet')\n",
    "current.info()"
   ]
  },
  {
   "cell_type": "code",
   "execution_count": 7,
   "id": "ba37c322",
   "metadata": {},
   "outputs": [
    {
     "data": {
      "text/plain": [
       "<AxesSubplot:xlabel='count', ylabel='gender'>"
      ]
     },
     "execution_count": 7,
     "metadata": {},
     "output_type": "execute_result"
    },
    {
     "data": {
      "image/png": "[encoded data removed]",
      "text/plain": [
       "<Figure size 432x288 with 1 Axes>"
      ]
     },
     "metadata": {
      "needs_background": "light"
     },
     "output_type": "display_data"
    }
   ],
   "source": [
    "sns.countplot(y='gender', data=current)"
   ]
  },
  {
   "cell_type": "code",
   "execution_count": 13,
   "id": "01db7d4d",
   "metadata": {},
   "outputs": [],
   "source": [
    "current = current.set_index('cluster').sort_index()"
   ]
  },
  {
   "cell_type": "markdown",
   "id": "9e98bc9e",
   "metadata": {},
   "source": [
    "### Master Book Genders\n",
    "\n",
    "Now load the genders from the `master` branch:"
   ]
  },
  {
   "cell_type": "code",
   "execution_count": 9,
   "id": "461e6286",
   "metadata": {},
   "outputs": [
    {
     "name": "stdout",
     "output_type": "stream",
     "text": [
      "<class 'pandas.core.frame.DataFrame'>\n",
      "RangeIndex: 32185879 entries, 0 to 32185878\n",
      "Data columns (total 2 columns):\n",
      " #   Column   Dtype \n",
      "---  ------   ----- \n",
      " 0   cluster  int32 \n",
      " 1   gender   object\n",
      "dtypes: int32(1), object(1)\n",
      "memory usage: 368.3+ MB\n"
     ]
    }
   ],
   "source": [
    "with dvc.api.open('book-links/cluster-genders.parquet', rev='master', mode='rb') as pqf:\n",
    "    master = pd.read_parquet(pqf)\n",
    "master.info()"
   ]
  },
  {
   "cell_type": "code",
   "execution_count": 12,
   "id": "bf353dd4",
   "metadata": {},
   "outputs": [],
   "source": [
    "master = master.set_index('cluster').sort_index()"
   ]
  },
  {
   "cell_type": "markdown",
   "id": "7051dd7a",
   "metadata": {},
   "source": [
    "### Authors\n",
    "\n",
    "Let's load book first authors:"
   ]
  },
  {
   "cell_type": "code",
   "execution_count": 35,
   "id": "774e0d5e",
   "metadata": {},
   "outputs": [
    {
     "name": "stdout",
     "output_type": "stream",
     "text": [
      "<class 'pandas.core.frame.DataFrame'>\n",
      "RangeIndex: 24331117 entries, 0 to 24331116\n",
      "Data columns (total 2 columns):\n",
      " #   Column       Dtype \n",
      "---  ------       ----- \n",
      " 0   cluster      int32 \n",
      " 1   author_name  object\n",
      "dtypes: int32(1), object(1)\n",
      "memory usage: 278.4+ MB\n"
     ]
    }
   ],
   "source": [
    "authors = pd.read_parquet('book-links/cluster-first-authors.parquet')\n",
    "authors.info()"
   ]
  },
  {
   "cell_type": "markdown",
   "id": "8327f7a8",
   "metadata": {},
   "source": [
    "And the author indexes:"
   ]
  },
  {
   "cell_type": "code",
   "execution_count": 39,
   "id": "a957674e",
   "metadata": {},
   "outputs": [
    {
     "name": "stdout",
     "output_type": "stream",
     "text": [
      "<class 'pandas.core.frame.DataFrame'>\n",
      "RangeIndex: 61678363 entries, 0 to 61678362\n",
      "Data columns (total 2 columns):\n",
      " #   Column  Dtype \n",
      "---  ------  ----- \n",
      " 0   rec_id  uint32\n",
      " 1   name    object\n",
      "dtypes: object(1), uint32(1)\n",
      "memory usage: 705.9+ MB\n"
     ]
    }
   ],
   "source": [
    "cur_au_idx = pd.read_parquet('viaf/author-name-index.parquet')\n",
    "cur_au_idx.info()"
   ]
  },
  {
   "cell_type": "code",
   "execution_count": 41,
   "id": "f0c6818c",
   "metadata": {},
   "outputs": [
    {
     "name": "stdout",
     "output_type": "stream",
     "text": [
      "<class 'pandas.core.frame.DataFrame'>\n",
      "RangeIndex: 61681353 entries, 0 to 61681352\n",
      "Data columns (total 2 columns):\n",
      " #   Column  Dtype \n",
      "---  ------  ----- \n",
      " 0   rec_id  uint32\n",
      " 1   name    object\n",
      "dtypes: object(1), uint32(1)\n",
      "memory usage: 705.9+ MB\n"
     ]
    }
   ],
   "source": [
    "with dvc.api.open('viaf/author-name-index.parquet', rev='master', mode='rb') as pqf:\n",
    "    old_au_idx = pd.read_parquet(pqf)\n",
    "old_au_idx.info()"
   ]
  },
  {
   "cell_type": "markdown",
   "id": "51d11066",
   "metadata": {},
   "source": [
    "## Examine Unmatched Books\n",
    "\n",
    "Our initial question is to study why we have books without author records matching."
   ]
  },
  {
   "cell_type": "code",
   "execution_count": 15,
   "id": "611f8017",
   "metadata": {},
   "outputs": [
    {
     "data": {
      "text/plain": [
       "count     32185879\n",
       "unique           2\n",
       "top          False\n",
       "freq      28306911\n",
       "Name: gender, dtype: object"
      ]
     },
     "execution_count": 15,
     "metadata": {},
     "output_type": "execute_result"
    }
   ],
   "source": [
    "cur_nar_mask = current['gender'] == 'no-author-rec'\n",
    "cur_nar_mask.describe()"
   ]
  },
  {
   "cell_type": "code",
   "execution_count": 16,
   "id": "7e3d215b",
   "metadata": {},
   "outputs": [
    {
     "data": {
      "text/plain": [
       "count     32185879\n",
       "unique           2\n",
       "top          False\n",
       "freq      28303680\n",
       "Name: gender, dtype: object"
      ]
     },
     "execution_count": 16,
     "metadata": {},
     "output_type": "execute_result"
    }
   ],
   "source": [
    "old_nar_mask = master['gender'] == 'no-author-rec'\n",
    "old_nar_mask.describe()"
   ]
  },
  {
   "cell_type": "markdown",
   "id": "1bf6156b",
   "metadata": {},
   "source": [
    "Get the books that are now NAR, but were not before:"
   ]
  },
  {
   "cell_type": "code",
   "execution_count": 25,
   "id": "4478b0f2",
   "metadata": {},
   "outputs": [
    {
     "data": {
      "text/plain": [
       "4806"
      ]
     },
     "execution_count": 25,
     "metadata": {},
     "output_type": "execute_result"
    }
   ],
   "source": [
    "newly_nar = cur_nar_mask & ~old_nar_mask\n",
    "newly_nar.sum()"
   ]
  },
  {
   "cell_type": "code",
   "execution_count": 30,
   "id": "9b310f1d",
   "metadata": {},
   "outputs": [
    {
     "data": {
      "text/plain": [
       "<AxesSubplot:xlabel='count', ylabel='gender'>"
      ]
     },
     "execution_count": 30,
     "metadata": {},
     "output_type": "execute_result"
    },
    {
     "data": {
      "image/png": "[encoded data removed]",
      "text/plain": [
       "<Figure size 432x288 with 1 Axes>"
      ]
     },
     "metadata": {
      "needs_background": "light"
     },
     "output_type": "display_data"
    }
   ],
   "source": [
    "sns.countplot(y='gender', data=master[newly_nar])"
   ]
  },
  {
   "cell_type": "markdown",
   "id": "091ccd08",
   "metadata": {},
   "source": [
    "Now let's try to look at why. What are these author names?"
   ]
  },
  {
   "cell_type": "code",
   "execution_count": 37,
   "id": "5592320d",
   "metadata": {
    "scrolled": true
   },
   "outputs": [
    {
     "data": {
      "text/html": [
       "<div>\n",
       "<style scoped>\n",
       "    .dataframe tbody tr th:only-of-type {\n",
       "        vertical-align: middle;\n",
       "    }\n",
       "\n",
       "    .dataframe tbody tr th {\n",
       "        vertical-align: top;\n",
       "    }\n",
       "\n",
       "    .dataframe thead th {\n",
       "        text-align: right;\n",
       "    }\n",
       "</style>\n",
       "<table border=\"1\" class=\"dataframe\">\n",
       "  <thead>\n",
       "    <tr style=\"text-align: right;\">\n",
       "      <th></th>\n",
       "      <th>cluster</th>\n",
       "      <th>gender</th>\n",
       "      <th>author_name</th>\n",
       "    </tr>\n",
       "  </thead>\n",
       "  <tbody>\n",
       "    <tr>\n",
       "      <th>0</th>\n",
       "      <td>100000336</td>\n",
       "      <td>male</td>\n",
       "      <td>W Seiler</td>\n",
       "    </tr>\n",
       "    <tr>\n",
       "      <th>1</th>\n",
       "      <td>100000336</td>\n",
       "      <td>male</td>\n",
       "      <td>W. Seiler</td>\n",
       "    </tr>\n",
       "    <tr>\n",
       "      <th>2</th>\n",
       "      <td>100037838</td>\n",
       "      <td>female</td>\n",
       "      <td>L Divine</td>\n",
       "    </tr>\n",
       "    <tr>\n",
       "      <th>3</th>\n",
       "      <td>100038839</td>\n",
       "      <td>male</td>\n",
       "      <td>E Davies</td>\n",
       "    </tr>\n",
       "    <tr>\n",
       "      <th>4</th>\n",
       "      <td>100038921</td>\n",
       "      <td>male</td>\n",
       "      <td>W Brown</td>\n",
       "    </tr>\n",
       "  </tbody>\n",
       "</table>\n",
       "</div>"
      ],
      "text/plain": [
       "     cluster  gender author_name\n",
       "0  100000336    male    W Seiler\n",
       "1  100000336    male   W. Seiler\n",
       "2  100037838  female    L Divine\n",
       "3  100038839    male    E Davies\n",
       "4  100038921    male     W Brown"
      ]
     },
     "execution_count": 37,
     "metadata": {},
     "output_type": "execute_result"
    }
   ],
   "source": [
    "nnar = master[newly_nar]\n",
    "nnar_auth = pd.merge(nnar.reset_index(), authors)\n",
    "nnar_auth.head()"
   ]
  },
  {
   "cell_type": "markdown",
   "id": "240d3427",
   "metadata": {},
   "source": [
    "What does that look like in current data?"
   ]
  },
  {
   "cell_type": "code",
   "execution_count": 55,
   "id": "efc63866",
   "metadata": {},
   "outputs": [
    {
     "data": {
      "text/html": [
       "<div>\n",
       "<style scoped>\n",
       "    .dataframe tbody tr th:only-of-type {\n",
       "        vertical-align: middle;\n",
       "    }\n",
       "\n",
       "    .dataframe tbody tr th {\n",
       "        vertical-align: top;\n",
       "    }\n",
       "\n",
       "    .dataframe thead th {\n",
       "        text-align: right;\n",
       "    }\n",
       "</style>\n",
       "<table border=\"1\" class=\"dataframe\">\n",
       "  <thead>\n",
       "    <tr style=\"text-align: right;\">\n",
       "      <th></th>\n",
       "      <th>cluster</th>\n",
       "      <th>gender</th>\n",
       "      <th>author_name</th>\n",
       "    </tr>\n",
       "  </thead>\n",
       "  <tbody>\n",
       "    <tr>\n",
       "      <th>0</th>\n",
       "      <td>100000336</td>\n",
       "      <td>no-author-rec</td>\n",
       "      <td>W Seiler</td>\n",
       "    </tr>\n",
       "    <tr>\n",
       "      <th>1</th>\n",
       "      <td>100000336</td>\n",
       "      <td>no-author-rec</td>\n",
       "      <td>W. Seiler</td>\n",
       "    </tr>\n",
       "    <tr>\n",
       "      <th>2</th>\n",
       "      <td>100037838</td>\n",
       "      <td>no-author-rec</td>\n",
       "      <td>L Divine</td>\n",
       "    </tr>\n",
       "    <tr>\n",
       "      <th>3</th>\n",
       "      <td>100038839</td>\n",
       "      <td>no-author-rec</td>\n",
       "      <td>E Davies</td>\n",
       "    </tr>\n",
       "    <tr>\n",
       "      <th>4</th>\n",
       "      <td>100038921</td>\n",
       "      <td>no-author-rec</td>\n",
       "      <td>W Brown</td>\n",
       "    </tr>\n",
       "  </tbody>\n",
       "</table>\n",
       "</div>"
      ],
      "text/plain": [
       "     cluster         gender author_name\n",
       "0  100000336  no-author-rec    W Seiler\n",
       "1  100000336  no-author-rec   W. Seiler\n",
       "2  100037838  no-author-rec    L Divine\n",
       "3  100038839  no-author-rec    E Davies\n",
       "4  100038921  no-author-rec     W Brown"
      ]
     },
     "execution_count": 55,
     "metadata": {},
     "output_type": "execute_result"
    }
   ],
   "source": [
    "pd.merge(current[newly_nar].reset_index(), authors).head()"
   ]
  },
  {
   "cell_type": "markdown",
   "id": "4e18fa44",
   "metadata": {},
   "source": [
    "Grab that first cluster."
   ]
  },
  {
   "cell_type": "code",
   "execution_count": 42,
   "id": "c0054d0b",
   "metadata": {},
   "outputs": [
    {
     "data": {
      "text/plain": [
       "['W Seiler', 'W. Seiler']"
      ]
     },
     "execution_count": 42,
     "metadata": {},
     "output_type": "execute_result"
    }
   ],
   "source": [
    "sought = nnar_auth.iloc[:2, 2].tolist()\n",
    "sought"
   ]
  },
  {
   "cell_type": "markdown",
   "id": "e6f66e1c",
   "metadata": {},
   "source": [
    "Find them in the old data:"
   ]
  },
  {
   "cell_type": "code",
   "execution_count": 44,
   "id": "85c07e63",
   "metadata": {},
   "outputs": [
    {
     "data": {
      "text/html": [
       "<div>\n",
       "<style scoped>\n",
       "    .dataframe tbody tr th:only-of-type {\n",
       "        vertical-align: middle;\n",
       "    }\n",
       "\n",
       "    .dataframe tbody tr th {\n",
       "        vertical-align: top;\n",
       "    }\n",
       "\n",
       "    .dataframe thead th {\n",
       "        text-align: right;\n",
       "    }\n",
       "</style>\n",
       "<table border=\"1\" class=\"dataframe\">\n",
       "  <thead>\n",
       "    <tr style=\"text-align: right;\">\n",
       "      <th></th>\n",
       "      <th>rec_id</th>\n",
       "      <th>name</th>\n",
       "    </tr>\n",
       "  </thead>\n",
       "  <tbody>\n",
       "    <tr>\n",
       "      <th>53193735</th>\n",
       "      <td>4121554</td>\n",
       "      <td>W Seiler</td>\n",
       "    </tr>\n",
       "  </tbody>\n",
       "</table>\n",
       "</div>"
      ],
      "text/plain": [
       "           rec_id      name\n",
       "53193735  4121554  W Seiler"
      ]
     },
     "execution_count": 44,
     "metadata": {},
     "output_type": "execute_result"
    }
   ],
   "source": [
    "matched = old_au_idx[old_au_idx['name'].isin(sought)]\n",
    "matched"
   ]
  },
  {
   "cell_type": "markdown",
   "id": "9d642190",
   "metadata": {},
   "source": [
    "What does the current data say for that record?"
   ]
  },
  {
   "cell_type": "code",
   "execution_count": 49,
   "id": "94d74138",
   "metadata": {},
   "outputs": [
    {
     "data": {
      "text/html": [
       "<div>\n",
       "<style scoped>\n",
       "    .dataframe tbody tr th:only-of-type {\n",
       "        vertical-align: middle;\n",
       "    }\n",
       "\n",
       "    .dataframe tbody tr th {\n",
       "        vertical-align: top;\n",
       "    }\n",
       "\n",
       "    .dataframe thead th {\n",
       "        text-align: right;\n",
       "    }\n",
       "</style>\n",
       "<table border=\"1\" class=\"dataframe\">\n",
       "  <thead>\n",
       "    <tr style=\"text-align: right;\">\n",
       "      <th></th>\n",
       "      <th>rec_id</th>\n",
       "      <th>name</th>\n",
       "      <th>repr</th>\n",
       "    </tr>\n",
       "  </thead>\n",
       "  <tbody>\n",
       "    <tr>\n",
       "      <th>46783094</th>\n",
       "      <td>4121554</td>\n",
       "      <td>Seiler, W</td>\n",
       "      <td>'Seiler, W'</td>\n",
       "    </tr>\n",
       "    <tr>\n",
       "      <th>46783135</th>\n",
       "      <td>4121554</td>\n",
       "      <td>Seiler, Wolfgang</td>\n",
       "      <td>'Seiler, Wolfgang'</td>\n",
       "    </tr>\n",
       "    <tr>\n",
       "      <th>53190753</th>\n",
       "      <td>4121554</td>\n",
       "      <td>W Seiler</td>\n",
       "      <td>'W Seiler'</td>\n",
       "    </tr>\n",
       "    <tr>\n",
       "      <th>54710682</th>\n",
       "      <td>4121554</td>\n",
       "      <td>Wolfgang Seiler</td>\n",
       "      <td>'Wolfgang Seiler'</td>\n",
       "    </tr>\n",
       "  </tbody>\n",
       "</table>\n",
       "</div>"
      ],
      "text/plain": [
       "           rec_id              name                repr\n",
       "46783094  4121554         Seiler, W         'Seiler, W'\n",
       "46783135  4121554  Seiler, Wolfgang  'Seiler, Wolfgang'\n",
       "53190753  4121554          W Seiler          'W Seiler'\n",
       "54710682  4121554   Wolfgang Seiler   'Wolfgang Seiler'"
      ]
     },
     "execution_count": 49,
     "metadata": {},
     "output_type": "execute_result"
    }
   ],
   "source": [
    "cur_ver = cur_au_idx[cur_au_idx['rec_id'].isin(matched['rec_id'])].copy()\n",
    "cur_ver['repr'] = cur_ver['name'].apply(repr)\n",
    "cur_ver"
   ]
  },
  {
   "cell_type": "code",
   "execution_count": 52,
   "id": "e8efb070",
   "metadata": {},
   "outputs": [
    {
     "data": {
      "text/plain": [
       "'W Seiler'"
      ]
     },
     "execution_count": 52,
     "metadata": {},
     "output_type": "execute_result"
    }
   ],
   "source": [
    "cur_ver.loc[53190753, 'name']"
   ]
  },
  {
   "cell_type": "code",
   "execution_count": null,
   "id": "65cec624",
   "metadata": {},
   "outputs": [],
   "source": []
  }
 ],
 "metadata": {
  "kernelspec": {
   "display_name": "Python 3 (ipykernel)",
   "language": "python",
   "name": "python3"
  },
  "language_info": {
   "codemirror_mode": {
    "name": "ipython",
    "version": 3
   },
   "file_extension": ".py",
   "mimetype": "text/x-python",
   "name": "python",
   "nbconvert_exporter": "python",
   "pygments_lexer": "ipython3",
   "version": "3.8.12"
  }
 },
 "nbformat": 4,
 "nbformat_minor": 5
}
