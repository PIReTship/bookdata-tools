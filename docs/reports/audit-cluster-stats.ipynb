{
  "cells": [
    {
      "cell_type": "raw",
      "metadata": {},
      "source": [
        "---\n",
        "title: ISBN Cluster Changes\n",
        "---"
      ],
      "id": "e6573263"
    },
    {
      "cell_type": "markdown",
      "metadata": {},
      "source": [
        "This notebook audits for significant changes in the clustering results in the book data, to allow us to detect the significance of shifts from version to version.  It depends on the aligned cluster identities in `isbn-version-clusters.parquet`.\n",
        "\n",
        "Data versions are indexed by month; versions corresponding to tagged versions also have the version in their name.\n",
        "\n",
        "We are particularly intersted in the shift in *number* of clusters, and shifts in which cluster an ISBN is associated with (while cluster IDs are not stable across versions, this notebook works on an aligned version of the cluster-ISBN associations).\n"
      ],
      "id": "21c55a77"
    },
    {
      "cell_type": "code",
      "metadata": {},
      "source": [
        "import pandas as pd\n",
        "import matplotlib.pyplot as plt"
      ],
      "id": "5008a8bb",
      "execution_count": null,
      "outputs": []
    },
    {
      "cell_type": "markdown",
      "metadata": {},
      "source": [
        "## Load Data\n",
        "\n",
        "Define the versions we care about:\n"
      ],
      "id": "e3b52e7e"
    },
    {
      "cell_type": "code",
      "metadata": {},
      "source": [
        "versions = ['pgsql', '2022-03-2.0', '2022-07', '2022-10', '2022-11-2.1', 'current']"
      ],
      "id": "cafce402",
      "execution_count": null,
      "outputs": []
    },
    {
      "cell_type": "markdown",
      "metadata": {},
      "source": [
        "Load the aligned ISBNs:\n"
      ],
      "id": "719722d3"
    },
    {
      "cell_type": "code",
      "metadata": {},
      "source": [
        "isbn_clusters = pd.read_parquet('isbn-version-clusters.parquet')\n",
        "isbn_clusters.info()"
      ],
      "id": "58827a3a",
      "execution_count": null,
      "outputs": []
    },
    {
      "cell_type": "markdown",
      "metadata": {},
      "source": [
        "## Cluster Counts\n",
        "\n",
        "Let's look at the # of ISBNs and clusters in each dataset:\n"
      ],
      "id": "5e34d7c3"
    },
    {
      "cell_type": "code",
      "metadata": {},
      "source": [
        "metrics = isbn_clusters[versions].agg(['count', 'nunique']).T.rename(columns={\n",
        "    'count': 'n_isbns',\n",
        "    'nunique': 'n_clusters',\n",
        "})\n",
        "metrics"
      ],
      "id": "f3ceb78b",
      "execution_count": null,
      "outputs": []
    },
    {
      "cell_type": "markdown",
      "metadata": {},
      "source": [
        "## Cluster Size Distributions\n",
        "\n",
        "Now we're going to look at how the sizes of clusters, and the distribution of cluster sizes and changes.\n"
      ],
      "id": "15f7157f"
    },
    {
      "cell_type": "code",
      "metadata": {},
      "source": [
        "sizes = dict((v, isbn_clusters[v].value_counts()) for v in versions)\n",
        "sizes = pd.concat(sizes, names=['version', 'cluster'])\n",
        "sizes.name = 'size'\n",
        "sizes"
      ],
      "id": "09cb30a7",
      "execution_count": null,
      "outputs": []
    },
    {
      "cell_type": "markdown",
      "metadata": {},
      "source": [
        "Compute the histogram:\n"
      ],
      "id": "2589f98c"
    },
    {
      "cell_type": "code",
      "metadata": {},
      "source": [
        "size_hist = sizes.groupby('version').value_counts()\n",
        "size_hist.name = 'count'\n",
        "size_hist"
      ],
      "id": "01f519b2",
      "execution_count": null,
      "outputs": []
    },
    {
      "cell_type": "markdown",
      "metadata": {},
      "source": [
        "And plot the cumulative distributions:\n"
      ],
      "id": "c0878a2e"
    },
    {
      "cell_type": "code",
      "metadata": {},
      "source": [
        "for v in versions:\n",
        "    vss = size_hist.loc[v].sort_index()\n",
        "    vsc = vss.cumsum() / vss.sum()\n",
        "    plt.plot(vsc.index, vsc.values, label=v)\n",
        "\n",
        "plt.title('Distribution of Cluster Sizes')\n",
        "plt.ylabel('Cum. Frac. of Clusters')\n",
        "plt.xlabel('Cluster Size')\n",
        "plt.xscale('symlog')\n",
        "plt.legend()\n",
        "plt.show()"
      ],
      "id": "e04edb84",
      "execution_count": null,
      "outputs": []
    },
    {
      "cell_type": "markdown",
      "metadata": {},
      "source": [
        "Save more metrics:\n"
      ],
      "id": "af45a64a"
    },
    {
      "cell_type": "code",
      "metadata": {},
      "source": [
        "metrics['max_size'] = pd.Series({\n",
        "    v: sizes[v].max()\n",
        "    for v in versions\n",
        "})\n",
        "metrics"
      ],
      "id": "17e2610b",
      "execution_count": null,
      "outputs": []
    },
    {
      "cell_type": "markdown",
      "metadata": {},
      "source": [
        "## Different Clusters\n",
        "\n",
        "### ISBN Changes\n",
        "\n",
        "How many ISBNs changed cluster across each version?\n"
      ],
      "id": "c2000e02"
    },
    {
      "cell_type": "code",
      "metadata": {},
      "source": [
        "statuses = ['same', 'added', 'changed', 'dropped']\n",
        "changed = isbn_clusters[['isbn_id']].copy(deep=False)\n",
        "for (v1, v2) in zip(versions, versions[1:]):\n",
        "    v1c = isbn_clusters[v1]\n",
        "    v2c = isbn_clusters[v2]\n",
        "    cc = pd.Series('same', index=changed.index)\n",
        "    cc = cc.astype('category').cat.set_categories(statuses, ordered=True)\n",
        "    cc[v1c.isnull() & v2c.notnull()] = 'added'\n",
        "    cc[v1c.notnull() & v2c.isnull()] = 'dropped'\n",
        "    cc[v1c.notnull() & v2c.notnull() & (v1c != v2c)] = 'changed'\n",
        "    changed[v2] = cc\n",
        "    del cc\n",
        "changed.set_index('isbn_id', inplace=True)\n",
        "changed.head()"
      ],
      "id": "3b0e77c4",
      "execution_count": null,
      "outputs": []
    },
    {
      "cell_type": "markdown",
      "metadata": {},
      "source": [
        "Count number in each trajectory:\n"
      ],
      "id": "61055023"
    },
    {
      "cell_type": "code",
      "metadata": {},
      "source": [
        "trajectories = changed.value_counts()\n",
        "trajectories = trajectories.to_frame('count')\n",
        "trajectories['fraction'] = trajectories['count'] / len(changed)\n",
        "trajectories['cum_frac'] = trajectories['fraction'].cumsum()"
      ],
      "id": "02eeb598",
      "execution_count": null,
      "outputs": []
    },
    {
      "cell_type": "code",
      "metadata": {},
      "source": [
        "trajectories"
      ],
      "id": "7ab9f05b",
      "execution_count": null,
      "outputs": []
    },
    {
      "cell_type": "code",
      "metadata": {},
      "source": [
        "metrics['new_isbns'] = (changed[versions[1:]] == 'added').sum().reindex(metrics.index)\n",
        "metrics['dropped_isbns'] = (changed[versions[1:]] == 'dropped').sum().reindex(metrics.index)\n",
        "metrics['changed_isbns'] = (changed[versions[1:]] == 'changed').sum().reindex(metrics.index)\n",
        "metrics"
      ],
      "id": "8ed40e24",
      "execution_count": null,
      "outputs": []
    },
    {
      "cell_type": "markdown",
      "metadata": {},
      "source": [
        "The biggest change is that the July 2022 update introduced a large number (8.2M) of new ISBNs.  This update incorporated more current book data, and changed the ISBN parsing logic, so it is not surprising.\n",
        "\n",
        "Let's save these book changes to a file for future re-analysis:\n"
      ],
      "id": "c56c0ab3"
    },
    {
      "cell_type": "code",
      "metadata": {},
      "source": [
        "changed.to_parquet('isbn-cluster-changes.parquet', compression='zstd')"
      ],
      "id": "4976055a",
      "execution_count": null,
      "outputs": []
    },
    {
      "cell_type": "markdown",
      "metadata": {},
      "source": [
        "## Final Saved Metrics\n",
        "\n",
        "Now we're going to save this metric file to a CSV.\n"
      ],
      "id": "d9614eaa"
    },
    {
      "cell_type": "code",
      "metadata": {},
      "source": [
        "metrics.index.name = 'version'\n",
        "metrics"
      ],
      "id": "40e86e6b",
      "execution_count": null,
      "outputs": []
    },
    {
      "cell_type": "code",
      "metadata": {},
      "source": [
        "metrics.to_csv('audit-metrics.csv')"
      ],
      "id": "fc359cf2",
      "execution_count": null,
      "outputs": []
    }
  ],
  "metadata": {
    "kernelspec": {
      "display_name": "Python 3 (ipykernel)",
      "language": "python",
      "name": "python3"
    },
    "jupytext": {
      "text_representation": {
        "extension": ".qmd",
        "format_name": "quarto",
        "format_version": "1.0",
        "jupytext_version": "1.14.7"
      }
    }
  },
  "nbformat": 4,
  "nbformat_minor": 5
}