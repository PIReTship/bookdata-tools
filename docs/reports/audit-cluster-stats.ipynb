{
  "cells": [
    {
      "cell_type": "markdown",
      "metadata": {},
      "source": [
        "# ISBN Cluster Changes\n",
        "\n",
        "This notebook audits for significant changes in the clustering results\n",
        "in the book data, to allow us to detect the significance of shifts from\n",
        "version to version. It depends on the aligned cluster identities in\n",
        "`isbn-version-clusters.parquet`.\n",
        "\n",
        "Data versions are indexed by month; versions corresponding to tagged\n",
        "versions also have the version in their name.\n",
        "\n",
        "We are particularly intersted in the shift in *number* of clusters, and\n",
        "shifts in which cluster an ISBN is associated with (while cluster IDs\n",
        "are not stable across versions, this notebook works on an aligned\n",
        "version of the cluster-ISBN associations)."
      ],
      "id": "57c53694-59da-4358-ace9-0af735e277f1"
    },
    {
      "cell_type": "code",
      "execution_count": 1,
      "metadata": {},
      "outputs": [],
      "source": [
        "import pandas as pd\n",
        "import matplotlib.pyplot as plt\n",
        "from duckdb import connect"
      ],
      "id": "imports"
    },
    {
      "cell_type": "markdown",
      "metadata": {},
      "source": [
        "## Load Data\n",
        "\n",
        "Load the aligned ISBNs:"
      ],
      "id": "3589a341-4b6b-4624-b78a-6d9c8069519f"
    },
    {
      "cell_type": "code",
      "execution_count": 2,
      "metadata": {},
      "outputs": [
        {
          "output_type": "stream",
          "name": "stdout",
          "text": [
            "┌───────────────┬──────────┬───────────┬─────────────┬───────────┬─────────────┬───────────┬───────────┬─────────────┬───────────┐\n",
            "│     isbn      │ isbn_id  │  current  │ 2025-06-3.0 │  2023-07  │ 2022-11-2.1 │  2022-10  │  2022-07  │ 2022-03-2.0 │   pgsql   │\n",
            "│    varchar    │  int32   │   int32   │    int32    │   int32   │    int32    │   int32   │   int32   │    int32    │   int32   │\n",
            "├───────────────┼──────────┼───────────┼─────────────┼───────────┼─────────────┼───────────┼───────────┼─────────────┼───────────┤\n",
            "│ 9788439382553 │ 40125156 │ 135041912 │   135041912 │ 135041912 │        NULL │      NULL │      NULL │        NULL │      NULL │\n",
            "│ 0861082656    │ 21664893 │ 119305977 │   119305977 │ 119305977 │   119305977 │ 119305977 │ 119305977 │   119305977 │ 119305977 │\n",
            "│ 9783319295428 │ 30718436 │ 120841856 │   120841856 │ 120841856 │   120841856 │ 120841856 │ 120841856 │        NULL │      NULL │\n",
            "│     ·         │     ·    │     ·     │       ·     │     ·     │          ·  │        ·  │        ·  │          ·  │        ·  │\n",
            "│     ·         │     ·    │     ·     │       ·     │     ·     │          ·  │        ·  │        ·  │          ·  │        ·  │\n",
            "│     ·         │     ·    │     ·     │       ·     │     ·     │          ·  │        ·  │        ·  │          ·  │        ·  │\n",
            "│ 8484721337    │  3447941 │ 134981118 │   134981118 │ 134981118 │        NULL │      NULL │      NULL │        NULL │      NULL │\n",
            "│ 9798437649299 │ 22897881 │ 100066513 │   100066513 │ 100066513 │        NULL │      NULL │      NULL │        NULL │      NULL │\n",
            "├───────────────┴──────────┴───────────┴─────────────┴───────────┴─────────────┴───────────┴───────────┴─────────────┴───────────┤\n",
            "│ ? rows (>9999 rows, 5 shown)                                                                                        10 columns │\n",
            "└────────────────────────────────────────────────────────────────────────────────────────────────────────────────────────────────┘\n"
          ]
        }
      ],
      "source": [
        "db = connect()\n",
        "db.execute(\"CREATE VIEW clusters AS FROM 'isbn-version-clusters.parquet'\")\n",
        "db.table('clusters').show(max_rows=5)"
      ],
      "id": "connect"
    },
    {
      "cell_type": "code",
      "execution_count": 3,
      "metadata": {},
      "outputs": [
        {
          "output_type": "display_data",
          "metadata": {},
          "data": {
            "text/plain": [
              "['pgsql',\n",
              " '2022-03-2.0',\n",
              " '2022-07',\n",
              " '2022-10',\n",
              " '2022-11-2.1',\n",
              " '2023-07',\n",
              " '2025-06-3.0',\n",
              " 'current']"
            ]
          }
        }
      ],
      "source": [
        "db.execute(\n",
        "    \"\"\"\n",
        "    SELECT column_name\n",
        "    FROM information_schema.columns\n",
        "    WHERE table_name = 'clusters'\n",
        "    AND NOT column_name LIKE 'isbn%'\n",
        "    ORDER BY column_name\n",
        "    \"\"\"\n",
        ")\n",
        "versions = [r[0] for r in db.fetchall()]\n",
        "versions.remove('pgsql')\n",
        "versions.insert(0, 'pgsql')\n",
        "versions"
      ],
      "id": "cell-versions"
    },
    {
      "cell_type": "code",
      "execution_count": 4,
      "metadata": {},
      "outputs": [
        {
          "output_type": "display_data",
          "metadata": {},
          "data": {
            "text/plain": [
              "<duckdb.duckdb.DuckDBPyConnection at 0x7623584c4370>"
            ]
          }
        }
      ],
      "source": [
        "db.execute(\n",
        "    \"\"\"\n",
        "    CREATE VIEW cluster_tall AS\n",
        "    UNPIVOT clusters\n",
        "    ON COLUMNS(* EXCLUDE (isbn, isbn_id))\n",
        "    INTO NAME version VALUE cluster\n",
        "    \"\"\"\n",
        ")"
      ],
      "id": "ab5274e6"
    },
    {
      "cell_type": "markdown",
      "metadata": {},
      "source": [
        "For further analysis, we want to compute the size of each cluster."
      ],
      "id": "f9a7de0d-b8f9-4a93-b116-3cefb3f04738"
    },
    {
      "cell_type": "code",
      "execution_count": 5,
      "metadata": {},
      "outputs": [
        {
          "output_type": "display_data",
          "metadata": {},
          "data": {
            "text/plain": [
              "<duckdb.duckdb.DuckDBPyConnection at 0x7623584c4370>"
            ]
          }
        }
      ],
      "source": [
        "db.execute(\n",
        "    \"\"\"\n",
        "    CREATE TABLE cluster_sizes AS\n",
        "    SELECT version, cluster, COUNT(isbn) AS size\n",
        "    FROM cluster_tall\n",
        "    WHERE cluster IS NOT NULL\n",
        "    GROUP BY version, cluster\n",
        "    \"\"\"\n",
        ")"
      ],
      "id": "cell-cluster-sizes"
    },
    {
      "cell_type": "markdown",
      "metadata": {},
      "source": [
        "## Cluster Counts\n",
        "\n",
        "Let’s look at the \\# of ISBNs and clusters in each dataset."
      ],
      "id": "92e857cb-9748-4d09-af44-bb9787644e59"
    },
    {
      "cell_type": "code",
      "execution_count": 6,
      "metadata": {},
      "outputs": [
        {
          "output_type": "display_data",
          "metadata": {},
          "data": {
            "text/plain": [
              "┌─────────────┬──────────┬────────────┬──────────┐\n",
              "│   version   │ n_isbns  │ n_clusters │ max_size │\n",
              "│   varchar   │  int128  │   int64    │  int64   │\n",
              "├─────────────┼──────────┼────────────┼──────────┤\n",
              "│ 2022-10     │ 32715078 │   16882949 │    14378 │\n",
              "│ 2022-03-2.0 │ 24503563 │   13201869 │     7976 │\n",
              "│ 2023-07     │ 42979427 │   23191293 │    47857 │\n",
              "│ 2022-11-2.1 │ 33505211 │   17673075 │    14378 │\n",
              "│ pgsql       │ 24482342 │   13213677 │     7818 │\n",
              "│ current     │ 44505174 │   24107169 │    51481 │\n",
              "│ 2025-06-3.0 │ 44505174 │   24107169 │    51481 │\n",
              "│ 2022-07     │ 32715079 │   17078096 │    13988 │\n",
              "└─────────────┴──────────┴────────────┴──────────┘"
            ]
          }
        }
      ],
      "source": [
        "metrics = db.query(\n",
        "    \"\"\"\n",
        "    SELECT version,\n",
        "        SUM(size) AS n_isbns,\n",
        "        COUNT(cluster) AS n_clusters,\n",
        "        MAX(size) AS max_size\n",
        "    FROM cluster_sizes\n",
        "    GROUP BY version\n",
        "    \"\"\"\n",
        ")\n",
        "metrics"
      ],
      "id": "cell-version-metrics"
    },
    {
      "cell_type": "markdown",
      "metadata": {},
      "source": [
        "## Cluster Size Distributions\n",
        "\n",
        "Now we’re going to look at how the sizes of clusters, and the\n",
        "distribution of cluster sizes and changes.\n",
        "\n",
        "Compute the histogram:"
      ],
      "id": "31a169bb-8a0f-449d-883c-e6c2a7ffb809"
    },
    {
      "cell_type": "code",
      "execution_count": 7,
      "metadata": {},
      "outputs": [],
      "source": [
        "size_hist = db.query(\n",
        "    \"\"\"\n",
        "    SELECT version, size, COUNT(cluster) AS count\n",
        "    FROM cluster_sizes\n",
        "    GROUP BY version, size\n",
        "    ORDER BY version, size\n",
        "    \"\"\"\n",
        ").to_df()\n",
        "size_hist = size_hist.set_index(['version', 'size'])['count']"
      ],
      "id": "size-histogram"
    },
    {
      "cell_type": "markdown",
      "metadata": {},
      "source": [
        "And plot the cumulative distributions:"
      ],
      "id": "6eec7abb-8d74-4184-80a4-cab8fd389fa5"
    },
    {
      "cell_type": "code",
      "execution_count": 8,
      "metadata": {},
      "outputs": [
        {
          "output_type": "display_data",
          "metadata": {},
          "data": {}
        }
      ],
      "source": [
        "for v in versions:\n",
        "    vss = size_hist.loc[v].sort_index()\n",
        "    vsc = vss.cumsum() / vss.sum()\n",
        "    plt.plot(vsc.index, vsc.values, label=v)\n",
        "\n",
        "plt.title('Distribution of Cluster Sizes')\n",
        "plt.ylabel('Cum. Frac. of Clusters')\n",
        "plt.xlabel('Cluster Size')\n",
        "plt.xscale('symlog')\n",
        "plt.legend()\n",
        "plt.show()"
      ],
      "id": "cell-fig-cluster-sizes"
    },
    {
      "cell_type": "markdown",
      "metadata": {},
      "source": [
        "## Different Clusters\n",
        "\n",
        "### ISBN Changes\n",
        "\n",
        "How many ISBNs changed cluster across each version?"
      ],
      "id": "eacbd70a-c15b-4c73-bd98-ebc066bce8a3"
    },
    {
      "cell_type": "code",
      "execution_count": 9,
      "metadata": {},
      "outputs": [
        {
          "output_type": "display_data",
          "metadata": {},
          "data": {
            "text/html": [
              "<div>\n",
              "<style scoped>\n",
              "    .dataframe tbody tr th:only-of-type {\n",
              "        vertical-align: middle;\n",
              "    }\n",
              "\n",
              "    .dataframe tbody tr th {\n",
              "        vertical-align: top;\n",
              "    }\n",
              "\n",
              "    .dataframe thead th {\n",
              "        text-align: right;\n",
              "    }\n",
              "</style>\n",
              "<table border=\"1\" class=\"dataframe\">\n",
              "  <thead>\n",
              "    <tr style=\"text-align: right;\">\n",
              "      <th></th>\n",
              "      <th>2022-03-2.0</th>\n",
              "      <th>2022-07</th>\n",
              "      <th>2022-10</th>\n",
              "      <th>2022-11-2.1</th>\n",
              "      <th>2023-07</th>\n",
              "      <th>2025-06-3.0</th>\n",
              "      <th>current</th>\n",
              "    </tr>\n",
              "    <tr>\n",
              "      <th>isbn_id</th>\n",
              "      <th></th>\n",
              "      <th></th>\n",
              "      <th></th>\n",
              "      <th></th>\n",
              "      <th></th>\n",
              "      <th></th>\n",
              "      <th></th>\n",
              "    </tr>\n",
              "  </thead>\n",
              "  <tbody>\n",
              "    <tr>\n",
              "      <th>40125156</th>\n",
              "      <td>same</td>\n",
              "      <td>same</td>\n",
              "      <td>same</td>\n",
              "      <td>same</td>\n",
              "      <td>added</td>\n",
              "      <td>same</td>\n",
              "      <td>same</td>\n",
              "    </tr>\n",
              "    <tr>\n",
              "      <th>21664893</th>\n",
              "      <td>same</td>\n",
              "      <td>same</td>\n",
              "      <td>same</td>\n",
              "      <td>same</td>\n",
              "      <td>same</td>\n",
              "      <td>same</td>\n",
              "      <td>same</td>\n",
              "    </tr>\n",
              "    <tr>\n",
              "      <th>30718436</th>\n",
              "      <td>same</td>\n",
              "      <td>added</td>\n",
              "      <td>same</td>\n",
              "      <td>same</td>\n",
              "      <td>same</td>\n",
              "      <td>same</td>\n",
              "      <td>same</td>\n",
              "    </tr>\n",
              "    <tr>\n",
              "      <th>21921964</th>\n",
              "      <td>same</td>\n",
              "      <td>same</td>\n",
              "      <td>same</td>\n",
              "      <td>same</td>\n",
              "      <td>same</td>\n",
              "      <td>same</td>\n",
              "      <td>same</td>\n",
              "    </tr>\n",
              "    <tr>\n",
              "      <th>17931298</th>\n",
              "      <td>same</td>\n",
              "      <td>same</td>\n",
              "      <td>same</td>\n",
              "      <td>same</td>\n",
              "      <td>same</td>\n",
              "      <td>same</td>\n",
              "      <td>same</td>\n",
              "    </tr>\n",
              "  </tbody>\n",
              "</table>\n",
              "</div>"
            ]
          }
        }
      ],
      "source": [
        "isbn_clusters = db.query(\n",
        "    \"\"\"\n",
        "    SELECT * EXCLUDE isbn\n",
        "    FROM clusters\n",
        "    \"\"\"\n",
        ").df()\n",
        "statuses = ['same', 'added', 'changed', 'dropped']\n",
        "changed = isbn_clusters[['isbn_id']].copy(deep=False)\n",
        "for (v1, v2) in zip(versions, versions[1:]):\n",
        "    v1c = isbn_clusters[v1]\n",
        "    v2c = isbn_clusters[v2]\n",
        "    cc = pd.Series('same', index=changed.index)\n",
        "    cc = cc.astype('category').cat.set_categories(statuses, ordered=True)\n",
        "    cc[v1c.isnull() & v2c.notnull()] = 'added'\n",
        "    cc[v1c.notnull() & v2c.isnull()] = 'dropped'\n",
        "    cc[v1c.notnull() & v2c.notnull() & (v1c != v2c)] = 'changed'\n",
        "    changed[v2] = cc\n",
        "    del cc\n",
        "changed.set_index('isbn_id', inplace=True)\n",
        "changed.head()"
      ],
      "id": "cell-cluster-trajectories"
    },
    {
      "cell_type": "markdown",
      "metadata": {},
      "source": [
        "Count number in each trajectory:"
      ],
      "id": "96c7fa95-fe69-459b-b437-8c5dc9f34f03"
    },
    {
      "cell_type": "code",
      "execution_count": 10,
      "metadata": {},
      "outputs": [],
      "source": [
        "trajectories = changed.value_counts()\n",
        "trajectories = trajectories.to_frame('count')\n",
        "trajectories['fraction'] = trajectories['count'] / len(changed)\n",
        "trajectories['cum_frac'] = trajectories['fraction'].cumsum()"
      ],
      "id": "count-trajectories"
    },
    {
      "cell_type": "code",
      "execution_count": 11,
      "metadata": {},
      "outputs": [
        {
          "output_type": "display_data",
          "metadata": {},
          "data": {
            "text/html": [
              "<div>\n",
              "<style scoped>\n",
              "    .dataframe tbody tr th:only-of-type {\n",
              "        vertical-align: middle;\n",
              "    }\n",
              "\n",
              "    .dataframe tbody tr th {\n",
              "        vertical-align: top;\n",
              "    }\n",
              "\n",
              "    .dataframe thead th {\n",
              "        text-align: right;\n",
              "    }\n",
              "</style>\n",
              "<table border=\"1\" class=\"dataframe\">\n",
              "  <thead>\n",
              "    <tr style=\"text-align: right;\">\n",
              "      <th></th>\n",
              "      <th></th>\n",
              "      <th></th>\n",
              "      <th></th>\n",
              "      <th></th>\n",
              "      <th></th>\n",
              "      <th></th>\n",
              "      <th>count</th>\n",
              "      <th>fraction</th>\n",
              "      <th>cum_frac</th>\n",
              "    </tr>\n",
              "    <tr>\n",
              "      <th>2022-03-2.0</th>\n",
              "      <th>2022-07</th>\n",
              "      <th>2022-10</th>\n",
              "      <th>2022-11-2.1</th>\n",
              "      <th>2023-07</th>\n",
              "      <th>2025-06-3.0</th>\n",
              "      <th>current</th>\n",
              "      <th></th>\n",
              "      <th></th>\n",
              "      <th></th>\n",
              "    </tr>\n",
              "  </thead>\n",
              "  <tbody>\n",
              "    <tr>\n",
              "      <th rowspan=\"5\" valign=\"top\">same</th>\n",
              "      <th rowspan=\"2\" valign=\"top\">same</th>\n",
              "      <th rowspan=\"2\" valign=\"top\">same</th>\n",
              "      <th rowspan=\"2\" valign=\"top\">same</th>\n",
              "      <th>same</th>\n",
              "      <th>same</th>\n",
              "      <th>same</th>\n",
              "      <td>23791333</td>\n",
              "      <td>5.302665e-01</td>\n",
              "      <td>0.530267</td>\n",
              "    </tr>\n",
              "    <tr>\n",
              "      <th>added</th>\n",
              "      <th>same</th>\n",
              "      <th>same</th>\n",
              "      <td>9415058</td>\n",
              "      <td>2.098449e-01</td>\n",
              "      <td>0.740111</td>\n",
              "    </tr>\n",
              "    <tr>\n",
              "      <th>added</th>\n",
              "      <th>same</th>\n",
              "      <th>same</th>\n",
              "      <th>same</th>\n",
              "      <th>same</th>\n",
              "      <th>same</th>\n",
              "      <td>7732266</td>\n",
              "      <td>1.723385e-01</td>\n",
              "      <td>0.912450</td>\n",
              "    </tr>\n",
              "    <tr>\n",
              "      <th rowspan=\"2\" valign=\"top\">same</th>\n",
              "      <th rowspan=\"2\" valign=\"top\">same</th>\n",
              "      <th>same</th>\n",
              "      <th>same</th>\n",
              "      <th>added</th>\n",
              "      <th>same</th>\n",
              "      <td>1839384</td>\n",
              "      <td>4.099660e-02</td>\n",
              "      <td>0.953447</td>\n",
              "    </tr>\n",
              "    <tr>\n",
              "      <th>added</th>\n",
              "      <th>same</th>\n",
              "      <th>same</th>\n",
              "      <th>same</th>\n",
              "      <td>784380</td>\n",
              "      <td>1.748244e-02</td>\n",
              "      <td>0.970929</td>\n",
              "    </tr>\n",
              "    <tr>\n",
              "      <th>...</th>\n",
              "      <th>...</th>\n",
              "      <th>...</th>\n",
              "      <th>...</th>\n",
              "      <th>...</th>\n",
              "      <th>...</th>\n",
              "      <th>...</th>\n",
              "      <td>...</td>\n",
              "      <td>...</td>\n",
              "      <td>...</td>\n",
              "    </tr>\n",
              "    <tr>\n",
              "      <th>added</th>\n",
              "      <th>dropped</th>\n",
              "      <th>same</th>\n",
              "      <th>same</th>\n",
              "      <th>added</th>\n",
              "      <th>changed</th>\n",
              "      <th>same</th>\n",
              "      <td>1</td>\n",
              "      <td>2.228822e-08</td>\n",
              "      <td>1.000000</td>\n",
              "    </tr>\n",
              "    <tr>\n",
              "      <th>changed</th>\n",
              "      <th>same</th>\n",
              "      <th>same</th>\n",
              "      <th>dropped</th>\n",
              "      <th>same</th>\n",
              "      <th>same</th>\n",
              "      <th>same</th>\n",
              "      <td>1</td>\n",
              "      <td>2.228822e-08</td>\n",
              "      <td>1.000000</td>\n",
              "    </tr>\n",
              "    <tr>\n",
              "      <th>added</th>\n",
              "      <th>dropped</th>\n",
              "      <th>same</th>\n",
              "      <th>added</th>\n",
              "      <th>same</th>\n",
              "      <th>same</th>\n",
              "      <th>same</th>\n",
              "      <td>1</td>\n",
              "      <td>2.228822e-08</td>\n",
              "      <td>1.000000</td>\n",
              "    </tr>\n",
              "    <tr>\n",
              "      <th>changed</th>\n",
              "      <th>changed</th>\n",
              "      <th>same</th>\n",
              "      <th>dropped</th>\n",
              "      <th>added</th>\n",
              "      <th>same</th>\n",
              "      <th>same</th>\n",
              "      <td>1</td>\n",
              "      <td>2.228822e-08</td>\n",
              "      <td>1.000000</td>\n",
              "    </tr>\n",
              "    <tr>\n",
              "      <th>dropped</th>\n",
              "      <th>same</th>\n",
              "      <th>same</th>\n",
              "      <th>added</th>\n",
              "      <th>changed</th>\n",
              "      <th>same</th>\n",
              "      <th>same</th>\n",
              "      <td>1</td>\n",
              "      <td>2.228822e-08</td>\n",
              "      <td>1.000000</td>\n",
              "    </tr>\n",
              "  </tbody>\n",
              "</table>\n",
              "<p>101 rows × 3 columns</p>\n",
              "</div>"
            ]
          }
        }
      ],
      "source": [
        "trajectories"
      ],
      "id": "9a472bc2"
    },
    {
      "cell_type": "code",
      "execution_count": 12,
      "metadata": {},
      "outputs": [
        {
          "output_type": "display_data",
          "metadata": {},
          "data": {
            "text/html": [
              "<div>\n",
              "<style scoped>\n",
              "    .dataframe tbody tr th:only-of-type {\n",
              "        vertical-align: middle;\n",
              "    }\n",
              "\n",
              "    .dataframe tbody tr th {\n",
              "        vertical-align: top;\n",
              "    }\n",
              "\n",
              "    .dataframe thead th {\n",
              "        text-align: right;\n",
              "    }\n",
              "</style>\n",
              "<table border=\"1\" class=\"dataframe\">\n",
              "  <thead>\n",
              "    <tr style=\"text-align: right;\">\n",
              "      <th></th>\n",
              "      <th>n_isbns</th>\n",
              "      <th>n_clusters</th>\n",
              "      <th>max_size</th>\n",
              "      <th>new_isbns</th>\n",
              "      <th>dropped_isbns</th>\n",
              "      <th>changed_isbns</th>\n",
              "    </tr>\n",
              "    <tr>\n",
              "      <th>version</th>\n",
              "      <th></th>\n",
              "      <th></th>\n",
              "      <th></th>\n",
              "      <th></th>\n",
              "      <th></th>\n",
              "      <th></th>\n",
              "    </tr>\n",
              "  </thead>\n",
              "  <tbody>\n",
              "    <tr>\n",
              "      <th>pgsql</th>\n",
              "      <td>24482342.0</td>\n",
              "      <td>13213677</td>\n",
              "      <td>7818</td>\n",
              "      <td>NaN</td>\n",
              "      <td>NaN</td>\n",
              "      <td>NaN</td>\n",
              "    </tr>\n",
              "    <tr>\n",
              "      <th>2022-03-2.0</th>\n",
              "      <td>24503563.0</td>\n",
              "      <td>13201869</td>\n",
              "      <td>7976</td>\n",
              "      <td>88086.0</td>\n",
              "      <td>66865.0</td>\n",
              "      <td>45946.0</td>\n",
              "    </tr>\n",
              "    <tr>\n",
              "      <th>2022-07</th>\n",
              "      <td>32715079.0</td>\n",
              "      <td>17078096</td>\n",
              "      <td>13988</td>\n",
              "      <td>8220673.0</td>\n",
              "      <td>9157.0</td>\n",
              "      <td>228979.0</td>\n",
              "    </tr>\n",
              "    <tr>\n",
              "      <th>2022-10</th>\n",
              "      <td>32715078.0</td>\n",
              "      <td>16882949</td>\n",
              "      <td>14378</td>\n",
              "      <td>0.0</td>\n",
              "      <td>1.0</td>\n",
              "      <td>195258.0</td>\n",
              "    </tr>\n",
              "    <tr>\n",
              "      <th>2022-11-2.1</th>\n",
              "      <td>33505211.0</td>\n",
              "      <td>17673075</td>\n",
              "      <td>14378</td>\n",
              "      <td>790244.0</td>\n",
              "      <td>111.0</td>\n",
              "      <td>7.0</td>\n",
              "    </tr>\n",
              "    <tr>\n",
              "      <th>2023-07</th>\n",
              "      <td>42979427.0</td>\n",
              "      <td>23191293</td>\n",
              "      <td>47857</td>\n",
              "      <td>9489505.0</td>\n",
              "      <td>15289.0</td>\n",
              "      <td>218442.0</td>\n",
              "    </tr>\n",
              "    <tr>\n",
              "      <th>2025-06-3.0</th>\n",
              "      <td>44505174.0</td>\n",
              "      <td>24107169</td>\n",
              "      <td>51481</td>\n",
              "      <td>1839535.0</td>\n",
              "      <td>313788.0</td>\n",
              "      <td>140075.0</td>\n",
              "    </tr>\n",
              "    <tr>\n",
              "      <th>current</th>\n",
              "      <td>44505174.0</td>\n",
              "      <td>24107169</td>\n",
              "      <td>51481</td>\n",
              "      <td>0.0</td>\n",
              "      <td>0.0</td>\n",
              "      <td>0.0</td>\n",
              "    </tr>\n",
              "  </tbody>\n",
              "</table>\n",
              "</div>"
            ]
          }
        }
      ],
      "source": [
        "metric_df = metrics.df().set_index('version')\n",
        "metric_df = metric_df.reindex(versions)\n",
        "metric_df['new_isbns'] = (changed[versions[1:]] == 'added').sum().reindex(metric_df.index)\n",
        "metric_df['dropped_isbns'] = (changed[versions[1:]] == 'dropped').sum().reindex(metric_df.index)\n",
        "metric_df['changed_isbns'] = (changed[versions[1:]] == 'changed').sum().reindex(metric_df.index)\n",
        "metric_df"
      ],
      "id": "cell-trajectory-metrics"
    },
    {
      "cell_type": "markdown",
      "metadata": {},
      "source": [
        "The biggest change is that the July 2022 update introduced a large\n",
        "number (8.2M) of new ISBNs, with more new ISBns in later updates. July\n",
        "2022 incorporated more current book data, and changed the ISBN parsing\n",
        "logic, so it is not surprising.\n",
        "\n",
        "Let’s save these book changes to a file for future re-analysis:"
      ],
      "id": "76bbb240-fab1-4bf7-9055-cbe8a9c414ad"
    },
    {
      "cell_type": "code",
      "execution_count": 13,
      "metadata": {},
      "outputs": [],
      "source": [
        "changed.to_parquet('isbn-cluster-changes.parquet', compression='zstd')"
      ],
      "id": "save-trajectories"
    },
    {
      "cell_type": "markdown",
      "metadata": {},
      "source": [
        "## Final Saved Metrics\n",
        "\n",
        "Now we’re going to save this metric file to a CSV."
      ],
      "id": "f0c88460-79fa-4c5a-8d21-09a276b1a900"
    },
    {
      "cell_type": "code",
      "execution_count": 14,
      "metadata": {},
      "outputs": [],
      "source": [
        "metrics.to_csv('audit-metrics.csv')"
      ],
      "id": "7306624e"
    }
  ],
  "nbformat": 4,
  "nbformat_minor": 5,
  "metadata": {
    "kernelspec": {
      "name": "python3",
      "display_name": "Python 3 (ipykernel)",
      "language": "python",
      "path": "/pit/research/bookdata-tools/.pixi/envs/dev/share/jupyter/kernels/python3"
    },
    "language_info": {
      "name": "python",
      "codemirror_mode": {
        "name": "ipython",
        "version": "3"
      },
      "file_extension": ".py",
      "mimetype": "text/x-python",
      "nbconvert_exporter": "python",
      "pygments_lexer": "ipython3",
      "version": "3.12.9"
    }
  }
}
