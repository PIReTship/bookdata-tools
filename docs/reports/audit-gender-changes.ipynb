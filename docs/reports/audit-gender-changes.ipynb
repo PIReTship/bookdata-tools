{
 "cells": [
  {
   "cell_type": "markdown",
   "id": "7064a8ec",
   "metadata": {},
   "source": [
    "# Cluster Gender Changes\n",
    "\n",
    "This notebook audits for significant changes in cluster gender annotations, to allow us to detect the significance of shifts over time.  It depends on the aligned cluster identities in `isbn-version-clusters.parquet`."
   ]
  },
  {
   "cell_type": "code",
   "execution_count": 1,
   "id": "52bc3d22",
   "metadata": {
    "execution": {
     "iopub.execute_input": "2023-02-19T01:58:01.386883Z",
     "iopub.status.busy": "2023-02-19T01:58:01.386698Z",
     "iopub.status.idle": "2023-02-19T01:58:01.391215Z",
     "shell.execute_reply": "2023-02-19T01:58:01.390898Z"
    }
   },
   "outputs": [],
   "source": [
    "from pathlib import Path\n",
    "from functools import reduce"
   ]
  },
  {
   "cell_type": "code",
   "execution_count": 2,
   "id": "57bcd0b8",
   "metadata": {
    "execution": {
     "iopub.execute_input": "2023-02-19T01:58:01.392758Z",
     "iopub.status.busy": "2023-02-19T01:58:01.392618Z",
     "iopub.status.idle": "2023-02-19T01:58:01.804553Z",
     "shell.execute_reply": "2023-02-19T01:58:01.804100Z"
    }
   },
   "outputs": [],
   "source": [
    "import pandas as pd\n",
    "import polars as pl\n",
    "import numpy as np\n",
    "import matplotlib.pyplot as plt"
   ]
  },
  {
   "cell_type": "markdown",
   "id": "bbc44f05",
   "metadata": {},
   "source": [
    "## Load Data\n",
    "\n",
    "Define the versions we care about:"
   ]
  },
  {
   "cell_type": "code",
   "execution_count": 3,
   "id": "dbdbbe9a",
   "metadata": {
    "execution": {
     "iopub.execute_input": "2023-02-19T01:58:01.806506Z",
     "iopub.status.busy": "2023-02-19T01:58:01.806305Z",
     "iopub.status.idle": "2023-02-19T01:58:01.809005Z",
     "shell.execute_reply": "2023-02-19T01:58:01.808563Z"
    }
   },
   "outputs": [],
   "source": [
    "versions = ['pgsql', '2022-03-2.0', '2022-07', '2022-10', '2022-11-2.1', 'current']"
   ]
  },
  {
   "cell_type": "markdown",
   "id": "e6b9caf8",
   "metadata": {},
   "source": [
    "Load the aligned ISBNs:"
   ]
  },
  {
   "cell_type": "code",
   "execution_count": 4,
   "id": "bb09fb54",
   "metadata": {
    "execution": {
     "iopub.execute_input": "2023-02-19T01:58:01.810656Z",
     "iopub.status.busy": "2023-02-19T01:58:01.810502Z",
     "iopub.status.idle": "2023-02-19T01:58:08.217785Z",
     "shell.execute_reply": "2023-02-19T01:58:08.217312Z"
    }
   },
   "outputs": [
    {
     "name": "stdout",
     "output_type": "stream",
     "text": [
      "<class 'pandas.core.frame.DataFrame'>\n",
      "RangeIndex: 33538726 entries, 0 to 33538725\n",
      "Data columns (total 8 columns):\n",
      " #   Column       Dtype  \n",
      "---  ------       -----  \n",
      " 0   isbn         object \n",
      " 1   isbn_id      int32  \n",
      " 2   current      float64\n",
      " 3   2022-11-2.1  float64\n",
      " 4   2022-10      float64\n",
      " 5   2022-07      float64\n",
      " 6   2022-03-2.0  float64\n",
      " 7   pgsql        float64\n",
      "dtypes: float64(6), int32(1), object(1)\n",
      "memory usage: 1.9+ GB\n"
     ]
    }
   ],
   "source": [
    "isbn_clusters = pd.read_parquet('isbn-version-clusters.parquet')\n",
    "isbn_clusters.info()"
   ]
  },
  {
   "cell_type": "markdown",
   "id": "e1acf69b",
   "metadata": {},
   "source": [
    "## Different Genders\n",
    "\n",
    "How many clusters changed gender?\n",
    "\n",
    "To get started, we need a list of genders in order."
   ]
  },
  {
   "cell_type": "code",
   "execution_count": 5,
   "id": "233a42af",
   "metadata": {
    "execution": {
     "iopub.execute_input": "2023-02-19T01:58:08.219261Z",
     "iopub.status.busy": "2023-02-19T01:58:08.219131Z",
     "iopub.status.idle": "2023-02-19T01:58:08.221307Z",
     "shell.execute_reply": "2023-02-19T01:58:08.220945Z"
    }
   },
   "outputs": [],
   "source": [
    "genders = [\n",
    "    'ambiguous', 'female', 'male', 'unknown',\n",
    "    'no-author-rec', 'no-book-author', 'no-book', 'absent'\n",
    "]"
   ]
  },
  {
   "cell_type": "markdown",
   "id": "f3ab075b",
   "metadata": {},
   "source": [
    "Let's make a function to read gender info:"
   ]
  },
  {
   "cell_type": "code",
   "execution_count": 6,
   "id": "bb65bcc8",
   "metadata": {
    "execution": {
     "iopub.execute_input": "2023-02-19T01:58:08.222656Z",
     "iopub.status.busy": "2023-02-19T01:58:08.222530Z",
     "iopub.status.idle": "2023-02-19T01:58:08.225780Z",
     "shell.execute_reply": "2023-02-19T01:58:08.225357Z"
    }
   },
   "outputs": [],
   "source": [
    "def read_gender(path, map_file=None):\n",
    "    cg = pl.scan_parquet(path)\n",
    "    cg = cg.select([\n",
    "        pl.col('cluster').cast(pl.Int32),\n",
    "        pl.when(pl.col('gender') == 'no-loc-author')\n",
    "            .then('no-book-author')\n",
    "            .when(pl.col('gender') == 'no-viaf-author')\n",
    "            .then('no-author-rec')\n",
    "            .otherwise(pl.col('gender'))\n",
    "            .cast(pl.Categorical)\n",
    "            .alias('gender')\n",
    "    ])\n",
    "    if map_file is not None:\n",
    "        map = pl.scan_parquet(map_file)\n",
    "        cg = cg.join(map, on='cluster', how='left')\n",
    "        cg = cg.select([\n",
    "            pl.col('common').alias('cluster'),\n",
    "            pl.col('gender')\n",
    "        ])\n",
    "    return cg"
   ]
  },
  {
   "cell_type": "markdown",
   "id": "683f914e",
   "metadata": {},
   "source": [
    "Read each data source's gender info and map to common cluster IDs:"
   ]
  },
  {
   "cell_type": "code",
   "execution_count": 7,
   "id": "a044b0ae",
   "metadata": {
    "execution": {
     "iopub.execute_input": "2023-02-19T01:58:08.227079Z",
     "iopub.status.busy": "2023-02-19T01:58:08.226960Z",
     "iopub.status.idle": "2023-02-19T01:58:08.357173Z",
     "shell.execute_reply": "2023-02-19T01:58:08.356725Z"
    }
   },
   "outputs": [],
   "source": [
    "gender_cc = {\n",
    "    v: read_gender(f'{v}/cluster-genders.parquet', f'cluster-map-{v}.parquet')\n",
    "    for v in versions if v != 'current'\n",
    "}\n",
    "gender_cc['current'] = read_gender('../book-links/cluster-genders.parquet')"
   ]
  },
  {
   "cell_type": "markdown",
   "id": "b667c884",
   "metadata": {},
   "source": [
    "Set up a sequence of frames for merging:"
   ]
  },
  {
   "cell_type": "code",
   "execution_count": 8,
   "id": "ed14d185",
   "metadata": {
    "execution": {
     "iopub.execute_input": "2023-02-19T01:58:08.358773Z",
     "iopub.status.busy": "2023-02-19T01:58:08.358652Z",
     "iopub.status.idle": "2023-02-19T01:58:08.361545Z",
     "shell.execute_reply": "2023-02-19T01:58:08.361134Z"
    }
   },
   "outputs": [
    {
     "name": "stderr",
     "output_type": "stream",
     "text": [
      "/tmp/ipykernel_203590/102152750.py:5: DeprecationWarning: All arguments of LazyFrame.unique except for 'subset' will be keyword-only in the next breaking release. Use keyword arguments to silence this warning.\n",
      "  ]).unique(False)\n"
     ]
    }
   ],
   "source": [
    "to_merge = [\n",
    "    gender_cc[v].select([\n",
    "        pl.col('cluster'),\n",
    "        pl.col('gender').alias(v)\n",
    "    ]).unique(False)\n",
    "    for v in versions\n",
    "]"
   ]
  },
  {
   "cell_type": "markdown",
   "id": "dbce455d",
   "metadata": {},
   "source": [
    "Merge and collect results:"
   ]
  },
  {
   "cell_type": "code",
   "execution_count": 9,
   "id": "c50a05e0",
   "metadata": {
    "execution": {
     "iopub.execute_input": "2023-02-19T01:58:08.362834Z",
     "iopub.status.busy": "2023-02-19T01:58:08.362717Z",
     "iopub.status.idle": "2023-02-19T01:58:55.538636Z",
     "shell.execute_reply": "2023-02-19T01:58:55.538144Z"
    }
   },
   "outputs": [],
   "source": [
    "cluster_genders = reduce(lambda df1, df2: df1.join(df2, on='cluster', how='outer'), to_merge)\n",
    "cluster_genders = cluster_genders.collect()"
   ]
  },
  {
   "cell_type": "markdown",
   "id": "3c1df016",
   "metadata": {},
   "source": [
    "For unclear reasons, a few versions have a null cluster. Drop that."
   ]
  },
  {
   "cell_type": "code",
   "execution_count": 10,
   "id": "fdf7468b",
   "metadata": {
    "execution": {
     "iopub.execute_input": "2023-02-19T01:58:55.540340Z",
     "iopub.status.busy": "2023-02-19T01:58:55.540131Z",
     "iopub.status.idle": "2023-02-19T01:58:55.625599Z",
     "shell.execute_reply": "2023-02-19T01:58:55.625111Z"
    }
   },
   "outputs": [],
   "source": [
    "cluster_genders = cluster_genders.filter(cluster_genders['cluster'].is_not_null())"
   ]
  },
  {
   "cell_type": "markdown",
   "id": "22e6acd1",
   "metadata": {},
   "source": [
    "Now we will convert to Pandas and fix missing values:"
   ]
  },
  {
   "cell_type": "code",
   "execution_count": 11,
   "id": "64036604",
   "metadata": {
    "execution": {
     "iopub.execute_input": "2023-02-19T01:58:55.627235Z",
     "iopub.status.busy": "2023-02-19T01:58:55.627107Z",
     "iopub.status.idle": "2023-02-19T01:58:57.482004Z",
     "shell.execute_reply": "2023-02-19T01:58:57.481442Z"
    }
   },
   "outputs": [],
   "source": [
    "cluster_genders = cluster_genders.to_pandas().set_index('cluster')"
   ]
  },
  {
   "cell_type": "markdown",
   "id": "e4bca888",
   "metadata": {},
   "source": [
    "Now we'll unify the categories and their orders:"
   ]
  },
  {
   "cell_type": "code",
   "execution_count": 12,
   "id": "58621e96",
   "metadata": {
    "execution": {
     "iopub.execute_input": "2023-02-19T01:58:57.483837Z",
     "iopub.status.busy": "2023-02-19T01:58:57.483684Z",
     "iopub.status.idle": "2023-02-19T01:58:59.083519Z",
     "shell.execute_reply": "2023-02-19T01:58:59.083187Z"
    }
   },
   "outputs": [
    {
     "data": {
      "text/html": [
       "<div>\n",
       "<style scoped>\n",
       "    .dataframe tbody tr th:only-of-type {\n",
       "        vertical-align: middle;\n",
       "    }\n",
       "\n",
       "    .dataframe tbody tr th {\n",
       "        vertical-align: top;\n",
       "    }\n",
       "\n",
       "    .dataframe thead th {\n",
       "        text-align: right;\n",
       "    }\n",
       "</style>\n",
       "<table border=\"1\" class=\"dataframe\">\n",
       "  <thead>\n",
       "    <tr style=\"text-align: right;\">\n",
       "      <th></th>\n",
       "      <th>pgsql</th>\n",
       "      <th>2022-03-2.0</th>\n",
       "      <th>2022-07</th>\n",
       "      <th>2022-10</th>\n",
       "      <th>2022-11-2.1</th>\n",
       "      <th>current</th>\n",
       "    </tr>\n",
       "    <tr>\n",
       "      <th>cluster</th>\n",
       "      <th></th>\n",
       "      <th></th>\n",
       "      <th></th>\n",
       "      <th></th>\n",
       "      <th></th>\n",
       "      <th></th>\n",
       "    </tr>\n",
       "  </thead>\n",
       "  <tbody>\n",
       "    <tr>\n",
       "      <th>302589224</th>\n",
       "      <td>absent</td>\n",
       "      <td>absent</td>\n",
       "      <td>absent</td>\n",
       "      <td>absent</td>\n",
       "      <td>absent</td>\n",
       "      <td>no-book-author</td>\n",
       "    </tr>\n",
       "    <tr>\n",
       "      <th>101205744</th>\n",
       "      <td>male</td>\n",
       "      <td>male</td>\n",
       "      <td>male</td>\n",
       "      <td>male</td>\n",
       "      <td>male</td>\n",
       "      <td>male</td>\n",
       "    </tr>\n",
       "    <tr>\n",
       "      <th>117642016</th>\n",
       "      <td>absent</td>\n",
       "      <td>absent</td>\n",
       "      <td>no-author-rec</td>\n",
       "      <td>no-author-rec</td>\n",
       "      <td>no-author-rec</td>\n",
       "      <td>no-author-rec</td>\n",
       "    </tr>\n",
       "    <tr>\n",
       "      <th>407943760</th>\n",
       "      <td>no-book-author</td>\n",
       "      <td>no-book-author</td>\n",
       "      <td>no-book-author</td>\n",
       "      <td>no-book-author</td>\n",
       "      <td>no-book-author</td>\n",
       "      <td>no-book-author</td>\n",
       "    </tr>\n",
       "    <tr>\n",
       "      <th>100620168</th>\n",
       "      <td>no-book-author</td>\n",
       "      <td>no-book-author</td>\n",
       "      <td>no-book-author</td>\n",
       "      <td>no-book-author</td>\n",
       "      <td>no-book-author</td>\n",
       "      <td>no-book-author</td>\n",
       "    </tr>\n",
       "  </tbody>\n",
       "</table>\n",
       "</div>"
      ],
      "text/plain": [
       "                    pgsql     2022-03-2.0         2022-07         2022-10  \\\n",
       "cluster                                                                     \n",
       "302589224          absent          absent          absent          absent   \n",
       "101205744            male            male            male            male   \n",
       "117642016          absent          absent   no-author-rec   no-author-rec   \n",
       "407943760  no-book-author  no-book-author  no-book-author  no-book-author   \n",
       "100620168  no-book-author  no-book-author  no-book-author  no-book-author   \n",
       "\n",
       "              2022-11-2.1         current  \n",
       "cluster                                    \n",
       "302589224          absent  no-book-author  \n",
       "101205744            male            male  \n",
       "117642016   no-author-rec   no-author-rec  \n",
       "407943760  no-book-author  no-book-author  \n",
       "100620168  no-book-author  no-book-author  "
      ]
     },
     "execution_count": 12,
     "metadata": {},
     "output_type": "execute_result"
    }
   ],
   "source": [
    "cluster_genders = cluster_genders.apply(lambda vdf: vdf.cat.set_categories(genders, ordered=True))\n",
    "cluster_genders.fillna('absent', inplace=True)\n",
    "cluster_genders.head()"
   ]
  },
  {
   "cell_type": "markdown",
   "id": "4fe0ffb2",
   "metadata": {},
   "source": [
    "Let's save this file for further analysis:"
   ]
  },
  {
   "cell_type": "code",
   "execution_count": 13,
   "id": "b168ce81",
   "metadata": {
    "execution": {
     "iopub.execute_input": "2023-02-19T01:58:59.085132Z",
     "iopub.status.busy": "2023-02-19T01:58:59.084984Z",
     "iopub.status.idle": "2023-02-19T01:59:01.684714Z",
     "shell.execute_reply": "2023-02-19T01:59:01.684236Z"
    }
   },
   "outputs": [],
   "source": [
    "cluster_genders.to_parquet('cluster-version-genders.parquet', compression='zstd')"
   ]
  },
  {
   "cell_type": "markdown",
   "id": "59ab8dc5",
   "metadata": {},
   "source": [
    "## PostgreSQL to Current\n",
    "\n",
    "Now we are ready to actually compare cluster genders across categories. Let's start by comparing original data (PostgreSQL) to current:"
   ]
  },
  {
   "cell_type": "code",
   "execution_count": 14,
   "id": "30dda4df",
   "metadata": {
    "execution": {
     "iopub.execute_input": "2023-02-19T01:59:01.686363Z",
     "iopub.status.busy": "2023-02-19T01:59:01.686200Z",
     "iopub.status.idle": "2023-02-19T01:59:02.149964Z",
     "shell.execute_reply": "2023-02-19T01:59:02.149470Z"
    }
   },
   "outputs": [
    {
     "data": {
      "text/html": [
       "<div>\n",
       "<style scoped>\n",
       "    .dataframe tbody tr th:only-of-type {\n",
       "        vertical-align: middle;\n",
       "    }\n",
       "\n",
       "    .dataframe tbody tr th {\n",
       "        vertical-align: top;\n",
       "    }\n",
       "\n",
       "    .dataframe thead th {\n",
       "        text-align: right;\n",
       "    }\n",
       "</style>\n",
       "<table border=\"1\" class=\"dataframe\">\n",
       "  <thead>\n",
       "    <tr style=\"text-align: right;\">\n",
       "      <th>current</th>\n",
       "      <th>ambiguous</th>\n",
       "      <th>female</th>\n",
       "      <th>male</th>\n",
       "      <th>unknown</th>\n",
       "      <th>no-author-rec</th>\n",
       "      <th>no-book-author</th>\n",
       "      <th>no-book</th>\n",
       "      <th>absent</th>\n",
       "    </tr>\n",
       "    <tr>\n",
       "      <th>pgsql</th>\n",
       "      <th></th>\n",
       "      <th></th>\n",
       "      <th></th>\n",
       "      <th></th>\n",
       "      <th></th>\n",
       "      <th></th>\n",
       "      <th></th>\n",
       "      <th></th>\n",
       "    </tr>\n",
       "  </thead>\n",
       "  <tbody>\n",
       "    <tr>\n",
       "      <th>ambiguous</th>\n",
       "      <td>102786.0</td>\n",
       "      <td>4575.0</td>\n",
       "      <td>10492.0</td>\n",
       "      <td>1788.0</td>\n",
       "      <td>980.0</td>\n",
       "      <td>11.0</td>\n",
       "      <td>4.0</td>\n",
       "      <td>3572.0</td>\n",
       "    </tr>\n",
       "    <tr>\n",
       "      <th>female</th>\n",
       "      <td>13035.0</td>\n",
       "      <td>1136097.0</td>\n",
       "      <td>828.0</td>\n",
       "      <td>10107.0</td>\n",
       "      <td>9856.0</td>\n",
       "      <td>6.0</td>\n",
       "      <td>30.0</td>\n",
       "      <td>24152.0</td>\n",
       "    </tr>\n",
       "    <tr>\n",
       "      <th>male</th>\n",
       "      <td>23550.0</td>\n",
       "      <td>2868.0</td>\n",
       "      <td>3515645.0</td>\n",
       "      <td>16026.0</td>\n",
       "      <td>31682.0</td>\n",
       "      <td>307.0</td>\n",
       "      <td>138.0</td>\n",
       "      <td>55000.0</td>\n",
       "    </tr>\n",
       "    <tr>\n",
       "      <th>unknown</th>\n",
       "      <td>1994.0</td>\n",
       "      <td>80654.0</td>\n",
       "      <td>168137.0</td>\n",
       "      <td>1617551.0</td>\n",
       "      <td>19640.0</td>\n",
       "      <td>391.0</td>\n",
       "      <td>12.0</td>\n",
       "      <td>11996.0</td>\n",
       "    </tr>\n",
       "    <tr>\n",
       "      <th>no-author-rec</th>\n",
       "      <td>9693.0</td>\n",
       "      <td>55447.0</td>\n",
       "      <td>319211.0</td>\n",
       "      <td>226357.0</td>\n",
       "      <td>1413416.0</td>\n",
       "      <td>319.0</td>\n",
       "      <td>121.0</td>\n",
       "      <td>11130.0</td>\n",
       "    </tr>\n",
       "    <tr>\n",
       "      <th>no-book-author</th>\n",
       "      <td>6285.0</td>\n",
       "      <td>93743.0</td>\n",
       "      <td>181627.0</td>\n",
       "      <td>111842.0</td>\n",
       "      <td>177687.0</td>\n",
       "      <td>2533809.0</td>\n",
       "      <td>950180.0</td>\n",
       "      <td>258900.0</td>\n",
       "    </tr>\n",
       "    <tr>\n",
       "      <th>no-book</th>\n",
       "      <td>NaN</td>\n",
       "      <td>NaN</td>\n",
       "      <td>NaN</td>\n",
       "      <td>NaN</td>\n",
       "      <td>NaN</td>\n",
       "      <td>NaN</td>\n",
       "      <td>NaN</td>\n",
       "      <td>NaN</td>\n",
       "    </tr>\n",
       "    <tr>\n",
       "      <th>absent</th>\n",
       "      <td>60682.0</td>\n",
       "      <td>542445.0</td>\n",
       "      <td>1162935.0</td>\n",
       "      <td>426157.0</td>\n",
       "      <td>1694301.0</td>\n",
       "      <td>14981046.0</td>\n",
       "      <td>790979.0</td>\n",
       "      <td>1752.0</td>\n",
       "    </tr>\n",
       "  </tbody>\n",
       "</table>\n",
       "</div>"
      ],
      "text/plain": [
       "current         ambiguous     female       male    unknown  no-author-rec  \\\n",
       "pgsql                                                                       \n",
       "ambiguous        102786.0     4575.0    10492.0     1788.0          980.0   \n",
       "female            13035.0  1136097.0      828.0    10107.0         9856.0   \n",
       "male              23550.0     2868.0  3515645.0    16026.0        31682.0   \n",
       "unknown            1994.0    80654.0   168137.0  1617551.0        19640.0   \n",
       "no-author-rec      9693.0    55447.0   319211.0   226357.0      1413416.0   \n",
       "no-book-author     6285.0    93743.0   181627.0   111842.0       177687.0   \n",
       "no-book               NaN        NaN        NaN        NaN            NaN   \n",
       "absent            60682.0   542445.0  1162935.0   426157.0      1694301.0   \n",
       "\n",
       "current         no-book-author   no-book    absent  \n",
       "pgsql                                               \n",
       "ambiguous                 11.0       4.0    3572.0  \n",
       "female                     6.0      30.0   24152.0  \n",
       "male                     307.0     138.0   55000.0  \n",
       "unknown                  391.0      12.0   11996.0  \n",
       "no-author-rec            319.0     121.0   11130.0  \n",
       "no-book-author       2533809.0  950180.0  258900.0  \n",
       "no-book                    NaN       NaN       NaN  \n",
       "absent              14981046.0  790979.0    1752.0  "
      ]
     },
     "execution_count": 14,
     "metadata": {},
     "output_type": "execute_result"
    }
   ],
   "source": [
    "ct = cluster_genders[['pgsql', 'current']].value_counts().unstack()\n",
    "ct = ct.reindex(labels=genders, columns=genders)\n",
    "ct"
   ]
  },
  {
   "cell_type": "code",
   "execution_count": 15,
   "id": "cd62df2f",
   "metadata": {
    "execution": {
     "iopub.execute_input": "2023-02-19T01:59:02.151508Z",
     "iopub.status.busy": "2023-02-19T01:59:02.151353Z",
     "iopub.status.idle": "2023-02-19T01:59:02.186808Z",
     "shell.execute_reply": "2023-02-19T01:59:02.186365Z"
    }
   },
   "outputs": [
    {
     "data": {
      "text/html": [
       "<style type=\"text/css\">\n",
       "#T_4f3e6_row0_col0, #T_4f3e6_row1_col1, #T_4f3e6_row2_col2, #T_4f3e6_row3_col3, #T_4f3e6_row4_col4, #T_4f3e6_row5_col5, #T_4f3e6_row6_col6, #T_4f3e6_row7_col7 {\n",
       "  font-weight: bold;\n",
       "}\n",
       "#T_4f3e6_row4_col2, #T_4f3e6_row4_col3, #T_4f3e6_row5_col6, #T_4f3e6_row7_col5 {\n",
       "  color: red;\n",
       "}\n",
       "</style>\n",
       "<table id=\"T_4f3e6\">\n",
       "  <thead>\n",
       "    <tr>\n",
       "      <th class=\"index_name level0\" >current</th>\n",
       "      <th id=\"T_4f3e6_level0_col0\" class=\"col_heading level0 col0\" >ambiguous</th>\n",
       "      <th id=\"T_4f3e6_level0_col1\" class=\"col_heading level0 col1\" >female</th>\n",
       "      <th id=\"T_4f3e6_level0_col2\" class=\"col_heading level0 col2\" >male</th>\n",
       "      <th id=\"T_4f3e6_level0_col3\" class=\"col_heading level0 col3\" >unknown</th>\n",
       "      <th id=\"T_4f3e6_level0_col4\" class=\"col_heading level0 col4\" >no-author-rec</th>\n",
       "      <th id=\"T_4f3e6_level0_col5\" class=\"col_heading level0 col5\" >no-book-author</th>\n",
       "      <th id=\"T_4f3e6_level0_col6\" class=\"col_heading level0 col6\" >no-book</th>\n",
       "      <th id=\"T_4f3e6_level0_col7\" class=\"col_heading level0 col7\" >absent</th>\n",
       "    </tr>\n",
       "    <tr>\n",
       "      <th class=\"index_name level0\" >pgsql</th>\n",
       "      <th class=\"blank col0\" >&nbsp;</th>\n",
       "      <th class=\"blank col1\" >&nbsp;</th>\n",
       "      <th class=\"blank col2\" >&nbsp;</th>\n",
       "      <th class=\"blank col3\" >&nbsp;</th>\n",
       "      <th class=\"blank col4\" >&nbsp;</th>\n",
       "      <th class=\"blank col5\" >&nbsp;</th>\n",
       "      <th class=\"blank col6\" >&nbsp;</th>\n",
       "      <th class=\"blank col7\" >&nbsp;</th>\n",
       "    </tr>\n",
       "  </thead>\n",
       "  <tbody>\n",
       "    <tr>\n",
       "      <th id=\"T_4f3e6_level0_row0\" class=\"row_heading level0 row0\" >ambiguous</th>\n",
       "      <td id=\"T_4f3e6_row0_col0\" class=\"data row0 col0\" >0.827531</td>\n",
       "      <td id=\"T_4f3e6_row0_col1\" class=\"data row0 col1\" >0.036833</td>\n",
       "      <td id=\"T_4f3e6_row0_col2\" class=\"data row0 col2\" >0.084471</td>\n",
       "      <td id=\"T_4f3e6_row0_col3\" class=\"data row0 col3\" >0.014395</td>\n",
       "      <td id=\"T_4f3e6_row0_col4\" class=\"data row0 col4\" >0.007890</td>\n",
       "      <td id=\"T_4f3e6_row0_col5\" class=\"data row0 col5\" >0.000089</td>\n",
       "      <td id=\"T_4f3e6_row0_col6\" class=\"data row0 col6\" >0.000032</td>\n",
       "      <td id=\"T_4f3e6_row0_col7\" class=\"data row0 col7\" >0.028758</td>\n",
       "    </tr>\n",
       "    <tr>\n",
       "      <th id=\"T_4f3e6_level0_row1\" class=\"row_heading level0 row1\" >female</th>\n",
       "      <td id=\"T_4f3e6_row1_col0\" class=\"data row1 col0\" >0.010916</td>\n",
       "      <td id=\"T_4f3e6_row1_col1\" class=\"data row1 col1\" >0.951417</td>\n",
       "      <td id=\"T_4f3e6_row1_col2\" class=\"data row1 col2\" >0.000693</td>\n",
       "      <td id=\"T_4f3e6_row1_col3\" class=\"data row1 col3\" >0.008464</td>\n",
       "      <td id=\"T_4f3e6_row1_col4\" class=\"data row1 col4\" >0.008254</td>\n",
       "      <td id=\"T_4f3e6_row1_col5\" class=\"data row1 col5\" >0.000005</td>\n",
       "      <td id=\"T_4f3e6_row1_col6\" class=\"data row1 col6\" >0.000025</td>\n",
       "      <td id=\"T_4f3e6_row1_col7\" class=\"data row1 col7\" >0.020226</td>\n",
       "    </tr>\n",
       "    <tr>\n",
       "      <th id=\"T_4f3e6_level0_row2\" class=\"row_heading level0 row2\" >male</th>\n",
       "      <td id=\"T_4f3e6_row2_col0\" class=\"data row2 col0\" >0.006461</td>\n",
       "      <td id=\"T_4f3e6_row2_col1\" class=\"data row2 col1\" >0.000787</td>\n",
       "      <td id=\"T_4f3e6_row2_col2\" class=\"data row2 col2\" >0.964455</td>\n",
       "      <td id=\"T_4f3e6_row2_col3\" class=\"data row2 col3\" >0.004396</td>\n",
       "      <td id=\"T_4f3e6_row2_col4\" class=\"data row2 col4\" >0.008691</td>\n",
       "      <td id=\"T_4f3e6_row2_col5\" class=\"data row2 col5\" >0.000084</td>\n",
       "      <td id=\"T_4f3e6_row2_col6\" class=\"data row2 col6\" >0.000038</td>\n",
       "      <td id=\"T_4f3e6_row2_col7\" class=\"data row2 col7\" >0.015088</td>\n",
       "    </tr>\n",
       "    <tr>\n",
       "      <th id=\"T_4f3e6_level0_row3\" class=\"row_heading level0 row3\" >unknown</th>\n",
       "      <td id=\"T_4f3e6_row3_col0\" class=\"data row3 col0\" >0.001049</td>\n",
       "      <td id=\"T_4f3e6_row3_col1\" class=\"data row3 col1\" >0.042441</td>\n",
       "      <td id=\"T_4f3e6_row3_col2\" class=\"data row3 col2\" >0.088476</td>\n",
       "      <td id=\"T_4f3e6_row3_col3\" class=\"data row3 col3\" >0.851175</td>\n",
       "      <td id=\"T_4f3e6_row3_col4\" class=\"data row3 col4\" >0.010335</td>\n",
       "      <td id=\"T_4f3e6_row3_col5\" class=\"data row3 col5\" >0.000206</td>\n",
       "      <td id=\"T_4f3e6_row3_col6\" class=\"data row3 col6\" >0.000006</td>\n",
       "      <td id=\"T_4f3e6_row3_col7\" class=\"data row3 col7\" >0.006312</td>\n",
       "    </tr>\n",
       "    <tr>\n",
       "      <th id=\"T_4f3e6_level0_row4\" class=\"row_heading level0 row4\" >no-author-rec</th>\n",
       "      <td id=\"T_4f3e6_row4_col0\" class=\"data row4 col0\" >0.004762</td>\n",
       "      <td id=\"T_4f3e6_row4_col1\" class=\"data row4 col1\" >0.027237</td>\n",
       "      <td id=\"T_4f3e6_row4_col2\" class=\"data row4 col2\" >0.156807</td>\n",
       "      <td id=\"T_4f3e6_row4_col3\" class=\"data row4 col3\" >0.111194</td>\n",
       "      <td id=\"T_4f3e6_row4_col4\" class=\"data row4 col4\" >0.694317</td>\n",
       "      <td id=\"T_4f3e6_row4_col5\" class=\"data row4 col5\" >0.000157</td>\n",
       "      <td id=\"T_4f3e6_row4_col6\" class=\"data row4 col6\" >0.000059</td>\n",
       "      <td id=\"T_4f3e6_row4_col7\" class=\"data row4 col7\" >0.005467</td>\n",
       "    </tr>\n",
       "    <tr>\n",
       "      <th id=\"T_4f3e6_level0_row5\" class=\"row_heading level0 row5\" >no-book-author</th>\n",
       "      <td id=\"T_4f3e6_row5_col0\" class=\"data row5 col0\" >0.001457</td>\n",
       "      <td id=\"T_4f3e6_row5_col1\" class=\"data row5 col1\" >0.021730</td>\n",
       "      <td id=\"T_4f3e6_row5_col2\" class=\"data row5 col2\" >0.042101</td>\n",
       "      <td id=\"T_4f3e6_row5_col3\" class=\"data row5 col3\" >0.025925</td>\n",
       "      <td id=\"T_4f3e6_row5_col4\" class=\"data row5 col4\" >0.041188</td>\n",
       "      <td id=\"T_4f3e6_row5_col5\" class=\"data row5 col5\" >0.587336</td>\n",
       "      <td id=\"T_4f3e6_row5_col6\" class=\"data row5 col6\" >0.220251</td>\n",
       "      <td id=\"T_4f3e6_row5_col7\" class=\"data row5 col7\" >0.060013</td>\n",
       "    </tr>\n",
       "    <tr>\n",
       "      <th id=\"T_4f3e6_level0_row6\" class=\"row_heading level0 row6\" >no-book</th>\n",
       "      <td id=\"T_4f3e6_row6_col0\" class=\"data row6 col0\" >nan</td>\n",
       "      <td id=\"T_4f3e6_row6_col1\" class=\"data row6 col1\" >nan</td>\n",
       "      <td id=\"T_4f3e6_row6_col2\" class=\"data row6 col2\" >nan</td>\n",
       "      <td id=\"T_4f3e6_row6_col3\" class=\"data row6 col3\" >nan</td>\n",
       "      <td id=\"T_4f3e6_row6_col4\" class=\"data row6 col4\" >nan</td>\n",
       "      <td id=\"T_4f3e6_row6_col5\" class=\"data row6 col5\" >nan</td>\n",
       "      <td id=\"T_4f3e6_row6_col6\" class=\"data row6 col6\" >nan</td>\n",
       "      <td id=\"T_4f3e6_row6_col7\" class=\"data row6 col7\" >nan</td>\n",
       "    </tr>\n",
       "    <tr>\n",
       "      <th id=\"T_4f3e6_level0_row7\" class=\"row_heading level0 row7\" >absent</th>\n",
       "      <td id=\"T_4f3e6_row7_col0\" class=\"data row7 col0\" >0.003087</td>\n",
       "      <td id=\"T_4f3e6_row7_col1\" class=\"data row7 col1\" >0.027591</td>\n",
       "      <td id=\"T_4f3e6_row7_col2\" class=\"data row7 col2\" >0.059151</td>\n",
       "      <td id=\"T_4f3e6_row7_col3\" class=\"data row7 col3\" >0.021676</td>\n",
       "      <td id=\"T_4f3e6_row7_col4\" class=\"data row7 col4\" >0.086179</td>\n",
       "      <td id=\"T_4f3e6_row7_col5\" class=\"data row7 col5\" >0.761995</td>\n",
       "      <td id=\"T_4f3e6_row7_col6\" class=\"data row7 col6\" >0.040232</td>\n",
       "      <td id=\"T_4f3e6_row7_col7\" class=\"data row7 col7\" >0.000089</td>\n",
       "    </tr>\n",
       "  </tbody>\n",
       "</table>\n"
      ],
      "text/plain": [
       "<pandas.io.formats.style.Styler at 0x7f1269916080>"
      ]
     },
     "execution_count": 15,
     "metadata": {},
     "output_type": "execute_result"
    }
   ],
   "source": [
    "ctf = ct.divide(ct.sum(axis='columns'), axis='rows')\n",
    "def style_row(row):\n",
    "    styles = []\n",
    "    for col, val in zip(row.index, row.values):\n",
    "        if col == row.name:\n",
    "            styles.append('font-weight: bold')\n",
    "        elif val > 0.1:\n",
    "            styles.append('color: red')\n",
    "        else:\n",
    "            styles.append(None)\n",
    "    return styles\n",
    "ctf.style.apply(style_row, 'columns')"
   ]
  },
  {
   "cell_type": "markdown",
   "id": "8ff0433d",
   "metadata": {},
   "source": [
    "Most of the change is coming from clusters absent in the original but present in the new.\n",
    "\n",
    "There are also quite a few that had no book author in PGSQL, but no book in the current data - not sure what's up with that.  Let's look at more crosstabs."
   ]
  },
  {
   "cell_type": "code",
   "execution_count": 16,
   "id": "225275ef",
   "metadata": {
    "execution": {
     "iopub.execute_input": "2023-02-19T01:59:02.188395Z",
     "iopub.status.busy": "2023-02-19T01:59:02.188244Z",
     "iopub.status.idle": "2023-02-19T01:59:02.191089Z",
     "shell.execute_reply": "2023-02-19T01:59:02.190692Z"
    }
   },
   "outputs": [],
   "source": [
    "def gender_crosstab(old, new, fractional=True):\n",
    "    ct = cluster_genders[[old, new]].value_counts().unstack()\n",
    "    ct = ct.reindex(labels=genders, columns=genders)\n",
    "\n",
    "    if fractional:\n",
    "        ctf = ct.divide(ct.sum(axis='columns'), axis='rows')\n",
    "        return ctf\n",
    "    else:\n",
    "        return ct"
   ]
  },
  {
   "cell_type": "markdown",
   "id": "84eeb6bc",
   "metadata": {},
   "source": [
    "## PostgreSQL to March 2022 (2.0 release)\n",
    "\n",
    "This marks the change from PostgreSQL to pure-Rust."
   ]
  },
  {
   "cell_type": "code",
   "execution_count": 17,
   "id": "3b7d1315",
   "metadata": {
    "execution": {
     "iopub.execute_input": "2023-02-19T01:59:02.192577Z",
     "iopub.status.busy": "2023-02-19T01:59:02.192433Z",
     "iopub.status.idle": "2023-02-19T01:59:02.655095Z",
     "shell.execute_reply": "2023-02-19T01:59:02.654666Z"
    }
   },
   "outputs": [
    {
     "data": {
      "text/html": [
       "<style type=\"text/css\">\n",
       "#T_29f9d_row0_col0, #T_29f9d_row1_col1, #T_29f9d_row2_col2, #T_29f9d_row3_col3, #T_29f9d_row4_col4, #T_29f9d_row5_col5, #T_29f9d_row6_col6, #T_29f9d_row7_col7 {\n",
       "  font-weight: bold;\n",
       "}\n",
       "#T_29f9d_row5_col6 {\n",
       "  color: red;\n",
       "}\n",
       "</style>\n",
       "<table id=\"T_29f9d\">\n",
       "  <thead>\n",
       "    <tr>\n",
       "      <th class=\"index_name level0\" >2022-03-2.0</th>\n",
       "      <th id=\"T_29f9d_level0_col0\" class=\"col_heading level0 col0\" >ambiguous</th>\n",
       "      <th id=\"T_29f9d_level0_col1\" class=\"col_heading level0 col1\" >female</th>\n",
       "      <th id=\"T_29f9d_level0_col2\" class=\"col_heading level0 col2\" >male</th>\n",
       "      <th id=\"T_29f9d_level0_col3\" class=\"col_heading level0 col3\" >unknown</th>\n",
       "      <th id=\"T_29f9d_level0_col4\" class=\"col_heading level0 col4\" >no-author-rec</th>\n",
       "      <th id=\"T_29f9d_level0_col5\" class=\"col_heading level0 col5\" >no-book-author</th>\n",
       "      <th id=\"T_29f9d_level0_col6\" class=\"col_heading level0 col6\" >no-book</th>\n",
       "      <th id=\"T_29f9d_level0_col7\" class=\"col_heading level0 col7\" >absent</th>\n",
       "    </tr>\n",
       "    <tr>\n",
       "      <th class=\"index_name level0\" >pgsql</th>\n",
       "      <th class=\"blank col0\" >&nbsp;</th>\n",
       "      <th class=\"blank col1\" >&nbsp;</th>\n",
       "      <th class=\"blank col2\" >&nbsp;</th>\n",
       "      <th class=\"blank col3\" >&nbsp;</th>\n",
       "      <th class=\"blank col4\" >&nbsp;</th>\n",
       "      <th class=\"blank col5\" >&nbsp;</th>\n",
       "      <th class=\"blank col6\" >&nbsp;</th>\n",
       "      <th class=\"blank col7\" >&nbsp;</th>\n",
       "    </tr>\n",
       "  </thead>\n",
       "  <tbody>\n",
       "    <tr>\n",
       "      <th id=\"T_29f9d_level0_row0\" class=\"row_heading level0 row0\" >ambiguous</th>\n",
       "      <td id=\"T_29f9d_row0_col0\" class=\"data row0 col0\" >0.977892</td>\n",
       "      <td id=\"T_29f9d_row0_col1\" class=\"data row0 col1\" >0.002955</td>\n",
       "      <td id=\"T_29f9d_row0_col2\" class=\"data row0 col2\" >0.013920</td>\n",
       "      <td id=\"T_29f9d_row0_col3\" class=\"data row0 col3\" >0.000636</td>\n",
       "      <td id=\"T_29f9d_row0_col4\" class=\"data row0 col4\" >0.000878</td>\n",
       "      <td id=\"T_29f9d_row0_col5\" class=\"data row0 col5\" >nan</td>\n",
       "      <td id=\"T_29f9d_row0_col6\" class=\"data row0 col6\" >nan</td>\n",
       "      <td id=\"T_29f9d_row0_col7\" class=\"data row0 col7\" >0.003720</td>\n",
       "    </tr>\n",
       "    <tr>\n",
       "      <th id=\"T_29f9d_level0_row1\" class=\"row_heading level0 row1\" >female</th>\n",
       "      <td id=\"T_29f9d_row1_col0\" class=\"data row1 col0\" >0.002192</td>\n",
       "      <td id=\"T_29f9d_row1_col1\" class=\"data row1 col1\" >0.993949</td>\n",
       "      <td id=\"T_29f9d_row1_col2\" class=\"data row1 col2\" >0.000001</td>\n",
       "      <td id=\"T_29f9d_row1_col3\" class=\"data row1 col3\" >0.000301</td>\n",
       "      <td id=\"T_29f9d_row1_col4\" class=\"data row1 col4\" >0.000430</td>\n",
       "      <td id=\"T_29f9d_row1_col5\" class=\"data row1 col5\" >0.000003</td>\n",
       "      <td id=\"T_29f9d_row1_col6\" class=\"data row1 col6\" >0.000005</td>\n",
       "      <td id=\"T_29f9d_row1_col7\" class=\"data row1 col7\" >0.003119</td>\n",
       "    </tr>\n",
       "    <tr>\n",
       "      <th id=\"T_29f9d_level0_row2\" class=\"row_heading level0 row2\" >male</th>\n",
       "      <td id=\"T_29f9d_row2_col0\" class=\"data row2 col0\" >0.000591</td>\n",
       "      <td id=\"T_29f9d_row2_col1\" class=\"data row2 col1\" >0.000000</td>\n",
       "      <td id=\"T_29f9d_row2_col2\" class=\"data row2 col2\" >0.995942</td>\n",
       "      <td id=\"T_29f9d_row2_col3\" class=\"data row2 col3\" >0.000528</td>\n",
       "      <td id=\"T_29f9d_row2_col4\" class=\"data row2 col4\" >0.000796</td>\n",
       "      <td id=\"T_29f9d_row2_col5\" class=\"data row2 col5\" >0.000002</td>\n",
       "      <td id=\"T_29f9d_row2_col6\" class=\"data row2 col6\" >0.000014</td>\n",
       "      <td id=\"T_29f9d_row2_col7\" class=\"data row2 col7\" >0.002127</td>\n",
       "    </tr>\n",
       "    <tr>\n",
       "      <th id=\"T_29f9d_level0_row3\" class=\"row_heading level0 row3\" >unknown</th>\n",
       "      <td id=\"T_29f9d_row3_col0\" class=\"data row3 col0\" >0.000043</td>\n",
       "      <td id=\"T_29f9d_row3_col1\" class=\"data row3 col1\" >0.002760</td>\n",
       "      <td id=\"T_29f9d_row3_col2\" class=\"data row3 col2\" >0.005305</td>\n",
       "      <td id=\"T_29f9d_row3_col3\" class=\"data row3 col3\" >0.988900</td>\n",
       "      <td id=\"T_29f9d_row3_col4\" class=\"data row3 col4\" >0.001953</td>\n",
       "      <td id=\"T_29f9d_row3_col5\" class=\"data row3 col5\" >0.000001</td>\n",
       "      <td id=\"T_29f9d_row3_col6\" class=\"data row3 col6\" >0.000003</td>\n",
       "      <td id=\"T_29f9d_row3_col7\" class=\"data row3 col7\" >0.001035</td>\n",
       "    </tr>\n",
       "    <tr>\n",
       "      <th id=\"T_29f9d_level0_row4\" class=\"row_heading level0 row4\" >no-author-rec</th>\n",
       "      <td id=\"T_29f9d_row4_col0\" class=\"data row4 col0\" >0.000104</td>\n",
       "      <td id=\"T_29f9d_row4_col1\" class=\"data row4 col1\" >0.007917</td>\n",
       "      <td id=\"T_29f9d_row4_col2\" class=\"data row4 col2\" >0.049966</td>\n",
       "      <td id=\"T_29f9d_row4_col3\" class=\"data row4 col3\" >0.031481</td>\n",
       "      <td id=\"T_29f9d_row4_col4\" class=\"data row4 col4\" >0.908597</td>\n",
       "      <td id=\"T_29f9d_row4_col5\" class=\"data row4 col5\" >nan</td>\n",
       "      <td id=\"T_29f9d_row4_col6\" class=\"data row4 col6\" >0.000008</td>\n",
       "      <td id=\"T_29f9d_row4_col7\" class=\"data row4 col7\" >0.001927</td>\n",
       "    </tr>\n",
       "    <tr>\n",
       "      <th id=\"T_29f9d_level0_row5\" class=\"row_heading level0 row5\" >no-book-author</th>\n",
       "      <td id=\"T_29f9d_row5_col0\" class=\"data row5 col0\" >0.000003</td>\n",
       "      <td id=\"T_29f9d_row5_col1\" class=\"data row5 col1\" >0.000051</td>\n",
       "      <td id=\"T_29f9d_row5_col2\" class=\"data row5 col2\" >0.000198</td>\n",
       "      <td id=\"T_29f9d_row5_col3\" class=\"data row5 col3\" >0.000107</td>\n",
       "      <td id=\"T_29f9d_row5_col4\" class=\"data row5 col4\" >0.000051</td>\n",
       "      <td id=\"T_29f9d_row5_col5\" class=\"data row5 col5\" >0.649174</td>\n",
       "      <td id=\"T_29f9d_row5_col6\" class=\"data row5 col6\" >0.335017</td>\n",
       "      <td id=\"T_29f9d_row5_col7\" class=\"data row5 col7\" >0.015398</td>\n",
       "    </tr>\n",
       "    <tr>\n",
       "      <th id=\"T_29f9d_level0_row6\" class=\"row_heading level0 row6\" >no-book</th>\n",
       "      <td id=\"T_29f9d_row6_col0\" class=\"data row6 col0\" >nan</td>\n",
       "      <td id=\"T_29f9d_row6_col1\" class=\"data row6 col1\" >nan</td>\n",
       "      <td id=\"T_29f9d_row6_col2\" class=\"data row6 col2\" >nan</td>\n",
       "      <td id=\"T_29f9d_row6_col3\" class=\"data row6 col3\" >nan</td>\n",
       "      <td id=\"T_29f9d_row6_col4\" class=\"data row6 col4\" >nan</td>\n",
       "      <td id=\"T_29f9d_row6_col5\" class=\"data row6 col5\" >nan</td>\n",
       "      <td id=\"T_29f9d_row6_col6\" class=\"data row6 col6\" >nan</td>\n",
       "      <td id=\"T_29f9d_row6_col7\" class=\"data row6 col7\" >nan</td>\n",
       "    </tr>\n",
       "    <tr>\n",
       "      <th id=\"T_29f9d_level0_row7\" class=\"row_heading level0 row7\" >absent</th>\n",
       "      <td id=\"T_29f9d_row7_col0\" class=\"data row7 col0\" >0.000009</td>\n",
       "      <td id=\"T_29f9d_row7_col1\" class=\"data row7 col1\" >0.000067</td>\n",
       "      <td id=\"T_29f9d_row7_col2\" class=\"data row7 col2\" >0.000349</td>\n",
       "      <td id=\"T_29f9d_row7_col3\" class=\"data row7 col3\" >0.000164</td>\n",
       "      <td id=\"T_29f9d_row7_col4\" class=\"data row7 col4\" >0.000244</td>\n",
       "      <td id=\"T_29f9d_row7_col5\" class=\"data row7 col5\" >0.002756</td>\n",
       "      <td id=\"T_29f9d_row7_col6\" class=\"data row7 col6\" >0.000096</td>\n",
       "      <td id=\"T_29f9d_row7_col7\" class=\"data row7 col7\" >0.996315</td>\n",
       "    </tr>\n",
       "  </tbody>\n",
       "</table>\n"
      ],
      "text/plain": [
       "<pandas.io.formats.style.Styler at 0x7f15cc143940>"
      ]
     },
     "execution_count": 17,
     "metadata": {},
     "output_type": "execute_result"
    }
   ],
   "source": [
    "ct = gender_crosstab('pgsql', '2022-03-2.0')\n",
    "ct.style.apply(style_row, 'columns')"
   ]
  },
  {
   "cell_type": "markdown",
   "id": "0777b686",
   "metadata": {},
   "source": [
    "This is where we change from no-book-author to no-book for a bunch of books; otherwise things are pretty consistent. This major change is likely a result of changes that count more books and book clusters - we had some inner joins in the PostgreSQL version that were questionable, and in particular we didn't really cluster solo ISBNs but now we do.  But now, if we have a solo ISBN from rating data, it gets a cluster with no book record instead of being excluded from the clustering."
   ]
  },
  {
   "cell_type": "markdown",
   "id": "71904b5c",
   "metadata": {},
   "source": [
    "## March to July 2022\n",
    "\n",
    "We updated a lot of data files and changed the name and ISBN parsing logic."
   ]
  },
  {
   "cell_type": "code",
   "execution_count": 18,
   "id": "30fb2360",
   "metadata": {
    "execution": {
     "iopub.execute_input": "2023-02-19T01:59:02.656771Z",
     "iopub.status.busy": "2023-02-19T01:59:02.656621Z",
     "iopub.status.idle": "2023-02-19T01:59:03.116032Z",
     "shell.execute_reply": "2023-02-19T01:59:03.115604Z"
    }
   },
   "outputs": [
    {
     "data": {
      "text/html": [
       "<style type=\"text/css\">\n",
       "#T_aed64_row0_col0, #T_aed64_row1_col1, #T_aed64_row2_col2, #T_aed64_row3_col3, #T_aed64_row4_col4, #T_aed64_row5_col5, #T_aed64_row6_col6, #T_aed64_row7_col7 {\n",
       "  font-weight: bold;\n",
       "}\n",
       "#T_aed64_row4_col2, #T_aed64_row4_col3 {\n",
       "  color: red;\n",
       "}\n",
       "</style>\n",
       "<table id=\"T_aed64\">\n",
       "  <thead>\n",
       "    <tr>\n",
       "      <th class=\"index_name level0\" >2022-07</th>\n",
       "      <th id=\"T_aed64_level0_col0\" class=\"col_heading level0 col0\" >ambiguous</th>\n",
       "      <th id=\"T_aed64_level0_col1\" class=\"col_heading level0 col1\" >female</th>\n",
       "      <th id=\"T_aed64_level0_col2\" class=\"col_heading level0 col2\" >male</th>\n",
       "      <th id=\"T_aed64_level0_col3\" class=\"col_heading level0 col3\" >unknown</th>\n",
       "      <th id=\"T_aed64_level0_col4\" class=\"col_heading level0 col4\" >no-author-rec</th>\n",
       "      <th id=\"T_aed64_level0_col5\" class=\"col_heading level0 col5\" >no-book-author</th>\n",
       "      <th id=\"T_aed64_level0_col6\" class=\"col_heading level0 col6\" >no-book</th>\n",
       "      <th id=\"T_aed64_level0_col7\" class=\"col_heading level0 col7\" >absent</th>\n",
       "    </tr>\n",
       "    <tr>\n",
       "      <th class=\"index_name level0\" >2022-03-2.0</th>\n",
       "      <th class=\"blank col0\" >&nbsp;</th>\n",
       "      <th class=\"blank col1\" >&nbsp;</th>\n",
       "      <th class=\"blank col2\" >&nbsp;</th>\n",
       "      <th class=\"blank col3\" >&nbsp;</th>\n",
       "      <th class=\"blank col4\" >&nbsp;</th>\n",
       "      <th class=\"blank col5\" >&nbsp;</th>\n",
       "      <th class=\"blank col6\" >&nbsp;</th>\n",
       "      <th class=\"blank col7\" >&nbsp;</th>\n",
       "    </tr>\n",
       "  </thead>\n",
       "  <tbody>\n",
       "    <tr>\n",
       "      <th id=\"T_aed64_level0_row0\" class=\"row_heading level0 row0\" >ambiguous</th>\n",
       "      <td id=\"T_aed64_row0_col0\" class=\"data row0 col0\" >0.836221</td>\n",
       "      <td id=\"T_aed64_row0_col1\" class=\"data row0 col1\" >0.035586</td>\n",
       "      <td id=\"T_aed64_row0_col2\" class=\"data row0 col2\" >0.083579</td>\n",
       "      <td id=\"T_aed64_row0_col3\" class=\"data row0 col3\" >0.014798</td>\n",
       "      <td id=\"T_aed64_row0_col4\" class=\"data row0 col4\" >0.004862</td>\n",
       "      <td id=\"T_aed64_row0_col5\" class=\"data row0 col5\" >0.000087</td>\n",
       "      <td id=\"T_aed64_row0_col6\" class=\"data row0 col6\" >0.000016</td>\n",
       "      <td id=\"T_aed64_row0_col7\" class=\"data row0 col7\" >0.024853</td>\n",
       "    </tr>\n",
       "    <tr>\n",
       "      <th id=\"T_aed64_level0_row1\" class=\"row_heading level0 row1\" >female</th>\n",
       "      <td id=\"T_aed64_row1_col0\" class=\"data row1 col0\" >0.010071</td>\n",
       "      <td id=\"T_aed64_row1_col1\" class=\"data row1 col1\" >0.963215</td>\n",
       "      <td id=\"T_aed64_row1_col2\" class=\"data row1 col2\" >0.000488</td>\n",
       "      <td id=\"T_aed64_row1_col3\" class=\"data row1 col3\" >0.007910</td>\n",
       "      <td id=\"T_aed64_row1_col4\" class=\"data row1 col4\" >0.001254</td>\n",
       "      <td id=\"T_aed64_row1_col5\" class=\"data row1 col5\" >0.000002</td>\n",
       "      <td id=\"T_aed64_row1_col6\" class=\"data row1 col6\" >0.000011</td>\n",
       "      <td id=\"T_aed64_row1_col7\" class=\"data row1 col7\" >0.017050</td>\n",
       "    </tr>\n",
       "    <tr>\n",
       "      <th id=\"T_aed64_level0_row2\" class=\"row_heading level0 row2\" >male</th>\n",
       "      <td id=\"T_aed64_row2_col0\" class=\"data row2 col0\" >0.006706</td>\n",
       "      <td id=\"T_aed64_row2_col1\" class=\"data row2 col1\" >0.000646</td>\n",
       "      <td id=\"T_aed64_row2_col2\" class=\"data row2 col2\" >0.974658</td>\n",
       "      <td id=\"T_aed64_row2_col3\" class=\"data row2 col3\" >0.003702</td>\n",
       "      <td id=\"T_aed64_row2_col4\" class=\"data row2 col4\" >0.001364</td>\n",
       "      <td id=\"T_aed64_row2_col5\" class=\"data row2 col5\" >0.000079</td>\n",
       "      <td id=\"T_aed64_row2_col6\" class=\"data row2 col6\" >0.000014</td>\n",
       "      <td id=\"T_aed64_row2_col7\" class=\"data row2 col7\" >0.012830</td>\n",
       "    </tr>\n",
       "    <tr>\n",
       "      <th id=\"T_aed64_level0_row3\" class=\"row_heading level0 row3\" >unknown</th>\n",
       "      <td id=\"T_aed64_row3_col0\" class=\"data row3 col0\" >0.001900</td>\n",
       "      <td id=\"T_aed64_row3_col1\" class=\"data row3 col1\" >0.040308</td>\n",
       "      <td id=\"T_aed64_row3_col2\" class=\"data row3 col2\" >0.092940</td>\n",
       "      <td id=\"T_aed64_row3_col3\" class=\"data row3 col3\" >0.856051</td>\n",
       "      <td id=\"T_aed64_row3_col4\" class=\"data row3 col4\" >0.003412</td>\n",
       "      <td id=\"T_aed64_row3_col5\" class=\"data row3 col5\" >0.000200</td>\n",
       "      <td id=\"T_aed64_row3_col6\" class=\"data row3 col6\" >nan</td>\n",
       "      <td id=\"T_aed64_row3_col7\" class=\"data row3 col7\" >0.005190</td>\n",
       "    </tr>\n",
       "    <tr>\n",
       "      <th id=\"T_aed64_level0_row4\" class=\"row_heading level0 row4\" >no-author-rec</th>\n",
       "      <td id=\"T_aed64_row4_col0\" class=\"data row4 col0\" >0.003536</td>\n",
       "      <td id=\"T_aed64_row4_col1\" class=\"data row4 col1\" >0.020632</td>\n",
       "      <td id=\"T_aed64_row4_col2\" class=\"data row4 col2\" >0.108692</td>\n",
       "      <td id=\"T_aed64_row4_col3\" class=\"data row4 col3\" >0.101639</td>\n",
       "      <td id=\"T_aed64_row4_col4\" class=\"data row4 col4\" >0.762115</td>\n",
       "      <td id=\"T_aed64_row4_col5\" class=\"data row4 col5\" >0.000009</td>\n",
       "      <td id=\"T_aed64_row4_col6\" class=\"data row4 col6\" >0.000038</td>\n",
       "      <td id=\"T_aed64_row4_col7\" class=\"data row4 col7\" >0.003339</td>\n",
       "    </tr>\n",
       "    <tr>\n",
       "      <th id=\"T_aed64_level0_row5\" class=\"row_heading level0 row5\" >no-book-author</th>\n",
       "      <td id=\"T_aed64_row5_col0\" class=\"data row5 col0\" >0.002055</td>\n",
       "      <td id=\"T_aed64_row5_col1\" class=\"data row5 col1\" >0.030434</td>\n",
       "      <td id=\"T_aed64_row5_col2\" class=\"data row5 col2\" >0.057325</td>\n",
       "      <td id=\"T_aed64_row5_col3\" class=\"data row5 col3\" >0.035309</td>\n",
       "      <td id=\"T_aed64_row5_col4\" class=\"data row5 col4\" >0.056236</td>\n",
       "      <td id=\"T_aed64_row5_col5\" class=\"data row5 col5\" >0.809982</td>\n",
       "      <td id=\"T_aed64_row5_col6\" class=\"data row5 col6\" >0.000007</td>\n",
       "      <td id=\"T_aed64_row5_col7\" class=\"data row5 col7\" >0.008653</td>\n",
       "    </tr>\n",
       "    <tr>\n",
       "      <th id=\"T_aed64_level0_row6\" class=\"row_heading level0 row6\" >no-book</th>\n",
       "      <td id=\"T_aed64_row6_col0\" class=\"data row6 col0\" >0.000156</td>\n",
       "      <td id=\"T_aed64_row6_col1\" class=\"data row6 col1\" >0.002331</td>\n",
       "      <td id=\"T_aed64_row6_col2\" class=\"data row6 col2\" >0.005260</td>\n",
       "      <td id=\"T_aed64_row6_col3\" class=\"data row6 col3\" >0.002731</td>\n",
       "      <td id=\"T_aed64_row6_col4\" class=\"data row6 col4\" >0.004763</td>\n",
       "      <td id=\"T_aed64_row6_col5\" class=\"data row6 col5\" >0.000635</td>\n",
       "      <td id=\"T_aed64_row6_col6\" class=\"data row6 col6\" >0.980666</td>\n",
       "      <td id=\"T_aed64_row6_col7\" class=\"data row6 col7\" >0.003458</td>\n",
       "    </tr>\n",
       "    <tr>\n",
       "      <th id=\"T_aed64_level0_row7\" class=\"row_heading level0 row7\" >absent</th>\n",
       "      <td id=\"T_aed64_row7_col0\" class=\"data row7 col0\" >0.003084</td>\n",
       "      <td id=\"T_aed64_row7_col1\" class=\"data row7 col1\" >0.027664</td>\n",
       "      <td id=\"T_aed64_row7_col2\" class=\"data row7 col2\" >0.059202</td>\n",
       "      <td id=\"T_aed64_row7_col3\" class=\"data row7 col3\" >0.021831</td>\n",
       "      <td id=\"T_aed64_row7_col4\" class=\"data row7 col4\" >0.086472</td>\n",
       "      <td id=\"T_aed64_row7_col5\" class=\"data row7 col5\" >0.004783</td>\n",
       "      <td id=\"T_aed64_row7_col6\" class=\"data row7 col6\" >0.000002</td>\n",
       "      <td id=\"T_aed64_row7_col7\" class=\"data row7 col7\" >0.796962</td>\n",
       "    </tr>\n",
       "  </tbody>\n",
       "</table>\n"
      ],
      "text/plain": [
       "<pandas.io.formats.style.Styler at 0x7f1269917a30>"
      ]
     },
     "execution_count": 18,
     "metadata": {},
     "output_type": "execute_result"
    }
   ],
   "source": [
    "ct = gender_crosstab('2022-03-2.0', '2022-07')\n",
    "ct.style.apply(style_row, 'columns')"
   ]
  },
  {
   "cell_type": "markdown",
   "id": "bb9e7698",
   "metadata": {},
   "source": [
    "Mostly fine; some more are resolved, existing resolutions are pretty consistent."
   ]
  },
  {
   "cell_type": "markdown",
   "id": "d0809d6a",
   "metadata": {},
   "source": [
    "## July 2022 to Oct. 2022\n",
    "\n",
    "We changed from DataFusion to Polars and made further ISBN and name parsing changes."
   ]
  },
  {
   "cell_type": "code",
   "execution_count": 19,
   "id": "efd883eb",
   "metadata": {
    "execution": {
     "iopub.execute_input": "2023-02-19T01:59:03.117581Z",
     "iopub.status.busy": "2023-02-19T01:59:03.117433Z",
     "iopub.status.idle": "2023-02-19T01:59:03.577393Z",
     "shell.execute_reply": "2023-02-19T01:59:03.576867Z"
    }
   },
   "outputs": [
    {
     "data": {
      "text/html": [
       "<style type=\"text/css\">\n",
       "#T_1b1be_row0_col0, #T_1b1be_row1_col1, #T_1b1be_row2_col2, #T_1b1be_row3_col3, #T_1b1be_row4_col4, #T_1b1be_row5_col5, #T_1b1be_row6_col6, #T_1b1be_row7_col7 {\n",
       "  font-weight: bold;\n",
       "}\n",
       "#T_1b1be_row6_col5, #T_1b1be_row6_col7 {\n",
       "  color: red;\n",
       "}\n",
       "</style>\n",
       "<table id=\"T_1b1be\">\n",
       "  <thead>\n",
       "    <tr>\n",
       "      <th class=\"index_name level0\" >2022-10</th>\n",
       "      <th id=\"T_1b1be_level0_col0\" class=\"col_heading level0 col0\" >ambiguous</th>\n",
       "      <th id=\"T_1b1be_level0_col1\" class=\"col_heading level0 col1\" >female</th>\n",
       "      <th id=\"T_1b1be_level0_col2\" class=\"col_heading level0 col2\" >male</th>\n",
       "      <th id=\"T_1b1be_level0_col3\" class=\"col_heading level0 col3\" >unknown</th>\n",
       "      <th id=\"T_1b1be_level0_col4\" class=\"col_heading level0 col4\" >no-author-rec</th>\n",
       "      <th id=\"T_1b1be_level0_col5\" class=\"col_heading level0 col5\" >no-book-author</th>\n",
       "      <th id=\"T_1b1be_level0_col6\" class=\"col_heading level0 col6\" >no-book</th>\n",
       "      <th id=\"T_1b1be_level0_col7\" class=\"col_heading level0 col7\" >absent</th>\n",
       "    </tr>\n",
       "    <tr>\n",
       "      <th class=\"index_name level0\" >2022-07</th>\n",
       "      <th class=\"blank col0\" >&nbsp;</th>\n",
       "      <th class=\"blank col1\" >&nbsp;</th>\n",
       "      <th class=\"blank col2\" >&nbsp;</th>\n",
       "      <th class=\"blank col3\" >&nbsp;</th>\n",
       "      <th class=\"blank col4\" >&nbsp;</th>\n",
       "      <th class=\"blank col5\" >&nbsp;</th>\n",
       "      <th class=\"blank col6\" >&nbsp;</th>\n",
       "      <th class=\"blank col7\" >&nbsp;</th>\n",
       "    </tr>\n",
       "  </thead>\n",
       "  <tbody>\n",
       "    <tr>\n",
       "      <th id=\"T_1b1be_level0_row0\" class=\"row_heading level0 row0\" >ambiguous</th>\n",
       "      <td id=\"T_1b1be_row0_col0\" class=\"data row0 col0\" >0.989390</td>\n",
       "      <td id=\"T_1b1be_row0_col1\" class=\"data row0 col1\" >0.004969</td>\n",
       "      <td id=\"T_1b1be_row0_col2\" class=\"data row0 col2\" >0.003626</td>\n",
       "      <td id=\"T_1b1be_row0_col3\" class=\"data row0 col3\" >0.000336</td>\n",
       "      <td id=\"T_1b1be_row0_col4\" class=\"data row0 col4\" >0.001647</td>\n",
       "      <td id=\"T_1b1be_row0_col5\" class=\"data row0 col5\" >nan</td>\n",
       "      <td id=\"T_1b1be_row0_col6\" class=\"data row0 col6\" >nan</td>\n",
       "      <td id=\"T_1b1be_row0_col7\" class=\"data row0 col7\" >0.000032</td>\n",
       "    </tr>\n",
       "    <tr>\n",
       "      <th id=\"T_1b1be_level0_row1\" class=\"row_heading level0 row1\" >female</th>\n",
       "      <td id=\"T_1b1be_row1_col0\" class=\"data row1 col0\" >nan</td>\n",
       "      <td id=\"T_1b1be_row1_col1\" class=\"data row1 col1\" >0.995095</td>\n",
       "      <td id=\"T_1b1be_row1_col2\" class=\"data row1 col2\" >nan</td>\n",
       "      <td id=\"T_1b1be_row1_col3\" class=\"data row1 col3\" >0.000361</td>\n",
       "      <td id=\"T_1b1be_row1_col4\" class=\"data row1 col4\" >0.004470</td>\n",
       "      <td id=\"T_1b1be_row1_col5\" class=\"data row1 col5\" >nan</td>\n",
       "      <td id=\"T_1b1be_row1_col6\" class=\"data row1 col6\" >nan</td>\n",
       "      <td id=\"T_1b1be_row1_col7\" class=\"data row1 col7\" >0.000074</td>\n",
       "    </tr>\n",
       "    <tr>\n",
       "      <th id=\"T_1b1be_level0_row2\" class=\"row_heading level0 row2\" >male</th>\n",
       "      <td id=\"T_1b1be_row2_col0\" class=\"data row2 col0\" >0.000001</td>\n",
       "      <td id=\"T_1b1be_row2_col1\" class=\"data row2 col1\" >nan</td>\n",
       "      <td id=\"T_1b1be_row2_col2\" class=\"data row2 col2\" >0.994581</td>\n",
       "      <td id=\"T_1b1be_row2_col3\" class=\"data row2 col3\" >0.000431</td>\n",
       "      <td id=\"T_1b1be_row2_col4\" class=\"data row2 col4\" >0.004975</td>\n",
       "      <td id=\"T_1b1be_row2_col5\" class=\"data row2 col5\" >0.000000</td>\n",
       "      <td id=\"T_1b1be_row2_col6\" class=\"data row2 col6\" >nan</td>\n",
       "      <td id=\"T_1b1be_row2_col7\" class=\"data row2 col7\" >0.000011</td>\n",
       "    </tr>\n",
       "    <tr>\n",
       "      <th id=\"T_1b1be_level0_row3\" class=\"row_heading level0 row3\" >unknown</th>\n",
       "      <td id=\"T_1b1be_row3_col0\" class=\"data row3 col0\" >nan</td>\n",
       "      <td id=\"T_1b1be_row3_col1\" class=\"data row3 col1\" >nan</td>\n",
       "      <td id=\"T_1b1be_row3_col2\" class=\"data row3 col2\" >nan</td>\n",
       "      <td id=\"T_1b1be_row3_col3\" class=\"data row3 col3\" >0.995468</td>\n",
       "      <td id=\"T_1b1be_row3_col4\" class=\"data row3 col4\" >0.004492</td>\n",
       "      <td id=\"T_1b1be_row3_col5\" class=\"data row3 col5\" >nan</td>\n",
       "      <td id=\"T_1b1be_row3_col6\" class=\"data row3 col6\" >nan</td>\n",
       "      <td id=\"T_1b1be_row3_col7\" class=\"data row3 col7\" >0.000041</td>\n",
       "    </tr>\n",
       "    <tr>\n",
       "      <th id=\"T_1b1be_level0_row4\" class=\"row_heading level0 row4\" >no-author-rec</th>\n",
       "      <td id=\"T_1b1be_row4_col0\" class=\"data row4 col0\" >nan</td>\n",
       "      <td id=\"T_1b1be_row4_col1\" class=\"data row4 col1\" >0.000001</td>\n",
       "      <td id=\"T_1b1be_row4_col2\" class=\"data row4 col2\" >0.000003</td>\n",
       "      <td id=\"T_1b1be_row4_col3\" class=\"data row4 col3\" >0.000005</td>\n",
       "      <td id=\"T_1b1be_row4_col4\" class=\"data row4 col4\" >0.999822</td>\n",
       "      <td id=\"T_1b1be_row4_col5\" class=\"data row4 col5\" >0.000131</td>\n",
       "      <td id=\"T_1b1be_row4_col6\" class=\"data row4 col6\" >nan</td>\n",
       "      <td id=\"T_1b1be_row4_col7\" class=\"data row4 col7\" >0.000039</td>\n",
       "    </tr>\n",
       "    <tr>\n",
       "      <th id=\"T_1b1be_level0_row5\" class=\"row_heading level0 row5\" >no-book-author</th>\n",
       "      <td id=\"T_1b1be_row5_col0\" class=\"data row5 col0\" >nan</td>\n",
       "      <td id=\"T_1b1be_row5_col1\" class=\"data row5 col1\" >0.000000</td>\n",
       "      <td id=\"T_1b1be_row5_col2\" class=\"data row5 col2\" >0.000001</td>\n",
       "      <td id=\"T_1b1be_row5_col3\" class=\"data row5 col3\" >0.000000</td>\n",
       "      <td id=\"T_1b1be_row5_col4\" class=\"data row5 col4\" >0.000000</td>\n",
       "      <td id=\"T_1b1be_row5_col5\" class=\"data row5 col5\" >0.996610</td>\n",
       "      <td id=\"T_1b1be_row5_col6\" class=\"data row5 col6\" >nan</td>\n",
       "      <td id=\"T_1b1be_row5_col7\" class=\"data row5 col7\" >0.003387</td>\n",
       "    </tr>\n",
       "    <tr>\n",
       "      <th id=\"T_1b1be_level0_row6\" class=\"row_heading level0 row6\" >no-book</th>\n",
       "      <td id=\"T_1b1be_row6_col0\" class=\"data row6 col0\" >0.000004</td>\n",
       "      <td id=\"T_1b1be_row6_col1\" class=\"data row6 col1\" >0.000094</td>\n",
       "      <td id=\"T_1b1be_row6_col2\" class=\"data row6 col2\" >0.000030</td>\n",
       "      <td id=\"T_1b1be_row6_col3\" class=\"data row6 col3\" >0.000067</td>\n",
       "      <td id=\"T_1b1be_row6_col4\" class=\"data row6 col4\" >0.000094</td>\n",
       "      <td id=\"T_1b1be_row6_col5\" class=\"data row6 col5\" >0.198069</td>\n",
       "      <td id=\"T_1b1be_row6_col6\" class=\"data row6 col6\" >0.670216</td>\n",
       "      <td id=\"T_1b1be_row6_col7\" class=\"data row6 col7\" >0.131427</td>\n",
       "    </tr>\n",
       "    <tr>\n",
       "      <th id=\"T_1b1be_level0_row7\" class=\"row_heading level0 row7\" >absent</th>\n",
       "      <td id=\"T_1b1be_row7_col0\" class=\"data row7 col0\" >nan</td>\n",
       "      <td id=\"T_1b1be_row7_col1\" class=\"data row7 col1\" >nan</td>\n",
       "      <td id=\"T_1b1be_row7_col2\" class=\"data row7 col2\" >nan</td>\n",
       "      <td id=\"T_1b1be_row7_col3\" class=\"data row7 col3\" >nan</td>\n",
       "      <td id=\"T_1b1be_row7_col4\" class=\"data row7 col4\" >nan</td>\n",
       "      <td id=\"T_1b1be_row7_col5\" class=\"data row7 col5\" >nan</td>\n",
       "      <td id=\"T_1b1be_row7_col6\" class=\"data row7 col6\" >nan</td>\n",
       "      <td id=\"T_1b1be_row7_col7\" class=\"data row7 col7\" >1.000000</td>\n",
       "    </tr>\n",
       "  </tbody>\n",
       "</table>\n"
      ],
      "text/plain": [
       "<pandas.io.formats.style.Styler at 0x7f15cc0d0eb0>"
      ]
     },
     "execution_count": 19,
     "metadata": {},
     "output_type": "execute_result"
    }
   ],
   "source": [
    "ct = gender_crosstab('2022-07', '2022-10')\n",
    "ct.style.apply(style_row, 'columns')"
   ]
  },
  {
   "cell_type": "markdown",
   "id": "b5ede404",
   "metadata": {},
   "source": [
    "## Oct. 2022 to Current\n",
    "\n",
    "We added support for GoodReads CSV data and the Amazon 2018 rating CSV files."
   ]
  },
  {
   "cell_type": "code",
   "execution_count": 20,
   "id": "bb8c597a",
   "metadata": {
    "execution": {
     "iopub.execute_input": "2023-02-19T01:59:03.579007Z",
     "iopub.status.busy": "2023-02-19T01:59:03.578865Z",
     "iopub.status.idle": "2023-02-19T01:59:04.039253Z",
     "shell.execute_reply": "2023-02-19T01:59:04.038750Z"
    }
   },
   "outputs": [
    {
     "data": {
      "text/html": [
       "<style type=\"text/css\">\n",
       "#T_88a43_row0_col0, #T_88a43_row1_col1, #T_88a43_row2_col2, #T_88a43_row3_col3, #T_88a43_row4_col4, #T_88a43_row5_col5, #T_88a43_row6_col6, #T_88a43_row7_col7 {\n",
       "  font-weight: bold;\n",
       "}\n",
       "#T_88a43_row7_col5 {\n",
       "  color: red;\n",
       "}\n",
       "</style>\n",
       "<table id=\"T_88a43\">\n",
       "  <thead>\n",
       "    <tr>\n",
       "      <th class=\"index_name level0\" >current</th>\n",
       "      <th id=\"T_88a43_level0_col0\" class=\"col_heading level0 col0\" >ambiguous</th>\n",
       "      <th id=\"T_88a43_level0_col1\" class=\"col_heading level0 col1\" >female</th>\n",
       "      <th id=\"T_88a43_level0_col2\" class=\"col_heading level0 col2\" >male</th>\n",
       "      <th id=\"T_88a43_level0_col3\" class=\"col_heading level0 col3\" >unknown</th>\n",
       "      <th id=\"T_88a43_level0_col4\" class=\"col_heading level0 col4\" >no-author-rec</th>\n",
       "      <th id=\"T_88a43_level0_col5\" class=\"col_heading level0 col5\" >no-book-author</th>\n",
       "      <th id=\"T_88a43_level0_col6\" class=\"col_heading level0 col6\" >no-book</th>\n",
       "      <th id=\"T_88a43_level0_col7\" class=\"col_heading level0 col7\" >absent</th>\n",
       "    </tr>\n",
       "    <tr>\n",
       "      <th class=\"index_name level0\" >2022-10</th>\n",
       "      <th class=\"blank col0\" >&nbsp;</th>\n",
       "      <th class=\"blank col1\" >&nbsp;</th>\n",
       "      <th class=\"blank col2\" >&nbsp;</th>\n",
       "      <th class=\"blank col3\" >&nbsp;</th>\n",
       "      <th class=\"blank col4\" >&nbsp;</th>\n",
       "      <th class=\"blank col5\" >&nbsp;</th>\n",
       "      <th class=\"blank col6\" >&nbsp;</th>\n",
       "      <th class=\"blank col7\" >&nbsp;</th>\n",
       "    </tr>\n",
       "  </thead>\n",
       "  <tbody>\n",
       "    <tr>\n",
       "      <th id=\"T_88a43_level0_row0\" class=\"row_heading level0 row0\" >ambiguous</th>\n",
       "      <td id=\"T_88a43_row0_col0\" class=\"data row0 col0\" >0.999995</td>\n",
       "      <td id=\"T_88a43_row0_col1\" class=\"data row0 col1\" >nan</td>\n",
       "      <td id=\"T_88a43_row0_col2\" class=\"data row0 col2\" >nan</td>\n",
       "      <td id=\"T_88a43_row0_col3\" class=\"data row0 col3\" >nan</td>\n",
       "      <td id=\"T_88a43_row0_col4\" class=\"data row0 col4\" >nan</td>\n",
       "      <td id=\"T_88a43_row0_col5\" class=\"data row0 col5\" >nan</td>\n",
       "      <td id=\"T_88a43_row0_col6\" class=\"data row0 col6\" >nan</td>\n",
       "      <td id=\"T_88a43_row0_col7\" class=\"data row0 col7\" >0.000005</td>\n",
       "    </tr>\n",
       "    <tr>\n",
       "      <th id=\"T_88a43_level0_row1\" class=\"row_heading level0 row1\" >female</th>\n",
       "      <td id=\"T_88a43_row1_col0\" class=\"data row1 col0\" >nan</td>\n",
       "      <td id=\"T_88a43_row1_col1\" class=\"data row1 col1\" >0.999999</td>\n",
       "      <td id=\"T_88a43_row1_col2\" class=\"data row1 col2\" >nan</td>\n",
       "      <td id=\"T_88a43_row1_col3\" class=\"data row1 col3\" >nan</td>\n",
       "      <td id=\"T_88a43_row1_col4\" class=\"data row1 col4\" >nan</td>\n",
       "      <td id=\"T_88a43_row1_col5\" class=\"data row1 col5\" >nan</td>\n",
       "      <td id=\"T_88a43_row1_col6\" class=\"data row1 col6\" >nan</td>\n",
       "      <td id=\"T_88a43_row1_col7\" class=\"data row1 col7\" >0.000001</td>\n",
       "    </tr>\n",
       "    <tr>\n",
       "      <th id=\"T_88a43_level0_row2\" class=\"row_heading level0 row2\" >male</th>\n",
       "      <td id=\"T_88a43_row2_col0\" class=\"data row2 col0\" >nan</td>\n",
       "      <td id=\"T_88a43_row2_col1\" class=\"data row2 col1\" >nan</td>\n",
       "      <td id=\"T_88a43_row2_col2\" class=\"data row2 col2\" >0.999998</td>\n",
       "      <td id=\"T_88a43_row2_col3\" class=\"data row2 col3\" >nan</td>\n",
       "      <td id=\"T_88a43_row2_col4\" class=\"data row2 col4\" >nan</td>\n",
       "      <td id=\"T_88a43_row2_col5\" class=\"data row2 col5\" >nan</td>\n",
       "      <td id=\"T_88a43_row2_col6\" class=\"data row2 col6\" >nan</td>\n",
       "      <td id=\"T_88a43_row2_col7\" class=\"data row2 col7\" >0.000002</td>\n",
       "    </tr>\n",
       "    <tr>\n",
       "      <th id=\"T_88a43_level0_row3\" class=\"row_heading level0 row3\" >unknown</th>\n",
       "      <td id=\"T_88a43_row3_col0\" class=\"data row3 col0\" >nan</td>\n",
       "      <td id=\"T_88a43_row3_col1\" class=\"data row3 col1\" >nan</td>\n",
       "      <td id=\"T_88a43_row3_col2\" class=\"data row3 col2\" >nan</td>\n",
       "      <td id=\"T_88a43_row3_col3\" class=\"data row3 col3\" >0.999998</td>\n",
       "      <td id=\"T_88a43_row3_col4\" class=\"data row3 col4\" >nan</td>\n",
       "      <td id=\"T_88a43_row3_col5\" class=\"data row3 col5\" >nan</td>\n",
       "      <td id=\"T_88a43_row3_col6\" class=\"data row3 col6\" >nan</td>\n",
       "      <td id=\"T_88a43_row3_col7\" class=\"data row3 col7\" >0.000002</td>\n",
       "    </tr>\n",
       "    <tr>\n",
       "      <th id=\"T_88a43_level0_row4\" class=\"row_heading level0 row4\" >no-author-rec</th>\n",
       "      <td id=\"T_88a43_row4_col0\" class=\"data row4 col0\" >nan</td>\n",
       "      <td id=\"T_88a43_row4_col1\" class=\"data row4 col1\" >nan</td>\n",
       "      <td id=\"T_88a43_row4_col2\" class=\"data row4 col2\" >nan</td>\n",
       "      <td id=\"T_88a43_row4_col3\" class=\"data row4 col3\" >nan</td>\n",
       "      <td id=\"T_88a43_row4_col4\" class=\"data row4 col4\" >0.999999</td>\n",
       "      <td id=\"T_88a43_row4_col5\" class=\"data row4 col5\" >nan</td>\n",
       "      <td id=\"T_88a43_row4_col6\" class=\"data row4 col6\" >nan</td>\n",
       "      <td id=\"T_88a43_row4_col7\" class=\"data row4 col7\" >0.000001</td>\n",
       "    </tr>\n",
       "    <tr>\n",
       "      <th id=\"T_88a43_level0_row5\" class=\"row_heading level0 row5\" >no-book-author</th>\n",
       "      <td id=\"T_88a43_row5_col0\" class=\"data row5 col0\" >nan</td>\n",
       "      <td id=\"T_88a43_row5_col1\" class=\"data row5 col1\" >nan</td>\n",
       "      <td id=\"T_88a43_row5_col2\" class=\"data row5 col2\" >0.000000</td>\n",
       "      <td id=\"T_88a43_row5_col3\" class=\"data row5 col3\" >0.000000</td>\n",
       "      <td id=\"T_88a43_row5_col4\" class=\"data row5 col4\" >nan</td>\n",
       "      <td id=\"T_88a43_row5_col5\" class=\"data row5 col5\" >0.999982</td>\n",
       "      <td id=\"T_88a43_row5_col6\" class=\"data row5 col6\" >nan</td>\n",
       "      <td id=\"T_88a43_row5_col7\" class=\"data row5 col7\" >0.000017</td>\n",
       "    </tr>\n",
       "    <tr>\n",
       "      <th id=\"T_88a43_level0_row6\" class=\"row_heading level0 row6\" >no-book</th>\n",
       "      <td id=\"T_88a43_row6_col0\" class=\"data row6 col0\" >nan</td>\n",
       "      <td id=\"T_88a43_row6_col1\" class=\"data row6 col1\" >nan</td>\n",
       "      <td id=\"T_88a43_row6_col2\" class=\"data row6 col2\" >nan</td>\n",
       "      <td id=\"T_88a43_row6_col3\" class=\"data row6 col3\" >nan</td>\n",
       "      <td id=\"T_88a43_row6_col4\" class=\"data row6 col4\" >nan</td>\n",
       "      <td id=\"T_88a43_row6_col5\" class=\"data row6 col5\" >nan</td>\n",
       "      <td id=\"T_88a43_row6_col6\" class=\"data row6 col6\" >1.000000</td>\n",
       "      <td id=\"T_88a43_row6_col7\" class=\"data row6 col7\" >nan</td>\n",
       "    </tr>\n",
       "    <tr>\n",
       "      <th id=\"T_88a43_level0_row7\" class=\"row_heading level0 row7\" >absent</th>\n",
       "      <td id=\"T_88a43_row7_col0\" class=\"data row7 col0\" >nan</td>\n",
       "      <td id=\"T_88a43_row7_col1\" class=\"data row7 col1\" >0.000000</td>\n",
       "      <td id=\"T_88a43_row7_col2\" class=\"data row7 col2\" >0.000000</td>\n",
       "      <td id=\"T_88a43_row7_col3\" class=\"data row7 col3\" >0.000000</td>\n",
       "      <td id=\"T_88a43_row7_col4\" class=\"data row7 col4\" >0.000000</td>\n",
       "      <td id=\"T_88a43_row7_col5\" class=\"data row7 col5\" >0.927674</td>\n",
       "      <td id=\"T_88a43_row7_col6\" class=\"data row7 col6\" >0.049410</td>\n",
       "      <td id=\"T_88a43_row7_col7\" class=\"data row7 col7\" >0.022915</td>\n",
       "    </tr>\n",
       "  </tbody>\n",
       "</table>\n"
      ],
      "text/plain": [
       "<pandas.io.formats.style.Styler at 0x7f1269917dc0>"
      ]
     },
     "execution_count": 20,
     "metadata": {},
     "output_type": "execute_result"
    }
   ],
   "source": [
    "ct = gender_crosstab('2022-10', 'current')\n",
    "ct.style.apply(style_row, 'columns')"
   ]
  }
 ],
 "metadata": {
  "jupytext": {
   "formats": "ipynb,py:percent"
  },
  "kernelspec": {
   "display_name": "Python 3 (ipykernel)",
   "language": "python",
   "name": "python3"
  },
  "language_info": {
   "codemirror_mode": {
    "name": "ipython",
    "version": 3
   },
   "file_extension": ".py",
   "mimetype": "text/x-python",
   "name": "python",
   "nbconvert_exporter": "python",
   "pygments_lexer": "ipython3",
   "version": "3.10.9"
  }
 },
 "nbformat": 4,
 "nbformat_minor": 5
}
