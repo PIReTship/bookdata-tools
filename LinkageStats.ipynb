{
 "cells": [
  {
   "cell_type": "markdown",
   "id": "f5ed0133",
   "metadata": {},
   "source": [
    "# Book Data Linkage Statistics\n",
    "\n",
    "This notebook presents statistics of the book data integration."
   ]
  },
  {
   "cell_type": "markdown",
   "id": "0f5afabe",
   "metadata": {},
   "source": [
    "## Setup"
   ]
  },
  {
   "cell_type": "code",
   "execution_count": 1,
   "id": "2ff25c6a",
   "metadata": {
    "execution": {
     "iopub.execute_input": "2021-06-09T16:06:04.656577Z",
     "iopub.status.busy": "2021-06-09T16:06:04.656577Z",
     "iopub.status.idle": "2021-06-09T16:06:05.714735Z",
     "shell.execute_reply": "2021-06-09T16:06:05.713735Z"
    }
   },
   "outputs": [],
   "source": [
    "import pandas as pd\n",
    "import seaborn as sns\n",
    "import matplotlib as mpl\n",
    "import matplotlib.pyplot as plt\n",
    "import numpy as np"
   ]
  },
  {
   "cell_type": "markdown",
   "id": "e0015e5f",
   "metadata": {},
   "source": [
    "## Load Link Stats\n",
    "\n",
    "We compute dataset linking statitsics as `gender-stats.csv` using DataFusion.  Let's load those:"
   ]
  },
  {
   "cell_type": "code",
   "execution_count": 2,
   "id": "32c30b25",
   "metadata": {
    "execution": {
     "iopub.execute_input": "2021-06-09T16:06:05.718735Z",
     "iopub.status.busy": "2021-06-09T16:06:05.717735Z",
     "iopub.status.idle": "2021-06-09T16:06:05.744782Z",
     "shell.execute_reply": "2021-06-09T16:06:05.743737Z"
    }
   },
   "outputs": [
    {
     "data": {
      "text/html": [
       "<div>\n",
       "<style scoped>\n",
       "    .dataframe tbody tr th:only-of-type {\n",
       "        vertical-align: middle;\n",
       "    }\n",
       "\n",
       "    .dataframe tbody tr th {\n",
       "        vertical-align: top;\n",
       "    }\n",
       "\n",
       "    .dataframe thead th {\n",
       "        text-align: right;\n",
       "    }\n",
       "</style>\n",
       "<table border=\"1\" class=\"dataframe\">\n",
       "  <thead>\n",
       "    <tr style=\"text-align: right;\">\n",
       "      <th></th>\n",
       "      <th>dataset</th>\n",
       "      <th>gender</th>\n",
       "      <th>n_books</th>\n",
       "      <th>n_actions</th>\n",
       "    </tr>\n",
       "  </thead>\n",
       "  <tbody>\n",
       "    <tr>\n",
       "      <th>0</th>\n",
       "      <td>BX-E</td>\n",
       "      <td>female</td>\n",
       "      <td>38080</td>\n",
       "      <td>138487</td>\n",
       "    </tr>\n",
       "    <tr>\n",
       "      <th>1</th>\n",
       "      <td>BX-E</td>\n",
       "      <td>no-book-author</td>\n",
       "      <td>6563</td>\n",
       "      <td>9547</td>\n",
       "    </tr>\n",
       "    <tr>\n",
       "      <th>2</th>\n",
       "      <td>BX-E</td>\n",
       "      <td>male</td>\n",
       "      <td>56434</td>\n",
       "      <td>184505</td>\n",
       "    </tr>\n",
       "    <tr>\n",
       "      <th>3</th>\n",
       "      <td>BX-E</td>\n",
       "      <td>no-book</td>\n",
       "      <td>21867</td>\n",
       "      <td>25449</td>\n",
       "    </tr>\n",
       "    <tr>\n",
       "      <th>4</th>\n",
       "      <td>BX-E</td>\n",
       "      <td>unknown</td>\n",
       "      <td>17001</td>\n",
       "      <td>27574</td>\n",
       "    </tr>\n",
       "  </tbody>\n",
       "</table>\n",
       "</div>"
      ],
      "text/plain": [
       "  dataset          gender  n_books  n_actions\n",
       "0    BX-E          female    38080     138487\n",
       "1    BX-E  no-book-author     6563       9547\n",
       "2    BX-E            male    56434     184505\n",
       "3    BX-E         no-book    21867      25449\n",
       "4    BX-E         unknown    17001      27574"
      ]
     },
     "execution_count": 1,
     "metadata": {},
     "output_type": "execute_result"
    }
   ],
   "source": [
    "link_stats = pd.read_csv('book-links/gender-stats.csv')\n",
    "link_stats.head()"
   ]
  },
  {
   "cell_type": "markdown",
   "id": "eb9239a5",
   "metadata": {},
   "source": [
    "Now let's define variables for our variou codes. We are first going to define our gender codes.  We'll start with the resolved codes:"
   ]
  },
  {
   "cell_type": "code",
   "execution_count": 3,
   "id": "c6a184ed",
   "metadata": {
    "execution": {
     "iopub.execute_input": "2021-06-09T16:06:05.747735Z",
     "iopub.status.busy": "2021-06-09T16:06:05.746735Z",
     "iopub.status.idle": "2021-06-09T16:06:05.760736Z",
     "shell.execute_reply": "2021-06-09T16:06:05.761735Z"
    }
   },
   "outputs": [],
   "source": [
    "link_codes = ['female', 'male', 'ambiguous', 'unknown']"
   ]
  },
  {
   "cell_type": "markdown",
   "id": "a098116a",
   "metadata": {},
   "source": [
    "We want the unlink codes in order, so the last is the first link failure:"
   ]
  },
  {
   "cell_type": "code",
   "execution_count": 4,
   "id": "fec2b2dc",
   "metadata": {
    "execution": {
     "iopub.execute_input": "2021-06-09T16:06:05.763735Z",
     "iopub.status.busy": "2021-06-09T16:06:05.763735Z",
     "iopub.status.idle": "2021-06-09T16:06:05.775738Z",
     "shell.execute_reply": "2021-06-09T16:06:05.775738Z"
    }
   },
   "outputs": [],
   "source": [
    "unlink_codes = ['no-author-rec', 'no-book-author', 'no-book']"
   ]
  },
  {
   "cell_type": "code",
   "execution_count": 5,
   "id": "0f6b8447",
   "metadata": {
    "execution": {
     "iopub.execute_input": "2021-06-09T16:06:05.778735Z",
     "iopub.status.busy": "2021-06-09T16:06:05.778735Z",
     "iopub.status.idle": "2021-06-09T16:06:05.791766Z",
     "shell.execute_reply": "2021-06-09T16:06:05.791766Z"
    }
   },
   "outputs": [],
   "source": [
    "all_codes = link_codes + unlink_codes"
   ]
  },
  {
   "cell_type": "markdown",
   "id": "852de1c9",
   "metadata": {},
   "source": [
    "## Processing Statistics\n",
    "\n",
    "Now we'll pivot each of our count columns into a table for easier reference."
   ]
  },
  {
   "cell_type": "code",
   "execution_count": 6,
   "id": "752ed459",
   "metadata": {
    "execution": {
     "iopub.execute_input": "2021-06-09T16:06:05.807736Z",
     "iopub.status.busy": "2021-06-09T16:06:05.796735Z",
     "iopub.status.idle": "2021-06-09T16:06:05.821738Z",
     "shell.execute_reply": "2021-06-09T16:06:05.821738Z"
    }
   },
   "outputs": [
    {
     "data": {
      "text/html": [
       "<div>\n",
       "<style scoped>\n",
       "    .dataframe tbody tr th:only-of-type {\n",
       "        vertical-align: middle;\n",
       "    }\n",
       "\n",
       "    .dataframe tbody tr th {\n",
       "        vertical-align: top;\n",
       "    }\n",
       "\n",
       "    .dataframe thead th {\n",
       "        text-align: right;\n",
       "    }\n",
       "</style>\n",
       "<table border=\"1\" class=\"dataframe\">\n",
       "  <thead>\n",
       "    <tr style=\"text-align: right;\">\n",
       "      <th>gender</th>\n",
       "      <th>female</th>\n",
       "      <th>male</th>\n",
       "      <th>ambiguous</th>\n",
       "      <th>unknown</th>\n",
       "      <th>no-author-rec</th>\n",
       "      <th>no-book-author</th>\n",
       "      <th>no-book</th>\n",
       "    </tr>\n",
       "    <tr>\n",
       "      <th>dataset</th>\n",
       "      <th></th>\n",
       "      <th></th>\n",
       "      <th></th>\n",
       "      <th></th>\n",
       "      <th></th>\n",
       "      <th></th>\n",
       "      <th></th>\n",
       "    </tr>\n",
       "  </thead>\n",
       "  <tbody>\n",
       "    <tr>\n",
       "      <th>AZ</th>\n",
       "      <td>217855.0</td>\n",
       "      <td>491560.0</td>\n",
       "      <td>17832.0</td>\n",
       "      <td>239621.0</td>\n",
       "      <td>141257.0</td>\n",
       "      <td>218810.0</td>\n",
       "      <td>937800.0</td>\n",
       "    </tr>\n",
       "    <tr>\n",
       "      <th>BX-E</th>\n",
       "      <td>38080.0</td>\n",
       "      <td>56434.0</td>\n",
       "      <td>4212.0</td>\n",
       "      <td>17001.0</td>\n",
       "      <td>6875.0</td>\n",
       "      <td>6563.0</td>\n",
       "      <td>21867.0</td>\n",
       "    </tr>\n",
       "    <tr>\n",
       "      <th>BX-I</th>\n",
       "      <td>67139.0</td>\n",
       "      <td>98030.0</td>\n",
       "      <td>7143.0</td>\n",
       "      <td>34784.0</td>\n",
       "      <td>14005.0</td>\n",
       "      <td>13067.0</td>\n",
       "      <td>44049.0</td>\n",
       "    </tr>\n",
       "    <tr>\n",
       "      <th>GR-E</th>\n",
       "      <td>175690.0</td>\n",
       "      <td>279432.0</td>\n",
       "      <td>11656.0</td>\n",
       "      <td>96483.0</td>\n",
       "      <td>30127.0</td>\n",
       "      <td>891464.0</td>\n",
       "      <td>NaN</td>\n",
       "    </tr>\n",
       "    <tr>\n",
       "      <th>GR-I</th>\n",
       "      <td>177301.0</td>\n",
       "      <td>282823.0</td>\n",
       "      <td>11763.0</td>\n",
       "      <td>98253.0</td>\n",
       "      <td>30842.0</td>\n",
       "      <td>905429.0</td>\n",
       "      <td>NaN</td>\n",
       "    </tr>\n",
       "    <tr>\n",
       "      <th>LOC-MDS</th>\n",
       "      <td>666594.0</td>\n",
       "      <td>2212527.0</td>\n",
       "      <td>54208.0</td>\n",
       "      <td>1219129.0</td>\n",
       "      <td>272590.0</td>\n",
       "      <td>842812.0</td>\n",
       "      <td>NaN</td>\n",
       "    </tr>\n",
       "  </tbody>\n",
       "</table>\n",
       "</div>"
      ],
      "text/plain": [
       "gender     female       male  ambiguous    unknown  no-author-rec  \\\n",
       "dataset                                                             \n",
       "AZ       217855.0   491560.0    17832.0   239621.0       141257.0   \n",
       "BX-E      38080.0    56434.0     4212.0    17001.0         6875.0   \n",
       "BX-I      67139.0    98030.0     7143.0    34784.0        14005.0   \n",
       "GR-E     175690.0   279432.0    11656.0    96483.0        30127.0   \n",
       "GR-I     177301.0   282823.0    11763.0    98253.0        30842.0   \n",
       "LOC-MDS  666594.0  2212527.0    54208.0  1219129.0       272590.0   \n",
       "\n",
       "gender   no-book-author   no-book  \n",
       "dataset                            \n",
       "AZ             218810.0  937800.0  \n",
       "BX-E             6563.0   21867.0  \n",
       "BX-I            13067.0   44049.0  \n",
       "GR-E           891464.0       NaN  \n",
       "GR-I           905429.0       NaN  \n",
       "LOC-MDS        842812.0       NaN  "
      ]
     },
     "execution_count": 1,
     "metadata": {},
     "output_type": "execute_result"
    }
   ],
   "source": [
    "book_counts = link_stats.pivot('dataset', 'gender', 'n_books')\n",
    "book_counts = book_counts.reindex(columns=all_codes)\n",
    "book_counts"
   ]
  },
  {
   "cell_type": "code",
   "execution_count": 7,
   "id": "700f489f",
   "metadata": {
    "execution": {
     "iopub.execute_input": "2021-06-09T16:06:05.835735Z",
     "iopub.status.busy": "2021-06-09T16:06:05.835735Z",
     "iopub.status.idle": "2021-06-09T16:06:05.852875Z",
     "shell.execute_reply": "2021-06-09T16:06:05.851905Z"
    }
   },
   "outputs": [
    {
     "data": {
      "text/html": [
       "<div>\n",
       "<style scoped>\n",
       "    .dataframe tbody tr th:only-of-type {\n",
       "        vertical-align: middle;\n",
       "    }\n",
       "\n",
       "    .dataframe tbody tr th {\n",
       "        vertical-align: top;\n",
       "    }\n",
       "\n",
       "    .dataframe thead th {\n",
       "        text-align: right;\n",
       "    }\n",
       "</style>\n",
       "<table border=\"1\" class=\"dataframe\">\n",
       "  <thead>\n",
       "    <tr style=\"text-align: right;\">\n",
       "      <th>gender</th>\n",
       "      <th>female</th>\n",
       "      <th>male</th>\n",
       "      <th>ambiguous</th>\n",
       "      <th>unknown</th>\n",
       "      <th>no-author-rec</th>\n",
       "      <th>no-book-author</th>\n",
       "      <th>no-book</th>\n",
       "    </tr>\n",
       "    <tr>\n",
       "      <th>dataset</th>\n",
       "      <th></th>\n",
       "      <th></th>\n",
       "      <th></th>\n",
       "      <th></th>\n",
       "      <th></th>\n",
       "      <th></th>\n",
       "      <th></th>\n",
       "    </tr>\n",
       "  </thead>\n",
       "  <tbody>\n",
       "    <tr>\n",
       "      <th>AZ</th>\n",
       "      <td>4339336.0</td>\n",
       "      <td>6606737.0</td>\n",
       "      <td>610220.0</td>\n",
       "      <td>2093169.0</td>\n",
       "      <td>736395.0</td>\n",
       "      <td>3547628.0</td>\n",
       "      <td>4523883.0</td>\n",
       "    </tr>\n",
       "    <tr>\n",
       "      <th>BX-E</th>\n",
       "      <td>138487.0</td>\n",
       "      <td>184505.0</td>\n",
       "      <td>32744.0</td>\n",
       "      <td>27574.0</td>\n",
       "      <td>8759.0</td>\n",
       "      <td>9547.0</td>\n",
       "      <td>25449.0</td>\n",
       "    </tr>\n",
       "    <tr>\n",
       "      <th>BX-I</th>\n",
       "      <td>390876.0</td>\n",
       "      <td>467021.0</td>\n",
       "      <td>81193.0</td>\n",
       "      <td>78089.0</td>\n",
       "      <td>23304.0</td>\n",
       "      <td>26021.0</td>\n",
       "      <td>62362.0</td>\n",
       "    </tr>\n",
       "    <tr>\n",
       "      <th>GR-E</th>\n",
       "      <td>34586008.0</td>\n",
       "      <td>34900583.0</td>\n",
       "      <td>9315132.0</td>\n",
       "      <td>3973094.0</td>\n",
       "      <td>523795.0</td>\n",
       "      <td>16881739.0</td>\n",
       "      <td>NaN</td>\n",
       "    </tr>\n",
       "    <tr>\n",
       "      <th>GR-I</th>\n",
       "      <td>76091597.0</td>\n",
       "      <td>71254945.0</td>\n",
       "      <td>15123169.0</td>\n",
       "      <td>10502922.0</td>\n",
       "      <td>1487249.0</td>\n",
       "      <td>46539909.0</td>\n",
       "      <td>NaN</td>\n",
       "    </tr>\n",
       "  </tbody>\n",
       "</table>\n",
       "</div>"
      ],
      "text/plain": [
       "gender       female        male   ambiguous     unknown  no-author-rec  \\\n",
       "dataset                                                                  \n",
       "AZ        4339336.0   6606737.0    610220.0   2093169.0       736395.0   \n",
       "BX-E       138487.0    184505.0     32744.0     27574.0         8759.0   \n",
       "BX-I       390876.0    467021.0     81193.0     78089.0        23304.0   \n",
       "GR-E     34586008.0  34900583.0   9315132.0   3973094.0       523795.0   \n",
       "GR-I     76091597.0  71254945.0  15123169.0  10502922.0      1487249.0   \n",
       "\n",
       "gender   no-book-author    no-book  \n",
       "dataset                             \n",
       "AZ            3547628.0  4523883.0  \n",
       "BX-E             9547.0    25449.0  \n",
       "BX-I            26021.0    62362.0  \n",
       "GR-E         16881739.0        NaN  \n",
       "GR-I         46539909.0        NaN  "
      ]
     },
     "execution_count": 1,
     "metadata": {},
     "output_type": "execute_result"
    }
   ],
   "source": [
    "act_counts = link_stats.pivot('dataset', 'gender', 'n_actions')\n",
    "act_counts = act_counts.reindex(columns=all_codes)\n",
    "act_counts.drop(index='LOC-MDS', inplace=True)\n",
    "act_counts"
   ]
  },
  {
   "cell_type": "markdown",
   "id": "5ab9a201",
   "metadata": {},
   "source": [
    "We're going to want to compute versions of this table as fractions, e.g. the fraction of books that are written by women.  We will use the following helper function:"
   ]
  },
  {
   "cell_type": "code",
   "execution_count": 8,
   "id": "fa1cbbc1",
   "metadata": {
    "execution": {
     "iopub.execute_input": "2021-06-09T16:06:05.857878Z",
     "iopub.status.busy": "2021-06-09T16:06:05.857878Z",
     "iopub.status.idle": "2021-06-09T16:06:05.867875Z",
     "shell.execute_reply": "2021-06-09T16:06:05.866897Z"
    }
   },
   "outputs": [],
   "source": [
    "def fractionalize(data, columns, unlinked=None):\n",
    "    fracs = data[columns]\n",
    "    fracs.columns = fracs.columns.astype('str')\n",
    "    if unlinked:\n",
    "        fracs = fracs.assign(unlinked=data[unlinked].sum(axis=1))\n",
    "    totals = fracs.sum(axis=1)\n",
    "    return fracs.divide(totals, axis=0)"
   ]
  },
  {
   "cell_type": "markdown",
   "id": "eea8f27f",
   "metadata": {},
   "source": [
    "And a helper function for plotting bar charts:"
   ]
  },
  {
   "cell_type": "code",
   "execution_count": 9,
   "id": "ee886d45",
   "metadata": {
    "execution": {
     "iopub.execute_input": "2021-06-09T16:06:05.873874Z",
     "iopub.status.busy": "2021-06-09T16:06:05.872907Z",
     "iopub.status.idle": "2021-06-09T16:06:05.882943Z",
     "shell.execute_reply": "2021-06-09T16:06:05.883890Z"
    }
   },
   "outputs": [],
   "source": [
    "def plot_bars(fracs, ax=None, cmap=mpl.cm.Dark2):\n",
    "    if ax is None:\n",
    "        ax = plt.gca()\n",
    "    size = 0.5\n",
    "    ind = np.arange(len(fracs))\n",
    "    start = pd.Series(0, index=fracs.index)\n",
    "    for i, col in enumerate(fracs.columns):\n",
    "        vals = fracs.iloc[:, i]\n",
    "        rects = ax.barh(ind, vals, size, left=start, label=col, color=cmap(i))\n",
    "        for j, rec in enumerate(rects):\n",
    "            if vals.iloc[j] < 0.1 or np.isnan(vals.iloc[j]): continue\n",
    "            y = rec.get_y() + rec.get_height() / 2\n",
    "            x = start.iloc[j] + vals.iloc[j] / 2\n",
    "            ax.annotate('{:.1f}%'.format(vals.iloc[j] * 100),\n",
    "                        xy=(x,y), ha='center', va='center', color='white',\n",
    "                        fontweight='bold')\n",
    "        start += vals.fillna(0)\n",
    "    ax.set_xlabel('Fraction of Books')\n",
    "    ax.set_ylabel('Data Set')\n",
    "    ax.set_yticks(ind)\n",
    "    ax.set_yticklabels(fracs.index)\n",
    "    ax.legend(loc='center left', bbox_to_anchor=(1, 0.5))"
   ]
  },
  {
   "cell_type": "markdown",
   "id": "51364a22",
   "metadata": {},
   "source": [
    "## Resolution of Books\n",
    "\n",
    "What fraction of *unique books* are resolved from each source?"
   ]
  },
  {
   "cell_type": "code",
   "execution_count": 10,
   "id": "bbd209cd",
   "metadata": {
    "execution": {
     "iopub.execute_input": "2021-06-09T16:06:05.887874Z",
     "iopub.status.busy": "2021-06-09T16:06:05.887874Z",
     "iopub.status.idle": "2021-06-09T16:06:05.897905Z",
     "shell.execute_reply": "2021-06-09T16:06:05.898875Z"
    }
   },
   "outputs": [
    {
     "data": {
      "text/html": [
       "<div>\n",
       "<style scoped>\n",
       "    .dataframe tbody tr th:only-of-type {\n",
       "        vertical-align: middle;\n",
       "    }\n",
       "\n",
       "    .dataframe tbody tr th {\n",
       "        vertical-align: top;\n",
       "    }\n",
       "\n",
       "    .dataframe thead th {\n",
       "        text-align: right;\n",
       "    }\n",
       "</style>\n",
       "<table border=\"1\" class=\"dataframe\">\n",
       "  <thead>\n",
       "    <tr style=\"text-align: right;\">\n",
       "      <th>gender</th>\n",
       "      <th>female</th>\n",
       "      <th>male</th>\n",
       "      <th>ambiguous</th>\n",
       "      <th>unknown</th>\n",
       "      <th>no-author-rec</th>\n",
       "      <th>no-book-author</th>\n",
       "      <th>no-book</th>\n",
       "    </tr>\n",
       "    <tr>\n",
       "      <th>dataset</th>\n",
       "      <th></th>\n",
       "      <th></th>\n",
       "      <th></th>\n",
       "      <th></th>\n",
       "      <th></th>\n",
       "      <th></th>\n",
       "      <th></th>\n",
       "    </tr>\n",
       "  </thead>\n",
       "  <tbody>\n",
       "    <tr>\n",
       "      <th>AZ</th>\n",
       "      <td>0.096194</td>\n",
       "      <td>0.217050</td>\n",
       "      <td>0.007874</td>\n",
       "      <td>0.105805</td>\n",
       "      <td>0.062372</td>\n",
       "      <td>0.096616</td>\n",
       "      <td>0.414088</td>\n",
       "    </tr>\n",
       "    <tr>\n",
       "      <th>BX-E</th>\n",
       "      <td>0.252132</td>\n",
       "      <td>0.373656</td>\n",
       "      <td>0.027888</td>\n",
       "      <td>0.112566</td>\n",
       "      <td>0.045520</td>\n",
       "      <td>0.043454</td>\n",
       "      <td>0.144784</td>\n",
       "    </tr>\n",
       "    <tr>\n",
       "      <th>BX-I</th>\n",
       "      <td>0.241319</td>\n",
       "      <td>0.352351</td>\n",
       "      <td>0.025674</td>\n",
       "      <td>0.125025</td>\n",
       "      <td>0.050338</td>\n",
       "      <td>0.046967</td>\n",
       "      <td>0.158326</td>\n",
       "    </tr>\n",
       "    <tr>\n",
       "      <th>GR-E</th>\n",
       "      <td>0.118322</td>\n",
       "      <td>0.188188</td>\n",
       "      <td>0.007850</td>\n",
       "      <td>0.064978</td>\n",
       "      <td>0.020290</td>\n",
       "      <td>0.600372</td>\n",
       "      <td>NaN</td>\n",
       "    </tr>\n",
       "    <tr>\n",
       "      <th>GR-I</th>\n",
       "      <td>0.117698</td>\n",
       "      <td>0.187746</td>\n",
       "      <td>0.007809</td>\n",
       "      <td>0.065223</td>\n",
       "      <td>0.020474</td>\n",
       "      <td>0.601050</td>\n",
       "      <td>NaN</td>\n",
       "    </tr>\n",
       "    <tr>\n",
       "      <th>LOC-MDS</th>\n",
       "      <td>0.126540</td>\n",
       "      <td>0.420005</td>\n",
       "      <td>0.010290</td>\n",
       "      <td>0.231428</td>\n",
       "      <td>0.051746</td>\n",
       "      <td>0.159991</td>\n",
       "      <td>NaN</td>\n",
       "    </tr>\n",
       "  </tbody>\n",
       "</table>\n",
       "</div>"
      ],
      "text/plain": [
       "gender     female      male  ambiguous   unknown  no-author-rec  \\\n",
       "dataset                                                           \n",
       "AZ       0.096194  0.217050   0.007874  0.105805       0.062372   \n",
       "BX-E     0.252132  0.373656   0.027888  0.112566       0.045520   \n",
       "BX-I     0.241319  0.352351   0.025674  0.125025       0.050338   \n",
       "GR-E     0.118322  0.188188   0.007850  0.064978       0.020290   \n",
       "GR-I     0.117698  0.187746   0.007809  0.065223       0.020474   \n",
       "LOC-MDS  0.126540  0.420005   0.010290  0.231428       0.051746   \n",
       "\n",
       "gender   no-book-author   no-book  \n",
       "dataset                            \n",
       "AZ             0.096616  0.414088  \n",
       "BX-E           0.043454  0.144784  \n",
       "BX-I           0.046967  0.158326  \n",
       "GR-E           0.600372       NaN  \n",
       "GR-I           0.601050       NaN  \n",
       "LOC-MDS        0.159991       NaN  "
      ]
     },
     "execution_count": 1,
     "metadata": {},
     "output_type": "execute_result"
    }
   ],
   "source": [
    "fractionalize(book_counts, link_codes + unlink_codes)"
   ]
  },
  {
   "cell_type": "code",
   "execution_count": 11,
   "id": "3600eafe",
   "metadata": {
    "execution": {
     "iopub.execute_input": "2021-06-09T16:06:05.911872Z",
     "iopub.status.busy": "2021-06-09T16:06:05.910905Z",
     "iopub.status.idle": "2021-06-09T16:06:06.168903Z",
     "shell.execute_reply": "2021-06-09T16:06:06.167871Z"
    }
   },
   "outputs": [
    {
     "data": {
      "image/png": "[encoded data removed]",
      "text/plain": [
       "<Figure size 432x288 with 1 Axes>"
      ]
     },
     "metadata": {
      "needs_background": "light"
     },
     "output_type": "display_data"
    }
   ],
   "source": [
    "plot_bars(fractionalize(book_counts, link_codes + unlink_codes))"
   ]
  },
  {
   "cell_type": "code",
   "execution_count": 12,
   "id": "8f6be666",
   "metadata": {
    "execution": {
     "iopub.execute_input": "2021-06-09T16:06:06.178872Z",
     "iopub.status.busy": "2021-06-09T16:06:06.177872Z",
     "iopub.status.idle": "2021-06-09T16:06:06.182871Z",
     "shell.execute_reply": "2021-06-09T16:06:06.183878Z"
    }
   },
   "outputs": [
    {
     "data": {
      "text/html": [
       "<div>\n",
       "<style scoped>\n",
       "    .dataframe tbody tr th:only-of-type {\n",
       "        vertical-align: middle;\n",
       "    }\n",
       "\n",
       "    .dataframe tbody tr th {\n",
       "        vertical-align: top;\n",
       "    }\n",
       "\n",
       "    .dataframe thead th {\n",
       "        text-align: right;\n",
       "    }\n",
       "</style>\n",
       "<table border=\"1\" class=\"dataframe\">\n",
       "  <thead>\n",
       "    <tr style=\"text-align: right;\">\n",
       "      <th>gender</th>\n",
       "      <th>female</th>\n",
       "      <th>male</th>\n",
       "      <th>ambiguous</th>\n",
       "      <th>unknown</th>\n",
       "      <th>unlinked</th>\n",
       "    </tr>\n",
       "    <tr>\n",
       "      <th>dataset</th>\n",
       "      <th></th>\n",
       "      <th></th>\n",
       "      <th></th>\n",
       "      <th></th>\n",
       "      <th></th>\n",
       "    </tr>\n",
       "  </thead>\n",
       "  <tbody>\n",
       "    <tr>\n",
       "      <th>AZ</th>\n",
       "      <td>0.096194</td>\n",
       "      <td>0.217050</td>\n",
       "      <td>0.007874</td>\n",
       "      <td>0.105805</td>\n",
       "      <td>0.573077</td>\n",
       "    </tr>\n",
       "    <tr>\n",
       "      <th>BX-E</th>\n",
       "      <td>0.252132</td>\n",
       "      <td>0.373656</td>\n",
       "      <td>0.027888</td>\n",
       "      <td>0.112566</td>\n",
       "      <td>0.233758</td>\n",
       "    </tr>\n",
       "    <tr>\n",
       "      <th>BX-I</th>\n",
       "      <td>0.241319</td>\n",
       "      <td>0.352351</td>\n",
       "      <td>0.025674</td>\n",
       "      <td>0.125025</td>\n",
       "      <td>0.255631</td>\n",
       "    </tr>\n",
       "    <tr>\n",
       "      <th>GR-E</th>\n",
       "      <td>0.118322</td>\n",
       "      <td>0.188188</td>\n",
       "      <td>0.007850</td>\n",
       "      <td>0.064978</td>\n",
       "      <td>0.620662</td>\n",
       "    </tr>\n",
       "    <tr>\n",
       "      <th>GR-I</th>\n",
       "      <td>0.117698</td>\n",
       "      <td>0.187746</td>\n",
       "      <td>0.007809</td>\n",
       "      <td>0.065223</td>\n",
       "      <td>0.621524</td>\n",
       "    </tr>\n",
       "    <tr>\n",
       "      <th>LOC-MDS</th>\n",
       "      <td>0.126540</td>\n",
       "      <td>0.420005</td>\n",
       "      <td>0.010290</td>\n",
       "      <td>0.231428</td>\n",
       "      <td>0.211737</td>\n",
       "    </tr>\n",
       "  </tbody>\n",
       "</table>\n",
       "</div>"
      ],
      "text/plain": [
       "gender     female      male  ambiguous   unknown  unlinked\n",
       "dataset                                                   \n",
       "AZ       0.096194  0.217050   0.007874  0.105805  0.573077\n",
       "BX-E     0.252132  0.373656   0.027888  0.112566  0.233758\n",
       "BX-I     0.241319  0.352351   0.025674  0.125025  0.255631\n",
       "GR-E     0.118322  0.188188   0.007850  0.064978  0.620662\n",
       "GR-I     0.117698  0.187746   0.007809  0.065223  0.621524\n",
       "LOC-MDS  0.126540  0.420005   0.010290  0.231428  0.211737"
      ]
     },
     "execution_count": 1,
     "metadata": {},
     "output_type": "execute_result"
    }
   ],
   "source": [
    "fractionalize(book_counts, link_codes, unlink_codes)"
   ]
  },
  {
   "cell_type": "code",
   "execution_count": 13,
   "id": "2f4a1d07",
   "metadata": {
    "execution": {
     "iopub.execute_input": "2021-06-09T16:06:06.207872Z",
     "iopub.status.busy": "2021-06-09T16:06:06.199904Z",
     "iopub.status.idle": "2021-06-09T16:06:06.419472Z",
     "shell.execute_reply": "2021-06-09T16:06:06.419472Z"
    }
   },
   "outputs": [
    {
     "data": {
      "image/png": "[encoded data removed]",
      "text/plain": [
       "<Figure size 432x288 with 1 Axes>"
      ]
     },
     "metadata": {
      "needs_background": "light"
     },
     "output_type": "display_data"
    }
   ],
   "source": [
    "plot_bars(fractionalize(book_counts, link_codes, unlink_codes))"
   ]
  },
  {
   "cell_type": "code",
   "execution_count": 14,
   "id": "6c88168e",
   "metadata": {
    "execution": {
     "iopub.execute_input": "2021-06-09T16:06:06.438484Z",
     "iopub.status.busy": "2021-06-09T16:06:06.434474Z",
     "iopub.status.idle": "2021-06-09T16:06:06.561507Z",
     "shell.execute_reply": "2021-06-09T16:06:06.560473Z"
    }
   },
   "outputs": [
    {
     "data": {
      "image/png": "[encoded data removed]",
      "text/plain": [
       "<Figure size 432x288 with 1 Axes>"
      ]
     },
     "metadata": {
      "needs_background": "light"
     },
     "output_type": "display_data"
    }
   ],
   "source": [
    "plot_bars(fractionalize(book_counts, ['female', 'male']))"
   ]
  },
  {
   "cell_type": "markdown",
   "id": "cf030ecb",
   "metadata": {},
   "source": [
    "## Resolution of Ratings\n",
    "\n",
    "What fraction of *rating actions* have each resolution result?"
   ]
  },
  {
   "cell_type": "code",
   "execution_count": 15,
   "id": "2e037bac",
   "metadata": {
    "execution": {
     "iopub.execute_input": "2021-06-09T16:06:06.572487Z",
     "iopub.status.busy": "2021-06-09T16:06:06.572487Z",
     "iopub.status.idle": "2021-06-09T16:06:06.576498Z",
     "shell.execute_reply": "2021-06-09T16:06:06.575491Z"
    }
   },
   "outputs": [
    {
     "data": {
      "text/html": [
       "<div>\n",
       "<style scoped>\n",
       "    .dataframe tbody tr th:only-of-type {\n",
       "        vertical-align: middle;\n",
       "    }\n",
       "\n",
       "    .dataframe tbody tr th {\n",
       "        vertical-align: top;\n",
       "    }\n",
       "\n",
       "    .dataframe thead th {\n",
       "        text-align: right;\n",
       "    }\n",
       "</style>\n",
       "<table border=\"1\" class=\"dataframe\">\n",
       "  <thead>\n",
       "    <tr style=\"text-align: right;\">\n",
       "      <th>gender</th>\n",
       "      <th>female</th>\n",
       "      <th>male</th>\n",
       "      <th>ambiguous</th>\n",
       "      <th>unknown</th>\n",
       "      <th>no-author-rec</th>\n",
       "      <th>no-book-author</th>\n",
       "      <th>no-book</th>\n",
       "    </tr>\n",
       "    <tr>\n",
       "      <th>dataset</th>\n",
       "      <th></th>\n",
       "      <th></th>\n",
       "      <th></th>\n",
       "      <th></th>\n",
       "      <th></th>\n",
       "      <th></th>\n",
       "      <th></th>\n",
       "    </tr>\n",
       "  </thead>\n",
       "  <tbody>\n",
       "    <tr>\n",
       "      <th>AZ</th>\n",
       "      <td>0.193225</td>\n",
       "      <td>0.294190</td>\n",
       "      <td>0.027172</td>\n",
       "      <td>0.093206</td>\n",
       "      <td>0.032791</td>\n",
       "      <td>0.157972</td>\n",
       "      <td>0.201443</td>\n",
       "    </tr>\n",
       "    <tr>\n",
       "      <th>BX-E</th>\n",
       "      <td>0.324276</td>\n",
       "      <td>0.432030</td>\n",
       "      <td>0.076672</td>\n",
       "      <td>0.064566</td>\n",
       "      <td>0.020510</td>\n",
       "      <td>0.022355</td>\n",
       "      <td>0.059590</td>\n",
       "    </tr>\n",
       "    <tr>\n",
       "      <th>BX-I</th>\n",
       "      <td>0.346255</td>\n",
       "      <td>0.413708</td>\n",
       "      <td>0.071924</td>\n",
       "      <td>0.069175</td>\n",
       "      <td>0.020644</td>\n",
       "      <td>0.023051</td>\n",
       "      <td>0.055243</td>\n",
       "    </tr>\n",
       "    <tr>\n",
       "      <th>GR-E</th>\n",
       "      <td>0.345237</td>\n",
       "      <td>0.348378</td>\n",
       "      <td>0.092984</td>\n",
       "      <td>0.039659</td>\n",
       "      <td>0.005229</td>\n",
       "      <td>0.168513</td>\n",
       "      <td>NaN</td>\n",
       "    </tr>\n",
       "    <tr>\n",
       "      <th>GR-I</th>\n",
       "      <td>0.344306</td>\n",
       "      <td>0.322421</td>\n",
       "      <td>0.068431</td>\n",
       "      <td>0.047525</td>\n",
       "      <td>0.006730</td>\n",
       "      <td>0.210588</td>\n",
       "      <td>NaN</td>\n",
       "    </tr>\n",
       "  </tbody>\n",
       "</table>\n",
       "</div>"
      ],
      "text/plain": [
       "gender     female      male  ambiguous   unknown  no-author-rec  \\\n",
       "dataset                                                           \n",
       "AZ       0.193225  0.294190   0.027172  0.093206       0.032791   \n",
       "BX-E     0.324276  0.432030   0.076672  0.064566       0.020510   \n",
       "BX-I     0.346255  0.413708   0.071924  0.069175       0.020644   \n",
       "GR-E     0.345237  0.348378   0.092984  0.039659       0.005229   \n",
       "GR-I     0.344306  0.322421   0.068431  0.047525       0.006730   \n",
       "\n",
       "gender   no-book-author   no-book  \n",
       "dataset                            \n",
       "AZ             0.157972  0.201443  \n",
       "BX-E           0.022355  0.059590  \n",
       "BX-I           0.023051  0.055243  \n",
       "GR-E           0.168513       NaN  \n",
       "GR-I           0.210588       NaN  "
      ]
     },
     "execution_count": 1,
     "metadata": {},
     "output_type": "execute_result"
    }
   ],
   "source": [
    "fractionalize(act_counts, link_codes + unlink_codes)"
   ]
  },
  {
   "cell_type": "code",
   "execution_count": 16,
   "id": "fbaf7b11",
   "metadata": {
    "execution": {
     "iopub.execute_input": "2021-06-09T16:06:06.596473Z",
     "iopub.status.busy": "2021-06-09T16:06:06.592472Z",
     "iopub.status.idle": "2021-06-09T16:06:06.765699Z",
     "shell.execute_reply": "2021-06-09T16:06:06.764699Z"
    }
   },
   "outputs": [
    {
     "data": {
      "image/png": "[encoded data removed]",
      "text/plain": [
       "<Figure size 432x288 with 1 Axes>"
      ]
     },
     "metadata": {
      "needs_background": "light"
     },
     "output_type": "display_data"
    }
   ],
   "source": [
    "plot_bars(fractionalize(act_counts, link_codes + unlink_codes))"
   ]
  },
  {
   "cell_type": "code",
   "execution_count": 17,
   "id": "8a53aa3e",
   "metadata": {
    "execution": {
     "iopub.execute_input": "2021-06-09T16:06:06.774736Z",
     "iopub.status.busy": "2021-06-09T16:06:06.774736Z",
     "iopub.status.idle": "2021-06-09T16:06:06.781700Z",
     "shell.execute_reply": "2021-06-09T16:06:06.780739Z"
    }
   },
   "outputs": [
    {
     "data": {
      "text/html": [
       "<div>\n",
       "<style scoped>\n",
       "    .dataframe tbody tr th:only-of-type {\n",
       "        vertical-align: middle;\n",
       "    }\n",
       "\n",
       "    .dataframe tbody tr th {\n",
       "        vertical-align: top;\n",
       "    }\n",
       "\n",
       "    .dataframe thead th {\n",
       "        text-align: right;\n",
       "    }\n",
       "</style>\n",
       "<table border=\"1\" class=\"dataframe\">\n",
       "  <thead>\n",
       "    <tr style=\"text-align: right;\">\n",
       "      <th>gender</th>\n",
       "      <th>female</th>\n",
       "      <th>male</th>\n",
       "      <th>ambiguous</th>\n",
       "      <th>unknown</th>\n",
       "      <th>unlinked</th>\n",
       "    </tr>\n",
       "    <tr>\n",
       "      <th>dataset</th>\n",
       "      <th></th>\n",
       "      <th></th>\n",
       "      <th></th>\n",
       "      <th></th>\n",
       "      <th></th>\n",
       "    </tr>\n",
       "  </thead>\n",
       "  <tbody>\n",
       "    <tr>\n",
       "      <th>AZ</th>\n",
       "      <td>0.193225</td>\n",
       "      <td>0.294190</td>\n",
       "      <td>0.027172</td>\n",
       "      <td>0.093206</td>\n",
       "      <td>0.392206</td>\n",
       "    </tr>\n",
       "    <tr>\n",
       "      <th>BX-E</th>\n",
       "      <td>0.324276</td>\n",
       "      <td>0.432030</td>\n",
       "      <td>0.076672</td>\n",
       "      <td>0.064566</td>\n",
       "      <td>0.102455</td>\n",
       "    </tr>\n",
       "    <tr>\n",
       "      <th>BX-I</th>\n",
       "      <td>0.346255</td>\n",
       "      <td>0.413708</td>\n",
       "      <td>0.071924</td>\n",
       "      <td>0.069175</td>\n",
       "      <td>0.098937</td>\n",
       "    </tr>\n",
       "    <tr>\n",
       "      <th>GR-E</th>\n",
       "      <td>0.345237</td>\n",
       "      <td>0.348378</td>\n",
       "      <td>0.092984</td>\n",
       "      <td>0.039659</td>\n",
       "      <td>0.173742</td>\n",
       "    </tr>\n",
       "    <tr>\n",
       "      <th>GR-I</th>\n",
       "      <td>0.344306</td>\n",
       "      <td>0.322421</td>\n",
       "      <td>0.068431</td>\n",
       "      <td>0.047525</td>\n",
       "      <td>0.217318</td>\n",
       "    </tr>\n",
       "  </tbody>\n",
       "</table>\n",
       "</div>"
      ],
      "text/plain": [
       "gender     female      male  ambiguous   unknown  unlinked\n",
       "dataset                                                   \n",
       "AZ       0.193225  0.294190   0.027172  0.093206  0.392206\n",
       "BX-E     0.324276  0.432030   0.076672  0.064566  0.102455\n",
       "BX-I     0.346255  0.413708   0.071924  0.069175  0.098937\n",
       "GR-E     0.345237  0.348378   0.092984  0.039659  0.173742\n",
       "GR-I     0.344306  0.322421   0.068431  0.047525  0.217318"
      ]
     },
     "execution_count": 1,
     "metadata": {},
     "output_type": "execute_result"
    }
   ],
   "source": [
    "fractionalize(act_counts, link_codes, unlink_codes)"
   ]
  },
  {
   "cell_type": "code",
   "execution_count": 18,
   "id": "92988ac9",
   "metadata": {
    "execution": {
     "iopub.execute_input": "2021-06-09T16:06:06.803699Z",
     "iopub.status.busy": "2021-06-09T16:06:06.799698Z",
     "iopub.status.idle": "2021-06-09T16:06:06.955716Z",
     "shell.execute_reply": "2021-06-09T16:06:06.954726Z"
    }
   },
   "outputs": [
    {
     "data": {
      "image/png": "[encoded data removed]",
      "text/plain": [
       "<Figure size 432x288 with 1 Axes>"
      ]
     },
     "metadata": {
      "needs_background": "light"
     },
     "output_type": "display_data"
    }
   ],
   "source": [
    "plot_bars(fractionalize(act_counts, link_codes, unlink_codes))"
   ]
  },
  {
   "cell_type": "code",
   "execution_count": 19,
   "id": "8c9b1896",
   "metadata": {
    "execution": {
     "iopub.execute_input": "2021-06-09T16:06:06.969728Z",
     "iopub.status.busy": "2021-06-09T16:06:06.968722Z",
     "iopub.status.idle": "2021-06-09T16:06:07.082697Z",
     "shell.execute_reply": "2021-06-09T16:06:07.082697Z"
    }
   },
   "outputs": [
    {
     "data": {
      "image/png": "[encoded data removed]",
      "text/plain": [
       "<Figure size 432x288 with 1 Axes>"
      ]
     },
     "metadata": {
      "needs_background": "light"
     },
     "output_type": "display_data"
    }
   ],
   "source": [
    "plot_bars(fractionalize(act_counts, ['female', 'male']))"
   ]
  }
 ],
 "metadata": {
  "jupytext": {
   "formats": "ipynb,py:percent"
  },
  "kernelspec": {
   "display_name": "Python 3",
   "language": "python",
   "name": "python3"
  },
  "language_info": {
   "codemirror_mode": {
    "name": "ipython",
    "version": 3
   },
   "file_extension": ".py",
   "mimetype": "text/x-python",
   "name": "python",
   "nbconvert_exporter": "python",
   "pygments_lexer": "ipython3",
   "version": "3.8.10"
  }
 },
 "nbformat": 4,
 "nbformat_minor": 5
}
