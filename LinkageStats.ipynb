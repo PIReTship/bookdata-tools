{
 "cells": [
  {
   "cell_type": "markdown",
   "id": "278dd551",
   "metadata": {},
   "source": [
    "# Book Data Linkage Statistics\n",
    "\n",
    "This notebook presents statistics of the book data integration."
   ]
  },
  {
   "cell_type": "markdown",
   "id": "7fc3825a",
   "metadata": {},
   "source": [
    "## Setup"
   ]
  },
  {
   "cell_type": "code",
   "execution_count": 1,
   "id": "f2ba9e84",
   "metadata": {
    "execution": {
     "iopub.execute_input": "2021-10-24T21:55:20.566807Z",
     "iopub.status.busy": "2021-10-24T21:55:20.564839Z",
     "iopub.status.idle": "2021-10-24T21:55:21.920266Z",
     "shell.execute_reply": "2021-10-24T21:55:21.920912Z"
    },
    "tags": []
   },
   "outputs": [],
   "source": [
    "import pandas as pd\n",
    "import seaborn as sns\n",
    "import matplotlib as mpl\n",
    "import matplotlib.pyplot as plt\n",
    "import numpy as np"
   ]
  },
  {
   "cell_type": "markdown",
   "id": "88875b31",
   "metadata": {},
   "source": [
    "## Load Link Stats\n",
    "\n",
    "We compute dataset linking statitsics as `gender-stats.csv` using DataFusion.  Let's load those:"
   ]
  },
  {
   "cell_type": "code",
   "execution_count": 2,
   "id": "6afcc35c",
   "metadata": {
    "execution": {
     "iopub.execute_input": "2021-10-24T21:55:21.927108Z",
     "iopub.status.busy": "2021-10-24T21:55:21.926330Z",
     "iopub.status.idle": "2021-10-24T21:55:21.944262Z",
     "shell.execute_reply": "2021-10-24T21:55:21.944911Z"
    },
    "tags": []
   },
   "outputs": [
    {
     "data": {
      "text/html": [
       "<div>\n",
       "<style scoped>\n",
       "    .dataframe tbody tr th:only-of-type {\n",
       "        vertical-align: middle;\n",
       "    }\n",
       "\n",
       "    .dataframe tbody tr th {\n",
       "        vertical-align: top;\n",
       "    }\n",
       "\n",
       "    .dataframe thead th {\n",
       "        text-align: right;\n",
       "    }\n",
       "</style>\n",
       "<table border=\"1\" class=\"dataframe\">\n",
       "  <thead>\n",
       "    <tr style=\"text-align: right;\">\n",
       "      <th></th>\n",
       "      <th>dataset</th>\n",
       "      <th>gender</th>\n",
       "      <th>n_books</th>\n",
       "      <th>n_actions</th>\n",
       "    </tr>\n",
       "  </thead>\n",
       "  <tbody>\n",
       "    <tr>\n",
       "      <th>0</th>\n",
       "      <td>BX-E</td>\n",
       "      <td>ambiguous</td>\n",
       "      <td>4209</td>\n",
       "      <td>31204</td>\n",
       "    </tr>\n",
       "    <tr>\n",
       "      <th>1</th>\n",
       "      <td>BX-E</td>\n",
       "      <td>no-author-rec</td>\n",
       "      <td>6875</td>\n",
       "      <td>8759</td>\n",
       "    </tr>\n",
       "    <tr>\n",
       "      <th>2</th>\n",
       "      <td>BX-E</td>\n",
       "      <td>no-book-author</td>\n",
       "      <td>6548</td>\n",
       "      <td>9505</td>\n",
       "    </tr>\n",
       "    <tr>\n",
       "      <th>3</th>\n",
       "      <td>BX-E</td>\n",
       "      <td>unknown</td>\n",
       "      <td>17003</td>\n",
       "      <td>27577</td>\n",
       "    </tr>\n",
       "    <tr>\n",
       "      <th>4</th>\n",
       "      <td>BX-E</td>\n",
       "      <td>no-book</td>\n",
       "      <td>21883</td>\n",
       "      <td>25523</td>\n",
       "    </tr>\n",
       "  </tbody>\n",
       "</table>\n",
       "</div>"
      ],
      "text/plain": [
       "  dataset          gender  n_books  n_actions\n",
       "0    BX-E       ambiguous     4209      31204\n",
       "1    BX-E   no-author-rec     6875       8759\n",
       "2    BX-E  no-book-author     6548       9505\n",
       "3    BX-E         unknown    17003      27577\n",
       "4    BX-E         no-book    21883      25523"
      ]
     },
     "execution_count": 2,
     "metadata": {},
     "output_type": "execute_result"
    }
   ],
   "source": [
    "link_stats = pd.read_csv('book-links/gender-stats.csv')\n",
    "link_stats.head()"
   ]
  },
  {
   "cell_type": "markdown",
   "id": "6a2fe17c",
   "metadata": {},
   "source": [
    "Now let's define variables for our variou codes. We are first going to define our gender codes.  We'll start with the resolved codes:"
   ]
  },
  {
   "cell_type": "code",
   "execution_count": 3,
   "id": "292700d7",
   "metadata": {
    "execution": {
     "iopub.execute_input": "2021-10-24T21:55:21.950589Z",
     "iopub.status.busy": "2021-10-24T21:55:21.949821Z",
     "iopub.status.idle": "2021-10-24T21:55:21.952296Z",
     "shell.execute_reply": "2021-10-24T21:55:21.952925Z"
    },
    "tags": []
   },
   "outputs": [],
   "source": [
    "link_codes = ['female', 'male', 'ambiguous', 'unknown']"
   ]
  },
  {
   "cell_type": "markdown",
   "id": "f1c4b460",
   "metadata": {},
   "source": [
    "We want the unlink codes in order, so the last is the first link failure:"
   ]
  },
  {
   "cell_type": "code",
   "execution_count": 4,
   "id": "2cf3a97c",
   "metadata": {
    "execution": {
     "iopub.execute_input": "2021-10-24T21:55:21.958366Z",
     "iopub.status.busy": "2021-10-24T21:55:21.957579Z",
     "iopub.status.idle": "2021-10-24T21:55:21.960112Z",
     "shell.execute_reply": "2021-10-24T21:55:21.960734Z"
    },
    "tags": []
   },
   "outputs": [],
   "source": [
    "unlink_codes = ['no-author-rec', 'no-book-author', 'no-book']"
   ]
  },
  {
   "cell_type": "code",
   "execution_count": 5,
   "id": "4ab765ac",
   "metadata": {
    "execution": {
     "iopub.execute_input": "2021-10-24T21:55:21.965942Z",
     "iopub.status.busy": "2021-10-24T21:55:21.965163Z",
     "iopub.status.idle": "2021-10-24T21:55:21.967737Z",
     "shell.execute_reply": "2021-10-24T21:55:21.968348Z"
    },
    "tags": []
   },
   "outputs": [],
   "source": [
    "all_codes = link_codes + unlink_codes"
   ]
  },
  {
   "cell_type": "markdown",
   "id": "3ab2a851",
   "metadata": {},
   "source": [
    "## Processing Statistics\n",
    "\n",
    "Now we'll pivot each of our count columns into a table for easier reference."
   ]
  },
  {
   "cell_type": "code",
   "execution_count": 6,
   "id": "10cd44b8",
   "metadata": {
    "execution": {
     "iopub.execute_input": "2021-10-24T21:55:21.997411Z",
     "iopub.status.busy": "2021-10-24T21:55:21.996618Z",
     "iopub.status.idle": "2021-10-24T21:55:22.000239Z",
     "shell.execute_reply": "2021-10-24T21:55:22.000862Z"
    },
    "tags": []
   },
   "outputs": [
    {
     "data": {
      "text/html": [
       "<div>\n",
       "<style scoped>\n",
       "    .dataframe tbody tr th:only-of-type {\n",
       "        vertical-align: middle;\n",
       "    }\n",
       "\n",
       "    .dataframe tbody tr th {\n",
       "        vertical-align: top;\n",
       "    }\n",
       "\n",
       "    .dataframe thead th {\n",
       "        text-align: right;\n",
       "    }\n",
       "</style>\n",
       "<table border=\"1\" class=\"dataframe\">\n",
       "  <thead>\n",
       "    <tr style=\"text-align: right;\">\n",
       "      <th>gender</th>\n",
       "      <th>female</th>\n",
       "      <th>male</th>\n",
       "      <th>ambiguous</th>\n",
       "      <th>unknown</th>\n",
       "      <th>no-author-rec</th>\n",
       "      <th>no-book-author</th>\n",
       "      <th>no-book</th>\n",
       "      <th>total</th>\n",
       "    </tr>\n",
       "    <tr>\n",
       "      <th>dataset</th>\n",
       "      <th></th>\n",
       "      <th></th>\n",
       "      <th></th>\n",
       "      <th></th>\n",
       "      <th></th>\n",
       "      <th></th>\n",
       "      <th></th>\n",
       "      <th></th>\n",
       "    </tr>\n",
       "  </thead>\n",
       "  <tbody>\n",
       "    <tr>\n",
       "      <th>AZ</th>\n",
       "      <td>217900.0</td>\n",
       "      <td>491600.0</td>\n",
       "      <td>17825.0</td>\n",
       "      <td>239646.0</td>\n",
       "      <td>141262.0</td>\n",
       "      <td>220524.0</td>\n",
       "      <td>936338.0</td>\n",
       "      <td>2265095.0</td>\n",
       "    </tr>\n",
       "    <tr>\n",
       "      <th>BX-E</th>\n",
       "      <td>38089.0</td>\n",
       "      <td>56451.0</td>\n",
       "      <td>4209.0</td>\n",
       "      <td>17003.0</td>\n",
       "      <td>6875.0</td>\n",
       "      <td>6548.0</td>\n",
       "      <td>21883.0</td>\n",
       "      <td>151058.0</td>\n",
       "    </tr>\n",
       "    <tr>\n",
       "      <th>BX-I</th>\n",
       "      <td>67153.0</td>\n",
       "      <td>98050.0</td>\n",
       "      <td>7141.0</td>\n",
       "      <td>34792.0</td>\n",
       "      <td>14003.0</td>\n",
       "      <td>13046.0</td>\n",
       "      <td>44067.0</td>\n",
       "      <td>278252.0</td>\n",
       "    </tr>\n",
       "    <tr>\n",
       "      <th>GR-E</th>\n",
       "      <td>175750.0</td>\n",
       "      <td>279497.0</td>\n",
       "      <td>11652.0</td>\n",
       "      <td>96511.0</td>\n",
       "      <td>30132.0</td>\n",
       "      <td>758172.0</td>\n",
       "      <td>NaN</td>\n",
       "      <td>1351714.0</td>\n",
       "    </tr>\n",
       "    <tr>\n",
       "      <th>GR-I</th>\n",
       "      <td>177361.0</td>\n",
       "      <td>282888.0</td>\n",
       "      <td>11759.0</td>\n",
       "      <td>98281.0</td>\n",
       "      <td>30847.0</td>\n",
       "      <td>768007.0</td>\n",
       "      <td>NaN</td>\n",
       "      <td>1369143.0</td>\n",
       "    </tr>\n",
       "    <tr>\n",
       "      <th>LOC-MDS</th>\n",
       "      <td>666633.0</td>\n",
       "      <td>2212568.0</td>\n",
       "      <td>54206.0</td>\n",
       "      <td>1219145.0</td>\n",
       "      <td>272587.0</td>\n",
       "      <td>842797.0</td>\n",
       "      <td>NaN</td>\n",
       "      <td>5267936.0</td>\n",
       "    </tr>\n",
       "  </tbody>\n",
       "</table>\n",
       "</div>"
      ],
      "text/plain": [
       "gender     female       male  ambiguous    unknown  no-author-rec  \\\n",
       "dataset                                                             \n",
       "AZ       217900.0   491600.0    17825.0   239646.0       141262.0   \n",
       "BX-E      38089.0    56451.0     4209.0    17003.0         6875.0   \n",
       "BX-I      67153.0    98050.0     7141.0    34792.0        14003.0   \n",
       "GR-E     175750.0   279497.0    11652.0    96511.0        30132.0   \n",
       "GR-I     177361.0   282888.0    11759.0    98281.0        30847.0   \n",
       "LOC-MDS  666633.0  2212568.0    54206.0  1219145.0       272587.0   \n",
       "\n",
       "gender   no-book-author   no-book      total  \n",
       "dataset                                       \n",
       "AZ             220524.0  936338.0  2265095.0  \n",
       "BX-E             6548.0   21883.0   151058.0  \n",
       "BX-I            13046.0   44067.0   278252.0  \n",
       "GR-E           758172.0       NaN  1351714.0  \n",
       "GR-I           768007.0       NaN  1369143.0  \n",
       "LOC-MDS        842797.0       NaN  5267936.0  "
      ]
     },
     "execution_count": 6,
     "metadata": {},
     "output_type": "execute_result"
    }
   ],
   "source": [
    "book_counts = link_stats.pivot('dataset', 'gender', 'n_books')\n",
    "book_counts = book_counts.reindex(columns=all_codes)\n",
    "book_counts.assign(total=book_counts.sum(axis=1))"
   ]
  },
  {
   "cell_type": "code",
   "execution_count": 7,
   "id": "794b402f",
   "metadata": {
    "execution": {
     "iopub.execute_input": "2021-10-24T21:55:22.024756Z",
     "iopub.status.busy": "2021-10-24T21:55:22.023968Z",
     "iopub.status.idle": "2021-10-24T21:55:22.028242Z",
     "shell.execute_reply": "2021-10-24T21:55:22.027556Z"
    },
    "tags": []
   },
   "outputs": [
    {
     "data": {
      "text/html": [
       "<div>\n",
       "<style scoped>\n",
       "    .dataframe tbody tr th:only-of-type {\n",
       "        vertical-align: middle;\n",
       "    }\n",
       "\n",
       "    .dataframe tbody tr th {\n",
       "        vertical-align: top;\n",
       "    }\n",
       "\n",
       "    .dataframe thead th {\n",
       "        text-align: right;\n",
       "    }\n",
       "</style>\n",
       "<table border=\"1\" class=\"dataframe\">\n",
       "  <thead>\n",
       "    <tr style=\"text-align: right;\">\n",
       "      <th>gender</th>\n",
       "      <th>female</th>\n",
       "      <th>male</th>\n",
       "      <th>ambiguous</th>\n",
       "      <th>unknown</th>\n",
       "      <th>no-author-rec</th>\n",
       "      <th>no-book-author</th>\n",
       "      <th>no-book</th>\n",
       "    </tr>\n",
       "    <tr>\n",
       "      <th>dataset</th>\n",
       "      <th></th>\n",
       "      <th></th>\n",
       "      <th></th>\n",
       "      <th></th>\n",
       "      <th></th>\n",
       "      <th></th>\n",
       "      <th></th>\n",
       "    </tr>\n",
       "  </thead>\n",
       "  <tbody>\n",
       "    <tr>\n",
       "      <th>AZ</th>\n",
       "      <td>4352195.0</td>\n",
       "      <td>6623262.0</td>\n",
       "      <td>564273.0</td>\n",
       "      <td>2096628.0</td>\n",
       "      <td>737698.0</td>\n",
       "      <td>3573926.0</td>\n",
       "      <td>4510112.0</td>\n",
       "    </tr>\n",
       "    <tr>\n",
       "      <th>BX-E</th>\n",
       "      <td>138864.0</td>\n",
       "      <td>185730.0</td>\n",
       "      <td>31204.0</td>\n",
       "      <td>27577.0</td>\n",
       "      <td>8759.0</td>\n",
       "      <td>9505.0</td>\n",
       "      <td>25523.0</td>\n",
       "    </tr>\n",
       "    <tr>\n",
       "      <th>BX-I</th>\n",
       "      <td>391575.0</td>\n",
       "      <td>469588.0</td>\n",
       "      <td>78247.0</td>\n",
       "      <td>78104.0</td>\n",
       "      <td>23301.0</td>\n",
       "      <td>25904.0</td>\n",
       "      <td>62527.0</td>\n",
       "    </tr>\n",
       "    <tr>\n",
       "      <th>GR-E</th>\n",
       "      <td>34919349.0</td>\n",
       "      <td>35154417.0</td>\n",
       "      <td>8897037.0</td>\n",
       "      <td>3978571.0</td>\n",
       "      <td>531146.0</td>\n",
       "      <td>15670001.0</td>\n",
       "      <td>NaN</td>\n",
       "    </tr>\n",
       "    <tr>\n",
       "      <th>GR-I</th>\n",
       "      <td>76649922.0</td>\n",
       "      <td>71740700.0</td>\n",
       "      <td>14441256.0</td>\n",
       "      <td>10520276.0</td>\n",
       "      <td>1499809.0</td>\n",
       "      <td>43218045.0</td>\n",
       "      <td>NaN</td>\n",
       "    </tr>\n",
       "  </tbody>\n",
       "</table>\n",
       "</div>"
      ],
      "text/plain": [
       "gender       female        male   ambiguous     unknown  no-author-rec  \\\n",
       "dataset                                                                  \n",
       "AZ        4352195.0   6623262.0    564273.0   2096628.0       737698.0   \n",
       "BX-E       138864.0    185730.0     31204.0     27577.0         8759.0   \n",
       "BX-I       391575.0    469588.0     78247.0     78104.0        23301.0   \n",
       "GR-E     34919349.0  35154417.0   8897037.0   3978571.0       531146.0   \n",
       "GR-I     76649922.0  71740700.0  14441256.0  10520276.0      1499809.0   \n",
       "\n",
       "gender   no-book-author    no-book  \n",
       "dataset                             \n",
       "AZ            3573926.0  4510112.0  \n",
       "BX-E             9505.0    25523.0  \n",
       "BX-I            25904.0    62527.0  \n",
       "GR-E         15670001.0        NaN  \n",
       "GR-I         43218045.0        NaN  "
      ]
     },
     "execution_count": 7,
     "metadata": {},
     "output_type": "execute_result"
    }
   ],
   "source": [
    "act_counts = link_stats.pivot('dataset', 'gender', 'n_actions')\n",
    "act_counts = act_counts.reindex(columns=all_codes)\n",
    "act_counts.drop(index='LOC-MDS', inplace=True)\n",
    "act_counts"
   ]
  },
  {
   "cell_type": "markdown",
   "id": "d87eb93b",
   "metadata": {},
   "source": [
    "We're going to want to compute versions of this table as fractions, e.g. the fraction of books that are written by women.  We will use the following helper function:"
   ]
  },
  {
   "cell_type": "code",
   "execution_count": 8,
   "id": "0ca797eb",
   "metadata": {
    "execution": {
     "iopub.execute_input": "2021-10-24T21:55:22.035256Z",
     "iopub.status.busy": "2021-10-24T21:55:22.034462Z",
     "iopub.status.idle": "2021-10-24T21:55:22.036860Z",
     "shell.execute_reply": "2021-10-24T21:55:22.037471Z"
    }
   },
   "outputs": [],
   "source": [
    "def fractionalize(data, columns, unlinked=None):\n",
    "    fracs = data[columns]\n",
    "    fracs.columns = fracs.columns.astype('str')\n",
    "    if unlinked:\n",
    "        fracs = fracs.assign(unlinked=data[unlinked].sum(axis=1))\n",
    "    totals = fracs.sum(axis=1)\n",
    "    return fracs.divide(totals, axis=0)"
   ]
  },
  {
   "cell_type": "markdown",
   "id": "29c20457",
   "metadata": {},
   "source": [
    "And a helper function for plotting bar charts:"
   ]
  },
  {
   "cell_type": "code",
   "execution_count": 9,
   "id": "92b7e44b",
   "metadata": {
    "execution": {
     "iopub.execute_input": "2021-10-24T21:55:22.049952Z",
     "iopub.status.busy": "2021-10-24T21:55:22.049139Z",
     "iopub.status.idle": "2021-10-24T21:55:22.051796Z",
     "shell.execute_reply": "2021-10-24T21:55:22.052413Z"
    }
   },
   "outputs": [],
   "source": [
    "def plot_bars(fracs, ax=None, cmap=mpl.cm.Dark2):\n",
    "    if ax is None:\n",
    "        ax = plt.gca()\n",
    "    size = 0.5\n",
    "    ind = np.arange(len(fracs))\n",
    "    start = pd.Series(0, index=fracs.index)\n",
    "    for i, col in enumerate(fracs.columns):\n",
    "        vals = fracs.iloc[:, i]\n",
    "        rects = ax.barh(ind, vals, size, left=start, label=col, color=cmap(i))\n",
    "        for j, rec in enumerate(rects):\n",
    "            if vals.iloc[j] < 0.1 or np.isnan(vals.iloc[j]): continue\n",
    "            y = rec.get_y() + rec.get_height() / 2\n",
    "            x = start.iloc[j] + vals.iloc[j] / 2\n",
    "            ax.annotate('{:.1f}%'.format(vals.iloc[j] * 100),\n",
    "                        xy=(x,y), ha='center', va='center', color='white',\n",
    "                        fontweight='bold')\n",
    "        start += vals.fillna(0)\n",
    "    ax.set_xlabel('Fraction of Books')\n",
    "    ax.set_ylabel('Data Set')\n",
    "    ax.set_yticks(ind)\n",
    "    ax.set_yticklabels(fracs.index)\n",
    "    ax.legend(loc='center left', bbox_to_anchor=(1, 0.5))"
   ]
  },
  {
   "cell_type": "markdown",
   "id": "b70831e6",
   "metadata": {},
   "source": [
    "## Resolution of Books\n",
    "\n",
    "What fraction of *unique books* are resolved from each source?"
   ]
  },
  {
   "cell_type": "code",
   "execution_count": 10,
   "id": "c870e908",
   "metadata": {
    "execution": {
     "iopub.execute_input": "2021-10-24T21:55:22.072405Z",
     "iopub.status.busy": "2021-10-24T21:55:22.071437Z",
     "iopub.status.idle": "2021-10-24T21:55:22.075818Z",
     "shell.execute_reply": "2021-10-24T21:55:22.076600Z"
    }
   },
   "outputs": [
    {
     "data": {
      "text/html": [
       "<div>\n",
       "<style scoped>\n",
       "    .dataframe tbody tr th:only-of-type {\n",
       "        vertical-align: middle;\n",
       "    }\n",
       "\n",
       "    .dataframe tbody tr th {\n",
       "        vertical-align: top;\n",
       "    }\n",
       "\n",
       "    .dataframe thead th {\n",
       "        text-align: right;\n",
       "    }\n",
       "</style>\n",
       "<table border=\"1\" class=\"dataframe\">\n",
       "  <thead>\n",
       "    <tr style=\"text-align: right;\">\n",
       "      <th>gender</th>\n",
       "      <th>female</th>\n",
       "      <th>male</th>\n",
       "      <th>ambiguous</th>\n",
       "      <th>unknown</th>\n",
       "      <th>no-author-rec</th>\n",
       "      <th>no-book-author</th>\n",
       "      <th>no-book</th>\n",
       "    </tr>\n",
       "    <tr>\n",
       "      <th>dataset</th>\n",
       "      <th></th>\n",
       "      <th></th>\n",
       "      <th></th>\n",
       "      <th></th>\n",
       "      <th></th>\n",
       "      <th></th>\n",
       "      <th></th>\n",
       "    </tr>\n",
       "  </thead>\n",
       "  <tbody>\n",
       "    <tr>\n",
       "      <th>AZ</th>\n",
       "      <td>0.096199</td>\n",
       "      <td>0.217033</td>\n",
       "      <td>0.007869</td>\n",
       "      <td>0.105800</td>\n",
       "      <td>0.062365</td>\n",
       "      <td>0.097358</td>\n",
       "      <td>0.413377</td>\n",
       "    </tr>\n",
       "    <tr>\n",
       "      <th>BX-E</th>\n",
       "      <td>0.252148</td>\n",
       "      <td>0.373704</td>\n",
       "      <td>0.027863</td>\n",
       "      <td>0.112559</td>\n",
       "      <td>0.045512</td>\n",
       "      <td>0.043348</td>\n",
       "      <td>0.144865</td>\n",
       "    </tr>\n",
       "    <tr>\n",
       "      <th>BX-I</th>\n",
       "      <td>0.241339</td>\n",
       "      <td>0.352378</td>\n",
       "      <td>0.025664</td>\n",
       "      <td>0.125038</td>\n",
       "      <td>0.050325</td>\n",
       "      <td>0.046886</td>\n",
       "      <td>0.158371</td>\n",
       "    </tr>\n",
       "    <tr>\n",
       "      <th>GR-E</th>\n",
       "      <td>0.130020</td>\n",
       "      <td>0.206772</td>\n",
       "      <td>0.008620</td>\n",
       "      <td>0.071399</td>\n",
       "      <td>0.022292</td>\n",
       "      <td>0.560897</td>\n",
       "      <td>NaN</td>\n",
       "    </tr>\n",
       "    <tr>\n",
       "      <th>GR-I</th>\n",
       "      <td>0.129542</td>\n",
       "      <td>0.206617</td>\n",
       "      <td>0.008589</td>\n",
       "      <td>0.071783</td>\n",
       "      <td>0.022530</td>\n",
       "      <td>0.560940</td>\n",
       "      <td>NaN</td>\n",
       "    </tr>\n",
       "    <tr>\n",
       "      <th>LOC-MDS</th>\n",
       "      <td>0.126545</td>\n",
       "      <td>0.420007</td>\n",
       "      <td>0.010290</td>\n",
       "      <td>0.231427</td>\n",
       "      <td>0.051745</td>\n",
       "      <td>0.159986</td>\n",
       "      <td>NaN</td>\n",
       "    </tr>\n",
       "  </tbody>\n",
       "</table>\n",
       "</div>"
      ],
      "text/plain": [
       "gender     female      male  ambiguous   unknown  no-author-rec  \\\n",
       "dataset                                                           \n",
       "AZ       0.096199  0.217033   0.007869  0.105800       0.062365   \n",
       "BX-E     0.252148  0.373704   0.027863  0.112559       0.045512   \n",
       "BX-I     0.241339  0.352378   0.025664  0.125038       0.050325   \n",
       "GR-E     0.130020  0.206772   0.008620  0.071399       0.022292   \n",
       "GR-I     0.129542  0.206617   0.008589  0.071783       0.022530   \n",
       "LOC-MDS  0.126545  0.420007   0.010290  0.231427       0.051745   \n",
       "\n",
       "gender   no-book-author   no-book  \n",
       "dataset                            \n",
       "AZ             0.097358  0.413377  \n",
       "BX-E           0.043348  0.144865  \n",
       "BX-I           0.046886  0.158371  \n",
       "GR-E           0.560897       NaN  \n",
       "GR-I           0.560940       NaN  \n",
       "LOC-MDS        0.159986       NaN  "
      ]
     },
     "execution_count": 10,
     "metadata": {},
     "output_type": "execute_result"
    }
   ],
   "source": [
    "fractionalize(book_counts, link_codes + unlink_codes)"
   ]
  },
  {
   "cell_type": "code",
   "execution_count": 11,
   "id": "e317490e",
   "metadata": {
    "execution": {
     "iopub.execute_input": "2021-10-24T21:55:22.109286Z",
     "iopub.status.busy": "2021-10-24T21:55:22.091502Z",
     "iopub.status.idle": "2021-10-24T21:55:22.750802Z",
     "shell.execute_reply": "2021-10-24T21:55:22.751982Z"
    }
   },
   "outputs": [
    {
     "data": {
      "image/png": "[encoded data removed]",
      "text/plain": [
       "<Figure size 432x288 with 1 Axes>"
      ]
     },
     "metadata": {
      "needs_background": "light"
     },
     "output_type": "display_data"
    }
   ],
   "source": [
    "plot_bars(fractionalize(book_counts, link_codes + unlink_codes))"
   ]
  },
  {
   "cell_type": "code",
   "execution_count": 12,
   "id": "5b1f2bc0",
   "metadata": {
    "execution": {
     "iopub.execute_input": "2021-10-24T21:55:22.788036Z",
     "iopub.status.busy": "2021-10-24T21:55:22.786620Z",
     "iopub.status.idle": "2021-10-24T21:55:22.793398Z",
     "shell.execute_reply": "2021-10-24T21:55:22.792231Z"
    }
   },
   "outputs": [
    {
     "data": {
      "text/html": [
       "<div>\n",
       "<style scoped>\n",
       "    .dataframe tbody tr th:only-of-type {\n",
       "        vertical-align: middle;\n",
       "    }\n",
       "\n",
       "    .dataframe tbody tr th {\n",
       "        vertical-align: top;\n",
       "    }\n",
       "\n",
       "    .dataframe thead th {\n",
       "        text-align: right;\n",
       "    }\n",
       "</style>\n",
       "<table border=\"1\" class=\"dataframe\">\n",
       "  <thead>\n",
       "    <tr style=\"text-align: right;\">\n",
       "      <th>gender</th>\n",
       "      <th>female</th>\n",
       "      <th>male</th>\n",
       "      <th>ambiguous</th>\n",
       "      <th>unknown</th>\n",
       "      <th>unlinked</th>\n",
       "    </tr>\n",
       "    <tr>\n",
       "      <th>dataset</th>\n",
       "      <th></th>\n",
       "      <th></th>\n",
       "      <th></th>\n",
       "      <th></th>\n",
       "      <th></th>\n",
       "    </tr>\n",
       "  </thead>\n",
       "  <tbody>\n",
       "    <tr>\n",
       "      <th>AZ</th>\n",
       "      <td>0.096199</td>\n",
       "      <td>0.217033</td>\n",
       "      <td>0.007869</td>\n",
       "      <td>0.105800</td>\n",
       "      <td>0.573099</td>\n",
       "    </tr>\n",
       "    <tr>\n",
       "      <th>BX-E</th>\n",
       "      <td>0.252148</td>\n",
       "      <td>0.373704</td>\n",
       "      <td>0.027863</td>\n",
       "      <td>0.112559</td>\n",
       "      <td>0.233725</td>\n",
       "    </tr>\n",
       "    <tr>\n",
       "      <th>BX-I</th>\n",
       "      <td>0.241339</td>\n",
       "      <td>0.352378</td>\n",
       "      <td>0.025664</td>\n",
       "      <td>0.125038</td>\n",
       "      <td>0.255581</td>\n",
       "    </tr>\n",
       "    <tr>\n",
       "      <th>GR-E</th>\n",
       "      <td>0.130020</td>\n",
       "      <td>0.206772</td>\n",
       "      <td>0.008620</td>\n",
       "      <td>0.071399</td>\n",
       "      <td>0.583188</td>\n",
       "    </tr>\n",
       "    <tr>\n",
       "      <th>GR-I</th>\n",
       "      <td>0.129542</td>\n",
       "      <td>0.206617</td>\n",
       "      <td>0.008589</td>\n",
       "      <td>0.071783</td>\n",
       "      <td>0.583470</td>\n",
       "    </tr>\n",
       "    <tr>\n",
       "      <th>LOC-MDS</th>\n",
       "      <td>0.126545</td>\n",
       "      <td>0.420007</td>\n",
       "      <td>0.010290</td>\n",
       "      <td>0.231427</td>\n",
       "      <td>0.211731</td>\n",
       "    </tr>\n",
       "  </tbody>\n",
       "</table>\n",
       "</div>"
      ],
      "text/plain": [
       "gender     female      male  ambiguous   unknown  unlinked\n",
       "dataset                                                   \n",
       "AZ       0.096199  0.217033   0.007869  0.105800  0.573099\n",
       "BX-E     0.252148  0.373704   0.027863  0.112559  0.233725\n",
       "BX-I     0.241339  0.352378   0.025664  0.125038  0.255581\n",
       "GR-E     0.130020  0.206772   0.008620  0.071399  0.583188\n",
       "GR-I     0.129542  0.206617   0.008589  0.071783  0.583470\n",
       "LOC-MDS  0.126545  0.420007   0.010290  0.231427  0.211731"
      ]
     },
     "execution_count": 12,
     "metadata": {},
     "output_type": "execute_result"
    }
   ],
   "source": [
    "fractionalize(book_counts, link_codes, unlink_codes)"
   ]
  },
  {
   "cell_type": "code",
   "execution_count": 13,
   "id": "cc8f1ecb",
   "metadata": {
    "execution": {
     "iopub.execute_input": "2021-10-24T21:55:22.848278Z",
     "iopub.status.busy": "2021-10-24T21:55:22.846908Z",
     "iopub.status.idle": "2021-10-24T21:55:23.294329Z",
     "shell.execute_reply": "2021-10-24T21:55:23.294981Z"
    }
   },
   "outputs": [
    {
     "data": {
      "image/png": "[encoded data removed]",
      "text/plain": [
       "<Figure size 432x288 with 1 Axes>"
      ]
     },
     "metadata": {
      "needs_background": "light"
     },
     "output_type": "display_data"
    }
   ],
   "source": [
    "plot_bars(fractionalize(book_counts, link_codes, unlink_codes))"
   ]
  },
  {
   "cell_type": "code",
   "execution_count": 14,
   "id": "21d4b686",
   "metadata": {
    "execution": {
     "iopub.execute_input": "2021-10-24T21:55:23.307807Z",
     "iopub.status.busy": "2021-10-24T21:55:23.307022Z",
     "iopub.status.idle": "2021-10-24T21:55:23.597494Z",
     "shell.execute_reply": "2021-10-24T21:55:23.598126Z"
    }
   },
   "outputs": [
    {
     "data": {
      "image/png": "[encoded data removed]",
      "text/plain": [
       "<Figure size 432x288 with 1 Axes>"
      ]
     },
     "metadata": {
      "needs_background": "light"
     },
     "output_type": "display_data"
    }
   ],
   "source": [
    "plot_bars(fractionalize(book_counts, ['female', 'male']))"
   ]
  },
  {
   "cell_type": "markdown",
   "id": "a87e7537",
   "metadata": {},
   "source": [
    "## Resolution of Ratings\n",
    "\n",
    "What fraction of *rating actions* have each resolution result?"
   ]
  },
  {
   "cell_type": "code",
   "execution_count": 15,
   "id": "1cc33e30",
   "metadata": {
    "execution": {
     "iopub.execute_input": "2021-10-24T21:55:23.616930Z",
     "iopub.status.busy": "2021-10-24T21:55:23.616129Z",
     "iopub.status.idle": "2021-10-24T21:55:23.620370Z",
     "shell.execute_reply": "2021-10-24T21:55:23.619695Z"
    }
   },
   "outputs": [
    {
     "data": {
      "text/html": [
       "<div>\n",
       "<style scoped>\n",
       "    .dataframe tbody tr th:only-of-type {\n",
       "        vertical-align: middle;\n",
       "    }\n",
       "\n",
       "    .dataframe tbody tr th {\n",
       "        vertical-align: top;\n",
       "    }\n",
       "\n",
       "    .dataframe thead th {\n",
       "        text-align: right;\n",
       "    }\n",
       "</style>\n",
       "<table border=\"1\" class=\"dataframe\">\n",
       "  <thead>\n",
       "    <tr style=\"text-align: right;\">\n",
       "      <th>gender</th>\n",
       "      <th>female</th>\n",
       "      <th>male</th>\n",
       "      <th>ambiguous</th>\n",
       "      <th>unknown</th>\n",
       "      <th>no-author-rec</th>\n",
       "      <th>no-book-author</th>\n",
       "      <th>no-book</th>\n",
       "    </tr>\n",
       "    <tr>\n",
       "      <th>dataset</th>\n",
       "      <th></th>\n",
       "      <th></th>\n",
       "      <th></th>\n",
       "      <th></th>\n",
       "      <th></th>\n",
       "      <th></th>\n",
       "      <th></th>\n",
       "    </tr>\n",
       "  </thead>\n",
       "  <tbody>\n",
       "    <tr>\n",
       "      <th>AZ</th>\n",
       "      <td>0.193792</td>\n",
       "      <td>0.294916</td>\n",
       "      <td>0.025126</td>\n",
       "      <td>0.093357</td>\n",
       "      <td>0.032848</td>\n",
       "      <td>0.159138</td>\n",
       "      <td>0.200823</td>\n",
       "    </tr>\n",
       "    <tr>\n",
       "      <th>BX-E</th>\n",
       "      <td>0.325085</td>\n",
       "      <td>0.434800</td>\n",
       "      <td>0.073050</td>\n",
       "      <td>0.064559</td>\n",
       "      <td>0.020505</td>\n",
       "      <td>0.022252</td>\n",
       "      <td>0.059750</td>\n",
       "    </tr>\n",
       "    <tr>\n",
       "      <th>BX-I</th>\n",
       "      <td>0.346758</td>\n",
       "      <td>0.415842</td>\n",
       "      <td>0.069291</td>\n",
       "      <td>0.069165</td>\n",
       "      <td>0.020634</td>\n",
       "      <td>0.022939</td>\n",
       "      <td>0.055371</td>\n",
       "    </tr>\n",
       "    <tr>\n",
       "      <th>GR-E</th>\n",
       "      <td>0.352185</td>\n",
       "      <td>0.354556</td>\n",
       "      <td>0.089733</td>\n",
       "      <td>0.040127</td>\n",
       "      <td>0.005357</td>\n",
       "      <td>0.158043</td>\n",
       "      <td>NaN</td>\n",
       "    </tr>\n",
       "    <tr>\n",
       "      <th>GR-I</th>\n",
       "      <td>0.351492</td>\n",
       "      <td>0.328980</td>\n",
       "      <td>0.066223</td>\n",
       "      <td>0.048243</td>\n",
       "      <td>0.006878</td>\n",
       "      <td>0.198184</td>\n",
       "      <td>NaN</td>\n",
       "    </tr>\n",
       "  </tbody>\n",
       "</table>\n",
       "</div>"
      ],
      "text/plain": [
       "gender     female      male  ambiguous   unknown  no-author-rec  \\\n",
       "dataset                                                           \n",
       "AZ       0.193792  0.294916   0.025126  0.093357       0.032848   \n",
       "BX-E     0.325085  0.434800   0.073050  0.064559       0.020505   \n",
       "BX-I     0.346758  0.415842   0.069291  0.069165       0.020634   \n",
       "GR-E     0.352185  0.354556   0.089733  0.040127       0.005357   \n",
       "GR-I     0.351492  0.328980   0.066223  0.048243       0.006878   \n",
       "\n",
       "gender   no-book-author   no-book  \n",
       "dataset                            \n",
       "AZ             0.159138  0.200823  \n",
       "BX-E           0.022252  0.059750  \n",
       "BX-I           0.022939  0.055371  \n",
       "GR-E           0.158043       NaN  \n",
       "GR-I           0.198184       NaN  "
      ]
     },
     "execution_count": 15,
     "metadata": {},
     "output_type": "execute_result"
    }
   ],
   "source": [
    "fractionalize(act_counts, link_codes + unlink_codes)"
   ]
  },
  {
   "cell_type": "code",
   "execution_count": 16,
   "id": "34b3f60e",
   "metadata": {
    "execution": {
     "iopub.execute_input": "2021-10-24T21:55:23.632449Z",
     "iopub.status.busy": "2021-10-24T21:55:23.629908Z",
     "iopub.status.idle": "2021-10-24T21:55:24.030607Z",
     "shell.execute_reply": "2021-10-24T21:55:24.031264Z"
    }
   },
   "outputs": [
    {
     "data": {
      "image/png": "[encoded data removed]",
      "text/plain": [
       "<Figure size 432x288 with 1 Axes>"
      ]
     },
     "metadata": {
      "needs_background": "light"
     },
     "output_type": "display_data"
    }
   ],
   "source": [
    "plot_bars(fractionalize(act_counts, link_codes + unlink_codes))"
   ]
  },
  {
   "cell_type": "code",
   "execution_count": 17,
   "id": "5ac4726d",
   "metadata": {
    "execution": {
     "iopub.execute_input": "2021-10-24T21:55:24.048876Z",
     "iopub.status.busy": "2021-10-24T21:55:24.038709Z",
     "iopub.status.idle": "2021-10-24T21:55:24.052360Z",
     "shell.execute_reply": "2021-10-24T21:55:24.052982Z"
    }
   },
   "outputs": [
    {
     "data": {
      "text/html": [
       "<div>\n",
       "<style scoped>\n",
       "    .dataframe tbody tr th:only-of-type {\n",
       "        vertical-align: middle;\n",
       "    }\n",
       "\n",
       "    .dataframe tbody tr th {\n",
       "        vertical-align: top;\n",
       "    }\n",
       "\n",
       "    .dataframe thead th {\n",
       "        text-align: right;\n",
       "    }\n",
       "</style>\n",
       "<table border=\"1\" class=\"dataframe\">\n",
       "  <thead>\n",
       "    <tr style=\"text-align: right;\">\n",
       "      <th>gender</th>\n",
       "      <th>female</th>\n",
       "      <th>male</th>\n",
       "      <th>ambiguous</th>\n",
       "      <th>unknown</th>\n",
       "      <th>unlinked</th>\n",
       "    </tr>\n",
       "    <tr>\n",
       "      <th>dataset</th>\n",
       "      <th></th>\n",
       "      <th></th>\n",
       "      <th></th>\n",
       "      <th></th>\n",
       "      <th></th>\n",
       "    </tr>\n",
       "  </thead>\n",
       "  <tbody>\n",
       "    <tr>\n",
       "      <th>AZ</th>\n",
       "      <td>0.193792</td>\n",
       "      <td>0.294916</td>\n",
       "      <td>0.025126</td>\n",
       "      <td>0.093357</td>\n",
       "      <td>0.392809</td>\n",
       "    </tr>\n",
       "    <tr>\n",
       "      <th>BX-E</th>\n",
       "      <td>0.325085</td>\n",
       "      <td>0.434800</td>\n",
       "      <td>0.073050</td>\n",
       "      <td>0.064559</td>\n",
       "      <td>0.102507</td>\n",
       "    </tr>\n",
       "    <tr>\n",
       "      <th>BX-I</th>\n",
       "      <td>0.346758</td>\n",
       "      <td>0.415842</td>\n",
       "      <td>0.069291</td>\n",
       "      <td>0.069165</td>\n",
       "      <td>0.098944</td>\n",
       "    </tr>\n",
       "    <tr>\n",
       "      <th>GR-E</th>\n",
       "      <td>0.352185</td>\n",
       "      <td>0.354556</td>\n",
       "      <td>0.089733</td>\n",
       "      <td>0.040127</td>\n",
       "      <td>0.163400</td>\n",
       "    </tr>\n",
       "    <tr>\n",
       "      <th>GR-I</th>\n",
       "      <td>0.351492</td>\n",
       "      <td>0.328980</td>\n",
       "      <td>0.066223</td>\n",
       "      <td>0.048243</td>\n",
       "      <td>0.205062</td>\n",
       "    </tr>\n",
       "  </tbody>\n",
       "</table>\n",
       "</div>"
      ],
      "text/plain": [
       "gender     female      male  ambiguous   unknown  unlinked\n",
       "dataset                                                   \n",
       "AZ       0.193792  0.294916   0.025126  0.093357  0.392809\n",
       "BX-E     0.325085  0.434800   0.073050  0.064559  0.102507\n",
       "BX-I     0.346758  0.415842   0.069291  0.069165  0.098944\n",
       "GR-E     0.352185  0.354556   0.089733  0.040127  0.163400\n",
       "GR-I     0.351492  0.328980   0.066223  0.048243  0.205062"
      ]
     },
     "execution_count": 17,
     "metadata": {},
     "output_type": "execute_result"
    }
   ],
   "source": [
    "fractionalize(act_counts, link_codes, unlink_codes)"
   ]
  },
  {
   "cell_type": "code",
   "execution_count": 18,
   "id": "48fbcd6e",
   "metadata": {
    "execution": {
     "iopub.execute_input": "2021-10-24T21:55:24.067197Z",
     "iopub.status.busy": "2021-10-24T21:55:24.059832Z",
     "iopub.status.idle": "2021-10-24T21:55:24.503364Z",
     "shell.execute_reply": "2021-10-24T21:55:24.504026Z"
    }
   },
   "outputs": [
    {
     "data": {
      "image/png": "[encoded data removed]",
      "text/plain": [
       "<Figure size 432x288 with 1 Axes>"
      ]
     },
     "metadata": {
      "needs_background": "light"
     },
     "output_type": "display_data"
    }
   ],
   "source": [
    "plot_bars(fractionalize(act_counts, link_codes, unlink_codes))"
   ]
  },
  {
   "cell_type": "code",
   "execution_count": 19,
   "id": "812cbaa5",
   "metadata": {
    "execution": {
     "iopub.execute_input": "2021-10-24T21:55:24.525481Z",
     "iopub.status.busy": "2021-10-24T21:55:24.516692Z",
     "iopub.status.idle": "2021-10-24T21:55:24.779552Z",
     "shell.execute_reply": "2021-10-24T21:55:24.780193Z"
    }
   },
   "outputs": [
    {
     "data": {
      "image/png": "[encoded data removed]",
      "text/plain": [
       "<Figure size 432x288 with 1 Axes>"
      ]
     },
     "metadata": {
      "needs_background": "light"
     },
     "output_type": "display_data"
    }
   ],
   "source": [
    "plot_bars(fractionalize(act_counts, ['female', 'male']))"
   ]
  },
  {
   "cell_type": "markdown",
   "id": "c82f1dd4",
   "metadata": {},
   "source": [
    "## Metrics\n",
    "\n",
    "Finally, we're going to write coverage metrics."
   ]
  },
  {
   "cell_type": "code",
   "execution_count": 20,
   "id": "02ef94b9",
   "metadata": {
    "execution": {
     "iopub.execute_input": "2021-10-24T21:55:24.789996Z",
     "iopub.status.busy": "2021-10-24T21:55:24.789195Z",
     "iopub.status.idle": "2021-10-24T21:55:24.792653Z",
     "shell.execute_reply": "2021-10-24T21:55:24.793304Z"
    }
   },
   "outputs": [
    {
     "data": {
      "text/plain": [
       "dataset\n",
       "AZ         0.321101\n",
       "BX-E       0.653716\n",
       "BX-I       0.619381\n",
       "GR-E       0.345413\n",
       "GR-I       0.344747\n",
       "LOC-MDS    0.556842\n",
       "dtype: float64"
      ]
     },
     "execution_count": 20,
     "metadata": {},
     "output_type": "execute_result"
    }
   ],
   "source": [
    "book_tots = book_counts.sum(axis=1)\n",
    "book_link = book_counts['male'] + book_counts['female'] + book_counts['ambiguous']\n",
    "book_cover = book_link / book_tots\n",
    "book_cover"
   ]
  },
  {
   "cell_type": "code",
   "execution_count": 21,
   "id": "ad673320",
   "metadata": {
    "execution": {
     "iopub.execute_input": "2021-10-24T21:55:24.798416Z",
     "iopub.status.busy": "2021-10-24T21:55:24.797620Z",
     "iopub.status.idle": "2021-10-24T21:55:24.801000Z",
     "shell.execute_reply": "2021-10-24T21:55:24.800335Z"
    }
   },
   "outputs": [],
   "source": [
    "book_cover.to_json('book-coverage.json')"
   ]
  },
  {
   "cell_type": "code",
   "execution_count": null,
   "id": "bd34acd2",
   "metadata": {},
   "outputs": [],
   "source": []
  }
 ],
 "metadata": {
  "jupytext": {
   "formats": "ipynb,py:percent"
  },
  "kernelspec": {
   "display_name": "Python 3 (ipykernel)",
   "language": "python",
   "name": "python3"
  },
  "language_info": {
   "codemirror_mode": {
    "name": "ipython",
    "version": 3
   },
   "file_extension": ".py",
   "mimetype": "text/x-python",
   "name": "python",
   "nbconvert_exporter": "python",
   "pygments_lexer": "ipython3",
   "version": "3.8.12"
  }
 },
 "nbformat": 4,
 "nbformat_minor": 5
}
