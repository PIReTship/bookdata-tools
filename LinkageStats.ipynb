{
 "cells": [
  {
   "cell_type": "markdown",
   "id": "8c0ecf82",
   "metadata": {},
   "source": [
    "# Book Data Linkage Statistics\n",
    "\n",
    "This notebook presents statistics of the book data integration."
   ]
  },
  {
   "cell_type": "markdown",
   "id": "2aa9fef6",
   "metadata": {},
   "source": [
    "## Setup"
   ]
  },
  {
   "cell_type": "code",
   "execution_count": 1,
   "id": "c6c317da",
   "metadata": {
    "execution": {
     "iopub.execute_input": "2022-07-12T21:12:04.820358Z",
     "iopub.status.busy": "2022-07-12T21:12:04.819633Z",
     "iopub.status.idle": "2022-07-12T21:12:06.572569Z",
     "shell.execute_reply": "2022-07-12T21:12:06.571485Z"
    },
    "tags": []
   },
   "outputs": [],
   "source": [
    "import pandas as pd\n",
    "import matplotlib as mpl\n",
    "import matplotlib.pyplot as plt\n",
    "import numpy as np"
   ]
  },
  {
   "cell_type": "markdown",
   "id": "d60ff715",
   "metadata": {},
   "source": [
    "## Load Link Stats\n",
    "\n",
    "We compute dataset linking statitsics as `gender-stats.csv` using DataFusion.  Let's load those:"
   ]
  },
  {
   "cell_type": "code",
   "execution_count": 2,
   "id": "dc97d0ef",
   "metadata": {
    "execution": {
     "iopub.execute_input": "2022-07-12T21:12:06.579398Z",
     "iopub.status.busy": "2022-07-12T21:12:06.578913Z",
     "iopub.status.idle": "2022-07-12T21:12:06.606302Z",
     "shell.execute_reply": "2022-07-12T21:12:06.605246Z"
    },
    "tags": []
   },
   "outputs": [
    {
     "data": {
      "text/html": [
       "<div>\n",
       "<style scoped>\n",
       "    .dataframe tbody tr th:only-of-type {\n",
       "        vertical-align: middle;\n",
       "    }\n",
       "\n",
       "    .dataframe tbody tr th {\n",
       "        vertical-align: top;\n",
       "    }\n",
       "\n",
       "    .dataframe thead th {\n",
       "        text-align: right;\n",
       "    }\n",
       "</style>\n",
       "<table border=\"1\" class=\"dataframe\">\n",
       "  <thead>\n",
       "    <tr style=\"text-align: right;\">\n",
       "      <th></th>\n",
       "      <th>dataset</th>\n",
       "      <th>gender</th>\n",
       "      <th>n_books</th>\n",
       "      <th>n_actions</th>\n",
       "    </tr>\n",
       "  </thead>\n",
       "  <tbody>\n",
       "    <tr>\n",
       "      <th>0</th>\n",
       "      <td>LOC-MDS</td>\n",
       "      <td>ambiguous</td>\n",
       "      <td>68590</td>\n",
       "      <td>NaN</td>\n",
       "    </tr>\n",
       "    <tr>\n",
       "      <th>1</th>\n",
       "      <td>LOC-MDS</td>\n",
       "      <td>female</td>\n",
       "      <td>730814</td>\n",
       "      <td>NaN</td>\n",
       "    </tr>\n",
       "    <tr>\n",
       "      <th>2</th>\n",
       "      <td>LOC-MDS</td>\n",
       "      <td>unknown</td>\n",
       "      <td>1129000</td>\n",
       "      <td>NaN</td>\n",
       "    </tr>\n",
       "    <tr>\n",
       "      <th>3</th>\n",
       "      <td>LOC-MDS</td>\n",
       "      <td>no-book-author</td>\n",
       "      <td>609392</td>\n",
       "      <td>NaN</td>\n",
       "    </tr>\n",
       "    <tr>\n",
       "      <th>4</th>\n",
       "      <td>LOC-MDS</td>\n",
       "      <td>no-author-rec</td>\n",
       "      <td>310413</td>\n",
       "      <td>NaN</td>\n",
       "    </tr>\n",
       "  </tbody>\n",
       "</table>\n",
       "</div>"
      ],
      "text/plain": [
       "   dataset          gender  n_books  n_actions\n",
       "0  LOC-MDS       ambiguous    68590        NaN\n",
       "1  LOC-MDS          female   730814        NaN\n",
       "2  LOC-MDS         unknown  1129000        NaN\n",
       "3  LOC-MDS  no-book-author   609392        NaN\n",
       "4  LOC-MDS   no-author-rec   310413        NaN"
      ]
     },
     "execution_count": 2,
     "metadata": {},
     "output_type": "execute_result"
    }
   ],
   "source": [
    "link_stats = pd.read_csv('book-links/gender-stats.csv')\n",
    "link_stats.head()"
   ]
  },
  {
   "cell_type": "markdown",
   "id": "50445a02",
   "metadata": {},
   "source": [
    "Now let's define variables for our variou codes. We are first going to define our gender codes.  We'll start with the resolved codes:"
   ]
  },
  {
   "cell_type": "code",
   "execution_count": 3,
   "id": "c3566c3c",
   "metadata": {
    "execution": {
     "iopub.execute_input": "2022-07-12T21:12:06.611366Z",
     "iopub.status.busy": "2022-07-12T21:12:06.610996Z",
     "iopub.status.idle": "2022-07-12T21:12:06.616710Z",
     "shell.execute_reply": "2022-07-12T21:12:06.615760Z"
    },
    "tags": []
   },
   "outputs": [],
   "source": [
    "link_codes = ['female', 'male', 'ambiguous', 'unknown']"
   ]
  },
  {
   "cell_type": "markdown",
   "id": "97dbc4eb",
   "metadata": {},
   "source": [
    "We want the unlink codes in order, so the last is the first link failure:"
   ]
  },
  {
   "cell_type": "code",
   "execution_count": 4,
   "id": "94625f24",
   "metadata": {
    "execution": {
     "iopub.execute_input": "2022-07-12T21:12:06.622562Z",
     "iopub.status.busy": "2022-07-12T21:12:06.621912Z",
     "iopub.status.idle": "2022-07-12T21:12:06.630092Z",
     "shell.execute_reply": "2022-07-12T21:12:06.628303Z"
    },
    "tags": []
   },
   "outputs": [],
   "source": [
    "unlink_codes = ['no-author-rec', 'no-book-author', 'no-book']"
   ]
  },
  {
   "cell_type": "code",
   "execution_count": 5,
   "id": "a53c1411",
   "metadata": {
    "execution": {
     "iopub.execute_input": "2022-07-12T21:12:06.637811Z",
     "iopub.status.busy": "2022-07-12T21:12:06.636970Z",
     "iopub.status.idle": "2022-07-12T21:12:06.644883Z",
     "shell.execute_reply": "2022-07-12T21:12:06.643185Z"
    },
    "tags": []
   },
   "outputs": [],
   "source": [
    "all_codes = link_codes + unlink_codes"
   ]
  },
  {
   "cell_type": "markdown",
   "id": "27f7c55e",
   "metadata": {},
   "source": [
    "## Processing Statistics\n",
    "\n",
    "Now we'll pivot each of our count columns into a table for easier reference."
   ]
  },
  {
   "cell_type": "code",
   "execution_count": 6,
   "id": "a24046f8",
   "metadata": {
    "execution": {
     "iopub.execute_input": "2022-07-12T21:12:06.652810Z",
     "iopub.status.busy": "2022-07-12T21:12:06.652003Z",
     "iopub.status.idle": "2022-07-12T21:12:06.703674Z",
     "shell.execute_reply": "2022-07-12T21:12:06.701254Z"
    },
    "tags": []
   },
   "outputs": [
    {
     "data": {
      "text/html": [
       "<div>\n",
       "<style scoped>\n",
       "    .dataframe tbody tr th:only-of-type {\n",
       "        vertical-align: middle;\n",
       "    }\n",
       "\n",
       "    .dataframe tbody tr th {\n",
       "        vertical-align: top;\n",
       "    }\n",
       "\n",
       "    .dataframe thead th {\n",
       "        text-align: right;\n",
       "    }\n",
       "</style>\n",
       "<table border=\"1\" class=\"dataframe\">\n",
       "  <thead>\n",
       "    <tr style=\"text-align: right;\">\n",
       "      <th>gender</th>\n",
       "      <th>female</th>\n",
       "      <th>male</th>\n",
       "      <th>ambiguous</th>\n",
       "      <th>unknown</th>\n",
       "      <th>no-author-rec</th>\n",
       "      <th>no-book-author</th>\n",
       "      <th>no-book</th>\n",
       "      <th>total</th>\n",
       "    </tr>\n",
       "    <tr>\n",
       "      <th>dataset</th>\n",
       "      <th></th>\n",
       "      <th></th>\n",
       "      <th></th>\n",
       "      <th></th>\n",
       "      <th></th>\n",
       "      <th></th>\n",
       "      <th></th>\n",
       "      <th></th>\n",
       "    </tr>\n",
       "  </thead>\n",
       "  <tbody>\n",
       "    <tr>\n",
       "      <th>AZ</th>\n",
       "      <td>239945.0</td>\n",
       "      <td>533089.0</td>\n",
       "      <td>21817.0</td>\n",
       "      <td>238282.0</td>\n",
       "      <td>135014.0</td>\n",
       "      <td>179826.0</td>\n",
       "      <td>911746.0</td>\n",
       "      <td>2259719.0</td>\n",
       "    </tr>\n",
       "    <tr>\n",
       "      <th>BX-E</th>\n",
       "      <td>39633.0</td>\n",
       "      <td>57617.0</td>\n",
       "      <td>5079.0</td>\n",
       "      <td>15720.0</td>\n",
       "      <td>5433.0</td>\n",
       "      <td>5615.0</td>\n",
       "      <td>20073.0</td>\n",
       "      <td>149170.0</td>\n",
       "    </tr>\n",
       "    <tr>\n",
       "      <th>BX-I</th>\n",
       "      <td>69797.0</td>\n",
       "      <td>100775.0</td>\n",
       "      <td>8752.0</td>\n",
       "      <td>32351.0</td>\n",
       "      <td>10946.0</td>\n",
       "      <td>11351.0</td>\n",
       "      <td>40631.0</td>\n",
       "      <td>274603.0</td>\n",
       "    </tr>\n",
       "    <tr>\n",
       "      <th>GR-E</th>\n",
       "      <td>214182.0</td>\n",
       "      <td>316760.0</td>\n",
       "      <td>16312.0</td>\n",
       "      <td>102096.0</td>\n",
       "      <td>48542.0</td>\n",
       "      <td>786747.0</td>\n",
       "      <td>NaN</td>\n",
       "      <td>1484639.0</td>\n",
       "    </tr>\n",
       "    <tr>\n",
       "      <th>GR-I</th>\n",
       "      <td>214182.0</td>\n",
       "      <td>316760.0</td>\n",
       "      <td>16312.0</td>\n",
       "      <td>102096.0</td>\n",
       "      <td>48542.0</td>\n",
       "      <td>786747.0</td>\n",
       "      <td>NaN</td>\n",
       "      <td>1484639.0</td>\n",
       "    </tr>\n",
       "    <tr>\n",
       "      <th>LOC-MDS</th>\n",
       "      <td>730814.0</td>\n",
       "      <td>2386306.0</td>\n",
       "      <td>68590.0</td>\n",
       "      <td>1129000.0</td>\n",
       "      <td>310413.0</td>\n",
       "      <td>609392.0</td>\n",
       "      <td>NaN</td>\n",
       "      <td>5234515.0</td>\n",
       "    </tr>\n",
       "  </tbody>\n",
       "</table>\n",
       "</div>"
      ],
      "text/plain": [
       "gender     female       male  ambiguous    unknown  no-author-rec  \\\n",
       "dataset                                                             \n",
       "AZ       239945.0   533089.0    21817.0   238282.0       135014.0   \n",
       "BX-E      39633.0    57617.0     5079.0    15720.0         5433.0   \n",
       "BX-I      69797.0   100775.0     8752.0    32351.0        10946.0   \n",
       "GR-E     214182.0   316760.0    16312.0   102096.0        48542.0   \n",
       "GR-I     214182.0   316760.0    16312.0   102096.0        48542.0   \n",
       "LOC-MDS  730814.0  2386306.0    68590.0  1129000.0       310413.0   \n",
       "\n",
       "gender   no-book-author   no-book      total  \n",
       "dataset                                       \n",
       "AZ             179826.0  911746.0  2259719.0  \n",
       "BX-E             5615.0   20073.0   149170.0  \n",
       "BX-I            11351.0   40631.0   274603.0  \n",
       "GR-E           786747.0       NaN  1484639.0  \n",
       "GR-I           786747.0       NaN  1484639.0  \n",
       "LOC-MDS        609392.0       NaN  5234515.0  "
      ]
     },
     "execution_count": 6,
     "metadata": {},
     "output_type": "execute_result"
    }
   ],
   "source": [
    "book_counts = link_stats.pivot('dataset', 'gender', 'n_books')\n",
    "book_counts = book_counts.reindex(columns=all_codes)\n",
    "book_counts.assign(total=book_counts.sum(axis=1))"
   ]
  },
  {
   "cell_type": "code",
   "execution_count": 7,
   "id": "8b0a0e9c",
   "metadata": {
    "execution": {
     "iopub.execute_input": "2022-07-12T21:12:06.711387Z",
     "iopub.status.busy": "2022-07-12T21:12:06.710741Z",
     "iopub.status.idle": "2022-07-12T21:12:06.756390Z",
     "shell.execute_reply": "2022-07-12T21:12:06.754497Z"
    },
    "tags": []
   },
   "outputs": [
    {
     "data": {
      "text/html": [
       "<div>\n",
       "<style scoped>\n",
       "    .dataframe tbody tr th:only-of-type {\n",
       "        vertical-align: middle;\n",
       "    }\n",
       "\n",
       "    .dataframe tbody tr th {\n",
       "        vertical-align: top;\n",
       "    }\n",
       "\n",
       "    .dataframe thead th {\n",
       "        text-align: right;\n",
       "    }\n",
       "</style>\n",
       "<table border=\"1\" class=\"dataframe\">\n",
       "  <thead>\n",
       "    <tr style=\"text-align: right;\">\n",
       "      <th>gender</th>\n",
       "      <th>female</th>\n",
       "      <th>male</th>\n",
       "      <th>ambiguous</th>\n",
       "      <th>unknown</th>\n",
       "      <th>no-author-rec</th>\n",
       "      <th>no-book-author</th>\n",
       "      <th>no-book</th>\n",
       "    </tr>\n",
       "    <tr>\n",
       "      <th>dataset</th>\n",
       "      <th></th>\n",
       "      <th></th>\n",
       "      <th></th>\n",
       "      <th></th>\n",
       "      <th></th>\n",
       "      <th></th>\n",
       "      <th></th>\n",
       "    </tr>\n",
       "  </thead>\n",
       "  <tbody>\n",
       "    <tr>\n",
       "      <th>AZ</th>\n",
       "      <td>4848893.0</td>\n",
       "      <td>6904772.0</td>\n",
       "      <td>800584.0</td>\n",
       "      <td>2110800.0</td>\n",
       "      <td>900009.0</td>\n",
       "      <td>2662295.0</td>\n",
       "      <td>4211633.0</td>\n",
       "    </tr>\n",
       "    <tr>\n",
       "      <th>BX-E</th>\n",
       "      <td>141648.0</td>\n",
       "      <td>181828.0</td>\n",
       "      <td>40889.0</td>\n",
       "      <td>25213.0</td>\n",
       "      <td>6932.0</td>\n",
       "      <td>7616.0</td>\n",
       "      <td>23059.0</td>\n",
       "    </tr>\n",
       "    <tr>\n",
       "      <th>BX-I</th>\n",
       "      <td>399256.0</td>\n",
       "      <td>461777.0</td>\n",
       "      <td>102193.0</td>\n",
       "      <td>71286.0</td>\n",
       "      <td>18035.0</td>\n",
       "      <td>20423.0</td>\n",
       "      <td>56193.0</td>\n",
       "    </tr>\n",
       "    <tr>\n",
       "      <th>GR-E</th>\n",
       "      <td>36532559.0</td>\n",
       "      <td>33278628.0</td>\n",
       "      <td>12574281.0</td>\n",
       "      <td>3591519.0</td>\n",
       "      <td>950826.0</td>\n",
       "      <td>12291358.0</td>\n",
       "      <td>NaN</td>\n",
       "    </tr>\n",
       "    <tr>\n",
       "      <th>GR-I</th>\n",
       "      <td>36532559.0</td>\n",
       "      <td>33278628.0</td>\n",
       "      <td>12574281.0</td>\n",
       "      <td>3591519.0</td>\n",
       "      <td>950826.0</td>\n",
       "      <td>12291358.0</td>\n",
       "      <td>NaN</td>\n",
       "    </tr>\n",
       "  </tbody>\n",
       "</table>\n",
       "</div>"
      ],
      "text/plain": [
       "gender       female        male   ambiguous    unknown  no-author-rec  \\\n",
       "dataset                                                                 \n",
       "AZ        4848893.0   6904772.0    800584.0  2110800.0       900009.0   \n",
       "BX-E       141648.0    181828.0     40889.0    25213.0         6932.0   \n",
       "BX-I       399256.0    461777.0    102193.0    71286.0        18035.0   \n",
       "GR-E     36532559.0  33278628.0  12574281.0  3591519.0       950826.0   \n",
       "GR-I     36532559.0  33278628.0  12574281.0  3591519.0       950826.0   \n",
       "\n",
       "gender   no-book-author    no-book  \n",
       "dataset                             \n",
       "AZ            2662295.0  4211633.0  \n",
       "BX-E             7616.0    23059.0  \n",
       "BX-I            20423.0    56193.0  \n",
       "GR-E         12291358.0        NaN  \n",
       "GR-I         12291358.0        NaN  "
      ]
     },
     "execution_count": 7,
     "metadata": {},
     "output_type": "execute_result"
    }
   ],
   "source": [
    "act_counts = link_stats.pivot('dataset', 'gender', 'n_actions')\n",
    "act_counts = act_counts.reindex(columns=all_codes)\n",
    "act_counts.drop(index='LOC-MDS', inplace=True)\n",
    "act_counts"
   ]
  },
  {
   "cell_type": "markdown",
   "id": "5f66144e",
   "metadata": {},
   "source": [
    "We're going to want to compute versions of this table as fractions, e.g. the fraction of books that are written by women.  We will use the following helper function:"
   ]
  },
  {
   "cell_type": "code",
   "execution_count": 8,
   "id": "d1919bba",
   "metadata": {
    "execution": {
     "iopub.execute_input": "2022-07-12T21:12:06.771799Z",
     "iopub.status.busy": "2022-07-12T21:12:06.771167Z",
     "iopub.status.idle": "2022-07-12T21:12:06.782967Z",
     "shell.execute_reply": "2022-07-12T21:12:06.781279Z"
    }
   },
   "outputs": [],
   "source": [
    "def fractionalize(data, columns, unlinked=None):\n",
    "    fracs = data[columns]\n",
    "    fracs.columns = fracs.columns.astype('str')\n",
    "    if unlinked:\n",
    "        fracs = fracs.assign(unlinked=data[unlinked].sum(axis=1))\n",
    "    totals = fracs.sum(axis=1)\n",
    "    return fracs.divide(totals, axis=0)"
   ]
  },
  {
   "cell_type": "markdown",
   "id": "6abd102a",
   "metadata": {},
   "source": [
    "And a helper function for plotting bar charts:"
   ]
  },
  {
   "cell_type": "code",
   "execution_count": 9,
   "id": "ef0224bf",
   "metadata": {
    "execution": {
     "iopub.execute_input": "2022-07-12T21:12:06.790745Z",
     "iopub.status.busy": "2022-07-12T21:12:06.790102Z",
     "iopub.status.idle": "2022-07-12T21:12:06.812280Z",
     "shell.execute_reply": "2022-07-12T21:12:06.810386Z"
    }
   },
   "outputs": [],
   "source": [
    "def plot_bars(fracs, ax=None, cmap=mpl.cm.Dark2):\n",
    "    if ax is None:\n",
    "        ax = plt.gca()\n",
    "    size = 0.5\n",
    "    ind = np.arange(len(fracs))\n",
    "    start = pd.Series(0, index=fracs.index)\n",
    "    for i, col in enumerate(fracs.columns):\n",
    "        vals = fracs.iloc[:, i]\n",
    "        rects = ax.barh(ind, vals, size, left=start, label=col, color=cmap(i))\n",
    "        for j, rec in enumerate(rects):\n",
    "            if vals.iloc[j] < 0.1 or np.isnan(vals.iloc[j]): continue\n",
    "            y = rec.get_y() + rec.get_height() / 2\n",
    "            x = start.iloc[j] + vals.iloc[j] / 2\n",
    "            ax.annotate('{:.1f}%'.format(vals.iloc[j] * 100),\n",
    "                        xy=(x,y), ha='center', va='center', color='white',\n",
    "                        fontweight='bold')\n",
    "        start += vals.fillna(0)\n",
    "    ax.set_xlabel('Fraction of Books')\n",
    "    ax.set_ylabel('Data Set')\n",
    "    ax.set_yticks(ind)\n",
    "    ax.set_yticklabels(fracs.index)\n",
    "    ax.legend(loc='center left', bbox_to_anchor=(1, 0.5))"
   ]
  },
  {
   "cell_type": "markdown",
   "id": "ae9ec010",
   "metadata": {},
   "source": [
    "## Resolution of Books\n",
    "\n",
    "What fraction of *unique books* are resolved from each source?"
   ]
  },
  {
   "cell_type": "code",
   "execution_count": 10,
   "id": "297a1967",
   "metadata": {
    "execution": {
     "iopub.execute_input": "2022-07-12T21:12:06.819889Z",
     "iopub.status.busy": "2022-07-12T21:12:06.819284Z",
     "iopub.status.idle": "2022-07-12T21:12:06.853193Z",
     "shell.execute_reply": "2022-07-12T21:12:06.851416Z"
    }
   },
   "outputs": [
    {
     "data": {
      "text/html": [
       "<div>\n",
       "<style scoped>\n",
       "    .dataframe tbody tr th:only-of-type {\n",
       "        vertical-align: middle;\n",
       "    }\n",
       "\n",
       "    .dataframe tbody tr th {\n",
       "        vertical-align: top;\n",
       "    }\n",
       "\n",
       "    .dataframe thead th {\n",
       "        text-align: right;\n",
       "    }\n",
       "</style>\n",
       "<table border=\"1\" class=\"dataframe\">\n",
       "  <thead>\n",
       "    <tr style=\"text-align: right;\">\n",
       "      <th>gender</th>\n",
       "      <th>female</th>\n",
       "      <th>male</th>\n",
       "      <th>ambiguous</th>\n",
       "      <th>unknown</th>\n",
       "      <th>no-author-rec</th>\n",
       "      <th>no-book-author</th>\n",
       "      <th>no-book</th>\n",
       "    </tr>\n",
       "    <tr>\n",
       "      <th>dataset</th>\n",
       "      <th></th>\n",
       "      <th></th>\n",
       "      <th></th>\n",
       "      <th></th>\n",
       "      <th></th>\n",
       "      <th></th>\n",
       "      <th></th>\n",
       "    </tr>\n",
       "  </thead>\n",
       "  <tbody>\n",
       "    <tr>\n",
       "      <th>AZ</th>\n",
       "      <td>0.106184</td>\n",
       "      <td>0.235909</td>\n",
       "      <td>0.009655</td>\n",
       "      <td>0.105448</td>\n",
       "      <td>0.059748</td>\n",
       "      <td>0.079579</td>\n",
       "      <td>0.403478</td>\n",
       "    </tr>\n",
       "    <tr>\n",
       "      <th>BX-E</th>\n",
       "      <td>0.265690</td>\n",
       "      <td>0.386251</td>\n",
       "      <td>0.034048</td>\n",
       "      <td>0.105383</td>\n",
       "      <td>0.036422</td>\n",
       "      <td>0.037642</td>\n",
       "      <td>0.134565</td>\n",
       "    </tr>\n",
       "    <tr>\n",
       "      <th>BX-I</th>\n",
       "      <td>0.254174</td>\n",
       "      <td>0.366984</td>\n",
       "      <td>0.031871</td>\n",
       "      <td>0.117810</td>\n",
       "      <td>0.039861</td>\n",
       "      <td>0.041336</td>\n",
       "      <td>0.147963</td>\n",
       "    </tr>\n",
       "    <tr>\n",
       "      <th>GR-E</th>\n",
       "      <td>0.144265</td>\n",
       "      <td>0.213358</td>\n",
       "      <td>0.010987</td>\n",
       "      <td>0.068768</td>\n",
       "      <td>0.032696</td>\n",
       "      <td>0.529925</td>\n",
       "      <td>NaN</td>\n",
       "    </tr>\n",
       "    <tr>\n",
       "      <th>GR-I</th>\n",
       "      <td>0.144265</td>\n",
       "      <td>0.213358</td>\n",
       "      <td>0.010987</td>\n",
       "      <td>0.068768</td>\n",
       "      <td>0.032696</td>\n",
       "      <td>0.529925</td>\n",
       "      <td>NaN</td>\n",
       "    </tr>\n",
       "    <tr>\n",
       "      <th>LOC-MDS</th>\n",
       "      <td>0.139614</td>\n",
       "      <td>0.455879</td>\n",
       "      <td>0.013103</td>\n",
       "      <td>0.215684</td>\n",
       "      <td>0.059301</td>\n",
       "      <td>0.116418</td>\n",
       "      <td>NaN</td>\n",
       "    </tr>\n",
       "  </tbody>\n",
       "</table>\n",
       "</div>"
      ],
      "text/plain": [
       "gender     female      male  ambiguous   unknown  no-author-rec  \\\n",
       "dataset                                                           \n",
       "AZ       0.106184  0.235909   0.009655  0.105448       0.059748   \n",
       "BX-E     0.265690  0.386251   0.034048  0.105383       0.036422   \n",
       "BX-I     0.254174  0.366984   0.031871  0.117810       0.039861   \n",
       "GR-E     0.144265  0.213358   0.010987  0.068768       0.032696   \n",
       "GR-I     0.144265  0.213358   0.010987  0.068768       0.032696   \n",
       "LOC-MDS  0.139614  0.455879   0.013103  0.215684       0.059301   \n",
       "\n",
       "gender   no-book-author   no-book  \n",
       "dataset                            \n",
       "AZ             0.079579  0.403478  \n",
       "BX-E           0.037642  0.134565  \n",
       "BX-I           0.041336  0.147963  \n",
       "GR-E           0.529925       NaN  \n",
       "GR-I           0.529925       NaN  \n",
       "LOC-MDS        0.116418       NaN  "
      ]
     },
     "execution_count": 10,
     "metadata": {},
     "output_type": "execute_result"
    }
   ],
   "source": [
    "fractionalize(book_counts, link_codes + unlink_codes)"
   ]
  },
  {
   "cell_type": "code",
   "execution_count": 11,
   "id": "7541a669",
   "metadata": {
    "execution": {
     "iopub.execute_input": "2022-07-12T21:12:06.860814Z",
     "iopub.status.busy": "2022-07-12T21:12:06.860008Z",
     "iopub.status.idle": "2022-07-12T21:12:07.453710Z",
     "shell.execute_reply": "2022-07-12T21:12:07.452624Z"
    }
   },
   "outputs": [
    {
     "data": {
      "image/png": "[encoded data removed]",
      "text/plain": [
       "<Figure size 432x288 with 1 Axes>"
      ]
     },
     "metadata": {
      "needs_background": "light"
     },
     "output_type": "display_data"
    }
   ],
   "source": [
    "plot_bars(fractionalize(book_counts, link_codes + unlink_codes))"
   ]
  },
  {
   "cell_type": "code",
   "execution_count": 12,
   "id": "691592bc",
   "metadata": {
    "execution": {
     "iopub.execute_input": "2022-07-12T21:12:07.462292Z",
     "iopub.status.busy": "2022-07-12T21:12:07.461913Z",
     "iopub.status.idle": "2022-07-12T21:12:07.485783Z",
     "shell.execute_reply": "2022-07-12T21:12:07.484501Z"
    }
   },
   "outputs": [
    {
     "data": {
      "text/html": [
       "<div>\n",
       "<style scoped>\n",
       "    .dataframe tbody tr th:only-of-type {\n",
       "        vertical-align: middle;\n",
       "    }\n",
       "\n",
       "    .dataframe tbody tr th {\n",
       "        vertical-align: top;\n",
       "    }\n",
       "\n",
       "    .dataframe thead th {\n",
       "        text-align: right;\n",
       "    }\n",
       "</style>\n",
       "<table border=\"1\" class=\"dataframe\">\n",
       "  <thead>\n",
       "    <tr style=\"text-align: right;\">\n",
       "      <th>gender</th>\n",
       "      <th>female</th>\n",
       "      <th>male</th>\n",
       "      <th>ambiguous</th>\n",
       "      <th>unknown</th>\n",
       "      <th>unlinked</th>\n",
       "    </tr>\n",
       "    <tr>\n",
       "      <th>dataset</th>\n",
       "      <th></th>\n",
       "      <th></th>\n",
       "      <th></th>\n",
       "      <th></th>\n",
       "      <th></th>\n",
       "    </tr>\n",
       "  </thead>\n",
       "  <tbody>\n",
       "    <tr>\n",
       "      <th>AZ</th>\n",
       "      <td>0.106184</td>\n",
       "      <td>0.235909</td>\n",
       "      <td>0.009655</td>\n",
       "      <td>0.105448</td>\n",
       "      <td>0.542805</td>\n",
       "    </tr>\n",
       "    <tr>\n",
       "      <th>BX-E</th>\n",
       "      <td>0.265690</td>\n",
       "      <td>0.386251</td>\n",
       "      <td>0.034048</td>\n",
       "      <td>0.105383</td>\n",
       "      <td>0.208628</td>\n",
       "    </tr>\n",
       "    <tr>\n",
       "      <th>BX-I</th>\n",
       "      <td>0.254174</td>\n",
       "      <td>0.366984</td>\n",
       "      <td>0.031871</td>\n",
       "      <td>0.117810</td>\n",
       "      <td>0.229160</td>\n",
       "    </tr>\n",
       "    <tr>\n",
       "      <th>GR-E</th>\n",
       "      <td>0.144265</td>\n",
       "      <td>0.213358</td>\n",
       "      <td>0.010987</td>\n",
       "      <td>0.068768</td>\n",
       "      <td>0.562621</td>\n",
       "    </tr>\n",
       "    <tr>\n",
       "      <th>GR-I</th>\n",
       "      <td>0.144265</td>\n",
       "      <td>0.213358</td>\n",
       "      <td>0.010987</td>\n",
       "      <td>0.068768</td>\n",
       "      <td>0.562621</td>\n",
       "    </tr>\n",
       "    <tr>\n",
       "      <th>LOC-MDS</th>\n",
       "      <td>0.139614</td>\n",
       "      <td>0.455879</td>\n",
       "      <td>0.013103</td>\n",
       "      <td>0.215684</td>\n",
       "      <td>0.175719</td>\n",
       "    </tr>\n",
       "  </tbody>\n",
       "</table>\n",
       "</div>"
      ],
      "text/plain": [
       "gender     female      male  ambiguous   unknown  unlinked\n",
       "dataset                                                   \n",
       "AZ       0.106184  0.235909   0.009655  0.105448  0.542805\n",
       "BX-E     0.265690  0.386251   0.034048  0.105383  0.208628\n",
       "BX-I     0.254174  0.366984   0.031871  0.117810  0.229160\n",
       "GR-E     0.144265  0.213358   0.010987  0.068768  0.562621\n",
       "GR-I     0.144265  0.213358   0.010987  0.068768  0.562621\n",
       "LOC-MDS  0.139614  0.455879   0.013103  0.215684  0.175719"
      ]
     },
     "execution_count": 12,
     "metadata": {},
     "output_type": "execute_result"
    }
   ],
   "source": [
    "fractionalize(book_counts, link_codes, unlink_codes)"
   ]
  },
  {
   "cell_type": "code",
   "execution_count": 13,
   "id": "4181170a",
   "metadata": {
    "execution": {
     "iopub.execute_input": "2022-07-12T21:12:07.490817Z",
     "iopub.status.busy": "2022-07-12T21:12:07.490229Z",
     "iopub.status.idle": "2022-07-12T21:12:07.945785Z",
     "shell.execute_reply": "2022-07-12T21:12:07.944824Z"
    }
   },
   "outputs": [
    {
     "data": {
      "image/png": "[encoded data removed]",
      "text/plain": [
       "<Figure size 432x288 with 1 Axes>"
      ]
     },
     "metadata": {
      "needs_background": "light"
     },
     "output_type": "display_data"
    }
   ],
   "source": [
    "plot_bars(fractionalize(book_counts, link_codes, unlink_codes))"
   ]
  },
  {
   "cell_type": "code",
   "execution_count": 14,
   "id": "5d2c3273",
   "metadata": {
    "execution": {
     "iopub.execute_input": "2022-07-12T21:12:07.952209Z",
     "iopub.status.busy": "2022-07-12T21:12:07.951833Z",
     "iopub.status.idle": "2022-07-12T21:12:08.257113Z",
     "shell.execute_reply": "2022-07-12T21:12:08.256157Z"
    }
   },
   "outputs": [
    {
     "data": {
      "image/png": "[encoded data removed]",
      "text/plain": [
       "<Figure size 432x288 with 1 Axes>"
      ]
     },
     "metadata": {
      "needs_background": "light"
     },
     "output_type": "display_data"
    }
   ],
   "source": [
    "plot_bars(fractionalize(book_counts, ['female', 'male']))"
   ]
  },
  {
   "cell_type": "markdown",
   "id": "1d09690f",
   "metadata": {},
   "source": [
    "## Resolution of Ratings\n",
    "\n",
    "What fraction of *rating actions* have each resolution result?"
   ]
  },
  {
   "cell_type": "code",
   "execution_count": 15,
   "id": "75d3da46",
   "metadata": {
    "execution": {
     "iopub.execute_input": "2022-07-12T21:12:08.262661Z",
     "iopub.status.busy": "2022-07-12T21:12:08.262294Z",
     "iopub.status.idle": "2022-07-12T21:12:08.281841Z",
     "shell.execute_reply": "2022-07-12T21:12:08.280931Z"
    }
   },
   "outputs": [
    {
     "data": {
      "text/html": [
       "<div>\n",
       "<style scoped>\n",
       "    .dataframe tbody tr th:only-of-type {\n",
       "        vertical-align: middle;\n",
       "    }\n",
       "\n",
       "    .dataframe tbody tr th {\n",
       "        vertical-align: top;\n",
       "    }\n",
       "\n",
       "    .dataframe thead th {\n",
       "        text-align: right;\n",
       "    }\n",
       "</style>\n",
       "<table border=\"1\" class=\"dataframe\">\n",
       "  <thead>\n",
       "    <tr style=\"text-align: right;\">\n",
       "      <th>gender</th>\n",
       "      <th>female</th>\n",
       "      <th>male</th>\n",
       "      <th>ambiguous</th>\n",
       "      <th>unknown</th>\n",
       "      <th>no-author-rec</th>\n",
       "      <th>no-book-author</th>\n",
       "      <th>no-book</th>\n",
       "    </tr>\n",
       "    <tr>\n",
       "      <th>dataset</th>\n",
       "      <th></th>\n",
       "      <th></th>\n",
       "      <th></th>\n",
       "      <th></th>\n",
       "      <th></th>\n",
       "      <th></th>\n",
       "      <th></th>\n",
       "    </tr>\n",
       "  </thead>\n",
       "  <tbody>\n",
       "    <tr>\n",
       "      <th>AZ</th>\n",
       "      <td>0.216092</td>\n",
       "      <td>0.307713</td>\n",
       "      <td>0.035678</td>\n",
       "      <td>0.094068</td>\n",
       "      <td>0.040109</td>\n",
       "      <td>0.118646</td>\n",
       "      <td>0.187693</td>\n",
       "    </tr>\n",
       "    <tr>\n",
       "      <th>BX-E</th>\n",
       "      <td>0.331585</td>\n",
       "      <td>0.425642</td>\n",
       "      <td>0.095717</td>\n",
       "      <td>0.059021</td>\n",
       "      <td>0.016227</td>\n",
       "      <td>0.017828</td>\n",
       "      <td>0.053979</td>\n",
       "    </tr>\n",
       "    <tr>\n",
       "      <th>BX-I</th>\n",
       "      <td>0.353586</td>\n",
       "      <td>0.408955</td>\n",
       "      <td>0.090503</td>\n",
       "      <td>0.063132</td>\n",
       "      <td>0.015972</td>\n",
       "      <td>0.018087</td>\n",
       "      <td>0.049765</td>\n",
       "    </tr>\n",
       "    <tr>\n",
       "      <th>GR-E</th>\n",
       "      <td>0.368201</td>\n",
       "      <td>0.335405</td>\n",
       "      <td>0.126732</td>\n",
       "      <td>0.036198</td>\n",
       "      <td>0.009583</td>\n",
       "      <td>0.123881</td>\n",
       "      <td>NaN</td>\n",
       "    </tr>\n",
       "    <tr>\n",
       "      <th>GR-I</th>\n",
       "      <td>0.368201</td>\n",
       "      <td>0.335405</td>\n",
       "      <td>0.126732</td>\n",
       "      <td>0.036198</td>\n",
       "      <td>0.009583</td>\n",
       "      <td>0.123881</td>\n",
       "      <td>NaN</td>\n",
       "    </tr>\n",
       "  </tbody>\n",
       "</table>\n",
       "</div>"
      ],
      "text/plain": [
       "gender     female      male  ambiguous   unknown  no-author-rec  \\\n",
       "dataset                                                           \n",
       "AZ       0.216092  0.307713   0.035678  0.094068       0.040109   \n",
       "BX-E     0.331585  0.425642   0.095717  0.059021       0.016227   \n",
       "BX-I     0.353586  0.408955   0.090503  0.063132       0.015972   \n",
       "GR-E     0.368201  0.335405   0.126732  0.036198       0.009583   \n",
       "GR-I     0.368201  0.335405   0.126732  0.036198       0.009583   \n",
       "\n",
       "gender   no-book-author   no-book  \n",
       "dataset                            \n",
       "AZ             0.118646  0.187693  \n",
       "BX-E           0.017828  0.053979  \n",
       "BX-I           0.018087  0.049765  \n",
       "GR-E           0.123881       NaN  \n",
       "GR-I           0.123881       NaN  "
      ]
     },
     "execution_count": 15,
     "metadata": {},
     "output_type": "execute_result"
    }
   ],
   "source": [
    "fractionalize(act_counts, link_codes + unlink_codes)"
   ]
  },
  {
   "cell_type": "code",
   "execution_count": 16,
   "id": "480ed2ff",
   "metadata": {
    "execution": {
     "iopub.execute_input": "2022-07-12T21:12:08.286183Z",
     "iopub.status.busy": "2022-07-12T21:12:08.285829Z",
     "iopub.status.idle": "2022-07-12T21:12:08.724703Z",
     "shell.execute_reply": "2022-07-12T21:12:08.723399Z"
    }
   },
   "outputs": [
    {
     "data": {
      "image/png": "[encoded data removed]",
      "text/plain": [
       "<Figure size 432x288 with 1 Axes>"
      ]
     },
     "metadata": {
      "needs_background": "light"
     },
     "output_type": "display_data"
    }
   ],
   "source": [
    "plot_bars(fractionalize(act_counts, link_codes + unlink_codes))"
   ]
  },
  {
   "cell_type": "code",
   "execution_count": 17,
   "id": "6befd174",
   "metadata": {
    "execution": {
     "iopub.execute_input": "2022-07-12T21:12:08.729484Z",
     "iopub.status.busy": "2022-07-12T21:12:08.729122Z",
     "iopub.status.idle": "2022-07-12T21:12:08.748134Z",
     "shell.execute_reply": "2022-07-12T21:12:08.747310Z"
    }
   },
   "outputs": [
    {
     "data": {
      "text/html": [
       "<div>\n",
       "<style scoped>\n",
       "    .dataframe tbody tr th:only-of-type {\n",
       "        vertical-align: middle;\n",
       "    }\n",
       "\n",
       "    .dataframe tbody tr th {\n",
       "        vertical-align: top;\n",
       "    }\n",
       "\n",
       "    .dataframe thead th {\n",
       "        text-align: right;\n",
       "    }\n",
       "</style>\n",
       "<table border=\"1\" class=\"dataframe\">\n",
       "  <thead>\n",
       "    <tr style=\"text-align: right;\">\n",
       "      <th>gender</th>\n",
       "      <th>female</th>\n",
       "      <th>male</th>\n",
       "      <th>ambiguous</th>\n",
       "      <th>unknown</th>\n",
       "      <th>unlinked</th>\n",
       "    </tr>\n",
       "    <tr>\n",
       "      <th>dataset</th>\n",
       "      <th></th>\n",
       "      <th></th>\n",
       "      <th></th>\n",
       "      <th></th>\n",
       "      <th></th>\n",
       "    </tr>\n",
       "  </thead>\n",
       "  <tbody>\n",
       "    <tr>\n",
       "      <th>AZ</th>\n",
       "      <td>0.216092</td>\n",
       "      <td>0.307713</td>\n",
       "      <td>0.035678</td>\n",
       "      <td>0.094068</td>\n",
       "      <td>0.346448</td>\n",
       "    </tr>\n",
       "    <tr>\n",
       "      <th>BX-E</th>\n",
       "      <td>0.331585</td>\n",
       "      <td>0.425642</td>\n",
       "      <td>0.095717</td>\n",
       "      <td>0.059021</td>\n",
       "      <td>0.088034</td>\n",
       "    </tr>\n",
       "    <tr>\n",
       "      <th>BX-I</th>\n",
       "      <td>0.353586</td>\n",
       "      <td>0.408955</td>\n",
       "      <td>0.090503</td>\n",
       "      <td>0.063132</td>\n",
       "      <td>0.083824</td>\n",
       "    </tr>\n",
       "    <tr>\n",
       "      <th>GR-E</th>\n",
       "      <td>0.368201</td>\n",
       "      <td>0.335405</td>\n",
       "      <td>0.126732</td>\n",
       "      <td>0.036198</td>\n",
       "      <td>0.133464</td>\n",
       "    </tr>\n",
       "    <tr>\n",
       "      <th>GR-I</th>\n",
       "      <td>0.368201</td>\n",
       "      <td>0.335405</td>\n",
       "      <td>0.126732</td>\n",
       "      <td>0.036198</td>\n",
       "      <td>0.133464</td>\n",
       "    </tr>\n",
       "  </tbody>\n",
       "</table>\n",
       "</div>"
      ],
      "text/plain": [
       "gender     female      male  ambiguous   unknown  unlinked\n",
       "dataset                                                   \n",
       "AZ       0.216092  0.307713   0.035678  0.094068  0.346448\n",
       "BX-E     0.331585  0.425642   0.095717  0.059021  0.088034\n",
       "BX-I     0.353586  0.408955   0.090503  0.063132  0.083824\n",
       "GR-E     0.368201  0.335405   0.126732  0.036198  0.133464\n",
       "GR-I     0.368201  0.335405   0.126732  0.036198  0.133464"
      ]
     },
     "execution_count": 17,
     "metadata": {},
     "output_type": "execute_result"
    }
   ],
   "source": [
    "fractionalize(act_counts, link_codes, unlink_codes)"
   ]
  },
  {
   "cell_type": "code",
   "execution_count": 18,
   "id": "847ae6c5",
   "metadata": {
    "execution": {
     "iopub.execute_input": "2022-07-12T21:12:08.752916Z",
     "iopub.status.busy": "2022-07-12T21:12:08.752559Z",
     "iopub.status.idle": "2022-07-12T21:12:09.178329Z",
     "shell.execute_reply": "2022-07-12T21:12:09.176427Z"
    }
   },
   "outputs": [
    {
     "data": {
      "image/png": "[encoded data removed]",
      "text/plain": [
       "<Figure size 432x288 with 1 Axes>"
      ]
     },
     "metadata": {
      "needs_background": "light"
     },
     "output_type": "display_data"
    }
   ],
   "source": [
    "plot_bars(fractionalize(act_counts, link_codes, unlink_codes))"
   ]
  },
  {
   "cell_type": "code",
   "execution_count": 19,
   "id": "232e4775",
   "metadata": {
    "execution": {
     "iopub.execute_input": "2022-07-12T21:12:09.186074Z",
     "iopub.status.busy": "2022-07-12T21:12:09.185439Z",
     "iopub.status.idle": "2022-07-12T21:12:09.535693Z",
     "shell.execute_reply": "2022-07-12T21:12:09.534372Z"
    }
   },
   "outputs": [
    {
     "data": {
      "image/png": "[encoded data removed]",
      "text/plain": [
       "<Figure size 432x288 with 1 Axes>"
      ]
     },
     "metadata": {
      "needs_background": "light"
     },
     "output_type": "display_data"
    }
   ],
   "source": [
    "plot_bars(fractionalize(act_counts, ['female', 'male']))"
   ]
  },
  {
   "cell_type": "markdown",
   "id": "caac0bbc",
   "metadata": {},
   "source": [
    "## Metrics\n",
    "\n",
    "Finally, we're going to write coverage metrics."
   ]
  },
  {
   "cell_type": "code",
   "execution_count": 20,
   "id": "e3a90d29",
   "metadata": {
    "execution": {
     "iopub.execute_input": "2022-07-12T21:12:09.541902Z",
     "iopub.status.busy": "2022-07-12T21:12:09.541531Z",
     "iopub.status.idle": "2022-07-12T21:12:09.552160Z",
     "shell.execute_reply": "2022-07-12T21:12:09.551247Z"
    }
   },
   "outputs": [
    {
     "data": {
      "text/plain": [
       "dataset\n",
       "AZ         0.351748\n",
       "BX-E       0.685989\n",
       "BX-I       0.653030\n",
       "GR-E       0.368611\n",
       "GR-I       0.368611\n",
       "LOC-MDS    0.608597\n",
       "dtype: float64"
      ]
     },
     "execution_count": 20,
     "metadata": {},
     "output_type": "execute_result"
    }
   ],
   "source": [
    "book_tots = book_counts.sum(axis=1)\n",
    "book_link = book_counts['male'] + book_counts['female'] + book_counts['ambiguous']\n",
    "book_cover = book_link / book_tots\n",
    "book_cover"
   ]
  },
  {
   "cell_type": "code",
   "execution_count": 21,
   "id": "0fe14409",
   "metadata": {
    "execution": {
     "iopub.execute_input": "2022-07-12T21:12:09.556251Z",
     "iopub.status.busy": "2022-07-12T21:12:09.555892Z",
     "iopub.status.idle": "2022-07-12T21:12:09.560957Z",
     "shell.execute_reply": "2022-07-12T21:12:09.560074Z"
    }
   },
   "outputs": [],
   "source": [
    "book_cover.to_json('book-coverage.json')"
   ]
  },
  {
   "cell_type": "code",
   "execution_count": null,
   "id": "d628b08b",
   "metadata": {},
   "outputs": [],
   "source": []
  }
 ],
 "metadata": {
  "jupytext": {
   "formats": "ipynb,py:percent"
  },
  "kernelspec": {
   "display_name": "Python 3 (ipykernel)",
   "language": "python",
   "name": "python3"
  },
  "language_info": {
   "codemirror_mode": {
    "name": "ipython",
    "version": 3
   },
   "file_extension": ".py",
   "mimetype": "text/x-python",
   "name": "python",
   "nbconvert_exporter": "python",
   "pygments_lexer": "ipython3",
   "version": "3.9.13"
  }
 },
 "nbformat": 4,
 "nbformat_minor": 5
}
