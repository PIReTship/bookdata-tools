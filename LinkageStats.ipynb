{
 "cells": [
  {
   "cell_type": "markdown",
   "id": "08a0cc17",
   "metadata": {},
   "source": [
    "# Book Data Linkage Statistics\n",
    "\n",
    "This notebook presents statistics of the book data integration."
   ]
  },
  {
   "cell_type": "markdown",
   "id": "0cda5d14",
   "metadata": {},
   "source": [
    "## Setup"
   ]
  },
  {
   "cell_type": "code",
   "execution_count": 1,
   "id": "23771c20",
   "metadata": {
    "execution": {
     "iopub.execute_input": "2022-06-08T19:13:25.370581Z",
     "iopub.status.busy": "2022-06-08T19:13:25.370581Z",
     "iopub.status.idle": "2022-06-08T19:13:26.713540Z",
     "shell.execute_reply": "2022-06-08T19:13:26.712821Z"
    },
    "tags": []
   },
   "outputs": [],
   "source": [
    "import pandas as pd\n",
    "import matplotlib as mpl\n",
    "import matplotlib.pyplot as plt\n",
    "import numpy as np"
   ]
  },
  {
   "cell_type": "markdown",
   "id": "e47fc6df",
   "metadata": {},
   "source": [
    "## Load Link Stats\n",
    "\n",
    "We compute dataset linking statitsics as `gender-stats.csv` using DataFusion.  Let's load those:"
   ]
  },
  {
   "cell_type": "code",
   "execution_count": 2,
   "id": "51167ba4",
   "metadata": {
    "execution": {
     "iopub.execute_input": "2022-06-08T19:13:26.716483Z",
     "iopub.status.busy": "2022-06-08T19:13:26.716483Z",
     "iopub.status.idle": "2022-06-08T19:13:26.744028Z",
     "shell.execute_reply": "2022-06-08T19:13:26.744028Z"
    },
    "tags": []
   },
   "outputs": [
    {
     "data": {
      "text/html": [
       "<div>\n",
       "<style scoped>\n",
       "    .dataframe tbody tr th:only-of-type {\n",
       "        vertical-align: middle;\n",
       "    }\n",
       "\n",
       "    .dataframe tbody tr th {\n",
       "        vertical-align: top;\n",
       "    }\n",
       "\n",
       "    .dataframe thead th {\n",
       "        text-align: right;\n",
       "    }\n",
       "</style>\n",
       "<table border=\"1\" class=\"dataframe\">\n",
       "  <thead>\n",
       "    <tr style=\"text-align: right;\">\n",
       "      <th></th>\n",
       "      <th>dataset</th>\n",
       "      <th>gender</th>\n",
       "      <th>n_books</th>\n",
       "      <th>n_actions</th>\n",
       "    </tr>\n",
       "  </thead>\n",
       "  <tbody>\n",
       "    <tr>\n",
       "      <th>0</th>\n",
       "      <td>BX-I</td>\n",
       "      <td>no-book-author</td>\n",
       "      <td>11350</td>\n",
       "      <td>20420</td>\n",
       "    </tr>\n",
       "    <tr>\n",
       "      <th>1</th>\n",
       "      <td>BX-I</td>\n",
       "      <td>male</td>\n",
       "      <td>100909</td>\n",
       "      <td>461912</td>\n",
       "    </tr>\n",
       "    <tr>\n",
       "      <th>2</th>\n",
       "      <td>BX-I</td>\n",
       "      <td>no-author-rec</td>\n",
       "      <td>10622</td>\n",
       "      <td>17233</td>\n",
       "    </tr>\n",
       "    <tr>\n",
       "      <th>3</th>\n",
       "      <td>BX-I</td>\n",
       "      <td>no-book</td>\n",
       "      <td>40633</td>\n",
       "      <td>56245</td>\n",
       "    </tr>\n",
       "    <tr>\n",
       "      <th>4</th>\n",
       "      <td>BX-I</td>\n",
       "      <td>female</td>\n",
       "      <td>69784</td>\n",
       "      <td>398122</td>\n",
       "    </tr>\n",
       "  </tbody>\n",
       "</table>\n",
       "</div>"
      ],
      "text/plain": [
       "  dataset          gender  n_books  n_actions\n",
       "0    BX-I  no-book-author    11350      20420\n",
       "1    BX-I            male   100909     461912\n",
       "2    BX-I   no-author-rec    10622      17233\n",
       "3    BX-I         no-book    40633      56245\n",
       "4    BX-I          female    69784     398122"
      ]
     },
     "execution_count": 2,
     "metadata": {},
     "output_type": "execute_result"
    }
   ],
   "source": [
    "link_stats = pd.read_csv('book-links/gender-stats.csv')\n",
    "link_stats.head()"
   ]
  },
  {
   "cell_type": "markdown",
   "id": "b2ddfde3",
   "metadata": {},
   "source": [
    "Now let's define variables for our variou codes. We are first going to define our gender codes.  We'll start with the resolved codes:"
   ]
  },
  {
   "cell_type": "code",
   "execution_count": 3,
   "id": "abca3b66",
   "metadata": {
    "execution": {
     "iopub.execute_input": "2022-06-08T19:13:26.747066Z",
     "iopub.status.busy": "2022-06-08T19:13:26.747066Z",
     "iopub.status.idle": "2022-06-08T19:13:26.759847Z",
     "shell.execute_reply": "2022-06-08T19:13:26.759847Z"
    },
    "tags": []
   },
   "outputs": [],
   "source": [
    "link_codes = ['female', 'male', 'ambiguous', 'unknown']"
   ]
  },
  {
   "cell_type": "markdown",
   "id": "62e8cbec",
   "metadata": {},
   "source": [
    "We want the unlink codes in order, so the last is the first link failure:"
   ]
  },
  {
   "cell_type": "code",
   "execution_count": 4,
   "id": "50509649",
   "metadata": {
    "execution": {
     "iopub.execute_input": "2022-06-08T19:13:26.763856Z",
     "iopub.status.busy": "2022-06-08T19:13:26.762854Z",
     "iopub.status.idle": "2022-06-08T19:13:26.775006Z",
     "shell.execute_reply": "2022-06-08T19:13:26.775006Z"
    },
    "tags": []
   },
   "outputs": [],
   "source": [
    "unlink_codes = ['no-author-rec', 'no-book-author', 'no-book']"
   ]
  },
  {
   "cell_type": "code",
   "execution_count": 5,
   "id": "801d76d8",
   "metadata": {
    "execution": {
     "iopub.execute_input": "2022-06-08T19:13:26.777854Z",
     "iopub.status.busy": "2022-06-08T19:13:26.777854Z",
     "iopub.status.idle": "2022-06-08T19:13:26.791342Z",
     "shell.execute_reply": "2022-06-08T19:13:26.790592Z"
    },
    "tags": []
   },
   "outputs": [],
   "source": [
    "all_codes = link_codes + unlink_codes"
   ]
  },
  {
   "cell_type": "markdown",
   "id": "58261c76",
   "metadata": {},
   "source": [
    "## Processing Statistics\n",
    "\n",
    "Now we'll pivot each of our count columns into a table for easier reference."
   ]
  },
  {
   "cell_type": "code",
   "execution_count": 6,
   "id": "da0cf79a",
   "metadata": {
    "execution": {
     "iopub.execute_input": "2022-06-08T19:13:26.793381Z",
     "iopub.status.busy": "2022-06-08T19:13:26.793381Z",
     "iopub.status.idle": "2022-06-08T19:13:26.806350Z",
     "shell.execute_reply": "2022-06-08T19:13:26.806350Z"
    },
    "tags": []
   },
   "outputs": [
    {
     "data": {
      "text/html": [
       "<div>\n",
       "<style scoped>\n",
       "    .dataframe tbody tr th:only-of-type {\n",
       "        vertical-align: middle;\n",
       "    }\n",
       "\n",
       "    .dataframe tbody tr th {\n",
       "        vertical-align: top;\n",
       "    }\n",
       "\n",
       "    .dataframe thead th {\n",
       "        text-align: right;\n",
       "    }\n",
       "</style>\n",
       "<table border=\"1\" class=\"dataframe\">\n",
       "  <thead>\n",
       "    <tr style=\"text-align: right;\">\n",
       "      <th>gender</th>\n",
       "      <th>female</th>\n",
       "      <th>male</th>\n",
       "      <th>ambiguous</th>\n",
       "      <th>unknown</th>\n",
       "      <th>no-author-rec</th>\n",
       "      <th>no-book-author</th>\n",
       "      <th>no-book</th>\n",
       "      <th>total</th>\n",
       "    </tr>\n",
       "    <tr>\n",
       "      <th>dataset</th>\n",
       "      <th></th>\n",
       "      <th></th>\n",
       "      <th></th>\n",
       "      <th></th>\n",
       "      <th></th>\n",
       "      <th></th>\n",
       "      <th></th>\n",
       "      <th></th>\n",
       "    </tr>\n",
       "  </thead>\n",
       "  <tbody>\n",
       "    <tr>\n",
       "      <th>AZ</th>\n",
       "      <td>239422.0</td>\n",
       "      <td>536270.0</td>\n",
       "      <td>22301.0</td>\n",
       "      <td>238677.0</td>\n",
       "      <td>126702.0</td>\n",
       "      <td>113652.0</td>\n",
       "      <td>985503.0</td>\n",
       "      <td>2262527.0</td>\n",
       "    </tr>\n",
       "    <tr>\n",
       "      <th>BX-E</th>\n",
       "      <td>39587.0</td>\n",
       "      <td>57701.0</td>\n",
       "      <td>5202.0</td>\n",
       "      <td>15724.0</td>\n",
       "      <td>5273.0</td>\n",
       "      <td>5613.0</td>\n",
       "      <td>20075.0</td>\n",
       "      <td>149175.0</td>\n",
       "    </tr>\n",
       "    <tr>\n",
       "      <th>BX-I</th>\n",
       "      <td>69784.0</td>\n",
       "      <td>100909.0</td>\n",
       "      <td>8922.0</td>\n",
       "      <td>32389.0</td>\n",
       "      <td>10622.0</td>\n",
       "      <td>11350.0</td>\n",
       "      <td>40633.0</td>\n",
       "      <td>274609.0</td>\n",
       "    </tr>\n",
       "    <tr>\n",
       "      <th>GR-E</th>\n",
       "      <td>215677.0</td>\n",
       "      <td>319931.0</td>\n",
       "      <td>16817.0</td>\n",
       "      <td>102652.0</td>\n",
       "      <td>42740.0</td>\n",
       "      <td>787097.0</td>\n",
       "      <td>NaN</td>\n",
       "      <td>1484914.0</td>\n",
       "    </tr>\n",
       "    <tr>\n",
       "      <th>GR-I</th>\n",
       "      <td>217770.0</td>\n",
       "      <td>323939.0</td>\n",
       "      <td>16990.0</td>\n",
       "      <td>104424.0</td>\n",
       "      <td>43559.0</td>\n",
       "      <td>799783.0</td>\n",
       "      <td>NaN</td>\n",
       "      <td>1506465.0</td>\n",
       "    </tr>\n",
       "    <tr>\n",
       "      <th>LOC-MDS</th>\n",
       "      <td>739018.0</td>\n",
       "      <td>2414635.0</td>\n",
       "      <td>70919.0</td>\n",
       "      <td>1136753.0</td>\n",
       "      <td>263810.0</td>\n",
       "      <td>609387.0</td>\n",
       "      <td>NaN</td>\n",
       "      <td>5234522.0</td>\n",
       "    </tr>\n",
       "  </tbody>\n",
       "</table>\n",
       "</div>"
      ],
      "text/plain": [
       "gender     female       male  ambiguous    unknown  no-author-rec  \\\n",
       "dataset                                                             \n",
       "AZ       239422.0   536270.0    22301.0   238677.0       126702.0   \n",
       "BX-E      39587.0    57701.0     5202.0    15724.0         5273.0   \n",
       "BX-I      69784.0   100909.0     8922.0    32389.0        10622.0   \n",
       "GR-E     215677.0   319931.0    16817.0   102652.0        42740.0   \n",
       "GR-I     217770.0   323939.0    16990.0   104424.0        43559.0   \n",
       "LOC-MDS  739018.0  2414635.0    70919.0  1136753.0       263810.0   \n",
       "\n",
       "gender   no-book-author   no-book      total  \n",
       "dataset                                       \n",
       "AZ             113652.0  985503.0  2262527.0  \n",
       "BX-E             5613.0   20075.0   149175.0  \n",
       "BX-I            11350.0   40633.0   274609.0  \n",
       "GR-E           787097.0       NaN  1484914.0  \n",
       "GR-I           799783.0       NaN  1506465.0  \n",
       "LOC-MDS        609387.0       NaN  5234522.0  "
      ]
     },
     "execution_count": 6,
     "metadata": {},
     "output_type": "execute_result"
    }
   ],
   "source": [
    "book_counts = link_stats.pivot('dataset', 'gender', 'n_books')\n",
    "book_counts = book_counts.reindex(columns=all_codes)\n",
    "book_counts.assign(total=book_counts.sum(axis=1))"
   ]
  },
  {
   "cell_type": "code",
   "execution_count": 7,
   "id": "3564bb35",
   "metadata": {
    "execution": {
     "iopub.execute_input": "2022-06-08T19:13:26.809403Z",
     "iopub.status.busy": "2022-06-08T19:13:26.809403Z",
     "iopub.status.idle": "2022-06-08T19:13:26.822934Z",
     "shell.execute_reply": "2022-06-08T19:13:26.822258Z"
    },
    "tags": []
   },
   "outputs": [
    {
     "data": {
      "text/html": [
       "<div>\n",
       "<style scoped>\n",
       "    .dataframe tbody tr th:only-of-type {\n",
       "        vertical-align: middle;\n",
       "    }\n",
       "\n",
       "    .dataframe tbody tr th {\n",
       "        vertical-align: top;\n",
       "    }\n",
       "\n",
       "    .dataframe thead th {\n",
       "        text-align: right;\n",
       "    }\n",
       "</style>\n",
       "<table border=\"1\" class=\"dataframe\">\n",
       "  <thead>\n",
       "    <tr style=\"text-align: right;\">\n",
       "      <th>gender</th>\n",
       "      <th>female</th>\n",
       "      <th>male</th>\n",
       "      <th>ambiguous</th>\n",
       "      <th>unknown</th>\n",
       "      <th>no-author-rec</th>\n",
       "      <th>no-book-author</th>\n",
       "      <th>no-book</th>\n",
       "    </tr>\n",
       "    <tr>\n",
       "      <th>dataset</th>\n",
       "      <th></th>\n",
       "      <th></th>\n",
       "      <th></th>\n",
       "      <th></th>\n",
       "      <th></th>\n",
       "      <th></th>\n",
       "      <th></th>\n",
       "    </tr>\n",
       "  </thead>\n",
       "  <tbody>\n",
       "    <tr>\n",
       "      <th>AZ</th>\n",
       "      <td>4778691.0</td>\n",
       "      <td>6914064.0</td>\n",
       "      <td>803800.0</td>\n",
       "      <td>2087659.0</td>\n",
       "      <td>779306.0</td>\n",
       "      <td>1278813.0</td>\n",
       "      <td>5798466.0</td>\n",
       "    </tr>\n",
       "    <tr>\n",
       "      <th>BX-E</th>\n",
       "      <td>141196.0</td>\n",
       "      <td>181892.0</td>\n",
       "      <td>41534.0</td>\n",
       "      <td>25218.0</td>\n",
       "      <td>6671.0</td>\n",
       "      <td>7614.0</td>\n",
       "      <td>23084.0</td>\n",
       "    </tr>\n",
       "    <tr>\n",
       "      <th>BX-I</th>\n",
       "      <td>398122.0</td>\n",
       "      <td>461912.0</td>\n",
       "      <td>103923.0</td>\n",
       "      <td>71357.0</td>\n",
       "      <td>17233.0</td>\n",
       "      <td>20420.0</td>\n",
       "      <td>56245.0</td>\n",
       "    </tr>\n",
       "    <tr>\n",
       "      <th>GR-E</th>\n",
       "      <td>36501620.0</td>\n",
       "      <td>33395862.0</td>\n",
       "      <td>12695595.0</td>\n",
       "      <td>3591909.0</td>\n",
       "      <td>739723.0</td>\n",
       "      <td>12294989.0</td>\n",
       "      <td>NaN</td>\n",
       "    </tr>\n",
       "    <tr>\n",
       "      <th>GR-I</th>\n",
       "      <td>82827808.0</td>\n",
       "      <td>69993792.0</td>\n",
       "      <td>20945491.0</td>\n",
       "      <td>10088386.0</td>\n",
       "      <td>2412556.0</td>\n",
       "      <td>33273918.0</td>\n",
       "      <td>NaN</td>\n",
       "    </tr>\n",
       "  </tbody>\n",
       "</table>\n",
       "</div>"
      ],
      "text/plain": [
       "gender       female        male   ambiguous     unknown  no-author-rec  \\\n",
       "dataset                                                                  \n",
       "AZ        4778691.0   6914064.0    803800.0   2087659.0       779306.0   \n",
       "BX-E       141196.0    181892.0     41534.0     25218.0         6671.0   \n",
       "BX-I       398122.0    461912.0    103923.0     71357.0        17233.0   \n",
       "GR-E     36501620.0  33395862.0  12695595.0   3591909.0       739723.0   \n",
       "GR-I     82827808.0  69993792.0  20945491.0  10088386.0      2412556.0   \n",
       "\n",
       "gender   no-book-author    no-book  \n",
       "dataset                             \n",
       "AZ            1278813.0  5798466.0  \n",
       "BX-E             7614.0    23084.0  \n",
       "BX-I            20420.0    56245.0  \n",
       "GR-E         12294989.0        NaN  \n",
       "GR-I         33273918.0        NaN  "
      ]
     },
     "execution_count": 7,
     "metadata": {},
     "output_type": "execute_result"
    }
   ],
   "source": [
    "act_counts = link_stats.pivot('dataset', 'gender', 'n_actions')\n",
    "act_counts = act_counts.reindex(columns=all_codes)\n",
    "act_counts.drop(index='LOC-MDS', inplace=True)\n",
    "act_counts"
   ]
  },
  {
   "cell_type": "markdown",
   "id": "9dd0963c",
   "metadata": {},
   "source": [
    "We're going to want to compute versions of this table as fractions, e.g. the fraction of books that are written by women.  We will use the following helper function:"
   ]
  },
  {
   "cell_type": "code",
   "execution_count": 8,
   "id": "f3d9b362",
   "metadata": {
    "execution": {
     "iopub.execute_input": "2022-06-08T19:13:26.825937Z",
     "iopub.status.busy": "2022-06-08T19:13:26.824966Z",
     "iopub.status.idle": "2022-06-08T19:13:26.839482Z",
     "shell.execute_reply": "2022-06-08T19:13:26.838462Z"
    }
   },
   "outputs": [],
   "source": [
    "def fractionalize(data, columns, unlinked=None):\n",
    "    fracs = data[columns]\n",
    "    fracs.columns = fracs.columns.astype('str')\n",
    "    if unlinked:\n",
    "        fracs = fracs.assign(unlinked=data[unlinked].sum(axis=1))\n",
    "    totals = fracs.sum(axis=1)\n",
    "    return fracs.divide(totals, axis=0)"
   ]
  },
  {
   "cell_type": "markdown",
   "id": "44bd4762",
   "metadata": {},
   "source": [
    "And a helper function for plotting bar charts:"
   ]
  },
  {
   "cell_type": "code",
   "execution_count": 9,
   "id": "c7960312",
   "metadata": {
    "execution": {
     "iopub.execute_input": "2022-06-08T19:13:26.841694Z",
     "iopub.status.busy": "2022-06-08T19:13:26.841694Z",
     "iopub.status.idle": "2022-06-08T19:13:26.854439Z",
     "shell.execute_reply": "2022-06-08T19:13:26.853635Z"
    }
   },
   "outputs": [],
   "source": [
    "def plot_bars(fracs, ax=None, cmap=mpl.cm.Dark2):\n",
    "    if ax is None:\n",
    "        ax = plt.gca()\n",
    "    size = 0.5\n",
    "    ind = np.arange(len(fracs))\n",
    "    start = pd.Series(0, index=fracs.index)\n",
    "    for i, col in enumerate(fracs.columns):\n",
    "        vals = fracs.iloc[:, i]\n",
    "        rects = ax.barh(ind, vals, size, left=start, label=col, color=cmap(i))\n",
    "        for j, rec in enumerate(rects):\n",
    "            if vals.iloc[j] < 0.1 or np.isnan(vals.iloc[j]): continue\n",
    "            y = rec.get_y() + rec.get_height() / 2\n",
    "            x = start.iloc[j] + vals.iloc[j] / 2\n",
    "            ax.annotate('{:.1f}%'.format(vals.iloc[j] * 100),\n",
    "                        xy=(x,y), ha='center', va='center', color='white',\n",
    "                        fontweight='bold')\n",
    "        start += vals.fillna(0)\n",
    "    ax.set_xlabel('Fraction of Books')\n",
    "    ax.set_ylabel('Data Set')\n",
    "    ax.set_yticks(ind)\n",
    "    ax.set_yticklabels(fracs.index)\n",
    "    ax.legend(loc='center left', bbox_to_anchor=(1, 0.5))"
   ]
  },
  {
   "cell_type": "markdown",
   "id": "23868cc9",
   "metadata": {},
   "source": [
    "## Resolution of Books\n",
    "\n",
    "What fraction of *unique books* are resolved from each source?"
   ]
  },
  {
   "cell_type": "code",
   "execution_count": 10,
   "id": "74701791",
   "metadata": {
    "execution": {
     "iopub.execute_input": "2022-06-08T19:13:26.856446Z",
     "iopub.status.busy": "2022-06-08T19:13:26.856446Z",
     "iopub.status.idle": "2022-06-08T19:13:26.869448Z",
     "shell.execute_reply": "2022-06-08T19:13:26.868772Z"
    }
   },
   "outputs": [
    {
     "data": {
      "text/html": [
       "<div>\n",
       "<style scoped>\n",
       "    .dataframe tbody tr th:only-of-type {\n",
       "        vertical-align: middle;\n",
       "    }\n",
       "\n",
       "    .dataframe tbody tr th {\n",
       "        vertical-align: top;\n",
       "    }\n",
       "\n",
       "    .dataframe thead th {\n",
       "        text-align: right;\n",
       "    }\n",
       "</style>\n",
       "<table border=\"1\" class=\"dataframe\">\n",
       "  <thead>\n",
       "    <tr style=\"text-align: right;\">\n",
       "      <th>gender</th>\n",
       "      <th>female</th>\n",
       "      <th>male</th>\n",
       "      <th>ambiguous</th>\n",
       "      <th>unknown</th>\n",
       "      <th>no-author-rec</th>\n",
       "      <th>no-book-author</th>\n",
       "      <th>no-book</th>\n",
       "    </tr>\n",
       "    <tr>\n",
       "      <th>dataset</th>\n",
       "      <th></th>\n",
       "      <th></th>\n",
       "      <th></th>\n",
       "      <th></th>\n",
       "      <th></th>\n",
       "      <th></th>\n",
       "      <th></th>\n",
       "    </tr>\n",
       "  </thead>\n",
       "  <tbody>\n",
       "    <tr>\n",
       "      <th>AZ</th>\n",
       "      <td>0.105821</td>\n",
       "      <td>0.237023</td>\n",
       "      <td>0.009857</td>\n",
       "      <td>0.105491</td>\n",
       "      <td>0.056000</td>\n",
       "      <td>0.050232</td>\n",
       "      <td>0.435576</td>\n",
       "    </tr>\n",
       "    <tr>\n",
       "      <th>BX-E</th>\n",
       "      <td>0.265373</td>\n",
       "      <td>0.386801</td>\n",
       "      <td>0.034872</td>\n",
       "      <td>0.105406</td>\n",
       "      <td>0.035348</td>\n",
       "      <td>0.037627</td>\n",
       "      <td>0.134573</td>\n",
       "    </tr>\n",
       "    <tr>\n",
       "      <th>BX-I</th>\n",
       "      <td>0.254121</td>\n",
       "      <td>0.367464</td>\n",
       "      <td>0.032490</td>\n",
       "      <td>0.117946</td>\n",
       "      <td>0.038680</td>\n",
       "      <td>0.041331</td>\n",
       "      <td>0.147967</td>\n",
       "    </tr>\n",
       "    <tr>\n",
       "      <th>GR-E</th>\n",
       "      <td>0.145245</td>\n",
       "      <td>0.215454</td>\n",
       "      <td>0.011325</td>\n",
       "      <td>0.069130</td>\n",
       "      <td>0.028783</td>\n",
       "      <td>0.530062</td>\n",
       "      <td>NaN</td>\n",
       "    </tr>\n",
       "    <tr>\n",
       "      <th>GR-I</th>\n",
       "      <td>0.144557</td>\n",
       "      <td>0.215033</td>\n",
       "      <td>0.011278</td>\n",
       "      <td>0.069317</td>\n",
       "      <td>0.028915</td>\n",
       "      <td>0.530900</td>\n",
       "      <td>NaN</td>\n",
       "    </tr>\n",
       "    <tr>\n",
       "      <th>LOC-MDS</th>\n",
       "      <td>0.141182</td>\n",
       "      <td>0.461290</td>\n",
       "      <td>0.013548</td>\n",
       "      <td>0.217165</td>\n",
       "      <td>0.050398</td>\n",
       "      <td>0.116417</td>\n",
       "      <td>NaN</td>\n",
       "    </tr>\n",
       "  </tbody>\n",
       "</table>\n",
       "</div>"
      ],
      "text/plain": [
       "gender     female      male  ambiguous   unknown  no-author-rec  \\\n",
       "dataset                                                           \n",
       "AZ       0.105821  0.237023   0.009857  0.105491       0.056000   \n",
       "BX-E     0.265373  0.386801   0.034872  0.105406       0.035348   \n",
       "BX-I     0.254121  0.367464   0.032490  0.117946       0.038680   \n",
       "GR-E     0.145245  0.215454   0.011325  0.069130       0.028783   \n",
       "GR-I     0.144557  0.215033   0.011278  0.069317       0.028915   \n",
       "LOC-MDS  0.141182  0.461290   0.013548  0.217165       0.050398   \n",
       "\n",
       "gender   no-book-author   no-book  \n",
       "dataset                            \n",
       "AZ             0.050232  0.435576  \n",
       "BX-E           0.037627  0.134573  \n",
       "BX-I           0.041331  0.147967  \n",
       "GR-E           0.530062       NaN  \n",
       "GR-I           0.530900       NaN  \n",
       "LOC-MDS        0.116417       NaN  "
      ]
     },
     "execution_count": 10,
     "metadata": {},
     "output_type": "execute_result"
    }
   ],
   "source": [
    "fractionalize(book_counts, link_codes + unlink_codes)"
   ]
  },
  {
   "cell_type": "code",
   "execution_count": 11,
   "id": "e0725dd2",
   "metadata": {
    "execution": {
     "iopub.execute_input": "2022-06-08T19:13:26.871446Z",
     "iopub.status.busy": "2022-06-08T19:13:26.871446Z",
     "iopub.status.idle": "2022-06-08T19:13:27.138030Z",
     "shell.execute_reply": "2022-06-08T19:13:27.137028Z"
    }
   },
   "outputs": [
    {
     "data": {
      "image/png": "[encoded data removed]",
      "text/plain": [
       "<Figure size 432x288 with 1 Axes>"
      ]
     },
     "metadata": {
      "needs_background": "light"
     },
     "output_type": "display_data"
    }
   ],
   "source": [
    "plot_bars(fractionalize(book_counts, link_codes + unlink_codes))"
   ]
  },
  {
   "cell_type": "code",
   "execution_count": 12,
   "id": "719c8b01",
   "metadata": {
    "execution": {
     "iopub.execute_input": "2022-06-08T19:13:27.140027Z",
     "iopub.status.busy": "2022-06-08T19:13:27.140027Z",
     "iopub.status.idle": "2022-06-08T19:13:27.153028Z",
     "shell.execute_reply": "2022-06-08T19:13:27.152186Z"
    }
   },
   "outputs": [
    {
     "data": {
      "text/html": [
       "<div>\n",
       "<style scoped>\n",
       "    .dataframe tbody tr th:only-of-type {\n",
       "        vertical-align: middle;\n",
       "    }\n",
       "\n",
       "    .dataframe tbody tr th {\n",
       "        vertical-align: top;\n",
       "    }\n",
       "\n",
       "    .dataframe thead th {\n",
       "        text-align: right;\n",
       "    }\n",
       "</style>\n",
       "<table border=\"1\" class=\"dataframe\">\n",
       "  <thead>\n",
       "    <tr style=\"text-align: right;\">\n",
       "      <th>gender</th>\n",
       "      <th>female</th>\n",
       "      <th>male</th>\n",
       "      <th>ambiguous</th>\n",
       "      <th>unknown</th>\n",
       "      <th>unlinked</th>\n",
       "    </tr>\n",
       "    <tr>\n",
       "      <th>dataset</th>\n",
       "      <th></th>\n",
       "      <th></th>\n",
       "      <th></th>\n",
       "      <th></th>\n",
       "      <th></th>\n",
       "    </tr>\n",
       "  </thead>\n",
       "  <tbody>\n",
       "    <tr>\n",
       "      <th>AZ</th>\n",
       "      <td>0.105821</td>\n",
       "      <td>0.237023</td>\n",
       "      <td>0.009857</td>\n",
       "      <td>0.105491</td>\n",
       "      <td>0.541809</td>\n",
       "    </tr>\n",
       "    <tr>\n",
       "      <th>BX-E</th>\n",
       "      <td>0.265373</td>\n",
       "      <td>0.386801</td>\n",
       "      <td>0.034872</td>\n",
       "      <td>0.105406</td>\n",
       "      <td>0.207548</td>\n",
       "    </tr>\n",
       "    <tr>\n",
       "      <th>BX-I</th>\n",
       "      <td>0.254121</td>\n",
       "      <td>0.367464</td>\n",
       "      <td>0.032490</td>\n",
       "      <td>0.117946</td>\n",
       "      <td>0.227979</td>\n",
       "    </tr>\n",
       "    <tr>\n",
       "      <th>GR-E</th>\n",
       "      <td>0.145245</td>\n",
       "      <td>0.215454</td>\n",
       "      <td>0.011325</td>\n",
       "      <td>0.069130</td>\n",
       "      <td>0.558845</td>\n",
       "    </tr>\n",
       "    <tr>\n",
       "      <th>GR-I</th>\n",
       "      <td>0.144557</td>\n",
       "      <td>0.215033</td>\n",
       "      <td>0.011278</td>\n",
       "      <td>0.069317</td>\n",
       "      <td>0.559815</td>\n",
       "    </tr>\n",
       "    <tr>\n",
       "      <th>LOC-MDS</th>\n",
       "      <td>0.141182</td>\n",
       "      <td>0.461290</td>\n",
       "      <td>0.013548</td>\n",
       "      <td>0.217165</td>\n",
       "      <td>0.166815</td>\n",
       "    </tr>\n",
       "  </tbody>\n",
       "</table>\n",
       "</div>"
      ],
      "text/plain": [
       "gender     female      male  ambiguous   unknown  unlinked\n",
       "dataset                                                   \n",
       "AZ       0.105821  0.237023   0.009857  0.105491  0.541809\n",
       "BX-E     0.265373  0.386801   0.034872  0.105406  0.207548\n",
       "BX-I     0.254121  0.367464   0.032490  0.117946  0.227979\n",
       "GR-E     0.145245  0.215454   0.011325  0.069130  0.558845\n",
       "GR-I     0.144557  0.215033   0.011278  0.069317  0.559815\n",
       "LOC-MDS  0.141182  0.461290   0.013548  0.217165  0.166815"
      ]
     },
     "execution_count": 12,
     "metadata": {},
     "output_type": "execute_result"
    }
   ],
   "source": [
    "fractionalize(book_counts, link_codes, unlink_codes)"
   ]
  },
  {
   "cell_type": "code",
   "execution_count": 13,
   "id": "96a6f737",
   "metadata": {
    "execution": {
     "iopub.execute_input": "2022-06-08T19:13:27.155026Z",
     "iopub.status.busy": "2022-06-08T19:13:27.155026Z",
     "iopub.status.idle": "2022-06-08T19:13:27.375259Z",
     "shell.execute_reply": "2022-06-08T19:13:27.374407Z"
    }
   },
   "outputs": [
    {
     "data": {
      "image/png": "[encoded data removed]",
      "text/plain": [
       "<Figure size 432x288 with 1 Axes>"
      ]
     },
     "metadata": {
      "needs_background": "light"
     },
     "output_type": "display_data"
    }
   ],
   "source": [
    "plot_bars(fractionalize(book_counts, link_codes, unlink_codes))"
   ]
  },
  {
   "cell_type": "code",
   "execution_count": 14,
   "id": "93006da8",
   "metadata": {
    "execution": {
     "iopub.execute_input": "2022-06-08T19:13:27.377256Z",
     "iopub.status.busy": "2022-06-08T19:13:27.377256Z",
     "iopub.status.idle": "2022-06-08T19:13:27.502285Z",
     "shell.execute_reply": "2022-06-08T19:13:27.502285Z"
    }
   },
   "outputs": [
    {
     "data": {
      "image/png": "[encoded data removed]",
      "text/plain": [
       "<Figure size 432x288 with 1 Axes>"
      ]
     },
     "metadata": {
      "needs_background": "light"
     },
     "output_type": "display_data"
    }
   ],
   "source": [
    "plot_bars(fractionalize(book_counts, ['female', 'male']))"
   ]
  },
  {
   "cell_type": "markdown",
   "id": "7d5e3bcd",
   "metadata": {},
   "source": [
    "## Resolution of Ratings\n",
    "\n",
    "What fraction of *rating actions* have each resolution result?"
   ]
  },
  {
   "cell_type": "code",
   "execution_count": 15,
   "id": "b29192f4",
   "metadata": {
    "execution": {
     "iopub.execute_input": "2022-06-08T19:13:27.505253Z",
     "iopub.status.busy": "2022-06-08T19:13:27.505253Z",
     "iopub.status.idle": "2022-06-08T19:13:27.518328Z",
     "shell.execute_reply": "2022-06-08T19:13:27.518328Z"
    }
   },
   "outputs": [
    {
     "data": {
      "text/html": [
       "<div>\n",
       "<style scoped>\n",
       "    .dataframe tbody tr th:only-of-type {\n",
       "        vertical-align: middle;\n",
       "    }\n",
       "\n",
       "    .dataframe tbody tr th {\n",
       "        vertical-align: top;\n",
       "    }\n",
       "\n",
       "    .dataframe thead th {\n",
       "        text-align: right;\n",
       "    }\n",
       "</style>\n",
       "<table border=\"1\" class=\"dataframe\">\n",
       "  <thead>\n",
       "    <tr style=\"text-align: right;\">\n",
       "      <th>gender</th>\n",
       "      <th>female</th>\n",
       "      <th>male</th>\n",
       "      <th>ambiguous</th>\n",
       "      <th>unknown</th>\n",
       "      <th>no-author-rec</th>\n",
       "      <th>no-book-author</th>\n",
       "      <th>no-book</th>\n",
       "    </tr>\n",
       "    <tr>\n",
       "      <th>dataset</th>\n",
       "      <th></th>\n",
       "      <th></th>\n",
       "      <th></th>\n",
       "      <th></th>\n",
       "      <th></th>\n",
       "      <th></th>\n",
       "      <th></th>\n",
       "    </tr>\n",
       "  </thead>\n",
       "  <tbody>\n",
       "    <tr>\n",
       "      <th>AZ</th>\n",
       "      <td>0.212947</td>\n",
       "      <td>0.308102</td>\n",
       "      <td>0.035819</td>\n",
       "      <td>0.093030</td>\n",
       "      <td>0.034727</td>\n",
       "      <td>0.056986</td>\n",
       "      <td>0.258389</td>\n",
       "    </tr>\n",
       "    <tr>\n",
       "      <th>BX-E</th>\n",
       "      <td>0.330508</td>\n",
       "      <td>0.425768</td>\n",
       "      <td>0.097222</td>\n",
       "      <td>0.059030</td>\n",
       "      <td>0.015615</td>\n",
       "      <td>0.017823</td>\n",
       "      <td>0.054034</td>\n",
       "    </tr>\n",
       "    <tr>\n",
       "      <th>BX-I</th>\n",
       "      <td>0.352566</td>\n",
       "      <td>0.409057</td>\n",
       "      <td>0.092031</td>\n",
       "      <td>0.063192</td>\n",
       "      <td>0.015261</td>\n",
       "      <td>0.018083</td>\n",
       "      <td>0.049809</td>\n",
       "    </tr>\n",
       "    <tr>\n",
       "      <th>GR-E</th>\n",
       "      <td>0.367887</td>\n",
       "      <td>0.336585</td>\n",
       "      <td>0.127954</td>\n",
       "      <td>0.036202</td>\n",
       "      <td>0.007455</td>\n",
       "      <td>0.123917</td>\n",
       "      <td>NaN</td>\n",
       "    </tr>\n",
       "    <tr>\n",
       "      <th>GR-I</th>\n",
       "      <td>0.377276</td>\n",
       "      <td>0.318817</td>\n",
       "      <td>0.095405</td>\n",
       "      <td>0.045952</td>\n",
       "      <td>0.010989</td>\n",
       "      <td>0.151561</td>\n",
       "      <td>NaN</td>\n",
       "    </tr>\n",
       "  </tbody>\n",
       "</table>\n",
       "</div>"
      ],
      "text/plain": [
       "gender     female      male  ambiguous   unknown  no-author-rec  \\\n",
       "dataset                                                           \n",
       "AZ       0.212947  0.308102   0.035819  0.093030       0.034727   \n",
       "BX-E     0.330508  0.425768   0.097222  0.059030       0.015615   \n",
       "BX-I     0.352566  0.409057   0.092031  0.063192       0.015261   \n",
       "GR-E     0.367887  0.336585   0.127954  0.036202       0.007455   \n",
       "GR-I     0.377276  0.318817   0.095405  0.045952       0.010989   \n",
       "\n",
       "gender   no-book-author   no-book  \n",
       "dataset                            \n",
       "AZ             0.056986  0.258389  \n",
       "BX-E           0.017823  0.054034  \n",
       "BX-I           0.018083  0.049809  \n",
       "GR-E           0.123917       NaN  \n",
       "GR-I           0.151561       NaN  "
      ]
     },
     "execution_count": 15,
     "metadata": {},
     "output_type": "execute_result"
    }
   ],
   "source": [
    "fractionalize(act_counts, link_codes + unlink_codes)"
   ]
  },
  {
   "cell_type": "code",
   "execution_count": 16,
   "id": "4bafae98",
   "metadata": {
    "execution": {
     "iopub.execute_input": "2022-06-08T19:13:27.520254Z",
     "iopub.status.busy": "2022-06-08T19:13:27.520254Z",
     "iopub.status.idle": "2022-06-08T19:13:27.707323Z",
     "shell.execute_reply": "2022-06-08T19:13:27.707323Z"
    }
   },
   "outputs": [
    {
     "data": {
      "image/png": "[encoded data removed]",
      "text/plain": [
       "<Figure size 432x288 with 1 Axes>"
      ]
     },
     "metadata": {
      "needs_background": "light"
     },
     "output_type": "display_data"
    }
   ],
   "source": [
    "plot_bars(fractionalize(act_counts, link_codes + unlink_codes))"
   ]
  },
  {
   "cell_type": "code",
   "execution_count": 17,
   "id": "f5d6243e",
   "metadata": {
    "execution": {
     "iopub.execute_input": "2022-06-08T19:13:27.710251Z",
     "iopub.status.busy": "2022-06-08T19:13:27.710251Z",
     "iopub.status.idle": "2022-06-08T19:13:27.724416Z",
     "shell.execute_reply": "2022-06-08T19:13:27.723322Z"
    }
   },
   "outputs": [
    {
     "data": {
      "text/html": [
       "<div>\n",
       "<style scoped>\n",
       "    .dataframe tbody tr th:only-of-type {\n",
       "        vertical-align: middle;\n",
       "    }\n",
       "\n",
       "    .dataframe tbody tr th {\n",
       "        vertical-align: top;\n",
       "    }\n",
       "\n",
       "    .dataframe thead th {\n",
       "        text-align: right;\n",
       "    }\n",
       "</style>\n",
       "<table border=\"1\" class=\"dataframe\">\n",
       "  <thead>\n",
       "    <tr style=\"text-align: right;\">\n",
       "      <th>gender</th>\n",
       "      <th>female</th>\n",
       "      <th>male</th>\n",
       "      <th>ambiguous</th>\n",
       "      <th>unknown</th>\n",
       "      <th>unlinked</th>\n",
       "    </tr>\n",
       "    <tr>\n",
       "      <th>dataset</th>\n",
       "      <th></th>\n",
       "      <th></th>\n",
       "      <th></th>\n",
       "      <th></th>\n",
       "      <th></th>\n",
       "    </tr>\n",
       "  </thead>\n",
       "  <tbody>\n",
       "    <tr>\n",
       "      <th>AZ</th>\n",
       "      <td>0.212947</td>\n",
       "      <td>0.308102</td>\n",
       "      <td>0.035819</td>\n",
       "      <td>0.093030</td>\n",
       "      <td>0.350103</td>\n",
       "    </tr>\n",
       "    <tr>\n",
       "      <th>BX-E</th>\n",
       "      <td>0.330508</td>\n",
       "      <td>0.425768</td>\n",
       "      <td>0.097222</td>\n",
       "      <td>0.059030</td>\n",
       "      <td>0.087472</td>\n",
       "    </tr>\n",
       "    <tr>\n",
       "      <th>BX-I</th>\n",
       "      <td>0.352566</td>\n",
       "      <td>0.409057</td>\n",
       "      <td>0.092031</td>\n",
       "      <td>0.063192</td>\n",
       "      <td>0.083154</td>\n",
       "    </tr>\n",
       "    <tr>\n",
       "      <th>GR-E</th>\n",
       "      <td>0.367887</td>\n",
       "      <td>0.336585</td>\n",
       "      <td>0.127954</td>\n",
       "      <td>0.036202</td>\n",
       "      <td>0.131372</td>\n",
       "    </tr>\n",
       "    <tr>\n",
       "      <th>GR-I</th>\n",
       "      <td>0.377276</td>\n",
       "      <td>0.318817</td>\n",
       "      <td>0.095405</td>\n",
       "      <td>0.045952</td>\n",
       "      <td>0.162550</td>\n",
       "    </tr>\n",
       "  </tbody>\n",
       "</table>\n",
       "</div>"
      ],
      "text/plain": [
       "gender     female      male  ambiguous   unknown  unlinked\n",
       "dataset                                                   \n",
       "AZ       0.212947  0.308102   0.035819  0.093030  0.350103\n",
       "BX-E     0.330508  0.425768   0.097222  0.059030  0.087472\n",
       "BX-I     0.352566  0.409057   0.092031  0.063192  0.083154\n",
       "GR-E     0.367887  0.336585   0.127954  0.036202  0.131372\n",
       "GR-I     0.377276  0.318817   0.095405  0.045952  0.162550"
      ]
     },
     "execution_count": 17,
     "metadata": {},
     "output_type": "execute_result"
    }
   ],
   "source": [
    "fractionalize(act_counts, link_codes, unlink_codes)"
   ]
  },
  {
   "cell_type": "code",
   "execution_count": 18,
   "id": "c7f9b75f",
   "metadata": {
    "execution": {
     "iopub.execute_input": "2022-06-08T19:13:27.727274Z",
     "iopub.status.busy": "2022-06-08T19:13:27.727195Z",
     "iopub.status.idle": "2022-06-08T19:13:27.882040Z",
     "shell.execute_reply": "2022-06-08T19:13:27.882040Z"
    }
   },
   "outputs": [
    {
     "data": {
      "image/png": "[encoded data removed]",
      "text/plain": [
       "<Figure size 432x288 with 1 Axes>"
      ]
     },
     "metadata": {
      "needs_background": "light"
     },
     "output_type": "display_data"
    }
   ],
   "source": [
    "plot_bars(fractionalize(act_counts, link_codes, unlink_codes))"
   ]
  },
  {
   "cell_type": "code",
   "execution_count": 19,
   "id": "cc2de168",
   "metadata": {
    "execution": {
     "iopub.execute_input": "2022-06-08T19:13:27.884975Z",
     "iopub.status.busy": "2022-06-08T19:13:27.884975Z",
     "iopub.status.idle": "2022-06-08T19:13:28.008035Z",
     "shell.execute_reply": "2022-06-08T19:13:28.008035Z"
    }
   },
   "outputs": [
    {
     "data": {
      "image/png": "[encoded data removed]",
      "text/plain": [
       "<Figure size 432x288 with 1 Axes>"
      ]
     },
     "metadata": {
      "needs_background": "light"
     },
     "output_type": "display_data"
    }
   ],
   "source": [
    "plot_bars(fractionalize(act_counts, ['female', 'male']))"
   ]
  },
  {
   "cell_type": "markdown",
   "id": "d5b47546",
   "metadata": {},
   "source": [
    "## Metrics\n",
    "\n",
    "Finally, we're going to write coverage metrics."
   ]
  },
  {
   "cell_type": "code",
   "execution_count": 20,
   "id": "900ce63f",
   "metadata": {
    "execution": {
     "iopub.execute_input": "2022-06-08T19:13:28.010974Z",
     "iopub.status.busy": "2022-06-08T19:13:28.010974Z",
     "iopub.status.idle": "2022-06-08T19:13:28.024034Z",
     "shell.execute_reply": "2022-06-08T19:13:28.024034Z"
    }
   },
   "outputs": [
    {
     "data": {
      "text/plain": [
       "dataset\n",
       "AZ         0.352700\n",
       "BX-E       0.687045\n",
       "BX-I       0.654075\n",
       "GR-E       0.372025\n",
       "GR-I       0.370868\n",
       "LOC-MDS    0.616020\n",
       "dtype: float64"
      ]
     },
     "execution_count": 20,
     "metadata": {},
     "output_type": "execute_result"
    }
   ],
   "source": [
    "book_tots = book_counts.sum(axis=1)\n",
    "book_link = book_counts['male'] + book_counts['female'] + book_counts['ambiguous']\n",
    "book_cover = book_link / book_tots\n",
    "book_cover"
   ]
  },
  {
   "cell_type": "code",
   "execution_count": 21,
   "id": "d3d8951d",
   "metadata": {
    "execution": {
     "iopub.execute_input": "2022-06-08T19:13:28.025974Z",
     "iopub.status.busy": "2022-06-08T19:13:28.025974Z",
     "iopub.status.idle": "2022-06-08T19:13:28.040034Z",
     "shell.execute_reply": "2022-06-08T19:13:28.040034Z"
    }
   },
   "outputs": [],
   "source": [
    "book_cover.to_json('book-coverage.json')"
   ]
  },
  {
   "cell_type": "code",
   "execution_count": null,
   "id": "97e62b3d",
   "metadata": {},
   "outputs": [],
   "source": []
  }
 ],
 "metadata": {
  "jupytext": {
   "formats": "ipynb,py:percent"
  },
  "kernelspec": {
   "display_name": "Python 3 (ipykernel)",
   "language": "python",
   "name": "python3"
  },
  "language_info": {
   "codemirror_mode": {
    "name": "ipython",
    "version": 3
   },
   "file_extension": ".py",
   "mimetype": "text/x-python",
   "name": "python",
   "nbconvert_exporter": "python",
   "pygments_lexer": "ipython3",
   "version": "3.8.12"
  }
 },
 "nbformat": 4,
 "nbformat_minor": 5
}
