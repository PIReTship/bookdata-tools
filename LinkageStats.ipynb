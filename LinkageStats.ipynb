{
 "cells": [
  {
   "cell_type": "markdown",
   "id": "6cf71c71",
   "metadata": {},
   "source": [
    "# Book Data Linkage Statistics\n",
    "\n",
    "This notebook presents statistics of the book data integration."
   ]
  },
  {
   "cell_type": "markdown",
   "id": "fb75dc57",
   "metadata": {},
   "source": [
    "## Setup"
   ]
  },
  {
   "cell_type": "code",
   "execution_count": 1,
   "id": "2fdf3f85",
   "metadata": {
    "execution": {
     "iopub.execute_input": "2022-06-08T17:39:01.706239Z",
     "iopub.status.busy": "2022-06-08T17:39:01.706239Z",
     "iopub.status.idle": "2022-06-08T17:39:02.843259Z",
     "shell.execute_reply": "2022-06-08T17:39:02.843259Z"
    },
    "tags": []
   },
   "outputs": [],
   "source": [
    "import pandas as pd\n",
    "import matplotlib as mpl\n",
    "import matplotlib.pyplot as plt\n",
    "import numpy as np"
   ]
  },
  {
   "cell_type": "markdown",
   "id": "2a93fa19",
   "metadata": {},
   "source": [
    "## Load Link Stats\n",
    "\n",
    "We compute dataset linking statitsics as `gender-stats.csv` using DataFusion.  Let's load those:"
   ]
  },
  {
   "cell_type": "code",
   "execution_count": 2,
   "id": "74015bd6",
   "metadata": {
    "execution": {
     "iopub.execute_input": "2022-06-08T17:39:02.846274Z",
     "iopub.status.busy": "2022-06-08T17:39:02.846274Z",
     "iopub.status.idle": "2022-06-08T17:39:02.876227Z",
     "shell.execute_reply": "2022-06-08T17:39:02.875227Z"
    },
    "tags": []
   },
   "outputs": [
    {
     "data": {
      "text/html": [
       "<div>\n",
       "<style scoped>\n",
       "    .dataframe tbody tr th:only-of-type {\n",
       "        vertical-align: middle;\n",
       "    }\n",
       "\n",
       "    .dataframe tbody tr th {\n",
       "        vertical-align: top;\n",
       "    }\n",
       "\n",
       "    .dataframe thead th {\n",
       "        text-align: right;\n",
       "    }\n",
       "</style>\n",
       "<table border=\"1\" class=\"dataframe\">\n",
       "  <thead>\n",
       "    <tr style=\"text-align: right;\">\n",
       "      <th></th>\n",
       "      <th>dataset</th>\n",
       "      <th>gender</th>\n",
       "      <th>n_books</th>\n",
       "      <th>n_actions</th>\n",
       "    </tr>\n",
       "  </thead>\n",
       "  <tbody>\n",
       "    <tr>\n",
       "      <th>0</th>\n",
       "      <td>BX-E</td>\n",
       "      <td>male</td>\n",
       "      <td>57698</td>\n",
       "      <td>181903</td>\n",
       "    </tr>\n",
       "    <tr>\n",
       "      <th>1</th>\n",
       "      <td>BX-E</td>\n",
       "      <td>no-author-rec</td>\n",
       "      <td>5287</td>\n",
       "      <td>6687</td>\n",
       "    </tr>\n",
       "    <tr>\n",
       "      <th>2</th>\n",
       "      <td>BX-E</td>\n",
       "      <td>no-book</td>\n",
       "      <td>20075</td>\n",
       "      <td>23084</td>\n",
       "    </tr>\n",
       "    <tr>\n",
       "      <th>3</th>\n",
       "      <td>BX-I</td>\n",
       "      <td>unknown</td>\n",
       "      <td>32412</td>\n",
       "      <td>71413</td>\n",
       "    </tr>\n",
       "    <tr>\n",
       "      <th>4</th>\n",
       "      <td>BX-I</td>\n",
       "      <td>female</td>\n",
       "      <td>69805</td>\n",
       "      <td>399085</td>\n",
       "    </tr>\n",
       "  </tbody>\n",
       "</table>\n",
       "</div>"
      ],
      "text/plain": [
       "  dataset         gender  n_books  n_actions\n",
       "0    BX-E           male    57698     181903\n",
       "1    BX-E  no-author-rec     5287       6687\n",
       "2    BX-E        no-book    20075      23084\n",
       "3    BX-I        unknown    32412      71413\n",
       "4    BX-I         female    69805     399085"
      ]
     },
     "execution_count": 2,
     "metadata": {},
     "output_type": "execute_result"
    }
   ],
   "source": [
    "link_stats = pd.read_csv('book-links/gender-stats.csv')\n",
    "link_stats.head()"
   ]
  },
  {
   "cell_type": "markdown",
   "id": "de995f99",
   "metadata": {},
   "source": [
    "Now let's define variables for our variou codes. We are first going to define our gender codes.  We'll start with the resolved codes:"
   ]
  },
  {
   "cell_type": "code",
   "execution_count": 3,
   "id": "4f3bc9de",
   "metadata": {
    "execution": {
     "iopub.execute_input": "2022-06-08T17:39:02.878258Z",
     "iopub.status.busy": "2022-06-08T17:39:02.878258Z",
     "iopub.status.idle": "2022-06-08T17:39:02.891225Z",
     "shell.execute_reply": "2022-06-08T17:39:02.890226Z"
    },
    "tags": []
   },
   "outputs": [],
   "source": [
    "link_codes = ['female', 'male', 'ambiguous', 'unknown']"
   ]
  },
  {
   "cell_type": "markdown",
   "id": "20a1d2c2",
   "metadata": {},
   "source": [
    "We want the unlink codes in order, so the last is the first link failure:"
   ]
  },
  {
   "cell_type": "code",
   "execution_count": 4,
   "id": "03198b60",
   "metadata": {
    "execution": {
     "iopub.execute_input": "2022-06-08T17:39:02.894260Z",
     "iopub.status.busy": "2022-06-08T17:39:02.894260Z",
     "iopub.status.idle": "2022-06-08T17:39:02.905258Z",
     "shell.execute_reply": "2022-06-08T17:39:02.905258Z"
    },
    "tags": []
   },
   "outputs": [],
   "source": [
    "unlink_codes = ['no-author-rec', 'no-book-author', 'no-book']"
   ]
  },
  {
   "cell_type": "code",
   "execution_count": 5,
   "id": "baa04fb9",
   "metadata": {
    "execution": {
     "iopub.execute_input": "2022-06-08T17:39:02.909256Z",
     "iopub.status.busy": "2022-06-08T17:39:02.908230Z",
     "iopub.status.idle": "2022-06-08T17:39:02.921258Z",
     "shell.execute_reply": "2022-06-08T17:39:02.921258Z"
    },
    "tags": []
   },
   "outputs": [],
   "source": [
    "all_codes = link_codes + unlink_codes"
   ]
  },
  {
   "cell_type": "markdown",
   "id": "8395d8b2",
   "metadata": {},
   "source": [
    "## Processing Statistics\n",
    "\n",
    "Now we'll pivot each of our count columns into a table for easier reference."
   ]
  },
  {
   "cell_type": "code",
   "execution_count": 6,
   "id": "c9254d12",
   "metadata": {
    "execution": {
     "iopub.execute_input": "2022-06-08T17:39:02.924226Z",
     "iopub.status.busy": "2022-06-08T17:39:02.924226Z",
     "iopub.status.idle": "2022-06-08T17:39:02.953257Z",
     "shell.execute_reply": "2022-06-08T17:39:02.953257Z"
    },
    "tags": []
   },
   "outputs": [
    {
     "data": {
      "text/html": [
       "<div>\n",
       "<style scoped>\n",
       "    .dataframe tbody tr th:only-of-type {\n",
       "        vertical-align: middle;\n",
       "    }\n",
       "\n",
       "    .dataframe tbody tr th {\n",
       "        vertical-align: top;\n",
       "    }\n",
       "\n",
       "    .dataframe thead th {\n",
       "        text-align: right;\n",
       "    }\n",
       "</style>\n",
       "<table border=\"1\" class=\"dataframe\">\n",
       "  <thead>\n",
       "    <tr style=\"text-align: right;\">\n",
       "      <th>gender</th>\n",
       "      <th>female</th>\n",
       "      <th>male</th>\n",
       "      <th>ambiguous</th>\n",
       "      <th>unknown</th>\n",
       "      <th>no-author-rec</th>\n",
       "      <th>no-book-author</th>\n",
       "      <th>no-book</th>\n",
       "      <th>total</th>\n",
       "    </tr>\n",
       "    <tr>\n",
       "      <th>dataset</th>\n",
       "      <th></th>\n",
       "      <th></th>\n",
       "      <th></th>\n",
       "      <th></th>\n",
       "      <th></th>\n",
       "      <th></th>\n",
       "      <th></th>\n",
       "      <th></th>\n",
       "    </tr>\n",
       "  </thead>\n",
       "  <tbody>\n",
       "    <tr>\n",
       "      <th>AZ</th>\n",
       "      <td>239445.0</td>\n",
       "      <td>536254.0</td>\n",
       "      <td>22177.0</td>\n",
       "      <td>238663.0</td>\n",
       "      <td>126833.0</td>\n",
       "      <td>113652.0</td>\n",
       "      <td>985503.0</td>\n",
       "      <td>2262527.0</td>\n",
       "    </tr>\n",
       "    <tr>\n",
       "      <th>BX-E</th>\n",
       "      <td>39605.0</td>\n",
       "      <td>57698.0</td>\n",
       "      <td>5156.0</td>\n",
       "      <td>15741.0</td>\n",
       "      <td>5287.0</td>\n",
       "      <td>5613.0</td>\n",
       "      <td>20075.0</td>\n",
       "      <td>149175.0</td>\n",
       "    </tr>\n",
       "    <tr>\n",
       "      <th>BX-I</th>\n",
       "      <td>69805.0</td>\n",
       "      <td>100925.0</td>\n",
       "      <td>8840.0</td>\n",
       "      <td>32412.0</td>\n",
       "      <td>10644.0</td>\n",
       "      <td>11350.0</td>\n",
       "      <td>40633.0</td>\n",
       "      <td>274609.0</td>\n",
       "    </tr>\n",
       "    <tr>\n",
       "      <th>GR-E</th>\n",
       "      <td>215692.0</td>\n",
       "      <td>319920.0</td>\n",
       "      <td>16749.0</td>\n",
       "      <td>102653.0</td>\n",
       "      <td>42803.0</td>\n",
       "      <td>787097.0</td>\n",
       "      <td>NaN</td>\n",
       "      <td>1484914.0</td>\n",
       "    </tr>\n",
       "    <tr>\n",
       "      <th>GR-I</th>\n",
       "      <td>217786.0</td>\n",
       "      <td>323927.0</td>\n",
       "      <td>16921.0</td>\n",
       "      <td>104424.0</td>\n",
       "      <td>43624.0</td>\n",
       "      <td>799783.0</td>\n",
       "      <td>NaN</td>\n",
       "      <td>1506465.0</td>\n",
       "    </tr>\n",
       "    <tr>\n",
       "      <th>LOC-MDS</th>\n",
       "      <td>739026.0</td>\n",
       "      <td>2414466.0</td>\n",
       "      <td>70582.0</td>\n",
       "      <td>1136694.0</td>\n",
       "      <td>264367.0</td>\n",
       "      <td>609387.0</td>\n",
       "      <td>NaN</td>\n",
       "      <td>5234522.0</td>\n",
       "    </tr>\n",
       "  </tbody>\n",
       "</table>\n",
       "</div>"
      ],
      "text/plain": [
       "gender     female       male  ambiguous    unknown  no-author-rec  \\\n",
       "dataset                                                             \n",
       "AZ       239445.0   536254.0    22177.0   238663.0       126833.0   \n",
       "BX-E      39605.0    57698.0     5156.0    15741.0         5287.0   \n",
       "BX-I      69805.0   100925.0     8840.0    32412.0        10644.0   \n",
       "GR-E     215692.0   319920.0    16749.0   102653.0        42803.0   \n",
       "GR-I     217786.0   323927.0    16921.0   104424.0        43624.0   \n",
       "LOC-MDS  739026.0  2414466.0    70582.0  1136694.0       264367.0   \n",
       "\n",
       "gender   no-book-author   no-book      total  \n",
       "dataset                                       \n",
       "AZ             113652.0  985503.0  2262527.0  \n",
       "BX-E             5613.0   20075.0   149175.0  \n",
       "BX-I            11350.0   40633.0   274609.0  \n",
       "GR-E           787097.0       NaN  1484914.0  \n",
       "GR-I           799783.0       NaN  1506465.0  \n",
       "LOC-MDS        609387.0       NaN  5234522.0  "
      ]
     },
     "execution_count": 6,
     "metadata": {},
     "output_type": "execute_result"
    }
   ],
   "source": [
    "book_counts = link_stats.pivot('dataset', 'gender', 'n_books')\n",
    "book_counts = book_counts.reindex(columns=all_codes)\n",
    "book_counts.assign(total=book_counts.sum(axis=1))"
   ]
  },
  {
   "cell_type": "code",
   "execution_count": 7,
   "id": "4157b252",
   "metadata": {
    "execution": {
     "iopub.execute_input": "2022-06-08T17:39:02.955256Z",
     "iopub.status.busy": "2022-06-08T17:39:02.955256Z",
     "iopub.status.idle": "2022-06-08T17:39:02.969257Z",
     "shell.execute_reply": "2022-06-08T17:39:02.969257Z"
    },
    "tags": []
   },
   "outputs": [
    {
     "data": {
      "text/html": [
       "<div>\n",
       "<style scoped>\n",
       "    .dataframe tbody tr th:only-of-type {\n",
       "        vertical-align: middle;\n",
       "    }\n",
       "\n",
       "    .dataframe tbody tr th {\n",
       "        vertical-align: top;\n",
       "    }\n",
       "\n",
       "    .dataframe thead th {\n",
       "        text-align: right;\n",
       "    }\n",
       "</style>\n",
       "<table border=\"1\" class=\"dataframe\">\n",
       "  <thead>\n",
       "    <tr style=\"text-align: right;\">\n",
       "      <th>gender</th>\n",
       "      <th>female</th>\n",
       "      <th>male</th>\n",
       "      <th>ambiguous</th>\n",
       "      <th>unknown</th>\n",
       "      <th>no-author-rec</th>\n",
       "      <th>no-book-author</th>\n",
       "      <th>no-book</th>\n",
       "    </tr>\n",
       "    <tr>\n",
       "      <th>dataset</th>\n",
       "      <th></th>\n",
       "      <th></th>\n",
       "      <th></th>\n",
       "      <th></th>\n",
       "      <th></th>\n",
       "      <th></th>\n",
       "      <th></th>\n",
       "    </tr>\n",
       "  </thead>\n",
       "  <tbody>\n",
       "    <tr>\n",
       "      <th>AZ</th>\n",
       "      <td>4781575.0</td>\n",
       "      <td>6913832.0</td>\n",
       "      <td>800290.0</td>\n",
       "      <td>2087337.0</td>\n",
       "      <td>780486.0</td>\n",
       "      <td>1278813.0</td>\n",
       "      <td>5798466.0</td>\n",
       "    </tr>\n",
       "    <tr>\n",
       "      <th>BX-E</th>\n",
       "      <td>141587.0</td>\n",
       "      <td>181903.0</td>\n",
       "      <td>41084.0</td>\n",
       "      <td>25250.0</td>\n",
       "      <td>6687.0</td>\n",
       "      <td>7614.0</td>\n",
       "      <td>23084.0</td>\n",
       "    </tr>\n",
       "    <tr>\n",
       "      <th>BX-I</th>\n",
       "      <td>399085.0</td>\n",
       "      <td>461986.0</td>\n",
       "      <td>102783.0</td>\n",
       "      <td>71413.0</td>\n",
       "      <td>17280.0</td>\n",
       "      <td>20420.0</td>\n",
       "      <td>56245.0</td>\n",
       "    </tr>\n",
       "    <tr>\n",
       "      <th>GR-E</th>\n",
       "      <td>36563996.0</td>\n",
       "      <td>33398520.0</td>\n",
       "      <td>12630193.0</td>\n",
       "      <td>3590506.0</td>\n",
       "      <td>741494.0</td>\n",
       "      <td>12294989.0</td>\n",
       "      <td>NaN</td>\n",
       "    </tr>\n",
       "    <tr>\n",
       "      <th>GR-I</th>\n",
       "      <td>82916368.0</td>\n",
       "      <td>69999126.0</td>\n",
       "      <td>20850719.0</td>\n",
       "      <td>10084875.0</td>\n",
       "      <td>2416945.0</td>\n",
       "      <td>33273918.0</td>\n",
       "      <td>NaN</td>\n",
       "    </tr>\n",
       "  </tbody>\n",
       "</table>\n",
       "</div>"
      ],
      "text/plain": [
       "gender       female        male   ambiguous     unknown  no-author-rec  \\\n",
       "dataset                                                                  \n",
       "AZ        4781575.0   6913832.0    800290.0   2087337.0       780486.0   \n",
       "BX-E       141587.0    181903.0     41084.0     25250.0         6687.0   \n",
       "BX-I       399085.0    461986.0    102783.0     71413.0        17280.0   \n",
       "GR-E     36563996.0  33398520.0  12630193.0   3590506.0       741494.0   \n",
       "GR-I     82916368.0  69999126.0  20850719.0  10084875.0      2416945.0   \n",
       "\n",
       "gender   no-book-author    no-book  \n",
       "dataset                             \n",
       "AZ            1278813.0  5798466.0  \n",
       "BX-E             7614.0    23084.0  \n",
       "BX-I            20420.0    56245.0  \n",
       "GR-E         12294989.0        NaN  \n",
       "GR-I         33273918.0        NaN  "
      ]
     },
     "execution_count": 7,
     "metadata": {},
     "output_type": "execute_result"
    }
   ],
   "source": [
    "act_counts = link_stats.pivot('dataset', 'gender', 'n_actions')\n",
    "act_counts = act_counts.reindex(columns=all_codes)\n",
    "act_counts.drop(index='LOC-MDS', inplace=True)\n",
    "act_counts"
   ]
  },
  {
   "cell_type": "markdown",
   "id": "520e8f77",
   "metadata": {},
   "source": [
    "We're going to want to compute versions of this table as fractions, e.g. the fraction of books that are written by women.  We will use the following helper function:"
   ]
  },
  {
   "cell_type": "code",
   "execution_count": 8,
   "id": "87bdd777",
   "metadata": {
    "execution": {
     "iopub.execute_input": "2022-06-08T17:39:02.972227Z",
     "iopub.status.busy": "2022-06-08T17:39:02.972227Z",
     "iopub.status.idle": "2022-06-08T17:39:02.985246Z",
     "shell.execute_reply": "2022-06-08T17:39:02.984256Z"
    }
   },
   "outputs": [],
   "source": [
    "def fractionalize(data, columns, unlinked=None):\n",
    "    fracs = data[columns]\n",
    "    fracs.columns = fracs.columns.astype('str')\n",
    "    if unlinked:\n",
    "        fracs = fracs.assign(unlinked=data[unlinked].sum(axis=1))\n",
    "    totals = fracs.sum(axis=1)\n",
    "    return fracs.divide(totals, axis=0)"
   ]
  },
  {
   "cell_type": "markdown",
   "id": "1e4e1a82",
   "metadata": {},
   "source": [
    "And a helper function for plotting bar charts:"
   ]
  },
  {
   "cell_type": "code",
   "execution_count": 9,
   "id": "c0f7bd79",
   "metadata": {
    "execution": {
     "iopub.execute_input": "2022-06-08T17:39:02.988245Z",
     "iopub.status.busy": "2022-06-08T17:39:02.988245Z",
     "iopub.status.idle": "2022-06-08T17:39:03.001235Z",
     "shell.execute_reply": "2022-06-08T17:39:03.000227Z"
    }
   },
   "outputs": [],
   "source": [
    "def plot_bars(fracs, ax=None, cmap=mpl.cm.Dark2):\n",
    "    if ax is None:\n",
    "        ax = plt.gca()\n",
    "    size = 0.5\n",
    "    ind = np.arange(len(fracs))\n",
    "    start = pd.Series(0, index=fracs.index)\n",
    "    for i, col in enumerate(fracs.columns):\n",
    "        vals = fracs.iloc[:, i]\n",
    "        rects = ax.barh(ind, vals, size, left=start, label=col, color=cmap(i))\n",
    "        for j, rec in enumerate(rects):\n",
    "            if vals.iloc[j] < 0.1 or np.isnan(vals.iloc[j]): continue\n",
    "            y = rec.get_y() + rec.get_height() / 2\n",
    "            x = start.iloc[j] + vals.iloc[j] / 2\n",
    "            ax.annotate('{:.1f}%'.format(vals.iloc[j] * 100),\n",
    "                        xy=(x,y), ha='center', va='center', color='white',\n",
    "                        fontweight='bold')\n",
    "        start += vals.fillna(0)\n",
    "    ax.set_xlabel('Fraction of Books')\n",
    "    ax.set_ylabel('Data Set')\n",
    "    ax.set_yticks(ind)\n",
    "    ax.set_yticklabels(fracs.index)\n",
    "    ax.legend(loc='center left', bbox_to_anchor=(1, 0.5))"
   ]
  },
  {
   "cell_type": "markdown",
   "id": "712c164a",
   "metadata": {},
   "source": [
    "## Resolution of Books\n",
    "\n",
    "What fraction of *unique books* are resolved from each source?"
   ]
  },
  {
   "cell_type": "code",
   "execution_count": 10,
   "id": "0a929480",
   "metadata": {
    "execution": {
     "iopub.execute_input": "2022-06-08T17:39:03.006228Z",
     "iopub.status.busy": "2022-06-08T17:39:03.006228Z",
     "iopub.status.idle": "2022-06-08T17:39:03.031225Z",
     "shell.execute_reply": "2022-06-08T17:39:03.030256Z"
    }
   },
   "outputs": [
    {
     "data": {
      "text/html": [
       "<div>\n",
       "<style scoped>\n",
       "    .dataframe tbody tr th:only-of-type {\n",
       "        vertical-align: middle;\n",
       "    }\n",
       "\n",
       "    .dataframe tbody tr th {\n",
       "        vertical-align: top;\n",
       "    }\n",
       "\n",
       "    .dataframe thead th {\n",
       "        text-align: right;\n",
       "    }\n",
       "</style>\n",
       "<table border=\"1\" class=\"dataframe\">\n",
       "  <thead>\n",
       "    <tr style=\"text-align: right;\">\n",
       "      <th>gender</th>\n",
       "      <th>female</th>\n",
       "      <th>male</th>\n",
       "      <th>ambiguous</th>\n",
       "      <th>unknown</th>\n",
       "      <th>no-author-rec</th>\n",
       "      <th>no-book-author</th>\n",
       "      <th>no-book</th>\n",
       "    </tr>\n",
       "    <tr>\n",
       "      <th>dataset</th>\n",
       "      <th></th>\n",
       "      <th></th>\n",
       "      <th></th>\n",
       "      <th></th>\n",
       "      <th></th>\n",
       "      <th></th>\n",
       "      <th></th>\n",
       "    </tr>\n",
       "  </thead>\n",
       "  <tbody>\n",
       "    <tr>\n",
       "      <th>AZ</th>\n",
       "      <td>0.105831</td>\n",
       "      <td>0.237016</td>\n",
       "      <td>0.009802</td>\n",
       "      <td>0.105485</td>\n",
       "      <td>0.056058</td>\n",
       "      <td>0.050232</td>\n",
       "      <td>0.435576</td>\n",
       "    </tr>\n",
       "    <tr>\n",
       "      <th>BX-E</th>\n",
       "      <td>0.265494</td>\n",
       "      <td>0.386781</td>\n",
       "      <td>0.034563</td>\n",
       "      <td>0.105520</td>\n",
       "      <td>0.035442</td>\n",
       "      <td>0.037627</td>\n",
       "      <td>0.134573</td>\n",
       "    </tr>\n",
       "    <tr>\n",
       "      <th>BX-I</th>\n",
       "      <td>0.254198</td>\n",
       "      <td>0.367523</td>\n",
       "      <td>0.032191</td>\n",
       "      <td>0.118030</td>\n",
       "      <td>0.038761</td>\n",
       "      <td>0.041331</td>\n",
       "      <td>0.147967</td>\n",
       "    </tr>\n",
       "    <tr>\n",
       "      <th>GR-E</th>\n",
       "      <td>0.145256</td>\n",
       "      <td>0.215447</td>\n",
       "      <td>0.011279</td>\n",
       "      <td>0.069131</td>\n",
       "      <td>0.028825</td>\n",
       "      <td>0.530062</td>\n",
       "      <td>NaN</td>\n",
       "    </tr>\n",
       "    <tr>\n",
       "      <th>GR-I</th>\n",
       "      <td>0.144568</td>\n",
       "      <td>0.215025</td>\n",
       "      <td>0.011232</td>\n",
       "      <td>0.069317</td>\n",
       "      <td>0.028958</td>\n",
       "      <td>0.530900</td>\n",
       "      <td>NaN</td>\n",
       "    </tr>\n",
       "    <tr>\n",
       "      <th>LOC-MDS</th>\n",
       "      <td>0.141183</td>\n",
       "      <td>0.461258</td>\n",
       "      <td>0.013484</td>\n",
       "      <td>0.217153</td>\n",
       "      <td>0.050505</td>\n",
       "      <td>0.116417</td>\n",
       "      <td>NaN</td>\n",
       "    </tr>\n",
       "  </tbody>\n",
       "</table>\n",
       "</div>"
      ],
      "text/plain": [
       "gender     female      male  ambiguous   unknown  no-author-rec  \\\n",
       "dataset                                                           \n",
       "AZ       0.105831  0.237016   0.009802  0.105485       0.056058   \n",
       "BX-E     0.265494  0.386781   0.034563  0.105520       0.035442   \n",
       "BX-I     0.254198  0.367523   0.032191  0.118030       0.038761   \n",
       "GR-E     0.145256  0.215447   0.011279  0.069131       0.028825   \n",
       "GR-I     0.144568  0.215025   0.011232  0.069317       0.028958   \n",
       "LOC-MDS  0.141183  0.461258   0.013484  0.217153       0.050505   \n",
       "\n",
       "gender   no-book-author   no-book  \n",
       "dataset                            \n",
       "AZ             0.050232  0.435576  \n",
       "BX-E           0.037627  0.134573  \n",
       "BX-I           0.041331  0.147967  \n",
       "GR-E           0.530062       NaN  \n",
       "GR-I           0.530900       NaN  \n",
       "LOC-MDS        0.116417       NaN  "
      ]
     },
     "execution_count": 10,
     "metadata": {},
     "output_type": "execute_result"
    }
   ],
   "source": [
    "fractionalize(book_counts, link_codes + unlink_codes)"
   ]
  },
  {
   "cell_type": "code",
   "execution_count": 11,
   "id": "157d8b09",
   "metadata": {
    "execution": {
     "iopub.execute_input": "2022-06-08T17:39:03.035229Z",
     "iopub.status.busy": "2022-06-08T17:39:03.035229Z",
     "iopub.status.idle": "2022-06-08T17:39:03.331829Z",
     "shell.execute_reply": "2022-06-08T17:39:03.331829Z"
    }
   },
   "outputs": [
    {
     "data": {
      "image/png": "[encoded data removed]",
      "text/plain": [
       "<Figure size 432x288 with 1 Axes>"
      ]
     },
     "metadata": {
      "needs_background": "light"
     },
     "output_type": "display_data"
    }
   ],
   "source": [
    "plot_bars(fractionalize(book_counts, link_codes + unlink_codes))"
   ]
  },
  {
   "cell_type": "code",
   "execution_count": 12,
   "id": "d154f4bc",
   "metadata": {
    "execution": {
     "iopub.execute_input": "2022-06-08T17:39:03.334800Z",
     "iopub.status.busy": "2022-06-08T17:39:03.334800Z",
     "iopub.status.idle": "2022-06-08T17:39:03.347829Z",
     "shell.execute_reply": "2022-06-08T17:39:03.347829Z"
    }
   },
   "outputs": [
    {
     "data": {
      "text/html": [
       "<div>\n",
       "<style scoped>\n",
       "    .dataframe tbody tr th:only-of-type {\n",
       "        vertical-align: middle;\n",
       "    }\n",
       "\n",
       "    .dataframe tbody tr th {\n",
       "        vertical-align: top;\n",
       "    }\n",
       "\n",
       "    .dataframe thead th {\n",
       "        text-align: right;\n",
       "    }\n",
       "</style>\n",
       "<table border=\"1\" class=\"dataframe\">\n",
       "  <thead>\n",
       "    <tr style=\"text-align: right;\">\n",
       "      <th>gender</th>\n",
       "      <th>female</th>\n",
       "      <th>male</th>\n",
       "      <th>ambiguous</th>\n",
       "      <th>unknown</th>\n",
       "      <th>unlinked</th>\n",
       "    </tr>\n",
       "    <tr>\n",
       "      <th>dataset</th>\n",
       "      <th></th>\n",
       "      <th></th>\n",
       "      <th></th>\n",
       "      <th></th>\n",
       "      <th></th>\n",
       "    </tr>\n",
       "  </thead>\n",
       "  <tbody>\n",
       "    <tr>\n",
       "      <th>AZ</th>\n",
       "      <td>0.105831</td>\n",
       "      <td>0.237016</td>\n",
       "      <td>0.009802</td>\n",
       "      <td>0.105485</td>\n",
       "      <td>0.541867</td>\n",
       "    </tr>\n",
       "    <tr>\n",
       "      <th>BX-E</th>\n",
       "      <td>0.265494</td>\n",
       "      <td>0.386781</td>\n",
       "      <td>0.034563</td>\n",
       "      <td>0.105520</td>\n",
       "      <td>0.207642</td>\n",
       "    </tr>\n",
       "    <tr>\n",
       "      <th>BX-I</th>\n",
       "      <td>0.254198</td>\n",
       "      <td>0.367523</td>\n",
       "      <td>0.032191</td>\n",
       "      <td>0.118030</td>\n",
       "      <td>0.228059</td>\n",
       "    </tr>\n",
       "    <tr>\n",
       "      <th>GR-E</th>\n",
       "      <td>0.145256</td>\n",
       "      <td>0.215447</td>\n",
       "      <td>0.011279</td>\n",
       "      <td>0.069131</td>\n",
       "      <td>0.558888</td>\n",
       "    </tr>\n",
       "    <tr>\n",
       "      <th>GR-I</th>\n",
       "      <td>0.144568</td>\n",
       "      <td>0.215025</td>\n",
       "      <td>0.011232</td>\n",
       "      <td>0.069317</td>\n",
       "      <td>0.559858</td>\n",
       "    </tr>\n",
       "    <tr>\n",
       "      <th>LOC-MDS</th>\n",
       "      <td>0.141183</td>\n",
       "      <td>0.461258</td>\n",
       "      <td>0.013484</td>\n",
       "      <td>0.217153</td>\n",
       "      <td>0.166921</td>\n",
       "    </tr>\n",
       "  </tbody>\n",
       "</table>\n",
       "</div>"
      ],
      "text/plain": [
       "gender     female      male  ambiguous   unknown  unlinked\n",
       "dataset                                                   \n",
       "AZ       0.105831  0.237016   0.009802  0.105485  0.541867\n",
       "BX-E     0.265494  0.386781   0.034563  0.105520  0.207642\n",
       "BX-I     0.254198  0.367523   0.032191  0.118030  0.228059\n",
       "GR-E     0.145256  0.215447   0.011279  0.069131  0.558888\n",
       "GR-I     0.144568  0.215025   0.011232  0.069317  0.559858\n",
       "LOC-MDS  0.141183  0.461258   0.013484  0.217153  0.166921"
      ]
     },
     "execution_count": 12,
     "metadata": {},
     "output_type": "execute_result"
    }
   ],
   "source": [
    "fractionalize(book_counts, link_codes, unlink_codes)"
   ]
  },
  {
   "cell_type": "code",
   "execution_count": 13,
   "id": "bf3c84c4",
   "metadata": {
    "execution": {
     "iopub.execute_input": "2022-06-08T17:39:03.350832Z",
     "iopub.status.busy": "2022-06-08T17:39:03.350832Z",
     "iopub.status.idle": "2022-06-08T17:39:03.538830Z",
     "shell.execute_reply": "2022-06-08T17:39:03.538830Z"
    }
   },
   "outputs": [
    {
     "data": {
      "image/png": "[encoded data removed]",
      "text/plain": [
       "<Figure size 432x288 with 1 Axes>"
      ]
     },
     "metadata": {
      "needs_background": "light"
     },
     "output_type": "display_data"
    }
   ],
   "source": [
    "plot_bars(fractionalize(book_counts, link_codes, unlink_codes))"
   ]
  },
  {
   "cell_type": "code",
   "execution_count": 14,
   "id": "276b2103",
   "metadata": {
    "execution": {
     "iopub.execute_input": "2022-06-08T17:39:03.541846Z",
     "iopub.status.busy": "2022-06-08T17:39:03.541846Z",
     "iopub.status.idle": "2022-06-08T17:39:03.683085Z",
     "shell.execute_reply": "2022-06-08T17:39:03.682544Z"
    }
   },
   "outputs": [
    {
     "data": {
      "image/png": "[encoded data removed]",
      "text/plain": [
       "<Figure size 432x288 with 1 Axes>"
      ]
     },
     "metadata": {
      "needs_background": "light"
     },
     "output_type": "display_data"
    }
   ],
   "source": [
    "plot_bars(fractionalize(book_counts, ['female', 'male']))"
   ]
  },
  {
   "cell_type": "markdown",
   "id": "5a3bdee2",
   "metadata": {},
   "source": [
    "## Resolution of Ratings\n",
    "\n",
    "What fraction of *rating actions* have each resolution result?"
   ]
  },
  {
   "cell_type": "code",
   "execution_count": 15,
   "id": "416a139c",
   "metadata": {
    "execution": {
     "iopub.execute_input": "2022-06-08T17:39:03.685633Z",
     "iopub.status.busy": "2022-06-08T17:39:03.685633Z",
     "iopub.status.idle": "2022-06-08T17:39:03.697662Z",
     "shell.execute_reply": "2022-06-08T17:39:03.697662Z"
    }
   },
   "outputs": [
    {
     "data": {
      "text/html": [
       "<div>\n",
       "<style scoped>\n",
       "    .dataframe tbody tr th:only-of-type {\n",
       "        vertical-align: middle;\n",
       "    }\n",
       "\n",
       "    .dataframe tbody tr th {\n",
       "        vertical-align: top;\n",
       "    }\n",
       "\n",
       "    .dataframe thead th {\n",
       "        text-align: right;\n",
       "    }\n",
       "</style>\n",
       "<table border=\"1\" class=\"dataframe\">\n",
       "  <thead>\n",
       "    <tr style=\"text-align: right;\">\n",
       "      <th>gender</th>\n",
       "      <th>female</th>\n",
       "      <th>male</th>\n",
       "      <th>ambiguous</th>\n",
       "      <th>unknown</th>\n",
       "      <th>no-author-rec</th>\n",
       "      <th>no-book-author</th>\n",
       "      <th>no-book</th>\n",
       "    </tr>\n",
       "    <tr>\n",
       "      <th>dataset</th>\n",
       "      <th></th>\n",
       "      <th></th>\n",
       "      <th></th>\n",
       "      <th></th>\n",
       "      <th></th>\n",
       "      <th></th>\n",
       "      <th></th>\n",
       "    </tr>\n",
       "  </thead>\n",
       "  <tbody>\n",
       "    <tr>\n",
       "      <th>AZ</th>\n",
       "      <td>0.213075</td>\n",
       "      <td>0.308092</td>\n",
       "      <td>0.035662</td>\n",
       "      <td>0.093015</td>\n",
       "      <td>0.034780</td>\n",
       "      <td>0.056986</td>\n",
       "      <td>0.258389</td>\n",
       "    </tr>\n",
       "    <tr>\n",
       "      <th>BX-E</th>\n",
       "      <td>0.331423</td>\n",
       "      <td>0.425794</td>\n",
       "      <td>0.096168</td>\n",
       "      <td>0.059105</td>\n",
       "      <td>0.015653</td>\n",
       "      <td>0.017823</td>\n",
       "      <td>0.054034</td>\n",
       "    </tr>\n",
       "    <tr>\n",
       "      <th>BX-I</th>\n",
       "      <td>0.353419</td>\n",
       "      <td>0.409122</td>\n",
       "      <td>0.091022</td>\n",
       "      <td>0.063241</td>\n",
       "      <td>0.015303</td>\n",
       "      <td>0.018083</td>\n",
       "      <td>0.049809</td>\n",
       "    </tr>\n",
       "    <tr>\n",
       "      <th>GR-E</th>\n",
       "      <td>0.368515</td>\n",
       "      <td>0.336612</td>\n",
       "      <td>0.127295</td>\n",
       "      <td>0.036187</td>\n",
       "      <td>0.007473</td>\n",
       "      <td>0.123917</td>\n",
       "      <td>NaN</td>\n",
       "    </tr>\n",
       "    <tr>\n",
       "      <th>GR-I</th>\n",
       "      <td>0.377679</td>\n",
       "      <td>0.318842</td>\n",
       "      <td>0.094974</td>\n",
       "      <td>0.045936</td>\n",
       "      <td>0.011009</td>\n",
       "      <td>0.151561</td>\n",
       "      <td>NaN</td>\n",
       "    </tr>\n",
       "  </tbody>\n",
       "</table>\n",
       "</div>"
      ],
      "text/plain": [
       "gender     female      male  ambiguous   unknown  no-author-rec  \\\n",
       "dataset                                                           \n",
       "AZ       0.213075  0.308092   0.035662  0.093015       0.034780   \n",
       "BX-E     0.331423  0.425794   0.096168  0.059105       0.015653   \n",
       "BX-I     0.353419  0.409122   0.091022  0.063241       0.015303   \n",
       "GR-E     0.368515  0.336612   0.127295  0.036187       0.007473   \n",
       "GR-I     0.377679  0.318842   0.094974  0.045936       0.011009   \n",
       "\n",
       "gender   no-book-author   no-book  \n",
       "dataset                            \n",
       "AZ             0.056986  0.258389  \n",
       "BX-E           0.017823  0.054034  \n",
       "BX-I           0.018083  0.049809  \n",
       "GR-E           0.123917       NaN  \n",
       "GR-I           0.151561       NaN  "
      ]
     },
     "execution_count": 15,
     "metadata": {},
     "output_type": "execute_result"
    }
   ],
   "source": [
    "fractionalize(act_counts, link_codes + unlink_codes)"
   ]
  },
  {
   "cell_type": "code",
   "execution_count": 16,
   "id": "8c08ddfb",
   "metadata": {
    "execution": {
     "iopub.execute_input": "2022-06-08T17:39:03.700667Z",
     "iopub.status.busy": "2022-06-08T17:39:03.700667Z",
     "iopub.status.idle": "2022-06-08T17:39:03.890641Z",
     "shell.execute_reply": "2022-06-08T17:39:03.889662Z"
    }
   },
   "outputs": [
    {
     "data": {
      "image/png": "[encoded data removed]",
      "text/plain": [
       "<Figure size 432x288 with 1 Axes>"
      ]
     },
     "metadata": {
      "needs_background": "light"
     },
     "output_type": "display_data"
    }
   ],
   "source": [
    "plot_bars(fractionalize(act_counts, link_codes + unlink_codes))"
   ]
  },
  {
   "cell_type": "code",
   "execution_count": 17,
   "id": "7e29e902",
   "metadata": {
    "execution": {
     "iopub.execute_input": "2022-06-08T17:39:03.893631Z",
     "iopub.status.busy": "2022-06-08T17:39:03.893631Z",
     "iopub.status.idle": "2022-06-08T17:39:03.922646Z",
     "shell.execute_reply": "2022-06-08T17:39:03.921660Z"
    }
   },
   "outputs": [
    {
     "data": {
      "text/html": [
       "<div>\n",
       "<style scoped>\n",
       "    .dataframe tbody tr th:only-of-type {\n",
       "        vertical-align: middle;\n",
       "    }\n",
       "\n",
       "    .dataframe tbody tr th {\n",
       "        vertical-align: top;\n",
       "    }\n",
       "\n",
       "    .dataframe thead th {\n",
       "        text-align: right;\n",
       "    }\n",
       "</style>\n",
       "<table border=\"1\" class=\"dataframe\">\n",
       "  <thead>\n",
       "    <tr style=\"text-align: right;\">\n",
       "      <th>gender</th>\n",
       "      <th>female</th>\n",
       "      <th>male</th>\n",
       "      <th>ambiguous</th>\n",
       "      <th>unknown</th>\n",
       "      <th>unlinked</th>\n",
       "    </tr>\n",
       "    <tr>\n",
       "      <th>dataset</th>\n",
       "      <th></th>\n",
       "      <th></th>\n",
       "      <th></th>\n",
       "      <th></th>\n",
       "      <th></th>\n",
       "    </tr>\n",
       "  </thead>\n",
       "  <tbody>\n",
       "    <tr>\n",
       "      <th>AZ</th>\n",
       "      <td>0.213075</td>\n",
       "      <td>0.308092</td>\n",
       "      <td>0.035662</td>\n",
       "      <td>0.093015</td>\n",
       "      <td>0.350155</td>\n",
       "    </tr>\n",
       "    <tr>\n",
       "      <th>BX-E</th>\n",
       "      <td>0.331423</td>\n",
       "      <td>0.425794</td>\n",
       "      <td>0.096168</td>\n",
       "      <td>0.059105</td>\n",
       "      <td>0.087510</td>\n",
       "    </tr>\n",
       "    <tr>\n",
       "      <th>BX-I</th>\n",
       "      <td>0.353419</td>\n",
       "      <td>0.409122</td>\n",
       "      <td>0.091022</td>\n",
       "      <td>0.063241</td>\n",
       "      <td>0.083195</td>\n",
       "    </tr>\n",
       "    <tr>\n",
       "      <th>GR-E</th>\n",
       "      <td>0.368515</td>\n",
       "      <td>0.336612</td>\n",
       "      <td>0.127295</td>\n",
       "      <td>0.036187</td>\n",
       "      <td>0.131390</td>\n",
       "    </tr>\n",
       "    <tr>\n",
       "      <th>GR-I</th>\n",
       "      <td>0.377679</td>\n",
       "      <td>0.318842</td>\n",
       "      <td>0.094974</td>\n",
       "      <td>0.045936</td>\n",
       "      <td>0.162570</td>\n",
       "    </tr>\n",
       "  </tbody>\n",
       "</table>\n",
       "</div>"
      ],
      "text/plain": [
       "gender     female      male  ambiguous   unknown  unlinked\n",
       "dataset                                                   \n",
       "AZ       0.213075  0.308092   0.035662  0.093015  0.350155\n",
       "BX-E     0.331423  0.425794   0.096168  0.059105  0.087510\n",
       "BX-I     0.353419  0.409122   0.091022  0.063241  0.083195\n",
       "GR-E     0.368515  0.336612   0.127295  0.036187  0.131390\n",
       "GR-I     0.377679  0.318842   0.094974  0.045936  0.162570"
      ]
     },
     "execution_count": 17,
     "metadata": {},
     "output_type": "execute_result"
    }
   ],
   "source": [
    "fractionalize(act_counts, link_codes, unlink_codes)"
   ]
  },
  {
   "cell_type": "code",
   "execution_count": 18,
   "id": "52eb905b",
   "metadata": {
    "execution": {
     "iopub.execute_input": "2022-06-08T17:39:03.926633Z",
     "iopub.status.busy": "2022-06-08T17:39:03.926633Z",
     "iopub.status.idle": "2022-06-08T17:39:04.130733Z",
     "shell.execute_reply": "2022-06-08T17:39:04.129755Z"
    }
   },
   "outputs": [
    {
     "data": {
      "image/png": "[encoded data removed]",
      "text/plain": [
       "<Figure size 432x288 with 1 Axes>"
      ]
     },
     "metadata": {
      "needs_background": "light"
     },
     "output_type": "display_data"
    }
   ],
   "source": [
    "plot_bars(fractionalize(act_counts, link_codes, unlink_codes))"
   ]
  },
  {
   "cell_type": "code",
   "execution_count": 19,
   "id": "bed057d2",
   "metadata": {
    "execution": {
     "iopub.execute_input": "2022-06-08T17:39:04.133715Z",
     "iopub.status.busy": "2022-06-08T17:39:04.133715Z",
     "iopub.status.idle": "2022-06-08T17:39:04.257718Z",
     "shell.execute_reply": "2022-06-08T17:39:04.256750Z"
    }
   },
   "outputs": [
    {
     "data": {
      "image/png": "[encoded data removed]",
      "text/plain": [
       "<Figure size 432x288 with 1 Axes>"
      ]
     },
     "metadata": {
      "needs_background": "light"
     },
     "output_type": "display_data"
    }
   ],
   "source": [
    "plot_bars(fractionalize(act_counts, ['female', 'male']))"
   ]
  },
  {
   "cell_type": "markdown",
   "id": "864956ca",
   "metadata": {},
   "source": [
    "## Metrics\n",
    "\n",
    "Finally, we're going to write coverage metrics."
   ]
  },
  {
   "cell_type": "code",
   "execution_count": 20,
   "id": "58c9ef93",
   "metadata": {
    "execution": {
     "iopub.execute_input": "2022-06-08T17:39:04.260746Z",
     "iopub.status.busy": "2022-06-08T17:39:04.260746Z",
     "iopub.status.idle": "2022-06-08T17:39:04.271751Z",
     "shell.execute_reply": "2022-06-08T17:39:04.271751Z"
    }
   },
   "outputs": [
    {
     "data": {
      "text/plain": [
       "dataset\n",
       "AZ         0.352648\n",
       "BX-E       0.686838\n",
       "BX-I       0.653912\n",
       "GR-E       0.371982\n",
       "GR-I       0.370824\n",
       "LOC-MDS    0.615925\n",
       "dtype: float64"
      ]
     },
     "execution_count": 20,
     "metadata": {},
     "output_type": "execute_result"
    }
   ],
   "source": [
    "book_tots = book_counts.sum(axis=1)\n",
    "book_link = book_counts['male'] + book_counts['female'] + book_counts['ambiguous']\n",
    "book_cover = book_link / book_tots\n",
    "book_cover"
   ]
  },
  {
   "cell_type": "code",
   "execution_count": 21,
   "id": "3b9512a1",
   "metadata": {
    "execution": {
     "iopub.execute_input": "2022-06-08T17:39:04.274717Z",
     "iopub.status.busy": "2022-06-08T17:39:04.274717Z",
     "iopub.status.idle": "2022-06-08T17:39:04.287747Z",
     "shell.execute_reply": "2022-06-08T17:39:04.287747Z"
    }
   },
   "outputs": [],
   "source": [
    "book_cover.to_json('book-coverage.json')"
   ]
  },
  {
   "cell_type": "code",
   "execution_count": null,
   "id": "d842c6b0",
   "metadata": {},
   "outputs": [],
   "source": []
  }
 ],
 "metadata": {
  "jupytext": {
   "formats": "ipynb,py:percent"
  },
  "kernelspec": {
   "display_name": "Python 3 (ipykernel)",
   "language": "python",
   "name": "python3"
  },
  "language_info": {
   "codemirror_mode": {
    "name": "ipython",
    "version": 3
   },
   "file_extension": ".py",
   "mimetype": "text/x-python",
   "name": "python",
   "nbconvert_exporter": "python",
   "pygments_lexer": "ipython3",
   "version": "3.8.12"
  }
 },
 "nbformat": 4,
 "nbformat_minor": 5
}
