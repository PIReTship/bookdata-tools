{
 "cells": [
  {
   "cell_type": "markdown",
   "id": "7f98b85d",
   "metadata": {},
   "source": [
    "# Book Data Linkage Statistics\n",
    "\n",
    "This notebook presents statistics of the book data integration."
   ]
  },
  {
   "cell_type": "markdown",
   "id": "950f49fe",
   "metadata": {},
   "source": [
    "## Setup"
   ]
  },
  {
   "cell_type": "code",
   "execution_count": 1,
   "id": "c386cc33",
   "metadata": {
    "execution": {
     "iopub.execute_input": "2022-06-07T23:12:02.378368Z",
     "iopub.status.busy": "2022-06-07T23:12:02.377399Z",
     "iopub.status.idle": "2022-06-07T23:12:03.902081Z",
     "shell.execute_reply": "2022-06-07T23:12:03.901027Z"
    },
    "tags": []
   },
   "outputs": [],
   "source": [
    "import pandas as pd\n",
    "import matplotlib as mpl\n",
    "import matplotlib.pyplot as plt\n",
    "import numpy as np"
   ]
  },
  {
   "cell_type": "markdown",
   "id": "e006654a",
   "metadata": {},
   "source": [
    "## Load Link Stats\n",
    "\n",
    "We compute dataset linking statitsics as `gender-stats.csv` using DataFusion.  Let's load those:"
   ]
  },
  {
   "cell_type": "code",
   "execution_count": 2,
   "id": "7cbbbb32",
   "metadata": {
    "execution": {
     "iopub.execute_input": "2022-06-07T23:12:03.905027Z",
     "iopub.status.busy": "2022-06-07T23:12:03.905027Z",
     "iopub.status.idle": "2022-06-07T23:12:03.933330Z",
     "shell.execute_reply": "2022-06-07T23:12:03.932437Z"
    },
    "tags": []
   },
   "outputs": [
    {
     "data": {
      "text/html": [
       "<div>\n",
       "<style scoped>\n",
       "    .dataframe tbody tr th:only-of-type {\n",
       "        vertical-align: middle;\n",
       "    }\n",
       "\n",
       "    .dataframe tbody tr th {\n",
       "        vertical-align: top;\n",
       "    }\n",
       "\n",
       "    .dataframe thead th {\n",
       "        text-align: right;\n",
       "    }\n",
       "</style>\n",
       "<table border=\"1\" class=\"dataframe\">\n",
       "  <thead>\n",
       "    <tr style=\"text-align: right;\">\n",
       "      <th></th>\n",
       "      <th>dataset</th>\n",
       "      <th>gender</th>\n",
       "      <th>n_books</th>\n",
       "      <th>n_actions</th>\n",
       "    </tr>\n",
       "  </thead>\n",
       "  <tbody>\n",
       "    <tr>\n",
       "      <th>0</th>\n",
       "      <td>BX-E</td>\n",
       "      <td>no-author-rec</td>\n",
       "      <td>7609</td>\n",
       "      <td>10788</td>\n",
       "    </tr>\n",
       "    <tr>\n",
       "      <th>1</th>\n",
       "      <td>BX-I</td>\n",
       "      <td>no-author-rec</td>\n",
       "      <td>15129</td>\n",
       "      <td>28680</td>\n",
       "    </tr>\n",
       "    <tr>\n",
       "      <th>2</th>\n",
       "      <td>BX-E</td>\n",
       "      <td>no-book</td>\n",
       "      <td>20075</td>\n",
       "      <td>23084</td>\n",
       "    </tr>\n",
       "    <tr>\n",
       "      <th>3</th>\n",
       "      <td>BX-I</td>\n",
       "      <td>no-book</td>\n",
       "      <td>40633</td>\n",
       "      <td>56245</td>\n",
       "    </tr>\n",
       "    <tr>\n",
       "      <th>4</th>\n",
       "      <td>BX-E</td>\n",
       "      <td>male</td>\n",
       "      <td>56420</td>\n",
       "      <td>179708</td>\n",
       "    </tr>\n",
       "  </tbody>\n",
       "</table>\n",
       "</div>"
      ],
      "text/plain": [
       "  dataset         gender  n_books  n_actions\n",
       "0    BX-E  no-author-rec     7609      10788\n",
       "1    BX-I  no-author-rec    15129      28680\n",
       "2    BX-E        no-book    20075      23084\n",
       "3    BX-I        no-book    40633      56245\n",
       "4    BX-E           male    56420     179708"
      ]
     },
     "execution_count": 2,
     "metadata": {},
     "output_type": "execute_result"
    }
   ],
   "source": [
    "link_stats = pd.read_csv('book-links/gender-stats.csv')\n",
    "link_stats.head()"
   ]
  },
  {
   "cell_type": "markdown",
   "id": "c0dcff8b",
   "metadata": {},
   "source": [
    "Now let's define variables for our variou codes. We are first going to define our gender codes.  We'll start with the resolved codes:"
   ]
  },
  {
   "cell_type": "code",
   "execution_count": 3,
   "id": "63f05ec8",
   "metadata": {
    "execution": {
     "iopub.execute_input": "2022-06-07T23:12:03.936299Z",
     "iopub.status.busy": "2022-06-07T23:12:03.936299Z",
     "iopub.status.idle": "2022-06-07T23:12:03.949201Z",
     "shell.execute_reply": "2022-06-07T23:12:03.948206Z"
    },
    "tags": []
   },
   "outputs": [],
   "source": [
    "link_codes = ['female', 'male', 'ambiguous', 'unknown']"
   ]
  },
  {
   "cell_type": "markdown",
   "id": "a2ac961e",
   "metadata": {},
   "source": [
    "We want the unlink codes in order, so the last is the first link failure:"
   ]
  },
  {
   "cell_type": "code",
   "execution_count": 4,
   "id": "e86405eb",
   "metadata": {
    "execution": {
     "iopub.execute_input": "2022-06-07T23:12:03.951226Z",
     "iopub.status.busy": "2022-06-07T23:12:03.951226Z",
     "iopub.status.idle": "2022-06-07T23:12:03.964498Z",
     "shell.execute_reply": "2022-06-07T23:12:03.963492Z"
    },
    "tags": []
   },
   "outputs": [],
   "source": [
    "unlink_codes = ['no-author-rec', 'no-book-author', 'no-book']"
   ]
  },
  {
   "cell_type": "code",
   "execution_count": 5,
   "id": "8962fc09",
   "metadata": {
    "execution": {
     "iopub.execute_input": "2022-06-07T23:12:03.966529Z",
     "iopub.status.busy": "2022-06-07T23:12:03.966529Z",
     "iopub.status.idle": "2022-06-07T23:12:03.979223Z",
     "shell.execute_reply": "2022-06-07T23:12:03.979223Z"
    },
    "tags": []
   },
   "outputs": [],
   "source": [
    "all_codes = link_codes + unlink_codes"
   ]
  },
  {
   "cell_type": "markdown",
   "id": "d7583f85",
   "metadata": {},
   "source": [
    "## Processing Statistics\n",
    "\n",
    "Now we'll pivot each of our count columns into a table for easier reference."
   ]
  },
  {
   "cell_type": "code",
   "execution_count": 6,
   "id": "2bc4b622",
   "metadata": {
    "execution": {
     "iopub.execute_input": "2022-06-07T23:12:03.982230Z",
     "iopub.status.busy": "2022-06-07T23:12:03.982230Z",
     "iopub.status.idle": "2022-06-07T23:12:04.011478Z",
     "shell.execute_reply": "2022-06-07T23:12:04.010470Z"
    },
    "tags": []
   },
   "outputs": [
    {
     "data": {
      "text/html": [
       "<div>\n",
       "<style scoped>\n",
       "    .dataframe tbody tr th:only-of-type {\n",
       "        vertical-align: middle;\n",
       "    }\n",
       "\n",
       "    .dataframe tbody tr th {\n",
       "        vertical-align: top;\n",
       "    }\n",
       "\n",
       "    .dataframe thead th {\n",
       "        text-align: right;\n",
       "    }\n",
       "</style>\n",
       "<table border=\"1\" class=\"dataframe\">\n",
       "  <thead>\n",
       "    <tr style=\"text-align: right;\">\n",
       "      <th>gender</th>\n",
       "      <th>female</th>\n",
       "      <th>male</th>\n",
       "      <th>ambiguous</th>\n",
       "      <th>unknown</th>\n",
       "      <th>no-author-rec</th>\n",
       "      <th>no-book-author</th>\n",
       "      <th>no-book</th>\n",
       "      <th>total</th>\n",
       "    </tr>\n",
       "    <tr>\n",
       "      <th>dataset</th>\n",
       "      <th></th>\n",
       "      <th></th>\n",
       "      <th></th>\n",
       "      <th></th>\n",
       "      <th></th>\n",
       "      <th></th>\n",
       "      <th></th>\n",
       "      <th></th>\n",
       "    </tr>\n",
       "  </thead>\n",
       "  <tbody>\n",
       "    <tr>\n",
       "      <th>AZ</th>\n",
       "      <td>236288.0</td>\n",
       "      <td>516914.0</td>\n",
       "      <td>21208.0</td>\n",
       "      <td>228337.0</td>\n",
       "      <td>160625.0</td>\n",
       "      <td>113652.0</td>\n",
       "      <td>985503.0</td>\n",
       "      <td>2262527.0</td>\n",
       "    </tr>\n",
       "    <tr>\n",
       "      <th>BX-E</th>\n",
       "      <td>39314.0</td>\n",
       "      <td>56420.0</td>\n",
       "      <td>5000.0</td>\n",
       "      <td>15144.0</td>\n",
       "      <td>7609.0</td>\n",
       "      <td>5613.0</td>\n",
       "      <td>20075.0</td>\n",
       "      <td>149175.0</td>\n",
       "    </tr>\n",
       "    <tr>\n",
       "      <th>BX-I</th>\n",
       "      <td>69258.0</td>\n",
       "      <td>98474.0</td>\n",
       "      <td>8575.0</td>\n",
       "      <td>31190.0</td>\n",
       "      <td>15129.0</td>\n",
       "      <td>11350.0</td>\n",
       "      <td>40633.0</td>\n",
       "      <td>274609.0</td>\n",
       "    </tr>\n",
       "    <tr>\n",
       "      <th>GR-E</th>\n",
       "      <td>212727.0</td>\n",
       "      <td>310493.0</td>\n",
       "      <td>15950.0</td>\n",
       "      <td>98431.0</td>\n",
       "      <td>60216.0</td>\n",
       "      <td>787097.0</td>\n",
       "      <td>NaN</td>\n",
       "      <td>1484914.0</td>\n",
       "    </tr>\n",
       "    <tr>\n",
       "      <th>GR-I</th>\n",
       "      <td>214784.0</td>\n",
       "      <td>314347.0</td>\n",
       "      <td>16119.0</td>\n",
       "      <td>100127.0</td>\n",
       "      <td>61305.0</td>\n",
       "      <td>799783.0</td>\n",
       "      <td>NaN</td>\n",
       "      <td>1506465.0</td>\n",
       "    </tr>\n",
       "    <tr>\n",
       "      <th>LOC-MDS</th>\n",
       "      <td>720587.0</td>\n",
       "      <td>2287800.0</td>\n",
       "      <td>67956.0</td>\n",
       "      <td>1028150.0</td>\n",
       "      <td>520642.0</td>\n",
       "      <td>609387.0</td>\n",
       "      <td>NaN</td>\n",
       "      <td>5234522.0</td>\n",
       "    </tr>\n",
       "  </tbody>\n",
       "</table>\n",
       "</div>"
      ],
      "text/plain": [
       "gender     female       male  ambiguous    unknown  no-author-rec  \\\n",
       "dataset                                                             \n",
       "AZ       236288.0   516914.0    21208.0   228337.0       160625.0   \n",
       "BX-E      39314.0    56420.0     5000.0    15144.0         7609.0   \n",
       "BX-I      69258.0    98474.0     8575.0    31190.0        15129.0   \n",
       "GR-E     212727.0   310493.0    15950.0    98431.0        60216.0   \n",
       "GR-I     214784.0   314347.0    16119.0   100127.0        61305.0   \n",
       "LOC-MDS  720587.0  2287800.0    67956.0  1028150.0       520642.0   \n",
       "\n",
       "gender   no-book-author   no-book      total  \n",
       "dataset                                       \n",
       "AZ             113652.0  985503.0  2262527.0  \n",
       "BX-E             5613.0   20075.0   149175.0  \n",
       "BX-I            11350.0   40633.0   274609.0  \n",
       "GR-E           787097.0       NaN  1484914.0  \n",
       "GR-I           799783.0       NaN  1506465.0  \n",
       "LOC-MDS        609387.0       NaN  5234522.0  "
      ]
     },
     "execution_count": 6,
     "metadata": {},
     "output_type": "execute_result"
    }
   ],
   "source": [
    "book_counts = link_stats.pivot('dataset', 'gender', 'n_books')\n",
    "book_counts = book_counts.reindex(columns=all_codes)\n",
    "book_counts.assign(total=book_counts.sum(axis=1))"
   ]
  },
  {
   "cell_type": "code",
   "execution_count": 7,
   "id": "7f745a29",
   "metadata": {
    "execution": {
     "iopub.execute_input": "2022-06-07T23:12:04.013507Z",
     "iopub.status.busy": "2022-06-07T23:12:04.013507Z",
     "iopub.status.idle": "2022-06-07T23:12:04.027501Z",
     "shell.execute_reply": "2022-06-07T23:12:04.026600Z"
    },
    "tags": []
   },
   "outputs": [
    {
     "data": {
      "text/html": [
       "<div>\n",
       "<style scoped>\n",
       "    .dataframe tbody tr th:only-of-type {\n",
       "        vertical-align: middle;\n",
       "    }\n",
       "\n",
       "    .dataframe tbody tr th {\n",
       "        vertical-align: top;\n",
       "    }\n",
       "\n",
       "    .dataframe thead th {\n",
       "        text-align: right;\n",
       "    }\n",
       "</style>\n",
       "<table border=\"1\" class=\"dataframe\">\n",
       "  <thead>\n",
       "    <tr style=\"text-align: right;\">\n",
       "      <th>gender</th>\n",
       "      <th>female</th>\n",
       "      <th>male</th>\n",
       "      <th>ambiguous</th>\n",
       "      <th>unknown</th>\n",
       "      <th>no-author-rec</th>\n",
       "      <th>no-book-author</th>\n",
       "      <th>no-book</th>\n",
       "    </tr>\n",
       "    <tr>\n",
       "      <th>dataset</th>\n",
       "      <th></th>\n",
       "      <th></th>\n",
       "      <th></th>\n",
       "      <th></th>\n",
       "      <th></th>\n",
       "      <th></th>\n",
       "      <th></th>\n",
       "    </tr>\n",
       "  </thead>\n",
       "  <tbody>\n",
       "    <tr>\n",
       "      <th>AZ</th>\n",
       "      <td>4711169.0</td>\n",
       "      <td>6716541.0</td>\n",
       "      <td>756295.0</td>\n",
       "      <td>2008102.0</td>\n",
       "      <td>1171413.0</td>\n",
       "      <td>1278813.0</td>\n",
       "      <td>5798466.0</td>\n",
       "    </tr>\n",
       "    <tr>\n",
       "      <th>BX-E</th>\n",
       "      <td>141413.0</td>\n",
       "      <td>179708.0</td>\n",
       "      <td>40135.0</td>\n",
       "      <td>24467.0</td>\n",
       "      <td>10788.0</td>\n",
       "      <td>7614.0</td>\n",
       "      <td>23084.0</td>\n",
       "    </tr>\n",
       "    <tr>\n",
       "      <th>BX-I</th>\n",
       "      <td>398462.0</td>\n",
       "      <td>456126.0</td>\n",
       "      <td>100145.0</td>\n",
       "      <td>69134.0</td>\n",
       "      <td>28680.0</td>\n",
       "      <td>20420.0</td>\n",
       "      <td>56245.0</td>\n",
       "    </tr>\n",
       "    <tr>\n",
       "      <th>GR-E</th>\n",
       "      <td>36305140.0</td>\n",
       "      <td>33066403.0</td>\n",
       "      <td>12125257.0</td>\n",
       "      <td>3480996.0</td>\n",
       "      <td>1946913.0</td>\n",
       "      <td>12294989.0</td>\n",
       "      <td>NaN</td>\n",
       "    </tr>\n",
       "    <tr>\n",
       "      <th>GR-I</th>\n",
       "      <td>81974767.0</td>\n",
       "      <td>69098273.0</td>\n",
       "      <td>19895366.0</td>\n",
       "      <td>9688190.0</td>\n",
       "      <td>5611437.0</td>\n",
       "      <td>33273918.0</td>\n",
       "      <td>NaN</td>\n",
       "    </tr>\n",
       "  </tbody>\n",
       "</table>\n",
       "</div>"
      ],
      "text/plain": [
       "gender       female        male   ambiguous    unknown  no-author-rec  \\\n",
       "dataset                                                                 \n",
       "AZ        4711169.0   6716541.0    756295.0  2008102.0      1171413.0   \n",
       "BX-E       141413.0    179708.0     40135.0    24467.0        10788.0   \n",
       "BX-I       398462.0    456126.0    100145.0    69134.0        28680.0   \n",
       "GR-E     36305140.0  33066403.0  12125257.0  3480996.0      1946913.0   \n",
       "GR-I     81974767.0  69098273.0  19895366.0  9688190.0      5611437.0   \n",
       "\n",
       "gender   no-book-author    no-book  \n",
       "dataset                             \n",
       "AZ            1278813.0  5798466.0  \n",
       "BX-E             7614.0    23084.0  \n",
       "BX-I            20420.0    56245.0  \n",
       "GR-E         12294989.0        NaN  \n",
       "GR-I         33273918.0        NaN  "
      ]
     },
     "execution_count": 7,
     "metadata": {},
     "output_type": "execute_result"
    }
   ],
   "source": [
    "act_counts = link_stats.pivot('dataset', 'gender', 'n_actions')\n",
    "act_counts = act_counts.reindex(columns=all_codes)\n",
    "act_counts.drop(index='LOC-MDS', inplace=True)\n",
    "act_counts"
   ]
  },
  {
   "cell_type": "markdown",
   "id": "6807c415",
   "metadata": {},
   "source": [
    "We're going to want to compute versions of this table as fractions, e.g. the fraction of books that are written by women.  We will use the following helper function:"
   ]
  },
  {
   "cell_type": "code",
   "execution_count": 8,
   "id": "d0b3d709",
   "metadata": {
    "execution": {
     "iopub.execute_input": "2022-06-07T23:12:04.029509Z",
     "iopub.status.busy": "2022-06-07T23:12:04.029509Z",
     "iopub.status.idle": "2022-06-07T23:12:04.042458Z",
     "shell.execute_reply": "2022-06-07T23:12:04.041940Z"
    }
   },
   "outputs": [],
   "source": [
    "def fractionalize(data, columns, unlinked=None):\n",
    "    fracs = data[columns]\n",
    "    fracs.columns = fracs.columns.astype('str')\n",
    "    if unlinked:\n",
    "        fracs = fracs.assign(unlinked=data[unlinked].sum(axis=1))\n",
    "    totals = fracs.sum(axis=1)\n",
    "    return fracs.divide(totals, axis=0)"
   ]
  },
  {
   "cell_type": "markdown",
   "id": "f8ba2a74",
   "metadata": {},
   "source": [
    "And a helper function for plotting bar charts:"
   ]
  },
  {
   "cell_type": "code",
   "execution_count": 9,
   "id": "bade1efd",
   "metadata": {
    "execution": {
     "iopub.execute_input": "2022-06-07T23:12:04.045487Z",
     "iopub.status.busy": "2022-06-07T23:12:04.044456Z",
     "iopub.status.idle": "2022-06-07T23:12:04.058457Z",
     "shell.execute_reply": "2022-06-07T23:12:04.057774Z"
    }
   },
   "outputs": [],
   "source": [
    "def plot_bars(fracs, ax=None, cmap=mpl.cm.Dark2):\n",
    "    if ax is None:\n",
    "        ax = plt.gca()\n",
    "    size = 0.5\n",
    "    ind = np.arange(len(fracs))\n",
    "    start = pd.Series(0, index=fracs.index)\n",
    "    for i, col in enumerate(fracs.columns):\n",
    "        vals = fracs.iloc[:, i]\n",
    "        rects = ax.barh(ind, vals, size, left=start, label=col, color=cmap(i))\n",
    "        for j, rec in enumerate(rects):\n",
    "            if vals.iloc[j] < 0.1 or np.isnan(vals.iloc[j]): continue\n",
    "            y = rec.get_y() + rec.get_height() / 2\n",
    "            x = start.iloc[j] + vals.iloc[j] / 2\n",
    "            ax.annotate('{:.1f}%'.format(vals.iloc[j] * 100),\n",
    "                        xy=(x,y), ha='center', va='center', color='white',\n",
    "                        fontweight='bold')\n",
    "        start += vals.fillna(0)\n",
    "    ax.set_xlabel('Fraction of Books')\n",
    "    ax.set_ylabel('Data Set')\n",
    "    ax.set_yticks(ind)\n",
    "    ax.set_yticklabels(fracs.index)\n",
    "    ax.legend(loc='center left', bbox_to_anchor=(1, 0.5))"
   ]
  },
  {
   "cell_type": "markdown",
   "id": "74635103",
   "metadata": {},
   "source": [
    "## Resolution of Books\n",
    "\n",
    "What fraction of *unique books* are resolved from each source?"
   ]
  },
  {
   "cell_type": "code",
   "execution_count": 10,
   "id": "f68fd7cb",
   "metadata": {
    "execution": {
     "iopub.execute_input": "2022-06-07T23:12:04.060456Z",
     "iopub.status.busy": "2022-06-07T23:12:04.060456Z",
     "iopub.status.idle": "2022-06-07T23:12:04.074458Z",
     "shell.execute_reply": "2022-06-07T23:12:04.073779Z"
    }
   },
   "outputs": [
    {
     "data": {
      "text/html": [
       "<div>\n",
       "<style scoped>\n",
       "    .dataframe tbody tr th:only-of-type {\n",
       "        vertical-align: middle;\n",
       "    }\n",
       "\n",
       "    .dataframe tbody tr th {\n",
       "        vertical-align: top;\n",
       "    }\n",
       "\n",
       "    .dataframe thead th {\n",
       "        text-align: right;\n",
       "    }\n",
       "</style>\n",
       "<table border=\"1\" class=\"dataframe\">\n",
       "  <thead>\n",
       "    <tr style=\"text-align: right;\">\n",
       "      <th>gender</th>\n",
       "      <th>female</th>\n",
       "      <th>male</th>\n",
       "      <th>ambiguous</th>\n",
       "      <th>unknown</th>\n",
       "      <th>no-author-rec</th>\n",
       "      <th>no-book-author</th>\n",
       "      <th>no-book</th>\n",
       "    </tr>\n",
       "    <tr>\n",
       "      <th>dataset</th>\n",
       "      <th></th>\n",
       "      <th></th>\n",
       "      <th></th>\n",
       "      <th></th>\n",
       "      <th></th>\n",
       "      <th></th>\n",
       "      <th></th>\n",
       "    </tr>\n",
       "  </thead>\n",
       "  <tbody>\n",
       "    <tr>\n",
       "      <th>AZ</th>\n",
       "      <td>0.104435</td>\n",
       "      <td>0.228468</td>\n",
       "      <td>0.009374</td>\n",
       "      <td>0.100921</td>\n",
       "      <td>0.070994</td>\n",
       "      <td>0.050232</td>\n",
       "      <td>0.435576</td>\n",
       "    </tr>\n",
       "    <tr>\n",
       "      <th>BX-E</th>\n",
       "      <td>0.263543</td>\n",
       "      <td>0.378214</td>\n",
       "      <td>0.033518</td>\n",
       "      <td>0.101518</td>\n",
       "      <td>0.051007</td>\n",
       "      <td>0.037627</td>\n",
       "      <td>0.134573</td>\n",
       "    </tr>\n",
       "    <tr>\n",
       "      <th>BX-I</th>\n",
       "      <td>0.252206</td>\n",
       "      <td>0.358597</td>\n",
       "      <td>0.031226</td>\n",
       "      <td>0.113580</td>\n",
       "      <td>0.055093</td>\n",
       "      <td>0.041331</td>\n",
       "      <td>0.147967</td>\n",
       "    </tr>\n",
       "    <tr>\n",
       "      <th>GR-E</th>\n",
       "      <td>0.143259</td>\n",
       "      <td>0.209098</td>\n",
       "      <td>0.010741</td>\n",
       "      <td>0.066287</td>\n",
       "      <td>0.040552</td>\n",
       "      <td>0.530062</td>\n",
       "      <td>NaN</td>\n",
       "    </tr>\n",
       "    <tr>\n",
       "      <th>GR-I</th>\n",
       "      <td>0.142575</td>\n",
       "      <td>0.208665</td>\n",
       "      <td>0.010700</td>\n",
       "      <td>0.066465</td>\n",
       "      <td>0.040695</td>\n",
       "      <td>0.530900</td>\n",
       "      <td>NaN</td>\n",
       "    </tr>\n",
       "    <tr>\n",
       "      <th>LOC-MDS</th>\n",
       "      <td>0.137661</td>\n",
       "      <td>0.437060</td>\n",
       "      <td>0.012982</td>\n",
       "      <td>0.196417</td>\n",
       "      <td>0.099463</td>\n",
       "      <td>0.116417</td>\n",
       "      <td>NaN</td>\n",
       "    </tr>\n",
       "  </tbody>\n",
       "</table>\n",
       "</div>"
      ],
      "text/plain": [
       "gender     female      male  ambiguous   unknown  no-author-rec  \\\n",
       "dataset                                                           \n",
       "AZ       0.104435  0.228468   0.009374  0.100921       0.070994   \n",
       "BX-E     0.263543  0.378214   0.033518  0.101518       0.051007   \n",
       "BX-I     0.252206  0.358597   0.031226  0.113580       0.055093   \n",
       "GR-E     0.143259  0.209098   0.010741  0.066287       0.040552   \n",
       "GR-I     0.142575  0.208665   0.010700  0.066465       0.040695   \n",
       "LOC-MDS  0.137661  0.437060   0.012982  0.196417       0.099463   \n",
       "\n",
       "gender   no-book-author   no-book  \n",
       "dataset                            \n",
       "AZ             0.050232  0.435576  \n",
       "BX-E           0.037627  0.134573  \n",
       "BX-I           0.041331  0.147967  \n",
       "GR-E           0.530062       NaN  \n",
       "GR-I           0.530900       NaN  \n",
       "LOC-MDS        0.116417       NaN  "
      ]
     },
     "execution_count": 10,
     "metadata": {},
     "output_type": "execute_result"
    }
   ],
   "source": [
    "fractionalize(book_counts, link_codes + unlink_codes)"
   ]
  },
  {
   "cell_type": "code",
   "execution_count": 11,
   "id": "bb2a9591",
   "metadata": {
    "execution": {
     "iopub.execute_input": "2022-06-07T23:12:04.076457Z",
     "iopub.status.busy": "2022-06-07T23:12:04.076457Z",
     "iopub.status.idle": "2022-06-07T23:12:04.390459Z",
     "shell.execute_reply": "2022-06-07T23:12:04.389530Z"
    }
   },
   "outputs": [
    {
     "data": {
      "image/png": "[encoded data removed]",
      "text/plain": [
       "<Figure size 432x288 with 1 Axes>"
      ]
     },
     "metadata": {
      "needs_background": "light"
     },
     "output_type": "display_data"
    }
   ],
   "source": [
    "plot_bars(fractionalize(book_counts, link_codes + unlink_codes))"
   ]
  },
  {
   "cell_type": "code",
   "execution_count": 12,
   "id": "5ab60428",
   "metadata": {
    "execution": {
     "iopub.execute_input": "2022-06-07T23:12:04.392456Z",
     "iopub.status.busy": "2022-06-07T23:12:04.392456Z",
     "iopub.status.idle": "2022-06-07T23:12:04.405531Z",
     "shell.execute_reply": "2022-06-07T23:12:04.405531Z"
    }
   },
   "outputs": [
    {
     "data": {
      "text/html": [
       "<div>\n",
       "<style scoped>\n",
       "    .dataframe tbody tr th:only-of-type {\n",
       "        vertical-align: middle;\n",
       "    }\n",
       "\n",
       "    .dataframe tbody tr th {\n",
       "        vertical-align: top;\n",
       "    }\n",
       "\n",
       "    .dataframe thead th {\n",
       "        text-align: right;\n",
       "    }\n",
       "</style>\n",
       "<table border=\"1\" class=\"dataframe\">\n",
       "  <thead>\n",
       "    <tr style=\"text-align: right;\">\n",
       "      <th>gender</th>\n",
       "      <th>female</th>\n",
       "      <th>male</th>\n",
       "      <th>ambiguous</th>\n",
       "      <th>unknown</th>\n",
       "      <th>unlinked</th>\n",
       "    </tr>\n",
       "    <tr>\n",
       "      <th>dataset</th>\n",
       "      <th></th>\n",
       "      <th></th>\n",
       "      <th></th>\n",
       "      <th></th>\n",
       "      <th></th>\n",
       "    </tr>\n",
       "  </thead>\n",
       "  <tbody>\n",
       "    <tr>\n",
       "      <th>AZ</th>\n",
       "      <td>0.104435</td>\n",
       "      <td>0.228468</td>\n",
       "      <td>0.009374</td>\n",
       "      <td>0.100921</td>\n",
       "      <td>0.556802</td>\n",
       "    </tr>\n",
       "    <tr>\n",
       "      <th>BX-E</th>\n",
       "      <td>0.263543</td>\n",
       "      <td>0.378214</td>\n",
       "      <td>0.033518</td>\n",
       "      <td>0.101518</td>\n",
       "      <td>0.223208</td>\n",
       "    </tr>\n",
       "    <tr>\n",
       "      <th>BX-I</th>\n",
       "      <td>0.252206</td>\n",
       "      <td>0.358597</td>\n",
       "      <td>0.031226</td>\n",
       "      <td>0.113580</td>\n",
       "      <td>0.244391</td>\n",
       "    </tr>\n",
       "    <tr>\n",
       "      <th>GR-E</th>\n",
       "      <td>0.143259</td>\n",
       "      <td>0.209098</td>\n",
       "      <td>0.010741</td>\n",
       "      <td>0.066287</td>\n",
       "      <td>0.570614</td>\n",
       "    </tr>\n",
       "    <tr>\n",
       "      <th>GR-I</th>\n",
       "      <td>0.142575</td>\n",
       "      <td>0.208665</td>\n",
       "      <td>0.010700</td>\n",
       "      <td>0.066465</td>\n",
       "      <td>0.571595</td>\n",
       "    </tr>\n",
       "    <tr>\n",
       "      <th>LOC-MDS</th>\n",
       "      <td>0.137661</td>\n",
       "      <td>0.437060</td>\n",
       "      <td>0.012982</td>\n",
       "      <td>0.196417</td>\n",
       "      <td>0.215880</td>\n",
       "    </tr>\n",
       "  </tbody>\n",
       "</table>\n",
       "</div>"
      ],
      "text/plain": [
       "gender     female      male  ambiguous   unknown  unlinked\n",
       "dataset                                                   \n",
       "AZ       0.104435  0.228468   0.009374  0.100921  0.556802\n",
       "BX-E     0.263543  0.378214   0.033518  0.101518  0.223208\n",
       "BX-I     0.252206  0.358597   0.031226  0.113580  0.244391\n",
       "GR-E     0.143259  0.209098   0.010741  0.066287  0.570614\n",
       "GR-I     0.142575  0.208665   0.010700  0.066465  0.571595\n",
       "LOC-MDS  0.137661  0.437060   0.012982  0.196417  0.215880"
      ]
     },
     "execution_count": 12,
     "metadata": {},
     "output_type": "execute_result"
    }
   ],
   "source": [
    "fractionalize(book_counts, link_codes, unlink_codes)"
   ]
  },
  {
   "cell_type": "code",
   "execution_count": 13,
   "id": "3b21d605",
   "metadata": {
    "execution": {
     "iopub.execute_input": "2022-06-07T23:12:04.408510Z",
     "iopub.status.busy": "2022-06-07T23:12:04.407455Z",
     "iopub.status.idle": "2022-06-07T23:12:04.597586Z",
     "shell.execute_reply": "2022-06-07T23:12:04.597586Z"
    }
   },
   "outputs": [
    {
     "data": {
      "image/png": "[encoded data removed]",
      "text/plain": [
       "<Figure size 432x288 with 1 Axes>"
      ]
     },
     "metadata": {
      "needs_background": "light"
     },
     "output_type": "display_data"
    }
   ],
   "source": [
    "plot_bars(fractionalize(book_counts, link_codes, unlink_codes))"
   ]
  },
  {
   "cell_type": "code",
   "execution_count": 14,
   "id": "f7581942",
   "metadata": {
    "execution": {
     "iopub.execute_input": "2022-06-07T23:12:04.601563Z",
     "iopub.status.busy": "2022-06-07T23:12:04.600529Z",
     "iopub.status.idle": "2022-06-07T23:12:04.739529Z",
     "shell.execute_reply": "2022-06-07T23:12:04.738687Z"
    }
   },
   "outputs": [
    {
     "data": {
      "image/png": "[encoded data removed]",
      "text/plain": [
       "<Figure size 432x288 with 1 Axes>"
      ]
     },
     "metadata": {
      "needs_background": "light"
     },
     "output_type": "display_data"
    }
   ],
   "source": [
    "plot_bars(fractionalize(book_counts, ['female', 'male']))"
   ]
  },
  {
   "cell_type": "markdown",
   "id": "1a37b30d",
   "metadata": {},
   "source": [
    "## Resolution of Ratings\n",
    "\n",
    "What fraction of *rating actions* have each resolution result?"
   ]
  },
  {
   "cell_type": "code",
   "execution_count": 15,
   "id": "352c1c02",
   "metadata": {
    "execution": {
     "iopub.execute_input": "2022-06-07T23:12:04.741529Z",
     "iopub.status.busy": "2022-06-07T23:12:04.741529Z",
     "iopub.status.idle": "2022-06-07T23:12:04.754539Z",
     "shell.execute_reply": "2022-06-07T23:12:04.753638Z"
    }
   },
   "outputs": [
    {
     "data": {
      "text/html": [
       "<div>\n",
       "<style scoped>\n",
       "    .dataframe tbody tr th:only-of-type {\n",
       "        vertical-align: middle;\n",
       "    }\n",
       "\n",
       "    .dataframe tbody tr th {\n",
       "        vertical-align: top;\n",
       "    }\n",
       "\n",
       "    .dataframe thead th {\n",
       "        text-align: right;\n",
       "    }\n",
       "</style>\n",
       "<table border=\"1\" class=\"dataframe\">\n",
       "  <thead>\n",
       "    <tr style=\"text-align: right;\">\n",
       "      <th>gender</th>\n",
       "      <th>female</th>\n",
       "      <th>male</th>\n",
       "      <th>ambiguous</th>\n",
       "      <th>unknown</th>\n",
       "      <th>no-author-rec</th>\n",
       "      <th>no-book-author</th>\n",
       "      <th>no-book</th>\n",
       "    </tr>\n",
       "    <tr>\n",
       "      <th>dataset</th>\n",
       "      <th></th>\n",
       "      <th></th>\n",
       "      <th></th>\n",
       "      <th></th>\n",
       "      <th></th>\n",
       "      <th></th>\n",
       "      <th></th>\n",
       "    </tr>\n",
       "  </thead>\n",
       "  <tbody>\n",
       "    <tr>\n",
       "      <th>AZ</th>\n",
       "      <td>0.209938</td>\n",
       "      <td>0.299300</td>\n",
       "      <td>0.033702</td>\n",
       "      <td>0.089484</td>\n",
       "      <td>0.052200</td>\n",
       "      <td>0.056986</td>\n",
       "      <td>0.258389</td>\n",
       "    </tr>\n",
       "    <tr>\n",
       "      <th>BX-E</th>\n",
       "      <td>0.331016</td>\n",
       "      <td>0.420656</td>\n",
       "      <td>0.093947</td>\n",
       "      <td>0.057272</td>\n",
       "      <td>0.025252</td>\n",
       "      <td>0.017823</td>\n",
       "      <td>0.054034</td>\n",
       "    </tr>\n",
       "    <tr>\n",
       "      <th>BX-I</th>\n",
       "      <td>0.352867</td>\n",
       "      <td>0.403933</td>\n",
       "      <td>0.088686</td>\n",
       "      <td>0.061223</td>\n",
       "      <td>0.025398</td>\n",
       "      <td>0.018083</td>\n",
       "      <td>0.049809</td>\n",
       "    </tr>\n",
       "    <tr>\n",
       "      <th>GR-E</th>\n",
       "      <td>0.365907</td>\n",
       "      <td>0.333264</td>\n",
       "      <td>0.122206</td>\n",
       "      <td>0.035084</td>\n",
       "      <td>0.019622</td>\n",
       "      <td>0.123917</td>\n",
       "      <td>NaN</td>\n",
       "    </tr>\n",
       "    <tr>\n",
       "      <th>GR-I</th>\n",
       "      <td>0.373390</td>\n",
       "      <td>0.314738</td>\n",
       "      <td>0.090622</td>\n",
       "      <td>0.044129</td>\n",
       "      <td>0.025560</td>\n",
       "      <td>0.151561</td>\n",
       "      <td>NaN</td>\n",
       "    </tr>\n",
       "  </tbody>\n",
       "</table>\n",
       "</div>"
      ],
      "text/plain": [
       "gender     female      male  ambiguous   unknown  no-author-rec  \\\n",
       "dataset                                                           \n",
       "AZ       0.209938  0.299300   0.033702  0.089484       0.052200   \n",
       "BX-E     0.331016  0.420656   0.093947  0.057272       0.025252   \n",
       "BX-I     0.352867  0.403933   0.088686  0.061223       0.025398   \n",
       "GR-E     0.365907  0.333264   0.122206  0.035084       0.019622   \n",
       "GR-I     0.373390  0.314738   0.090622  0.044129       0.025560   \n",
       "\n",
       "gender   no-book-author   no-book  \n",
       "dataset                            \n",
       "AZ             0.056986  0.258389  \n",
       "BX-E           0.017823  0.054034  \n",
       "BX-I           0.018083  0.049809  \n",
       "GR-E           0.123917       NaN  \n",
       "GR-I           0.151561       NaN  "
      ]
     },
     "execution_count": 15,
     "metadata": {},
     "output_type": "execute_result"
    }
   ],
   "source": [
    "fractionalize(act_counts, link_codes + unlink_codes)"
   ]
  },
  {
   "cell_type": "code",
   "execution_count": 16,
   "id": "aab02d11",
   "metadata": {
    "execution": {
     "iopub.execute_input": "2022-06-07T23:12:04.756529Z",
     "iopub.status.busy": "2022-06-07T23:12:04.756529Z",
     "iopub.status.idle": "2022-06-07T23:12:04.977562Z",
     "shell.execute_reply": "2022-06-07T23:12:04.976529Z"
    }
   },
   "outputs": [
    {
     "data": {
      "image/png": "[encoded data removed]",
      "text/plain": [
       "<Figure size 432x288 with 1 Axes>"
      ]
     },
     "metadata": {
      "needs_background": "light"
     },
     "output_type": "display_data"
    }
   ],
   "source": [
    "plot_bars(fractionalize(act_counts, link_codes + unlink_codes))"
   ]
  },
  {
   "cell_type": "code",
   "execution_count": 17,
   "id": "56f960a7",
   "metadata": {
    "execution": {
     "iopub.execute_input": "2022-06-07T23:12:04.981530Z",
     "iopub.status.busy": "2022-06-07T23:12:04.981530Z",
     "iopub.status.idle": "2022-06-07T23:12:05.009570Z",
     "shell.execute_reply": "2022-06-07T23:12:05.008562Z"
    }
   },
   "outputs": [
    {
     "data": {
      "text/html": [
       "<div>\n",
       "<style scoped>\n",
       "    .dataframe tbody tr th:only-of-type {\n",
       "        vertical-align: middle;\n",
       "    }\n",
       "\n",
       "    .dataframe tbody tr th {\n",
       "        vertical-align: top;\n",
       "    }\n",
       "\n",
       "    .dataframe thead th {\n",
       "        text-align: right;\n",
       "    }\n",
       "</style>\n",
       "<table border=\"1\" class=\"dataframe\">\n",
       "  <thead>\n",
       "    <tr style=\"text-align: right;\">\n",
       "      <th>gender</th>\n",
       "      <th>female</th>\n",
       "      <th>male</th>\n",
       "      <th>ambiguous</th>\n",
       "      <th>unknown</th>\n",
       "      <th>unlinked</th>\n",
       "    </tr>\n",
       "    <tr>\n",
       "      <th>dataset</th>\n",
       "      <th></th>\n",
       "      <th></th>\n",
       "      <th></th>\n",
       "      <th></th>\n",
       "      <th></th>\n",
       "    </tr>\n",
       "  </thead>\n",
       "  <tbody>\n",
       "    <tr>\n",
       "      <th>AZ</th>\n",
       "      <td>0.209938</td>\n",
       "      <td>0.299300</td>\n",
       "      <td>0.033702</td>\n",
       "      <td>0.089484</td>\n",
       "      <td>0.367576</td>\n",
       "    </tr>\n",
       "    <tr>\n",
       "      <th>BX-E</th>\n",
       "      <td>0.331016</td>\n",
       "      <td>0.420656</td>\n",
       "      <td>0.093947</td>\n",
       "      <td>0.057272</td>\n",
       "      <td>0.097109</td>\n",
       "    </tr>\n",
       "    <tr>\n",
       "      <th>BX-I</th>\n",
       "      <td>0.352867</td>\n",
       "      <td>0.403933</td>\n",
       "      <td>0.088686</td>\n",
       "      <td>0.061223</td>\n",
       "      <td>0.093291</td>\n",
       "    </tr>\n",
       "    <tr>\n",
       "      <th>GR-E</th>\n",
       "      <td>0.365907</td>\n",
       "      <td>0.333264</td>\n",
       "      <td>0.122206</td>\n",
       "      <td>0.035084</td>\n",
       "      <td>0.143539</td>\n",
       "    </tr>\n",
       "    <tr>\n",
       "      <th>GR-I</th>\n",
       "      <td>0.373390</td>\n",
       "      <td>0.314738</td>\n",
       "      <td>0.090622</td>\n",
       "      <td>0.044129</td>\n",
       "      <td>0.177120</td>\n",
       "    </tr>\n",
       "  </tbody>\n",
       "</table>\n",
       "</div>"
      ],
      "text/plain": [
       "gender     female      male  ambiguous   unknown  unlinked\n",
       "dataset                                                   \n",
       "AZ       0.209938  0.299300   0.033702  0.089484  0.367576\n",
       "BX-E     0.331016  0.420656   0.093947  0.057272  0.097109\n",
       "BX-I     0.352867  0.403933   0.088686  0.061223  0.093291\n",
       "GR-E     0.365907  0.333264   0.122206  0.035084  0.143539\n",
       "GR-I     0.373390  0.314738   0.090622  0.044129  0.177120"
      ]
     },
     "execution_count": 17,
     "metadata": {},
     "output_type": "execute_result"
    }
   ],
   "source": [
    "fractionalize(act_counts, link_codes, unlink_codes)"
   ]
  },
  {
   "cell_type": "code",
   "execution_count": 18,
   "id": "66c38564",
   "metadata": {
    "execution": {
     "iopub.execute_input": "2022-06-07T23:12:05.012530Z",
     "iopub.status.busy": "2022-06-07T23:12:05.012530Z",
     "iopub.status.idle": "2022-06-07T23:12:05.184117Z",
     "shell.execute_reply": "2022-06-07T23:12:05.183110Z"
    }
   },
   "outputs": [
    {
     "data": {
      "image/png": "[encoded data removed]",
      "text/plain": [
       "<Figure size 432x288 with 1 Axes>"
      ]
     },
     "metadata": {
      "needs_background": "light"
     },
     "output_type": "display_data"
    }
   ],
   "source": [
    "plot_bars(fractionalize(act_counts, link_codes, unlink_codes))"
   ]
  },
  {
   "cell_type": "code",
   "execution_count": 19,
   "id": "2112a9a8",
   "metadata": {
    "execution": {
     "iopub.execute_input": "2022-06-07T23:12:05.186095Z",
     "iopub.status.busy": "2022-06-07T23:12:05.186095Z",
     "iopub.status.idle": "2022-06-07T23:12:05.311843Z",
     "shell.execute_reply": "2022-06-07T23:12:05.311168Z"
    }
   },
   "outputs": [
    {
     "data": {
      "image/png": "[encoded data removed]",
      "text/plain": [
       "<Figure size 432x288 with 1 Axes>"
      ]
     },
     "metadata": {
      "needs_background": "light"
     },
     "output_type": "display_data"
    }
   ],
   "source": [
    "plot_bars(fractionalize(act_counts, ['female', 'male']))"
   ]
  },
  {
   "cell_type": "markdown",
   "id": "cfbb6354",
   "metadata": {},
   "source": [
    "## Metrics\n",
    "\n",
    "Finally, we're going to write coverage metrics."
   ]
  },
  {
   "cell_type": "code",
   "execution_count": 20,
   "id": "04ba5134",
   "metadata": {
    "execution": {
     "iopub.execute_input": "2022-06-07T23:12:05.313849Z",
     "iopub.status.busy": "2022-06-07T23:12:05.313849Z",
     "iopub.status.idle": "2022-06-07T23:12:05.326923Z",
     "shell.execute_reply": "2022-06-07T23:12:05.326923Z"
    }
   },
   "outputs": [
    {
     "data": {
      "text/plain": [
       "dataset\n",
       "AZ         0.342277\n",
       "BX-E       0.675274\n",
       "BX-I       0.642029\n",
       "GR-E       0.363098\n",
       "GR-I       0.361940\n",
       "LOC-MDS    0.587703\n",
       "dtype: float64"
      ]
     },
     "execution_count": 20,
     "metadata": {},
     "output_type": "execute_result"
    }
   ],
   "source": [
    "book_tots = book_counts.sum(axis=1)\n",
    "book_link = book_counts['male'] + book_counts['female'] + book_counts['ambiguous']\n",
    "book_cover = book_link / book_tots\n",
    "book_cover"
   ]
  },
  {
   "cell_type": "code",
   "execution_count": 21,
   "id": "7a4d4085",
   "metadata": {
    "execution": {
     "iopub.execute_input": "2022-06-07T23:12:05.329882Z",
     "iopub.status.busy": "2022-06-07T23:12:05.328849Z",
     "iopub.status.idle": "2022-06-07T23:12:05.342923Z",
     "shell.execute_reply": "2022-06-07T23:12:05.342923Z"
    }
   },
   "outputs": [],
   "source": [
    "book_cover.to_json('book-coverage.json')"
   ]
  },
  {
   "cell_type": "code",
   "execution_count": null,
   "id": "d67b2d80",
   "metadata": {},
   "outputs": [],
   "source": []
  }
 ],
 "metadata": {
  "jupytext": {
   "formats": "ipynb,py:percent"
  },
  "kernelspec": {
   "display_name": "Python 3 (ipykernel)",
   "language": "python",
   "name": "python3"
  },
  "language_info": {
   "codemirror_mode": {
    "name": "ipython",
    "version": 3
   },
   "file_extension": ".py",
   "mimetype": "text/x-python",
   "name": "python",
   "nbconvert_exporter": "python",
   "pygments_lexer": "ipython3",
   "version": "3.8.12"
  }
 },
 "nbformat": 4,
 "nbformat_minor": 5
}
