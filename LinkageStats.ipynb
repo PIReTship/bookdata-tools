{
 "cells": [
  {
   "cell_type": "markdown",
   "id": "9be48767",
   "metadata": {},
   "source": [
    "# Book Data Linkage Statistics\n",
    "\n",
    "This notebook presents statistics of the book data integration."
   ]
  },
  {
   "cell_type": "markdown",
   "id": "8baba4d9",
   "metadata": {},
   "source": [
    "## Setup"
   ]
  },
  {
   "cell_type": "code",
   "execution_count": 1,
   "id": "925c735a",
   "metadata": {
    "execution": {
     "iopub.execute_input": "2021-06-08T23:47:34.739753Z",
     "iopub.status.busy": "2021-06-08T23:47:34.738757Z",
     "iopub.status.idle": "2021-06-08T23:47:35.741708Z",
     "shell.execute_reply": "2021-06-08T23:47:35.740668Z"
    }
   },
   "outputs": [],
   "source": [
    "import pandas as pd\n",
    "import seaborn as sns\n",
    "import matplotlib as mpl\n",
    "import matplotlib.pyplot as plt\n",
    "import numpy as np"
   ]
  },
  {
   "cell_type": "markdown",
   "id": "e946c3eb",
   "metadata": {},
   "source": [
    "## Load Link Stats\n",
    "\n",
    "We compute dataset linking statitsics as `gender-stats.csv.gz` using DataFusion.  Let's load those:"
   ]
  },
  {
   "cell_type": "code",
   "execution_count": 2,
   "id": "56c73c16",
   "metadata": {
    "execution": {
     "iopub.execute_input": "2021-06-08T23:47:35.744697Z",
     "iopub.status.busy": "2021-06-08T23:47:35.743666Z",
     "iopub.status.idle": "2021-06-08T23:47:35.755666Z",
     "shell.execute_reply": "2021-06-08T23:47:35.755666Z"
    }
   },
   "outputs": [
    {
     "data": {
      "text/html": [
       "<div>\n",
       "<style scoped>\n",
       "    .dataframe tbody tr th:only-of-type {\n",
       "        vertical-align: middle;\n",
       "    }\n",
       "\n",
       "    .dataframe tbody tr th {\n",
       "        vertical-align: top;\n",
       "    }\n",
       "\n",
       "    .dataframe thead th {\n",
       "        text-align: right;\n",
       "    }\n",
       "</style>\n",
       "<table border=\"1\" class=\"dataframe\">\n",
       "  <thead>\n",
       "    <tr style=\"text-align: right;\">\n",
       "      <th></th>\n",
       "      <th>dataset</th>\n",
       "      <th>gender</th>\n",
       "      <th>n_books</th>\n",
       "      <th>n_actions</th>\n",
       "    </tr>\n",
       "  </thead>\n",
       "  <tbody>\n",
       "    <tr>\n",
       "      <th>0</th>\n",
       "      <td>BX-I</td>\n",
       "      <td>female</td>\n",
       "      <td>38080</td>\n",
       "      <td>138487</td>\n",
       "    </tr>\n",
       "    <tr>\n",
       "      <th>1</th>\n",
       "      <td>BX-I</td>\n",
       "      <td>no-author-rec</td>\n",
       "      <td>6875</td>\n",
       "      <td>8759</td>\n",
       "    </tr>\n",
       "    <tr>\n",
       "      <th>2</th>\n",
       "      <td>BX-I</td>\n",
       "      <td>male</td>\n",
       "      <td>56434</td>\n",
       "      <td>184505</td>\n",
       "    </tr>\n",
       "    <tr>\n",
       "      <th>3</th>\n",
       "      <td>BX-I</td>\n",
       "      <td>unknown</td>\n",
       "      <td>17001</td>\n",
       "      <td>27574</td>\n",
       "    </tr>\n",
       "    <tr>\n",
       "      <th>4</th>\n",
       "      <td>BX-I</td>\n",
       "      <td>no-book-author</td>\n",
       "      <td>28430</td>\n",
       "      <td>34996</td>\n",
       "    </tr>\n",
       "  </tbody>\n",
       "</table>\n",
       "</div>"
      ],
      "text/plain": [
       "  dataset          gender  n_books  n_actions\n",
       "0    BX-I          female    38080     138487\n",
       "1    BX-I   no-author-rec     6875       8759\n",
       "2    BX-I            male    56434     184505\n",
       "3    BX-I         unknown    17001      27574\n",
       "4    BX-I  no-book-author    28430      34996"
      ]
     },
     "execution_count": 1,
     "metadata": {},
     "output_type": "execute_result"
    }
   ],
   "source": [
    "link_stats = pd.read_csv('book-links/gender-stats.csv.gz')\n",
    "link_stats.head()"
   ]
  },
  {
   "cell_type": "markdown",
   "id": "26fb897a",
   "metadata": {},
   "source": [
    "Now let's define variables for our variou codes. We are first going to define our gender codes.  We'll start with the resolved codes:"
   ]
  },
  {
   "cell_type": "code",
   "execution_count": 3,
   "id": "cd2a75a6",
   "metadata": {
    "execution": {
     "iopub.execute_input": "2021-06-08T23:47:35.758696Z",
     "iopub.status.busy": "2021-06-08T23:47:35.758696Z",
     "iopub.status.idle": "2021-06-08T23:47:35.771697Z",
     "shell.execute_reply": "2021-06-08T23:47:35.770676Z"
    }
   },
   "outputs": [],
   "source": [
    "link_codes = ['female', 'male', 'ambiguous', 'unknown']"
   ]
  },
  {
   "cell_type": "markdown",
   "id": "33f2ee57",
   "metadata": {},
   "source": [
    "We want the unlink codes in order, so the last is the first link failure:"
   ]
  },
  {
   "cell_type": "code",
   "execution_count": 4,
   "id": "74e80d1f",
   "metadata": {
    "execution": {
     "iopub.execute_input": "2021-06-08T23:47:35.774697Z",
     "iopub.status.busy": "2021-06-08T23:47:35.773666Z",
     "iopub.status.idle": "2021-06-08T23:47:35.787669Z",
     "shell.execute_reply": "2021-06-08T23:47:35.787669Z"
    }
   },
   "outputs": [],
   "source": [
    "unlink_codes = ['no-author-rec', 'no-book-author', 'no-book']"
   ]
  },
  {
   "cell_type": "code",
   "execution_count": 5,
   "id": "74f026dc",
   "metadata": {
    "execution": {
     "iopub.execute_input": "2021-06-08T23:47:35.790669Z",
     "iopub.status.busy": "2021-06-08T23:47:35.790669Z",
     "iopub.status.idle": "2021-06-08T23:47:35.803669Z",
     "shell.execute_reply": "2021-06-08T23:47:35.802670Z"
    }
   },
   "outputs": [],
   "source": [
    "all_codes = link_codes + unlink_codes"
   ]
  },
  {
   "cell_type": "markdown",
   "id": "ee0726ab",
   "metadata": {},
   "source": [
    "## Processing Statistics\n",
    "\n",
    "Now we'll pivot each of our count columns into a table for easier reference."
   ]
  },
  {
   "cell_type": "code",
   "execution_count": 6,
   "id": "11ad30af",
   "metadata": {
    "execution": {
     "iopub.execute_input": "2021-06-08T23:47:35.812669Z",
     "iopub.status.busy": "2021-06-08T23:47:35.812669Z",
     "iopub.status.idle": "2021-06-08T23:47:35.819669Z",
     "shell.execute_reply": "2021-06-08T23:47:35.818669Z"
    }
   },
   "outputs": [
    {
     "data": {
      "text/html": [
       "<div>\n",
       "<style scoped>\n",
       "    .dataframe tbody tr th:only-of-type {\n",
       "        vertical-align: middle;\n",
       "    }\n",
       "\n",
       "    .dataframe tbody tr th {\n",
       "        vertical-align: top;\n",
       "    }\n",
       "\n",
       "    .dataframe thead th {\n",
       "        text-align: right;\n",
       "    }\n",
       "</style>\n",
       "<table border=\"1\" class=\"dataframe\">\n",
       "  <thead>\n",
       "    <tr style=\"text-align: right;\">\n",
       "      <th>gender</th>\n",
       "      <th>female</th>\n",
       "      <th>male</th>\n",
       "      <th>ambiguous</th>\n",
       "      <th>unknown</th>\n",
       "      <th>no-author-rec</th>\n",
       "      <th>no-book-author</th>\n",
       "      <th>no-book</th>\n",
       "    </tr>\n",
       "    <tr>\n",
       "      <th>dataset</th>\n",
       "      <th></th>\n",
       "      <th></th>\n",
       "      <th></th>\n",
       "      <th></th>\n",
       "      <th></th>\n",
       "      <th></th>\n",
       "      <th></th>\n",
       "    </tr>\n",
       "  </thead>\n",
       "  <tbody>\n",
       "    <tr>\n",
       "      <th>AZ</th>\n",
       "      <td>217855</td>\n",
       "      <td>491560</td>\n",
       "      <td>17832</td>\n",
       "      <td>239621</td>\n",
       "      <td>141257</td>\n",
       "      <td>1156610</td>\n",
       "      <td>NaN</td>\n",
       "    </tr>\n",
       "    <tr>\n",
       "      <th>BX-E</th>\n",
       "      <td>38080</td>\n",
       "      <td>56434</td>\n",
       "      <td>4212</td>\n",
       "      <td>17001</td>\n",
       "      <td>6875</td>\n",
       "      <td>28430</td>\n",
       "      <td>NaN</td>\n",
       "    </tr>\n",
       "    <tr>\n",
       "      <th>BX-I</th>\n",
       "      <td>38080</td>\n",
       "      <td>56434</td>\n",
       "      <td>4212</td>\n",
       "      <td>17001</td>\n",
       "      <td>6875</td>\n",
       "      <td>28430</td>\n",
       "      <td>NaN</td>\n",
       "    </tr>\n",
       "    <tr>\n",
       "      <th>GR-E</th>\n",
       "      <td>175690</td>\n",
       "      <td>279432</td>\n",
       "      <td>11656</td>\n",
       "      <td>96483</td>\n",
       "      <td>30127</td>\n",
       "      <td>891464</td>\n",
       "      <td>NaN</td>\n",
       "    </tr>\n",
       "    <tr>\n",
       "      <th>GR-I</th>\n",
       "      <td>177301</td>\n",
       "      <td>282823</td>\n",
       "      <td>11763</td>\n",
       "      <td>98253</td>\n",
       "      <td>30842</td>\n",
       "      <td>905429</td>\n",
       "      <td>NaN</td>\n",
       "    </tr>\n",
       "    <tr>\n",
       "      <th>LOC-MDS</th>\n",
       "      <td>666594</td>\n",
       "      <td>2212527</td>\n",
       "      <td>54208</td>\n",
       "      <td>1219129</td>\n",
       "      <td>272590</td>\n",
       "      <td>842812</td>\n",
       "      <td>NaN</td>\n",
       "    </tr>\n",
       "  </tbody>\n",
       "</table>\n",
       "</div>"
      ],
      "text/plain": [
       "gender   female     male  ambiguous  unknown  no-author-rec  no-book-author  \\\n",
       "dataset                                                                       \n",
       "AZ       217855   491560      17832   239621         141257         1156610   \n",
       "BX-E      38080    56434       4212    17001           6875           28430   \n",
       "BX-I      38080    56434       4212    17001           6875           28430   \n",
       "GR-E     175690   279432      11656    96483          30127          891464   \n",
       "GR-I     177301   282823      11763    98253          30842          905429   \n",
       "LOC-MDS  666594  2212527      54208  1219129         272590          842812   \n",
       "\n",
       "gender   no-book  \n",
       "dataset           \n",
       "AZ           NaN  \n",
       "BX-E         NaN  \n",
       "BX-I         NaN  \n",
       "GR-E         NaN  \n",
       "GR-I         NaN  \n",
       "LOC-MDS      NaN  "
      ]
     },
     "execution_count": 1,
     "metadata": {},
     "output_type": "execute_result"
    }
   ],
   "source": [
    "book_counts = link_stats.pivot('dataset', 'gender', 'n_books')\n",
    "book_counts = book_counts.reindex(columns=all_codes)\n",
    "book_counts"
   ]
  },
  {
   "cell_type": "code",
   "execution_count": 7,
   "id": "7710dd57",
   "metadata": {
    "execution": {
     "iopub.execute_input": "2021-06-08T23:47:35.828669Z",
     "iopub.status.busy": "2021-06-08T23:47:35.827669Z",
     "iopub.status.idle": "2021-06-08T23:47:35.833685Z",
     "shell.execute_reply": "2021-06-08T23:47:35.834669Z"
    }
   },
   "outputs": [
    {
     "data": {
      "text/html": [
       "<div>\n",
       "<style scoped>\n",
       "    .dataframe tbody tr th:only-of-type {\n",
       "        vertical-align: middle;\n",
       "    }\n",
       "\n",
       "    .dataframe tbody tr th {\n",
       "        vertical-align: top;\n",
       "    }\n",
       "\n",
       "    .dataframe thead th {\n",
       "        text-align: right;\n",
       "    }\n",
       "</style>\n",
       "<table border=\"1\" class=\"dataframe\">\n",
       "  <thead>\n",
       "    <tr style=\"text-align: right;\">\n",
       "      <th>gender</th>\n",
       "      <th>female</th>\n",
       "      <th>male</th>\n",
       "      <th>ambiguous</th>\n",
       "      <th>unknown</th>\n",
       "      <th>no-author-rec</th>\n",
       "      <th>no-book-author</th>\n",
       "      <th>no-book</th>\n",
       "    </tr>\n",
       "    <tr>\n",
       "      <th>dataset</th>\n",
       "      <th></th>\n",
       "      <th></th>\n",
       "      <th></th>\n",
       "      <th></th>\n",
       "      <th></th>\n",
       "      <th></th>\n",
       "      <th></th>\n",
       "    </tr>\n",
       "  </thead>\n",
       "  <tbody>\n",
       "    <tr>\n",
       "      <th>AZ</th>\n",
       "      <td>4339336</td>\n",
       "      <td>6606737</td>\n",
       "      <td>610220</td>\n",
       "      <td>2093169</td>\n",
       "      <td>736395</td>\n",
       "      <td>8071511</td>\n",
       "      <td>NaN</td>\n",
       "    </tr>\n",
       "    <tr>\n",
       "      <th>BX-E</th>\n",
       "      <td>138487</td>\n",
       "      <td>184505</td>\n",
       "      <td>32744</td>\n",
       "      <td>27574</td>\n",
       "      <td>8759</td>\n",
       "      <td>34996</td>\n",
       "      <td>NaN</td>\n",
       "    </tr>\n",
       "    <tr>\n",
       "      <th>BX-I</th>\n",
       "      <td>138487</td>\n",
       "      <td>184505</td>\n",
       "      <td>32744</td>\n",
       "      <td>27574</td>\n",
       "      <td>8759</td>\n",
       "      <td>34996</td>\n",
       "      <td>NaN</td>\n",
       "    </tr>\n",
       "    <tr>\n",
       "      <th>GR-E</th>\n",
       "      <td>34586008</td>\n",
       "      <td>34900583</td>\n",
       "      <td>9315132</td>\n",
       "      <td>3973094</td>\n",
       "      <td>523795</td>\n",
       "      <td>16881739</td>\n",
       "      <td>NaN</td>\n",
       "    </tr>\n",
       "    <tr>\n",
       "      <th>GR-I</th>\n",
       "      <td>76091597</td>\n",
       "      <td>71254945</td>\n",
       "      <td>15123169</td>\n",
       "      <td>10502922</td>\n",
       "      <td>1487249</td>\n",
       "      <td>46539909</td>\n",
       "      <td>NaN</td>\n",
       "    </tr>\n",
       "  </tbody>\n",
       "</table>\n",
       "</div>"
      ],
      "text/plain": [
       "gender     female      male  ambiguous   unknown  no-author-rec  \\\n",
       "dataset                                                           \n",
       "AZ        4339336   6606737     610220   2093169         736395   \n",
       "BX-E       138487    184505      32744     27574           8759   \n",
       "BX-I       138487    184505      32744     27574           8759   \n",
       "GR-E     34586008  34900583    9315132   3973094         523795   \n",
       "GR-I     76091597  71254945   15123169  10502922        1487249   \n",
       "\n",
       "gender   no-book-author  no-book  \n",
       "dataset                           \n",
       "AZ              8071511      NaN  \n",
       "BX-E              34996      NaN  \n",
       "BX-I              34996      NaN  \n",
       "GR-E           16881739      NaN  \n",
       "GR-I           46539909      NaN  "
      ]
     },
     "execution_count": 1,
     "metadata": {},
     "output_type": "execute_result"
    }
   ],
   "source": [
    "act_counts = link_stats.pivot('dataset', 'gender', 'n_actions')\n",
    "act_counts = act_counts.reindex(columns=all_codes)\n",
    "act_counts.drop(index='LOC-MDS', inplace=True)\n",
    "act_counts"
   ]
  },
  {
   "cell_type": "markdown",
   "id": "c93c3760",
   "metadata": {},
   "source": [
    "We're going to want to compute versions of this table as fractions, e.g. the fraction of books that are written by women.  We will use the following helper function:"
   ]
  },
  {
   "cell_type": "code",
   "execution_count": 8,
   "id": "32fceb55",
   "metadata": {
    "execution": {
     "iopub.execute_input": "2021-06-08T23:47:35.838669Z",
     "iopub.status.busy": "2021-06-08T23:47:35.837669Z",
     "iopub.status.idle": "2021-06-08T23:47:35.849669Z",
     "shell.execute_reply": "2021-06-08T23:47:35.848669Z"
    }
   },
   "outputs": [],
   "source": [
    "def fractionalize(data, columns, unlinked=None):\n",
    "    fracs = data[columns]\n",
    "    fracs.columns = fracs.columns.astype('str')\n",
    "    if unlinked:\n",
    "        fracs = fracs.assign(unlinked=data[unlinked].sum(axis=1))\n",
    "    totals = fracs.sum(axis=1)\n",
    "    return fracs.divide(totals, axis=0)"
   ]
  },
  {
   "cell_type": "markdown",
   "id": "c62507b3",
   "metadata": {},
   "source": [
    "And a helper function for plotting bar charts:"
   ]
  },
  {
   "cell_type": "code",
   "execution_count": 9,
   "id": "386b96b1",
   "metadata": {
    "execution": {
     "iopub.execute_input": "2021-06-08T23:47:35.855681Z",
     "iopub.status.busy": "2021-06-08T23:47:35.855681Z",
     "iopub.status.idle": "2021-06-08T23:47:35.864669Z",
     "shell.execute_reply": "2021-06-08T23:47:35.865669Z"
    }
   },
   "outputs": [],
   "source": [
    "def plot_bars(fracs, ax=None, cmap=mpl.cm.Dark2):\n",
    "    if ax is None:\n",
    "        ax = plt.gca()\n",
    "    size = 0.5\n",
    "    ind = np.arange(len(fracs))\n",
    "    start = pd.Series(0, index=fracs.index)\n",
    "    for i, col in enumerate(fracs.columns):\n",
    "        vals = fracs.iloc[:, i]\n",
    "        rects = ax.barh(ind, vals, size, left=start, label=col, color=cmap(i))\n",
    "        for j, rec in enumerate(rects):\n",
    "            if vals.iloc[j] < 0.1 or np.isnan(vals.iloc[j]): continue\n",
    "            y = rec.get_y() + rec.get_height() / 2\n",
    "            x = start.iloc[j] + vals.iloc[j] / 2\n",
    "            ax.annotate('{:.1f}%'.format(vals.iloc[j] * 100),\n",
    "                        xy=(x,y), ha='center', va='center', color='white',\n",
    "                        fontweight='bold')\n",
    "        start += vals.fillna(0)\n",
    "    ax.set_xlabel('Fraction of Books')\n",
    "    ax.set_ylabel('Data Set')\n",
    "    ax.set_yticks(ind)\n",
    "    ax.set_yticklabels(fracs.index)\n",
    "    ax.legend(loc='center left', bbox_to_anchor=(1, 0.5))"
   ]
  },
  {
   "cell_type": "markdown",
   "id": "421eef9a",
   "metadata": {},
   "source": [
    "## Resolution of Books\n",
    "\n",
    "What fraction of *unique books* are resolved from each source?"
   ]
  },
  {
   "cell_type": "code",
   "execution_count": 10,
   "id": "9a91e676",
   "metadata": {
    "execution": {
     "iopub.execute_input": "2021-06-08T23:47:35.870669Z",
     "iopub.status.busy": "2021-06-08T23:47:35.869670Z",
     "iopub.status.idle": "2021-06-08T23:47:35.882668Z",
     "shell.execute_reply": "2021-06-08T23:47:35.881668Z"
    }
   },
   "outputs": [
    {
     "data": {
      "text/html": [
       "<div>\n",
       "<style scoped>\n",
       "    .dataframe tbody tr th:only-of-type {\n",
       "        vertical-align: middle;\n",
       "    }\n",
       "\n",
       "    .dataframe tbody tr th {\n",
       "        vertical-align: top;\n",
       "    }\n",
       "\n",
       "    .dataframe thead th {\n",
       "        text-align: right;\n",
       "    }\n",
       "</style>\n",
       "<table border=\"1\" class=\"dataframe\">\n",
       "  <thead>\n",
       "    <tr style=\"text-align: right;\">\n",
       "      <th>gender</th>\n",
       "      <th>female</th>\n",
       "      <th>male</th>\n",
       "      <th>ambiguous</th>\n",
       "      <th>unknown</th>\n",
       "      <th>no-author-rec</th>\n",
       "      <th>no-book-author</th>\n",
       "      <th>no-book</th>\n",
       "    </tr>\n",
       "    <tr>\n",
       "      <th>dataset</th>\n",
       "      <th></th>\n",
       "      <th></th>\n",
       "      <th></th>\n",
       "      <th></th>\n",
       "      <th></th>\n",
       "      <th></th>\n",
       "      <th></th>\n",
       "    </tr>\n",
       "  </thead>\n",
       "  <tbody>\n",
       "    <tr>\n",
       "      <th>AZ</th>\n",
       "      <td>0.096194</td>\n",
       "      <td>0.217050</td>\n",
       "      <td>0.007874</td>\n",
       "      <td>0.105805</td>\n",
       "      <td>0.062372</td>\n",
       "      <td>0.510704</td>\n",
       "      <td>NaN</td>\n",
       "    </tr>\n",
       "    <tr>\n",
       "      <th>BX-E</th>\n",
       "      <td>0.252132</td>\n",
       "      <td>0.373656</td>\n",
       "      <td>0.027888</td>\n",
       "      <td>0.112566</td>\n",
       "      <td>0.045520</td>\n",
       "      <td>0.188238</td>\n",
       "      <td>NaN</td>\n",
       "    </tr>\n",
       "    <tr>\n",
       "      <th>BX-I</th>\n",
       "      <td>0.252132</td>\n",
       "      <td>0.373656</td>\n",
       "      <td>0.027888</td>\n",
       "      <td>0.112566</td>\n",
       "      <td>0.045520</td>\n",
       "      <td>0.188238</td>\n",
       "      <td>NaN</td>\n",
       "    </tr>\n",
       "    <tr>\n",
       "      <th>GR-E</th>\n",
       "      <td>0.118322</td>\n",
       "      <td>0.188188</td>\n",
       "      <td>0.007850</td>\n",
       "      <td>0.064978</td>\n",
       "      <td>0.020290</td>\n",
       "      <td>0.600372</td>\n",
       "      <td>NaN</td>\n",
       "    </tr>\n",
       "    <tr>\n",
       "      <th>GR-I</th>\n",
       "      <td>0.117698</td>\n",
       "      <td>0.187746</td>\n",
       "      <td>0.007809</td>\n",
       "      <td>0.065223</td>\n",
       "      <td>0.020474</td>\n",
       "      <td>0.601050</td>\n",
       "      <td>NaN</td>\n",
       "    </tr>\n",
       "    <tr>\n",
       "      <th>LOC-MDS</th>\n",
       "      <td>0.126540</td>\n",
       "      <td>0.420005</td>\n",
       "      <td>0.010290</td>\n",
       "      <td>0.231428</td>\n",
       "      <td>0.051746</td>\n",
       "      <td>0.159991</td>\n",
       "      <td>NaN</td>\n",
       "    </tr>\n",
       "  </tbody>\n",
       "</table>\n",
       "</div>"
      ],
      "text/plain": [
       "gender     female      male  ambiguous   unknown  no-author-rec  \\\n",
       "dataset                                                           \n",
       "AZ       0.096194  0.217050   0.007874  0.105805       0.062372   \n",
       "BX-E     0.252132  0.373656   0.027888  0.112566       0.045520   \n",
       "BX-I     0.252132  0.373656   0.027888  0.112566       0.045520   \n",
       "GR-E     0.118322  0.188188   0.007850  0.064978       0.020290   \n",
       "GR-I     0.117698  0.187746   0.007809  0.065223       0.020474   \n",
       "LOC-MDS  0.126540  0.420005   0.010290  0.231428       0.051746   \n",
       "\n",
       "gender   no-book-author  no-book  \n",
       "dataset                           \n",
       "AZ             0.510704      NaN  \n",
       "BX-E           0.188238      NaN  \n",
       "BX-I           0.188238      NaN  \n",
       "GR-E           0.600372      NaN  \n",
       "GR-I           0.601050      NaN  \n",
       "LOC-MDS        0.159991      NaN  "
      ]
     },
     "execution_count": 1,
     "metadata": {},
     "output_type": "execute_result"
    }
   ],
   "source": [
    "fractionalize(book_counts, link_codes + unlink_codes)"
   ]
  },
  {
   "cell_type": "code",
   "execution_count": 11,
   "id": "c260daee",
   "metadata": {
    "execution": {
     "iopub.execute_input": "2021-06-08T23:47:35.896681Z",
     "iopub.status.busy": "2021-06-08T23:47:35.895667Z",
     "iopub.status.idle": "2021-06-08T23:47:36.149668Z",
     "shell.execute_reply": "2021-06-08T23:47:36.148669Z"
    }
   },
   "outputs": [
    {
     "data": {
      "image/png": "[encoded data removed]",
      "text/plain": [
       "<Figure size 432x288 with 1 Axes>"
      ]
     },
     "metadata": {
      "needs_background": "light"
     },
     "output_type": "display_data"
    }
   ],
   "source": [
    "plot_bars(fractionalize(book_counts, link_codes + unlink_codes))"
   ]
  },
  {
   "cell_type": "code",
   "execution_count": 12,
   "id": "1bb785dc",
   "metadata": {
    "execution": {
     "iopub.execute_input": "2021-06-08T23:47:36.159668Z",
     "iopub.status.busy": "2021-06-08T23:47:36.159668Z",
     "iopub.status.idle": "2021-06-08T23:47:36.165668Z",
     "shell.execute_reply": "2021-06-08T23:47:36.164668Z"
    }
   },
   "outputs": [
    {
     "data": {
      "text/html": [
       "<div>\n",
       "<style scoped>\n",
       "    .dataframe tbody tr th:only-of-type {\n",
       "        vertical-align: middle;\n",
       "    }\n",
       "\n",
       "    .dataframe tbody tr th {\n",
       "        vertical-align: top;\n",
       "    }\n",
       "\n",
       "    .dataframe thead th {\n",
       "        text-align: right;\n",
       "    }\n",
       "</style>\n",
       "<table border=\"1\" class=\"dataframe\">\n",
       "  <thead>\n",
       "    <tr style=\"text-align: right;\">\n",
       "      <th>gender</th>\n",
       "      <th>female</th>\n",
       "      <th>male</th>\n",
       "      <th>ambiguous</th>\n",
       "      <th>unknown</th>\n",
       "      <th>unlinked</th>\n",
       "    </tr>\n",
       "    <tr>\n",
       "      <th>dataset</th>\n",
       "      <th></th>\n",
       "      <th></th>\n",
       "      <th></th>\n",
       "      <th></th>\n",
       "      <th></th>\n",
       "    </tr>\n",
       "  </thead>\n",
       "  <tbody>\n",
       "    <tr>\n",
       "      <th>AZ</th>\n",
       "      <td>0.096194</td>\n",
       "      <td>0.217050</td>\n",
       "      <td>0.007874</td>\n",
       "      <td>0.105805</td>\n",
       "      <td>0.573077</td>\n",
       "    </tr>\n",
       "    <tr>\n",
       "      <th>BX-E</th>\n",
       "      <td>0.252132</td>\n",
       "      <td>0.373656</td>\n",
       "      <td>0.027888</td>\n",
       "      <td>0.112566</td>\n",
       "      <td>0.233758</td>\n",
       "    </tr>\n",
       "    <tr>\n",
       "      <th>BX-I</th>\n",
       "      <td>0.252132</td>\n",
       "      <td>0.373656</td>\n",
       "      <td>0.027888</td>\n",
       "      <td>0.112566</td>\n",
       "      <td>0.233758</td>\n",
       "    </tr>\n",
       "    <tr>\n",
       "      <th>GR-E</th>\n",
       "      <td>0.118322</td>\n",
       "      <td>0.188188</td>\n",
       "      <td>0.007850</td>\n",
       "      <td>0.064978</td>\n",
       "      <td>0.620662</td>\n",
       "    </tr>\n",
       "    <tr>\n",
       "      <th>GR-I</th>\n",
       "      <td>0.117698</td>\n",
       "      <td>0.187746</td>\n",
       "      <td>0.007809</td>\n",
       "      <td>0.065223</td>\n",
       "      <td>0.621524</td>\n",
       "    </tr>\n",
       "    <tr>\n",
       "      <th>LOC-MDS</th>\n",
       "      <td>0.126540</td>\n",
       "      <td>0.420005</td>\n",
       "      <td>0.010290</td>\n",
       "      <td>0.231428</td>\n",
       "      <td>0.211737</td>\n",
       "    </tr>\n",
       "  </tbody>\n",
       "</table>\n",
       "</div>"
      ],
      "text/plain": [
       "gender     female      male  ambiguous   unknown  unlinked\n",
       "dataset                                                   \n",
       "AZ       0.096194  0.217050   0.007874  0.105805  0.573077\n",
       "BX-E     0.252132  0.373656   0.027888  0.112566  0.233758\n",
       "BX-I     0.252132  0.373656   0.027888  0.112566  0.233758\n",
       "GR-E     0.118322  0.188188   0.007850  0.064978  0.620662\n",
       "GR-I     0.117698  0.187746   0.007809  0.065223  0.621524\n",
       "LOC-MDS  0.126540  0.420005   0.010290  0.231428  0.211737"
      ]
     },
     "execution_count": 1,
     "metadata": {},
     "output_type": "execute_result"
    }
   ],
   "source": [
    "fractionalize(book_counts, link_codes, unlink_codes)"
   ]
  },
  {
   "cell_type": "code",
   "execution_count": 13,
   "id": "71b89607",
   "metadata": {
    "execution": {
     "iopub.execute_input": "2021-06-08T23:47:36.186668Z",
     "iopub.status.busy": "2021-06-08T23:47:36.180668Z",
     "iopub.status.idle": "2021-06-08T23:47:36.369883Z",
     "shell.execute_reply": "2021-06-08T23:47:36.369883Z"
    }
   },
   "outputs": [
    {
     "data": {
      "image/png": "[encoded data removed]",
      "text/plain": [
       "<Figure size 432x288 with 1 Axes>"
      ]
     },
     "metadata": {
      "needs_background": "light"
     },
     "output_type": "display_data"
    }
   ],
   "source": [
    "plot_bars(fractionalize(book_counts, link_codes, unlink_codes))"
   ]
  },
  {
   "cell_type": "code",
   "execution_count": 14,
   "id": "4408a17b",
   "metadata": {
    "execution": {
     "iopub.execute_input": "2021-06-08T23:47:36.383903Z",
     "iopub.status.busy": "2021-06-08T23:47:36.382883Z",
     "iopub.status.idle": "2021-06-08T23:47:36.511886Z",
     "shell.execute_reply": "2021-06-08T23:47:36.510886Z"
    }
   },
   "outputs": [
    {
     "data": {
      "image/png": "[encoded data removed]",
      "text/plain": [
       "<Figure size 432x288 with 1 Axes>"
      ]
     },
     "metadata": {
      "needs_background": "light"
     },
     "output_type": "display_data"
    }
   ],
   "source": [
    "plot_bars(fractionalize(book_counts, ['female', 'male']))"
   ]
  },
  {
   "cell_type": "markdown",
   "id": "02465bbf",
   "metadata": {},
   "source": [
    "## Resolution of Ratings\n",
    "\n",
    "What fraction of *rating actions* have each resolution result?"
   ]
  },
  {
   "cell_type": "code",
   "execution_count": 15,
   "id": "3e3992a9",
   "metadata": {
    "execution": {
     "iopub.execute_input": "2021-06-08T23:47:36.521886Z",
     "iopub.status.busy": "2021-06-08T23:47:36.521886Z",
     "iopub.status.idle": "2021-06-08T23:47:36.526886Z",
     "shell.execute_reply": "2021-06-08T23:47:36.525886Z"
    }
   },
   "outputs": [
    {
     "data": {
      "text/html": [
       "<div>\n",
       "<style scoped>\n",
       "    .dataframe tbody tr th:only-of-type {\n",
       "        vertical-align: middle;\n",
       "    }\n",
       "\n",
       "    .dataframe tbody tr th {\n",
       "        vertical-align: top;\n",
       "    }\n",
       "\n",
       "    .dataframe thead th {\n",
       "        text-align: right;\n",
       "    }\n",
       "</style>\n",
       "<table border=\"1\" class=\"dataframe\">\n",
       "  <thead>\n",
       "    <tr style=\"text-align: right;\">\n",
       "      <th>gender</th>\n",
       "      <th>female</th>\n",
       "      <th>male</th>\n",
       "      <th>ambiguous</th>\n",
       "      <th>unknown</th>\n",
       "      <th>no-author-rec</th>\n",
       "      <th>no-book-author</th>\n",
       "      <th>no-book</th>\n",
       "    </tr>\n",
       "    <tr>\n",
       "      <th>dataset</th>\n",
       "      <th></th>\n",
       "      <th></th>\n",
       "      <th></th>\n",
       "      <th></th>\n",
       "      <th></th>\n",
       "      <th></th>\n",
       "      <th></th>\n",
       "    </tr>\n",
       "  </thead>\n",
       "  <tbody>\n",
       "    <tr>\n",
       "      <th>AZ</th>\n",
       "      <td>0.193225</td>\n",
       "      <td>0.294190</td>\n",
       "      <td>0.027172</td>\n",
       "      <td>0.093206</td>\n",
       "      <td>0.032791</td>\n",
       "      <td>0.359415</td>\n",
       "      <td>NaN</td>\n",
       "    </tr>\n",
       "    <tr>\n",
       "      <th>BX-E</th>\n",
       "      <td>0.324276</td>\n",
       "      <td>0.432030</td>\n",
       "      <td>0.076672</td>\n",
       "      <td>0.064566</td>\n",
       "      <td>0.020510</td>\n",
       "      <td>0.081945</td>\n",
       "      <td>NaN</td>\n",
       "    </tr>\n",
       "    <tr>\n",
       "      <th>BX-I</th>\n",
       "      <td>0.324276</td>\n",
       "      <td>0.432030</td>\n",
       "      <td>0.076672</td>\n",
       "      <td>0.064566</td>\n",
       "      <td>0.020510</td>\n",
       "      <td>0.081945</td>\n",
       "      <td>NaN</td>\n",
       "    </tr>\n",
       "    <tr>\n",
       "      <th>GR-E</th>\n",
       "      <td>0.345237</td>\n",
       "      <td>0.348378</td>\n",
       "      <td>0.092984</td>\n",
       "      <td>0.039659</td>\n",
       "      <td>0.005229</td>\n",
       "      <td>0.168513</td>\n",
       "      <td>NaN</td>\n",
       "    </tr>\n",
       "    <tr>\n",
       "      <th>GR-I</th>\n",
       "      <td>0.344306</td>\n",
       "      <td>0.322421</td>\n",
       "      <td>0.068431</td>\n",
       "      <td>0.047525</td>\n",
       "      <td>0.006730</td>\n",
       "      <td>0.210588</td>\n",
       "      <td>NaN</td>\n",
       "    </tr>\n",
       "  </tbody>\n",
       "</table>\n",
       "</div>"
      ],
      "text/plain": [
       "gender     female      male  ambiguous   unknown  no-author-rec  \\\n",
       "dataset                                                           \n",
       "AZ       0.193225  0.294190   0.027172  0.093206       0.032791   \n",
       "BX-E     0.324276  0.432030   0.076672  0.064566       0.020510   \n",
       "BX-I     0.324276  0.432030   0.076672  0.064566       0.020510   \n",
       "GR-E     0.345237  0.348378   0.092984  0.039659       0.005229   \n",
       "GR-I     0.344306  0.322421   0.068431  0.047525       0.006730   \n",
       "\n",
       "gender   no-book-author  no-book  \n",
       "dataset                           \n",
       "AZ             0.359415      NaN  \n",
       "BX-E           0.081945      NaN  \n",
       "BX-I           0.081945      NaN  \n",
       "GR-E           0.168513      NaN  \n",
       "GR-I           0.210588      NaN  "
      ]
     },
     "execution_count": 1,
     "metadata": {},
     "output_type": "execute_result"
    }
   ],
   "source": [
    "fractionalize(act_counts, link_codes + unlink_codes)"
   ]
  },
  {
   "cell_type": "code",
   "execution_count": 16,
   "id": "d1a4c492",
   "metadata": {
    "execution": {
     "iopub.execute_input": "2021-06-08T23:47:36.541886Z",
     "iopub.status.busy": "2021-06-08T23:47:36.540893Z",
     "iopub.status.idle": "2021-06-08T23:47:36.714580Z",
     "shell.execute_reply": "2021-06-08T23:47:36.714580Z"
    }
   },
   "outputs": [
    {
     "data": {
      "image/png": "[encoded data removed]",
      "text/plain": [
       "<Figure size 432x288 with 1 Axes>"
      ]
     },
     "metadata": {
      "needs_background": "light"
     },
     "output_type": "display_data"
    }
   ],
   "source": [
    "plot_bars(fractionalize(act_counts, link_codes + unlink_codes))"
   ]
  },
  {
   "cell_type": "code",
   "execution_count": 17,
   "id": "c06e48cc",
   "metadata": {
    "execution": {
     "iopub.execute_input": "2021-06-08T23:47:36.724568Z",
     "iopub.status.busy": "2021-06-08T23:47:36.724568Z",
     "iopub.status.idle": "2021-06-08T23:47:36.730575Z",
     "shell.execute_reply": "2021-06-08T23:47:36.729583Z"
    }
   },
   "outputs": [
    {
     "data": {
      "text/html": [
       "<div>\n",
       "<style scoped>\n",
       "    .dataframe tbody tr th:only-of-type {\n",
       "        vertical-align: middle;\n",
       "    }\n",
       "\n",
       "    .dataframe tbody tr th {\n",
       "        vertical-align: top;\n",
       "    }\n",
       "\n",
       "    .dataframe thead th {\n",
       "        text-align: right;\n",
       "    }\n",
       "</style>\n",
       "<table border=\"1\" class=\"dataframe\">\n",
       "  <thead>\n",
       "    <tr style=\"text-align: right;\">\n",
       "      <th>gender</th>\n",
       "      <th>female</th>\n",
       "      <th>male</th>\n",
       "      <th>ambiguous</th>\n",
       "      <th>unknown</th>\n",
       "      <th>unlinked</th>\n",
       "    </tr>\n",
       "    <tr>\n",
       "      <th>dataset</th>\n",
       "      <th></th>\n",
       "      <th></th>\n",
       "      <th></th>\n",
       "      <th></th>\n",
       "      <th></th>\n",
       "    </tr>\n",
       "  </thead>\n",
       "  <tbody>\n",
       "    <tr>\n",
       "      <th>AZ</th>\n",
       "      <td>0.193225</td>\n",
       "      <td>0.294190</td>\n",
       "      <td>0.027172</td>\n",
       "      <td>0.093206</td>\n",
       "      <td>0.392206</td>\n",
       "    </tr>\n",
       "    <tr>\n",
       "      <th>BX-E</th>\n",
       "      <td>0.324276</td>\n",
       "      <td>0.432030</td>\n",
       "      <td>0.076672</td>\n",
       "      <td>0.064566</td>\n",
       "      <td>0.102455</td>\n",
       "    </tr>\n",
       "    <tr>\n",
       "      <th>BX-I</th>\n",
       "      <td>0.324276</td>\n",
       "      <td>0.432030</td>\n",
       "      <td>0.076672</td>\n",
       "      <td>0.064566</td>\n",
       "      <td>0.102455</td>\n",
       "    </tr>\n",
       "    <tr>\n",
       "      <th>GR-E</th>\n",
       "      <td>0.345237</td>\n",
       "      <td>0.348378</td>\n",
       "      <td>0.092984</td>\n",
       "      <td>0.039659</td>\n",
       "      <td>0.173742</td>\n",
       "    </tr>\n",
       "    <tr>\n",
       "      <th>GR-I</th>\n",
       "      <td>0.344306</td>\n",
       "      <td>0.322421</td>\n",
       "      <td>0.068431</td>\n",
       "      <td>0.047525</td>\n",
       "      <td>0.217318</td>\n",
       "    </tr>\n",
       "  </tbody>\n",
       "</table>\n",
       "</div>"
      ],
      "text/plain": [
       "gender     female      male  ambiguous   unknown  unlinked\n",
       "dataset                                                   \n",
       "AZ       0.193225  0.294190   0.027172  0.093206  0.392206\n",
       "BX-E     0.324276  0.432030   0.076672  0.064566  0.102455\n",
       "BX-I     0.324276  0.432030   0.076672  0.064566  0.102455\n",
       "GR-E     0.345237  0.348378   0.092984  0.039659  0.173742\n",
       "GR-I     0.344306  0.322421   0.068431  0.047525  0.217318"
      ]
     },
     "execution_count": 1,
     "metadata": {},
     "output_type": "execute_result"
    }
   ],
   "source": [
    "fractionalize(act_counts, link_codes, unlink_codes)"
   ]
  },
  {
   "cell_type": "code",
   "execution_count": 18,
   "id": "533357c1",
   "metadata": {
    "execution": {
     "iopub.execute_input": "2021-06-08T23:47:36.743563Z",
     "iopub.status.busy": "2021-06-08T23:47:36.743563Z",
     "iopub.status.idle": "2021-06-08T23:47:36.903586Z",
     "shell.execute_reply": "2021-06-08T23:47:36.903586Z"
    }
   },
   "outputs": [
    {
     "data": {
      "image/png": "[encoded data removed]",
      "text/plain": [
       "<Figure size 432x288 with 1 Axes>"
      ]
     },
     "metadata": {
      "needs_background": "light"
     },
     "output_type": "display_data"
    }
   ],
   "source": [
    "plot_bars(fractionalize(act_counts, link_codes, unlink_codes))"
   ]
  },
  {
   "cell_type": "code",
   "execution_count": 19,
   "id": "afe863d8",
   "metadata": {
    "execution": {
     "iopub.execute_input": "2021-06-08T23:47:36.916571Z",
     "iopub.status.busy": "2021-06-08T23:47:36.915568Z",
     "iopub.status.idle": "2021-06-08T23:47:37.042555Z",
     "shell.execute_reply": "2021-06-08T23:47:37.042555Z"
    }
   },
   "outputs": [
    {
     "data": {
      "image/png": "[encoded data removed]",
      "text/plain": [
       "<Figure size 432x288 with 1 Axes>"
      ]
     },
     "metadata": {
      "needs_background": "light"
     },
     "output_type": "display_data"
    }
   ],
   "source": [
    "plot_bars(fractionalize(act_counts, ['female', 'male']))"
   ]
  }
 ],
 "metadata": {
  "jupytext": {
   "formats": "ipynb,md"
  },
  "kernelspec": {
   "display_name": "Python 3",
   "language": "python",
   "name": "python3"
  },
  "language_info": {
   "codemirror_mode": {
    "name": "ipython",
    "version": 3
   },
   "file_extension": ".py",
   "mimetype": "text/x-python",
   "name": "python",
   "nbconvert_exporter": "python",
   "pygments_lexer": "ipython3",
   "version": "3.8.10"
  }
 },
 "nbformat": 4,
 "nbformat_minor": 5
}
