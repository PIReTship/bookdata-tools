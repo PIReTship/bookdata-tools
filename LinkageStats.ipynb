{
 "cells": [
  {
   "cell_type": "markdown",
   "id": "25c07a4c",
   "metadata": {},
   "source": [
    "# Book Data Linkage Statistics\n",
    "\n",
    "This notebook presents statistics of the book data integration."
   ]
  },
  {
   "cell_type": "markdown",
   "id": "cc355c6a",
   "metadata": {},
   "source": [
    "## Setup"
   ]
  },
  {
   "cell_type": "code",
   "execution_count": 1,
   "id": "dc8b1118",
   "metadata": {
    "execution": {
     "iopub.execute_input": "2022-05-07T20:37:29.720885Z",
     "iopub.status.busy": "2022-05-07T20:37:29.720217Z",
     "iopub.status.idle": "2022-05-07T20:37:32.161807Z",
     "shell.execute_reply": "2022-05-07T20:37:32.160693Z"
    },
    "tags": []
   },
   "outputs": [],
   "source": [
    "import pandas as pd\n",
    "import matplotlib as mpl\n",
    "import matplotlib.pyplot as plt\n",
    "import numpy as np"
   ]
  },
  {
   "cell_type": "markdown",
   "id": "7366fd13",
   "metadata": {},
   "source": [
    "## Load Link Stats\n",
    "\n",
    "We compute dataset linking statitsics as `gender-stats.csv` using DataFusion.  Let's load those:"
   ]
  },
  {
   "cell_type": "code",
   "execution_count": 2,
   "id": "22670dfe",
   "metadata": {
    "execution": {
     "iopub.execute_input": "2022-05-07T20:37:32.167502Z",
     "iopub.status.busy": "2022-05-07T20:37:32.167125Z",
     "iopub.status.idle": "2022-05-07T20:37:32.188278Z",
     "shell.execute_reply": "2022-05-07T20:37:32.187430Z"
    },
    "tags": []
   },
   "outputs": [
    {
     "data": {
      "text/html": [
       "<div>\n",
       "<style scoped>\n",
       "    .dataframe tbody tr th:only-of-type {\n",
       "        vertical-align: middle;\n",
       "    }\n",
       "\n",
       "    .dataframe tbody tr th {\n",
       "        vertical-align: top;\n",
       "    }\n",
       "\n",
       "    .dataframe thead th {\n",
       "        text-align: right;\n",
       "    }\n",
       "</style>\n",
       "<table border=\"1\" class=\"dataframe\">\n",
       "  <thead>\n",
       "    <tr style=\"text-align: right;\">\n",
       "      <th></th>\n",
       "      <th>dataset</th>\n",
       "      <th>gender</th>\n",
       "      <th>n_books</th>\n",
       "      <th>n_actions</th>\n",
       "    </tr>\n",
       "  </thead>\n",
       "  <tbody>\n",
       "    <tr>\n",
       "      <th>0</th>\n",
       "      <td>BX-I</td>\n",
       "      <td>ambiguous</td>\n",
       "      <td>7550</td>\n",
       "      <td>82161</td>\n",
       "    </tr>\n",
       "    <tr>\n",
       "      <th>1</th>\n",
       "      <td>BX-I</td>\n",
       "      <td>no-author-rec</td>\n",
       "      <td>13734</td>\n",
       "      <td>22808</td>\n",
       "    </tr>\n",
       "    <tr>\n",
       "      <th>2</th>\n",
       "      <td>BX-I</td>\n",
       "      <td>female</td>\n",
       "      <td>69239</td>\n",
       "      <td>397555</td>\n",
       "    </tr>\n",
       "    <tr>\n",
       "      <th>3</th>\n",
       "      <td>BX-I</td>\n",
       "      <td>no-book</td>\n",
       "      <td>44068</td>\n",
       "      <td>62530</td>\n",
       "    </tr>\n",
       "    <tr>\n",
       "      <th>4</th>\n",
       "      <td>BX-I</td>\n",
       "      <td>unknown</td>\n",
       "      <td>31406</td>\n",
       "      <td>70351</td>\n",
       "    </tr>\n",
       "  </tbody>\n",
       "</table>\n",
       "</div>"
      ],
      "text/plain": [
       "  dataset         gender  n_books  n_actions\n",
       "0    BX-I      ambiguous     7550      82161\n",
       "1    BX-I  no-author-rec    13734      22808\n",
       "2    BX-I         female    69239     397555\n",
       "3    BX-I        no-book    44068      62530\n",
       "4    BX-I        unknown    31406      70351"
      ]
     },
     "execution_count": 2,
     "metadata": {},
     "output_type": "execute_result"
    }
   ],
   "source": [
    "link_stats = pd.read_csv('book-links/gender-stats.csv')\n",
    "link_stats.head()"
   ]
  },
  {
   "cell_type": "markdown",
   "id": "3c96a2c6",
   "metadata": {},
   "source": [
    "Now let's define variables for our variou codes. We are first going to define our gender codes.  We'll start with the resolved codes:"
   ]
  },
  {
   "cell_type": "code",
   "execution_count": 3,
   "id": "8d1f67d6",
   "metadata": {
    "execution": {
     "iopub.execute_input": "2022-05-07T20:37:32.193520Z",
     "iopub.status.busy": "2022-05-07T20:37:32.193173Z",
     "iopub.status.idle": "2022-05-07T20:37:32.197714Z",
     "shell.execute_reply": "2022-05-07T20:37:32.196957Z"
    },
    "tags": []
   },
   "outputs": [],
   "source": [
    "link_codes = ['female', 'male', 'ambiguous', 'unknown']"
   ]
  },
  {
   "cell_type": "markdown",
   "id": "2c30ce92",
   "metadata": {},
   "source": [
    "We want the unlink codes in order, so the last is the first link failure:"
   ]
  },
  {
   "cell_type": "code",
   "execution_count": 4,
   "id": "c5fac59b",
   "metadata": {
    "execution": {
     "iopub.execute_input": "2022-05-07T20:37:32.201849Z",
     "iopub.status.busy": "2022-05-07T20:37:32.201513Z",
     "iopub.status.idle": "2022-05-07T20:37:32.205776Z",
     "shell.execute_reply": "2022-05-07T20:37:32.205018Z"
    },
    "tags": []
   },
   "outputs": [],
   "source": [
    "unlink_codes = ['no-author-rec', 'no-book-author', 'no-book']"
   ]
  },
  {
   "cell_type": "code",
   "execution_count": 5,
   "id": "cb09ef8d",
   "metadata": {
    "execution": {
     "iopub.execute_input": "2022-05-07T20:37:32.209680Z",
     "iopub.status.busy": "2022-05-07T20:37:32.209305Z",
     "iopub.status.idle": "2022-05-07T20:37:32.213523Z",
     "shell.execute_reply": "2022-05-07T20:37:32.212773Z"
    },
    "tags": []
   },
   "outputs": [],
   "source": [
    "all_codes = link_codes + unlink_codes"
   ]
  },
  {
   "cell_type": "markdown",
   "id": "cd071b29",
   "metadata": {},
   "source": [
    "## Processing Statistics\n",
    "\n",
    "Now we'll pivot each of our count columns into a table for easier reference."
   ]
  },
  {
   "cell_type": "code",
   "execution_count": 6,
   "id": "6071db79",
   "metadata": {
    "execution": {
     "iopub.execute_input": "2022-05-07T20:37:32.217448Z",
     "iopub.status.busy": "2022-05-07T20:37:32.217065Z",
     "iopub.status.idle": "2022-05-07T20:37:32.247742Z",
     "shell.execute_reply": "2022-05-07T20:37:32.246587Z"
    },
    "tags": []
   },
   "outputs": [
    {
     "data": {
      "text/html": [
       "<div>\n",
       "<style scoped>\n",
       "    .dataframe tbody tr th:only-of-type {\n",
       "        vertical-align: middle;\n",
       "    }\n",
       "\n",
       "    .dataframe tbody tr th {\n",
       "        vertical-align: top;\n",
       "    }\n",
       "\n",
       "    .dataframe thead th {\n",
       "        text-align: right;\n",
       "    }\n",
       "</style>\n",
       "<table border=\"1\" class=\"dataframe\">\n",
       "  <thead>\n",
       "    <tr style=\"text-align: right;\">\n",
       "      <th>gender</th>\n",
       "      <th>female</th>\n",
       "      <th>male</th>\n",
       "      <th>ambiguous</th>\n",
       "      <th>unknown</th>\n",
       "      <th>no-author-rec</th>\n",
       "      <th>no-book-author</th>\n",
       "      <th>no-book</th>\n",
       "      <th>total</th>\n",
       "    </tr>\n",
       "    <tr>\n",
       "      <th>dataset</th>\n",
       "      <th></th>\n",
       "      <th></th>\n",
       "      <th></th>\n",
       "      <th></th>\n",
       "      <th></th>\n",
       "      <th></th>\n",
       "      <th></th>\n",
       "      <th></th>\n",
       "    </tr>\n",
       "  </thead>\n",
       "  <tbody>\n",
       "    <tr>\n",
       "      <th>AZ</th>\n",
       "      <td>226613.0</td>\n",
       "      <td>503440.0</td>\n",
       "      <td>19084.0</td>\n",
       "      <td>219529.0</td>\n",
       "      <td>137536.0</td>\n",
       "      <td>151529.0</td>\n",
       "      <td>1010096.0</td>\n",
       "      <td>2267827.0</td>\n",
       "    </tr>\n",
       "    <tr>\n",
       "      <th>BX-E</th>\n",
       "      <td>39245.0</td>\n",
       "      <td>56959.0</td>\n",
       "      <td>4431.0</td>\n",
       "      <td>15256.0</td>\n",
       "      <td>6739.0</td>\n",
       "      <td>6548.0</td>\n",
       "      <td>21884.0</td>\n",
       "      <td>151062.0</td>\n",
       "    </tr>\n",
       "    <tr>\n",
       "      <th>BX-I</th>\n",
       "      <td>69239.0</td>\n",
       "      <td>99213.0</td>\n",
       "      <td>7550.0</td>\n",
       "      <td>31406.0</td>\n",
       "      <td>13734.0</td>\n",
       "      <td>13047.0</td>\n",
       "      <td>44068.0</td>\n",
       "      <td>278257.0</td>\n",
       "    </tr>\n",
       "    <tr>\n",
       "      <th>GR-E</th>\n",
       "      <td>182866.0</td>\n",
       "      <td>284112.0</td>\n",
       "      <td>12591.0</td>\n",
       "      <td>85017.0</td>\n",
       "      <td>28899.0</td>\n",
       "      <td>894574.0</td>\n",
       "      <td>NaN</td>\n",
       "      <td>1488059.0</td>\n",
       "    </tr>\n",
       "    <tr>\n",
       "      <th>GR-I</th>\n",
       "      <td>184586.0</td>\n",
       "      <td>287589.0</td>\n",
       "      <td>12709.0</td>\n",
       "      <td>86596.0</td>\n",
       "      <td>29597.0</td>\n",
       "      <td>908584.0</td>\n",
       "      <td>NaN</td>\n",
       "      <td>1509661.0</td>\n",
       "    </tr>\n",
       "    <tr>\n",
       "      <th>LOC-MDS</th>\n",
       "      <td>704588.0</td>\n",
       "      <td>2307220.0</td>\n",
       "      <td>60945.0</td>\n",
       "      <td>1085722.0</td>\n",
       "      <td>266671.0</td>\n",
       "      <td>842797.0</td>\n",
       "      <td>NaN</td>\n",
       "      <td>5267943.0</td>\n",
       "    </tr>\n",
       "  </tbody>\n",
       "</table>\n",
       "</div>"
      ],
      "text/plain": [
       "gender     female       male  ambiguous    unknown  no-author-rec  \\\n",
       "dataset                                                             \n",
       "AZ       226613.0   503440.0    19084.0   219529.0       137536.0   \n",
       "BX-E      39245.0    56959.0     4431.0    15256.0         6739.0   \n",
       "BX-I      69239.0    99213.0     7550.0    31406.0        13734.0   \n",
       "GR-E     182866.0   284112.0    12591.0    85017.0        28899.0   \n",
       "GR-I     184586.0   287589.0    12709.0    86596.0        29597.0   \n",
       "LOC-MDS  704588.0  2307220.0    60945.0  1085722.0       266671.0   \n",
       "\n",
       "gender   no-book-author    no-book      total  \n",
       "dataset                                        \n",
       "AZ             151529.0  1010096.0  2267827.0  \n",
       "BX-E             6548.0    21884.0   151062.0  \n",
       "BX-I            13047.0    44068.0   278257.0  \n",
       "GR-E           894574.0        NaN  1488059.0  \n",
       "GR-I           908584.0        NaN  1509661.0  \n",
       "LOC-MDS        842797.0        NaN  5267943.0  "
      ]
     },
     "execution_count": 6,
     "metadata": {},
     "output_type": "execute_result"
    }
   ],
   "source": [
    "book_counts = link_stats.pivot('dataset', 'gender', 'n_books')\n",
    "book_counts = book_counts.reindex(columns=all_codes)\n",
    "book_counts.assign(total=book_counts.sum(axis=1))"
   ]
  },
  {
   "cell_type": "code",
   "execution_count": 7,
   "id": "c3134bd1",
   "metadata": {
    "execution": {
     "iopub.execute_input": "2022-05-07T20:37:32.251876Z",
     "iopub.status.busy": "2022-05-07T20:37:32.251550Z",
     "iopub.status.idle": "2022-05-07T20:37:32.276034Z",
     "shell.execute_reply": "2022-05-07T20:37:32.275225Z"
    },
    "tags": []
   },
   "outputs": [
    {
     "data": {
      "text/html": [
       "<div>\n",
       "<style scoped>\n",
       "    .dataframe tbody tr th:only-of-type {\n",
       "        vertical-align: middle;\n",
       "    }\n",
       "\n",
       "    .dataframe tbody tr th {\n",
       "        vertical-align: top;\n",
       "    }\n",
       "\n",
       "    .dataframe thead th {\n",
       "        text-align: right;\n",
       "    }\n",
       "</style>\n",
       "<table border=\"1\" class=\"dataframe\">\n",
       "  <thead>\n",
       "    <tr style=\"text-align: right;\">\n",
       "      <th>gender</th>\n",
       "      <th>female</th>\n",
       "      <th>male</th>\n",
       "      <th>ambiguous</th>\n",
       "      <th>unknown</th>\n",
       "      <th>no-author-rec</th>\n",
       "      <th>no-book-author</th>\n",
       "      <th>no-book</th>\n",
       "    </tr>\n",
       "    <tr>\n",
       "      <th>dataset</th>\n",
       "      <th></th>\n",
       "      <th></th>\n",
       "      <th></th>\n",
       "      <th></th>\n",
       "      <th></th>\n",
       "      <th></th>\n",
       "      <th></th>\n",
       "    </tr>\n",
       "  </thead>\n",
       "  <tbody>\n",
       "    <tr>\n",
       "      <th>AZ</th>\n",
       "      <td>4464070.0</td>\n",
       "      <td>6680448.0</td>\n",
       "      <td>586430.0</td>\n",
       "      <td>1859540.0</td>\n",
       "      <td>695530.0</td>\n",
       "      <td>2076437.0</td>\n",
       "      <td>6096946.0</td>\n",
       "    </tr>\n",
       "    <tr>\n",
       "      <th>BX-E</th>\n",
       "      <td>141022.0</td>\n",
       "      <td>184988.0</td>\n",
       "      <td>32703.0</td>\n",
       "      <td>24831.0</td>\n",
       "      <td>8589.0</td>\n",
       "      <td>9505.0</td>\n",
       "      <td>25524.0</td>\n",
       "    </tr>\n",
       "    <tr>\n",
       "      <th>BX-I</th>\n",
       "      <td>397555.0</td>\n",
       "      <td>467936.0</td>\n",
       "      <td>82161.0</td>\n",
       "      <td>70351.0</td>\n",
       "      <td>22808.0</td>\n",
       "      <td>25905.0</td>\n",
       "      <td>62530.0</td>\n",
       "    </tr>\n",
       "    <tr>\n",
       "      <th>GR-E</th>\n",
       "      <td>35499436.0</td>\n",
       "      <td>34646593.0</td>\n",
       "      <td>9531767.0</td>\n",
       "      <td>3324420.0</td>\n",
       "      <td>476053.0</td>\n",
       "      <td>16923705.0</td>\n",
       "      <td>NaN</td>\n",
       "    </tr>\n",
       "    <tr>\n",
       "      <th>GR-I</th>\n",
       "      <td>78217847.0</td>\n",
       "      <td>71049268.0</td>\n",
       "      <td>15504674.0</td>\n",
       "      <td>8740673.0</td>\n",
       "      <td>1334059.0</td>\n",
       "      <td>46650160.0</td>\n",
       "      <td>NaN</td>\n",
       "    </tr>\n",
       "  </tbody>\n",
       "</table>\n",
       "</div>"
      ],
      "text/plain": [
       "gender       female        male   ambiguous    unknown  no-author-rec  \\\n",
       "dataset                                                                 \n",
       "AZ        4464070.0   6680448.0    586430.0  1859540.0       695530.0   \n",
       "BX-E       141022.0    184988.0     32703.0    24831.0         8589.0   \n",
       "BX-I       397555.0    467936.0     82161.0    70351.0        22808.0   \n",
       "GR-E     35499436.0  34646593.0   9531767.0  3324420.0       476053.0   \n",
       "GR-I     78217847.0  71049268.0  15504674.0  8740673.0      1334059.0   \n",
       "\n",
       "gender   no-book-author    no-book  \n",
       "dataset                             \n",
       "AZ            2076437.0  6096946.0  \n",
       "BX-E             9505.0    25524.0  \n",
       "BX-I            25905.0    62530.0  \n",
       "GR-E         16923705.0        NaN  \n",
       "GR-I         46650160.0        NaN  "
      ]
     },
     "execution_count": 7,
     "metadata": {},
     "output_type": "execute_result"
    }
   ],
   "source": [
    "act_counts = link_stats.pivot('dataset', 'gender', 'n_actions')\n",
    "act_counts = act_counts.reindex(columns=all_codes)\n",
    "act_counts.drop(index='LOC-MDS', inplace=True)\n",
    "act_counts"
   ]
  },
  {
   "cell_type": "markdown",
   "id": "4d87a0a1",
   "metadata": {},
   "source": [
    "We're going to want to compute versions of this table as fractions, e.g. the fraction of books that are written by women.  We will use the following helper function:"
   ]
  },
  {
   "cell_type": "code",
   "execution_count": 8,
   "id": "86cfea68",
   "metadata": {
    "execution": {
     "iopub.execute_input": "2022-05-07T20:37:32.279870Z",
     "iopub.status.busy": "2022-05-07T20:37:32.279557Z",
     "iopub.status.idle": "2022-05-07T20:37:32.286672Z",
     "shell.execute_reply": "2022-05-07T20:37:32.285729Z"
    }
   },
   "outputs": [],
   "source": [
    "def fractionalize(data, columns, unlinked=None):\n",
    "    fracs = data[columns]\n",
    "    fracs.columns = fracs.columns.astype('str')\n",
    "    if unlinked:\n",
    "        fracs = fracs.assign(unlinked=data[unlinked].sum(axis=1))\n",
    "    totals = fracs.sum(axis=1)\n",
    "    return fracs.divide(totals, axis=0)"
   ]
  },
  {
   "cell_type": "markdown",
   "id": "e474621e",
   "metadata": {},
   "source": [
    "And a helper function for plotting bar charts:"
   ]
  },
  {
   "cell_type": "code",
   "execution_count": 9,
   "id": "3217ffd7",
   "metadata": {
    "execution": {
     "iopub.execute_input": "2022-05-07T20:37:32.291525Z",
     "iopub.status.busy": "2022-05-07T20:37:32.291118Z",
     "iopub.status.idle": "2022-05-07T20:37:32.305762Z",
     "shell.execute_reply": "2022-05-07T20:37:32.304739Z"
    }
   },
   "outputs": [],
   "source": [
    "def plot_bars(fracs, ax=None, cmap=mpl.cm.Dark2):\n",
    "    if ax is None:\n",
    "        ax = plt.gca()\n",
    "    size = 0.5\n",
    "    ind = np.arange(len(fracs))\n",
    "    start = pd.Series(0, index=fracs.index)\n",
    "    for i, col in enumerate(fracs.columns):\n",
    "        vals = fracs.iloc[:, i]\n",
    "        rects = ax.barh(ind, vals, size, left=start, label=col, color=cmap(i))\n",
    "        for j, rec in enumerate(rects):\n",
    "            if vals.iloc[j] < 0.1 or np.isnan(vals.iloc[j]): continue\n",
    "            y = rec.get_y() + rec.get_height() / 2\n",
    "            x = start.iloc[j] + vals.iloc[j] / 2\n",
    "            ax.annotate('{:.1f}%'.format(vals.iloc[j] * 100),\n",
    "                        xy=(x,y), ha='center', va='center', color='white',\n",
    "                        fontweight='bold')\n",
    "        start += vals.fillna(0)\n",
    "    ax.set_xlabel('Fraction of Books')\n",
    "    ax.set_ylabel('Data Set')\n",
    "    ax.set_yticks(ind)\n",
    "    ax.set_yticklabels(fracs.index)\n",
    "    ax.legend(loc='center left', bbox_to_anchor=(1, 0.5))"
   ]
  },
  {
   "cell_type": "markdown",
   "id": "5668c905",
   "metadata": {},
   "source": [
    "## Resolution of Books\n",
    "\n",
    "What fraction of *unique books* are resolved from each source?"
   ]
  },
  {
   "cell_type": "code",
   "execution_count": 10,
   "id": "19a7a6d3",
   "metadata": {
    "execution": {
     "iopub.execute_input": "2022-05-07T20:37:32.310463Z",
     "iopub.status.busy": "2022-05-07T20:37:32.310059Z",
     "iopub.status.idle": "2022-05-07T20:37:32.332729Z",
     "shell.execute_reply": "2022-05-07T20:37:32.331721Z"
    }
   },
   "outputs": [
    {
     "data": {
      "text/html": [
       "<div>\n",
       "<style scoped>\n",
       "    .dataframe tbody tr th:only-of-type {\n",
       "        vertical-align: middle;\n",
       "    }\n",
       "\n",
       "    .dataframe tbody tr th {\n",
       "        vertical-align: top;\n",
       "    }\n",
       "\n",
       "    .dataframe thead th {\n",
       "        text-align: right;\n",
       "    }\n",
       "</style>\n",
       "<table border=\"1\" class=\"dataframe\">\n",
       "  <thead>\n",
       "    <tr style=\"text-align: right;\">\n",
       "      <th>gender</th>\n",
       "      <th>female</th>\n",
       "      <th>male</th>\n",
       "      <th>ambiguous</th>\n",
       "      <th>unknown</th>\n",
       "      <th>no-author-rec</th>\n",
       "      <th>no-book-author</th>\n",
       "      <th>no-book</th>\n",
       "    </tr>\n",
       "    <tr>\n",
       "      <th>dataset</th>\n",
       "      <th></th>\n",
       "      <th></th>\n",
       "      <th></th>\n",
       "      <th></th>\n",
       "      <th></th>\n",
       "      <th></th>\n",
       "      <th></th>\n",
       "    </tr>\n",
       "  </thead>\n",
       "  <tbody>\n",
       "    <tr>\n",
       "      <th>AZ</th>\n",
       "      <td>0.099925</td>\n",
       "      <td>0.221992</td>\n",
       "      <td>0.008415</td>\n",
       "      <td>0.096801</td>\n",
       "      <td>0.060647</td>\n",
       "      <td>0.066817</td>\n",
       "      <td>0.445403</td>\n",
       "    </tr>\n",
       "    <tr>\n",
       "      <th>BX-E</th>\n",
       "      <td>0.259794</td>\n",
       "      <td>0.377057</td>\n",
       "      <td>0.029332</td>\n",
       "      <td>0.100992</td>\n",
       "      <td>0.044611</td>\n",
       "      <td>0.043346</td>\n",
       "      <td>0.144868</td>\n",
       "    </tr>\n",
       "    <tr>\n",
       "      <th>BX-I</th>\n",
       "      <td>0.248831</td>\n",
       "      <td>0.356552</td>\n",
       "      <td>0.027133</td>\n",
       "      <td>0.112867</td>\n",
       "      <td>0.049357</td>\n",
       "      <td>0.046888</td>\n",
       "      <td>0.158372</td>\n",
       "    </tr>\n",
       "    <tr>\n",
       "      <th>GR-E</th>\n",
       "      <td>0.122889</td>\n",
       "      <td>0.190928</td>\n",
       "      <td>0.008461</td>\n",
       "      <td>0.057133</td>\n",
       "      <td>0.019421</td>\n",
       "      <td>0.601168</td>\n",
       "      <td>NaN</td>\n",
       "    </tr>\n",
       "    <tr>\n",
       "      <th>GR-I</th>\n",
       "      <td>0.122270</td>\n",
       "      <td>0.190499</td>\n",
       "      <td>0.008418</td>\n",
       "      <td>0.057361</td>\n",
       "      <td>0.019605</td>\n",
       "      <td>0.601846</td>\n",
       "      <td>NaN</td>\n",
       "    </tr>\n",
       "    <tr>\n",
       "      <th>LOC-MDS</th>\n",
       "      <td>0.133750</td>\n",
       "      <td>0.437974</td>\n",
       "      <td>0.011569</td>\n",
       "      <td>0.206100</td>\n",
       "      <td>0.050621</td>\n",
       "      <td>0.159986</td>\n",
       "      <td>NaN</td>\n",
       "    </tr>\n",
       "  </tbody>\n",
       "</table>\n",
       "</div>"
      ],
      "text/plain": [
       "gender     female      male  ambiguous   unknown  no-author-rec  \\\n",
       "dataset                                                           \n",
       "AZ       0.099925  0.221992   0.008415  0.096801       0.060647   \n",
       "BX-E     0.259794  0.377057   0.029332  0.100992       0.044611   \n",
       "BX-I     0.248831  0.356552   0.027133  0.112867       0.049357   \n",
       "GR-E     0.122889  0.190928   0.008461  0.057133       0.019421   \n",
       "GR-I     0.122270  0.190499   0.008418  0.057361       0.019605   \n",
       "LOC-MDS  0.133750  0.437974   0.011569  0.206100       0.050621   \n",
       "\n",
       "gender   no-book-author   no-book  \n",
       "dataset                            \n",
       "AZ             0.066817  0.445403  \n",
       "BX-E           0.043346  0.144868  \n",
       "BX-I           0.046888  0.158372  \n",
       "GR-E           0.601168       NaN  \n",
       "GR-I           0.601846       NaN  \n",
       "LOC-MDS        0.159986       NaN  "
      ]
     },
     "execution_count": 10,
     "metadata": {},
     "output_type": "execute_result"
    }
   ],
   "source": [
    "fractionalize(book_counts, link_codes + unlink_codes)"
   ]
  },
  {
   "cell_type": "code",
   "execution_count": 11,
   "id": "cbf7a4d9",
   "metadata": {
    "execution": {
     "iopub.execute_input": "2022-05-07T20:37:32.337800Z",
     "iopub.status.busy": "2022-05-07T20:37:32.337390Z",
     "iopub.status.idle": "2022-05-07T20:37:32.885972Z",
     "shell.execute_reply": "2022-05-07T20:37:32.885120Z"
    }
   },
   "outputs": [
    {
     "data": {
      "image/png": "[encoded data removed]",
      "text/plain": [
       "<Figure size 432x288 with 1 Axes>"
      ]
     },
     "metadata": {
      "needs_background": "light"
     },
     "output_type": "display_data"
    }
   ],
   "source": [
    "plot_bars(fractionalize(book_counts, link_codes + unlink_codes))"
   ]
  },
  {
   "cell_type": "code",
   "execution_count": 12,
   "id": "c4dac247",
   "metadata": {
    "execution": {
     "iopub.execute_input": "2022-05-07T20:37:32.890435Z",
     "iopub.status.busy": "2022-05-07T20:37:32.890034Z",
     "iopub.status.idle": "2022-05-07T20:37:32.909413Z",
     "shell.execute_reply": "2022-05-07T20:37:32.908669Z"
    }
   },
   "outputs": [
    {
     "data": {
      "text/html": [
       "<div>\n",
       "<style scoped>\n",
       "    .dataframe tbody tr th:only-of-type {\n",
       "        vertical-align: middle;\n",
       "    }\n",
       "\n",
       "    .dataframe tbody tr th {\n",
       "        vertical-align: top;\n",
       "    }\n",
       "\n",
       "    .dataframe thead th {\n",
       "        text-align: right;\n",
       "    }\n",
       "</style>\n",
       "<table border=\"1\" class=\"dataframe\">\n",
       "  <thead>\n",
       "    <tr style=\"text-align: right;\">\n",
       "      <th>gender</th>\n",
       "      <th>female</th>\n",
       "      <th>male</th>\n",
       "      <th>ambiguous</th>\n",
       "      <th>unknown</th>\n",
       "      <th>unlinked</th>\n",
       "    </tr>\n",
       "    <tr>\n",
       "      <th>dataset</th>\n",
       "      <th></th>\n",
       "      <th></th>\n",
       "      <th></th>\n",
       "      <th></th>\n",
       "      <th></th>\n",
       "    </tr>\n",
       "  </thead>\n",
       "  <tbody>\n",
       "    <tr>\n",
       "      <th>AZ</th>\n",
       "      <td>0.099925</td>\n",
       "      <td>0.221992</td>\n",
       "      <td>0.008415</td>\n",
       "      <td>0.096801</td>\n",
       "      <td>0.572866</td>\n",
       "    </tr>\n",
       "    <tr>\n",
       "      <th>BX-E</th>\n",
       "      <td>0.259794</td>\n",
       "      <td>0.377057</td>\n",
       "      <td>0.029332</td>\n",
       "      <td>0.100992</td>\n",
       "      <td>0.232825</td>\n",
       "    </tr>\n",
       "    <tr>\n",
       "      <th>BX-I</th>\n",
       "      <td>0.248831</td>\n",
       "      <td>0.356552</td>\n",
       "      <td>0.027133</td>\n",
       "      <td>0.112867</td>\n",
       "      <td>0.254617</td>\n",
       "    </tr>\n",
       "    <tr>\n",
       "      <th>GR-E</th>\n",
       "      <td>0.122889</td>\n",
       "      <td>0.190928</td>\n",
       "      <td>0.008461</td>\n",
       "      <td>0.057133</td>\n",
       "      <td>0.620589</td>\n",
       "    </tr>\n",
       "    <tr>\n",
       "      <th>GR-I</th>\n",
       "      <td>0.122270</td>\n",
       "      <td>0.190499</td>\n",
       "      <td>0.008418</td>\n",
       "      <td>0.057361</td>\n",
       "      <td>0.621451</td>\n",
       "    </tr>\n",
       "    <tr>\n",
       "      <th>LOC-MDS</th>\n",
       "      <td>0.133750</td>\n",
       "      <td>0.437974</td>\n",
       "      <td>0.011569</td>\n",
       "      <td>0.206100</td>\n",
       "      <td>0.210607</td>\n",
       "    </tr>\n",
       "  </tbody>\n",
       "</table>\n",
       "</div>"
      ],
      "text/plain": [
       "gender     female      male  ambiguous   unknown  unlinked\n",
       "dataset                                                   \n",
       "AZ       0.099925  0.221992   0.008415  0.096801  0.572866\n",
       "BX-E     0.259794  0.377057   0.029332  0.100992  0.232825\n",
       "BX-I     0.248831  0.356552   0.027133  0.112867  0.254617\n",
       "GR-E     0.122889  0.190928   0.008461  0.057133  0.620589\n",
       "GR-I     0.122270  0.190499   0.008418  0.057361  0.621451\n",
       "LOC-MDS  0.133750  0.437974   0.011569  0.206100  0.210607"
      ]
     },
     "execution_count": 12,
     "metadata": {},
     "output_type": "execute_result"
    }
   ],
   "source": [
    "fractionalize(book_counts, link_codes, unlink_codes)"
   ]
  },
  {
   "cell_type": "code",
   "execution_count": 13,
   "id": "ff9073f2",
   "metadata": {
    "execution": {
     "iopub.execute_input": "2022-05-07T20:37:32.913148Z",
     "iopub.status.busy": "2022-05-07T20:37:32.912825Z",
     "iopub.status.idle": "2022-05-07T20:37:33.446056Z",
     "shell.execute_reply": "2022-05-07T20:37:33.445223Z"
    }
   },
   "outputs": [
    {
     "data": {
      "image/png": "[encoded data removed]",
      "text/plain": [
       "<Figure size 432x288 with 1 Axes>"
      ]
     },
     "metadata": {
      "needs_background": "light"
     },
     "output_type": "display_data"
    }
   ],
   "source": [
    "plot_bars(fractionalize(book_counts, link_codes, unlink_codes))"
   ]
  },
  {
   "cell_type": "code",
   "execution_count": 14,
   "id": "ae51dc0a",
   "metadata": {
    "execution": {
     "iopub.execute_input": "2022-05-07T20:37:33.450314Z",
     "iopub.status.busy": "2022-05-07T20:37:33.449963Z",
     "iopub.status.idle": "2022-05-07T20:37:33.748216Z",
     "shell.execute_reply": "2022-05-07T20:37:33.747253Z"
    }
   },
   "outputs": [
    {
     "data": {
      "image/png": "[encoded data removed]",
      "text/plain": [
       "<Figure size 432x288 with 1 Axes>"
      ]
     },
     "metadata": {
      "needs_background": "light"
     },
     "output_type": "display_data"
    }
   ],
   "source": [
    "plot_bars(fractionalize(book_counts, ['female', 'male']))"
   ]
  },
  {
   "cell_type": "markdown",
   "id": "153f9920",
   "metadata": {},
   "source": [
    "## Resolution of Ratings\n",
    "\n",
    "What fraction of *rating actions* have each resolution result?"
   ]
  },
  {
   "cell_type": "code",
   "execution_count": 15,
   "id": "56f7c95a",
   "metadata": {
    "execution": {
     "iopub.execute_input": "2022-05-07T20:37:33.752208Z",
     "iopub.status.busy": "2022-05-07T20:37:33.751831Z",
     "iopub.status.idle": "2022-05-07T20:37:33.770079Z",
     "shell.execute_reply": "2022-05-07T20:37:33.769347Z"
    }
   },
   "outputs": [
    {
     "data": {
      "text/html": [
       "<div>\n",
       "<style scoped>\n",
       "    .dataframe tbody tr th:only-of-type {\n",
       "        vertical-align: middle;\n",
       "    }\n",
       "\n",
       "    .dataframe tbody tr th {\n",
       "        vertical-align: top;\n",
       "    }\n",
       "\n",
       "    .dataframe thead th {\n",
       "        text-align: right;\n",
       "    }\n",
       "</style>\n",
       "<table border=\"1\" class=\"dataframe\">\n",
       "  <thead>\n",
       "    <tr style=\"text-align: right;\">\n",
       "      <th>gender</th>\n",
       "      <th>female</th>\n",
       "      <th>male</th>\n",
       "      <th>ambiguous</th>\n",
       "      <th>unknown</th>\n",
       "      <th>no-author-rec</th>\n",
       "      <th>no-book-author</th>\n",
       "      <th>no-book</th>\n",
       "    </tr>\n",
       "    <tr>\n",
       "      <th>dataset</th>\n",
       "      <th></th>\n",
       "      <th></th>\n",
       "      <th></th>\n",
       "      <th></th>\n",
       "      <th></th>\n",
       "      <th></th>\n",
       "      <th></th>\n",
       "    </tr>\n",
       "  </thead>\n",
       "  <tbody>\n",
       "    <tr>\n",
       "      <th>AZ</th>\n",
       "      <td>0.198762</td>\n",
       "      <td>0.297446</td>\n",
       "      <td>0.026111</td>\n",
       "      <td>0.082796</td>\n",
       "      <td>0.030968</td>\n",
       "      <td>0.092453</td>\n",
       "      <td>0.271465</td>\n",
       "    </tr>\n",
       "    <tr>\n",
       "      <th>BX-E</th>\n",
       "      <td>0.330137</td>\n",
       "      <td>0.433063</td>\n",
       "      <td>0.076559</td>\n",
       "      <td>0.058130</td>\n",
       "      <td>0.020107</td>\n",
       "      <td>0.022252</td>\n",
       "      <td>0.059753</td>\n",
       "    </tr>\n",
       "    <tr>\n",
       "      <th>BX-I</th>\n",
       "      <td>0.352053</td>\n",
       "      <td>0.414379</td>\n",
       "      <td>0.072757</td>\n",
       "      <td>0.062299</td>\n",
       "      <td>0.020198</td>\n",
       "      <td>0.022940</td>\n",
       "      <td>0.055373</td>\n",
       "    </tr>\n",
       "    <tr>\n",
       "      <th>GR-E</th>\n",
       "      <td>0.353573</td>\n",
       "      <td>0.345079</td>\n",
       "      <td>0.094936</td>\n",
       "      <td>0.033111</td>\n",
       "      <td>0.004741</td>\n",
       "      <td>0.168559</td>\n",
       "      <td>NaN</td>\n",
       "    </tr>\n",
       "    <tr>\n",
       "      <th>GR-I</th>\n",
       "      <td>0.353133</td>\n",
       "      <td>0.320769</td>\n",
       "      <td>0.070000</td>\n",
       "      <td>0.039462</td>\n",
       "      <td>0.006023</td>\n",
       "      <td>0.210613</td>\n",
       "      <td>NaN</td>\n",
       "    </tr>\n",
       "  </tbody>\n",
       "</table>\n",
       "</div>"
      ],
      "text/plain": [
       "gender     female      male  ambiguous   unknown  no-author-rec  \\\n",
       "dataset                                                           \n",
       "AZ       0.198762  0.297446   0.026111  0.082796       0.030968   \n",
       "BX-E     0.330137  0.433063   0.076559  0.058130       0.020107   \n",
       "BX-I     0.352053  0.414379   0.072757  0.062299       0.020198   \n",
       "GR-E     0.353573  0.345079   0.094936  0.033111       0.004741   \n",
       "GR-I     0.353133  0.320769   0.070000  0.039462       0.006023   \n",
       "\n",
       "gender   no-book-author   no-book  \n",
       "dataset                            \n",
       "AZ             0.092453  0.271465  \n",
       "BX-E           0.022252  0.059753  \n",
       "BX-I           0.022940  0.055373  \n",
       "GR-E           0.168559       NaN  \n",
       "GR-I           0.210613       NaN  "
      ]
     },
     "execution_count": 15,
     "metadata": {},
     "output_type": "execute_result"
    }
   ],
   "source": [
    "fractionalize(act_counts, link_codes + unlink_codes)"
   ]
  },
  {
   "cell_type": "code",
   "execution_count": 16,
   "id": "48c33a00",
   "metadata": {
    "execution": {
     "iopub.execute_input": "2022-05-07T20:37:33.773800Z",
     "iopub.status.busy": "2022-05-07T20:37:33.773483Z",
     "iopub.status.idle": "2022-05-07T20:37:34.179116Z",
     "shell.execute_reply": "2022-05-07T20:37:34.178285Z"
    }
   },
   "outputs": [
    {
     "data": {
      "image/png": "[encoded data removed]",
      "text/plain": [
       "<Figure size 432x288 with 1 Axes>"
      ]
     },
     "metadata": {
      "needs_background": "light"
     },
     "output_type": "display_data"
    }
   ],
   "source": [
    "plot_bars(fractionalize(act_counts, link_codes + unlink_codes))"
   ]
  },
  {
   "cell_type": "code",
   "execution_count": 17,
   "id": "1c0afa76",
   "metadata": {
    "execution": {
     "iopub.execute_input": "2022-05-07T20:37:34.182873Z",
     "iopub.status.busy": "2022-05-07T20:37:34.182548Z",
     "iopub.status.idle": "2022-05-07T20:37:34.200935Z",
     "shell.execute_reply": "2022-05-07T20:37:34.200118Z"
    }
   },
   "outputs": [
    {
     "data": {
      "text/html": [
       "<div>\n",
       "<style scoped>\n",
       "    .dataframe tbody tr th:only-of-type {\n",
       "        vertical-align: middle;\n",
       "    }\n",
       "\n",
       "    .dataframe tbody tr th {\n",
       "        vertical-align: top;\n",
       "    }\n",
       "\n",
       "    .dataframe thead th {\n",
       "        text-align: right;\n",
       "    }\n",
       "</style>\n",
       "<table border=\"1\" class=\"dataframe\">\n",
       "  <thead>\n",
       "    <tr style=\"text-align: right;\">\n",
       "      <th>gender</th>\n",
       "      <th>female</th>\n",
       "      <th>male</th>\n",
       "      <th>ambiguous</th>\n",
       "      <th>unknown</th>\n",
       "      <th>unlinked</th>\n",
       "    </tr>\n",
       "    <tr>\n",
       "      <th>dataset</th>\n",
       "      <th></th>\n",
       "      <th></th>\n",
       "      <th></th>\n",
       "      <th></th>\n",
       "      <th></th>\n",
       "    </tr>\n",
       "  </thead>\n",
       "  <tbody>\n",
       "    <tr>\n",
       "      <th>AZ</th>\n",
       "      <td>0.198762</td>\n",
       "      <td>0.297446</td>\n",
       "      <td>0.026111</td>\n",
       "      <td>0.082796</td>\n",
       "      <td>0.394886</td>\n",
       "    </tr>\n",
       "    <tr>\n",
       "      <th>BX-E</th>\n",
       "      <td>0.330137</td>\n",
       "      <td>0.433063</td>\n",
       "      <td>0.076559</td>\n",
       "      <td>0.058130</td>\n",
       "      <td>0.102111</td>\n",
       "    </tr>\n",
       "    <tr>\n",
       "      <th>BX-I</th>\n",
       "      <td>0.352053</td>\n",
       "      <td>0.414379</td>\n",
       "      <td>0.072757</td>\n",
       "      <td>0.062299</td>\n",
       "      <td>0.098511</td>\n",
       "    </tr>\n",
       "    <tr>\n",
       "      <th>GR-E</th>\n",
       "      <td>0.353573</td>\n",
       "      <td>0.345079</td>\n",
       "      <td>0.094936</td>\n",
       "      <td>0.033111</td>\n",
       "      <td>0.173301</td>\n",
       "    </tr>\n",
       "    <tr>\n",
       "      <th>GR-I</th>\n",
       "      <td>0.353133</td>\n",
       "      <td>0.320769</td>\n",
       "      <td>0.070000</td>\n",
       "      <td>0.039462</td>\n",
       "      <td>0.216636</td>\n",
       "    </tr>\n",
       "  </tbody>\n",
       "</table>\n",
       "</div>"
      ],
      "text/plain": [
       "gender     female      male  ambiguous   unknown  unlinked\n",
       "dataset                                                   \n",
       "AZ       0.198762  0.297446   0.026111  0.082796  0.394886\n",
       "BX-E     0.330137  0.433063   0.076559  0.058130  0.102111\n",
       "BX-I     0.352053  0.414379   0.072757  0.062299  0.098511\n",
       "GR-E     0.353573  0.345079   0.094936  0.033111  0.173301\n",
       "GR-I     0.353133  0.320769   0.070000  0.039462  0.216636"
      ]
     },
     "execution_count": 17,
     "metadata": {},
     "output_type": "execute_result"
    }
   ],
   "source": [
    "fractionalize(act_counts, link_codes, unlink_codes)"
   ]
  },
  {
   "cell_type": "code",
   "execution_count": 18,
   "id": "4312bd74",
   "metadata": {
    "execution": {
     "iopub.execute_input": "2022-05-07T20:37:34.204674Z",
     "iopub.status.busy": "2022-05-07T20:37:34.204356Z",
     "iopub.status.idle": "2022-05-07T20:37:34.574235Z",
     "shell.execute_reply": "2022-05-07T20:37:34.573468Z"
    }
   },
   "outputs": [
    {
     "data": {
      "image/png": "[encoded data removed]",
      "text/plain": [
       "<Figure size 432x288 with 1 Axes>"
      ]
     },
     "metadata": {
      "needs_background": "light"
     },
     "output_type": "display_data"
    }
   ],
   "source": [
    "plot_bars(fractionalize(act_counts, link_codes, unlink_codes))"
   ]
  },
  {
   "cell_type": "code",
   "execution_count": 19,
   "id": "c0c7f85f",
   "metadata": {
    "execution": {
     "iopub.execute_input": "2022-05-07T20:37:34.577980Z",
     "iopub.status.busy": "2022-05-07T20:37:34.577661Z",
     "iopub.status.idle": "2022-05-07T20:37:34.859875Z",
     "shell.execute_reply": "2022-05-07T20:37:34.858958Z"
    }
   },
   "outputs": [
    {
     "data": {
      "image/png": "[encoded data removed]",
      "text/plain": [
       "<Figure size 432x288 with 1 Axes>"
      ]
     },
     "metadata": {
      "needs_background": "light"
     },
     "output_type": "display_data"
    }
   ],
   "source": [
    "plot_bars(fractionalize(act_counts, ['female', 'male']))"
   ]
  },
  {
   "cell_type": "markdown",
   "id": "755979ec",
   "metadata": {},
   "source": [
    "## Metrics\n",
    "\n",
    "Finally, we're going to write coverage metrics."
   ]
  },
  {
   "cell_type": "code",
   "execution_count": 20,
   "id": "83663d71",
   "metadata": {
    "execution": {
     "iopub.execute_input": "2022-05-07T20:37:34.864448Z",
     "iopub.status.busy": "2022-05-07T20:37:34.864020Z",
     "iopub.status.idle": "2022-05-07T20:37:34.876094Z",
     "shell.execute_reply": "2022-05-07T20:37:34.875277Z"
    }
   },
   "outputs": [
    {
     "data": {
      "text/plain": [
       "dataset\n",
       "AZ         0.330333\n",
       "BX-E       0.666183\n",
       "BX-I       0.632516\n",
       "GR-E       0.322278\n",
       "GR-I       0.321187\n",
       "LOC-MDS    0.583293\n",
       "dtype: float64"
      ]
     },
     "execution_count": 20,
     "metadata": {},
     "output_type": "execute_result"
    }
   ],
   "source": [
    "book_tots = book_counts.sum(axis=1)\n",
    "book_link = book_counts['male'] + book_counts['female'] + book_counts['ambiguous']\n",
    "book_cover = book_link / book_tots\n",
    "book_cover"
   ]
  },
  {
   "cell_type": "code",
   "execution_count": 21,
   "id": "1becd6bd",
   "metadata": {
    "execution": {
     "iopub.execute_input": "2022-05-07T20:37:34.879818Z",
     "iopub.status.busy": "2022-05-07T20:37:34.879502Z",
     "iopub.status.idle": "2022-05-07T20:37:34.884413Z",
     "shell.execute_reply": "2022-05-07T20:37:34.883659Z"
    }
   },
   "outputs": [],
   "source": [
    "book_cover.to_json('book-coverage.json')"
   ]
  },
  {
   "cell_type": "code",
   "execution_count": null,
   "id": "0018a725",
   "metadata": {},
   "outputs": [],
   "source": []
  }
 ],
 "metadata": {
  "jupytext": {
   "formats": "ipynb,py:percent"
  },
  "kernelspec": {
   "display_name": "Python 3 (ipykernel)",
   "language": "python",
   "name": "python3"
  },
  "language_info": {
   "codemirror_mode": {
    "name": "ipython",
    "version": 3
   },
   "file_extension": ".py",
   "mimetype": "text/x-python",
   "name": "python",
   "nbconvert_exporter": "python",
   "pygments_lexer": "ipython3",
   "version": "3.8.12"
  }
 },
 "nbformat": 4,
 "nbformat_minor": 5
}
