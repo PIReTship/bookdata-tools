{
 "cells": [
  {
   "cell_type": "markdown",
   "id": "f825d5f5",
   "metadata": {},
   "source": [
    "# Book Data Linkage Statistics\n",
    "\n",
    "This notebook presents statistics of the book data integration."
   ]
  },
  {
   "cell_type": "markdown",
   "id": "1fc43d58",
   "metadata": {},
   "source": [
    "## Setup"
   ]
  },
  {
   "cell_type": "code",
   "execution_count": 1,
   "id": "b3687446",
   "metadata": {
    "execution": {
     "iopub.execute_input": "2022-07-11T21:00:32.276773Z",
     "iopub.status.busy": "2022-07-11T21:00:32.276062Z",
     "iopub.status.idle": "2022-07-11T21:00:34.518431Z",
     "shell.execute_reply": "2022-07-11T21:00:34.517094Z"
    },
    "tags": []
   },
   "outputs": [],
   "source": [
    "import pandas as pd\n",
    "import matplotlib as mpl\n",
    "import matplotlib.pyplot as plt\n",
    "import numpy as np"
   ]
  },
  {
   "cell_type": "markdown",
   "id": "2030277c",
   "metadata": {},
   "source": [
    "## Load Link Stats\n",
    "\n",
    "We compute dataset linking statitsics as `gender-stats.csv` using DataFusion.  Let's load those:"
   ]
  },
  {
   "cell_type": "code",
   "execution_count": 2,
   "id": "edc94180",
   "metadata": {
    "execution": {
     "iopub.execute_input": "2022-07-11T21:00:34.525194Z",
     "iopub.status.busy": "2022-07-11T21:00:34.524667Z",
     "iopub.status.idle": "2022-07-11T21:00:34.554692Z",
     "shell.execute_reply": "2022-07-11T21:00:34.553670Z"
    },
    "tags": []
   },
   "outputs": [
    {
     "data": {
      "text/html": [
       "<div>\n",
       "<style scoped>\n",
       "    .dataframe tbody tr th:only-of-type {\n",
       "        vertical-align: middle;\n",
       "    }\n",
       "\n",
       "    .dataframe tbody tr th {\n",
       "        vertical-align: top;\n",
       "    }\n",
       "\n",
       "    .dataframe thead th {\n",
       "        text-align: right;\n",
       "    }\n",
       "</style>\n",
       "<table border=\"1\" class=\"dataframe\">\n",
       "  <thead>\n",
       "    <tr style=\"text-align: right;\">\n",
       "      <th></th>\n",
       "      <th>dataset</th>\n",
       "      <th>gender</th>\n",
       "      <th>n_books</th>\n",
       "      <th>n_actions</th>\n",
       "    </tr>\n",
       "  </thead>\n",
       "  <tbody>\n",
       "    <tr>\n",
       "      <th>0</th>\n",
       "      <td>LOC-MDS</td>\n",
       "      <td>no-book-author</td>\n",
       "      <td>609392</td>\n",
       "      <td>NaN</td>\n",
       "    </tr>\n",
       "    <tr>\n",
       "      <th>1</th>\n",
       "      <td>LOC-MDS</td>\n",
       "      <td>no-author-rec</td>\n",
       "      <td>310413</td>\n",
       "      <td>NaN</td>\n",
       "    </tr>\n",
       "    <tr>\n",
       "      <th>2</th>\n",
       "      <td>LOC-MDS</td>\n",
       "      <td>no-gender</td>\n",
       "      <td>4314710</td>\n",
       "      <td>NaN</td>\n",
       "    </tr>\n",
       "    <tr>\n",
       "      <th>3</th>\n",
       "      <td>BX-I</td>\n",
       "      <td>no-book-author</td>\n",
       "      <td>11351</td>\n",
       "      <td>20423.0</td>\n",
       "    </tr>\n",
       "    <tr>\n",
       "      <th>4</th>\n",
       "      <td>BX-I</td>\n",
       "      <td>no-book</td>\n",
       "      <td>40631</td>\n",
       "      <td>56193.0</td>\n",
       "    </tr>\n",
       "  </tbody>\n",
       "</table>\n",
       "</div>"
      ],
      "text/plain": [
       "   dataset          gender  n_books  n_actions\n",
       "0  LOC-MDS  no-book-author   609392        NaN\n",
       "1  LOC-MDS   no-author-rec   310413        NaN\n",
       "2  LOC-MDS       no-gender  4314710        NaN\n",
       "3     BX-I  no-book-author    11351    20423.0\n",
       "4     BX-I         no-book    40631    56193.0"
      ]
     },
     "execution_count": 2,
     "metadata": {},
     "output_type": "execute_result"
    }
   ],
   "source": [
    "link_stats = pd.read_csv('book-links/gender-stats.csv')\n",
    "link_stats.head()"
   ]
  },
  {
   "cell_type": "markdown",
   "id": "d8390ffd",
   "metadata": {},
   "source": [
    "Now let's define variables for our variou codes. We are first going to define our gender codes.  We'll start with the resolved codes:"
   ]
  },
  {
   "cell_type": "code",
   "execution_count": 3,
   "id": "ae9b9b3d",
   "metadata": {
    "execution": {
     "iopub.execute_input": "2022-07-11T21:00:34.560508Z",
     "iopub.status.busy": "2022-07-11T21:00:34.559995Z",
     "iopub.status.idle": "2022-07-11T21:00:34.565788Z",
     "shell.execute_reply": "2022-07-11T21:00:34.564843Z"
    },
    "tags": []
   },
   "outputs": [],
   "source": [
    "link_codes = ['female', 'male', 'ambiguous', 'unknown']"
   ]
  },
  {
   "cell_type": "markdown",
   "id": "f09495de",
   "metadata": {},
   "source": [
    "We want the unlink codes in order, so the last is the first link failure:"
   ]
  },
  {
   "cell_type": "code",
   "execution_count": 4,
   "id": "3567c7ea",
   "metadata": {
    "execution": {
     "iopub.execute_input": "2022-07-11T21:00:34.571260Z",
     "iopub.status.busy": "2022-07-11T21:00:34.570863Z",
     "iopub.status.idle": "2022-07-11T21:00:34.576144Z",
     "shell.execute_reply": "2022-07-11T21:00:34.575193Z"
    },
    "tags": []
   },
   "outputs": [],
   "source": [
    "unlink_codes = ['no-author-rec', 'no-book-author', 'no-book']"
   ]
  },
  {
   "cell_type": "code",
   "execution_count": 5,
   "id": "b8944494",
   "metadata": {
    "execution": {
     "iopub.execute_input": "2022-07-11T21:00:34.580937Z",
     "iopub.status.busy": "2022-07-11T21:00:34.580548Z",
     "iopub.status.idle": "2022-07-11T21:00:34.586361Z",
     "shell.execute_reply": "2022-07-11T21:00:34.585172Z"
    },
    "tags": []
   },
   "outputs": [],
   "source": [
    "all_codes = link_codes + unlink_codes"
   ]
  },
  {
   "cell_type": "markdown",
   "id": "a27e3a60",
   "metadata": {},
   "source": [
    "## Processing Statistics\n",
    "\n",
    "Now we'll pivot each of our count columns into a table for easier reference."
   ]
  },
  {
   "cell_type": "code",
   "execution_count": 6,
   "id": "73730ddb",
   "metadata": {
    "execution": {
     "iopub.execute_input": "2022-07-11T21:00:34.591123Z",
     "iopub.status.busy": "2022-07-11T21:00:34.590749Z",
     "iopub.status.idle": "2022-07-11T21:00:34.619894Z",
     "shell.execute_reply": "2022-07-11T21:00:34.618914Z"
    },
    "tags": []
   },
   "outputs": [
    {
     "data": {
      "text/html": [
       "<div>\n",
       "<style scoped>\n",
       "    .dataframe tbody tr th:only-of-type {\n",
       "        vertical-align: middle;\n",
       "    }\n",
       "\n",
       "    .dataframe tbody tr th {\n",
       "        vertical-align: top;\n",
       "    }\n",
       "\n",
       "    .dataframe thead th {\n",
       "        text-align: right;\n",
       "    }\n",
       "</style>\n",
       "<table border=\"1\" class=\"dataframe\">\n",
       "  <thead>\n",
       "    <tr style=\"text-align: right;\">\n",
       "      <th>gender</th>\n",
       "      <th>female</th>\n",
       "      <th>male</th>\n",
       "      <th>ambiguous</th>\n",
       "      <th>unknown</th>\n",
       "      <th>no-author-rec</th>\n",
       "      <th>no-book-author</th>\n",
       "      <th>no-book</th>\n",
       "      <th>total</th>\n",
       "    </tr>\n",
       "    <tr>\n",
       "      <th>dataset</th>\n",
       "      <th></th>\n",
       "      <th></th>\n",
       "      <th></th>\n",
       "      <th></th>\n",
       "      <th></th>\n",
       "      <th></th>\n",
       "      <th></th>\n",
       "      <th></th>\n",
       "    </tr>\n",
       "  </thead>\n",
       "  <tbody>\n",
       "    <tr>\n",
       "      <th>AZ</th>\n",
       "      <td>NaN</td>\n",
       "      <td>NaN</td>\n",
       "      <td>NaN</td>\n",
       "      <td>NaN</td>\n",
       "      <td>135014.0</td>\n",
       "      <td>179826.0</td>\n",
       "      <td>911746.0</td>\n",
       "      <td>1226586.0</td>\n",
       "    </tr>\n",
       "    <tr>\n",
       "      <th>BX-E</th>\n",
       "      <td>NaN</td>\n",
       "      <td>NaN</td>\n",
       "      <td>NaN</td>\n",
       "      <td>NaN</td>\n",
       "      <td>5433.0</td>\n",
       "      <td>5615.0</td>\n",
       "      <td>20073.0</td>\n",
       "      <td>31121.0</td>\n",
       "    </tr>\n",
       "    <tr>\n",
       "      <th>BX-I</th>\n",
       "      <td>NaN</td>\n",
       "      <td>NaN</td>\n",
       "      <td>NaN</td>\n",
       "      <td>NaN</td>\n",
       "      <td>10946.0</td>\n",
       "      <td>11351.0</td>\n",
       "      <td>40631.0</td>\n",
       "      <td>62928.0</td>\n",
       "    </tr>\n",
       "    <tr>\n",
       "      <th>GR-E</th>\n",
       "      <td>NaN</td>\n",
       "      <td>NaN</td>\n",
       "      <td>NaN</td>\n",
       "      <td>NaN</td>\n",
       "      <td>48542.0</td>\n",
       "      <td>786747.0</td>\n",
       "      <td>NaN</td>\n",
       "      <td>835289.0</td>\n",
       "    </tr>\n",
       "    <tr>\n",
       "      <th>GR-I</th>\n",
       "      <td>NaN</td>\n",
       "      <td>NaN</td>\n",
       "      <td>NaN</td>\n",
       "      <td>NaN</td>\n",
       "      <td>48542.0</td>\n",
       "      <td>786747.0</td>\n",
       "      <td>NaN</td>\n",
       "      <td>835289.0</td>\n",
       "    </tr>\n",
       "    <tr>\n",
       "      <th>LOC-MDS</th>\n",
       "      <td>NaN</td>\n",
       "      <td>NaN</td>\n",
       "      <td>NaN</td>\n",
       "      <td>NaN</td>\n",
       "      <td>310413.0</td>\n",
       "      <td>609392.0</td>\n",
       "      <td>NaN</td>\n",
       "      <td>919805.0</td>\n",
       "    </tr>\n",
       "  </tbody>\n",
       "</table>\n",
       "</div>"
      ],
      "text/plain": [
       "gender   female  male  ambiguous  unknown  no-author-rec  no-book-author  \\\n",
       "dataset                                                                    \n",
       "AZ          NaN   NaN        NaN      NaN       135014.0        179826.0   \n",
       "BX-E        NaN   NaN        NaN      NaN         5433.0          5615.0   \n",
       "BX-I        NaN   NaN        NaN      NaN        10946.0         11351.0   \n",
       "GR-E        NaN   NaN        NaN      NaN        48542.0        786747.0   \n",
       "GR-I        NaN   NaN        NaN      NaN        48542.0        786747.0   \n",
       "LOC-MDS     NaN   NaN        NaN      NaN       310413.0        609392.0   \n",
       "\n",
       "gender    no-book      total  \n",
       "dataset                       \n",
       "AZ       911746.0  1226586.0  \n",
       "BX-E      20073.0    31121.0  \n",
       "BX-I      40631.0    62928.0  \n",
       "GR-E          NaN   835289.0  \n",
       "GR-I          NaN   835289.0  \n",
       "LOC-MDS       NaN   919805.0  "
      ]
     },
     "execution_count": 6,
     "metadata": {},
     "output_type": "execute_result"
    }
   ],
   "source": [
    "book_counts = link_stats.pivot('dataset', 'gender', 'n_books')\n",
    "book_counts = book_counts.reindex(columns=all_codes)\n",
    "book_counts.assign(total=book_counts.sum(axis=1))"
   ]
  },
  {
   "cell_type": "code",
   "execution_count": 7,
   "id": "746495d4",
   "metadata": {
    "execution": {
     "iopub.execute_input": "2022-07-11T21:00:34.624491Z",
     "iopub.status.busy": "2022-07-11T21:00:34.624103Z",
     "iopub.status.idle": "2022-07-11T21:00:34.648912Z",
     "shell.execute_reply": "2022-07-11T21:00:34.647910Z"
    },
    "tags": []
   },
   "outputs": [
    {
     "data": {
      "text/html": [
       "<div>\n",
       "<style scoped>\n",
       "    .dataframe tbody tr th:only-of-type {\n",
       "        vertical-align: middle;\n",
       "    }\n",
       "\n",
       "    .dataframe tbody tr th {\n",
       "        vertical-align: top;\n",
       "    }\n",
       "\n",
       "    .dataframe thead th {\n",
       "        text-align: right;\n",
       "    }\n",
       "</style>\n",
       "<table border=\"1\" class=\"dataframe\">\n",
       "  <thead>\n",
       "    <tr style=\"text-align: right;\">\n",
       "      <th>gender</th>\n",
       "      <th>female</th>\n",
       "      <th>male</th>\n",
       "      <th>ambiguous</th>\n",
       "      <th>unknown</th>\n",
       "      <th>no-author-rec</th>\n",
       "      <th>no-book-author</th>\n",
       "      <th>no-book</th>\n",
       "    </tr>\n",
       "    <tr>\n",
       "      <th>dataset</th>\n",
       "      <th></th>\n",
       "      <th></th>\n",
       "      <th></th>\n",
       "      <th></th>\n",
       "      <th></th>\n",
       "      <th></th>\n",
       "      <th></th>\n",
       "    </tr>\n",
       "  </thead>\n",
       "  <tbody>\n",
       "    <tr>\n",
       "      <th>AZ</th>\n",
       "      <td>NaN</td>\n",
       "      <td>NaN</td>\n",
       "      <td>NaN</td>\n",
       "      <td>NaN</td>\n",
       "      <td>900009.0</td>\n",
       "      <td>2662295.0</td>\n",
       "      <td>4211633.0</td>\n",
       "    </tr>\n",
       "    <tr>\n",
       "      <th>BX-E</th>\n",
       "      <td>NaN</td>\n",
       "      <td>NaN</td>\n",
       "      <td>NaN</td>\n",
       "      <td>NaN</td>\n",
       "      <td>6932.0</td>\n",
       "      <td>7616.0</td>\n",
       "      <td>23059.0</td>\n",
       "    </tr>\n",
       "    <tr>\n",
       "      <th>BX-I</th>\n",
       "      <td>NaN</td>\n",
       "      <td>NaN</td>\n",
       "      <td>NaN</td>\n",
       "      <td>NaN</td>\n",
       "      <td>18035.0</td>\n",
       "      <td>20423.0</td>\n",
       "      <td>56193.0</td>\n",
       "    </tr>\n",
       "    <tr>\n",
       "      <th>GR-E</th>\n",
       "      <td>NaN</td>\n",
       "      <td>NaN</td>\n",
       "      <td>NaN</td>\n",
       "      <td>NaN</td>\n",
       "      <td>950826.0</td>\n",
       "      <td>12291358.0</td>\n",
       "      <td>NaN</td>\n",
       "    </tr>\n",
       "    <tr>\n",
       "      <th>GR-I</th>\n",
       "      <td>NaN</td>\n",
       "      <td>NaN</td>\n",
       "      <td>NaN</td>\n",
       "      <td>NaN</td>\n",
       "      <td>950826.0</td>\n",
       "      <td>12291358.0</td>\n",
       "      <td>NaN</td>\n",
       "    </tr>\n",
       "  </tbody>\n",
       "</table>\n",
       "</div>"
      ],
      "text/plain": [
       "gender   female  male  ambiguous  unknown  no-author-rec  no-book-author  \\\n",
       "dataset                                                                    \n",
       "AZ          NaN   NaN        NaN      NaN       900009.0       2662295.0   \n",
       "BX-E        NaN   NaN        NaN      NaN         6932.0          7616.0   \n",
       "BX-I        NaN   NaN        NaN      NaN        18035.0         20423.0   \n",
       "GR-E        NaN   NaN        NaN      NaN       950826.0      12291358.0   \n",
       "GR-I        NaN   NaN        NaN      NaN       950826.0      12291358.0   \n",
       "\n",
       "gender     no-book  \n",
       "dataset             \n",
       "AZ       4211633.0  \n",
       "BX-E       23059.0  \n",
       "BX-I       56193.0  \n",
       "GR-E           NaN  \n",
       "GR-I           NaN  "
      ]
     },
     "execution_count": 7,
     "metadata": {},
     "output_type": "execute_result"
    }
   ],
   "source": [
    "act_counts = link_stats.pivot('dataset', 'gender', 'n_actions')\n",
    "act_counts = act_counts.reindex(columns=all_codes)\n",
    "act_counts.drop(index='LOC-MDS', inplace=True)\n",
    "act_counts"
   ]
  },
  {
   "cell_type": "markdown",
   "id": "471aa1cf",
   "metadata": {},
   "source": [
    "We're going to want to compute versions of this table as fractions, e.g. the fraction of books that are written by women.  We will use the following helper function:"
   ]
  },
  {
   "cell_type": "code",
   "execution_count": 8,
   "id": "9568cdf2",
   "metadata": {
    "execution": {
     "iopub.execute_input": "2022-07-11T21:00:34.660691Z",
     "iopub.status.busy": "2022-07-11T21:00:34.660162Z",
     "iopub.status.idle": "2022-07-11T21:00:34.670483Z",
     "shell.execute_reply": "2022-07-11T21:00:34.669008Z"
    }
   },
   "outputs": [],
   "source": [
    "def fractionalize(data, columns, unlinked=None):\n",
    "    fracs = data[columns]\n",
    "    fracs.columns = fracs.columns.astype('str')\n",
    "    if unlinked:\n",
    "        fracs = fracs.assign(unlinked=data[unlinked].sum(axis=1))\n",
    "    totals = fracs.sum(axis=1)\n",
    "    return fracs.divide(totals, axis=0)"
   ]
  },
  {
   "cell_type": "markdown",
   "id": "1c237e9d",
   "metadata": {},
   "source": [
    "And a helper function for plotting bar charts:"
   ]
  },
  {
   "cell_type": "code",
   "execution_count": 9,
   "id": "054932e6",
   "metadata": {
    "execution": {
     "iopub.execute_input": "2022-07-11T21:00:34.677835Z",
     "iopub.status.busy": "2022-07-11T21:00:34.677306Z",
     "iopub.status.idle": "2022-07-11T21:00:34.696075Z",
     "shell.execute_reply": "2022-07-11T21:00:34.694580Z"
    }
   },
   "outputs": [],
   "source": [
    "def plot_bars(fracs, ax=None, cmap=mpl.cm.Dark2):\n",
    "    if ax is None:\n",
    "        ax = plt.gca()\n",
    "    size = 0.5\n",
    "    ind = np.arange(len(fracs))\n",
    "    start = pd.Series(0, index=fracs.index)\n",
    "    for i, col in enumerate(fracs.columns):\n",
    "        vals = fracs.iloc[:, i]\n",
    "        rects = ax.barh(ind, vals, size, left=start, label=col, color=cmap(i))\n",
    "        for j, rec in enumerate(rects):\n",
    "            if vals.iloc[j] < 0.1 or np.isnan(vals.iloc[j]): continue\n",
    "            y = rec.get_y() + rec.get_height() / 2\n",
    "            x = start.iloc[j] + vals.iloc[j] / 2\n",
    "            ax.annotate('{:.1f}%'.format(vals.iloc[j] * 100),\n",
    "                        xy=(x,y), ha='center', va='center', color='white',\n",
    "                        fontweight='bold')\n",
    "        start += vals.fillna(0)\n",
    "    ax.set_xlabel('Fraction of Books')\n",
    "    ax.set_ylabel('Data Set')\n",
    "    ax.set_yticks(ind)\n",
    "    ax.set_yticklabels(fracs.index)\n",
    "    ax.legend(loc='center left', bbox_to_anchor=(1, 0.5))"
   ]
  },
  {
   "cell_type": "markdown",
   "id": "9fd3a4e3",
   "metadata": {},
   "source": [
    "## Resolution of Books\n",
    "\n",
    "What fraction of *unique books* are resolved from each source?"
   ]
  },
  {
   "cell_type": "code",
   "execution_count": 10,
   "id": "328c4733",
   "metadata": {
    "execution": {
     "iopub.execute_input": "2022-07-11T21:00:34.704028Z",
     "iopub.status.busy": "2022-07-11T21:00:34.703435Z",
     "iopub.status.idle": "2022-07-11T21:00:34.742775Z",
     "shell.execute_reply": "2022-07-11T21:00:34.740658Z"
    }
   },
   "outputs": [
    {
     "data": {
      "text/html": [
       "<div>\n",
       "<style scoped>\n",
       "    .dataframe tbody tr th:only-of-type {\n",
       "        vertical-align: middle;\n",
       "    }\n",
       "\n",
       "    .dataframe tbody tr th {\n",
       "        vertical-align: top;\n",
       "    }\n",
       "\n",
       "    .dataframe thead th {\n",
       "        text-align: right;\n",
       "    }\n",
       "</style>\n",
       "<table border=\"1\" class=\"dataframe\">\n",
       "  <thead>\n",
       "    <tr style=\"text-align: right;\">\n",
       "      <th>gender</th>\n",
       "      <th>female</th>\n",
       "      <th>male</th>\n",
       "      <th>ambiguous</th>\n",
       "      <th>unknown</th>\n",
       "      <th>no-author-rec</th>\n",
       "      <th>no-book-author</th>\n",
       "      <th>no-book</th>\n",
       "    </tr>\n",
       "    <tr>\n",
       "      <th>dataset</th>\n",
       "      <th></th>\n",
       "      <th></th>\n",
       "      <th></th>\n",
       "      <th></th>\n",
       "      <th></th>\n",
       "      <th></th>\n",
       "      <th></th>\n",
       "    </tr>\n",
       "  </thead>\n",
       "  <tbody>\n",
       "    <tr>\n",
       "      <th>AZ</th>\n",
       "      <td>NaN</td>\n",
       "      <td>NaN</td>\n",
       "      <td>NaN</td>\n",
       "      <td>NaN</td>\n",
       "      <td>0.110073</td>\n",
       "      <td>0.146607</td>\n",
       "      <td>0.743320</td>\n",
       "    </tr>\n",
       "    <tr>\n",
       "      <th>BX-E</th>\n",
       "      <td>NaN</td>\n",
       "      <td>NaN</td>\n",
       "      <td>NaN</td>\n",
       "      <td>NaN</td>\n",
       "      <td>0.174577</td>\n",
       "      <td>0.180425</td>\n",
       "      <td>0.644999</td>\n",
       "    </tr>\n",
       "    <tr>\n",
       "      <th>BX-I</th>\n",
       "      <td>NaN</td>\n",
       "      <td>NaN</td>\n",
       "      <td>NaN</td>\n",
       "      <td>NaN</td>\n",
       "      <td>0.173945</td>\n",
       "      <td>0.180381</td>\n",
       "      <td>0.645674</td>\n",
       "    </tr>\n",
       "    <tr>\n",
       "      <th>GR-E</th>\n",
       "      <td>NaN</td>\n",
       "      <td>NaN</td>\n",
       "      <td>NaN</td>\n",
       "      <td>NaN</td>\n",
       "      <td>0.058114</td>\n",
       "      <td>0.941886</td>\n",
       "      <td>NaN</td>\n",
       "    </tr>\n",
       "    <tr>\n",
       "      <th>GR-I</th>\n",
       "      <td>NaN</td>\n",
       "      <td>NaN</td>\n",
       "      <td>NaN</td>\n",
       "      <td>NaN</td>\n",
       "      <td>0.058114</td>\n",
       "      <td>0.941886</td>\n",
       "      <td>NaN</td>\n",
       "    </tr>\n",
       "    <tr>\n",
       "      <th>LOC-MDS</th>\n",
       "      <td>NaN</td>\n",
       "      <td>NaN</td>\n",
       "      <td>NaN</td>\n",
       "      <td>NaN</td>\n",
       "      <td>0.337477</td>\n",
       "      <td>0.662523</td>\n",
       "      <td>NaN</td>\n",
       "    </tr>\n",
       "  </tbody>\n",
       "</table>\n",
       "</div>"
      ],
      "text/plain": [
       "gender   female  male  ambiguous  unknown  no-author-rec  no-book-author  \\\n",
       "dataset                                                                    \n",
       "AZ          NaN   NaN        NaN      NaN       0.110073        0.146607   \n",
       "BX-E        NaN   NaN        NaN      NaN       0.174577        0.180425   \n",
       "BX-I        NaN   NaN        NaN      NaN       0.173945        0.180381   \n",
       "GR-E        NaN   NaN        NaN      NaN       0.058114        0.941886   \n",
       "GR-I        NaN   NaN        NaN      NaN       0.058114        0.941886   \n",
       "LOC-MDS     NaN   NaN        NaN      NaN       0.337477        0.662523   \n",
       "\n",
       "gender    no-book  \n",
       "dataset            \n",
       "AZ       0.743320  \n",
       "BX-E     0.644999  \n",
       "BX-I     0.645674  \n",
       "GR-E          NaN  \n",
       "GR-I          NaN  \n",
       "LOC-MDS       NaN  "
      ]
     },
     "execution_count": 10,
     "metadata": {},
     "output_type": "execute_result"
    }
   ],
   "source": [
    "fractionalize(book_counts, link_codes + unlink_codes)"
   ]
  },
  {
   "cell_type": "code",
   "execution_count": 11,
   "id": "c69c2412",
   "metadata": {
    "execution": {
     "iopub.execute_input": "2022-07-11T21:00:34.750637Z",
     "iopub.status.busy": "2022-07-11T21:00:34.750012Z",
     "iopub.status.idle": "2022-07-11T21:00:35.367825Z",
     "shell.execute_reply": "2022-07-11T21:00:35.366957Z"
    }
   },
   "outputs": [
    {
     "data": {
      "image/png": "[encoded data removed]",
      "text/plain": [
       "<Figure size 432x288 with 1 Axes>"
      ]
     },
     "metadata": {
      "needs_background": "light"
     },
     "output_type": "display_data"
    }
   ],
   "source": [
    "plot_bars(fractionalize(book_counts, link_codes + unlink_codes))"
   ]
  },
  {
   "cell_type": "code",
   "execution_count": 12,
   "id": "a5ea1538",
   "metadata": {
    "execution": {
     "iopub.execute_input": "2022-07-11T21:00:35.374799Z",
     "iopub.status.busy": "2022-07-11T21:00:35.374436Z",
     "iopub.status.idle": "2022-07-11T21:00:35.394780Z",
     "shell.execute_reply": "2022-07-11T21:00:35.393616Z"
    }
   },
   "outputs": [
    {
     "data": {
      "text/html": [
       "<div>\n",
       "<style scoped>\n",
       "    .dataframe tbody tr th:only-of-type {\n",
       "        vertical-align: middle;\n",
       "    }\n",
       "\n",
       "    .dataframe tbody tr th {\n",
       "        vertical-align: top;\n",
       "    }\n",
       "\n",
       "    .dataframe thead th {\n",
       "        text-align: right;\n",
       "    }\n",
       "</style>\n",
       "<table border=\"1\" class=\"dataframe\">\n",
       "  <thead>\n",
       "    <tr style=\"text-align: right;\">\n",
       "      <th>gender</th>\n",
       "      <th>female</th>\n",
       "      <th>male</th>\n",
       "      <th>ambiguous</th>\n",
       "      <th>unknown</th>\n",
       "      <th>unlinked</th>\n",
       "    </tr>\n",
       "    <tr>\n",
       "      <th>dataset</th>\n",
       "      <th></th>\n",
       "      <th></th>\n",
       "      <th></th>\n",
       "      <th></th>\n",
       "      <th></th>\n",
       "    </tr>\n",
       "  </thead>\n",
       "  <tbody>\n",
       "    <tr>\n",
       "      <th>AZ</th>\n",
       "      <td>NaN</td>\n",
       "      <td>NaN</td>\n",
       "      <td>NaN</td>\n",
       "      <td>NaN</td>\n",
       "      <td>1.0</td>\n",
       "    </tr>\n",
       "    <tr>\n",
       "      <th>BX-E</th>\n",
       "      <td>NaN</td>\n",
       "      <td>NaN</td>\n",
       "      <td>NaN</td>\n",
       "      <td>NaN</td>\n",
       "      <td>1.0</td>\n",
       "    </tr>\n",
       "    <tr>\n",
       "      <th>BX-I</th>\n",
       "      <td>NaN</td>\n",
       "      <td>NaN</td>\n",
       "      <td>NaN</td>\n",
       "      <td>NaN</td>\n",
       "      <td>1.0</td>\n",
       "    </tr>\n",
       "    <tr>\n",
       "      <th>GR-E</th>\n",
       "      <td>NaN</td>\n",
       "      <td>NaN</td>\n",
       "      <td>NaN</td>\n",
       "      <td>NaN</td>\n",
       "      <td>1.0</td>\n",
       "    </tr>\n",
       "    <tr>\n",
       "      <th>GR-I</th>\n",
       "      <td>NaN</td>\n",
       "      <td>NaN</td>\n",
       "      <td>NaN</td>\n",
       "      <td>NaN</td>\n",
       "      <td>1.0</td>\n",
       "    </tr>\n",
       "    <tr>\n",
       "      <th>LOC-MDS</th>\n",
       "      <td>NaN</td>\n",
       "      <td>NaN</td>\n",
       "      <td>NaN</td>\n",
       "      <td>NaN</td>\n",
       "      <td>1.0</td>\n",
       "    </tr>\n",
       "  </tbody>\n",
       "</table>\n",
       "</div>"
      ],
      "text/plain": [
       "gender   female  male  ambiguous  unknown  unlinked\n",
       "dataset                                            \n",
       "AZ          NaN   NaN        NaN      NaN       1.0\n",
       "BX-E        NaN   NaN        NaN      NaN       1.0\n",
       "BX-I        NaN   NaN        NaN      NaN       1.0\n",
       "GR-E        NaN   NaN        NaN      NaN       1.0\n",
       "GR-I        NaN   NaN        NaN      NaN       1.0\n",
       "LOC-MDS     NaN   NaN        NaN      NaN       1.0"
      ]
     },
     "execution_count": 12,
     "metadata": {},
     "output_type": "execute_result"
    }
   ],
   "source": [
    "fractionalize(book_counts, link_codes, unlink_codes)"
   ]
  },
  {
   "cell_type": "code",
   "execution_count": 13,
   "id": "b55af65a",
   "metadata": {
    "execution": {
     "iopub.execute_input": "2022-07-11T21:00:35.399895Z",
     "iopub.status.busy": "2022-07-11T21:00:35.399324Z",
     "iopub.status.idle": "2022-07-11T21:00:35.750478Z",
     "shell.execute_reply": "2022-07-11T21:00:35.749526Z"
    }
   },
   "outputs": [
    {
     "data": {
      "image/png": "[encoded data removed]",
      "text/plain": [
       "<Figure size 432x288 with 1 Axes>"
      ]
     },
     "metadata": {
      "needs_background": "light"
     },
     "output_type": "display_data"
    }
   ],
   "source": [
    "plot_bars(fractionalize(book_counts, link_codes, unlink_codes))"
   ]
  },
  {
   "cell_type": "code",
   "execution_count": 14,
   "id": "6de5a030",
   "metadata": {
    "execution": {
     "iopub.execute_input": "2022-07-11T21:00:35.755290Z",
     "iopub.status.busy": "2022-07-11T21:00:35.754916Z",
     "iopub.status.idle": "2022-07-11T21:00:35.973916Z",
     "shell.execute_reply": "2022-07-11T21:00:35.972907Z"
    }
   },
   "outputs": [
    {
     "data": {
      "image/png": "[encoded data removed]",
      "text/plain": [
       "<Figure size 432x288 with 1 Axes>"
      ]
     },
     "metadata": {
      "needs_background": "light"
     },
     "output_type": "display_data"
    }
   ],
   "source": [
    "plot_bars(fractionalize(book_counts, ['female', 'male']))"
   ]
  },
  {
   "cell_type": "markdown",
   "id": "2e40b58a",
   "metadata": {},
   "source": [
    "## Resolution of Ratings\n",
    "\n",
    "What fraction of *rating actions* have each resolution result?"
   ]
  },
  {
   "cell_type": "code",
   "execution_count": 15,
   "id": "d86a8fcc",
   "metadata": {
    "execution": {
     "iopub.execute_input": "2022-07-11T21:00:35.978535Z",
     "iopub.status.busy": "2022-07-11T21:00:35.978086Z",
     "iopub.status.idle": "2022-07-11T21:00:35.996756Z",
     "shell.execute_reply": "2022-07-11T21:00:35.995849Z"
    }
   },
   "outputs": [
    {
     "data": {
      "text/html": [
       "<div>\n",
       "<style scoped>\n",
       "    .dataframe tbody tr th:only-of-type {\n",
       "        vertical-align: middle;\n",
       "    }\n",
       "\n",
       "    .dataframe tbody tr th {\n",
       "        vertical-align: top;\n",
       "    }\n",
       "\n",
       "    .dataframe thead th {\n",
       "        text-align: right;\n",
       "    }\n",
       "</style>\n",
       "<table border=\"1\" class=\"dataframe\">\n",
       "  <thead>\n",
       "    <tr style=\"text-align: right;\">\n",
       "      <th>gender</th>\n",
       "      <th>female</th>\n",
       "      <th>male</th>\n",
       "      <th>ambiguous</th>\n",
       "      <th>unknown</th>\n",
       "      <th>no-author-rec</th>\n",
       "      <th>no-book-author</th>\n",
       "      <th>no-book</th>\n",
       "    </tr>\n",
       "    <tr>\n",
       "      <th>dataset</th>\n",
       "      <th></th>\n",
       "      <th></th>\n",
       "      <th></th>\n",
       "      <th></th>\n",
       "      <th></th>\n",
       "      <th></th>\n",
       "      <th></th>\n",
       "    </tr>\n",
       "  </thead>\n",
       "  <tbody>\n",
       "    <tr>\n",
       "      <th>AZ</th>\n",
       "      <td>NaN</td>\n",
       "      <td>NaN</td>\n",
       "      <td>NaN</td>\n",
       "      <td>NaN</td>\n",
       "      <td>0.115773</td>\n",
       "      <td>0.342464</td>\n",
       "      <td>0.541763</td>\n",
       "    </tr>\n",
       "    <tr>\n",
       "      <th>BX-E</th>\n",
       "      <td>NaN</td>\n",
       "      <td>NaN</td>\n",
       "      <td>NaN</td>\n",
       "      <td>NaN</td>\n",
       "      <td>0.184327</td>\n",
       "      <td>0.202515</td>\n",
       "      <td>0.613157</td>\n",
       "    </tr>\n",
       "    <tr>\n",
       "      <th>BX-I</th>\n",
       "      <td>NaN</td>\n",
       "      <td>NaN</td>\n",
       "      <td>NaN</td>\n",
       "      <td>NaN</td>\n",
       "      <td>0.190542</td>\n",
       "      <td>0.215772</td>\n",
       "      <td>0.593686</td>\n",
       "    </tr>\n",
       "    <tr>\n",
       "      <th>GR-E</th>\n",
       "      <td>NaN</td>\n",
       "      <td>NaN</td>\n",
       "      <td>NaN</td>\n",
       "      <td>NaN</td>\n",
       "      <td>0.071803</td>\n",
       "      <td>0.928197</td>\n",
       "      <td>NaN</td>\n",
       "    </tr>\n",
       "    <tr>\n",
       "      <th>GR-I</th>\n",
       "      <td>NaN</td>\n",
       "      <td>NaN</td>\n",
       "      <td>NaN</td>\n",
       "      <td>NaN</td>\n",
       "      <td>0.071803</td>\n",
       "      <td>0.928197</td>\n",
       "      <td>NaN</td>\n",
       "    </tr>\n",
       "  </tbody>\n",
       "</table>\n",
       "</div>"
      ],
      "text/plain": [
       "gender   female  male  ambiguous  unknown  no-author-rec  no-book-author  \\\n",
       "dataset                                                                    \n",
       "AZ          NaN   NaN        NaN      NaN       0.115773        0.342464   \n",
       "BX-E        NaN   NaN        NaN      NaN       0.184327        0.202515   \n",
       "BX-I        NaN   NaN        NaN      NaN       0.190542        0.215772   \n",
       "GR-E        NaN   NaN        NaN      NaN       0.071803        0.928197   \n",
       "GR-I        NaN   NaN        NaN      NaN       0.071803        0.928197   \n",
       "\n",
       "gender    no-book  \n",
       "dataset            \n",
       "AZ       0.541763  \n",
       "BX-E     0.613157  \n",
       "BX-I     0.593686  \n",
       "GR-E          NaN  \n",
       "GR-I          NaN  "
      ]
     },
     "execution_count": 15,
     "metadata": {},
     "output_type": "execute_result"
    }
   ],
   "source": [
    "fractionalize(act_counts, link_codes + unlink_codes)"
   ]
  },
  {
   "cell_type": "code",
   "execution_count": 16,
   "id": "e1a44d30",
   "metadata": {
    "execution": {
     "iopub.execute_input": "2022-07-11T21:00:36.000886Z",
     "iopub.status.busy": "2022-07-11T21:00:36.000545Z",
     "iopub.status.idle": "2022-07-11T21:00:36.402389Z",
     "shell.execute_reply": "2022-07-11T21:00:36.401359Z"
    }
   },
   "outputs": [
    {
     "data": {
      "image/png": "[encoded data removed]",
      "text/plain": [
       "<Figure size 432x288 with 1 Axes>"
      ]
     },
     "metadata": {
      "needs_background": "light"
     },
     "output_type": "display_data"
    }
   ],
   "source": [
    "plot_bars(fractionalize(act_counts, link_codes + unlink_codes))"
   ]
  },
  {
   "cell_type": "code",
   "execution_count": 17,
   "id": "d8dd5ab2",
   "metadata": {
    "execution": {
     "iopub.execute_input": "2022-07-11T21:00:36.406730Z",
     "iopub.status.busy": "2022-07-11T21:00:36.406382Z",
     "iopub.status.idle": "2022-07-11T21:00:36.425729Z",
     "shell.execute_reply": "2022-07-11T21:00:36.424841Z"
    }
   },
   "outputs": [
    {
     "data": {
      "text/html": [
       "<div>\n",
       "<style scoped>\n",
       "    .dataframe tbody tr th:only-of-type {\n",
       "        vertical-align: middle;\n",
       "    }\n",
       "\n",
       "    .dataframe tbody tr th {\n",
       "        vertical-align: top;\n",
       "    }\n",
       "\n",
       "    .dataframe thead th {\n",
       "        text-align: right;\n",
       "    }\n",
       "</style>\n",
       "<table border=\"1\" class=\"dataframe\">\n",
       "  <thead>\n",
       "    <tr style=\"text-align: right;\">\n",
       "      <th>gender</th>\n",
       "      <th>female</th>\n",
       "      <th>male</th>\n",
       "      <th>ambiguous</th>\n",
       "      <th>unknown</th>\n",
       "      <th>unlinked</th>\n",
       "    </tr>\n",
       "    <tr>\n",
       "      <th>dataset</th>\n",
       "      <th></th>\n",
       "      <th></th>\n",
       "      <th></th>\n",
       "      <th></th>\n",
       "      <th></th>\n",
       "    </tr>\n",
       "  </thead>\n",
       "  <tbody>\n",
       "    <tr>\n",
       "      <th>AZ</th>\n",
       "      <td>NaN</td>\n",
       "      <td>NaN</td>\n",
       "      <td>NaN</td>\n",
       "      <td>NaN</td>\n",
       "      <td>1.0</td>\n",
       "    </tr>\n",
       "    <tr>\n",
       "      <th>BX-E</th>\n",
       "      <td>NaN</td>\n",
       "      <td>NaN</td>\n",
       "      <td>NaN</td>\n",
       "      <td>NaN</td>\n",
       "      <td>1.0</td>\n",
       "    </tr>\n",
       "    <tr>\n",
       "      <th>BX-I</th>\n",
       "      <td>NaN</td>\n",
       "      <td>NaN</td>\n",
       "      <td>NaN</td>\n",
       "      <td>NaN</td>\n",
       "      <td>1.0</td>\n",
       "    </tr>\n",
       "    <tr>\n",
       "      <th>GR-E</th>\n",
       "      <td>NaN</td>\n",
       "      <td>NaN</td>\n",
       "      <td>NaN</td>\n",
       "      <td>NaN</td>\n",
       "      <td>1.0</td>\n",
       "    </tr>\n",
       "    <tr>\n",
       "      <th>GR-I</th>\n",
       "      <td>NaN</td>\n",
       "      <td>NaN</td>\n",
       "      <td>NaN</td>\n",
       "      <td>NaN</td>\n",
       "      <td>1.0</td>\n",
       "    </tr>\n",
       "  </tbody>\n",
       "</table>\n",
       "</div>"
      ],
      "text/plain": [
       "gender   female  male  ambiguous  unknown  unlinked\n",
       "dataset                                            \n",
       "AZ          NaN   NaN        NaN      NaN       1.0\n",
       "BX-E        NaN   NaN        NaN      NaN       1.0\n",
       "BX-I        NaN   NaN        NaN      NaN       1.0\n",
       "GR-E        NaN   NaN        NaN      NaN       1.0\n",
       "GR-I        NaN   NaN        NaN      NaN       1.0"
      ]
     },
     "execution_count": 17,
     "metadata": {},
     "output_type": "execute_result"
    }
   ],
   "source": [
    "fractionalize(act_counts, link_codes, unlink_codes)"
   ]
  },
  {
   "cell_type": "code",
   "execution_count": 18,
   "id": "a02369e3",
   "metadata": {
    "execution": {
     "iopub.execute_input": "2022-07-11T21:00:36.429908Z",
     "iopub.status.busy": "2022-07-11T21:00:36.429493Z",
     "iopub.status.idle": "2022-07-11T21:00:36.742468Z",
     "shell.execute_reply": "2022-07-11T21:00:36.741542Z"
    }
   },
   "outputs": [
    {
     "data": {
      "image/png": "[encoded data removed]",
      "text/plain": [
       "<Figure size 432x288 with 1 Axes>"
      ]
     },
     "metadata": {
      "needs_background": "light"
     },
     "output_type": "display_data"
    }
   ],
   "source": [
    "plot_bars(fractionalize(act_counts, link_codes, unlink_codes))"
   ]
  },
  {
   "cell_type": "code",
   "execution_count": 19,
   "id": "07f1b2d2",
   "metadata": {
    "execution": {
     "iopub.execute_input": "2022-07-11T21:00:36.747166Z",
     "iopub.status.busy": "2022-07-11T21:00:36.746725Z",
     "iopub.status.idle": "2022-07-11T21:00:36.953298Z",
     "shell.execute_reply": "2022-07-11T21:00:36.952247Z"
    }
   },
   "outputs": [
    {
     "data": {
      "image/png": "[encoded data removed]",
      "text/plain": [
       "<Figure size 432x288 with 1 Axes>"
      ]
     },
     "metadata": {
      "needs_background": "light"
     },
     "output_type": "display_data"
    }
   ],
   "source": [
    "plot_bars(fractionalize(act_counts, ['female', 'male']))"
   ]
  },
  {
   "cell_type": "markdown",
   "id": "4b54c1f5",
   "metadata": {},
   "source": [
    "## Metrics\n",
    "\n",
    "Finally, we're going to write coverage metrics."
   ]
  },
  {
   "cell_type": "code",
   "execution_count": 20,
   "id": "748dc878",
   "metadata": {
    "execution": {
     "iopub.execute_input": "2022-07-11T21:00:36.957919Z",
     "iopub.status.busy": "2022-07-11T21:00:36.957494Z",
     "iopub.status.idle": "2022-07-11T21:00:36.967981Z",
     "shell.execute_reply": "2022-07-11T21:00:36.966996Z"
    }
   },
   "outputs": [
    {
     "data": {
      "text/plain": [
       "dataset\n",
       "AZ        NaN\n",
       "BX-E      NaN\n",
       "BX-I      NaN\n",
       "GR-E      NaN\n",
       "GR-I      NaN\n",
       "LOC-MDS   NaN\n",
       "dtype: float64"
      ]
     },
     "execution_count": 20,
     "metadata": {},
     "output_type": "execute_result"
    }
   ],
   "source": [
    "book_tots = book_counts.sum(axis=1)\n",
    "book_link = book_counts['male'] + book_counts['female'] + book_counts['ambiguous']\n",
    "book_cover = book_link / book_tots\n",
    "book_cover"
   ]
  },
  {
   "cell_type": "code",
   "execution_count": 21,
   "id": "c11281c4",
   "metadata": {
    "execution": {
     "iopub.execute_input": "2022-07-11T21:00:36.972104Z",
     "iopub.status.busy": "2022-07-11T21:00:36.971765Z",
     "iopub.status.idle": "2022-07-11T21:00:36.977104Z",
     "shell.execute_reply": "2022-07-11T21:00:36.976123Z"
    }
   },
   "outputs": [],
   "source": [
    "book_cover.to_json('book-coverage.json')"
   ]
  },
  {
   "cell_type": "code",
   "execution_count": null,
   "id": "79095491",
   "metadata": {},
   "outputs": [],
   "source": []
  }
 ],
 "metadata": {
  "jupytext": {
   "formats": "ipynb,py:percent"
  },
  "kernelspec": {
   "display_name": "Python 3 (ipykernel)",
   "language": "python",
   "name": "python3"
  },
  "language_info": {
   "codemirror_mode": {
    "name": "ipython",
    "version": 3
   },
   "file_extension": ".py",
   "mimetype": "text/x-python",
   "name": "python",
   "nbconvert_exporter": "python",
   "pygments_lexer": "ipython3",
   "version": "3.9.13"
  }
 },
 "nbformat": 4,
 "nbformat_minor": 5
}
