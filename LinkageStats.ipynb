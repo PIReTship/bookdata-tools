{
 "cells": [
  {
   "cell_type": "markdown",
   "id": "4b915d73",
   "metadata": {},
   "source": [
    "# Book Data Linkage Statistics\n",
    "\n",
    "This notebook presents statistics of the book data integration."
   ]
  },
  {
   "cell_type": "markdown",
   "id": "94b483cb",
   "metadata": {},
   "source": [
    "## Setup"
   ]
  },
  {
   "cell_type": "code",
   "execution_count": 1,
   "id": "29f799b7",
   "metadata": {
    "execution": {
     "iopub.execute_input": "2021-12-06T20:47:37.025841Z",
     "iopub.status.busy": "2021-12-06T20:47:37.024275Z",
     "iopub.status.idle": "2021-12-06T20:47:46.256941Z",
     "shell.execute_reply": "2021-12-06T20:47:46.258128Z"
    },
    "tags": []
   },
   "outputs": [],
   "source": [
    "import pandas as pd\n",
    "import seaborn as sns\n",
    "import matplotlib as mpl\n",
    "import matplotlib.pyplot as plt\n",
    "import numpy as np"
   ]
  },
  {
   "cell_type": "markdown",
   "id": "be30981c",
   "metadata": {},
   "source": [
    "## Load Link Stats\n",
    "\n",
    "We compute dataset linking statitsics as `gender-stats.csv` using DataFusion.  Let's load those:"
   ]
  },
  {
   "cell_type": "code",
   "execution_count": 2,
   "id": "e38068a4",
   "metadata": {
    "execution": {
     "iopub.execute_input": "2021-12-06T20:47:46.270011Z",
     "iopub.status.busy": "2021-12-06T20:47:46.268648Z",
     "iopub.status.idle": "2021-12-06T20:47:46.302856Z",
     "shell.execute_reply": "2021-12-06T20:47:46.303993Z"
    },
    "tags": []
   },
   "outputs": [
    {
     "data": {
      "text/html": [
       "<div>\n",
       "<style scoped>\n",
       "    .dataframe tbody tr th:only-of-type {\n",
       "        vertical-align: middle;\n",
       "    }\n",
       "\n",
       "    .dataframe tbody tr th {\n",
       "        vertical-align: top;\n",
       "    }\n",
       "\n",
       "    .dataframe thead th {\n",
       "        text-align: right;\n",
       "    }\n",
       "</style>\n",
       "<table border=\"1\" class=\"dataframe\">\n",
       "  <thead>\n",
       "    <tr style=\"text-align: right;\">\n",
       "      <th></th>\n",
       "      <th>dataset</th>\n",
       "      <th>gender</th>\n",
       "      <th>n_books</th>\n",
       "      <th>n_actions</th>\n",
       "    </tr>\n",
       "  </thead>\n",
       "  <tbody>\n",
       "    <tr>\n",
       "      <th>0</th>\n",
       "      <td>BX-E</td>\n",
       "      <td>no-author-rec</td>\n",
       "      <td>6875</td>\n",
       "      <td>8759</td>\n",
       "    </tr>\n",
       "    <tr>\n",
       "      <th>1</th>\n",
       "      <td>BX-E</td>\n",
       "      <td>no-book</td>\n",
       "      <td>21884</td>\n",
       "      <td>25524</td>\n",
       "    </tr>\n",
       "    <tr>\n",
       "      <th>2</th>\n",
       "      <td>BX-E</td>\n",
       "      <td>female</td>\n",
       "      <td>38089</td>\n",
       "      <td>138864</td>\n",
       "    </tr>\n",
       "    <tr>\n",
       "      <th>3</th>\n",
       "      <td>BX-E</td>\n",
       "      <td>ambiguous</td>\n",
       "      <td>4209</td>\n",
       "      <td>31171</td>\n",
       "    </tr>\n",
       "    <tr>\n",
       "      <th>4</th>\n",
       "      <td>BX-E</td>\n",
       "      <td>unknown</td>\n",
       "      <td>17003</td>\n",
       "      <td>27577</td>\n",
       "    </tr>\n",
       "  </tbody>\n",
       "</table>\n",
       "</div>"
      ],
      "text/plain": [
       "  dataset         gender  n_books  n_actions\n",
       "0    BX-E  no-author-rec     6875       8759\n",
       "1    BX-E        no-book    21884      25524\n",
       "2    BX-E         female    38089     138864\n",
       "3    BX-E      ambiguous     4209      31171\n",
       "4    BX-E        unknown    17003      27577"
      ]
     },
     "execution_count": 2,
     "metadata": {},
     "output_type": "execute_result"
    }
   ],
   "source": [
    "link_stats = pd.read_csv('book-links/gender-stats.csv')\n",
    "link_stats.head()"
   ]
  },
  {
   "cell_type": "markdown",
   "id": "f6caf492",
   "metadata": {},
   "source": [
    "Now let's define variables for our variou codes. We are first going to define our gender codes.  We'll start with the resolved codes:"
   ]
  },
  {
   "cell_type": "code",
   "execution_count": 3,
   "id": "21268fe6",
   "metadata": {
    "execution": {
     "iopub.execute_input": "2021-12-06T20:47:46.313529Z",
     "iopub.status.busy": "2021-12-06T20:47:46.312122Z",
     "iopub.status.idle": "2021-12-06T20:47:46.317505Z",
     "shell.execute_reply": "2021-12-06T20:47:46.316307Z"
    },
    "tags": []
   },
   "outputs": [],
   "source": [
    "link_codes = ['female', 'male', 'ambiguous', 'unknown']"
   ]
  },
  {
   "cell_type": "markdown",
   "id": "56b1f77b",
   "metadata": {},
   "source": [
    "We want the unlink codes in order, so the last is the first link failure:"
   ]
  },
  {
   "cell_type": "code",
   "execution_count": 4,
   "id": "aaf502ff",
   "metadata": {
    "execution": {
     "iopub.execute_input": "2021-12-06T20:47:46.326992Z",
     "iopub.status.busy": "2021-12-06T20:47:46.325590Z",
     "iopub.status.idle": "2021-12-06T20:47:46.329626Z",
     "shell.execute_reply": "2021-12-06T20:47:46.330755Z"
    },
    "tags": []
   },
   "outputs": [],
   "source": [
    "unlink_codes = ['no-author-rec', 'no-book-author', 'no-book']"
   ]
  },
  {
   "cell_type": "code",
   "execution_count": 5,
   "id": "d08ef666",
   "metadata": {
    "execution": {
     "iopub.execute_input": "2021-12-06T20:47:46.339693Z",
     "iopub.status.busy": "2021-12-06T20:47:46.338104Z",
     "iopub.status.idle": "2021-12-06T20:47:46.342222Z",
     "shell.execute_reply": "2021-12-06T20:47:46.343314Z"
    },
    "tags": []
   },
   "outputs": [],
   "source": [
    "all_codes = link_codes + unlink_codes"
   ]
  },
  {
   "cell_type": "markdown",
   "id": "341dc988",
   "metadata": {},
   "source": [
    "## Processing Statistics\n",
    "\n",
    "Now we'll pivot each of our count columns into a table for easier reference."
   ]
  },
  {
   "cell_type": "code",
   "execution_count": 6,
   "id": "9411ad8a",
   "metadata": {
    "execution": {
     "iopub.execute_input": "2021-12-06T20:47:46.396091Z",
     "iopub.status.busy": "2021-12-06T20:47:46.394718Z",
     "iopub.status.idle": "2021-12-06T20:47:46.401301Z",
     "shell.execute_reply": "2021-12-06T20:47:46.402433Z"
    },
    "tags": []
   },
   "outputs": [
    {
     "data": {
      "text/html": [
       "<div>\n",
       "<style scoped>\n",
       "    .dataframe tbody tr th:only-of-type {\n",
       "        vertical-align: middle;\n",
       "    }\n",
       "\n",
       "    .dataframe tbody tr th {\n",
       "        vertical-align: top;\n",
       "    }\n",
       "\n",
       "    .dataframe thead th {\n",
       "        text-align: right;\n",
       "    }\n",
       "</style>\n",
       "<table border=\"1\" class=\"dataframe\">\n",
       "  <thead>\n",
       "    <tr style=\"text-align: right;\">\n",
       "      <th>gender</th>\n",
       "      <th>female</th>\n",
       "      <th>male</th>\n",
       "      <th>ambiguous</th>\n",
       "      <th>unknown</th>\n",
       "      <th>no-author-rec</th>\n",
       "      <th>no-book-author</th>\n",
       "      <th>no-book</th>\n",
       "      <th>total</th>\n",
       "    </tr>\n",
       "    <tr>\n",
       "      <th>dataset</th>\n",
       "      <th></th>\n",
       "      <th></th>\n",
       "      <th></th>\n",
       "      <th></th>\n",
       "      <th></th>\n",
       "      <th></th>\n",
       "      <th></th>\n",
       "      <th></th>\n",
       "    </tr>\n",
       "  </thead>\n",
       "  <tbody>\n",
       "    <tr>\n",
       "      <th>AZ14</th>\n",
       "      <td>217032.0</td>\n",
       "      <td>490953.0</td>\n",
       "      <td>17781.0</td>\n",
       "      <td>239324.0</td>\n",
       "      <td>141112.0</td>\n",
       "      <td>151529.0</td>\n",
       "      <td>1010096.0</td>\n",
       "      <td>2267827.0</td>\n",
       "    </tr>\n",
       "    <tr>\n",
       "      <th>AZ18</th>\n",
       "      <td>257434.0</td>\n",
       "      <td>568752.0</td>\n",
       "      <td>19701.0</td>\n",
       "      <td>280442.0</td>\n",
       "      <td>165917.0</td>\n",
       "      <td>243582.0</td>\n",
       "      <td>1331737.0</td>\n",
       "      <td>2867565.0</td>\n",
       "    </tr>\n",
       "    <tr>\n",
       "      <th>BX-E</th>\n",
       "      <td>38089.0</td>\n",
       "      <td>56454.0</td>\n",
       "      <td>4209.0</td>\n",
       "      <td>17003.0</td>\n",
       "      <td>6875.0</td>\n",
       "      <td>6548.0</td>\n",
       "      <td>21884.0</td>\n",
       "      <td>151062.0</td>\n",
       "    </tr>\n",
       "    <tr>\n",
       "      <th>BX-I</th>\n",
       "      <td>67153.0</td>\n",
       "      <td>98053.0</td>\n",
       "      <td>7141.0</td>\n",
       "      <td>34792.0</td>\n",
       "      <td>14003.0</td>\n",
       "      <td>13047.0</td>\n",
       "      <td>44068.0</td>\n",
       "      <td>278257.0</td>\n",
       "    </tr>\n",
       "    <tr>\n",
       "      <th>GR-E</th>\n",
       "      <td>175748.0</td>\n",
       "      <td>279466.0</td>\n",
       "      <td>11649.0</td>\n",
       "      <td>96499.0</td>\n",
       "      <td>30123.0</td>\n",
       "      <td>894574.0</td>\n",
       "      <td>NaN</td>\n",
       "      <td>1488059.0</td>\n",
       "    </tr>\n",
       "    <tr>\n",
       "      <th>GR-I</th>\n",
       "      <td>177359.0</td>\n",
       "      <td>282857.0</td>\n",
       "      <td>11756.0</td>\n",
       "      <td>98268.0</td>\n",
       "      <td>30837.0</td>\n",
       "      <td>908584.0</td>\n",
       "      <td>NaN</td>\n",
       "      <td>1509661.0</td>\n",
       "    </tr>\n",
       "    <tr>\n",
       "      <th>LOC-MDS</th>\n",
       "      <td>666636.0</td>\n",
       "      <td>2212573.0</td>\n",
       "      <td>54205.0</td>\n",
       "      <td>1219145.0</td>\n",
       "      <td>272587.0</td>\n",
       "      <td>842797.0</td>\n",
       "      <td>NaN</td>\n",
       "      <td>5267943.0</td>\n",
       "    </tr>\n",
       "  </tbody>\n",
       "</table>\n",
       "</div>"
      ],
      "text/plain": [
       "gender     female       male  ambiguous    unknown  no-author-rec  \\\n",
       "dataset                                                             \n",
       "AZ14     217032.0   490953.0    17781.0   239324.0       141112.0   \n",
       "AZ18     257434.0   568752.0    19701.0   280442.0       165917.0   \n",
       "BX-E      38089.0    56454.0     4209.0    17003.0         6875.0   \n",
       "BX-I      67153.0    98053.0     7141.0    34792.0        14003.0   \n",
       "GR-E     175748.0   279466.0    11649.0    96499.0        30123.0   \n",
       "GR-I     177359.0   282857.0    11756.0    98268.0        30837.0   \n",
       "LOC-MDS  666636.0  2212573.0    54205.0  1219145.0       272587.0   \n",
       "\n",
       "gender   no-book-author    no-book      total  \n",
       "dataset                                        \n",
       "AZ14           151529.0  1010096.0  2267827.0  \n",
       "AZ18           243582.0  1331737.0  2867565.0  \n",
       "BX-E             6548.0    21884.0   151062.0  \n",
       "BX-I            13047.0    44068.0   278257.0  \n",
       "GR-E           894574.0        NaN  1488059.0  \n",
       "GR-I           908584.0        NaN  1509661.0  \n",
       "LOC-MDS        842797.0        NaN  5267943.0  "
      ]
     },
     "execution_count": 6,
     "metadata": {},
     "output_type": "execute_result"
    }
   ],
   "source": [
    "book_counts = link_stats.pivot('dataset', 'gender', 'n_books')\n",
    "book_counts = book_counts.reindex(columns=all_codes)\n",
    "book_counts.assign(total=book_counts.sum(axis=1))"
   ]
  },
  {
   "cell_type": "code",
   "execution_count": 7,
   "id": "08e7ed82",
   "metadata": {
    "execution": {
     "iopub.execute_input": "2021-12-06T20:47:46.445487Z",
     "iopub.status.busy": "2021-12-06T20:47:46.414256Z",
     "iopub.status.idle": "2021-12-06T20:47:46.451615Z",
     "shell.execute_reply": "2021-12-06T20:47:46.452769Z"
    },
    "tags": []
   },
   "outputs": [
    {
     "data": {
      "text/html": [
       "<div>\n",
       "<style scoped>\n",
       "    .dataframe tbody tr th:only-of-type {\n",
       "        vertical-align: middle;\n",
       "    }\n",
       "\n",
       "    .dataframe tbody tr th {\n",
       "        vertical-align: top;\n",
       "    }\n",
       "\n",
       "    .dataframe thead th {\n",
       "        text-align: right;\n",
       "    }\n",
       "</style>\n",
       "<table border=\"1\" class=\"dataframe\">\n",
       "  <thead>\n",
       "    <tr style=\"text-align: right;\">\n",
       "      <th>gender</th>\n",
       "      <th>female</th>\n",
       "      <th>male</th>\n",
       "      <th>ambiguous</th>\n",
       "      <th>unknown</th>\n",
       "      <th>no-author-rec</th>\n",
       "      <th>no-book-author</th>\n",
       "      <th>no-book</th>\n",
       "    </tr>\n",
       "    <tr>\n",
       "      <th>dataset</th>\n",
       "      <th></th>\n",
       "      <th></th>\n",
       "      <th></th>\n",
       "      <th></th>\n",
       "      <th></th>\n",
       "      <th></th>\n",
       "      <th></th>\n",
       "    </tr>\n",
       "  </thead>\n",
       "  <tbody>\n",
       "    <tr>\n",
       "      <th>AZ14</th>\n",
       "      <td>4320053.0</td>\n",
       "      <td>6598367.0</td>\n",
       "      <td>552578.0</td>\n",
       "      <td>2082393.0</td>\n",
       "      <td>732627.0</td>\n",
       "      <td>2076437.0</td>\n",
       "      <td>6096946.0</td>\n",
       "    </tr>\n",
       "    <tr>\n",
       "      <th>AZ18</th>\n",
       "      <td>9518581.0</td>\n",
       "      <td>13527898.0</td>\n",
       "      <td>1100481.0</td>\n",
       "      <td>3940837.0</td>\n",
       "      <td>1577619.0</td>\n",
       "      <td>6588512.0</td>\n",
       "      <td>14615317.0</td>\n",
       "    </tr>\n",
       "    <tr>\n",
       "      <th>BX-E</th>\n",
       "      <td>138864.0</td>\n",
       "      <td>185762.0</td>\n",
       "      <td>31171.0</td>\n",
       "      <td>27577.0</td>\n",
       "      <td>8759.0</td>\n",
       "      <td>9505.0</td>\n",
       "      <td>25524.0</td>\n",
       "    </tr>\n",
       "    <tr>\n",
       "      <th>BX-I</th>\n",
       "      <td>391574.0</td>\n",
       "      <td>469654.0</td>\n",
       "      <td>78178.0</td>\n",
       "      <td>78104.0</td>\n",
       "      <td>23301.0</td>\n",
       "      <td>25905.0</td>\n",
       "      <td>62530.0</td>\n",
       "    </tr>\n",
       "    <tr>\n",
       "      <th>GR-E</th>\n",
       "      <td>34919361.0</td>\n",
       "      <td>35174478.0</td>\n",
       "      <td>8874836.0</td>\n",
       "      <td>3978466.0</td>\n",
       "      <td>531128.0</td>\n",
       "      <td>16923705.0</td>\n",
       "      <td>NaN</td>\n",
       "    </tr>\n",
       "    <tr>\n",
       "      <th>GR-I</th>\n",
       "      <td>76649642.0</td>\n",
       "      <td>71778599.0</td>\n",
       "      <td>14398601.0</td>\n",
       "      <td>10519906.0</td>\n",
       "      <td>1499773.0</td>\n",
       "      <td>46650160.0</td>\n",
       "      <td>NaN</td>\n",
       "    </tr>\n",
       "  </tbody>\n",
       "</table>\n",
       "</div>"
      ],
      "text/plain": [
       "gender       female        male   ambiguous     unknown  no-author-rec  \\\n",
       "dataset                                                                  \n",
       "AZ14      4320053.0   6598367.0    552578.0   2082393.0       732627.0   \n",
       "AZ18      9518581.0  13527898.0   1100481.0   3940837.0      1577619.0   \n",
       "BX-E       138864.0    185762.0     31171.0     27577.0         8759.0   \n",
       "BX-I       391574.0    469654.0     78178.0     78104.0        23301.0   \n",
       "GR-E     34919361.0  35174478.0   8874836.0   3978466.0       531128.0   \n",
       "GR-I     76649642.0  71778599.0  14398601.0  10519906.0      1499773.0   \n",
       "\n",
       "gender   no-book-author     no-book  \n",
       "dataset                              \n",
       "AZ14          2076437.0   6096946.0  \n",
       "AZ18          6588512.0  14615317.0  \n",
       "BX-E             9505.0     25524.0  \n",
       "BX-I            25905.0     62530.0  \n",
       "GR-E         16923705.0         NaN  \n",
       "GR-I         46650160.0         NaN  "
      ]
     },
     "execution_count": 7,
     "metadata": {},
     "output_type": "execute_result"
    }
   ],
   "source": [
    "act_counts = link_stats.pivot('dataset', 'gender', 'n_actions')\n",
    "act_counts = act_counts.reindex(columns=all_codes)\n",
    "act_counts.drop(index='LOC-MDS', inplace=True)\n",
    "act_counts"
   ]
  },
  {
   "cell_type": "markdown",
   "id": "e698de70",
   "metadata": {},
   "source": [
    "We're going to want to compute versions of this table as fractions, e.g. the fraction of books that are written by women.  We will use the following helper function:"
   ]
  },
  {
   "cell_type": "code",
   "execution_count": 8,
   "id": "2f7109d3",
   "metadata": {
    "execution": {
     "iopub.execute_input": "2021-12-06T20:47:46.464923Z",
     "iopub.status.busy": "2021-12-06T20:47:46.463532Z",
     "iopub.status.idle": "2021-12-06T20:47:46.468264Z",
     "shell.execute_reply": "2021-12-06T20:47:46.469358Z"
    }
   },
   "outputs": [],
   "source": [
    "def fractionalize(data, columns, unlinked=None):\n",
    "    fracs = data[columns]\n",
    "    fracs.columns = fracs.columns.astype('str')\n",
    "    if unlinked:\n",
    "        fracs = fracs.assign(unlinked=data[unlinked].sum(axis=1))\n",
    "    totals = fracs.sum(axis=1)\n",
    "    return fracs.divide(totals, axis=0)"
   ]
  },
  {
   "cell_type": "markdown",
   "id": "ab8a1bf2",
   "metadata": {},
   "source": [
    "And a helper function for plotting bar charts:"
   ]
  },
  {
   "cell_type": "code",
   "execution_count": 9,
   "id": "81cc9d35",
   "metadata": {
    "execution": {
     "iopub.execute_input": "2021-12-06T20:47:46.492998Z",
     "iopub.status.busy": "2021-12-06T20:47:46.491588Z",
     "iopub.status.idle": "2021-12-06T20:47:46.495907Z",
     "shell.execute_reply": "2021-12-06T20:47:46.497000Z"
    }
   },
   "outputs": [],
   "source": [
    "def plot_bars(fracs, ax=None, cmap=mpl.cm.Dark2):\n",
    "    if ax is None:\n",
    "        ax = plt.gca()\n",
    "    size = 0.5\n",
    "    ind = np.arange(len(fracs))\n",
    "    start = pd.Series(0, index=fracs.index)\n",
    "    for i, col in enumerate(fracs.columns):\n",
    "        vals = fracs.iloc[:, i]\n",
    "        rects = ax.barh(ind, vals, size, left=start, label=col, color=cmap(i))\n",
    "        for j, rec in enumerate(rects):\n",
    "            if vals.iloc[j] < 0.1 or np.isnan(vals.iloc[j]): continue\n",
    "            y = rec.get_y() + rec.get_height() / 2\n",
    "            x = start.iloc[j] + vals.iloc[j] / 2\n",
    "            ax.annotate('{:.1f}%'.format(vals.iloc[j] * 100),\n",
    "                        xy=(x,y), ha='center', va='center', color='white',\n",
    "                        fontweight='bold')\n",
    "        start += vals.fillna(0)\n",
    "    ax.set_xlabel('Fraction of Books')\n",
    "    ax.set_ylabel('Data Set')\n",
    "    ax.set_yticks(ind)\n",
    "    ax.set_yticklabels(fracs.index)\n",
    "    ax.legend(loc='center left', bbox_to_anchor=(1, 0.5))"
   ]
  },
  {
   "cell_type": "markdown",
   "id": "4930128b",
   "metadata": {},
   "source": [
    "## Resolution of Books\n",
    "\n",
    "What fraction of *unique books* are resolved from each source?"
   ]
  },
  {
   "cell_type": "code",
   "execution_count": 10,
   "id": "8b07d0e8",
   "metadata": {
    "execution": {
     "iopub.execute_input": "2021-12-06T20:47:46.549497Z",
     "iopub.status.busy": "2021-12-06T20:47:46.548133Z",
     "iopub.status.idle": "2021-12-06T20:47:46.554669Z",
     "shell.execute_reply": "2021-12-06T20:47:46.555799Z"
    }
   },
   "outputs": [
    {
     "data": {
      "text/html": [
       "<div>\n",
       "<style scoped>\n",
       "    .dataframe tbody tr th:only-of-type {\n",
       "        vertical-align: middle;\n",
       "    }\n",
       "\n",
       "    .dataframe tbody tr th {\n",
       "        vertical-align: top;\n",
       "    }\n",
       "\n",
       "    .dataframe thead th {\n",
       "        text-align: right;\n",
       "    }\n",
       "</style>\n",
       "<table border=\"1\" class=\"dataframe\">\n",
       "  <thead>\n",
       "    <tr style=\"text-align: right;\">\n",
       "      <th>gender</th>\n",
       "      <th>female</th>\n",
       "      <th>male</th>\n",
       "      <th>ambiguous</th>\n",
       "      <th>unknown</th>\n",
       "      <th>no-author-rec</th>\n",
       "      <th>no-book-author</th>\n",
       "      <th>no-book</th>\n",
       "    </tr>\n",
       "    <tr>\n",
       "      <th>dataset</th>\n",
       "      <th></th>\n",
       "      <th></th>\n",
       "      <th></th>\n",
       "      <th></th>\n",
       "      <th></th>\n",
       "      <th></th>\n",
       "      <th></th>\n",
       "    </tr>\n",
       "  </thead>\n",
       "  <tbody>\n",
       "    <tr>\n",
       "      <th>AZ14</th>\n",
       "      <td>0.095700</td>\n",
       "      <td>0.216486</td>\n",
       "      <td>0.007841</td>\n",
       "      <td>0.105530</td>\n",
       "      <td>0.062223</td>\n",
       "      <td>0.066817</td>\n",
       "      <td>0.445403</td>\n",
       "    </tr>\n",
       "    <tr>\n",
       "      <th>AZ18</th>\n",
       "      <td>0.089774</td>\n",
       "      <td>0.198340</td>\n",
       "      <td>0.006870</td>\n",
       "      <td>0.097798</td>\n",
       "      <td>0.057860</td>\n",
       "      <td>0.084944</td>\n",
       "      <td>0.464414</td>\n",
       "    </tr>\n",
       "    <tr>\n",
       "      <th>BX-E</th>\n",
       "      <td>0.252142</td>\n",
       "      <td>0.373714</td>\n",
       "      <td>0.027863</td>\n",
       "      <td>0.112556</td>\n",
       "      <td>0.045511</td>\n",
       "      <td>0.043346</td>\n",
       "      <td>0.144868</td>\n",
       "    </tr>\n",
       "    <tr>\n",
       "      <th>BX-I</th>\n",
       "      <td>0.241334</td>\n",
       "      <td>0.352383</td>\n",
       "      <td>0.025663</td>\n",
       "      <td>0.125035</td>\n",
       "      <td>0.050324</td>\n",
       "      <td>0.046888</td>\n",
       "      <td>0.158372</td>\n",
       "    </tr>\n",
       "    <tr>\n",
       "      <th>GR-E</th>\n",
       "      <td>0.118106</td>\n",
       "      <td>0.187806</td>\n",
       "      <td>0.007828</td>\n",
       "      <td>0.064849</td>\n",
       "      <td>0.020243</td>\n",
       "      <td>0.601168</td>\n",
       "      <td>NaN</td>\n",
       "    </tr>\n",
       "    <tr>\n",
       "      <th>GR-I</th>\n",
       "      <td>0.117483</td>\n",
       "      <td>0.187365</td>\n",
       "      <td>0.007787</td>\n",
       "      <td>0.065093</td>\n",
       "      <td>0.020426</td>\n",
       "      <td>0.601846</td>\n",
       "      <td>NaN</td>\n",
       "    </tr>\n",
       "    <tr>\n",
       "      <th>LOC-MDS</th>\n",
       "      <td>0.126546</td>\n",
       "      <td>0.420007</td>\n",
       "      <td>0.010290</td>\n",
       "      <td>0.231427</td>\n",
       "      <td>0.051744</td>\n",
       "      <td>0.159986</td>\n",
       "      <td>NaN</td>\n",
       "    </tr>\n",
       "  </tbody>\n",
       "</table>\n",
       "</div>"
      ],
      "text/plain": [
       "gender     female      male  ambiguous   unknown  no-author-rec  \\\n",
       "dataset                                                           \n",
       "AZ14     0.095700  0.216486   0.007841  0.105530       0.062223   \n",
       "AZ18     0.089774  0.198340   0.006870  0.097798       0.057860   \n",
       "BX-E     0.252142  0.373714   0.027863  0.112556       0.045511   \n",
       "BX-I     0.241334  0.352383   0.025663  0.125035       0.050324   \n",
       "GR-E     0.118106  0.187806   0.007828  0.064849       0.020243   \n",
       "GR-I     0.117483  0.187365   0.007787  0.065093       0.020426   \n",
       "LOC-MDS  0.126546  0.420007   0.010290  0.231427       0.051744   \n",
       "\n",
       "gender   no-book-author   no-book  \n",
       "dataset                            \n",
       "AZ14           0.066817  0.445403  \n",
       "AZ18           0.084944  0.464414  \n",
       "BX-E           0.043346  0.144868  \n",
       "BX-I           0.046888  0.158372  \n",
       "GR-E           0.601168       NaN  \n",
       "GR-I           0.601846       NaN  \n",
       "LOC-MDS        0.159986       NaN  "
      ]
     },
     "execution_count": 10,
     "metadata": {},
     "output_type": "execute_result"
    }
   ],
   "source": [
    "fractionalize(book_counts, link_codes + unlink_codes)"
   ]
  },
  {
   "cell_type": "code",
   "execution_count": 11,
   "id": "97fb563e",
   "metadata": {
    "execution": {
     "iopub.execute_input": "2021-12-06T20:47:46.578741Z",
     "iopub.status.busy": "2021-12-06T20:47:46.577349Z",
     "iopub.status.idle": "2021-12-06T20:47:47.351494Z",
     "shell.execute_reply": "2021-12-06T20:47:47.352390Z"
    }
   },
   "outputs": [
    {
     "data": {
      "image/png": "[encoded data removed]",
      "text/plain": [
       "<Figure size 432x288 with 1 Axes>"
      ]
     },
     "metadata": {
      "needs_background": "light"
     },
     "output_type": "display_data"
    }
   ],
   "source": [
    "plot_bars(fractionalize(book_counts, link_codes + unlink_codes))"
   ]
  },
  {
   "cell_type": "code",
   "execution_count": 12,
   "id": "0711daf9",
   "metadata": {
    "execution": {
     "iopub.execute_input": "2021-12-06T20:47:47.373011Z",
     "iopub.status.busy": "2021-12-06T20:47:47.372219Z",
     "iopub.status.idle": "2021-12-06T20:47:47.375939Z",
     "shell.execute_reply": "2021-12-06T20:47:47.376618Z"
    }
   },
   "outputs": [
    {
     "data": {
      "text/html": [
       "<div>\n",
       "<style scoped>\n",
       "    .dataframe tbody tr th:only-of-type {\n",
       "        vertical-align: middle;\n",
       "    }\n",
       "\n",
       "    .dataframe tbody tr th {\n",
       "        vertical-align: top;\n",
       "    }\n",
       "\n",
       "    .dataframe thead th {\n",
       "        text-align: right;\n",
       "    }\n",
       "</style>\n",
       "<table border=\"1\" class=\"dataframe\">\n",
       "  <thead>\n",
       "    <tr style=\"text-align: right;\">\n",
       "      <th>gender</th>\n",
       "      <th>female</th>\n",
       "      <th>male</th>\n",
       "      <th>ambiguous</th>\n",
       "      <th>unknown</th>\n",
       "      <th>unlinked</th>\n",
       "    </tr>\n",
       "    <tr>\n",
       "      <th>dataset</th>\n",
       "      <th></th>\n",
       "      <th></th>\n",
       "      <th></th>\n",
       "      <th></th>\n",
       "      <th></th>\n",
       "    </tr>\n",
       "  </thead>\n",
       "  <tbody>\n",
       "    <tr>\n",
       "      <th>AZ14</th>\n",
       "      <td>0.095700</td>\n",
       "      <td>0.216486</td>\n",
       "      <td>0.007841</td>\n",
       "      <td>0.105530</td>\n",
       "      <td>0.574443</td>\n",
       "    </tr>\n",
       "    <tr>\n",
       "      <th>AZ18</th>\n",
       "      <td>0.089774</td>\n",
       "      <td>0.198340</td>\n",
       "      <td>0.006870</td>\n",
       "      <td>0.097798</td>\n",
       "      <td>0.607218</td>\n",
       "    </tr>\n",
       "    <tr>\n",
       "      <th>BX-E</th>\n",
       "      <td>0.252142</td>\n",
       "      <td>0.373714</td>\n",
       "      <td>0.027863</td>\n",
       "      <td>0.112556</td>\n",
       "      <td>0.233725</td>\n",
       "    </tr>\n",
       "    <tr>\n",
       "      <th>BX-I</th>\n",
       "      <td>0.241334</td>\n",
       "      <td>0.352383</td>\n",
       "      <td>0.025663</td>\n",
       "      <td>0.125035</td>\n",
       "      <td>0.255584</td>\n",
       "    </tr>\n",
       "    <tr>\n",
       "      <th>GR-E</th>\n",
       "      <td>0.118106</td>\n",
       "      <td>0.187806</td>\n",
       "      <td>0.007828</td>\n",
       "      <td>0.064849</td>\n",
       "      <td>0.621412</td>\n",
       "    </tr>\n",
       "    <tr>\n",
       "      <th>GR-I</th>\n",
       "      <td>0.117483</td>\n",
       "      <td>0.187365</td>\n",
       "      <td>0.007787</td>\n",
       "      <td>0.065093</td>\n",
       "      <td>0.622273</td>\n",
       "    </tr>\n",
       "    <tr>\n",
       "      <th>LOC-MDS</th>\n",
       "      <td>0.126546</td>\n",
       "      <td>0.420007</td>\n",
       "      <td>0.010290</td>\n",
       "      <td>0.231427</td>\n",
       "      <td>0.211730</td>\n",
       "    </tr>\n",
       "  </tbody>\n",
       "</table>\n",
       "</div>"
      ],
      "text/plain": [
       "gender     female      male  ambiguous   unknown  unlinked\n",
       "dataset                                                   \n",
       "AZ14     0.095700  0.216486   0.007841  0.105530  0.574443\n",
       "AZ18     0.089774  0.198340   0.006870  0.097798  0.607218\n",
       "BX-E     0.252142  0.373714   0.027863  0.112556  0.233725\n",
       "BX-I     0.241334  0.352383   0.025663  0.125035  0.255584\n",
       "GR-E     0.118106  0.187806   0.007828  0.064849  0.621412\n",
       "GR-I     0.117483  0.187365   0.007787  0.065093  0.622273\n",
       "LOC-MDS  0.126546  0.420007   0.010290  0.231427  0.211730"
      ]
     },
     "execution_count": 12,
     "metadata": {},
     "output_type": "execute_result"
    }
   ],
   "source": [
    "fractionalize(book_counts, link_codes, unlink_codes)"
   ]
  },
  {
   "cell_type": "code",
   "execution_count": 13,
   "id": "e0e6e914",
   "metadata": {
    "execution": {
     "iopub.execute_input": "2021-12-06T20:47:47.401487Z",
     "iopub.status.busy": "2021-12-06T20:47:47.383750Z",
     "iopub.status.idle": "2021-12-06T20:47:47.854631Z",
     "shell.execute_reply": "2021-12-06T20:47:47.855292Z"
    }
   },
   "outputs": [
    {
     "data": {
      "image/png": "[encoded data removed]",
      "text/plain": [
       "<Figure size 432x288 with 1 Axes>"
      ]
     },
     "metadata": {
      "needs_background": "light"
     },
     "output_type": "display_data"
    }
   ],
   "source": [
    "plot_bars(fractionalize(book_counts, link_codes, unlink_codes))"
   ]
  },
  {
   "cell_type": "code",
   "execution_count": 14,
   "id": "b2ef469d",
   "metadata": {
    "execution": {
     "iopub.execute_input": "2021-12-06T20:47:47.879221Z",
     "iopub.status.busy": "2021-12-06T20:47:47.868705Z",
     "iopub.status.idle": "2021-12-06T20:47:48.180860Z",
     "shell.execute_reply": "2021-12-06T20:47:48.181511Z"
    }
   },
   "outputs": [
    {
     "data": {
      "image/png": "[encoded data removed]",
      "text/plain": [
       "<Figure size 432x288 with 1 Axes>"
      ]
     },
     "metadata": {
      "needs_background": "light"
     },
     "output_type": "display_data"
    }
   ],
   "source": [
    "plot_bars(fractionalize(book_counts, ['female', 'male']))"
   ]
  },
  {
   "cell_type": "markdown",
   "id": "8f841f8a",
   "metadata": {},
   "source": [
    "## Resolution of Ratings\n",
    "\n",
    "What fraction of *rating actions* have each resolution result?"
   ]
  },
  {
   "cell_type": "code",
   "execution_count": 15,
   "id": "b5421327",
   "metadata": {
    "execution": {
     "iopub.execute_input": "2021-12-06T20:47:48.201756Z",
     "iopub.status.busy": "2021-12-06T20:47:48.200710Z",
     "iopub.status.idle": "2021-12-06T20:47:48.204980Z",
     "shell.execute_reply": "2021-12-06T20:47:48.205583Z"
    }
   },
   "outputs": [
    {
     "data": {
      "text/html": [
       "<div>\n",
       "<style scoped>\n",
       "    .dataframe tbody tr th:only-of-type {\n",
       "        vertical-align: middle;\n",
       "    }\n",
       "\n",
       "    .dataframe tbody tr th {\n",
       "        vertical-align: top;\n",
       "    }\n",
       "\n",
       "    .dataframe thead th {\n",
       "        text-align: right;\n",
       "    }\n",
       "</style>\n",
       "<table border=\"1\" class=\"dataframe\">\n",
       "  <thead>\n",
       "    <tr style=\"text-align: right;\">\n",
       "      <th>gender</th>\n",
       "      <th>female</th>\n",
       "      <th>male</th>\n",
       "      <th>ambiguous</th>\n",
       "      <th>unknown</th>\n",
       "      <th>no-author-rec</th>\n",
       "      <th>no-book-author</th>\n",
       "      <th>no-book</th>\n",
       "    </tr>\n",
       "    <tr>\n",
       "      <th>dataset</th>\n",
       "      <th></th>\n",
       "      <th></th>\n",
       "      <th></th>\n",
       "      <th></th>\n",
       "      <th></th>\n",
       "      <th></th>\n",
       "      <th></th>\n",
       "    </tr>\n",
       "  </thead>\n",
       "  <tbody>\n",
       "    <tr>\n",
       "      <th>AZ14</th>\n",
       "      <td>0.192349</td>\n",
       "      <td>0.293791</td>\n",
       "      <td>0.024603</td>\n",
       "      <td>0.092718</td>\n",
       "      <td>0.032620</td>\n",
       "      <td>0.092453</td>\n",
       "      <td>0.271465</td>\n",
       "    </tr>\n",
       "    <tr>\n",
       "      <th>AZ18</th>\n",
       "      <td>0.187119</td>\n",
       "      <td>0.265935</td>\n",
       "      <td>0.021634</td>\n",
       "      <td>0.077470</td>\n",
       "      <td>0.031013</td>\n",
       "      <td>0.129519</td>\n",
       "      <td>0.287311</td>\n",
       "    </tr>\n",
       "    <tr>\n",
       "      <th>BX-E</th>\n",
       "      <td>0.325085</td>\n",
       "      <td>0.434875</td>\n",
       "      <td>0.072972</td>\n",
       "      <td>0.064559</td>\n",
       "      <td>0.020505</td>\n",
       "      <td>0.022252</td>\n",
       "      <td>0.059753</td>\n",
       "    </tr>\n",
       "    <tr>\n",
       "      <th>BX-I</th>\n",
       "      <td>0.346757</td>\n",
       "      <td>0.415901</td>\n",
       "      <td>0.069230</td>\n",
       "      <td>0.069165</td>\n",
       "      <td>0.020634</td>\n",
       "      <td>0.022940</td>\n",
       "      <td>0.055373</td>\n",
       "    </tr>\n",
       "    <tr>\n",
       "      <th>GR-E</th>\n",
       "      <td>0.347796</td>\n",
       "      <td>0.350337</td>\n",
       "      <td>0.088393</td>\n",
       "      <td>0.039625</td>\n",
       "      <td>0.005290</td>\n",
       "      <td>0.168559</td>\n",
       "      <td>NaN</td>\n",
       "    </tr>\n",
       "    <tr>\n",
       "      <th>GR-I</th>\n",
       "      <td>0.346053</td>\n",
       "      <td>0.324062</td>\n",
       "      <td>0.065006</td>\n",
       "      <td>0.047495</td>\n",
       "      <td>0.006771</td>\n",
       "      <td>0.210613</td>\n",
       "      <td>NaN</td>\n",
       "    </tr>\n",
       "  </tbody>\n",
       "</table>\n",
       "</div>"
      ],
      "text/plain": [
       "gender     female      male  ambiguous   unknown  no-author-rec  \\\n",
       "dataset                                                           \n",
       "AZ14     0.192349  0.293791   0.024603  0.092718       0.032620   \n",
       "AZ18     0.187119  0.265935   0.021634  0.077470       0.031013   \n",
       "BX-E     0.325085  0.434875   0.072972  0.064559       0.020505   \n",
       "BX-I     0.346757  0.415901   0.069230  0.069165       0.020634   \n",
       "GR-E     0.347796  0.350337   0.088393  0.039625       0.005290   \n",
       "GR-I     0.346053  0.324062   0.065006  0.047495       0.006771   \n",
       "\n",
       "gender   no-book-author   no-book  \n",
       "dataset                            \n",
       "AZ14           0.092453  0.271465  \n",
       "AZ18           0.129519  0.287311  \n",
       "BX-E           0.022252  0.059753  \n",
       "BX-I           0.022940  0.055373  \n",
       "GR-E           0.168559       NaN  \n",
       "GR-I           0.210613       NaN  "
      ]
     },
     "execution_count": 15,
     "metadata": {},
     "output_type": "execute_result"
    }
   ],
   "source": [
    "fractionalize(act_counts, link_codes + unlink_codes)"
   ]
  },
  {
   "cell_type": "code",
   "execution_count": 16,
   "id": "5af54497",
   "metadata": {
    "execution": {
     "iopub.execute_input": "2021-12-06T20:47:48.308879Z",
     "iopub.status.busy": "2021-12-06T20:47:48.218797Z",
     "iopub.status.idle": "2021-12-06T20:47:48.742282Z",
     "shell.execute_reply": "2021-12-06T20:47:48.742941Z"
    }
   },
   "outputs": [
    {
     "data": {
      "image/png": "[encoded data removed]",
      "text/plain": [
       "<Figure size 432x288 with 1 Axes>"
      ]
     },
     "metadata": {
      "needs_background": "light"
     },
     "output_type": "display_data"
    }
   ],
   "source": [
    "plot_bars(fractionalize(act_counts, link_codes + unlink_codes))"
   ]
  },
  {
   "cell_type": "code",
   "execution_count": 17,
   "id": "c6b3c160",
   "metadata": {
    "execution": {
     "iopub.execute_input": "2021-12-06T20:47:48.762200Z",
     "iopub.status.busy": "2021-12-06T20:47:48.761421Z",
     "iopub.status.idle": "2021-12-06T20:47:48.765122Z",
     "shell.execute_reply": "2021-12-06T20:47:48.765769Z"
    }
   },
   "outputs": [
    {
     "data": {
      "text/html": [
       "<div>\n",
       "<style scoped>\n",
       "    .dataframe tbody tr th:only-of-type {\n",
       "        vertical-align: middle;\n",
       "    }\n",
       "\n",
       "    .dataframe tbody tr th {\n",
       "        vertical-align: top;\n",
       "    }\n",
       "\n",
       "    .dataframe thead th {\n",
       "        text-align: right;\n",
       "    }\n",
       "</style>\n",
       "<table border=\"1\" class=\"dataframe\">\n",
       "  <thead>\n",
       "    <tr style=\"text-align: right;\">\n",
       "      <th>gender</th>\n",
       "      <th>female</th>\n",
       "      <th>male</th>\n",
       "      <th>ambiguous</th>\n",
       "      <th>unknown</th>\n",
       "      <th>unlinked</th>\n",
       "    </tr>\n",
       "    <tr>\n",
       "      <th>dataset</th>\n",
       "      <th></th>\n",
       "      <th></th>\n",
       "      <th></th>\n",
       "      <th></th>\n",
       "      <th></th>\n",
       "    </tr>\n",
       "  </thead>\n",
       "  <tbody>\n",
       "    <tr>\n",
       "      <th>AZ14</th>\n",
       "      <td>0.192349</td>\n",
       "      <td>0.293791</td>\n",
       "      <td>0.024603</td>\n",
       "      <td>0.092718</td>\n",
       "      <td>0.396538</td>\n",
       "    </tr>\n",
       "    <tr>\n",
       "      <th>AZ18</th>\n",
       "      <td>0.187119</td>\n",
       "      <td>0.265935</td>\n",
       "      <td>0.021634</td>\n",
       "      <td>0.077470</td>\n",
       "      <td>0.447843</td>\n",
       "    </tr>\n",
       "    <tr>\n",
       "      <th>BX-E</th>\n",
       "      <td>0.325085</td>\n",
       "      <td>0.434875</td>\n",
       "      <td>0.072972</td>\n",
       "      <td>0.064559</td>\n",
       "      <td>0.102509</td>\n",
       "    </tr>\n",
       "    <tr>\n",
       "      <th>BX-I</th>\n",
       "      <td>0.346757</td>\n",
       "      <td>0.415901</td>\n",
       "      <td>0.069230</td>\n",
       "      <td>0.069165</td>\n",
       "      <td>0.098947</td>\n",
       "    </tr>\n",
       "    <tr>\n",
       "      <th>GR-E</th>\n",
       "      <td>0.347796</td>\n",
       "      <td>0.350337</td>\n",
       "      <td>0.088393</td>\n",
       "      <td>0.039625</td>\n",
       "      <td>0.173850</td>\n",
       "    </tr>\n",
       "    <tr>\n",
       "      <th>GR-I</th>\n",
       "      <td>0.346053</td>\n",
       "      <td>0.324062</td>\n",
       "      <td>0.065006</td>\n",
       "      <td>0.047495</td>\n",
       "      <td>0.217384</td>\n",
       "    </tr>\n",
       "  </tbody>\n",
       "</table>\n",
       "</div>"
      ],
      "text/plain": [
       "gender     female      male  ambiguous   unknown  unlinked\n",
       "dataset                                                   \n",
       "AZ14     0.192349  0.293791   0.024603  0.092718  0.396538\n",
       "AZ18     0.187119  0.265935   0.021634  0.077470  0.447843\n",
       "BX-E     0.325085  0.434875   0.072972  0.064559  0.102509\n",
       "BX-I     0.346757  0.415901   0.069230  0.069165  0.098947\n",
       "GR-E     0.347796  0.350337   0.088393  0.039625  0.173850\n",
       "GR-I     0.346053  0.324062   0.065006  0.047495  0.217384"
      ]
     },
     "execution_count": 17,
     "metadata": {},
     "output_type": "execute_result"
    }
   ],
   "source": [
    "fractionalize(act_counts, link_codes, unlink_codes)"
   ]
  },
  {
   "cell_type": "code",
   "execution_count": 18,
   "id": "4e3ab440",
   "metadata": {
    "execution": {
     "iopub.execute_input": "2021-12-06T20:47:48.792300Z",
     "iopub.status.busy": "2021-12-06T20:47:48.780831Z",
     "iopub.status.idle": "2021-12-06T20:47:49.181257Z",
     "shell.execute_reply": "2021-12-06T20:47:49.181913Z"
    }
   },
   "outputs": [
    {
     "data": {
      "image/png": "[encoded data removed]",
      "text/plain": [
       "<Figure size 432x288 with 1 Axes>"
      ]
     },
     "metadata": {
      "needs_background": "light"
     },
     "output_type": "display_data"
    }
   ],
   "source": [
    "plot_bars(fractionalize(act_counts, link_codes, unlink_codes))"
   ]
  },
  {
   "cell_type": "code",
   "execution_count": 19,
   "id": "d1b3a264",
   "metadata": {
    "execution": {
     "iopub.execute_input": "2021-12-06T20:47:49.206566Z",
     "iopub.status.busy": "2021-12-06T20:47:49.194345Z",
     "iopub.status.idle": "2021-12-06T20:47:49.492023Z",
     "shell.execute_reply": "2021-12-06T20:47:49.492690Z"
    }
   },
   "outputs": [
    {
     "data": {
      "image/png": "[encoded data removed]",
      "text/plain": [
       "<Figure size 432x288 with 1 Axes>"
      ]
     },
     "metadata": {
      "needs_background": "light"
     },
     "output_type": "display_data"
    }
   ],
   "source": [
    "plot_bars(fractionalize(act_counts, ['female', 'male']))"
   ]
  },
  {
   "cell_type": "markdown",
   "id": "c82fdd29",
   "metadata": {},
   "source": [
    "## Metrics\n",
    "\n",
    "Finally, we're going to write coverage metrics."
   ]
  },
  {
   "cell_type": "code",
   "execution_count": 20,
   "id": "1a1715a3",
   "metadata": {
    "execution": {
     "iopub.execute_input": "2021-12-06T20:47:49.505588Z",
     "iopub.status.busy": "2021-12-06T20:47:49.504809Z",
     "iopub.status.idle": "2021-12-06T20:47:49.508324Z",
     "shell.execute_reply": "2021-12-06T20:47:49.508996Z"
    }
   },
   "outputs": [
    {
     "data": {
      "text/plain": [
       "dataset\n",
       "AZ14       0.320027\n",
       "AZ18       0.294984\n",
       "BX-E       0.653718\n",
       "BX-I       0.619381\n",
       "GR-E       0.313740\n",
       "GR-I       0.312634\n",
       "LOC-MDS    0.556842\n",
       "dtype: float64"
      ]
     },
     "execution_count": 20,
     "metadata": {},
     "output_type": "execute_result"
    }
   ],
   "source": [
    "book_tots = book_counts.sum(axis=1)\n",
    "book_link = book_counts['male'] + book_counts['female'] + book_counts['ambiguous']\n",
    "book_cover = book_link / book_tots\n",
    "book_cover"
   ]
  },
  {
   "cell_type": "code",
   "execution_count": 21,
   "id": "ff93134e",
   "metadata": {
    "execution": {
     "iopub.execute_input": "2021-12-06T20:47:49.514177Z",
     "iopub.status.busy": "2021-12-06T20:47:49.513410Z",
     "iopub.status.idle": "2021-12-06T20:47:49.516257Z",
     "shell.execute_reply": "2021-12-06T20:47:49.516861Z"
    }
   },
   "outputs": [],
   "source": [
    "book_cover.to_json('book-coverage.json')"
   ]
  },
  {
   "cell_type": "code",
   "execution_count": null,
   "id": "e0a17920",
   "metadata": {},
   "outputs": [],
   "source": []
  }
 ],
 "metadata": {
  "jupytext": {
   "formats": "ipynb,py:percent"
  },
  "kernelspec": {
   "display_name": "Python 3 (ipykernel)",
   "language": "python",
   "name": "python3"
  },
  "language_info": {
   "codemirror_mode": {
    "name": "ipython",
    "version": 3
   },
   "file_extension": ".py",
   "mimetype": "text/x-python",
   "name": "python",
   "nbconvert_exporter": "python",
   "pygments_lexer": "ipython3",
   "version": "3.8.12"
  }
 },
 "nbformat": 4,
 "nbformat_minor": 5
}
