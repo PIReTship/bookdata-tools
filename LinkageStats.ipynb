{
 "cells": [
  {
   "cell_type": "markdown",
   "id": "c357b970",
   "metadata": {},
   "source": [
    "# Book Data Linkage Statistics\n",
    "\n",
    "This notebook presents statistics of the book data integration."
   ]
  },
  {
   "cell_type": "markdown",
   "id": "4da0684e",
   "metadata": {},
   "source": [
    "## Setup"
   ]
  },
  {
   "cell_type": "code",
   "execution_count": 1,
   "id": "7fafbe66",
   "metadata": {
    "execution": {
     "iopub.execute_input": "2021-11-10T00:38:23.389515Z",
     "iopub.status.busy": "2021-11-10T00:38:23.389515Z",
     "iopub.status.idle": "2021-11-10T00:38:24.655250Z",
     "shell.execute_reply": "2021-11-10T00:38:24.654247Z"
    },
    "tags": []
   },
   "outputs": [],
   "source": [
    "import pandas as pd\n",
    "import seaborn as sns\n",
    "import matplotlib as mpl\n",
    "import matplotlib.pyplot as plt\n",
    "import numpy as np"
   ]
  },
  {
   "cell_type": "markdown",
   "id": "bc31ed6f",
   "metadata": {},
   "source": [
    "## Load Link Stats\n",
    "\n",
    "We compute dataset linking statitsics as `gender-stats.csv` using DataFusion.  Let's load those:"
   ]
  },
  {
   "cell_type": "code",
   "execution_count": 2,
   "id": "856c567f",
   "metadata": {
    "execution": {
     "iopub.execute_input": "2021-11-10T00:38:24.658247Z",
     "iopub.status.busy": "2021-11-10T00:38:24.658247Z",
     "iopub.status.idle": "2021-11-10T00:38:24.671218Z",
     "shell.execute_reply": "2021-11-10T00:38:24.670227Z"
    },
    "tags": []
   },
   "outputs": [
    {
     "data": {
      "text/html": [
       "<div>\n",
       "<style scoped>\n",
       "    .dataframe tbody tr th:only-of-type {\n",
       "        vertical-align: middle;\n",
       "    }\n",
       "\n",
       "    .dataframe tbody tr th {\n",
       "        vertical-align: top;\n",
       "    }\n",
       "\n",
       "    .dataframe thead th {\n",
       "        text-align: right;\n",
       "    }\n",
       "</style>\n",
       "<table border=\"1\" class=\"dataframe\">\n",
       "  <thead>\n",
       "    <tr style=\"text-align: right;\">\n",
       "      <th></th>\n",
       "      <th>dataset</th>\n",
       "      <th>gender</th>\n",
       "      <th>n_books</th>\n",
       "      <th>n_actions</th>\n",
       "    </tr>\n",
       "  </thead>\n",
       "  <tbody>\n",
       "    <tr>\n",
       "      <th>0</th>\n",
       "      <td>BX-I</td>\n",
       "      <td>male</td>\n",
       "      <td>98053</td>\n",
       "      <td>469654</td>\n",
       "    </tr>\n",
       "    <tr>\n",
       "      <th>1</th>\n",
       "      <td>BX-I</td>\n",
       "      <td>no-author-rec</td>\n",
       "      <td>14003</td>\n",
       "      <td>23301</td>\n",
       "    </tr>\n",
       "    <tr>\n",
       "      <th>2</th>\n",
       "      <td>BX-E</td>\n",
       "      <td>male</td>\n",
       "      <td>56454</td>\n",
       "      <td>185762</td>\n",
       "    </tr>\n",
       "    <tr>\n",
       "      <th>3</th>\n",
       "      <td>BX-E</td>\n",
       "      <td>no-author-rec</td>\n",
       "      <td>6875</td>\n",
       "      <td>8759</td>\n",
       "    </tr>\n",
       "    <tr>\n",
       "      <th>4</th>\n",
       "      <td>BX-E</td>\n",
       "      <td>no-book</td>\n",
       "      <td>21884</td>\n",
       "      <td>25524</td>\n",
       "    </tr>\n",
       "  </tbody>\n",
       "</table>\n",
       "</div>"
      ],
      "text/plain": [
       "  dataset         gender  n_books  n_actions\n",
       "0    BX-I           male    98053     469654\n",
       "1    BX-I  no-author-rec    14003      23301\n",
       "2    BX-E           male    56454     185762\n",
       "3    BX-E  no-author-rec     6875       8759\n",
       "4    BX-E        no-book    21884      25524"
      ]
     },
     "execution_count": 2,
     "metadata": {},
     "output_type": "execute_result"
    }
   ],
   "source": [
    "link_stats = pd.read_csv('book-links/gender-stats.csv')\n",
    "link_stats.head()"
   ]
  },
  {
   "cell_type": "markdown",
   "id": "81dbb73b",
   "metadata": {},
   "source": [
    "Now let's define variables for our variou codes. We are first going to define our gender codes.  We'll start with the resolved codes:"
   ]
  },
  {
   "cell_type": "code",
   "execution_count": 3,
   "id": "e07cc64e",
   "metadata": {
    "execution": {
     "iopub.execute_input": "2021-11-10T00:38:24.674218Z",
     "iopub.status.busy": "2021-11-10T00:38:24.673218Z",
     "iopub.status.idle": "2021-11-10T00:38:24.686246Z",
     "shell.execute_reply": "2021-11-10T00:38:24.685257Z"
    },
    "tags": []
   },
   "outputs": [],
   "source": [
    "link_codes = ['female', 'male', 'ambiguous', 'unknown']"
   ]
  },
  {
   "cell_type": "markdown",
   "id": "8af86e0a",
   "metadata": {},
   "source": [
    "We want the unlink codes in order, so the last is the first link failure:"
   ]
  },
  {
   "cell_type": "code",
   "execution_count": 4,
   "id": "aa5e24bb",
   "metadata": {
    "execution": {
     "iopub.execute_input": "2021-11-10T00:38:24.689247Z",
     "iopub.status.busy": "2021-11-10T00:38:24.688247Z",
     "iopub.status.idle": "2021-11-10T00:38:24.702215Z",
     "shell.execute_reply": "2021-11-10T00:38:24.701215Z"
    },
    "tags": []
   },
   "outputs": [],
   "source": [
    "unlink_codes = ['no-author-rec', 'no-book-author', 'no-book']"
   ]
  },
  {
   "cell_type": "code",
   "execution_count": 5,
   "id": "18f110ff",
   "metadata": {
    "execution": {
     "iopub.execute_input": "2021-11-10T00:38:24.704241Z",
     "iopub.status.busy": "2021-11-10T00:38:24.704241Z",
     "iopub.status.idle": "2021-11-10T00:38:24.717245Z",
     "shell.execute_reply": "2021-11-10T00:38:24.717245Z"
    },
    "tags": []
   },
   "outputs": [],
   "source": [
    "all_codes = link_codes + unlink_codes"
   ]
  },
  {
   "cell_type": "markdown",
   "id": "a38967ab",
   "metadata": {},
   "source": [
    "## Processing Statistics\n",
    "\n",
    "Now we'll pivot each of our count columns into a table for easier reference."
   ]
  },
  {
   "cell_type": "code",
   "execution_count": 6,
   "id": "6e4d2c26",
   "metadata": {
    "execution": {
     "iopub.execute_input": "2021-11-10T00:38:24.723246Z",
     "iopub.status.busy": "2021-11-10T00:38:24.723246Z",
     "iopub.status.idle": "2021-11-10T00:38:24.750510Z",
     "shell.execute_reply": "2021-11-10T00:38:24.749509Z"
    },
    "tags": []
   },
   "outputs": [
    {
     "data": {
      "text/html": [
       "<div>\n",
       "<style scoped>\n",
       "    .dataframe tbody tr th:only-of-type {\n",
       "        vertical-align: middle;\n",
       "    }\n",
       "\n",
       "    .dataframe tbody tr th {\n",
       "        vertical-align: top;\n",
       "    }\n",
       "\n",
       "    .dataframe thead th {\n",
       "        text-align: right;\n",
       "    }\n",
       "</style>\n",
       "<table border=\"1\" class=\"dataframe\">\n",
       "  <thead>\n",
       "    <tr style=\"text-align: right;\">\n",
       "      <th>gender</th>\n",
       "      <th>female</th>\n",
       "      <th>male</th>\n",
       "      <th>ambiguous</th>\n",
       "      <th>unknown</th>\n",
       "      <th>no-author-rec</th>\n",
       "      <th>no-book-author</th>\n",
       "      <th>no-book</th>\n",
       "      <th>total</th>\n",
       "    </tr>\n",
       "    <tr>\n",
       "      <th>dataset</th>\n",
       "      <th></th>\n",
       "      <th></th>\n",
       "      <th></th>\n",
       "      <th></th>\n",
       "      <th></th>\n",
       "      <th></th>\n",
       "      <th></th>\n",
       "      <th></th>\n",
       "    </tr>\n",
       "  </thead>\n",
       "  <tbody>\n",
       "    <tr>\n",
       "      <th>AZ</th>\n",
       "      <td>217032.0</td>\n",
       "      <td>490953.0</td>\n",
       "      <td>17781.0</td>\n",
       "      <td>239324.0</td>\n",
       "      <td>141112.0</td>\n",
       "      <td>151529.0</td>\n",
       "      <td>1010096.0</td>\n",
       "      <td>2267827.0</td>\n",
       "    </tr>\n",
       "    <tr>\n",
       "      <th>BX-E</th>\n",
       "      <td>38089.0</td>\n",
       "      <td>56454.0</td>\n",
       "      <td>4209.0</td>\n",
       "      <td>17003.0</td>\n",
       "      <td>6875.0</td>\n",
       "      <td>6548.0</td>\n",
       "      <td>21884.0</td>\n",
       "      <td>151062.0</td>\n",
       "    </tr>\n",
       "    <tr>\n",
       "      <th>BX-I</th>\n",
       "      <td>67153.0</td>\n",
       "      <td>98053.0</td>\n",
       "      <td>7141.0</td>\n",
       "      <td>34792.0</td>\n",
       "      <td>14003.0</td>\n",
       "      <td>13047.0</td>\n",
       "      <td>44068.0</td>\n",
       "      <td>278257.0</td>\n",
       "    </tr>\n",
       "    <tr>\n",
       "      <th>GR-E</th>\n",
       "      <td>175748.0</td>\n",
       "      <td>279466.0</td>\n",
       "      <td>11649.0</td>\n",
       "      <td>96499.0</td>\n",
       "      <td>30123.0</td>\n",
       "      <td>487538.0</td>\n",
       "      <td>NaN</td>\n",
       "      <td>1081023.0</td>\n",
       "    </tr>\n",
       "    <tr>\n",
       "      <th>GR-I</th>\n",
       "      <td>177359.0</td>\n",
       "      <td>282857.0</td>\n",
       "      <td>11756.0</td>\n",
       "      <td>98268.0</td>\n",
       "      <td>30837.0</td>\n",
       "      <td>494983.0</td>\n",
       "      <td>NaN</td>\n",
       "      <td>1096060.0</td>\n",
       "    </tr>\n",
       "    <tr>\n",
       "      <th>LOC-MDS</th>\n",
       "      <td>666636.0</td>\n",
       "      <td>2212573.0</td>\n",
       "      <td>54205.0</td>\n",
       "      <td>1219145.0</td>\n",
       "      <td>272587.0</td>\n",
       "      <td>842797.0</td>\n",
       "      <td>NaN</td>\n",
       "      <td>5267943.0</td>\n",
       "    </tr>\n",
       "  </tbody>\n",
       "</table>\n",
       "</div>"
      ],
      "text/plain": [
       "gender     female       male  ambiguous    unknown  no-author-rec  \\\n",
       "dataset                                                             \n",
       "AZ       217032.0   490953.0    17781.0   239324.0       141112.0   \n",
       "BX-E      38089.0    56454.0     4209.0    17003.0         6875.0   \n",
       "BX-I      67153.0    98053.0     7141.0    34792.0        14003.0   \n",
       "GR-E     175748.0   279466.0    11649.0    96499.0        30123.0   \n",
       "GR-I     177359.0   282857.0    11756.0    98268.0        30837.0   \n",
       "LOC-MDS  666636.0  2212573.0    54205.0  1219145.0       272587.0   \n",
       "\n",
       "gender   no-book-author    no-book      total  \n",
       "dataset                                        \n",
       "AZ             151529.0  1010096.0  2267827.0  \n",
       "BX-E             6548.0    21884.0   151062.0  \n",
       "BX-I            13047.0    44068.0   278257.0  \n",
       "GR-E           487538.0        NaN  1081023.0  \n",
       "GR-I           494983.0        NaN  1096060.0  \n",
       "LOC-MDS        842797.0        NaN  5267943.0  "
      ]
     },
     "execution_count": 6,
     "metadata": {},
     "output_type": "execute_result"
    }
   ],
   "source": [
    "book_counts = link_stats.pivot('dataset', 'gender', 'n_books')\n",
    "book_counts = book_counts.reindex(columns=all_codes)\n",
    "book_counts.assign(total=book_counts.sum(axis=1))"
   ]
  },
  {
   "cell_type": "code",
   "execution_count": 7,
   "id": "c6f62c2d",
   "metadata": {
    "execution": {
     "iopub.execute_input": "2021-11-10T00:38:24.755536Z",
     "iopub.status.busy": "2021-11-10T00:38:24.754543Z",
     "iopub.status.idle": "2021-11-10T00:38:24.779804Z",
     "shell.execute_reply": "2021-11-10T00:38:24.778771Z"
    },
    "tags": []
   },
   "outputs": [
    {
     "data": {
      "text/html": [
       "<div>\n",
       "<style scoped>\n",
       "    .dataframe tbody tr th:only-of-type {\n",
       "        vertical-align: middle;\n",
       "    }\n",
       "\n",
       "    .dataframe tbody tr th {\n",
       "        vertical-align: top;\n",
       "    }\n",
       "\n",
       "    .dataframe thead th {\n",
       "        text-align: right;\n",
       "    }\n",
       "</style>\n",
       "<table border=\"1\" class=\"dataframe\">\n",
       "  <thead>\n",
       "    <tr style=\"text-align: right;\">\n",
       "      <th>gender</th>\n",
       "      <th>female</th>\n",
       "      <th>male</th>\n",
       "      <th>ambiguous</th>\n",
       "      <th>unknown</th>\n",
       "      <th>no-author-rec</th>\n",
       "      <th>no-book-author</th>\n",
       "      <th>no-book</th>\n",
       "    </tr>\n",
       "    <tr>\n",
       "      <th>dataset</th>\n",
       "      <th></th>\n",
       "      <th></th>\n",
       "      <th></th>\n",
       "      <th></th>\n",
       "      <th></th>\n",
       "      <th></th>\n",
       "      <th></th>\n",
       "    </tr>\n",
       "  </thead>\n",
       "  <tbody>\n",
       "    <tr>\n",
       "      <th>AZ</th>\n",
       "      <td>4320053.0</td>\n",
       "      <td>6598367.0</td>\n",
       "      <td>552578.0</td>\n",
       "      <td>2082393.0</td>\n",
       "      <td>732627.0</td>\n",
       "      <td>2076437.0</td>\n",
       "      <td>6096946.0</td>\n",
       "    </tr>\n",
       "    <tr>\n",
       "      <th>BX-E</th>\n",
       "      <td>138864.0</td>\n",
       "      <td>185762.0</td>\n",
       "      <td>31171.0</td>\n",
       "      <td>27577.0</td>\n",
       "      <td>8759.0</td>\n",
       "      <td>9505.0</td>\n",
       "      <td>25524.0</td>\n",
       "    </tr>\n",
       "    <tr>\n",
       "      <th>BX-I</th>\n",
       "      <td>391574.0</td>\n",
       "      <td>469654.0</td>\n",
       "      <td>78178.0</td>\n",
       "      <td>78104.0</td>\n",
       "      <td>23301.0</td>\n",
       "      <td>25905.0</td>\n",
       "      <td>62530.0</td>\n",
       "    </tr>\n",
       "    <tr>\n",
       "      <th>GR-E</th>\n",
       "      <td>34919361.0</td>\n",
       "      <td>35174478.0</td>\n",
       "      <td>8874836.0</td>\n",
       "      <td>3978466.0</td>\n",
       "      <td>531128.0</td>\n",
       "      <td>11611175.0</td>\n",
       "      <td>NaN</td>\n",
       "    </tr>\n",
       "    <tr>\n",
       "      <th>GR-I</th>\n",
       "      <td>76649642.0</td>\n",
       "      <td>71778599.0</td>\n",
       "      <td>14398601.0</td>\n",
       "      <td>10519906.0</td>\n",
       "      <td>1499773.0</td>\n",
       "      <td>33150407.0</td>\n",
       "      <td>NaN</td>\n",
       "    </tr>\n",
       "  </tbody>\n",
       "</table>\n",
       "</div>"
      ],
      "text/plain": [
       "gender       female        male   ambiguous     unknown  no-author-rec  \\\n",
       "dataset                                                                  \n",
       "AZ        4320053.0   6598367.0    552578.0   2082393.0       732627.0   \n",
       "BX-E       138864.0    185762.0     31171.0     27577.0         8759.0   \n",
       "BX-I       391574.0    469654.0     78178.0     78104.0        23301.0   \n",
       "GR-E     34919361.0  35174478.0   8874836.0   3978466.0       531128.0   \n",
       "GR-I     76649642.0  71778599.0  14398601.0  10519906.0      1499773.0   \n",
       "\n",
       "gender   no-book-author    no-book  \n",
       "dataset                             \n",
       "AZ            2076437.0  6096946.0  \n",
       "BX-E             9505.0    25524.0  \n",
       "BX-I            25905.0    62530.0  \n",
       "GR-E         11611175.0        NaN  \n",
       "GR-I         33150407.0        NaN  "
      ]
     },
     "execution_count": 7,
     "metadata": {},
     "output_type": "execute_result"
    }
   ],
   "source": [
    "act_counts = link_stats.pivot('dataset', 'gender', 'n_actions')\n",
    "act_counts = act_counts.reindex(columns=all_codes)\n",
    "act_counts.drop(index='LOC-MDS', inplace=True)\n",
    "act_counts"
   ]
  },
  {
   "cell_type": "markdown",
   "id": "61d45e32",
   "metadata": {},
   "source": [
    "We're going to want to compute versions of this table as fractions, e.g. the fraction of books that are written by women.  We will use the following helper function:"
   ]
  },
  {
   "cell_type": "code",
   "execution_count": 8,
   "id": "fe0b2eb6",
   "metadata": {
    "execution": {
     "iopub.execute_input": "2021-11-10T00:38:24.783797Z",
     "iopub.status.busy": "2021-11-10T00:38:24.783797Z",
     "iopub.status.idle": "2021-11-10T00:38:24.793747Z",
     "shell.execute_reply": "2021-11-10T00:38:24.794729Z"
    }
   },
   "outputs": [],
   "source": [
    "def fractionalize(data, columns, unlinked=None):\n",
    "    fracs = data[columns]\n",
    "    fracs.columns = fracs.columns.astype('str')\n",
    "    if unlinked:\n",
    "        fracs = fracs.assign(unlinked=data[unlinked].sum(axis=1))\n",
    "    totals = fracs.sum(axis=1)\n",
    "    return fracs.divide(totals, axis=0)"
   ]
  },
  {
   "cell_type": "markdown",
   "id": "2c42a61c",
   "metadata": {},
   "source": [
    "And a helper function for plotting bar charts:"
   ]
  },
  {
   "cell_type": "code",
   "execution_count": 9,
   "id": "4085a480",
   "metadata": {
    "execution": {
     "iopub.execute_input": "2021-11-10T00:38:24.804712Z",
     "iopub.status.busy": "2021-11-10T00:38:24.803698Z",
     "iopub.status.idle": "2021-11-10T00:38:24.808697Z",
     "shell.execute_reply": "2021-11-10T00:38:24.809696Z"
    }
   },
   "outputs": [],
   "source": [
    "def plot_bars(fracs, ax=None, cmap=mpl.cm.Dark2):\n",
    "    if ax is None:\n",
    "        ax = plt.gca()\n",
    "    size = 0.5\n",
    "    ind = np.arange(len(fracs))\n",
    "    start = pd.Series(0, index=fracs.index)\n",
    "    for i, col in enumerate(fracs.columns):\n",
    "        vals = fracs.iloc[:, i]\n",
    "        rects = ax.barh(ind, vals, size, left=start, label=col, color=cmap(i))\n",
    "        for j, rec in enumerate(rects):\n",
    "            if vals.iloc[j] < 0.1 or np.isnan(vals.iloc[j]): continue\n",
    "            y = rec.get_y() + rec.get_height() / 2\n",
    "            x = start.iloc[j] + vals.iloc[j] / 2\n",
    "            ax.annotate('{:.1f}%'.format(vals.iloc[j] * 100),\n",
    "                        xy=(x,y), ha='center', va='center', color='white',\n",
    "                        fontweight='bold')\n",
    "        start += vals.fillna(0)\n",
    "    ax.set_xlabel('Fraction of Books')\n",
    "    ax.set_ylabel('Data Set')\n",
    "    ax.set_yticks(ind)\n",
    "    ax.set_yticklabels(fracs.index)\n",
    "    ax.legend(loc='center left', bbox_to_anchor=(1, 0.5))"
   ]
  },
  {
   "cell_type": "markdown",
   "id": "929ac803",
   "metadata": {},
   "source": [
    "## Resolution of Books\n",
    "\n",
    "What fraction of *unique books* are resolved from each source?"
   ]
  },
  {
   "cell_type": "code",
   "execution_count": 10,
   "id": "34a597ab",
   "metadata": {
    "execution": {
     "iopub.execute_input": "2021-11-10T00:38:24.819714Z",
     "iopub.status.busy": "2021-11-10T00:38:24.818730Z",
     "iopub.status.idle": "2021-11-10T00:38:24.824689Z",
     "shell.execute_reply": "2021-11-10T00:38:24.824048Z"
    }
   },
   "outputs": [
    {
     "data": {
      "text/html": [
       "<div>\n",
       "<style scoped>\n",
       "    .dataframe tbody tr th:only-of-type {\n",
       "        vertical-align: middle;\n",
       "    }\n",
       "\n",
       "    .dataframe tbody tr th {\n",
       "        vertical-align: top;\n",
       "    }\n",
       "\n",
       "    .dataframe thead th {\n",
       "        text-align: right;\n",
       "    }\n",
       "</style>\n",
       "<table border=\"1\" class=\"dataframe\">\n",
       "  <thead>\n",
       "    <tr style=\"text-align: right;\">\n",
       "      <th>gender</th>\n",
       "      <th>female</th>\n",
       "      <th>male</th>\n",
       "      <th>ambiguous</th>\n",
       "      <th>unknown</th>\n",
       "      <th>no-author-rec</th>\n",
       "      <th>no-book-author</th>\n",
       "      <th>no-book</th>\n",
       "    </tr>\n",
       "    <tr>\n",
       "      <th>dataset</th>\n",
       "      <th></th>\n",
       "      <th></th>\n",
       "      <th></th>\n",
       "      <th></th>\n",
       "      <th></th>\n",
       "      <th></th>\n",
       "      <th></th>\n",
       "    </tr>\n",
       "  </thead>\n",
       "  <tbody>\n",
       "    <tr>\n",
       "      <th>AZ</th>\n",
       "      <td>0.095700</td>\n",
       "      <td>0.216486</td>\n",
       "      <td>0.007841</td>\n",
       "      <td>0.105530</td>\n",
       "      <td>0.062223</td>\n",
       "      <td>0.066817</td>\n",
       "      <td>0.445403</td>\n",
       "    </tr>\n",
       "    <tr>\n",
       "      <th>BX-E</th>\n",
       "      <td>0.252142</td>\n",
       "      <td>0.373714</td>\n",
       "      <td>0.027863</td>\n",
       "      <td>0.112556</td>\n",
       "      <td>0.045511</td>\n",
       "      <td>0.043346</td>\n",
       "      <td>0.144868</td>\n",
       "    </tr>\n",
       "    <tr>\n",
       "      <th>BX-I</th>\n",
       "      <td>0.241334</td>\n",
       "      <td>0.352383</td>\n",
       "      <td>0.025663</td>\n",
       "      <td>0.125035</td>\n",
       "      <td>0.050324</td>\n",
       "      <td>0.046888</td>\n",
       "      <td>0.158372</td>\n",
       "    </tr>\n",
       "    <tr>\n",
       "      <th>GR-E</th>\n",
       "      <td>0.162576</td>\n",
       "      <td>0.258520</td>\n",
       "      <td>0.010776</td>\n",
       "      <td>0.089266</td>\n",
       "      <td>0.027865</td>\n",
       "      <td>0.450997</td>\n",
       "      <td>NaN</td>\n",
       "    </tr>\n",
       "    <tr>\n",
       "      <th>GR-I</th>\n",
       "      <td>0.161815</td>\n",
       "      <td>0.258067</td>\n",
       "      <td>0.010726</td>\n",
       "      <td>0.089656</td>\n",
       "      <td>0.028134</td>\n",
       "      <td>0.451602</td>\n",
       "      <td>NaN</td>\n",
       "    </tr>\n",
       "    <tr>\n",
       "      <th>LOC-MDS</th>\n",
       "      <td>0.126546</td>\n",
       "      <td>0.420007</td>\n",
       "      <td>0.010290</td>\n",
       "      <td>0.231427</td>\n",
       "      <td>0.051744</td>\n",
       "      <td>0.159986</td>\n",
       "      <td>NaN</td>\n",
       "    </tr>\n",
       "  </tbody>\n",
       "</table>\n",
       "</div>"
      ],
      "text/plain": [
       "gender     female      male  ambiguous   unknown  no-author-rec  \\\n",
       "dataset                                                           \n",
       "AZ       0.095700  0.216486   0.007841  0.105530       0.062223   \n",
       "BX-E     0.252142  0.373714   0.027863  0.112556       0.045511   \n",
       "BX-I     0.241334  0.352383   0.025663  0.125035       0.050324   \n",
       "GR-E     0.162576  0.258520   0.010776  0.089266       0.027865   \n",
       "GR-I     0.161815  0.258067   0.010726  0.089656       0.028134   \n",
       "LOC-MDS  0.126546  0.420007   0.010290  0.231427       0.051744   \n",
       "\n",
       "gender   no-book-author   no-book  \n",
       "dataset                            \n",
       "AZ             0.066817  0.445403  \n",
       "BX-E           0.043346  0.144868  \n",
       "BX-I           0.046888  0.158372  \n",
       "GR-E           0.450997       NaN  \n",
       "GR-I           0.451602       NaN  \n",
       "LOC-MDS        0.159986       NaN  "
      ]
     },
     "execution_count": 10,
     "metadata": {},
     "output_type": "execute_result"
    }
   ],
   "source": [
    "fractionalize(book_counts, link_codes + unlink_codes)"
   ]
  },
  {
   "cell_type": "code",
   "execution_count": 11,
   "id": "01284106",
   "metadata": {
    "execution": {
     "iopub.execute_input": "2021-11-10T00:38:24.833697Z",
     "iopub.status.busy": "2021-11-10T00:38:24.832697Z",
     "iopub.status.idle": "2021-11-10T00:38:25.091394Z",
     "shell.execute_reply": "2021-11-10T00:38:25.092363Z"
    }
   },
   "outputs": [
    {
     "data": {
      "image/png": "[encoded data removed]",
      "text/plain": [
       "<Figure size 432x288 with 1 Axes>"
      ]
     },
     "metadata": {
      "needs_background": "light"
     },
     "output_type": "display_data"
    }
   ],
   "source": [
    "plot_bars(fractionalize(book_counts, link_codes + unlink_codes))"
   ]
  },
  {
   "cell_type": "code",
   "execution_count": 12,
   "id": "68fa58c0",
   "metadata": {
    "execution": {
     "iopub.execute_input": "2021-11-10T00:38:25.098362Z",
     "iopub.status.busy": "2021-11-10T00:38:25.097361Z",
     "iopub.status.idle": "2021-11-10T00:38:25.107411Z",
     "shell.execute_reply": "2021-11-10T00:38:25.108361Z"
    }
   },
   "outputs": [
    {
     "data": {
      "text/html": [
       "<div>\n",
       "<style scoped>\n",
       "    .dataframe tbody tr th:only-of-type {\n",
       "        vertical-align: middle;\n",
       "    }\n",
       "\n",
       "    .dataframe tbody tr th {\n",
       "        vertical-align: top;\n",
       "    }\n",
       "\n",
       "    .dataframe thead th {\n",
       "        text-align: right;\n",
       "    }\n",
       "</style>\n",
       "<table border=\"1\" class=\"dataframe\">\n",
       "  <thead>\n",
       "    <tr style=\"text-align: right;\">\n",
       "      <th>gender</th>\n",
       "      <th>female</th>\n",
       "      <th>male</th>\n",
       "      <th>ambiguous</th>\n",
       "      <th>unknown</th>\n",
       "      <th>unlinked</th>\n",
       "    </tr>\n",
       "    <tr>\n",
       "      <th>dataset</th>\n",
       "      <th></th>\n",
       "      <th></th>\n",
       "      <th></th>\n",
       "      <th></th>\n",
       "      <th></th>\n",
       "    </tr>\n",
       "  </thead>\n",
       "  <tbody>\n",
       "    <tr>\n",
       "      <th>AZ</th>\n",
       "      <td>0.095700</td>\n",
       "      <td>0.216486</td>\n",
       "      <td>0.007841</td>\n",
       "      <td>0.105530</td>\n",
       "      <td>0.574443</td>\n",
       "    </tr>\n",
       "    <tr>\n",
       "      <th>BX-E</th>\n",
       "      <td>0.252142</td>\n",
       "      <td>0.373714</td>\n",
       "      <td>0.027863</td>\n",
       "      <td>0.112556</td>\n",
       "      <td>0.233725</td>\n",
       "    </tr>\n",
       "    <tr>\n",
       "      <th>BX-I</th>\n",
       "      <td>0.241334</td>\n",
       "      <td>0.352383</td>\n",
       "      <td>0.025663</td>\n",
       "      <td>0.125035</td>\n",
       "      <td>0.255584</td>\n",
       "    </tr>\n",
       "    <tr>\n",
       "      <th>GR-E</th>\n",
       "      <td>0.162576</td>\n",
       "      <td>0.258520</td>\n",
       "      <td>0.010776</td>\n",
       "      <td>0.089266</td>\n",
       "      <td>0.478862</td>\n",
       "    </tr>\n",
       "    <tr>\n",
       "      <th>GR-I</th>\n",
       "      <td>0.161815</td>\n",
       "      <td>0.258067</td>\n",
       "      <td>0.010726</td>\n",
       "      <td>0.089656</td>\n",
       "      <td>0.479737</td>\n",
       "    </tr>\n",
       "    <tr>\n",
       "      <th>LOC-MDS</th>\n",
       "      <td>0.126546</td>\n",
       "      <td>0.420007</td>\n",
       "      <td>0.010290</td>\n",
       "      <td>0.231427</td>\n",
       "      <td>0.211730</td>\n",
       "    </tr>\n",
       "  </tbody>\n",
       "</table>\n",
       "</div>"
      ],
      "text/plain": [
       "gender     female      male  ambiguous   unknown  unlinked\n",
       "dataset                                                   \n",
       "AZ       0.095700  0.216486   0.007841  0.105530  0.574443\n",
       "BX-E     0.252142  0.373714   0.027863  0.112556  0.233725\n",
       "BX-I     0.241334  0.352383   0.025663  0.125035  0.255584\n",
       "GR-E     0.162576  0.258520   0.010776  0.089266  0.478862\n",
       "GR-I     0.161815  0.258067   0.010726  0.089656  0.479737\n",
       "LOC-MDS  0.126546  0.420007   0.010290  0.231427  0.211730"
      ]
     },
     "execution_count": 12,
     "metadata": {},
     "output_type": "execute_result"
    }
   ],
   "source": [
    "fractionalize(book_counts, link_codes, unlink_codes)"
   ]
  },
  {
   "cell_type": "code",
   "execution_count": 13,
   "id": "5fe6b52d",
   "metadata": {
    "execution": {
     "iopub.execute_input": "2021-11-10T00:38:25.117361Z",
     "iopub.status.busy": "2021-11-10T00:38:25.117361Z",
     "iopub.status.idle": "2021-11-10T00:38:25.316994Z",
     "shell.execute_reply": "2021-11-10T00:38:25.316002Z"
    }
   },
   "outputs": [
    {
     "data": {
      "image/png": "[encoded data removed]",
      "text/plain": [
       "<Figure size 432x288 with 1 Axes>"
      ]
     },
     "metadata": {
      "needs_background": "light"
     },
     "output_type": "display_data"
    }
   ],
   "source": [
    "plot_bars(fractionalize(book_counts, link_codes, unlink_codes))"
   ]
  },
  {
   "cell_type": "code",
   "execution_count": 14,
   "id": "430ae5ca",
   "metadata": {
    "execution": {
     "iopub.execute_input": "2021-11-10T00:38:25.328026Z",
     "iopub.status.busy": "2021-11-10T00:38:25.320994Z",
     "iopub.status.idle": "2021-11-10T00:38:25.470222Z",
     "shell.execute_reply": "2021-11-10T00:38:25.470222Z"
    }
   },
   "outputs": [
    {
     "data": {
      "image/png": "[encoded data removed]",
      "text/plain": [
       "<Figure size 432x288 with 1 Axes>"
      ]
     },
     "metadata": {
      "needs_background": "light"
     },
     "output_type": "display_data"
    }
   ],
   "source": [
    "plot_bars(fractionalize(book_counts, ['female', 'male']))"
   ]
  },
  {
   "cell_type": "markdown",
   "id": "8da3b9da",
   "metadata": {},
   "source": [
    "## Resolution of Ratings\n",
    "\n",
    "What fraction of *rating actions* have each resolution result?"
   ]
  },
  {
   "cell_type": "code",
   "execution_count": 15,
   "id": "819a8ad2",
   "metadata": {
    "execution": {
     "iopub.execute_input": "2021-11-10T00:38:25.479222Z",
     "iopub.status.busy": "2021-11-10T00:38:25.478253Z",
     "iopub.status.idle": "2021-11-10T00:38:25.486222Z",
     "shell.execute_reply": "2021-11-10T00:38:25.485234Z"
    }
   },
   "outputs": [
    {
     "data": {
      "text/html": [
       "<div>\n",
       "<style scoped>\n",
       "    .dataframe tbody tr th:only-of-type {\n",
       "        vertical-align: middle;\n",
       "    }\n",
       "\n",
       "    .dataframe tbody tr th {\n",
       "        vertical-align: top;\n",
       "    }\n",
       "\n",
       "    .dataframe thead th {\n",
       "        text-align: right;\n",
       "    }\n",
       "</style>\n",
       "<table border=\"1\" class=\"dataframe\">\n",
       "  <thead>\n",
       "    <tr style=\"text-align: right;\">\n",
       "      <th>gender</th>\n",
       "      <th>female</th>\n",
       "      <th>male</th>\n",
       "      <th>ambiguous</th>\n",
       "      <th>unknown</th>\n",
       "      <th>no-author-rec</th>\n",
       "      <th>no-book-author</th>\n",
       "      <th>no-book</th>\n",
       "    </tr>\n",
       "    <tr>\n",
       "      <th>dataset</th>\n",
       "      <th></th>\n",
       "      <th></th>\n",
       "      <th></th>\n",
       "      <th></th>\n",
       "      <th></th>\n",
       "      <th></th>\n",
       "      <th></th>\n",
       "    </tr>\n",
       "  </thead>\n",
       "  <tbody>\n",
       "    <tr>\n",
       "      <th>AZ</th>\n",
       "      <td>0.192349</td>\n",
       "      <td>0.293791</td>\n",
       "      <td>0.024603</td>\n",
       "      <td>0.092718</td>\n",
       "      <td>0.032620</td>\n",
       "      <td>0.092453</td>\n",
       "      <td>0.271465</td>\n",
       "    </tr>\n",
       "    <tr>\n",
       "      <th>BX-E</th>\n",
       "      <td>0.325085</td>\n",
       "      <td>0.434875</td>\n",
       "      <td>0.072972</td>\n",
       "      <td>0.064559</td>\n",
       "      <td>0.020505</td>\n",
       "      <td>0.022252</td>\n",
       "      <td>0.059753</td>\n",
       "    </tr>\n",
       "    <tr>\n",
       "      <th>BX-I</th>\n",
       "      <td>0.346757</td>\n",
       "      <td>0.415901</td>\n",
       "      <td>0.069230</td>\n",
       "      <td>0.069165</td>\n",
       "      <td>0.020634</td>\n",
       "      <td>0.022940</td>\n",
       "      <td>0.055373</td>\n",
       "    </tr>\n",
       "    <tr>\n",
       "      <th>GR-E</th>\n",
       "      <td>0.367226</td>\n",
       "      <td>0.369909</td>\n",
       "      <td>0.093331</td>\n",
       "      <td>0.041839</td>\n",
       "      <td>0.005586</td>\n",
       "      <td>0.122108</td>\n",
       "      <td>NaN</td>\n",
       "    </tr>\n",
       "    <tr>\n",
       "      <th>GR-I</th>\n",
       "      <td>0.368513</td>\n",
       "      <td>0.345095</td>\n",
       "      <td>0.069225</td>\n",
       "      <td>0.050577</td>\n",
       "      <td>0.007211</td>\n",
       "      <td>0.159379</td>\n",
       "      <td>NaN</td>\n",
       "    </tr>\n",
       "  </tbody>\n",
       "</table>\n",
       "</div>"
      ],
      "text/plain": [
       "gender     female      male  ambiguous   unknown  no-author-rec  \\\n",
       "dataset                                                           \n",
       "AZ       0.192349  0.293791   0.024603  0.092718       0.032620   \n",
       "BX-E     0.325085  0.434875   0.072972  0.064559       0.020505   \n",
       "BX-I     0.346757  0.415901   0.069230  0.069165       0.020634   \n",
       "GR-E     0.367226  0.369909   0.093331  0.041839       0.005586   \n",
       "GR-I     0.368513  0.345095   0.069225  0.050577       0.007211   \n",
       "\n",
       "gender   no-book-author   no-book  \n",
       "dataset                            \n",
       "AZ             0.092453  0.271465  \n",
       "BX-E           0.022252  0.059753  \n",
       "BX-I           0.022940  0.055373  \n",
       "GR-E           0.122108       NaN  \n",
       "GR-I           0.159379       NaN  "
      ]
     },
     "execution_count": 15,
     "metadata": {},
     "output_type": "execute_result"
    }
   ],
   "source": [
    "fractionalize(act_counts, link_codes + unlink_codes)"
   ]
  },
  {
   "cell_type": "code",
   "execution_count": 16,
   "id": "d172036d",
   "metadata": {
    "execution": {
     "iopub.execute_input": "2021-11-10T00:38:25.499223Z",
     "iopub.status.busy": "2021-11-10T00:38:25.498241Z",
     "iopub.status.idle": "2021-11-10T00:38:25.689220Z",
     "shell.execute_reply": "2021-11-10T00:38:25.689220Z"
    }
   },
   "outputs": [
    {
     "data": {
      "image/png": "[encoded data removed]",
      "text/plain": [
       "<Figure size 432x288 with 1 Axes>"
      ]
     },
     "metadata": {
      "needs_background": "light"
     },
     "output_type": "display_data"
    }
   ],
   "source": [
    "plot_bars(fractionalize(act_counts, link_codes + unlink_codes))"
   ]
  },
  {
   "cell_type": "code",
   "execution_count": 17,
   "id": "cefeaab3",
   "metadata": {
    "execution": {
     "iopub.execute_input": "2021-11-10T00:38:25.700226Z",
     "iopub.status.busy": "2021-11-10T00:38:25.699222Z",
     "iopub.status.idle": "2021-11-10T00:38:25.706220Z",
     "shell.execute_reply": "2021-11-10T00:38:25.706220Z"
    }
   },
   "outputs": [
    {
     "data": {
      "text/html": [
       "<div>\n",
       "<style scoped>\n",
       "    .dataframe tbody tr th:only-of-type {\n",
       "        vertical-align: middle;\n",
       "    }\n",
       "\n",
       "    .dataframe tbody tr th {\n",
       "        vertical-align: top;\n",
       "    }\n",
       "\n",
       "    .dataframe thead th {\n",
       "        text-align: right;\n",
       "    }\n",
       "</style>\n",
       "<table border=\"1\" class=\"dataframe\">\n",
       "  <thead>\n",
       "    <tr style=\"text-align: right;\">\n",
       "      <th>gender</th>\n",
       "      <th>female</th>\n",
       "      <th>male</th>\n",
       "      <th>ambiguous</th>\n",
       "      <th>unknown</th>\n",
       "      <th>unlinked</th>\n",
       "    </tr>\n",
       "    <tr>\n",
       "      <th>dataset</th>\n",
       "      <th></th>\n",
       "      <th></th>\n",
       "      <th></th>\n",
       "      <th></th>\n",
       "      <th></th>\n",
       "    </tr>\n",
       "  </thead>\n",
       "  <tbody>\n",
       "    <tr>\n",
       "      <th>AZ</th>\n",
       "      <td>0.192349</td>\n",
       "      <td>0.293791</td>\n",
       "      <td>0.024603</td>\n",
       "      <td>0.092718</td>\n",
       "      <td>0.396538</td>\n",
       "    </tr>\n",
       "    <tr>\n",
       "      <th>BX-E</th>\n",
       "      <td>0.325085</td>\n",
       "      <td>0.434875</td>\n",
       "      <td>0.072972</td>\n",
       "      <td>0.064559</td>\n",
       "      <td>0.102509</td>\n",
       "    </tr>\n",
       "    <tr>\n",
       "      <th>BX-I</th>\n",
       "      <td>0.346757</td>\n",
       "      <td>0.415901</td>\n",
       "      <td>0.069230</td>\n",
       "      <td>0.069165</td>\n",
       "      <td>0.098947</td>\n",
       "    </tr>\n",
       "    <tr>\n",
       "      <th>GR-E</th>\n",
       "      <td>0.367226</td>\n",
       "      <td>0.369909</td>\n",
       "      <td>0.093331</td>\n",
       "      <td>0.041839</td>\n",
       "      <td>0.127693</td>\n",
       "    </tr>\n",
       "    <tr>\n",
       "      <th>GR-I</th>\n",
       "      <td>0.368513</td>\n",
       "      <td>0.345095</td>\n",
       "      <td>0.069225</td>\n",
       "      <td>0.050577</td>\n",
       "      <td>0.166590</td>\n",
       "    </tr>\n",
       "  </tbody>\n",
       "</table>\n",
       "</div>"
      ],
      "text/plain": [
       "gender     female      male  ambiguous   unknown  unlinked\n",
       "dataset                                                   \n",
       "AZ       0.192349  0.293791   0.024603  0.092718  0.396538\n",
       "BX-E     0.325085  0.434875   0.072972  0.064559  0.102509\n",
       "BX-I     0.346757  0.415901   0.069230  0.069165  0.098947\n",
       "GR-E     0.367226  0.369909   0.093331  0.041839  0.127693\n",
       "GR-I     0.368513  0.345095   0.069225  0.050577  0.166590"
      ]
     },
     "execution_count": 17,
     "metadata": {},
     "output_type": "execute_result"
    }
   ],
   "source": [
    "fractionalize(act_counts, link_codes, unlink_codes)"
   ]
  },
  {
   "cell_type": "code",
   "execution_count": 18,
   "id": "a6a970c9",
   "metadata": {
    "execution": {
     "iopub.execute_input": "2021-11-10T00:38:25.711220Z",
     "iopub.status.busy": "2021-11-10T00:38:25.708254Z",
     "iopub.status.idle": "2021-11-10T00:38:25.925088Z",
     "shell.execute_reply": "2021-11-10T00:38:25.925088Z"
    }
   },
   "outputs": [
    {
     "data": {
      "image/png": "[encoded data removed]",
      "text/plain": [
       "<Figure size 432x288 with 1 Axes>"
      ]
     },
     "metadata": {
      "needs_background": "light"
     },
     "output_type": "display_data"
    }
   ],
   "source": [
    "plot_bars(fractionalize(act_counts, link_codes, unlink_codes))"
   ]
  },
  {
   "cell_type": "code",
   "execution_count": 19,
   "id": "45ca6294",
   "metadata": {
    "execution": {
     "iopub.execute_input": "2021-11-10T00:38:25.935088Z",
     "iopub.status.busy": "2021-11-10T00:38:25.934122Z",
     "iopub.status.idle": "2021-11-10T00:38:26.051088Z",
     "shell.execute_reply": "2021-11-10T00:38:26.052087Z"
    }
   },
   "outputs": [
    {
     "data": {
      "image/png": "[encoded data removed]",
      "text/plain": [
       "<Figure size 432x288 with 1 Axes>"
      ]
     },
     "metadata": {
      "needs_background": "light"
     },
     "output_type": "display_data"
    }
   ],
   "source": [
    "plot_bars(fractionalize(act_counts, ['female', 'male']))"
   ]
  },
  {
   "cell_type": "markdown",
   "id": "087bcddb",
   "metadata": {},
   "source": [
    "## Metrics\n",
    "\n",
    "Finally, we're going to write coverage metrics."
   ]
  },
  {
   "cell_type": "code",
   "execution_count": 20,
   "id": "3f209945",
   "metadata": {
    "execution": {
     "iopub.execute_input": "2021-11-10T00:38:26.057087Z",
     "iopub.status.busy": "2021-11-10T00:38:26.057087Z",
     "iopub.status.idle": "2021-11-10T00:38:26.068087Z",
     "shell.execute_reply": "2021-11-10T00:38:26.067102Z"
    }
   },
   "outputs": [
    {
     "data": {
      "text/plain": [
       "dataset\n",
       "AZ         0.320027\n",
       "BX-E       0.653718\n",
       "BX-I       0.619381\n",
       "GR-E       0.431871\n",
       "GR-I       0.430608\n",
       "LOC-MDS    0.556842\n",
       "dtype: float64"
      ]
     },
     "execution_count": 20,
     "metadata": {},
     "output_type": "execute_result"
    }
   ],
   "source": [
    "book_tots = book_counts.sum(axis=1)\n",
    "book_link = book_counts['male'] + book_counts['female'] + book_counts['ambiguous']\n",
    "book_cover = book_link / book_tots\n",
    "book_cover"
   ]
  },
  {
   "cell_type": "code",
   "execution_count": 21,
   "id": "0173722c",
   "metadata": {
    "execution": {
     "iopub.execute_input": "2021-11-10T00:38:26.071087Z",
     "iopub.status.busy": "2021-11-10T00:38:26.070145Z",
     "iopub.status.idle": "2021-11-10T00:38:26.083088Z",
     "shell.execute_reply": "2021-11-10T00:38:26.083088Z"
    }
   },
   "outputs": [],
   "source": [
    "book_cover.to_json('book-coverage.json')"
   ]
  },
  {
   "cell_type": "code",
   "execution_count": null,
   "id": "146425b7",
   "metadata": {},
   "outputs": [],
   "source": []
  }
 ],
 "metadata": {
  "jupytext": {
   "formats": "ipynb,py:percent"
  },
  "kernelspec": {
   "display_name": "Python 3 (ipykernel)",
   "language": "python",
   "name": "python3"
  },
  "language_info": {
   "codemirror_mode": {
    "name": "ipython",
    "version": 3
   },
   "file_extension": ".py",
   "mimetype": "text/x-python",
   "name": "python",
   "nbconvert_exporter": "python",
   "pygments_lexer": "ipython3",
   "version": "3.8.12"
  }
 },
 "nbformat": 4,
 "nbformat_minor": 5
}
