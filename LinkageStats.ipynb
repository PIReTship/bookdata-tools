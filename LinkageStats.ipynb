{
 "cells": [
  {
   "cell_type": "markdown",
   "id": "d4afaa44",
   "metadata": {},
   "source": [
    "# Book Data Linkage Statistics\n",
    "\n",
    "This notebook presents statistics of the book data integration."
   ]
  },
  {
   "cell_type": "markdown",
   "id": "5e7d2074",
   "metadata": {},
   "source": [
    "## Setup"
   ]
  },
  {
   "cell_type": "code",
   "execution_count": 1,
   "id": "ffae647f",
   "metadata": {
    "execution": {
     "iopub.execute_input": "2022-05-12T00:24:54.691498Z",
     "iopub.status.busy": "2022-05-12T00:24:54.690795Z",
     "iopub.status.idle": "2022-05-12T00:24:56.438172Z",
     "shell.execute_reply": "2022-05-12T00:24:56.437254Z"
    },
    "tags": []
   },
   "outputs": [],
   "source": [
    "import pandas as pd\n",
    "import matplotlib as mpl\n",
    "import matplotlib.pyplot as plt\n",
    "import numpy as np"
   ]
  },
  {
   "cell_type": "markdown",
   "id": "bb2068fa",
   "metadata": {},
   "source": [
    "## Load Link Stats\n",
    "\n",
    "We compute dataset linking statitsics as `gender-stats.csv` using DataFusion.  Let's load those:"
   ]
  },
  {
   "cell_type": "code",
   "execution_count": 2,
   "id": "ed00b8f7",
   "metadata": {
    "execution": {
     "iopub.execute_input": "2022-05-12T00:24:56.443531Z",
     "iopub.status.busy": "2022-05-12T00:24:56.443256Z",
     "iopub.status.idle": "2022-05-12T00:24:56.462621Z",
     "shell.execute_reply": "2022-05-12T00:24:56.461886Z"
    },
    "tags": []
   },
   "outputs": [
    {
     "data": {
      "text/html": [
       "<div>\n",
       "<style scoped>\n",
       "    .dataframe tbody tr th:only-of-type {\n",
       "        vertical-align: middle;\n",
       "    }\n",
       "\n",
       "    .dataframe tbody tr th {\n",
       "        vertical-align: top;\n",
       "    }\n",
       "\n",
       "    .dataframe thead th {\n",
       "        text-align: right;\n",
       "    }\n",
       "</style>\n",
       "<table border=\"1\" class=\"dataframe\">\n",
       "  <thead>\n",
       "    <tr style=\"text-align: right;\">\n",
       "      <th></th>\n",
       "      <th>dataset</th>\n",
       "      <th>gender</th>\n",
       "      <th>n_books</th>\n",
       "      <th>n_actions</th>\n",
       "    </tr>\n",
       "  </thead>\n",
       "  <tbody>\n",
       "    <tr>\n",
       "      <th>0</th>\n",
       "      <td>BX-E</td>\n",
       "      <td>ambiguous</td>\n",
       "      <td>4953</td>\n",
       "      <td>39734</td>\n",
       "    </tr>\n",
       "    <tr>\n",
       "      <th>1</th>\n",
       "      <td>BX-E</td>\n",
       "      <td>no-book-author</td>\n",
       "      <td>5613</td>\n",
       "      <td>7614</td>\n",
       "    </tr>\n",
       "    <tr>\n",
       "      <th>2</th>\n",
       "      <td>BX-E</td>\n",
       "      <td>no-author-rec</td>\n",
       "      <td>6707</td>\n",
       "      <td>8474</td>\n",
       "    </tr>\n",
       "    <tr>\n",
       "      <th>3</th>\n",
       "      <td>BX-E</td>\n",
       "      <td>unknown</td>\n",
       "      <td>15234</td>\n",
       "      <td>24639</td>\n",
       "    </tr>\n",
       "    <tr>\n",
       "      <th>4</th>\n",
       "      <td>BX-E</td>\n",
       "      <td>no-book</td>\n",
       "      <td>20075</td>\n",
       "      <td>23084</td>\n",
       "    </tr>\n",
       "  </tbody>\n",
       "</table>\n",
       "</div>"
      ],
      "text/plain": [
       "  dataset          gender  n_books  n_actions\n",
       "0    BX-E       ambiguous     4953      39734\n",
       "1    BX-E  no-book-author     5613       7614\n",
       "2    BX-E   no-author-rec     6707       8474\n",
       "3    BX-E         unknown    15234      24639\n",
       "4    BX-E         no-book    20075      23084"
      ]
     },
     "execution_count": 2,
     "metadata": {},
     "output_type": "execute_result"
    }
   ],
   "source": [
    "link_stats = pd.read_csv('book-links/gender-stats.csv')\n",
    "link_stats.head()"
   ]
  },
  {
   "cell_type": "markdown",
   "id": "db41f6b0",
   "metadata": {},
   "source": [
    "Now let's define variables for our variou codes. We are first going to define our gender codes.  We'll start with the resolved codes:"
   ]
  },
  {
   "cell_type": "code",
   "execution_count": 3,
   "id": "a6276e42",
   "metadata": {
    "execution": {
     "iopub.execute_input": "2022-05-12T00:24:56.466712Z",
     "iopub.status.busy": "2022-05-12T00:24:56.466463Z",
     "iopub.status.idle": "2022-05-12T00:24:56.470925Z",
     "shell.execute_reply": "2022-05-12T00:24:56.470162Z"
    },
    "tags": []
   },
   "outputs": [],
   "source": [
    "link_codes = ['female', 'male', 'ambiguous', 'unknown']"
   ]
  },
  {
   "cell_type": "markdown",
   "id": "abf6e077",
   "metadata": {},
   "source": [
    "We want the unlink codes in order, so the last is the first link failure:"
   ]
  },
  {
   "cell_type": "code",
   "execution_count": 4,
   "id": "a5e63ccc",
   "metadata": {
    "execution": {
     "iopub.execute_input": "2022-05-12T00:24:56.475088Z",
     "iopub.status.busy": "2022-05-12T00:24:56.474821Z",
     "iopub.status.idle": "2022-05-12T00:24:56.479265Z",
     "shell.execute_reply": "2022-05-12T00:24:56.478445Z"
    },
    "tags": []
   },
   "outputs": [],
   "source": [
    "unlink_codes = ['no-author-rec', 'no-book-author', 'no-book']"
   ]
  },
  {
   "cell_type": "code",
   "execution_count": 5,
   "id": "f0dc2449",
   "metadata": {
    "execution": {
     "iopub.execute_input": "2022-05-12T00:24:56.482869Z",
     "iopub.status.busy": "2022-05-12T00:24:56.482620Z",
     "iopub.status.idle": "2022-05-12T00:24:56.486666Z",
     "shell.execute_reply": "2022-05-12T00:24:56.485902Z"
    },
    "tags": []
   },
   "outputs": [],
   "source": [
    "all_codes = link_codes + unlink_codes"
   ]
  },
  {
   "cell_type": "markdown",
   "id": "312dc92b",
   "metadata": {},
   "source": [
    "## Processing Statistics\n",
    "\n",
    "Now we'll pivot each of our count columns into a table for easier reference."
   ]
  },
  {
   "cell_type": "code",
   "execution_count": 6,
   "id": "febb856a",
   "metadata": {
    "execution": {
     "iopub.execute_input": "2022-05-12T00:24:56.490405Z",
     "iopub.status.busy": "2022-05-12T00:24:56.490074Z",
     "iopub.status.idle": "2022-05-12T00:24:56.520641Z",
     "shell.execute_reply": "2022-05-12T00:24:56.519825Z"
    },
    "tags": []
   },
   "outputs": [
    {
     "data": {
      "text/html": [
       "<div>\n",
       "<style scoped>\n",
       "    .dataframe tbody tr th:only-of-type {\n",
       "        vertical-align: middle;\n",
       "    }\n",
       "\n",
       "    .dataframe tbody tr th {\n",
       "        vertical-align: top;\n",
       "    }\n",
       "\n",
       "    .dataframe thead th {\n",
       "        text-align: right;\n",
       "    }\n",
       "</style>\n",
       "<table border=\"1\" class=\"dataframe\">\n",
       "  <thead>\n",
       "    <tr style=\"text-align: right;\">\n",
       "      <th>gender</th>\n",
       "      <th>female</th>\n",
       "      <th>male</th>\n",
       "      <th>ambiguous</th>\n",
       "      <th>unknown</th>\n",
       "      <th>no-author-rec</th>\n",
       "      <th>no-book-author</th>\n",
       "      <th>no-book</th>\n",
       "      <th>total</th>\n",
       "    </tr>\n",
       "    <tr>\n",
       "      <th>dataset</th>\n",
       "      <th></th>\n",
       "      <th></th>\n",
       "      <th></th>\n",
       "      <th></th>\n",
       "      <th></th>\n",
       "      <th></th>\n",
       "      <th></th>\n",
       "      <th></th>\n",
       "    </tr>\n",
       "  </thead>\n",
       "  <tbody>\n",
       "    <tr>\n",
       "      <th>AZ</th>\n",
       "      <td>236107.0</td>\n",
       "      <td>521692.0</td>\n",
       "      <td>20936.0</td>\n",
       "      <td>226787.0</td>\n",
       "      <td>157850.0</td>\n",
       "      <td>113652.0</td>\n",
       "      <td>985503.0</td>\n",
       "      <td>2262527.0</td>\n",
       "    </tr>\n",
       "    <tr>\n",
       "      <th>BX-E</th>\n",
       "      <td>39486.0</td>\n",
       "      <td>57107.0</td>\n",
       "      <td>4953.0</td>\n",
       "      <td>15234.0</td>\n",
       "      <td>6707.0</td>\n",
       "      <td>5613.0</td>\n",
       "      <td>20075.0</td>\n",
       "      <td>149175.0</td>\n",
       "    </tr>\n",
       "    <tr>\n",
       "      <th>BX-I</th>\n",
       "      <td>69575.0</td>\n",
       "      <td>99655.0</td>\n",
       "      <td>8391.0</td>\n",
       "      <td>31385.0</td>\n",
       "      <td>13620.0</td>\n",
       "      <td>11350.0</td>\n",
       "      <td>40633.0</td>\n",
       "      <td>274609.0</td>\n",
       "    </tr>\n",
       "    <tr>\n",
       "      <th>GR-E</th>\n",
       "      <td>213527.0</td>\n",
       "      <td>315282.0</td>\n",
       "      <td>15824.0</td>\n",
       "      <td>98849.0</td>\n",
       "      <td>54335.0</td>\n",
       "      <td>787097.0</td>\n",
       "      <td>NaN</td>\n",
       "      <td>1484914.0</td>\n",
       "    </tr>\n",
       "    <tr>\n",
       "      <th>GR-I</th>\n",
       "      <td>215584.0</td>\n",
       "      <td>319163.0</td>\n",
       "      <td>15986.0</td>\n",
       "      <td>100566.0</td>\n",
       "      <td>55383.0</td>\n",
       "      <td>799783.0</td>\n",
       "      <td>NaN</td>\n",
       "      <td>1506465.0</td>\n",
       "    </tr>\n",
       "    <tr>\n",
       "      <th>LOC-MDS</th>\n",
       "      <td>731452.0</td>\n",
       "      <td>2377946.0</td>\n",
       "      <td>67925.0</td>\n",
       "      <td>1114542.0</td>\n",
       "      <td>333270.0</td>\n",
       "      <td>609387.0</td>\n",
       "      <td>NaN</td>\n",
       "      <td>5234522.0</td>\n",
       "    </tr>\n",
       "  </tbody>\n",
       "</table>\n",
       "</div>"
      ],
      "text/plain": [
       "gender     female       male  ambiguous    unknown  no-author-rec  \\\n",
       "dataset                                                             \n",
       "AZ       236107.0   521692.0    20936.0   226787.0       157850.0   \n",
       "BX-E      39486.0    57107.0     4953.0    15234.0         6707.0   \n",
       "BX-I      69575.0    99655.0     8391.0    31385.0        13620.0   \n",
       "GR-E     213527.0   315282.0    15824.0    98849.0        54335.0   \n",
       "GR-I     215584.0   319163.0    15986.0   100566.0        55383.0   \n",
       "LOC-MDS  731452.0  2377946.0    67925.0  1114542.0       333270.0   \n",
       "\n",
       "gender   no-book-author   no-book      total  \n",
       "dataset                                       \n",
       "AZ             113652.0  985503.0  2262527.0  \n",
       "BX-E             5613.0   20075.0   149175.0  \n",
       "BX-I            11350.0   40633.0   274609.0  \n",
       "GR-E           787097.0       NaN  1484914.0  \n",
       "GR-I           799783.0       NaN  1506465.0  \n",
       "LOC-MDS        609387.0       NaN  5234522.0  "
      ]
     },
     "execution_count": 6,
     "metadata": {},
     "output_type": "execute_result"
    }
   ],
   "source": [
    "book_counts = link_stats.pivot('dataset', 'gender', 'n_books')\n",
    "book_counts = book_counts.reindex(columns=all_codes)\n",
    "book_counts.assign(total=book_counts.sum(axis=1))"
   ]
  },
  {
   "cell_type": "code",
   "execution_count": 7,
   "id": "5ed82dba",
   "metadata": {
    "execution": {
     "iopub.execute_input": "2022-05-12T00:24:56.525017Z",
     "iopub.status.busy": "2022-05-12T00:24:56.524722Z",
     "iopub.status.idle": "2022-05-12T00:24:56.550942Z",
     "shell.execute_reply": "2022-05-12T00:24:56.550046Z"
    },
    "tags": []
   },
   "outputs": [
    {
     "data": {
      "text/html": [
       "<div>\n",
       "<style scoped>\n",
       "    .dataframe tbody tr th:only-of-type {\n",
       "        vertical-align: middle;\n",
       "    }\n",
       "\n",
       "    .dataframe tbody tr th {\n",
       "        vertical-align: top;\n",
       "    }\n",
       "\n",
       "    .dataframe thead th {\n",
       "        text-align: right;\n",
       "    }\n",
       "</style>\n",
       "<table border=\"1\" class=\"dataframe\">\n",
       "  <thead>\n",
       "    <tr style=\"text-align: right;\">\n",
       "      <th>gender</th>\n",
       "      <th>female</th>\n",
       "      <th>male</th>\n",
       "      <th>ambiguous</th>\n",
       "      <th>unknown</th>\n",
       "      <th>no-author-rec</th>\n",
       "      <th>no-book-author</th>\n",
       "      <th>no-book</th>\n",
       "    </tr>\n",
       "    <tr>\n",
       "      <th>dataset</th>\n",
       "      <th></th>\n",
       "      <th></th>\n",
       "      <th></th>\n",
       "      <th></th>\n",
       "      <th></th>\n",
       "      <th></th>\n",
       "      <th></th>\n",
       "    </tr>\n",
       "  </thead>\n",
       "  <tbody>\n",
       "    <tr>\n",
       "      <th>AZ</th>\n",
       "      <td>4732152.0</td>\n",
       "      <td>6820525.0</td>\n",
       "      <td>779436.0</td>\n",
       "      <td>2021804.0</td>\n",
       "      <td>1009603.0</td>\n",
       "      <td>1278813.0</td>\n",
       "      <td>5798466.0</td>\n",
       "    </tr>\n",
       "    <tr>\n",
       "      <th>BX-E</th>\n",
       "      <td>142359.0</td>\n",
       "      <td>181305.0</td>\n",
       "      <td>39734.0</td>\n",
       "      <td>24639.0</td>\n",
       "      <td>8474.0</td>\n",
       "      <td>7614.0</td>\n",
       "      <td>23084.0</td>\n",
       "    </tr>\n",
       "    <tr>\n",
       "      <th>BX-I</th>\n",
       "      <td>400793.0</td>\n",
       "      <td>460256.0</td>\n",
       "      <td>99391.0</td>\n",
       "      <td>69693.0</td>\n",
       "      <td>22414.0</td>\n",
       "      <td>20420.0</td>\n",
       "      <td>56245.0</td>\n",
       "    </tr>\n",
       "    <tr>\n",
       "      <th>GR-E</th>\n",
       "      <td>36503691.0</td>\n",
       "      <td>33434112.0</td>\n",
       "      <td>12307985.0</td>\n",
       "      <td>3520408.0</td>\n",
       "      <td>1158513.0</td>\n",
       "      <td>12294989.0</td>\n",
       "      <td>NaN</td>\n",
       "    </tr>\n",
       "    <tr>\n",
       "      <th>GR-I</th>\n",
       "      <td>82564350.0</td>\n",
       "      <td>69969612.0</td>\n",
       "      <td>20242905.0</td>\n",
       "      <td>9820418.0</td>\n",
       "      <td>3670748.0</td>\n",
       "      <td>33273918.0</td>\n",
       "      <td>NaN</td>\n",
       "    </tr>\n",
       "  </tbody>\n",
       "</table>\n",
       "</div>"
      ],
      "text/plain": [
       "gender       female        male   ambiguous    unknown  no-author-rec  \\\n",
       "dataset                                                                 \n",
       "AZ        4732152.0   6820525.0    779436.0  2021804.0      1009603.0   \n",
       "BX-E       142359.0    181305.0     39734.0    24639.0         8474.0   \n",
       "BX-I       400793.0    460256.0     99391.0    69693.0        22414.0   \n",
       "GR-E     36503691.0  33434112.0  12307985.0  3520408.0      1158513.0   \n",
       "GR-I     82564350.0  69969612.0  20242905.0  9820418.0      3670748.0   \n",
       "\n",
       "gender   no-book-author    no-book  \n",
       "dataset                             \n",
       "AZ            1278813.0  5798466.0  \n",
       "BX-E             7614.0    23084.0  \n",
       "BX-I            20420.0    56245.0  \n",
       "GR-E         12294989.0        NaN  \n",
       "GR-I         33273918.0        NaN  "
      ]
     },
     "execution_count": 7,
     "metadata": {},
     "output_type": "execute_result"
    }
   ],
   "source": [
    "act_counts = link_stats.pivot('dataset', 'gender', 'n_actions')\n",
    "act_counts = act_counts.reindex(columns=all_codes)\n",
    "act_counts.drop(index='LOC-MDS', inplace=True)\n",
    "act_counts"
   ]
  },
  {
   "cell_type": "markdown",
   "id": "1505edc5",
   "metadata": {},
   "source": [
    "We're going to want to compute versions of this table as fractions, e.g. the fraction of books that are written by women.  We will use the following helper function:"
   ]
  },
  {
   "cell_type": "code",
   "execution_count": 8,
   "id": "153034f4",
   "metadata": {
    "execution": {
     "iopub.execute_input": "2022-05-12T00:24:56.555582Z",
     "iopub.status.busy": "2022-05-12T00:24:56.555286Z",
     "iopub.status.idle": "2022-05-12T00:24:56.562007Z",
     "shell.execute_reply": "2022-05-12T00:24:56.561164Z"
    }
   },
   "outputs": [],
   "source": [
    "def fractionalize(data, columns, unlinked=None):\n",
    "    fracs = data[columns]\n",
    "    fracs.columns = fracs.columns.astype('str')\n",
    "    if unlinked:\n",
    "        fracs = fracs.assign(unlinked=data[unlinked].sum(axis=1))\n",
    "    totals = fracs.sum(axis=1)\n",
    "    return fracs.divide(totals, axis=0)"
   ]
  },
  {
   "cell_type": "markdown",
   "id": "f9e872b1",
   "metadata": {},
   "source": [
    "And a helper function for plotting bar charts:"
   ]
  },
  {
   "cell_type": "code",
   "execution_count": 9,
   "id": "3902a906",
   "metadata": {
    "execution": {
     "iopub.execute_input": "2022-05-12T00:24:56.566263Z",
     "iopub.status.busy": "2022-05-12T00:24:56.565843Z",
     "iopub.status.idle": "2022-05-12T00:24:56.578695Z",
     "shell.execute_reply": "2022-05-12T00:24:56.577861Z"
    }
   },
   "outputs": [],
   "source": [
    "def plot_bars(fracs, ax=None, cmap=mpl.cm.Dark2):\n",
    "    if ax is None:\n",
    "        ax = plt.gca()\n",
    "    size = 0.5\n",
    "    ind = np.arange(len(fracs))\n",
    "    start = pd.Series(0, index=fracs.index)\n",
    "    for i, col in enumerate(fracs.columns):\n",
    "        vals = fracs.iloc[:, i]\n",
    "        rects = ax.barh(ind, vals, size, left=start, label=col, color=cmap(i))\n",
    "        for j, rec in enumerate(rects):\n",
    "            if vals.iloc[j] < 0.1 or np.isnan(vals.iloc[j]): continue\n",
    "            y = rec.get_y() + rec.get_height() / 2\n",
    "            x = start.iloc[j] + vals.iloc[j] / 2\n",
    "            ax.annotate('{:.1f}%'.format(vals.iloc[j] * 100),\n",
    "                        xy=(x,y), ha='center', va='center', color='white',\n",
    "                        fontweight='bold')\n",
    "        start += vals.fillna(0)\n",
    "    ax.set_xlabel('Fraction of Books')\n",
    "    ax.set_ylabel('Data Set')\n",
    "    ax.set_yticks(ind)\n",
    "    ax.set_yticklabels(fracs.index)\n",
    "    ax.legend(loc='center left', bbox_to_anchor=(1, 0.5))"
   ]
  },
  {
   "cell_type": "markdown",
   "id": "b99d7fc6",
   "metadata": {},
   "source": [
    "## Resolution of Books\n",
    "\n",
    "What fraction of *unique books* are resolved from each source?"
   ]
  },
  {
   "cell_type": "code",
   "execution_count": 10,
   "id": "e216b79b",
   "metadata": {
    "execution": {
     "iopub.execute_input": "2022-05-12T00:24:56.583178Z",
     "iopub.status.busy": "2022-05-12T00:24:56.582871Z",
     "iopub.status.idle": "2022-05-12T00:24:56.603162Z",
     "shell.execute_reply": "2022-05-12T00:24:56.602337Z"
    }
   },
   "outputs": [
    {
     "data": {
      "text/html": [
       "<div>\n",
       "<style scoped>\n",
       "    .dataframe tbody tr th:only-of-type {\n",
       "        vertical-align: middle;\n",
       "    }\n",
       "\n",
       "    .dataframe tbody tr th {\n",
       "        vertical-align: top;\n",
       "    }\n",
       "\n",
       "    .dataframe thead th {\n",
       "        text-align: right;\n",
       "    }\n",
       "</style>\n",
       "<table border=\"1\" class=\"dataframe\">\n",
       "  <thead>\n",
       "    <tr style=\"text-align: right;\">\n",
       "      <th>gender</th>\n",
       "      <th>female</th>\n",
       "      <th>male</th>\n",
       "      <th>ambiguous</th>\n",
       "      <th>unknown</th>\n",
       "      <th>no-author-rec</th>\n",
       "      <th>no-book-author</th>\n",
       "      <th>no-book</th>\n",
       "    </tr>\n",
       "    <tr>\n",
       "      <th>dataset</th>\n",
       "      <th></th>\n",
       "      <th></th>\n",
       "      <th></th>\n",
       "      <th></th>\n",
       "      <th></th>\n",
       "      <th></th>\n",
       "      <th></th>\n",
       "    </tr>\n",
       "  </thead>\n",
       "  <tbody>\n",
       "    <tr>\n",
       "      <th>AZ</th>\n",
       "      <td>0.104355</td>\n",
       "      <td>0.230579</td>\n",
       "      <td>0.009253</td>\n",
       "      <td>0.100236</td>\n",
       "      <td>0.069767</td>\n",
       "      <td>0.050232</td>\n",
       "      <td>0.435576</td>\n",
       "    </tr>\n",
       "    <tr>\n",
       "      <th>BX-E</th>\n",
       "      <td>0.264696</td>\n",
       "      <td>0.382819</td>\n",
       "      <td>0.033203</td>\n",
       "      <td>0.102122</td>\n",
       "      <td>0.044961</td>\n",
       "      <td>0.037627</td>\n",
       "      <td>0.134573</td>\n",
       "    </tr>\n",
       "    <tr>\n",
       "      <th>BX-I</th>\n",
       "      <td>0.253360</td>\n",
       "      <td>0.362898</td>\n",
       "      <td>0.030556</td>\n",
       "      <td>0.114290</td>\n",
       "      <td>0.049598</td>\n",
       "      <td>0.041331</td>\n",
       "      <td>0.147967</td>\n",
       "    </tr>\n",
       "    <tr>\n",
       "      <th>GR-E</th>\n",
       "      <td>0.143798</td>\n",
       "      <td>0.212323</td>\n",
       "      <td>0.010657</td>\n",
       "      <td>0.066569</td>\n",
       "      <td>0.036591</td>\n",
       "      <td>0.530062</td>\n",
       "      <td>NaN</td>\n",
       "    </tr>\n",
       "    <tr>\n",
       "      <th>GR-I</th>\n",
       "      <td>0.143106</td>\n",
       "      <td>0.211862</td>\n",
       "      <td>0.010612</td>\n",
       "      <td>0.066756</td>\n",
       "      <td>0.036764</td>\n",
       "      <td>0.530900</td>\n",
       "      <td>NaN</td>\n",
       "    </tr>\n",
       "    <tr>\n",
       "      <th>LOC-MDS</th>\n",
       "      <td>0.139736</td>\n",
       "      <td>0.454281</td>\n",
       "      <td>0.012976</td>\n",
       "      <td>0.212921</td>\n",
       "      <td>0.063668</td>\n",
       "      <td>0.116417</td>\n",
       "      <td>NaN</td>\n",
       "    </tr>\n",
       "  </tbody>\n",
       "</table>\n",
       "</div>"
      ],
      "text/plain": [
       "gender     female      male  ambiguous   unknown  no-author-rec  \\\n",
       "dataset                                                           \n",
       "AZ       0.104355  0.230579   0.009253  0.100236       0.069767   \n",
       "BX-E     0.264696  0.382819   0.033203  0.102122       0.044961   \n",
       "BX-I     0.253360  0.362898   0.030556  0.114290       0.049598   \n",
       "GR-E     0.143798  0.212323   0.010657  0.066569       0.036591   \n",
       "GR-I     0.143106  0.211862   0.010612  0.066756       0.036764   \n",
       "LOC-MDS  0.139736  0.454281   0.012976  0.212921       0.063668   \n",
       "\n",
       "gender   no-book-author   no-book  \n",
       "dataset                            \n",
       "AZ             0.050232  0.435576  \n",
       "BX-E           0.037627  0.134573  \n",
       "BX-I           0.041331  0.147967  \n",
       "GR-E           0.530062       NaN  \n",
       "GR-I           0.530900       NaN  \n",
       "LOC-MDS        0.116417       NaN  "
      ]
     },
     "execution_count": 10,
     "metadata": {},
     "output_type": "execute_result"
    }
   ],
   "source": [
    "fractionalize(book_counts, link_codes + unlink_codes)"
   ]
  },
  {
   "cell_type": "code",
   "execution_count": 11,
   "id": "cae67b65",
   "metadata": {
    "execution": {
     "iopub.execute_input": "2022-05-12T00:24:56.607719Z",
     "iopub.status.busy": "2022-05-12T00:24:56.607427Z",
     "iopub.status.idle": "2022-05-12T00:24:57.228082Z",
     "shell.execute_reply": "2022-05-12T00:24:57.227167Z"
    }
   },
   "outputs": [
    {
     "data": {
      "image/png": "[encoded data removed]",
      "text/plain": [
       "<Figure size 432x288 with 1 Axes>"
      ]
     },
     "metadata": {
      "needs_background": "light"
     },
     "output_type": "display_data"
    }
   ],
   "source": [
    "plot_bars(fractionalize(book_counts, link_codes + unlink_codes))"
   ]
  },
  {
   "cell_type": "code",
   "execution_count": 12,
   "id": "41523f1e",
   "metadata": {
    "execution": {
     "iopub.execute_input": "2022-05-12T00:24:57.232459Z",
     "iopub.status.busy": "2022-05-12T00:24:57.232186Z",
     "iopub.status.idle": "2022-05-12T00:24:57.251736Z",
     "shell.execute_reply": "2022-05-12T00:24:57.250996Z"
    }
   },
   "outputs": [
    {
     "data": {
      "text/html": [
       "<div>\n",
       "<style scoped>\n",
       "    .dataframe tbody tr th:only-of-type {\n",
       "        vertical-align: middle;\n",
       "    }\n",
       "\n",
       "    .dataframe tbody tr th {\n",
       "        vertical-align: top;\n",
       "    }\n",
       "\n",
       "    .dataframe thead th {\n",
       "        text-align: right;\n",
       "    }\n",
       "</style>\n",
       "<table border=\"1\" class=\"dataframe\">\n",
       "  <thead>\n",
       "    <tr style=\"text-align: right;\">\n",
       "      <th>gender</th>\n",
       "      <th>female</th>\n",
       "      <th>male</th>\n",
       "      <th>ambiguous</th>\n",
       "      <th>unknown</th>\n",
       "      <th>unlinked</th>\n",
       "    </tr>\n",
       "    <tr>\n",
       "      <th>dataset</th>\n",
       "      <th></th>\n",
       "      <th></th>\n",
       "      <th></th>\n",
       "      <th></th>\n",
       "      <th></th>\n",
       "    </tr>\n",
       "  </thead>\n",
       "  <tbody>\n",
       "    <tr>\n",
       "      <th>AZ</th>\n",
       "      <td>0.104355</td>\n",
       "      <td>0.230579</td>\n",
       "      <td>0.009253</td>\n",
       "      <td>0.100236</td>\n",
       "      <td>0.555576</td>\n",
       "    </tr>\n",
       "    <tr>\n",
       "      <th>BX-E</th>\n",
       "      <td>0.264696</td>\n",
       "      <td>0.382819</td>\n",
       "      <td>0.033203</td>\n",
       "      <td>0.102122</td>\n",
       "      <td>0.217161</td>\n",
       "    </tr>\n",
       "    <tr>\n",
       "      <th>BX-I</th>\n",
       "      <td>0.253360</td>\n",
       "      <td>0.362898</td>\n",
       "      <td>0.030556</td>\n",
       "      <td>0.114290</td>\n",
       "      <td>0.238896</td>\n",
       "    </tr>\n",
       "    <tr>\n",
       "      <th>GR-E</th>\n",
       "      <td>0.143798</td>\n",
       "      <td>0.212323</td>\n",
       "      <td>0.010657</td>\n",
       "      <td>0.066569</td>\n",
       "      <td>0.566654</td>\n",
       "    </tr>\n",
       "    <tr>\n",
       "      <th>GR-I</th>\n",
       "      <td>0.143106</td>\n",
       "      <td>0.211862</td>\n",
       "      <td>0.010612</td>\n",
       "      <td>0.066756</td>\n",
       "      <td>0.567664</td>\n",
       "    </tr>\n",
       "    <tr>\n",
       "      <th>LOC-MDS</th>\n",
       "      <td>0.139736</td>\n",
       "      <td>0.454281</td>\n",
       "      <td>0.012976</td>\n",
       "      <td>0.212921</td>\n",
       "      <td>0.180085</td>\n",
       "    </tr>\n",
       "  </tbody>\n",
       "</table>\n",
       "</div>"
      ],
      "text/plain": [
       "gender     female      male  ambiguous   unknown  unlinked\n",
       "dataset                                                   \n",
       "AZ       0.104355  0.230579   0.009253  0.100236  0.555576\n",
       "BX-E     0.264696  0.382819   0.033203  0.102122  0.217161\n",
       "BX-I     0.253360  0.362898   0.030556  0.114290  0.238896\n",
       "GR-E     0.143798  0.212323   0.010657  0.066569  0.566654\n",
       "GR-I     0.143106  0.211862   0.010612  0.066756  0.567664\n",
       "LOC-MDS  0.139736  0.454281   0.012976  0.212921  0.180085"
      ]
     },
     "execution_count": 12,
     "metadata": {},
     "output_type": "execute_result"
    }
   ],
   "source": [
    "fractionalize(book_counts, link_codes, unlink_codes)"
   ]
  },
  {
   "cell_type": "code",
   "execution_count": 13,
   "id": "da721b3a",
   "metadata": {
    "execution": {
     "iopub.execute_input": "2022-05-12T00:24:57.255524Z",
     "iopub.status.busy": "2022-05-12T00:24:57.255256Z",
     "iopub.status.idle": "2022-05-12T00:24:57.694740Z",
     "shell.execute_reply": "2022-05-12T00:24:57.693965Z"
    }
   },
   "outputs": [
    {
     "data": {
      "image/png": "[encoded data removed]",
      "text/plain": [
       "<Figure size 432x288 with 1 Axes>"
      ]
     },
     "metadata": {
      "needs_background": "light"
     },
     "output_type": "display_data"
    }
   ],
   "source": [
    "plot_bars(fractionalize(book_counts, link_codes, unlink_codes))"
   ]
  },
  {
   "cell_type": "code",
   "execution_count": 14,
   "id": "633a39ba",
   "metadata": {
    "execution": {
     "iopub.execute_input": "2022-05-12T00:24:57.698598Z",
     "iopub.status.busy": "2022-05-12T00:24:57.698324Z",
     "iopub.status.idle": "2022-05-12T00:24:57.994968Z",
     "shell.execute_reply": "2022-05-12T00:24:57.994122Z"
    }
   },
   "outputs": [
    {
     "data": {
      "image/png": "[encoded data removed]",
      "text/plain": [
       "<Figure size 432x288 with 1 Axes>"
      ]
     },
     "metadata": {
      "needs_background": "light"
     },
     "output_type": "display_data"
    }
   ],
   "source": [
    "plot_bars(fractionalize(book_counts, ['female', 'male']))"
   ]
  },
  {
   "cell_type": "markdown",
   "id": "1953b84f",
   "metadata": {},
   "source": [
    "## Resolution of Ratings\n",
    "\n",
    "What fraction of *rating actions* have each resolution result?"
   ]
  },
  {
   "cell_type": "code",
   "execution_count": 15,
   "id": "4c8de917",
   "metadata": {
    "execution": {
     "iopub.execute_input": "2022-05-12T00:24:57.999277Z",
     "iopub.status.busy": "2022-05-12T00:24:57.998611Z",
     "iopub.status.idle": "2022-05-12T00:24:58.017683Z",
     "shell.execute_reply": "2022-05-12T00:24:58.016943Z"
    }
   },
   "outputs": [
    {
     "data": {
      "text/html": [
       "<div>\n",
       "<style scoped>\n",
       "    .dataframe tbody tr th:only-of-type {\n",
       "        vertical-align: middle;\n",
       "    }\n",
       "\n",
       "    .dataframe tbody tr th {\n",
       "        vertical-align: top;\n",
       "    }\n",
       "\n",
       "    .dataframe thead th {\n",
       "        text-align: right;\n",
       "    }\n",
       "</style>\n",
       "<table border=\"1\" class=\"dataframe\">\n",
       "  <thead>\n",
       "    <tr style=\"text-align: right;\">\n",
       "      <th>gender</th>\n",
       "      <th>female</th>\n",
       "      <th>male</th>\n",
       "      <th>ambiguous</th>\n",
       "      <th>unknown</th>\n",
       "      <th>no-author-rec</th>\n",
       "      <th>no-book-author</th>\n",
       "      <th>no-book</th>\n",
       "    </tr>\n",
       "    <tr>\n",
       "      <th>dataset</th>\n",
       "      <th></th>\n",
       "      <th></th>\n",
       "      <th></th>\n",
       "      <th></th>\n",
       "      <th></th>\n",
       "      <th></th>\n",
       "      <th></th>\n",
       "    </tr>\n",
       "  </thead>\n",
       "  <tbody>\n",
       "    <tr>\n",
       "      <th>AZ</th>\n",
       "      <td>0.210873</td>\n",
       "      <td>0.303934</td>\n",
       "      <td>0.034733</td>\n",
       "      <td>0.090095</td>\n",
       "      <td>0.044990</td>\n",
       "      <td>0.056986</td>\n",
       "      <td>0.258389</td>\n",
       "    </tr>\n",
       "    <tr>\n",
       "      <th>BX-E</th>\n",
       "      <td>0.333230</td>\n",
       "      <td>0.424394</td>\n",
       "      <td>0.093008</td>\n",
       "      <td>0.057674</td>\n",
       "      <td>0.019836</td>\n",
       "      <td>0.017823</td>\n",
       "      <td>0.054034</td>\n",
       "    </tr>\n",
       "    <tr>\n",
       "      <th>BX-I</th>\n",
       "      <td>0.354932</td>\n",
       "      <td>0.407590</td>\n",
       "      <td>0.088018</td>\n",
       "      <td>0.061718</td>\n",
       "      <td>0.019849</td>\n",
       "      <td>0.018083</td>\n",
       "      <td>0.049809</td>\n",
       "    </tr>\n",
       "    <tr>\n",
       "      <th>GR-E</th>\n",
       "      <td>0.367908</td>\n",
       "      <td>0.336971</td>\n",
       "      <td>0.124048</td>\n",
       "      <td>0.035481</td>\n",
       "      <td>0.011676</td>\n",
       "      <td>0.123917</td>\n",
       "      <td>NaN</td>\n",
       "    </tr>\n",
       "    <tr>\n",
       "      <th>GR-I</th>\n",
       "      <td>0.376076</td>\n",
       "      <td>0.318707</td>\n",
       "      <td>0.092205</td>\n",
       "      <td>0.044731</td>\n",
       "      <td>0.016720</td>\n",
       "      <td>0.151561</td>\n",
       "      <td>NaN</td>\n",
       "    </tr>\n",
       "  </tbody>\n",
       "</table>\n",
       "</div>"
      ],
      "text/plain": [
       "gender     female      male  ambiguous   unknown  no-author-rec  \\\n",
       "dataset                                                           \n",
       "AZ       0.210873  0.303934   0.034733  0.090095       0.044990   \n",
       "BX-E     0.333230  0.424394   0.093008  0.057674       0.019836   \n",
       "BX-I     0.354932  0.407590   0.088018  0.061718       0.019849   \n",
       "GR-E     0.367908  0.336971   0.124048  0.035481       0.011676   \n",
       "GR-I     0.376076  0.318707   0.092205  0.044731       0.016720   \n",
       "\n",
       "gender   no-book-author   no-book  \n",
       "dataset                            \n",
       "AZ             0.056986  0.258389  \n",
       "BX-E           0.017823  0.054034  \n",
       "BX-I           0.018083  0.049809  \n",
       "GR-E           0.123917       NaN  \n",
       "GR-I           0.151561       NaN  "
      ]
     },
     "execution_count": 15,
     "metadata": {},
     "output_type": "execute_result"
    }
   ],
   "source": [
    "fractionalize(act_counts, link_codes + unlink_codes)"
   ]
  },
  {
   "cell_type": "code",
   "execution_count": 16,
   "id": "65771680",
   "metadata": {
    "execution": {
     "iopub.execute_input": "2022-05-12T00:24:58.021380Z",
     "iopub.status.busy": "2022-05-12T00:24:58.020984Z",
     "iopub.status.idle": "2022-05-12T00:24:58.431601Z",
     "shell.execute_reply": "2022-05-12T00:24:58.430749Z"
    }
   },
   "outputs": [
    {
     "data": {
      "image/png": "[encoded data removed]",
      "text/plain": [
       "<Figure size 432x288 with 1 Axes>"
      ]
     },
     "metadata": {
      "needs_background": "light"
     },
     "output_type": "display_data"
    }
   ],
   "source": [
    "plot_bars(fractionalize(act_counts, link_codes + unlink_codes))"
   ]
  },
  {
   "cell_type": "code",
   "execution_count": 17,
   "id": "ed80ea39",
   "metadata": {
    "execution": {
     "iopub.execute_input": "2022-05-12T00:24:58.435379Z",
     "iopub.status.busy": "2022-05-12T00:24:58.435110Z",
     "iopub.status.idle": "2022-05-12T00:24:58.453506Z",
     "shell.execute_reply": "2022-05-12T00:24:58.452767Z"
    }
   },
   "outputs": [
    {
     "data": {
      "text/html": [
       "<div>\n",
       "<style scoped>\n",
       "    .dataframe tbody tr th:only-of-type {\n",
       "        vertical-align: middle;\n",
       "    }\n",
       "\n",
       "    .dataframe tbody tr th {\n",
       "        vertical-align: top;\n",
       "    }\n",
       "\n",
       "    .dataframe thead th {\n",
       "        text-align: right;\n",
       "    }\n",
       "</style>\n",
       "<table border=\"1\" class=\"dataframe\">\n",
       "  <thead>\n",
       "    <tr style=\"text-align: right;\">\n",
       "      <th>gender</th>\n",
       "      <th>female</th>\n",
       "      <th>male</th>\n",
       "      <th>ambiguous</th>\n",
       "      <th>unknown</th>\n",
       "      <th>unlinked</th>\n",
       "    </tr>\n",
       "    <tr>\n",
       "      <th>dataset</th>\n",
       "      <th></th>\n",
       "      <th></th>\n",
       "      <th></th>\n",
       "      <th></th>\n",
       "      <th></th>\n",
       "    </tr>\n",
       "  </thead>\n",
       "  <tbody>\n",
       "    <tr>\n",
       "      <th>AZ</th>\n",
       "      <td>0.210873</td>\n",
       "      <td>0.303934</td>\n",
       "      <td>0.034733</td>\n",
       "      <td>0.090095</td>\n",
       "      <td>0.360365</td>\n",
       "    </tr>\n",
       "    <tr>\n",
       "      <th>BX-E</th>\n",
       "      <td>0.333230</td>\n",
       "      <td>0.424394</td>\n",
       "      <td>0.093008</td>\n",
       "      <td>0.057674</td>\n",
       "      <td>0.091693</td>\n",
       "    </tr>\n",
       "    <tr>\n",
       "      <th>BX-I</th>\n",
       "      <td>0.354932</td>\n",
       "      <td>0.407590</td>\n",
       "      <td>0.088018</td>\n",
       "      <td>0.061718</td>\n",
       "      <td>0.087742</td>\n",
       "    </tr>\n",
       "    <tr>\n",
       "      <th>GR-E</th>\n",
       "      <td>0.367908</td>\n",
       "      <td>0.336971</td>\n",
       "      <td>0.124048</td>\n",
       "      <td>0.035481</td>\n",
       "      <td>0.135593</td>\n",
       "    </tr>\n",
       "    <tr>\n",
       "      <th>GR-I</th>\n",
       "      <td>0.376076</td>\n",
       "      <td>0.318707</td>\n",
       "      <td>0.092205</td>\n",
       "      <td>0.044731</td>\n",
       "      <td>0.168281</td>\n",
       "    </tr>\n",
       "  </tbody>\n",
       "</table>\n",
       "</div>"
      ],
      "text/plain": [
       "gender     female      male  ambiguous   unknown  unlinked\n",
       "dataset                                                   \n",
       "AZ       0.210873  0.303934   0.034733  0.090095  0.360365\n",
       "BX-E     0.333230  0.424394   0.093008  0.057674  0.091693\n",
       "BX-I     0.354932  0.407590   0.088018  0.061718  0.087742\n",
       "GR-E     0.367908  0.336971   0.124048  0.035481  0.135593\n",
       "GR-I     0.376076  0.318707   0.092205  0.044731  0.168281"
      ]
     },
     "execution_count": 17,
     "metadata": {},
     "output_type": "execute_result"
    }
   ],
   "source": [
    "fractionalize(act_counts, link_codes, unlink_codes)"
   ]
  },
  {
   "cell_type": "code",
   "execution_count": 18,
   "id": "2174d197",
   "metadata": {
    "execution": {
     "iopub.execute_input": "2022-05-12T00:24:58.457149Z",
     "iopub.status.busy": "2022-05-12T00:24:58.456888Z",
     "iopub.status.idle": "2022-05-12T00:24:58.823614Z",
     "shell.execute_reply": "2022-05-12T00:24:58.822773Z"
    }
   },
   "outputs": [
    {
     "data": {
      "image/png": "[encoded data removed]",
      "text/plain": [
       "<Figure size 432x288 with 1 Axes>"
      ]
     },
     "metadata": {
      "needs_background": "light"
     },
     "output_type": "display_data"
    }
   ],
   "source": [
    "plot_bars(fractionalize(act_counts, link_codes, unlink_codes))"
   ]
  },
  {
   "cell_type": "code",
   "execution_count": 19,
   "id": "2b21c05e",
   "metadata": {
    "execution": {
     "iopub.execute_input": "2022-05-12T00:24:58.827663Z",
     "iopub.status.busy": "2022-05-12T00:24:58.827385Z",
     "iopub.status.idle": "2022-05-12T00:24:59.097071Z",
     "shell.execute_reply": "2022-05-12T00:24:59.096347Z"
    }
   },
   "outputs": [
    {
     "data": {
      "image/png": "[encoded data removed]",
      "text/plain": [
       "<Figure size 432x288 with 1 Axes>"
      ]
     },
     "metadata": {
      "needs_background": "light"
     },
     "output_type": "display_data"
    }
   ],
   "source": [
    "plot_bars(fractionalize(act_counts, ['female', 'male']))"
   ]
  },
  {
   "cell_type": "markdown",
   "id": "e55fd149",
   "metadata": {},
   "source": [
    "## Metrics\n",
    "\n",
    "Finally, we're going to write coverage metrics."
   ]
  },
  {
   "cell_type": "code",
   "execution_count": 20,
   "id": "d9747af1",
   "metadata": {
    "execution": {
     "iopub.execute_input": "2022-05-12T00:24:59.100839Z",
     "iopub.status.busy": "2022-05-12T00:24:59.100582Z",
     "iopub.status.idle": "2022-05-12T00:24:59.110082Z",
     "shell.execute_reply": "2022-05-12T00:24:59.109367Z"
    }
   },
   "outputs": [
    {
     "data": {
      "text/plain": [
       "dataset\n",
       "AZ         0.344188\n",
       "BX-E       0.680717\n",
       "BX-I       0.646814\n",
       "GR-E       0.366777\n",
       "GR-I       0.365580\n",
       "LOC-MDS    0.606994\n",
       "dtype: float64"
      ]
     },
     "execution_count": 20,
     "metadata": {},
     "output_type": "execute_result"
    }
   ],
   "source": [
    "book_tots = book_counts.sum(axis=1)\n",
    "book_link = book_counts['male'] + book_counts['female'] + book_counts['ambiguous']\n",
    "book_cover = book_link / book_tots\n",
    "book_cover"
   ]
  },
  {
   "cell_type": "code",
   "execution_count": 21,
   "id": "3687bef8",
   "metadata": {
    "execution": {
     "iopub.execute_input": "2022-05-12T00:24:59.113691Z",
     "iopub.status.busy": "2022-05-12T00:24:59.113441Z",
     "iopub.status.idle": "2022-05-12T00:24:59.117821Z",
     "shell.execute_reply": "2022-05-12T00:24:59.117073Z"
    }
   },
   "outputs": [],
   "source": [
    "book_cover.to_json('book-coverage.json')"
   ]
  },
  {
   "cell_type": "code",
   "execution_count": null,
   "id": "9ce1419e",
   "metadata": {},
   "outputs": [],
   "source": []
  }
 ],
 "metadata": {
  "jupytext": {
   "formats": "ipynb,py:percent"
  },
  "kernelspec": {
   "display_name": "Python 3 (ipykernel)",
   "language": "python",
   "name": "python3"
  },
  "language_info": {
   "codemirror_mode": {
    "name": "ipython",
    "version": 3
   },
   "file_extension": ".py",
   "mimetype": "text/x-python",
   "name": "python",
   "nbconvert_exporter": "python",
   "pygments_lexer": "ipython3",
   "version": "3.8.12"
  }
 },
 "nbformat": 4,
 "nbformat_minor": 5
}
