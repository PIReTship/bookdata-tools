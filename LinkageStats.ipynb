{
 "cells": [
  {
   "cell_type": "markdown",
   "id": "de35ab9e",
   "metadata": {},
   "source": [
    "# Book Data Linkage Statistics\n",
    "\n",
    "This notebook presents statistics of the book data integration."
   ]
  },
  {
   "cell_type": "markdown",
   "id": "2e141c52",
   "metadata": {},
   "source": [
    "## Setup"
   ]
  },
  {
   "cell_type": "code",
   "execution_count": 1,
   "id": "66a9cd60",
   "metadata": {
    "execution": {
     "iopub.execute_input": "2021-09-29T23:24:52.172950Z",
     "iopub.status.busy": "2021-09-29T23:24:52.168823Z",
     "iopub.status.idle": "2021-09-29T23:24:55.220739Z",
     "shell.execute_reply": "2021-09-29T23:24:55.219301Z"
    },
    "tags": []
   },
   "outputs": [],
   "source": [
    "import pandas as pd\n",
    "import seaborn as sns\n",
    "import matplotlib as mpl\n",
    "import matplotlib.pyplot as plt\n",
    "import numpy as np"
   ]
  },
  {
   "cell_type": "markdown",
   "id": "a734852e",
   "metadata": {},
   "source": [
    "## Load Link Stats\n",
    "\n",
    "We compute dataset linking statitsics as `gender-stats.csv` using DataFusion.  Let's load those:"
   ]
  },
  {
   "cell_type": "code",
   "execution_count": 2,
   "id": "23c84843",
   "metadata": {
    "execution": {
     "iopub.execute_input": "2021-09-29T23:24:55.231792Z",
     "iopub.status.busy": "2021-09-29T23:24:55.230345Z",
     "iopub.status.idle": "2021-09-29T23:24:55.277582Z",
     "shell.execute_reply": "2021-09-29T23:24:55.278748Z"
    },
    "tags": []
   },
   "outputs": [
    {
     "data": {
      "text/html": [
       "<div>\n",
       "<style scoped>\n",
       "    .dataframe tbody tr th:only-of-type {\n",
       "        vertical-align: middle;\n",
       "    }\n",
       "\n",
       "    .dataframe tbody tr th {\n",
       "        vertical-align: top;\n",
       "    }\n",
       "\n",
       "    .dataframe thead th {\n",
       "        text-align: right;\n",
       "    }\n",
       "</style>\n",
       "<table border=\"1\" class=\"dataframe\">\n",
       "  <thead>\n",
       "    <tr style=\"text-align: right;\">\n",
       "      <th></th>\n",
       "      <th>dataset</th>\n",
       "      <th>gender</th>\n",
       "      <th>n_books</th>\n",
       "      <th>n_actions</th>\n",
       "    </tr>\n",
       "  </thead>\n",
       "  <tbody>\n",
       "    <tr>\n",
       "      <th>0</th>\n",
       "      <td>BX-E</td>\n",
       "      <td>ambiguous</td>\n",
       "      <td>6770</td>\n",
       "      <td>76143</td>\n",
       "    </tr>\n",
       "    <tr>\n",
       "      <th>1</th>\n",
       "      <td>BX-E</td>\n",
       "      <td>no-author-rec</td>\n",
       "      <td>5969</td>\n",
       "      <td>7385</td>\n",
       "    </tr>\n",
       "    <tr>\n",
       "      <th>2</th>\n",
       "      <td>BX-I</td>\n",
       "      <td>female</td>\n",
       "      <td>42418</td>\n",
       "      <td>112621</td>\n",
       "    </tr>\n",
       "    <tr>\n",
       "      <th>3</th>\n",
       "      <td>BX-I</td>\n",
       "      <td>ambiguous</td>\n",
       "      <td>11061</td>\n",
       "      <td>131270</td>\n",
       "    </tr>\n",
       "    <tr>\n",
       "      <th>4</th>\n",
       "      <td>BX-E</td>\n",
       "      <td>female</td>\n",
       "      <td>20997</td>\n",
       "      <td>36047</td>\n",
       "    </tr>\n",
       "  </tbody>\n",
       "</table>\n",
       "</div>"
      ],
      "text/plain": [
       "  dataset         gender  n_books  n_actions\n",
       "0    BX-E      ambiguous     6770      76143\n",
       "1    BX-E  no-author-rec     5969       7385\n",
       "2    BX-I         female    42418     112621\n",
       "3    BX-I      ambiguous    11061     131270\n",
       "4    BX-E         female    20997      36047"
      ]
     },
     "execution_count": 2,
     "metadata": {},
     "output_type": "execute_result"
    }
   ],
   "source": [
    "link_stats = pd.read_csv('book-links/gender-stats.csv')\n",
    "link_stats.head()"
   ]
  },
  {
   "cell_type": "markdown",
   "id": "36653641",
   "metadata": {},
   "source": [
    "Now let's define variables for our variou codes. We are first going to define our gender codes.  We'll start with the resolved codes:"
   ]
  },
  {
   "cell_type": "code",
   "execution_count": 3,
   "id": "9eaaa321",
   "metadata": {
    "execution": {
     "iopub.execute_input": "2021-09-29T23:24:55.289267Z",
     "iopub.status.busy": "2021-09-29T23:24:55.287223Z",
     "iopub.status.idle": "2021-09-29T23:24:55.291001Z",
     "shell.execute_reply": "2021-09-29T23:24:55.292137Z"
    },
    "tags": []
   },
   "outputs": [],
   "source": [
    "link_codes = ['female', 'male', 'ambiguous', 'unknown']"
   ]
  },
  {
   "cell_type": "markdown",
   "id": "8586688d",
   "metadata": {},
   "source": [
    "We want the unlink codes in order, so the last is the first link failure:"
   ]
  },
  {
   "cell_type": "code",
   "execution_count": 4,
   "id": "6a499f2e",
   "metadata": {
    "execution": {
     "iopub.execute_input": "2021-09-29T23:24:55.302023Z",
     "iopub.status.busy": "2021-09-29T23:24:55.300007Z",
     "iopub.status.idle": "2021-09-29T23:24:55.303790Z",
     "shell.execute_reply": "2021-09-29T23:24:55.304940Z"
    },
    "tags": []
   },
   "outputs": [],
   "source": [
    "unlink_codes = ['no-author-rec', 'no-book-author', 'no-book']"
   ]
  },
  {
   "cell_type": "code",
   "execution_count": 5,
   "id": "baa4a0cb",
   "metadata": {
    "execution": {
     "iopub.execute_input": "2021-09-29T23:24:55.314849Z",
     "iopub.status.busy": "2021-09-29T23:24:55.312827Z",
     "iopub.status.idle": "2021-09-29T23:24:55.316580Z",
     "shell.execute_reply": "2021-09-29T23:24:55.317731Z"
    },
    "tags": []
   },
   "outputs": [],
   "source": [
    "all_codes = link_codes + unlink_codes"
   ]
  },
  {
   "cell_type": "markdown",
   "id": "a3cdfc15",
   "metadata": {},
   "source": [
    "## Processing Statistics\n",
    "\n",
    "Now we'll pivot each of our count columns into a table for easier reference."
   ]
  },
  {
   "cell_type": "code",
   "execution_count": 6,
   "id": "a083545a",
   "metadata": {
    "execution": {
     "iopub.execute_input": "2021-09-29T23:24:55.367856Z",
     "iopub.status.busy": "2021-09-29T23:24:55.331089Z",
     "iopub.status.idle": "2021-09-29T23:24:55.374860Z",
     "shell.execute_reply": "2021-09-29T23:24:55.373739Z"
    },
    "tags": []
   },
   "outputs": [
    {
     "data": {
      "text/html": [
       "<div>\n",
       "<style scoped>\n",
       "    .dataframe tbody tr th:only-of-type {\n",
       "        vertical-align: middle;\n",
       "    }\n",
       "\n",
       "    .dataframe tbody tr th {\n",
       "        vertical-align: top;\n",
       "    }\n",
       "\n",
       "    .dataframe thead th {\n",
       "        text-align: right;\n",
       "    }\n",
       "</style>\n",
       "<table border=\"1\" class=\"dataframe\">\n",
       "  <thead>\n",
       "    <tr style=\"text-align: right;\">\n",
       "      <th>gender</th>\n",
       "      <th>female</th>\n",
       "      <th>male</th>\n",
       "      <th>ambiguous</th>\n",
       "      <th>unknown</th>\n",
       "      <th>no-author-rec</th>\n",
       "      <th>no-book-author</th>\n",
       "      <th>no-book</th>\n",
       "      <th>total</th>\n",
       "    </tr>\n",
       "    <tr>\n",
       "      <th>dataset</th>\n",
       "      <th></th>\n",
       "      <th></th>\n",
       "      <th></th>\n",
       "      <th></th>\n",
       "      <th></th>\n",
       "      <th></th>\n",
       "      <th></th>\n",
       "      <th></th>\n",
       "    </tr>\n",
       "  </thead>\n",
       "  <tbody>\n",
       "    <tr>\n",
       "      <th>AZ</th>\n",
       "      <td>135207.0</td>\n",
       "      <td>366302.0</td>\n",
       "      <td>27392.0</td>\n",
       "      <td>191859.0</td>\n",
       "      <td>129374.0</td>\n",
       "      <td>169361.0</td>\n",
       "      <td>936346.0</td>\n",
       "      <td>1955841.0</td>\n",
       "    </tr>\n",
       "    <tr>\n",
       "      <th>BX-E</th>\n",
       "      <td>20997.0</td>\n",
       "      <td>33882.0</td>\n",
       "      <td>6770.0</td>\n",
       "      <td>12496.0</td>\n",
       "      <td>5969.0</td>\n",
       "      <td>6417.0</td>\n",
       "      <td>21884.0</td>\n",
       "      <td>108415.0</td>\n",
       "    </tr>\n",
       "    <tr>\n",
       "      <th>BX-I</th>\n",
       "      <td>42418.0</td>\n",
       "      <td>65730.0</td>\n",
       "      <td>11061.0</td>\n",
       "      <td>27261.0</td>\n",
       "      <td>12336.0</td>\n",
       "      <td>12515.0</td>\n",
       "      <td>44070.0</td>\n",
       "      <td>215391.0</td>\n",
       "    </tr>\n",
       "    <tr>\n",
       "      <th>GR-E</th>\n",
       "      <td>50014.0</td>\n",
       "      <td>86857.0</td>\n",
       "      <td>21380.0</td>\n",
       "      <td>26113.0</td>\n",
       "      <td>7365.0</td>\n",
       "      <td>743790.0</td>\n",
       "      <td>NaN</td>\n",
       "      <td>935519.0</td>\n",
       "    </tr>\n",
       "    <tr>\n",
       "      <th>GR-I</th>\n",
       "      <td>50438.0</td>\n",
       "      <td>87571.0</td>\n",
       "      <td>21419.0</td>\n",
       "      <td>26412.0</td>\n",
       "      <td>7421.0</td>\n",
       "      <td>755665.0</td>\n",
       "      <td>NaN</td>\n",
       "      <td>948926.0</td>\n",
       "    </tr>\n",
       "    <tr>\n",
       "      <th>LOC-MDS</th>\n",
       "      <td>575656.0</td>\n",
       "      <td>2074053.0</td>\n",
       "      <td>65294.0</td>\n",
       "      <td>1165940.0</td>\n",
       "      <td>268369.0</td>\n",
       "      <td>834905.0</td>\n",
       "      <td>NaN</td>\n",
       "      <td>4984217.0</td>\n",
       "    </tr>\n",
       "  </tbody>\n",
       "</table>\n",
       "</div>"
      ],
      "text/plain": [
       "gender     female       male  ambiguous    unknown  no-author-rec  \\\n",
       "dataset                                                             \n",
       "AZ       135207.0   366302.0    27392.0   191859.0       129374.0   \n",
       "BX-E      20997.0    33882.0     6770.0    12496.0         5969.0   \n",
       "BX-I      42418.0    65730.0    11061.0    27261.0        12336.0   \n",
       "GR-E      50014.0    86857.0    21380.0    26113.0         7365.0   \n",
       "GR-I      50438.0    87571.0    21419.0    26412.0         7421.0   \n",
       "LOC-MDS  575656.0  2074053.0    65294.0  1165940.0       268369.0   \n",
       "\n",
       "gender   no-book-author   no-book      total  \n",
       "dataset                                       \n",
       "AZ             169361.0  936346.0  1955841.0  \n",
       "BX-E             6417.0   21884.0   108415.0  \n",
       "BX-I            12515.0   44070.0   215391.0  \n",
       "GR-E           743790.0       NaN   935519.0  \n",
       "GR-I           755665.0       NaN   948926.0  \n",
       "LOC-MDS        834905.0       NaN  4984217.0  "
      ]
     },
     "execution_count": 6,
     "metadata": {},
     "output_type": "execute_result"
    }
   ],
   "source": [
    "book_counts = link_stats.pivot('dataset', 'gender', 'n_books')\n",
    "book_counts = book_counts.reindex(columns=all_codes)\n",
    "book_counts.assign(total=book_counts.sum(axis=1))"
   ]
  },
  {
   "cell_type": "code",
   "execution_count": 7,
   "id": "64edb352",
   "metadata": {
    "execution": {
     "iopub.execute_input": "2021-09-29T23:24:55.423545Z",
     "iopub.status.busy": "2021-09-29T23:24:55.421854Z",
     "iopub.status.idle": "2021-09-29T23:24:55.430623Z",
     "shell.execute_reply": "2021-09-29T23:24:55.429447Z"
    },
    "tags": []
   },
   "outputs": [
    {
     "data": {
      "text/html": [
       "<div>\n",
       "<style scoped>\n",
       "    .dataframe tbody tr th:only-of-type {\n",
       "        vertical-align: middle;\n",
       "    }\n",
       "\n",
       "    .dataframe tbody tr th {\n",
       "        vertical-align: top;\n",
       "    }\n",
       "\n",
       "    .dataframe thead th {\n",
       "        text-align: right;\n",
       "    }\n",
       "</style>\n",
       "<table border=\"1\" class=\"dataframe\">\n",
       "  <thead>\n",
       "    <tr style=\"text-align: right;\">\n",
       "      <th>gender</th>\n",
       "      <th>female</th>\n",
       "      <th>male</th>\n",
       "      <th>ambiguous</th>\n",
       "      <th>unknown</th>\n",
       "      <th>no-author-rec</th>\n",
       "      <th>no-book-author</th>\n",
       "      <th>no-book</th>\n",
       "    </tr>\n",
       "    <tr>\n",
       "      <th>dataset</th>\n",
       "      <th></th>\n",
       "      <th></th>\n",
       "      <th></th>\n",
       "      <th></th>\n",
       "      <th></th>\n",
       "      <th></th>\n",
       "      <th></th>\n",
       "    </tr>\n",
       "  </thead>\n",
       "  <tbody>\n",
       "    <tr>\n",
       "      <th>AZ</th>\n",
       "      <td>1253258.0</td>\n",
       "      <td>2592365.0</td>\n",
       "      <td>4916201.0</td>\n",
       "      <td>1094370.0</td>\n",
       "      <td>570516.0</td>\n",
       "      <td>2884603.0</td>\n",
       "      <td>4510138.0</td>\n",
       "    </tr>\n",
       "    <tr>\n",
       "      <th>BX-E</th>\n",
       "      <td>36047.0</td>\n",
       "      <td>51435.0</td>\n",
       "      <td>76143.0</td>\n",
       "      <td>16319.0</td>\n",
       "      <td>7385.0</td>\n",
       "      <td>9735.0</td>\n",
       "      <td>25502.0</td>\n",
       "    </tr>\n",
       "    <tr>\n",
       "      <th>BX-I</th>\n",
       "      <td>112621.0</td>\n",
       "      <td>137188.0</td>\n",
       "      <td>131270.0</td>\n",
       "      <td>47342.0</td>\n",
       "      <td>19450.0</td>\n",
       "      <td>25536.0</td>\n",
       "      <td>62488.0</td>\n",
       "    </tr>\n",
       "    <tr>\n",
       "      <th>GR-E</th>\n",
       "      <td>2188569.0</td>\n",
       "      <td>3791657.0</td>\n",
       "      <td>4222759.0</td>\n",
       "      <td>851866.0</td>\n",
       "      <td>270843.0</td>\n",
       "      <td>11818780.0</td>\n",
       "      <td>NaN</td>\n",
       "    </tr>\n",
       "    <tr>\n",
       "      <th>GR-I</th>\n",
       "      <td>5983873.0</td>\n",
       "      <td>10186291.0</td>\n",
       "      <td>9655476.0</td>\n",
       "      <td>2345498.0</td>\n",
       "      <td>725674.0</td>\n",
       "      <td>31397384.0</td>\n",
       "      <td>NaN</td>\n",
       "    </tr>\n",
       "  </tbody>\n",
       "</table>\n",
       "</div>"
      ],
      "text/plain": [
       "gender      female        male  ambiguous    unknown  no-author-rec  \\\n",
       "dataset                                                               \n",
       "AZ       1253258.0   2592365.0  4916201.0  1094370.0       570516.0   \n",
       "BX-E       36047.0     51435.0    76143.0    16319.0         7385.0   \n",
       "BX-I      112621.0    137188.0   131270.0    47342.0        19450.0   \n",
       "GR-E     2188569.0   3791657.0  4222759.0   851866.0       270843.0   \n",
       "GR-I     5983873.0  10186291.0  9655476.0  2345498.0       725674.0   \n",
       "\n",
       "gender   no-book-author    no-book  \n",
       "dataset                             \n",
       "AZ            2884603.0  4510138.0  \n",
       "BX-E             9735.0    25502.0  \n",
       "BX-I            25536.0    62488.0  \n",
       "GR-E         11818780.0        NaN  \n",
       "GR-I         31397384.0        NaN  "
      ]
     },
     "execution_count": 7,
     "metadata": {},
     "output_type": "execute_result"
    }
   ],
   "source": [
    "act_counts = link_stats.pivot('dataset', 'gender', 'n_actions')\n",
    "act_counts = act_counts.reindex(columns=all_codes)\n",
    "act_counts.drop(index='LOC-MDS', inplace=True)\n",
    "act_counts"
   ]
  },
  {
   "cell_type": "markdown",
   "id": "2bd9eb71",
   "metadata": {},
   "source": [
    "We're going to want to compute versions of this table as fractions, e.g. the fraction of books that are written by women.  We will use the following helper function:"
   ]
  },
  {
   "cell_type": "code",
   "execution_count": 8,
   "id": "8ea391d7",
   "metadata": {
    "execution": {
     "iopub.execute_input": "2021-09-29T23:24:55.445156Z",
     "iopub.status.busy": "2021-09-29T23:24:55.443114Z",
     "iopub.status.idle": "2021-09-29T23:24:55.446772Z",
     "shell.execute_reply": "2021-09-29T23:24:55.447902Z"
    }
   },
   "outputs": [],
   "source": [
    "def fractionalize(data, columns, unlinked=None):\n",
    "    fracs = data[columns]\n",
    "    fracs.columns = fracs.columns.astype('str')\n",
    "    if unlinked:\n",
    "        fracs = fracs.assign(unlinked=data[unlinked].sum(axis=1))\n",
    "    totals = fracs.sum(axis=1)\n",
    "    return fracs.divide(totals, axis=0)"
   ]
  },
  {
   "cell_type": "markdown",
   "id": "9aa69ae4",
   "metadata": {},
   "source": [
    "And a helper function for plotting bar charts:"
   ]
  },
  {
   "cell_type": "code",
   "execution_count": 9,
   "id": "637943fd",
   "metadata": {
    "execution": {
     "iopub.execute_input": "2021-09-29T23:24:55.470815Z",
     "iopub.status.busy": "2021-09-29T23:24:55.468838Z",
     "iopub.status.idle": "2021-09-29T23:24:55.472559Z",
     "shell.execute_reply": "2021-09-29T23:24:55.473721Z"
    }
   },
   "outputs": [],
   "source": [
    "def plot_bars(fracs, ax=None, cmap=mpl.cm.Dark2):\n",
    "    if ax is None:\n",
    "        ax = plt.gca()\n",
    "    size = 0.5\n",
    "    ind = np.arange(len(fracs))\n",
    "    start = pd.Series(0, index=fracs.index)\n",
    "    for i, col in enumerate(fracs.columns):\n",
    "        vals = fracs.iloc[:, i]\n",
    "        rects = ax.barh(ind, vals, size, left=start, label=col, color=cmap(i))\n",
    "        for j, rec in enumerate(rects):\n",
    "            if vals.iloc[j] < 0.1 or np.isnan(vals.iloc[j]): continue\n",
    "            y = rec.get_y() + rec.get_height() / 2\n",
    "            x = start.iloc[j] + vals.iloc[j] / 2\n",
    "            ax.annotate('{:.1f}%'.format(vals.iloc[j] * 100),\n",
    "                        xy=(x,y), ha='center', va='center', color='white',\n",
    "                        fontweight='bold')\n",
    "        start += vals.fillna(0)\n",
    "    ax.set_xlabel('Fraction of Books')\n",
    "    ax.set_ylabel('Data Set')\n",
    "    ax.set_yticks(ind)\n",
    "    ax.set_yticklabels(fracs.index)\n",
    "    ax.legend(loc='center left', bbox_to_anchor=(1, 0.5))"
   ]
  },
  {
   "cell_type": "markdown",
   "id": "9152b244",
   "metadata": {},
   "source": [
    "## Resolution of Books\n",
    "\n",
    "What fraction of *unique books* are resolved from each source?"
   ]
  },
  {
   "cell_type": "code",
   "execution_count": 10,
   "id": "bcf9f740",
   "metadata": {
    "execution": {
     "iopub.execute_input": "2021-09-29T23:24:55.508180Z",
     "iopub.status.busy": "2021-09-29T23:24:55.506071Z",
     "iopub.status.idle": "2021-09-29T23:24:55.512779Z",
     "shell.execute_reply": "2021-09-29T23:24:55.513909Z"
    }
   },
   "outputs": [
    {
     "data": {
      "text/html": [
       "<div>\n",
       "<style scoped>\n",
       "    .dataframe tbody tr th:only-of-type {\n",
       "        vertical-align: middle;\n",
       "    }\n",
       "\n",
       "    .dataframe tbody tr th {\n",
       "        vertical-align: top;\n",
       "    }\n",
       "\n",
       "    .dataframe thead th {\n",
       "        text-align: right;\n",
       "    }\n",
       "</style>\n",
       "<table border=\"1\" class=\"dataframe\">\n",
       "  <thead>\n",
       "    <tr style=\"text-align: right;\">\n",
       "      <th>gender</th>\n",
       "      <th>female</th>\n",
       "      <th>male</th>\n",
       "      <th>ambiguous</th>\n",
       "      <th>unknown</th>\n",
       "      <th>no-author-rec</th>\n",
       "      <th>no-book-author</th>\n",
       "      <th>no-book</th>\n",
       "    </tr>\n",
       "    <tr>\n",
       "      <th>dataset</th>\n",
       "      <th></th>\n",
       "      <th></th>\n",
       "      <th></th>\n",
       "      <th></th>\n",
       "      <th></th>\n",
       "      <th></th>\n",
       "      <th></th>\n",
       "    </tr>\n",
       "  </thead>\n",
       "  <tbody>\n",
       "    <tr>\n",
       "      <th>AZ</th>\n",
       "      <td>0.069130</td>\n",
       "      <td>0.187286</td>\n",
       "      <td>0.014005</td>\n",
       "      <td>0.098095</td>\n",
       "      <td>0.066148</td>\n",
       "      <td>0.086592</td>\n",
       "      <td>0.478743</td>\n",
       "    </tr>\n",
       "    <tr>\n",
       "      <th>BX-E</th>\n",
       "      <td>0.193672</td>\n",
       "      <td>0.312521</td>\n",
       "      <td>0.062445</td>\n",
       "      <td>0.115261</td>\n",
       "      <td>0.055057</td>\n",
       "      <td>0.059189</td>\n",
       "      <td>0.201854</td>\n",
       "    </tr>\n",
       "    <tr>\n",
       "      <th>BX-I</th>\n",
       "      <td>0.196935</td>\n",
       "      <td>0.305166</td>\n",
       "      <td>0.051353</td>\n",
       "      <td>0.126565</td>\n",
       "      <td>0.057273</td>\n",
       "      <td>0.058104</td>\n",
       "      <td>0.204605</td>\n",
       "    </tr>\n",
       "    <tr>\n",
       "      <th>GR-E</th>\n",
       "      <td>0.053461</td>\n",
       "      <td>0.092844</td>\n",
       "      <td>0.022854</td>\n",
       "      <td>0.027913</td>\n",
       "      <td>0.007873</td>\n",
       "      <td>0.795056</td>\n",
       "      <td>NaN</td>\n",
       "    </tr>\n",
       "    <tr>\n",
       "      <th>GR-I</th>\n",
       "      <td>0.053153</td>\n",
       "      <td>0.092284</td>\n",
       "      <td>0.022572</td>\n",
       "      <td>0.027834</td>\n",
       "      <td>0.007820</td>\n",
       "      <td>0.796337</td>\n",
       "      <td>NaN</td>\n",
       "    </tr>\n",
       "    <tr>\n",
       "      <th>LOC-MDS</th>\n",
       "      <td>0.115496</td>\n",
       "      <td>0.416124</td>\n",
       "      <td>0.013100</td>\n",
       "      <td>0.233926</td>\n",
       "      <td>0.053844</td>\n",
       "      <td>0.167510</td>\n",
       "      <td>NaN</td>\n",
       "    </tr>\n",
       "  </tbody>\n",
       "</table>\n",
       "</div>"
      ],
      "text/plain": [
       "gender     female      male  ambiguous   unknown  no-author-rec  \\\n",
       "dataset                                                           \n",
       "AZ       0.069130  0.187286   0.014005  0.098095       0.066148   \n",
       "BX-E     0.193672  0.312521   0.062445  0.115261       0.055057   \n",
       "BX-I     0.196935  0.305166   0.051353  0.126565       0.057273   \n",
       "GR-E     0.053461  0.092844   0.022854  0.027913       0.007873   \n",
       "GR-I     0.053153  0.092284   0.022572  0.027834       0.007820   \n",
       "LOC-MDS  0.115496  0.416124   0.013100  0.233926       0.053844   \n",
       "\n",
       "gender   no-book-author   no-book  \n",
       "dataset                            \n",
       "AZ             0.086592  0.478743  \n",
       "BX-E           0.059189  0.201854  \n",
       "BX-I           0.058104  0.204605  \n",
       "GR-E           0.795056       NaN  \n",
       "GR-I           0.796337       NaN  \n",
       "LOC-MDS        0.167510       NaN  "
      ]
     },
     "execution_count": 10,
     "metadata": {},
     "output_type": "execute_result"
    }
   ],
   "source": [
    "fractionalize(book_counts, link_codes + unlink_codes)"
   ]
  },
  {
   "cell_type": "code",
   "execution_count": 11,
   "id": "2066658c",
   "metadata": {
    "execution": {
     "iopub.execute_input": "2021-09-29T23:24:55.566547Z",
     "iopub.status.busy": "2021-09-29T23:24:55.561292Z",
     "iopub.status.idle": "2021-09-29T23:24:56.153217Z",
     "shell.execute_reply": "2021-09-29T23:24:56.154368Z"
    }
   },
   "outputs": [
    {
     "data": {
      "image/png": "[encoded data removed]",
      "text/plain": [
       "<Figure size 432x288 with 1 Axes>"
      ]
     },
     "metadata": {
      "needs_background": "light"
     },
     "output_type": "display_data"
    }
   ],
   "source": [
    "plot_bars(fractionalize(book_counts, link_codes + unlink_codes))"
   ]
  },
  {
   "cell_type": "code",
   "execution_count": 12,
   "id": "6b69120a",
   "metadata": {
    "execution": {
     "iopub.execute_input": "2021-09-29T23:24:56.173647Z",
     "iopub.status.busy": "2021-09-29T23:24:56.162847Z",
     "iopub.status.idle": "2021-09-29T23:24:56.177856Z",
     "shell.execute_reply": "2021-09-29T23:24:56.177206Z"
    }
   },
   "outputs": [
    {
     "data": {
      "text/html": [
       "<div>\n",
       "<style scoped>\n",
       "    .dataframe tbody tr th:only-of-type {\n",
       "        vertical-align: middle;\n",
       "    }\n",
       "\n",
       "    .dataframe tbody tr th {\n",
       "        vertical-align: top;\n",
       "    }\n",
       "\n",
       "    .dataframe thead th {\n",
       "        text-align: right;\n",
       "    }\n",
       "</style>\n",
       "<table border=\"1\" class=\"dataframe\">\n",
       "  <thead>\n",
       "    <tr style=\"text-align: right;\">\n",
       "      <th>gender</th>\n",
       "      <th>female</th>\n",
       "      <th>male</th>\n",
       "      <th>ambiguous</th>\n",
       "      <th>unknown</th>\n",
       "      <th>unlinked</th>\n",
       "    </tr>\n",
       "    <tr>\n",
       "      <th>dataset</th>\n",
       "      <th></th>\n",
       "      <th></th>\n",
       "      <th></th>\n",
       "      <th></th>\n",
       "      <th></th>\n",
       "    </tr>\n",
       "  </thead>\n",
       "  <tbody>\n",
       "    <tr>\n",
       "      <th>AZ</th>\n",
       "      <td>0.069130</td>\n",
       "      <td>0.187286</td>\n",
       "      <td>0.014005</td>\n",
       "      <td>0.098095</td>\n",
       "      <td>0.631483</td>\n",
       "    </tr>\n",
       "    <tr>\n",
       "      <th>BX-E</th>\n",
       "      <td>0.193672</td>\n",
       "      <td>0.312521</td>\n",
       "      <td>0.062445</td>\n",
       "      <td>0.115261</td>\n",
       "      <td>0.316100</td>\n",
       "    </tr>\n",
       "    <tr>\n",
       "      <th>BX-I</th>\n",
       "      <td>0.196935</td>\n",
       "      <td>0.305166</td>\n",
       "      <td>0.051353</td>\n",
       "      <td>0.126565</td>\n",
       "      <td>0.319981</td>\n",
       "    </tr>\n",
       "    <tr>\n",
       "      <th>GR-E</th>\n",
       "      <td>0.053461</td>\n",
       "      <td>0.092844</td>\n",
       "      <td>0.022854</td>\n",
       "      <td>0.027913</td>\n",
       "      <td>0.802929</td>\n",
       "    </tr>\n",
       "    <tr>\n",
       "      <th>GR-I</th>\n",
       "      <td>0.053153</td>\n",
       "      <td>0.092284</td>\n",
       "      <td>0.022572</td>\n",
       "      <td>0.027834</td>\n",
       "      <td>0.804158</td>\n",
       "    </tr>\n",
       "    <tr>\n",
       "      <th>LOC-MDS</th>\n",
       "      <td>0.115496</td>\n",
       "      <td>0.416124</td>\n",
       "      <td>0.013100</td>\n",
       "      <td>0.233926</td>\n",
       "      <td>0.221354</td>\n",
       "    </tr>\n",
       "  </tbody>\n",
       "</table>\n",
       "</div>"
      ],
      "text/plain": [
       "gender     female      male  ambiguous   unknown  unlinked\n",
       "dataset                                                   \n",
       "AZ       0.069130  0.187286   0.014005  0.098095  0.631483\n",
       "BX-E     0.193672  0.312521   0.062445  0.115261  0.316100\n",
       "BX-I     0.196935  0.305166   0.051353  0.126565  0.319981\n",
       "GR-E     0.053461  0.092844   0.022854  0.027913  0.802929\n",
       "GR-I     0.053153  0.092284   0.022572  0.027834  0.804158\n",
       "LOC-MDS  0.115496  0.416124   0.013100  0.233926  0.221354"
      ]
     },
     "execution_count": 12,
     "metadata": {},
     "output_type": "execute_result"
    }
   ],
   "source": [
    "fractionalize(book_counts, link_codes, unlink_codes)"
   ]
  },
  {
   "cell_type": "code",
   "execution_count": 13,
   "id": "5c08b58e",
   "metadata": {
    "execution": {
     "iopub.execute_input": "2021-09-29T23:24:56.192696Z",
     "iopub.status.busy": "2021-09-29T23:24:56.191711Z",
     "iopub.status.idle": "2021-09-29T23:24:56.583498Z",
     "shell.execute_reply": "2021-09-29T23:24:56.584150Z"
    }
   },
   "outputs": [
    {
     "data": {
      "image/png": "[encoded data removed]",
      "text/plain": [
       "<Figure size 432x288 with 1 Axes>"
      ]
     },
     "metadata": {
      "needs_background": "light"
     },
     "output_type": "display_data"
    }
   ],
   "source": [
    "plot_bars(fractionalize(book_counts, link_codes, unlink_codes))"
   ]
  },
  {
   "cell_type": "code",
   "execution_count": 14,
   "id": "1d8bed34",
   "metadata": {
    "execution": {
     "iopub.execute_input": "2021-09-29T23:24:56.597266Z",
     "iopub.status.busy": "2021-09-29T23:24:56.596442Z",
     "iopub.status.idle": "2021-09-29T23:24:56.883713Z",
     "shell.execute_reply": "2021-09-29T23:24:56.883019Z"
    }
   },
   "outputs": [
    {
     "data": {
      "image/png": "[encoded data removed]",
      "text/plain": [
       "<Figure size 432x288 with 1 Axes>"
      ]
     },
     "metadata": {
      "needs_background": "light"
     },
     "output_type": "display_data"
    }
   ],
   "source": [
    "plot_bars(fractionalize(book_counts, ['female', 'male']))"
   ]
  },
  {
   "cell_type": "markdown",
   "id": "bc9fe7c0",
   "metadata": {},
   "source": [
    "## Resolution of Ratings\n",
    "\n",
    "What fraction of *rating actions* have each resolution result?"
   ]
  },
  {
   "cell_type": "code",
   "execution_count": 15,
   "id": "7c0263bf",
   "metadata": {
    "execution": {
     "iopub.execute_input": "2021-09-29T23:24:56.903203Z",
     "iopub.status.busy": "2021-09-29T23:24:56.902423Z",
     "iopub.status.idle": "2021-09-29T23:24:56.906699Z",
     "shell.execute_reply": "2021-09-29T23:24:56.906051Z"
    }
   },
   "outputs": [
    {
     "data": {
      "text/html": [
       "<div>\n",
       "<style scoped>\n",
       "    .dataframe tbody tr th:only-of-type {\n",
       "        vertical-align: middle;\n",
       "    }\n",
       "\n",
       "    .dataframe tbody tr th {\n",
       "        vertical-align: top;\n",
       "    }\n",
       "\n",
       "    .dataframe thead th {\n",
       "        text-align: right;\n",
       "    }\n",
       "</style>\n",
       "<table border=\"1\" class=\"dataframe\">\n",
       "  <thead>\n",
       "    <tr style=\"text-align: right;\">\n",
       "      <th>gender</th>\n",
       "      <th>female</th>\n",
       "      <th>male</th>\n",
       "      <th>ambiguous</th>\n",
       "      <th>unknown</th>\n",
       "      <th>no-author-rec</th>\n",
       "      <th>no-book-author</th>\n",
       "      <th>no-book</th>\n",
       "    </tr>\n",
       "    <tr>\n",
       "      <th>dataset</th>\n",
       "      <th></th>\n",
       "      <th></th>\n",
       "      <th></th>\n",
       "      <th></th>\n",
       "      <th></th>\n",
       "      <th></th>\n",
       "      <th></th>\n",
       "    </tr>\n",
       "  </thead>\n",
       "  <tbody>\n",
       "    <tr>\n",
       "      <th>AZ</th>\n",
       "      <td>0.070323</td>\n",
       "      <td>0.145463</td>\n",
       "      <td>0.275859</td>\n",
       "      <td>0.061407</td>\n",
       "      <td>0.032013</td>\n",
       "      <td>0.161861</td>\n",
       "      <td>0.253074</td>\n",
       "    </tr>\n",
       "    <tr>\n",
       "      <th>BX-E</th>\n",
       "      <td>0.161961</td>\n",
       "      <td>0.231100</td>\n",
       "      <td>0.342114</td>\n",
       "      <td>0.073322</td>\n",
       "      <td>0.033181</td>\n",
       "      <td>0.043740</td>\n",
       "      <td>0.114582</td>\n",
       "    </tr>\n",
       "    <tr>\n",
       "      <th>BX-I</th>\n",
       "      <td>0.210155</td>\n",
       "      <td>0.255998</td>\n",
       "      <td>0.244955</td>\n",
       "      <td>0.088342</td>\n",
       "      <td>0.036294</td>\n",
       "      <td>0.047651</td>\n",
       "      <td>0.116605</td>\n",
       "    </tr>\n",
       "    <tr>\n",
       "      <th>GR-E</th>\n",
       "      <td>0.094561</td>\n",
       "      <td>0.163826</td>\n",
       "      <td>0.182452</td>\n",
       "      <td>0.036806</td>\n",
       "      <td>0.011702</td>\n",
       "      <td>0.510652</td>\n",
       "      <td>NaN</td>\n",
       "    </tr>\n",
       "    <tr>\n",
       "      <th>GR-I</th>\n",
       "      <td>0.099245</td>\n",
       "      <td>0.168943</td>\n",
       "      <td>0.160139</td>\n",
       "      <td>0.038901</td>\n",
       "      <td>0.012036</td>\n",
       "      <td>0.520736</td>\n",
       "      <td>NaN</td>\n",
       "    </tr>\n",
       "  </tbody>\n",
       "</table>\n",
       "</div>"
      ],
      "text/plain": [
       "gender     female      male  ambiguous   unknown  no-author-rec  \\\n",
       "dataset                                                           \n",
       "AZ       0.070323  0.145463   0.275859  0.061407       0.032013   \n",
       "BX-E     0.161961  0.231100   0.342114  0.073322       0.033181   \n",
       "BX-I     0.210155  0.255998   0.244955  0.088342       0.036294   \n",
       "GR-E     0.094561  0.163826   0.182452  0.036806       0.011702   \n",
       "GR-I     0.099245  0.168943   0.160139  0.038901       0.012036   \n",
       "\n",
       "gender   no-book-author   no-book  \n",
       "dataset                            \n",
       "AZ             0.161861  0.253074  \n",
       "BX-E           0.043740  0.114582  \n",
       "BX-I           0.047651  0.116605  \n",
       "GR-E           0.510652       NaN  \n",
       "GR-I           0.520736       NaN  "
      ]
     },
     "execution_count": 15,
     "metadata": {},
     "output_type": "execute_result"
    }
   ],
   "source": [
    "fractionalize(act_counts, link_codes + unlink_codes)"
   ]
  },
  {
   "cell_type": "code",
   "execution_count": 16,
   "id": "f285b7b8",
   "metadata": {
    "execution": {
     "iopub.execute_input": "2021-09-29T23:24:56.934142Z",
     "iopub.status.busy": "2021-09-29T23:24:56.926179Z",
     "iopub.status.idle": "2021-09-29T23:24:57.337270Z",
     "shell.execute_reply": "2021-09-29T23:24:57.337921Z"
    }
   },
   "outputs": [
    {
     "data": {
      "image/png": "[encoded data removed]",
      "text/plain": [
       "<Figure size 432x288 with 1 Axes>"
      ]
     },
     "metadata": {
      "needs_background": "light"
     },
     "output_type": "display_data"
    }
   ],
   "source": [
    "plot_bars(fractionalize(act_counts, link_codes + unlink_codes))"
   ]
  },
  {
   "cell_type": "code",
   "execution_count": 17,
   "id": "c71fe7ef",
   "metadata": {
    "execution": {
     "iopub.execute_input": "2021-09-29T23:24:57.356650Z",
     "iopub.status.busy": "2021-09-29T23:24:57.355873Z",
     "iopub.status.idle": "2021-09-29T23:24:57.360117Z",
     "shell.execute_reply": "2021-09-29T23:24:57.359471Z"
    }
   },
   "outputs": [
    {
     "data": {
      "text/html": [
       "<div>\n",
       "<style scoped>\n",
       "    .dataframe tbody tr th:only-of-type {\n",
       "        vertical-align: middle;\n",
       "    }\n",
       "\n",
       "    .dataframe tbody tr th {\n",
       "        vertical-align: top;\n",
       "    }\n",
       "\n",
       "    .dataframe thead th {\n",
       "        text-align: right;\n",
       "    }\n",
       "</style>\n",
       "<table border=\"1\" class=\"dataframe\">\n",
       "  <thead>\n",
       "    <tr style=\"text-align: right;\">\n",
       "      <th>gender</th>\n",
       "      <th>female</th>\n",
       "      <th>male</th>\n",
       "      <th>ambiguous</th>\n",
       "      <th>unknown</th>\n",
       "      <th>unlinked</th>\n",
       "    </tr>\n",
       "    <tr>\n",
       "      <th>dataset</th>\n",
       "      <th></th>\n",
       "      <th></th>\n",
       "      <th></th>\n",
       "      <th></th>\n",
       "      <th></th>\n",
       "    </tr>\n",
       "  </thead>\n",
       "  <tbody>\n",
       "    <tr>\n",
       "      <th>AZ</th>\n",
       "      <td>0.070323</td>\n",
       "      <td>0.145463</td>\n",
       "      <td>0.275859</td>\n",
       "      <td>0.061407</td>\n",
       "      <td>0.446948</td>\n",
       "    </tr>\n",
       "    <tr>\n",
       "      <th>BX-E</th>\n",
       "      <td>0.161961</td>\n",
       "      <td>0.231100</td>\n",
       "      <td>0.342114</td>\n",
       "      <td>0.073322</td>\n",
       "      <td>0.191503</td>\n",
       "    </tr>\n",
       "    <tr>\n",
       "      <th>BX-I</th>\n",
       "      <td>0.210155</td>\n",
       "      <td>0.255998</td>\n",
       "      <td>0.244955</td>\n",
       "      <td>0.088342</td>\n",
       "      <td>0.200550</td>\n",
       "    </tr>\n",
       "    <tr>\n",
       "      <th>GR-E</th>\n",
       "      <td>0.094561</td>\n",
       "      <td>0.163826</td>\n",
       "      <td>0.182452</td>\n",
       "      <td>0.036806</td>\n",
       "      <td>0.522355</td>\n",
       "    </tr>\n",
       "    <tr>\n",
       "      <th>GR-I</th>\n",
       "      <td>0.099245</td>\n",
       "      <td>0.168943</td>\n",
       "      <td>0.160139</td>\n",
       "      <td>0.038901</td>\n",
       "      <td>0.532772</td>\n",
       "    </tr>\n",
       "  </tbody>\n",
       "</table>\n",
       "</div>"
      ],
      "text/plain": [
       "gender     female      male  ambiguous   unknown  unlinked\n",
       "dataset                                                   \n",
       "AZ       0.070323  0.145463   0.275859  0.061407  0.446948\n",
       "BX-E     0.161961  0.231100   0.342114  0.073322  0.191503\n",
       "BX-I     0.210155  0.255998   0.244955  0.088342  0.200550\n",
       "GR-E     0.094561  0.163826   0.182452  0.036806  0.522355\n",
       "GR-I     0.099245  0.168943   0.160139  0.038901  0.532772"
      ]
     },
     "execution_count": 17,
     "metadata": {},
     "output_type": "execute_result"
    }
   ],
   "source": [
    "fractionalize(act_counts, link_codes, unlink_codes)"
   ]
  },
  {
   "cell_type": "code",
   "execution_count": 18,
   "id": "59fb04f3",
   "metadata": {
    "execution": {
     "iopub.execute_input": "2021-09-29T23:24:57.469806Z",
     "iopub.status.busy": "2021-09-29T23:24:57.374221Z",
     "iopub.status.idle": "2021-09-29T23:24:57.822859Z",
     "shell.execute_reply": "2021-09-29T23:24:57.823507Z"
    }
   },
   "outputs": [
    {
     "data": {
      "image/png": "[encoded data removed]",
      "text/plain": [
       "<Figure size 432x288 with 1 Axes>"
      ]
     },
     "metadata": {
      "needs_background": "light"
     },
     "output_type": "display_data"
    }
   ],
   "source": [
    "plot_bars(fractionalize(act_counts, link_codes, unlink_codes))"
   ]
  },
  {
   "cell_type": "code",
   "execution_count": 19,
   "id": "33430526",
   "metadata": {
    "execution": {
     "iopub.execute_input": "2021-09-29T23:24:57.836306Z",
     "iopub.status.busy": "2021-09-29T23:24:57.833031Z",
     "iopub.status.idle": "2021-09-29T23:24:58.096823Z",
     "shell.execute_reply": "2021-09-29T23:24:58.096155Z"
    }
   },
   "outputs": [
    {
     "data": {
      "image/png": "[encoded data removed]",
      "text/plain": [
       "<Figure size 432x288 with 1 Axes>"
      ]
     },
     "metadata": {
      "needs_background": "light"
     },
     "output_type": "display_data"
    }
   ],
   "source": [
    "plot_bars(fractionalize(act_counts, ['female', 'male']))"
   ]
  }
 ],
 "metadata": {
  "jupytext": {
   "formats": "ipynb,py:percent"
  },
  "kernelspec": {
   "display_name": "Python 3",
   "language": "python",
   "name": "python3"
  },
  "language_info": {
   "codemirror_mode": {
    "name": "ipython",
    "version": 3
   },
   "file_extension": ".py",
   "mimetype": "text/x-python",
   "name": "python",
   "nbconvert_exporter": "python",
   "pygments_lexer": "ipython3",
   "version": "3.8.12"
  }
 },
 "nbformat": 4,
 "nbformat_minor": 5
}
