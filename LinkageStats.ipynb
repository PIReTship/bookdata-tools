{
 "cells": [
  {
   "cell_type": "markdown",
   "id": "7807cec9",
   "metadata": {},
   "source": [
    "# Book Data Linkage Statistics\n",
    "\n",
    "This notebook presents statistics of the book data integration."
   ]
  },
  {
   "cell_type": "markdown",
   "id": "3a621af2",
   "metadata": {},
   "source": [
    "## Setup"
   ]
  },
  {
   "cell_type": "code",
   "execution_count": 1,
   "id": "bf7f7c6f",
   "metadata": {
    "execution": {
     "iopub.execute_input": "2021-09-29T23:49:41.635286Z",
     "iopub.status.busy": "2021-09-29T23:49:41.633736Z",
     "iopub.status.idle": "2021-09-29T23:49:42.989732Z",
     "shell.execute_reply": "2021-09-29T23:49:42.988339Z"
    }
   },
   "outputs": [],
   "source": [
    "import pandas as pd\n",
    "import seaborn as sns\n",
    "import matplotlib as mpl\n",
    "import matplotlib.pyplot as plt\n",
    "import numpy as np"
   ]
  },
  {
   "cell_type": "code",
   "execution_count": 2,
   "id": "4df50a7b",
   "metadata": {
    "execution": {
     "iopub.execute_input": "2021-09-29T23:49:42.997015Z",
     "iopub.status.busy": "2021-09-29T23:49:42.995619Z",
     "iopub.status.idle": "2021-09-29T23:49:43.268235Z",
     "shell.execute_reply": "2021-09-29T23:49:43.267082Z"
    }
   },
   "outputs": [],
   "source": [
    "from bookdata.db import db_url"
   ]
  },
  {
   "cell_type": "markdown",
   "id": "31952c5e",
   "metadata": {},
   "source": [
    "## Load Link Stats\n",
    "\n",
    "The `integration_stats` table in the database contains link success statistics in our data."
   ]
  },
  {
   "cell_type": "code",
   "execution_count": 3,
   "id": "1a1609ed",
   "metadata": {
    "execution": {
     "iopub.execute_input": "2021-09-29T23:49:43.276864Z",
     "iopub.status.busy": "2021-09-29T23:49:43.275467Z",
     "iopub.status.idle": "2021-09-29T23:49:43.594842Z",
     "shell.execute_reply": "2021-09-29T23:49:43.595986Z"
    }
   },
   "outputs": [
    {
     "data": {
      "text/html": [
       "<div>\n",
       "<style scoped>\n",
       "    .dataframe tbody tr th:only-of-type {\n",
       "        vertical-align: middle;\n",
       "    }\n",
       "\n",
       "    .dataframe tbody tr th {\n",
       "        vertical-align: top;\n",
       "    }\n",
       "\n",
       "    .dataframe thead th {\n",
       "        text-align: right;\n",
       "    }\n",
       "</style>\n",
       "<table border=\"1\" class=\"dataframe\">\n",
       "  <thead>\n",
       "    <tr style=\"text-align: right;\">\n",
       "      <th></th>\n",
       "      <th>dataset</th>\n",
       "      <th>gender</th>\n",
       "      <th>n_books</th>\n",
       "      <th>n_actions</th>\n",
       "    </tr>\n",
       "  </thead>\n",
       "  <tbody>\n",
       "    <tr>\n",
       "      <th>0</th>\n",
       "      <td>LOC-MDS</td>\n",
       "      <td>no-loc-author</td>\n",
       "      <td>842755</td>\n",
       "      <td>NaN</td>\n",
       "    </tr>\n",
       "    <tr>\n",
       "      <th>1</th>\n",
       "      <td>LOC-MDS</td>\n",
       "      <td>female</td>\n",
       "      <td>664221</td>\n",
       "      <td>NaN</td>\n",
       "    </tr>\n",
       "    <tr>\n",
       "      <th>2</th>\n",
       "      <td>LOC-MDS</td>\n",
       "      <td>unknown</td>\n",
       "      <td>1214597</td>\n",
       "      <td>NaN</td>\n",
       "    </tr>\n",
       "    <tr>\n",
       "      <th>3</th>\n",
       "      <td>LOC-MDS</td>\n",
       "      <td>ambiguous</td>\n",
       "      <td>53232</td>\n",
       "      <td>NaN</td>\n",
       "    </tr>\n",
       "    <tr>\n",
       "      <th>4</th>\n",
       "      <td>LOC-MDS</td>\n",
       "      <td>male</td>\n",
       "      <td>2195117</td>\n",
       "      <td>NaN</td>\n",
       "    </tr>\n",
       "  </tbody>\n",
       "</table>\n",
       "</div>"
      ],
      "text/plain": [
       "   dataset         gender  n_books  n_actions\n",
       "0  LOC-MDS  no-loc-author   842755        NaN\n",
       "1  LOC-MDS         female   664221        NaN\n",
       "2  LOC-MDS        unknown  1214597        NaN\n",
       "3  LOC-MDS      ambiguous    53232        NaN\n",
       "4  LOC-MDS           male  2195117        NaN"
      ]
     },
     "execution_count": 3,
     "metadata": {},
     "output_type": "execute_result"
    }
   ],
   "source": [
    "link_stats = pd.read_sql_table('integration_stats', db_url())\n",
    "link_stats.head()"
   ]
  },
  {
   "cell_type": "markdown",
   "id": "cdf6e0aa",
   "metadata": {},
   "source": [
    "Let's create lists for our different codes, in order, for later handling.  We'll start with the resolved codes:"
   ]
  },
  {
   "cell_type": "code",
   "execution_count": 4,
   "id": "d87979a8",
   "metadata": {
    "execution": {
     "iopub.execute_input": "2021-09-29T23:49:43.605626Z",
     "iopub.status.busy": "2021-09-29T23:49:43.604220Z",
     "iopub.status.idle": "2021-09-29T23:49:43.609456Z",
     "shell.execute_reply": "2021-09-29T23:49:43.608261Z"
    }
   },
   "outputs": [],
   "source": [
    "link_codes = ['female', 'male', 'ambiguous', 'unknown']"
   ]
  },
  {
   "cell_type": "markdown",
   "id": "fb429c2a",
   "metadata": {},
   "source": [
    "We want the unlink codes in order, so the last is the first link failure:"
   ]
  },
  {
   "cell_type": "code",
   "execution_count": 5,
   "id": "73f7854e",
   "metadata": {
    "execution": {
     "iopub.execute_input": "2021-09-29T23:49:43.618415Z",
     "iopub.status.busy": "2021-09-29T23:49:43.617047Z",
     "iopub.status.idle": "2021-09-29T23:49:43.622292Z",
     "shell.execute_reply": "2021-09-29T23:49:43.621129Z"
    }
   },
   "outputs": [],
   "source": [
    "unlink_codes = ['no-viaf-author', 'no-loc-author', 'no-book']"
   ]
  },
  {
   "cell_type": "markdown",
   "id": "82c74a2a",
   "metadata": {},
   "source": [
    "Now we'll pivot each of our count columns into a table for easier reference."
   ]
  },
  {
   "cell_type": "code",
   "execution_count": 6,
   "id": "2e89556a",
   "metadata": {
    "execution": {
     "iopub.execute_input": "2021-09-29T23:49:43.655435Z",
     "iopub.status.busy": "2021-09-29T23:49:43.654053Z",
     "iopub.status.idle": "2021-09-29T23:49:43.659965Z",
     "shell.execute_reply": "2021-09-29T23:49:43.661055Z"
    }
   },
   "outputs": [
    {
     "data": {
      "text/html": [
       "<div>\n",
       "<style scoped>\n",
       "    .dataframe tbody tr th:only-of-type {\n",
       "        vertical-align: middle;\n",
       "    }\n",
       "\n",
       "    .dataframe tbody tr th {\n",
       "        vertical-align: top;\n",
       "    }\n",
       "\n",
       "    .dataframe thead th {\n",
       "        text-align: right;\n",
       "    }\n",
       "</style>\n",
       "<table border=\"1\" class=\"dataframe\">\n",
       "  <thead>\n",
       "    <tr style=\"text-align: right;\">\n",
       "      <th>gender</th>\n",
       "      <th>female</th>\n",
       "      <th>male</th>\n",
       "      <th>ambiguous</th>\n",
       "      <th>unknown</th>\n",
       "      <th>no-viaf-author</th>\n",
       "      <th>no-loc-author</th>\n",
       "      <th>no-book</th>\n",
       "    </tr>\n",
       "    <tr>\n",
       "      <th>dataset</th>\n",
       "      <th></th>\n",
       "      <th></th>\n",
       "      <th></th>\n",
       "      <th></th>\n",
       "      <th></th>\n",
       "      <th></th>\n",
       "      <th></th>\n",
       "    </tr>\n",
       "  </thead>\n",
       "  <tbody>\n",
       "    <tr>\n",
       "      <th>AZ</th>\n",
       "      <td>215556</td>\n",
       "      <td>480628</td>\n",
       "      <td>17056</td>\n",
       "      <td>236219</td>\n",
       "      <td>157072</td>\n",
       "      <td>1161611</td>\n",
       "      <td>NaN</td>\n",
       "    </tr>\n",
       "    <tr>\n",
       "      <th>BX-E</th>\n",
       "      <td>38093</td>\n",
       "      <td>55906</td>\n",
       "      <td>4014</td>\n",
       "      <td>16900</td>\n",
       "      <td>7627</td>\n",
       "      <td>29130</td>\n",
       "      <td>NaN</td>\n",
       "    </tr>\n",
       "    <tr>\n",
       "      <th>BX-I</th>\n",
       "      <td>67087</td>\n",
       "      <td>96933</td>\n",
       "      <td>6770</td>\n",
       "      <td>34614</td>\n",
       "      <td>15631</td>\n",
       "      <td>58466</td>\n",
       "      <td>NaN</td>\n",
       "    </tr>\n",
       "    <tr>\n",
       "      <th>GR-E</th>\n",
       "      <td>174996</td>\n",
       "      <td>276045</td>\n",
       "      <td>11087</td>\n",
       "      <td>95887</td>\n",
       "      <td>35267</td>\n",
       "      <td>487495</td>\n",
       "      <td>NaN</td>\n",
       "    </tr>\n",
       "    <tr>\n",
       "      <th>GR-I</th>\n",
       "      <td>176640</td>\n",
       "      <td>279442</td>\n",
       "      <td>11189</td>\n",
       "      <td>97667</td>\n",
       "      <td>36106</td>\n",
       "      <td>495592</td>\n",
       "      <td>NaN</td>\n",
       "    </tr>\n",
       "    <tr>\n",
       "      <th>LOC-MDS</th>\n",
       "      <td>664221</td>\n",
       "      <td>2195117</td>\n",
       "      <td>53232</td>\n",
       "      <td>1214597</td>\n",
       "      <td>297405</td>\n",
       "      <td>842755</td>\n",
       "      <td>NaN</td>\n",
       "    </tr>\n",
       "  </tbody>\n",
       "</table>\n",
       "</div>"
      ],
      "text/plain": [
       "gender   female     male  ambiguous  unknown  no-viaf-author  no-loc-author  \\\n",
       "dataset                                                                       \n",
       "AZ       215556   480628      17056   236219          157072        1161611   \n",
       "BX-E      38093    55906       4014    16900            7627          29130   \n",
       "BX-I      67087    96933       6770    34614           15631          58466   \n",
       "GR-E     174996   276045      11087    95887           35267         487495   \n",
       "GR-I     176640   279442      11189    97667           36106         495592   \n",
       "LOC-MDS  664221  2195117      53232  1214597          297405         842755   \n",
       "\n",
       "gender   no-book  \n",
       "dataset           \n",
       "AZ           NaN  \n",
       "BX-E         NaN  \n",
       "BX-I         NaN  \n",
       "GR-E         NaN  \n",
       "GR-I         NaN  \n",
       "LOC-MDS      NaN  "
      ]
     },
     "execution_count": 6,
     "metadata": {},
     "output_type": "execute_result"
    }
   ],
   "source": [
    "book_counts = link_stats.pivot(index='dataset', columns='gender', values='n_books')\n",
    "book_counts = book_counts.reindex(columns=link_codes + unlink_codes)\n",
    "book_counts"
   ]
  },
  {
   "cell_type": "code",
   "execution_count": 7,
   "id": "cbced195",
   "metadata": {
    "execution": {
     "iopub.execute_input": "2021-09-29T23:49:43.702752Z",
     "iopub.status.busy": "2021-09-29T23:49:43.673228Z",
     "iopub.status.idle": "2021-09-29T23:49:43.709817Z",
     "shell.execute_reply": "2021-09-29T23:49:43.708685Z"
    }
   },
   "outputs": [
    {
     "data": {
      "text/html": [
       "<div>\n",
       "<style scoped>\n",
       "    .dataframe tbody tr th:only-of-type {\n",
       "        vertical-align: middle;\n",
       "    }\n",
       "\n",
       "    .dataframe tbody tr th {\n",
       "        vertical-align: top;\n",
       "    }\n",
       "\n",
       "    .dataframe thead th {\n",
       "        text-align: right;\n",
       "    }\n",
       "</style>\n",
       "<table border=\"1\" class=\"dataframe\">\n",
       "  <thead>\n",
       "    <tr style=\"text-align: right;\">\n",
       "      <th>gender</th>\n",
       "      <th>female</th>\n",
       "      <th>male</th>\n",
       "      <th>ambiguous</th>\n",
       "      <th>unknown</th>\n",
       "      <th>no-viaf-author</th>\n",
       "      <th>no-loc-author</th>\n",
       "      <th>no-book</th>\n",
       "    </tr>\n",
       "    <tr>\n",
       "      <th>dataset</th>\n",
       "      <th></th>\n",
       "      <th></th>\n",
       "      <th></th>\n",
       "      <th></th>\n",
       "      <th></th>\n",
       "      <th></th>\n",
       "      <th></th>\n",
       "    </tr>\n",
       "  </thead>\n",
       "  <tbody>\n",
       "    <tr>\n",
       "      <th>AZ</th>\n",
       "      <td>4313858.0</td>\n",
       "      <td>6557232.0</td>\n",
       "      <td>535239.0</td>\n",
       "      <td>2069787.0</td>\n",
       "      <td>810625.0</td>\n",
       "      <td>8173794.0</td>\n",
       "      <td>NaN</td>\n",
       "    </tr>\n",
       "    <tr>\n",
       "      <th>BX-E</th>\n",
       "      <td>138827.0</td>\n",
       "      <td>185054.0</td>\n",
       "      <td>30444.0</td>\n",
       "      <td>27434.0</td>\n",
       "      <td>9763.0</td>\n",
       "      <td>35761.0</td>\n",
       "      <td>NaN</td>\n",
       "    </tr>\n",
       "    <tr>\n",
       "      <th>BX-I</th>\n",
       "      <td>391728.0</td>\n",
       "      <td>467603.0</td>\n",
       "      <td>76294.0</td>\n",
       "      <td>77892.0</td>\n",
       "      <td>26277.0</td>\n",
       "      <td>90020.0</td>\n",
       "      <td>NaN</td>\n",
       "    </tr>\n",
       "    <tr>\n",
       "      <th>GR-E</th>\n",
       "      <td>32348714.0</td>\n",
       "      <td>33638049.0</td>\n",
       "      <td>8346632.0</td>\n",
       "      <td>3598667.0</td>\n",
       "      <td>599206.0</td>\n",
       "      <td>8006298.0</td>\n",
       "      <td>NaN</td>\n",
       "    </tr>\n",
       "    <tr>\n",
       "      <th>GR-I</th>\n",
       "      <td>71070367.0</td>\n",
       "      <td>68540386.0</td>\n",
       "      <td>13491116.0</td>\n",
       "      <td>9640560.0</td>\n",
       "      <td>1720205.0</td>\n",
       "      <td>24480644.0</td>\n",
       "      <td>NaN</td>\n",
       "    </tr>\n",
       "  </tbody>\n",
       "</table>\n",
       "</div>"
      ],
      "text/plain": [
       "gender       female        male   ambiguous    unknown  no-viaf-author  \\\n",
       "dataset                                                                  \n",
       "AZ        4313858.0   6557232.0    535239.0  2069787.0        810625.0   \n",
       "BX-E       138827.0    185054.0     30444.0    27434.0          9763.0   \n",
       "BX-I       391728.0    467603.0     76294.0    77892.0         26277.0   \n",
       "GR-E     32348714.0  33638049.0   8346632.0  3598667.0        599206.0   \n",
       "GR-I     71070367.0  68540386.0  13491116.0  9640560.0       1720205.0   \n",
       "\n",
       "gender   no-loc-author  no-book  \n",
       "dataset                          \n",
       "AZ           8173794.0      NaN  \n",
       "BX-E           35761.0      NaN  \n",
       "BX-I           90020.0      NaN  \n",
       "GR-E         8006298.0      NaN  \n",
       "GR-I        24480644.0      NaN  "
      ]
     },
     "execution_count": 7,
     "metadata": {},
     "output_type": "execute_result"
    }
   ],
   "source": [
    "act_counts = link_stats.pivot(index='dataset', columns='gender', values='n_actions')\n",
    "act_counts = act_counts.reindex(columns=link_codes + unlink_codes)\n",
    "act_counts.drop(index='LOC-MDS', inplace=True)\n",
    "act_counts"
   ]
  },
  {
   "cell_type": "markdown",
   "id": "3e764b80",
   "metadata": {},
   "source": [
    "We're going to want to compute versions of this table as fractions, e.g. the fraction of books that are written by women.  We will use the following helper function:"
   ]
  },
  {
   "cell_type": "code",
   "execution_count": 8,
   "id": "cf564aa7",
   "metadata": {
    "execution": {
     "iopub.execute_input": "2021-09-29T23:49:43.721417Z",
     "iopub.status.busy": "2021-09-29T23:49:43.720040Z",
     "iopub.status.idle": "2021-09-29T23:49:43.724166Z",
     "shell.execute_reply": "2021-09-29T23:49:43.725255Z"
    }
   },
   "outputs": [],
   "source": [
    "def fractionalize(data, columns, unlinked=None):\n",
    "    fracs = data[columns]\n",
    "    if unlinked:\n",
    "        fracs = fracs.assign(unlinked=data[unlinked].sum(axis=1))\n",
    "    totals = fracs.sum(axis=1)\n",
    "    return fracs.divide(totals, axis=0)"
   ]
  },
  {
   "cell_type": "markdown",
   "id": "19926a3a",
   "metadata": {},
   "source": [
    "And a helper function for plotting bar charts:"
   ]
  },
  {
   "cell_type": "code",
   "execution_count": 9,
   "id": "1a8743f5",
   "metadata": {
    "execution": {
     "iopub.execute_input": "2021-09-29T23:49:43.746594Z",
     "iopub.status.busy": "2021-09-29T23:49:43.745174Z",
     "iopub.status.idle": "2021-09-29T23:49:43.750436Z",
     "shell.execute_reply": "2021-09-29T23:49:43.749245Z"
    }
   },
   "outputs": [],
   "source": [
    "def plot_bars(fracs, ax=None, cmap=mpl.cm.Dark2):\n",
    "    if ax is None:\n",
    "        ax = plt.gca()\n",
    "    size = 0.5\n",
    "    ind = np.arange(len(fracs))\n",
    "    start = pd.Series(0, index=fracs.index)\n",
    "    for i, col in enumerate(fracs.columns):\n",
    "        vals = fracs.iloc[:, i]\n",
    "        rects = ax.barh(ind, vals, size, left=start, label=col, color=cmap(i))\n",
    "        for j, rec in enumerate(rects):\n",
    "            if vals.iloc[j] < 0.1: continue\n",
    "            y = rec.get_y() + rec.get_height() / 2\n",
    "            x = start.iloc[j] + vals.iloc[j] / 2\n",
    "            ax.annotate('{:.1f}%'.format(vals.iloc[j] * 100),\n",
    "                        xy=(x,y), ha='center', va='center', color='white',\n",
    "                        fontweight='bold')\n",
    "        start += vals\n",
    "    ax.set_xlabel('Fraction of Books')\n",
    "    ax.set_ylabel('Data Set')\n",
    "    ax.set_yticks(ind)\n",
    "    ax.set_yticklabels(fracs.index)\n",
    "    ax.legend(loc='center left', bbox_to_anchor=(1, 0.5))"
   ]
  },
  {
   "cell_type": "markdown",
   "id": "aae7ea98",
   "metadata": {},
   "source": [
    "## Resolution of Books\n",
    "\n",
    "What fraction of *unique books* are resolved from each source?"
   ]
  },
  {
   "cell_type": "code",
   "execution_count": 10,
   "id": "566298b5",
   "metadata": {
    "execution": {
     "iopub.execute_input": "2021-09-29T23:49:43.783376Z",
     "iopub.status.busy": "2021-09-29T23:49:43.782006Z",
     "iopub.status.idle": "2021-09-29T23:49:43.788043Z",
     "shell.execute_reply": "2021-09-29T23:49:43.789137Z"
    }
   },
   "outputs": [
    {
     "data": {
      "text/html": [
       "<div>\n",
       "<style scoped>\n",
       "    .dataframe tbody tr th:only-of-type {\n",
       "        vertical-align: middle;\n",
       "    }\n",
       "\n",
       "    .dataframe tbody tr th {\n",
       "        vertical-align: top;\n",
       "    }\n",
       "\n",
       "    .dataframe thead th {\n",
       "        text-align: right;\n",
       "    }\n",
       "</style>\n",
       "<table border=\"1\" class=\"dataframe\">\n",
       "  <thead>\n",
       "    <tr style=\"text-align: right;\">\n",
       "      <th>gender</th>\n",
       "      <th>female</th>\n",
       "      <th>male</th>\n",
       "      <th>ambiguous</th>\n",
       "      <th>unknown</th>\n",
       "      <th>no-viaf-author</th>\n",
       "      <th>no-loc-author</th>\n",
       "      <th>no-book</th>\n",
       "    </tr>\n",
       "    <tr>\n",
       "      <th>dataset</th>\n",
       "      <th></th>\n",
       "      <th></th>\n",
       "      <th></th>\n",
       "      <th></th>\n",
       "      <th></th>\n",
       "      <th></th>\n",
       "      <th></th>\n",
       "    </tr>\n",
       "  </thead>\n",
       "  <tbody>\n",
       "    <tr>\n",
       "      <th>AZ</th>\n",
       "      <td>0.095036</td>\n",
       "      <td>0.211904</td>\n",
       "      <td>0.007520</td>\n",
       "      <td>0.104146</td>\n",
       "      <td>0.069251</td>\n",
       "      <td>0.512142</td>\n",
       "      <td>NaN</td>\n",
       "    </tr>\n",
       "    <tr>\n",
       "      <th>BX-E</th>\n",
       "      <td>0.251157</td>\n",
       "      <td>0.368603</td>\n",
       "      <td>0.026465</td>\n",
       "      <td>0.111426</td>\n",
       "      <td>0.050287</td>\n",
       "      <td>0.192062</td>\n",
       "      <td>NaN</td>\n",
       "    </tr>\n",
       "    <tr>\n",
       "      <th>BX-I</th>\n",
       "      <td>0.240024</td>\n",
       "      <td>0.346807</td>\n",
       "      <td>0.024222</td>\n",
       "      <td>0.123842</td>\n",
       "      <td>0.055925</td>\n",
       "      <td>0.209180</td>\n",
       "      <td>NaN</td>\n",
       "    </tr>\n",
       "    <tr>\n",
       "      <th>GR-E</th>\n",
       "      <td>0.161917</td>\n",
       "      <td>0.255413</td>\n",
       "      <td>0.010258</td>\n",
       "      <td>0.088720</td>\n",
       "      <td>0.032631</td>\n",
       "      <td>0.451060</td>\n",
       "      <td>NaN</td>\n",
       "    </tr>\n",
       "    <tr>\n",
       "      <th>GR-I</th>\n",
       "      <td>0.161074</td>\n",
       "      <td>0.254817</td>\n",
       "      <td>0.010203</td>\n",
       "      <td>0.089061</td>\n",
       "      <td>0.032924</td>\n",
       "      <td>0.451920</td>\n",
       "      <td>NaN</td>\n",
       "    </tr>\n",
       "    <tr>\n",
       "      <th>LOC-MDS</th>\n",
       "      <td>0.126102</td>\n",
       "      <td>0.416742</td>\n",
       "      <td>0.010106</td>\n",
       "      <td>0.230591</td>\n",
       "      <td>0.056462</td>\n",
       "      <td>0.159997</td>\n",
       "      <td>NaN</td>\n",
       "    </tr>\n",
       "  </tbody>\n",
       "</table>\n",
       "</div>"
      ],
      "text/plain": [
       "gender     female      male  ambiguous   unknown  no-viaf-author  \\\n",
       "dataset                                                            \n",
       "AZ       0.095036  0.211904   0.007520  0.104146        0.069251   \n",
       "BX-E     0.251157  0.368603   0.026465  0.111426        0.050287   \n",
       "BX-I     0.240024  0.346807   0.024222  0.123842        0.055925   \n",
       "GR-E     0.161917  0.255413   0.010258  0.088720        0.032631   \n",
       "GR-I     0.161074  0.254817   0.010203  0.089061        0.032924   \n",
       "LOC-MDS  0.126102  0.416742   0.010106  0.230591        0.056462   \n",
       "\n",
       "gender   no-loc-author  no-book  \n",
       "dataset                          \n",
       "AZ            0.512142      NaN  \n",
       "BX-E          0.192062      NaN  \n",
       "BX-I          0.209180      NaN  \n",
       "GR-E          0.451060      NaN  \n",
       "GR-I          0.451920      NaN  \n",
       "LOC-MDS       0.159997      NaN  "
      ]
     },
     "execution_count": 10,
     "metadata": {},
     "output_type": "execute_result"
    }
   ],
   "source": [
    "fractionalize(book_counts, link_codes + unlink_codes)"
   ]
  },
  {
   "cell_type": "code",
   "execution_count": 11,
   "id": "a6b62d9c",
   "metadata": {
    "execution": {
     "iopub.execute_input": "2021-09-29T23:49:43.837982Z",
     "iopub.status.busy": "2021-09-29T23:49:43.836593Z",
     "iopub.status.idle": "2021-09-29T23:49:44.462323Z",
     "shell.execute_reply": "2021-09-29T23:49:44.463458Z"
    }
   },
   "outputs": [
    {
     "data": {
      "image/png": "[encoded data removed]",
      "text/plain": [
       "<Figure size 432x288 with 1 Axes>"
      ]
     },
     "metadata": {
      "needs_background": "light"
     },
     "output_type": "display_data"
    }
   ],
   "source": [
    "plot_bars(fractionalize(book_counts, link_codes + unlink_codes))"
   ]
  },
  {
   "cell_type": "code",
   "execution_count": 12,
   "id": "764a3bbf",
   "metadata": {
    "execution": {
     "iopub.execute_input": "2021-09-29T23:49:44.484977Z",
     "iopub.status.busy": "2021-09-29T23:49:44.483582Z",
     "iopub.status.idle": "2021-09-29T23:49:44.488666Z",
     "shell.execute_reply": "2021-09-29T23:49:44.489785Z"
    }
   },
   "outputs": [
    {
     "data": {
      "text/html": [
       "<div>\n",
       "<style scoped>\n",
       "    .dataframe tbody tr th:only-of-type {\n",
       "        vertical-align: middle;\n",
       "    }\n",
       "\n",
       "    .dataframe tbody tr th {\n",
       "        vertical-align: top;\n",
       "    }\n",
       "\n",
       "    .dataframe thead th {\n",
       "        text-align: right;\n",
       "    }\n",
       "</style>\n",
       "<table border=\"1\" class=\"dataframe\">\n",
       "  <thead>\n",
       "    <tr style=\"text-align: right;\">\n",
       "      <th>gender</th>\n",
       "      <th>female</th>\n",
       "      <th>male</th>\n",
       "      <th>ambiguous</th>\n",
       "      <th>unknown</th>\n",
       "      <th>unlinked</th>\n",
       "    </tr>\n",
       "    <tr>\n",
       "      <th>dataset</th>\n",
       "      <th></th>\n",
       "      <th></th>\n",
       "      <th></th>\n",
       "      <th></th>\n",
       "      <th></th>\n",
       "    </tr>\n",
       "  </thead>\n",
       "  <tbody>\n",
       "    <tr>\n",
       "      <th>AZ</th>\n",
       "      <td>0.095036</td>\n",
       "      <td>0.211904</td>\n",
       "      <td>0.007520</td>\n",
       "      <td>0.104146</td>\n",
       "      <td>0.581393</td>\n",
       "    </tr>\n",
       "    <tr>\n",
       "      <th>BX-E</th>\n",
       "      <td>0.251157</td>\n",
       "      <td>0.368603</td>\n",
       "      <td>0.026465</td>\n",
       "      <td>0.111426</td>\n",
       "      <td>0.242349</td>\n",
       "    </tr>\n",
       "    <tr>\n",
       "      <th>BX-I</th>\n",
       "      <td>0.240024</td>\n",
       "      <td>0.346807</td>\n",
       "      <td>0.024222</td>\n",
       "      <td>0.123842</td>\n",
       "      <td>0.265105</td>\n",
       "    </tr>\n",
       "    <tr>\n",
       "      <th>GR-E</th>\n",
       "      <td>0.161917</td>\n",
       "      <td>0.255413</td>\n",
       "      <td>0.010258</td>\n",
       "      <td>0.088720</td>\n",
       "      <td>0.483691</td>\n",
       "    </tr>\n",
       "    <tr>\n",
       "      <th>GR-I</th>\n",
       "      <td>0.161074</td>\n",
       "      <td>0.254817</td>\n",
       "      <td>0.010203</td>\n",
       "      <td>0.089061</td>\n",
       "      <td>0.484845</td>\n",
       "    </tr>\n",
       "    <tr>\n",
       "      <th>LOC-MDS</th>\n",
       "      <td>0.126102</td>\n",
       "      <td>0.416742</td>\n",
       "      <td>0.010106</td>\n",
       "      <td>0.230591</td>\n",
       "      <td>0.216459</td>\n",
       "    </tr>\n",
       "  </tbody>\n",
       "</table>\n",
       "</div>"
      ],
      "text/plain": [
       "gender     female      male  ambiguous   unknown  unlinked\n",
       "dataset                                                   \n",
       "AZ       0.095036  0.211904   0.007520  0.104146  0.581393\n",
       "BX-E     0.251157  0.368603   0.026465  0.111426  0.242349\n",
       "BX-I     0.240024  0.346807   0.024222  0.123842  0.265105\n",
       "GR-E     0.161917  0.255413   0.010258  0.088720  0.483691\n",
       "GR-I     0.161074  0.254817   0.010203  0.089061  0.484845\n",
       "LOC-MDS  0.126102  0.416742   0.010106  0.230591  0.216459"
      ]
     },
     "execution_count": 12,
     "metadata": {},
     "output_type": "execute_result"
    }
   ],
   "source": [
    "fractionalize(book_counts, link_codes, unlink_codes)"
   ]
  },
  {
   "cell_type": "code",
   "execution_count": 13,
   "id": "349c82bd",
   "metadata": {
    "execution": {
     "iopub.execute_input": "2021-09-29T23:49:44.505786Z",
     "iopub.status.busy": "2021-09-29T23:49:44.504403Z",
     "iopub.status.idle": "2021-09-29T23:49:45.021525Z",
     "shell.execute_reply": "2021-09-29T23:49:45.022685Z"
    }
   },
   "outputs": [
    {
     "data": {
      "image/png": "[encoded data removed]",
      "text/plain": [
       "<Figure size 432x288 with 1 Axes>"
      ]
     },
     "metadata": {
      "needs_background": "light"
     },
     "output_type": "display_data"
    }
   ],
   "source": [
    "plot_bars(fractionalize(book_counts, link_codes, unlink_codes))"
   ]
  },
  {
   "cell_type": "code",
   "execution_count": 14,
   "id": "3adb6d58",
   "metadata": {
    "execution": {
     "iopub.execute_input": "2021-09-29T23:49:45.071568Z",
     "iopub.status.busy": "2021-09-29T23:49:45.070200Z",
     "iopub.status.idle": "2021-09-29T23:49:45.425400Z",
     "shell.execute_reply": "2021-09-29T23:49:45.426069Z"
    }
   },
   "outputs": [
    {
     "data": {
      "image/png": "[encoded data removed]",
      "text/plain": [
       "<Figure size 432x288 with 1 Axes>"
      ]
     },
     "metadata": {
      "needs_background": "light"
     },
     "output_type": "display_data"
    }
   ],
   "source": [
    "plot_bars(fractionalize(book_counts, ['female', 'male']))"
   ]
  },
  {
   "cell_type": "markdown",
   "id": "593c6caf",
   "metadata": {},
   "source": [
    "## Resolution of Ratings\n",
    "\n",
    "What fraction of *rating actions* have each resolution result?"
   ]
  },
  {
   "cell_type": "code",
   "execution_count": 15,
   "id": "50711a86",
   "metadata": {
    "execution": {
     "iopub.execute_input": "2021-09-29T23:49:45.444679Z",
     "iopub.status.busy": "2021-09-29T23:49:45.443898Z",
     "iopub.status.idle": "2021-09-29T23:49:45.447448Z",
     "shell.execute_reply": "2021-09-29T23:49:45.448071Z"
    }
   },
   "outputs": [
    {
     "data": {
      "text/html": [
       "<div>\n",
       "<style scoped>\n",
       "    .dataframe tbody tr th:only-of-type {\n",
       "        vertical-align: middle;\n",
       "    }\n",
       "\n",
       "    .dataframe tbody tr th {\n",
       "        vertical-align: top;\n",
       "    }\n",
       "\n",
       "    .dataframe thead th {\n",
       "        text-align: right;\n",
       "    }\n",
       "</style>\n",
       "<table border=\"1\" class=\"dataframe\">\n",
       "  <thead>\n",
       "    <tr style=\"text-align: right;\">\n",
       "      <th>gender</th>\n",
       "      <th>female</th>\n",
       "      <th>male</th>\n",
       "      <th>ambiguous</th>\n",
       "      <th>unknown</th>\n",
       "      <th>no-viaf-author</th>\n",
       "      <th>no-loc-author</th>\n",
       "      <th>no-book</th>\n",
       "    </tr>\n",
       "    <tr>\n",
       "      <th>dataset</th>\n",
       "      <th></th>\n",
       "      <th></th>\n",
       "      <th></th>\n",
       "      <th></th>\n",
       "      <th></th>\n",
       "      <th></th>\n",
       "      <th></th>\n",
       "    </tr>\n",
       "  </thead>\n",
       "  <tbody>\n",
       "    <tr>\n",
       "      <th>AZ</th>\n",
       "      <td>0.192064</td>\n",
       "      <td>0.291945</td>\n",
       "      <td>0.023830</td>\n",
       "      <td>0.092152</td>\n",
       "      <td>0.036091</td>\n",
       "      <td>0.363918</td>\n",
       "      <td>NaN</td>\n",
       "    </tr>\n",
       "    <tr>\n",
       "      <th>BX-E</th>\n",
       "      <td>0.324906</td>\n",
       "      <td>0.433095</td>\n",
       "      <td>0.071250</td>\n",
       "      <td>0.064206</td>\n",
       "      <td>0.022849</td>\n",
       "      <td>0.083694</td>\n",
       "      <td>NaN</td>\n",
       "    </tr>\n",
       "    <tr>\n",
       "      <th>BX-I</th>\n",
       "      <td>0.346719</td>\n",
       "      <td>0.413876</td>\n",
       "      <td>0.067528</td>\n",
       "      <td>0.068942</td>\n",
       "      <td>0.023258</td>\n",
       "      <td>0.079677</td>\n",
       "      <td>NaN</td>\n",
       "    </tr>\n",
       "    <tr>\n",
       "      <th>GR-E</th>\n",
       "      <td>0.373811</td>\n",
       "      <td>0.388710</td>\n",
       "      <td>0.096451</td>\n",
       "      <td>0.041585</td>\n",
       "      <td>0.006924</td>\n",
       "      <td>0.092518</td>\n",
       "      <td>NaN</td>\n",
       "    </tr>\n",
       "    <tr>\n",
       "      <th>GR-I</th>\n",
       "      <td>0.376147</td>\n",
       "      <td>0.362756</td>\n",
       "      <td>0.071403</td>\n",
       "      <td>0.051024</td>\n",
       "      <td>0.009104</td>\n",
       "      <td>0.129566</td>\n",
       "      <td>NaN</td>\n",
       "    </tr>\n",
       "  </tbody>\n",
       "</table>\n",
       "</div>"
      ],
      "text/plain": [
       "gender     female      male  ambiguous   unknown  no-viaf-author  \\\n",
       "dataset                                                            \n",
       "AZ       0.192064  0.291945   0.023830  0.092152        0.036091   \n",
       "BX-E     0.324906  0.433095   0.071250  0.064206        0.022849   \n",
       "BX-I     0.346719  0.413876   0.067528  0.068942        0.023258   \n",
       "GR-E     0.373811  0.388710   0.096451  0.041585        0.006924   \n",
       "GR-I     0.376147  0.362756   0.071403  0.051024        0.009104   \n",
       "\n",
       "gender   no-loc-author  no-book  \n",
       "dataset                          \n",
       "AZ            0.363918      NaN  \n",
       "BX-E          0.083694      NaN  \n",
       "BX-I          0.079677      NaN  \n",
       "GR-E          0.092518      NaN  \n",
       "GR-I          0.129566      NaN  "
      ]
     },
     "execution_count": 15,
     "metadata": {},
     "output_type": "execute_result"
    }
   ],
   "source": [
    "fractionalize(act_counts, link_codes + unlink_codes)"
   ]
  },
  {
   "cell_type": "code",
   "execution_count": 16,
   "id": "736d8a05",
   "metadata": {
    "execution": {
     "iopub.execute_input": "2021-09-29T23:49:45.474945Z",
     "iopub.status.busy": "2021-09-29T23:49:45.458776Z",
     "iopub.status.idle": "2021-09-29T23:49:45.848309Z",
     "shell.execute_reply": "2021-09-29T23:49:45.848968Z"
    }
   },
   "outputs": [
    {
     "data": {
      "image/png": "[encoded data removed]",
      "text/plain": [
       "<Figure size 432x288 with 1 Axes>"
      ]
     },
     "metadata": {
      "needs_background": "light"
     },
     "output_type": "display_data"
    }
   ],
   "source": [
    "plot_bars(fractionalize(act_counts, link_codes + unlink_codes))"
   ]
  },
  {
   "cell_type": "code",
   "execution_count": 17,
   "id": "e4951459",
   "metadata": {
    "execution": {
     "iopub.execute_input": "2021-09-29T23:49:45.867875Z",
     "iopub.status.busy": "2021-09-29T23:49:45.867084Z",
     "iopub.status.idle": "2021-09-29T23:49:45.870346Z",
     "shell.execute_reply": "2021-09-29T23:49:45.870996Z"
    }
   },
   "outputs": [
    {
     "data": {
      "text/html": [
       "<div>\n",
       "<style scoped>\n",
       "    .dataframe tbody tr th:only-of-type {\n",
       "        vertical-align: middle;\n",
       "    }\n",
       "\n",
       "    .dataframe tbody tr th {\n",
       "        vertical-align: top;\n",
       "    }\n",
       "\n",
       "    .dataframe thead th {\n",
       "        text-align: right;\n",
       "    }\n",
       "</style>\n",
       "<table border=\"1\" class=\"dataframe\">\n",
       "  <thead>\n",
       "    <tr style=\"text-align: right;\">\n",
       "      <th>gender</th>\n",
       "      <th>female</th>\n",
       "      <th>male</th>\n",
       "      <th>ambiguous</th>\n",
       "      <th>unknown</th>\n",
       "      <th>unlinked</th>\n",
       "    </tr>\n",
       "    <tr>\n",
       "      <th>dataset</th>\n",
       "      <th></th>\n",
       "      <th></th>\n",
       "      <th></th>\n",
       "      <th></th>\n",
       "      <th></th>\n",
       "    </tr>\n",
       "  </thead>\n",
       "  <tbody>\n",
       "    <tr>\n",
       "      <th>AZ</th>\n",
       "      <td>0.192064</td>\n",
       "      <td>0.291945</td>\n",
       "      <td>0.023830</td>\n",
       "      <td>0.092152</td>\n",
       "      <td>0.400009</td>\n",
       "    </tr>\n",
       "    <tr>\n",
       "      <th>BX-E</th>\n",
       "      <td>0.324906</td>\n",
       "      <td>0.433095</td>\n",
       "      <td>0.071250</td>\n",
       "      <td>0.064206</td>\n",
       "      <td>0.106543</td>\n",
       "    </tr>\n",
       "    <tr>\n",
       "      <th>BX-I</th>\n",
       "      <td>0.346719</td>\n",
       "      <td>0.413876</td>\n",
       "      <td>0.067528</td>\n",
       "      <td>0.068942</td>\n",
       "      <td>0.102935</td>\n",
       "    </tr>\n",
       "    <tr>\n",
       "      <th>GR-E</th>\n",
       "      <td>0.373811</td>\n",
       "      <td>0.388710</td>\n",
       "      <td>0.096451</td>\n",
       "      <td>0.041585</td>\n",
       "      <td>0.099442</td>\n",
       "    </tr>\n",
       "    <tr>\n",
       "      <th>GR-I</th>\n",
       "      <td>0.376147</td>\n",
       "      <td>0.362756</td>\n",
       "      <td>0.071403</td>\n",
       "      <td>0.051024</td>\n",
       "      <td>0.138670</td>\n",
       "    </tr>\n",
       "  </tbody>\n",
       "</table>\n",
       "</div>"
      ],
      "text/plain": [
       "gender     female      male  ambiguous   unknown  unlinked\n",
       "dataset                                                   \n",
       "AZ       0.192064  0.291945   0.023830  0.092152  0.400009\n",
       "BX-E     0.324906  0.433095   0.071250  0.064206  0.106543\n",
       "BX-I     0.346719  0.413876   0.067528  0.068942  0.102935\n",
       "GR-E     0.373811  0.388710   0.096451  0.041585  0.099442\n",
       "GR-I     0.376147  0.362756   0.071403  0.051024  0.138670"
      ]
     },
     "execution_count": 17,
     "metadata": {},
     "output_type": "execute_result"
    }
   ],
   "source": [
    "fractionalize(act_counts, link_codes, unlink_codes)"
   ]
  },
  {
   "cell_type": "code",
   "execution_count": 18,
   "id": "444d9b62",
   "metadata": {
    "execution": {
     "iopub.execute_input": "2021-09-29T23:49:45.898703Z",
     "iopub.status.busy": "2021-09-29T23:49:45.884160Z",
     "iopub.status.idle": "2021-09-29T23:49:46.235511Z",
     "shell.execute_reply": "2021-09-29T23:49:46.236175Z"
    }
   },
   "outputs": [
    {
     "data": {
      "image/png": "[encoded data removed]",
      "text/plain": [
       "<Figure size 432x288 with 1 Axes>"
      ]
     },
     "metadata": {
      "needs_background": "light"
     },
     "output_type": "display_data"
    }
   ],
   "source": [
    "plot_bars(fractionalize(act_counts, link_codes, unlink_codes))"
   ]
  },
  {
   "cell_type": "code",
   "execution_count": 19,
   "id": "931593d9",
   "metadata": {
    "execution": {
     "iopub.execute_input": "2021-09-29T23:49:46.261393Z",
     "iopub.status.busy": "2021-09-29T23:49:46.248411Z",
     "iopub.status.idle": "2021-09-29T23:49:46.508445Z",
     "shell.execute_reply": "2021-09-29T23:49:46.509110Z"
    }
   },
   "outputs": [
    {
     "data": {
      "image/png": "[encoded data removed]",
      "text/plain": [
       "<Figure size 432x288 with 1 Axes>"
      ]
     },
     "metadata": {
      "needs_background": "light"
     },
     "output_type": "display_data"
    }
   ],
   "source": [
    "plot_bars(fractionalize(act_counts, ['female', 'male']))"
   ]
  },
  {
   "cell_type": "markdown",
   "id": "fc8831d4",
   "metadata": {},
   "source": [
    "## Metrics\n",
    "\n",
    "Finally, we're going to write coverage metrics."
   ]
  },
  {
   "cell_type": "code",
   "execution_count": 20,
   "id": "5bed229e",
   "metadata": {
    "execution": {
     "iopub.execute_input": "2021-09-29T23:49:46.519733Z",
     "iopub.status.busy": "2021-09-29T23:49:46.518947Z",
     "iopub.status.idle": "2021-09-29T23:49:46.522348Z",
     "shell.execute_reply": "2021-09-29T23:49:46.522967Z"
    }
   },
   "outputs": [
    {
     "data": {
      "text/plain": [
       "dataset\n",
       "AZ         0.314460\n",
       "BX-E       0.646225\n",
       "BX-I       0.611053\n",
       "GR-E       0.427589\n",
       "GR-I       0.426095\n",
       "LOC-MDS    0.552950\n",
       "dtype: float64"
      ]
     },
     "execution_count": 20,
     "metadata": {},
     "output_type": "execute_result"
    }
   ],
   "source": [
    "book_tots = book_counts.sum(axis=1)\n",
    "book_link = book_counts['male'] + book_counts['female'] + book_counts['ambiguous']\n",
    "book_cover = book_link / book_tots\n",
    "book_cover"
   ]
  },
  {
   "cell_type": "code",
   "execution_count": 21,
   "id": "ef45bc06",
   "metadata": {
    "execution": {
     "iopub.execute_input": "2021-09-29T23:49:46.528188Z",
     "iopub.status.busy": "2021-09-29T23:49:46.527409Z",
     "iopub.status.idle": "2021-09-29T23:49:46.531092Z",
     "shell.execute_reply": "2021-09-29T23:49:46.530405Z"
    }
   },
   "outputs": [],
   "source": [
    "book_cover.to_json('book-coverage.json')"
   ]
  },
  {
   "cell_type": "code",
   "execution_count": null,
   "id": "48d96156",
   "metadata": {},
   "outputs": [],
   "source": []
  }
 ],
 "metadata": {
  "jupytext": {
   "formats": "ipynb,py:percent"
  },
  "kernelspec": {
   "display_name": "Python 3 (ipykernel)",
   "language": "python",
   "name": "python3"
  },
  "language_info": {
   "codemirror_mode": {
    "name": "ipython",
    "version": 3
   },
   "file_extension": ".py",
   "mimetype": "text/x-python",
   "name": "python",
   "nbconvert_exporter": "python",
   "pygments_lexer": "ipython3",
   "version": "3.8.12"
  }
 },
 "nbformat": 4,
 "nbformat_minor": 5
}
