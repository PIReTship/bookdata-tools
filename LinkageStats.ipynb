{
 "cells": [
  {
   "cell_type": "markdown",
   "id": "458b0a39",
   "metadata": {},
   "source": [
    "# Book Data Linkage Statistics\n",
    "\n",
    "This notebook presents statistics of the book data integration."
   ]
  },
  {
   "cell_type": "markdown",
   "id": "84d7d646",
   "metadata": {},
   "source": [
    "## Setup"
   ]
  },
  {
   "cell_type": "code",
   "execution_count": 1,
   "id": "e2480a8a",
   "metadata": {
    "execution": {
     "iopub.execute_input": "2021-06-08T23:55:06.095596Z",
     "iopub.status.busy": "2021-06-08T23:55:06.095596Z",
     "iopub.status.idle": "2021-06-08T23:55:07.077451Z",
     "shell.execute_reply": "2021-06-08T23:55:07.078452Z"
    }
   },
   "outputs": [],
   "source": [
    "import pandas as pd\n",
    "import seaborn as sns\n",
    "import matplotlib as mpl\n",
    "import matplotlib.pyplot as plt\n",
    "import numpy as np"
   ]
  },
  {
   "cell_type": "markdown",
   "id": "4ee6d9c6",
   "metadata": {},
   "source": [
    "## Load Link Stats\n",
    "\n",
    "We compute dataset linking statitsics as `gender-stats.csv.gz` using DataFusion.  Let's load those:"
   ]
  },
  {
   "cell_type": "code",
   "execution_count": 2,
   "id": "6b68921c",
   "metadata": {
    "execution": {
     "iopub.execute_input": "2021-06-08T23:55:07.082454Z",
     "iopub.status.busy": "2021-06-08T23:55:07.082454Z",
     "iopub.status.idle": "2021-06-08T23:55:07.108460Z",
     "shell.execute_reply": "2021-06-08T23:55:07.108460Z"
    }
   },
   "outputs": [
    {
     "data": {
      "text/html": [
       "<div>\n",
       "<style scoped>\n",
       "    .dataframe tbody tr th:only-of-type {\n",
       "        vertical-align: middle;\n",
       "    }\n",
       "\n",
       "    .dataframe tbody tr th {\n",
       "        vertical-align: top;\n",
       "    }\n",
       "\n",
       "    .dataframe thead th {\n",
       "        text-align: right;\n",
       "    }\n",
       "</style>\n",
       "<table border=\"1\" class=\"dataframe\">\n",
       "  <thead>\n",
       "    <tr style=\"text-align: right;\">\n",
       "      <th></th>\n",
       "      <th>dataset</th>\n",
       "      <th>gender</th>\n",
       "      <th>n_books</th>\n",
       "      <th>n_actions</th>\n",
       "    </tr>\n",
       "  </thead>\n",
       "  <tbody>\n",
       "    <tr>\n",
       "      <th>0</th>\n",
       "      <td>BX-I</td>\n",
       "      <td>no-book-author</td>\n",
       "      <td>57116</td>\n",
       "      <td>88383</td>\n",
       "    </tr>\n",
       "    <tr>\n",
       "      <th>1</th>\n",
       "      <td>BX-I</td>\n",
       "      <td>male</td>\n",
       "      <td>98030</td>\n",
       "      <td>467021</td>\n",
       "    </tr>\n",
       "    <tr>\n",
       "      <th>2</th>\n",
       "      <td>BX-I</td>\n",
       "      <td>no-author-rec</td>\n",
       "      <td>14005</td>\n",
       "      <td>23304</td>\n",
       "    </tr>\n",
       "    <tr>\n",
       "      <th>3</th>\n",
       "      <td>BX-I</td>\n",
       "      <td>unknown</td>\n",
       "      <td>34784</td>\n",
       "      <td>78089</td>\n",
       "    </tr>\n",
       "    <tr>\n",
       "      <th>4</th>\n",
       "      <td>BX-I</td>\n",
       "      <td>ambiguous</td>\n",
       "      <td>7143</td>\n",
       "      <td>81193</td>\n",
       "    </tr>\n",
       "  </tbody>\n",
       "</table>\n",
       "</div>"
      ],
      "text/plain": [
       "  dataset          gender  n_books  n_actions\n",
       "0    BX-I  no-book-author    57116      88383\n",
       "1    BX-I            male    98030     467021\n",
       "2    BX-I   no-author-rec    14005      23304\n",
       "3    BX-I         unknown    34784      78089\n",
       "4    BX-I       ambiguous     7143      81193"
      ]
     },
     "execution_count": 1,
     "metadata": {},
     "output_type": "execute_result"
    }
   ],
   "source": [
    "link_stats = pd.read_csv('book-links/gender-stats.csv.gz')\n",
    "link_stats.head()"
   ]
  },
  {
   "cell_type": "markdown",
   "id": "33ea0c2c",
   "metadata": {},
   "source": [
    "Now let's define variables for our variou codes. We are first going to define our gender codes.  We'll start with the resolved codes:"
   ]
  },
  {
   "cell_type": "code",
   "execution_count": 3,
   "id": "f6a6e194",
   "metadata": {
    "execution": {
     "iopub.execute_input": "2021-06-08T23:55:07.112450Z",
     "iopub.status.busy": "2021-06-08T23:55:07.111461Z",
     "iopub.status.idle": "2021-06-08T23:55:07.124450Z",
     "shell.execute_reply": "2021-06-08T23:55:07.123450Z"
    }
   },
   "outputs": [],
   "source": [
    "link_codes = ['female', 'male', 'ambiguous', 'unknown']"
   ]
  },
  {
   "cell_type": "markdown",
   "id": "3f9c5b59",
   "metadata": {},
   "source": [
    "We want the unlink codes in order, so the last is the first link failure:"
   ]
  },
  {
   "cell_type": "code",
   "execution_count": 4,
   "id": "6a4ec5ea",
   "metadata": {
    "execution": {
     "iopub.execute_input": "2021-06-08T23:55:07.127450Z",
     "iopub.status.busy": "2021-06-08T23:55:07.126450Z",
     "iopub.status.idle": "2021-06-08T23:55:07.140450Z",
     "shell.execute_reply": "2021-06-08T23:55:07.139450Z"
    }
   },
   "outputs": [],
   "source": [
    "unlink_codes = ['no-author-rec', 'no-book-author', 'no-book']"
   ]
  },
  {
   "cell_type": "code",
   "execution_count": 5,
   "id": "edbb0f5f",
   "metadata": {
    "execution": {
     "iopub.execute_input": "2021-06-08T23:55:07.142450Z",
     "iopub.status.busy": "2021-06-08T23:55:07.142450Z",
     "iopub.status.idle": "2021-06-08T23:55:07.156450Z",
     "shell.execute_reply": "2021-06-08T23:55:07.156450Z"
    }
   },
   "outputs": [],
   "source": [
    "all_codes = link_codes + unlink_codes"
   ]
  },
  {
   "cell_type": "markdown",
   "id": "0545ee52",
   "metadata": {},
   "source": [
    "## Processing Statistics\n",
    "\n",
    "Now we'll pivot each of our count columns into a table for easier reference."
   ]
  },
  {
   "cell_type": "code",
   "execution_count": 6,
   "id": "0033f9dc",
   "metadata": {
    "execution": {
     "iopub.execute_input": "2021-06-08T23:55:07.166465Z",
     "iopub.status.busy": "2021-06-08T23:55:07.165450Z",
     "iopub.status.idle": "2021-06-08T23:55:07.172450Z",
     "shell.execute_reply": "2021-06-08T23:55:07.171465Z"
    }
   },
   "outputs": [
    {
     "data": {
      "text/html": [
       "<div>\n",
       "<style scoped>\n",
       "    .dataframe tbody tr th:only-of-type {\n",
       "        vertical-align: middle;\n",
       "    }\n",
       "\n",
       "    .dataframe tbody tr th {\n",
       "        vertical-align: top;\n",
       "    }\n",
       "\n",
       "    .dataframe thead th {\n",
       "        text-align: right;\n",
       "    }\n",
       "</style>\n",
       "<table border=\"1\" class=\"dataframe\">\n",
       "  <thead>\n",
       "    <tr style=\"text-align: right;\">\n",
       "      <th>gender</th>\n",
       "      <th>female</th>\n",
       "      <th>male</th>\n",
       "      <th>ambiguous</th>\n",
       "      <th>unknown</th>\n",
       "      <th>no-author-rec</th>\n",
       "      <th>no-book-author</th>\n",
       "      <th>no-book</th>\n",
       "    </tr>\n",
       "    <tr>\n",
       "      <th>dataset</th>\n",
       "      <th></th>\n",
       "      <th></th>\n",
       "      <th></th>\n",
       "      <th></th>\n",
       "      <th></th>\n",
       "      <th></th>\n",
       "      <th></th>\n",
       "    </tr>\n",
       "  </thead>\n",
       "  <tbody>\n",
       "    <tr>\n",
       "      <th>AZ</th>\n",
       "      <td>217855</td>\n",
       "      <td>491560</td>\n",
       "      <td>17832</td>\n",
       "      <td>239621</td>\n",
       "      <td>141257</td>\n",
       "      <td>1156610</td>\n",
       "      <td>NaN</td>\n",
       "    </tr>\n",
       "    <tr>\n",
       "      <th>BX-E</th>\n",
       "      <td>38080</td>\n",
       "      <td>56434</td>\n",
       "      <td>4212</td>\n",
       "      <td>17001</td>\n",
       "      <td>6875</td>\n",
       "      <td>28430</td>\n",
       "      <td>NaN</td>\n",
       "    </tr>\n",
       "    <tr>\n",
       "      <th>BX-I</th>\n",
       "      <td>67139</td>\n",
       "      <td>98030</td>\n",
       "      <td>7143</td>\n",
       "      <td>34784</td>\n",
       "      <td>14005</td>\n",
       "      <td>57116</td>\n",
       "      <td>NaN</td>\n",
       "    </tr>\n",
       "    <tr>\n",
       "      <th>GR-E</th>\n",
       "      <td>175690</td>\n",
       "      <td>279432</td>\n",
       "      <td>11656</td>\n",
       "      <td>96483</td>\n",
       "      <td>30127</td>\n",
       "      <td>891464</td>\n",
       "      <td>NaN</td>\n",
       "    </tr>\n",
       "    <tr>\n",
       "      <th>GR-I</th>\n",
       "      <td>177301</td>\n",
       "      <td>282823</td>\n",
       "      <td>11763</td>\n",
       "      <td>98253</td>\n",
       "      <td>30842</td>\n",
       "      <td>905429</td>\n",
       "      <td>NaN</td>\n",
       "    </tr>\n",
       "    <tr>\n",
       "      <th>LOC-MDS</th>\n",
       "      <td>666594</td>\n",
       "      <td>2212527</td>\n",
       "      <td>54208</td>\n",
       "      <td>1219129</td>\n",
       "      <td>272590</td>\n",
       "      <td>842812</td>\n",
       "      <td>NaN</td>\n",
       "    </tr>\n",
       "  </tbody>\n",
       "</table>\n",
       "</div>"
      ],
      "text/plain": [
       "gender   female     male  ambiguous  unknown  no-author-rec  no-book-author  \\\n",
       "dataset                                                                       \n",
       "AZ       217855   491560      17832   239621         141257         1156610   \n",
       "BX-E      38080    56434       4212    17001           6875           28430   \n",
       "BX-I      67139    98030       7143    34784          14005           57116   \n",
       "GR-E     175690   279432      11656    96483          30127          891464   \n",
       "GR-I     177301   282823      11763    98253          30842          905429   \n",
       "LOC-MDS  666594  2212527      54208  1219129         272590          842812   \n",
       "\n",
       "gender   no-book  \n",
       "dataset           \n",
       "AZ           NaN  \n",
       "BX-E         NaN  \n",
       "BX-I         NaN  \n",
       "GR-E         NaN  \n",
       "GR-I         NaN  \n",
       "LOC-MDS      NaN  "
      ]
     },
     "execution_count": 1,
     "metadata": {},
     "output_type": "execute_result"
    }
   ],
   "source": [
    "book_counts = link_stats.pivot('dataset', 'gender', 'n_books')\n",
    "book_counts = book_counts.reindex(columns=all_codes)\n",
    "book_counts"
   ]
  },
  {
   "cell_type": "code",
   "execution_count": 7,
   "id": "29972740",
   "metadata": {
    "execution": {
     "iopub.execute_input": "2021-06-08T23:55:07.181450Z",
     "iopub.status.busy": "2021-06-08T23:55:07.176450Z",
     "iopub.status.idle": "2021-06-08T23:55:07.188449Z",
     "shell.execute_reply": "2021-06-08T23:55:07.187450Z"
    }
   },
   "outputs": [
    {
     "data": {
      "text/html": [
       "<div>\n",
       "<style scoped>\n",
       "    .dataframe tbody tr th:only-of-type {\n",
       "        vertical-align: middle;\n",
       "    }\n",
       "\n",
       "    .dataframe tbody tr th {\n",
       "        vertical-align: top;\n",
       "    }\n",
       "\n",
       "    .dataframe thead th {\n",
       "        text-align: right;\n",
       "    }\n",
       "</style>\n",
       "<table border=\"1\" class=\"dataframe\">\n",
       "  <thead>\n",
       "    <tr style=\"text-align: right;\">\n",
       "      <th>gender</th>\n",
       "      <th>female</th>\n",
       "      <th>male</th>\n",
       "      <th>ambiguous</th>\n",
       "      <th>unknown</th>\n",
       "      <th>no-author-rec</th>\n",
       "      <th>no-book-author</th>\n",
       "      <th>no-book</th>\n",
       "    </tr>\n",
       "    <tr>\n",
       "      <th>dataset</th>\n",
       "      <th></th>\n",
       "      <th></th>\n",
       "      <th></th>\n",
       "      <th></th>\n",
       "      <th></th>\n",
       "      <th></th>\n",
       "      <th></th>\n",
       "    </tr>\n",
       "  </thead>\n",
       "  <tbody>\n",
       "    <tr>\n",
       "      <th>AZ</th>\n",
       "      <td>4339336</td>\n",
       "      <td>6606737</td>\n",
       "      <td>610220</td>\n",
       "      <td>2093169</td>\n",
       "      <td>736395</td>\n",
       "      <td>8071511</td>\n",
       "      <td>NaN</td>\n",
       "    </tr>\n",
       "    <tr>\n",
       "      <th>BX-E</th>\n",
       "      <td>138487</td>\n",
       "      <td>184505</td>\n",
       "      <td>32744</td>\n",
       "      <td>27574</td>\n",
       "      <td>8759</td>\n",
       "      <td>34996</td>\n",
       "      <td>NaN</td>\n",
       "    </tr>\n",
       "    <tr>\n",
       "      <th>BX-I</th>\n",
       "      <td>390876</td>\n",
       "      <td>467021</td>\n",
       "      <td>81193</td>\n",
       "      <td>78089</td>\n",
       "      <td>23304</td>\n",
       "      <td>88383</td>\n",
       "      <td>NaN</td>\n",
       "    </tr>\n",
       "    <tr>\n",
       "      <th>GR-E</th>\n",
       "      <td>34586008</td>\n",
       "      <td>34900583</td>\n",
       "      <td>9315132</td>\n",
       "      <td>3973094</td>\n",
       "      <td>523795</td>\n",
       "      <td>16881739</td>\n",
       "      <td>NaN</td>\n",
       "    </tr>\n",
       "    <tr>\n",
       "      <th>GR-I</th>\n",
       "      <td>76091597</td>\n",
       "      <td>71254945</td>\n",
       "      <td>15123169</td>\n",
       "      <td>10502922</td>\n",
       "      <td>1487249</td>\n",
       "      <td>46539909</td>\n",
       "      <td>NaN</td>\n",
       "    </tr>\n",
       "  </tbody>\n",
       "</table>\n",
       "</div>"
      ],
      "text/plain": [
       "gender     female      male  ambiguous   unknown  no-author-rec  \\\n",
       "dataset                                                           \n",
       "AZ        4339336   6606737     610220   2093169         736395   \n",
       "BX-E       138487    184505      32744     27574           8759   \n",
       "BX-I       390876    467021      81193     78089          23304   \n",
       "GR-E     34586008  34900583    9315132   3973094         523795   \n",
       "GR-I     76091597  71254945   15123169  10502922        1487249   \n",
       "\n",
       "gender   no-book-author  no-book  \n",
       "dataset                           \n",
       "AZ              8071511      NaN  \n",
       "BX-E              34996      NaN  \n",
       "BX-I              88383      NaN  \n",
       "GR-E           16881739      NaN  \n",
       "GR-I           46539909      NaN  "
      ]
     },
     "execution_count": 1,
     "metadata": {},
     "output_type": "execute_result"
    }
   ],
   "source": [
    "act_counts = link_stats.pivot('dataset', 'gender', 'n_actions')\n",
    "act_counts = act_counts.reindex(columns=all_codes)\n",
    "act_counts.drop(index='LOC-MDS', inplace=True)\n",
    "act_counts"
   ]
  },
  {
   "cell_type": "markdown",
   "id": "02897eaa",
   "metadata": {},
   "source": [
    "We're going to want to compute versions of this table as fractions, e.g. the fraction of books that are written by women.  We will use the following helper function:"
   ]
  },
  {
   "cell_type": "code",
   "execution_count": 8,
   "id": "3dea54af",
   "metadata": {
    "execution": {
     "iopub.execute_input": "2021-06-08T23:55:07.191449Z",
     "iopub.status.busy": "2021-06-08T23:55:07.191449Z",
     "iopub.status.idle": "2021-06-08T23:55:07.204450Z",
     "shell.execute_reply": "2021-06-08T23:55:07.203450Z"
    }
   },
   "outputs": [],
   "source": [
    "def fractionalize(data, columns, unlinked=None):\n",
    "    fracs = data[columns]\n",
    "    fracs.columns = fracs.columns.astype('str')\n",
    "    if unlinked:\n",
    "        fracs = fracs.assign(unlinked=data[unlinked].sum(axis=1))\n",
    "    totals = fracs.sum(axis=1)\n",
    "    return fracs.divide(totals, axis=0)"
   ]
  },
  {
   "cell_type": "markdown",
   "id": "7d551b6f",
   "metadata": {},
   "source": [
    "And a helper function for plotting bar charts:"
   ]
  },
  {
   "cell_type": "code",
   "execution_count": 9,
   "id": "c5f0fc30",
   "metadata": {
    "execution": {
     "iopub.execute_input": "2021-06-08T23:55:07.210449Z",
     "iopub.status.busy": "2021-06-08T23:55:07.210449Z",
     "iopub.status.idle": "2021-06-08T23:55:07.220449Z",
     "shell.execute_reply": "2021-06-08T23:55:07.220449Z"
    }
   },
   "outputs": [],
   "source": [
    "def plot_bars(fracs, ax=None, cmap=mpl.cm.Dark2):\n",
    "    if ax is None:\n",
    "        ax = plt.gca()\n",
    "    size = 0.5\n",
    "    ind = np.arange(len(fracs))\n",
    "    start = pd.Series(0, index=fracs.index)\n",
    "    for i, col in enumerate(fracs.columns):\n",
    "        vals = fracs.iloc[:, i]\n",
    "        rects = ax.barh(ind, vals, size, left=start, label=col, color=cmap(i))\n",
    "        for j, rec in enumerate(rects):\n",
    "            if vals.iloc[j] < 0.1 or np.isnan(vals.iloc[j]): continue\n",
    "            y = rec.get_y() + rec.get_height() / 2\n",
    "            x = start.iloc[j] + vals.iloc[j] / 2\n",
    "            ax.annotate('{:.1f}%'.format(vals.iloc[j] * 100),\n",
    "                        xy=(x,y), ha='center', va='center', color='white',\n",
    "                        fontweight='bold')\n",
    "        start += vals.fillna(0)\n",
    "    ax.set_xlabel('Fraction of Books')\n",
    "    ax.set_ylabel('Data Set')\n",
    "    ax.set_yticks(ind)\n",
    "    ax.set_yticklabels(fracs.index)\n",
    "    ax.legend(loc='center left', bbox_to_anchor=(1, 0.5))"
   ]
  },
  {
   "cell_type": "markdown",
   "id": "7fd8f30b",
   "metadata": {},
   "source": [
    "## Resolution of Books\n",
    "\n",
    "What fraction of *unique books* are resolved from each source?"
   ]
  },
  {
   "cell_type": "code",
   "execution_count": 10,
   "id": "af9a8894",
   "metadata": {
    "execution": {
     "iopub.execute_input": "2021-06-08T23:55:07.224449Z",
     "iopub.status.busy": "2021-06-08T23:55:07.222450Z",
     "iopub.status.idle": "2021-06-08T23:55:07.237450Z",
     "shell.execute_reply": "2021-06-08T23:55:07.236456Z"
    }
   },
   "outputs": [
    {
     "data": {
      "text/html": [
       "<div>\n",
       "<style scoped>\n",
       "    .dataframe tbody tr th:only-of-type {\n",
       "        vertical-align: middle;\n",
       "    }\n",
       "\n",
       "    .dataframe tbody tr th {\n",
       "        vertical-align: top;\n",
       "    }\n",
       "\n",
       "    .dataframe thead th {\n",
       "        text-align: right;\n",
       "    }\n",
       "</style>\n",
       "<table border=\"1\" class=\"dataframe\">\n",
       "  <thead>\n",
       "    <tr style=\"text-align: right;\">\n",
       "      <th>gender</th>\n",
       "      <th>female</th>\n",
       "      <th>male</th>\n",
       "      <th>ambiguous</th>\n",
       "      <th>unknown</th>\n",
       "      <th>no-author-rec</th>\n",
       "      <th>no-book-author</th>\n",
       "      <th>no-book</th>\n",
       "    </tr>\n",
       "    <tr>\n",
       "      <th>dataset</th>\n",
       "      <th></th>\n",
       "      <th></th>\n",
       "      <th></th>\n",
       "      <th></th>\n",
       "      <th></th>\n",
       "      <th></th>\n",
       "      <th></th>\n",
       "    </tr>\n",
       "  </thead>\n",
       "  <tbody>\n",
       "    <tr>\n",
       "      <th>AZ</th>\n",
       "      <td>0.096194</td>\n",
       "      <td>0.217050</td>\n",
       "      <td>0.007874</td>\n",
       "      <td>0.105805</td>\n",
       "      <td>0.062372</td>\n",
       "      <td>0.510704</td>\n",
       "      <td>NaN</td>\n",
       "    </tr>\n",
       "    <tr>\n",
       "      <th>BX-E</th>\n",
       "      <td>0.252132</td>\n",
       "      <td>0.373656</td>\n",
       "      <td>0.027888</td>\n",
       "      <td>0.112566</td>\n",
       "      <td>0.045520</td>\n",
       "      <td>0.188238</td>\n",
       "      <td>NaN</td>\n",
       "    </tr>\n",
       "    <tr>\n",
       "      <th>BX-I</th>\n",
       "      <td>0.241319</td>\n",
       "      <td>0.352351</td>\n",
       "      <td>0.025674</td>\n",
       "      <td>0.125025</td>\n",
       "      <td>0.050338</td>\n",
       "      <td>0.205293</td>\n",
       "      <td>NaN</td>\n",
       "    </tr>\n",
       "    <tr>\n",
       "      <th>GR-E</th>\n",
       "      <td>0.118322</td>\n",
       "      <td>0.188188</td>\n",
       "      <td>0.007850</td>\n",
       "      <td>0.064978</td>\n",
       "      <td>0.020290</td>\n",
       "      <td>0.600372</td>\n",
       "      <td>NaN</td>\n",
       "    </tr>\n",
       "    <tr>\n",
       "      <th>GR-I</th>\n",
       "      <td>0.117698</td>\n",
       "      <td>0.187746</td>\n",
       "      <td>0.007809</td>\n",
       "      <td>0.065223</td>\n",
       "      <td>0.020474</td>\n",
       "      <td>0.601050</td>\n",
       "      <td>NaN</td>\n",
       "    </tr>\n",
       "    <tr>\n",
       "      <th>LOC-MDS</th>\n",
       "      <td>0.126540</td>\n",
       "      <td>0.420005</td>\n",
       "      <td>0.010290</td>\n",
       "      <td>0.231428</td>\n",
       "      <td>0.051746</td>\n",
       "      <td>0.159991</td>\n",
       "      <td>NaN</td>\n",
       "    </tr>\n",
       "  </tbody>\n",
       "</table>\n",
       "</div>"
      ],
      "text/plain": [
       "gender     female      male  ambiguous   unknown  no-author-rec  \\\n",
       "dataset                                                           \n",
       "AZ       0.096194  0.217050   0.007874  0.105805       0.062372   \n",
       "BX-E     0.252132  0.373656   0.027888  0.112566       0.045520   \n",
       "BX-I     0.241319  0.352351   0.025674  0.125025       0.050338   \n",
       "GR-E     0.118322  0.188188   0.007850  0.064978       0.020290   \n",
       "GR-I     0.117698  0.187746   0.007809  0.065223       0.020474   \n",
       "LOC-MDS  0.126540  0.420005   0.010290  0.231428       0.051746   \n",
       "\n",
       "gender   no-book-author  no-book  \n",
       "dataset                           \n",
       "AZ             0.510704      NaN  \n",
       "BX-E           0.188238      NaN  \n",
       "BX-I           0.205293      NaN  \n",
       "GR-E           0.600372      NaN  \n",
       "GR-I           0.601050      NaN  \n",
       "LOC-MDS        0.159991      NaN  "
      ]
     },
     "execution_count": 1,
     "metadata": {},
     "output_type": "execute_result"
    }
   ],
   "source": [
    "fractionalize(book_counts, link_codes + unlink_codes)"
   ]
  },
  {
   "cell_type": "code",
   "execution_count": 11,
   "id": "71adb19c",
   "metadata": {
    "execution": {
     "iopub.execute_input": "2021-06-08T23:55:07.249449Z",
     "iopub.status.busy": "2021-06-08T23:55:07.249449Z",
     "iopub.status.idle": "2021-06-08T23:55:07.506027Z",
     "shell.execute_reply": "2021-06-08T23:55:07.505010Z"
    }
   },
   "outputs": [
    {
     "data": {
      "image/png": "[encoded data removed]",
      "text/plain": [
       "<Figure size 432x288 with 1 Axes>"
      ]
     },
     "metadata": {
      "needs_background": "light"
     },
     "output_type": "display_data"
    }
   ],
   "source": [
    "plot_bars(fractionalize(book_counts, link_codes + unlink_codes))"
   ]
  },
  {
   "cell_type": "code",
   "execution_count": 12,
   "id": "b58f9755",
   "metadata": {
    "execution": {
     "iopub.execute_input": "2021-06-08T23:55:07.516011Z",
     "iopub.status.busy": "2021-06-08T23:55:07.516011Z",
     "iopub.status.idle": "2021-06-08T23:55:07.520010Z",
     "shell.execute_reply": "2021-06-08T23:55:07.521037Z"
    }
   },
   "outputs": [
    {
     "data": {
      "text/html": [
       "<div>\n",
       "<style scoped>\n",
       "    .dataframe tbody tr th:only-of-type {\n",
       "        vertical-align: middle;\n",
       "    }\n",
       "\n",
       "    .dataframe tbody tr th {\n",
       "        vertical-align: top;\n",
       "    }\n",
       "\n",
       "    .dataframe thead th {\n",
       "        text-align: right;\n",
       "    }\n",
       "</style>\n",
       "<table border=\"1\" class=\"dataframe\">\n",
       "  <thead>\n",
       "    <tr style=\"text-align: right;\">\n",
       "      <th>gender</th>\n",
       "      <th>female</th>\n",
       "      <th>male</th>\n",
       "      <th>ambiguous</th>\n",
       "      <th>unknown</th>\n",
       "      <th>unlinked</th>\n",
       "    </tr>\n",
       "    <tr>\n",
       "      <th>dataset</th>\n",
       "      <th></th>\n",
       "      <th></th>\n",
       "      <th></th>\n",
       "      <th></th>\n",
       "      <th></th>\n",
       "    </tr>\n",
       "  </thead>\n",
       "  <tbody>\n",
       "    <tr>\n",
       "      <th>AZ</th>\n",
       "      <td>0.096194</td>\n",
       "      <td>0.217050</td>\n",
       "      <td>0.007874</td>\n",
       "      <td>0.105805</td>\n",
       "      <td>0.573077</td>\n",
       "    </tr>\n",
       "    <tr>\n",
       "      <th>BX-E</th>\n",
       "      <td>0.252132</td>\n",
       "      <td>0.373656</td>\n",
       "      <td>0.027888</td>\n",
       "      <td>0.112566</td>\n",
       "      <td>0.233758</td>\n",
       "    </tr>\n",
       "    <tr>\n",
       "      <th>BX-I</th>\n",
       "      <td>0.241319</td>\n",
       "      <td>0.352351</td>\n",
       "      <td>0.025674</td>\n",
       "      <td>0.125025</td>\n",
       "      <td>0.255631</td>\n",
       "    </tr>\n",
       "    <tr>\n",
       "      <th>GR-E</th>\n",
       "      <td>0.118322</td>\n",
       "      <td>0.188188</td>\n",
       "      <td>0.007850</td>\n",
       "      <td>0.064978</td>\n",
       "      <td>0.620662</td>\n",
       "    </tr>\n",
       "    <tr>\n",
       "      <th>GR-I</th>\n",
       "      <td>0.117698</td>\n",
       "      <td>0.187746</td>\n",
       "      <td>0.007809</td>\n",
       "      <td>0.065223</td>\n",
       "      <td>0.621524</td>\n",
       "    </tr>\n",
       "    <tr>\n",
       "      <th>LOC-MDS</th>\n",
       "      <td>0.126540</td>\n",
       "      <td>0.420005</td>\n",
       "      <td>0.010290</td>\n",
       "      <td>0.231428</td>\n",
       "      <td>0.211737</td>\n",
       "    </tr>\n",
       "  </tbody>\n",
       "</table>\n",
       "</div>"
      ],
      "text/plain": [
       "gender     female      male  ambiguous   unknown  unlinked\n",
       "dataset                                                   \n",
       "AZ       0.096194  0.217050   0.007874  0.105805  0.573077\n",
       "BX-E     0.252132  0.373656   0.027888  0.112566  0.233758\n",
       "BX-I     0.241319  0.352351   0.025674  0.125025  0.255631\n",
       "GR-E     0.118322  0.188188   0.007850  0.064978  0.620662\n",
       "GR-I     0.117698  0.187746   0.007809  0.065223  0.621524\n",
       "LOC-MDS  0.126540  0.420005   0.010290  0.231428  0.211737"
      ]
     },
     "execution_count": 1,
     "metadata": {},
     "output_type": "execute_result"
    }
   ],
   "source": [
    "fractionalize(book_counts, link_codes, unlink_codes)"
   ]
  },
  {
   "cell_type": "code",
   "execution_count": 13,
   "id": "f305fbd0",
   "metadata": {
    "execution": {
     "iopub.execute_input": "2021-06-08T23:55:07.541010Z",
     "iopub.status.busy": "2021-06-08T23:55:07.534011Z",
     "iopub.status.idle": "2021-06-08T23:55:07.721011Z",
     "shell.execute_reply": "2021-06-08T23:55:07.722009Z"
    }
   },
   "outputs": [
    {
     "data": {
      "image/png": "[encoded data removed]",
      "text/plain": [
       "<Figure size 432x288 with 1 Axes>"
      ]
     },
     "metadata": {
      "needs_background": "light"
     },
     "output_type": "display_data"
    }
   ],
   "source": [
    "plot_bars(fractionalize(book_counts, link_codes, unlink_codes))"
   ]
  },
  {
   "cell_type": "code",
   "execution_count": 14,
   "id": "693e288d",
   "metadata": {
    "execution": {
     "iopub.execute_input": "2021-06-08T23:55:07.724010Z",
     "iopub.status.busy": "2021-06-08T23:55:07.724010Z",
     "iopub.status.idle": "2021-06-08T23:55:07.863009Z",
     "shell.execute_reply": "2021-06-08T23:55:07.864047Z"
    }
   },
   "outputs": [
    {
     "data": {
      "image/png": "[encoded data removed]",
      "text/plain": [
       "<Figure size 432x288 with 1 Axes>"
      ]
     },
     "metadata": {
      "needs_background": "light"
     },
     "output_type": "display_data"
    }
   ],
   "source": [
    "plot_bars(fractionalize(book_counts, ['female', 'male']))"
   ]
  },
  {
   "cell_type": "markdown",
   "id": "673a0cb3",
   "metadata": {},
   "source": [
    "## Resolution of Ratings\n",
    "\n",
    "What fraction of *rating actions* have each resolution result?"
   ]
  },
  {
   "cell_type": "code",
   "execution_count": 15,
   "id": "98e283e7",
   "metadata": {
    "execution": {
     "iopub.execute_input": "2021-06-08T23:55:07.874011Z",
     "iopub.status.busy": "2021-06-08T23:55:07.874011Z",
     "iopub.status.idle": "2021-06-08T23:55:07.879036Z",
     "shell.execute_reply": "2021-06-08T23:55:07.878029Z"
    }
   },
   "outputs": [
    {
     "data": {
      "text/html": [
       "<div>\n",
       "<style scoped>\n",
       "    .dataframe tbody tr th:only-of-type {\n",
       "        vertical-align: middle;\n",
       "    }\n",
       "\n",
       "    .dataframe tbody tr th {\n",
       "        vertical-align: top;\n",
       "    }\n",
       "\n",
       "    .dataframe thead th {\n",
       "        text-align: right;\n",
       "    }\n",
       "</style>\n",
       "<table border=\"1\" class=\"dataframe\">\n",
       "  <thead>\n",
       "    <tr style=\"text-align: right;\">\n",
       "      <th>gender</th>\n",
       "      <th>female</th>\n",
       "      <th>male</th>\n",
       "      <th>ambiguous</th>\n",
       "      <th>unknown</th>\n",
       "      <th>no-author-rec</th>\n",
       "      <th>no-book-author</th>\n",
       "      <th>no-book</th>\n",
       "    </tr>\n",
       "    <tr>\n",
       "      <th>dataset</th>\n",
       "      <th></th>\n",
       "      <th></th>\n",
       "      <th></th>\n",
       "      <th></th>\n",
       "      <th></th>\n",
       "      <th></th>\n",
       "      <th></th>\n",
       "    </tr>\n",
       "  </thead>\n",
       "  <tbody>\n",
       "    <tr>\n",
       "      <th>AZ</th>\n",
       "      <td>0.193225</td>\n",
       "      <td>0.294190</td>\n",
       "      <td>0.027172</td>\n",
       "      <td>0.093206</td>\n",
       "      <td>0.032791</td>\n",
       "      <td>0.359415</td>\n",
       "      <td>NaN</td>\n",
       "    </tr>\n",
       "    <tr>\n",
       "      <th>BX-E</th>\n",
       "      <td>0.324276</td>\n",
       "      <td>0.432030</td>\n",
       "      <td>0.076672</td>\n",
       "      <td>0.064566</td>\n",
       "      <td>0.020510</td>\n",
       "      <td>0.081945</td>\n",
       "      <td>NaN</td>\n",
       "    </tr>\n",
       "    <tr>\n",
       "      <th>BX-I</th>\n",
       "      <td>0.346255</td>\n",
       "      <td>0.413708</td>\n",
       "      <td>0.071924</td>\n",
       "      <td>0.069175</td>\n",
       "      <td>0.020644</td>\n",
       "      <td>0.078294</td>\n",
       "      <td>NaN</td>\n",
       "    </tr>\n",
       "    <tr>\n",
       "      <th>GR-E</th>\n",
       "      <td>0.345237</td>\n",
       "      <td>0.348378</td>\n",
       "      <td>0.092984</td>\n",
       "      <td>0.039659</td>\n",
       "      <td>0.005229</td>\n",
       "      <td>0.168513</td>\n",
       "      <td>NaN</td>\n",
       "    </tr>\n",
       "    <tr>\n",
       "      <th>GR-I</th>\n",
       "      <td>0.344306</td>\n",
       "      <td>0.322421</td>\n",
       "      <td>0.068431</td>\n",
       "      <td>0.047525</td>\n",
       "      <td>0.006730</td>\n",
       "      <td>0.210588</td>\n",
       "      <td>NaN</td>\n",
       "    </tr>\n",
       "  </tbody>\n",
       "</table>\n",
       "</div>"
      ],
      "text/plain": [
       "gender     female      male  ambiguous   unknown  no-author-rec  \\\n",
       "dataset                                                           \n",
       "AZ       0.193225  0.294190   0.027172  0.093206       0.032791   \n",
       "BX-E     0.324276  0.432030   0.076672  0.064566       0.020510   \n",
       "BX-I     0.346255  0.413708   0.071924  0.069175       0.020644   \n",
       "GR-E     0.345237  0.348378   0.092984  0.039659       0.005229   \n",
       "GR-I     0.344306  0.322421   0.068431  0.047525       0.006730   \n",
       "\n",
       "gender   no-book-author  no-book  \n",
       "dataset                           \n",
       "AZ             0.359415      NaN  \n",
       "BX-E           0.081945      NaN  \n",
       "BX-I           0.078294      NaN  \n",
       "GR-E           0.168513      NaN  \n",
       "GR-I           0.210588      NaN  "
      ]
     },
     "execution_count": 1,
     "metadata": {},
     "output_type": "execute_result"
    }
   ],
   "source": [
    "fractionalize(act_counts, link_codes + unlink_codes)"
   ]
  },
  {
   "cell_type": "code",
   "execution_count": 16,
   "id": "db110295",
   "metadata": {
    "execution": {
     "iopub.execute_input": "2021-06-08T23:55:07.892011Z",
     "iopub.status.busy": "2021-06-08T23:55:07.891010Z",
     "iopub.status.idle": "2021-06-08T23:55:08.087009Z",
     "shell.execute_reply": "2021-06-08T23:55:08.087009Z"
    }
   },
   "outputs": [
    {
     "data": {
      "image/png": "[encoded data removed]",
      "text/plain": [
       "<Figure size 432x288 with 1 Axes>"
      ]
     },
     "metadata": {
      "needs_background": "light"
     },
     "output_type": "display_data"
    }
   ],
   "source": [
    "plot_bars(fractionalize(act_counts, link_codes + unlink_codes))"
   ]
  },
  {
   "cell_type": "code",
   "execution_count": 17,
   "id": "48eab8a6",
   "metadata": {
    "execution": {
     "iopub.execute_input": "2021-06-08T23:55:08.098018Z",
     "iopub.status.busy": "2021-06-08T23:55:08.097035Z",
     "iopub.status.idle": "2021-06-08T23:55:08.102009Z",
     "shell.execute_reply": "2021-06-08T23:55:08.101011Z"
    }
   },
   "outputs": [
    {
     "data": {
      "text/html": [
       "<div>\n",
       "<style scoped>\n",
       "    .dataframe tbody tr th:only-of-type {\n",
       "        vertical-align: middle;\n",
       "    }\n",
       "\n",
       "    .dataframe tbody tr th {\n",
       "        vertical-align: top;\n",
       "    }\n",
       "\n",
       "    .dataframe thead th {\n",
       "        text-align: right;\n",
       "    }\n",
       "</style>\n",
       "<table border=\"1\" class=\"dataframe\">\n",
       "  <thead>\n",
       "    <tr style=\"text-align: right;\">\n",
       "      <th>gender</th>\n",
       "      <th>female</th>\n",
       "      <th>male</th>\n",
       "      <th>ambiguous</th>\n",
       "      <th>unknown</th>\n",
       "      <th>unlinked</th>\n",
       "    </tr>\n",
       "    <tr>\n",
       "      <th>dataset</th>\n",
       "      <th></th>\n",
       "      <th></th>\n",
       "      <th></th>\n",
       "      <th></th>\n",
       "      <th></th>\n",
       "    </tr>\n",
       "  </thead>\n",
       "  <tbody>\n",
       "    <tr>\n",
       "      <th>AZ</th>\n",
       "      <td>0.193225</td>\n",
       "      <td>0.294190</td>\n",
       "      <td>0.027172</td>\n",
       "      <td>0.093206</td>\n",
       "      <td>0.392206</td>\n",
       "    </tr>\n",
       "    <tr>\n",
       "      <th>BX-E</th>\n",
       "      <td>0.324276</td>\n",
       "      <td>0.432030</td>\n",
       "      <td>0.076672</td>\n",
       "      <td>0.064566</td>\n",
       "      <td>0.102455</td>\n",
       "    </tr>\n",
       "    <tr>\n",
       "      <th>BX-I</th>\n",
       "      <td>0.346255</td>\n",
       "      <td>0.413708</td>\n",
       "      <td>0.071924</td>\n",
       "      <td>0.069175</td>\n",
       "      <td>0.098937</td>\n",
       "    </tr>\n",
       "    <tr>\n",
       "      <th>GR-E</th>\n",
       "      <td>0.345237</td>\n",
       "      <td>0.348378</td>\n",
       "      <td>0.092984</td>\n",
       "      <td>0.039659</td>\n",
       "      <td>0.173742</td>\n",
       "    </tr>\n",
       "    <tr>\n",
       "      <th>GR-I</th>\n",
       "      <td>0.344306</td>\n",
       "      <td>0.322421</td>\n",
       "      <td>0.068431</td>\n",
       "      <td>0.047525</td>\n",
       "      <td>0.217318</td>\n",
       "    </tr>\n",
       "  </tbody>\n",
       "</table>\n",
       "</div>"
      ],
      "text/plain": [
       "gender     female      male  ambiguous   unknown  unlinked\n",
       "dataset                                                   \n",
       "AZ       0.193225  0.294190   0.027172  0.093206  0.392206\n",
       "BX-E     0.324276  0.432030   0.076672  0.064566  0.102455\n",
       "BX-I     0.346255  0.413708   0.071924  0.069175  0.098937\n",
       "GR-E     0.345237  0.348378   0.092984  0.039659  0.173742\n",
       "GR-I     0.344306  0.322421   0.068431  0.047525  0.217318"
      ]
     },
     "execution_count": 1,
     "metadata": {},
     "output_type": "execute_result"
    }
   ],
   "source": [
    "fractionalize(act_counts, link_codes, unlink_codes)"
   ]
  },
  {
   "cell_type": "code",
   "execution_count": 18,
   "id": "8cbe8156",
   "metadata": {
    "execution": {
     "iopub.execute_input": "2021-06-08T23:55:08.117009Z",
     "iopub.status.busy": "2021-06-08T23:55:08.116009Z",
     "iopub.status.idle": "2021-06-08T23:55:08.278009Z",
     "shell.execute_reply": "2021-06-08T23:55:08.278009Z"
    }
   },
   "outputs": [
    {
     "data": {
      "image/png": "[encoded data removed]",
      "text/plain": [
       "<Figure size 432x288 with 1 Axes>"
      ]
     },
     "metadata": {
      "needs_background": "light"
     },
     "output_type": "display_data"
    }
   ],
   "source": [
    "plot_bars(fractionalize(act_counts, link_codes, unlink_codes))"
   ]
  },
  {
   "cell_type": "code",
   "execution_count": 19,
   "id": "fe64b3de",
   "metadata": {
    "execution": {
     "iopub.execute_input": "2021-06-08T23:55:08.293009Z",
     "iopub.status.busy": "2021-06-08T23:55:08.293009Z",
     "iopub.status.idle": "2021-06-08T23:55:08.421040Z",
     "shell.execute_reply": "2021-06-08T23:55:08.420011Z"
    }
   },
   "outputs": [
    {
     "data": {
      "image/png": "[encoded data removed]",
      "text/plain": [
       "<Figure size 432x288 with 1 Axes>"
      ]
     },
     "metadata": {
      "needs_background": "light"
     },
     "output_type": "display_data"
    }
   ],
   "source": [
    "plot_bars(fractionalize(act_counts, ['female', 'male']))"
   ]
  }
 ],
 "metadata": {
  "jupytext": {
   "formats": "ipynb,py:percent"
  },
  "kernelspec": {
   "display_name": "Python 3",
   "language": "python",
   "name": "python3"
  },
  "language_info": {
   "codemirror_mode": {
    "name": "ipython",
    "version": 3
   },
   "file_extension": ".py",
   "mimetype": "text/x-python",
   "name": "python",
   "nbconvert_exporter": "python",
   "pygments_lexer": "ipython3",
   "version": "3.8.10"
  }
 },
 "nbformat": 4,
 "nbformat_minor": 5
}
