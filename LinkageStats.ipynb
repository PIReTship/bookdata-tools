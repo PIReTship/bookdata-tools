{
 "cells": [
  {
   "cell_type": "markdown",
   "id": "6c060b16",
   "metadata": {},
   "source": [
    "# Book Data Linkage Statistics\n",
    "\n",
    "This notebook presents statistics of the book data integration."
   ]
  },
  {
   "cell_type": "markdown",
   "id": "abfbfcc1",
   "metadata": {},
   "source": [
    "## Setup"
   ]
  },
  {
   "cell_type": "code",
   "execution_count": 1,
   "id": "3d7619d5",
   "metadata": {
    "execution": {
     "iopub.execute_input": "2021-09-29T23:54:01.867738Z",
     "iopub.status.busy": "2021-09-29T23:54:01.866187Z",
     "iopub.status.idle": "2021-09-29T23:54:03.232088Z",
     "shell.execute_reply": "2021-09-29T23:54:03.232754Z"
    },
    "tags": []
   },
   "outputs": [],
   "source": [
    "import pandas as pd\n",
    "import seaborn as sns\n",
    "import matplotlib as mpl\n",
    "import matplotlib.pyplot as plt\n",
    "import numpy as np"
   ]
  },
  {
   "cell_type": "markdown",
   "id": "1ad32da3",
   "metadata": {},
   "source": [
    "## Load Link Stats\n",
    "\n",
    "We compute dataset linking statitsics as `gender-stats.csv` using DataFusion.  Let's load those:"
   ]
  },
  {
   "cell_type": "code",
   "execution_count": 2,
   "id": "8e9030bc",
   "metadata": {
    "execution": {
     "iopub.execute_input": "2021-09-29T23:54:03.239995Z",
     "iopub.status.busy": "2021-09-29T23:54:03.238595Z",
     "iopub.status.idle": "2021-09-29T23:54:03.267384Z",
     "shell.execute_reply": "2021-09-29T23:54:03.268041Z"
    },
    "tags": []
   },
   "outputs": [
    {
     "data": {
      "text/html": [
       "<div>\n",
       "<style scoped>\n",
       "    .dataframe tbody tr th:only-of-type {\n",
       "        vertical-align: middle;\n",
       "    }\n",
       "\n",
       "    .dataframe tbody tr th {\n",
       "        vertical-align: top;\n",
       "    }\n",
       "\n",
       "    .dataframe thead th {\n",
       "        text-align: right;\n",
       "    }\n",
       "</style>\n",
       "<table border=\"1\" class=\"dataframe\">\n",
       "  <thead>\n",
       "    <tr style=\"text-align: right;\">\n",
       "      <th></th>\n",
       "      <th>dataset</th>\n",
       "      <th>gender</th>\n",
       "      <th>n_books</th>\n",
       "      <th>n_actions</th>\n",
       "    </tr>\n",
       "  </thead>\n",
       "  <tbody>\n",
       "    <tr>\n",
       "      <th>0</th>\n",
       "      <td>BX-E</td>\n",
       "      <td>no-book-author</td>\n",
       "      <td>6551</td>\n",
       "      <td>9510</td>\n",
       "    </tr>\n",
       "    <tr>\n",
       "      <th>1</th>\n",
       "      <td>BX-E</td>\n",
       "      <td>ambiguous</td>\n",
       "      <td>4209</td>\n",
       "      <td>31204</td>\n",
       "    </tr>\n",
       "    <tr>\n",
       "      <th>2</th>\n",
       "      <td>BX-E</td>\n",
       "      <td>unknown</td>\n",
       "      <td>17002</td>\n",
       "      <td>27575</td>\n",
       "    </tr>\n",
       "    <tr>\n",
       "      <th>3</th>\n",
       "      <td>BX-E</td>\n",
       "      <td>no-author-rec</td>\n",
       "      <td>6875</td>\n",
       "      <td>8759</td>\n",
       "    </tr>\n",
       "    <tr>\n",
       "      <th>4</th>\n",
       "      <td>BX-E</td>\n",
       "      <td>female</td>\n",
       "      <td>38086</td>\n",
       "      <td>138860</td>\n",
       "    </tr>\n",
       "  </tbody>\n",
       "</table>\n",
       "</div>"
      ],
      "text/plain": [
       "  dataset          gender  n_books  n_actions\n",
       "0    BX-E  no-book-author     6551       9510\n",
       "1    BX-E       ambiguous     4209      31204\n",
       "2    BX-E         unknown    17002      27575\n",
       "3    BX-E   no-author-rec     6875       8759\n",
       "4    BX-E          female    38086     138860"
      ]
     },
     "execution_count": 2,
     "metadata": {},
     "output_type": "execute_result"
    }
   ],
   "source": [
    "link_stats = pd.read_csv('book-links/gender-stats.csv')\n",
    "link_stats.head()"
   ]
  },
  {
   "cell_type": "markdown",
   "id": "c23454c2",
   "metadata": {},
   "source": [
    "Now let's define variables for our variou codes. We are first going to define our gender codes.  We'll start with the resolved codes:"
   ]
  },
  {
   "cell_type": "code",
   "execution_count": 3,
   "id": "7315f7d9",
   "metadata": {
    "execution": {
     "iopub.execute_input": "2021-09-29T23:54:03.273571Z",
     "iopub.status.busy": "2021-09-29T23:54:03.272783Z",
     "iopub.status.idle": "2021-09-29T23:54:03.275296Z",
     "shell.execute_reply": "2021-09-29T23:54:03.275922Z"
    },
    "tags": []
   },
   "outputs": [],
   "source": [
    "link_codes = ['female', 'male', 'ambiguous', 'unknown']"
   ]
  },
  {
   "cell_type": "markdown",
   "id": "6782523a",
   "metadata": {},
   "source": [
    "We want the unlink codes in order, so the last is the first link failure:"
   ]
  },
  {
   "cell_type": "code",
   "execution_count": 4,
   "id": "3e1be42f",
   "metadata": {
    "execution": {
     "iopub.execute_input": "2021-09-29T23:54:03.282044Z",
     "iopub.status.busy": "2021-09-29T23:54:03.280873Z",
     "iopub.status.idle": "2021-09-29T23:54:03.283080Z",
     "shell.execute_reply": "2021-09-29T23:54:03.284382Z"
    },
    "tags": []
   },
   "outputs": [],
   "source": [
    "unlink_codes = ['no-author-rec', 'no-book-author', 'no-book']"
   ]
  },
  {
   "cell_type": "code",
   "execution_count": 5,
   "id": "120e0982",
   "metadata": {
    "execution": {
     "iopub.execute_input": "2021-09-29T23:54:03.291337Z",
     "iopub.status.busy": "2021-09-29T23:54:03.290357Z",
     "iopub.status.idle": "2021-09-29T23:54:03.293091Z",
     "shell.execute_reply": "2021-09-29T23:54:03.293866Z"
    },
    "tags": []
   },
   "outputs": [],
   "source": [
    "all_codes = link_codes + unlink_codes"
   ]
  },
  {
   "cell_type": "markdown",
   "id": "452b9178",
   "metadata": {},
   "source": [
    "## Processing Statistics\n",
    "\n",
    "Now we'll pivot each of our count columns into a table for easier reference."
   ]
  },
  {
   "cell_type": "code",
   "execution_count": 6,
   "id": "ea6c21bf",
   "metadata": {
    "execution": {
     "iopub.execute_input": "2021-09-29T23:54:03.328413Z",
     "iopub.status.busy": "2021-09-29T23:54:03.306893Z",
     "iopub.status.idle": "2021-09-29T23:54:03.333450Z",
     "shell.execute_reply": "2021-09-29T23:54:03.332607Z"
    },
    "tags": []
   },
   "outputs": [
    {
     "data": {
      "text/html": [
       "<div>\n",
       "<style scoped>\n",
       "    .dataframe tbody tr th:only-of-type {\n",
       "        vertical-align: middle;\n",
       "    }\n",
       "\n",
       "    .dataframe tbody tr th {\n",
       "        vertical-align: top;\n",
       "    }\n",
       "\n",
       "    .dataframe thead th {\n",
       "        text-align: right;\n",
       "    }\n",
       "</style>\n",
       "<table border=\"1\" class=\"dataframe\">\n",
       "  <thead>\n",
       "    <tr style=\"text-align: right;\">\n",
       "      <th>gender</th>\n",
       "      <th>female</th>\n",
       "      <th>male</th>\n",
       "      <th>ambiguous</th>\n",
       "      <th>unknown</th>\n",
       "      <th>no-author-rec</th>\n",
       "      <th>no-book-author</th>\n",
       "      <th>no-book</th>\n",
       "      <th>total</th>\n",
       "    </tr>\n",
       "    <tr>\n",
       "      <th>dataset</th>\n",
       "      <th></th>\n",
       "      <th></th>\n",
       "      <th></th>\n",
       "      <th></th>\n",
       "      <th></th>\n",
       "      <th></th>\n",
       "      <th></th>\n",
       "      <th></th>\n",
       "    </tr>\n",
       "  </thead>\n",
       "  <tbody>\n",
       "    <tr>\n",
       "      <th>AZ</th>\n",
       "      <td>217898.0</td>\n",
       "      <td>491598.0</td>\n",
       "      <td>17825.0</td>\n",
       "      <td>239641.0</td>\n",
       "      <td>141263.0</td>\n",
       "      <td>220528.0</td>\n",
       "      <td>936344.0</td>\n",
       "      <td>2265097.0</td>\n",
       "    </tr>\n",
       "    <tr>\n",
       "      <th>BX-E</th>\n",
       "      <td>38086.0</td>\n",
       "      <td>56450.0</td>\n",
       "      <td>4209.0</td>\n",
       "      <td>17002.0</td>\n",
       "      <td>6875.0</td>\n",
       "      <td>6551.0</td>\n",
       "      <td>21884.0</td>\n",
       "      <td>151057.0</td>\n",
       "    </tr>\n",
       "    <tr>\n",
       "      <th>BX-I</th>\n",
       "      <td>67147.0</td>\n",
       "      <td>98049.0</td>\n",
       "      <td>7141.0</td>\n",
       "      <td>34786.0</td>\n",
       "      <td>14006.0</td>\n",
       "      <td>13051.0</td>\n",
       "      <td>44070.0</td>\n",
       "      <td>278250.0</td>\n",
       "    </tr>\n",
       "    <tr>\n",
       "      <th>GR-E</th>\n",
       "      <td>175748.0</td>\n",
       "      <td>279496.0</td>\n",
       "      <td>11652.0</td>\n",
       "      <td>96509.0</td>\n",
       "      <td>30132.0</td>\n",
       "      <td>894244.0</td>\n",
       "      <td>NaN</td>\n",
       "      <td>1487781.0</td>\n",
       "    </tr>\n",
       "    <tr>\n",
       "      <th>GR-I</th>\n",
       "      <td>177359.0</td>\n",
       "      <td>282887.0</td>\n",
       "      <td>11759.0</td>\n",
       "      <td>98279.0</td>\n",
       "      <td>30847.0</td>\n",
       "      <td>908248.0</td>\n",
       "      <td>NaN</td>\n",
       "      <td>1509379.0</td>\n",
       "    </tr>\n",
       "    <tr>\n",
       "      <th>LOC-MDS</th>\n",
       "      <td>666637.0</td>\n",
       "      <td>2212575.0</td>\n",
       "      <td>54204.0</td>\n",
       "      <td>1219147.0</td>\n",
       "      <td>272591.0</td>\n",
       "      <td>842812.0</td>\n",
       "      <td>NaN</td>\n",
       "      <td>5267966.0</td>\n",
       "    </tr>\n",
       "  </tbody>\n",
       "</table>\n",
       "</div>"
      ],
      "text/plain": [
       "gender     female       male  ambiguous    unknown  no-author-rec  \\\n",
       "dataset                                                             \n",
       "AZ       217898.0   491598.0    17825.0   239641.0       141263.0   \n",
       "BX-E      38086.0    56450.0     4209.0    17002.0         6875.0   \n",
       "BX-I      67147.0    98049.0     7141.0    34786.0        14006.0   \n",
       "GR-E     175748.0   279496.0    11652.0    96509.0        30132.0   \n",
       "GR-I     177359.0   282887.0    11759.0    98279.0        30847.0   \n",
       "LOC-MDS  666637.0  2212575.0    54204.0  1219147.0       272591.0   \n",
       "\n",
       "gender   no-book-author   no-book      total  \n",
       "dataset                                       \n",
       "AZ             220528.0  936344.0  2265097.0  \n",
       "BX-E             6551.0   21884.0   151057.0  \n",
       "BX-I            13051.0   44070.0   278250.0  \n",
       "GR-E           894244.0       NaN  1487781.0  \n",
       "GR-I           908248.0       NaN  1509379.0  \n",
       "LOC-MDS        842812.0       NaN  5267966.0  "
      ]
     },
     "execution_count": 6,
     "metadata": {},
     "output_type": "execute_result"
    }
   ],
   "source": [
    "book_counts = link_stats.pivot('dataset', 'gender', 'n_books')\n",
    "book_counts = book_counts.reindex(columns=all_codes)\n",
    "book_counts.assign(total=book_counts.sum(axis=1))"
   ]
  },
  {
   "cell_type": "code",
   "execution_count": 7,
   "id": "4e89c9a9",
   "metadata": {
    "execution": {
     "iopub.execute_input": "2021-09-29T23:54:03.363213Z",
     "iopub.status.busy": "2021-09-29T23:54:03.362249Z",
     "iopub.status.idle": "2021-09-29T23:54:03.366479Z",
     "shell.execute_reply": "2021-09-29T23:54:03.367243Z"
    },
    "tags": []
   },
   "outputs": [
    {
     "data": {
      "text/html": [
       "<div>\n",
       "<style scoped>\n",
       "    .dataframe tbody tr th:only-of-type {\n",
       "        vertical-align: middle;\n",
       "    }\n",
       "\n",
       "    .dataframe tbody tr th {\n",
       "        vertical-align: top;\n",
       "    }\n",
       "\n",
       "    .dataframe thead th {\n",
       "        text-align: right;\n",
       "    }\n",
       "</style>\n",
       "<table border=\"1\" class=\"dataframe\">\n",
       "  <thead>\n",
       "    <tr style=\"text-align: right;\">\n",
       "      <th>gender</th>\n",
       "      <th>female</th>\n",
       "      <th>male</th>\n",
       "      <th>ambiguous</th>\n",
       "      <th>unknown</th>\n",
       "      <th>no-author-rec</th>\n",
       "      <th>no-book-author</th>\n",
       "      <th>no-book</th>\n",
       "    </tr>\n",
       "    <tr>\n",
       "      <th>dataset</th>\n",
       "      <th></th>\n",
       "      <th></th>\n",
       "      <th></th>\n",
       "      <th></th>\n",
       "      <th></th>\n",
       "      <th></th>\n",
       "      <th></th>\n",
       "    </tr>\n",
       "  </thead>\n",
       "  <tbody>\n",
       "    <tr>\n",
       "      <th>AZ</th>\n",
       "      <td>4352188.0</td>\n",
       "      <td>6623258.0</td>\n",
       "      <td>564273.0</td>\n",
       "      <td>2096617.0</td>\n",
       "      <td>737701.0</td>\n",
       "      <td>3573934.0</td>\n",
       "      <td>4510123.0</td>\n",
       "    </tr>\n",
       "    <tr>\n",
       "      <th>BX-E</th>\n",
       "      <td>138860.0</td>\n",
       "      <td>185728.0</td>\n",
       "      <td>31204.0</td>\n",
       "      <td>27575.0</td>\n",
       "      <td>8759.0</td>\n",
       "      <td>9510.0</td>\n",
       "      <td>25502.0</td>\n",
       "    </tr>\n",
       "    <tr>\n",
       "      <th>BX-I</th>\n",
       "      <td>391560.0</td>\n",
       "      <td>469582.0</td>\n",
       "      <td>78247.0</td>\n",
       "      <td>78092.0</td>\n",
       "      <td>23305.0</td>\n",
       "      <td>25923.0</td>\n",
       "      <td>62488.0</td>\n",
       "    </tr>\n",
       "    <tr>\n",
       "      <th>GR-E</th>\n",
       "      <td>34919275.0</td>\n",
       "      <td>35154413.0</td>\n",
       "      <td>8897037.0</td>\n",
       "      <td>3978567.0</td>\n",
       "      <td>531144.0</td>\n",
       "      <td>16921021.0</td>\n",
       "      <td>NaN</td>\n",
       "    </tr>\n",
       "    <tr>\n",
       "      <th>GR-I</th>\n",
       "      <td>76649781.0</td>\n",
       "      <td>71740687.0</td>\n",
       "      <td>14441256.0</td>\n",
       "      <td>10520265.0</td>\n",
       "      <td>1499802.0</td>\n",
       "      <td>46643099.0</td>\n",
       "      <td>NaN</td>\n",
       "    </tr>\n",
       "  </tbody>\n",
       "</table>\n",
       "</div>"
      ],
      "text/plain": [
       "gender       female        male   ambiguous     unknown  no-author-rec  \\\n",
       "dataset                                                                  \n",
       "AZ        4352188.0   6623258.0    564273.0   2096617.0       737701.0   \n",
       "BX-E       138860.0    185728.0     31204.0     27575.0         8759.0   \n",
       "BX-I       391560.0    469582.0     78247.0     78092.0        23305.0   \n",
       "GR-E     34919275.0  35154413.0   8897037.0   3978567.0       531144.0   \n",
       "GR-I     76649781.0  71740687.0  14441256.0  10520265.0      1499802.0   \n",
       "\n",
       "gender   no-book-author    no-book  \n",
       "dataset                             \n",
       "AZ            3573934.0  4510123.0  \n",
       "BX-E             9510.0    25502.0  \n",
       "BX-I            25923.0    62488.0  \n",
       "GR-E         16921021.0        NaN  \n",
       "GR-I         46643099.0        NaN  "
      ]
     },
     "execution_count": 7,
     "metadata": {},
     "output_type": "execute_result"
    }
   ],
   "source": [
    "act_counts = link_stats.pivot('dataset', 'gender', 'n_actions')\n",
    "act_counts = act_counts.reindex(columns=all_codes)\n",
    "act_counts.drop(index='LOC-MDS', inplace=True)\n",
    "act_counts"
   ]
  },
  {
   "cell_type": "markdown",
   "id": "c2ccd84d",
   "metadata": {},
   "source": [
    "We're going to want to compute versions of this table as fractions, e.g. the fraction of books that are written by women.  We will use the following helper function:"
   ]
  },
  {
   "cell_type": "code",
   "execution_count": 8,
   "id": "feb2e4de",
   "metadata": {
    "execution": {
     "iopub.execute_input": "2021-09-29T23:54:03.375886Z",
     "iopub.status.busy": "2021-09-29T23:54:03.374918Z",
     "iopub.status.idle": "2021-09-29T23:54:03.378592Z",
     "shell.execute_reply": "2021-09-29T23:54:03.377801Z"
    }
   },
   "outputs": [],
   "source": [
    "def fractionalize(data, columns, unlinked=None):\n",
    "    fracs = data[columns]\n",
    "    fracs.columns = fracs.columns.astype('str')\n",
    "    if unlinked:\n",
    "        fracs = fracs.assign(unlinked=data[unlinked].sum(axis=1))\n",
    "    totals = fracs.sum(axis=1)\n",
    "    return fracs.divide(totals, axis=0)"
   ]
  },
  {
   "cell_type": "markdown",
   "id": "e61c0ea1",
   "metadata": {},
   "source": [
    "And a helper function for plotting bar charts:"
   ]
  },
  {
   "cell_type": "code",
   "execution_count": 9,
   "id": "dc6f8ec5",
   "metadata": {
    "execution": {
     "iopub.execute_input": "2021-09-29T23:54:03.394227Z",
     "iopub.status.busy": "2021-09-29T23:54:03.393249Z",
     "iopub.status.idle": "2021-09-29T23:54:03.396321Z",
     "shell.execute_reply": "2021-09-29T23:54:03.397088Z"
    }
   },
   "outputs": [],
   "source": [
    "def plot_bars(fracs, ax=None, cmap=mpl.cm.Dark2):\n",
    "    if ax is None:\n",
    "        ax = plt.gca()\n",
    "    size = 0.5\n",
    "    ind = np.arange(len(fracs))\n",
    "    start = pd.Series(0, index=fracs.index)\n",
    "    for i, col in enumerate(fracs.columns):\n",
    "        vals = fracs.iloc[:, i]\n",
    "        rects = ax.barh(ind, vals, size, left=start, label=col, color=cmap(i))\n",
    "        for j, rec in enumerate(rects):\n",
    "            if vals.iloc[j] < 0.1 or np.isnan(vals.iloc[j]): continue\n",
    "            y = rec.get_y() + rec.get_height() / 2\n",
    "            x = start.iloc[j] + vals.iloc[j] / 2\n",
    "            ax.annotate('{:.1f}%'.format(vals.iloc[j] * 100),\n",
    "                        xy=(x,y), ha='center', va='center', color='white',\n",
    "                        fontweight='bold')\n",
    "        start += vals.fillna(0)\n",
    "    ax.set_xlabel('Fraction of Books')\n",
    "    ax.set_ylabel('Data Set')\n",
    "    ax.set_yticks(ind)\n",
    "    ax.set_yticklabels(fracs.index)\n",
    "    ax.legend(loc='center left', bbox_to_anchor=(1, 0.5))"
   ]
  },
  {
   "cell_type": "markdown",
   "id": "18c57984",
   "metadata": {},
   "source": [
    "## Resolution of Books\n",
    "\n",
    "What fraction of *unique books* are resolved from each source?"
   ]
  },
  {
   "cell_type": "code",
   "execution_count": 10,
   "id": "617cac84",
   "metadata": {
    "execution": {
     "iopub.execute_input": "2021-09-29T23:54:03.421244Z",
     "iopub.status.busy": "2021-09-29T23:54:03.420154Z",
     "iopub.status.idle": "2021-09-29T23:54:03.425883Z",
     "shell.execute_reply": "2021-09-29T23:54:03.424963Z"
    }
   },
   "outputs": [
    {
     "data": {
      "text/html": [
       "<div>\n",
       "<style scoped>\n",
       "    .dataframe tbody tr th:only-of-type {\n",
       "        vertical-align: middle;\n",
       "    }\n",
       "\n",
       "    .dataframe tbody tr th {\n",
       "        vertical-align: top;\n",
       "    }\n",
       "\n",
       "    .dataframe thead th {\n",
       "        text-align: right;\n",
       "    }\n",
       "</style>\n",
       "<table border=\"1\" class=\"dataframe\">\n",
       "  <thead>\n",
       "    <tr style=\"text-align: right;\">\n",
       "      <th>gender</th>\n",
       "      <th>female</th>\n",
       "      <th>male</th>\n",
       "      <th>ambiguous</th>\n",
       "      <th>unknown</th>\n",
       "      <th>no-author-rec</th>\n",
       "      <th>no-book-author</th>\n",
       "      <th>no-book</th>\n",
       "    </tr>\n",
       "    <tr>\n",
       "      <th>dataset</th>\n",
       "      <th></th>\n",
       "      <th></th>\n",
       "      <th></th>\n",
       "      <th></th>\n",
       "      <th></th>\n",
       "      <th></th>\n",
       "      <th></th>\n",
       "    </tr>\n",
       "  </thead>\n",
       "  <tbody>\n",
       "    <tr>\n",
       "      <th>AZ</th>\n",
       "      <td>0.096198</td>\n",
       "      <td>0.217032</td>\n",
       "      <td>0.007869</td>\n",
       "      <td>0.105797</td>\n",
       "      <td>0.062365</td>\n",
       "      <td>0.097359</td>\n",
       "      <td>0.413379</td>\n",
       "    </tr>\n",
       "    <tr>\n",
       "      <th>BX-E</th>\n",
       "      <td>0.252130</td>\n",
       "      <td>0.373700</td>\n",
       "      <td>0.027864</td>\n",
       "      <td>0.112554</td>\n",
       "      <td>0.045513</td>\n",
       "      <td>0.043368</td>\n",
       "      <td>0.144872</td>\n",
       "    </tr>\n",
       "    <tr>\n",
       "      <th>BX-I</th>\n",
       "      <td>0.241319</td>\n",
       "      <td>0.352377</td>\n",
       "      <td>0.025664</td>\n",
       "      <td>0.125017</td>\n",
       "      <td>0.050336</td>\n",
       "      <td>0.046904</td>\n",
       "      <td>0.158383</td>\n",
       "    </tr>\n",
       "    <tr>\n",
       "      <th>GR-E</th>\n",
       "      <td>0.118128</td>\n",
       "      <td>0.187861</td>\n",
       "      <td>0.007832</td>\n",
       "      <td>0.064868</td>\n",
       "      <td>0.020253</td>\n",
       "      <td>0.601059</td>\n",
       "      <td>NaN</td>\n",
       "    </tr>\n",
       "    <tr>\n",
       "      <th>GR-I</th>\n",
       "      <td>0.117505</td>\n",
       "      <td>0.187419</td>\n",
       "      <td>0.007791</td>\n",
       "      <td>0.065112</td>\n",
       "      <td>0.020437</td>\n",
       "      <td>0.601736</td>\n",
       "      <td>NaN</td>\n",
       "    </tr>\n",
       "    <tr>\n",
       "      <th>LOC-MDS</th>\n",
       "      <td>0.126545</td>\n",
       "      <td>0.420006</td>\n",
       "      <td>0.010289</td>\n",
       "      <td>0.231427</td>\n",
       "      <td>0.051745</td>\n",
       "      <td>0.159988</td>\n",
       "      <td>NaN</td>\n",
       "    </tr>\n",
       "  </tbody>\n",
       "</table>\n",
       "</div>"
      ],
      "text/plain": [
       "gender     female      male  ambiguous   unknown  no-author-rec  \\\n",
       "dataset                                                           \n",
       "AZ       0.096198  0.217032   0.007869  0.105797       0.062365   \n",
       "BX-E     0.252130  0.373700   0.027864  0.112554       0.045513   \n",
       "BX-I     0.241319  0.352377   0.025664  0.125017       0.050336   \n",
       "GR-E     0.118128  0.187861   0.007832  0.064868       0.020253   \n",
       "GR-I     0.117505  0.187419   0.007791  0.065112       0.020437   \n",
       "LOC-MDS  0.126545  0.420006   0.010289  0.231427       0.051745   \n",
       "\n",
       "gender   no-book-author   no-book  \n",
       "dataset                            \n",
       "AZ             0.097359  0.413379  \n",
       "BX-E           0.043368  0.144872  \n",
       "BX-I           0.046904  0.158383  \n",
       "GR-E           0.601059       NaN  \n",
       "GR-I           0.601736       NaN  \n",
       "LOC-MDS        0.159988       NaN  "
      ]
     },
     "execution_count": 10,
     "metadata": {},
     "output_type": "execute_result"
    }
   ],
   "source": [
    "fractionalize(book_counts, link_codes + unlink_codes)"
   ]
  },
  {
   "cell_type": "code",
   "execution_count": 11,
   "id": "332c3c43",
   "metadata": {
    "execution": {
     "iopub.execute_input": "2021-09-29T23:54:03.465691Z",
     "iopub.status.busy": "2021-09-29T23:54:03.462146Z",
     "iopub.status.idle": "2021-09-29T23:54:04.151931Z",
     "shell.execute_reply": "2021-09-29T23:54:04.152581Z"
    }
   },
   "outputs": [
    {
     "data": {
      "image/png": "[encoded data removed]",
      "text/plain": [
       "<Figure size 432x288 with 1 Axes>"
      ]
     },
     "metadata": {
      "needs_background": "light"
     },
     "output_type": "display_data"
    }
   ],
   "source": [
    "plot_bars(fractionalize(book_counts, link_codes + unlink_codes))"
   ]
  },
  {
   "cell_type": "code",
   "execution_count": 12,
   "id": "c686f464",
   "metadata": {
    "execution": {
     "iopub.execute_input": "2021-09-29T23:54:04.173138Z",
     "iopub.status.busy": "2021-09-29T23:54:04.172355Z",
     "iopub.status.idle": "2021-09-29T23:54:04.176013Z",
     "shell.execute_reply": "2021-09-29T23:54:04.176675Z"
    }
   },
   "outputs": [
    {
     "data": {
      "text/html": [
       "<div>\n",
       "<style scoped>\n",
       "    .dataframe tbody tr th:only-of-type {\n",
       "        vertical-align: middle;\n",
       "    }\n",
       "\n",
       "    .dataframe tbody tr th {\n",
       "        vertical-align: top;\n",
       "    }\n",
       "\n",
       "    .dataframe thead th {\n",
       "        text-align: right;\n",
       "    }\n",
       "</style>\n",
       "<table border=\"1\" class=\"dataframe\">\n",
       "  <thead>\n",
       "    <tr style=\"text-align: right;\">\n",
       "      <th>gender</th>\n",
       "      <th>female</th>\n",
       "      <th>male</th>\n",
       "      <th>ambiguous</th>\n",
       "      <th>unknown</th>\n",
       "      <th>unlinked</th>\n",
       "    </tr>\n",
       "    <tr>\n",
       "      <th>dataset</th>\n",
       "      <th></th>\n",
       "      <th></th>\n",
       "      <th></th>\n",
       "      <th></th>\n",
       "      <th></th>\n",
       "    </tr>\n",
       "  </thead>\n",
       "  <tbody>\n",
       "    <tr>\n",
       "      <th>AZ</th>\n",
       "      <td>0.096198</td>\n",
       "      <td>0.217032</td>\n",
       "      <td>0.007869</td>\n",
       "      <td>0.105797</td>\n",
       "      <td>0.573103</td>\n",
       "    </tr>\n",
       "    <tr>\n",
       "      <th>BX-E</th>\n",
       "      <td>0.252130</td>\n",
       "      <td>0.373700</td>\n",
       "      <td>0.027864</td>\n",
       "      <td>0.112554</td>\n",
       "      <td>0.233753</td>\n",
       "    </tr>\n",
       "    <tr>\n",
       "      <th>BX-I</th>\n",
       "      <td>0.241319</td>\n",
       "      <td>0.352377</td>\n",
       "      <td>0.025664</td>\n",
       "      <td>0.125017</td>\n",
       "      <td>0.255623</td>\n",
       "    </tr>\n",
       "    <tr>\n",
       "      <th>GR-E</th>\n",
       "      <td>0.118128</td>\n",
       "      <td>0.187861</td>\n",
       "      <td>0.007832</td>\n",
       "      <td>0.064868</td>\n",
       "      <td>0.621312</td>\n",
       "    </tr>\n",
       "    <tr>\n",
       "      <th>GR-I</th>\n",
       "      <td>0.117505</td>\n",
       "      <td>0.187419</td>\n",
       "      <td>0.007791</td>\n",
       "      <td>0.065112</td>\n",
       "      <td>0.622173</td>\n",
       "    </tr>\n",
       "    <tr>\n",
       "      <th>LOC-MDS</th>\n",
       "      <td>0.126545</td>\n",
       "      <td>0.420006</td>\n",
       "      <td>0.010289</td>\n",
       "      <td>0.231427</td>\n",
       "      <td>0.211733</td>\n",
       "    </tr>\n",
       "  </tbody>\n",
       "</table>\n",
       "</div>"
      ],
      "text/plain": [
       "gender     female      male  ambiguous   unknown  unlinked\n",
       "dataset                                                   \n",
       "AZ       0.096198  0.217032   0.007869  0.105797  0.573103\n",
       "BX-E     0.252130  0.373700   0.027864  0.112554  0.233753\n",
       "BX-I     0.241319  0.352377   0.025664  0.125017  0.255623\n",
       "GR-E     0.118128  0.187861   0.007832  0.064868  0.621312\n",
       "GR-I     0.117505  0.187419   0.007791  0.065112  0.622173\n",
       "LOC-MDS  0.126545  0.420006   0.010289  0.231427  0.211733"
      ]
     },
     "execution_count": 12,
     "metadata": {},
     "output_type": "execute_result"
    }
   ],
   "source": [
    "fractionalize(book_counts, link_codes, unlink_codes)"
   ]
  },
  {
   "cell_type": "code",
   "execution_count": 13,
   "id": "7bfb6a60",
   "metadata": {
    "execution": {
     "iopub.execute_input": "2021-09-29T23:54:04.199547Z",
     "iopub.status.busy": "2021-09-29T23:54:04.184163Z",
     "iopub.status.idle": "2021-09-29T23:54:04.612069Z",
     "shell.execute_reply": "2021-09-29T23:54:04.611359Z"
    }
   },
   "outputs": [
    {
     "data": {
      "image/png": "[encoded data removed]",
      "text/plain": [
       "<Figure size 432x288 with 1 Axes>"
      ]
     },
     "metadata": {
      "needs_background": "light"
     },
     "output_type": "display_data"
    }
   ],
   "source": [
    "plot_bars(fractionalize(book_counts, link_codes, unlink_codes))"
   ]
  },
  {
   "cell_type": "code",
   "execution_count": 14,
   "id": "d1e63339",
   "metadata": {
    "execution": {
     "iopub.execute_input": "2021-09-29T23:54:04.630877Z",
     "iopub.status.busy": "2021-09-29T23:54:04.624909Z",
     "iopub.status.idle": "2021-09-29T23:54:04.986672Z",
     "shell.execute_reply": "2021-09-29T23:54:04.987655Z"
    }
   },
   "outputs": [
    {
     "data": {
      "image/png": "[encoded data removed]",
      "text/plain": [
       "<Figure size 432x288 with 1 Axes>"
      ]
     },
     "metadata": {
      "needs_background": "light"
     },
     "output_type": "display_data"
    }
   ],
   "source": [
    "plot_bars(fractionalize(book_counts, ['female', 'male']))"
   ]
  },
  {
   "cell_type": "markdown",
   "id": "6cb924be",
   "metadata": {},
   "source": [
    "## Resolution of Ratings\n",
    "\n",
    "What fraction of *rating actions* have each resolution result?"
   ]
  },
  {
   "cell_type": "code",
   "execution_count": 15,
   "id": "95d18de7",
   "metadata": {
    "execution": {
     "iopub.execute_input": "2021-09-29T23:54:05.015959Z",
     "iopub.status.busy": "2021-09-29T23:54:05.014401Z",
     "iopub.status.idle": "2021-09-29T23:54:05.021436Z",
     "shell.execute_reply": "2021-09-29T23:54:05.020414Z"
    }
   },
   "outputs": [
    {
     "data": {
      "text/html": [
       "<div>\n",
       "<style scoped>\n",
       "    .dataframe tbody tr th:only-of-type {\n",
       "        vertical-align: middle;\n",
       "    }\n",
       "\n",
       "    .dataframe tbody tr th {\n",
       "        vertical-align: top;\n",
       "    }\n",
       "\n",
       "    .dataframe thead th {\n",
       "        text-align: right;\n",
       "    }\n",
       "</style>\n",
       "<table border=\"1\" class=\"dataframe\">\n",
       "  <thead>\n",
       "    <tr style=\"text-align: right;\">\n",
       "      <th>gender</th>\n",
       "      <th>female</th>\n",
       "      <th>male</th>\n",
       "      <th>ambiguous</th>\n",
       "      <th>unknown</th>\n",
       "      <th>no-author-rec</th>\n",
       "      <th>no-book-author</th>\n",
       "      <th>no-book</th>\n",
       "    </tr>\n",
       "    <tr>\n",
       "      <th>dataset</th>\n",
       "      <th></th>\n",
       "      <th></th>\n",
       "      <th></th>\n",
       "      <th></th>\n",
       "      <th></th>\n",
       "      <th></th>\n",
       "      <th></th>\n",
       "    </tr>\n",
       "  </thead>\n",
       "  <tbody>\n",
       "    <tr>\n",
       "      <th>AZ</th>\n",
       "      <td>0.193792</td>\n",
       "      <td>0.294916</td>\n",
       "      <td>0.025126</td>\n",
       "      <td>0.093357</td>\n",
       "      <td>0.032848</td>\n",
       "      <td>0.159138</td>\n",
       "      <td>0.200824</td>\n",
       "    </tr>\n",
       "    <tr>\n",
       "      <th>BX-E</th>\n",
       "      <td>0.325094</td>\n",
       "      <td>0.434820</td>\n",
       "      <td>0.073054</td>\n",
       "      <td>0.064558</td>\n",
       "      <td>0.020506</td>\n",
       "      <td>0.022264</td>\n",
       "      <td>0.059704</td>\n",
       "    </tr>\n",
       "    <tr>\n",
       "      <th>BX-I</th>\n",
       "      <td>0.346760</td>\n",
       "      <td>0.415855</td>\n",
       "      <td>0.069294</td>\n",
       "      <td>0.069157</td>\n",
       "      <td>0.020639</td>\n",
       "      <td>0.022957</td>\n",
       "      <td>0.055338</td>\n",
       "    </tr>\n",
       "    <tr>\n",
       "      <th>GR-E</th>\n",
       "      <td>0.347796</td>\n",
       "      <td>0.350138</td>\n",
       "      <td>0.088615</td>\n",
       "      <td>0.039627</td>\n",
       "      <td>0.005290</td>\n",
       "      <td>0.168534</td>\n",
       "      <td>NaN</td>\n",
       "    </tr>\n",
       "    <tr>\n",
       "      <th>GR-I</th>\n",
       "      <td>0.346057</td>\n",
       "      <td>0.323893</td>\n",
       "      <td>0.065199</td>\n",
       "      <td>0.047497</td>\n",
       "      <td>0.006771</td>\n",
       "      <td>0.210583</td>\n",
       "      <td>NaN</td>\n",
       "    </tr>\n",
       "  </tbody>\n",
       "</table>\n",
       "</div>"
      ],
      "text/plain": [
       "gender     female      male  ambiguous   unknown  no-author-rec  \\\n",
       "dataset                                                           \n",
       "AZ       0.193792  0.294916   0.025126  0.093357       0.032848   \n",
       "BX-E     0.325094  0.434820   0.073054  0.064558       0.020506   \n",
       "BX-I     0.346760  0.415855   0.069294  0.069157       0.020639   \n",
       "GR-E     0.347796  0.350138   0.088615  0.039627       0.005290   \n",
       "GR-I     0.346057  0.323893   0.065199  0.047497       0.006771   \n",
       "\n",
       "gender   no-book-author   no-book  \n",
       "dataset                            \n",
       "AZ             0.159138  0.200824  \n",
       "BX-E           0.022264  0.059704  \n",
       "BX-I           0.022957  0.055338  \n",
       "GR-E           0.168534       NaN  \n",
       "GR-I           0.210583       NaN  "
      ]
     },
     "execution_count": 15,
     "metadata": {},
     "output_type": "execute_result"
    }
   ],
   "source": [
    "fractionalize(act_counts, link_codes + unlink_codes)"
   ]
  },
  {
   "cell_type": "code",
   "execution_count": 16,
   "id": "6feda82d",
   "metadata": {
    "execution": {
     "iopub.execute_input": "2021-09-29T23:54:05.064615Z",
     "iopub.status.busy": "2021-09-29T23:54:05.040750Z",
     "iopub.status.idle": "2021-09-29T23:54:05.478255Z",
     "shell.execute_reply": "2021-09-29T23:54:05.478918Z"
    }
   },
   "outputs": [
    {
     "data": {
      "image/png": "[encoded data removed]",
      "text/plain": [
       "<Figure size 432x288 with 1 Axes>"
      ]
     },
     "metadata": {
      "needs_background": "light"
     },
     "output_type": "display_data"
    }
   ],
   "source": [
    "plot_bars(fractionalize(act_counts, link_codes + unlink_codes))"
   ]
  },
  {
   "cell_type": "code",
   "execution_count": 17,
   "id": "ae89679d",
   "metadata": {
    "execution": {
     "iopub.execute_input": "2021-09-29T23:54:05.497572Z",
     "iopub.status.busy": "2021-09-29T23:54:05.486870Z",
     "iopub.status.idle": "2021-09-29T23:54:05.502014Z",
     "shell.execute_reply": "2021-09-29T23:54:05.501324Z"
    }
   },
   "outputs": [
    {
     "data": {
      "text/html": [
       "<div>\n",
       "<style scoped>\n",
       "    .dataframe tbody tr th:only-of-type {\n",
       "        vertical-align: middle;\n",
       "    }\n",
       "\n",
       "    .dataframe tbody tr th {\n",
       "        vertical-align: top;\n",
       "    }\n",
       "\n",
       "    .dataframe thead th {\n",
       "        text-align: right;\n",
       "    }\n",
       "</style>\n",
       "<table border=\"1\" class=\"dataframe\">\n",
       "  <thead>\n",
       "    <tr style=\"text-align: right;\">\n",
       "      <th>gender</th>\n",
       "      <th>female</th>\n",
       "      <th>male</th>\n",
       "      <th>ambiguous</th>\n",
       "      <th>unknown</th>\n",
       "      <th>unlinked</th>\n",
       "    </tr>\n",
       "    <tr>\n",
       "      <th>dataset</th>\n",
       "      <th></th>\n",
       "      <th></th>\n",
       "      <th></th>\n",
       "      <th></th>\n",
       "      <th></th>\n",
       "    </tr>\n",
       "  </thead>\n",
       "  <tbody>\n",
       "    <tr>\n",
       "      <th>AZ</th>\n",
       "      <td>0.193792</td>\n",
       "      <td>0.294916</td>\n",
       "      <td>0.025126</td>\n",
       "      <td>0.093357</td>\n",
       "      <td>0.392810</td>\n",
       "    </tr>\n",
       "    <tr>\n",
       "      <th>BX-E</th>\n",
       "      <td>0.325094</td>\n",
       "      <td>0.434820</td>\n",
       "      <td>0.073054</td>\n",
       "      <td>0.064558</td>\n",
       "      <td>0.102475</td>\n",
       "    </tr>\n",
       "    <tr>\n",
       "      <th>BX-I</th>\n",
       "      <td>0.346760</td>\n",
       "      <td>0.415855</td>\n",
       "      <td>0.069294</td>\n",
       "      <td>0.069157</td>\n",
       "      <td>0.098934</td>\n",
       "    </tr>\n",
       "    <tr>\n",
       "      <th>GR-E</th>\n",
       "      <td>0.347796</td>\n",
       "      <td>0.350138</td>\n",
       "      <td>0.088615</td>\n",
       "      <td>0.039627</td>\n",
       "      <td>0.173824</td>\n",
       "    </tr>\n",
       "    <tr>\n",
       "      <th>GR-I</th>\n",
       "      <td>0.346057</td>\n",
       "      <td>0.323893</td>\n",
       "      <td>0.065199</td>\n",
       "      <td>0.047497</td>\n",
       "      <td>0.217354</td>\n",
       "    </tr>\n",
       "  </tbody>\n",
       "</table>\n",
       "</div>"
      ],
      "text/plain": [
       "gender     female      male  ambiguous   unknown  unlinked\n",
       "dataset                                                   \n",
       "AZ       0.193792  0.294916   0.025126  0.093357  0.392810\n",
       "BX-E     0.325094  0.434820   0.073054  0.064558  0.102475\n",
       "BX-I     0.346760  0.415855   0.069294  0.069157  0.098934\n",
       "GR-E     0.347796  0.350138   0.088615  0.039627  0.173824\n",
       "GR-I     0.346057  0.323893   0.065199  0.047497  0.217354"
      ]
     },
     "execution_count": 17,
     "metadata": {},
     "output_type": "execute_result"
    }
   ],
   "source": [
    "fractionalize(act_counts, link_codes, unlink_codes)"
   ]
  },
  {
   "cell_type": "code",
   "execution_count": 18,
   "id": "a98407c6",
   "metadata": {
    "execution": {
     "iopub.execute_input": "2021-09-29T23:54:05.517489Z",
     "iopub.status.busy": "2021-09-29T23:54:05.516219Z",
     "iopub.status.idle": "2021-09-29T23:54:05.951928Z",
     "shell.execute_reply": "2021-09-29T23:54:05.952584Z"
    }
   },
   "outputs": [
    {
     "data": {
      "image/png": "[encoded data removed]",
      "text/plain": [
       "<Figure size 432x288 with 1 Axes>"
      ]
     },
     "metadata": {
      "needs_background": "light"
     },
     "output_type": "display_data"
    }
   ],
   "source": [
    "plot_bars(fractionalize(act_counts, link_codes, unlink_codes))"
   ]
  },
  {
   "cell_type": "code",
   "execution_count": 19,
   "id": "49c33592",
   "metadata": {
    "execution": {
     "iopub.execute_input": "2021-09-29T23:54:05.966534Z",
     "iopub.status.busy": "2021-09-29T23:54:05.965254Z",
     "iopub.status.idle": "2021-09-29T23:54:06.228319Z",
     "shell.execute_reply": "2021-09-29T23:54:06.227631Z"
    }
   },
   "outputs": [
    {
     "data": {
      "image/png": "[encoded data removed]",
      "text/plain": [
       "<Figure size 432x288 with 1 Axes>"
      ]
     },
     "metadata": {
      "needs_background": "light"
     },
     "output_type": "display_data"
    }
   ],
   "source": [
    "plot_bars(fractionalize(act_counts, ['female', 'male']))"
   ]
  },
  {
   "cell_type": "markdown",
   "id": "f67ec21a",
   "metadata": {},
   "source": [
    "## Metrics\n",
    "\n",
    "Finally, we're going to write coverage metrics."
   ]
  },
  {
   "cell_type": "code",
   "execution_count": 20,
   "id": "085f0e91",
   "metadata": {
    "execution": {
     "iopub.execute_input": "2021-09-29T23:54:06.238811Z",
     "iopub.status.busy": "2021-09-29T23:54:06.237859Z",
     "iopub.status.idle": "2021-09-29T23:54:06.241775Z",
     "shell.execute_reply": "2021-09-29T23:54:06.242418Z"
    }
   },
   "outputs": [
    {
     "data": {
      "text/plain": [
       "dataset\n",
       "AZ         0.321099\n",
       "BX-E       0.653694\n",
       "BX-I       0.619360\n",
       "GR-E       0.313820\n",
       "GR-I       0.312715\n",
       "LOC-MDS    0.556840\n",
       "dtype: float64"
      ]
     },
     "execution_count": 20,
     "metadata": {},
     "output_type": "execute_result"
    }
   ],
   "source": [
    "book_tots = book_counts.sum(axis=1)\n",
    "book_link = book_counts['male'] + book_counts['female'] + book_counts['ambiguous']\n",
    "book_cover = book_link / book_tots\n",
    "book_cover"
   ]
  },
  {
   "cell_type": "code",
   "execution_count": 21,
   "id": "8a5dec4e",
   "metadata": {
    "execution": {
     "iopub.execute_input": "2021-09-29T23:54:06.247857Z",
     "iopub.status.busy": "2021-09-29T23:54:06.246951Z",
     "iopub.status.idle": "2021-09-29T23:54:06.250040Z",
     "shell.execute_reply": "2021-09-29T23:54:06.250689Z"
    }
   },
   "outputs": [],
   "source": [
    "book_cover.to_json('book-coverage.json')"
   ]
  },
  {
   "cell_type": "code",
   "execution_count": null,
   "id": "685f6054",
   "metadata": {},
   "outputs": [],
   "source": []
  }
 ],
 "metadata": {
  "jupytext": {
   "formats": "ipynb,py:percent"
  },
  "kernelspec": {
   "display_name": "Python 3",
   "language": "python",
   "name": "python3"
  },
  "language_info": {
   "codemirror_mode": {
    "name": "ipython",
    "version": 3
   },
   "file_extension": ".py",
   "mimetype": "text/x-python",
   "name": "python",
   "nbconvert_exporter": "python",
   "pygments_lexer": "ipython3",
   "version": "3.8.12"
  }
 },
 "nbformat": 4,
 "nbformat_minor": 5
}
