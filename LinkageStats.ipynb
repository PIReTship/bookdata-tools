{
 "cells": [
  {
   "cell_type": "markdown",
   "id": "4c953234",
   "metadata": {},
   "source": [
    "# Book Data Linkage Statistics\n",
    "\n",
    "This notebook presents statistics of the book data integration."
   ]
  },
  {
   "cell_type": "markdown",
   "id": "7f074206",
   "metadata": {},
   "source": [
    "## Setup"
   ]
  },
  {
   "cell_type": "code",
   "execution_count": 1,
   "id": "f1540995",
   "metadata": {
    "execution": {
     "iopub.execute_input": "2021-10-19T05:01:58.068056Z",
     "iopub.status.busy": "2021-10-19T05:01:58.046842Z",
     "iopub.status.idle": "2021-10-19T05:01:59.639951Z",
     "shell.execute_reply": "2021-10-19T05:01:59.640614Z"
    },
    "tags": []
   },
   "outputs": [],
   "source": [
    "import pandas as pd\n",
    "import seaborn as sns\n",
    "import matplotlib as mpl\n",
    "import matplotlib.pyplot as plt\n",
    "import numpy as np"
   ]
  },
  {
   "cell_type": "markdown",
   "id": "2ea382b1",
   "metadata": {},
   "source": [
    "## Load Link Stats\n",
    "\n",
    "We compute dataset linking statitsics as `gender-stats.csv` using DataFusion.  Let's load those:"
   ]
  },
  {
   "cell_type": "code",
   "execution_count": 2,
   "id": "8f9946f5",
   "metadata": {
    "execution": {
     "iopub.execute_input": "2021-10-19T05:01:59.647238Z",
     "iopub.status.busy": "2021-10-19T05:01:59.646460Z",
     "iopub.status.idle": "2021-10-19T05:01:59.664500Z",
     "shell.execute_reply": "2021-10-19T05:01:59.665142Z"
    },
    "tags": []
   },
   "outputs": [
    {
     "data": {
      "text/html": [
       "<div>\n",
       "<style scoped>\n",
       "    .dataframe tbody tr th:only-of-type {\n",
       "        vertical-align: middle;\n",
       "    }\n",
       "\n",
       "    .dataframe tbody tr th {\n",
       "        vertical-align: top;\n",
       "    }\n",
       "\n",
       "    .dataframe thead th {\n",
       "        text-align: right;\n",
       "    }\n",
       "</style>\n",
       "<table border=\"1\" class=\"dataframe\">\n",
       "  <thead>\n",
       "    <tr style=\"text-align: right;\">\n",
       "      <th></th>\n",
       "      <th>dataset</th>\n",
       "      <th>gender</th>\n",
       "      <th>n_books</th>\n",
       "      <th>n_actions</th>\n",
       "    </tr>\n",
       "  </thead>\n",
       "  <tbody>\n",
       "    <tr>\n",
       "      <th>0</th>\n",
       "      <td>BX-E</td>\n",
       "      <td>no-book</td>\n",
       "      <td>21883</td>\n",
       "      <td>25523</td>\n",
       "    </tr>\n",
       "    <tr>\n",
       "      <th>1</th>\n",
       "      <td>BX-E</td>\n",
       "      <td>ambiguous</td>\n",
       "      <td>4209</td>\n",
       "      <td>31204</td>\n",
       "    </tr>\n",
       "    <tr>\n",
       "      <th>2</th>\n",
       "      <td>BX-E</td>\n",
       "      <td>no-author-rec</td>\n",
       "      <td>6875</td>\n",
       "      <td>8759</td>\n",
       "    </tr>\n",
       "    <tr>\n",
       "      <th>3</th>\n",
       "      <td>BX-E</td>\n",
       "      <td>female</td>\n",
       "      <td>38089</td>\n",
       "      <td>138864</td>\n",
       "    </tr>\n",
       "    <tr>\n",
       "      <th>4</th>\n",
       "      <td>BX-E</td>\n",
       "      <td>unknown</td>\n",
       "      <td>17003</td>\n",
       "      <td>27577</td>\n",
       "    </tr>\n",
       "  </tbody>\n",
       "</table>\n",
       "</div>"
      ],
      "text/plain": [
       "  dataset         gender  n_books  n_actions\n",
       "0    BX-E        no-book    21883      25523\n",
       "1    BX-E      ambiguous     4209      31204\n",
       "2    BX-E  no-author-rec     6875       8759\n",
       "3    BX-E         female    38089     138864\n",
       "4    BX-E        unknown    17003      27577"
      ]
     },
     "execution_count": 2,
     "metadata": {},
     "output_type": "execute_result"
    }
   ],
   "source": [
    "link_stats = pd.read_csv('book-links/gender-stats.csv')\n",
    "link_stats.head()"
   ]
  },
  {
   "cell_type": "markdown",
   "id": "896a4991",
   "metadata": {},
   "source": [
    "Now let's define variables for our variou codes. We are first going to define our gender codes.  We'll start with the resolved codes:"
   ]
  },
  {
   "cell_type": "code",
   "execution_count": 3,
   "id": "a2ba6e0b",
   "metadata": {
    "execution": {
     "iopub.execute_input": "2021-10-19T05:01:59.670727Z",
     "iopub.status.busy": "2021-10-19T05:01:59.669939Z",
     "iopub.status.idle": "2021-10-19T05:01:59.672275Z",
     "shell.execute_reply": "2021-10-19T05:01:59.672892Z"
    },
    "tags": []
   },
   "outputs": [],
   "source": [
    "link_codes = ['female', 'male', 'ambiguous', 'unknown']"
   ]
  },
  {
   "cell_type": "markdown",
   "id": "e5e15338",
   "metadata": {},
   "source": [
    "We want the unlink codes in order, so the last is the first link failure:"
   ]
  },
  {
   "cell_type": "code",
   "execution_count": 4,
   "id": "f1f68428",
   "metadata": {
    "execution": {
     "iopub.execute_input": "2021-10-19T05:01:59.678162Z",
     "iopub.status.busy": "2021-10-19T05:01:59.677386Z",
     "iopub.status.idle": "2021-10-19T05:01:59.679865Z",
     "shell.execute_reply": "2021-10-19T05:01:59.680483Z"
    },
    "tags": []
   },
   "outputs": [],
   "source": [
    "unlink_codes = ['no-author-rec', 'no-book-author', 'no-book']"
   ]
  },
  {
   "cell_type": "code",
   "execution_count": 5,
   "id": "81fb8bf9",
   "metadata": {
    "execution": {
     "iopub.execute_input": "2021-10-19T05:01:59.685535Z",
     "iopub.status.busy": "2021-10-19T05:01:59.684767Z",
     "iopub.status.idle": "2021-10-19T05:01:59.687336Z",
     "shell.execute_reply": "2021-10-19T05:01:59.687953Z"
    },
    "tags": []
   },
   "outputs": [],
   "source": [
    "all_codes = link_codes + unlink_codes"
   ]
  },
  {
   "cell_type": "markdown",
   "id": "efe56cdc",
   "metadata": {},
   "source": [
    "## Processing Statistics\n",
    "\n",
    "Now we'll pivot each of our count columns into a table for easier reference."
   ]
  },
  {
   "cell_type": "code",
   "execution_count": 6,
   "id": "3fbc6aa9",
   "metadata": {
    "execution": {
     "iopub.execute_input": "2021-10-19T05:01:59.717142Z",
     "iopub.status.busy": "2021-10-19T05:01:59.716366Z",
     "iopub.status.idle": "2021-10-19T05:01:59.719886Z",
     "shell.execute_reply": "2021-10-19T05:01:59.720487Z"
    },
    "tags": []
   },
   "outputs": [
    {
     "data": {
      "text/html": [
       "<div>\n",
       "<style scoped>\n",
       "    .dataframe tbody tr th:only-of-type {\n",
       "        vertical-align: middle;\n",
       "    }\n",
       "\n",
       "    .dataframe tbody tr th {\n",
       "        vertical-align: top;\n",
       "    }\n",
       "\n",
       "    .dataframe thead th {\n",
       "        text-align: right;\n",
       "    }\n",
       "</style>\n",
       "<table border=\"1\" class=\"dataframe\">\n",
       "  <thead>\n",
       "    <tr style=\"text-align: right;\">\n",
       "      <th>gender</th>\n",
       "      <th>female</th>\n",
       "      <th>male</th>\n",
       "      <th>ambiguous</th>\n",
       "      <th>unknown</th>\n",
       "      <th>no-author-rec</th>\n",
       "      <th>no-book-author</th>\n",
       "      <th>no-book</th>\n",
       "      <th>total</th>\n",
       "    </tr>\n",
       "    <tr>\n",
       "      <th>dataset</th>\n",
       "      <th></th>\n",
       "      <th></th>\n",
       "      <th></th>\n",
       "      <th></th>\n",
       "      <th></th>\n",
       "      <th></th>\n",
       "      <th></th>\n",
       "      <th></th>\n",
       "    </tr>\n",
       "  </thead>\n",
       "  <tbody>\n",
       "    <tr>\n",
       "      <th>AZ</th>\n",
       "      <td>217900.0</td>\n",
       "      <td>491600.0</td>\n",
       "      <td>17825.0</td>\n",
       "      <td>239646.0</td>\n",
       "      <td>141262.0</td>\n",
       "      <td>220524.0</td>\n",
       "      <td>936338.0</td>\n",
       "      <td>2265095.0</td>\n",
       "    </tr>\n",
       "    <tr>\n",
       "      <th>BX-E</th>\n",
       "      <td>38089.0</td>\n",
       "      <td>56451.0</td>\n",
       "      <td>4209.0</td>\n",
       "      <td>17003.0</td>\n",
       "      <td>6875.0</td>\n",
       "      <td>6548.0</td>\n",
       "      <td>21883.0</td>\n",
       "      <td>151058.0</td>\n",
       "    </tr>\n",
       "    <tr>\n",
       "      <th>BX-I</th>\n",
       "      <td>67153.0</td>\n",
       "      <td>98050.0</td>\n",
       "      <td>7141.0</td>\n",
       "      <td>34792.0</td>\n",
       "      <td>14003.0</td>\n",
       "      <td>13046.0</td>\n",
       "      <td>44067.0</td>\n",
       "      <td>278252.0</td>\n",
       "    </tr>\n",
       "    <tr>\n",
       "      <th>GR-E</th>\n",
       "      <td>175738.0</td>\n",
       "      <td>279480.0</td>\n",
       "      <td>11650.0</td>\n",
       "      <td>96500.0</td>\n",
       "      <td>30131.0</td>\n",
       "      <td>757989.0</td>\n",
       "      <td>NaN</td>\n",
       "      <td>1351488.0</td>\n",
       "    </tr>\n",
       "    <tr>\n",
       "      <th>GR-I</th>\n",
       "      <td>177361.0</td>\n",
       "      <td>282888.0</td>\n",
       "      <td>11759.0</td>\n",
       "      <td>98281.0</td>\n",
       "      <td>30847.0</td>\n",
       "      <td>768007.0</td>\n",
       "      <td>NaN</td>\n",
       "      <td>1369143.0</td>\n",
       "    </tr>\n",
       "    <tr>\n",
       "      <th>LOC-MDS</th>\n",
       "      <td>666633.0</td>\n",
       "      <td>2212568.0</td>\n",
       "      <td>54206.0</td>\n",
       "      <td>1219145.0</td>\n",
       "      <td>272587.0</td>\n",
       "      <td>842797.0</td>\n",
       "      <td>NaN</td>\n",
       "      <td>5267936.0</td>\n",
       "    </tr>\n",
       "  </tbody>\n",
       "</table>\n",
       "</div>"
      ],
      "text/plain": [
       "gender     female       male  ambiguous    unknown  no-author-rec  \\\n",
       "dataset                                                             \n",
       "AZ       217900.0   491600.0    17825.0   239646.0       141262.0   \n",
       "BX-E      38089.0    56451.0     4209.0    17003.0         6875.0   \n",
       "BX-I      67153.0    98050.0     7141.0    34792.0        14003.0   \n",
       "GR-E     175738.0   279480.0    11650.0    96500.0        30131.0   \n",
       "GR-I     177361.0   282888.0    11759.0    98281.0        30847.0   \n",
       "LOC-MDS  666633.0  2212568.0    54206.0  1219145.0       272587.0   \n",
       "\n",
       "gender   no-book-author   no-book      total  \n",
       "dataset                                       \n",
       "AZ             220524.0  936338.0  2265095.0  \n",
       "BX-E             6548.0   21883.0   151058.0  \n",
       "BX-I            13046.0   44067.0   278252.0  \n",
       "GR-E           757989.0       NaN  1351488.0  \n",
       "GR-I           768007.0       NaN  1369143.0  \n",
       "LOC-MDS        842797.0       NaN  5267936.0  "
      ]
     },
     "execution_count": 6,
     "metadata": {},
     "output_type": "execute_result"
    }
   ],
   "source": [
    "book_counts = link_stats.pivot('dataset', 'gender', 'n_books')\n",
    "book_counts = book_counts.reindex(columns=all_codes)\n",
    "book_counts.assign(total=book_counts.sum(axis=1))"
   ]
  },
  {
   "cell_type": "code",
   "execution_count": 7,
   "id": "788eb491",
   "metadata": {
    "execution": {
     "iopub.execute_input": "2021-10-19T05:01:59.745234Z",
     "iopub.status.busy": "2021-10-19T05:01:59.726880Z",
     "iopub.status.idle": "2021-10-19T05:01:59.749175Z",
     "shell.execute_reply": "2021-10-19T05:01:59.749892Z"
    },
    "tags": []
   },
   "outputs": [
    {
     "data": {
      "text/html": [
       "<div>\n",
       "<style scoped>\n",
       "    .dataframe tbody tr th:only-of-type {\n",
       "        vertical-align: middle;\n",
       "    }\n",
       "\n",
       "    .dataframe tbody tr th {\n",
       "        vertical-align: top;\n",
       "    }\n",
       "\n",
       "    .dataframe thead th {\n",
       "        text-align: right;\n",
       "    }\n",
       "</style>\n",
       "<table border=\"1\" class=\"dataframe\">\n",
       "  <thead>\n",
       "    <tr style=\"text-align: right;\">\n",
       "      <th>gender</th>\n",
       "      <th>female</th>\n",
       "      <th>male</th>\n",
       "      <th>ambiguous</th>\n",
       "      <th>unknown</th>\n",
       "      <th>no-author-rec</th>\n",
       "      <th>no-book-author</th>\n",
       "      <th>no-book</th>\n",
       "    </tr>\n",
       "    <tr>\n",
       "      <th>dataset</th>\n",
       "      <th></th>\n",
       "      <th></th>\n",
       "      <th></th>\n",
       "      <th></th>\n",
       "      <th></th>\n",
       "      <th></th>\n",
       "      <th></th>\n",
       "    </tr>\n",
       "  </thead>\n",
       "  <tbody>\n",
       "    <tr>\n",
       "      <th>AZ</th>\n",
       "      <td>4352195.0</td>\n",
       "      <td>6623262.0</td>\n",
       "      <td>564273.0</td>\n",
       "      <td>2096628.0</td>\n",
       "      <td>737698.0</td>\n",
       "      <td>3573926.0</td>\n",
       "      <td>4510112.0</td>\n",
       "    </tr>\n",
       "    <tr>\n",
       "      <th>BX-E</th>\n",
       "      <td>138864.0</td>\n",
       "      <td>185730.0</td>\n",
       "      <td>31204.0</td>\n",
       "      <td>27577.0</td>\n",
       "      <td>8759.0</td>\n",
       "      <td>9505.0</td>\n",
       "      <td>25523.0</td>\n",
       "    </tr>\n",
       "    <tr>\n",
       "      <th>BX-I</th>\n",
       "      <td>391575.0</td>\n",
       "      <td>469588.0</td>\n",
       "      <td>78247.0</td>\n",
       "      <td>78104.0</td>\n",
       "      <td>23301.0</td>\n",
       "      <td>25904.0</td>\n",
       "      <td>62527.0</td>\n",
       "    </tr>\n",
       "    <tr>\n",
       "      <th>GR-E</th>\n",
       "      <td>34260862.0</td>\n",
       "      <td>34487783.0</td>\n",
       "      <td>8761723.0</td>\n",
       "      <td>3927468.0</td>\n",
       "      <td>502325.0</td>\n",
       "      <td>13871849.0</td>\n",
       "      <td>NaN</td>\n",
       "    </tr>\n",
       "    <tr>\n",
       "      <th>GR-I</th>\n",
       "      <td>75245333.0</td>\n",
       "      <td>70337154.0</td>\n",
       "      <td>14207710.0</td>\n",
       "      <td>10382962.0</td>\n",
       "      <td>1421006.0</td>\n",
       "      <td>38505184.0</td>\n",
       "      <td>NaN</td>\n",
       "    </tr>\n",
       "  </tbody>\n",
       "</table>\n",
       "</div>"
      ],
      "text/plain": [
       "gender       female        male   ambiguous     unknown  no-author-rec  \\\n",
       "dataset                                                                  \n",
       "AZ        4352195.0   6623262.0    564273.0   2096628.0       737698.0   \n",
       "BX-E       138864.0    185730.0     31204.0     27577.0         8759.0   \n",
       "BX-I       391575.0    469588.0     78247.0     78104.0        23301.0   \n",
       "GR-E     34260862.0  34487783.0   8761723.0   3927468.0       502325.0   \n",
       "GR-I     75245333.0  70337154.0  14207710.0  10382962.0      1421006.0   \n",
       "\n",
       "gender   no-book-author    no-book  \n",
       "dataset                             \n",
       "AZ            3573926.0  4510112.0  \n",
       "BX-E             9505.0    25523.0  \n",
       "BX-I            25904.0    62527.0  \n",
       "GR-E         13871849.0        NaN  \n",
       "GR-I         38505184.0        NaN  "
      ]
     },
     "execution_count": 7,
     "metadata": {},
     "output_type": "execute_result"
    }
   ],
   "source": [
    "act_counts = link_stats.pivot('dataset', 'gender', 'n_actions')\n",
    "act_counts = act_counts.reindex(columns=all_codes)\n",
    "act_counts.drop(index='LOC-MDS', inplace=True)\n",
    "act_counts"
   ]
  },
  {
   "cell_type": "markdown",
   "id": "929a0726",
   "metadata": {},
   "source": [
    "We're going to want to compute versions of this table as fractions, e.g. the fraction of books that are written by women.  We will use the following helper function:"
   ]
  },
  {
   "cell_type": "code",
   "execution_count": 8,
   "id": "61d1417d",
   "metadata": {
    "execution": {
     "iopub.execute_input": "2021-10-19T05:01:59.758337Z",
     "iopub.status.busy": "2021-10-19T05:01:59.757428Z",
     "iopub.status.idle": "2021-10-19T05:01:59.760997Z",
     "shell.execute_reply": "2021-10-19T05:01:59.760202Z"
    }
   },
   "outputs": [],
   "source": [
    "def fractionalize(data, columns, unlinked=None):\n",
    "    fracs = data[columns]\n",
    "    fracs.columns = fracs.columns.astype('str')\n",
    "    if unlinked:\n",
    "        fracs = fracs.assign(unlinked=data[unlinked].sum(axis=1))\n",
    "    totals = fracs.sum(axis=1)\n",
    "    return fracs.divide(totals, axis=0)"
   ]
  },
  {
   "cell_type": "markdown",
   "id": "91f9219e",
   "metadata": {},
   "source": [
    "And a helper function for plotting bar charts:"
   ]
  },
  {
   "cell_type": "code",
   "execution_count": 9,
   "id": "92732e79",
   "metadata": {
    "execution": {
     "iopub.execute_input": "2021-10-19T05:01:59.775466Z",
     "iopub.status.busy": "2021-10-19T05:01:59.774546Z",
     "iopub.status.idle": "2021-10-19T05:01:59.777995Z",
     "shell.execute_reply": "2021-10-19T05:01:59.777244Z"
    }
   },
   "outputs": [],
   "source": [
    "def plot_bars(fracs, ax=None, cmap=mpl.cm.Dark2):\n",
    "    if ax is None:\n",
    "        ax = plt.gca()\n",
    "    size = 0.5\n",
    "    ind = np.arange(len(fracs))\n",
    "    start = pd.Series(0, index=fracs.index)\n",
    "    for i, col in enumerate(fracs.columns):\n",
    "        vals = fracs.iloc[:, i]\n",
    "        rects = ax.barh(ind, vals, size, left=start, label=col, color=cmap(i))\n",
    "        for j, rec in enumerate(rects):\n",
    "            if vals.iloc[j] < 0.1 or np.isnan(vals.iloc[j]): continue\n",
    "            y = rec.get_y() + rec.get_height() / 2\n",
    "            x = start.iloc[j] + vals.iloc[j] / 2\n",
    "            ax.annotate('{:.1f}%'.format(vals.iloc[j] * 100),\n",
    "                        xy=(x,y), ha='center', va='center', color='white',\n",
    "                        fontweight='bold')\n",
    "        start += vals.fillna(0)\n",
    "    ax.set_xlabel('Fraction of Books')\n",
    "    ax.set_ylabel('Data Set')\n",
    "    ax.set_yticks(ind)\n",
    "    ax.set_yticklabels(fracs.index)\n",
    "    ax.legend(loc='center left', bbox_to_anchor=(1, 0.5))"
   ]
  },
  {
   "cell_type": "markdown",
   "id": "af777c12",
   "metadata": {},
   "source": [
    "## Resolution of Books\n",
    "\n",
    "What fraction of *unique books* are resolved from each source?"
   ]
  },
  {
   "cell_type": "code",
   "execution_count": 10,
   "id": "9a22e43f",
   "metadata": {
    "execution": {
     "iopub.execute_input": "2021-10-19T05:01:59.799570Z",
     "iopub.status.busy": "2021-10-19T05:01:59.798683Z",
     "iopub.status.idle": "2021-10-19T05:01:59.802807Z",
     "shell.execute_reply": "2021-10-19T05:01:59.803508Z"
    }
   },
   "outputs": [
    {
     "data": {
      "text/html": [
       "<div>\n",
       "<style scoped>\n",
       "    .dataframe tbody tr th:only-of-type {\n",
       "        vertical-align: middle;\n",
       "    }\n",
       "\n",
       "    .dataframe tbody tr th {\n",
       "        vertical-align: top;\n",
       "    }\n",
       "\n",
       "    .dataframe thead th {\n",
       "        text-align: right;\n",
       "    }\n",
       "</style>\n",
       "<table border=\"1\" class=\"dataframe\">\n",
       "  <thead>\n",
       "    <tr style=\"text-align: right;\">\n",
       "      <th>gender</th>\n",
       "      <th>female</th>\n",
       "      <th>male</th>\n",
       "      <th>ambiguous</th>\n",
       "      <th>unknown</th>\n",
       "      <th>no-author-rec</th>\n",
       "      <th>no-book-author</th>\n",
       "      <th>no-book</th>\n",
       "    </tr>\n",
       "    <tr>\n",
       "      <th>dataset</th>\n",
       "      <th></th>\n",
       "      <th></th>\n",
       "      <th></th>\n",
       "      <th></th>\n",
       "      <th></th>\n",
       "      <th></th>\n",
       "      <th></th>\n",
       "    </tr>\n",
       "  </thead>\n",
       "  <tbody>\n",
       "    <tr>\n",
       "      <th>AZ</th>\n",
       "      <td>0.096199</td>\n",
       "      <td>0.217033</td>\n",
       "      <td>0.007869</td>\n",
       "      <td>0.105800</td>\n",
       "      <td>0.062365</td>\n",
       "      <td>0.097358</td>\n",
       "      <td>0.413377</td>\n",
       "    </tr>\n",
       "    <tr>\n",
       "      <th>BX-E</th>\n",
       "      <td>0.252148</td>\n",
       "      <td>0.373704</td>\n",
       "      <td>0.027863</td>\n",
       "      <td>0.112559</td>\n",
       "      <td>0.045512</td>\n",
       "      <td>0.043348</td>\n",
       "      <td>0.144865</td>\n",
       "    </tr>\n",
       "    <tr>\n",
       "      <th>BX-I</th>\n",
       "      <td>0.241339</td>\n",
       "      <td>0.352378</td>\n",
       "      <td>0.025664</td>\n",
       "      <td>0.125038</td>\n",
       "      <td>0.050325</td>\n",
       "      <td>0.046886</td>\n",
       "      <td>0.158371</td>\n",
       "    </tr>\n",
       "    <tr>\n",
       "      <th>GR-E</th>\n",
       "      <td>0.130033</td>\n",
       "      <td>0.206794</td>\n",
       "      <td>0.008620</td>\n",
       "      <td>0.071403</td>\n",
       "      <td>0.022295</td>\n",
       "      <td>0.560855</td>\n",
       "      <td>NaN</td>\n",
       "    </tr>\n",
       "    <tr>\n",
       "      <th>GR-I</th>\n",
       "      <td>0.129542</td>\n",
       "      <td>0.206617</td>\n",
       "      <td>0.008589</td>\n",
       "      <td>0.071783</td>\n",
       "      <td>0.022530</td>\n",
       "      <td>0.560940</td>\n",
       "      <td>NaN</td>\n",
       "    </tr>\n",
       "    <tr>\n",
       "      <th>LOC-MDS</th>\n",
       "      <td>0.126545</td>\n",
       "      <td>0.420007</td>\n",
       "      <td>0.010290</td>\n",
       "      <td>0.231427</td>\n",
       "      <td>0.051745</td>\n",
       "      <td>0.159986</td>\n",
       "      <td>NaN</td>\n",
       "    </tr>\n",
       "  </tbody>\n",
       "</table>\n",
       "</div>"
      ],
      "text/plain": [
       "gender     female      male  ambiguous   unknown  no-author-rec  \\\n",
       "dataset                                                           \n",
       "AZ       0.096199  0.217033   0.007869  0.105800       0.062365   \n",
       "BX-E     0.252148  0.373704   0.027863  0.112559       0.045512   \n",
       "BX-I     0.241339  0.352378   0.025664  0.125038       0.050325   \n",
       "GR-E     0.130033  0.206794   0.008620  0.071403       0.022295   \n",
       "GR-I     0.129542  0.206617   0.008589  0.071783       0.022530   \n",
       "LOC-MDS  0.126545  0.420007   0.010290  0.231427       0.051745   \n",
       "\n",
       "gender   no-book-author   no-book  \n",
       "dataset                            \n",
       "AZ             0.097358  0.413377  \n",
       "BX-E           0.043348  0.144865  \n",
       "BX-I           0.046886  0.158371  \n",
       "GR-E           0.560855       NaN  \n",
       "GR-I           0.560940       NaN  \n",
       "LOC-MDS        0.159986       NaN  "
      ]
     },
     "execution_count": 10,
     "metadata": {},
     "output_type": "execute_result"
    }
   ],
   "source": [
    "fractionalize(book_counts, link_codes + unlink_codes)"
   ]
  },
  {
   "cell_type": "code",
   "execution_count": 11,
   "id": "95e87eb2",
   "metadata": {
    "execution": {
     "iopub.execute_input": "2021-10-19T05:01:59.818728Z",
     "iopub.status.busy": "2021-10-19T05:01:59.817832Z",
     "iopub.status.idle": "2021-10-19T05:02:00.419496Z",
     "shell.execute_reply": "2021-10-19T05:02:00.420630Z"
    }
   },
   "outputs": [
    {
     "data": {
      "image/png": "[encoded data removed]",
      "text/plain": [
       "<Figure size 432x288 with 1 Axes>"
      ]
     },
     "metadata": {
      "needs_background": "light"
     },
     "output_type": "display_data"
    }
   ],
   "source": [
    "plot_bars(fractionalize(book_counts, link_codes + unlink_codes))"
   ]
  },
  {
   "cell_type": "code",
   "execution_count": 12,
   "id": "ca3428ee",
   "metadata": {
    "execution": {
     "iopub.execute_input": "2021-10-19T05:02:00.447327Z",
     "iopub.status.busy": "2021-10-19T05:02:00.445786Z",
     "iopub.status.idle": "2021-10-19T05:02:00.451034Z",
     "shell.execute_reply": "2021-10-19T05:02:00.452508Z"
    }
   },
   "outputs": [
    {
     "data": {
      "text/html": [
       "<div>\n",
       "<style scoped>\n",
       "    .dataframe tbody tr th:only-of-type {\n",
       "        vertical-align: middle;\n",
       "    }\n",
       "\n",
       "    .dataframe tbody tr th {\n",
       "        vertical-align: top;\n",
       "    }\n",
       "\n",
       "    .dataframe thead th {\n",
       "        text-align: right;\n",
       "    }\n",
       "</style>\n",
       "<table border=\"1\" class=\"dataframe\">\n",
       "  <thead>\n",
       "    <tr style=\"text-align: right;\">\n",
       "      <th>gender</th>\n",
       "      <th>female</th>\n",
       "      <th>male</th>\n",
       "      <th>ambiguous</th>\n",
       "      <th>unknown</th>\n",
       "      <th>unlinked</th>\n",
       "    </tr>\n",
       "    <tr>\n",
       "      <th>dataset</th>\n",
       "      <th></th>\n",
       "      <th></th>\n",
       "      <th></th>\n",
       "      <th></th>\n",
       "      <th></th>\n",
       "    </tr>\n",
       "  </thead>\n",
       "  <tbody>\n",
       "    <tr>\n",
       "      <th>AZ</th>\n",
       "      <td>0.096199</td>\n",
       "      <td>0.217033</td>\n",
       "      <td>0.007869</td>\n",
       "      <td>0.105800</td>\n",
       "      <td>0.573099</td>\n",
       "    </tr>\n",
       "    <tr>\n",
       "      <th>BX-E</th>\n",
       "      <td>0.252148</td>\n",
       "      <td>0.373704</td>\n",
       "      <td>0.027863</td>\n",
       "      <td>0.112559</td>\n",
       "      <td>0.233725</td>\n",
       "    </tr>\n",
       "    <tr>\n",
       "      <th>BX-I</th>\n",
       "      <td>0.241339</td>\n",
       "      <td>0.352378</td>\n",
       "      <td>0.025664</td>\n",
       "      <td>0.125038</td>\n",
       "      <td>0.255581</td>\n",
       "    </tr>\n",
       "    <tr>\n",
       "      <th>GR-E</th>\n",
       "      <td>0.130033</td>\n",
       "      <td>0.206794</td>\n",
       "      <td>0.008620</td>\n",
       "      <td>0.071403</td>\n",
       "      <td>0.583150</td>\n",
       "    </tr>\n",
       "    <tr>\n",
       "      <th>GR-I</th>\n",
       "      <td>0.129542</td>\n",
       "      <td>0.206617</td>\n",
       "      <td>0.008589</td>\n",
       "      <td>0.071783</td>\n",
       "      <td>0.583470</td>\n",
       "    </tr>\n",
       "    <tr>\n",
       "      <th>LOC-MDS</th>\n",
       "      <td>0.126545</td>\n",
       "      <td>0.420007</td>\n",
       "      <td>0.010290</td>\n",
       "      <td>0.231427</td>\n",
       "      <td>0.211731</td>\n",
       "    </tr>\n",
       "  </tbody>\n",
       "</table>\n",
       "</div>"
      ],
      "text/plain": [
       "gender     female      male  ambiguous   unknown  unlinked\n",
       "dataset                                                   \n",
       "AZ       0.096199  0.217033   0.007869  0.105800  0.573099\n",
       "BX-E     0.252148  0.373704   0.027863  0.112559  0.233725\n",
       "BX-I     0.241339  0.352378   0.025664  0.125038  0.255581\n",
       "GR-E     0.130033  0.206794   0.008620  0.071403  0.583150\n",
       "GR-I     0.129542  0.206617   0.008589  0.071783  0.583470\n",
       "LOC-MDS  0.126545  0.420007   0.010290  0.231427  0.211731"
      ]
     },
     "execution_count": 12,
     "metadata": {},
     "output_type": "execute_result"
    }
   ],
   "source": [
    "fractionalize(book_counts, link_codes, unlink_codes)"
   ]
  },
  {
   "cell_type": "code",
   "execution_count": 13,
   "id": "803ec0da",
   "metadata": {
    "execution": {
     "iopub.execute_input": "2021-10-19T05:02:00.500337Z",
     "iopub.status.busy": "2021-10-19T05:02:00.495974Z",
     "iopub.status.idle": "2021-10-19T05:02:00.903823Z",
     "shell.execute_reply": "2021-10-19T05:02:00.905032Z"
    }
   },
   "outputs": [
    {
     "data": {
      "image/png": "[encoded data removed]",
      "text/plain": [
       "<Figure size 432x288 with 1 Axes>"
      ]
     },
     "metadata": {
      "needs_background": "light"
     },
     "output_type": "display_data"
    }
   ],
   "source": [
    "plot_bars(fractionalize(book_counts, link_codes, unlink_codes))"
   ]
  },
  {
   "cell_type": "code",
   "execution_count": 14,
   "id": "728693b2",
   "metadata": {
    "execution": {
     "iopub.execute_input": "2021-10-19T05:02:00.993712Z",
     "iopub.status.busy": "2021-10-19T05:02:00.989800Z",
     "iopub.status.idle": "2021-10-19T05:02:01.213912Z",
     "shell.execute_reply": "2021-10-19T05:02:01.214970Z"
    }
   },
   "outputs": [
    {
     "data": {
      "image/png": "[encoded data removed]",
      "text/plain": [
       "<Figure size 432x288 with 1 Axes>"
      ]
     },
     "metadata": {
      "needs_background": "light"
     },
     "output_type": "display_data"
    }
   ],
   "source": [
    "plot_bars(fractionalize(book_counts, ['female', 'male']))"
   ]
  },
  {
   "cell_type": "markdown",
   "id": "2730542c",
   "metadata": {},
   "source": [
    "## Resolution of Ratings\n",
    "\n",
    "What fraction of *rating actions* have each resolution result?"
   ]
  },
  {
   "cell_type": "code",
   "execution_count": 15,
   "id": "c59011f3",
   "metadata": {
    "execution": {
     "iopub.execute_input": "2021-10-19T05:02:01.236573Z",
     "iopub.status.busy": "2021-10-19T05:02:01.235223Z",
     "iopub.status.idle": "2021-10-19T05:02:01.241968Z",
     "shell.execute_reply": "2021-10-19T05:02:01.240734Z"
    }
   },
   "outputs": [
    {
     "data": {
      "text/html": [
       "<div>\n",
       "<style scoped>\n",
       "    .dataframe tbody tr th:only-of-type {\n",
       "        vertical-align: middle;\n",
       "    }\n",
       "\n",
       "    .dataframe tbody tr th {\n",
       "        vertical-align: top;\n",
       "    }\n",
       "\n",
       "    .dataframe thead th {\n",
       "        text-align: right;\n",
       "    }\n",
       "</style>\n",
       "<table border=\"1\" class=\"dataframe\">\n",
       "  <thead>\n",
       "    <tr style=\"text-align: right;\">\n",
       "      <th>gender</th>\n",
       "      <th>female</th>\n",
       "      <th>male</th>\n",
       "      <th>ambiguous</th>\n",
       "      <th>unknown</th>\n",
       "      <th>no-author-rec</th>\n",
       "      <th>no-book-author</th>\n",
       "      <th>no-book</th>\n",
       "    </tr>\n",
       "    <tr>\n",
       "      <th>dataset</th>\n",
       "      <th></th>\n",
       "      <th></th>\n",
       "      <th></th>\n",
       "      <th></th>\n",
       "      <th></th>\n",
       "      <th></th>\n",
       "      <th></th>\n",
       "    </tr>\n",
       "  </thead>\n",
       "  <tbody>\n",
       "    <tr>\n",
       "      <th>AZ</th>\n",
       "      <td>0.193792</td>\n",
       "      <td>0.294916</td>\n",
       "      <td>0.025126</td>\n",
       "      <td>0.093357</td>\n",
       "      <td>0.032848</td>\n",
       "      <td>0.159138</td>\n",
       "      <td>0.200823</td>\n",
       "    </tr>\n",
       "    <tr>\n",
       "      <th>BX-E</th>\n",
       "      <td>0.325085</td>\n",
       "      <td>0.434800</td>\n",
       "      <td>0.073050</td>\n",
       "      <td>0.064559</td>\n",
       "      <td>0.020505</td>\n",
       "      <td>0.022252</td>\n",
       "      <td>0.059750</td>\n",
       "    </tr>\n",
       "    <tr>\n",
       "      <th>BX-I</th>\n",
       "      <td>0.346758</td>\n",
       "      <td>0.415842</td>\n",
       "      <td>0.069291</td>\n",
       "      <td>0.069165</td>\n",
       "      <td>0.020634</td>\n",
       "      <td>0.022939</td>\n",
       "      <td>0.055371</td>\n",
       "    </tr>\n",
       "    <tr>\n",
       "      <th>GR-E</th>\n",
       "      <td>0.357584</td>\n",
       "      <td>0.359953</td>\n",
       "      <td>0.091447</td>\n",
       "      <td>0.040991</td>\n",
       "      <td>0.005243</td>\n",
       "      <td>0.144782</td>\n",
       "      <td>NaN</td>\n",
       "    </tr>\n",
       "    <tr>\n",
       "      <th>GR-I</th>\n",
       "      <td>0.358142</td>\n",
       "      <td>0.334780</td>\n",
       "      <td>0.067624</td>\n",
       "      <td>0.049419</td>\n",
       "      <td>0.006763</td>\n",
       "      <td>0.183271</td>\n",
       "      <td>NaN</td>\n",
       "    </tr>\n",
       "  </tbody>\n",
       "</table>\n",
       "</div>"
      ],
      "text/plain": [
       "gender     female      male  ambiguous   unknown  no-author-rec  \\\n",
       "dataset                                                           \n",
       "AZ       0.193792  0.294916   0.025126  0.093357       0.032848   \n",
       "BX-E     0.325085  0.434800   0.073050  0.064559       0.020505   \n",
       "BX-I     0.346758  0.415842   0.069291  0.069165       0.020634   \n",
       "GR-E     0.357584  0.359953   0.091447  0.040991       0.005243   \n",
       "GR-I     0.358142  0.334780   0.067624  0.049419       0.006763   \n",
       "\n",
       "gender   no-book-author   no-book  \n",
       "dataset                            \n",
       "AZ             0.159138  0.200823  \n",
       "BX-E           0.022252  0.059750  \n",
       "BX-I           0.022939  0.055371  \n",
       "GR-E           0.144782       NaN  \n",
       "GR-I           0.183271       NaN  "
      ]
     },
     "execution_count": 15,
     "metadata": {},
     "output_type": "execute_result"
    }
   ],
   "source": [
    "fractionalize(act_counts, link_codes + unlink_codes)"
   ]
  },
  {
   "cell_type": "code",
   "execution_count": 16,
   "id": "1916fe9a",
   "metadata": {
    "execution": {
     "iopub.execute_input": "2021-10-19T05:02:01.317856Z",
     "iopub.status.busy": "2021-10-19T05:02:01.259214Z",
     "iopub.status.idle": "2021-10-19T05:02:01.670490Z",
     "shell.execute_reply": "2021-10-19T05:02:01.669398Z"
    }
   },
   "outputs": [
    {
     "data": {
      "image/png": "[encoded data removed]",
      "text/plain": [
       "<Figure size 432x288 with 1 Axes>"
      ]
     },
     "metadata": {
      "needs_background": "light"
     },
     "output_type": "display_data"
    }
   ],
   "source": [
    "plot_bars(fractionalize(act_counts, link_codes + unlink_codes))"
   ]
  },
  {
   "cell_type": "code",
   "execution_count": 17,
   "id": "302d8cb9",
   "metadata": {
    "execution": {
     "iopub.execute_input": "2021-10-19T05:02:01.691383Z",
     "iopub.status.busy": "2021-10-19T05:02:01.690032Z",
     "iopub.status.idle": "2021-10-19T05:02:01.695012Z",
     "shell.execute_reply": "2021-10-19T05:02:01.696118Z"
    }
   },
   "outputs": [
    {
     "data": {
      "text/html": [
       "<div>\n",
       "<style scoped>\n",
       "    .dataframe tbody tr th:only-of-type {\n",
       "        vertical-align: middle;\n",
       "    }\n",
       "\n",
       "    .dataframe tbody tr th {\n",
       "        vertical-align: top;\n",
       "    }\n",
       "\n",
       "    .dataframe thead th {\n",
       "        text-align: right;\n",
       "    }\n",
       "</style>\n",
       "<table border=\"1\" class=\"dataframe\">\n",
       "  <thead>\n",
       "    <tr style=\"text-align: right;\">\n",
       "      <th>gender</th>\n",
       "      <th>female</th>\n",
       "      <th>male</th>\n",
       "      <th>ambiguous</th>\n",
       "      <th>unknown</th>\n",
       "      <th>unlinked</th>\n",
       "    </tr>\n",
       "    <tr>\n",
       "      <th>dataset</th>\n",
       "      <th></th>\n",
       "      <th></th>\n",
       "      <th></th>\n",
       "      <th></th>\n",
       "      <th></th>\n",
       "    </tr>\n",
       "  </thead>\n",
       "  <tbody>\n",
       "    <tr>\n",
       "      <th>AZ</th>\n",
       "      <td>0.193792</td>\n",
       "      <td>0.294916</td>\n",
       "      <td>0.025126</td>\n",
       "      <td>0.093357</td>\n",
       "      <td>0.392809</td>\n",
       "    </tr>\n",
       "    <tr>\n",
       "      <th>BX-E</th>\n",
       "      <td>0.325085</td>\n",
       "      <td>0.434800</td>\n",
       "      <td>0.073050</td>\n",
       "      <td>0.064559</td>\n",
       "      <td>0.102507</td>\n",
       "    </tr>\n",
       "    <tr>\n",
       "      <th>BX-I</th>\n",
       "      <td>0.346758</td>\n",
       "      <td>0.415842</td>\n",
       "      <td>0.069291</td>\n",
       "      <td>0.069165</td>\n",
       "      <td>0.098944</td>\n",
       "    </tr>\n",
       "    <tr>\n",
       "      <th>GR-E</th>\n",
       "      <td>0.357584</td>\n",
       "      <td>0.359953</td>\n",
       "      <td>0.091447</td>\n",
       "      <td>0.040991</td>\n",
       "      <td>0.150025</td>\n",
       "    </tr>\n",
       "    <tr>\n",
       "      <th>GR-I</th>\n",
       "      <td>0.358142</td>\n",
       "      <td>0.334780</td>\n",
       "      <td>0.067624</td>\n",
       "      <td>0.049419</td>\n",
       "      <td>0.190035</td>\n",
       "    </tr>\n",
       "  </tbody>\n",
       "</table>\n",
       "</div>"
      ],
      "text/plain": [
       "gender     female      male  ambiguous   unknown  unlinked\n",
       "dataset                                                   \n",
       "AZ       0.193792  0.294916   0.025126  0.093357  0.392809\n",
       "BX-E     0.325085  0.434800   0.073050  0.064559  0.102507\n",
       "BX-I     0.346758  0.415842   0.069291  0.069165  0.098944\n",
       "GR-E     0.357584  0.359953   0.091447  0.040991  0.150025\n",
       "GR-I     0.358142  0.334780   0.067624  0.049419  0.190035"
      ]
     },
     "execution_count": 17,
     "metadata": {},
     "output_type": "execute_result"
    }
   ],
   "source": [
    "fractionalize(act_counts, link_codes, unlink_codes)"
   ]
  },
  {
   "cell_type": "code",
   "execution_count": 18,
   "id": "a546ee5a",
   "metadata": {
    "execution": {
     "iopub.execute_input": "2021-10-19T05:02:01.889486Z",
     "iopub.status.busy": "2021-10-19T05:02:01.875095Z",
     "iopub.status.idle": "2021-10-19T05:02:02.184764Z",
     "shell.execute_reply": "2021-10-19T05:02:02.185826Z"
    }
   },
   "outputs": [
    {
     "data": {
      "image/png": "[encoded data removed]",
      "text/plain": [
       "<Figure size 432x288 with 1 Axes>"
      ]
     },
     "metadata": {
      "needs_background": "light"
     },
     "output_type": "display_data"
    }
   ],
   "source": [
    "plot_bars(fractionalize(act_counts, link_codes, unlink_codes))"
   ]
  },
  {
   "cell_type": "code",
   "execution_count": 19,
   "id": "6e5cbb7a",
   "metadata": {
    "execution": {
     "iopub.execute_input": "2021-10-19T05:02:02.241277Z",
     "iopub.status.busy": "2021-10-19T05:02:02.226171Z",
     "iopub.status.idle": "2021-10-19T05:02:02.466307Z",
     "shell.execute_reply": "2021-10-19T05:02:02.465149Z"
    }
   },
   "outputs": [
    {
     "data": {
      "image/png": "[encoded data removed]",
      "text/plain": [
       "<Figure size 432x288 with 1 Axes>"
      ]
     },
     "metadata": {
      "needs_background": "light"
     },
     "output_type": "display_data"
    }
   ],
   "source": [
    "plot_bars(fractionalize(act_counts, ['female', 'male']))"
   ]
  },
  {
   "cell_type": "markdown",
   "id": "4a5defa7",
   "metadata": {},
   "source": [
    "## Metrics\n",
    "\n",
    "Finally, we're going to write coverage metrics."
   ]
  },
  {
   "cell_type": "code",
   "execution_count": 20,
   "id": "f8375eec",
   "metadata": {
    "execution": {
     "iopub.execute_input": "2021-10-19T05:02:02.478574Z",
     "iopub.status.busy": "2021-10-19T05:02:02.477224Z",
     "iopub.status.idle": "2021-10-19T05:02:02.481930Z",
     "shell.execute_reply": "2021-10-19T05:02:02.483035Z"
    }
   },
   "outputs": [
    {
     "data": {
      "text/plain": [
       "dataset\n",
       "AZ         0.321101\n",
       "BX-E       0.653716\n",
       "BX-I       0.619381\n",
       "GR-E       0.345447\n",
       "GR-I       0.344747\n",
       "LOC-MDS    0.556842\n",
       "dtype: float64"
      ]
     },
     "execution_count": 20,
     "metadata": {},
     "output_type": "execute_result"
    }
   ],
   "source": [
    "book_tots = book_counts.sum(axis=1)\n",
    "book_link = book_counts['male'] + book_counts['female'] + book_counts['ambiguous']\n",
    "book_cover = book_link / book_tots\n",
    "book_cover"
   ]
  },
  {
   "cell_type": "code",
   "execution_count": 21,
   "id": "9cd373b5",
   "metadata": {
    "execution": {
     "iopub.execute_input": "2021-10-19T05:02:02.490652Z",
     "iopub.status.busy": "2021-10-19T05:02:02.488917Z",
     "iopub.status.idle": "2021-10-19T05:02:02.494432Z",
     "shell.execute_reply": "2021-10-19T05:02:02.493316Z"
    }
   },
   "outputs": [],
   "source": [
    "book_cover.to_json('book-coverage.json')"
   ]
  },
  {
   "cell_type": "code",
   "execution_count": null,
   "id": "27d2dc53",
   "metadata": {},
   "outputs": [],
   "source": []
  }
 ],
 "metadata": {
  "jupytext": {
   "formats": "ipynb,py:percent"
  },
  "kernelspec": {
   "display_name": "Python 3 (ipykernel)",
   "language": "python",
   "name": "python3"
  },
  "language_info": {
   "codemirror_mode": {
    "name": "ipython",
    "version": 3
   },
   "file_extension": ".py",
   "mimetype": "text/x-python",
   "name": "python",
   "nbconvert_exporter": "python",
   "pygments_lexer": "ipython3",
   "version": "3.8.12"
  }
 },
 "nbformat": 4,
 "nbformat_minor": 5
}
