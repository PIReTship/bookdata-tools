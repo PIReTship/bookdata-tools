{
 "cells": [
  {
   "cell_type": "markdown",
   "id": "84de9bc1",
   "metadata": {},
   "source": [
    "# Book Data Linkage Statistics\n",
    "\n",
    "This notebook presents statistics of the book data integration."
   ]
  },
  {
   "cell_type": "markdown",
   "id": "9e375d8f",
   "metadata": {},
   "source": [
    "## Setup"
   ]
  },
  {
   "cell_type": "code",
   "execution_count": 1,
   "id": "b3fff750",
   "metadata": {
    "execution": {
     "iopub.execute_input": "2022-06-03T23:43:58.540659Z",
     "iopub.status.busy": "2022-06-03T23:43:58.540659Z",
     "iopub.status.idle": "2022-06-03T23:44:00.160014Z",
     "shell.execute_reply": "2022-06-03T23:44:00.159168Z"
    },
    "tags": []
   },
   "outputs": [],
   "source": [
    "import pandas as pd\n",
    "import matplotlib as mpl\n",
    "import matplotlib.pyplot as plt\n",
    "import numpy as np"
   ]
  },
  {
   "cell_type": "markdown",
   "id": "64c98dfe",
   "metadata": {},
   "source": [
    "## Load Link Stats\n",
    "\n",
    "We compute dataset linking statitsics as `gender-stats.csv` using DataFusion.  Let's load those:"
   ]
  },
  {
   "cell_type": "code",
   "execution_count": 2,
   "id": "585dba16",
   "metadata": {
    "execution": {
     "iopub.execute_input": "2022-06-03T23:44:00.162014Z",
     "iopub.status.busy": "2022-06-03T23:44:00.162014Z",
     "iopub.status.idle": "2022-06-03T23:44:00.191148Z",
     "shell.execute_reply": "2022-06-03T23:44:00.191148Z"
    },
    "tags": []
   },
   "outputs": [
    {
     "data": {
      "text/html": [
       "<div>\n",
       "<style scoped>\n",
       "    .dataframe tbody tr th:only-of-type {\n",
       "        vertical-align: middle;\n",
       "    }\n",
       "\n",
       "    .dataframe tbody tr th {\n",
       "        vertical-align: top;\n",
       "    }\n",
       "\n",
       "    .dataframe thead th {\n",
       "        text-align: right;\n",
       "    }\n",
       "</style>\n",
       "<table border=\"1\" class=\"dataframe\">\n",
       "  <thead>\n",
       "    <tr style=\"text-align: right;\">\n",
       "      <th></th>\n",
       "      <th>dataset</th>\n",
       "      <th>gender</th>\n",
       "      <th>n_books</th>\n",
       "      <th>n_actions</th>\n",
       "    </tr>\n",
       "  </thead>\n",
       "  <tbody>\n",
       "    <tr>\n",
       "      <th>0</th>\n",
       "      <td>BX-I</td>\n",
       "      <td>male</td>\n",
       "      <td>99680</td>\n",
       "      <td>460479</td>\n",
       "    </tr>\n",
       "    <tr>\n",
       "      <th>1</th>\n",
       "      <td>BX-I</td>\n",
       "      <td>no-author-rec</td>\n",
       "      <td>13543</td>\n",
       "      <td>22286</td>\n",
       "    </tr>\n",
       "    <tr>\n",
       "      <th>2</th>\n",
       "      <td>BX-I</td>\n",
       "      <td>no-book</td>\n",
       "      <td>40633</td>\n",
       "      <td>56245</td>\n",
       "    </tr>\n",
       "    <tr>\n",
       "      <th>3</th>\n",
       "      <td>BX-I</td>\n",
       "      <td>female</td>\n",
       "      <td>69600</td>\n",
       "      <td>401190</td>\n",
       "    </tr>\n",
       "    <tr>\n",
       "      <th>4</th>\n",
       "      <td>BX-I</td>\n",
       "      <td>unknown</td>\n",
       "      <td>31483</td>\n",
       "      <td>69926</td>\n",
       "    </tr>\n",
       "  </tbody>\n",
       "</table>\n",
       "</div>"
      ],
      "text/plain": [
       "  dataset         gender  n_books  n_actions\n",
       "0    BX-I           male    99680     460479\n",
       "1    BX-I  no-author-rec    13543      22286\n",
       "2    BX-I        no-book    40633      56245\n",
       "3    BX-I         female    69600     401190\n",
       "4    BX-I        unknown    31483      69926"
      ]
     },
     "execution_count": 2,
     "metadata": {},
     "output_type": "execute_result"
    }
   ],
   "source": [
    "link_stats = pd.read_csv('book-links/gender-stats.csv')\n",
    "link_stats.head()"
   ]
  },
  {
   "cell_type": "markdown",
   "id": "1475f6b7",
   "metadata": {},
   "source": [
    "Now let's define variables for our variou codes. We are first going to define our gender codes.  We'll start with the resolved codes:"
   ]
  },
  {
   "cell_type": "code",
   "execution_count": 3,
   "id": "140b902a",
   "metadata": {
    "execution": {
     "iopub.execute_input": "2022-06-03T23:44:00.194045Z",
     "iopub.status.busy": "2022-06-03T23:44:00.194045Z",
     "iopub.status.idle": "2022-06-03T23:44:00.208014Z",
     "shell.execute_reply": "2022-06-03T23:44:00.207170Z"
    },
    "tags": []
   },
   "outputs": [],
   "source": [
    "link_codes = ['female', 'male', 'ambiguous', 'unknown']"
   ]
  },
  {
   "cell_type": "markdown",
   "id": "6cbcb155",
   "metadata": {},
   "source": [
    "We want the unlink codes in order, so the last is the first link failure:"
   ]
  },
  {
   "cell_type": "code",
   "execution_count": 4,
   "id": "1ccdbf7d",
   "metadata": {
    "execution": {
     "iopub.execute_input": "2022-06-03T23:44:00.210014Z",
     "iopub.status.busy": "2022-06-03T23:44:00.210014Z",
     "iopub.status.idle": "2022-06-03T23:44:00.224015Z",
     "shell.execute_reply": "2022-06-03T23:44:00.223165Z"
    },
    "tags": []
   },
   "outputs": [],
   "source": [
    "unlink_codes = ['no-author-rec', 'no-book-author', 'no-book']"
   ]
  },
  {
   "cell_type": "code",
   "execution_count": 5,
   "id": "ec826a41",
   "metadata": {
    "execution": {
     "iopub.execute_input": "2022-06-03T23:44:00.226014Z",
     "iopub.status.busy": "2022-06-03T23:44:00.226014Z",
     "iopub.status.idle": "2022-06-03T23:44:00.240695Z",
     "shell.execute_reply": "2022-06-03T23:44:00.239551Z"
    },
    "tags": []
   },
   "outputs": [],
   "source": [
    "all_codes = link_codes + unlink_codes"
   ]
  },
  {
   "cell_type": "markdown",
   "id": "7eb83302",
   "metadata": {},
   "source": [
    "## Processing Statistics\n",
    "\n",
    "Now we'll pivot each of our count columns into a table for easier reference."
   ]
  },
  {
   "cell_type": "code",
   "execution_count": 6,
   "id": "5173920c",
   "metadata": {
    "execution": {
     "iopub.execute_input": "2022-06-03T23:44:00.242723Z",
     "iopub.status.busy": "2022-06-03T23:44:00.242723Z",
     "iopub.status.idle": "2022-06-03T23:44:00.272641Z",
     "shell.execute_reply": "2022-06-03T23:44:00.271622Z"
    },
    "tags": []
   },
   "outputs": [
    {
     "data": {
      "text/html": [
       "<div>\n",
       "<style scoped>\n",
       "    .dataframe tbody tr th:only-of-type {\n",
       "        vertical-align: middle;\n",
       "    }\n",
       "\n",
       "    .dataframe tbody tr th {\n",
       "        vertical-align: top;\n",
       "    }\n",
       "\n",
       "    .dataframe thead th {\n",
       "        text-align: right;\n",
       "    }\n",
       "</style>\n",
       "<table border=\"1\" class=\"dataframe\">\n",
       "  <thead>\n",
       "    <tr style=\"text-align: right;\">\n",
       "      <th>gender</th>\n",
       "      <th>female</th>\n",
       "      <th>male</th>\n",
       "      <th>ambiguous</th>\n",
       "      <th>unknown</th>\n",
       "      <th>no-author-rec</th>\n",
       "      <th>no-book-author</th>\n",
       "      <th>no-book</th>\n",
       "      <th>total</th>\n",
       "    </tr>\n",
       "    <tr>\n",
       "      <th>dataset</th>\n",
       "      <th></th>\n",
       "      <th></th>\n",
       "      <th></th>\n",
       "      <th></th>\n",
       "      <th></th>\n",
       "      <th></th>\n",
       "      <th></th>\n",
       "      <th></th>\n",
       "    </tr>\n",
       "  </thead>\n",
       "  <tbody>\n",
       "    <tr>\n",
       "      <th>AZ</th>\n",
       "      <td>236168.0</td>\n",
       "      <td>521762.0</td>\n",
       "      <td>20721.0</td>\n",
       "      <td>227298.0</td>\n",
       "      <td>157423.0</td>\n",
       "      <td>113652.0</td>\n",
       "      <td>985503.0</td>\n",
       "      <td>2262527.0</td>\n",
       "    </tr>\n",
       "    <tr>\n",
       "      <th>BX-E</th>\n",
       "      <td>39502.0</td>\n",
       "      <td>57121.0</td>\n",
       "      <td>4908.0</td>\n",
       "      <td>15281.0</td>\n",
       "      <td>6675.0</td>\n",
       "      <td>5613.0</td>\n",
       "      <td>20075.0</td>\n",
       "      <td>149175.0</td>\n",
       "    </tr>\n",
       "    <tr>\n",
       "      <th>BX-I</th>\n",
       "      <td>69600.0</td>\n",
       "      <td>99680.0</td>\n",
       "      <td>8320.0</td>\n",
       "      <td>31483.0</td>\n",
       "      <td>13543.0</td>\n",
       "      <td>11350.0</td>\n",
       "      <td>40633.0</td>\n",
       "      <td>274609.0</td>\n",
       "    </tr>\n",
       "    <tr>\n",
       "      <th>GR-E</th>\n",
       "      <td>213587.0</td>\n",
       "      <td>315330.0</td>\n",
       "      <td>15667.0</td>\n",
       "      <td>99441.0</td>\n",
       "      <td>53792.0</td>\n",
       "      <td>787097.0</td>\n",
       "      <td>NaN</td>\n",
       "      <td>1484914.0</td>\n",
       "    </tr>\n",
       "    <tr>\n",
       "      <th>GR-I</th>\n",
       "      <td>215644.0</td>\n",
       "      <td>319211.0</td>\n",
       "      <td>15829.0</td>\n",
       "      <td>101162.0</td>\n",
       "      <td>54836.0</td>\n",
       "      <td>799783.0</td>\n",
       "      <td>NaN</td>\n",
       "      <td>1506465.0</td>\n",
       "    </tr>\n",
       "    <tr>\n",
       "      <th>LOC-MDS</th>\n",
       "      <td>731527.0</td>\n",
       "      <td>2378153.0</td>\n",
       "      <td>67464.0</td>\n",
       "      <td>1114794.0</td>\n",
       "      <td>333197.0</td>\n",
       "      <td>609387.0</td>\n",
       "      <td>NaN</td>\n",
       "      <td>5234522.0</td>\n",
       "    </tr>\n",
       "  </tbody>\n",
       "</table>\n",
       "</div>"
      ],
      "text/plain": [
       "gender     female       male  ambiguous    unknown  no-author-rec  \\\n",
       "dataset                                                             \n",
       "AZ       236168.0   521762.0    20721.0   227298.0       157423.0   \n",
       "BX-E      39502.0    57121.0     4908.0    15281.0         6675.0   \n",
       "BX-I      69600.0    99680.0     8320.0    31483.0        13543.0   \n",
       "GR-E     213587.0   315330.0    15667.0    99441.0        53792.0   \n",
       "GR-I     215644.0   319211.0    15829.0   101162.0        54836.0   \n",
       "LOC-MDS  731527.0  2378153.0    67464.0  1114794.0       333197.0   \n",
       "\n",
       "gender   no-book-author   no-book      total  \n",
       "dataset                                       \n",
       "AZ             113652.0  985503.0  2262527.0  \n",
       "BX-E             5613.0   20075.0   149175.0  \n",
       "BX-I            11350.0   40633.0   274609.0  \n",
       "GR-E           787097.0       NaN  1484914.0  \n",
       "GR-I           799783.0       NaN  1506465.0  \n",
       "LOC-MDS        609387.0       NaN  5234522.0  "
      ]
     },
     "execution_count": 6,
     "metadata": {},
     "output_type": "execute_result"
    }
   ],
   "source": [
    "book_counts = link_stats.pivot('dataset', 'gender', 'n_books')\n",
    "book_counts = book_counts.reindex(columns=all_codes)\n",
    "book_counts.assign(total=book_counts.sum(axis=1))"
   ]
  },
  {
   "cell_type": "code",
   "execution_count": 7,
   "id": "ac6274c2",
   "metadata": {
    "execution": {
     "iopub.execute_input": "2022-06-03T23:44:00.275060Z",
     "iopub.status.busy": "2022-06-03T23:44:00.275060Z",
     "iopub.status.idle": "2022-06-03T23:44:00.288135Z",
     "shell.execute_reply": "2022-06-03T23:44:00.287450Z"
    },
    "tags": []
   },
   "outputs": [
    {
     "data": {
      "text/html": [
       "<div>\n",
       "<style scoped>\n",
       "    .dataframe tbody tr th:only-of-type {\n",
       "        vertical-align: middle;\n",
       "    }\n",
       "\n",
       "    .dataframe tbody tr th {\n",
       "        vertical-align: top;\n",
       "    }\n",
       "\n",
       "    .dataframe thead th {\n",
       "        text-align: right;\n",
       "    }\n",
       "</style>\n",
       "<table border=\"1\" class=\"dataframe\">\n",
       "  <thead>\n",
       "    <tr style=\"text-align: right;\">\n",
       "      <th>gender</th>\n",
       "      <th>female</th>\n",
       "      <th>male</th>\n",
       "      <th>ambiguous</th>\n",
       "      <th>unknown</th>\n",
       "      <th>no-author-rec</th>\n",
       "      <th>no-book-author</th>\n",
       "      <th>no-book</th>\n",
       "    </tr>\n",
       "    <tr>\n",
       "      <th>dataset</th>\n",
       "      <th></th>\n",
       "      <th></th>\n",
       "      <th></th>\n",
       "      <th></th>\n",
       "      <th></th>\n",
       "      <th></th>\n",
       "      <th></th>\n",
       "    </tr>\n",
       "  </thead>\n",
       "  <tbody>\n",
       "    <tr>\n",
       "      <th>AZ</th>\n",
       "      <td>4735384.0</td>\n",
       "      <td>6823116.0</td>\n",
       "      <td>772652.0</td>\n",
       "      <td>2042616.0</td>\n",
       "      <td>989752.0</td>\n",
       "      <td>1278813.0</td>\n",
       "      <td>5798466.0</td>\n",
       "    </tr>\n",
       "    <tr>\n",
       "      <th>BX-E</th>\n",
       "      <td>142522.0</td>\n",
       "      <td>181397.0</td>\n",
       "      <td>39447.0</td>\n",
       "      <td>24706.0</td>\n",
       "      <td>8439.0</td>\n",
       "      <td>7614.0</td>\n",
       "      <td>23084.0</td>\n",
       "    </tr>\n",
       "    <tr>\n",
       "      <th>BX-I</th>\n",
       "      <td>401190.0</td>\n",
       "      <td>460479.0</td>\n",
       "      <td>98666.0</td>\n",
       "      <td>69926.0</td>\n",
       "      <td>22286.0</td>\n",
       "      <td>20420.0</td>\n",
       "      <td>56245.0</td>\n",
       "    </tr>\n",
       "    <tr>\n",
       "      <th>GR-E</th>\n",
       "      <td>36580745.0</td>\n",
       "      <td>33447205.0</td>\n",
       "      <td>12213233.0</td>\n",
       "      <td>3615457.0</td>\n",
       "      <td>1068069.0</td>\n",
       "      <td>12294989.0</td>\n",
       "      <td>NaN</td>\n",
       "    </tr>\n",
       "    <tr>\n",
       "      <th>GR-I</th>\n",
       "      <td>82755277.0</td>\n",
       "      <td>69995648.0</td>\n",
       "      <td>20014815.0</td>\n",
       "      <td>10084435.0</td>\n",
       "      <td>3417858.0</td>\n",
       "      <td>33273918.0</td>\n",
       "      <td>NaN</td>\n",
       "    </tr>\n",
       "  </tbody>\n",
       "</table>\n",
       "</div>"
      ],
      "text/plain": [
       "gender       female        male   ambiguous     unknown  no-author-rec  \\\n",
       "dataset                                                                  \n",
       "AZ        4735384.0   6823116.0    772652.0   2042616.0       989752.0   \n",
       "BX-E       142522.0    181397.0     39447.0     24706.0         8439.0   \n",
       "BX-I       401190.0    460479.0     98666.0     69926.0        22286.0   \n",
       "GR-E     36580745.0  33447205.0  12213233.0   3615457.0      1068069.0   \n",
       "GR-I     82755277.0  69995648.0  20014815.0  10084435.0      3417858.0   \n",
       "\n",
       "gender   no-book-author    no-book  \n",
       "dataset                             \n",
       "AZ            1278813.0  5798466.0  \n",
       "BX-E             7614.0    23084.0  \n",
       "BX-I            20420.0    56245.0  \n",
       "GR-E         12294989.0        NaN  \n",
       "GR-I         33273918.0        NaN  "
      ]
     },
     "execution_count": 7,
     "metadata": {},
     "output_type": "execute_result"
    }
   ],
   "source": [
    "act_counts = link_stats.pivot('dataset', 'gender', 'n_actions')\n",
    "act_counts = act_counts.reindex(columns=all_codes)\n",
    "act_counts.drop(index='LOC-MDS', inplace=True)\n",
    "act_counts"
   ]
  },
  {
   "cell_type": "markdown",
   "id": "4b479553",
   "metadata": {},
   "source": [
    "We're going to want to compute versions of this table as fractions, e.g. the fraction of books that are written by women.  We will use the following helper function:"
   ]
  },
  {
   "cell_type": "code",
   "execution_count": 8,
   "id": "7003dbf9",
   "metadata": {
    "execution": {
     "iopub.execute_input": "2022-06-03T23:44:00.290134Z",
     "iopub.status.busy": "2022-06-03T23:44:00.290134Z",
     "iopub.status.idle": "2022-06-03T23:44:00.304134Z",
     "shell.execute_reply": "2022-06-03T23:44:00.303162Z"
    }
   },
   "outputs": [],
   "source": [
    "def fractionalize(data, columns, unlinked=None):\n",
    "    fracs = data[columns]\n",
    "    fracs.columns = fracs.columns.astype('str')\n",
    "    if unlinked:\n",
    "        fracs = fracs.assign(unlinked=data[unlinked].sum(axis=1))\n",
    "    totals = fracs.sum(axis=1)\n",
    "    return fracs.divide(totals, axis=0)"
   ]
  },
  {
   "cell_type": "markdown",
   "id": "3761fe2b",
   "metadata": {},
   "source": [
    "And a helper function for plotting bar charts:"
   ]
  },
  {
   "cell_type": "code",
   "execution_count": 9,
   "id": "b3012cf7",
   "metadata": {
    "execution": {
     "iopub.execute_input": "2022-06-03T23:44:00.306134Z",
     "iopub.status.busy": "2022-06-03T23:44:00.306134Z",
     "iopub.status.idle": "2022-06-03T23:44:00.319180Z",
     "shell.execute_reply": "2022-06-03T23:44:00.318500Z"
    }
   },
   "outputs": [],
   "source": [
    "def plot_bars(fracs, ax=None, cmap=mpl.cm.Dark2):\n",
    "    if ax is None:\n",
    "        ax = plt.gca()\n",
    "    size = 0.5\n",
    "    ind = np.arange(len(fracs))\n",
    "    start = pd.Series(0, index=fracs.index)\n",
    "    for i, col in enumerate(fracs.columns):\n",
    "        vals = fracs.iloc[:, i]\n",
    "        rects = ax.barh(ind, vals, size, left=start, label=col, color=cmap(i))\n",
    "        for j, rec in enumerate(rects):\n",
    "            if vals.iloc[j] < 0.1 or np.isnan(vals.iloc[j]): continue\n",
    "            y = rec.get_y() + rec.get_height() / 2\n",
    "            x = start.iloc[j] + vals.iloc[j] / 2\n",
    "            ax.annotate('{:.1f}%'.format(vals.iloc[j] * 100),\n",
    "                        xy=(x,y), ha='center', va='center', color='white',\n",
    "                        fontweight='bold')\n",
    "        start += vals.fillna(0)\n",
    "    ax.set_xlabel('Fraction of Books')\n",
    "    ax.set_ylabel('Data Set')\n",
    "    ax.set_yticks(ind)\n",
    "    ax.set_yticklabels(fracs.index)\n",
    "    ax.legend(loc='center left', bbox_to_anchor=(1, 0.5))"
   ]
  },
  {
   "cell_type": "markdown",
   "id": "3e8a25e4",
   "metadata": {},
   "source": [
    "## Resolution of Books\n",
    "\n",
    "What fraction of *unique books* are resolved from each source?"
   ]
  },
  {
   "cell_type": "code",
   "execution_count": 10,
   "id": "7185cfe5",
   "metadata": {
    "execution": {
     "iopub.execute_input": "2022-06-03T23:44:00.322188Z",
     "iopub.status.busy": "2022-06-03T23:44:00.321175Z",
     "iopub.status.idle": "2022-06-03T23:44:00.335212Z",
     "shell.execute_reply": "2022-06-03T23:44:00.334175Z"
    }
   },
   "outputs": [
    {
     "data": {
      "text/html": [
       "<div>\n",
       "<style scoped>\n",
       "    .dataframe tbody tr th:only-of-type {\n",
       "        vertical-align: middle;\n",
       "    }\n",
       "\n",
       "    .dataframe tbody tr th {\n",
       "        vertical-align: top;\n",
       "    }\n",
       "\n",
       "    .dataframe thead th {\n",
       "        text-align: right;\n",
       "    }\n",
       "</style>\n",
       "<table border=\"1\" class=\"dataframe\">\n",
       "  <thead>\n",
       "    <tr style=\"text-align: right;\">\n",
       "      <th>gender</th>\n",
       "      <th>female</th>\n",
       "      <th>male</th>\n",
       "      <th>ambiguous</th>\n",
       "      <th>unknown</th>\n",
       "      <th>no-author-rec</th>\n",
       "      <th>no-book-author</th>\n",
       "      <th>no-book</th>\n",
       "    </tr>\n",
       "    <tr>\n",
       "      <th>dataset</th>\n",
       "      <th></th>\n",
       "      <th></th>\n",
       "      <th></th>\n",
       "      <th></th>\n",
       "      <th></th>\n",
       "      <th></th>\n",
       "      <th></th>\n",
       "    </tr>\n",
       "  </thead>\n",
       "  <tbody>\n",
       "    <tr>\n",
       "      <th>AZ</th>\n",
       "      <td>0.104382</td>\n",
       "      <td>0.230610</td>\n",
       "      <td>0.009158</td>\n",
       "      <td>0.100462</td>\n",
       "      <td>0.069578</td>\n",
       "      <td>0.050232</td>\n",
       "      <td>0.435576</td>\n",
       "    </tr>\n",
       "    <tr>\n",
       "      <th>BX-E</th>\n",
       "      <td>0.264803</td>\n",
       "      <td>0.382913</td>\n",
       "      <td>0.032901</td>\n",
       "      <td>0.102437</td>\n",
       "      <td>0.044746</td>\n",
       "      <td>0.037627</td>\n",
       "      <td>0.134573</td>\n",
       "    </tr>\n",
       "    <tr>\n",
       "      <th>BX-I</th>\n",
       "      <td>0.253451</td>\n",
       "      <td>0.362989</td>\n",
       "      <td>0.030298</td>\n",
       "      <td>0.114647</td>\n",
       "      <td>0.049317</td>\n",
       "      <td>0.041331</td>\n",
       "      <td>0.147967</td>\n",
       "    </tr>\n",
       "    <tr>\n",
       "      <th>GR-E</th>\n",
       "      <td>0.143838</td>\n",
       "      <td>0.212356</td>\n",
       "      <td>0.010551</td>\n",
       "      <td>0.066968</td>\n",
       "      <td>0.036226</td>\n",
       "      <td>0.530062</td>\n",
       "      <td>NaN</td>\n",
       "    </tr>\n",
       "    <tr>\n",
       "      <th>GR-I</th>\n",
       "      <td>0.143146</td>\n",
       "      <td>0.211894</td>\n",
       "      <td>0.010507</td>\n",
       "      <td>0.067152</td>\n",
       "      <td>0.036400</td>\n",
       "      <td>0.530900</td>\n",
       "      <td>NaN</td>\n",
       "    </tr>\n",
       "    <tr>\n",
       "      <th>LOC-MDS</th>\n",
       "      <td>0.139750</td>\n",
       "      <td>0.454321</td>\n",
       "      <td>0.012888</td>\n",
       "      <td>0.212970</td>\n",
       "      <td>0.063654</td>\n",
       "      <td>0.116417</td>\n",
       "      <td>NaN</td>\n",
       "    </tr>\n",
       "  </tbody>\n",
       "</table>\n",
       "</div>"
      ],
      "text/plain": [
       "gender     female      male  ambiguous   unknown  no-author-rec  \\\n",
       "dataset                                                           \n",
       "AZ       0.104382  0.230610   0.009158  0.100462       0.069578   \n",
       "BX-E     0.264803  0.382913   0.032901  0.102437       0.044746   \n",
       "BX-I     0.253451  0.362989   0.030298  0.114647       0.049317   \n",
       "GR-E     0.143838  0.212356   0.010551  0.066968       0.036226   \n",
       "GR-I     0.143146  0.211894   0.010507  0.067152       0.036400   \n",
       "LOC-MDS  0.139750  0.454321   0.012888  0.212970       0.063654   \n",
       "\n",
       "gender   no-book-author   no-book  \n",
       "dataset                            \n",
       "AZ             0.050232  0.435576  \n",
       "BX-E           0.037627  0.134573  \n",
       "BX-I           0.041331  0.147967  \n",
       "GR-E           0.530062       NaN  \n",
       "GR-I           0.530900       NaN  \n",
       "LOC-MDS        0.116417       NaN  "
      ]
     },
     "execution_count": 10,
     "metadata": {},
     "output_type": "execute_result"
    }
   ],
   "source": [
    "fractionalize(book_counts, link_codes + unlink_codes)"
   ]
  },
  {
   "cell_type": "code",
   "execution_count": 11,
   "id": "c5a46fa8",
   "metadata": {
    "execution": {
     "iopub.execute_input": "2022-06-03T23:44:00.338176Z",
     "iopub.status.busy": "2022-06-03T23:44:00.338176Z",
     "iopub.status.idle": "2022-06-03T23:44:00.650002Z",
     "shell.execute_reply": "2022-06-03T23:44:00.649008Z"
    }
   },
   "outputs": [
    {
     "data": {
      "image/png": "[encoded data removed]",
      "text/plain": [
       "<Figure size 432x288 with 1 Axes>"
      ]
     },
     "metadata": {
      "needs_background": "light"
     },
     "output_type": "display_data"
    }
   ],
   "source": [
    "plot_bars(fractionalize(book_counts, link_codes + unlink_codes))"
   ]
  },
  {
   "cell_type": "code",
   "execution_count": 12,
   "id": "1c3bf716",
   "metadata": {
    "execution": {
     "iopub.execute_input": "2022-06-03T23:44:00.652001Z",
     "iopub.status.busy": "2022-06-03T23:44:00.652001Z",
     "iopub.status.idle": "2022-06-03T23:44:00.665007Z",
     "shell.execute_reply": "2022-06-03T23:44:00.665007Z"
    }
   },
   "outputs": [
    {
     "data": {
      "text/html": [
       "<div>\n",
       "<style scoped>\n",
       "    .dataframe tbody tr th:only-of-type {\n",
       "        vertical-align: middle;\n",
       "    }\n",
       "\n",
       "    .dataframe tbody tr th {\n",
       "        vertical-align: top;\n",
       "    }\n",
       "\n",
       "    .dataframe thead th {\n",
       "        text-align: right;\n",
       "    }\n",
       "</style>\n",
       "<table border=\"1\" class=\"dataframe\">\n",
       "  <thead>\n",
       "    <tr style=\"text-align: right;\">\n",
       "      <th>gender</th>\n",
       "      <th>female</th>\n",
       "      <th>male</th>\n",
       "      <th>ambiguous</th>\n",
       "      <th>unknown</th>\n",
       "      <th>unlinked</th>\n",
       "    </tr>\n",
       "    <tr>\n",
       "      <th>dataset</th>\n",
       "      <th></th>\n",
       "      <th></th>\n",
       "      <th></th>\n",
       "      <th></th>\n",
       "      <th></th>\n",
       "    </tr>\n",
       "  </thead>\n",
       "  <tbody>\n",
       "    <tr>\n",
       "      <th>AZ</th>\n",
       "      <td>0.104382</td>\n",
       "      <td>0.230610</td>\n",
       "      <td>0.009158</td>\n",
       "      <td>0.100462</td>\n",
       "      <td>0.555387</td>\n",
       "    </tr>\n",
       "    <tr>\n",
       "      <th>BX-E</th>\n",
       "      <td>0.264803</td>\n",
       "      <td>0.382913</td>\n",
       "      <td>0.032901</td>\n",
       "      <td>0.102437</td>\n",
       "      <td>0.216947</td>\n",
       "    </tr>\n",
       "    <tr>\n",
       "      <th>BX-I</th>\n",
       "      <td>0.253451</td>\n",
       "      <td>0.362989</td>\n",
       "      <td>0.030298</td>\n",
       "      <td>0.114647</td>\n",
       "      <td>0.238616</td>\n",
       "    </tr>\n",
       "    <tr>\n",
       "      <th>GR-E</th>\n",
       "      <td>0.143838</td>\n",
       "      <td>0.212356</td>\n",
       "      <td>0.010551</td>\n",
       "      <td>0.066968</td>\n",
       "      <td>0.566288</td>\n",
       "    </tr>\n",
       "    <tr>\n",
       "      <th>GR-I</th>\n",
       "      <td>0.143146</td>\n",
       "      <td>0.211894</td>\n",
       "      <td>0.010507</td>\n",
       "      <td>0.067152</td>\n",
       "      <td>0.567301</td>\n",
       "    </tr>\n",
       "    <tr>\n",
       "      <th>LOC-MDS</th>\n",
       "      <td>0.139750</td>\n",
       "      <td>0.454321</td>\n",
       "      <td>0.012888</td>\n",
       "      <td>0.212970</td>\n",
       "      <td>0.180071</td>\n",
       "    </tr>\n",
       "  </tbody>\n",
       "</table>\n",
       "</div>"
      ],
      "text/plain": [
       "gender     female      male  ambiguous   unknown  unlinked\n",
       "dataset                                                   \n",
       "AZ       0.104382  0.230610   0.009158  0.100462  0.555387\n",
       "BX-E     0.264803  0.382913   0.032901  0.102437  0.216947\n",
       "BX-I     0.253451  0.362989   0.030298  0.114647  0.238616\n",
       "GR-E     0.143838  0.212356   0.010551  0.066968  0.566288\n",
       "GR-I     0.143146  0.211894   0.010507  0.067152  0.567301\n",
       "LOC-MDS  0.139750  0.454321   0.012888  0.212970  0.180071"
      ]
     },
     "execution_count": 12,
     "metadata": {},
     "output_type": "execute_result"
    }
   ],
   "source": [
    "fractionalize(book_counts, link_codes, unlink_codes)"
   ]
  },
  {
   "cell_type": "code",
   "execution_count": 13,
   "id": "90165218",
   "metadata": {
    "execution": {
     "iopub.execute_input": "2022-06-03T23:44:00.668002Z",
     "iopub.status.busy": "2022-06-03T23:44:00.668002Z",
     "iopub.status.idle": "2022-06-03T23:44:00.853009Z",
     "shell.execute_reply": "2022-06-03T23:44:00.853009Z"
    }
   },
   "outputs": [
    {
     "data": {
      "image/png": "[encoded data removed]",
      "text/plain": [
       "<Figure size 432x288 with 1 Axes>"
      ]
     },
     "metadata": {
      "needs_background": "light"
     },
     "output_type": "display_data"
    }
   ],
   "source": [
    "plot_bars(fractionalize(book_counts, link_codes, unlink_codes))"
   ]
  },
  {
   "cell_type": "code",
   "execution_count": 14,
   "id": "81806c64",
   "metadata": {
    "execution": {
     "iopub.execute_input": "2022-06-03T23:44:00.855000Z",
     "iopub.status.busy": "2022-06-03T23:44:00.855000Z",
     "iopub.status.idle": "2022-06-03T23:44:00.994744Z",
     "shell.execute_reply": "2022-06-03T23:44:00.994744Z"
    }
   },
   "outputs": [
    {
     "data": {
      "image/png": "[encoded data removed]",
      "text/plain": [
       "<Figure size 432x288 with 1 Axes>"
      ]
     },
     "metadata": {
      "needs_background": "light"
     },
     "output_type": "display_data"
    }
   ],
   "source": [
    "plot_bars(fractionalize(book_counts, ['female', 'male']))"
   ]
  },
  {
   "cell_type": "markdown",
   "id": "d8df3c1a",
   "metadata": {},
   "source": [
    "## Resolution of Ratings\n",
    "\n",
    "What fraction of *rating actions* have each resolution result?"
   ]
  },
  {
   "cell_type": "code",
   "execution_count": 15,
   "id": "0411a525",
   "metadata": {
    "execution": {
     "iopub.execute_input": "2022-06-03T23:44:00.997745Z",
     "iopub.status.busy": "2022-06-03T23:44:00.997745Z",
     "iopub.status.idle": "2022-06-03T23:44:01.010743Z",
     "shell.execute_reply": "2022-06-03T23:44:01.010743Z"
    }
   },
   "outputs": [
    {
     "data": {
      "text/html": [
       "<div>\n",
       "<style scoped>\n",
       "    .dataframe tbody tr th:only-of-type {\n",
       "        vertical-align: middle;\n",
       "    }\n",
       "\n",
       "    .dataframe tbody tr th {\n",
       "        vertical-align: top;\n",
       "    }\n",
       "\n",
       "    .dataframe thead th {\n",
       "        text-align: right;\n",
       "    }\n",
       "</style>\n",
       "<table border=\"1\" class=\"dataframe\">\n",
       "  <thead>\n",
       "    <tr style=\"text-align: right;\">\n",
       "      <th>gender</th>\n",
       "      <th>female</th>\n",
       "      <th>male</th>\n",
       "      <th>ambiguous</th>\n",
       "      <th>unknown</th>\n",
       "      <th>no-author-rec</th>\n",
       "      <th>no-book-author</th>\n",
       "      <th>no-book</th>\n",
       "    </tr>\n",
       "    <tr>\n",
       "      <th>dataset</th>\n",
       "      <th></th>\n",
       "      <th></th>\n",
       "      <th></th>\n",
       "      <th></th>\n",
       "      <th></th>\n",
       "      <th></th>\n",
       "      <th></th>\n",
       "    </tr>\n",
       "  </thead>\n",
       "  <tbody>\n",
       "    <tr>\n",
       "      <th>AZ</th>\n",
       "      <td>0.211017</td>\n",
       "      <td>0.304050</td>\n",
       "      <td>0.034431</td>\n",
       "      <td>0.091022</td>\n",
       "      <td>0.044105</td>\n",
       "      <td>0.056986</td>\n",
       "      <td>0.258389</td>\n",
       "    </tr>\n",
       "    <tr>\n",
       "      <th>BX-E</th>\n",
       "      <td>0.333612</td>\n",
       "      <td>0.424610</td>\n",
       "      <td>0.092337</td>\n",
       "      <td>0.057831</td>\n",
       "      <td>0.019754</td>\n",
       "      <td>0.017823</td>\n",
       "      <td>0.054034</td>\n",
       "    </tr>\n",
       "    <tr>\n",
       "      <th>BX-I</th>\n",
       "      <td>0.355283</td>\n",
       "      <td>0.407788</td>\n",
       "      <td>0.087376</td>\n",
       "      <td>0.061925</td>\n",
       "      <td>0.019736</td>\n",
       "      <td>0.018083</td>\n",
       "      <td>0.049809</td>\n",
       "    </tr>\n",
       "    <tr>\n",
       "      <th>GR-E</th>\n",
       "      <td>0.368684</td>\n",
       "      <td>0.337102</td>\n",
       "      <td>0.123093</td>\n",
       "      <td>0.036439</td>\n",
       "      <td>0.010765</td>\n",
       "      <td>0.123917</td>\n",
       "      <td>NaN</td>\n",
       "    </tr>\n",
       "    <tr>\n",
       "      <th>GR-I</th>\n",
       "      <td>0.376945</td>\n",
       "      <td>0.318826</td>\n",
       "      <td>0.091166</td>\n",
       "      <td>0.045934</td>\n",
       "      <td>0.015568</td>\n",
       "      <td>0.151561</td>\n",
       "      <td>NaN</td>\n",
       "    </tr>\n",
       "  </tbody>\n",
       "</table>\n",
       "</div>"
      ],
      "text/plain": [
       "gender     female      male  ambiguous   unknown  no-author-rec  \\\n",
       "dataset                                                           \n",
       "AZ       0.211017  0.304050   0.034431  0.091022       0.044105   \n",
       "BX-E     0.333612  0.424610   0.092337  0.057831       0.019754   \n",
       "BX-I     0.355283  0.407788   0.087376  0.061925       0.019736   \n",
       "GR-E     0.368684  0.337102   0.123093  0.036439       0.010765   \n",
       "GR-I     0.376945  0.318826   0.091166  0.045934       0.015568   \n",
       "\n",
       "gender   no-book-author   no-book  \n",
       "dataset                            \n",
       "AZ             0.056986  0.258389  \n",
       "BX-E           0.017823  0.054034  \n",
       "BX-I           0.018083  0.049809  \n",
       "GR-E           0.123917       NaN  \n",
       "GR-I           0.151561       NaN  "
      ]
     },
     "execution_count": 15,
     "metadata": {},
     "output_type": "execute_result"
    }
   ],
   "source": [
    "fractionalize(act_counts, link_codes + unlink_codes)"
   ]
  },
  {
   "cell_type": "code",
   "execution_count": 16,
   "id": "f45f42c9",
   "metadata": {
    "execution": {
     "iopub.execute_input": "2022-06-03T23:44:01.013745Z",
     "iopub.status.busy": "2022-06-03T23:44:01.013745Z",
     "iopub.status.idle": "2022-06-03T23:44:01.186331Z",
     "shell.execute_reply": "2022-06-03T23:44:01.186331Z"
    }
   },
   "outputs": [
    {
     "data": {
      "image/png": "[encoded data removed]",
      "text/plain": [
       "<Figure size 432x288 with 1 Axes>"
      ]
     },
     "metadata": {
      "needs_background": "light"
     },
     "output_type": "display_data"
    }
   ],
   "source": [
    "plot_bars(fractionalize(act_counts, link_codes + unlink_codes))"
   ]
  },
  {
   "cell_type": "code",
   "execution_count": 17,
   "id": "911c2a36",
   "metadata": {
    "execution": {
     "iopub.execute_input": "2022-06-03T23:44:01.189336Z",
     "iopub.status.busy": "2022-06-03T23:44:01.189336Z",
     "iopub.status.idle": "2022-06-03T23:44:01.201339Z",
     "shell.execute_reply": "2022-06-03T23:44:01.201339Z"
    }
   },
   "outputs": [
    {
     "data": {
      "text/html": [
       "<div>\n",
       "<style scoped>\n",
       "    .dataframe tbody tr th:only-of-type {\n",
       "        vertical-align: middle;\n",
       "    }\n",
       "\n",
       "    .dataframe tbody tr th {\n",
       "        vertical-align: top;\n",
       "    }\n",
       "\n",
       "    .dataframe thead th {\n",
       "        text-align: right;\n",
       "    }\n",
       "</style>\n",
       "<table border=\"1\" class=\"dataframe\">\n",
       "  <thead>\n",
       "    <tr style=\"text-align: right;\">\n",
       "      <th>gender</th>\n",
       "      <th>female</th>\n",
       "      <th>male</th>\n",
       "      <th>ambiguous</th>\n",
       "      <th>unknown</th>\n",
       "      <th>unlinked</th>\n",
       "    </tr>\n",
       "    <tr>\n",
       "      <th>dataset</th>\n",
       "      <th></th>\n",
       "      <th></th>\n",
       "      <th></th>\n",
       "      <th></th>\n",
       "      <th></th>\n",
       "    </tr>\n",
       "  </thead>\n",
       "  <tbody>\n",
       "    <tr>\n",
       "      <th>AZ</th>\n",
       "      <td>0.211017</td>\n",
       "      <td>0.304050</td>\n",
       "      <td>0.034431</td>\n",
       "      <td>0.091022</td>\n",
       "      <td>0.359481</td>\n",
       "    </tr>\n",
       "    <tr>\n",
       "      <th>BX-E</th>\n",
       "      <td>0.333612</td>\n",
       "      <td>0.424610</td>\n",
       "      <td>0.092337</td>\n",
       "      <td>0.057831</td>\n",
       "      <td>0.091611</td>\n",
       "    </tr>\n",
       "    <tr>\n",
       "      <th>BX-I</th>\n",
       "      <td>0.355283</td>\n",
       "      <td>0.407788</td>\n",
       "      <td>0.087376</td>\n",
       "      <td>0.061925</td>\n",
       "      <td>0.087628</td>\n",
       "    </tr>\n",
       "    <tr>\n",
       "      <th>GR-E</th>\n",
       "      <td>0.368684</td>\n",
       "      <td>0.337102</td>\n",
       "      <td>0.123093</td>\n",
       "      <td>0.036439</td>\n",
       "      <td>0.134682</td>\n",
       "    </tr>\n",
       "    <tr>\n",
       "      <th>GR-I</th>\n",
       "      <td>0.376945</td>\n",
       "      <td>0.318826</td>\n",
       "      <td>0.091166</td>\n",
       "      <td>0.045934</td>\n",
       "      <td>0.167129</td>\n",
       "    </tr>\n",
       "  </tbody>\n",
       "</table>\n",
       "</div>"
      ],
      "text/plain": [
       "gender     female      male  ambiguous   unknown  unlinked\n",
       "dataset                                                   \n",
       "AZ       0.211017  0.304050   0.034431  0.091022  0.359481\n",
       "BX-E     0.333612  0.424610   0.092337  0.057831  0.091611\n",
       "BX-I     0.355283  0.407788   0.087376  0.061925  0.087628\n",
       "GR-E     0.368684  0.337102   0.123093  0.036439  0.134682\n",
       "GR-I     0.376945  0.318826   0.091166  0.045934  0.167129"
      ]
     },
     "execution_count": 17,
     "metadata": {},
     "output_type": "execute_result"
    }
   ],
   "source": [
    "fractionalize(act_counts, link_codes, unlink_codes)"
   ]
  },
  {
   "cell_type": "code",
   "execution_count": 18,
   "id": "73bb0845",
   "metadata": {
    "execution": {
     "iopub.execute_input": "2022-06-03T23:44:01.204334Z",
     "iopub.status.busy": "2022-06-03T23:44:01.204334Z",
     "iopub.status.idle": "2022-06-03T23:44:01.360337Z",
     "shell.execute_reply": "2022-06-03T23:44:01.360337Z"
    }
   },
   "outputs": [
    {
     "data": {
      "image/png": "[encoded data removed]",
      "text/plain": [
       "<Figure size 432x288 with 1 Axes>"
      ]
     },
     "metadata": {
      "needs_background": "light"
     },
     "output_type": "display_data"
    }
   ],
   "source": [
    "plot_bars(fractionalize(act_counts, link_codes, unlink_codes))"
   ]
  },
  {
   "cell_type": "code",
   "execution_count": 19,
   "id": "0315740c",
   "metadata": {
    "execution": {
     "iopub.execute_input": "2022-06-03T23:44:01.363331Z",
     "iopub.status.busy": "2022-06-03T23:44:01.363331Z",
     "iopub.status.idle": "2022-06-03T23:44:01.488336Z",
     "shell.execute_reply": "2022-06-03T23:44:01.488336Z"
    }
   },
   "outputs": [
    {
     "data": {
      "image/png": "[encoded data removed]",
      "text/plain": [
       "<Figure size 432x288 with 1 Axes>"
      ]
     },
     "metadata": {
      "needs_background": "light"
     },
     "output_type": "display_data"
    }
   ],
   "source": [
    "plot_bars(fractionalize(act_counts, ['female', 'male']))"
   ]
  },
  {
   "cell_type": "markdown",
   "id": "ea046d33",
   "metadata": {},
   "source": [
    "## Metrics\n",
    "\n",
    "Finally, we're going to write coverage metrics."
   ]
  },
  {
   "cell_type": "code",
   "execution_count": 20,
   "id": "17798d50",
   "metadata": {
    "execution": {
     "iopub.execute_input": "2022-06-03T23:44:01.491330Z",
     "iopub.status.busy": "2022-06-03T23:44:01.491330Z",
     "iopub.status.idle": "2022-06-03T23:44:01.504345Z",
     "shell.execute_reply": "2022-06-03T23:44:01.503336Z"
    }
   },
   "outputs": [
    {
     "data": {
      "text/plain": [
       "dataset\n",
       "AZ         0.344151\n",
       "BX-E       0.680617\n",
       "BX-I       0.646738\n",
       "GR-E       0.366744\n",
       "GR-I       0.365547\n",
       "LOC-MDS    0.606960\n",
       "dtype: float64"
      ]
     },
     "execution_count": 20,
     "metadata": {},
     "output_type": "execute_result"
    }
   ],
   "source": [
    "book_tots = book_counts.sum(axis=1)\n",
    "book_link = book_counts['male'] + book_counts['female'] + book_counts['ambiguous']\n",
    "book_cover = book_link / book_tots\n",
    "book_cover"
   ]
  },
  {
   "cell_type": "code",
   "execution_count": 21,
   "id": "f9870d3b",
   "metadata": {
    "execution": {
     "iopub.execute_input": "2022-06-03T23:44:01.506329Z",
     "iopub.status.busy": "2022-06-03T23:44:01.506329Z",
     "iopub.status.idle": "2022-06-03T23:44:01.519337Z",
     "shell.execute_reply": "2022-06-03T23:44:01.519337Z"
    }
   },
   "outputs": [],
   "source": [
    "book_cover.to_json('book-coverage.json')"
   ]
  },
  {
   "cell_type": "code",
   "execution_count": null,
   "id": "670fe669",
   "metadata": {},
   "outputs": [],
   "source": []
  }
 ],
 "metadata": {
  "jupytext": {
   "formats": "ipynb,py:percent"
  },
  "kernelspec": {
   "display_name": "Python 3 (ipykernel)",
   "language": "python",
   "name": "python3"
  },
  "language_info": {
   "codemirror_mode": {
    "name": "ipython",
    "version": 3
   },
   "file_extension": ".py",
   "mimetype": "text/x-python",
   "name": "python",
   "nbconvert_exporter": "python",
   "pygments_lexer": "ipython3",
   "version": "3.8.12"
  }
 },
 "nbformat": 4,
 "nbformat_minor": 5
}
