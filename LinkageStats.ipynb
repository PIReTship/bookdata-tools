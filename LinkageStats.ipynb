{
 "cells": [
  {
   "cell_type": "markdown",
   "id": "8a838d3e",
   "metadata": {},
   "source": [
    "# Book Data Linkage Statistics\n",
    "\n",
    "This notebook presents statistics of the book data integration."
   ]
  },
  {
   "cell_type": "markdown",
   "id": "53cb41e9",
   "metadata": {},
   "source": [
    "## Setup"
   ]
  },
  {
   "cell_type": "code",
   "execution_count": 1,
   "id": "5d1b57ab",
   "metadata": {
    "execution": {
     "iopub.execute_input": "2021-10-02T00:09:17.987414Z",
     "iopub.status.busy": "2021-10-02T00:09:17.985890Z",
     "iopub.status.idle": "2021-10-02T00:09:23.192852Z",
     "shell.execute_reply": "2021-10-02T00:09:23.191439Z"
    },
    "tags": []
   },
   "outputs": [],
   "source": [
    "import pandas as pd\n",
    "import seaborn as sns\n",
    "import matplotlib as mpl\n",
    "import matplotlib.pyplot as plt\n",
    "import numpy as np"
   ]
  },
  {
   "cell_type": "markdown",
   "id": "40337de4",
   "metadata": {},
   "source": [
    "## Load Link Stats\n",
    "\n",
    "We compute dataset linking statitsics as `gender-stats.csv` using DataFusion.  Let's load those:"
   ]
  },
  {
   "cell_type": "code",
   "execution_count": 2,
   "id": "dd9f746f",
   "metadata": {
    "execution": {
     "iopub.execute_input": "2021-10-02T00:09:23.205861Z",
     "iopub.status.busy": "2021-10-02T00:09:23.204482Z",
     "iopub.status.idle": "2021-10-02T00:09:23.235847Z",
     "shell.execute_reply": "2021-10-02T00:09:23.236990Z"
    },
    "tags": []
   },
   "outputs": [
    {
     "data": {
      "text/html": [
       "<div>\n",
       "<style scoped>\n",
       "    .dataframe tbody tr th:only-of-type {\n",
       "        vertical-align: middle;\n",
       "    }\n",
       "\n",
       "    .dataframe tbody tr th {\n",
       "        vertical-align: top;\n",
       "    }\n",
       "\n",
       "    .dataframe thead th {\n",
       "        text-align: right;\n",
       "    }\n",
       "</style>\n",
       "<table border=\"1\" class=\"dataframe\">\n",
       "  <thead>\n",
       "    <tr style=\"text-align: right;\">\n",
       "      <th></th>\n",
       "      <th>dataset</th>\n",
       "      <th>gender</th>\n",
       "      <th>n_books</th>\n",
       "      <th>n_actions</th>\n",
       "    </tr>\n",
       "  </thead>\n",
       "  <tbody>\n",
       "    <tr>\n",
       "      <th>0</th>\n",
       "      <td>BX-E</td>\n",
       "      <td>ambiguous</td>\n",
       "      <td>8703</td>\n",
       "      <td>81553</td>\n",
       "    </tr>\n",
       "    <tr>\n",
       "      <th>1</th>\n",
       "      <td>BX-E</td>\n",
       "      <td>no-author-rec</td>\n",
       "      <td>6249</td>\n",
       "      <td>7989</td>\n",
       "    </tr>\n",
       "    <tr>\n",
       "      <th>2</th>\n",
       "      <td>BX-E</td>\n",
       "      <td>unknown</td>\n",
       "      <td>13471</td>\n",
       "      <td>17995</td>\n",
       "    </tr>\n",
       "    <tr>\n",
       "      <th>3</th>\n",
       "      <td>BX-E</td>\n",
       "      <td>female</td>\n",
       "      <td>24159</td>\n",
       "      <td>45730</td>\n",
       "    </tr>\n",
       "    <tr>\n",
       "      <th>4</th>\n",
       "      <td>BX-E</td>\n",
       "      <td>no-book-author</td>\n",
       "      <td>7053</td>\n",
       "      <td>10744</td>\n",
       "    </tr>\n",
       "  </tbody>\n",
       "</table>\n",
       "</div>"
      ],
      "text/plain": [
       "  dataset          gender  n_books  n_actions\n",
       "0    BX-E       ambiguous     8703      81553\n",
       "1    BX-E   no-author-rec     6249       7989\n",
       "2    BX-E         unknown    13471      17995\n",
       "3    BX-E          female    24159      45730\n",
       "4    BX-E  no-book-author     7053      10744"
      ]
     },
     "execution_count": 2,
     "metadata": {},
     "output_type": "execute_result"
    }
   ],
   "source": [
    "link_stats = pd.read_csv('book-links/gender-stats.csv')\n",
    "link_stats.head()"
   ]
  },
  {
   "cell_type": "markdown",
   "id": "0bf84426",
   "metadata": {},
   "source": [
    "Now let's define variables for our variou codes. We are first going to define our gender codes.  We'll start with the resolved codes:"
   ]
  },
  {
   "cell_type": "code",
   "execution_count": 3,
   "id": "2d633386",
   "metadata": {
    "execution": {
     "iopub.execute_input": "2021-10-02T00:09:23.246660Z",
     "iopub.status.busy": "2021-10-02T00:09:23.245285Z",
     "iopub.status.idle": "2021-10-02T00:09:23.249676Z",
     "shell.execute_reply": "2021-10-02T00:09:23.250788Z"
    },
    "tags": []
   },
   "outputs": [],
   "source": [
    "link_codes = ['female', 'male', 'ambiguous', 'unknown']"
   ]
  },
  {
   "cell_type": "markdown",
   "id": "b9a428c2",
   "metadata": {},
   "source": [
    "We want the unlink codes in order, so the last is the first link failure:"
   ]
  },
  {
   "cell_type": "code",
   "execution_count": 4,
   "id": "8239463e",
   "metadata": {
    "execution": {
     "iopub.execute_input": "2021-10-02T00:09:23.259650Z",
     "iopub.status.busy": "2021-10-02T00:09:23.258279Z",
     "iopub.status.idle": "2021-10-02T00:09:23.262686Z",
     "shell.execute_reply": "2021-10-02T00:09:23.263770Z"
    },
    "tags": []
   },
   "outputs": [],
   "source": [
    "unlink_codes = ['no-author-rec', 'no-book-author', 'no-book']"
   ]
  },
  {
   "cell_type": "code",
   "execution_count": 5,
   "id": "9dba301d",
   "metadata": {
    "execution": {
     "iopub.execute_input": "2021-10-02T00:09:23.272479Z",
     "iopub.status.busy": "2021-10-02T00:09:23.271123Z",
     "iopub.status.idle": "2021-10-02T00:09:23.276754Z",
     "shell.execute_reply": "2021-10-02T00:09:23.275595Z"
    },
    "tags": []
   },
   "outputs": [],
   "source": [
    "all_codes = link_codes + unlink_codes"
   ]
  },
  {
   "cell_type": "markdown",
   "id": "dfb2e019",
   "metadata": {},
   "source": [
    "## Processing Statistics\n",
    "\n",
    "Now we'll pivot each of our count columns into a table for easier reference."
   ]
  },
  {
   "cell_type": "code",
   "execution_count": 6,
   "id": "f95f10ec",
   "metadata": {
    "execution": {
     "iopub.execute_input": "2021-10-02T00:09:23.326401Z",
     "iopub.status.busy": "2021-10-02T00:09:23.291032Z",
     "iopub.status.idle": "2021-10-02T00:09:23.332553Z",
     "shell.execute_reply": "2021-10-02T00:09:23.333650Z"
    },
    "tags": []
   },
   "outputs": [
    {
     "data": {
      "text/html": [
       "<div>\n",
       "<style scoped>\n",
       "    .dataframe tbody tr th:only-of-type {\n",
       "        vertical-align: middle;\n",
       "    }\n",
       "\n",
       "    .dataframe tbody tr th {\n",
       "        vertical-align: top;\n",
       "    }\n",
       "\n",
       "    .dataframe thead th {\n",
       "        text-align: right;\n",
       "    }\n",
       "</style>\n",
       "<table border=\"1\" class=\"dataframe\">\n",
       "  <thead>\n",
       "    <tr style=\"text-align: right;\">\n",
       "      <th>gender</th>\n",
       "      <th>female</th>\n",
       "      <th>male</th>\n",
       "      <th>ambiguous</th>\n",
       "      <th>unknown</th>\n",
       "      <th>no-author-rec</th>\n",
       "      <th>no-book-author</th>\n",
       "      <th>no-book</th>\n",
       "      <th>total</th>\n",
       "    </tr>\n",
       "    <tr>\n",
       "      <th>dataset</th>\n",
       "      <th></th>\n",
       "      <th></th>\n",
       "      <th></th>\n",
       "      <th></th>\n",
       "      <th></th>\n",
       "      <th></th>\n",
       "      <th></th>\n",
       "      <th></th>\n",
       "    </tr>\n",
       "  </thead>\n",
       "  <tbody>\n",
       "    <tr>\n",
       "      <th>AZ</th>\n",
       "      <td>152187.0</td>\n",
       "      <td>393709.0</td>\n",
       "      <td>31354.0</td>\n",
       "      <td>201904.0</td>\n",
       "      <td>132282.0</td>\n",
       "      <td>176374.0</td>\n",
       "      <td>936340.0</td>\n",
       "      <td>2024150.0</td>\n",
       "    </tr>\n",
       "    <tr>\n",
       "      <th>BX-E</th>\n",
       "      <td>24159.0</td>\n",
       "      <td>38299.0</td>\n",
       "      <td>8703.0</td>\n",
       "      <td>13471.0</td>\n",
       "      <td>6249.0</td>\n",
       "      <td>7053.0</td>\n",
       "      <td>21884.0</td>\n",
       "      <td>119818.0</td>\n",
       "    </tr>\n",
       "    <tr>\n",
       "      <th>BX-I</th>\n",
       "      <td>47390.0</td>\n",
       "      <td>72495.0</td>\n",
       "      <td>13559.0</td>\n",
       "      <td>28905.0</td>\n",
       "      <td>12853.0</td>\n",
       "      <td>13535.0</td>\n",
       "      <td>44068.0</td>\n",
       "      <td>232805.0</td>\n",
       "    </tr>\n",
       "    <tr>\n",
       "      <th>GR-E</th>\n",
       "      <td>27711.0</td>\n",
       "      <td>47836.0</td>\n",
       "      <td>8295.0</td>\n",
       "      <td>15609.0</td>\n",
       "      <td>4515.0</td>\n",
       "      <td>560076.0</td>\n",
       "      <td>NaN</td>\n",
       "      <td>664042.0</td>\n",
       "    </tr>\n",
       "    <tr>\n",
       "      <th>GR-I</th>\n",
       "      <td>27987.0</td>\n",
       "      <td>48285.0</td>\n",
       "      <td>8351.0</td>\n",
       "      <td>15810.0</td>\n",
       "      <td>4556.0</td>\n",
       "      <td>569078.0</td>\n",
       "      <td>NaN</td>\n",
       "      <td>674067.0</td>\n",
       "    </tr>\n",
       "    <tr>\n",
       "      <th>LOC-MDS</th>\n",
       "      <td>593959.0</td>\n",
       "      <td>2102874.0</td>\n",
       "      <td>69027.0</td>\n",
       "      <td>1176676.0</td>\n",
       "      <td>269309.0</td>\n",
       "      <td>836517.0</td>\n",
       "      <td>NaN</td>\n",
       "      <td>5048362.0</td>\n",
       "    </tr>\n",
       "  </tbody>\n",
       "</table>\n",
       "</div>"
      ],
      "text/plain": [
       "gender     female       male  ambiguous    unknown  no-author-rec  \\\n",
       "dataset                                                             \n",
       "AZ       152187.0   393709.0    31354.0   201904.0       132282.0   \n",
       "BX-E      24159.0    38299.0     8703.0    13471.0         6249.0   \n",
       "BX-I      47390.0    72495.0    13559.0    28905.0        12853.0   \n",
       "GR-E      27711.0    47836.0     8295.0    15609.0         4515.0   \n",
       "GR-I      27987.0    48285.0     8351.0    15810.0         4556.0   \n",
       "LOC-MDS  593959.0  2102874.0    69027.0  1176676.0       269309.0   \n",
       "\n",
       "gender   no-book-author   no-book      total  \n",
       "dataset                                       \n",
       "AZ             176374.0  936340.0  2024150.0  \n",
       "BX-E             7053.0   21884.0   119818.0  \n",
       "BX-I            13535.0   44068.0   232805.0  \n",
       "GR-E           560076.0       NaN   664042.0  \n",
       "GR-I           569078.0       NaN   674067.0  \n",
       "LOC-MDS        836517.0       NaN  5048362.0  "
      ]
     },
     "execution_count": 6,
     "metadata": {},
     "output_type": "execute_result"
    }
   ],
   "source": [
    "book_counts = link_stats.pivot('dataset', 'gender', 'n_books')\n",
    "book_counts = book_counts.reindex(columns=all_codes)\n",
    "book_counts.assign(total=book_counts.sum(axis=1))"
   ]
  },
  {
   "cell_type": "code",
   "execution_count": 7,
   "id": "8af710a6",
   "metadata": {
    "execution": {
     "iopub.execute_input": "2021-10-02T00:09:23.376478Z",
     "iopub.status.busy": "2021-10-02T00:09:23.375114Z",
     "iopub.status.idle": "2021-10-02T00:09:23.382403Z",
     "shell.execute_reply": "2021-10-02T00:09:23.381027Z"
    },
    "tags": []
   },
   "outputs": [
    {
     "data": {
      "text/html": [
       "<div>\n",
       "<style scoped>\n",
       "    .dataframe tbody tr th:only-of-type {\n",
       "        vertical-align: middle;\n",
       "    }\n",
       "\n",
       "    .dataframe tbody tr th {\n",
       "        vertical-align: top;\n",
       "    }\n",
       "\n",
       "    .dataframe thead th {\n",
       "        text-align: right;\n",
       "    }\n",
       "</style>\n",
       "<table border=\"1\" class=\"dataframe\">\n",
       "  <thead>\n",
       "    <tr style=\"text-align: right;\">\n",
       "      <th>gender</th>\n",
       "      <th>female</th>\n",
       "      <th>male</th>\n",
       "      <th>ambiguous</th>\n",
       "      <th>unknown</th>\n",
       "      <th>no-author-rec</th>\n",
       "      <th>no-book-author</th>\n",
       "      <th>no-book</th>\n",
       "    </tr>\n",
       "    <tr>\n",
       "      <th>dataset</th>\n",
       "      <th></th>\n",
       "      <th></th>\n",
       "      <th></th>\n",
       "      <th></th>\n",
       "      <th></th>\n",
       "      <th></th>\n",
       "      <th></th>\n",
       "    </tr>\n",
       "  </thead>\n",
       "  <tbody>\n",
       "    <tr>\n",
       "      <th>AZ</th>\n",
       "      <td>1730529.0</td>\n",
       "      <td>3199922.0</td>\n",
       "      <td>4667388.0</td>\n",
       "      <td>1276074.0</td>\n",
       "      <td>611695.0</td>\n",
       "      <td>2996508.0</td>\n",
       "      <td>4510127.0</td>\n",
       "    </tr>\n",
       "    <tr>\n",
       "      <th>BX-E</th>\n",
       "      <td>45730.0</td>\n",
       "      <td>64422.0</td>\n",
       "      <td>81553.0</td>\n",
       "      <td>17995.0</td>\n",
       "      <td>7989.0</td>\n",
       "      <td>10744.0</td>\n",
       "      <td>25525.0</td>\n",
       "    </tr>\n",
       "    <tr>\n",
       "      <th>BX-I</th>\n",
       "      <td>142311.0</td>\n",
       "      <td>172258.0</td>\n",
       "      <td>151958.0</td>\n",
       "      <td>52067.0</td>\n",
       "      <td>20973.0</td>\n",
       "      <td>28196.0</td>\n",
       "      <td>62530.0</td>\n",
       "    </tr>\n",
       "    <tr>\n",
       "      <th>GR-E</th>\n",
       "      <td>1359691.0</td>\n",
       "      <td>3042783.0</td>\n",
       "      <td>617525.0</td>\n",
       "      <td>647653.0</td>\n",
       "      <td>201217.0</td>\n",
       "      <td>8150256.0</td>\n",
       "      <td>NaN</td>\n",
       "    </tr>\n",
       "    <tr>\n",
       "      <th>GR-I</th>\n",
       "      <td>3692158.0</td>\n",
       "      <td>6760592.0</td>\n",
       "      <td>1611608.0</td>\n",
       "      <td>1773586.0</td>\n",
       "      <td>537329.0</td>\n",
       "      <td>21313230.0</td>\n",
       "      <td>NaN</td>\n",
       "    </tr>\n",
       "  </tbody>\n",
       "</table>\n",
       "</div>"
      ],
      "text/plain": [
       "gender      female       male  ambiguous    unknown  no-author-rec  \\\n",
       "dataset                                                              \n",
       "AZ       1730529.0  3199922.0  4667388.0  1276074.0       611695.0   \n",
       "BX-E       45730.0    64422.0    81553.0    17995.0         7989.0   \n",
       "BX-I      142311.0   172258.0   151958.0    52067.0        20973.0   \n",
       "GR-E     1359691.0  3042783.0   617525.0   647653.0       201217.0   \n",
       "GR-I     3692158.0  6760592.0  1611608.0  1773586.0       537329.0   \n",
       "\n",
       "gender   no-book-author    no-book  \n",
       "dataset                             \n",
       "AZ            2996508.0  4510127.0  \n",
       "BX-E            10744.0    25525.0  \n",
       "BX-I            28196.0    62530.0  \n",
       "GR-E          8150256.0        NaN  \n",
       "GR-I         21313230.0        NaN  "
      ]
     },
     "execution_count": 7,
     "metadata": {},
     "output_type": "execute_result"
    }
   ],
   "source": [
    "act_counts = link_stats.pivot('dataset', 'gender', 'n_actions')\n",
    "act_counts = act_counts.reindex(columns=all_codes)\n",
    "act_counts.drop(index='LOC-MDS', inplace=True)\n",
    "act_counts"
   ]
  },
  {
   "cell_type": "markdown",
   "id": "5cdc39f9",
   "metadata": {},
   "source": [
    "We're going to want to compute versions of this table as fractions, e.g. the fraction of books that are written by women.  We will use the following helper function:"
   ]
  },
  {
   "cell_type": "code",
   "execution_count": 8,
   "id": "1f7bbee9",
   "metadata": {
    "execution": {
     "iopub.execute_input": "2021-10-02T00:09:23.394693Z",
     "iopub.status.busy": "2021-10-02T00:09:23.393312Z",
     "iopub.status.idle": "2021-10-02T00:09:23.397745Z",
     "shell.execute_reply": "2021-10-02T00:09:23.398835Z"
    }
   },
   "outputs": [],
   "source": [
    "def fractionalize(data, columns, unlinked=None):\n",
    "    fracs = data[columns]\n",
    "    fracs.columns = fracs.columns.astype('str')\n",
    "    if unlinked:\n",
    "        fracs = fracs.assign(unlinked=data[unlinked].sum(axis=1))\n",
    "    totals = fracs.sum(axis=1)\n",
    "    return fracs.divide(totals, axis=0)"
   ]
  },
  {
   "cell_type": "markdown",
   "id": "491bd5e5",
   "metadata": {},
   "source": [
    "And a helper function for plotting bar charts:"
   ]
  },
  {
   "cell_type": "code",
   "execution_count": 9,
   "id": "517a7dc3",
   "metadata": {
    "execution": {
     "iopub.execute_input": "2021-10-02T00:09:23.420880Z",
     "iopub.status.busy": "2021-10-02T00:09:23.419481Z",
     "iopub.status.idle": "2021-10-02T00:09:23.424808Z",
     "shell.execute_reply": "2021-10-02T00:09:23.423400Z"
    }
   },
   "outputs": [],
   "source": [
    "def plot_bars(fracs, ax=None, cmap=mpl.cm.Dark2):\n",
    "    if ax is None:\n",
    "        ax = plt.gca()\n",
    "    size = 0.5\n",
    "    ind = np.arange(len(fracs))\n",
    "    start = pd.Series(0, index=fracs.index)\n",
    "    for i, col in enumerate(fracs.columns):\n",
    "        vals = fracs.iloc[:, i]\n",
    "        rects = ax.barh(ind, vals, size, left=start, label=col, color=cmap(i))\n",
    "        for j, rec in enumerate(rects):\n",
    "            if vals.iloc[j] < 0.1 or np.isnan(vals.iloc[j]): continue\n",
    "            y = rec.get_y() + rec.get_height() / 2\n",
    "            x = start.iloc[j] + vals.iloc[j] / 2\n",
    "            ax.annotate('{:.1f}%'.format(vals.iloc[j] * 100),\n",
    "                        xy=(x,y), ha='center', va='center', color='white',\n",
    "                        fontweight='bold')\n",
    "        start += vals.fillna(0)\n",
    "    ax.set_xlabel('Fraction of Books')\n",
    "    ax.set_ylabel('Data Set')\n",
    "    ax.set_yticks(ind)\n",
    "    ax.set_yticklabels(fracs.index)\n",
    "    ax.legend(loc='center left', bbox_to_anchor=(1, 0.5))"
   ]
  },
  {
   "cell_type": "markdown",
   "id": "20102f42",
   "metadata": {},
   "source": [
    "## Resolution of Books\n",
    "\n",
    "What fraction of *unique books* are resolved from each source?"
   ]
  },
  {
   "cell_type": "code",
   "execution_count": 10,
   "id": "a7f0fa20",
   "metadata": {
    "execution": {
     "iopub.execute_input": "2021-10-02T00:09:23.457460Z",
     "iopub.status.busy": "2021-10-02T00:09:23.456109Z",
     "iopub.status.idle": "2021-10-02T00:09:23.463483Z",
     "shell.execute_reply": "2021-10-02T00:09:23.462298Z"
    }
   },
   "outputs": [
    {
     "data": {
      "text/html": [
       "<div>\n",
       "<style scoped>\n",
       "    .dataframe tbody tr th:only-of-type {\n",
       "        vertical-align: middle;\n",
       "    }\n",
       "\n",
       "    .dataframe tbody tr th {\n",
       "        vertical-align: top;\n",
       "    }\n",
       "\n",
       "    .dataframe thead th {\n",
       "        text-align: right;\n",
       "    }\n",
       "</style>\n",
       "<table border=\"1\" class=\"dataframe\">\n",
       "  <thead>\n",
       "    <tr style=\"text-align: right;\">\n",
       "      <th>gender</th>\n",
       "      <th>female</th>\n",
       "      <th>male</th>\n",
       "      <th>ambiguous</th>\n",
       "      <th>unknown</th>\n",
       "      <th>no-author-rec</th>\n",
       "      <th>no-book-author</th>\n",
       "      <th>no-book</th>\n",
       "    </tr>\n",
       "    <tr>\n",
       "      <th>dataset</th>\n",
       "      <th></th>\n",
       "      <th></th>\n",
       "      <th></th>\n",
       "      <th></th>\n",
       "      <th></th>\n",
       "      <th></th>\n",
       "      <th></th>\n",
       "    </tr>\n",
       "  </thead>\n",
       "  <tbody>\n",
       "    <tr>\n",
       "      <th>AZ</th>\n",
       "      <td>0.075186</td>\n",
       "      <td>0.194506</td>\n",
       "      <td>0.015490</td>\n",
       "      <td>0.099748</td>\n",
       "      <td>0.065352</td>\n",
       "      <td>0.087135</td>\n",
       "      <td>0.462584</td>\n",
       "    </tr>\n",
       "    <tr>\n",
       "      <th>BX-E</th>\n",
       "      <td>0.201631</td>\n",
       "      <td>0.319643</td>\n",
       "      <td>0.072635</td>\n",
       "      <td>0.112429</td>\n",
       "      <td>0.052154</td>\n",
       "      <td>0.058864</td>\n",
       "      <td>0.182644</td>\n",
       "    </tr>\n",
       "    <tr>\n",
       "      <th>BX-I</th>\n",
       "      <td>0.203561</td>\n",
       "      <td>0.311398</td>\n",
       "      <td>0.058242</td>\n",
       "      <td>0.124160</td>\n",
       "      <td>0.055209</td>\n",
       "      <td>0.058139</td>\n",
       "      <td>0.189291</td>\n",
       "    </tr>\n",
       "    <tr>\n",
       "      <th>GR-E</th>\n",
       "      <td>0.041731</td>\n",
       "      <td>0.072038</td>\n",
       "      <td>0.012492</td>\n",
       "      <td>0.023506</td>\n",
       "      <td>0.006799</td>\n",
       "      <td>0.843435</td>\n",
       "      <td>NaN</td>\n",
       "    </tr>\n",
       "    <tr>\n",
       "      <th>GR-I</th>\n",
       "      <td>0.041520</td>\n",
       "      <td>0.071632</td>\n",
       "      <td>0.012389</td>\n",
       "      <td>0.023455</td>\n",
       "      <td>0.006759</td>\n",
       "      <td>0.844245</td>\n",
       "      <td>NaN</td>\n",
       "    </tr>\n",
       "    <tr>\n",
       "      <th>LOC-MDS</th>\n",
       "      <td>0.117654</td>\n",
       "      <td>0.416546</td>\n",
       "      <td>0.013673</td>\n",
       "      <td>0.233081</td>\n",
       "      <td>0.053346</td>\n",
       "      <td>0.165701</td>\n",
       "      <td>NaN</td>\n",
       "    </tr>\n",
       "  </tbody>\n",
       "</table>\n",
       "</div>"
      ],
      "text/plain": [
       "gender     female      male  ambiguous   unknown  no-author-rec  \\\n",
       "dataset                                                           \n",
       "AZ       0.075186  0.194506   0.015490  0.099748       0.065352   \n",
       "BX-E     0.201631  0.319643   0.072635  0.112429       0.052154   \n",
       "BX-I     0.203561  0.311398   0.058242  0.124160       0.055209   \n",
       "GR-E     0.041731  0.072038   0.012492  0.023506       0.006799   \n",
       "GR-I     0.041520  0.071632   0.012389  0.023455       0.006759   \n",
       "LOC-MDS  0.117654  0.416546   0.013673  0.233081       0.053346   \n",
       "\n",
       "gender   no-book-author   no-book  \n",
       "dataset                            \n",
       "AZ             0.087135  0.462584  \n",
       "BX-E           0.058864  0.182644  \n",
       "BX-I           0.058139  0.189291  \n",
       "GR-E           0.843435       NaN  \n",
       "GR-I           0.844245       NaN  \n",
       "LOC-MDS        0.165701       NaN  "
      ]
     },
     "execution_count": 10,
     "metadata": {},
     "output_type": "execute_result"
    }
   ],
   "source": [
    "fractionalize(book_counts, link_codes + unlink_codes)"
   ]
  },
  {
   "cell_type": "code",
   "execution_count": 11,
   "id": "dc87060b",
   "metadata": {
    "execution": {
     "iopub.execute_input": "2021-10-02T00:09:23.537179Z",
     "iopub.status.busy": "2021-10-02T00:09:23.531039Z",
     "iopub.status.idle": "2021-10-02T00:09:24.012168Z",
     "shell.execute_reply": "2021-10-02T00:09:24.012806Z"
    }
   },
   "outputs": [
    {
     "data": {
      "image/png": "[encoded data removed]",
      "text/plain": [
       "<Figure size 432x288 with 1 Axes>"
      ]
     },
     "metadata": {
      "needs_background": "light"
     },
     "output_type": "display_data"
    }
   ],
   "source": [
    "plot_bars(fractionalize(book_counts, link_codes + unlink_codes))"
   ]
  },
  {
   "cell_type": "code",
   "execution_count": 12,
   "id": "13e51ef7",
   "metadata": {
    "execution": {
     "iopub.execute_input": "2021-10-02T00:09:24.033214Z",
     "iopub.status.busy": "2021-10-02T00:09:24.032435Z",
     "iopub.status.idle": "2021-10-02T00:09:24.037541Z",
     "shell.execute_reply": "2021-10-02T00:09:24.036757Z"
    }
   },
   "outputs": [
    {
     "data": {
      "text/html": [
       "<div>\n",
       "<style scoped>\n",
       "    .dataframe tbody tr th:only-of-type {\n",
       "        vertical-align: middle;\n",
       "    }\n",
       "\n",
       "    .dataframe tbody tr th {\n",
       "        vertical-align: top;\n",
       "    }\n",
       "\n",
       "    .dataframe thead th {\n",
       "        text-align: right;\n",
       "    }\n",
       "</style>\n",
       "<table border=\"1\" class=\"dataframe\">\n",
       "  <thead>\n",
       "    <tr style=\"text-align: right;\">\n",
       "      <th>gender</th>\n",
       "      <th>female</th>\n",
       "      <th>male</th>\n",
       "      <th>ambiguous</th>\n",
       "      <th>unknown</th>\n",
       "      <th>unlinked</th>\n",
       "    </tr>\n",
       "    <tr>\n",
       "      <th>dataset</th>\n",
       "      <th></th>\n",
       "      <th></th>\n",
       "      <th></th>\n",
       "      <th></th>\n",
       "      <th></th>\n",
       "    </tr>\n",
       "  </thead>\n",
       "  <tbody>\n",
       "    <tr>\n",
       "      <th>AZ</th>\n",
       "      <td>0.075186</td>\n",
       "      <td>0.194506</td>\n",
       "      <td>0.015490</td>\n",
       "      <td>0.099748</td>\n",
       "      <td>0.615071</td>\n",
       "    </tr>\n",
       "    <tr>\n",
       "      <th>BX-E</th>\n",
       "      <td>0.201631</td>\n",
       "      <td>0.319643</td>\n",
       "      <td>0.072635</td>\n",
       "      <td>0.112429</td>\n",
       "      <td>0.293662</td>\n",
       "    </tr>\n",
       "    <tr>\n",
       "      <th>BX-I</th>\n",
       "      <td>0.203561</td>\n",
       "      <td>0.311398</td>\n",
       "      <td>0.058242</td>\n",
       "      <td>0.124160</td>\n",
       "      <td>0.302640</td>\n",
       "    </tr>\n",
       "    <tr>\n",
       "      <th>GR-E</th>\n",
       "      <td>0.041731</td>\n",
       "      <td>0.072038</td>\n",
       "      <td>0.012492</td>\n",
       "      <td>0.023506</td>\n",
       "      <td>0.850234</td>\n",
       "    </tr>\n",
       "    <tr>\n",
       "      <th>GR-I</th>\n",
       "      <td>0.041520</td>\n",
       "      <td>0.071632</td>\n",
       "      <td>0.012389</td>\n",
       "      <td>0.023455</td>\n",
       "      <td>0.851004</td>\n",
       "    </tr>\n",
       "    <tr>\n",
       "      <th>LOC-MDS</th>\n",
       "      <td>0.117654</td>\n",
       "      <td>0.416546</td>\n",
       "      <td>0.013673</td>\n",
       "      <td>0.233081</td>\n",
       "      <td>0.219046</td>\n",
       "    </tr>\n",
       "  </tbody>\n",
       "</table>\n",
       "</div>"
      ],
      "text/plain": [
       "gender     female      male  ambiguous   unknown  unlinked\n",
       "dataset                                                   \n",
       "AZ       0.075186  0.194506   0.015490  0.099748  0.615071\n",
       "BX-E     0.201631  0.319643   0.072635  0.112429  0.293662\n",
       "BX-I     0.203561  0.311398   0.058242  0.124160  0.302640\n",
       "GR-E     0.041731  0.072038   0.012492  0.023506  0.850234\n",
       "GR-I     0.041520  0.071632   0.012389  0.023455  0.851004\n",
       "LOC-MDS  0.117654  0.416546   0.013673  0.233081  0.219046"
      ]
     },
     "execution_count": 12,
     "metadata": {},
     "output_type": "execute_result"
    }
   ],
   "source": [
    "fractionalize(book_counts, link_codes, unlink_codes)"
   ]
  },
  {
   "cell_type": "code",
   "execution_count": 13,
   "id": "31774346",
   "metadata": {
    "execution": {
     "iopub.execute_input": "2021-10-02T00:09:24.130314Z",
     "iopub.status.busy": "2021-10-02T00:09:24.129405Z",
     "iopub.status.idle": "2021-10-02T00:09:24.468573Z",
     "shell.execute_reply": "2021-10-02T00:09:24.467458Z"
    }
   },
   "outputs": [
    {
     "data": {
      "image/png": "[encoded data removed]",
      "text/plain": [
       "<Figure size 432x288 with 1 Axes>"
      ]
     },
     "metadata": {
      "needs_background": "light"
     },
     "output_type": "display_data"
    }
   ],
   "source": [
    "plot_bars(fractionalize(book_counts, link_codes, unlink_codes))"
   ]
  },
  {
   "cell_type": "code",
   "execution_count": 14,
   "id": "fe97e2bd",
   "metadata": {
    "execution": {
     "iopub.execute_input": "2021-10-02T00:09:24.553592Z",
     "iopub.status.busy": "2021-10-02T00:09:24.525278Z",
     "iopub.status.idle": "2021-10-02T00:09:24.775996Z",
     "shell.execute_reply": "2021-10-02T00:09:24.776620Z"
    }
   },
   "outputs": [
    {
     "data": {
      "image/png": "[encoded data removed]",
      "text/plain": [
       "<Figure size 432x288 with 1 Axes>"
      ]
     },
     "metadata": {
      "needs_background": "light"
     },
     "output_type": "display_data"
    }
   ],
   "source": [
    "plot_bars(fractionalize(book_counts, ['female', 'male']))"
   ]
  },
  {
   "cell_type": "markdown",
   "id": "5b9ca8c4",
   "metadata": {},
   "source": [
    "## Resolution of Ratings\n",
    "\n",
    "What fraction of *rating actions* have each resolution result?"
   ]
  },
  {
   "cell_type": "code",
   "execution_count": 15,
   "id": "a0003eda",
   "metadata": {
    "execution": {
     "iopub.execute_input": "2021-10-02T00:09:24.796427Z",
     "iopub.status.busy": "2021-10-02T00:09:24.795661Z",
     "iopub.status.idle": "2021-10-02T00:09:24.801083Z",
     "shell.execute_reply": "2021-10-02T00:09:24.800437Z"
    }
   },
   "outputs": [
    {
     "data": {
      "text/html": [
       "<div>\n",
       "<style scoped>\n",
       "    .dataframe tbody tr th:only-of-type {\n",
       "        vertical-align: middle;\n",
       "    }\n",
       "\n",
       "    .dataframe tbody tr th {\n",
       "        vertical-align: top;\n",
       "    }\n",
       "\n",
       "    .dataframe thead th {\n",
       "        text-align: right;\n",
       "    }\n",
       "</style>\n",
       "<table border=\"1\" class=\"dataframe\">\n",
       "  <thead>\n",
       "    <tr style=\"text-align: right;\">\n",
       "      <th>gender</th>\n",
       "      <th>female</th>\n",
       "      <th>male</th>\n",
       "      <th>ambiguous</th>\n",
       "      <th>unknown</th>\n",
       "      <th>no-author-rec</th>\n",
       "      <th>no-book-author</th>\n",
       "      <th>no-book</th>\n",
       "    </tr>\n",
       "    <tr>\n",
       "      <th>dataset</th>\n",
       "      <th></th>\n",
       "      <th></th>\n",
       "      <th></th>\n",
       "      <th></th>\n",
       "      <th></th>\n",
       "      <th></th>\n",
       "      <th></th>\n",
       "    </tr>\n",
       "  </thead>\n",
       "  <tbody>\n",
       "    <tr>\n",
       "      <th>AZ</th>\n",
       "      <td>0.091118</td>\n",
       "      <td>0.168486</td>\n",
       "      <td>0.245752</td>\n",
       "      <td>0.067189</td>\n",
       "      <td>0.032208</td>\n",
       "      <td>0.157775</td>\n",
       "      <td>0.237472</td>\n",
       "    </tr>\n",
       "    <tr>\n",
       "      <th>BX-E</th>\n",
       "      <td>0.180069</td>\n",
       "      <td>0.253672</td>\n",
       "      <td>0.321128</td>\n",
       "      <td>0.070858</td>\n",
       "      <td>0.031458</td>\n",
       "      <td>0.042306</td>\n",
       "      <td>0.100509</td>\n",
       "    </tr>\n",
       "    <tr>\n",
       "      <th>BX-I</th>\n",
       "      <td>0.225785</td>\n",
       "      <td>0.273298</td>\n",
       "      <td>0.241091</td>\n",
       "      <td>0.082608</td>\n",
       "      <td>0.033275</td>\n",
       "      <td>0.044735</td>\n",
       "      <td>0.099208</td>\n",
       "    </tr>\n",
       "    <tr>\n",
       "      <th>GR-E</th>\n",
       "      <td>0.096988</td>\n",
       "      <td>0.217045</td>\n",
       "      <td>0.044049</td>\n",
       "      <td>0.046198</td>\n",
       "      <td>0.014353</td>\n",
       "      <td>0.581367</td>\n",
       "      <td>NaN</td>\n",
       "    </tr>\n",
       "    <tr>\n",
       "      <th>GR-I</th>\n",
       "      <td>0.103455</td>\n",
       "      <td>0.189433</td>\n",
       "      <td>0.045158</td>\n",
       "      <td>0.049696</td>\n",
       "      <td>0.015056</td>\n",
       "      <td>0.597202</td>\n",
       "      <td>NaN</td>\n",
       "    </tr>\n",
       "  </tbody>\n",
       "</table>\n",
       "</div>"
      ],
      "text/plain": [
       "gender     female      male  ambiguous   unknown  no-author-rec  \\\n",
       "dataset                                                           \n",
       "AZ       0.091118  0.168486   0.245752  0.067189       0.032208   \n",
       "BX-E     0.180069  0.253672   0.321128  0.070858       0.031458   \n",
       "BX-I     0.225785  0.273298   0.241091  0.082608       0.033275   \n",
       "GR-E     0.096988  0.217045   0.044049  0.046198       0.014353   \n",
       "GR-I     0.103455  0.189433   0.045158  0.049696       0.015056   \n",
       "\n",
       "gender   no-book-author   no-book  \n",
       "dataset                            \n",
       "AZ             0.157775  0.237472  \n",
       "BX-E           0.042306  0.100509  \n",
       "BX-I           0.044735  0.099208  \n",
       "GR-E           0.581367       NaN  \n",
       "GR-I           0.597202       NaN  "
      ]
     },
     "execution_count": 15,
     "metadata": {},
     "output_type": "execute_result"
    }
   ],
   "source": [
    "fractionalize(act_counts, link_codes + unlink_codes)"
   ]
  },
  {
   "cell_type": "code",
   "execution_count": 16,
   "id": "1e0605cb",
   "metadata": {
    "execution": {
     "iopub.execute_input": "2021-10-02T00:09:24.894594Z",
     "iopub.status.busy": "2021-10-02T00:09:24.893793Z",
     "iopub.status.idle": "2021-10-02T00:09:25.237839Z",
     "shell.execute_reply": "2021-10-02T00:09:25.236751Z"
    }
   },
   "outputs": [
    {
     "data": {
      "image/png": "[encoded data removed]",
      "text/plain": [
       "<Figure size 432x288 with 1 Axes>"
      ]
     },
     "metadata": {
      "needs_background": "light"
     },
     "output_type": "display_data"
    }
   ],
   "source": [
    "plot_bars(fractionalize(act_counts, link_codes + unlink_codes))"
   ]
  },
  {
   "cell_type": "code",
   "execution_count": 17,
   "id": "39474dbf",
   "metadata": {
    "execution": {
     "iopub.execute_input": "2021-10-02T00:09:25.257229Z",
     "iopub.status.busy": "2021-10-02T00:09:25.256452Z",
     "iopub.status.idle": "2021-10-02T00:09:25.261543Z",
     "shell.execute_reply": "2021-10-02T00:09:25.260909Z"
    }
   },
   "outputs": [
    {
     "data": {
      "text/html": [
       "<div>\n",
       "<style scoped>\n",
       "    .dataframe tbody tr th:only-of-type {\n",
       "        vertical-align: middle;\n",
       "    }\n",
       "\n",
       "    .dataframe tbody tr th {\n",
       "        vertical-align: top;\n",
       "    }\n",
       "\n",
       "    .dataframe thead th {\n",
       "        text-align: right;\n",
       "    }\n",
       "</style>\n",
       "<table border=\"1\" class=\"dataframe\">\n",
       "  <thead>\n",
       "    <tr style=\"text-align: right;\">\n",
       "      <th>gender</th>\n",
       "      <th>female</th>\n",
       "      <th>male</th>\n",
       "      <th>ambiguous</th>\n",
       "      <th>unknown</th>\n",
       "      <th>unlinked</th>\n",
       "    </tr>\n",
       "    <tr>\n",
       "      <th>dataset</th>\n",
       "      <th></th>\n",
       "      <th></th>\n",
       "      <th></th>\n",
       "      <th></th>\n",
       "      <th></th>\n",
       "    </tr>\n",
       "  </thead>\n",
       "  <tbody>\n",
       "    <tr>\n",
       "      <th>AZ</th>\n",
       "      <td>0.091118</td>\n",
       "      <td>0.168486</td>\n",
       "      <td>0.245752</td>\n",
       "      <td>0.067189</td>\n",
       "      <td>0.427455</td>\n",
       "    </tr>\n",
       "    <tr>\n",
       "      <th>BX-E</th>\n",
       "      <td>0.180069</td>\n",
       "      <td>0.253672</td>\n",
       "      <td>0.321128</td>\n",
       "      <td>0.070858</td>\n",
       "      <td>0.174273</td>\n",
       "    </tr>\n",
       "    <tr>\n",
       "      <th>BX-I</th>\n",
       "      <td>0.225785</td>\n",
       "      <td>0.273298</td>\n",
       "      <td>0.241091</td>\n",
       "      <td>0.082608</td>\n",
       "      <td>0.177218</td>\n",
       "    </tr>\n",
       "    <tr>\n",
       "      <th>GR-E</th>\n",
       "      <td>0.096988</td>\n",
       "      <td>0.217045</td>\n",
       "      <td>0.044049</td>\n",
       "      <td>0.046198</td>\n",
       "      <td>0.595720</td>\n",
       "    </tr>\n",
       "    <tr>\n",
       "      <th>GR-I</th>\n",
       "      <td>0.103455</td>\n",
       "      <td>0.189433</td>\n",
       "      <td>0.045158</td>\n",
       "      <td>0.049696</td>\n",
       "      <td>0.612258</td>\n",
       "    </tr>\n",
       "  </tbody>\n",
       "</table>\n",
       "</div>"
      ],
      "text/plain": [
       "gender     female      male  ambiguous   unknown  unlinked\n",
       "dataset                                                   \n",
       "AZ       0.091118  0.168486   0.245752  0.067189  0.427455\n",
       "BX-E     0.180069  0.253672   0.321128  0.070858  0.174273\n",
       "BX-I     0.225785  0.273298   0.241091  0.082608  0.177218\n",
       "GR-E     0.096988  0.217045   0.044049  0.046198  0.595720\n",
       "GR-I     0.103455  0.189433   0.045158  0.049696  0.612258"
      ]
     },
     "execution_count": 17,
     "metadata": {},
     "output_type": "execute_result"
    }
   ],
   "source": [
    "fractionalize(act_counts, link_codes, unlink_codes)"
   ]
  },
  {
   "cell_type": "code",
   "execution_count": 18,
   "id": "34558e3c",
   "metadata": {
    "execution": {
     "iopub.execute_input": "2021-10-02T00:09:25.424024Z",
     "iopub.status.busy": "2021-10-02T00:09:25.423171Z",
     "iopub.status.idle": "2021-10-02T00:09:25.733760Z",
     "shell.execute_reply": "2021-10-02T00:09:25.734378Z"
    }
   },
   "outputs": [
    {
     "data": {
      "image/png": "[encoded data removed]",
      "text/plain": [
       "<Figure size 432x288 with 1 Axes>"
      ]
     },
     "metadata": {
      "needs_background": "light"
     },
     "output_type": "display_data"
    }
   ],
   "source": [
    "plot_bars(fractionalize(act_counts, link_codes, unlink_codes))"
   ]
  },
  {
   "cell_type": "code",
   "execution_count": 19,
   "id": "d09845f1",
   "metadata": {
    "execution": {
     "iopub.execute_input": "2021-10-02T00:09:25.814110Z",
     "iopub.status.busy": "2021-10-02T00:09:25.812629Z",
     "iopub.status.idle": "2021-10-02T00:09:26.029363Z",
     "shell.execute_reply": "2021-10-02T00:09:26.028151Z"
    }
   },
   "outputs": [
    {
     "data": {
      "image/png": "[encoded data removed]",
      "text/plain": [
       "<Figure size 432x288 with 1 Axes>"
      ]
     },
     "metadata": {
      "needs_background": "light"
     },
     "output_type": "display_data"
    }
   ],
   "source": [
    "plot_bars(fractionalize(act_counts, ['female', 'male']))"
   ]
  },
  {
   "cell_type": "markdown",
   "id": "59a57921",
   "metadata": {},
   "source": [
    "## Metrics\n",
    "\n",
    "Finally, we're going to write coverage metrics."
   ]
  },
  {
   "cell_type": "code",
   "execution_count": 20,
   "id": "43a53412",
   "metadata": {
    "execution": {
     "iopub.execute_input": "2021-10-02T00:09:26.043464Z",
     "iopub.status.busy": "2021-10-02T00:09:26.042695Z",
     "iopub.status.idle": "2021-10-02T00:09:26.047665Z",
     "shell.execute_reply": "2021-10-02T00:09:26.046990Z"
    }
   },
   "outputs": [
    {
     "data": {
      "text/plain": [
       "dataset\n",
       "AZ         0.285181\n",
       "BX-E       0.593909\n",
       "BX-I       0.573201\n",
       "GR-E       0.126260\n",
       "GR-I       0.125541\n",
       "LOC-MDS    0.547873\n",
       "dtype: float64"
      ]
     },
     "execution_count": 20,
     "metadata": {},
     "output_type": "execute_result"
    }
   ],
   "source": [
    "book_tots = book_counts.sum(axis=1)\n",
    "book_link = book_counts['male'] + book_counts['female'] + book_counts['ambiguous']\n",
    "book_cover = book_link / book_tots\n",
    "book_cover"
   ]
  },
  {
   "cell_type": "code",
   "execution_count": 21,
   "id": "439c8e45",
   "metadata": {
    "execution": {
     "iopub.execute_input": "2021-10-02T00:09:26.053511Z",
     "iopub.status.busy": "2021-10-02T00:09:26.052674Z",
     "iopub.status.idle": "2021-10-02T00:09:26.057315Z",
     "shell.execute_reply": "2021-10-02T00:09:26.058327Z"
    }
   },
   "outputs": [],
   "source": [
    "book_cover.to_json('book-coverage.json')"
   ]
  },
  {
   "cell_type": "code",
   "execution_count": null,
   "id": "1535e96d",
   "metadata": {},
   "outputs": [],
   "source": []
  }
 ],
 "metadata": {
  "jupytext": {
   "formats": "ipynb,py:percent"
  },
  "kernelspec": {
   "display_name": "Python 3 (ipykernel)",
   "language": "python",
   "name": "python3"
  },
  "language_info": {
   "codemirror_mode": {
    "name": "ipython",
    "version": 3
   },
   "file_extension": ".py",
   "mimetype": "text/x-python",
   "name": "python",
   "nbconvert_exporter": "python",
   "pygments_lexer": "ipython3",
   "version": "3.8.12"
  }
 },
 "nbformat": 4,
 "nbformat_minor": 5
}
