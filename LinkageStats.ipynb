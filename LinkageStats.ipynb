{
 "cells": [
  {
   "cell_type": "markdown",
   "metadata": {},
   "source": [
    "# Book Data Linkage Statistics\n",
    "\n",
    "This notebook presents statistics of the book data integration."
   ]
  },
  {
   "cell_type": "markdown",
   "metadata": {},
   "source": [
    "## Setup"
   ]
  },
  {
   "cell_type": "code",
   "execution_count": 1,
   "metadata": {},
   "outputs": [],
   "source": [
    "import pandas as pd\n",
    "import seaborn as sns\n",
    "import matplotlib as mpl\n",
    "import matplotlib.pyplot as plt\n",
    "import numpy as np"
   ]
  },
  {
   "cell_type": "markdown",
   "metadata": {},
   "source": [
    "## Compute Link Stats\n",
    "\n",
    "Let's compute linkage statistics from our data!\n",
    "\n",
    "We are first going to define our gender codes.  We'll start with the resolved codes:"
   ]
  },
  {
   "cell_type": "code",
   "execution_count": 8,
   "metadata": {},
   "outputs": [],
   "source": [
    "link_codes = ['female', 'male', 'ambiguous', 'unknown']"
   ]
  },
  {
   "cell_type": "markdown",
   "metadata": {},
   "source": [
    "We want the unlink codes in order, so the last is the first link failure:"
   ]
  },
  {
   "cell_type": "code",
   "execution_count": 9,
   "metadata": {},
   "outputs": [],
   "source": [
    "unlink_codes = ['no-author-rec', 'no-book-author', 'no-book']"
   ]
  },
  {
   "cell_type": "markdown",
   "metadata": {},
   "source": [
    "Now we can load gender data:"
   ]
  },
  {
   "cell_type": "code",
   "execution_count": 12,
   "metadata": {},
   "outputs": [
    {
     "data": {
      "text/plain": [
       "count           27456006\n",
       "unique                 6\n",
       "top       no-book-author\n",
       "freq            18556078\n",
       "Name: gender, dtype: object"
      ]
     },
     "execution_count": 12,
     "metadata": {},
     "output_type": "execute_result"
    }
   ],
   "source": [
    "viaf_genders = pd.read_parquet('book-links/cluster-genders.parquet')\n",
    "viaf_genders = viaf_genders.set_index('cluster')['gender']\n",
    "viaf_genders = viaf_genders.astype('category')\n",
    "viaf_genders.cat.add_categories('no-book', inplace=True)\n",
    "viaf_genders.cat.reorder_categories(link_codes + unlink_codes, inplace=True)\n",
    "viaf_genders.describe()"
   ]
  },
  {
   "cell_type": "code",
   "execution_count": 14,
   "metadata": {},
   "outputs": [
    {
     "data": {
      "text/plain": [
       "isbn_id\n",
       "8192        107985306\n",
       "1535270     107985306\n",
       "34895       107985306\n",
       "1544287     107985306\n",
       "14361445    107985306\n",
       "              ...    \n",
       "24503756    421833421\n",
       "24503757    416168734\n",
       "24503758    418243823\n",
       "24503760    924503760\n",
       "24503761    419058241\n",
       "Name: cluster, Length: 24503761, dtype: int32"
      ]
     },
     "execution_count": 14,
     "metadata": {},
     "output_type": "execute_result"
    }
   ],
   "source": [
    "isbn_clusters = pd.read_parquet('book-links/isbn-clusters.parquet')\n",
    "isbn_clusters = isbn_clusters.set_index('isbn_id')['cluster']\n",
    "isbn_clusters"
   ]
  },
  {
   "cell_type": "markdown",
   "metadata": {},
   "source": [
    "Define a variable to store all of these:"
   ]
  },
  {
   "cell_type": "code",
   "execution_count": 24,
   "metadata": {},
   "outputs": [],
   "source": [
    "source_stats = {}"
   ]
  },
  {
   "cell_type": "markdown",
   "metadata": {},
   "source": [
    "### LOC book corpus"
   ]
  },
  {
   "cell_type": "code",
   "execution_count": 15,
   "metadata": {},
   "outputs": [
    {
     "data": {
      "text/html": [
       "<div>\n",
       "<style scoped>\n",
       "    .dataframe tbody tr th:only-of-type {\n",
       "        vertical-align: middle;\n",
       "    }\n",
       "\n",
       "    .dataframe tbody tr th {\n",
       "        vertical-align: top;\n",
       "    }\n",
       "\n",
       "    .dataframe thead th {\n",
       "        text-align: right;\n",
       "    }\n",
       "</style>\n",
       "<table border=\"1\" class=\"dataframe\">\n",
       "  <thead>\n",
       "    <tr style=\"text-align: right;\">\n",
       "      <th></th>\n",
       "      <th>rec_id</th>\n",
       "      <th>isbn_id</th>\n",
       "      <th>cluster</th>\n",
       "    </tr>\n",
       "  </thead>\n",
       "  <tbody>\n",
       "    <tr>\n",
       "      <th>0</th>\n",
       "      <td>6668210</td>\n",
       "      <td>1099</td>\n",
       "      <td>306668210</td>\n",
       "    </tr>\n",
       "    <tr>\n",
       "      <th>1</th>\n",
       "      <td>2031934</td>\n",
       "      <td>1195</td>\n",
       "      <td>111653002</td>\n",
       "    </tr>\n",
       "    <tr>\n",
       "      <th>2</th>\n",
       "      <td>4929131</td>\n",
       "      <td>1424</td>\n",
       "      <td>108941332</td>\n",
       "    </tr>\n",
       "    <tr>\n",
       "      <th>3</th>\n",
       "      <td>1998335</td>\n",
       "      <td>1605</td>\n",
       "      <td>107690969</td>\n",
       "    </tr>\n",
       "    <tr>\n",
       "      <th>4</th>\n",
       "      <td>2173918</td>\n",
       "      <td>1632</td>\n",
       "      <td>112319582</td>\n",
       "    </tr>\n",
       "    <tr>\n",
       "      <th>...</th>\n",
       "      <td>...</td>\n",
       "      <td>...</td>\n",
       "      <td>...</td>\n",
       "    </tr>\n",
       "    <tr>\n",
       "      <th>7763013</th>\n",
       "      <td>6167000</td>\n",
       "      <td>23511157</td>\n",
       "      <td>108356850</td>\n",
       "    </tr>\n",
       "    <tr>\n",
       "      <th>7763014</th>\n",
       "      <td>6585760</td>\n",
       "      <td>23511162</td>\n",
       "      <td>105814132</td>\n",
       "    </tr>\n",
       "    <tr>\n",
       "      <th>7763015</th>\n",
       "      <td>7010522</td>\n",
       "      <td>23511182</td>\n",
       "      <td>108913038</td>\n",
       "    </tr>\n",
       "    <tr>\n",
       "      <th>7763016</th>\n",
       "      <td>7010774</td>\n",
       "      <td>23511192</td>\n",
       "      <td>108773582</td>\n",
       "    </tr>\n",
       "    <tr>\n",
       "      <th>7763017</th>\n",
       "      <td>6737750</td>\n",
       "      <td>23515212</td>\n",
       "      <td>106175269</td>\n",
       "    </tr>\n",
       "  </tbody>\n",
       "</table>\n",
       "<p>7763018 rows × 3 columns</p>\n",
       "</div>"
      ],
      "text/plain": [
       "          rec_id   isbn_id    cluster\n",
       "0        6668210      1099  306668210\n",
       "1        2031934      1195  111653002\n",
       "2        4929131      1424  108941332\n",
       "3        1998335      1605  107690969\n",
       "4        2173918      1632  112319582\n",
       "...          ...       ...        ...\n",
       "7763013  6167000  23511157  108356850\n",
       "7763014  6585760  23511162  105814132\n",
       "7763015  7010522  23511182  108913038\n",
       "7763016  7010774  23511192  108773582\n",
       "7763017  6737750  23515212  106175269\n",
       "\n",
       "[7763018 rows x 3 columns]"
      ]
     },
     "execution_count": 15,
     "metadata": {},
     "output_type": "execute_result"
    }
   ],
   "source": [
    "loc_isbns = pd.read_parquet('loc-mds/book-isbn-ids.parquet')\n",
    "loc_clusters = loc_isbns.join(isbn_clusters, on='isbn_id')\n",
    "loc_clusters"
   ]
  },
  {
   "cell_type": "code",
   "execution_count": 17,
   "metadata": {},
   "outputs": [
    {
     "data": {
      "text/html": [
       "<div>\n",
       "<style scoped>\n",
       "    .dataframe tbody tr th:only-of-type {\n",
       "        vertical-align: middle;\n",
       "    }\n",
       "\n",
       "    .dataframe tbody tr th {\n",
       "        vertical-align: top;\n",
       "    }\n",
       "\n",
       "    .dataframe thead th {\n",
       "        text-align: right;\n",
       "    }\n",
       "</style>\n",
       "<table border=\"1\" class=\"dataframe\">\n",
       "  <thead>\n",
       "    <tr style=\"text-align: right;\">\n",
       "      <th></th>\n",
       "      <th>rec_id</th>\n",
       "      <th>isbn_id</th>\n",
       "      <th>cluster</th>\n",
       "      <th>gender</th>\n",
       "    </tr>\n",
       "  </thead>\n",
       "  <tbody>\n",
       "    <tr>\n",
       "      <th>0</th>\n",
       "      <td>6668210</td>\n",
       "      <td>1099</td>\n",
       "      <td>306668210</td>\n",
       "      <td>male</td>\n",
       "    </tr>\n",
       "    <tr>\n",
       "      <th>1</th>\n",
       "      <td>2031934</td>\n",
       "      <td>1195</td>\n",
       "      <td>111653002</td>\n",
       "      <td>male</td>\n",
       "    </tr>\n",
       "    <tr>\n",
       "      <th>2</th>\n",
       "      <td>4929131</td>\n",
       "      <td>1424</td>\n",
       "      <td>108941332</td>\n",
       "      <td>male</td>\n",
       "    </tr>\n",
       "    <tr>\n",
       "      <th>3</th>\n",
       "      <td>1998335</td>\n",
       "      <td>1605</td>\n",
       "      <td>107690969</td>\n",
       "      <td>no-book-author</td>\n",
       "    </tr>\n",
       "    <tr>\n",
       "      <th>4</th>\n",
       "      <td>2173918</td>\n",
       "      <td>1632</td>\n",
       "      <td>112319582</td>\n",
       "      <td>female</td>\n",
       "    </tr>\n",
       "    <tr>\n",
       "      <th>...</th>\n",
       "      <td>...</td>\n",
       "      <td>...</td>\n",
       "      <td>...</td>\n",
       "      <td>...</td>\n",
       "    </tr>\n",
       "    <tr>\n",
       "      <th>7763013</th>\n",
       "      <td>6167000</td>\n",
       "      <td>23511157</td>\n",
       "      <td>108356850</td>\n",
       "      <td>male</td>\n",
       "    </tr>\n",
       "    <tr>\n",
       "      <th>7763014</th>\n",
       "      <td>6585760</td>\n",
       "      <td>23511162</td>\n",
       "      <td>105814132</td>\n",
       "      <td>no-author-rec</td>\n",
       "    </tr>\n",
       "    <tr>\n",
       "      <th>7763015</th>\n",
       "      <td>7010522</td>\n",
       "      <td>23511182</td>\n",
       "      <td>108913038</td>\n",
       "      <td>no-author-rec</td>\n",
       "    </tr>\n",
       "    <tr>\n",
       "      <th>7763016</th>\n",
       "      <td>7010774</td>\n",
       "      <td>23511192</td>\n",
       "      <td>108773582</td>\n",
       "      <td>male</td>\n",
       "    </tr>\n",
       "    <tr>\n",
       "      <th>7763017</th>\n",
       "      <td>6737750</td>\n",
       "      <td>23515212</td>\n",
       "      <td>106175269</td>\n",
       "      <td>no-book-author</td>\n",
       "    </tr>\n",
       "  </tbody>\n",
       "</table>\n",
       "<p>7763018 rows × 4 columns</p>\n",
       "</div>"
      ],
      "text/plain": [
       "          rec_id   isbn_id    cluster          gender\n",
       "0        6668210      1099  306668210            male\n",
       "1        2031934      1195  111653002            male\n",
       "2        4929131      1424  108941332            male\n",
       "3        1998335      1605  107690969  no-book-author\n",
       "4        2173918      1632  112319582          female\n",
       "...          ...       ...        ...             ...\n",
       "7763013  6167000  23511157  108356850            male\n",
       "7763014  6585760  23511162  105814132   no-author-rec\n",
       "7763015  7010522  23511182  108913038   no-author-rec\n",
       "7763016  7010774  23511192  108773582            male\n",
       "7763017  6737750  23515212  106175269  no-book-author\n",
       "\n",
       "[7763018 rows x 4 columns]"
      ]
     },
     "execution_count": 17,
     "metadata": {},
     "output_type": "execute_result"
    }
   ],
   "source": [
    "loc_genders = loc_clusters.join(viaf_genders, on='cluster', how='left')\n",
    "loc_genders"
   ]
  },
  {
   "cell_type": "code",
   "execution_count": 34,
   "metadata": {},
   "outputs": [
    {
     "data": {
      "text/html": [
       "<div>\n",
       "<style scoped>\n",
       "    .dataframe tbody tr th:only-of-type {\n",
       "        vertical-align: middle;\n",
       "    }\n",
       "\n",
       "    .dataframe tbody tr th {\n",
       "        vertical-align: top;\n",
       "    }\n",
       "\n",
       "    .dataframe thead th {\n",
       "        text-align: right;\n",
       "    }\n",
       "</style>\n",
       "<table border=\"1\" class=\"dataframe\">\n",
       "  <thead>\n",
       "    <tr style=\"text-align: right;\">\n",
       "      <th></th>\n",
       "      <th>n_books</th>\n",
       "    </tr>\n",
       "    <tr>\n",
       "      <th>gender</th>\n",
       "      <th></th>\n",
       "    </tr>\n",
       "  </thead>\n",
       "  <tbody>\n",
       "    <tr>\n",
       "      <th>female</th>\n",
       "      <td>1085968</td>\n",
       "    </tr>\n",
       "    <tr>\n",
       "      <th>male</th>\n",
       "      <td>3348804</td>\n",
       "    </tr>\n",
       "    <tr>\n",
       "      <th>ambiguous</th>\n",
       "      <td>124813</td>\n",
       "    </tr>\n",
       "    <tr>\n",
       "      <th>unknown</th>\n",
       "      <td>1646571</td>\n",
       "    </tr>\n",
       "    <tr>\n",
       "      <th>no-author-rec</th>\n",
       "      <td>384575</td>\n",
       "    </tr>\n",
       "    <tr>\n",
       "      <th>no-book-author</th>\n",
       "      <td>1172287</td>\n",
       "    </tr>\n",
       "    <tr>\n",
       "      <th>no-book</th>\n",
       "      <td>0</td>\n",
       "    </tr>\n",
       "  </tbody>\n",
       "</table>\n",
       "</div>"
      ],
      "text/plain": [
       "                n_books\n",
       "gender                 \n",
       "female          1085968\n",
       "male            3348804\n",
       "ambiguous        124813\n",
       "unknown         1646571\n",
       "no-author-rec    384575\n",
       "no-book-author  1172287\n",
       "no-book               0"
      ]
     },
     "execution_count": 34,
     "metadata": {},
     "output_type": "execute_result"
    }
   ],
   "source": [
    "loc_stats = loc_genders.groupby('gender')['rec_id'].count()\n",
    "loc_stats = loc_stats.to_frame('n_books')\n",
    "loc_stats"
   ]
  },
  {
   "cell_type": "code",
   "execution_count": 35,
   "metadata": {},
   "outputs": [],
   "source": [
    "source_stats['LOC-MDS'] = loc_stats"
   ]
  },
  {
   "cell_type": "markdown",
   "metadata": {},
   "source": [
    "### BookCrossing\n",
    "\n",
    "We want to process action genders.  Each action frame will have an 'item' column that we use - let's define a helper function:"
   ]
  },
  {
   "cell_type": "code",
   "execution_count": 32,
   "metadata": {},
   "outputs": [],
   "source": [
    "def action_stats(df):\n",
    "    joined = df.join(viaf_genders, on='item', how='left')\n",
    "    joined['gender'].fillna('no-book', inplace=True)\n",
    "    return joined.groupby('gender')['item'].agg(['nunique', 'count']).rename(columns={\n",
    "        'nunique': 'n_books',\n",
    "        'count': 'n_actions'\n",
    "    })"
   ]
  },
  {
   "cell_type": "markdown",
   "metadata": {},
   "source": [
    "Do the implicit actions:"
   ]
  },
  {
   "cell_type": "code",
   "execution_count": 27,
   "metadata": {},
   "outputs": [
    {
     "name": "stdout",
     "output_type": "stream",
     "text": [
      "<class 'pandas.core.frame.DataFrame'>\n",
      "RangeIndex: 1128998 entries, 0 to 1128997\n",
      "Data columns (total 3 columns):\n",
      " #   Column    Non-Null Count    Dtype \n",
      "---  ------    --------------    ----- \n",
      " 0   user      1128998 non-null  int64 \n",
      " 1   item      1128998 non-null  int32 \n",
      " 2   nactions  1128998 non-null  uint64\n",
      "dtypes: int32(1), int64(1), uint64(1)\n",
      "memory usage: 21.5 MB\n"
     ]
    }
   ],
   "source": [
    "bx_actions = pd.read_parquet('bx/bx-cluster-actions.parquet')\n",
    "bx_actions.info()"
   ]
  },
  {
   "cell_type": "code",
   "execution_count": 33,
   "metadata": {},
   "outputs": [
    {
     "data": {
      "text/html": [
       "<div>\n",
       "<style scoped>\n",
       "    .dataframe tbody tr th:only-of-type {\n",
       "        vertical-align: middle;\n",
       "    }\n",
       "\n",
       "    .dataframe tbody tr th {\n",
       "        vertical-align: top;\n",
       "    }\n",
       "\n",
       "    .dataframe thead th {\n",
       "        text-align: right;\n",
       "    }\n",
       "</style>\n",
       "<table border=\"1\" class=\"dataframe\">\n",
       "  <thead>\n",
       "    <tr style=\"text-align: right;\">\n",
       "      <th></th>\n",
       "      <th>n_books</th>\n",
       "      <th>n_actions</th>\n",
       "    </tr>\n",
       "    <tr>\n",
       "      <th>gender</th>\n",
       "      <th></th>\n",
       "      <th></th>\n",
       "    </tr>\n",
       "  </thead>\n",
       "  <tbody>\n",
       "    <tr>\n",
       "      <th>female</th>\n",
       "      <td>67032</td>\n",
       "      <td>388074</td>\n",
       "    </tr>\n",
       "    <tr>\n",
       "      <th>male</th>\n",
       "      <td>97858</td>\n",
       "      <td>464561</td>\n",
       "    </tr>\n",
       "    <tr>\n",
       "      <th>ambiguous</th>\n",
       "      <td>7125</td>\n",
       "      <td>80623</td>\n",
       "    </tr>\n",
       "    <tr>\n",
       "      <th>unknown</th>\n",
       "      <td>34769</td>\n",
       "      <td>77991</td>\n",
       "    </tr>\n",
       "    <tr>\n",
       "      <th>no-author-rec</th>\n",
       "      <td>14001</td>\n",
       "      <td>23288</td>\n",
       "    </tr>\n",
       "    <tr>\n",
       "      <th>no-book-author</th>\n",
       "      <td>56967</td>\n",
       "      <td>87925</td>\n",
       "    </tr>\n",
       "    <tr>\n",
       "      <th>no-book</th>\n",
       "      <td>969</td>\n",
       "      <td>6536</td>\n",
       "    </tr>\n",
       "  </tbody>\n",
       "</table>\n",
       "</div>"
      ],
      "text/plain": [
       "                n_books  n_actions\n",
       "gender                            \n",
       "female            67032     388074\n",
       "male              97858     464561\n",
       "ambiguous          7125      80623\n",
       "unknown           34769      77991\n",
       "no-author-rec     14001      23288\n",
       "no-book-author    56967      87925\n",
       "no-book             969       6536"
      ]
     },
     "execution_count": 33,
     "metadata": {},
     "output_type": "execute_result"
    }
   ],
   "source": [
    "bx_act_stats = action_stats(bx_actions)\n",
    "bx_act_stats"
   ]
  },
  {
   "cell_type": "code",
   "execution_count": 36,
   "metadata": {},
   "outputs": [],
   "source": [
    "source_stats['BX-I'] = bx_act_stats"
   ]
  },
  {
   "cell_type": "markdown",
   "metadata": {},
   "source": [
    "And now we do ratings:"
   ]
  },
  {
   "cell_type": "code",
   "execution_count": 37,
   "metadata": {},
   "outputs": [
    {
     "name": "stdout",
     "output_type": "stream",
     "text": [
      "<class 'pandas.core.frame.DataFrame'>\n",
      "RangeIndex: 427122 entries, 0 to 427121\n",
      "Data columns (total 4 columns):\n",
      " #   Column    Non-Null Count   Dtype  \n",
      "---  ------    --------------   -----  \n",
      " 0   user      427122 non-null  int64  \n",
      " 1   item      427122 non-null  int32  \n",
      " 2   rating    427122 non-null  float32\n",
      " 3   nratings  427122 non-null  uint64 \n",
      "dtypes: float32(1), int32(1), int64(1), uint64(1)\n",
      "memory usage: 9.8 MB\n"
     ]
    }
   ],
   "source": [
    "bx_ratings = pd.read_parquet('bx/bx-cluster-ratings.parquet')\n",
    "bx_ratings.info()"
   ]
  },
  {
   "cell_type": "code",
   "execution_count": 38,
   "metadata": {},
   "outputs": [
    {
     "data": {
      "text/html": [
       "<div>\n",
       "<style scoped>\n",
       "    .dataframe tbody tr th:only-of-type {\n",
       "        vertical-align: middle;\n",
       "    }\n",
       "\n",
       "    .dataframe tbody tr th {\n",
       "        vertical-align: top;\n",
       "    }\n",
       "\n",
       "    .dataframe thead th {\n",
       "        text-align: right;\n",
       "    }\n",
       "</style>\n",
       "<table border=\"1\" class=\"dataframe\">\n",
       "  <thead>\n",
       "    <tr style=\"text-align: right;\">\n",
       "      <th></th>\n",
       "      <th>n_books</th>\n",
       "      <th>n_actions</th>\n",
       "    </tr>\n",
       "    <tr>\n",
       "      <th>gender</th>\n",
       "      <th></th>\n",
       "      <th></th>\n",
       "    </tr>\n",
       "  </thead>\n",
       "  <tbody>\n",
       "    <tr>\n",
       "      <th>female</th>\n",
       "      <td>37984</td>\n",
       "      <td>137395</td>\n",
       "    </tr>\n",
       "    <tr>\n",
       "      <th>male</th>\n",
       "      <td>56291</td>\n",
       "      <td>183505</td>\n",
       "    </tr>\n",
       "    <tr>\n",
       "      <th>ambiguous</th>\n",
       "      <td>4194</td>\n",
       "      <td>32517</td>\n",
       "    </tr>\n",
       "    <tr>\n",
       "      <th>unknown</th>\n",
       "      <td>16988</td>\n",
       "      <td>27530</td>\n",
       "    </tr>\n",
       "    <tr>\n",
       "      <th>no-author-rec</th>\n",
       "      <td>6872</td>\n",
       "      <td>8751</td>\n",
       "    </tr>\n",
       "    <tr>\n",
       "      <th>no-book-author</th>\n",
       "      <td>28336</td>\n",
       "      <td>34826</td>\n",
       "    </tr>\n",
       "    <tr>\n",
       "      <th>no-book</th>\n",
       "      <td>667</td>\n",
       "      <td>2598</td>\n",
       "    </tr>\n",
       "  </tbody>\n",
       "</table>\n",
       "</div>"
      ],
      "text/plain": [
       "                n_books  n_actions\n",
       "gender                            \n",
       "female            37984     137395\n",
       "male              56291     183505\n",
       "ambiguous          4194      32517\n",
       "unknown           16988      27530\n",
       "no-author-rec      6872       8751\n",
       "no-book-author    28336      34826\n",
       "no-book             667       2598"
      ]
     },
     "execution_count": 38,
     "metadata": {},
     "output_type": "execute_result"
    }
   ],
   "source": [
    "bx_rate_stats = action_stats(bx_ratings)\n",
    "bx_rate_stats"
   ]
  },
  {
   "cell_type": "code",
   "execution_count": 39,
   "metadata": {},
   "outputs": [],
   "source": [
    "source_stats['BX-E'] = bx_rate_stats"
   ]
  },
  {
   "cell_type": "markdown",
   "metadata": {},
   "source": [
    "### Amazon data\n",
    "\n",
    "Let's process the Amazon data:"
   ]
  },
  {
   "cell_type": "code",
   "execution_count": null,
   "metadata": {},
   "outputs": [],
   "source": [
    "az_ratings = pd.read_parquet('bx/bx-cluster-actions.parquet')\n",
    "az_ratings.info()"
   ]
  },
  {
   "cell_type": "markdown",
   "metadata": {},
   "source": [
    "### Integrating Statistics\n",
    "\n",
    "Time to integrate all of these:"
   ]
  },
  {
   "cell_type": "code",
   "execution_count": 40,
   "metadata": {},
   "outputs": [
    {
     "data": {
      "text/html": [
       "<div>\n",
       "<style scoped>\n",
       "    .dataframe tbody tr th:only-of-type {\n",
       "        vertical-align: middle;\n",
       "    }\n",
       "\n",
       "    .dataframe tbody tr th {\n",
       "        vertical-align: top;\n",
       "    }\n",
       "\n",
       "    .dataframe thead th {\n",
       "        text-align: right;\n",
       "    }\n",
       "</style>\n",
       "<table border=\"1\" class=\"dataframe\">\n",
       "  <thead>\n",
       "    <tr style=\"text-align: right;\">\n",
       "      <th></th>\n",
       "      <th></th>\n",
       "      <th>n_books</th>\n",
       "      <th>n_actions</th>\n",
       "    </tr>\n",
       "    <tr>\n",
       "      <th>dataset</th>\n",
       "      <th>gender</th>\n",
       "      <th></th>\n",
       "      <th></th>\n",
       "    </tr>\n",
       "  </thead>\n",
       "  <tbody>\n",
       "    <tr>\n",
       "      <th rowspan=\"7\" valign=\"top\">LOC-MDS</th>\n",
       "      <th>female</th>\n",
       "      <td>1085968</td>\n",
       "      <td>NaN</td>\n",
       "    </tr>\n",
       "    <tr>\n",
       "      <th>male</th>\n",
       "      <td>3348804</td>\n",
       "      <td>NaN</td>\n",
       "    </tr>\n",
       "    <tr>\n",
       "      <th>ambiguous</th>\n",
       "      <td>124813</td>\n",
       "      <td>NaN</td>\n",
       "    </tr>\n",
       "    <tr>\n",
       "      <th>unknown</th>\n",
       "      <td>1646571</td>\n",
       "      <td>NaN</td>\n",
       "    </tr>\n",
       "    <tr>\n",
       "      <th>no-author-rec</th>\n",
       "      <td>384575</td>\n",
       "      <td>NaN</td>\n",
       "    </tr>\n",
       "    <tr>\n",
       "      <th>no-book-author</th>\n",
       "      <td>1172287</td>\n",
       "      <td>NaN</td>\n",
       "    </tr>\n",
       "    <tr>\n",
       "      <th>no-book</th>\n",
       "      <td>0</td>\n",
       "      <td>NaN</td>\n",
       "    </tr>\n",
       "    <tr>\n",
       "      <th rowspan=\"7\" valign=\"top\">BX-I</th>\n",
       "      <th>female</th>\n",
       "      <td>67032</td>\n",
       "      <td>388074.0</td>\n",
       "    </tr>\n",
       "    <tr>\n",
       "      <th>male</th>\n",
       "      <td>97858</td>\n",
       "      <td>464561.0</td>\n",
       "    </tr>\n",
       "    <tr>\n",
       "      <th>ambiguous</th>\n",
       "      <td>7125</td>\n",
       "      <td>80623.0</td>\n",
       "    </tr>\n",
       "    <tr>\n",
       "      <th>unknown</th>\n",
       "      <td>34769</td>\n",
       "      <td>77991.0</td>\n",
       "    </tr>\n",
       "    <tr>\n",
       "      <th>no-author-rec</th>\n",
       "      <td>14001</td>\n",
       "      <td>23288.0</td>\n",
       "    </tr>\n",
       "    <tr>\n",
       "      <th>no-book-author</th>\n",
       "      <td>56967</td>\n",
       "      <td>87925.0</td>\n",
       "    </tr>\n",
       "    <tr>\n",
       "      <th>no-book</th>\n",
       "      <td>969</td>\n",
       "      <td>6536.0</td>\n",
       "    </tr>\n",
       "    <tr>\n",
       "      <th rowspan=\"7\" valign=\"top\">BX-E</th>\n",
       "      <th>female</th>\n",
       "      <td>37984</td>\n",
       "      <td>137395.0</td>\n",
       "    </tr>\n",
       "    <tr>\n",
       "      <th>male</th>\n",
       "      <td>56291</td>\n",
       "      <td>183505.0</td>\n",
       "    </tr>\n",
       "    <tr>\n",
       "      <th>ambiguous</th>\n",
       "      <td>4194</td>\n",
       "      <td>32517.0</td>\n",
       "    </tr>\n",
       "    <tr>\n",
       "      <th>unknown</th>\n",
       "      <td>16988</td>\n",
       "      <td>27530.0</td>\n",
       "    </tr>\n",
       "    <tr>\n",
       "      <th>no-author-rec</th>\n",
       "      <td>6872</td>\n",
       "      <td>8751.0</td>\n",
       "    </tr>\n",
       "    <tr>\n",
       "      <th>no-book-author</th>\n",
       "      <td>28336</td>\n",
       "      <td>34826.0</td>\n",
       "    </tr>\n",
       "    <tr>\n",
       "      <th>no-book</th>\n",
       "      <td>667</td>\n",
       "      <td>2598.0</td>\n",
       "    </tr>\n",
       "  </tbody>\n",
       "</table>\n",
       "</div>"
      ],
      "text/plain": [
       "                        n_books  n_actions\n",
       "dataset gender                            \n",
       "LOC-MDS female          1085968        NaN\n",
       "        male            3348804        NaN\n",
       "        ambiguous        124813        NaN\n",
       "        unknown         1646571        NaN\n",
       "        no-author-rec    384575        NaN\n",
       "        no-book-author  1172287        NaN\n",
       "        no-book               0        NaN\n",
       "BX-I    female            67032   388074.0\n",
       "        male              97858   464561.0\n",
       "        ambiguous          7125    80623.0\n",
       "        unknown           34769    77991.0\n",
       "        no-author-rec     14001    23288.0\n",
       "        no-book-author    56967    87925.0\n",
       "        no-book             969     6536.0\n",
       "BX-E    female            37984   137395.0\n",
       "        male              56291   183505.0\n",
       "        ambiguous          4194    32517.0\n",
       "        unknown           16988    27530.0\n",
       "        no-author-rec      6872     8751.0\n",
       "        no-book-author    28336    34826.0\n",
       "        no-book             667     2598.0"
      ]
     },
     "execution_count": 40,
     "metadata": {},
     "output_type": "execute_result"
    }
   ],
   "source": [
    "link_stats = pd.concat(source_stats, names=['dataset'])\n",
    "link_stats"
   ]
  },
  {
   "cell_type": "markdown",
   "metadata": {},
   "source": [
    "Now we'll pivot each of our count columns into a table for easier reference."
   ]
  },
  {
   "cell_type": "code",
   "execution_count": 62,
   "metadata": {},
   "outputs": [
    {
     "data": {
      "text/html": [
       "<div>\n",
       "<style scoped>\n",
       "    .dataframe tbody tr th:only-of-type {\n",
       "        vertical-align: middle;\n",
       "    }\n",
       "\n",
       "    .dataframe tbody tr th {\n",
       "        vertical-align: top;\n",
       "    }\n",
       "\n",
       "    .dataframe thead th {\n",
       "        text-align: right;\n",
       "    }\n",
       "</style>\n",
       "<table border=\"1\" class=\"dataframe\">\n",
       "  <thead>\n",
       "    <tr style=\"text-align: right;\">\n",
       "      <th>gender</th>\n",
       "      <th>female</th>\n",
       "      <th>male</th>\n",
       "      <th>ambiguous</th>\n",
       "      <th>unknown</th>\n",
       "      <th>no-author-rec</th>\n",
       "      <th>no-book-author</th>\n",
       "      <th>no-book</th>\n",
       "    </tr>\n",
       "    <tr>\n",
       "      <th>dataset</th>\n",
       "      <th></th>\n",
       "      <th></th>\n",
       "      <th></th>\n",
       "      <th></th>\n",
       "      <th></th>\n",
       "      <th></th>\n",
       "      <th></th>\n",
       "    </tr>\n",
       "  </thead>\n",
       "  <tbody>\n",
       "    <tr>\n",
       "      <th>BX-E</th>\n",
       "      <td>37984</td>\n",
       "      <td>56291</td>\n",
       "      <td>4194</td>\n",
       "      <td>16988</td>\n",
       "      <td>6872</td>\n",
       "      <td>28336</td>\n",
       "      <td>667</td>\n",
       "    </tr>\n",
       "    <tr>\n",
       "      <th>BX-I</th>\n",
       "      <td>67032</td>\n",
       "      <td>97858</td>\n",
       "      <td>7125</td>\n",
       "      <td>34769</td>\n",
       "      <td>14001</td>\n",
       "      <td>56967</td>\n",
       "      <td>969</td>\n",
       "    </tr>\n",
       "    <tr>\n",
       "      <th>LOC-MDS</th>\n",
       "      <td>1085968</td>\n",
       "      <td>3348804</td>\n",
       "      <td>124813</td>\n",
       "      <td>1646571</td>\n",
       "      <td>384575</td>\n",
       "      <td>1172287</td>\n",
       "      <td>0</td>\n",
       "    </tr>\n",
       "  </tbody>\n",
       "</table>\n",
       "</div>"
      ],
      "text/plain": [
       "gender    female     male  ambiguous  unknown  no-author-rec  no-book-author  \\\n",
       "dataset                                                                        \n",
       "BX-E       37984    56291       4194    16988           6872           28336   \n",
       "BX-I       67032    97858       7125    34769          14001           56967   \n",
       "LOC-MDS  1085968  3348804     124813  1646571         384575         1172287   \n",
       "\n",
       "gender   no-book  \n",
       "dataset           \n",
       "BX-E         667  \n",
       "BX-I         969  \n",
       "LOC-MDS        0  "
      ]
     },
     "execution_count": 62,
     "metadata": {},
     "output_type": "execute_result"
    }
   ],
   "source": [
    "book_counts = link_stats['n_books'].unstack()\n",
    "book_counts.sort_index(inplace=True)\n",
    "book_counts"
   ]
  },
  {
   "cell_type": "code",
   "execution_count": 63,
   "metadata": {},
   "outputs": [
    {
     "data": {
      "text/html": [
       "<div>\n",
       "<style scoped>\n",
       "    .dataframe tbody tr th:only-of-type {\n",
       "        vertical-align: middle;\n",
       "    }\n",
       "\n",
       "    .dataframe tbody tr th {\n",
       "        vertical-align: top;\n",
       "    }\n",
       "\n",
       "    .dataframe thead th {\n",
       "        text-align: right;\n",
       "    }\n",
       "</style>\n",
       "<table border=\"1\" class=\"dataframe\">\n",
       "  <thead>\n",
       "    <tr style=\"text-align: right;\">\n",
       "      <th>gender</th>\n",
       "      <th>female</th>\n",
       "      <th>male</th>\n",
       "      <th>ambiguous</th>\n",
       "      <th>unknown</th>\n",
       "      <th>no-author-rec</th>\n",
       "      <th>no-book-author</th>\n",
       "      <th>no-book</th>\n",
       "    </tr>\n",
       "    <tr>\n",
       "      <th>dataset</th>\n",
       "      <th></th>\n",
       "      <th></th>\n",
       "      <th></th>\n",
       "      <th></th>\n",
       "      <th></th>\n",
       "      <th></th>\n",
       "      <th></th>\n",
       "    </tr>\n",
       "  </thead>\n",
       "  <tbody>\n",
       "    <tr>\n",
       "      <th>BX-E</th>\n",
       "      <td>137395.0</td>\n",
       "      <td>183505.0</td>\n",
       "      <td>32517.0</td>\n",
       "      <td>27530.0</td>\n",
       "      <td>8751.0</td>\n",
       "      <td>34826.0</td>\n",
       "      <td>2598.0</td>\n",
       "    </tr>\n",
       "    <tr>\n",
       "      <th>BX-I</th>\n",
       "      <td>388074.0</td>\n",
       "      <td>464561.0</td>\n",
       "      <td>80623.0</td>\n",
       "      <td>77991.0</td>\n",
       "      <td>23288.0</td>\n",
       "      <td>87925.0</td>\n",
       "      <td>6536.0</td>\n",
       "    </tr>\n",
       "  </tbody>\n",
       "</table>\n",
       "</div>"
      ],
      "text/plain": [
       "gender     female      male  ambiguous  unknown  no-author-rec  \\\n",
       "dataset                                                          \n",
       "BX-E     137395.0  183505.0    32517.0  27530.0         8751.0   \n",
       "BX-I     388074.0  464561.0    80623.0  77991.0        23288.0   \n",
       "\n",
       "gender   no-book-author  no-book  \n",
       "dataset                           \n",
       "BX-E            34826.0   2598.0  \n",
       "BX-I            87925.0   6536.0  "
      ]
     },
     "execution_count": 63,
     "metadata": {},
     "output_type": "execute_result"
    }
   ],
   "source": [
    "act_counts = link_stats['n_actions'].unstack()\n",
    "act_counts.drop(index='LOC-MDS', inplace=True)\n",
    "act_counts.sort_index(inplace=True)\n",
    "act_counts"
   ]
  },
  {
   "cell_type": "markdown",
   "metadata": {},
   "source": [
    "We're going to want to compute versions of this table as fractions, e.g. the fraction of books that are written by women.  We will use the following helper function:"
   ]
  },
  {
   "cell_type": "code",
   "execution_count": 64,
   "metadata": {},
   "outputs": [],
   "source": [
    "def fractionalize(data, columns, unlinked=None):\n",
    "    fracs = data[columns]\n",
    "    fracs.columns = fracs.columns.astype('str')\n",
    "    if unlinked:\n",
    "        fracs = fracs.assign(unlinked=data[unlinked].sum(axis=1))\n",
    "    totals = fracs.sum(axis=1)\n",
    "    return fracs.divide(totals, axis=0)"
   ]
  },
  {
   "cell_type": "markdown",
   "metadata": {},
   "source": [
    "And a helper function for plotting bar charts:"
   ]
  },
  {
   "cell_type": "code",
   "execution_count": 65,
   "metadata": {},
   "outputs": [],
   "source": [
    "def plot_bars(fracs, ax=None, cmap=mpl.cm.Dark2):\n",
    "    if ax is None:\n",
    "        ax = plt.gca()\n",
    "    size = 0.5\n",
    "    ind = np.arange(len(fracs))\n",
    "    start = pd.Series(0, index=fracs.index)\n",
    "    for i, col in enumerate(fracs.columns):\n",
    "        vals = fracs.iloc[:, i]\n",
    "        rects = ax.barh(ind, vals, size, left=start, label=col, color=cmap(i))\n",
    "        for j, rec in enumerate(rects):\n",
    "            if vals.iloc[j] < 0.1 or np.isnan(vals.iloc[j]): continue\n",
    "            y = rec.get_y() + rec.get_height() / 2\n",
    "            x = start.iloc[j] + vals.iloc[j] / 2\n",
    "            ax.annotate('{:.1f}%'.format(vals.iloc[j] * 100),\n",
    "                        xy=(x,y), ha='center', va='center', color='white',\n",
    "                        fontweight='bold')\n",
    "        start += vals.fillna(0)\n",
    "    ax.set_xlabel('Fraction of Books')\n",
    "    ax.set_ylabel('Data Set')\n",
    "    ax.set_yticks(ind)\n",
    "    ax.set_yticklabels(fracs.index)\n",
    "    ax.legend(loc='center left', bbox_to_anchor=(1, 0.5))"
   ]
  },
  {
   "cell_type": "markdown",
   "metadata": {},
   "source": [
    "## Resolution of Books\n",
    "\n",
    "What fraction of *unique books* are resolved from each source?"
   ]
  },
  {
   "cell_type": "code",
   "execution_count": 66,
   "metadata": {},
   "outputs": [
    {
     "data": {
      "text/html": [
       "<div>\n",
       "<style scoped>\n",
       "    .dataframe tbody tr th:only-of-type {\n",
       "        vertical-align: middle;\n",
       "    }\n",
       "\n",
       "    .dataframe tbody tr th {\n",
       "        vertical-align: top;\n",
       "    }\n",
       "\n",
       "    .dataframe thead th {\n",
       "        text-align: right;\n",
       "    }\n",
       "</style>\n",
       "<table border=\"1\" class=\"dataframe\">\n",
       "  <thead>\n",
       "    <tr style=\"text-align: right;\">\n",
       "      <th>gender</th>\n",
       "      <th>female</th>\n",
       "      <th>male</th>\n",
       "      <th>ambiguous</th>\n",
       "      <th>unknown</th>\n",
       "      <th>no-author-rec</th>\n",
       "      <th>no-book-author</th>\n",
       "      <th>no-book</th>\n",
       "    </tr>\n",
       "    <tr>\n",
       "      <th>dataset</th>\n",
       "      <th></th>\n",
       "      <th></th>\n",
       "      <th></th>\n",
       "      <th></th>\n",
       "      <th></th>\n",
       "      <th></th>\n",
       "      <th></th>\n",
       "    </tr>\n",
       "  </thead>\n",
       "  <tbody>\n",
       "    <tr>\n",
       "      <th>BX-E</th>\n",
       "      <td>0.250998</td>\n",
       "      <td>0.371970</td>\n",
       "      <td>0.027714</td>\n",
       "      <td>0.112256</td>\n",
       "      <td>0.045410</td>\n",
       "      <td>0.187244</td>\n",
       "      <td>0.004408</td>\n",
       "    </tr>\n",
       "    <tr>\n",
       "      <th>BX-I</th>\n",
       "      <td>0.240499</td>\n",
       "      <td>0.351097</td>\n",
       "      <td>0.025563</td>\n",
       "      <td>0.124745</td>\n",
       "      <td>0.050233</td>\n",
       "      <td>0.204387</td>\n",
       "      <td>0.003477</td>\n",
       "    </tr>\n",
       "    <tr>\n",
       "      <th>LOC-MDS</th>\n",
       "      <td>0.139890</td>\n",
       "      <td>0.431379</td>\n",
       "      <td>0.016078</td>\n",
       "      <td>0.212104</td>\n",
       "      <td>0.049539</td>\n",
       "      <td>0.151009</td>\n",
       "      <td>0.000000</td>\n",
       "    </tr>\n",
       "  </tbody>\n",
       "</table>\n",
       "</div>"
      ],
      "text/plain": [
       "gender     female      male  ambiguous   unknown  no-author-rec  \\\n",
       "dataset                                                           \n",
       "BX-E     0.250998  0.371970   0.027714  0.112256       0.045410   \n",
       "BX-I     0.240499  0.351097   0.025563  0.124745       0.050233   \n",
       "LOC-MDS  0.139890  0.431379   0.016078  0.212104       0.049539   \n",
       "\n",
       "gender   no-book-author   no-book  \n",
       "dataset                            \n",
       "BX-E           0.187244  0.004408  \n",
       "BX-I           0.204387  0.003477  \n",
       "LOC-MDS        0.151009  0.000000  "
      ]
     },
     "execution_count": 66,
     "metadata": {},
     "output_type": "execute_result"
    }
   ],
   "source": [
    "fractionalize(book_counts, link_codes + unlink_codes)"
   ]
  },
  {
   "cell_type": "code",
   "execution_count": 67,
   "metadata": {},
   "outputs": [
    {
     "data": {
      "image/png": "[encoded data removed]",
      "text/plain": [
       "<Figure size 432x288 with 1 Axes>"
      ]
     },
     "metadata": {
      "needs_background": "light"
     },
     "output_type": "display_data"
    }
   ],
   "source": [
    "plot_bars(fractionalize(book_counts, link_codes + unlink_codes))"
   ]
  },
  {
   "cell_type": "code",
   "execution_count": 68,
   "metadata": {},
   "outputs": [
    {
     "data": {
      "text/html": [
       "<div>\n",
       "<style scoped>\n",
       "    .dataframe tbody tr th:only-of-type {\n",
       "        vertical-align: middle;\n",
       "    }\n",
       "\n",
       "    .dataframe tbody tr th {\n",
       "        vertical-align: top;\n",
       "    }\n",
       "\n",
       "    .dataframe thead th {\n",
       "        text-align: right;\n",
       "    }\n",
       "</style>\n",
       "<table border=\"1\" class=\"dataframe\">\n",
       "  <thead>\n",
       "    <tr style=\"text-align: right;\">\n",
       "      <th>gender</th>\n",
       "      <th>female</th>\n",
       "      <th>male</th>\n",
       "      <th>ambiguous</th>\n",
       "      <th>unknown</th>\n",
       "      <th>unlinked</th>\n",
       "    </tr>\n",
       "    <tr>\n",
       "      <th>dataset</th>\n",
       "      <th></th>\n",
       "      <th></th>\n",
       "      <th></th>\n",
       "      <th></th>\n",
       "      <th></th>\n",
       "    </tr>\n",
       "  </thead>\n",
       "  <tbody>\n",
       "    <tr>\n",
       "      <th>BX-E</th>\n",
       "      <td>0.250998</td>\n",
       "      <td>0.371970</td>\n",
       "      <td>0.027714</td>\n",
       "      <td>0.112256</td>\n",
       "      <td>0.237062</td>\n",
       "    </tr>\n",
       "    <tr>\n",
       "      <th>BX-I</th>\n",
       "      <td>0.240499</td>\n",
       "      <td>0.351097</td>\n",
       "      <td>0.025563</td>\n",
       "      <td>0.124745</td>\n",
       "      <td>0.258097</td>\n",
       "    </tr>\n",
       "    <tr>\n",
       "      <th>LOC-MDS</th>\n",
       "      <td>0.139890</td>\n",
       "      <td>0.431379</td>\n",
       "      <td>0.016078</td>\n",
       "      <td>0.212104</td>\n",
       "      <td>0.200549</td>\n",
       "    </tr>\n",
       "  </tbody>\n",
       "</table>\n",
       "</div>"
      ],
      "text/plain": [
       "gender     female      male  ambiguous   unknown  unlinked\n",
       "dataset                                                   \n",
       "BX-E     0.250998  0.371970   0.027714  0.112256  0.237062\n",
       "BX-I     0.240499  0.351097   0.025563  0.124745  0.258097\n",
       "LOC-MDS  0.139890  0.431379   0.016078  0.212104  0.200549"
      ]
     },
     "execution_count": 68,
     "metadata": {},
     "output_type": "execute_result"
    }
   ],
   "source": [
    "fractionalize(book_counts, link_codes, unlink_codes)"
   ]
  },
  {
   "cell_type": "code",
   "execution_count": 69,
   "metadata": {},
   "outputs": [
    {
     "data": {
      "image/png": "[encoded data removed]",
      "text/plain": [
       "<Figure size 432x288 with 1 Axes>"
      ]
     },
     "metadata": {
      "needs_background": "light"
     },
     "output_type": "display_data"
    }
   ],
   "source": [
    "plot_bars(fractionalize(book_counts, link_codes, unlink_codes))"
   ]
  },
  {
   "cell_type": "code",
   "execution_count": 70,
   "metadata": {},
   "outputs": [
    {
     "data": {
      "image/png": "[encoded data removed]",
      "text/plain": [
       "<Figure size 432x288 with 1 Axes>"
      ]
     },
     "metadata": {
      "needs_background": "light"
     },
     "output_type": "display_data"
    }
   ],
   "source": [
    "plot_bars(fractionalize(book_counts, ['female', 'male']))"
   ]
  },
  {
   "cell_type": "markdown",
   "metadata": {},
   "source": [
    "## Resolution of Ratings\n",
    "\n",
    "What fraction of *rating actions* have each resolution result?"
   ]
  },
  {
   "cell_type": "code",
   "execution_count": 71,
   "metadata": {},
   "outputs": [
    {
     "data": {
      "text/html": [
       "<div>\n",
       "<style scoped>\n",
       "    .dataframe tbody tr th:only-of-type {\n",
       "        vertical-align: middle;\n",
       "    }\n",
       "\n",
       "    .dataframe tbody tr th {\n",
       "        vertical-align: top;\n",
       "    }\n",
       "\n",
       "    .dataframe thead th {\n",
       "        text-align: right;\n",
       "    }\n",
       "</style>\n",
       "<table border=\"1\" class=\"dataframe\">\n",
       "  <thead>\n",
       "    <tr style=\"text-align: right;\">\n",
       "      <th>gender</th>\n",
       "      <th>female</th>\n",
       "      <th>male</th>\n",
       "      <th>ambiguous</th>\n",
       "      <th>unknown</th>\n",
       "      <th>no-author-rec</th>\n",
       "      <th>no-book-author</th>\n",
       "      <th>no-book</th>\n",
       "    </tr>\n",
       "    <tr>\n",
       "      <th>dataset</th>\n",
       "      <th></th>\n",
       "      <th></th>\n",
       "      <th></th>\n",
       "      <th></th>\n",
       "      <th></th>\n",
       "      <th></th>\n",
       "      <th></th>\n",
       "    </tr>\n",
       "  </thead>\n",
       "  <tbody>\n",
       "    <tr>\n",
       "      <th>BX-E</th>\n",
       "      <td>0.321676</td>\n",
       "      <td>0.429631</td>\n",
       "      <td>0.076130</td>\n",
       "      <td>0.064455</td>\n",
       "      <td>0.020488</td>\n",
       "      <td>0.081536</td>\n",
       "      <td>0.006083</td>\n",
       "    </tr>\n",
       "    <tr>\n",
       "      <th>BX-I</th>\n",
       "      <td>0.343733</td>\n",
       "      <td>0.411481</td>\n",
       "      <td>0.071411</td>\n",
       "      <td>0.069080</td>\n",
       "      <td>0.020627</td>\n",
       "      <td>0.077879</td>\n",
       "      <td>0.005789</td>\n",
       "    </tr>\n",
       "  </tbody>\n",
       "</table>\n",
       "</div>"
      ],
      "text/plain": [
       "gender     female      male  ambiguous   unknown  no-author-rec  \\\n",
       "dataset                                                           \n",
       "BX-E     0.321676  0.429631   0.076130  0.064455       0.020488   \n",
       "BX-I     0.343733  0.411481   0.071411  0.069080       0.020627   \n",
       "\n",
       "gender   no-book-author   no-book  \n",
       "dataset                            \n",
       "BX-E           0.081536  0.006083  \n",
       "BX-I           0.077879  0.005789  "
      ]
     },
     "execution_count": 71,
     "metadata": {},
     "output_type": "execute_result"
    }
   ],
   "source": [
    "fractionalize(act_counts, link_codes + unlink_codes)"
   ]
  },
  {
   "cell_type": "code",
   "execution_count": 72,
   "metadata": {},
   "outputs": [
    {
     "data": {
      "image/png": "[encoded data removed]",
      "text/plain": [
       "<Figure size 432x288 with 1 Axes>"
      ]
     },
     "metadata": {
      "needs_background": "light"
     },
     "output_type": "display_data"
    }
   ],
   "source": [
    "plot_bars(fractionalize(act_counts, link_codes + unlink_codes))"
   ]
  },
  {
   "cell_type": "code",
   "execution_count": 55,
   "metadata": {},
   "outputs": [
    {
     "data": {
      "text/html": [
       "<div>\n",
       "<style scoped>\n",
       "    .dataframe tbody tr th:only-of-type {\n",
       "        vertical-align: middle;\n",
       "    }\n",
       "\n",
       "    .dataframe tbody tr th {\n",
       "        vertical-align: top;\n",
       "    }\n",
       "\n",
       "    .dataframe thead th {\n",
       "        text-align: right;\n",
       "    }\n",
       "</style>\n",
       "<table border=\"1\" class=\"dataframe\">\n",
       "  <thead>\n",
       "    <tr style=\"text-align: right;\">\n",
       "      <th>gender</th>\n",
       "      <th>female</th>\n",
       "      <th>male</th>\n",
       "      <th>ambiguous</th>\n",
       "      <th>unknown</th>\n",
       "      <th>unlinked</th>\n",
       "    </tr>\n",
       "    <tr>\n",
       "      <th>dataset</th>\n",
       "      <th></th>\n",
       "      <th></th>\n",
       "      <th></th>\n",
       "      <th></th>\n",
       "      <th></th>\n",
       "    </tr>\n",
       "  </thead>\n",
       "  <tbody>\n",
       "    <tr>\n",
       "      <th>BX-I</th>\n",
       "      <td>0.343733</td>\n",
       "      <td>0.411481</td>\n",
       "      <td>0.071411</td>\n",
       "      <td>0.069080</td>\n",
       "      <td>0.104295</td>\n",
       "    </tr>\n",
       "    <tr>\n",
       "      <th>BX-E</th>\n",
       "      <td>0.321676</td>\n",
       "      <td>0.429631</td>\n",
       "      <td>0.076130</td>\n",
       "      <td>0.064455</td>\n",
       "      <td>0.108107</td>\n",
       "    </tr>\n",
       "  </tbody>\n",
       "</table>\n",
       "</div>"
      ],
      "text/plain": [
       "gender     female      male  ambiguous   unknown  unlinked\n",
       "dataset                                                   \n",
       "BX-I     0.343733  0.411481   0.071411  0.069080  0.104295\n",
       "BX-E     0.321676  0.429631   0.076130  0.064455  0.108107"
      ]
     },
     "execution_count": 55,
     "metadata": {},
     "output_type": "execute_result"
    }
   ],
   "source": [
    "fractionalize(act_counts, link_codes, unlink_codes)"
   ]
  },
  {
   "cell_type": "code",
   "execution_count": 56,
   "metadata": {},
   "outputs": [
    {
     "data": {
      "image/png": "[encoded data removed]",
      "text/plain": [
       "<Figure size 432x288 with 1 Axes>"
      ]
     },
     "metadata": {
      "needs_background": "light"
     },
     "output_type": "display_data"
    }
   ],
   "source": [
    "plot_bars(fractionalize(act_counts, link_codes, unlink_codes))"
   ]
  },
  {
   "cell_type": "code",
   "execution_count": 57,
   "metadata": {},
   "outputs": [
    {
     "data": {
      "image/png": "[encoded data removed]",
      "text/plain": [
       "<Figure size 432x288 with 1 Axes>"
      ]
     },
     "metadata": {
      "needs_background": "light"
     },
     "output_type": "display_data"
    }
   ],
   "source": [
    "plot_bars(fractionalize(act_counts, ['female', 'male']))"
   ]
  },
  {
   "cell_type": "code",
   "execution_count": null,
   "metadata": {},
   "outputs": [],
   "source": []
  }
 ],
 "metadata": {
  "kernelspec": {
   "display_name": "Python 3",
   "language": "python",
   "name": "python3"
  },
  "language_info": {
   "codemirror_mode": {
    "name": "ipython",
    "version": 3
   },
   "file_extension": ".py",
   "mimetype": "text/x-python",
   "name": "python",
   "nbconvert_exporter": "python",
   "pygments_lexer": "ipython3",
   "version": "3.8.10"
  }
 },
 "nbformat": 4,
 "nbformat_minor": 2
}
