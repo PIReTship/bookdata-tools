{
 "cells": [
  {
   "cell_type": "raw",
   "id": "3ceacc27",
   "metadata": {},
   "source": [
    "---\n",
    "title: Book Clustering Statistics\n",
    "---"
   ]
  },
  {
   "cell_type": "markdown",
   "id": "43f8994e",
   "metadata": {},
   "source": [
    "This notebook provides statistics on the results of our book clustering.\n",
    "\n",
    "\n",
    "## Setup\n"
   ]
  },
  {
   "cell_type": "code",
   "execution_count": 1,
   "id": "6fc4ca68",
   "metadata": {},
   "outputs": [
    {
     "name": "stderr",
     "output_type": "stream",
     "text": [
      "── \u001b[1mAttaching core tidyverse packages\u001b[22m ──────────────────────── tidyverse 2.0.0 ──\n",
      "\u001b[32m✔\u001b[39m \u001b[34mdplyr    \u001b[39m 1.1.4     \u001b[32m✔\u001b[39m \u001b[34mreadr    \u001b[39m 2.1.4\n",
      "\u001b[32m✔\u001b[39m \u001b[34mforcats  \u001b[39m 1.0.0     \u001b[32m✔\u001b[39m \u001b[34mstringr  \u001b[39m 1.5.1\n",
      "\u001b[32m✔\u001b[39m \u001b[34mggplot2  \u001b[39m 3.4.4     \u001b[32m✔\u001b[39m \u001b[34mtibble   \u001b[39m 3.2.1\n",
      "\u001b[32m✔\u001b[39m \u001b[34mlubridate\u001b[39m 1.9.3     \u001b[32m✔\u001b[39m \u001b[34mtidyr    \u001b[39m 1.3.0\n",
      "\u001b[32m✔\u001b[39m \u001b[34mpurrr    \u001b[39m 1.0.2     \n"
     ]
    },
    {
     "name": "stderr",
     "output_type": "stream",
     "text": [
      "── \u001b[1mConflicts\u001b[22m ────────────────────────────────────────── tidyverse_conflicts() ──\n",
      "\u001b[31m✖\u001b[39m \u001b[34mdplyr\u001b[39m::\u001b[32mfilter()\u001b[39m masks \u001b[34mstats\u001b[39m::filter()\n",
      "\u001b[31m✖\u001b[39m \u001b[34mdplyr\u001b[39m::\u001b[32mlag()\u001b[39m    masks \u001b[34mstats\u001b[39m::lag()\n",
      "\u001b[36mℹ\u001b[39m Use the conflicted package (\u001b[3m\u001b[34m<http://conflicted.r-lib.org/>\u001b[39m\u001b[23m) to force all conflicts to become errors\n"
     ]
    }
   ],
   "source": [
    "library(tidyverse, warn.conflicts=FALSE)\n",
    "library(arrow, warn.conflicts=FALSE)"
   ]
  },
  {
   "cell_type": "markdown",
   "id": "ef5b3c3a",
   "metadata": {},
   "source": [
    "I want to use `theme_minimal()` by default:\n"
   ]
  },
  {
   "cell_type": "code",
   "execution_count": 2,
   "id": "698fdec9",
   "metadata": {},
   "outputs": [],
   "source": [
    "theme_set(theme_minimal())"
   ]
  },
  {
   "cell_type": "markdown",
   "id": "6c2ac8f7",
   "metadata": {},
   "source": [
    "And default image sizes aren't great:\n"
   ]
  },
  {
   "cell_type": "code",
   "execution_count": 3,
   "id": "b5c1af09",
   "metadata": {},
   "outputs": [],
   "source": [
    "options(repr.plot.width  = 7,\n",
    "        repr.plot.height = 4)"
   ]
  },
  {
   "cell_type": "markdown",
   "id": "16d30c5e",
   "metadata": {},
   "source": [
    "## Load Data\n",
    "\n",
    "Let's start by getting our clusters and their statistics:\n"
   ]
  },
  {
   "cell_type": "code",
   "execution_count": 4,
   "id": "49ba5d75",
   "metadata": {},
   "outputs": [
    {
     "name": "stdout",
     "output_type": "stream",
     "text": [
      "Table\n",
      "40,604,472 rows x 8 columns\n",
      "$ cluster        \u001b[3m\u001b[90m<int32>\u001b[39m\u001b[23m 423896385, 454491654, 424930878, 449145631, 440372971, …\n",
      "$ n_nodes       \u001b[3m\u001b[90m<uint32>\u001b[39m\u001b[23m 2, 2, 2, 2, 2, 2, 2, 2, 2, 2, 2, 2, 2, 2, 2, 2, 2, 2, 2…\n",
      "$ n_isbns       \u001b[3m\u001b[90m<uint32>\u001b[39m\u001b[23m 0, 0, 0, 0, 0, 0, 0, 0, 0, 0, 0, 0, 0, 0, 0, 0, 0, 0, 0…\n",
      "$ n_loc_recs    \u001b[3m\u001b[90m<uint32>\u001b[39m\u001b[23m 0, 0, 0, 0, 0, 0, 0, 0, 0, 0, 0, 0, 0, 0, 0, 0, 0, 0, 0…\n",
      "$ n_ol_editions \u001b[3m\u001b[90m<uint32>\u001b[39m\u001b[23m 0, 0, 0, 0, 0, 0, 0, 0, 0, 0, 0, 0, 0, 0, 0, 0, 0, 0, 0…\n",
      "$ n_ol_works    \u001b[3m\u001b[90m<uint32>\u001b[39m\u001b[23m 0, 0, 0, 0, 0, 0, 0, 0, 0, 0, 0, 0, 0, 0, 0, 0, 0, 0, 0…\n",
      "$ n_gr_books    \u001b[3m\u001b[90m<uint32>\u001b[39m\u001b[23m 1, 1, 1, 1, 1, 1, 1, 1, 1, 1, 1, 1, 1, 1, 1, 1, 1, 1, 1…\n",
      "$ n_gr_works    \u001b[3m\u001b[90m<uint32>\u001b[39m\u001b[23m 1, 1, 1, 1, 1, 1, 1, 1, 1, 1, 1, 1, 1, 1, 1, 1, 1, 1, 1…\n"
     ]
    }
   ],
   "source": [
    "clusters = read_parquet(\"book-links/cluster-stats.parquet\", as_data_frame=FALSE)\n",
    "glimpse(clusters)"
   ]
  },
  {
   "cell_type": "markdown",
   "id": "97ac90ce",
   "metadata": {},
   "source": [
    "Describe the count columns for basic descriptive stats:\n"
   ]
  },
  {
   "cell_type": "code",
   "execution_count": 5,
   "id": "9f6099e5",
   "metadata": {},
   "outputs": [
    {
     "data": {
      "text/plain": [
       "    n_nodes             n_isbns           n_loc_recs        n_ol_editions     \n",
       " Min.   :     1.00   Min.   :    0.00   Min.   :   0.0000   Min.   :    0.00  \n",
       " 1st Qu.:     2.00   1st Qu.:    0.00   1st Qu.:   0.0000   1st Qu.:    1.00  \n",
       " Median :     3.00   Median :    1.00   Median :   0.0000   Median :    1.00  \n",
       " Mean   :     3.39   Mean   :    1.09   Mean   :   0.2382   Mean   :    1.14  \n",
       " 3rd Qu.:     4.00   3rd Qu.:    2.00   3rd Qu.:   0.0000   3rd Qu.:    1.00  \n",
       " Max.   :105055.00   Max.   :50785.00   Max.   :1439.0000   Max.   :43970.00  \n",
       "   n_ol_works          n_gr_books         n_gr_works       \n",
       " Min.   :   0.0000   Min.   :   0.000   Min.   :  0.00000  \n",
       " 1st Qu.:   1.0000   1st Qu.:   0.000   1st Qu.:  0.00000  \n",
       " Median :   1.0000   Median :   0.000   Median :  0.00000  \n",
       " Mean   :   0.8284   Mean   :   0.058   Mean   :  0.03748  \n",
       " 3rd Qu.:   1.0000   3rd Qu.:   0.000   3rd Qu.:  0.00000  \n",
       " Max.   :2329.0000   Max.   :7380.000   Max.   :296.00000  "
      ]
     },
     "metadata": {},
     "output_type": "display_data"
    }
   ],
   "source": [
    "clusters %>%\n",
    "  select(-cluster) %>%\n",
    "  collect() %>%\n",
    "  summary()"
   ]
  },
  {
   "cell_type": "markdown",
   "id": "a69121f0",
   "metadata": {},
   "source": [
    "75% of clusters only contain 2 ISBNs (probably -10 and -13) and one book. OpenLibrary also contributes to the largest number of clusters.\n",
    "\n",
    "## Clusters per Source\n",
    "\n",
    "How many clusters are connected to each source?\n"
   ]
  },
  {
   "cell_type": "code",
   "execution_count": 6,
   "id": "7fd98fa8",
   "metadata": {},
   "outputs": [
    {
     "data": {
      "text/html": [
       "<table class=\"dataframe\">\n",
       "<caption>A tibble: 7 × 2</caption>\n",
       "<thead>\n",
       "\t<tr><th scope=col>source</th><th scope=col>count</th></tr>\n",
       "\t<tr><th scope=col>&lt;chr&gt;</th><th scope=col>&lt;int&gt;</th></tr>\n",
       "</thead>\n",
       "<tbody>\n",
       "\t<tr><td>n_nodes      </td><td>40604472</td></tr>\n",
       "\t<tr><td>n_isbns      </td><td>23987846</td></tr>\n",
       "\t<tr><td>n_loc_recs   </td><td> 9278233</td></tr>\n",
       "\t<tr><td>n_ol_editions</td><td>34071860</td></tr>\n",
       "\t<tr><td>n_ol_works   </td><td>32228071</td></tr>\n",
       "\t<tr><td>n_gr_books   </td><td> 1505252</td></tr>\n",
       "\t<tr><td>n_gr_works   </td><td> 1504728</td></tr>\n",
       "</tbody>\n",
       "</table>\n"
      ],
      "text/latex": [
       "A tibble: 7 × 2\n",
       "\\begin{tabular}{ll}\n",
       " source & count\\\\\n",
       " <chr> & <int>\\\\\n",
       "\\hline\n",
       "\t n\\_nodes       & 40604472\\\\\n",
       "\t n\\_isbns       & 23987846\\\\\n",
       "\t n\\_loc\\_recs    &  9278233\\\\\n",
       "\t n\\_ol\\_editions & 34071860\\\\\n",
       "\t n\\_ol\\_works    & 32228071\\\\\n",
       "\t n\\_gr\\_books    &  1505252\\\\\n",
       "\t n\\_gr\\_works    &  1504728\\\\\n",
       "\\end{tabular}\n"
      ],
      "text/markdown": [
       "\n",
       "A tibble: 7 × 2\n",
       "\n",
       "| source &lt;chr&gt; | count &lt;int&gt; |\n",
       "|---|---|\n",
       "| n_nodes       | 40604472 |\n",
       "| n_isbns       | 23987846 |\n",
       "| n_loc_recs    |  9278233 |\n",
       "| n_ol_editions | 34071860 |\n",
       "| n_ol_works    | 32228071 |\n",
       "| n_gr_books    |  1505252 |\n",
       "| n_gr_works    |  1504728 |\n",
       "\n"
      ],
      "text/plain": [
       "  source        count   \n",
       "1 n_nodes       40604472\n",
       "2 n_isbns       23987846\n",
       "3 n_loc_recs     9278233\n",
       "4 n_ol_editions 34071860\n",
       "5 n_ol_works    32228071\n",
       "6 n_gr_books     1505252\n",
       "7 n_gr_works     1504728"
      ]
     },
     "metadata": {},
     "output_type": "display_data"
    }
   ],
   "source": [
    "src_counts = clusters %>%\n",
    "  summarize(across(-cluster, ~ sum(.x > 0))) %>%\n",
    "  collect() %>%\n",
    "  pivot_longer(everything(), names_to=\"source\", values_to=\"count\")\n",
    "src_counts"
   ]
  },
  {
   "cell_type": "code",
   "execution_count": 7,
   "id": "0dc551e2",
   "metadata": {},
   "outputs": [
    {
     "data": {
      "image/png": "[encoded data removed]",
      "text/plain": [
       "plot without title"
      ]
     },
     "metadata": {
      "image/png": {
       "height": 240,
       "width": 420
      }
     },
     "output_type": "display_data"
    }
   ],
   "source": [
    "ggplot(src_counts, aes(y=source, x=count)) +\n",
    "  geom_bar(stat='identity')"
   ]
  },
  {
   "cell_type": "markdown",
   "id": "9af956fc",
   "metadata": {},
   "source": [
    "## Distributions\n",
    "\n",
    "Let's look at the distributions of cluster sizes.  Let's first compute histograms\n",
    "of the number of records per cluster for each cluster type.\n"
   ]
  },
  {
   "cell_type": "code",
   "execution_count": 8,
   "id": "2976c5cd",
   "metadata": {},
   "outputs": [
    {
     "data": {
      "text/html": [
       "<table class=\"dataframe\">\n",
       "<caption>A tibble: 6 × 3</caption>\n",
       "<thead>\n",
       "\t<tr><th scope=col>rec_type</th><th scope=col>nrecs</th><th scope=col>count</th></tr>\n",
       "\t<tr><th scope=col>&lt;fct&gt;</th><th scope=col>&lt;int&gt;</th><th scope=col>&lt;int&gt;</th></tr>\n",
       "</thead>\n",
       "<tbody>\n",
       "\t<tr><td>n_nodes</td><td>2</td><td>10209603</td></tr>\n",
       "\t<tr><td>n_nodes</td><td>1</td><td> 7001088</td></tr>\n",
       "\t<tr><td>n_nodes</td><td>3</td><td> 9138176</td></tr>\n",
       "\t<tr><td>n_nodes</td><td>4</td><td> 8093059</td></tr>\n",
       "\t<tr><td>n_nodes</td><td>5</td><td> 2145067</td></tr>\n",
       "\t<tr><td>n_nodes</td><td>6</td><td> 1103729</td></tr>\n",
       "</tbody>\n",
       "</table>\n"
      ],
      "text/latex": [
       "A tibble: 6 × 3\n",
       "\\begin{tabular}{lll}\n",
       " rec\\_type & nrecs & count\\\\\n",
       " <fct> & <int> & <int>\\\\\n",
       "\\hline\n",
       "\t n\\_nodes & 2 & 10209603\\\\\n",
       "\t n\\_nodes & 1 &  7001088\\\\\n",
       "\t n\\_nodes & 3 &  9138176\\\\\n",
       "\t n\\_nodes & 4 &  8093059\\\\\n",
       "\t n\\_nodes & 5 &  2145067\\\\\n",
       "\t n\\_nodes & 6 &  1103729\\\\\n",
       "\\end{tabular}\n"
      ],
      "text/markdown": [
       "\n",
       "A tibble: 6 × 3\n",
       "\n",
       "| rec_type &lt;fct&gt; | nrecs &lt;int&gt; | count &lt;int&gt; |\n",
       "|---|---|---|\n",
       "| n_nodes | 2 | 10209603 |\n",
       "| n_nodes | 1 |  7001088 |\n",
       "| n_nodes | 3 |  9138176 |\n",
       "| n_nodes | 4 |  8093059 |\n",
       "| n_nodes | 5 |  2145067 |\n",
       "| n_nodes | 6 |  1103729 |\n",
       "\n"
      ],
      "text/plain": [
       "  rec_type nrecs count   \n",
       "1 n_nodes  2     10209603\n",
       "2 n_nodes  1      7001088\n",
       "3 n_nodes  3      9138176\n",
       "4 n_nodes  4      8093059\n",
       "5 n_nodes  5      2145067\n",
       "6 n_nodes  6      1103729"
      ]
     },
     "metadata": {},
     "output_type": "display_data"
    }
   ],
   "source": [
    "size_dists = collect(clusters) %>%\n",
    "  gather(rec_type, nrecs, -cluster, factor_key=TRUE) %>%\n",
    "  summarize(count=n(), .by=c(\"rec_type\", \"nrecs\"))\n",
    "head(size_dists)"
   ]
  },
  {
   "cell_type": "code",
   "execution_count": 9,
   "id": "19ac774c",
   "metadata": {},
   "outputs": [
    {
     "name": "stderr",
     "output_type": "stream",
     "text": [
      "Warning message:\n",
      "“\u001b[1m\u001b[22mTransformation introduced infinite values in continuous x-axis”\n"
     ]
    },
    {
     "data": {
      "image/png": "[encoded data removed]",
      "text/plain": [
       "plot without title"
      ]
     },
     "metadata": {
      "image/png": {
       "height": 240,
       "width": 420
      }
     },
     "output_type": "display_data"
    }
   ],
   "source": [
    "ggplot(size_dists) +\n",
    "  aes(x=nrecs, y=count, color=rec_type) +\n",
    "  geom_point() +\n",
    "  scale_x_log10() +\n",
    "  scale_y_log10() +\n",
    "  scale_color_brewer(type=\"qual\", palette=\"Dark2\") +\n",
    "  xlab(\"# of Records\") +\n",
    "  xlab(\"# of Clusters\") +\n",
    "  ggtitle(\"Distribution of cluster counts\")"
   ]
  },
  {
   "cell_type": "markdown",
   "id": "7838069c",
   "metadata": {},
   "source": [
    "Looks mostly fine - we expect a lot of power laws - but the number of clusters with merged GoodReads works is concerning.\n",
    "\n",
    "## GoodReads Work Merging\n",
    "\n",
    "What's going on with these clusters? Let's take a peek at them.\n"
   ]
  },
  {
   "cell_type": "code",
   "execution_count": 10,
   "id": "9b36f9b1",
   "metadata": {},
   "outputs": [
    {
     "name": "stdout",
     "output_type": "stream",
     "text": [
      "Table (query)\n",
      "10,044 rows x 8 columns\n",
      "$ cluster        \u001b[3m\u001b[90m<int32>\u001b[39m\u001b[23m 100059755, 100032170, 100156279, 100124809, 100428296, …\n",
      "$ n_nodes       \u001b[3m\u001b[90m<uint32>\u001b[39m\u001b[23m 105055, 9584, 513, 1602, 315, 337, 513, 304, 685, 610, …\n",
      "$ n_isbns       \u001b[3m\u001b[90m<uint32>\u001b[39m\u001b[23m 50785, 4624, 192, 780, 141, 91, 225, 120, 245, 299, 248…\n",
      "$ n_loc_recs    \u001b[3m\u001b[90m<uint32>\u001b[39m\u001b[23m 1439, 281, 6, 55, 1, 38, 6, 3, 2, 0, 0, 1, 105, 113, 0,…\n",
      "$ n_ol_editions \u001b[3m\u001b[90m<uint32>\u001b[39m\u001b[23m 43970, 3720, 110, 462, 51, 64, 113, 75, 185, 170, 153, …\n",
      "$ n_ol_works    \u001b[3m\u001b[90m<uint32>\u001b[39m\u001b[23m 1185, 341, 75, 78, 18, 58, 38, 21, 75, 45, 47, 25, 185,…\n",
      "$ n_gr_books    \u001b[3m\u001b[90m<uint32>\u001b[39m\u001b[23m 7380, 513, 69, 172, 53, 46, 91, 45, 140, 60, 51, 46, 49…\n",
      "$ n_gr_works    \u001b[3m\u001b[90m<uint32>\u001b[39m\u001b[23m 296, 105, 61, 55, 51, 40, 40, 40, 38, 36, 34, 31, 30, 3…\n",
      "Call `print()` for query details\n"
     ]
    }
   ],
   "source": [
    "gr_big = clusters %>%\n",
    "  filter(n_gr_works > 1) %>%\n",
    "  arrange(desc(n_gr_works))\n",
    "gr_big %>% glimpse()"
   ]
  },
  {
   "cell_type": "markdown",
   "id": "f147d62b",
   "metadata": {},
   "source": [
    "We have a lot of these clusters. What fraction of the GoodReads-affected clusters is this?\n"
   ]
  },
  {
   "cell_type": "code",
   "execution_count": 11,
   "id": "73d38920",
   "metadata": {},
   "outputs": [
    {
     "data": {
      "text/plain": [
       "Scalar\n",
       "0.0002473619161948467"
      ]
     },
     "metadata": {},
     "output_type": "display_data"
    }
   ],
   "source": [
    "nrow(gr_big) / sum(!is.na(clusters$n_gr_books))"
   ]
  },
  {
   "cell_type": "markdown",
   "id": "6f77610b",
   "metadata": {},
   "source": [
    "Less than 1%. Not bad, but let's look at these largest clusters.\n"
   ]
  },
  {
   "cell_type": "code",
   "execution_count": 12,
   "id": "ce8465cd",
   "metadata": {},
   "outputs": [
    {
     "data": {
      "text/html": [
       "<table class=\"dataframe\">\n",
       "<caption>A tibble: 6 × 8</caption>\n",
       "<thead>\n",
       "\t<tr><th scope=col>cluster</th><th scope=col>n_nodes</th><th scope=col>n_isbns</th><th scope=col>n_loc_recs</th><th scope=col>n_ol_editions</th><th scope=col>n_ol_works</th><th scope=col>n_gr_books</th><th scope=col>n_gr_works</th></tr>\n",
       "\t<tr><th scope=col>&lt;int&gt;</th><th scope=col>&lt;int&gt;</th><th scope=col>&lt;int&gt;</th><th scope=col>&lt;int&gt;</th><th scope=col>&lt;int&gt;</th><th scope=col>&lt;int&gt;</th><th scope=col>&lt;int&gt;</th><th scope=col>&lt;int&gt;</th></tr>\n",
       "</thead>\n",
       "<tbody>\n",
       "\t<tr><td>100059755</td><td>105055</td><td>50785</td><td>1439</td><td>43970</td><td>1185</td><td>7380</td><td>296</td></tr>\n",
       "\t<tr><td>100032170</td><td>  9584</td><td> 4624</td><td> 281</td><td> 3720</td><td> 341</td><td> 513</td><td>105</td></tr>\n",
       "\t<tr><td>100156279</td><td>   513</td><td>  192</td><td>   6</td><td>  110</td><td>  75</td><td>  69</td><td> 61</td></tr>\n",
       "\t<tr><td>100124809</td><td>  1602</td><td>  780</td><td>  55</td><td>  462</td><td>  78</td><td> 172</td><td> 55</td></tr>\n",
       "\t<tr><td>100428296</td><td>   315</td><td>  141</td><td>   1</td><td>   51</td><td>  18</td><td>  53</td><td> 51</td></tr>\n",
       "\t<tr><td>100673490</td><td>   337</td><td>   91</td><td>  38</td><td>   64</td><td>  58</td><td>  46</td><td> 40</td></tr>\n",
       "</tbody>\n",
       "</table>\n"
      ],
      "text/latex": [
       "A tibble: 6 × 8\n",
       "\\begin{tabular}{llllllll}\n",
       " cluster & n\\_nodes & n\\_isbns & n\\_loc\\_recs & n\\_ol\\_editions & n\\_ol\\_works & n\\_gr\\_books & n\\_gr\\_works\\\\\n",
       " <int> & <int> & <int> & <int> & <int> & <int> & <int> & <int>\\\\\n",
       "\\hline\n",
       "\t 100059755 & 105055 & 50785 & 1439 & 43970 & 1185 & 7380 & 296\\\\\n",
       "\t 100032170 &   9584 &  4624 &  281 &  3720 &  341 &  513 & 105\\\\\n",
       "\t 100156279 &    513 &   192 &    6 &   110 &   75 &   69 &  61\\\\\n",
       "\t 100124809 &   1602 &   780 &   55 &   462 &   78 &  172 &  55\\\\\n",
       "\t 100428296 &    315 &   141 &    1 &    51 &   18 &   53 &  51\\\\\n",
       "\t 100673490 &    337 &    91 &   38 &    64 &   58 &   46 &  40\\\\\n",
       "\\end{tabular}\n"
      ],
      "text/markdown": [
       "\n",
       "A tibble: 6 × 8\n",
       "\n",
       "| cluster &lt;int&gt; | n_nodes &lt;int&gt; | n_isbns &lt;int&gt; | n_loc_recs &lt;int&gt; | n_ol_editions &lt;int&gt; | n_ol_works &lt;int&gt; | n_gr_books &lt;int&gt; | n_gr_works &lt;int&gt; |\n",
       "|---|---|---|---|---|---|---|---|\n",
       "| 100059755 | 105055 | 50785 | 1439 | 43970 | 1185 | 7380 | 296 |\n",
       "| 100032170 |   9584 |  4624 |  281 |  3720 |  341 |  513 | 105 |\n",
       "| 100156279 |    513 |   192 |    6 |   110 |   75 |   69 |  61 |\n",
       "| 100124809 |   1602 |   780 |   55 |   462 |   78 |  172 |  55 |\n",
       "| 100428296 |    315 |   141 |    1 |    51 |   18 |   53 |  51 |\n",
       "| 100673490 |    337 |    91 |   38 |    64 |   58 |   46 |  40 |\n",
       "\n"
      ],
      "text/plain": [
       "  cluster   n_nodes n_isbns n_loc_recs n_ol_editions n_ol_works n_gr_books\n",
       "1 100059755 105055  50785   1439       43970         1185       7380      \n",
       "2 100032170   9584   4624    281        3720          341        513      \n",
       "3 100156279    513    192      6         110           75         69      \n",
       "4 100124809   1602    780     55         462           78        172      \n",
       "5 100428296    315    141      1          51           18         53      \n",
       "6 100673490    337     91     38          64           58         46      \n",
       "  n_gr_works\n",
       "1 296       \n",
       "2 105       \n",
       "3  61       \n",
       "4  55       \n",
       "5  51       \n",
       "6  40       "
      ]
     },
     "metadata": {},
     "output_type": "display_data"
    }
   ],
   "source": [
    "gr_big %>% head() %>% collect()"
   ]
  },
  {
   "cell_type": "markdown",
   "id": "ebd9585a",
   "metadata": {},
   "source": [
    "## Large Cluster Debugging\n",
    "\n",
    "We have some pretty big clusters:\n"
   ]
  },
  {
   "cell_type": "code",
   "execution_count": 13,
   "id": "f31d700f",
   "metadata": {},
   "outputs": [
    {
     "data": {
      "text/html": [
       "<table class=\"dataframe\">\n",
       "<caption>A tibble: 5 × 8</caption>\n",
       "<thead>\n",
       "\t<tr><th scope=col>cluster</th><th scope=col>n_nodes</th><th scope=col>n_isbns</th><th scope=col>n_loc_recs</th><th scope=col>n_ol_editions</th><th scope=col>n_ol_works</th><th scope=col>n_gr_books</th><th scope=col>n_gr_works</th></tr>\n",
       "\t<tr><th scope=col>&lt;int&gt;</th><th scope=col>&lt;int&gt;</th><th scope=col>&lt;int&gt;</th><th scope=col>&lt;int&gt;</th><th scope=col>&lt;int&gt;</th><th scope=col>&lt;int&gt;</th><th scope=col>&lt;int&gt;</th><th scope=col>&lt;int&gt;</th></tr>\n",
       "</thead>\n",
       "<tbody>\n",
       "\t<tr><td>100059755</td><td>105055</td><td>50785</td><td>1439</td><td>43970</td><td>1185</td><td>7380</td><td>296</td></tr>\n",
       "\t<tr><td>100510835</td><td> 24374</td><td>12126</td><td> 190</td><td>10610</td><td>  68</td><td>1352</td><td> 28</td></tr>\n",
       "\t<tr><td>108162346</td><td> 11281</td><td> 7520</td><td>   0</td><td> 3760</td><td>   1</td><td>   0</td><td>  0</td></tr>\n",
       "\t<tr><td>102285712</td><td> 10678</td><td> 7118</td><td>   0</td><td> 3559</td><td>   1</td><td>   0</td><td>  0</td></tr>\n",
       "\t<tr><td>100148394</td><td> 10118</td><td> 6518</td><td>   7</td><td> 3558</td><td>  35</td><td>   0</td><td>  0</td></tr>\n",
       "</tbody>\n",
       "</table>\n"
      ],
      "text/latex": [
       "A tibble: 5 × 8\n",
       "\\begin{tabular}{llllllll}\n",
       " cluster & n\\_nodes & n\\_isbns & n\\_loc\\_recs & n\\_ol\\_editions & n\\_ol\\_works & n\\_gr\\_books & n\\_gr\\_works\\\\\n",
       " <int> & <int> & <int> & <int> & <int> & <int> & <int> & <int>\\\\\n",
       "\\hline\n",
       "\t 100059755 & 105055 & 50785 & 1439 & 43970 & 1185 & 7380 & 296\\\\\n",
       "\t 100510835 &  24374 & 12126 &  190 & 10610 &   68 & 1352 &  28\\\\\n",
       "\t 108162346 &  11281 &  7520 &    0 &  3760 &    1 &    0 &   0\\\\\n",
       "\t 102285712 &  10678 &  7118 &    0 &  3559 &    1 &    0 &   0\\\\\n",
       "\t 100148394 &  10118 &  6518 &    7 &  3558 &   35 &    0 &   0\\\\\n",
       "\\end{tabular}\n"
      ],
      "text/markdown": [
       "\n",
       "A tibble: 5 × 8\n",
       "\n",
       "| cluster &lt;int&gt; | n_nodes &lt;int&gt; | n_isbns &lt;int&gt; | n_loc_recs &lt;int&gt; | n_ol_editions &lt;int&gt; | n_ol_works &lt;int&gt; | n_gr_books &lt;int&gt; | n_gr_works &lt;int&gt; |\n",
       "|---|---|---|---|---|---|---|---|\n",
       "| 100059755 | 105055 | 50785 | 1439 | 43970 | 1185 | 7380 | 296 |\n",
       "| 100510835 |  24374 | 12126 |  190 | 10610 |   68 | 1352 |  28 |\n",
       "| 108162346 |  11281 |  7520 |    0 |  3760 |    1 |    0 |   0 |\n",
       "| 102285712 |  10678 |  7118 |    0 |  3559 |    1 |    0 |   0 |\n",
       "| 100148394 |  10118 |  6518 |    7 |  3558 |   35 |    0 |   0 |\n",
       "\n"
      ],
      "text/plain": [
       "  cluster   n_nodes n_isbns n_loc_recs n_ol_editions n_ol_works n_gr_books\n",
       "1 100059755 105055  50785   1439       43970         1185       7380      \n",
       "2 100510835  24374  12126    190       10610           68       1352      \n",
       "3 108162346  11281   7520      0        3760            1          0      \n",
       "4 102285712  10678   7118      0        3559            1          0      \n",
       "5 100148394  10118   6518      7        3558           35          0      \n",
       "  n_gr_works\n",
       "1 296       \n",
       "2  28       \n",
       "3   0       \n",
       "4   0       \n",
       "5   0       "
      ]
     },
     "metadata": {},
     "output_type": "display_data"
    }
   ],
   "source": [
    "big = clusters %>% slice_max(n_nodes, n=5, with_ties=FALSE) %>%\n",
    "  collect()\n",
    "big"
   ]
  },
  {
   "cell_type": "markdown",
   "id": "a91abf88",
   "metadata": {},
   "source": [
    "What is up with this? We should figure out what went wrong, if we can.  What are its ISBNs?\n"
   ]
  },
  {
   "cell_type": "code",
   "execution_count": 14,
   "id": "eb2c1efa",
   "metadata": {},
   "outputs": [
    {
     "name": "stdout",
     "output_type": "stream",
     "text": [
      "Table\n",
      "44,293,137 rows x 8 columns\n",
      "$ isbn_id     \u001b[3m\u001b[90m<int32>\u001b[39m\u001b[23m 1, 2, 3, 4, 5, 6, 7, 8, 9, 10, 11, 12, 13, 14, 15, 16, 17,…\n",
      "$ isbn \u001b[3m\u001b[90m<large_string>\u001b[39m\u001b[23m \"1858338956\", \"9789401010498\", \"9788412175912\", \"978176089…\n",
      "$ LOC        \u001b[3m\u001b[90m<uint32>\u001b[39m\u001b[23m 0, 0, 0, 0, 0, 0, 0, 0, 0, 0, 1, 0, 0, 0, 0, 1, 0, 0, 0, 0…\n",
      "$ OL         \u001b[3m\u001b[90m<uint32>\u001b[39m\u001b[23m 1, 1, 1, 1, 1, 1, 1, 1, 1, 1, 1, 1, 1, 1, 1, 1, 1, 1, 1, 1…\n",
      "$ GR          \u001b[3m\u001b[90m<int64>\u001b[39m\u001b[23m 0, 0, 0, 0, 0, 0, 0, 0, 0, 0, 0, 0, 0, 0, 0, 0, 0, 0, 0, 0…\n",
      "$ BX         \u001b[3m\u001b[90m<uint32>\u001b[39m\u001b[23m 0, 0, 0, 0, 0, 0, 0, 0, 0, 0, 0, 0, 0, 0, 0, 0, 0, 0, 0, 0…\n",
      "$ AZ14       \u001b[3m\u001b[90m<uint32>\u001b[39m\u001b[23m 0, 0, 0, 0, 0, 0, 0, 0, 0, 0, 0, 0, 0, 0, 0, 0, 0, 0, 0, 0…\n",
      "$ AZ18       \u001b[3m\u001b[90m<uint32>\u001b[39m\u001b[23m 0, 0, 0, 0, 0, 0, 0, 0, 0, 0, 0, 0, 0, 0, 0, 0, 0, 0, 0, 0…\n"
     ]
    }
   ],
   "source": [
    "isbns = read_parquet('book-links/all-isbns.parquet', as_data_frame=FALSE)\n",
    "glimpse(isbns)"
   ]
  },
  {
   "cell_type": "code",
   "execution_count": 15,
   "id": "df86d2fc",
   "metadata": {},
   "outputs": [
    {
     "name": "stdout",
     "output_type": "stream",
     "text": [
      "Table (query)\n",
      "44,293,137 rows x 2 columns\n",
      "$ isbn_id \u001b[3m\u001b[90m<int32>\u001b[39m\u001b[23m 44293137, 44293136, 44293135, 44293134, 44293133, 44293132, 44…\n",
      "$ cluster \u001b[3m\u001b[90m<int32>\u001b[39m\u001b[23m 944293137, 944293136, 944293135, 944293134, 944293133, 9442931…\n",
      "Call `print()` for query details\n"
     ]
    }
   ],
   "source": [
    "links = read_parquet(\"book-links/isbn-clusters.parquet\", as_data_frame=FALSE) %>%\n",
    "  select(isbn_id, cluster)\n",
    "glimpse(links)"
   ]
  },
  {
   "cell_type": "markdown",
   "id": "75a63381",
   "metadata": {},
   "source": [
    "Now let's look up data for the largest cluster.\n"
   ]
  },
  {
   "cell_type": "code",
   "execution_count": 16,
   "id": "e117ed7a",
   "metadata": {},
   "outputs": [
    {
     "data": {
      "text/html": [
       "100059755"
      ],
      "text/latex": [
       "100059755"
      ],
      "text/markdown": [
       "100059755"
      ],
      "text/plain": [
       "[1] 100059755"
      ]
     },
     "metadata": {},
     "output_type": "display_data"
    }
   ],
   "source": [
    "big_id = big$cluster[1]\n",
    "big_id"
   ]
  },
  {
   "cell_type": "code",
   "execution_count": 17,
   "id": "705159b7",
   "metadata": {},
   "outputs": [
    {
     "name": "stdout",
     "output_type": "stream",
     "text": [
      "Table (query)\n",
      "?? rows x 8 columns\n",
      "$ isbn_id     \u001b[3m\u001b[90m<int32>\u001b[39m\u001b[23m 41743470, 41604450, 31743668, 13388484, 22829832, 21599315…\n",
      "$ isbn \u001b[3m\u001b[90m<large_string>\u001b[39m\u001b[23m \"0000744395\", \"000074445X\", \"0001004735\", \"0001004743\", \"0…\n",
      "$ LOC        \u001b[3m\u001b[90m<uint32>\u001b[39m\u001b[23m 0, 0, 0, 0, 0, 0, 0, 0, 0, 0, 0, 0, 0, 0, 0, 0, 0, 1, 1, 0…\n",
      "$ OL         \u001b[3m\u001b[90m<uint32>\u001b[39m\u001b[23m 0, 0, 1, 1, 1, 1, 1, 1, 1, 1, 1, 1, 1, 1, 1, 1, 0, 2, 3, 1…\n",
      "$ GR          \u001b[3m\u001b[90m<int64>\u001b[39m\u001b[23m 1, 1, 0, 0, 0, 0, 0, 0, 0, 0, 0, 0, 0, 0, 0, 0, 1, 0, 1, 0…\n",
      "$ BX         \u001b[3m\u001b[90m<uint32>\u001b[39m\u001b[23m 0, 0, 0, 0, 0, 0, 0, 0, 0, 0, 0, 0, 0, 0, 0, 0, 0, 1, 1, 0…\n",
      "$ AZ14       \u001b[3m\u001b[90m<uint32>\u001b[39m\u001b[23m 0, 0, 0, 0, 0, 0, 0, 0, 0, 0, 0, 0, 0, 0, 0, 0, 0, 0, 0, 0…\n",
      "$ AZ18       \u001b[3m\u001b[90m<uint32>\u001b[39m\u001b[23m 0, 0, 0, 0, 0, 0, 0, 75, 0, 0, 0, 0, 0, 0, 0, 0, 0, 0, 0, …\n",
      "Call `print()` for query details\n"
     ]
    }
   ],
   "source": [
    "bl = links %>% filter(cluster == big_id)\n",
    "bl = semi_join(isbns, bl) %>% arrange(isbn)\n",
    "bl %>% glimpse()"
   ]
  },
  {
   "cell_type": "markdown",
   "id": "5a526ff5",
   "metadata": {},
   "source": [
    "What are the things with the highest record count?\n"
   ]
  },
  {
   "cell_type": "code",
   "execution_count": 18,
   "id": "dc02a357",
   "metadata": {},
   "outputs": [
    {
     "data": {
      "text/html": [
       "<table class=\"dataframe\">\n",
       "<caption>A rowwise_df: 50785 × 9</caption>\n",
       "<thead>\n",
       "\t<tr><th scope=col>isbn_id</th><th scope=col>isbn</th><th scope=col>LOC</th><th scope=col>OL</th><th scope=col>GR</th><th scope=col>BX</th><th scope=col>AZ14</th><th scope=col>AZ18</th><th scope=col>btot</th></tr>\n",
       "\t<tr><th scope=col>&lt;int&gt;</th><th scope=col>&lt;chr&gt;</th><th scope=col>&lt;int&gt;</th><th scope=col>&lt;int&gt;</th><th scope=col>&lt;int&gt;</th><th scope=col>&lt;int&gt;</th><th scope=col>&lt;int&gt;</th><th scope=col>&lt;int&gt;</th><th scope=col>&lt;int&gt;</th></tr>\n",
       "</thead>\n",
       "<tbody>\n",
       "\t<tr><td>41743470</td><td>0000744395</td><td>0</td><td>0</td><td>1</td><td>0</td><td>0</td><td>   0</td><td>   1</td></tr>\n",
       "\t<tr><td>41604450</td><td>000074445X</td><td>0</td><td>0</td><td>1</td><td>0</td><td>0</td><td>   0</td><td>   1</td></tr>\n",
       "\t<tr><td>31743668</td><td>0001004735</td><td>0</td><td>1</td><td>0</td><td>0</td><td>0</td><td>   0</td><td>   1</td></tr>\n",
       "\t<tr><td>13388484</td><td>0001004743</td><td>0</td><td>1</td><td>0</td><td>0</td><td>0</td><td>   0</td><td>   1</td></tr>\n",
       "\t<tr><td>22829832</td><td>0001034375</td><td>0</td><td>1</td><td>0</td><td>0</td><td>0</td><td>   0</td><td>   1</td></tr>\n",
       "\t<tr><td>21599315</td><td>0001046403</td><td>0</td><td>1</td><td>0</td><td>0</td><td>0</td><td>   0</td><td>   1</td></tr>\n",
       "\t<tr><td>28169478</td><td>0001049283</td><td>0</td><td>1</td><td>0</td><td>0</td><td>0</td><td>   0</td><td>   1</td></tr>\n",
       "\t<tr><td>21578045</td><td>0001054783</td><td>0</td><td>1</td><td>0</td><td>0</td><td>0</td><td>  75</td><td>  76</td></tr>\n",
       "\t<tr><td>34988894</td><td>0001385208</td><td>0</td><td>1</td><td>0</td><td>0</td><td>0</td><td>   0</td><td>   1</td></tr>\n",
       "\t<tr><td>12989061</td><td>0001660047</td><td>0</td><td>1</td><td>0</td><td>0</td><td>0</td><td>   0</td><td>   1</td></tr>\n",
       "\t<tr><td> 1920804</td><td>0001660926</td><td>0</td><td>1</td><td>0</td><td>0</td><td>0</td><td>   0</td><td>   1</td></tr>\n",
       "\t<tr><td>34994711</td><td>0001847694</td><td>0</td><td>1</td><td>0</td><td>0</td><td>0</td><td>   0</td><td>   1</td></tr>\n",
       "\t<tr><td>11813758</td><td>0001848259</td><td>0</td><td>1</td><td>0</td><td>0</td><td>0</td><td>   0</td><td>   1</td></tr>\n",
       "\t<tr><td>38461870</td><td>0001849123</td><td>0</td><td>1</td><td>0</td><td>0</td><td>0</td><td>   0</td><td>   1</td></tr>\n",
       "\t<tr><td>14098974</td><td>0001956671</td><td>0</td><td>1</td><td>0</td><td>0</td><td>0</td><td>   0</td><td>   1</td></tr>\n",
       "\t<tr><td>12383140</td><td>0001956795</td><td>0</td><td>1</td><td>0</td><td>0</td><td>0</td><td>   0</td><td>   1</td></tr>\n",
       "\t<tr><td>41908629</td><td>0002034840</td><td>0</td><td>0</td><td>1</td><td>0</td><td>0</td><td>   0</td><td>   1</td></tr>\n",
       "\t<tr><td>37808442</td><td>0002219336</td><td>1</td><td>2</td><td>0</td><td>1</td><td>0</td><td>   0</td><td>   4</td></tr>\n",
       "\t<tr><td>17657196</td><td>0002315394</td><td>1</td><td>3</td><td>1</td><td>1</td><td>0</td><td>   0</td><td>   6</td></tr>\n",
       "\t<tr><td>16220822</td><td>0003302245</td><td>0</td><td>1</td><td>0</td><td>0</td><td>0</td><td>3900</td><td>3901</td></tr>\n",
       "\t<tr><td>10103115</td><td>0003395359</td><td>0</td><td>1</td><td>0</td><td>0</td><td>0</td><td>   0</td><td>   1</td></tr>\n",
       "\t<tr><td>10279971</td><td>0003700860</td><td>0</td><td>2</td><td>1</td><td>0</td><td>0</td><td>   0</td><td>   3</td></tr>\n",
       "\t<tr><td>38994711</td><td>0003702936</td><td>0</td><td>1</td><td>0</td><td>0</td><td>0</td><td>   0</td><td>   1</td></tr>\n",
       "\t<tr><td>29350873</td><td>0003708853</td><td>0</td><td>1</td><td>0</td><td>0</td><td>0</td><td>   0</td><td>   1</td></tr>\n",
       "\t<tr><td>18670755</td><td>0004214072</td><td>0</td><td>2</td><td>0</td><td>0</td><td>0</td><td>   0</td><td>   2</td></tr>\n",
       "\t<tr><td>26202922</td><td>0004214501</td><td>0</td><td>1</td><td>0</td><td>0</td><td>0</td><td>   0</td><td>   1</td></tr>\n",
       "\t<tr><td>33678485</td><td>0004244702</td><td>0</td><td>1</td><td>0</td><td>0</td><td>0</td><td>   0</td><td>   1</td></tr>\n",
       "\t<tr><td>28732073</td><td>0004247256</td><td>0</td><td>1</td><td>0</td><td>0</td><td>0</td><td>   0</td><td>   1</td></tr>\n",
       "\t<tr><td> 7354266</td><td>0004247264</td><td>0</td><td>1</td><td>0</td><td>0</td><td>0</td><td>   0</td><td>   1</td></tr>\n",
       "\t<tr><td>29218318</td><td>0005304563</td><td>0</td><td>1</td><td>0</td><td>0</td><td>0</td><td>   0</td><td>   1</td></tr>\n",
       "\t<tr><td>⋮</td><td>⋮</td><td>⋮</td><td>⋮</td><td>⋮</td><td>⋮</td><td>⋮</td><td>⋮</td><td>⋮</td></tr>\n",
       "\t<tr><td>42088365</td><td>B01N1A58F4</td><td>0</td><td>0</td><td>1</td><td>0</td><td>0</td><td>0</td><td>1</td></tr>\n",
       "\t<tr><td>42176744</td><td>B01N5JX21M</td><td>0</td><td>0</td><td>1</td><td>0</td><td>0</td><td>0</td><td>1</td></tr>\n",
       "\t<tr><td>41555188</td><td>B01N7ZJ4MT</td><td>0</td><td>0</td><td>1</td><td>0</td><td>0</td><td>0</td><td>1</td></tr>\n",
       "\t<tr><td>41070988</td><td>B01NAIYB6S</td><td>0</td><td>0</td><td>1</td><td>0</td><td>0</td><td>0</td><td>1</td></tr>\n",
       "\t<tr><td>42024511</td><td>B01NBKD6ZI</td><td>0</td><td>0</td><td>1</td><td>0</td><td>0</td><td>0</td><td>1</td></tr>\n",
       "\t<tr><td>42466241</td><td>B06VVSS7QH</td><td>0</td><td>0</td><td>1</td><td>0</td><td>0</td><td>0</td><td>1</td></tr>\n",
       "\t<tr><td>42492644</td><td>B06WP1M6KT</td><td>0</td><td>0</td><td>1</td><td>0</td><td>0</td><td>0</td><td>1</td></tr>\n",
       "\t<tr><td>42500353</td><td>B06X9HW4Z6</td><td>0</td><td>0</td><td>1</td><td>0</td><td>0</td><td>0</td><td>1</td></tr>\n",
       "\t<tr><td>41780022</td><td>B06XFPGRC7</td><td>0</td><td>0</td><td>1</td><td>0</td><td>0</td><td>0</td><td>1</td></tr>\n",
       "\t<tr><td>41587400</td><td>B06XQ4F351</td><td>0</td><td>0</td><td>1</td><td>0</td><td>0</td><td>0</td><td>1</td></tr>\n",
       "\t<tr><td>41250653</td><td>B06XQ64QV8</td><td>0</td><td>0</td><td>1</td><td>0</td><td>0</td><td>0</td><td>1</td></tr>\n",
       "\t<tr><td>42584601</td><td>B06XY3R81W</td><td>0</td><td>0</td><td>1</td><td>0</td><td>0</td><td>0</td><td>1</td></tr>\n",
       "\t<tr><td>42424449</td><td>B0716WRPFV</td><td>0</td><td>0</td><td>1</td><td>0</td><td>0</td><td>0</td><td>1</td></tr>\n",
       "\t<tr><td>41157058</td><td>B071RSDB49</td><td>0</td><td>0</td><td>1</td><td>0</td><td>0</td><td>0</td><td>1</td></tr>\n",
       "\t<tr><td>41502311</td><td>B0728MXM3Q</td><td>0</td><td>0</td><td>1</td><td>0</td><td>0</td><td>0</td><td>1</td></tr>\n",
       "\t<tr><td>41857704</td><td>B072F1WKW1</td><td>0</td><td>0</td><td>1</td><td>0</td><td>0</td><td>0</td><td>1</td></tr>\n",
       "\t<tr><td>41560006</td><td>B072L78PHK</td><td>0</td><td>0</td><td>1</td><td>0</td><td>0</td><td>0</td><td>1</td></tr>\n",
       "\t<tr><td>41103828</td><td>B072MQ8FL7</td><td>0</td><td>0</td><td>1</td><td>0</td><td>0</td><td>0</td><td>1</td></tr>\n",
       "\t<tr><td>41394004</td><td>B072S79HNS</td><td>0</td><td>0</td><td>1</td><td>0</td><td>0</td><td>0</td><td>1</td></tr>\n",
       "\t<tr><td>41628561</td><td>B072Z2KK5V</td><td>0</td><td>0</td><td>1</td><td>0</td><td>0</td><td>0</td><td>1</td></tr>\n",
       "\t<tr><td>42264230</td><td>B07381C14X</td><td>0</td><td>0</td><td>1</td><td>0</td><td>0</td><td>0</td><td>1</td></tr>\n",
       "\t<tr><td>42368243</td><td>B073GF59RD</td><td>0</td><td>0</td><td>1</td><td>0</td><td>0</td><td>0</td><td>1</td></tr>\n",
       "\t<tr><td>42018754</td><td>B073GGNYFL</td><td>0</td><td>0</td><td>1</td><td>0</td><td>0</td><td>0</td><td>1</td></tr>\n",
       "\t<tr><td>42380131</td><td>B073MZ23QX</td><td>0</td><td>0</td><td>1</td><td>0</td><td>0</td><td>0</td><td>1</td></tr>\n",
       "\t<tr><td>42100665</td><td>B073QM98F5</td><td>0</td><td>0</td><td>1</td><td>0</td><td>0</td><td>0</td><td>1</td></tr>\n",
       "\t<tr><td>41059211</td><td>B073SM1DVP</td><td>0</td><td>0</td><td>1</td><td>0</td><td>0</td><td>0</td><td>1</td></tr>\n",
       "\t<tr><td>41473054</td><td>B073SMQ7TV</td><td>0</td><td>0</td><td>1</td><td>0</td><td>0</td><td>0</td><td>1</td></tr>\n",
       "\t<tr><td>41658035</td><td>B074P9CM5T</td><td>0</td><td>0</td><td>1</td><td>0</td><td>0</td><td>0</td><td>1</td></tr>\n",
       "\t<tr><td>41290142</td><td>B074WFRH82</td><td>0</td><td>0</td><td>1</td><td>0</td><td>0</td><td>0</td><td>1</td></tr>\n",
       "\t<tr><td>42603462</td><td>B215071972</td><td>0</td><td>0</td><td>1</td><td>0</td><td>0</td><td>0</td><td>1</td></tr>\n",
       "</tbody>\n",
       "</table>\n"
      ],
      "text/latex": [
       "A rowwise\\_df: 50785 × 9\n",
       "\\begin{tabular}{lllllllll}\n",
       " isbn\\_id & isbn & LOC & OL & GR & BX & AZ14 & AZ18 & btot\\\\\n",
       " <int> & <chr> & <int> & <int> & <int> & <int> & <int> & <int> & <int>\\\\\n",
       "\\hline\n",
       "\t 41743470 & 0000744395 & 0 & 0 & 1 & 0 & 0 &    0 &    1\\\\\n",
       "\t 41604450 & 000074445X & 0 & 0 & 1 & 0 & 0 &    0 &    1\\\\\n",
       "\t 31743668 & 0001004735 & 0 & 1 & 0 & 0 & 0 &    0 &    1\\\\\n",
       "\t 13388484 & 0001004743 & 0 & 1 & 0 & 0 & 0 &    0 &    1\\\\\n",
       "\t 22829832 & 0001034375 & 0 & 1 & 0 & 0 & 0 &    0 &    1\\\\\n",
       "\t 21599315 & 0001046403 & 0 & 1 & 0 & 0 & 0 &    0 &    1\\\\\n",
       "\t 28169478 & 0001049283 & 0 & 1 & 0 & 0 & 0 &    0 &    1\\\\\n",
       "\t 21578045 & 0001054783 & 0 & 1 & 0 & 0 & 0 &   75 &   76\\\\\n",
       "\t 34988894 & 0001385208 & 0 & 1 & 0 & 0 & 0 &    0 &    1\\\\\n",
       "\t 12989061 & 0001660047 & 0 & 1 & 0 & 0 & 0 &    0 &    1\\\\\n",
       "\t  1920804 & 0001660926 & 0 & 1 & 0 & 0 & 0 &    0 &    1\\\\\n",
       "\t 34994711 & 0001847694 & 0 & 1 & 0 & 0 & 0 &    0 &    1\\\\\n",
       "\t 11813758 & 0001848259 & 0 & 1 & 0 & 0 & 0 &    0 &    1\\\\\n",
       "\t 38461870 & 0001849123 & 0 & 1 & 0 & 0 & 0 &    0 &    1\\\\\n",
       "\t 14098974 & 0001956671 & 0 & 1 & 0 & 0 & 0 &    0 &    1\\\\\n",
       "\t 12383140 & 0001956795 & 0 & 1 & 0 & 0 & 0 &    0 &    1\\\\\n",
       "\t 41908629 & 0002034840 & 0 & 0 & 1 & 0 & 0 &    0 &    1\\\\\n",
       "\t 37808442 & 0002219336 & 1 & 2 & 0 & 1 & 0 &    0 &    4\\\\\n",
       "\t 17657196 & 0002315394 & 1 & 3 & 1 & 1 & 0 &    0 &    6\\\\\n",
       "\t 16220822 & 0003302245 & 0 & 1 & 0 & 0 & 0 & 3900 & 3901\\\\\n",
       "\t 10103115 & 0003395359 & 0 & 1 & 0 & 0 & 0 &    0 &    1\\\\\n",
       "\t 10279971 & 0003700860 & 0 & 2 & 1 & 0 & 0 &    0 &    3\\\\\n",
       "\t 38994711 & 0003702936 & 0 & 1 & 0 & 0 & 0 &    0 &    1\\\\\n",
       "\t 29350873 & 0003708853 & 0 & 1 & 0 & 0 & 0 &    0 &    1\\\\\n",
       "\t 18670755 & 0004214072 & 0 & 2 & 0 & 0 & 0 &    0 &    2\\\\\n",
       "\t 26202922 & 0004214501 & 0 & 1 & 0 & 0 & 0 &    0 &    1\\\\\n",
       "\t 33678485 & 0004244702 & 0 & 1 & 0 & 0 & 0 &    0 &    1\\\\\n",
       "\t 28732073 & 0004247256 & 0 & 1 & 0 & 0 & 0 &    0 &    1\\\\\n",
       "\t  7354266 & 0004247264 & 0 & 1 & 0 & 0 & 0 &    0 &    1\\\\\n",
       "\t 29218318 & 0005304563 & 0 & 1 & 0 & 0 & 0 &    0 &    1\\\\\n",
       "\t ⋮ & ⋮ & ⋮ & ⋮ & ⋮ & ⋮ & ⋮ & ⋮ & ⋮\\\\\n",
       "\t 42088365 & B01N1A58F4 & 0 & 0 & 1 & 0 & 0 & 0 & 1\\\\\n",
       "\t 42176744 & B01N5JX21M & 0 & 0 & 1 & 0 & 0 & 0 & 1\\\\\n",
       "\t 41555188 & B01N7ZJ4MT & 0 & 0 & 1 & 0 & 0 & 0 & 1\\\\\n",
       "\t 41070988 & B01NAIYB6S & 0 & 0 & 1 & 0 & 0 & 0 & 1\\\\\n",
       "\t 42024511 & B01NBKD6ZI & 0 & 0 & 1 & 0 & 0 & 0 & 1\\\\\n",
       "\t 42466241 & B06VVSS7QH & 0 & 0 & 1 & 0 & 0 & 0 & 1\\\\\n",
       "\t 42492644 & B06WP1M6KT & 0 & 0 & 1 & 0 & 0 & 0 & 1\\\\\n",
       "\t 42500353 & B06X9HW4Z6 & 0 & 0 & 1 & 0 & 0 & 0 & 1\\\\\n",
       "\t 41780022 & B06XFPGRC7 & 0 & 0 & 1 & 0 & 0 & 0 & 1\\\\\n",
       "\t 41587400 & B06XQ4F351 & 0 & 0 & 1 & 0 & 0 & 0 & 1\\\\\n",
       "\t 41250653 & B06XQ64QV8 & 0 & 0 & 1 & 0 & 0 & 0 & 1\\\\\n",
       "\t 42584601 & B06XY3R81W & 0 & 0 & 1 & 0 & 0 & 0 & 1\\\\\n",
       "\t 42424449 & B0716WRPFV & 0 & 0 & 1 & 0 & 0 & 0 & 1\\\\\n",
       "\t 41157058 & B071RSDB49 & 0 & 0 & 1 & 0 & 0 & 0 & 1\\\\\n",
       "\t 41502311 & B0728MXM3Q & 0 & 0 & 1 & 0 & 0 & 0 & 1\\\\\n",
       "\t 41857704 & B072F1WKW1 & 0 & 0 & 1 & 0 & 0 & 0 & 1\\\\\n",
       "\t 41560006 & B072L78PHK & 0 & 0 & 1 & 0 & 0 & 0 & 1\\\\\n",
       "\t 41103828 & B072MQ8FL7 & 0 & 0 & 1 & 0 & 0 & 0 & 1\\\\\n",
       "\t 41394004 & B072S79HNS & 0 & 0 & 1 & 0 & 0 & 0 & 1\\\\\n",
       "\t 41628561 & B072Z2KK5V & 0 & 0 & 1 & 0 & 0 & 0 & 1\\\\\n",
       "\t 42264230 & B07381C14X & 0 & 0 & 1 & 0 & 0 & 0 & 1\\\\\n",
       "\t 42368243 & B073GF59RD & 0 & 0 & 1 & 0 & 0 & 0 & 1\\\\\n",
       "\t 42018754 & B073GGNYFL & 0 & 0 & 1 & 0 & 0 & 0 & 1\\\\\n",
       "\t 42380131 & B073MZ23QX & 0 & 0 & 1 & 0 & 0 & 0 & 1\\\\\n",
       "\t 42100665 & B073QM98F5 & 0 & 0 & 1 & 0 & 0 & 0 & 1\\\\\n",
       "\t 41059211 & B073SM1DVP & 0 & 0 & 1 & 0 & 0 & 0 & 1\\\\\n",
       "\t 41473054 & B073SMQ7TV & 0 & 0 & 1 & 0 & 0 & 0 & 1\\\\\n",
       "\t 41658035 & B074P9CM5T & 0 & 0 & 1 & 0 & 0 & 0 & 1\\\\\n",
       "\t 41290142 & B074WFRH82 & 0 & 0 & 1 & 0 & 0 & 0 & 1\\\\\n",
       "\t 42603462 & B215071972 & 0 & 0 & 1 & 0 & 0 & 0 & 1\\\\\n",
       "\\end{tabular}\n"
      ],
      "text/markdown": [
       "\n",
       "A rowwise_df: 50785 × 9\n",
       "\n",
       "| isbn_id &lt;int&gt; | isbn &lt;chr&gt; | LOC &lt;int&gt; | OL &lt;int&gt; | GR &lt;int&gt; | BX &lt;int&gt; | AZ14 &lt;int&gt; | AZ18 &lt;int&gt; | btot &lt;int&gt; |\n",
       "|---|---|---|---|---|---|---|---|---|\n",
       "| 41743470 | 0000744395 | 0 | 0 | 1 | 0 | 0 |    0 |    1 |\n",
       "| 41604450 | 000074445X | 0 | 0 | 1 | 0 | 0 |    0 |    1 |\n",
       "| 31743668 | 0001004735 | 0 | 1 | 0 | 0 | 0 |    0 |    1 |\n",
       "| 13388484 | 0001004743 | 0 | 1 | 0 | 0 | 0 |    0 |    1 |\n",
       "| 22829832 | 0001034375 | 0 | 1 | 0 | 0 | 0 |    0 |    1 |\n",
       "| 21599315 | 0001046403 | 0 | 1 | 0 | 0 | 0 |    0 |    1 |\n",
       "| 28169478 | 0001049283 | 0 | 1 | 0 | 0 | 0 |    0 |    1 |\n",
       "| 21578045 | 0001054783 | 0 | 1 | 0 | 0 | 0 |   75 |   76 |\n",
       "| 34988894 | 0001385208 | 0 | 1 | 0 | 0 | 0 |    0 |    1 |\n",
       "| 12989061 | 0001660047 | 0 | 1 | 0 | 0 | 0 |    0 |    1 |\n",
       "|  1920804 | 0001660926 | 0 | 1 | 0 | 0 | 0 |    0 |    1 |\n",
       "| 34994711 | 0001847694 | 0 | 1 | 0 | 0 | 0 |    0 |    1 |\n",
       "| 11813758 | 0001848259 | 0 | 1 | 0 | 0 | 0 |    0 |    1 |\n",
       "| 38461870 | 0001849123 | 0 | 1 | 0 | 0 | 0 |    0 |    1 |\n",
       "| 14098974 | 0001956671 | 0 | 1 | 0 | 0 | 0 |    0 |    1 |\n",
       "| 12383140 | 0001956795 | 0 | 1 | 0 | 0 | 0 |    0 |    1 |\n",
       "| 41908629 | 0002034840 | 0 | 0 | 1 | 0 | 0 |    0 |    1 |\n",
       "| 37808442 | 0002219336 | 1 | 2 | 0 | 1 | 0 |    0 |    4 |\n",
       "| 17657196 | 0002315394 | 1 | 3 | 1 | 1 | 0 |    0 |    6 |\n",
       "| 16220822 | 0003302245 | 0 | 1 | 0 | 0 | 0 | 3900 | 3901 |\n",
       "| 10103115 | 0003395359 | 0 | 1 | 0 | 0 | 0 |    0 |    1 |\n",
       "| 10279971 | 0003700860 | 0 | 2 | 1 | 0 | 0 |    0 |    3 |\n",
       "| 38994711 | 0003702936 | 0 | 1 | 0 | 0 | 0 |    0 |    1 |\n",
       "| 29350873 | 0003708853 | 0 | 1 | 0 | 0 | 0 |    0 |    1 |\n",
       "| 18670755 | 0004214072 | 0 | 2 | 0 | 0 | 0 |    0 |    2 |\n",
       "| 26202922 | 0004214501 | 0 | 1 | 0 | 0 | 0 |    0 |    1 |\n",
       "| 33678485 | 0004244702 | 0 | 1 | 0 | 0 | 0 |    0 |    1 |\n",
       "| 28732073 | 0004247256 | 0 | 1 | 0 | 0 | 0 |    0 |    1 |\n",
       "|  7354266 | 0004247264 | 0 | 1 | 0 | 0 | 0 |    0 |    1 |\n",
       "| 29218318 | 0005304563 | 0 | 1 | 0 | 0 | 0 |    0 |    1 |\n",
       "| ⋮ | ⋮ | ⋮ | ⋮ | ⋮ | ⋮ | ⋮ | ⋮ | ⋮ |\n",
       "| 42088365 | B01N1A58F4 | 0 | 0 | 1 | 0 | 0 | 0 | 1 |\n",
       "| 42176744 | B01N5JX21M | 0 | 0 | 1 | 0 | 0 | 0 | 1 |\n",
       "| 41555188 | B01N7ZJ4MT | 0 | 0 | 1 | 0 | 0 | 0 | 1 |\n",
       "| 41070988 | B01NAIYB6S | 0 | 0 | 1 | 0 | 0 | 0 | 1 |\n",
       "| 42024511 | B01NBKD6ZI | 0 | 0 | 1 | 0 | 0 | 0 | 1 |\n",
       "| 42466241 | B06VVSS7QH | 0 | 0 | 1 | 0 | 0 | 0 | 1 |\n",
       "| 42492644 | B06WP1M6KT | 0 | 0 | 1 | 0 | 0 | 0 | 1 |\n",
       "| 42500353 | B06X9HW4Z6 | 0 | 0 | 1 | 0 | 0 | 0 | 1 |\n",
       "| 41780022 | B06XFPGRC7 | 0 | 0 | 1 | 0 | 0 | 0 | 1 |\n",
       "| 41587400 | B06XQ4F351 | 0 | 0 | 1 | 0 | 0 | 0 | 1 |\n",
       "| 41250653 | B06XQ64QV8 | 0 | 0 | 1 | 0 | 0 | 0 | 1 |\n",
       "| 42584601 | B06XY3R81W | 0 | 0 | 1 | 0 | 0 | 0 | 1 |\n",
       "| 42424449 | B0716WRPFV | 0 | 0 | 1 | 0 | 0 | 0 | 1 |\n",
       "| 41157058 | B071RSDB49 | 0 | 0 | 1 | 0 | 0 | 0 | 1 |\n",
       "| 41502311 | B0728MXM3Q | 0 | 0 | 1 | 0 | 0 | 0 | 1 |\n",
       "| 41857704 | B072F1WKW1 | 0 | 0 | 1 | 0 | 0 | 0 | 1 |\n",
       "| 41560006 | B072L78PHK | 0 | 0 | 1 | 0 | 0 | 0 | 1 |\n",
       "| 41103828 | B072MQ8FL7 | 0 | 0 | 1 | 0 | 0 | 0 | 1 |\n",
       "| 41394004 | B072S79HNS | 0 | 0 | 1 | 0 | 0 | 0 | 1 |\n",
       "| 41628561 | B072Z2KK5V | 0 | 0 | 1 | 0 | 0 | 0 | 1 |\n",
       "| 42264230 | B07381C14X | 0 | 0 | 1 | 0 | 0 | 0 | 1 |\n",
       "| 42368243 | B073GF59RD | 0 | 0 | 1 | 0 | 0 | 0 | 1 |\n",
       "| 42018754 | B073GGNYFL | 0 | 0 | 1 | 0 | 0 | 0 | 1 |\n",
       "| 42380131 | B073MZ23QX | 0 | 0 | 1 | 0 | 0 | 0 | 1 |\n",
       "| 42100665 | B073QM98F5 | 0 | 0 | 1 | 0 | 0 | 0 | 1 |\n",
       "| 41059211 | B073SM1DVP | 0 | 0 | 1 | 0 | 0 | 0 | 1 |\n",
       "| 41473054 | B073SMQ7TV | 0 | 0 | 1 | 0 | 0 | 0 | 1 |\n",
       "| 41658035 | B074P9CM5T | 0 | 0 | 1 | 0 | 0 | 0 | 1 |\n",
       "| 41290142 | B074WFRH82 | 0 | 0 | 1 | 0 | 0 | 0 | 1 |\n",
       "| 42603462 | B215071972 | 0 | 0 | 1 | 0 | 0 | 0 | 1 |\n",
       "\n"
      ],
      "text/plain": [
       "      isbn_id  isbn       LOC OL GR BX AZ14 AZ18 btot\n",
       "1     41743470 0000744395 0   0  1  0  0       0    1\n",
       "2     41604450 000074445X 0   0  1  0  0       0    1\n",
       "3     31743668 0001004735 0   1  0  0  0       0    1\n",
       "4     13388484 0001004743 0   1  0  0  0       0    1\n",
       "5     22829832 0001034375 0   1  0  0  0       0    1\n",
       "6     21599315 0001046403 0   1  0  0  0       0    1\n",
       "7     28169478 0001049283 0   1  0  0  0       0    1\n",
       "8     21578045 0001054783 0   1  0  0  0      75   76\n",
       "9     34988894 0001385208 0   1  0  0  0       0    1\n",
       "10    12989061 0001660047 0   1  0  0  0       0    1\n",
       "11     1920804 0001660926 0   1  0  0  0       0    1\n",
       "12    34994711 0001847694 0   1  0  0  0       0    1\n",
       "13    11813758 0001848259 0   1  0  0  0       0    1\n",
       "14    38461870 0001849123 0   1  0  0  0       0    1\n",
       "15    14098974 0001956671 0   1  0  0  0       0    1\n",
       "16    12383140 0001956795 0   1  0  0  0       0    1\n",
       "17    41908629 0002034840 0   0  1  0  0       0    1\n",
       "18    37808442 0002219336 1   2  0  1  0       0    4\n",
       "19    17657196 0002315394 1   3  1  1  0       0    6\n",
       "20    16220822 0003302245 0   1  0  0  0    3900 3901\n",
       "21    10103115 0003395359 0   1  0  0  0       0    1\n",
       "22    10279971 0003700860 0   2  1  0  0       0    3\n",
       "23    38994711 0003702936 0   1  0  0  0       0    1\n",
       "24    29350873 0003708853 0   1  0  0  0       0    1\n",
       "25    18670755 0004214072 0   2  0  0  0       0    2\n",
       "26    26202922 0004214501 0   1  0  0  0       0    1\n",
       "27    33678485 0004244702 0   1  0  0  0       0    1\n",
       "28    28732073 0004247256 0   1  0  0  0       0    1\n",
       "29     7354266 0004247264 0   1  0  0  0       0    1\n",
       "30    29218318 0005304563 0   1  0  0  0       0    1\n",
       "⋮     ⋮        ⋮          ⋮   ⋮  ⋮  ⋮  ⋮    ⋮    ⋮   \n",
       "50756 42088365 B01N1A58F4 0   0  1  0  0    0    1   \n",
       "50757 42176744 B01N5JX21M 0   0  1  0  0    0    1   \n",
       "50758 41555188 B01N7ZJ4MT 0   0  1  0  0    0    1   \n",
       "50759 41070988 B01NAIYB6S 0   0  1  0  0    0    1   \n",
       "50760 42024511 B01NBKD6ZI 0   0  1  0  0    0    1   \n",
       "50761 42466241 B06VVSS7QH 0   0  1  0  0    0    1   \n",
       "50762 42492644 B06WP1M6KT 0   0  1  0  0    0    1   \n",
       "50763 42500353 B06X9HW4Z6 0   0  1  0  0    0    1   \n",
       "50764 41780022 B06XFPGRC7 0   0  1  0  0    0    1   \n",
       "50765 41587400 B06XQ4F351 0   0  1  0  0    0    1   \n",
       "50766 41250653 B06XQ64QV8 0   0  1  0  0    0    1   \n",
       "50767 42584601 B06XY3R81W 0   0  1  0  0    0    1   \n",
       "50768 42424449 B0716WRPFV 0   0  1  0  0    0    1   \n",
       "50769 41157058 B071RSDB49 0   0  1  0  0    0    1   \n",
       "50770 41502311 B0728MXM3Q 0   0  1  0  0    0    1   \n",
       "50771 41857704 B072F1WKW1 0   0  1  0  0    0    1   \n",
       "50772 41560006 B072L78PHK 0   0  1  0  0    0    1   \n",
       "50773 41103828 B072MQ8FL7 0   0  1  0  0    0    1   \n",
       "50774 41394004 B072S79HNS 0   0  1  0  0    0    1   \n",
       "50775 41628561 B072Z2KK5V 0   0  1  0  0    0    1   \n",
       "50776 42264230 B07381C14X 0   0  1  0  0    0    1   \n",
       "50777 42368243 B073GF59RD 0   0  1  0  0    0    1   \n",
       "50778 42018754 B073GGNYFL 0   0  1  0  0    0    1   \n",
       "50779 42380131 B073MZ23QX 0   0  1  0  0    0    1   \n",
       "50780 42100665 B073QM98F5 0   0  1  0  0    0    1   \n",
       "50781 41059211 B073SM1DVP 0   0  1  0  0    0    1   \n",
       "50782 41473054 B073SMQ7TV 0   0  1  0  0    0    1   \n",
       "50783 41658035 B074P9CM5T 0   0  1  0  0    0    1   \n",
       "50784 41290142 B074WFRH82 0   0  1  0  0    0    1   \n",
       "50785 42603462 B215071972 0   0  1  0  0    0    1   "
      ]
     },
     "metadata": {},
     "output_type": "display_data"
    }
   ],
   "source": [
    "bl %>% collect() %>% rowwise() %>% mutate(\n",
    "  btot = sum(c_across(!starts_with(\"isbn\")))\n",
    ") %>% slice_max(btot, n=20)"
   ]
  }
 ],
 "metadata": {
  "jupytext": {
   "text_representation": {
    "extension": ".qmd",
    "format_name": "quarto",
    "format_version": "1.0",
    "jupytext_version": "1.14.7"
   }
  },
  "kernelspec": {
   "display_name": "R (IRkernel)",
   "language": "R",
   "name": "ir"
  },
  "language_info": {
   "codemirror_mode": "r",
   "file_extension": ".r",
   "mimetype": "text/x-r-source",
   "name": "R",
   "pygments_lexer": "r",
   "version": "4.3.2"
  }
 },
 "nbformat": 4,
 "nbformat_minor": 5
}
