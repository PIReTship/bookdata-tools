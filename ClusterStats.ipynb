{
 "cells": [
  {
   "cell_type": "markdown",
   "id": "40a4bdca",
   "metadata": {},
   "source": [
    "# Book Clustering Statistics\n",
    "\n",
    "This notebook provides statistics on the results of our book clustering."
   ]
  },
  {
   "cell_type": "markdown",
   "id": "ea615b69",
   "metadata": {},
   "source": [
    "## Setup"
   ]
  },
  {
   "cell_type": "code",
   "execution_count": 1,
   "id": "4fa5b1d8",
   "metadata": {
    "execution": {
     "iopub.execute_input": "2022-06-25T17:09:41.897990Z",
     "iopub.status.busy": "2022-06-25T17:09:41.897286Z",
     "iopub.status.idle": "2022-06-25T17:09:44.764529Z",
     "shell.execute_reply": "2022-06-25T17:09:44.763033Z"
    }
   },
   "outputs": [],
   "source": [
    "import pandas as pd\n",
    "import matplotlib.pyplot as plt\n",
    "import numpy as np"
   ]
  },
  {
   "cell_type": "markdown",
   "id": "2a563d17",
   "metadata": {},
   "source": [
    "## Load Data\n",
    "\n",
    "Let's start by getting our clusters and their statistics:"
   ]
  },
  {
   "cell_type": "code",
   "execution_count": 2,
   "id": "ab166908",
   "metadata": {
    "execution": {
     "iopub.execute_input": "2022-06-25T17:09:44.770203Z",
     "iopub.status.busy": "2022-06-25T17:09:44.769652Z",
     "iopub.status.idle": "2022-06-25T17:09:45.763288Z",
     "shell.execute_reply": "2022-06-25T17:09:45.762167Z"
    }
   },
   "outputs": [
    {
     "name": "stdout",
     "output_type": "stream",
     "text": [
      "<class 'pandas.core.frame.DataFrame'>\n",
      "RangeIndex: 31717371 entries, 0 to 31717370\n",
      "Data columns (total 8 columns):\n",
      " #   Column         Dtype \n",
      "---  ------         ----- \n",
      " 0   cluster        int32 \n",
      " 1   n_nodes        uint32\n",
      " 2   n_isbns        uint32\n",
      " 3   n_loc_recs     uint32\n",
      " 4   n_ol_editions  uint32\n",
      " 5   n_ol_works     uint32\n",
      " 6   n_gr_books     uint32\n",
      " 7   n_gr_works     uint32\n",
      "dtypes: int32(1), uint32(7)\n",
      "memory usage: 967.9 MB\n"
     ]
    }
   ],
   "source": [
    "clusters = pd.read_parquet('book-links/cluster-stats.parquet')\n",
    "clusters.info()"
   ]
  },
  {
   "cell_type": "code",
   "execution_count": 3,
   "id": "b2dc9f29",
   "metadata": {
    "execution": {
     "iopub.execute_input": "2022-06-25T17:09:45.767762Z",
     "iopub.status.busy": "2022-06-25T17:09:45.767401Z",
     "iopub.status.idle": "2022-06-25T17:09:46.166665Z",
     "shell.execute_reply": "2022-06-25T17:09:46.165590Z"
    }
   },
   "outputs": [],
   "source": [
    "clusters.set_index('cluster', inplace=True)"
   ]
  },
  {
   "cell_type": "markdown",
   "id": "4c6dd567",
   "metadata": {},
   "source": [
    "Describe the count columns for basic descriptive stats:"
   ]
  },
  {
   "cell_type": "code",
   "execution_count": 4,
   "id": "9cc93745",
   "metadata": {
    "execution": {
     "iopub.execute_input": "2022-06-25T17:09:46.172775Z",
     "iopub.status.busy": "2022-06-25T17:09:46.172402Z",
     "iopub.status.idle": "2022-06-25T17:09:52.617959Z",
     "shell.execute_reply": "2022-06-25T17:09:52.616750Z"
    }
   },
   "outputs": [
    {
     "data": {
      "text/html": [
       "<div>\n",
       "<style scoped>\n",
       "    .dataframe tbody tr th:only-of-type {\n",
       "        vertical-align: middle;\n",
       "    }\n",
       "\n",
       "    .dataframe tbody tr th {\n",
       "        vertical-align: top;\n",
       "    }\n",
       "\n",
       "    .dataframe thead th {\n",
       "        text-align: right;\n",
       "    }\n",
       "</style>\n",
       "<table border=\"1\" class=\"dataframe\">\n",
       "  <thead>\n",
       "    <tr style=\"text-align: right;\">\n",
       "      <th></th>\n",
       "      <th>n_nodes</th>\n",
       "      <th>n_isbns</th>\n",
       "      <th>n_loc_recs</th>\n",
       "      <th>n_ol_editions</th>\n",
       "      <th>n_ol_works</th>\n",
       "      <th>n_gr_books</th>\n",
       "      <th>n_gr_works</th>\n",
       "    </tr>\n",
       "  </thead>\n",
       "  <tbody>\n",
       "    <tr>\n",
       "      <th>count</th>\n",
       "      <td>3.171737e+07</td>\n",
       "      <td>3.171737e+07</td>\n",
       "      <td>3.171737e+07</td>\n",
       "      <td>3.171737e+07</td>\n",
       "      <td>3.171737e+07</td>\n",
       "      <td>3.171737e+07</td>\n",
       "      <td>3.171737e+07</td>\n",
       "    </tr>\n",
       "    <tr>\n",
       "      <th>mean</th>\n",
       "      <td>3.342299e+00</td>\n",
       "      <td>1.031456e+00</td>\n",
       "      <td>3.048986e-01</td>\n",
       "      <td>1.095140e+00</td>\n",
       "      <td>7.883911e-01</td>\n",
       "      <td>7.442783e-02</td>\n",
       "      <td>4.798512e-02</td>\n",
       "    </tr>\n",
       "    <tr>\n",
       "      <th>std</th>\n",
       "      <td>1.003193e+01</td>\n",
       "      <td>5.104504e+00</td>\n",
       "      <td>5.524211e-01</td>\n",
       "      <td>3.792497e+00</td>\n",
       "      <td>6.989674e-01</td>\n",
       "      <td>1.110550e+00</td>\n",
       "      <td>2.231912e-01</td>\n",
       "    </tr>\n",
       "    <tr>\n",
       "      <th>min</th>\n",
       "      <td>1.000000e+00</td>\n",
       "      <td>0.000000e+00</td>\n",
       "      <td>0.000000e+00</td>\n",
       "      <td>0.000000e+00</td>\n",
       "      <td>0.000000e+00</td>\n",
       "      <td>0.000000e+00</td>\n",
       "      <td>0.000000e+00</td>\n",
       "    </tr>\n",
       "    <tr>\n",
       "      <th>25%</th>\n",
       "      <td>2.000000e+00</td>\n",
       "      <td>0.000000e+00</td>\n",
       "      <td>0.000000e+00</td>\n",
       "      <td>1.000000e+00</td>\n",
       "      <td>0.000000e+00</td>\n",
       "      <td>0.000000e+00</td>\n",
       "      <td>0.000000e+00</td>\n",
       "    </tr>\n",
       "    <tr>\n",
       "      <th>50%</th>\n",
       "      <td>3.000000e+00</td>\n",
       "      <td>1.000000e+00</td>\n",
       "      <td>0.000000e+00</td>\n",
       "      <td>1.000000e+00</td>\n",
       "      <td>1.000000e+00</td>\n",
       "      <td>0.000000e+00</td>\n",
       "      <td>0.000000e+00</td>\n",
       "    </tr>\n",
       "    <tr>\n",
       "      <th>75%</th>\n",
       "      <td>4.000000e+00</td>\n",
       "      <td>2.000000e+00</td>\n",
       "      <td>1.000000e+00</td>\n",
       "      <td>1.000000e+00</td>\n",
       "      <td>1.000000e+00</td>\n",
       "      <td>0.000000e+00</td>\n",
       "      <td>0.000000e+00</td>\n",
       "    </tr>\n",
       "    <tr>\n",
       "      <th>max</th>\n",
       "      <td>2.902000e+04</td>\n",
       "      <td>1.437800e+04</td>\n",
       "      <td>6.730000e+02</td>\n",
       "      <td>9.939000e+03</td>\n",
       "      <td>2.368000e+03</td>\n",
       "      <td>3.390000e+03</td>\n",
       "      <td>1.320000e+02</td>\n",
       "    </tr>\n",
       "  </tbody>\n",
       "</table>\n",
       "</div>"
      ],
      "text/plain": [
       "            n_nodes       n_isbns    n_loc_recs  n_ol_editions    n_ol_works  \\\n",
       "count  3.171737e+07  3.171737e+07  3.171737e+07   3.171737e+07  3.171737e+07   \n",
       "mean   3.342299e+00  1.031456e+00  3.048986e-01   1.095140e+00  7.883911e-01   \n",
       "std    1.003193e+01  5.104504e+00  5.524211e-01   3.792497e+00  6.989674e-01   \n",
       "min    1.000000e+00  0.000000e+00  0.000000e+00   0.000000e+00  0.000000e+00   \n",
       "25%    2.000000e+00  0.000000e+00  0.000000e+00   1.000000e+00  0.000000e+00   \n",
       "50%    3.000000e+00  1.000000e+00  0.000000e+00   1.000000e+00  1.000000e+00   \n",
       "75%    4.000000e+00  2.000000e+00  1.000000e+00   1.000000e+00  1.000000e+00   \n",
       "max    2.902000e+04  1.437800e+04  6.730000e+02   9.939000e+03  2.368000e+03   \n",
       "\n",
       "         n_gr_books    n_gr_works  \n",
       "count  3.171737e+07  3.171737e+07  \n",
       "mean   7.442783e-02  4.798512e-02  \n",
       "std    1.110550e+00  2.231912e-01  \n",
       "min    0.000000e+00  0.000000e+00  \n",
       "25%    0.000000e+00  0.000000e+00  \n",
       "50%    0.000000e+00  0.000000e+00  \n",
       "75%    0.000000e+00  0.000000e+00  \n",
       "max    3.390000e+03  1.320000e+02  "
      ]
     },
     "execution_count": 4,
     "metadata": {},
     "output_type": "execute_result"
    }
   ],
   "source": [
    "clusters.describe()"
   ]
  },
  {
   "cell_type": "markdown",
   "id": "661dae22",
   "metadata": {},
   "source": [
    "75% of clusters only contain 2 ISBNs (probably -10 and -13) and one book. OpenLibrary also contributes to the largest number of clusters."
   ]
  },
  {
   "cell_type": "markdown",
   "id": "1cdd1192",
   "metadata": {},
   "source": [
    "## Clusters per Source\n",
    "\n",
    "How many clusters are connected to each source?"
   ]
  },
  {
   "cell_type": "code",
   "execution_count": 5,
   "id": "daa81db6",
   "metadata": {
    "execution": {
     "iopub.execute_input": "2022-06-25T17:09:52.626634Z",
     "iopub.status.busy": "2022-06-25T17:09:52.625967Z",
     "iopub.status.idle": "2022-06-25T17:09:53.837967Z",
     "shell.execute_reply": "2022-06-25T17:09:53.836560Z"
    }
   },
   "outputs": [
    {
     "data": {
      "text/plain": [
       "n_nodes          31717371\n",
       "n_isbns          16882949\n",
       "n_loc_recs        9281528\n",
       "n_ol_editions    25814137\n",
       "n_ol_works       23754503\n",
       "n_gr_books        1506186\n",
       "n_gr_works        1505662\n",
       "dtype: int64"
      ]
     },
     "execution_count": 5,
     "metadata": {},
     "output_type": "execute_result"
    }
   ],
   "source": [
    "src_counts = pd.Series(dict(\n",
    "    (c, np.sum(clusters[c] > 0)) for c in clusters.columns\n",
    "))\n",
    "src_counts"
   ]
  },
  {
   "cell_type": "code",
   "execution_count": 6,
   "id": "e16aa4f2",
   "metadata": {
    "execution": {
     "iopub.execute_input": "2022-06-25T17:09:53.842900Z",
     "iopub.status.busy": "2022-06-25T17:09:53.842531Z",
     "iopub.status.idle": "2022-06-25T17:09:54.475405Z",
     "shell.execute_reply": "2022-06-25T17:09:54.473427Z"
    }
   },
   "outputs": [
    {
     "data": {
      "image/png": "[encoded data removed]",
      "text/plain": [
       "<Figure size 432x288 with 1 Axes>"
      ]
     },
     "metadata": {
      "needs_background": "light"
     },
     "output_type": "display_data"
    }
   ],
   "source": [
    "src_counts.plot.barh()\n",
    "plt.xlabel('# of Clusters')\n",
    "plt.show()"
   ]
  },
  {
   "cell_type": "markdown",
   "id": "4e9d240d",
   "metadata": {},
   "source": [
    "## Distributions\n",
    "\n",
    "Let's look at the distributions of cluster sizes."
   ]
  },
  {
   "cell_type": "code",
   "execution_count": 7,
   "id": "a6e05b63",
   "metadata": {
    "execution": {
     "iopub.execute_input": "2022-06-25T17:09:54.491542Z",
     "iopub.status.busy": "2022-06-25T17:09:54.490865Z",
     "iopub.status.idle": "2022-06-25T17:09:55.743924Z",
     "shell.execute_reply": "2022-06-25T17:09:55.742954Z"
    }
   },
   "outputs": [
    {
     "data": {
      "text/html": [
       "<div>\n",
       "<style scoped>\n",
       "    .dataframe tbody tr th:only-of-type {\n",
       "        vertical-align: middle;\n",
       "    }\n",
       "\n",
       "    .dataframe tbody tr th {\n",
       "        vertical-align: top;\n",
       "    }\n",
       "\n",
       "    .dataframe thead th {\n",
       "        text-align: right;\n",
       "    }\n",
       "</style>\n",
       "<table border=\"1\" class=\"dataframe\">\n",
       "  <thead>\n",
       "    <tr style=\"text-align: right;\">\n",
       "      <th></th>\n",
       "      <th>RecType</th>\n",
       "      <th>RecCount</th>\n",
       "      <th>Clusters</th>\n",
       "    </tr>\n",
       "  </thead>\n",
       "  <tbody>\n",
       "    <tr>\n",
       "      <th>0</th>\n",
       "      <td>n_isbns</td>\n",
       "      <td>0</td>\n",
       "      <td>14834422</td>\n",
       "    </tr>\n",
       "    <tr>\n",
       "      <th>1</th>\n",
       "      <td>n_isbns</td>\n",
       "      <td>1</td>\n",
       "      <td>7480533</td>\n",
       "    </tr>\n",
       "    <tr>\n",
       "      <th>2</th>\n",
       "      <td>n_isbns</td>\n",
       "      <td>2</td>\n",
       "      <td>7435673</td>\n",
       "    </tr>\n",
       "    <tr>\n",
       "      <th>3</th>\n",
       "      <td>n_isbns</td>\n",
       "      <td>4</td>\n",
       "      <td>737604</td>\n",
       "    </tr>\n",
       "    <tr>\n",
       "      <th>4</th>\n",
       "      <td>n_isbns</td>\n",
       "      <td>3</td>\n",
       "      <td>617822</td>\n",
       "    </tr>\n",
       "  </tbody>\n",
       "</table>\n",
       "</div>"
      ],
      "text/plain": [
       "   RecType  RecCount  Clusters\n",
       "0  n_isbns         0  14834422\n",
       "1  n_isbns         1   7480533\n",
       "2  n_isbns         2   7435673\n",
       "3  n_isbns         4    737604\n",
       "4  n_isbns         3    617822"
      ]
     },
     "execution_count": 7,
     "metadata": {},
     "output_type": "execute_result"
    }
   ],
   "source": [
    "size_dist = pd.concat(dict(\n",
    "    (c, clusters[c].value_counts()) for c in clusters.columns if c != 'n_nodes'\n",
    "), names=['RecType'])\n",
    "size_dist.index.set_names(['RecType', 'RecCount'], inplace=True)\n",
    "size_dist = size_dist.reset_index(name='Clusters')\n",
    "size_dist.head()"
   ]
  },
  {
   "cell_type": "code",
   "execution_count": 8,
   "id": "704520b6",
   "metadata": {
    "execution": {
     "iopub.execute_input": "2022-06-25T17:09:55.748448Z",
     "iopub.status.busy": "2022-06-25T17:09:55.748077Z",
     "iopub.status.idle": "2022-06-25T17:09:57.595216Z",
     "shell.execute_reply": "2022-06-25T17:09:57.594159Z"
    }
   },
   "outputs": [
    {
     "data": {
      "image/png": "[encoded data removed]",
      "text/plain": [
       "<Figure size 432x288 with 1 Axes>"
      ]
     },
     "metadata": {
      "needs_background": "light"
     },
     "output_type": "display_data"
    }
   ],
   "source": [
    "for rt, data in size_dist.groupby('RecType'):\n",
    "    plt.scatter(data['RecCount'], data['Clusters'], marker='1', label=rt)\n",
    "plt.legend()\n",
    "plt.xlabel('# of Records')\n",
    "plt.xscale('log')\n",
    "plt.ylabel('# of Clusters')\n",
    "plt.yscale('log')\n",
    "plt.show()"
   ]
  },
  {
   "cell_type": "markdown",
   "id": "d1253b0f",
   "metadata": {},
   "source": [
    "Looks mostly fine - we expect a lot of power laws - but the number of clusters with merged GoodReads works is concerning."
   ]
  },
  {
   "cell_type": "markdown",
   "id": "b331fe59",
   "metadata": {},
   "source": [
    "## GoodReads Work Merging\n",
    "\n",
    "Why are GoodReads works merging? Let's look at those."
   ]
  },
  {
   "cell_type": "code",
   "execution_count": 9,
   "id": "28abed78",
   "metadata": {
    "execution": {
     "iopub.execute_input": "2022-06-25T17:09:57.600062Z",
     "iopub.status.busy": "2022-06-25T17:09:57.599703Z",
     "iopub.status.idle": "2022-06-25T17:09:57.734855Z",
     "shell.execute_reply": "2022-06-25T17:09:57.733737Z"
    }
   },
   "outputs": [
    {
     "name": "stdout",
     "output_type": "stream",
     "text": [
      "<class 'pandas.core.frame.DataFrame'>\n",
      "Int64Index: 9258 entries, 100026918 to 100674360\n",
      "Data columns (total 7 columns):\n",
      " #   Column         Non-Null Count  Dtype \n",
      "---  ------         --------------  ----- \n",
      " 0   n_nodes        9258 non-null   uint32\n",
      " 1   n_isbns        9258 non-null   uint32\n",
      " 2   n_loc_recs     9258 non-null   uint32\n",
      " 3   n_ol_editions  9258 non-null   uint32\n",
      " 4   n_ol_works     9258 non-null   uint32\n",
      " 5   n_gr_books     9258 non-null   uint32\n",
      " 6   n_gr_works     9258 non-null   uint32\n",
      "dtypes: uint32(7)\n",
      "memory usage: 325.5 KB\n"
     ]
    }
   ],
   "source": [
    "gr_big = clusters[clusters['n_gr_works'] > 1].sort_values('n_gr_works', ascending=False)\n",
    "gr_big.info()"
   ]
  },
  {
   "cell_type": "markdown",
   "id": "a94d2cc3",
   "metadata": {},
   "source": [
    "We have a lot of these clusters. What fraction of the GoodReads-affected clusters is this?"
   ]
  },
  {
   "cell_type": "code",
   "execution_count": 10,
   "id": "a2e3173c",
   "metadata": {
    "execution": {
     "iopub.execute_input": "2022-06-25T17:09:57.739733Z",
     "iopub.status.busy": "2022-06-25T17:09:57.739366Z",
     "iopub.status.idle": "2022-06-25T17:09:57.804831Z",
     "shell.execute_reply": "2022-06-25T17:09:57.803842Z"
    }
   },
   "outputs": [
    {
     "data": {
      "text/plain": [
       "0.0002918905227044196"
      ]
     },
     "execution_count": 10,
     "metadata": {},
     "output_type": "execute_result"
    }
   ],
   "source": [
    "len(gr_big) / clusters['n_gr_books'].count()"
   ]
  },
  {
   "cell_type": "markdown",
   "id": "7dbcc4ad",
   "metadata": {},
   "source": [
    "Less than 1%. Not bad, but let's look."
   ]
  },
  {
   "cell_type": "code",
   "execution_count": 11,
   "id": "7995e724",
   "metadata": {
    "execution": {
     "iopub.execute_input": "2022-06-25T17:09:57.809447Z",
     "iopub.status.busy": "2022-06-25T17:09:57.808993Z",
     "iopub.status.idle": "2022-06-25T17:09:57.822553Z",
     "shell.execute_reply": "2022-06-25T17:09:57.821633Z"
    }
   },
   "outputs": [
    {
     "data": {
      "text/html": [
       "<div>\n",
       "<style scoped>\n",
       "    .dataframe tbody tr th:only-of-type {\n",
       "        vertical-align: middle;\n",
       "    }\n",
       "\n",
       "    .dataframe tbody tr th {\n",
       "        vertical-align: top;\n",
       "    }\n",
       "\n",
       "    .dataframe thead th {\n",
       "        text-align: right;\n",
       "    }\n",
       "</style>\n",
       "<table border=\"1\" class=\"dataframe\">\n",
       "  <thead>\n",
       "    <tr style=\"text-align: right;\">\n",
       "      <th></th>\n",
       "      <th>n_nodes</th>\n",
       "      <th>n_isbns</th>\n",
       "      <th>n_loc_recs</th>\n",
       "      <th>n_ol_editions</th>\n",
       "      <th>n_ol_works</th>\n",
       "      <th>n_gr_books</th>\n",
       "      <th>n_gr_works</th>\n",
       "    </tr>\n",
       "    <tr>\n",
       "      <th>cluster</th>\n",
       "      <th></th>\n",
       "      <th></th>\n",
       "      <th></th>\n",
       "      <th></th>\n",
       "      <th></th>\n",
       "      <th></th>\n",
       "      <th></th>\n",
       "    </tr>\n",
       "  </thead>\n",
       "  <tbody>\n",
       "    <tr>\n",
       "      <th>100026918</th>\n",
       "      <td>29020</td>\n",
       "      <td>14378</td>\n",
       "      <td>673</td>\n",
       "      <td>9939</td>\n",
       "      <td>508</td>\n",
       "      <td>3390</td>\n",
       "      <td>132</td>\n",
       "    </tr>\n",
       "    <tr>\n",
       "      <th>100073294</th>\n",
       "      <td>17883</td>\n",
       "      <td>7331</td>\n",
       "      <td>496</td>\n",
       "      <td>8126</td>\n",
       "      <td>360</td>\n",
       "      <td>1481</td>\n",
       "      <td>89</td>\n",
       "    </tr>\n",
       "    <tr>\n",
       "      <th>100227025</th>\n",
       "      <td>6811</td>\n",
       "      <td>3314</td>\n",
       "      <td>192</td>\n",
       "      <td>2555</td>\n",
       "      <td>258</td>\n",
       "      <td>422</td>\n",
       "      <td>70</td>\n",
       "    </tr>\n",
       "    <tr>\n",
       "      <th>100122502</th>\n",
       "      <td>454</td>\n",
       "      <td>165</td>\n",
       "      <td>4</td>\n",
       "      <td>93</td>\n",
       "      <td>76</td>\n",
       "      <td>60</td>\n",
       "      <td>56</td>\n",
       "    </tr>\n",
       "    <tr>\n",
       "      <th>104486307</th>\n",
       "      <td>315</td>\n",
       "      <td>141</td>\n",
       "      <td>1</td>\n",
       "      <td>51</td>\n",
       "      <td>18</td>\n",
       "      <td>53</td>\n",
       "      <td>51</td>\n",
       "    </tr>\n",
       "  </tbody>\n",
       "</table>\n",
       "</div>"
      ],
      "text/plain": [
       "           n_nodes  n_isbns  n_loc_recs  n_ol_editions  n_ol_works  \\\n",
       "cluster                                                              \n",
       "100026918    29020    14378         673           9939         508   \n",
       "100073294    17883     7331         496           8126         360   \n",
       "100227025     6811     3314         192           2555         258   \n",
       "100122502      454      165           4             93          76   \n",
       "104486307      315      141           1             51          18   \n",
       "\n",
       "           n_gr_books  n_gr_works  \n",
       "cluster                            \n",
       "100026918        3390         132  \n",
       "100073294        1481          89  \n",
       "100227025         422          70  \n",
       "100122502          60          56  \n",
       "104486307          53          51  "
      ]
     },
     "execution_count": 11,
     "metadata": {},
     "output_type": "execute_result"
    }
   ],
   "source": [
    "gr_big.head()"
   ]
  },
  {
   "cell_type": "markdown",
   "id": "1d0af896",
   "metadata": {},
   "source": [
    "## Large Cluster Debugging\n",
    "\n",
    "We have some pretty big clusters:"
   ]
  },
  {
   "cell_type": "code",
   "execution_count": 12,
   "id": "08f9363b",
   "metadata": {
    "execution": {
     "iopub.execute_input": "2022-06-25T17:09:57.826917Z",
     "iopub.status.busy": "2022-06-25T17:09:57.826570Z",
     "iopub.status.idle": "2022-06-25T17:09:59.952652Z",
     "shell.execute_reply": "2022-06-25T17:09:59.951799Z"
    }
   },
   "outputs": [
    {
     "data": {
      "text/html": [
       "<div>\n",
       "<style scoped>\n",
       "    .dataframe tbody tr th:only-of-type {\n",
       "        vertical-align: middle;\n",
       "    }\n",
       "\n",
       "    .dataframe tbody tr th {\n",
       "        vertical-align: top;\n",
       "    }\n",
       "\n",
       "    .dataframe thead th {\n",
       "        text-align: right;\n",
       "    }\n",
       "</style>\n",
       "<table border=\"1\" class=\"dataframe\">\n",
       "  <thead>\n",
       "    <tr style=\"text-align: right;\">\n",
       "      <th></th>\n",
       "      <th>n_nodes</th>\n",
       "      <th>n_isbns</th>\n",
       "      <th>n_loc_recs</th>\n",
       "      <th>n_ol_editions</th>\n",
       "      <th>n_ol_works</th>\n",
       "      <th>n_gr_books</th>\n",
       "      <th>n_gr_works</th>\n",
       "    </tr>\n",
       "    <tr>\n",
       "      <th>cluster</th>\n",
       "      <th></th>\n",
       "      <th></th>\n",
       "      <th></th>\n",
       "      <th></th>\n",
       "      <th></th>\n",
       "      <th></th>\n",
       "      <th></th>\n",
       "    </tr>\n",
       "  </thead>\n",
       "  <tbody>\n",
       "    <tr>\n",
       "      <th>100026918</th>\n",
       "      <td>29020</td>\n",
       "      <td>14378</td>\n",
       "      <td>673</td>\n",
       "      <td>9939</td>\n",
       "      <td>508</td>\n",
       "      <td>3390</td>\n",
       "      <td>132</td>\n",
       "    </tr>\n",
       "    <tr>\n",
       "      <th>100073294</th>\n",
       "      <td>17883</td>\n",
       "      <td>7331</td>\n",
       "      <td>496</td>\n",
       "      <td>8126</td>\n",
       "      <td>360</td>\n",
       "      <td>1481</td>\n",
       "      <td>89</td>\n",
       "    </tr>\n",
       "    <tr>\n",
       "      <th>100044980</th>\n",
       "      <td>15635</td>\n",
       "      <td>7836</td>\n",
       "      <td>186</td>\n",
       "      <td>6168</td>\n",
       "      <td>89</td>\n",
       "      <td>1333</td>\n",
       "      <td>23</td>\n",
       "    </tr>\n",
       "    <tr>\n",
       "      <th>102066477</th>\n",
       "      <td>11281</td>\n",
       "      <td>7520</td>\n",
       "      <td>0</td>\n",
       "      <td>3760</td>\n",
       "      <td>1</td>\n",
       "      <td>0</td>\n",
       "      <td>0</td>\n",
       "    </tr>\n",
       "    <tr>\n",
       "      <th>100063034</th>\n",
       "      <td>11098</td>\n",
       "      <td>5647</td>\n",
       "      <td>178</td>\n",
       "      <td>3484</td>\n",
       "      <td>145</td>\n",
       "      <td>1599</td>\n",
       "      <td>45</td>\n",
       "    </tr>\n",
       "  </tbody>\n",
       "</table>\n",
       "</div>"
      ],
      "text/plain": [
       "           n_nodes  n_isbns  n_loc_recs  n_ol_editions  n_ol_works  \\\n",
       "cluster                                                              \n",
       "100026918    29020    14378         673           9939         508   \n",
       "100073294    17883     7331         496           8126         360   \n",
       "100044980    15635     7836         186           6168          89   \n",
       "102066477    11281     7520           0           3760           1   \n",
       "100063034    11098     5647         178           3484         145   \n",
       "\n",
       "           n_gr_books  n_gr_works  \n",
       "cluster                            \n",
       "100026918        3390         132  \n",
       "100073294        1481          89  \n",
       "100044980        1333          23  \n",
       "102066477           0           0  \n",
       "100063034        1599          45  "
      ]
     },
     "execution_count": 12,
     "metadata": {},
     "output_type": "execute_result"
    }
   ],
   "source": [
    "big = clusters.nlargest(5, 'n_nodes')\n",
    "big"
   ]
  },
  {
   "cell_type": "markdown",
   "id": "c73a4272",
   "metadata": {},
   "source": [
    "What is up with this? We should figure out what went wrong, if we can.  What are its ISBNs?"
   ]
  },
  {
   "cell_type": "code",
   "execution_count": 13,
   "id": "ec6c2c99",
   "metadata": {
    "execution": {
     "iopub.execute_input": "2022-06-25T17:09:59.957199Z",
     "iopub.status.busy": "2022-06-25T17:09:59.956856Z",
     "iopub.status.idle": "2022-06-25T17:10:26.390158Z",
     "shell.execute_reply": "2022-06-25T17:10:26.388985Z"
    }
   },
   "outputs": [
    {
     "data": {
      "text/html": [
       "<div>\n",
       "<style scoped>\n",
       "    .dataframe tbody tr th:only-of-type {\n",
       "        vertical-align: middle;\n",
       "    }\n",
       "\n",
       "    .dataframe tbody tr th {\n",
       "        vertical-align: top;\n",
       "    }\n",
       "\n",
       "    .dataframe thead th {\n",
       "        text-align: right;\n",
       "    }\n",
       "</style>\n",
       "<table border=\"1\" class=\"dataframe\">\n",
       "  <thead>\n",
       "    <tr style=\"text-align: right;\">\n",
       "      <th></th>\n",
       "      <th>isbn</th>\n",
       "      <th>OL</th>\n",
       "      <th>AZ14</th>\n",
       "      <th>GR</th>\n",
       "      <th>BX</th>\n",
       "      <th>LOC</th>\n",
       "    </tr>\n",
       "    <tr>\n",
       "      <th>isbn_id</th>\n",
       "      <th></th>\n",
       "      <th></th>\n",
       "      <th></th>\n",
       "      <th></th>\n",
       "      <th></th>\n",
       "      <th></th>\n",
       "    </tr>\n",
       "  </thead>\n",
       "  <tbody>\n",
       "    <tr>\n",
       "      <th>1</th>\n",
       "      <td>0813523923</td>\n",
       "      <td>2</td>\n",
       "      <td>0</td>\n",
       "      <td>0</td>\n",
       "      <td>0</td>\n",
       "      <td>1</td>\n",
       "    </tr>\n",
       "    <tr>\n",
       "      <th>2</th>\n",
       "      <td>0813523931</td>\n",
       "      <td>2</td>\n",
       "      <td>0</td>\n",
       "      <td>0</td>\n",
       "      <td>1</td>\n",
       "      <td>1</td>\n",
       "    </tr>\n",
       "    <tr>\n",
       "      <th>3</th>\n",
       "      <td>010836321X</td>\n",
       "      <td>1</td>\n",
       "      <td>0</td>\n",
       "      <td>0</td>\n",
       "      <td>0</td>\n",
       "      <td>0</td>\n",
       "    </tr>\n",
       "    <tr>\n",
       "      <th>4</th>\n",
       "      <td>9780108363214</td>\n",
       "      <td>1</td>\n",
       "      <td>0</td>\n",
       "      <td>0</td>\n",
       "      <td>0</td>\n",
       "      <td>0</td>\n",
       "    </tr>\n",
       "    <tr>\n",
       "      <th>5</th>\n",
       "      <td>1560002948</td>\n",
       "      <td>1</td>\n",
       "      <td>0</td>\n",
       "      <td>0</td>\n",
       "      <td>0</td>\n",
       "      <td>1</td>\n",
       "    </tr>\n",
       "  </tbody>\n",
       "</table>\n",
       "</div>"
      ],
      "text/plain": [
       "                  isbn  OL  AZ14  GR  BX  LOC\n",
       "isbn_id                                      \n",
       "1           0813523923   2     0   0   0    1\n",
       "2           0813523931   2     0   0   1    1\n",
       "3           010836321X   1     0   0   0    0\n",
       "4        9780108363214   1     0   0   0    0\n",
       "5           1560002948   1     0   0   0    1"
      ]
     },
     "execution_count": 13,
     "metadata": {},
     "output_type": "execute_result"
    }
   ],
   "source": [
    "isbns = pd.read_parquet('book-links/all-isbns.parquet').set_index('isbn_id')\n",
    "isbns.head()"
   ]
  },
  {
   "cell_type": "code",
   "execution_count": 14,
   "id": "7db2035d",
   "metadata": {
    "execution": {
     "iopub.execute_input": "2022-06-25T17:10:26.394405Z",
     "iopub.status.busy": "2022-06-25T17:10:26.394066Z",
     "iopub.status.idle": "2022-06-25T17:10:27.920065Z",
     "shell.execute_reply": "2022-06-25T17:10:27.918039Z"
    }
   },
   "outputs": [
    {
     "data": {
      "text/html": [
       "<div>\n",
       "<style scoped>\n",
       "    .dataframe tbody tr th:only-of-type {\n",
       "        vertical-align: middle;\n",
       "    }\n",
       "\n",
       "    .dataframe tbody tr th {\n",
       "        vertical-align: top;\n",
       "    }\n",
       "\n",
       "    .dataframe thead th {\n",
       "        text-align: right;\n",
       "    }\n",
       "</style>\n",
       "<table border=\"1\" class=\"dataframe\">\n",
       "  <thead>\n",
       "    <tr style=\"text-align: right;\">\n",
       "      <th></th>\n",
       "      <th>isbn_id</th>\n",
       "      <th>cluster</th>\n",
       "    </tr>\n",
       "  </thead>\n",
       "  <tbody>\n",
       "    <tr>\n",
       "      <th>0</th>\n",
       "      <td>32715078</td>\n",
       "      <td>309665508</td>\n",
       "    </tr>\n",
       "    <tr>\n",
       "      <th>1</th>\n",
       "      <td>32715072</td>\n",
       "      <td>309633417</td>\n",
       "    </tr>\n",
       "    <tr>\n",
       "      <th>2</th>\n",
       "      <td>32715073</td>\n",
       "      <td>309633417</td>\n",
       "    </tr>\n",
       "    <tr>\n",
       "      <th>3</th>\n",
       "      <td>32715074</td>\n",
       "      <td>309633417</td>\n",
       "    </tr>\n",
       "    <tr>\n",
       "      <th>4</th>\n",
       "      <td>32715075</td>\n",
       "      <td>309633417</td>\n",
       "    </tr>\n",
       "  </tbody>\n",
       "</table>\n",
       "</div>"
      ],
      "text/plain": [
       "    isbn_id    cluster\n",
       "0  32715078  309665508\n",
       "1  32715072  309633417\n",
       "2  32715073  309633417\n",
       "3  32715074  309633417\n",
       "4  32715075  309633417"
      ]
     },
     "execution_count": 14,
     "metadata": {},
     "output_type": "execute_result"
    }
   ],
   "source": [
    "links = pd.read_parquet('book-links/isbn-clusters.parquet', columns=['isbn_id', 'cluster'])\n",
    "links.head()"
   ]
  },
  {
   "cell_type": "code",
   "execution_count": 15,
   "id": "a4027983",
   "metadata": {
    "execution": {
     "iopub.execute_input": "2022-06-25T17:10:27.928186Z",
     "iopub.status.busy": "2022-06-25T17:10:27.927532Z",
     "iopub.status.idle": "2022-06-25T17:10:37.339650Z",
     "shell.execute_reply": "2022-06-25T17:10:37.338572Z"
    }
   },
   "outputs": [
    {
     "data": {
      "text/html": [
       "<div>\n",
       "<style scoped>\n",
       "    .dataframe tbody tr th:only-of-type {\n",
       "        vertical-align: middle;\n",
       "    }\n",
       "\n",
       "    .dataframe tbody tr th {\n",
       "        vertical-align: top;\n",
       "    }\n",
       "\n",
       "    .dataframe thead th {\n",
       "        text-align: right;\n",
       "    }\n",
       "</style>\n",
       "<table border=\"1\" class=\"dataframe\">\n",
       "  <thead>\n",
       "    <tr style=\"text-align: right;\">\n",
       "      <th></th>\n",
       "      <th>isbn_id</th>\n",
       "      <th>isbn</th>\n",
       "      <th>OL</th>\n",
       "      <th>AZ14</th>\n",
       "      <th>GR</th>\n",
       "      <th>BX</th>\n",
       "      <th>LOC</th>\n",
       "    </tr>\n",
       "  </thead>\n",
       "  <tbody>\n",
       "    <tr>\n",
       "      <th>32616544</th>\n",
       "      <td>12349192</td>\n",
       "      <td>0001004735</td>\n",
       "      <td>1</td>\n",
       "      <td>0</td>\n",
       "      <td>0</td>\n",
       "      <td>0</td>\n",
       "      <td>0</td>\n",
       "    </tr>\n",
       "    <tr>\n",
       "      <th>32618508</th>\n",
       "      <td>6834614</td>\n",
       "      <td>0001848259</td>\n",
       "      <td>1</td>\n",
       "      <td>0</td>\n",
       "      <td>0</td>\n",
       "      <td>0</td>\n",
       "      <td>0</td>\n",
       "    </tr>\n",
       "    <tr>\n",
       "      <th>32621387</th>\n",
       "      <td>6631389</td>\n",
       "      <td>0001849123</td>\n",
       "      <td>1</td>\n",
       "      <td>0</td>\n",
       "      <td>0</td>\n",
       "      <td>0</td>\n",
       "      <td>0</td>\n",
       "    </tr>\n",
       "    <tr>\n",
       "      <th>32612819</th>\n",
       "      <td>11278348</td>\n",
       "      <td>0001956795</td>\n",
       "      <td>1</td>\n",
       "      <td>0</td>\n",
       "      <td>0</td>\n",
       "      <td>0</td>\n",
       "      <td>0</td>\n",
       "    </tr>\n",
       "    <tr>\n",
       "      <th>32619372</th>\n",
       "      <td>1764565</td>\n",
       "      <td>0003302245</td>\n",
       "      <td>1</td>\n",
       "      <td>0</td>\n",
       "      <td>0</td>\n",
       "      <td>0</td>\n",
       "      <td>0</td>\n",
       "    </tr>\n",
       "    <tr>\n",
       "      <th>...</th>\n",
       "      <td>...</td>\n",
       "      <td>...</td>\n",
       "      <td>...</td>\n",
       "      <td>...</td>\n",
       "      <td>...</td>\n",
       "      <td>...</td>\n",
       "      <td>...</td>\n",
       "    </tr>\n",
       "    <tr>\n",
       "      <th>32620420</th>\n",
       "      <td>32276393</td>\n",
       "      <td>B073GF59RD</td>\n",
       "      <td>0</td>\n",
       "      <td>0</td>\n",
       "      <td>1</td>\n",
       "      <td>0</td>\n",
       "      <td>0</td>\n",
       "    </tr>\n",
       "    <tr>\n",
       "      <th>32610343</th>\n",
       "      <td>32380080</td>\n",
       "      <td>B073GGNYFL</td>\n",
       "      <td>0</td>\n",
       "      <td>0</td>\n",
       "      <td>1</td>\n",
       "      <td>0</td>\n",
       "      <td>0</td>\n",
       "    </tr>\n",
       "    <tr>\n",
       "      <th>32621324</th>\n",
       "      <td>32403192</td>\n",
       "      <td>B073MZ23QX</td>\n",
       "      <td>0</td>\n",
       "      <td>0</td>\n",
       "      <td>1</td>\n",
       "      <td>0</td>\n",
       "      <td>0</td>\n",
       "    </tr>\n",
       "    <tr>\n",
       "      <th>32615246</th>\n",
       "      <td>32290521</td>\n",
       "      <td>B074P9CM5T</td>\n",
       "      <td>0</td>\n",
       "      <td>0</td>\n",
       "      <td>1</td>\n",
       "      <td>0</td>\n",
       "      <td>0</td>\n",
       "    </tr>\n",
       "    <tr>\n",
       "      <th>32609853</th>\n",
       "      <td>32263142</td>\n",
       "      <td>B074WFRH82</td>\n",
       "      <td>0</td>\n",
       "      <td>0</td>\n",
       "      <td>1</td>\n",
       "      <td>0</td>\n",
       "      <td>0</td>\n",
       "    </tr>\n",
       "  </tbody>\n",
       "</table>\n",
       "<p>14378 rows × 7 columns</p>\n",
       "</div>"
      ],
      "text/plain": [
       "           isbn_id        isbn  OL  AZ14  GR  BX  LOC\n",
       "32616544  12349192  0001004735   1     0   0   0    0\n",
       "32618508   6834614  0001848259   1     0   0   0    0\n",
       "32621387   6631389  0001849123   1     0   0   0    0\n",
       "32612819  11278348  0001956795   1     0   0   0    0\n",
       "32619372   1764565  0003302245   1     0   0   0    0\n",
       "...            ...         ...  ..   ...  ..  ..  ...\n",
       "32620420  32276393  B073GF59RD   0     0   1   0    0\n",
       "32610343  32380080  B073GGNYFL   0     0   1   0    0\n",
       "32621324  32403192  B073MZ23QX   0     0   1   0    0\n",
       "32615246  32290521  B074P9CM5T   0     0   1   0    0\n",
       "32609853  32263142  B074WFRH82   0     0   1   0    0\n",
       "\n",
       "[14378 rows x 7 columns]"
      ]
     },
     "execution_count": 15,
     "metadata": {},
     "output_type": "execute_result"
    }
   ],
   "source": [
    "big_id = big.index[0]\n",
    "bl = links[links['cluster'] == big_id].drop(columns=['cluster'])\n",
    "bl = bl.join(isbns, on='isbn_id')\n",
    "bl.sort_values('isbn')"
   ]
  },
  {
   "cell_type": "markdown",
   "id": "71c5a346",
   "metadata": {},
   "source": [
    "What are the things with the highest record count (besides ratings)?"
   ]
  },
  {
   "cell_type": "code",
   "execution_count": 16,
   "id": "9808582c",
   "metadata": {
    "execution": {
     "iopub.execute_input": "2022-06-25T17:10:37.344209Z",
     "iopub.status.busy": "2022-06-25T17:10:37.343880Z",
     "iopub.status.idle": "2022-06-25T17:10:37.362783Z",
     "shell.execute_reply": "2022-06-25T17:10:37.361936Z"
    }
   },
   "outputs": [
    {
     "data": {
      "text/html": [
       "<div>\n",
       "<style scoped>\n",
       "    .dataframe tbody tr th:only-of-type {\n",
       "        vertical-align: middle;\n",
       "    }\n",
       "\n",
       "    .dataframe tbody tr th {\n",
       "        vertical-align: top;\n",
       "    }\n",
       "\n",
       "    .dataframe thead th {\n",
       "        text-align: right;\n",
       "    }\n",
       "</style>\n",
       "<table border=\"1\" class=\"dataframe\">\n",
       "  <thead>\n",
       "    <tr style=\"text-align: right;\">\n",
       "      <th></th>\n",
       "      <th>isbn_id</th>\n",
       "      <th>isbn</th>\n",
       "      <th>OL</th>\n",
       "      <th>AZ14</th>\n",
       "      <th>GR</th>\n",
       "      <th>BX</th>\n",
       "      <th>LOC</th>\n",
       "      <th>btot</th>\n",
       "    </tr>\n",
       "  </thead>\n",
       "  <tbody>\n",
       "    <tr>\n",
       "      <th>32619071</th>\n",
       "      <td>13445848</td>\n",
       "      <td>014143984X</td>\n",
       "      <td>3</td>\n",
       "      <td>1614</td>\n",
       "      <td>1</td>\n",
       "      <td>9</td>\n",
       "      <td>1</td>\n",
       "      <td>1618</td>\n",
       "    </tr>\n",
       "    <tr>\n",
       "      <th>32617517</th>\n",
       "      <td>3061337</td>\n",
       "      <td>0141439769</td>\n",
       "      <td>1</td>\n",
       "      <td>1353</td>\n",
       "      <td>1</td>\n",
       "      <td>2</td>\n",
       "      <td>0</td>\n",
       "      <td>1355</td>\n",
       "    </tr>\n",
       "    <tr>\n",
       "      <th>32611734</th>\n",
       "      <td>231627</td>\n",
       "      <td>0140621199</td>\n",
       "      <td>2</td>\n",
       "      <td>1185</td>\n",
       "      <td>1</td>\n",
       "      <td>18</td>\n",
       "      <td>0</td>\n",
       "      <td>1188</td>\n",
       "    </tr>\n",
       "    <tr>\n",
       "      <th>32608780</th>\n",
       "      <td>22256994</td>\n",
       "      <td>0140390839</td>\n",
       "      <td>1</td>\n",
       "      <td>993</td>\n",
       "      <td>1</td>\n",
       "      <td>11</td>\n",
       "      <td>0</td>\n",
       "      <td>995</td>\n",
       "    </tr>\n",
       "    <tr>\n",
       "      <th>32610047</th>\n",
       "      <td>2369418</td>\n",
       "      <td>006440188X</td>\n",
       "      <td>2</td>\n",
       "      <td>549</td>\n",
       "      <td>1</td>\n",
       "      <td>50</td>\n",
       "      <td>0</td>\n",
       "      <td>552</td>\n",
       "    </tr>\n",
       "    <tr>\n",
       "      <th>32613451</th>\n",
       "      <td>14228444</td>\n",
       "      <td>0141321008</td>\n",
       "      <td>1</td>\n",
       "      <td>509</td>\n",
       "      <td>1</td>\n",
       "      <td>0</td>\n",
       "      <td>0</td>\n",
       "      <td>511</td>\n",
       "    </tr>\n",
       "    <tr>\n",
       "      <th>32621186</th>\n",
       "      <td>30630791</td>\n",
       "      <td>B0084AVKZ2</td>\n",
       "      <td>0</td>\n",
       "      <td>377</td>\n",
       "      <td>1</td>\n",
       "      <td>0</td>\n",
       "      <td>0</td>\n",
       "      <td>378</td>\n",
       "    </tr>\n",
       "    <tr>\n",
       "      <th>32622160</th>\n",
       "      <td>29797914</td>\n",
       "      <td>0199538794</td>\n",
       "      <td>0</td>\n",
       "      <td>363</td>\n",
       "      <td>1</td>\n",
       "      <td>0</td>\n",
       "      <td>0</td>\n",
       "      <td>364</td>\n",
       "    </tr>\n",
       "    <tr>\n",
       "      <th>32620809</th>\n",
       "      <td>30455263</td>\n",
       "      <td>B002RKRMSY</td>\n",
       "      <td>0</td>\n",
       "      <td>329</td>\n",
       "      <td>1</td>\n",
       "      <td>0</td>\n",
       "      <td>0</td>\n",
       "      <td>330</td>\n",
       "    </tr>\n",
       "    <tr>\n",
       "      <th>32618352</th>\n",
       "      <td>30455339</td>\n",
       "      <td>B002RKSZJO</td>\n",
       "      <td>0</td>\n",
       "      <td>328</td>\n",
       "      <td>1</td>\n",
       "      <td>0</td>\n",
       "      <td>0</td>\n",
       "      <td>329</td>\n",
       "    </tr>\n",
       "    <tr>\n",
       "      <th>32621206</th>\n",
       "      <td>12684529</td>\n",
       "      <td>0140366679</td>\n",
       "      <td>1</td>\n",
       "      <td>276</td>\n",
       "      <td>1</td>\n",
       "      <td>14</td>\n",
       "      <td>0</td>\n",
       "      <td>278</td>\n",
       "    </tr>\n",
       "    <tr>\n",
       "      <th>32618411</th>\n",
       "      <td>9293180</td>\n",
       "      <td>0140367217</td>\n",
       "      <td>2</td>\n",
       "      <td>256</td>\n",
       "      <td>1</td>\n",
       "      <td>7</td>\n",
       "      <td>0</td>\n",
       "      <td>259</td>\n",
       "    </tr>\n",
       "    <tr>\n",
       "      <th>32610177</th>\n",
       "      <td>3064982</td>\n",
       "      <td>0064401871</td>\n",
       "      <td>1</td>\n",
       "      <td>202</td>\n",
       "      <td>1</td>\n",
       "      <td>28</td>\n",
       "      <td>0</td>\n",
       "      <td>204</td>\n",
       "    </tr>\n",
       "    <tr>\n",
       "      <th>32621837</th>\n",
       "      <td>24311689</td>\n",
       "      <td>0140390057</td>\n",
       "      <td>1</td>\n",
       "      <td>177</td>\n",
       "      <td>1</td>\n",
       "      <td>2</td>\n",
       "      <td>1</td>\n",
       "      <td>179</td>\n",
       "    </tr>\n",
       "    <tr>\n",
       "      <th>32614614</th>\n",
       "      <td>29794283</td>\n",
       "      <td>0141325291</td>\n",
       "      <td>0</td>\n",
       "      <td>174</td>\n",
       "      <td>1</td>\n",
       "      <td>0</td>\n",
       "      <td>0</td>\n",
       "      <td>175</td>\n",
       "    </tr>\n",
       "    <tr>\n",
       "      <th>32614700</th>\n",
       "      <td>30630856</td>\n",
       "      <td>B0084B1T8Y</td>\n",
       "      <td>0</td>\n",
       "      <td>174</td>\n",
       "      <td>1</td>\n",
       "      <td>0</td>\n",
       "      <td>0</td>\n",
       "      <td>175</td>\n",
       "    </tr>\n",
       "    <tr>\n",
       "      <th>32611046</th>\n",
       "      <td>30514988</td>\n",
       "      <td>B004TPPYJY</td>\n",
       "      <td>0</td>\n",
       "      <td>166</td>\n",
       "      <td>1</td>\n",
       "      <td>0</td>\n",
       "      <td>0</td>\n",
       "      <td>167</td>\n",
       "    </tr>\n",
       "    <tr>\n",
       "      <th>32615987</th>\n",
       "      <td>27167192</td>\n",
       "      <td>0486408787</td>\n",
       "      <td>1</td>\n",
       "      <td>165</td>\n",
       "      <td>1</td>\n",
       "      <td>8</td>\n",
       "      <td>1</td>\n",
       "      <td>167</td>\n",
       "    </tr>\n",
       "    <tr>\n",
       "      <th>32620905</th>\n",
       "      <td>19627731</td>\n",
       "      <td>0140022651</td>\n",
       "      <td>1</td>\n",
       "      <td>162</td>\n",
       "      <td>1</td>\n",
       "      <td>15</td>\n",
       "      <td>0</td>\n",
       "      <td>164</td>\n",
       "    </tr>\n",
       "    <tr>\n",
       "      <th>32618035</th>\n",
       "      <td>24514256</td>\n",
       "      <td>014044906X</td>\n",
       "      <td>1</td>\n",
       "      <td>141</td>\n",
       "      <td>1</td>\n",
       "      <td>1</td>\n",
       "      <td>1</td>\n",
       "      <td>143</td>\n",
       "    </tr>\n",
       "  </tbody>\n",
       "</table>\n",
       "</div>"
      ],
      "text/plain": [
       "           isbn_id        isbn  OL  AZ14  GR  BX  LOC  btot\n",
       "32619071  13445848  014143984X   3  1614   1   9    1  1618\n",
       "32617517   3061337  0141439769   1  1353   1   2    0  1355\n",
       "32611734    231627  0140621199   2  1185   1  18    0  1188\n",
       "32608780  22256994  0140390839   1   993   1  11    0   995\n",
       "32610047   2369418  006440188X   2   549   1  50    0   552\n",
       "32613451  14228444  0141321008   1   509   1   0    0   511\n",
       "32621186  30630791  B0084AVKZ2   0   377   1   0    0   378\n",
       "32622160  29797914  0199538794   0   363   1   0    0   364\n",
       "32620809  30455263  B002RKRMSY   0   329   1   0    0   330\n",
       "32618352  30455339  B002RKSZJO   0   328   1   0    0   329\n",
       "32621206  12684529  0140366679   1   276   1  14    0   278\n",
       "32618411   9293180  0140367217   2   256   1   7    0   259\n",
       "32610177   3064982  0064401871   1   202   1  28    0   204\n",
       "32621837  24311689  0140390057   1   177   1   2    1   179\n",
       "32614614  29794283  0141325291   0   174   1   0    0   175\n",
       "32614700  30630856  B0084B1T8Y   0   174   1   0    0   175\n",
       "32611046  30514988  B004TPPYJY   0   166   1   0    0   167\n",
       "32615987  27167192  0486408787   1   165   1   8    1   167\n",
       "32620905  19627731  0140022651   1   162   1  15    0   164\n",
       "32618035  24514256  014044906X   1   141   1   1    1   143"
      ]
     },
     "execution_count": 16,
     "metadata": {},
     "output_type": "execute_result"
    }
   ],
   "source": [
    "bl['btot'] = bl.iloc[:, 2:-2].sum(axis=1)\n",
    "bl.nlargest(20, 'btot')"
   ]
  },
  {
   "cell_type": "code",
   "execution_count": null,
   "id": "49dfecad",
   "metadata": {},
   "outputs": [],
   "source": []
  }
 ],
 "metadata": {
  "jupytext": {
   "formats": "ipynb,py:percent"
  },
  "kernelspec": {
   "display_name": "Python 3 (ipykernel)",
   "language": "python",
   "name": "python3"
  },
  "language_info": {
   "codemirror_mode": {
    "name": "ipython",
    "version": 3
   },
   "file_extension": ".py",
   "mimetype": "text/x-python",
   "name": "python",
   "nbconvert_exporter": "python",
   "pygments_lexer": "ipython3",
   "version": "3.9.13"
  }
 },
 "nbformat": 4,
 "nbformat_minor": 5
}
