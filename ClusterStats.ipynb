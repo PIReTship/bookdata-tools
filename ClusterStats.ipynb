{
 "cells": [
  {
   "cell_type": "markdown",
   "id": "dcb64c28",
   "metadata": {},
   "source": [
    "# Book Clustering Statistics\n",
    "\n",
    "This notebook provides statistics on the results of our book clustering."
   ]
  },
  {
   "cell_type": "markdown",
   "id": "e3c0bb46",
   "metadata": {},
   "source": [
    "## Setup"
   ]
  },
  {
   "cell_type": "code",
   "execution_count": 1,
   "id": "056a34fc",
   "metadata": {
    "execution": {
     "iopub.execute_input": "2021-12-04T03:23:07.759882Z",
     "iopub.status.busy": "2021-12-04T03:23:07.758782Z",
     "iopub.status.idle": "2021-12-04T03:23:09.599924Z",
     "shell.execute_reply": "2021-12-04T03:23:09.600493Z"
    }
   },
   "outputs": [],
   "source": [
    "import pandas as pd\n",
    "import seaborn as sns\n",
    "import matplotlib as mpl\n",
    "import matplotlib.pyplot as plt\n",
    "import numpy as np"
   ]
  },
  {
   "cell_type": "markdown",
   "id": "0485d024",
   "metadata": {},
   "source": [
    "## Load Data\n",
    "\n",
    "Let's start by getting our clusters and their statistics:"
   ]
  },
  {
   "cell_type": "code",
   "execution_count": 2,
   "id": "72696361",
   "metadata": {
    "execution": {
     "iopub.execute_input": "2021-12-04T03:23:09.605741Z",
     "iopub.status.busy": "2021-12-04T03:23:09.605064Z",
     "iopub.status.idle": "2021-12-04T03:23:10.783516Z",
     "shell.execute_reply": "2021-12-04T03:23:10.784360Z"
    }
   },
   "outputs": [
    {
     "name": "stdout",
     "output_type": "stream",
     "text": [
      "<class 'pandas.core.frame.DataFrame'>\n",
      "RangeIndex: 27925691 entries, 0 to 27925690\n",
      "Data columns (total 8 columns):\n",
      " #   Column         Dtype \n",
      "---  ------         ----- \n",
      " 0   cluster        int32 \n",
      " 1   n_nodes        uint32\n",
      " 2   n_isbns        uint32\n",
      " 3   n_loc_recs     uint32\n",
      " 4   n_ol_editions  uint32\n",
      " 5   n_ol_works     uint32\n",
      " 6   n_gr_books     uint32\n",
      " 7   n_gr_works     uint32\n",
      "dtypes: int32(1), uint32(7)\n",
      "memory usage: 852.2 MB\n"
     ]
    }
   ],
   "source": [
    "clusters = pd.read_parquet('book-links/cluster-stats.parquet')\n",
    "clusters.info()"
   ]
  },
  {
   "cell_type": "code",
   "execution_count": 3,
   "id": "5bf200e1",
   "metadata": {
    "execution": {
     "iopub.execute_input": "2021-12-04T03:23:10.791721Z",
     "iopub.status.busy": "2021-12-04T03:23:10.790764Z",
     "iopub.status.idle": "2021-12-04T03:23:11.171858Z",
     "shell.execute_reply": "2021-12-04T03:23:11.172681Z"
    }
   },
   "outputs": [],
   "source": [
    "clusters.set_index('cluster', inplace=True)"
   ]
  },
  {
   "cell_type": "markdown",
   "id": "4b3ff9e8",
   "metadata": {},
   "source": [
    "Describe the count columns for basic descriptive stats:"
   ]
  },
  {
   "cell_type": "code",
   "execution_count": 4,
   "id": "a748fe12",
   "metadata": {
    "execution": {
     "iopub.execute_input": "2021-12-04T03:23:11.180939Z",
     "iopub.status.busy": "2021-12-04T03:23:11.179985Z",
     "iopub.status.idle": "2021-12-04T03:23:19.858240Z",
     "shell.execute_reply": "2021-12-04T03:23:19.859058Z"
    }
   },
   "outputs": [
    {
     "data": {
      "text/html": [
       "<div>\n",
       "<style scoped>\n",
       "    .dataframe tbody tr th:only-of-type {\n",
       "        vertical-align: middle;\n",
       "    }\n",
       "\n",
       "    .dataframe tbody tr th {\n",
       "        vertical-align: top;\n",
       "    }\n",
       "\n",
       "    .dataframe thead th {\n",
       "        text-align: right;\n",
       "    }\n",
       "</style>\n",
       "<table border=\"1\" class=\"dataframe\">\n",
       "  <thead>\n",
       "    <tr style=\"text-align: right;\">\n",
       "      <th></th>\n",
       "      <th>n_nodes</th>\n",
       "      <th>n_isbns</th>\n",
       "      <th>n_loc_recs</th>\n",
       "      <th>n_ol_editions</th>\n",
       "      <th>n_ol_works</th>\n",
       "      <th>n_gr_books</th>\n",
       "      <th>n_gr_works</th>\n",
       "    </tr>\n",
       "  </thead>\n",
       "  <tbody>\n",
       "    <tr>\n",
       "      <th>count</th>\n",
       "      <td>2.792569e+07</td>\n",
       "      <td>2.792569e+07</td>\n",
       "      <td>2.792569e+07</td>\n",
       "      <td>2.792569e+07</td>\n",
       "      <td>2.792569e+07</td>\n",
       "      <td>2.792569e+07</td>\n",
       "      <td>2.792569e+07</td>\n",
       "    </tr>\n",
       "    <tr>\n",
       "      <th>mean</th>\n",
       "      <td>2.994550e+00</td>\n",
       "      <td>8.774559e-01</td>\n",
       "      <td>3.462970e-01</td>\n",
       "      <td>9.547825e-01</td>\n",
       "      <td>6.769805e-01</td>\n",
       "      <td>8.453345e-02</td>\n",
       "      <td>5.450042e-02</td>\n",
       "    </tr>\n",
       "    <tr>\n",
       "      <th>std</th>\n",
       "      <td>7.375757e+00</td>\n",
       "      <td>3.660644e+00</td>\n",
       "      <td>5.648575e-01</td>\n",
       "      <td>2.670434e+00</td>\n",
       "      <td>7.561602e-01</td>\n",
       "      <td>1.120087e+00</td>\n",
       "      <td>2.350896e-01</td>\n",
       "    </tr>\n",
       "    <tr>\n",
       "      <th>min</th>\n",
       "      <td>1.000000e+00</td>\n",
       "      <td>0.000000e+00</td>\n",
       "      <td>0.000000e+00</td>\n",
       "      <td>0.000000e+00</td>\n",
       "      <td>0.000000e+00</td>\n",
       "      <td>0.000000e+00</td>\n",
       "      <td>0.000000e+00</td>\n",
       "    </tr>\n",
       "    <tr>\n",
       "      <th>25%</th>\n",
       "      <td>1.000000e+00</td>\n",
       "      <td>0.000000e+00</td>\n",
       "      <td>0.000000e+00</td>\n",
       "      <td>0.000000e+00</td>\n",
       "      <td>0.000000e+00</td>\n",
       "      <td>0.000000e+00</td>\n",
       "      <td>0.000000e+00</td>\n",
       "    </tr>\n",
       "    <tr>\n",
       "      <th>50%</th>\n",
       "      <td>2.000000e+00</td>\n",
       "      <td>0.000000e+00</td>\n",
       "      <td>0.000000e+00</td>\n",
       "      <td>1.000000e+00</td>\n",
       "      <td>1.000000e+00</td>\n",
       "      <td>0.000000e+00</td>\n",
       "      <td>0.000000e+00</td>\n",
       "    </tr>\n",
       "    <tr>\n",
       "      <th>75%</th>\n",
       "      <td>4.000000e+00</td>\n",
       "      <td>2.000000e+00</td>\n",
       "      <td>1.000000e+00</td>\n",
       "      <td>1.000000e+00</td>\n",
       "      <td>1.000000e+00</td>\n",
       "      <td>0.000000e+00</td>\n",
       "      <td>0.000000e+00</td>\n",
       "    </tr>\n",
       "    <tr>\n",
       "      <th>max</th>\n",
       "      <td>1.734900e+04</td>\n",
       "      <td>7.976000e+03</td>\n",
       "      <td>6.120000e+02</td>\n",
       "      <td>5.096000e+03</td>\n",
       "      <td>2.368000e+03</td>\n",
       "      <td>3.118000e+03</td>\n",
       "      <td>8.800000e+01</td>\n",
       "    </tr>\n",
       "  </tbody>\n",
       "</table>\n",
       "</div>"
      ],
      "text/plain": [
       "            n_nodes       n_isbns    n_loc_recs  n_ol_editions    n_ol_works  \\\n",
       "count  2.792569e+07  2.792569e+07  2.792569e+07   2.792569e+07  2.792569e+07   \n",
       "mean   2.994550e+00  8.774559e-01  3.462970e-01   9.547825e-01  6.769805e-01   \n",
       "std    7.375757e+00  3.660644e+00  5.648575e-01   2.670434e+00  7.561602e-01   \n",
       "min    1.000000e+00  0.000000e+00  0.000000e+00   0.000000e+00  0.000000e+00   \n",
       "25%    1.000000e+00  0.000000e+00  0.000000e+00   0.000000e+00  0.000000e+00   \n",
       "50%    2.000000e+00  0.000000e+00  0.000000e+00   1.000000e+00  1.000000e+00   \n",
       "75%    4.000000e+00  2.000000e+00  1.000000e+00   1.000000e+00  1.000000e+00   \n",
       "max    1.734900e+04  7.976000e+03  6.120000e+02   5.096000e+03  2.368000e+03   \n",
       "\n",
       "         n_gr_books    n_gr_works  \n",
       "count  2.792569e+07  2.792569e+07  \n",
       "mean   8.453345e-02  5.450042e-02  \n",
       "std    1.120087e+00  2.350896e-01  \n",
       "min    0.000000e+00  0.000000e+00  \n",
       "25%    0.000000e+00  0.000000e+00  \n",
       "50%    0.000000e+00  0.000000e+00  \n",
       "75%    0.000000e+00  0.000000e+00  \n",
       "max    3.118000e+03  8.800000e+01  "
      ]
     },
     "execution_count": 4,
     "metadata": {},
     "output_type": "execute_result"
    }
   ],
   "source": [
    "clusters.describe()"
   ]
  },
  {
   "cell_type": "markdown",
   "id": "1a4c13dd",
   "metadata": {},
   "source": [
    "75% of clusters only contain 2 ISBNs (probably -10 and -13) and one book. OpenLibrary also contributes to the largest number of clusters."
   ]
  },
  {
   "cell_type": "markdown",
   "id": "e6748777",
   "metadata": {},
   "source": [
    "## Clusters per Source\n",
    "\n",
    "How many clusters are connected to each source?"
   ]
  },
  {
   "cell_type": "code",
   "execution_count": 5,
   "id": "8b1fe33d",
   "metadata": {
    "execution": {
     "iopub.execute_input": "2021-12-04T03:23:19.867144Z",
     "iopub.status.busy": "2021-12-04T03:23:19.866176Z",
     "iopub.status.idle": "2021-12-04T03:23:21.039690Z",
     "shell.execute_reply": "2021-12-04T03:23:21.040501Z"
    }
   },
   "outputs": [
    {
     "data": {
      "text/plain": [
       "n_nodes          27925691\n",
       "n_isbns          13201869\n",
       "n_loc_recs        9314956\n",
       "n_ol_editions    20525956\n",
       "n_ol_works       17723553\n",
       "n_gr_books        1509661\n",
       "n_gr_works        1509137\n",
       "dtype: int64"
      ]
     },
     "execution_count": 5,
     "metadata": {},
     "output_type": "execute_result"
    }
   ],
   "source": [
    "src_counts = pd.Series(dict(\n",
    "    (c, np.sum(clusters[c] > 0)) for c in clusters.columns\n",
    "))\n",
    "src_counts"
   ]
  },
  {
   "cell_type": "code",
   "execution_count": 6,
   "id": "7432cf12",
   "metadata": {
    "execution": {
     "iopub.execute_input": "2021-12-04T03:23:21.046591Z",
     "iopub.status.busy": "2021-12-04T03:23:21.045577Z",
     "iopub.status.idle": "2021-12-04T03:23:21.439513Z",
     "shell.execute_reply": "2021-12-04T03:23:21.440335Z"
    }
   },
   "outputs": [
    {
     "data": {
      "image/png": "[encoded data removed]",
      "text/plain": [
       "<Figure size 432x288 with 1 Axes>"
      ]
     },
     "metadata": {
      "needs_background": "light"
     },
     "output_type": "display_data"
    }
   ],
   "source": [
    "src_counts.plot.barh()\n",
    "plt.xlabel('# of Clusters')\n",
    "plt.show()"
   ]
  },
  {
   "cell_type": "markdown",
   "id": "5cf3b63e",
   "metadata": {},
   "source": [
    "## Distributions\n",
    "\n",
    "Let's look at the distributions of cluster sizes."
   ]
  },
  {
   "cell_type": "code",
   "execution_count": 7,
   "id": "e451367e",
   "metadata": {
    "execution": {
     "iopub.execute_input": "2021-12-04T03:23:21.755237Z",
     "iopub.status.busy": "2021-12-04T03:23:21.754217Z",
     "iopub.status.idle": "2021-12-04T03:23:22.988298Z",
     "shell.execute_reply": "2021-12-04T03:23:22.989112Z"
    }
   },
   "outputs": [
    {
     "data": {
      "text/html": [
       "<div>\n",
       "<style scoped>\n",
       "    .dataframe tbody tr th:only-of-type {\n",
       "        vertical-align: middle;\n",
       "    }\n",
       "\n",
       "    .dataframe tbody tr th {\n",
       "        vertical-align: top;\n",
       "    }\n",
       "\n",
       "    .dataframe thead th {\n",
       "        text-align: right;\n",
       "    }\n",
       "</style>\n",
       "<table border=\"1\" class=\"dataframe\">\n",
       "  <thead>\n",
       "    <tr style=\"text-align: right;\">\n",
       "      <th></th>\n",
       "      <th>RecType</th>\n",
       "      <th>RecCount</th>\n",
       "      <th>Clusters</th>\n",
       "    </tr>\n",
       "  </thead>\n",
       "  <tbody>\n",
       "    <tr>\n",
       "      <th>0</th>\n",
       "      <td>n_isbns</td>\n",
       "      <td>0</td>\n",
       "      <td>14723822</td>\n",
       "    </tr>\n",
       "    <tr>\n",
       "      <th>1</th>\n",
       "      <td>n_isbns</td>\n",
       "      <td>2</td>\n",
       "      <td>6256782</td>\n",
       "    </tr>\n",
       "    <tr>\n",
       "      <th>2</th>\n",
       "      <td>n_isbns</td>\n",
       "      <td>1</td>\n",
       "      <td>5807972</td>\n",
       "    </tr>\n",
       "    <tr>\n",
       "      <th>3</th>\n",
       "      <td>n_isbns</td>\n",
       "      <td>4</td>\n",
       "      <td>551072</td>\n",
       "    </tr>\n",
       "    <tr>\n",
       "      <th>4</th>\n",
       "      <td>n_isbns</td>\n",
       "      <td>3</td>\n",
       "      <td>268793</td>\n",
       "    </tr>\n",
       "  </tbody>\n",
       "</table>\n",
       "</div>"
      ],
      "text/plain": [
       "   RecType  RecCount  Clusters\n",
       "0  n_isbns         0  14723822\n",
       "1  n_isbns         2   6256782\n",
       "2  n_isbns         1   5807972\n",
       "3  n_isbns         4    551072\n",
       "4  n_isbns         3    268793"
      ]
     },
     "execution_count": 7,
     "metadata": {},
     "output_type": "execute_result"
    }
   ],
   "source": [
    "size_dist = pd.concat(dict(\n",
    "    (c, clusters[c].value_counts()) for c in clusters.columns if c != 'n_nodes'\n",
    "), names=['RecType'])\n",
    "size_dist.index.set_names(['RecType', 'RecCount'], inplace=True)\n",
    "size_dist = size_dist.reset_index(name='Clusters')\n",
    "size_dist.head()"
   ]
  },
  {
   "cell_type": "code",
   "execution_count": 8,
   "id": "21f69652",
   "metadata": {
    "execution": {
     "iopub.execute_input": "2021-12-04T03:23:22.998307Z",
     "iopub.status.busy": "2021-12-04T03:23:22.997342Z",
     "iopub.status.idle": "2021-12-04T03:23:25.504603Z",
     "shell.execute_reply": "2021-12-04T03:23:25.505421Z"
    }
   },
   "outputs": [
    {
     "data": {
      "image/png": "[encoded data removed]",
      "text/plain": [
       "<Figure size 432x288 with 1 Axes>"
      ]
     },
     "metadata": {
      "needs_background": "light"
     },
     "output_type": "display_data"
    }
   ],
   "source": [
    "for rt, data in size_dist.groupby('RecType'):\n",
    "    plt.scatter(data['RecCount'], data['Clusters'], marker='1', label=rt)\n",
    "plt.legend()\n",
    "plt.xlabel('# of Records')\n",
    "plt.xscale('log')\n",
    "plt.ylabel('# of Clusters')\n",
    "plt.yscale('log')\n",
    "plt.show()"
   ]
  },
  {
   "cell_type": "markdown",
   "id": "e00841ba",
   "metadata": {},
   "source": [
    "Looks mostly fine - we expect a lot of power laws - but the number of clusters with merged GoodReads works is concerning."
   ]
  },
  {
   "cell_type": "markdown",
   "id": "5fe02092",
   "metadata": {},
   "source": [
    "## GoodReads Work Merging\n",
    "\n",
    "Why are GoodReads works merging? Let's look at those."
   ]
  },
  {
   "cell_type": "code",
   "execution_count": 9,
   "id": "aa39a01d",
   "metadata": {
    "execution": {
     "iopub.execute_input": "2021-12-04T03:23:25.512629Z",
     "iopub.status.busy": "2021-12-04T03:23:25.511671Z",
     "iopub.status.idle": "2021-12-04T03:23:25.621456Z",
     "shell.execute_reply": "2021-12-04T03:23:25.622321Z"
    }
   },
   "outputs": [
    {
     "name": "stdout",
     "output_type": "stream",
     "text": [
      "<class 'pandas.core.frame.DataFrame'>\n",
      "Int64Index: 6694 entries, 100004141 to 102008916\n",
      "Data columns (total 7 columns):\n",
      " #   Column         Non-Null Count  Dtype \n",
      "---  ------         --------------  ----- \n",
      " 0   n_nodes        6694 non-null   uint32\n",
      " 1   n_isbns        6694 non-null   uint32\n",
      " 2   n_loc_recs     6694 non-null   uint32\n",
      " 3   n_ol_editions  6694 non-null   uint32\n",
      " 4   n_ol_works     6694 non-null   uint32\n",
      " 5   n_gr_books     6694 non-null   uint32\n",
      " 6   n_gr_works     6694 non-null   uint32\n",
      "dtypes: uint32(7)\n",
      "memory usage: 235.3 KB\n"
     ]
    }
   ],
   "source": [
    "gr_big = clusters[clusters['n_gr_works'] > 1].sort_values('n_gr_works', ascending=False)\n",
    "gr_big.info()"
   ]
  },
  {
   "cell_type": "markdown",
   "id": "5a674455",
   "metadata": {},
   "source": [
    "We have a lot of these clusters. What fraction of the GoodReads-affected clusters is this?"
   ]
  },
  {
   "cell_type": "code",
   "execution_count": 10,
   "id": "3268fb62",
   "metadata": {
    "execution": {
     "iopub.execute_input": "2021-12-04T03:23:25.629019Z",
     "iopub.status.busy": "2021-12-04T03:23:25.627961Z",
     "iopub.status.idle": "2021-12-04T03:23:25.692894Z",
     "shell.execute_reply": "2021-12-04T03:23:25.693705Z"
    }
   },
   "outputs": [
    {
     "data": {
      "text/plain": [
       "0.0002397075868239035"
      ]
     },
     "execution_count": 10,
     "metadata": {},
     "output_type": "execute_result"
    }
   ],
   "source": [
    "len(gr_big) / clusters['n_gr_books'].count()"
   ]
  },
  {
   "cell_type": "markdown",
   "id": "5bd646c9",
   "metadata": {},
   "source": [
    "Less than 1%. Not bad, but let's look."
   ]
  },
  {
   "cell_type": "code",
   "execution_count": 11,
   "id": "7b403819",
   "metadata": {
    "execution": {
     "iopub.execute_input": "2021-12-04T03:23:25.709710Z",
     "iopub.status.busy": "2021-12-04T03:23:25.708753Z",
     "iopub.status.idle": "2021-12-04T03:23:25.713553Z",
     "shell.execute_reply": "2021-12-04T03:23:25.714356Z"
    }
   },
   "outputs": [
    {
     "data": {
      "text/html": [
       "<div>\n",
       "<style scoped>\n",
       "    .dataframe tbody tr th:only-of-type {\n",
       "        vertical-align: middle;\n",
       "    }\n",
       "\n",
       "    .dataframe tbody tr th {\n",
       "        vertical-align: top;\n",
       "    }\n",
       "\n",
       "    .dataframe thead th {\n",
       "        text-align: right;\n",
       "    }\n",
       "</style>\n",
       "<table border=\"1\" class=\"dataframe\">\n",
       "  <thead>\n",
       "    <tr style=\"text-align: right;\">\n",
       "      <th></th>\n",
       "      <th>n_nodes</th>\n",
       "      <th>n_isbns</th>\n",
       "      <th>n_loc_recs</th>\n",
       "      <th>n_ol_editions</th>\n",
       "      <th>n_ol_works</th>\n",
       "      <th>n_gr_books</th>\n",
       "      <th>n_gr_works</th>\n",
       "    </tr>\n",
       "    <tr>\n",
       "      <th>cluster</th>\n",
       "      <th></th>\n",
       "      <th></th>\n",
       "      <th></th>\n",
       "      <th></th>\n",
       "      <th></th>\n",
       "      <th></th>\n",
       "      <th></th>\n",
       "    </tr>\n",
       "  </thead>\n",
       "  <tbody>\n",
       "    <tr>\n",
       "      <th>100004141</th>\n",
       "      <td>17349</td>\n",
       "      <td>7976</td>\n",
       "      <td>612</td>\n",
       "      <td>5066</td>\n",
       "      <td>489</td>\n",
       "      <td>3118</td>\n",
       "      <td>88</td>\n",
       "    </tr>\n",
       "    <tr>\n",
       "      <th>100066430</th>\n",
       "      <td>10906</td>\n",
       "      <td>3731</td>\n",
       "      <td>408</td>\n",
       "      <td>5096</td>\n",
       "      <td>329</td>\n",
       "      <td>1264</td>\n",
       "      <td>78</td>\n",
       "    </tr>\n",
       "    <tr>\n",
       "      <th>100307111</th>\n",
       "      <td>448</td>\n",
       "      <td>163</td>\n",
       "      <td>4</td>\n",
       "      <td>91</td>\n",
       "      <td>74</td>\n",
       "      <td>60</td>\n",
       "      <td>56</td>\n",
       "    </tr>\n",
       "    <tr>\n",
       "      <th>100162584</th>\n",
       "      <td>873</td>\n",
       "      <td>327</td>\n",
       "      <td>67</td>\n",
       "      <td>269</td>\n",
       "      <td>75</td>\n",
       "      <td>81</td>\n",
       "      <td>54</td>\n",
       "    </tr>\n",
       "    <tr>\n",
       "      <th>100092083</th>\n",
       "      <td>1113</td>\n",
       "      <td>424</td>\n",
       "      <td>61</td>\n",
       "      <td>231</td>\n",
       "      <td>145</td>\n",
       "      <td>200</td>\n",
       "      <td>52</td>\n",
       "    </tr>\n",
       "  </tbody>\n",
       "</table>\n",
       "</div>"
      ],
      "text/plain": [
       "           n_nodes  n_isbns  n_loc_recs  n_ol_editions  n_ol_works  \\\n",
       "cluster                                                              \n",
       "100004141    17349     7976         612           5066         489   \n",
       "100066430    10906     3731         408           5096         329   \n",
       "100307111      448      163           4             91          74   \n",
       "100162584      873      327          67            269          75   \n",
       "100092083     1113      424          61            231         145   \n",
       "\n",
       "           n_gr_books  n_gr_works  \n",
       "cluster                            \n",
       "100004141        3118          88  \n",
       "100066430        1264          78  \n",
       "100307111          60          56  \n",
       "100162584          81          54  \n",
       "100092083         200          52  "
      ]
     },
     "execution_count": 11,
     "metadata": {},
     "output_type": "execute_result"
    }
   ],
   "source": [
    "gr_big.head()"
   ]
  },
  {
   "cell_type": "markdown",
   "id": "2b6e32e6",
   "metadata": {},
   "source": [
    "## Large Cluster Debugging\n",
    "\n",
    "We have some pretty big clusters:"
   ]
  },
  {
   "cell_type": "code",
   "execution_count": 12,
   "id": "60e724ea",
   "metadata": {
    "execution": {
     "iopub.execute_input": "2021-12-04T03:23:25.720014Z",
     "iopub.status.busy": "2021-12-04T03:23:25.719052Z",
     "iopub.status.idle": "2021-12-04T03:23:26.747689Z",
     "shell.execute_reply": "2021-12-04T03:23:26.748504Z"
    }
   },
   "outputs": [
    {
     "data": {
      "text/html": [
       "<div>\n",
       "<style scoped>\n",
       "    .dataframe tbody tr th:only-of-type {\n",
       "        vertical-align: middle;\n",
       "    }\n",
       "\n",
       "    .dataframe tbody tr th {\n",
       "        vertical-align: top;\n",
       "    }\n",
       "\n",
       "    .dataframe thead th {\n",
       "        text-align: right;\n",
       "    }\n",
       "</style>\n",
       "<table border=\"1\" class=\"dataframe\">\n",
       "  <thead>\n",
       "    <tr style=\"text-align: right;\">\n",
       "      <th></th>\n",
       "      <th>n_nodes</th>\n",
       "      <th>n_isbns</th>\n",
       "      <th>n_loc_recs</th>\n",
       "      <th>n_ol_editions</th>\n",
       "      <th>n_ol_works</th>\n",
       "      <th>n_gr_books</th>\n",
       "      <th>n_gr_works</th>\n",
       "    </tr>\n",
       "    <tr>\n",
       "      <th>cluster</th>\n",
       "      <th></th>\n",
       "      <th></th>\n",
       "      <th></th>\n",
       "      <th></th>\n",
       "      <th></th>\n",
       "      <th></th>\n",
       "      <th></th>\n",
       "    </tr>\n",
       "  </thead>\n",
       "  <tbody>\n",
       "    <tr>\n",
       "      <th>100004141</th>\n",
       "      <td>17349</td>\n",
       "      <td>7976</td>\n",
       "      <td>612</td>\n",
       "      <td>5066</td>\n",
       "      <td>489</td>\n",
       "      <td>3118</td>\n",
       "      <td>88</td>\n",
       "    </tr>\n",
       "    <tr>\n",
       "      <th>105723403</th>\n",
       "      <td>11281</td>\n",
       "      <td>7520</td>\n",
       "      <td>0</td>\n",
       "      <td>3760</td>\n",
       "      <td>1</td>\n",
       "      <td>0</td>\n",
       "      <td>0</td>\n",
       "    </tr>\n",
       "    <tr>\n",
       "      <th>100066430</th>\n",
       "      <td>10906</td>\n",
       "      <td>3731</td>\n",
       "      <td>408</td>\n",
       "      <td>5096</td>\n",
       "      <td>329</td>\n",
       "      <td>1264</td>\n",
       "      <td>78</td>\n",
       "    </tr>\n",
       "    <tr>\n",
       "      <th>100379578</th>\n",
       "      <td>10132</td>\n",
       "      <td>6518</td>\n",
       "      <td>7</td>\n",
       "      <td>3572</td>\n",
       "      <td>35</td>\n",
       "      <td>0</td>\n",
       "      <td>0</td>\n",
       "    </tr>\n",
       "    <tr>\n",
       "      <th>100089994</th>\n",
       "      <td>7102</td>\n",
       "      <td>3540</td>\n",
       "      <td>162</td>\n",
       "      <td>1839</td>\n",
       "      <td>113</td>\n",
       "      <td>1421</td>\n",
       "      <td>27</td>\n",
       "    </tr>\n",
       "  </tbody>\n",
       "</table>\n",
       "</div>"
      ],
      "text/plain": [
       "           n_nodes  n_isbns  n_loc_recs  n_ol_editions  n_ol_works  \\\n",
       "cluster                                                              \n",
       "100004141    17349     7976         612           5066         489   \n",
       "105723403    11281     7520           0           3760           1   \n",
       "100066430    10906     3731         408           5096         329   \n",
       "100379578    10132     6518           7           3572          35   \n",
       "100089994     7102     3540         162           1839         113   \n",
       "\n",
       "           n_gr_books  n_gr_works  \n",
       "cluster                            \n",
       "100004141        3118          88  \n",
       "105723403           0           0  \n",
       "100066430        1264          78  \n",
       "100379578           0           0  \n",
       "100089994        1421          27  "
      ]
     },
     "execution_count": 12,
     "metadata": {},
     "output_type": "execute_result"
    }
   ],
   "source": [
    "big = clusters.nlargest(5, 'n_nodes')\n",
    "big"
   ]
  },
  {
   "cell_type": "markdown",
   "id": "54acd89d",
   "metadata": {},
   "source": [
    "What is up with this? We should figure out what went wrong, if we can.  What are its ISBNs?"
   ]
  },
  {
   "cell_type": "code",
   "execution_count": 13,
   "id": "7ffc2e14",
   "metadata": {
    "execution": {
     "iopub.execute_input": "2021-12-04T03:23:26.755661Z",
     "iopub.status.busy": "2021-12-04T03:23:26.754708Z",
     "iopub.status.idle": "2021-12-04T03:23:46.723192Z",
     "shell.execute_reply": "2021-12-04T03:23:46.724050Z"
    }
   },
   "outputs": [
    {
     "data": {
      "text/html": [
       "<div>\n",
       "<style scoped>\n",
       "    .dataframe tbody tr th:only-of-type {\n",
       "        vertical-align: middle;\n",
       "    }\n",
       "\n",
       "    .dataframe tbody tr th {\n",
       "        vertical-align: top;\n",
       "    }\n",
       "\n",
       "    .dataframe thead th {\n",
       "        text-align: right;\n",
       "    }\n",
       "</style>\n",
       "<table border=\"1\" class=\"dataframe\">\n",
       "  <thead>\n",
       "    <tr style=\"text-align: right;\">\n",
       "      <th></th>\n",
       "      <th>isbn</th>\n",
       "      <th>AZ14</th>\n",
       "      <th>BX</th>\n",
       "      <th>OL</th>\n",
       "      <th>LOC</th>\n",
       "      <th>GR</th>\n",
       "    </tr>\n",
       "    <tr>\n",
       "      <th>isbn_id</th>\n",
       "      <th></th>\n",
       "      <th></th>\n",
       "      <th></th>\n",
       "      <th></th>\n",
       "      <th></th>\n",
       "      <th></th>\n",
       "    </tr>\n",
       "  </thead>\n",
       "  <tbody>\n",
       "    <tr>\n",
       "      <th>1</th>\n",
       "      <td>0000000116</td>\n",
       "      <td>2</td>\n",
       "      <td>0</td>\n",
       "      <td>0</td>\n",
       "      <td>0</td>\n",
       "      <td>0</td>\n",
       "    </tr>\n",
       "    <tr>\n",
       "      <th>2</th>\n",
       "      <td>0000000868</td>\n",
       "      <td>1</td>\n",
       "      <td>0</td>\n",
       "      <td>0</td>\n",
       "      <td>0</td>\n",
       "      <td>0</td>\n",
       "    </tr>\n",
       "    <tr>\n",
       "      <th>3</th>\n",
       "      <td>0000013714</td>\n",
       "      <td>14</td>\n",
       "      <td>0</td>\n",
       "      <td>0</td>\n",
       "      <td>0</td>\n",
       "      <td>0</td>\n",
       "    </tr>\n",
       "    <tr>\n",
       "      <th>4</th>\n",
       "      <td>0000015393</td>\n",
       "      <td>1</td>\n",
       "      <td>0</td>\n",
       "      <td>0</td>\n",
       "      <td>0</td>\n",
       "      <td>0</td>\n",
       "    </tr>\n",
       "    <tr>\n",
       "      <th>5</th>\n",
       "      <td>0000029831</td>\n",
       "      <td>5</td>\n",
       "      <td>0</td>\n",
       "      <td>0</td>\n",
       "      <td>0</td>\n",
       "      <td>0</td>\n",
       "    </tr>\n",
       "  </tbody>\n",
       "</table>\n",
       "</div>"
      ],
      "text/plain": [
       "               isbn  AZ14  BX  OL  LOC  GR\n",
       "isbn_id                                   \n",
       "1        0000000116     2   0   0    0   0\n",
       "2        0000000868     1   0   0    0   0\n",
       "3        0000013714    14   0   0    0   0\n",
       "4        0000015393     1   0   0    0   0\n",
       "5        0000029831     5   0   0    0   0"
      ]
     },
     "execution_count": 13,
     "metadata": {},
     "output_type": "execute_result"
    }
   ],
   "source": [
    "isbns = pd.read_parquet('book-links/all-isbns.parquet').set_index('isbn_id')\n",
    "isbns.head()"
   ]
  },
  {
   "cell_type": "code",
   "execution_count": 14,
   "id": "64baef3e",
   "metadata": {
    "execution": {
     "iopub.execute_input": "2021-12-04T03:23:46.729869Z",
     "iopub.status.busy": "2021-12-04T03:23:46.728873Z",
     "iopub.status.idle": "2021-12-04T03:23:47.343187Z",
     "shell.execute_reply": "2021-12-04T03:23:47.344005Z"
    }
   },
   "outputs": [
    {
     "data": {
      "text/html": [
       "<div>\n",
       "<style scoped>\n",
       "    .dataframe tbody tr th:only-of-type {\n",
       "        vertical-align: middle;\n",
       "    }\n",
       "\n",
       "    .dataframe tbody tr th {\n",
       "        vertical-align: top;\n",
       "    }\n",
       "\n",
       "    .dataframe thead th {\n",
       "        text-align: right;\n",
       "    }\n",
       "</style>\n",
       "<table border=\"1\" class=\"dataframe\">\n",
       "  <thead>\n",
       "    <tr style=\"text-align: right;\">\n",
       "      <th></th>\n",
       "      <th>isbn_id</th>\n",
       "      <th>cluster</th>\n",
       "    </tr>\n",
       "  </thead>\n",
       "  <tbody>\n",
       "    <tr>\n",
       "      <th>0</th>\n",
       "      <td>24503563</td>\n",
       "      <td>924503563</td>\n",
       "    </tr>\n",
       "    <tr>\n",
       "      <th>1</th>\n",
       "      <td>24503562</td>\n",
       "      <td>924503562</td>\n",
       "    </tr>\n",
       "    <tr>\n",
       "      <th>2</th>\n",
       "      <td>24503561</td>\n",
       "      <td>924503561</td>\n",
       "    </tr>\n",
       "    <tr>\n",
       "      <th>3</th>\n",
       "      <td>24503560</td>\n",
       "      <td>924503560</td>\n",
       "    </tr>\n",
       "    <tr>\n",
       "      <th>4</th>\n",
       "      <td>24503559</td>\n",
       "      <td>924503559</td>\n",
       "    </tr>\n",
       "  </tbody>\n",
       "</table>\n",
       "</div>"
      ],
      "text/plain": [
       "    isbn_id    cluster\n",
       "0  24503563  924503563\n",
       "1  24503562  924503562\n",
       "2  24503561  924503561\n",
       "3  24503560  924503560\n",
       "4  24503559  924503559"
      ]
     },
     "execution_count": 14,
     "metadata": {},
     "output_type": "execute_result"
    }
   ],
   "source": [
    "links = pd.read_parquet('book-links/isbn-clusters.parquet', columns=['isbn_id', 'cluster'])\n",
    "links.head()"
   ]
  },
  {
   "cell_type": "code",
   "execution_count": 15,
   "id": "fbad209d",
   "metadata": {
    "execution": {
     "iopub.execute_input": "2021-12-04T03:23:47.350576Z",
     "iopub.status.busy": "2021-12-04T03:23:47.349581Z",
     "iopub.status.idle": "2021-12-04T03:23:53.505597Z",
     "shell.execute_reply": "2021-12-04T03:23:53.506418Z"
    }
   },
   "outputs": [
    {
     "data": {
      "text/html": [
       "<div>\n",
       "<style scoped>\n",
       "    .dataframe tbody tr th:only-of-type {\n",
       "        vertical-align: middle;\n",
       "    }\n",
       "\n",
       "    .dataframe tbody tr th {\n",
       "        vertical-align: top;\n",
       "    }\n",
       "\n",
       "    .dataframe thead th {\n",
       "        text-align: right;\n",
       "    }\n",
       "</style>\n",
       "<table border=\"1\" class=\"dataframe\">\n",
       "  <thead>\n",
       "    <tr style=\"text-align: right;\">\n",
       "      <th></th>\n",
       "      <th>isbn_id</th>\n",
       "      <th>isbn</th>\n",
       "      <th>AZ14</th>\n",
       "      <th>BX</th>\n",
       "      <th>OL</th>\n",
       "      <th>LOC</th>\n",
       "      <th>GR</th>\n",
       "    </tr>\n",
       "  </thead>\n",
       "  <tbody>\n",
       "    <tr>\n",
       "      <th>24430862</th>\n",
       "      <td>4995691</td>\n",
       "      <td>0001004735</td>\n",
       "      <td>0</td>\n",
       "      <td>0</td>\n",
       "      <td>1</td>\n",
       "      <td>0</td>\n",
       "      <td>0</td>\n",
       "    </tr>\n",
       "    <tr>\n",
       "      <th>24429664</th>\n",
       "      <td>16734986</td>\n",
       "      <td>0001848259</td>\n",
       "      <td>0</td>\n",
       "      <td>0</td>\n",
       "      <td>1</td>\n",
       "      <td>0</td>\n",
       "      <td>0</td>\n",
       "    </tr>\n",
       "    <tr>\n",
       "      <th>24432788</th>\n",
       "      <td>8566406</td>\n",
       "      <td>0003708853</td>\n",
       "      <td>0</td>\n",
       "      <td>0</td>\n",
       "      <td>2</td>\n",
       "      <td>0</td>\n",
       "      <td>0</td>\n",
       "    </tr>\n",
       "    <tr>\n",
       "      <th>24428908</th>\n",
       "      <td>5994598</td>\n",
       "      <td>0004214072</td>\n",
       "      <td>0</td>\n",
       "      <td>0</td>\n",
       "      <td>2</td>\n",
       "      <td>0</td>\n",
       "      <td>0</td>\n",
       "    </tr>\n",
       "    <tr>\n",
       "      <th>24431021</th>\n",
       "      <td>9293954</td>\n",
       "      <td>0004214501</td>\n",
       "      <td>0</td>\n",
       "      <td>0</td>\n",
       "      <td>1</td>\n",
       "      <td>0</td>\n",
       "      <td>0</td>\n",
       "    </tr>\n",
       "    <tr>\n",
       "      <th>...</th>\n",
       "      <td>...</td>\n",
       "      <td>...</td>\n",
       "      <td>...</td>\n",
       "      <td>...</td>\n",
       "      <td>...</td>\n",
       "      <td>...</td>\n",
       "      <td>...</td>\n",
       "    </tr>\n",
       "    <tr>\n",
       "      <th>24431457</th>\n",
       "      <td>14104899</td>\n",
       "      <td>9997718135</td>\n",
       "      <td>0</td>\n",
       "      <td>0</td>\n",
       "      <td>1</td>\n",
       "      <td>0</td>\n",
       "      <td>0</td>\n",
       "    </tr>\n",
       "    <tr>\n",
       "      <th>24431380</th>\n",
       "      <td>21178507</td>\n",
       "      <td>9998392802</td>\n",
       "      <td>0</td>\n",
       "      <td>0</td>\n",
       "      <td>1</td>\n",
       "      <td>0</td>\n",
       "      <td>0</td>\n",
       "    </tr>\n",
       "    <tr>\n",
       "      <th>24432866</th>\n",
       "      <td>12096135</td>\n",
       "      <td>9998556643</td>\n",
       "      <td>0</td>\n",
       "      <td>0</td>\n",
       "      <td>1</td>\n",
       "      <td>0</td>\n",
       "      <td>0</td>\n",
       "    </tr>\n",
       "    <tr>\n",
       "      <th>24427212</th>\n",
       "      <td>13049047</td>\n",
       "      <td>9998651174</td>\n",
       "      <td>0</td>\n",
       "      <td>0</td>\n",
       "      <td>1</td>\n",
       "      <td>0</td>\n",
       "      <td>0</td>\n",
       "    </tr>\n",
       "    <tr>\n",
       "      <th>24430338</th>\n",
       "      <td>18416377</td>\n",
       "      <td>9998708710</td>\n",
       "      <td>0</td>\n",
       "      <td>0</td>\n",
       "      <td>1</td>\n",
       "      <td>0</td>\n",
       "      <td>0</td>\n",
       "    </tr>\n",
       "  </tbody>\n",
       "</table>\n",
       "<p>7976 rows × 7 columns</p>\n",
       "</div>"
      ],
      "text/plain": [
       "           isbn_id        isbn  AZ14  BX  OL  LOC  GR\n",
       "24430862   4995691  0001004735     0   0   1    0   0\n",
       "24429664  16734986  0001848259     0   0   1    0   0\n",
       "24432788   8566406  0003708853     0   0   2    0   0\n",
       "24428908   5994598  0004214072     0   0   2    0   0\n",
       "24431021   9293954  0004214501     0   0   1    0   0\n",
       "...            ...         ...   ...  ..  ..  ...  ..\n",
       "24431457  14104899  9997718135     0   0   1    0   0\n",
       "24431380  21178507  9998392802     0   0   1    0   0\n",
       "24432866  12096135  9998556643     0   0   1    0   0\n",
       "24427212  13049047  9998651174     0   0   1    0   0\n",
       "24430338  18416377  9998708710     0   0   1    0   0\n",
       "\n",
       "[7976 rows x 7 columns]"
      ]
     },
     "execution_count": 15,
     "metadata": {},
     "output_type": "execute_result"
    }
   ],
   "source": [
    "big_id = big.index[0]\n",
    "bl = links[links['cluster'] == big_id].drop(columns=['cluster'])\n",
    "bl = bl.join(isbns, on='isbn_id')\n",
    "bl.sort_values('isbn')"
   ]
  },
  {
   "cell_type": "markdown",
   "id": "f4492945",
   "metadata": {},
   "source": [
    "What are the things with the highest record count (besides ratings)?"
   ]
  },
  {
   "cell_type": "code",
   "execution_count": 16,
   "id": "453b1005",
   "metadata": {
    "execution": {
     "iopub.execute_input": "2021-12-04T03:23:53.514270Z",
     "iopub.status.busy": "2021-12-04T03:23:53.513315Z",
     "iopub.status.idle": "2021-12-04T03:23:53.536451Z",
     "shell.execute_reply": "2021-12-04T03:23:53.537014Z"
    }
   },
   "outputs": [
    {
     "data": {
      "text/html": [
       "<div>\n",
       "<style scoped>\n",
       "    .dataframe tbody tr th:only-of-type {\n",
       "        vertical-align: middle;\n",
       "    }\n",
       "\n",
       "    .dataframe tbody tr th {\n",
       "        vertical-align: top;\n",
       "    }\n",
       "\n",
       "    .dataframe thead th {\n",
       "        text-align: right;\n",
       "    }\n",
       "</style>\n",
       "<table border=\"1\" class=\"dataframe\">\n",
       "  <thead>\n",
       "    <tr style=\"text-align: right;\">\n",
       "      <th></th>\n",
       "      <th>isbn_id</th>\n",
       "      <th>isbn</th>\n",
       "      <th>AZ14</th>\n",
       "      <th>BX</th>\n",
       "      <th>OL</th>\n",
       "      <th>LOC</th>\n",
       "      <th>GR</th>\n",
       "      <th>btot</th>\n",
       "    </tr>\n",
       "  </thead>\n",
       "  <tbody>\n",
       "    <tr>\n",
       "      <th>24432497</th>\n",
       "      <td>79766</td>\n",
       "      <td>014143984X</td>\n",
       "      <td>1614</td>\n",
       "      <td>9</td>\n",
       "      <td>2</td>\n",
       "      <td>1</td>\n",
       "      <td>1</td>\n",
       "      <td>1625</td>\n",
       "    </tr>\n",
       "    <tr>\n",
       "      <th>24425990</th>\n",
       "      <td>79762</td>\n",
       "      <td>0141439769</td>\n",
       "      <td>1353</td>\n",
       "      <td>2</td>\n",
       "      <td>1</td>\n",
       "      <td>0</td>\n",
       "      <td>1</td>\n",
       "      <td>1356</td>\n",
       "    </tr>\n",
       "    <tr>\n",
       "      <th>24428619</th>\n",
       "      <td>78216</td>\n",
       "      <td>0140621199</td>\n",
       "      <td>1185</td>\n",
       "      <td>18</td>\n",
       "      <td>2</td>\n",
       "      <td>0</td>\n",
       "      <td>1</td>\n",
       "      <td>1205</td>\n",
       "    </tr>\n",
       "    <tr>\n",
       "      <th>24426782</th>\n",
       "      <td>76573</td>\n",
       "      <td>0140390839</td>\n",
       "      <td>993</td>\n",
       "      <td>11</td>\n",
       "      <td>1</td>\n",
       "      <td>0</td>\n",
       "      <td>1</td>\n",
       "      <td>1005</td>\n",
       "    </tr>\n",
       "    <tr>\n",
       "      <th>24425692</th>\n",
       "      <td>32522</td>\n",
       "      <td>006440188X</td>\n",
       "      <td>549</td>\n",
       "      <td>50</td>\n",
       "      <td>2</td>\n",
       "      <td>0</td>\n",
       "      <td>1</td>\n",
       "      <td>601</td>\n",
       "    </tr>\n",
       "    <tr>\n",
       "      <th>24427996</th>\n",
       "      <td>79503</td>\n",
       "      <td>0141321008</td>\n",
       "      <td>509</td>\n",
       "      <td>0</td>\n",
       "      <td>1</td>\n",
       "      <td>0</td>\n",
       "      <td>1</td>\n",
       "      <td>510</td>\n",
       "    </tr>\n",
       "    <tr>\n",
       "      <th>24429518</th>\n",
       "      <td>76249</td>\n",
       "      <td>0140367217</td>\n",
       "      <td>256</td>\n",
       "      <td>7</td>\n",
       "      <td>2</td>\n",
       "      <td>0</td>\n",
       "      <td>1</td>\n",
       "      <td>265</td>\n",
       "    </tr>\n",
       "    <tr>\n",
       "      <th>24425263</th>\n",
       "      <td>32521</td>\n",
       "      <td>0064401871</td>\n",
       "      <td>202</td>\n",
       "      <td>28</td>\n",
       "      <td>1</td>\n",
       "      <td>0</td>\n",
       "      <td>1</td>\n",
       "      <td>231</td>\n",
       "    </tr>\n",
       "    <tr>\n",
       "      <th>24432825</th>\n",
       "      <td>294370</td>\n",
       "      <td>0451230515</td>\n",
       "      <td>199</td>\n",
       "      <td>0</td>\n",
       "      <td>0</td>\n",
       "      <td>0</td>\n",
       "      <td>1</td>\n",
       "      <td>199</td>\n",
       "    </tr>\n",
       "    <tr>\n",
       "      <th>24426190</th>\n",
       "      <td>2335209</td>\n",
       "      <td>1559029838</td>\n",
       "      <td>0</td>\n",
       "      <td>180</td>\n",
       "      <td>12</td>\n",
       "      <td>0</td>\n",
       "      <td>1</td>\n",
       "      <td>192</td>\n",
       "    </tr>\n",
       "    <tr>\n",
       "      <th>24426665</th>\n",
       "      <td>76539</td>\n",
       "      <td>0140390057</td>\n",
       "      <td>177</td>\n",
       "      <td>2</td>\n",
       "      <td>1</td>\n",
       "      <td>1</td>\n",
       "      <td>1</td>\n",
       "      <td>180</td>\n",
       "    </tr>\n",
       "    <tr>\n",
       "      <th>24426423</th>\n",
       "      <td>72297</td>\n",
       "      <td>0140022651</td>\n",
       "      <td>162</td>\n",
       "      <td>15</td>\n",
       "      <td>1</td>\n",
       "      <td>0</td>\n",
       "      <td>1</td>\n",
       "      <td>178</td>\n",
       "    </tr>\n",
       "    <tr>\n",
       "      <th>24430442</th>\n",
       "      <td>79539</td>\n",
       "      <td>0141325291</td>\n",
       "      <td>174</td>\n",
       "      <td>0</td>\n",
       "      <td>0</td>\n",
       "      <td>0</td>\n",
       "      <td>1</td>\n",
       "      <td>174</td>\n",
       "    </tr>\n",
       "    <tr>\n",
       "      <th>24431176</th>\n",
       "      <td>323526</td>\n",
       "      <td>0486408787</td>\n",
       "      <td>165</td>\n",
       "      <td>8</td>\n",
       "      <td>1</td>\n",
       "      <td>1</td>\n",
       "      <td>1</td>\n",
       "      <td>174</td>\n",
       "    </tr>\n",
       "    <tr>\n",
       "      <th>24429991</th>\n",
       "      <td>77341</td>\n",
       "      <td>014044906X</td>\n",
       "      <td>141</td>\n",
       "      <td>1</td>\n",
       "      <td>1</td>\n",
       "      <td>1</td>\n",
       "      <td>1</td>\n",
       "      <td>143</td>\n",
       "    </tr>\n",
       "    <tr>\n",
       "      <th>24425777</th>\n",
       "      <td>237758</td>\n",
       "      <td>0393048470</td>\n",
       "      <td>119</td>\n",
       "      <td>4</td>\n",
       "      <td>3</td>\n",
       "      <td>1</td>\n",
       "      <td>1</td>\n",
       "      <td>126</td>\n",
       "    </tr>\n",
       "    <tr>\n",
       "      <th>24428493</th>\n",
       "      <td>296858</td>\n",
       "      <td>0451522842</td>\n",
       "      <td>75</td>\n",
       "      <td>2</td>\n",
       "      <td>1</td>\n",
       "      <td>0</td>\n",
       "      <td>1</td>\n",
       "      <td>78</td>\n",
       "    </tr>\n",
       "    <tr>\n",
       "      <th>24425635</th>\n",
       "      <td>296957</td>\n",
       "      <td>0451528832</td>\n",
       "      <td>72</td>\n",
       "      <td>0</td>\n",
       "      <td>1</td>\n",
       "      <td>1</td>\n",
       "      <td>1</td>\n",
       "      <td>73</td>\n",
       "    </tr>\n",
       "    <tr>\n",
       "      <th>24427083</th>\n",
       "      <td>296951</td>\n",
       "      <td>0451528646</td>\n",
       "      <td>65</td>\n",
       "      <td>1</td>\n",
       "      <td>1</td>\n",
       "      <td>1</td>\n",
       "      <td>1</td>\n",
       "      <td>67</td>\n",
       "    </tr>\n",
       "    <tr>\n",
       "      <th>24430714</th>\n",
       "      <td>76713</td>\n",
       "      <td>0140432620</td>\n",
       "      <td>56</td>\n",
       "      <td>4</td>\n",
       "      <td>2</td>\n",
       "      <td>0</td>\n",
       "      <td>1</td>\n",
       "      <td>62</td>\n",
       "    </tr>\n",
       "  </tbody>\n",
       "</table>\n",
       "</div>"
      ],
      "text/plain": [
       "          isbn_id        isbn  AZ14   BX  OL  LOC  GR  btot\n",
       "24432497    79766  014143984X  1614    9   2    1   1  1625\n",
       "24425990    79762  0141439769  1353    2   1    0   1  1356\n",
       "24428619    78216  0140621199  1185   18   2    0   1  1205\n",
       "24426782    76573  0140390839   993   11   1    0   1  1005\n",
       "24425692    32522  006440188X   549   50   2    0   1   601\n",
       "24427996    79503  0141321008   509    0   1    0   1   510\n",
       "24429518    76249  0140367217   256    7   2    0   1   265\n",
       "24425263    32521  0064401871   202   28   1    0   1   231\n",
       "24432825   294370  0451230515   199    0   0    0   1   199\n",
       "24426190  2335209  1559029838     0  180  12    0   1   192\n",
       "24426665    76539  0140390057   177    2   1    1   1   180\n",
       "24426423    72297  0140022651   162   15   1    0   1   178\n",
       "24430442    79539  0141325291   174    0   0    0   1   174\n",
       "24431176   323526  0486408787   165    8   1    1   1   174\n",
       "24429991    77341  014044906X   141    1   1    1   1   143\n",
       "24425777   237758  0393048470   119    4   3    1   1   126\n",
       "24428493   296858  0451522842    75    2   1    0   1    78\n",
       "24425635   296957  0451528832    72    0   1    1   1    73\n",
       "24427083   296951  0451528646    65    1   1    1   1    67\n",
       "24430714    76713  0140432620    56    4   2    0   1    62"
      ]
     },
     "execution_count": 16,
     "metadata": {},
     "output_type": "execute_result"
    }
   ],
   "source": [
    "bl['btot'] = bl.iloc[:, 2:-2].sum(axis=1)\n",
    "bl.nlargest(20, 'btot')"
   ]
  },
  {
   "cell_type": "code",
   "execution_count": null,
   "id": "d85d6a73",
   "metadata": {},
   "outputs": [],
   "source": []
  }
 ],
 "metadata": {
  "jupytext": {
   "formats": "ipynb,py:percent"
  },
  "kernelspec": {
   "display_name": "Python 3 (ipykernel)",
   "language": "python",
   "name": "python3"
  },
  "language_info": {
   "codemirror_mode": {
    "name": "ipython",
    "version": 3
   },
   "file_extension": ".py",
   "mimetype": "text/x-python",
   "name": "python",
   "nbconvert_exporter": "python",
   "pygments_lexer": "ipython3",
   "version": "3.8.12"
  }
 },
 "nbformat": 4,
 "nbformat_minor": 5
}
