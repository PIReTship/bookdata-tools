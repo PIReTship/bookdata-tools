{
 "cells": [
  {
   "cell_type": "markdown",
   "id": "38734996",
   "metadata": {},
   "source": [
    "# Book Clustering Statistics\n",
    "\n",
    "This notebook provides statistics on the results of our book clustering."
   ]
  },
  {
   "cell_type": "markdown",
   "id": "3705e973",
   "metadata": {},
   "source": [
    "## Setup"
   ]
  },
  {
   "cell_type": "code",
   "execution_count": 1,
   "id": "55062712",
   "metadata": {
    "execution": {
     "iopub.execute_input": "2022-05-12T00:22:29.790311Z",
     "iopub.status.busy": "2022-05-12T00:22:29.789703Z",
     "iopub.status.idle": "2022-05-12T00:22:42.861314Z",
     "shell.execute_reply": "2022-05-12T00:22:42.858999Z"
    }
   },
   "outputs": [],
   "source": [
    "import pandas as pd\n",
    "import matplotlib.pyplot as plt\n",
    "import numpy as np"
   ]
  },
  {
   "cell_type": "markdown",
   "id": "5648dcb3",
   "metadata": {},
   "source": [
    "## Load Data\n",
    "\n",
    "Let's start by getting our clusters and their statistics:"
   ]
  },
  {
   "cell_type": "code",
   "execution_count": 2,
   "id": "f6841441",
   "metadata": {
    "execution": {
     "iopub.execute_input": "2022-05-12T00:22:42.871464Z",
     "iopub.status.busy": "2022-05-12T00:22:42.870292Z",
     "iopub.status.idle": "2022-05-12T00:22:43.989210Z",
     "shell.execute_reply": "2022-05-12T00:22:43.986868Z"
    }
   },
   "outputs": [
    {
     "name": "stdout",
     "output_type": "stream",
     "text": [
      "<class 'pandas.core.frame.DataFrame'>\n",
      "RangeIndex: 32185879 entries, 0 to 32185878\n",
      "Data columns (total 8 columns):\n",
      " #   Column         Dtype \n",
      "---  ------         ----- \n",
      " 0   cluster        int32 \n",
      " 1   n_nodes        uint32\n",
      " 2   n_isbns        uint32\n",
      " 3   n_loc_recs     uint32\n",
      " 4   n_ol_editions  uint32\n",
      " 5   n_ol_works     uint32\n",
      " 6   n_gr_books     uint32\n",
      " 7   n_gr_works     uint32\n",
      "dtypes: int32(1), uint32(7)\n",
      "memory usage: 982.2 MB\n"
     ]
    }
   ],
   "source": [
    "clusters = pd.read_parquet('book-links/cluster-stats.parquet')\n",
    "clusters.info()"
   ]
  },
  {
   "cell_type": "code",
   "execution_count": 3,
   "id": "f2645bf9",
   "metadata": {
    "execution": {
     "iopub.execute_input": "2022-05-12T00:22:43.996549Z",
     "iopub.status.busy": "2022-05-12T00:22:43.996039Z",
     "iopub.status.idle": "2022-05-12T00:22:44.236661Z",
     "shell.execute_reply": "2022-05-12T00:22:44.235704Z"
    }
   },
   "outputs": [],
   "source": [
    "clusters.set_index('cluster', inplace=True)"
   ]
  },
  {
   "cell_type": "markdown",
   "id": "df558180",
   "metadata": {},
   "source": [
    "Describe the count columns for basic descriptive stats:"
   ]
  },
  {
   "cell_type": "code",
   "execution_count": 4,
   "id": "4e7932d8",
   "metadata": {
    "execution": {
     "iopub.execute_input": "2022-05-12T00:22:44.241599Z",
     "iopub.status.busy": "2022-05-12T00:22:44.241322Z",
     "iopub.status.idle": "2022-05-12T00:22:52.045471Z",
     "shell.execute_reply": "2022-05-12T00:22:52.044195Z"
    }
   },
   "outputs": [
    {
     "data": {
      "text/html": [
       "<div>\n",
       "<style scoped>\n",
       "    .dataframe tbody tr th:only-of-type {\n",
       "        vertical-align: middle;\n",
       "    }\n",
       "\n",
       "    .dataframe tbody tr th {\n",
       "        vertical-align: top;\n",
       "    }\n",
       "\n",
       "    .dataframe thead th {\n",
       "        text-align: right;\n",
       "    }\n",
       "</style>\n",
       "<table border=\"1\" class=\"dataframe\">\n",
       "  <thead>\n",
       "    <tr style=\"text-align: right;\">\n",
       "      <th></th>\n",
       "      <th>n_nodes</th>\n",
       "      <th>n_isbns</th>\n",
       "      <th>n_loc_recs</th>\n",
       "      <th>n_ol_editions</th>\n",
       "      <th>n_ol_works</th>\n",
       "      <th>n_gr_books</th>\n",
       "      <th>n_gr_works</th>\n",
       "    </tr>\n",
       "  </thead>\n",
       "  <tbody>\n",
       "    <tr>\n",
       "      <th>count</th>\n",
       "      <td>3.218588e+07</td>\n",
       "      <td>3.218588e+07</td>\n",
       "      <td>3.218588e+07</td>\n",
       "      <td>3.218588e+07</td>\n",
       "      <td>3.218588e+07</td>\n",
       "      <td>3.218588e+07</td>\n",
       "      <td>3.218588e+07</td>\n",
       "    </tr>\n",
       "    <tr>\n",
       "      <th>mean</th>\n",
       "      <td>3.293647e+00</td>\n",
       "      <td>1.016442e+00</td>\n",
       "      <td>3.004604e-01</td>\n",
       "      <td>1.079199e+00</td>\n",
       "      <td>7.769151e-01</td>\n",
       "      <td>7.334443e-02</td>\n",
       "      <td>4.728664e-02</td>\n",
       "    </tr>\n",
       "    <tr>\n",
       "      <th>std</th>\n",
       "      <td>9.868834e+00</td>\n",
       "      <td>4.981302e+00</td>\n",
       "      <td>5.495389e-01</td>\n",
       "      <td>3.766374e+00</td>\n",
       "      <td>7.002098e-01</td>\n",
       "      <td>1.102101e+00</td>\n",
       "      <td>2.215802e-01</td>\n",
       "    </tr>\n",
       "    <tr>\n",
       "      <th>min</th>\n",
       "      <td>1.000000e+00</td>\n",
       "      <td>0.000000e+00</td>\n",
       "      <td>0.000000e+00</td>\n",
       "      <td>0.000000e+00</td>\n",
       "      <td>0.000000e+00</td>\n",
       "      <td>0.000000e+00</td>\n",
       "      <td>0.000000e+00</td>\n",
       "    </tr>\n",
       "    <tr>\n",
       "      <th>25%</th>\n",
       "      <td>2.000000e+00</td>\n",
       "      <td>0.000000e+00</td>\n",
       "      <td>0.000000e+00</td>\n",
       "      <td>1.000000e+00</td>\n",
       "      <td>0.000000e+00</td>\n",
       "      <td>0.000000e+00</td>\n",
       "      <td>0.000000e+00</td>\n",
       "    </tr>\n",
       "    <tr>\n",
       "      <th>50%</th>\n",
       "      <td>3.000000e+00</td>\n",
       "      <td>1.000000e+00</td>\n",
       "      <td>0.000000e+00</td>\n",
       "      <td>1.000000e+00</td>\n",
       "      <td>1.000000e+00</td>\n",
       "      <td>0.000000e+00</td>\n",
       "      <td>0.000000e+00</td>\n",
       "    </tr>\n",
       "    <tr>\n",
       "      <th>75%</th>\n",
       "      <td>4.000000e+00</td>\n",
       "      <td>2.000000e+00</td>\n",
       "      <td>1.000000e+00</td>\n",
       "      <td>1.000000e+00</td>\n",
       "      <td>1.000000e+00</td>\n",
       "      <td>0.000000e+00</td>\n",
       "      <td>0.000000e+00</td>\n",
       "    </tr>\n",
       "    <tr>\n",
       "      <th>max</th>\n",
       "      <td>2.863000e+04</td>\n",
       "      <td>1.398800e+04</td>\n",
       "      <td>6.730000e+02</td>\n",
       "      <td>9.939000e+03</td>\n",
       "      <td>2.368000e+03</td>\n",
       "      <td>3.390000e+03</td>\n",
       "      <td>1.320000e+02</td>\n",
       "    </tr>\n",
       "  </tbody>\n",
       "</table>\n",
       "</div>"
      ],
      "text/plain": [
       "            n_nodes       n_isbns    n_loc_recs  n_ol_editions    n_ol_works  \\\n",
       "count  3.218588e+07  3.218588e+07  3.218588e+07   3.218588e+07  3.218588e+07   \n",
       "mean   3.293647e+00  1.016442e+00  3.004604e-01   1.079199e+00  7.769151e-01   \n",
       "std    9.868834e+00  4.981302e+00  5.495389e-01   3.766374e+00  7.002098e-01   \n",
       "min    1.000000e+00  0.000000e+00  0.000000e+00   0.000000e+00  0.000000e+00   \n",
       "25%    2.000000e+00  0.000000e+00  0.000000e+00   1.000000e+00  0.000000e+00   \n",
       "50%    3.000000e+00  1.000000e+00  0.000000e+00   1.000000e+00  1.000000e+00   \n",
       "75%    4.000000e+00  2.000000e+00  1.000000e+00   1.000000e+00  1.000000e+00   \n",
       "max    2.863000e+04  1.398800e+04  6.730000e+02   9.939000e+03  2.368000e+03   \n",
       "\n",
       "         n_gr_books    n_gr_works  \n",
       "count  3.218588e+07  3.218588e+07  \n",
       "mean   7.334443e-02  4.728664e-02  \n",
       "std    1.102101e+00  2.215802e-01  \n",
       "min    0.000000e+00  0.000000e+00  \n",
       "25%    0.000000e+00  0.000000e+00  \n",
       "50%    0.000000e+00  0.000000e+00  \n",
       "75%    0.000000e+00  0.000000e+00  \n",
       "max    3.390000e+03  1.320000e+02  "
      ]
     },
     "execution_count": 4,
     "metadata": {},
     "output_type": "execute_result"
    }
   ],
   "source": [
    "clusters.describe()"
   ]
  },
  {
   "cell_type": "markdown",
   "id": "48a38de8",
   "metadata": {},
   "source": [
    "75% of clusters only contain 2 ISBNs (probably -10 and -13) and one book. OpenLibrary also contributes to the largest number of clusters."
   ]
  },
  {
   "cell_type": "markdown",
   "id": "8e37c334",
   "metadata": {},
   "source": [
    "## Clusters per Source\n",
    "\n",
    "How many clusters are connected to each source?"
   ]
  },
  {
   "cell_type": "code",
   "execution_count": 5,
   "id": "29f71dd3",
   "metadata": {
    "execution": {
     "iopub.execute_input": "2022-05-12T00:22:52.050431Z",
     "iopub.status.busy": "2022-05-12T00:22:52.050139Z",
     "iopub.status.idle": "2022-05-12T00:22:52.719684Z",
     "shell.execute_reply": "2022-05-12T00:22:52.718859Z"
    }
   },
   "outputs": [
    {
     "data": {
      "text/plain": [
       "n_nodes          32185879\n",
       "n_isbns          17078096\n",
       "n_loc_recs        9281535\n",
       "n_ol_editions    25814159\n",
       "n_ol_works       23754524\n",
       "n_gr_books        1506465\n",
       "n_gr_works        1505941\n",
       "dtype: int64"
      ]
     },
     "execution_count": 5,
     "metadata": {},
     "output_type": "execute_result"
    }
   ],
   "source": [
    "src_counts = pd.Series(dict(\n",
    "    (c, np.sum(clusters[c] > 0)) for c in clusters.columns\n",
    "))\n",
    "src_counts"
   ]
  },
  {
   "cell_type": "code",
   "execution_count": 6,
   "id": "bcb228fb",
   "metadata": {
    "execution": {
     "iopub.execute_input": "2022-05-12T00:22:52.723733Z",
     "iopub.status.busy": "2022-05-12T00:22:52.723467Z",
     "iopub.status.idle": "2022-05-12T00:22:53.447486Z",
     "shell.execute_reply": "2022-05-12T00:22:53.446022Z"
    }
   },
   "outputs": [
    {
     "data": {
      "image/png": "[encoded data removed]",
      "text/plain": [
       "<Figure size 432x288 with 1 Axes>"
      ]
     },
     "metadata": {
      "needs_background": "light"
     },
     "output_type": "display_data"
    }
   ],
   "source": [
    "src_counts.plot.barh()\n",
    "plt.xlabel('# of Clusters')\n",
    "plt.show()"
   ]
  },
  {
   "cell_type": "markdown",
   "id": "370b4690",
   "metadata": {},
   "source": [
    "## Distributions\n",
    "\n",
    "Let's look at the distributions of cluster sizes."
   ]
  },
  {
   "cell_type": "code",
   "execution_count": 7,
   "id": "c92bdd71",
   "metadata": {
    "execution": {
     "iopub.execute_input": "2022-05-12T00:22:53.455634Z",
     "iopub.status.busy": "2022-05-12T00:22:53.454996Z",
     "iopub.status.idle": "2022-05-12T00:22:54.835643Z",
     "shell.execute_reply": "2022-05-12T00:22:54.834857Z"
    }
   },
   "outputs": [
    {
     "data": {
      "text/html": [
       "<div>\n",
       "<style scoped>\n",
       "    .dataframe tbody tr th:only-of-type {\n",
       "        vertical-align: middle;\n",
       "    }\n",
       "\n",
       "    .dataframe tbody tr th {\n",
       "        vertical-align: top;\n",
       "    }\n",
       "\n",
       "    .dataframe thead th {\n",
       "        text-align: right;\n",
       "    }\n",
       "</style>\n",
       "<table border=\"1\" class=\"dataframe\">\n",
       "  <thead>\n",
       "    <tr style=\"text-align: right;\">\n",
       "      <th></th>\n",
       "      <th>RecType</th>\n",
       "      <th>RecCount</th>\n",
       "      <th>Clusters</th>\n",
       "    </tr>\n",
       "  </thead>\n",
       "  <tbody>\n",
       "    <tr>\n",
       "      <th>0</th>\n",
       "      <td>n_isbns</td>\n",
       "      <td>0</td>\n",
       "      <td>15107783</td>\n",
       "    </tr>\n",
       "    <tr>\n",
       "      <th>1</th>\n",
       "      <td>n_isbns</td>\n",
       "      <td>1</td>\n",
       "      <td>7697118</td>\n",
       "    </tr>\n",
       "    <tr>\n",
       "      <th>2</th>\n",
       "      <td>n_isbns</td>\n",
       "      <td>2</td>\n",
       "      <td>7466668</td>\n",
       "    </tr>\n",
       "    <tr>\n",
       "      <th>3</th>\n",
       "      <td>n_isbns</td>\n",
       "      <td>4</td>\n",
       "      <td>740195</td>\n",
       "    </tr>\n",
       "    <tr>\n",
       "      <th>4</th>\n",
       "      <td>n_isbns</td>\n",
       "      <td>3</td>\n",
       "      <td>579577</td>\n",
       "    </tr>\n",
       "  </tbody>\n",
       "</table>\n",
       "</div>"
      ],
      "text/plain": [
       "   RecType  RecCount  Clusters\n",
       "0  n_isbns         0  15107783\n",
       "1  n_isbns         1   7697118\n",
       "2  n_isbns         2   7466668\n",
       "3  n_isbns         4    740195\n",
       "4  n_isbns         3    579577"
      ]
     },
     "execution_count": 7,
     "metadata": {},
     "output_type": "execute_result"
    }
   ],
   "source": [
    "size_dist = pd.concat(dict(\n",
    "    (c, clusters[c].value_counts()) for c in clusters.columns if c != 'n_nodes'\n",
    "), names=['RecType'])\n",
    "size_dist.index.set_names(['RecType', 'RecCount'], inplace=True)\n",
    "size_dist = size_dist.reset_index(name='Clusters')\n",
    "size_dist.head()"
   ]
  },
  {
   "cell_type": "code",
   "execution_count": 8,
   "id": "5436f911",
   "metadata": {
    "execution": {
     "iopub.execute_input": "2022-05-12T00:22:54.839552Z",
     "iopub.status.busy": "2022-05-12T00:22:54.839292Z",
     "iopub.status.idle": "2022-05-12T00:22:57.139411Z",
     "shell.execute_reply": "2022-05-12T00:22:57.138396Z"
    }
   },
   "outputs": [
    {
     "data": {
      "image/png": "[encoded data removed]",
      "text/plain": [
       "<Figure size 432x288 with 1 Axes>"
      ]
     },
     "metadata": {
      "needs_background": "light"
     },
     "output_type": "display_data"
    }
   ],
   "source": [
    "for rt, data in size_dist.groupby('RecType'):\n",
    "    plt.scatter(data['RecCount'], data['Clusters'], marker='1', label=rt)\n",
    "plt.legend()\n",
    "plt.xlabel('# of Records')\n",
    "plt.xscale('log')\n",
    "plt.ylabel('# of Clusters')\n",
    "plt.yscale('log')\n",
    "plt.show()"
   ]
  },
  {
   "cell_type": "markdown",
   "id": "75a76d3d",
   "metadata": {},
   "source": [
    "Looks mostly fine - we expect a lot of power laws - but the number of clusters with merged GoodReads works is concerning."
   ]
  },
  {
   "cell_type": "markdown",
   "id": "68789d71",
   "metadata": {},
   "source": [
    "## GoodReads Work Merging\n",
    "\n",
    "Why are GoodReads works merging? Let's look at those."
   ]
  },
  {
   "cell_type": "code",
   "execution_count": 9,
   "id": "3f70dc95",
   "metadata": {
    "execution": {
     "iopub.execute_input": "2022-05-12T00:22:57.143829Z",
     "iopub.status.busy": "2022-05-12T00:22:57.143563Z",
     "iopub.status.idle": "2022-05-12T00:22:57.211769Z",
     "shell.execute_reply": "2022-05-12T00:22:57.210881Z"
    }
   },
   "outputs": [
    {
     "name": "stdout",
     "output_type": "stream",
     "text": [
      "<class 'pandas.core.frame.DataFrame'>\n",
      "Int64Index: 8990 entries, 100026918 to 117956311\n",
      "Data columns (total 7 columns):\n",
      " #   Column         Non-Null Count  Dtype \n",
      "---  ------         --------------  ----- \n",
      " 0   n_nodes        8990 non-null   uint32\n",
      " 1   n_isbns        8990 non-null   uint32\n",
      " 2   n_loc_recs     8990 non-null   uint32\n",
      " 3   n_ol_editions  8990 non-null   uint32\n",
      " 4   n_ol_works     8990 non-null   uint32\n",
      " 5   n_gr_books     8990 non-null   uint32\n",
      " 6   n_gr_works     8990 non-null   uint32\n",
      "dtypes: uint32(7)\n",
      "memory usage: 316.1 KB\n"
     ]
    }
   ],
   "source": [
    "gr_big = clusters[clusters['n_gr_works'] > 1].sort_values('n_gr_works', ascending=False)\n",
    "gr_big.info()"
   ]
  },
  {
   "cell_type": "markdown",
   "id": "5d63e7ec",
   "metadata": {},
   "source": [
    "We have a lot of these clusters. What fraction of the GoodReads-affected clusters is this?"
   ]
  },
  {
   "cell_type": "code",
   "execution_count": 10,
   "id": "f75131ff",
   "metadata": {
    "execution": {
     "iopub.execute_input": "2022-05-12T00:22:57.215920Z",
     "iopub.status.busy": "2022-05-12T00:22:57.215656Z",
     "iopub.status.idle": "2022-05-12T00:22:57.287541Z",
     "shell.execute_reply": "2022-05-12T00:22:57.286736Z"
    }
   },
   "outputs": [
    {
     "data": {
      "text/plain": [
       "0.0002793150375044907"
      ]
     },
     "execution_count": 10,
     "metadata": {},
     "output_type": "execute_result"
    }
   ],
   "source": [
    "len(gr_big) / clusters['n_gr_books'].count()"
   ]
  },
  {
   "cell_type": "markdown",
   "id": "ac08c31d",
   "metadata": {},
   "source": [
    "Less than 1%. Not bad, but let's look."
   ]
  },
  {
   "cell_type": "code",
   "execution_count": 11,
   "id": "e82c323f",
   "metadata": {
    "execution": {
     "iopub.execute_input": "2022-05-12T00:22:57.291555Z",
     "iopub.status.busy": "2022-05-12T00:22:57.291299Z",
     "iopub.status.idle": "2022-05-12T00:22:57.304264Z",
     "shell.execute_reply": "2022-05-12T00:22:57.303505Z"
    }
   },
   "outputs": [
    {
     "data": {
      "text/html": [
       "<div>\n",
       "<style scoped>\n",
       "    .dataframe tbody tr th:only-of-type {\n",
       "        vertical-align: middle;\n",
       "    }\n",
       "\n",
       "    .dataframe tbody tr th {\n",
       "        vertical-align: top;\n",
       "    }\n",
       "\n",
       "    .dataframe thead th {\n",
       "        text-align: right;\n",
       "    }\n",
       "</style>\n",
       "<table border=\"1\" class=\"dataframe\">\n",
       "  <thead>\n",
       "    <tr style=\"text-align: right;\">\n",
       "      <th></th>\n",
       "      <th>n_nodes</th>\n",
       "      <th>n_isbns</th>\n",
       "      <th>n_loc_recs</th>\n",
       "      <th>n_ol_editions</th>\n",
       "      <th>n_ol_works</th>\n",
       "      <th>n_gr_books</th>\n",
       "      <th>n_gr_works</th>\n",
       "    </tr>\n",
       "    <tr>\n",
       "      <th>cluster</th>\n",
       "      <th></th>\n",
       "      <th></th>\n",
       "      <th></th>\n",
       "      <th></th>\n",
       "      <th></th>\n",
       "      <th></th>\n",
       "      <th></th>\n",
       "    </tr>\n",
       "  </thead>\n",
       "  <tbody>\n",
       "    <tr>\n",
       "      <th>100026918</th>\n",
       "      <td>28630</td>\n",
       "      <td>13988</td>\n",
       "      <td>673</td>\n",
       "      <td>9939</td>\n",
       "      <td>508</td>\n",
       "      <td>3390</td>\n",
       "      <td>132</td>\n",
       "    </tr>\n",
       "    <tr>\n",
       "      <th>100073294</th>\n",
       "      <td>17698</td>\n",
       "      <td>7166</td>\n",
       "      <td>494</td>\n",
       "      <td>8116</td>\n",
       "      <td>358</td>\n",
       "      <td>1476</td>\n",
       "      <td>88</td>\n",
       "    </tr>\n",
       "    <tr>\n",
       "      <th>100227025</th>\n",
       "      <td>6789</td>\n",
       "      <td>3292</td>\n",
       "      <td>192</td>\n",
       "      <td>2555</td>\n",
       "      <td>258</td>\n",
       "      <td>422</td>\n",
       "      <td>70</td>\n",
       "    </tr>\n",
       "    <tr>\n",
       "      <th>100122502</th>\n",
       "      <td>454</td>\n",
       "      <td>165</td>\n",
       "      <td>4</td>\n",
       "      <td>93</td>\n",
       "      <td>76</td>\n",
       "      <td>60</td>\n",
       "      <td>56</td>\n",
       "    </tr>\n",
       "    <tr>\n",
       "      <th>104486307</th>\n",
       "      <td>315</td>\n",
       "      <td>141</td>\n",
       "      <td>1</td>\n",
       "      <td>51</td>\n",
       "      <td>18</td>\n",
       "      <td>53</td>\n",
       "      <td>51</td>\n",
       "    </tr>\n",
       "  </tbody>\n",
       "</table>\n",
       "</div>"
      ],
      "text/plain": [
       "           n_nodes  n_isbns  n_loc_recs  n_ol_editions  n_ol_works  \\\n",
       "cluster                                                              \n",
       "100026918    28630    13988         673           9939         508   \n",
       "100073294    17698     7166         494           8116         358   \n",
       "100227025     6789     3292         192           2555         258   \n",
       "100122502      454      165           4             93          76   \n",
       "104486307      315      141           1             51          18   \n",
       "\n",
       "           n_gr_books  n_gr_works  \n",
       "cluster                            \n",
       "100026918        3390         132  \n",
       "100073294        1476          88  \n",
       "100227025         422          70  \n",
       "100122502          60          56  \n",
       "104486307          53          51  "
      ]
     },
     "execution_count": 11,
     "metadata": {},
     "output_type": "execute_result"
    }
   ],
   "source": [
    "gr_big.head()"
   ]
  },
  {
   "cell_type": "markdown",
   "id": "e7d10efc",
   "metadata": {},
   "source": [
    "## Large Cluster Debugging\n",
    "\n",
    "We have some pretty big clusters:"
   ]
  },
  {
   "cell_type": "code",
   "execution_count": 12,
   "id": "6aa5fd87",
   "metadata": {
    "execution": {
     "iopub.execute_input": "2022-05-12T00:22:57.307985Z",
     "iopub.status.busy": "2022-05-12T00:22:57.307734Z",
     "iopub.status.idle": "2022-05-12T00:22:58.932637Z",
     "shell.execute_reply": "2022-05-12T00:22:58.931604Z"
    }
   },
   "outputs": [
    {
     "data": {
      "text/html": [
       "<div>\n",
       "<style scoped>\n",
       "    .dataframe tbody tr th:only-of-type {\n",
       "        vertical-align: middle;\n",
       "    }\n",
       "\n",
       "    .dataframe tbody tr th {\n",
       "        vertical-align: top;\n",
       "    }\n",
       "\n",
       "    .dataframe thead th {\n",
       "        text-align: right;\n",
       "    }\n",
       "</style>\n",
       "<table border=\"1\" class=\"dataframe\">\n",
       "  <thead>\n",
       "    <tr style=\"text-align: right;\">\n",
       "      <th></th>\n",
       "      <th>n_nodes</th>\n",
       "      <th>n_isbns</th>\n",
       "      <th>n_loc_recs</th>\n",
       "      <th>n_ol_editions</th>\n",
       "      <th>n_ol_works</th>\n",
       "      <th>n_gr_books</th>\n",
       "      <th>n_gr_works</th>\n",
       "    </tr>\n",
       "    <tr>\n",
       "      <th>cluster</th>\n",
       "      <th></th>\n",
       "      <th></th>\n",
       "      <th></th>\n",
       "      <th></th>\n",
       "      <th></th>\n",
       "      <th></th>\n",
       "      <th></th>\n",
       "    </tr>\n",
       "  </thead>\n",
       "  <tbody>\n",
       "    <tr>\n",
       "      <th>100026918</th>\n",
       "      <td>28630</td>\n",
       "      <td>13988</td>\n",
       "      <td>673</td>\n",
       "      <td>9939</td>\n",
       "      <td>508</td>\n",
       "      <td>3390</td>\n",
       "      <td>132</td>\n",
       "    </tr>\n",
       "    <tr>\n",
       "      <th>100073294</th>\n",
       "      <td>17698</td>\n",
       "      <td>7166</td>\n",
       "      <td>494</td>\n",
       "      <td>8116</td>\n",
       "      <td>358</td>\n",
       "      <td>1476</td>\n",
       "      <td>88</td>\n",
       "    </tr>\n",
       "    <tr>\n",
       "      <th>100044980</th>\n",
       "      <td>15480</td>\n",
       "      <td>7681</td>\n",
       "      <td>186</td>\n",
       "      <td>6168</td>\n",
       "      <td>89</td>\n",
       "      <td>1333</td>\n",
       "      <td>23</td>\n",
       "    </tr>\n",
       "    <tr>\n",
       "      <th>102066477</th>\n",
       "      <td>11281</td>\n",
       "      <td>7520</td>\n",
       "      <td>0</td>\n",
       "      <td>3760</td>\n",
       "      <td>1</td>\n",
       "      <td>0</td>\n",
       "      <td>0</td>\n",
       "    </tr>\n",
       "    <tr>\n",
       "      <th>100063034</th>\n",
       "      <td>10902</td>\n",
       "      <td>5451</td>\n",
       "      <td>178</td>\n",
       "      <td>3484</td>\n",
       "      <td>145</td>\n",
       "      <td>1599</td>\n",
       "      <td>45</td>\n",
       "    </tr>\n",
       "  </tbody>\n",
       "</table>\n",
       "</div>"
      ],
      "text/plain": [
       "           n_nodes  n_isbns  n_loc_recs  n_ol_editions  n_ol_works  \\\n",
       "cluster                                                              \n",
       "100026918    28630    13988         673           9939         508   \n",
       "100073294    17698     7166         494           8116         358   \n",
       "100044980    15480     7681         186           6168          89   \n",
       "102066477    11281     7520           0           3760           1   \n",
       "100063034    10902     5451         178           3484         145   \n",
       "\n",
       "           n_gr_books  n_gr_works  \n",
       "cluster                            \n",
       "100026918        3390         132  \n",
       "100073294        1476          88  \n",
       "100044980        1333          23  \n",
       "102066477           0           0  \n",
       "100063034        1599          45  "
      ]
     },
     "execution_count": 12,
     "metadata": {},
     "output_type": "execute_result"
    }
   ],
   "source": [
    "big = clusters.nlargest(5, 'n_nodes')\n",
    "big"
   ]
  },
  {
   "cell_type": "markdown",
   "id": "c1999d7b",
   "metadata": {},
   "source": [
    "What is up with this? We should figure out what went wrong, if we can.  What are its ISBNs?"
   ]
  },
  {
   "cell_type": "code",
   "execution_count": 13,
   "id": "94540cac",
   "metadata": {
    "execution": {
     "iopub.execute_input": "2022-05-12T00:22:58.937048Z",
     "iopub.status.busy": "2022-05-12T00:22:58.936770Z",
     "iopub.status.idle": "2022-05-12T00:23:28.492421Z",
     "shell.execute_reply": "2022-05-12T00:23:28.490808Z"
    }
   },
   "outputs": [
    {
     "data": {
      "text/html": [
       "<div>\n",
       "<style scoped>\n",
       "    .dataframe tbody tr th:only-of-type {\n",
       "        vertical-align: middle;\n",
       "    }\n",
       "\n",
       "    .dataframe tbody tr th {\n",
       "        vertical-align: top;\n",
       "    }\n",
       "\n",
       "    .dataframe thead th {\n",
       "        text-align: right;\n",
       "    }\n",
       "</style>\n",
       "<table border=\"1\" class=\"dataframe\">\n",
       "  <thead>\n",
       "    <tr style=\"text-align: right;\">\n",
       "      <th></th>\n",
       "      <th>isbn</th>\n",
       "      <th>LOC</th>\n",
       "      <th>GR</th>\n",
       "      <th>OL</th>\n",
       "      <th>BX</th>\n",
       "      <th>AZ14</th>\n",
       "    </tr>\n",
       "    <tr>\n",
       "      <th>isbn_id</th>\n",
       "      <th></th>\n",
       "      <th></th>\n",
       "      <th></th>\n",
       "      <th></th>\n",
       "      <th></th>\n",
       "      <th></th>\n",
       "    </tr>\n",
       "  </thead>\n",
       "  <tbody>\n",
       "    <tr>\n",
       "      <th>1</th>\n",
       "      <td>0836932722</td>\n",
       "      <td>2</td>\n",
       "      <td>0</td>\n",
       "      <td>3</td>\n",
       "      <td>0</td>\n",
       "      <td>0</td>\n",
       "    </tr>\n",
       "    <tr>\n",
       "      <th>2</th>\n",
       "      <td>0965406334</td>\n",
       "      <td>1</td>\n",
       "      <td>0</td>\n",
       "      <td>1</td>\n",
       "      <td>0</td>\n",
       "      <td>0</td>\n",
       "    </tr>\n",
       "    <tr>\n",
       "      <th>3</th>\n",
       "      <td>0780363175</td>\n",
       "      <td>1</td>\n",
       "      <td>0</td>\n",
       "      <td>2</td>\n",
       "      <td>0</td>\n",
       "      <td>0</td>\n",
       "    </tr>\n",
       "    <tr>\n",
       "      <th>4</th>\n",
       "      <td>0780363590</td>\n",
       "      <td>1</td>\n",
       "      <td>0</td>\n",
       "      <td>2</td>\n",
       "      <td>0</td>\n",
       "      <td>0</td>\n",
       "    </tr>\n",
       "    <tr>\n",
       "      <th>5</th>\n",
       "      <td>0780363604</td>\n",
       "      <td>1</td>\n",
       "      <td>0</td>\n",
       "      <td>2</td>\n",
       "      <td>0</td>\n",
       "      <td>0</td>\n",
       "    </tr>\n",
       "  </tbody>\n",
       "</table>\n",
       "</div>"
      ],
      "text/plain": [
       "               isbn  LOC  GR  OL  BX  AZ14\n",
       "isbn_id                                   \n",
       "1        0836932722    2   0   3   0     0\n",
       "2        0965406334    1   0   1   0     0\n",
       "3        0780363175    1   0   2   0     0\n",
       "4        0780363590    1   0   2   0     0\n",
       "5        0780363604    1   0   2   0     0"
      ]
     },
     "execution_count": 13,
     "metadata": {},
     "output_type": "execute_result"
    }
   ],
   "source": [
    "isbns = pd.read_parquet('book-links/all-isbns.parquet').set_index('isbn_id')\n",
    "isbns.head()"
   ]
  },
  {
   "cell_type": "code",
   "execution_count": 14,
   "id": "94f2d7fa",
   "metadata": {
    "execution": {
     "iopub.execute_input": "2022-05-12T00:23:28.499721Z",
     "iopub.status.busy": "2022-05-12T00:23:28.499221Z",
     "iopub.status.idle": "2022-05-12T00:23:29.029212Z",
     "shell.execute_reply": "2022-05-12T00:23:29.028314Z"
    }
   },
   "outputs": [
    {
     "data": {
      "text/html": [
       "<div>\n",
       "<style scoped>\n",
       "    .dataframe tbody tr th:only-of-type {\n",
       "        vertical-align: middle;\n",
       "    }\n",
       "\n",
       "    .dataframe tbody tr th {\n",
       "        vertical-align: top;\n",
       "    }\n",
       "\n",
       "    .dataframe thead th {\n",
       "        text-align: right;\n",
       "    }\n",
       "</style>\n",
       "<table border=\"1\" class=\"dataframe\">\n",
       "  <thead>\n",
       "    <tr style=\"text-align: right;\">\n",
       "      <th></th>\n",
       "      <th>isbn_id</th>\n",
       "      <th>cluster</th>\n",
       "    </tr>\n",
       "  </thead>\n",
       "  <tbody>\n",
       "    <tr>\n",
       "      <th>0</th>\n",
       "      <td>32715079</td>\n",
       "      <td>932715079</td>\n",
       "    </tr>\n",
       "    <tr>\n",
       "      <th>1</th>\n",
       "      <td>32715078</td>\n",
       "      <td>932715078</td>\n",
       "    </tr>\n",
       "    <tr>\n",
       "      <th>2</th>\n",
       "      <td>32715077</td>\n",
       "      <td>932715077</td>\n",
       "    </tr>\n",
       "    <tr>\n",
       "      <th>3</th>\n",
       "      <td>32715076</td>\n",
       "      <td>932715076</td>\n",
       "    </tr>\n",
       "    <tr>\n",
       "      <th>4</th>\n",
       "      <td>32715075</td>\n",
       "      <td>932715075</td>\n",
       "    </tr>\n",
       "  </tbody>\n",
       "</table>\n",
       "</div>"
      ],
      "text/plain": [
       "    isbn_id    cluster\n",
       "0  32715079  932715079\n",
       "1  32715078  932715078\n",
       "2  32715077  932715077\n",
       "3  32715076  932715076\n",
       "4  32715075  932715075"
      ]
     },
     "execution_count": 14,
     "metadata": {},
     "output_type": "execute_result"
    }
   ],
   "source": [
    "links = pd.read_parquet('book-links/isbn-clusters.parquet', columns=['isbn_id', 'cluster'])\n",
    "links.head()"
   ]
  },
  {
   "cell_type": "code",
   "execution_count": 15,
   "id": "d0e4ce14",
   "metadata": {
    "execution": {
     "iopub.execute_input": "2022-05-12T00:23:29.033187Z",
     "iopub.status.busy": "2022-05-12T00:23:29.032918Z",
     "iopub.status.idle": "2022-05-12T00:23:40.249948Z",
     "shell.execute_reply": "2022-05-12T00:23:40.248896Z"
    }
   },
   "outputs": [
    {
     "data": {
      "text/html": [
       "<div>\n",
       "<style scoped>\n",
       "    .dataframe tbody tr th:only-of-type {\n",
       "        vertical-align: middle;\n",
       "    }\n",
       "\n",
       "    .dataframe tbody tr th {\n",
       "        vertical-align: top;\n",
       "    }\n",
       "\n",
       "    .dataframe thead th {\n",
       "        text-align: right;\n",
       "    }\n",
       "</style>\n",
       "<table border=\"1\" class=\"dataframe\">\n",
       "  <thead>\n",
       "    <tr style=\"text-align: right;\">\n",
       "      <th></th>\n",
       "      <th>isbn_id</th>\n",
       "      <th>isbn</th>\n",
       "      <th>LOC</th>\n",
       "      <th>GR</th>\n",
       "      <th>OL</th>\n",
       "      <th>BX</th>\n",
       "      <th>AZ14</th>\n",
       "    </tr>\n",
       "  </thead>\n",
       "  <tbody>\n",
       "    <tr>\n",
       "      <th>32682167</th>\n",
       "      <td>18776255</td>\n",
       "      <td>0001004735</td>\n",
       "      <td>0</td>\n",
       "      <td>0</td>\n",
       "      <td>1</td>\n",
       "      <td>0</td>\n",
       "      <td>0</td>\n",
       "    </tr>\n",
       "    <tr>\n",
       "      <th>32689491</th>\n",
       "      <td>14801858</td>\n",
       "      <td>0001848259</td>\n",
       "      <td>0</td>\n",
       "      <td>0</td>\n",
       "      <td>1</td>\n",
       "      <td>0</td>\n",
       "      <td>0</td>\n",
       "    </tr>\n",
       "    <tr>\n",
       "      <th>32687960</th>\n",
       "      <td>14658699</td>\n",
       "      <td>0001849123</td>\n",
       "      <td>0</td>\n",
       "      <td>0</td>\n",
       "      <td>1</td>\n",
       "      <td>0</td>\n",
       "      <td>0</td>\n",
       "    </tr>\n",
       "    <tr>\n",
       "      <th>32690625</th>\n",
       "      <td>17998580</td>\n",
       "      <td>0001956795</td>\n",
       "      <td>0</td>\n",
       "      <td>0</td>\n",
       "      <td>1</td>\n",
       "      <td>0</td>\n",
       "      <td>0</td>\n",
       "    </tr>\n",
       "    <tr>\n",
       "      <th>32679284</th>\n",
       "      <td>11209379</td>\n",
       "      <td>0003302245</td>\n",
       "      <td>0</td>\n",
       "      <td>0</td>\n",
       "      <td>1</td>\n",
       "      <td>0</td>\n",
       "      <td>0</td>\n",
       "    </tr>\n",
       "    <tr>\n",
       "      <th>...</th>\n",
       "      <td>...</td>\n",
       "      <td>...</td>\n",
       "      <td>...</td>\n",
       "      <td>...</td>\n",
       "      <td>...</td>\n",
       "      <td>...</td>\n",
       "      <td>...</td>\n",
       "    </tr>\n",
       "    <tr>\n",
       "      <th>32680857</th>\n",
       "      <td>16216287</td>\n",
       "      <td>9998392802</td>\n",
       "      <td>0</td>\n",
       "      <td>0</td>\n",
       "      <td>1</td>\n",
       "      <td>0</td>\n",
       "      <td>0</td>\n",
       "    </tr>\n",
       "    <tr>\n",
       "      <th>32679923</th>\n",
       "      <td>29068235</td>\n",
       "      <td>9998556643</td>\n",
       "      <td>0</td>\n",
       "      <td>0</td>\n",
       "      <td>1</td>\n",
       "      <td>0</td>\n",
       "      <td>0</td>\n",
       "    </tr>\n",
       "    <tr>\n",
       "      <th>32686428</th>\n",
       "      <td>12289218</td>\n",
       "      <td>9998651174</td>\n",
       "      <td>0</td>\n",
       "      <td>0</td>\n",
       "      <td>1</td>\n",
       "      <td>0</td>\n",
       "      <td>0</td>\n",
       "    </tr>\n",
       "    <tr>\n",
       "      <th>32690803</th>\n",
       "      <td>24146508</td>\n",
       "      <td>9998708710</td>\n",
       "      <td>0</td>\n",
       "      <td>0</td>\n",
       "      <td>1</td>\n",
       "      <td>0</td>\n",
       "      <td>0</td>\n",
       "    </tr>\n",
       "    <tr>\n",
       "      <th>32683627</th>\n",
       "      <td>22544496</td>\n",
       "      <td>9998884985</td>\n",
       "      <td>0</td>\n",
       "      <td>0</td>\n",
       "      <td>1</td>\n",
       "      <td>0</td>\n",
       "      <td>0</td>\n",
       "    </tr>\n",
       "  </tbody>\n",
       "</table>\n",
       "<p>13988 rows × 7 columns</p>\n",
       "</div>"
      ],
      "text/plain": [
       "           isbn_id        isbn  LOC  GR  OL  BX  AZ14\n",
       "32682167  18776255  0001004735    0   0   1   0     0\n",
       "32689491  14801858  0001848259    0   0   1   0     0\n",
       "32687960  14658699  0001849123    0   0   1   0     0\n",
       "32690625  17998580  0001956795    0   0   1   0     0\n",
       "32679284  11209379  0003302245    0   0   1   0     0\n",
       "...            ...         ...  ...  ..  ..  ..   ...\n",
       "32680857  16216287  9998392802    0   0   1   0     0\n",
       "32679923  29068235  9998556643    0   0   1   0     0\n",
       "32686428  12289218  9998651174    0   0   1   0     0\n",
       "32690803  24146508  9998708710    0   0   1   0     0\n",
       "32683627  22544496  9998884985    0   0   1   0     0\n",
       "\n",
       "[13988 rows x 7 columns]"
      ]
     },
     "execution_count": 15,
     "metadata": {},
     "output_type": "execute_result"
    }
   ],
   "source": [
    "big_id = big.index[0]\n",
    "bl = links[links['cluster'] == big_id].drop(columns=['cluster'])\n",
    "bl = bl.join(isbns, on='isbn_id')\n",
    "bl.sort_values('isbn')"
   ]
  },
  {
   "cell_type": "markdown",
   "id": "1f9bd0be",
   "metadata": {},
   "source": [
    "What are the things with the highest record count (besides ratings)?"
   ]
  },
  {
   "cell_type": "code",
   "execution_count": 16,
   "id": "84c7f259",
   "metadata": {
    "execution": {
     "iopub.execute_input": "2022-05-12T00:23:40.256501Z",
     "iopub.status.busy": "2022-05-12T00:23:40.256203Z",
     "iopub.status.idle": "2022-05-12T00:23:40.280524Z",
     "shell.execute_reply": "2022-05-12T00:23:40.279756Z"
    }
   },
   "outputs": [
    {
     "data": {
      "text/html": [
       "<div>\n",
       "<style scoped>\n",
       "    .dataframe tbody tr th:only-of-type {\n",
       "        vertical-align: middle;\n",
       "    }\n",
       "\n",
       "    .dataframe tbody tr th {\n",
       "        vertical-align: top;\n",
       "    }\n",
       "\n",
       "    .dataframe thead th {\n",
       "        text-align: right;\n",
       "    }\n",
       "</style>\n",
       "<table border=\"1\" class=\"dataframe\">\n",
       "  <thead>\n",
       "    <tr style=\"text-align: right;\">\n",
       "      <th></th>\n",
       "      <th>isbn_id</th>\n",
       "      <th>isbn</th>\n",
       "      <th>LOC</th>\n",
       "      <th>GR</th>\n",
       "      <th>OL</th>\n",
       "      <th>BX</th>\n",
       "      <th>AZ14</th>\n",
       "      <th>btot</th>\n",
       "    </tr>\n",
       "  </thead>\n",
       "  <tbody>\n",
       "    <tr>\n",
       "      <th>32680098</th>\n",
       "      <td>7878449</td>\n",
       "      <td>1559029838</td>\n",
       "      <td>0</td>\n",
       "      <td>1</td>\n",
       "      <td>14</td>\n",
       "      <td>180</td>\n",
       "      <td>0</td>\n",
       "      <td>15</td>\n",
       "    </tr>\n",
       "    <tr>\n",
       "      <th>32680099</th>\n",
       "      <td>10447012</td>\n",
       "      <td>9781559029834</td>\n",
       "      <td>0</td>\n",
       "      <td>0</td>\n",
       "      <td>11</td>\n",
       "      <td>0</td>\n",
       "      <td>0</td>\n",
       "      <td>11</td>\n",
       "    </tr>\n",
       "    <tr>\n",
       "      <th>32679663</th>\n",
       "      <td>871160</td>\n",
       "      <td>0394848284</td>\n",
       "      <td>3</td>\n",
       "      <td>0</td>\n",
       "      <td>7</td>\n",
       "      <td>2</td>\n",
       "      <td>4</td>\n",
       "      <td>10</td>\n",
       "    </tr>\n",
       "    <tr>\n",
       "      <th>32678105</th>\n",
       "      <td>4145077</td>\n",
       "      <td>9781402726019</td>\n",
       "      <td>3</td>\n",
       "      <td>1</td>\n",
       "      <td>4</td>\n",
       "      <td>0</td>\n",
       "      <td>0</td>\n",
       "      <td>8</td>\n",
       "    </tr>\n",
       "    <tr>\n",
       "      <th>32680069</th>\n",
       "      <td>4828587</td>\n",
       "      <td>9780192727992</td>\n",
       "      <td>1</td>\n",
       "      <td>1</td>\n",
       "      <td>6</td>\n",
       "      <td>0</td>\n",
       "      <td>0</td>\n",
       "      <td>8</td>\n",
       "    </tr>\n",
       "    <tr>\n",
       "      <th>32680321</th>\n",
       "      <td>7512124</td>\n",
       "      <td>1577595394</td>\n",
       "      <td>0</td>\n",
       "      <td>1</td>\n",
       "      <td>7</td>\n",
       "      <td>0</td>\n",
       "      <td>0</td>\n",
       "      <td>8</td>\n",
       "    </tr>\n",
       "    <tr>\n",
       "      <th>32684030</th>\n",
       "      <td>1395236</td>\n",
       "      <td>0716631970</td>\n",
       "      <td>4</td>\n",
       "      <td>0</td>\n",
       "      <td>4</td>\n",
       "      <td>0</td>\n",
       "      <td>0</td>\n",
       "      <td>8</td>\n",
       "    </tr>\n",
       "    <tr>\n",
       "      <th>32678101</th>\n",
       "      <td>4145078</td>\n",
       "      <td>1402726015</td>\n",
       "      <td>2</td>\n",
       "      <td>1</td>\n",
       "      <td>4</td>\n",
       "      <td>0</td>\n",
       "      <td>31</td>\n",
       "      <td>7</td>\n",
       "    </tr>\n",
       "    <tr>\n",
       "      <th>32680322</th>\n",
       "      <td>8661227</td>\n",
       "      <td>9781577595397</td>\n",
       "      <td>0</td>\n",
       "      <td>1</td>\n",
       "      <td>6</td>\n",
       "      <td>0</td>\n",
       "      <td>0</td>\n",
       "      <td>7</td>\n",
       "    </tr>\n",
       "    <tr>\n",
       "      <th>32683532</th>\n",
       "      <td>5108168</td>\n",
       "      <td>9780674035751</td>\n",
       "      <td>1</td>\n",
       "      <td>0</td>\n",
       "      <td>6</td>\n",
       "      <td>0</td>\n",
       "      <td>0</td>\n",
       "      <td>7</td>\n",
       "    </tr>\n",
       "    <tr>\n",
       "      <th>32677244</th>\n",
       "      <td>3547617</td>\n",
       "      <td>0393976149</td>\n",
       "      <td>2</td>\n",
       "      <td>1</td>\n",
       "      <td>3</td>\n",
       "      <td>0</td>\n",
       "      <td>4</td>\n",
       "      <td>6</td>\n",
       "    </tr>\n",
       "    <tr>\n",
       "      <th>32679625</th>\n",
       "      <td>5306988</td>\n",
       "      <td>9780194237499</td>\n",
       "      <td>1</td>\n",
       "      <td>1</td>\n",
       "      <td>4</td>\n",
       "      <td>0</td>\n",
       "      <td>0</td>\n",
       "      <td>6</td>\n",
       "    </tr>\n",
       "    <tr>\n",
       "      <th>32679626</th>\n",
       "      <td>5306989</td>\n",
       "      <td>0194237494</td>\n",
       "      <td>1</td>\n",
       "      <td>1</td>\n",
       "      <td>4</td>\n",
       "      <td>0</td>\n",
       "      <td>0</td>\n",
       "      <td>6</td>\n",
       "    </tr>\n",
       "    <tr>\n",
       "      <th>32679813</th>\n",
       "      <td>4482562</td>\n",
       "      <td>9781402731525</td>\n",
       "      <td>1</td>\n",
       "      <td>1</td>\n",
       "      <td>4</td>\n",
       "      <td>0</td>\n",
       "      <td>0</td>\n",
       "      <td>6</td>\n",
       "    </tr>\n",
       "    <tr>\n",
       "      <th>32679814</th>\n",
       "      <td>4482563</td>\n",
       "      <td>1402731523</td>\n",
       "      <td>1</td>\n",
       "      <td>1</td>\n",
       "      <td>4</td>\n",
       "      <td>0</td>\n",
       "      <td>8</td>\n",
       "      <td>6</td>\n",
       "    </tr>\n",
       "    <tr>\n",
       "      <th>32681189</th>\n",
       "      <td>12384849</td>\n",
       "      <td>9653120255</td>\n",
       "      <td>0</td>\n",
       "      <td>0</td>\n",
       "      <td>6</td>\n",
       "      <td>0</td>\n",
       "      <td>0</td>\n",
       "      <td>6</td>\n",
       "    </tr>\n",
       "    <tr>\n",
       "      <th>32681348</th>\n",
       "      <td>1788697</td>\n",
       "      <td>0393958043</td>\n",
       "      <td>1</td>\n",
       "      <td>1</td>\n",
       "      <td>4</td>\n",
       "      <td>0</td>\n",
       "      <td>9</td>\n",
       "      <td>6</td>\n",
       "    </tr>\n",
       "    <tr>\n",
       "      <th>32685704</th>\n",
       "      <td>4175379</td>\n",
       "      <td>9780192719997</td>\n",
       "      <td>2</td>\n",
       "      <td>1</td>\n",
       "      <td>3</td>\n",
       "      <td>0</td>\n",
       "      <td>0</td>\n",
       "      <td>6</td>\n",
       "    </tr>\n",
       "    <tr>\n",
       "      <th>32678103</th>\n",
       "      <td>4145073</td>\n",
       "      <td>9781402736919</td>\n",
       "      <td>1</td>\n",
       "      <td>1</td>\n",
       "      <td>3</td>\n",
       "      <td>0</td>\n",
       "      <td>0</td>\n",
       "      <td>5</td>\n",
       "    </tr>\n",
       "    <tr>\n",
       "      <th>32678104</th>\n",
       "      <td>4145074</td>\n",
       "      <td>1402736916</td>\n",
       "      <td>1</td>\n",
       "      <td>1</td>\n",
       "      <td>3</td>\n",
       "      <td>0</td>\n",
       "      <td>3</td>\n",
       "      <td>5</td>\n",
       "    </tr>\n",
       "  </tbody>\n",
       "</table>\n",
       "</div>"
      ],
      "text/plain": [
       "           isbn_id           isbn  LOC  GR  OL   BX  AZ14  btot\n",
       "32680098   7878449     1559029838    0   1  14  180     0    15\n",
       "32680099  10447012  9781559029834    0   0  11    0     0    11\n",
       "32679663    871160     0394848284    3   0   7    2     4    10\n",
       "32678105   4145077  9781402726019    3   1   4    0     0     8\n",
       "32680069   4828587  9780192727992    1   1   6    0     0     8\n",
       "32680321   7512124     1577595394    0   1   7    0     0     8\n",
       "32684030   1395236     0716631970    4   0   4    0     0     8\n",
       "32678101   4145078     1402726015    2   1   4    0    31     7\n",
       "32680322   8661227  9781577595397    0   1   6    0     0     7\n",
       "32683532   5108168  9780674035751    1   0   6    0     0     7\n",
       "32677244   3547617     0393976149    2   1   3    0     4     6\n",
       "32679625   5306988  9780194237499    1   1   4    0     0     6\n",
       "32679626   5306989     0194237494    1   1   4    0     0     6\n",
       "32679813   4482562  9781402731525    1   1   4    0     0     6\n",
       "32679814   4482563     1402731523    1   1   4    0     8     6\n",
       "32681189  12384849     9653120255    0   0   6    0     0     6\n",
       "32681348   1788697     0393958043    1   1   4    0     9     6\n",
       "32685704   4175379  9780192719997    2   1   3    0     0     6\n",
       "32678103   4145073  9781402736919    1   1   3    0     0     5\n",
       "32678104   4145074     1402736916    1   1   3    0     3     5"
      ]
     },
     "execution_count": 16,
     "metadata": {},
     "output_type": "execute_result"
    }
   ],
   "source": [
    "bl['btot'] = bl.iloc[:, 2:-2].sum(axis=1)\n",
    "bl.nlargest(20, 'btot')"
   ]
  },
  {
   "cell_type": "code",
   "execution_count": null,
   "id": "97673a8d",
   "metadata": {},
   "outputs": [],
   "source": []
  }
 ],
 "metadata": {
  "jupytext": {
   "formats": "ipynb,py:percent"
  },
  "kernelspec": {
   "display_name": "Python 3 (ipykernel)",
   "language": "python",
   "name": "python3"
  },
  "language_info": {
   "codemirror_mode": {
    "name": "ipython",
    "version": 3
   },
   "file_extension": ".py",
   "mimetype": "text/x-python",
   "name": "python",
   "nbconvert_exporter": "python",
   "pygments_lexer": "ipython3",
   "version": "3.8.12"
  }
 },
 "nbformat": 4,
 "nbformat_minor": 5
}
