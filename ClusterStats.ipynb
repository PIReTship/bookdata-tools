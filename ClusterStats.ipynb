{
 "cells": [
  {
   "cell_type": "markdown",
   "id": "62efe63b",
   "metadata": {},
   "source": [
    "# Book Clustering Statistics\n",
    "\n",
    "This notebook provides statistics on the results of our book clustering."
   ]
  },
  {
   "cell_type": "markdown",
   "id": "da509fa6",
   "metadata": {},
   "source": [
    "## Setup"
   ]
  },
  {
   "cell_type": "code",
   "execution_count": 1,
   "id": "c2406b7d",
   "metadata": {
    "execution": {
     "iopub.execute_input": "2021-12-15T22:18:12.911445Z",
     "iopub.status.busy": "2021-12-15T22:18:12.910402Z",
     "iopub.status.idle": "2021-12-15T22:18:14.176353Z",
     "shell.execute_reply": "2021-12-15T22:18:14.175353Z"
    }
   },
   "outputs": [],
   "source": [
    "import pandas as pd\n",
    "import matplotlib.pyplot as plt\n",
    "import numpy as np"
   ]
  },
  {
   "cell_type": "markdown",
   "id": "5aaf6109",
   "metadata": {},
   "source": [
    "## Load Data\n",
    "\n",
    "Let's start by getting our clusters and their statistics:"
   ]
  },
  {
   "cell_type": "code",
   "execution_count": 2,
   "id": "8606732b",
   "metadata": {
    "execution": {
     "iopub.execute_input": "2021-12-15T22:18:14.179352Z",
     "iopub.status.busy": "2021-12-15T22:18:14.178352Z",
     "iopub.status.idle": "2021-12-15T22:18:15.193632Z",
     "shell.execute_reply": "2021-12-15T22:18:15.194633Z"
    }
   },
   "outputs": [
    {
     "name": "stdout",
     "output_type": "stream",
     "text": [
      "<class 'pandas.core.frame.DataFrame'>\n",
      "RangeIndex: 27925691 entries, 0 to 27925690\n",
      "Data columns (total 8 columns):\n",
      " #   Column         Dtype \n",
      "---  ------         ----- \n",
      " 0   cluster        int32 \n",
      " 1   n_nodes        uint32\n",
      " 2   n_isbns        uint32\n",
      " 3   n_loc_recs     uint32\n",
      " 4   n_ol_editions  uint32\n",
      " 5   n_ol_works     uint32\n",
      " 6   n_gr_books     uint32\n",
      " 7   n_gr_works     uint32\n",
      "dtypes: int32(1), uint32(7)\n",
      "memory usage: 852.2 MB\n"
     ]
    }
   ],
   "source": [
    "clusters = pd.read_parquet('book-links/cluster-stats.parquet')\n",
    "clusters.info()"
   ]
  },
  {
   "cell_type": "code",
   "execution_count": 3,
   "id": "0864c7a8",
   "metadata": {
    "execution": {
     "iopub.execute_input": "2021-12-15T22:18:15.198632Z",
     "iopub.status.busy": "2021-12-15T22:18:15.198632Z",
     "iopub.status.idle": "2021-12-15T22:18:15.303763Z",
     "shell.execute_reply": "2021-12-15T22:18:15.302733Z"
    }
   },
   "outputs": [],
   "source": [
    "clusters.set_index('cluster', inplace=True)"
   ]
  },
  {
   "cell_type": "markdown",
   "id": "ad12ddd0",
   "metadata": {},
   "source": [
    "Describe the count columns for basic descriptive stats:"
   ]
  },
  {
   "cell_type": "code",
   "execution_count": 4,
   "id": "e04640eb",
   "metadata": {
    "execution": {
     "iopub.execute_input": "2021-12-15T22:18:15.309732Z",
     "iopub.status.busy": "2021-12-15T22:18:15.309732Z",
     "iopub.status.idle": "2021-12-15T22:18:20.506119Z",
     "shell.execute_reply": "2021-12-15T22:18:20.507119Z"
    }
   },
   "outputs": [
    {
     "data": {
      "text/html": [
       "<div>\n",
       "<style scoped>\n",
       "    .dataframe tbody tr th:only-of-type {\n",
       "        vertical-align: middle;\n",
       "    }\n",
       "\n",
       "    .dataframe tbody tr th {\n",
       "        vertical-align: top;\n",
       "    }\n",
       "\n",
       "    .dataframe thead th {\n",
       "        text-align: right;\n",
       "    }\n",
       "</style>\n",
       "<table border=\"1\" class=\"dataframe\">\n",
       "  <thead>\n",
       "    <tr style=\"text-align: right;\">\n",
       "      <th></th>\n",
       "      <th>n_nodes</th>\n",
       "      <th>n_isbns</th>\n",
       "      <th>n_loc_recs</th>\n",
       "      <th>n_ol_editions</th>\n",
       "      <th>n_ol_works</th>\n",
       "      <th>n_gr_books</th>\n",
       "      <th>n_gr_works</th>\n",
       "    </tr>\n",
       "  </thead>\n",
       "  <tbody>\n",
       "    <tr>\n",
       "      <th>count</th>\n",
       "      <td>2.792569e+07</td>\n",
       "      <td>2.792569e+07</td>\n",
       "      <td>2.792569e+07</td>\n",
       "      <td>2.792569e+07</td>\n",
       "      <td>2.792569e+07</td>\n",
       "      <td>2.792569e+07</td>\n",
       "      <td>2.792569e+07</td>\n",
       "    </tr>\n",
       "    <tr>\n",
       "      <th>mean</th>\n",
       "      <td>2.994550e+00</td>\n",
       "      <td>8.774559e-01</td>\n",
       "      <td>3.462970e-01</td>\n",
       "      <td>9.547825e-01</td>\n",
       "      <td>6.769805e-01</td>\n",
       "      <td>8.453345e-02</td>\n",
       "      <td>5.450042e-02</td>\n",
       "    </tr>\n",
       "    <tr>\n",
       "      <th>std</th>\n",
       "      <td>7.375757e+00</td>\n",
       "      <td>3.660644e+00</td>\n",
       "      <td>5.648575e-01</td>\n",
       "      <td>2.670434e+00</td>\n",
       "      <td>7.561602e-01</td>\n",
       "      <td>1.120087e+00</td>\n",
       "      <td>2.350896e-01</td>\n",
       "    </tr>\n",
       "    <tr>\n",
       "      <th>min</th>\n",
       "      <td>1.000000e+00</td>\n",
       "      <td>0.000000e+00</td>\n",
       "      <td>0.000000e+00</td>\n",
       "      <td>0.000000e+00</td>\n",
       "      <td>0.000000e+00</td>\n",
       "      <td>0.000000e+00</td>\n",
       "      <td>0.000000e+00</td>\n",
       "    </tr>\n",
       "    <tr>\n",
       "      <th>25%</th>\n",
       "      <td>1.000000e+00</td>\n",
       "      <td>0.000000e+00</td>\n",
       "      <td>0.000000e+00</td>\n",
       "      <td>0.000000e+00</td>\n",
       "      <td>0.000000e+00</td>\n",
       "      <td>0.000000e+00</td>\n",
       "      <td>0.000000e+00</td>\n",
       "    </tr>\n",
       "    <tr>\n",
       "      <th>50%</th>\n",
       "      <td>2.000000e+00</td>\n",
       "      <td>0.000000e+00</td>\n",
       "      <td>0.000000e+00</td>\n",
       "      <td>1.000000e+00</td>\n",
       "      <td>1.000000e+00</td>\n",
       "      <td>0.000000e+00</td>\n",
       "      <td>0.000000e+00</td>\n",
       "    </tr>\n",
       "    <tr>\n",
       "      <th>75%</th>\n",
       "      <td>4.000000e+00</td>\n",
       "      <td>2.000000e+00</td>\n",
       "      <td>1.000000e+00</td>\n",
       "      <td>1.000000e+00</td>\n",
       "      <td>1.000000e+00</td>\n",
       "      <td>0.000000e+00</td>\n",
       "      <td>0.000000e+00</td>\n",
       "    </tr>\n",
       "    <tr>\n",
       "      <th>max</th>\n",
       "      <td>1.734900e+04</td>\n",
       "      <td>7.976000e+03</td>\n",
       "      <td>6.120000e+02</td>\n",
       "      <td>5.096000e+03</td>\n",
       "      <td>2.368000e+03</td>\n",
       "      <td>3.118000e+03</td>\n",
       "      <td>8.800000e+01</td>\n",
       "    </tr>\n",
       "  </tbody>\n",
       "</table>\n",
       "</div>"
      ],
      "text/plain": [
       "            n_nodes       n_isbns    n_loc_recs  n_ol_editions    n_ol_works  \\\n",
       "count  2.792569e+07  2.792569e+07  2.792569e+07   2.792569e+07  2.792569e+07   \n",
       "mean   2.994550e+00  8.774559e-01  3.462970e-01   9.547825e-01  6.769805e-01   \n",
       "std    7.375757e+00  3.660644e+00  5.648575e-01   2.670434e+00  7.561602e-01   \n",
       "min    1.000000e+00  0.000000e+00  0.000000e+00   0.000000e+00  0.000000e+00   \n",
       "25%    1.000000e+00  0.000000e+00  0.000000e+00   0.000000e+00  0.000000e+00   \n",
       "50%    2.000000e+00  0.000000e+00  0.000000e+00   1.000000e+00  1.000000e+00   \n",
       "75%    4.000000e+00  2.000000e+00  1.000000e+00   1.000000e+00  1.000000e+00   \n",
       "max    1.734900e+04  7.976000e+03  6.120000e+02   5.096000e+03  2.368000e+03   \n",
       "\n",
       "         n_gr_books    n_gr_works  \n",
       "count  2.792569e+07  2.792569e+07  \n",
       "mean   8.453345e-02  5.450042e-02  \n",
       "std    1.120087e+00  2.350896e-01  \n",
       "min    0.000000e+00  0.000000e+00  \n",
       "25%    0.000000e+00  0.000000e+00  \n",
       "50%    0.000000e+00  0.000000e+00  \n",
       "75%    0.000000e+00  0.000000e+00  \n",
       "max    3.118000e+03  8.800000e+01  "
      ]
     },
     "execution_count": 4,
     "metadata": {},
     "output_type": "execute_result"
    }
   ],
   "source": [
    "clusters.describe()"
   ]
  },
  {
   "cell_type": "markdown",
   "id": "078b2b17",
   "metadata": {},
   "source": [
    "75% of clusters only contain 2 ISBNs (probably -10 and -13) and one book. OpenLibrary also contributes to the largest number of clusters."
   ]
  },
  {
   "cell_type": "markdown",
   "id": "012e6b2f",
   "metadata": {},
   "source": [
    "## Clusters per Source\n",
    "\n",
    "How many clusters are connected to each source?"
   ]
  },
  {
   "cell_type": "code",
   "execution_count": 5,
   "id": "390a912d",
   "metadata": {
    "execution": {
     "iopub.execute_input": "2021-12-15T22:18:20.511119Z",
     "iopub.status.busy": "2021-12-15T22:18:20.511119Z",
     "iopub.status.idle": "2021-12-15T22:18:20.892470Z",
     "shell.execute_reply": "2021-12-15T22:18:20.891454Z"
    }
   },
   "outputs": [
    {
     "data": {
      "text/plain": [
       "n_nodes          27925691\n",
       "n_isbns          13201869\n",
       "n_loc_recs        9314956\n",
       "n_ol_editions    20525956\n",
       "n_ol_works       17723553\n",
       "n_gr_books        1509661\n",
       "n_gr_works        1509137\n",
       "dtype: int64"
      ]
     },
     "execution_count": 5,
     "metadata": {},
     "output_type": "execute_result"
    }
   ],
   "source": [
    "src_counts = pd.Series(dict(\n",
    "    (c, np.sum(clusters[c] > 0)) for c in clusters.columns\n",
    "))\n",
    "src_counts"
   ]
  },
  {
   "cell_type": "code",
   "execution_count": 6,
   "id": "450540c1",
   "metadata": {
    "execution": {
     "iopub.execute_input": "2021-12-15T22:18:20.895466Z",
     "iopub.status.busy": "2021-12-15T22:18:20.895466Z",
     "iopub.status.idle": "2021-12-15T22:18:21.077871Z",
     "shell.execute_reply": "2021-12-15T22:18:21.076890Z"
    }
   },
   "outputs": [
    {
     "data": {
      "image/png": "[encoded data removed]",
      "text/plain": [
       "<Figure size 432x288 with 1 Axes>"
      ]
     },
     "metadata": {
      "needs_background": "light"
     },
     "output_type": "display_data"
    }
   ],
   "source": [
    "src_counts.plot.barh()\n",
    "plt.xlabel('# of Clusters')\n",
    "plt.show()"
   ]
  },
  {
   "cell_type": "markdown",
   "id": "a8fc3e96",
   "metadata": {},
   "source": [
    "## Distributions\n",
    "\n",
    "Let's look at the distributions of cluster sizes."
   ]
  },
  {
   "cell_type": "code",
   "execution_count": 7,
   "id": "7afebd44",
   "metadata": {
    "execution": {
     "iopub.execute_input": "2021-12-15T22:18:21.239872Z",
     "iopub.status.busy": "2021-12-15T22:18:21.239872Z",
     "iopub.status.idle": "2021-12-15T22:18:21.959789Z",
     "shell.execute_reply": "2021-12-15T22:18:21.959789Z"
    }
   },
   "outputs": [
    {
     "data": {
      "text/html": [
       "<div>\n",
       "<style scoped>\n",
       "    .dataframe tbody tr th:only-of-type {\n",
       "        vertical-align: middle;\n",
       "    }\n",
       "\n",
       "    .dataframe tbody tr th {\n",
       "        vertical-align: top;\n",
       "    }\n",
       "\n",
       "    .dataframe thead th {\n",
       "        text-align: right;\n",
       "    }\n",
       "</style>\n",
       "<table border=\"1\" class=\"dataframe\">\n",
       "  <thead>\n",
       "    <tr style=\"text-align: right;\">\n",
       "      <th></th>\n",
       "      <th>RecType</th>\n",
       "      <th>RecCount</th>\n",
       "      <th>Clusters</th>\n",
       "    </tr>\n",
       "  </thead>\n",
       "  <tbody>\n",
       "    <tr>\n",
       "      <th>0</th>\n",
       "      <td>n_isbns</td>\n",
       "      <td>0</td>\n",
       "      <td>14723822</td>\n",
       "    </tr>\n",
       "    <tr>\n",
       "      <th>1</th>\n",
       "      <td>n_isbns</td>\n",
       "      <td>2</td>\n",
       "      <td>6256782</td>\n",
       "    </tr>\n",
       "    <tr>\n",
       "      <th>2</th>\n",
       "      <td>n_isbns</td>\n",
       "      <td>1</td>\n",
       "      <td>5807972</td>\n",
       "    </tr>\n",
       "    <tr>\n",
       "      <th>3</th>\n",
       "      <td>n_isbns</td>\n",
       "      <td>4</td>\n",
       "      <td>551072</td>\n",
       "    </tr>\n",
       "    <tr>\n",
       "      <th>4</th>\n",
       "      <td>n_isbns</td>\n",
       "      <td>3</td>\n",
       "      <td>268793</td>\n",
       "    </tr>\n",
       "  </tbody>\n",
       "</table>\n",
       "</div>"
      ],
      "text/plain": [
       "   RecType  RecCount  Clusters\n",
       "0  n_isbns         0  14723822\n",
       "1  n_isbns         2   6256782\n",
       "2  n_isbns         1   5807972\n",
       "3  n_isbns         4    551072\n",
       "4  n_isbns         3    268793"
      ]
     },
     "execution_count": 7,
     "metadata": {},
     "output_type": "execute_result"
    }
   ],
   "source": [
    "size_dist = pd.concat(dict(\n",
    "    (c, clusters[c].value_counts()) for c in clusters.columns if c != 'n_nodes'\n",
    "), names=['RecType'])\n",
    "size_dist.index.set_names(['RecType', 'RecCount'], inplace=True)\n",
    "size_dist = size_dist.reset_index(name='Clusters')\n",
    "size_dist.head()"
   ]
  },
  {
   "cell_type": "code",
   "execution_count": 8,
   "id": "87a89699",
   "metadata": {
    "execution": {
     "iopub.execute_input": "2021-12-15T22:18:21.975758Z",
     "iopub.status.busy": "2021-12-15T22:18:21.975758Z",
     "iopub.status.idle": "2021-12-15T22:18:22.942299Z",
     "shell.execute_reply": "2021-12-15T22:18:22.941299Z"
    }
   },
   "outputs": [
    {
     "data": {
      "image/png": "[encoded data removed]",
      "text/plain": [
       "<Figure size 432x288 with 1 Axes>"
      ]
     },
     "metadata": {
      "needs_background": "light"
     },
     "output_type": "display_data"
    }
   ],
   "source": [
    "for rt, data in size_dist.groupby('RecType'):\n",
    "    plt.scatter(data['RecCount'], data['Clusters'], marker='1', label=rt)\n",
    "plt.legend()\n",
    "plt.xlabel('# of Records')\n",
    "plt.xscale('log')\n",
    "plt.ylabel('# of Clusters')\n",
    "plt.yscale('log')\n",
    "plt.show()"
   ]
  },
  {
   "cell_type": "markdown",
   "id": "10f76889",
   "metadata": {},
   "source": [
    "Looks mostly fine - we expect a lot of power laws - but the number of clusters with merged GoodReads works is concerning."
   ]
  },
  {
   "cell_type": "markdown",
   "id": "66a40efe",
   "metadata": {},
   "source": [
    "## GoodReads Work Merging\n",
    "\n",
    "Why are GoodReads works merging? Let's look at those."
   ]
  },
  {
   "cell_type": "code",
   "execution_count": 9,
   "id": "a6643ee3",
   "metadata": {
    "execution": {
     "iopub.execute_input": "2021-12-15T22:18:22.946332Z",
     "iopub.status.busy": "2021-12-15T22:18:22.945303Z",
     "iopub.status.idle": "2021-12-15T22:18:22.987514Z",
     "shell.execute_reply": "2021-12-15T22:18:22.987514Z"
    }
   },
   "outputs": [
    {
     "name": "stdout",
     "output_type": "stream",
     "text": [
      "<class 'pandas.core.frame.DataFrame'>\n",
      "Int64Index: 6694 entries, 100004141 to 105265159\n",
      "Data columns (total 7 columns):\n",
      " #   Column         Non-Null Count  Dtype \n",
      "---  ------         --------------  ----- \n",
      " 0   n_nodes        6694 non-null   uint32\n",
      " 1   n_isbns        6694 non-null   uint32\n",
      " 2   n_loc_recs     6694 non-null   uint32\n",
      " 3   n_ol_editions  6694 non-null   uint32\n",
      " 4   n_ol_works     6694 non-null   uint32\n",
      " 5   n_gr_books     6694 non-null   uint32\n",
      " 6   n_gr_works     6694 non-null   uint32\n",
      "dtypes: uint32(7)\n",
      "memory usage: 235.3 KB\n"
     ]
    }
   ],
   "source": [
    "gr_big = clusters[clusters['n_gr_works'] > 1].sort_values('n_gr_works', ascending=False)\n",
    "gr_big.info()"
   ]
  },
  {
   "cell_type": "markdown",
   "id": "f8375f0d",
   "metadata": {},
   "source": [
    "We have a lot of these clusters. What fraction of the GoodReads-affected clusters is this?"
   ]
  },
  {
   "cell_type": "code",
   "execution_count": 10,
   "id": "77fd0207",
   "metadata": {
    "execution": {
     "iopub.execute_input": "2021-12-15T22:18:22.991526Z",
     "iopub.status.busy": "2021-12-15T22:18:22.990503Z",
     "iopub.status.idle": "2021-12-15T22:18:23.036567Z",
     "shell.execute_reply": "2021-12-15T22:18:23.035492Z"
    }
   },
   "outputs": [
    {
     "data": {
      "text/plain": [
       "0.0002397075868239035"
      ]
     },
     "execution_count": 10,
     "metadata": {},
     "output_type": "execute_result"
    }
   ],
   "source": [
    "len(gr_big) / clusters['n_gr_books'].count()"
   ]
  },
  {
   "cell_type": "markdown",
   "id": "9ddaa9fe",
   "metadata": {},
   "source": [
    "Less than 1%. Not bad, but let's look."
   ]
  },
  {
   "cell_type": "code",
   "execution_count": 11,
   "id": "9ccd9466",
   "metadata": {
    "execution": {
     "iopub.execute_input": "2021-12-15T22:18:23.044492Z",
     "iopub.status.busy": "2021-12-15T22:18:23.044492Z",
     "iopub.status.idle": "2021-12-15T22:18:23.049495Z",
     "shell.execute_reply": "2021-12-15T22:18:23.050508Z"
    }
   },
   "outputs": [
    {
     "data": {
      "text/html": [
       "<div>\n",
       "<style scoped>\n",
       "    .dataframe tbody tr th:only-of-type {\n",
       "        vertical-align: middle;\n",
       "    }\n",
       "\n",
       "    .dataframe tbody tr th {\n",
       "        vertical-align: top;\n",
       "    }\n",
       "\n",
       "    .dataframe thead th {\n",
       "        text-align: right;\n",
       "    }\n",
       "</style>\n",
       "<table border=\"1\" class=\"dataframe\">\n",
       "  <thead>\n",
       "    <tr style=\"text-align: right;\">\n",
       "      <th></th>\n",
       "      <th>n_nodes</th>\n",
       "      <th>n_isbns</th>\n",
       "      <th>n_loc_recs</th>\n",
       "      <th>n_ol_editions</th>\n",
       "      <th>n_ol_works</th>\n",
       "      <th>n_gr_books</th>\n",
       "      <th>n_gr_works</th>\n",
       "    </tr>\n",
       "    <tr>\n",
       "      <th>cluster</th>\n",
       "      <th></th>\n",
       "      <th></th>\n",
       "      <th></th>\n",
       "      <th></th>\n",
       "      <th></th>\n",
       "      <th></th>\n",
       "      <th></th>\n",
       "    </tr>\n",
       "  </thead>\n",
       "  <tbody>\n",
       "    <tr>\n",
       "      <th>100004141</th>\n",
       "      <td>17349</td>\n",
       "      <td>7976</td>\n",
       "      <td>612</td>\n",
       "      <td>5066</td>\n",
       "      <td>489</td>\n",
       "      <td>3118</td>\n",
       "      <td>88</td>\n",
       "    </tr>\n",
       "    <tr>\n",
       "      <th>100066430</th>\n",
       "      <td>10906</td>\n",
       "      <td>3731</td>\n",
       "      <td>408</td>\n",
       "      <td>5096</td>\n",
       "      <td>329</td>\n",
       "      <td>1264</td>\n",
       "      <td>78</td>\n",
       "    </tr>\n",
       "    <tr>\n",
       "      <th>100307111</th>\n",
       "      <td>448</td>\n",
       "      <td>163</td>\n",
       "      <td>4</td>\n",
       "      <td>91</td>\n",
       "      <td>74</td>\n",
       "      <td>60</td>\n",
       "      <td>56</td>\n",
       "    </tr>\n",
       "    <tr>\n",
       "      <th>100162584</th>\n",
       "      <td>873</td>\n",
       "      <td>327</td>\n",
       "      <td>67</td>\n",
       "      <td>269</td>\n",
       "      <td>75</td>\n",
       "      <td>81</td>\n",
       "      <td>54</td>\n",
       "    </tr>\n",
       "    <tr>\n",
       "      <th>100092083</th>\n",
       "      <td>1113</td>\n",
       "      <td>424</td>\n",
       "      <td>61</td>\n",
       "      <td>231</td>\n",
       "      <td>145</td>\n",
       "      <td>200</td>\n",
       "      <td>52</td>\n",
       "    </tr>\n",
       "  </tbody>\n",
       "</table>\n",
       "</div>"
      ],
      "text/plain": [
       "           n_nodes  n_isbns  n_loc_recs  n_ol_editions  n_ol_works  \\\n",
       "cluster                                                              \n",
       "100004141    17349     7976         612           5066         489   \n",
       "100066430    10906     3731         408           5096         329   \n",
       "100307111      448      163           4             91          74   \n",
       "100162584      873      327          67            269          75   \n",
       "100092083     1113      424          61            231         145   \n",
       "\n",
       "           n_gr_books  n_gr_works  \n",
       "cluster                            \n",
       "100004141        3118          88  \n",
       "100066430        1264          78  \n",
       "100307111          60          56  \n",
       "100162584          81          54  \n",
       "100092083         200          52  "
      ]
     },
     "execution_count": 11,
     "metadata": {},
     "output_type": "execute_result"
    }
   ],
   "source": [
    "gr_big.head()"
   ]
  },
  {
   "cell_type": "markdown",
   "id": "91abb809",
   "metadata": {},
   "source": [
    "## Large Cluster Debugging\n",
    "\n",
    "We have some pretty big clusters:"
   ]
  },
  {
   "cell_type": "code",
   "execution_count": 12,
   "id": "f0a3630f",
   "metadata": {
    "execution": {
     "iopub.execute_input": "2021-12-15T22:18:23.053498Z",
     "iopub.status.busy": "2021-12-15T22:18:23.053498Z",
     "iopub.status.idle": "2021-12-15T22:18:23.502690Z",
     "shell.execute_reply": "2021-12-15T22:18:23.501635Z"
    }
   },
   "outputs": [
    {
     "data": {
      "text/html": [
       "<div>\n",
       "<style scoped>\n",
       "    .dataframe tbody tr th:only-of-type {\n",
       "        vertical-align: middle;\n",
       "    }\n",
       "\n",
       "    .dataframe tbody tr th {\n",
       "        vertical-align: top;\n",
       "    }\n",
       "\n",
       "    .dataframe thead th {\n",
       "        text-align: right;\n",
       "    }\n",
       "</style>\n",
       "<table border=\"1\" class=\"dataframe\">\n",
       "  <thead>\n",
       "    <tr style=\"text-align: right;\">\n",
       "      <th></th>\n",
       "      <th>n_nodes</th>\n",
       "      <th>n_isbns</th>\n",
       "      <th>n_loc_recs</th>\n",
       "      <th>n_ol_editions</th>\n",
       "      <th>n_ol_works</th>\n",
       "      <th>n_gr_books</th>\n",
       "      <th>n_gr_works</th>\n",
       "    </tr>\n",
       "    <tr>\n",
       "      <th>cluster</th>\n",
       "      <th></th>\n",
       "      <th></th>\n",
       "      <th></th>\n",
       "      <th></th>\n",
       "      <th></th>\n",
       "      <th></th>\n",
       "      <th></th>\n",
       "    </tr>\n",
       "  </thead>\n",
       "  <tbody>\n",
       "    <tr>\n",
       "      <th>100004141</th>\n",
       "      <td>17349</td>\n",
       "      <td>7976</td>\n",
       "      <td>612</td>\n",
       "      <td>5066</td>\n",
       "      <td>489</td>\n",
       "      <td>3118</td>\n",
       "      <td>88</td>\n",
       "    </tr>\n",
       "    <tr>\n",
       "      <th>105723403</th>\n",
       "      <td>11281</td>\n",
       "      <td>7520</td>\n",
       "      <td>0</td>\n",
       "      <td>3760</td>\n",
       "      <td>1</td>\n",
       "      <td>0</td>\n",
       "      <td>0</td>\n",
       "    </tr>\n",
       "    <tr>\n",
       "      <th>100066430</th>\n",
       "      <td>10906</td>\n",
       "      <td>3731</td>\n",
       "      <td>408</td>\n",
       "      <td>5096</td>\n",
       "      <td>329</td>\n",
       "      <td>1264</td>\n",
       "      <td>78</td>\n",
       "    </tr>\n",
       "    <tr>\n",
       "      <th>100379578</th>\n",
       "      <td>10132</td>\n",
       "      <td>6518</td>\n",
       "      <td>7</td>\n",
       "      <td>3572</td>\n",
       "      <td>35</td>\n",
       "      <td>0</td>\n",
       "      <td>0</td>\n",
       "    </tr>\n",
       "    <tr>\n",
       "      <th>100089994</th>\n",
       "      <td>7102</td>\n",
       "      <td>3540</td>\n",
       "      <td>162</td>\n",
       "      <td>1839</td>\n",
       "      <td>113</td>\n",
       "      <td>1421</td>\n",
       "      <td>27</td>\n",
       "    </tr>\n",
       "  </tbody>\n",
       "</table>\n",
       "</div>"
      ],
      "text/plain": [
       "           n_nodes  n_isbns  n_loc_recs  n_ol_editions  n_ol_works  \\\n",
       "cluster                                                              \n",
       "100004141    17349     7976         612           5066         489   \n",
       "105723403    11281     7520           0           3760           1   \n",
       "100066430    10906     3731         408           5096         329   \n",
       "100379578    10132     6518           7           3572          35   \n",
       "100089994     7102     3540         162           1839         113   \n",
       "\n",
       "           n_gr_books  n_gr_works  \n",
       "cluster                            \n",
       "100004141        3118          88  \n",
       "105723403           0           0  \n",
       "100066430        1264          78  \n",
       "100379578           0           0  \n",
       "100089994        1421          27  "
      ]
     },
     "execution_count": 12,
     "metadata": {},
     "output_type": "execute_result"
    }
   ],
   "source": [
    "big = clusters.nlargest(5, 'n_nodes')\n",
    "big"
   ]
  },
  {
   "cell_type": "markdown",
   "id": "eed774cb",
   "metadata": {},
   "source": [
    "What is up with this? We should figure out what went wrong, if we can.  What are its ISBNs?"
   ]
  },
  {
   "cell_type": "code",
   "execution_count": 13,
   "id": "d508074f",
   "metadata": {
    "execution": {
     "iopub.execute_input": "2021-12-15T22:18:23.506675Z",
     "iopub.status.busy": "2021-12-15T22:18:23.505643Z",
     "iopub.status.idle": "2021-12-15T22:18:35.970028Z",
     "shell.execute_reply": "2021-12-15T22:18:35.969056Z"
    }
   },
   "outputs": [
    {
     "data": {
      "text/html": [
       "<div>\n",
       "<style scoped>\n",
       "    .dataframe tbody tr th:only-of-type {\n",
       "        vertical-align: middle;\n",
       "    }\n",
       "\n",
       "    .dataframe tbody tr th {\n",
       "        vertical-align: top;\n",
       "    }\n",
       "\n",
       "    .dataframe thead th {\n",
       "        text-align: right;\n",
       "    }\n",
       "</style>\n",
       "<table border=\"1\" class=\"dataframe\">\n",
       "  <thead>\n",
       "    <tr style=\"text-align: right;\">\n",
       "      <th></th>\n",
       "      <th>isbn</th>\n",
       "      <th>OL</th>\n",
       "      <th>AZ14</th>\n",
       "      <th>GR</th>\n",
       "      <th>LOC</th>\n",
       "      <th>BX</th>\n",
       "    </tr>\n",
       "    <tr>\n",
       "      <th>isbn_id</th>\n",
       "      <th></th>\n",
       "      <th></th>\n",
       "      <th></th>\n",
       "      <th></th>\n",
       "      <th></th>\n",
       "      <th></th>\n",
       "    </tr>\n",
       "  </thead>\n",
       "  <tbody>\n",
       "    <tr>\n",
       "      <th>1</th>\n",
       "      <td>0107805405</td>\n",
       "      <td>2</td>\n",
       "      <td>0</td>\n",
       "      <td>0</td>\n",
       "      <td>0</td>\n",
       "      <td>0</td>\n",
       "    </tr>\n",
       "    <tr>\n",
       "      <th>2</th>\n",
       "      <td>9780107805401</td>\n",
       "      <td>1</td>\n",
       "      <td>0</td>\n",
       "      <td>0</td>\n",
       "      <td>0</td>\n",
       "      <td>0</td>\n",
       "    </tr>\n",
       "    <tr>\n",
       "      <th>3</th>\n",
       "      <td>0107805855</td>\n",
       "      <td>1</td>\n",
       "      <td>0</td>\n",
       "      <td>0</td>\n",
       "      <td>0</td>\n",
       "      <td>0</td>\n",
       "    </tr>\n",
       "    <tr>\n",
       "      <th>4</th>\n",
       "      <td>9780107805852</td>\n",
       "      <td>1</td>\n",
       "      <td>0</td>\n",
       "      <td>0</td>\n",
       "      <td>0</td>\n",
       "      <td>0</td>\n",
       "    </tr>\n",
       "    <tr>\n",
       "      <th>5</th>\n",
       "      <td>0108360377</td>\n",
       "      <td>1</td>\n",
       "      <td>0</td>\n",
       "      <td>0</td>\n",
       "      <td>0</td>\n",
       "      <td>0</td>\n",
       "    </tr>\n",
       "  </tbody>\n",
       "</table>\n",
       "</div>"
      ],
      "text/plain": [
       "                  isbn  OL  AZ14  GR  LOC  BX\n",
       "isbn_id                                      \n",
       "1           0107805405   2     0   0    0   0\n",
       "2        9780107805401   1     0   0    0   0\n",
       "3           0107805855   1     0   0    0   0\n",
       "4        9780107805852   1     0   0    0   0\n",
       "5           0108360377   1     0   0    0   0"
      ]
     },
     "execution_count": 13,
     "metadata": {},
     "output_type": "execute_result"
    }
   ],
   "source": [
    "isbns = pd.read_parquet('book-links/all-isbns.parquet').set_index('isbn_id')\n",
    "isbns.head()"
   ]
  },
  {
   "cell_type": "code",
   "execution_count": 14,
   "id": "d389464a",
   "metadata": {
    "execution": {
     "iopub.execute_input": "2021-12-15T22:18:35.973029Z",
     "iopub.status.busy": "2021-12-15T22:18:35.973029Z",
     "iopub.status.idle": "2021-12-15T22:18:36.979538Z",
     "shell.execute_reply": "2021-12-15T22:18:36.979538Z"
    }
   },
   "outputs": [
    {
     "data": {
      "text/html": [
       "<div>\n",
       "<style scoped>\n",
       "    .dataframe tbody tr th:only-of-type {\n",
       "        vertical-align: middle;\n",
       "    }\n",
       "\n",
       "    .dataframe tbody tr th {\n",
       "        vertical-align: top;\n",
       "    }\n",
       "\n",
       "    .dataframe thead th {\n",
       "        text-align: right;\n",
       "    }\n",
       "</style>\n",
       "<table border=\"1\" class=\"dataframe\">\n",
       "  <thead>\n",
       "    <tr style=\"text-align: right;\">\n",
       "      <th></th>\n",
       "      <th>isbn_id</th>\n",
       "      <th>cluster</th>\n",
       "    </tr>\n",
       "  </thead>\n",
       "  <tbody>\n",
       "    <tr>\n",
       "      <th>0</th>\n",
       "      <td>24502272</td>\n",
       "      <td>924502272</td>\n",
       "    </tr>\n",
       "    <tr>\n",
       "      <th>1</th>\n",
       "      <td>24502271</td>\n",
       "      <td>924502271</td>\n",
       "    </tr>\n",
       "    <tr>\n",
       "      <th>2</th>\n",
       "      <td>24502270</td>\n",
       "      <td>924502270</td>\n",
       "    </tr>\n",
       "    <tr>\n",
       "      <th>3</th>\n",
       "      <td>24502269</td>\n",
       "      <td>924502269</td>\n",
       "    </tr>\n",
       "    <tr>\n",
       "      <th>4</th>\n",
       "      <td>24502268</td>\n",
       "      <td>924502268</td>\n",
       "    </tr>\n",
       "  </tbody>\n",
       "</table>\n",
       "</div>"
      ],
      "text/plain": [
       "    isbn_id    cluster\n",
       "0  24502272  924502272\n",
       "1  24502271  924502271\n",
       "2  24502270  924502270\n",
       "3  24502269  924502269\n",
       "4  24502268  924502268"
      ]
     },
     "execution_count": 14,
     "metadata": {},
     "output_type": "execute_result"
    }
   ],
   "source": [
    "links = pd.read_parquet('book-links/isbn-clusters.parquet', columns=['isbn_id', 'cluster'])\n",
    "links.head()"
   ]
  },
  {
   "cell_type": "code",
   "execution_count": 15,
   "id": "052fd4b0",
   "metadata": {
    "execution": {
     "iopub.execute_input": "2021-12-15T22:18:36.985506Z",
     "iopub.status.busy": "2021-12-15T22:18:36.985506Z",
     "iopub.status.idle": "2021-12-15T22:18:39.476160Z",
     "shell.execute_reply": "2021-12-15T22:18:39.476160Z"
    }
   },
   "outputs": [
    {
     "data": {
      "text/html": [
       "<div>\n",
       "<style scoped>\n",
       "    .dataframe tbody tr th:only-of-type {\n",
       "        vertical-align: middle;\n",
       "    }\n",
       "\n",
       "    .dataframe tbody tr th {\n",
       "        vertical-align: top;\n",
       "    }\n",
       "\n",
       "    .dataframe thead th {\n",
       "        text-align: right;\n",
       "    }\n",
       "</style>\n",
       "<table border=\"1\" class=\"dataframe\">\n",
       "  <thead>\n",
       "    <tr style=\"text-align: right;\">\n",
       "      <th></th>\n",
       "      <th>isbn_id</th>\n",
       "      <th>isbn</th>\n",
       "      <th>OL</th>\n",
       "      <th>AZ14</th>\n",
       "      <th>GR</th>\n",
       "      <th>LOC</th>\n",
       "      <th>BX</th>\n",
       "    </tr>\n",
       "  </thead>\n",
       "  <tbody>\n",
       "    <tr>\n",
       "      <th>24463275</th>\n",
       "      <td>2629652</td>\n",
       "      <td>0001004735</td>\n",
       "      <td>1</td>\n",
       "      <td>0</td>\n",
       "      <td>0</td>\n",
       "      <td>0</td>\n",
       "      <td>0</td>\n",
       "    </tr>\n",
       "    <tr>\n",
       "      <th>24461806</th>\n",
       "      <td>15205685</td>\n",
       "      <td>0001848259</td>\n",
       "      <td>1</td>\n",
       "      <td>0</td>\n",
       "      <td>0</td>\n",
       "      <td>0</td>\n",
       "      <td>0</td>\n",
       "    </tr>\n",
       "    <tr>\n",
       "      <th>24457955</th>\n",
       "      <td>6469872</td>\n",
       "      <td>0003708853</td>\n",
       "      <td>2</td>\n",
       "      <td>0</td>\n",
       "      <td>0</td>\n",
       "      <td>0</td>\n",
       "      <td>0</td>\n",
       "    </tr>\n",
       "    <tr>\n",
       "      <th>24461049</th>\n",
       "      <td>3704513</td>\n",
       "      <td>0004214072</td>\n",
       "      <td>2</td>\n",
       "      <td>0</td>\n",
       "      <td>0</td>\n",
       "      <td>0</td>\n",
       "      <td>0</td>\n",
       "    </tr>\n",
       "    <tr>\n",
       "      <th>24463405</th>\n",
       "      <td>7251974</td>\n",
       "      <td>0004214501</td>\n",
       "      <td>1</td>\n",
       "      <td>0</td>\n",
       "      <td>0</td>\n",
       "      <td>0</td>\n",
       "      <td>0</td>\n",
       "    </tr>\n",
       "    <tr>\n",
       "      <th>...</th>\n",
       "      <td>...</td>\n",
       "      <td>...</td>\n",
       "      <td>...</td>\n",
       "      <td>...</td>\n",
       "      <td>...</td>\n",
       "      <td>...</td>\n",
       "      <td>...</td>\n",
       "    </tr>\n",
       "    <tr>\n",
       "      <th>24463533</th>\n",
       "      <td>12400676</td>\n",
       "      <td>9997718135</td>\n",
       "      <td>1</td>\n",
       "      <td>0</td>\n",
       "      <td>0</td>\n",
       "      <td>0</td>\n",
       "      <td>0</td>\n",
       "    </tr>\n",
       "    <tr>\n",
       "      <th>24463796</th>\n",
       "      <td>19925883</td>\n",
       "      <td>9998392802</td>\n",
       "      <td>1</td>\n",
       "      <td>0</td>\n",
       "      <td>0</td>\n",
       "      <td>0</td>\n",
       "      <td>0</td>\n",
       "    </tr>\n",
       "    <tr>\n",
       "      <th>24458033</th>\n",
       "      <td>10253791</td>\n",
       "      <td>9998556643</td>\n",
       "      <td>1</td>\n",
       "      <td>0</td>\n",
       "      <td>0</td>\n",
       "      <td>0</td>\n",
       "      <td>0</td>\n",
       "    </tr>\n",
       "    <tr>\n",
       "      <th>24459351</th>\n",
       "      <td>11272350</td>\n",
       "      <td>9998651174</td>\n",
       "      <td>1</td>\n",
       "      <td>0</td>\n",
       "      <td>0</td>\n",
       "      <td>0</td>\n",
       "      <td>0</td>\n",
       "    </tr>\n",
       "    <tr>\n",
       "      <th>24462478</th>\n",
       "      <td>16993255</td>\n",
       "      <td>9998708710</td>\n",
       "      <td>1</td>\n",
       "      <td>0</td>\n",
       "      <td>0</td>\n",
       "      <td>0</td>\n",
       "      <td>0</td>\n",
       "    </tr>\n",
       "  </tbody>\n",
       "</table>\n",
       "<p>7976 rows × 7 columns</p>\n",
       "</div>"
      ],
      "text/plain": [
       "           isbn_id        isbn  OL  AZ14  GR  LOC  BX\n",
       "24463275   2629652  0001004735   1     0   0    0   0\n",
       "24461806  15205685  0001848259   1     0   0    0   0\n",
       "24457955   6469872  0003708853   2     0   0    0   0\n",
       "24461049   3704513  0004214072   2     0   0    0   0\n",
       "24463405   7251974  0004214501   1     0   0    0   0\n",
       "...            ...         ...  ..   ...  ..  ...  ..\n",
       "24463533  12400676  9997718135   1     0   0    0   0\n",
       "24463796  19925883  9998392802   1     0   0    0   0\n",
       "24458033  10253791  9998556643   1     0   0    0   0\n",
       "24459351  11272350  9998651174   1     0   0    0   0\n",
       "24462478  16993255  9998708710   1     0   0    0   0\n",
       "\n",
       "[7976 rows x 7 columns]"
      ]
     },
     "execution_count": 15,
     "metadata": {},
     "output_type": "execute_result"
    }
   ],
   "source": [
    "big_id = big.index[0]\n",
    "bl = links[links['cluster'] == big_id].drop(columns=['cluster'])\n",
    "bl = bl.join(isbns, on='isbn_id')\n",
    "bl.sort_values('isbn')"
   ]
  },
  {
   "cell_type": "markdown",
   "id": "f551844c",
   "metadata": {},
   "source": [
    "What are the things with the highest record count (besides ratings)?"
   ]
  },
  {
   "cell_type": "code",
   "execution_count": 16,
   "id": "d46b5391",
   "metadata": {
    "execution": {
     "iopub.execute_input": "2021-12-15T22:18:39.481623Z",
     "iopub.status.busy": "2021-12-15T22:18:39.480684Z",
     "iopub.status.idle": "2021-12-15T22:18:39.507661Z",
     "shell.execute_reply": "2021-12-15T22:18:39.506627Z"
    }
   },
   "outputs": [
    {
     "data": {
      "text/html": [
       "<div>\n",
       "<style scoped>\n",
       "    .dataframe tbody tr th:only-of-type {\n",
       "        vertical-align: middle;\n",
       "    }\n",
       "\n",
       "    .dataframe tbody tr th {\n",
       "        vertical-align: top;\n",
       "    }\n",
       "\n",
       "    .dataframe thead th {\n",
       "        text-align: right;\n",
       "    }\n",
       "</style>\n",
       "<table border=\"1\" class=\"dataframe\">\n",
       "  <thead>\n",
       "    <tr style=\"text-align: right;\">\n",
       "      <th></th>\n",
       "      <th>isbn_id</th>\n",
       "      <th>isbn</th>\n",
       "      <th>OL</th>\n",
       "      <th>AZ14</th>\n",
       "      <th>GR</th>\n",
       "      <th>LOC</th>\n",
       "      <th>BX</th>\n",
       "      <th>btot</th>\n",
       "    </tr>\n",
       "  </thead>\n",
       "  <tbody>\n",
       "    <tr>\n",
       "      <th>24457664</th>\n",
       "      <td>571512</td>\n",
       "      <td>014143984X</td>\n",
       "      <td>2</td>\n",
       "      <td>1614</td>\n",
       "      <td>1</td>\n",
       "      <td>1</td>\n",
       "      <td>9</td>\n",
       "      <td>1617</td>\n",
       "    </tr>\n",
       "    <tr>\n",
       "      <th>24456301</th>\n",
       "      <td>12904208</td>\n",
       "      <td>0141439769</td>\n",
       "      <td>1</td>\n",
       "      <td>1353</td>\n",
       "      <td>1</td>\n",
       "      <td>0</td>\n",
       "      <td>2</td>\n",
       "      <td>1355</td>\n",
       "    </tr>\n",
       "    <tr>\n",
       "      <th>24460760</th>\n",
       "      <td>4638309</td>\n",
       "      <td>0140621199</td>\n",
       "      <td>2</td>\n",
       "      <td>1185</td>\n",
       "      <td>1</td>\n",
       "      <td>0</td>\n",
       "      <td>18</td>\n",
       "      <td>1188</td>\n",
       "    </tr>\n",
       "    <tr>\n",
       "      <th>24458922</th>\n",
       "      <td>8836713</td>\n",
       "      <td>0140390839</td>\n",
       "      <td>1</td>\n",
       "      <td>993</td>\n",
       "      <td>1</td>\n",
       "      <td>0</td>\n",
       "      <td>11</td>\n",
       "      <td>995</td>\n",
       "    </tr>\n",
       "    <tr>\n",
       "      <th>24456958</th>\n",
       "      <td>14000419</td>\n",
       "      <td>006440188X</td>\n",
       "      <td>2</td>\n",
       "      <td>549</td>\n",
       "      <td>1</td>\n",
       "      <td>0</td>\n",
       "      <td>50</td>\n",
       "      <td>552</td>\n",
       "    </tr>\n",
       "    <tr>\n",
       "      <th>24460138</th>\n",
       "      <td>18983843</td>\n",
       "      <td>0141321008</td>\n",
       "      <td>1</td>\n",
       "      <td>509</td>\n",
       "      <td>1</td>\n",
       "      <td>0</td>\n",
       "      <td>0</td>\n",
       "      <td>511</td>\n",
       "    </tr>\n",
       "    <tr>\n",
       "      <th>24461659</th>\n",
       "      <td>661719</td>\n",
       "      <td>0140367217</td>\n",
       "      <td>2</td>\n",
       "      <td>256</td>\n",
       "      <td>1</td>\n",
       "      <td>0</td>\n",
       "      <td>7</td>\n",
       "      <td>259</td>\n",
       "    </tr>\n",
       "    <tr>\n",
       "      <th>24457232</th>\n",
       "      <td>12601550</td>\n",
       "      <td>0064401871</td>\n",
       "      <td>1</td>\n",
       "      <td>202</td>\n",
       "      <td>1</td>\n",
       "      <td>0</td>\n",
       "      <td>28</td>\n",
       "      <td>204</td>\n",
       "    </tr>\n",
       "    <tr>\n",
       "      <th>24457993</th>\n",
       "      <td>20238460</td>\n",
       "      <td>0451230515</td>\n",
       "      <td>0</td>\n",
       "      <td>199</td>\n",
       "      <td>1</td>\n",
       "      <td>0</td>\n",
       "      <td>0</td>\n",
       "      <td>200</td>\n",
       "    </tr>\n",
       "    <tr>\n",
       "      <th>24458702</th>\n",
       "      <td>2431202</td>\n",
       "      <td>0140390057</td>\n",
       "      <td>1</td>\n",
       "      <td>177</td>\n",
       "      <td>1</td>\n",
       "      <td>1</td>\n",
       "      <td>2</td>\n",
       "      <td>179</td>\n",
       "    </tr>\n",
       "    <tr>\n",
       "      <th>24462587</th>\n",
       "      <td>20196660</td>\n",
       "      <td>0141325291</td>\n",
       "      <td>0</td>\n",
       "      <td>174</td>\n",
       "      <td>1</td>\n",
       "      <td>0</td>\n",
       "      <td>0</td>\n",
       "      <td>175</td>\n",
       "    </tr>\n",
       "    <tr>\n",
       "      <th>24455902</th>\n",
       "      <td>4659920</td>\n",
       "      <td>0486408787</td>\n",
       "      <td>1</td>\n",
       "      <td>165</td>\n",
       "      <td>1</td>\n",
       "      <td>1</td>\n",
       "      <td>8</td>\n",
       "      <td>167</td>\n",
       "    </tr>\n",
       "    <tr>\n",
       "      <th>24458460</th>\n",
       "      <td>14151990</td>\n",
       "      <td>0140022651</td>\n",
       "      <td>1</td>\n",
       "      <td>162</td>\n",
       "      <td>1</td>\n",
       "      <td>0</td>\n",
       "      <td>15</td>\n",
       "      <td>164</td>\n",
       "    </tr>\n",
       "    <tr>\n",
       "      <th>24462132</th>\n",
       "      <td>13678997</td>\n",
       "      <td>014044906X</td>\n",
       "      <td>1</td>\n",
       "      <td>141</td>\n",
       "      <td>1</td>\n",
       "      <td>1</td>\n",
       "      <td>1</td>\n",
       "      <td>143</td>\n",
       "    </tr>\n",
       "    <tr>\n",
       "      <th>24456089</th>\n",
       "      <td>11150268</td>\n",
       "      <td>0393048470</td>\n",
       "      <td>3</td>\n",
       "      <td>119</td>\n",
       "      <td>1</td>\n",
       "      <td>1</td>\n",
       "      <td>4</td>\n",
       "      <td>123</td>\n",
       "    </tr>\n",
       "    <tr>\n",
       "      <th>24460634</th>\n",
       "      <td>17733477</td>\n",
       "      <td>0451522842</td>\n",
       "      <td>1</td>\n",
       "      <td>75</td>\n",
       "      <td>1</td>\n",
       "      <td>0</td>\n",
       "      <td>2</td>\n",
       "      <td>77</td>\n",
       "    </tr>\n",
       "    <tr>\n",
       "      <th>24456901</th>\n",
       "      <td>12534316</td>\n",
       "      <td>0451528832</td>\n",
       "      <td>1</td>\n",
       "      <td>72</td>\n",
       "      <td>1</td>\n",
       "      <td>1</td>\n",
       "      <td>0</td>\n",
       "      <td>74</td>\n",
       "    </tr>\n",
       "    <tr>\n",
       "      <th>24459222</th>\n",
       "      <td>15331659</td>\n",
       "      <td>0451528646</td>\n",
       "      <td>1</td>\n",
       "      <td>65</td>\n",
       "      <td>1</td>\n",
       "      <td>1</td>\n",
       "      <td>1</td>\n",
       "      <td>67</td>\n",
       "    </tr>\n",
       "    <tr>\n",
       "      <th>24458764</th>\n",
       "      <td>5567166</td>\n",
       "      <td>0140432620</td>\n",
       "      <td>2</td>\n",
       "      <td>56</td>\n",
       "      <td>1</td>\n",
       "      <td>0</td>\n",
       "      <td>4</td>\n",
       "      <td>59</td>\n",
       "    </tr>\n",
       "    <tr>\n",
       "      <th>24461166</th>\n",
       "      <td>7151344</td>\n",
       "      <td>0140366792</td>\n",
       "      <td>2</td>\n",
       "      <td>43</td>\n",
       "      <td>1</td>\n",
       "      <td>0</td>\n",
       "      <td>2</td>\n",
       "      <td>46</td>\n",
       "    </tr>\n",
       "  </tbody>\n",
       "</table>\n",
       "</div>"
      ],
      "text/plain": [
       "           isbn_id        isbn  OL  AZ14  GR  LOC  BX  btot\n",
       "24457664    571512  014143984X   2  1614   1    1   9  1617\n",
       "24456301  12904208  0141439769   1  1353   1    0   2  1355\n",
       "24460760   4638309  0140621199   2  1185   1    0  18  1188\n",
       "24458922   8836713  0140390839   1   993   1    0  11   995\n",
       "24456958  14000419  006440188X   2   549   1    0  50   552\n",
       "24460138  18983843  0141321008   1   509   1    0   0   511\n",
       "24461659    661719  0140367217   2   256   1    0   7   259\n",
       "24457232  12601550  0064401871   1   202   1    0  28   204\n",
       "24457993  20238460  0451230515   0   199   1    0   0   200\n",
       "24458702   2431202  0140390057   1   177   1    1   2   179\n",
       "24462587  20196660  0141325291   0   174   1    0   0   175\n",
       "24455902   4659920  0486408787   1   165   1    1   8   167\n",
       "24458460  14151990  0140022651   1   162   1    0  15   164\n",
       "24462132  13678997  014044906X   1   141   1    1   1   143\n",
       "24456089  11150268  0393048470   3   119   1    1   4   123\n",
       "24460634  17733477  0451522842   1    75   1    0   2    77\n",
       "24456901  12534316  0451528832   1    72   1    1   0    74\n",
       "24459222  15331659  0451528646   1    65   1    1   1    67\n",
       "24458764   5567166  0140432620   2    56   1    0   4    59\n",
       "24461166   7151344  0140366792   2    43   1    0   2    46"
      ]
     },
     "execution_count": 16,
     "metadata": {},
     "output_type": "execute_result"
    }
   ],
   "source": [
    "bl['btot'] = bl.iloc[:, 2:-2].sum(axis=1)\n",
    "bl.nlargest(20, 'btot')"
   ]
  },
  {
   "cell_type": "code",
   "execution_count": null,
   "id": "2382cccf",
   "metadata": {},
   "outputs": [],
   "source": []
  }
 ],
 "metadata": {
  "jupytext": {
   "formats": "ipynb,py:percent"
  },
  "kernelspec": {
   "display_name": "Python 3 (ipykernel)",
   "language": "python",
   "name": "python3"
  },
  "language_info": {
   "codemirror_mode": {
    "name": "ipython",
    "version": 3
   },
   "file_extension": ".py",
   "mimetype": "text/x-python",
   "name": "python",
   "nbconvert_exporter": "python",
   "pygments_lexer": "ipython3",
   "version": "3.8.12"
  }
 },
 "nbformat": 4,
 "nbformat_minor": 5
}
