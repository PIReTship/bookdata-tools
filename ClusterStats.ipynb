{
 "cells": [
  {
   "cell_type": "markdown",
   "id": "95b22e51",
   "metadata": {},
   "source": [
    "# Book Clustering Statistics\n",
    "\n",
    "This notebook provides statistics on the results of our book clustering."
   ]
  },
  {
   "cell_type": "markdown",
   "id": "b377de15",
   "metadata": {},
   "source": [
    "## Setup"
   ]
  },
  {
   "cell_type": "code",
   "execution_count": 1,
   "id": "7ab8ac85",
   "metadata": {
    "execution": {
     "iopub.execute_input": "2022-03-09T18:43:16.695276Z",
     "iopub.status.busy": "2022-03-09T18:43:16.695276Z",
     "iopub.status.idle": "2022-03-09T18:43:32.052973Z",
     "shell.execute_reply": "2022-03-09T18:43:32.052429Z"
    }
   },
   "outputs": [
    {
     "name": "stderr",
     "output_type": "stream",
     "text": [
      "Matplotlib is building the font cache; this may take a moment.\n"
     ]
    }
   ],
   "source": [
    "import pandas as pd\n",
    "import matplotlib.pyplot as plt\n",
    "import numpy as np"
   ]
  },
  {
   "cell_type": "markdown",
   "id": "57ab1190",
   "metadata": {},
   "source": [
    "## Load Data\n",
    "\n",
    "Let's start by getting our clusters and their statistics:"
   ]
  },
  {
   "cell_type": "code",
   "execution_count": 2,
   "id": "d67c9fdb",
   "metadata": {
    "execution": {
     "iopub.execute_input": "2022-03-09T18:43:32.060007Z",
     "iopub.status.busy": "2022-03-09T18:43:32.060007Z",
     "iopub.status.idle": "2022-03-09T18:43:33.681647Z",
     "shell.execute_reply": "2022-03-09T18:43:33.680854Z"
    }
   },
   "outputs": [
    {
     "name": "stdout",
     "output_type": "stream",
     "text": [
      "<class 'pandas.core.frame.DataFrame'>\n",
      "RangeIndex: 27925691 entries, 0 to 27925690\n",
      "Data columns (total 8 columns):\n",
      " #   Column         Dtype \n",
      "---  ------         ----- \n",
      " 0   cluster        int32 \n",
      " 1   n_nodes        uint32\n",
      " 2   n_isbns        uint32\n",
      " 3   n_loc_recs     uint32\n",
      " 4   n_ol_editions  uint32\n",
      " 5   n_ol_works     uint32\n",
      " 6   n_gr_books     uint32\n",
      " 7   n_gr_works     uint32\n",
      "dtypes: int32(1), uint32(7)\n",
      "memory usage: 852.2 MB\n"
     ]
    }
   ],
   "source": [
    "clusters = pd.read_parquet('book-links/cluster-stats.parquet')\n",
    "clusters.info()"
   ]
  },
  {
   "cell_type": "code",
   "execution_count": 3,
   "id": "37dc7141",
   "metadata": {
    "execution": {
     "iopub.execute_input": "2022-03-09T18:43:33.681647Z",
     "iopub.status.busy": "2022-03-09T18:43:33.681647Z",
     "iopub.status.idle": "2022-03-09T18:43:33.989825Z",
     "shell.execute_reply": "2022-03-09T18:43:33.989825Z"
    }
   },
   "outputs": [],
   "source": [
    "clusters.set_index('cluster', inplace=True)"
   ]
  },
  {
   "cell_type": "markdown",
   "id": "af6a1de9",
   "metadata": {},
   "source": [
    "Describe the count columns for basic descriptive stats:"
   ]
  },
  {
   "cell_type": "code",
   "execution_count": 4,
   "id": "9896f156",
   "metadata": {
    "execution": {
     "iopub.execute_input": "2022-03-09T18:43:34.003361Z",
     "iopub.status.busy": "2022-03-09T18:43:34.002304Z",
     "iopub.status.idle": "2022-03-09T18:43:46.103070Z",
     "shell.execute_reply": "2022-03-09T18:43:46.102561Z"
    }
   },
   "outputs": [
    {
     "data": {
      "text/html": [
       "<div>\n",
       "<style scoped>\n",
       "    .dataframe tbody tr th:only-of-type {\n",
       "        vertical-align: middle;\n",
       "    }\n",
       "\n",
       "    .dataframe tbody tr th {\n",
       "        vertical-align: top;\n",
       "    }\n",
       "\n",
       "    .dataframe thead th {\n",
       "        text-align: right;\n",
       "    }\n",
       "</style>\n",
       "<table border=\"1\" class=\"dataframe\">\n",
       "  <thead>\n",
       "    <tr style=\"text-align: right;\">\n",
       "      <th></th>\n",
       "      <th>n_nodes</th>\n",
       "      <th>n_isbns</th>\n",
       "      <th>n_loc_recs</th>\n",
       "      <th>n_ol_editions</th>\n",
       "      <th>n_ol_works</th>\n",
       "      <th>n_gr_books</th>\n",
       "      <th>n_gr_works</th>\n",
       "    </tr>\n",
       "  </thead>\n",
       "  <tbody>\n",
       "    <tr>\n",
       "      <th>count</th>\n",
       "      <td>2.792569e+07</td>\n",
       "      <td>2.792569e+07</td>\n",
       "      <td>2.792569e+07</td>\n",
       "      <td>2.792569e+07</td>\n",
       "      <td>2.792569e+07</td>\n",
       "      <td>2.792569e+07</td>\n",
       "      <td>2.792569e+07</td>\n",
       "    </tr>\n",
       "    <tr>\n",
       "      <th>mean</th>\n",
       "      <td>2.994550e+00</td>\n",
       "      <td>8.774559e-01</td>\n",
       "      <td>3.462970e-01</td>\n",
       "      <td>9.547825e-01</td>\n",
       "      <td>6.769805e-01</td>\n",
       "      <td>8.453345e-02</td>\n",
       "      <td>5.450042e-02</td>\n",
       "    </tr>\n",
       "    <tr>\n",
       "      <th>std</th>\n",
       "      <td>7.375757e+00</td>\n",
       "      <td>3.660644e+00</td>\n",
       "      <td>5.648575e-01</td>\n",
       "      <td>2.670434e+00</td>\n",
       "      <td>7.561602e-01</td>\n",
       "      <td>1.120087e+00</td>\n",
       "      <td>2.350896e-01</td>\n",
       "    </tr>\n",
       "    <tr>\n",
       "      <th>min</th>\n",
       "      <td>1.000000e+00</td>\n",
       "      <td>0.000000e+00</td>\n",
       "      <td>0.000000e+00</td>\n",
       "      <td>0.000000e+00</td>\n",
       "      <td>0.000000e+00</td>\n",
       "      <td>0.000000e+00</td>\n",
       "      <td>0.000000e+00</td>\n",
       "    </tr>\n",
       "    <tr>\n",
       "      <th>25%</th>\n",
       "      <td>1.000000e+00</td>\n",
       "      <td>0.000000e+00</td>\n",
       "      <td>0.000000e+00</td>\n",
       "      <td>0.000000e+00</td>\n",
       "      <td>0.000000e+00</td>\n",
       "      <td>0.000000e+00</td>\n",
       "      <td>0.000000e+00</td>\n",
       "    </tr>\n",
       "    <tr>\n",
       "      <th>50%</th>\n",
       "      <td>2.000000e+00</td>\n",
       "      <td>0.000000e+00</td>\n",
       "      <td>0.000000e+00</td>\n",
       "      <td>1.000000e+00</td>\n",
       "      <td>1.000000e+00</td>\n",
       "      <td>0.000000e+00</td>\n",
       "      <td>0.000000e+00</td>\n",
       "    </tr>\n",
       "    <tr>\n",
       "      <th>75%</th>\n",
       "      <td>4.000000e+00</td>\n",
       "      <td>2.000000e+00</td>\n",
       "      <td>1.000000e+00</td>\n",
       "      <td>1.000000e+00</td>\n",
       "      <td>1.000000e+00</td>\n",
       "      <td>0.000000e+00</td>\n",
       "      <td>0.000000e+00</td>\n",
       "    </tr>\n",
       "    <tr>\n",
       "      <th>max</th>\n",
       "      <td>1.734900e+04</td>\n",
       "      <td>7.976000e+03</td>\n",
       "      <td>6.120000e+02</td>\n",
       "      <td>5.096000e+03</td>\n",
       "      <td>2.368000e+03</td>\n",
       "      <td>3.118000e+03</td>\n",
       "      <td>8.800000e+01</td>\n",
       "    </tr>\n",
       "  </tbody>\n",
       "</table>\n",
       "</div>"
      ],
      "text/plain": [
       "            n_nodes       n_isbns    n_loc_recs  n_ol_editions    n_ol_works  \\\n",
       "count  2.792569e+07  2.792569e+07  2.792569e+07   2.792569e+07  2.792569e+07   \n",
       "mean   2.994550e+00  8.774559e-01  3.462970e-01   9.547825e-01  6.769805e-01   \n",
       "std    7.375757e+00  3.660644e+00  5.648575e-01   2.670434e+00  7.561602e-01   \n",
       "min    1.000000e+00  0.000000e+00  0.000000e+00   0.000000e+00  0.000000e+00   \n",
       "25%    1.000000e+00  0.000000e+00  0.000000e+00   0.000000e+00  0.000000e+00   \n",
       "50%    2.000000e+00  0.000000e+00  0.000000e+00   1.000000e+00  1.000000e+00   \n",
       "75%    4.000000e+00  2.000000e+00  1.000000e+00   1.000000e+00  1.000000e+00   \n",
       "max    1.734900e+04  7.976000e+03  6.120000e+02   5.096000e+03  2.368000e+03   \n",
       "\n",
       "         n_gr_books    n_gr_works  \n",
       "count  2.792569e+07  2.792569e+07  \n",
       "mean   8.453345e-02  5.450042e-02  \n",
       "std    1.120087e+00  2.350896e-01  \n",
       "min    0.000000e+00  0.000000e+00  \n",
       "25%    0.000000e+00  0.000000e+00  \n",
       "50%    0.000000e+00  0.000000e+00  \n",
       "75%    0.000000e+00  0.000000e+00  \n",
       "max    3.118000e+03  8.800000e+01  "
      ]
     },
     "execution_count": 4,
     "metadata": {},
     "output_type": "execute_result"
    }
   ],
   "source": [
    "clusters.describe()"
   ]
  },
  {
   "cell_type": "markdown",
   "id": "c42516e7",
   "metadata": {},
   "source": [
    "75% of clusters only contain 2 ISBNs (probably -10 and -13) and one book. OpenLibrary also contributes to the largest number of clusters."
   ]
  },
  {
   "cell_type": "markdown",
   "id": "f41ad2f8",
   "metadata": {},
   "source": [
    "## Clusters per Source\n",
    "\n",
    "How many clusters are connected to each source?"
   ]
  },
  {
   "cell_type": "code",
   "execution_count": 5,
   "id": "5ae53b04",
   "metadata": {
    "execution": {
     "iopub.execute_input": "2022-03-09T18:43:46.111330Z",
     "iopub.status.busy": "2022-03-09T18:43:46.111330Z",
     "iopub.status.idle": "2022-03-09T18:43:47.220829Z",
     "shell.execute_reply": "2022-03-09T18:43:47.218255Z"
    }
   },
   "outputs": [
    {
     "data": {
      "text/plain": [
       "n_nodes          27925691\n",
       "n_isbns          13201869\n",
       "n_loc_recs        9314956\n",
       "n_ol_editions    20525956\n",
       "n_ol_works       17723553\n",
       "n_gr_books        1509661\n",
       "n_gr_works        1509137\n",
       "dtype: int64"
      ]
     },
     "execution_count": 5,
     "metadata": {},
     "output_type": "execute_result"
    }
   ],
   "source": [
    "src_counts = pd.Series(dict(\n",
    "    (c, np.sum(clusters[c] > 0)) for c in clusters.columns\n",
    "))\n",
    "src_counts"
   ]
  },
  {
   "cell_type": "code",
   "execution_count": 6,
   "id": "2090a453",
   "metadata": {
    "execution": {
     "iopub.execute_input": "2022-03-09T18:43:47.236142Z",
     "iopub.status.busy": "2022-03-09T18:43:47.235202Z",
     "iopub.status.idle": "2022-03-09T18:43:48.184978Z",
     "shell.execute_reply": "2022-03-09T18:43:48.183295Z"
    }
   },
   "outputs": [
    {
     "data": {
      "image/png": "[encoded data removed]",
      "text/plain": [
       "<Figure size 432x288 with 1 Axes>"
      ]
     },
     "metadata": {
      "needs_background": "light"
     },
     "output_type": "display_data"
    }
   ],
   "source": [
    "src_counts.plot.barh()\n",
    "plt.xlabel('# of Clusters')\n",
    "plt.show()"
   ]
  },
  {
   "cell_type": "markdown",
   "id": "4655725d",
   "metadata": {},
   "source": [
    "## Distributions\n",
    "\n",
    "Let's look at the distributions of cluster sizes."
   ]
  },
  {
   "cell_type": "code",
   "execution_count": 7,
   "id": "d053db96",
   "metadata": {
    "execution": {
     "iopub.execute_input": "2022-03-09T18:43:48.193337Z",
     "iopub.status.busy": "2022-03-09T18:43:48.193337Z",
     "iopub.status.idle": "2022-03-09T18:43:52.344603Z",
     "shell.execute_reply": "2022-03-09T18:43:52.343490Z"
    }
   },
   "outputs": [
    {
     "data": {
      "text/html": [
       "<div>\n",
       "<style scoped>\n",
       "    .dataframe tbody tr th:only-of-type {\n",
       "        vertical-align: middle;\n",
       "    }\n",
       "\n",
       "    .dataframe tbody tr th {\n",
       "        vertical-align: top;\n",
       "    }\n",
       "\n",
       "    .dataframe thead th {\n",
       "        text-align: right;\n",
       "    }\n",
       "</style>\n",
       "<table border=\"1\" class=\"dataframe\">\n",
       "  <thead>\n",
       "    <tr style=\"text-align: right;\">\n",
       "      <th></th>\n",
       "      <th>RecType</th>\n",
       "      <th>RecCount</th>\n",
       "      <th>Clusters</th>\n",
       "    </tr>\n",
       "  </thead>\n",
       "  <tbody>\n",
       "    <tr>\n",
       "      <th>0</th>\n",
       "      <td>n_isbns</td>\n",
       "      <td>0</td>\n",
       "      <td>14723822</td>\n",
       "    </tr>\n",
       "    <tr>\n",
       "      <th>1</th>\n",
       "      <td>n_isbns</td>\n",
       "      <td>2</td>\n",
       "      <td>6256782</td>\n",
       "    </tr>\n",
       "    <tr>\n",
       "      <th>2</th>\n",
       "      <td>n_isbns</td>\n",
       "      <td>1</td>\n",
       "      <td>5807972</td>\n",
       "    </tr>\n",
       "    <tr>\n",
       "      <th>3</th>\n",
       "      <td>n_isbns</td>\n",
       "      <td>4</td>\n",
       "      <td>551072</td>\n",
       "    </tr>\n",
       "    <tr>\n",
       "      <th>4</th>\n",
       "      <td>n_isbns</td>\n",
       "      <td>3</td>\n",
       "      <td>268793</td>\n",
       "    </tr>\n",
       "  </tbody>\n",
       "</table>\n",
       "</div>"
      ],
      "text/plain": [
       "   RecType  RecCount  Clusters\n",
       "0  n_isbns         0  14723822\n",
       "1  n_isbns         2   6256782\n",
       "2  n_isbns         1   5807972\n",
       "3  n_isbns         4    551072\n",
       "4  n_isbns         3    268793"
      ]
     },
     "execution_count": 7,
     "metadata": {},
     "output_type": "execute_result"
    }
   ],
   "source": [
    "size_dist = pd.concat(dict(\n",
    "    (c, clusters[c].value_counts()) for c in clusters.columns if c != 'n_nodes'\n",
    "), names=['RecType'])\n",
    "size_dist.index.set_names(['RecType', 'RecCount'], inplace=True)\n",
    "size_dist = size_dist.reset_index(name='Clusters')\n",
    "size_dist.head()"
   ]
  },
  {
   "cell_type": "code",
   "execution_count": 8,
   "id": "9a6ab5ad",
   "metadata": {
    "execution": {
     "iopub.execute_input": "2022-03-09T18:43:52.355046Z",
     "iopub.status.busy": "2022-03-09T18:43:52.355046Z",
     "iopub.status.idle": "2022-03-09T18:43:55.712317Z",
     "shell.execute_reply": "2022-03-09T18:43:55.711428Z"
    }
   },
   "outputs": [
    {
     "data": {
      "image/png": "[encoded data removed]",
      "text/plain": [
       "<Figure size 432x288 with 1 Axes>"
      ]
     },
     "metadata": {
      "needs_background": "light"
     },
     "output_type": "display_data"
    }
   ],
   "source": [
    "for rt, data in size_dist.groupby('RecType'):\n",
    "    plt.scatter(data['RecCount'], data['Clusters'], marker='1', label=rt)\n",
    "plt.legend()\n",
    "plt.xlabel('# of Records')\n",
    "plt.xscale('log')\n",
    "plt.ylabel('# of Clusters')\n",
    "plt.yscale('log')\n",
    "plt.show()"
   ]
  },
  {
   "cell_type": "markdown",
   "id": "0f99c22a",
   "metadata": {},
   "source": [
    "Looks mostly fine - we expect a lot of power laws - but the number of clusters with merged GoodReads works is concerning."
   ]
  },
  {
   "cell_type": "markdown",
   "id": "2026643c",
   "metadata": {},
   "source": [
    "## GoodReads Work Merging\n",
    "\n",
    "Why are GoodReads works merging? Let's look at those."
   ]
  },
  {
   "cell_type": "code",
   "execution_count": 9,
   "id": "400fde04",
   "metadata": {
    "execution": {
     "iopub.execute_input": "2022-03-09T18:43:55.720580Z",
     "iopub.status.busy": "2022-03-09T18:43:55.720580Z",
     "iopub.status.idle": "2022-03-09T18:43:55.854319Z",
     "shell.execute_reply": "2022-03-09T18:43:55.852606Z"
    }
   },
   "outputs": [
    {
     "name": "stdout",
     "output_type": "stream",
     "text": [
      "<class 'pandas.core.frame.DataFrame'>\n",
      "Int64Index: 6694 entries, 100004141 to 105265159\n",
      "Data columns (total 7 columns):\n",
      " #   Column         Non-Null Count  Dtype \n",
      "---  ------         --------------  ----- \n",
      " 0   n_nodes        6694 non-null   uint32\n",
      " 1   n_isbns        6694 non-null   uint32\n",
      " 2   n_loc_recs     6694 non-null   uint32\n",
      " 3   n_ol_editions  6694 non-null   uint32\n",
      " 4   n_ol_works     6694 non-null   uint32\n",
      " 5   n_gr_books     6694 non-null   uint32\n",
      " 6   n_gr_works     6694 non-null   uint32\n",
      "dtypes: uint32(7)\n",
      "memory usage: 235.3 KB\n"
     ]
    }
   ],
   "source": [
    "gr_big = clusters[clusters['n_gr_works'] > 1].sort_values('n_gr_works', ascending=False)\n",
    "gr_big.info()"
   ]
  },
  {
   "cell_type": "markdown",
   "id": "fb61246b",
   "metadata": {},
   "source": [
    "We have a lot of these clusters. What fraction of the GoodReads-affected clusters is this?"
   ]
  },
  {
   "cell_type": "code",
   "execution_count": 10,
   "id": "4e444cbb",
   "metadata": {
    "execution": {
     "iopub.execute_input": "2022-03-09T18:43:55.862369Z",
     "iopub.status.busy": "2022-03-09T18:43:55.862369Z",
     "iopub.status.idle": "2022-03-09T18:43:56.011595Z",
     "shell.execute_reply": "2022-03-09T18:43:56.011106Z"
    }
   },
   "outputs": [
    {
     "data": {
      "text/plain": [
       "0.0002397075868239035"
      ]
     },
     "execution_count": 10,
     "metadata": {},
     "output_type": "execute_result"
    }
   ],
   "source": [
    "len(gr_big) / clusters['n_gr_books'].count()"
   ]
  },
  {
   "cell_type": "markdown",
   "id": "cf6bc31a",
   "metadata": {},
   "source": [
    "Less than 1%. Not bad, but let's look."
   ]
  },
  {
   "cell_type": "code",
   "execution_count": 11,
   "id": "bc2154be",
   "metadata": {
    "execution": {
     "iopub.execute_input": "2022-03-09T18:43:56.023023Z",
     "iopub.status.busy": "2022-03-09T18:43:56.023023Z",
     "iopub.status.idle": "2022-03-09T18:43:56.056999Z",
     "shell.execute_reply": "2022-03-09T18:43:56.056999Z"
    }
   },
   "outputs": [
    {
     "data": {
      "text/html": [
       "<div>\n",
       "<style scoped>\n",
       "    .dataframe tbody tr th:only-of-type {\n",
       "        vertical-align: middle;\n",
       "    }\n",
       "\n",
       "    .dataframe tbody tr th {\n",
       "        vertical-align: top;\n",
       "    }\n",
       "\n",
       "    .dataframe thead th {\n",
       "        text-align: right;\n",
       "    }\n",
       "</style>\n",
       "<table border=\"1\" class=\"dataframe\">\n",
       "  <thead>\n",
       "    <tr style=\"text-align: right;\">\n",
       "      <th></th>\n",
       "      <th>n_nodes</th>\n",
       "      <th>n_isbns</th>\n",
       "      <th>n_loc_recs</th>\n",
       "      <th>n_ol_editions</th>\n",
       "      <th>n_ol_works</th>\n",
       "      <th>n_gr_books</th>\n",
       "      <th>n_gr_works</th>\n",
       "    </tr>\n",
       "    <tr>\n",
       "      <th>cluster</th>\n",
       "      <th></th>\n",
       "      <th></th>\n",
       "      <th></th>\n",
       "      <th></th>\n",
       "      <th></th>\n",
       "      <th></th>\n",
       "      <th></th>\n",
       "    </tr>\n",
       "  </thead>\n",
       "  <tbody>\n",
       "    <tr>\n",
       "      <th>100004141</th>\n",
       "      <td>17349</td>\n",
       "      <td>7976</td>\n",
       "      <td>612</td>\n",
       "      <td>5066</td>\n",
       "      <td>489</td>\n",
       "      <td>3118</td>\n",
       "      <td>88</td>\n",
       "    </tr>\n",
       "    <tr>\n",
       "      <th>100066430</th>\n",
       "      <td>10906</td>\n",
       "      <td>3731</td>\n",
       "      <td>408</td>\n",
       "      <td>5096</td>\n",
       "      <td>329</td>\n",
       "      <td>1264</td>\n",
       "      <td>78</td>\n",
       "    </tr>\n",
       "    <tr>\n",
       "      <th>100307111</th>\n",
       "      <td>448</td>\n",
       "      <td>163</td>\n",
       "      <td>4</td>\n",
       "      <td>91</td>\n",
       "      <td>74</td>\n",
       "      <td>60</td>\n",
       "      <td>56</td>\n",
       "    </tr>\n",
       "    <tr>\n",
       "      <th>100162584</th>\n",
       "      <td>873</td>\n",
       "      <td>327</td>\n",
       "      <td>67</td>\n",
       "      <td>269</td>\n",
       "      <td>75</td>\n",
       "      <td>81</td>\n",
       "      <td>54</td>\n",
       "    </tr>\n",
       "    <tr>\n",
       "      <th>100092083</th>\n",
       "      <td>1113</td>\n",
       "      <td>424</td>\n",
       "      <td>61</td>\n",
       "      <td>231</td>\n",
       "      <td>145</td>\n",
       "      <td>200</td>\n",
       "      <td>52</td>\n",
       "    </tr>\n",
       "  </tbody>\n",
       "</table>\n",
       "</div>"
      ],
      "text/plain": [
       "           n_nodes  n_isbns  n_loc_recs  n_ol_editions  n_ol_works  \\\n",
       "cluster                                                              \n",
       "100004141    17349     7976         612           5066         489   \n",
       "100066430    10906     3731         408           5096         329   \n",
       "100307111      448      163           4             91          74   \n",
       "100162584      873      327          67            269          75   \n",
       "100092083     1113      424          61            231         145   \n",
       "\n",
       "           n_gr_books  n_gr_works  \n",
       "cluster                            \n",
       "100004141        3118          88  \n",
       "100066430        1264          78  \n",
       "100307111          60          56  \n",
       "100162584          81          54  \n",
       "100092083         200          52  "
      ]
     },
     "execution_count": 11,
     "metadata": {},
     "output_type": "execute_result"
    }
   ],
   "source": [
    "gr_big.head()"
   ]
  },
  {
   "cell_type": "markdown",
   "id": "371c0828",
   "metadata": {},
   "source": [
    "## Large Cluster Debugging\n",
    "\n",
    "We have some pretty big clusters:"
   ]
  },
  {
   "cell_type": "code",
   "execution_count": 12,
   "id": "95f4b599",
   "metadata": {
    "execution": {
     "iopub.execute_input": "2022-03-09T18:43:56.070415Z",
     "iopub.status.busy": "2022-03-09T18:43:56.061649Z",
     "iopub.status.idle": "2022-03-09T18:43:57.919949Z",
     "shell.execute_reply": "2022-03-09T18:43:57.919949Z"
    }
   },
   "outputs": [
    {
     "data": {
      "text/html": [
       "<div>\n",
       "<style scoped>\n",
       "    .dataframe tbody tr th:only-of-type {\n",
       "        vertical-align: middle;\n",
       "    }\n",
       "\n",
       "    .dataframe tbody tr th {\n",
       "        vertical-align: top;\n",
       "    }\n",
       "\n",
       "    .dataframe thead th {\n",
       "        text-align: right;\n",
       "    }\n",
       "</style>\n",
       "<table border=\"1\" class=\"dataframe\">\n",
       "  <thead>\n",
       "    <tr style=\"text-align: right;\">\n",
       "      <th></th>\n",
       "      <th>n_nodes</th>\n",
       "      <th>n_isbns</th>\n",
       "      <th>n_loc_recs</th>\n",
       "      <th>n_ol_editions</th>\n",
       "      <th>n_ol_works</th>\n",
       "      <th>n_gr_books</th>\n",
       "      <th>n_gr_works</th>\n",
       "    </tr>\n",
       "    <tr>\n",
       "      <th>cluster</th>\n",
       "      <th></th>\n",
       "      <th></th>\n",
       "      <th></th>\n",
       "      <th></th>\n",
       "      <th></th>\n",
       "      <th></th>\n",
       "      <th></th>\n",
       "    </tr>\n",
       "  </thead>\n",
       "  <tbody>\n",
       "    <tr>\n",
       "      <th>100004141</th>\n",
       "      <td>17349</td>\n",
       "      <td>7976</td>\n",
       "      <td>612</td>\n",
       "      <td>5066</td>\n",
       "      <td>489</td>\n",
       "      <td>3118</td>\n",
       "      <td>88</td>\n",
       "    </tr>\n",
       "    <tr>\n",
       "      <th>105723403</th>\n",
       "      <td>11281</td>\n",
       "      <td>7520</td>\n",
       "      <td>0</td>\n",
       "      <td>3760</td>\n",
       "      <td>1</td>\n",
       "      <td>0</td>\n",
       "      <td>0</td>\n",
       "    </tr>\n",
       "    <tr>\n",
       "      <th>100066430</th>\n",
       "      <td>10906</td>\n",
       "      <td>3731</td>\n",
       "      <td>408</td>\n",
       "      <td>5096</td>\n",
       "      <td>329</td>\n",
       "      <td>1264</td>\n",
       "      <td>78</td>\n",
       "    </tr>\n",
       "    <tr>\n",
       "      <th>100379578</th>\n",
       "      <td>10132</td>\n",
       "      <td>6518</td>\n",
       "      <td>7</td>\n",
       "      <td>3572</td>\n",
       "      <td>35</td>\n",
       "      <td>0</td>\n",
       "      <td>0</td>\n",
       "    </tr>\n",
       "    <tr>\n",
       "      <th>100089994</th>\n",
       "      <td>7102</td>\n",
       "      <td>3540</td>\n",
       "      <td>162</td>\n",
       "      <td>1839</td>\n",
       "      <td>113</td>\n",
       "      <td>1421</td>\n",
       "      <td>27</td>\n",
       "    </tr>\n",
       "  </tbody>\n",
       "</table>\n",
       "</div>"
      ],
      "text/plain": [
       "           n_nodes  n_isbns  n_loc_recs  n_ol_editions  n_ol_works  \\\n",
       "cluster                                                              \n",
       "100004141    17349     7976         612           5066         489   \n",
       "105723403    11281     7520           0           3760           1   \n",
       "100066430    10906     3731         408           5096         329   \n",
       "100379578    10132     6518           7           3572          35   \n",
       "100089994     7102     3540         162           1839         113   \n",
       "\n",
       "           n_gr_books  n_gr_works  \n",
       "cluster                            \n",
       "100004141        3118          88  \n",
       "105723403           0           0  \n",
       "100066430        1264          78  \n",
       "100379578           0           0  \n",
       "100089994        1421          27  "
      ]
     },
     "execution_count": 12,
     "metadata": {},
     "output_type": "execute_result"
    }
   ],
   "source": [
    "big = clusters.nlargest(5, 'n_nodes')\n",
    "big"
   ]
  },
  {
   "cell_type": "markdown",
   "id": "962d76fd",
   "metadata": {},
   "source": [
    "What is up with this? We should figure out what went wrong, if we can.  What are its ISBNs?"
   ]
  },
  {
   "cell_type": "code",
   "execution_count": 13,
   "id": "c2174614",
   "metadata": {
    "execution": {
     "iopub.execute_input": "2022-03-09T18:43:57.928091Z",
     "iopub.status.busy": "2022-03-09T18:43:57.928091Z",
     "iopub.status.idle": "2022-03-09T18:44:31.846030Z",
     "shell.execute_reply": "2022-03-09T18:44:31.845497Z"
    }
   },
   "outputs": [
    {
     "data": {
      "text/html": [
       "<div>\n",
       "<style scoped>\n",
       "    .dataframe tbody tr th:only-of-type {\n",
       "        vertical-align: middle;\n",
       "    }\n",
       "\n",
       "    .dataframe tbody tr th {\n",
       "        vertical-align: top;\n",
       "    }\n",
       "\n",
       "    .dataframe thead th {\n",
       "        text-align: right;\n",
       "    }\n",
       "</style>\n",
       "<table border=\"1\" class=\"dataframe\">\n",
       "  <thead>\n",
       "    <tr style=\"text-align: right;\">\n",
       "      <th></th>\n",
       "      <th>isbn</th>\n",
       "      <th>OL</th>\n",
       "      <th>AZ14</th>\n",
       "      <th>GR</th>\n",
       "      <th>LOC</th>\n",
       "      <th>BX</th>\n",
       "    </tr>\n",
       "    <tr>\n",
       "      <th>isbn_id</th>\n",
       "      <th></th>\n",
       "      <th></th>\n",
       "      <th></th>\n",
       "      <th></th>\n",
       "      <th></th>\n",
       "      <th></th>\n",
       "    </tr>\n",
       "  </thead>\n",
       "  <tbody>\n",
       "    <tr>\n",
       "      <th>1</th>\n",
       "      <td>0107805405</td>\n",
       "      <td>2</td>\n",
       "      <td>0</td>\n",
       "      <td>0</td>\n",
       "      <td>0</td>\n",
       "      <td>0</td>\n",
       "    </tr>\n",
       "    <tr>\n",
       "      <th>2</th>\n",
       "      <td>9780107805401</td>\n",
       "      <td>1</td>\n",
       "      <td>0</td>\n",
       "      <td>0</td>\n",
       "      <td>0</td>\n",
       "      <td>0</td>\n",
       "    </tr>\n",
       "    <tr>\n",
       "      <th>3</th>\n",
       "      <td>0107805855</td>\n",
       "      <td>1</td>\n",
       "      <td>0</td>\n",
       "      <td>0</td>\n",
       "      <td>0</td>\n",
       "      <td>0</td>\n",
       "    </tr>\n",
       "    <tr>\n",
       "      <th>4</th>\n",
       "      <td>9780107805852</td>\n",
       "      <td>1</td>\n",
       "      <td>0</td>\n",
       "      <td>0</td>\n",
       "      <td>0</td>\n",
       "      <td>0</td>\n",
       "    </tr>\n",
       "    <tr>\n",
       "      <th>5</th>\n",
       "      <td>0108360377</td>\n",
       "      <td>1</td>\n",
       "      <td>0</td>\n",
       "      <td>0</td>\n",
       "      <td>0</td>\n",
       "      <td>0</td>\n",
       "    </tr>\n",
       "  </tbody>\n",
       "</table>\n",
       "</div>"
      ],
      "text/plain": [
       "                  isbn  OL  AZ14  GR  LOC  BX\n",
       "isbn_id                                      \n",
       "1           0107805405   2     0   0    0   0\n",
       "2        9780107805401   1     0   0    0   0\n",
       "3           0107805855   1     0   0    0   0\n",
       "4        9780107805852   1     0   0    0   0\n",
       "5           0108360377   1     0   0    0   0"
      ]
     },
     "execution_count": 13,
     "metadata": {},
     "output_type": "execute_result"
    }
   ],
   "source": [
    "isbns = pd.read_parquet('book-links/all-isbns.parquet').set_index('isbn_id')\n",
    "isbns.head()"
   ]
  },
  {
   "cell_type": "code",
   "execution_count": 14,
   "id": "d84bd934",
   "metadata": {
    "execution": {
     "iopub.execute_input": "2022-03-09T18:44:31.854081Z",
     "iopub.status.busy": "2022-03-09T18:44:31.854081Z",
     "iopub.status.idle": "2022-03-09T18:44:32.337659Z",
     "shell.execute_reply": "2022-03-09T18:44:32.337659Z"
    }
   },
   "outputs": [
    {
     "data": {
      "text/html": [
       "<div>\n",
       "<style scoped>\n",
       "    .dataframe tbody tr th:only-of-type {\n",
       "        vertical-align: middle;\n",
       "    }\n",
       "\n",
       "    .dataframe tbody tr th {\n",
       "        vertical-align: top;\n",
       "    }\n",
       "\n",
       "    .dataframe thead th {\n",
       "        text-align: right;\n",
       "    }\n",
       "</style>\n",
       "<table border=\"1\" class=\"dataframe\">\n",
       "  <thead>\n",
       "    <tr style=\"text-align: right;\">\n",
       "      <th></th>\n",
       "      <th>isbn_id</th>\n",
       "      <th>cluster</th>\n",
       "    </tr>\n",
       "  </thead>\n",
       "  <tbody>\n",
       "    <tr>\n",
       "      <th>0</th>\n",
       "      <td>24503563</td>\n",
       "      <td>924503563</td>\n",
       "    </tr>\n",
       "    <tr>\n",
       "      <th>1</th>\n",
       "      <td>24503562</td>\n",
       "      <td>924503562</td>\n",
       "    </tr>\n",
       "    <tr>\n",
       "      <th>2</th>\n",
       "      <td>24503561</td>\n",
       "      <td>924503561</td>\n",
       "    </tr>\n",
       "    <tr>\n",
       "      <th>3</th>\n",
       "      <td>24503560</td>\n",
       "      <td>924503560</td>\n",
       "    </tr>\n",
       "    <tr>\n",
       "      <th>4</th>\n",
       "      <td>24503559</td>\n",
       "      <td>924503559</td>\n",
       "    </tr>\n",
       "  </tbody>\n",
       "</table>\n",
       "</div>"
      ],
      "text/plain": [
       "    isbn_id    cluster\n",
       "0  24503563  924503563\n",
       "1  24503562  924503562\n",
       "2  24503561  924503561\n",
       "3  24503560  924503560\n",
       "4  24503559  924503559"
      ]
     },
     "execution_count": 14,
     "metadata": {},
     "output_type": "execute_result"
    }
   ],
   "source": [
    "links = pd.read_parquet('book-links/isbn-clusters.parquet', columns=['isbn_id', 'cluster'])\n",
    "links.head()"
   ]
  },
  {
   "cell_type": "code",
   "execution_count": 15,
   "id": "50e56e43",
   "metadata": {
    "execution": {
     "iopub.execute_input": "2022-03-09T18:44:32.345638Z",
     "iopub.status.busy": "2022-03-09T18:44:32.345638Z",
     "iopub.status.idle": "2022-03-09T18:44:40.658287Z",
     "shell.execute_reply": "2022-03-09T18:44:40.658287Z"
    }
   },
   "outputs": [
    {
     "data": {
      "text/html": [
       "<div>\n",
       "<style scoped>\n",
       "    .dataframe tbody tr th:only-of-type {\n",
       "        vertical-align: middle;\n",
       "    }\n",
       "\n",
       "    .dataframe tbody tr th {\n",
       "        vertical-align: top;\n",
       "    }\n",
       "\n",
       "    .dataframe thead th {\n",
       "        text-align: right;\n",
       "    }\n",
       "</style>\n",
       "<table border=\"1\" class=\"dataframe\">\n",
       "  <thead>\n",
       "    <tr style=\"text-align: right;\">\n",
       "      <th></th>\n",
       "      <th>isbn_id</th>\n",
       "      <th>isbn</th>\n",
       "      <th>OL</th>\n",
       "      <th>AZ14</th>\n",
       "      <th>GR</th>\n",
       "      <th>LOC</th>\n",
       "      <th>BX</th>\n",
       "    </tr>\n",
       "  </thead>\n",
       "  <tbody>\n",
       "    <tr>\n",
       "      <th>24463275</th>\n",
       "      <td>2629652</td>\n",
       "      <td>0001004735</td>\n",
       "      <td>1</td>\n",
       "      <td>0</td>\n",
       "      <td>0</td>\n",
       "      <td>0</td>\n",
       "      <td>0</td>\n",
       "    </tr>\n",
       "    <tr>\n",
       "      <th>24461807</th>\n",
       "      <td>15205685</td>\n",
       "      <td>0001848259</td>\n",
       "      <td>1</td>\n",
       "      <td>0</td>\n",
       "      <td>0</td>\n",
       "      <td>0</td>\n",
       "      <td>0</td>\n",
       "    </tr>\n",
       "    <tr>\n",
       "      <th>24457957</th>\n",
       "      <td>6469872</td>\n",
       "      <td>0003708853</td>\n",
       "      <td>2</td>\n",
       "      <td>0</td>\n",
       "      <td>0</td>\n",
       "      <td>0</td>\n",
       "      <td>0</td>\n",
       "    </tr>\n",
       "    <tr>\n",
       "      <th>24461049</th>\n",
       "      <td>3704513</td>\n",
       "      <td>0004214072</td>\n",
       "      <td>2</td>\n",
       "      <td>0</td>\n",
       "      <td>0</td>\n",
       "      <td>0</td>\n",
       "      <td>0</td>\n",
       "    </tr>\n",
       "    <tr>\n",
       "      <th>24463407</th>\n",
       "      <td>7251974</td>\n",
       "      <td>0004214501</td>\n",
       "      <td>1</td>\n",
       "      <td>0</td>\n",
       "      <td>0</td>\n",
       "      <td>0</td>\n",
       "      <td>0</td>\n",
       "    </tr>\n",
       "    <tr>\n",
       "      <th>...</th>\n",
       "      <td>...</td>\n",
       "      <td>...</td>\n",
       "      <td>...</td>\n",
       "      <td>...</td>\n",
       "      <td>...</td>\n",
       "      <td>...</td>\n",
       "      <td>...</td>\n",
       "    </tr>\n",
       "    <tr>\n",
       "      <th>24463533</th>\n",
       "      <td>12400676</td>\n",
       "      <td>9997718135</td>\n",
       "      <td>1</td>\n",
       "      <td>0</td>\n",
       "      <td>0</td>\n",
       "      <td>0</td>\n",
       "      <td>0</td>\n",
       "    </tr>\n",
       "    <tr>\n",
       "      <th>24463796</th>\n",
       "      <td>19925883</td>\n",
       "      <td>9998392802</td>\n",
       "      <td>1</td>\n",
       "      <td>0</td>\n",
       "      <td>0</td>\n",
       "      <td>0</td>\n",
       "      <td>0</td>\n",
       "    </tr>\n",
       "    <tr>\n",
       "      <th>24458035</th>\n",
       "      <td>10253791</td>\n",
       "      <td>9998556643</td>\n",
       "      <td>1</td>\n",
       "      <td>0</td>\n",
       "      <td>0</td>\n",
       "      <td>0</td>\n",
       "      <td>0</td>\n",
       "    </tr>\n",
       "    <tr>\n",
       "      <th>24459353</th>\n",
       "      <td>11272350</td>\n",
       "      <td>9998651174</td>\n",
       "      <td>1</td>\n",
       "      <td>0</td>\n",
       "      <td>0</td>\n",
       "      <td>0</td>\n",
       "      <td>0</td>\n",
       "    </tr>\n",
       "    <tr>\n",
       "      <th>24462478</th>\n",
       "      <td>16993255</td>\n",
       "      <td>9998708710</td>\n",
       "      <td>1</td>\n",
       "      <td>0</td>\n",
       "      <td>0</td>\n",
       "      <td>0</td>\n",
       "      <td>0</td>\n",
       "    </tr>\n",
       "  </tbody>\n",
       "</table>\n",
       "<p>7976 rows × 7 columns</p>\n",
       "</div>"
      ],
      "text/plain": [
       "           isbn_id        isbn  OL  AZ14  GR  LOC  BX\n",
       "24463275   2629652  0001004735   1     0   0    0   0\n",
       "24461807  15205685  0001848259   1     0   0    0   0\n",
       "24457957   6469872  0003708853   2     0   0    0   0\n",
       "24461049   3704513  0004214072   2     0   0    0   0\n",
       "24463407   7251974  0004214501   1     0   0    0   0\n",
       "...            ...         ...  ..   ...  ..  ...  ..\n",
       "24463533  12400676  9997718135   1     0   0    0   0\n",
       "24463796  19925883  9998392802   1     0   0    0   0\n",
       "24458035  10253791  9998556643   1     0   0    0   0\n",
       "24459353  11272350  9998651174   1     0   0    0   0\n",
       "24462478  16993255  9998708710   1     0   0    0   0\n",
       "\n",
       "[7976 rows x 7 columns]"
      ]
     },
     "execution_count": 15,
     "metadata": {},
     "output_type": "execute_result"
    }
   ],
   "source": [
    "big_id = big.index[0]\n",
    "bl = links[links['cluster'] == big_id].drop(columns=['cluster'])\n",
    "bl = bl.join(isbns, on='isbn_id')\n",
    "bl.sort_values('isbn')"
   ]
  },
  {
   "cell_type": "markdown",
   "id": "9e055492",
   "metadata": {},
   "source": [
    "What are the things with the highest record count (besides ratings)?"
   ]
  },
  {
   "cell_type": "code",
   "execution_count": 16,
   "id": "cbe474a5",
   "metadata": {
    "execution": {
     "iopub.execute_input": "2022-03-09T18:44:40.674497Z",
     "iopub.status.busy": "2022-03-09T18:44:40.666274Z",
     "iopub.status.idle": "2022-03-09T18:44:40.731247Z",
     "shell.execute_reply": "2022-03-09T18:44:40.730481Z"
    }
   },
   "outputs": [
    {
     "data": {
      "text/html": [
       "<div>\n",
       "<style scoped>\n",
       "    .dataframe tbody tr th:only-of-type {\n",
       "        vertical-align: middle;\n",
       "    }\n",
       "\n",
       "    .dataframe tbody tr th {\n",
       "        vertical-align: top;\n",
       "    }\n",
       "\n",
       "    .dataframe thead th {\n",
       "        text-align: right;\n",
       "    }\n",
       "</style>\n",
       "<table border=\"1\" class=\"dataframe\">\n",
       "  <thead>\n",
       "    <tr style=\"text-align: right;\">\n",
       "      <th></th>\n",
       "      <th>isbn_id</th>\n",
       "      <th>isbn</th>\n",
       "      <th>OL</th>\n",
       "      <th>AZ14</th>\n",
       "      <th>GR</th>\n",
       "      <th>LOC</th>\n",
       "      <th>BX</th>\n",
       "      <th>btot</th>\n",
       "    </tr>\n",
       "  </thead>\n",
       "  <tbody>\n",
       "    <tr>\n",
       "      <th>24457666</th>\n",
       "      <td>571512</td>\n",
       "      <td>014143984X</td>\n",
       "      <td>2</td>\n",
       "      <td>1614</td>\n",
       "      <td>1</td>\n",
       "      <td>1</td>\n",
       "      <td>9</td>\n",
       "      <td>1617</td>\n",
       "    </tr>\n",
       "    <tr>\n",
       "      <th>24456301</th>\n",
       "      <td>12904208</td>\n",
       "      <td>0141439769</td>\n",
       "      <td>1</td>\n",
       "      <td>1353</td>\n",
       "      <td>1</td>\n",
       "      <td>0</td>\n",
       "      <td>2</td>\n",
       "      <td>1355</td>\n",
       "    </tr>\n",
       "    <tr>\n",
       "      <th>24460760</th>\n",
       "      <td>4638309</td>\n",
       "      <td>0140621199</td>\n",
       "      <td>2</td>\n",
       "      <td>1185</td>\n",
       "      <td>1</td>\n",
       "      <td>0</td>\n",
       "      <td>18</td>\n",
       "      <td>1188</td>\n",
       "    </tr>\n",
       "    <tr>\n",
       "      <th>24458924</th>\n",
       "      <td>8836713</td>\n",
       "      <td>0140390839</td>\n",
       "      <td>1</td>\n",
       "      <td>993</td>\n",
       "      <td>1</td>\n",
       "      <td>0</td>\n",
       "      <td>11</td>\n",
       "      <td>995</td>\n",
       "    </tr>\n",
       "    <tr>\n",
       "      <th>24456961</th>\n",
       "      <td>14000419</td>\n",
       "      <td>006440188X</td>\n",
       "      <td>2</td>\n",
       "      <td>549</td>\n",
       "      <td>1</td>\n",
       "      <td>0</td>\n",
       "      <td>50</td>\n",
       "      <td>552</td>\n",
       "    </tr>\n",
       "    <tr>\n",
       "      <th>24460138</th>\n",
       "      <td>18983843</td>\n",
       "      <td>0141321008</td>\n",
       "      <td>1</td>\n",
       "      <td>509</td>\n",
       "      <td>1</td>\n",
       "      <td>0</td>\n",
       "      <td>0</td>\n",
       "      <td>511</td>\n",
       "    </tr>\n",
       "    <tr>\n",
       "      <th>24461660</th>\n",
       "      <td>661719</td>\n",
       "      <td>0140367217</td>\n",
       "      <td>2</td>\n",
       "      <td>256</td>\n",
       "      <td>1</td>\n",
       "      <td>0</td>\n",
       "      <td>7</td>\n",
       "      <td>259</td>\n",
       "    </tr>\n",
       "    <tr>\n",
       "      <th>24457231</th>\n",
       "      <td>12601550</td>\n",
       "      <td>0064401871</td>\n",
       "      <td>1</td>\n",
       "      <td>202</td>\n",
       "      <td>1</td>\n",
       "      <td>0</td>\n",
       "      <td>28</td>\n",
       "      <td>204</td>\n",
       "    </tr>\n",
       "    <tr>\n",
       "      <th>24457995</th>\n",
       "      <td>20238460</td>\n",
       "      <td>0451230515</td>\n",
       "      <td>0</td>\n",
       "      <td>199</td>\n",
       "      <td>1</td>\n",
       "      <td>0</td>\n",
       "      <td>0</td>\n",
       "      <td>200</td>\n",
       "    </tr>\n",
       "    <tr>\n",
       "      <th>24458704</th>\n",
       "      <td>2431202</td>\n",
       "      <td>0140390057</td>\n",
       "      <td>1</td>\n",
       "      <td>177</td>\n",
       "      <td>1</td>\n",
       "      <td>1</td>\n",
       "      <td>2</td>\n",
       "      <td>179</td>\n",
       "    </tr>\n",
       "    <tr>\n",
       "      <th>24462583</th>\n",
       "      <td>20196660</td>\n",
       "      <td>0141325291</td>\n",
       "      <td>0</td>\n",
       "      <td>174</td>\n",
       "      <td>1</td>\n",
       "      <td>0</td>\n",
       "      <td>0</td>\n",
       "      <td>175</td>\n",
       "    </tr>\n",
       "    <tr>\n",
       "      <th>24455902</th>\n",
       "      <td>4659920</td>\n",
       "      <td>0486408787</td>\n",
       "      <td>1</td>\n",
       "      <td>165</td>\n",
       "      <td>1</td>\n",
       "      <td>1</td>\n",
       "      <td>8</td>\n",
       "      <td>167</td>\n",
       "    </tr>\n",
       "    <tr>\n",
       "      <th>24458462</th>\n",
       "      <td>14151990</td>\n",
       "      <td>0140022651</td>\n",
       "      <td>1</td>\n",
       "      <td>162</td>\n",
       "      <td>1</td>\n",
       "      <td>0</td>\n",
       "      <td>15</td>\n",
       "      <td>164</td>\n",
       "    </tr>\n",
       "    <tr>\n",
       "      <th>24462132</th>\n",
       "      <td>13678997</td>\n",
       "      <td>014044906X</td>\n",
       "      <td>1</td>\n",
       "      <td>141</td>\n",
       "      <td>1</td>\n",
       "      <td>1</td>\n",
       "      <td>1</td>\n",
       "      <td>143</td>\n",
       "    </tr>\n",
       "    <tr>\n",
       "      <th>24456089</th>\n",
       "      <td>11150268</td>\n",
       "      <td>0393048470</td>\n",
       "      <td>3</td>\n",
       "      <td>119</td>\n",
       "      <td>1</td>\n",
       "      <td>1</td>\n",
       "      <td>4</td>\n",
       "      <td>123</td>\n",
       "    </tr>\n",
       "    <tr>\n",
       "      <th>24460634</th>\n",
       "      <td>17733477</td>\n",
       "      <td>0451522842</td>\n",
       "      <td>1</td>\n",
       "      <td>75</td>\n",
       "      <td>1</td>\n",
       "      <td>0</td>\n",
       "      <td>2</td>\n",
       "      <td>77</td>\n",
       "    </tr>\n",
       "    <tr>\n",
       "      <th>24456903</th>\n",
       "      <td>12534316</td>\n",
       "      <td>0451528832</td>\n",
       "      <td>1</td>\n",
       "      <td>72</td>\n",
       "      <td>1</td>\n",
       "      <td>1</td>\n",
       "      <td>0</td>\n",
       "      <td>74</td>\n",
       "    </tr>\n",
       "    <tr>\n",
       "      <th>24459224</th>\n",
       "      <td>15331659</td>\n",
       "      <td>0451528646</td>\n",
       "      <td>1</td>\n",
       "      <td>65</td>\n",
       "      <td>1</td>\n",
       "      <td>1</td>\n",
       "      <td>1</td>\n",
       "      <td>67</td>\n",
       "    </tr>\n",
       "    <tr>\n",
       "      <th>24458766</th>\n",
       "      <td>5567166</td>\n",
       "      <td>0140432620</td>\n",
       "      <td>2</td>\n",
       "      <td>56</td>\n",
       "      <td>1</td>\n",
       "      <td>0</td>\n",
       "      <td>4</td>\n",
       "      <td>59</td>\n",
       "    </tr>\n",
       "    <tr>\n",
       "      <th>24461166</th>\n",
       "      <td>7151344</td>\n",
       "      <td>0140366792</td>\n",
       "      <td>2</td>\n",
       "      <td>43</td>\n",
       "      <td>1</td>\n",
       "      <td>0</td>\n",
       "      <td>2</td>\n",
       "      <td>46</td>\n",
       "    </tr>\n",
       "  </tbody>\n",
       "</table>\n",
       "</div>"
      ],
      "text/plain": [
       "           isbn_id        isbn  OL  AZ14  GR  LOC  BX  btot\n",
       "24457666    571512  014143984X   2  1614   1    1   9  1617\n",
       "24456301  12904208  0141439769   1  1353   1    0   2  1355\n",
       "24460760   4638309  0140621199   2  1185   1    0  18  1188\n",
       "24458924   8836713  0140390839   1   993   1    0  11   995\n",
       "24456961  14000419  006440188X   2   549   1    0  50   552\n",
       "24460138  18983843  0141321008   1   509   1    0   0   511\n",
       "24461660    661719  0140367217   2   256   1    0   7   259\n",
       "24457231  12601550  0064401871   1   202   1    0  28   204\n",
       "24457995  20238460  0451230515   0   199   1    0   0   200\n",
       "24458704   2431202  0140390057   1   177   1    1   2   179\n",
       "24462583  20196660  0141325291   0   174   1    0   0   175\n",
       "24455902   4659920  0486408787   1   165   1    1   8   167\n",
       "24458462  14151990  0140022651   1   162   1    0  15   164\n",
       "24462132  13678997  014044906X   1   141   1    1   1   143\n",
       "24456089  11150268  0393048470   3   119   1    1   4   123\n",
       "24460634  17733477  0451522842   1    75   1    0   2    77\n",
       "24456903  12534316  0451528832   1    72   1    1   0    74\n",
       "24459224  15331659  0451528646   1    65   1    1   1    67\n",
       "24458766   5567166  0140432620   2    56   1    0   4    59\n",
       "24461166   7151344  0140366792   2    43   1    0   2    46"
      ]
     },
     "execution_count": 16,
     "metadata": {},
     "output_type": "execute_result"
    }
   ],
   "source": [
    "bl['btot'] = bl.iloc[:, 2:-2].sum(axis=1)\n",
    "bl.nlargest(20, 'btot')"
   ]
  },
  {
   "cell_type": "code",
   "execution_count": null,
   "id": "5894eda6",
   "metadata": {},
   "outputs": [],
   "source": []
  }
 ],
 "metadata": {
  "jupytext": {
   "formats": "ipynb,py:percent"
  },
  "kernelspec": {
   "display_name": "Python 3 (ipykernel)",
   "language": "python",
   "name": "python3"
  },
  "language_info": {
   "codemirror_mode": {
    "name": "ipython",
    "version": 3
   },
   "file_extension": ".py",
   "mimetype": "text/x-python",
   "name": "python",
   "nbconvert_exporter": "python",
   "pygments_lexer": "ipython3",
   "version": "3.8.12"
  }
 },
 "nbformat": 4,
 "nbformat_minor": 5
}
