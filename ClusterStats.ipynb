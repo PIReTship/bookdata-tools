{
 "cells": [
  {
   "cell_type": "raw",
   "id": "723972e7",
   "metadata": {},
   "source": [
    "---\n",
    "title: Book Clustering Statistics\n",
    "---"
   ]
  },
  {
   "cell_type": "markdown",
   "id": "24779c73",
   "metadata": {},
   "source": [
    "This notebook provides statistics on the results of our book clustering.\n",
    "\n",
    "\n",
    "## Setup\n"
   ]
  },
  {
   "cell_type": "code",
   "execution_count": 1,
   "id": "3812a24b",
   "metadata": {},
   "outputs": [
    {
     "name": "stderr",
     "output_type": "stream",
     "text": [
      "Warning message:\n",
      "“package ‘dplyr’ was built under R version 4.3.2”\n"
     ]
    },
    {
     "name": "stderr",
     "output_type": "stream",
     "text": [
      "Warning message:\n",
      "“package ‘stringr’ was built under R version 4.3.2”\n"
     ]
    },
    {
     "name": "stderr",
     "output_type": "stream",
     "text": [
      "── \u001b[1mAttaching core tidyverse packages\u001b[22m ──────────────────────── tidyverse 2.0.0 ──\n",
      "\u001b[32m✔\u001b[39m \u001b[34mdplyr    \u001b[39m 1.1.4     \u001b[32m✔\u001b[39m \u001b[34mreadr    \u001b[39m 2.1.4\n",
      "\u001b[32m✔\u001b[39m \u001b[34mforcats  \u001b[39m 1.0.0     \u001b[32m✔\u001b[39m \u001b[34mstringr  \u001b[39m 1.5.1\n",
      "\u001b[32m✔\u001b[39m \u001b[34mggplot2  \u001b[39m 3.4.4     \u001b[32m✔\u001b[39m \u001b[34mtibble   \u001b[39m 3.2.1\n",
      "\u001b[32m✔\u001b[39m \u001b[34mlubridate\u001b[39m 1.9.3     \u001b[32m✔\u001b[39m \u001b[34mtidyr    \u001b[39m 1.3.0\n",
      "\u001b[32m✔\u001b[39m \u001b[34mpurrr    \u001b[39m 1.0.2     \n"
     ]
    },
    {
     "name": "stderr",
     "output_type": "stream",
     "text": [
      "── \u001b[1mConflicts\u001b[22m ────────────────────────────────────────── tidyverse_conflicts() ──\n",
      "\u001b[31m✖\u001b[39m \u001b[34mdplyr\u001b[39m::\u001b[32mfilter()\u001b[39m masks \u001b[34mstats\u001b[39m::filter()\n",
      "\u001b[31m✖\u001b[39m \u001b[34mdplyr\u001b[39m::\u001b[32mlag()\u001b[39m    masks \u001b[34mstats\u001b[39m::lag()\n",
      "\u001b[36mℹ\u001b[39m Use the conflicted package (\u001b[3m\u001b[34m<http://conflicted.r-lib.org/>\u001b[39m\u001b[23m) to force all conflicts to become errors\n"
     ]
    },
    {
     "name": "stderr",
     "output_type": "stream",
     "text": [
      "Warning message:\n",
      "“package ‘arrow’ was built under R version 4.3.2”\n"
     ]
    }
   ],
   "source": [
    "library(tidyverse, warn.conflicts=FALSE)\n",
    "library(arrow, warn.conflicts=FALSE)"
   ]
  },
  {
   "cell_type": "markdown",
   "id": "9e901f19",
   "metadata": {},
   "source": [
    "I want to use `theme_minimal()` by default:\n"
   ]
  },
  {
   "cell_type": "code",
   "execution_count": 2,
   "id": "065d4641",
   "metadata": {},
   "outputs": [],
   "source": [
    "theme_set(theme_minimal())"
   ]
  },
  {
   "cell_type": "markdown",
   "id": "1390e88c",
   "metadata": {},
   "source": [
    "And default image sizes aren't great:\n"
   ]
  },
  {
   "cell_type": "code",
   "execution_count": 3,
   "id": "3c5a60cb",
   "metadata": {},
   "outputs": [],
   "source": [
    "options(repr.plot.width  = 7,\n",
    "        repr.plot.height = 4)"
   ]
  },
  {
   "cell_type": "markdown",
   "id": "1f0061dc",
   "metadata": {},
   "source": [
    "## Load Data\n",
    "\n",
    "Let's start by getting our clusters and their statistics:\n"
   ]
  },
  {
   "cell_type": "code",
   "execution_count": 4,
   "id": "b97931b5",
   "metadata": {},
   "outputs": [
    {
     "name": "stdout",
     "output_type": "stream",
     "text": [
      "Table\n",
      "39,732,662 rows x 8 columns\n",
      "$ cluster        \u001b[3m\u001b[90m<int32>\u001b[39m\u001b[23m 423896385, 454491654, 424930878, 449145631, 440372971, …\n",
      "$ n_nodes       \u001b[3m\u001b[90m<uint32>\u001b[39m\u001b[23m 2, 2, 2, 2, 2, 2, 2, 2, 2, 2, 2, 2, 2, 2, 2, 2, 2, 2, 2…\n",
      "$ n_isbns       \u001b[3m\u001b[90m<uint32>\u001b[39m\u001b[23m 0, 0, 0, 0, 0, 0, 0, 0, 0, 0, 0, 0, 0, 0, 0, 0, 0, 0, 0…\n",
      "$ n_loc_recs    \u001b[3m\u001b[90m<uint32>\u001b[39m\u001b[23m 0, 0, 0, 0, 0, 0, 0, 0, 0, 0, 0, 0, 0, 0, 0, 0, 0, 0, 0…\n",
      "$ n_ol_editions \u001b[3m\u001b[90m<uint32>\u001b[39m\u001b[23m 0, 0, 0, 0, 0, 0, 0, 0, 0, 0, 0, 0, 0, 0, 0, 0, 0, 0, 0…\n",
      "$ n_ol_works    \u001b[3m\u001b[90m<uint32>\u001b[39m\u001b[23m 0, 0, 0, 0, 0, 0, 0, 0, 0, 0, 0, 0, 0, 0, 0, 0, 0, 0, 0…\n",
      "$ n_gr_books    \u001b[3m\u001b[90m<uint32>\u001b[39m\u001b[23m 1, 1, 1, 1, 1, 1, 1, 1, 1, 1, 1, 1, 1, 1, 1, 1, 1, 1, 1…\n",
      "$ n_gr_works    \u001b[3m\u001b[90m<uint32>\u001b[39m\u001b[23m 1, 1, 1, 1, 1, 1, 1, 1, 1, 1, 1, 1, 1, 1, 1, 1, 1, 1, 1…\n"
     ]
    }
   ],
   "source": [
    "clusters = read_parquet(\"book-links/cluster-stats.parquet\", as_data_frame=FALSE)\n",
    "glimpse(clusters)"
   ]
  },
  {
   "cell_type": "markdown",
   "id": "41ad2255",
   "metadata": {},
   "source": [
    "Describe the count columns for basic descriptive stats:\n"
   ]
  },
  {
   "cell_type": "code",
   "execution_count": 5,
   "id": "787b9538",
   "metadata": {},
   "outputs": [
    {
     "data": {
      "text/plain": [
       "    n_nodes            n_isbns           n_loc_recs        n_ol_editions     \n",
       " Min.   :    1.00   Min.   :    0.00   Min.   :   0.0000   Min.   :    0.00  \n",
       " 1st Qu.:    2.00   1st Qu.:    0.00   1st Qu.:   0.0000   1st Qu.:    1.00  \n",
       " Median :    3.00   Median :    1.00   Median :   0.0000   Median :    1.00  \n",
       " Mean   :    3.38   Mean   :    1.08   Mean   :   0.2434   Mean   :    1.13  \n",
       " 3rd Qu.:    4.00   3rd Qu.:    2.00   3rd Qu.:   0.0000   3rd Qu.:    1.00  \n",
       " Max.   :99983.00   Max.   :47857.00   Max.   :1560.0000   Max.   :41648.00  \n",
       "   n_ol_works          n_gr_books         n_gr_works      \n",
       " Min.   :   0.0000   Min.   :   0.000   Min.   :  0.0000  \n",
       " 1st Qu.:   1.0000   1st Qu.:   0.000   1st Qu.:  0.0000  \n",
       " Median :   1.0000   Median :   0.000   Median :  0.0000  \n",
       " Mean   :   0.8241   Mean   :   0.059   Mean   :  0.0383  \n",
       " 3rd Qu.:   1.0000   3rd Qu.:   0.000   3rd Qu.:  0.0000  \n",
       " Max.   :2368.0000   Max.   :7289.000   Max.   :326.0000  "
      ]
     },
     "metadata": {},
     "output_type": "display_data"
    }
   ],
   "source": [
    "clusters %>%\n",
    "  select(-cluster) %>%\n",
    "  collect() %>%\n",
    "  summary()"
   ]
  },
  {
   "cell_type": "markdown",
   "id": "9c8d2786",
   "metadata": {},
   "source": [
    "75% of clusters only contain 2 ISBNs (probably -10 and -13) and one book. OpenLibrary also contributes to the largest number of clusters.\n",
    "\n",
    "## Clusters per Source\n",
    "\n",
    "How many clusters are connected to each source?\n"
   ]
  },
  {
   "cell_type": "code",
   "execution_count": 6,
   "id": "3bb3ad29",
   "metadata": {},
   "outputs": [
    {
     "data": {
      "text/html": [
       "<table class=\"dataframe\">\n",
       "<caption>A tibble: 7 × 2</caption>\n",
       "<thead>\n",
       "\t<tr><th scope=col>source</th><th scope=col>count</th></tr>\n",
       "\t<tr><th scope=col>&lt;chr&gt;</th><th scope=col>&lt;int&gt;</th></tr>\n",
       "</thead>\n",
       "<tbody>\n",
       "\t<tr><td>n_nodes      </td><td>39732662</td></tr>\n",
       "\t<tr><td>n_isbns      </td><td>23191293</td></tr>\n",
       "\t<tr><td>n_loc_recs   </td><td> 9279082</td></tr>\n",
       "\t<tr><td>n_ol_editions</td><td>33194439</td></tr>\n",
       "\t<tr><td>n_ol_works   </td><td>31327564</td></tr>\n",
       "\t<tr><td>n_gr_books   </td><td> 1505314</td></tr>\n",
       "\t<tr><td>n_gr_works   </td><td> 1504790</td></tr>\n",
       "</tbody>\n",
       "</table>\n"
      ],
      "text/latex": [
       "A tibble: 7 × 2\n",
       "\\begin{tabular}{ll}\n",
       " source & count\\\\\n",
       " <chr> & <int>\\\\\n",
       "\\hline\n",
       "\t n\\_nodes       & 39732662\\\\\n",
       "\t n\\_isbns       & 23191293\\\\\n",
       "\t n\\_loc\\_recs    &  9279082\\\\\n",
       "\t n\\_ol\\_editions & 33194439\\\\\n",
       "\t n\\_ol\\_works    & 31327564\\\\\n",
       "\t n\\_gr\\_books    &  1505314\\\\\n",
       "\t n\\_gr\\_works    &  1504790\\\\\n",
       "\\end{tabular}\n"
      ],
      "text/markdown": [
       "\n",
       "A tibble: 7 × 2\n",
       "\n",
       "| source &lt;chr&gt; | count &lt;int&gt; |\n",
       "|---|---|\n",
       "| n_nodes       | 39732662 |\n",
       "| n_isbns       | 23191293 |\n",
       "| n_loc_recs    |  9279082 |\n",
       "| n_ol_editions | 33194439 |\n",
       "| n_ol_works    | 31327564 |\n",
       "| n_gr_books    |  1505314 |\n",
       "| n_gr_works    |  1504790 |\n",
       "\n"
      ],
      "text/plain": [
       "  source        count   \n",
       "1 n_nodes       39732662\n",
       "2 n_isbns       23191293\n",
       "3 n_loc_recs     9279082\n",
       "4 n_ol_editions 33194439\n",
       "5 n_ol_works    31327564\n",
       "6 n_gr_books     1505314\n",
       "7 n_gr_works     1504790"
      ]
     },
     "metadata": {},
     "output_type": "display_data"
    }
   ],
   "source": [
    "src_counts = clusters %>%\n",
    "  summarize(across(-cluster, ~ sum(.x > 0))) %>%\n",
    "  collect() %>%\n",
    "  pivot_longer(everything(), names_to=\"source\", values_to=\"count\")\n",
    "src_counts"
   ]
  },
  {
   "cell_type": "code",
   "execution_count": 7,
   "id": "d8066073",
   "metadata": {},
   "outputs": [
    {
     "data": {
      "image/png": "[encoded data removed]",
      "text/plain": [
       "plot without title"
      ]
     },
     "metadata": {
      "image/png": {
       "height": 240,
       "width": 420
      }
     },
     "output_type": "display_data"
    }
   ],
   "source": [
    "ggplot(src_counts, aes(y=source, x=count)) +\n",
    "  geom_bar(stat='identity')"
   ]
  },
  {
   "cell_type": "markdown",
   "id": "98e53e60",
   "metadata": {},
   "source": [
    "## Distributions\n",
    "\n",
    "Let's look at the distributions of cluster sizes.  Let's first compute histograms\n",
    "of the number of records per cluster for each cluster type.\n"
   ]
  },
  {
   "cell_type": "code",
   "execution_count": 8,
   "id": "fac511eb",
   "metadata": {},
   "outputs": [
    {
     "data": {
      "text/html": [
       "<table class=\"dataframe\">\n",
       "<caption>A tibble: 6 × 3</caption>\n",
       "<thead>\n",
       "\t<tr><th scope=col>rec_type</th><th scope=col>nrecs</th><th scope=col>count</th></tr>\n",
       "\t<tr><th scope=col>&lt;fct&gt;</th><th scope=col>&lt;int&gt;</th><th scope=col>&lt;int&gt;</th></tr>\n",
       "</thead>\n",
       "<tbody>\n",
       "\t<tr><td>n_nodes</td><td>2</td><td>10145355</td></tr>\n",
       "\t<tr><td>n_nodes</td><td>1</td><td> 7003440</td></tr>\n",
       "\t<tr><td>n_nodes</td><td>3</td><td> 8529247</td></tr>\n",
       "\t<tr><td>n_nodes</td><td>4</td><td> 8060278</td></tr>\n",
       "\t<tr><td>n_nodes</td><td>5</td><td> 2057072</td></tr>\n",
       "\t<tr><td>n_nodes</td><td>6</td><td> 1098443</td></tr>\n",
       "</tbody>\n",
       "</table>\n"
      ],
      "text/latex": [
       "A tibble: 6 × 3\n",
       "\\begin{tabular}{lll}\n",
       " rec\\_type & nrecs & count\\\\\n",
       " <fct> & <int> & <int>\\\\\n",
       "\\hline\n",
       "\t n\\_nodes & 2 & 10145355\\\\\n",
       "\t n\\_nodes & 1 &  7003440\\\\\n",
       "\t n\\_nodes & 3 &  8529247\\\\\n",
       "\t n\\_nodes & 4 &  8060278\\\\\n",
       "\t n\\_nodes & 5 &  2057072\\\\\n",
       "\t n\\_nodes & 6 &  1098443\\\\\n",
       "\\end{tabular}\n"
      ],
      "text/markdown": [
       "\n",
       "A tibble: 6 × 3\n",
       "\n",
       "| rec_type &lt;fct&gt; | nrecs &lt;int&gt; | count &lt;int&gt; |\n",
       "|---|---|---|\n",
       "| n_nodes | 2 | 10145355 |\n",
       "| n_nodes | 1 |  7003440 |\n",
       "| n_nodes | 3 |  8529247 |\n",
       "| n_nodes | 4 |  8060278 |\n",
       "| n_nodes | 5 |  2057072 |\n",
       "| n_nodes | 6 |  1098443 |\n",
       "\n"
      ],
      "text/plain": [
       "  rec_type nrecs count   \n",
       "1 n_nodes  2     10145355\n",
       "2 n_nodes  1      7003440\n",
       "3 n_nodes  3      8529247\n",
       "4 n_nodes  4      8060278\n",
       "5 n_nodes  5      2057072\n",
       "6 n_nodes  6      1098443"
      ]
     },
     "metadata": {},
     "output_type": "display_data"
    }
   ],
   "source": [
    "size_dists = collect(clusters) %>%\n",
    "  gather(rec_type, nrecs, -cluster, factor_key=TRUE) %>%\n",
    "  summarize(count=n(), .by=c(\"rec_type\", \"nrecs\"))\n",
    "head(size_dists)"
   ]
  },
  {
   "cell_type": "code",
   "execution_count": 9,
   "id": "f4666ac1",
   "metadata": {},
   "outputs": [
    {
     "name": "stderr",
     "output_type": "stream",
     "text": [
      "Warning message:\n",
      "“\u001b[1m\u001b[22mTransformation introduced infinite values in continuous x-axis”\n"
     ]
    },
    {
     "data": {
      "image/png": "[encoded data removed]",
      "text/plain": [
       "plot without title"
      ]
     },
     "metadata": {
      "image/png": {
       "height": 240,
       "width": 420
      }
     },
     "output_type": "display_data"
    }
   ],
   "source": [
    "ggplot(size_dists) +\n",
    "  aes(x=nrecs, y=count, color=rec_type) +\n",
    "  geom_point() +\n",
    "  scale_x_log10() +\n",
    "  scale_y_log10() +\n",
    "  scale_color_brewer(type=\"qual\", palette=\"Dark2\") +\n",
    "  xlab(\"# of Records\") +\n",
    "  xlab(\"# of Clusters\") +\n",
    "  ggtitle(\"Distribution of cluster counts\")"
   ]
  },
  {
   "cell_type": "markdown",
   "id": "f5e5fa38",
   "metadata": {},
   "source": [
    "Looks mostly fine - we expect a lot of power laws - but the number of clusters with merged GoodReads works is concerning.\n",
    "\n",
    "## GoodReads Work Merging\n",
    "\n",
    "What's going on with these clusters? Let's take a peek at them.\n"
   ]
  },
  {
   "cell_type": "code",
   "execution_count": 10,
   "id": "efd0c106",
   "metadata": {},
   "outputs": [
    {
     "name": "stdout",
     "output_type": "stream",
     "text": [
      "Table (query)\n",
      "9,947 rows x 8 columns\n",
      "$ cluster        \u001b[3m\u001b[90m<int32>\u001b[39m\u001b[23m 100007751, 100121298, 100280224, 100758802, 103061864, …\n",
      "$ n_nodes       \u001b[3m\u001b[90m<uint32>\u001b[39m\u001b[23m 99983, 9562, 513, 1548, 315, 513, 304, 337, 685, 610, 5…\n",
      "$ n_isbns       \u001b[3m\u001b[90m<uint32>\u001b[39m\u001b[23m 47857, 4627, 192, 749, 141, 225, 120, 91, 245, 299, 248…\n",
      "$ n_loc_recs    \u001b[3m\u001b[90m<uint32>\u001b[39m\u001b[23m 1560, 281, 6, 54, 1, 6, 3, 38, 2, 0, 0, 1, 104, 111, 0,…\n",
      "$ n_ol_editions \u001b[3m\u001b[90m<uint32>\u001b[39m\u001b[23m 41648, 3710, 110, 442, 51, 113, 75, 64, 185, 170, 153, …\n",
      "$ n_ol_works    \u001b[3m\u001b[90m<uint32>\u001b[39m\u001b[23m 1303, 323, 75, 80, 18, 38, 21, 58, 75, 45, 47, 25, 190,…\n",
      "$ n_gr_books    \u001b[3m\u001b[90m<uint32>\u001b[39m\u001b[23m 7289, 515, 69, 170, 53, 91, 45, 46, 140, 60, 51, 46, 49…\n",
      "$ n_gr_works    \u001b[3m\u001b[90m<uint32>\u001b[39m\u001b[23m 326, 106, 61, 53, 51, 40, 40, 40, 38, 36, 34, 31, 30, 3…\n",
      "Call `print()` for query details\n"
     ]
    }
   ],
   "source": [
    "gr_big = clusters %>%\n",
    "  filter(n_gr_works > 1) %>%\n",
    "  arrange(desc(n_gr_works))\n",
    "gr_big %>% glimpse()"
   ]
  },
  {
   "cell_type": "markdown",
   "id": "85610ff3",
   "metadata": {},
   "source": [
    "We have a lot of these clusters. What fraction of the GoodReads-affected clusters is this?\n"
   ]
  },
  {
   "cell_type": "code",
   "execution_count": 11,
   "id": "85127eae",
   "metadata": {},
   "outputs": [
    {
     "data": {
      "text/plain": [
       "Scalar\n",
       "0.0002503481896078345"
      ]
     },
     "metadata": {},
     "output_type": "display_data"
    }
   ],
   "source": [
    "nrow(gr_big) / sum(!is.na(clusters$n_gr_books))"
   ]
  },
  {
   "cell_type": "markdown",
   "id": "84082f18",
   "metadata": {},
   "source": [
    "Less than 1%. Not bad, but let's look at these largest clusters.\n"
   ]
  },
  {
   "cell_type": "code",
   "execution_count": 12,
   "id": "247dd882",
   "metadata": {},
   "outputs": [
    {
     "data": {
      "text/html": [
       "<table class=\"dataframe\">\n",
       "<caption>A tibble: 6 × 8</caption>\n",
       "<thead>\n",
       "\t<tr><th scope=col>cluster</th><th scope=col>n_nodes</th><th scope=col>n_isbns</th><th scope=col>n_loc_recs</th><th scope=col>n_ol_editions</th><th scope=col>n_ol_works</th><th scope=col>n_gr_books</th><th scope=col>n_gr_works</th></tr>\n",
       "\t<tr><th scope=col>&lt;int&gt;</th><th scope=col>&lt;int&gt;</th><th scope=col>&lt;int&gt;</th><th scope=col>&lt;int&gt;</th><th scope=col>&lt;int&gt;</th><th scope=col>&lt;int&gt;</th><th scope=col>&lt;int&gt;</th><th scope=col>&lt;int&gt;</th></tr>\n",
       "</thead>\n",
       "<tbody>\n",
       "\t<tr><td>100007751</td><td>99983</td><td>47857</td><td>1560</td><td>41648</td><td>1303</td><td>7289</td><td>326</td></tr>\n",
       "\t<tr><td>100121298</td><td> 9562</td><td> 4627</td><td> 281</td><td> 3710</td><td> 323</td><td> 515</td><td>106</td></tr>\n",
       "\t<tr><td>100280224</td><td>  513</td><td>  192</td><td>   6</td><td>  110</td><td>  75</td><td>  69</td><td> 61</td></tr>\n",
       "\t<tr><td>100758802</td><td> 1548</td><td>  749</td><td>  54</td><td>  442</td><td>  80</td><td> 170</td><td> 53</td></tr>\n",
       "\t<tr><td>103061864</td><td>  315</td><td>  141</td><td>   1</td><td>   51</td><td>  18</td><td>  53</td><td> 51</td></tr>\n",
       "\t<tr><td>100678677</td><td>  513</td><td>  225</td><td>   6</td><td>  113</td><td>  38</td><td>  91</td><td> 40</td></tr>\n",
       "</tbody>\n",
       "</table>\n"
      ],
      "text/latex": [
       "A tibble: 6 × 8\n",
       "\\begin{tabular}{llllllll}\n",
       " cluster & n\\_nodes & n\\_isbns & n\\_loc\\_recs & n\\_ol\\_editions & n\\_ol\\_works & n\\_gr\\_books & n\\_gr\\_works\\\\\n",
       " <int> & <int> & <int> & <int> & <int> & <int> & <int> & <int>\\\\\n",
       "\\hline\n",
       "\t 100007751 & 99983 & 47857 & 1560 & 41648 & 1303 & 7289 & 326\\\\\n",
       "\t 100121298 &  9562 &  4627 &  281 &  3710 &  323 &  515 & 106\\\\\n",
       "\t 100280224 &   513 &   192 &    6 &   110 &   75 &   69 &  61\\\\\n",
       "\t 100758802 &  1548 &   749 &   54 &   442 &   80 &  170 &  53\\\\\n",
       "\t 103061864 &   315 &   141 &    1 &    51 &   18 &   53 &  51\\\\\n",
       "\t 100678677 &   513 &   225 &    6 &   113 &   38 &   91 &  40\\\\\n",
       "\\end{tabular}\n"
      ],
      "text/markdown": [
       "\n",
       "A tibble: 6 × 8\n",
       "\n",
       "| cluster &lt;int&gt; | n_nodes &lt;int&gt; | n_isbns &lt;int&gt; | n_loc_recs &lt;int&gt; | n_ol_editions &lt;int&gt; | n_ol_works &lt;int&gt; | n_gr_books &lt;int&gt; | n_gr_works &lt;int&gt; |\n",
       "|---|---|---|---|---|---|---|---|\n",
       "| 100007751 | 99983 | 47857 | 1560 | 41648 | 1303 | 7289 | 326 |\n",
       "| 100121298 |  9562 |  4627 |  281 |  3710 |  323 |  515 | 106 |\n",
       "| 100280224 |   513 |   192 |    6 |   110 |   75 |   69 |  61 |\n",
       "| 100758802 |  1548 |   749 |   54 |   442 |   80 |  170 |  53 |\n",
       "| 103061864 |   315 |   141 |    1 |    51 |   18 |   53 |  51 |\n",
       "| 100678677 |   513 |   225 |    6 |   113 |   38 |   91 |  40 |\n",
       "\n"
      ],
      "text/plain": [
       "  cluster   n_nodes n_isbns n_loc_recs n_ol_editions n_ol_works n_gr_books\n",
       "1 100007751 99983   47857   1560       41648         1303       7289      \n",
       "2 100121298  9562    4627    281        3710          323        515      \n",
       "3 100280224   513     192      6         110           75         69      \n",
       "4 100758802  1548     749     54         442           80        170      \n",
       "5 103061864   315     141      1          51           18         53      \n",
       "6 100678677   513     225      6         113           38         91      \n",
       "  n_gr_works\n",
       "1 326       \n",
       "2 106       \n",
       "3  61       \n",
       "4  53       \n",
       "5  51       \n",
       "6  40       "
      ]
     },
     "metadata": {},
     "output_type": "display_data"
    }
   ],
   "source": [
    "gr_big %>% head() %>% collect()"
   ]
  },
  {
   "cell_type": "markdown",
   "id": "12b99a79",
   "metadata": {},
   "source": [
    "## Large Cluster Debugging\n",
    "\n",
    "We have some pretty big clusters:\n"
   ]
  },
  {
   "cell_type": "code",
   "execution_count": 13,
   "id": "135d1127",
   "metadata": {},
   "outputs": [
    {
     "data": {
      "text/html": [
       "<table class=\"dataframe\">\n",
       "<caption>A tibble: 5 × 8</caption>\n",
       "<thead>\n",
       "\t<tr><th scope=col>cluster</th><th scope=col>n_nodes</th><th scope=col>n_isbns</th><th scope=col>n_loc_recs</th><th scope=col>n_ol_editions</th><th scope=col>n_ol_works</th><th scope=col>n_gr_books</th><th scope=col>n_gr_works</th></tr>\n",
       "\t<tr><th scope=col>&lt;int&gt;</th><th scope=col>&lt;int&gt;</th><th scope=col>&lt;int&gt;</th><th scope=col>&lt;int&gt;</th><th scope=col>&lt;int&gt;</th><th scope=col>&lt;int&gt;</th><th scope=col>&lt;int&gt;</th><th scope=col>&lt;int&gt;</th></tr>\n",
       "</thead>\n",
       "<tbody>\n",
       "\t<tr><td>100007751</td><td>99983</td><td>47857</td><td>1560</td><td>41648</td><td>1303</td><td>7289</td><td>326</td></tr>\n",
       "\t<tr><td>100241120</td><td>23061</td><td>11497</td><td> 189</td><td> 9899</td><td>  95</td><td>1353</td><td> 28</td></tr>\n",
       "\t<tr><td>124319853</td><td>11281</td><td> 7520</td><td>   0</td><td> 3760</td><td>   1</td><td>   0</td><td>  0</td></tr>\n",
       "\t<tr><td>122565397</td><td>10678</td><td> 7118</td><td>   0</td><td> 3559</td><td>   1</td><td>   0</td><td>  0</td></tr>\n",
       "\t<tr><td>100386149</td><td>10118</td><td> 6518</td><td>   7</td><td> 3558</td><td>  35</td><td>   0</td><td>  0</td></tr>\n",
       "</tbody>\n",
       "</table>\n"
      ],
      "text/latex": [
       "A tibble: 5 × 8\n",
       "\\begin{tabular}{llllllll}\n",
       " cluster & n\\_nodes & n\\_isbns & n\\_loc\\_recs & n\\_ol\\_editions & n\\_ol\\_works & n\\_gr\\_books & n\\_gr\\_works\\\\\n",
       " <int> & <int> & <int> & <int> & <int> & <int> & <int> & <int>\\\\\n",
       "\\hline\n",
       "\t 100007751 & 99983 & 47857 & 1560 & 41648 & 1303 & 7289 & 326\\\\\n",
       "\t 100241120 & 23061 & 11497 &  189 &  9899 &   95 & 1353 &  28\\\\\n",
       "\t 124319853 & 11281 &  7520 &    0 &  3760 &    1 &    0 &   0\\\\\n",
       "\t 122565397 & 10678 &  7118 &    0 &  3559 &    1 &    0 &   0\\\\\n",
       "\t 100386149 & 10118 &  6518 &    7 &  3558 &   35 &    0 &   0\\\\\n",
       "\\end{tabular}\n"
      ],
      "text/markdown": [
       "\n",
       "A tibble: 5 × 8\n",
       "\n",
       "| cluster &lt;int&gt; | n_nodes &lt;int&gt; | n_isbns &lt;int&gt; | n_loc_recs &lt;int&gt; | n_ol_editions &lt;int&gt; | n_ol_works &lt;int&gt; | n_gr_books &lt;int&gt; | n_gr_works &lt;int&gt; |\n",
       "|---|---|---|---|---|---|---|---|\n",
       "| 100007751 | 99983 | 47857 | 1560 | 41648 | 1303 | 7289 | 326 |\n",
       "| 100241120 | 23061 | 11497 |  189 |  9899 |   95 | 1353 |  28 |\n",
       "| 124319853 | 11281 |  7520 |    0 |  3760 |    1 |    0 |   0 |\n",
       "| 122565397 | 10678 |  7118 |    0 |  3559 |    1 |    0 |   0 |\n",
       "| 100386149 | 10118 |  6518 |    7 |  3558 |   35 |    0 |   0 |\n",
       "\n"
      ],
      "text/plain": [
       "  cluster   n_nodes n_isbns n_loc_recs n_ol_editions n_ol_works n_gr_books\n",
       "1 100007751 99983   47857   1560       41648         1303       7289      \n",
       "2 100241120 23061   11497    189        9899           95       1353      \n",
       "3 124319853 11281    7520      0        3760            1          0      \n",
       "4 122565397 10678    7118      0        3559            1          0      \n",
       "5 100386149 10118    6518      7        3558           35          0      \n",
       "  n_gr_works\n",
       "1 326       \n",
       "2  28       \n",
       "3   0       \n",
       "4   0       \n",
       "5   0       "
      ]
     },
     "metadata": {},
     "output_type": "display_data"
    }
   ],
   "source": [
    "big = clusters %>% slice_max(n_nodes, n=5, with_ties=FALSE) %>%\n",
    "  collect()\n",
    "big"
   ]
  },
  {
   "cell_type": "markdown",
   "id": "1c2a0182",
   "metadata": {},
   "source": [
    "What is up with this? We should figure out what went wrong, if we can.  What are its ISBNs?\n"
   ]
  },
  {
   "cell_type": "code",
   "execution_count": 14,
   "id": "f92be2bb",
   "metadata": {},
   "outputs": [
    {
     "name": "stdout",
     "output_type": "stream",
     "text": [
      "Table\n",
      "42,979,427 rows x 8 columns\n",
      "$ isbn_id     \u001b[3m\u001b[90m<int32>\u001b[39m\u001b[23m 1, 2, 3, 4, 5, 6, 7, 8, 9, 10, 11, 12, 13, 14, 15, 16, 17,…\n",
      "$ isbn \u001b[3m\u001b[90m<large_string>\u001b[39m\u001b[23m \"0132339277\", \"0739746642\", \"9780702265235\", \"978199982723…\n",
      "$ LOC        \u001b[3m\u001b[90m<uint32>\u001b[39m\u001b[23m 0, 0, 0, 0, 1, 0, 0, 0, 0, 0, 0, 0, 0, 1, 0, 0, 1, 0, 0, 0…\n",
      "$ OL         \u001b[3m\u001b[90m<uint32>\u001b[39m\u001b[23m 1, 1, 1, 1, 1, 1, 1, 2, 1, 1, 1, 1, 1, 1, 1, 1, 1, 1, 1, 1…\n",
      "$ GR          \u001b[3m\u001b[90m<int64>\u001b[39m\u001b[23m 0, 0, 0, 0, 0, 0, 0, 0, 0, 0, 0, 0, 0, 0, 0, 1, 0, 0, 0, 0…\n",
      "$ BX         \u001b[3m\u001b[90m<uint32>\u001b[39m\u001b[23m 0, 0, 0, 0, 0, 0, 0, 0, 0, 0, 0, 0, 0, 0, 0, 0, 0, 0, 0, 0…\n",
      "$ AZ14       \u001b[3m\u001b[90m<uint32>\u001b[39m\u001b[23m 0, 0, 0, 0, 0, 0, 0, 0, 0, 0, 0, 0, 0, 0, 0, 0, 0, 0, 0, 0…\n",
      "$ AZ18       \u001b[3m\u001b[90m<uint32>\u001b[39m\u001b[23m 0, 0, 0, 0, 0, 0, 0, 0, 0, 0, 0, 0, 0, 0, 0, 0, 0, 0, 0, 0…\n"
     ]
    }
   ],
   "source": [
    "isbns = read_parquet('book-links/all-isbns.parquet', as_data_frame=FALSE)\n",
    "glimpse(isbns)"
   ]
  },
  {
   "cell_type": "code",
   "execution_count": 15,
   "id": "f1752c00",
   "metadata": {},
   "outputs": [
    {
     "name": "stdout",
     "output_type": "stream",
     "text": [
      "Table (query)\n",
      "42,979,427 rows x 2 columns\n",
      "$ isbn_id \u001b[3m\u001b[90m<int32>\u001b[39m\u001b[23m 42979427, 42979426, 42979425, 42979424, 42979423, 42979422, 42…\n",
      "$ cluster \u001b[3m\u001b[90m<int32>\u001b[39m\u001b[23m 942979427, 942979426, 942979425, 942979424, 942979423, 9429794…\n",
      "Call `print()` for query details\n"
     ]
    }
   ],
   "source": [
    "links = read_parquet(\"book-links/isbn-clusters.parquet\", as_data_frame=FALSE) %>%\n",
    "  select(isbn_id, cluster)\n",
    "glimpse(links)"
   ]
  },
  {
   "cell_type": "markdown",
   "id": "3ee17e6c",
   "metadata": {},
   "source": [
    "Now let's look up data for the largest cluster.\n"
   ]
  },
  {
   "cell_type": "code",
   "execution_count": 16,
   "id": "83362bfb",
   "metadata": {},
   "outputs": [
    {
     "data": {
      "text/html": [
       "100007751"
      ],
      "text/latex": [
       "100007751"
      ],
      "text/markdown": [
       "100007751"
      ],
      "text/plain": [
       "[1] 100007751"
      ]
     },
     "metadata": {},
     "output_type": "display_data"
    }
   ],
   "source": [
    "big_id = big$cluster[1]\n",
    "big_id"
   ]
  },
  {
   "cell_type": "code",
   "execution_count": 17,
   "id": "ad9668c4",
   "metadata": {},
   "outputs": [
    {
     "name": "stdout",
     "output_type": "stream",
     "text": [
      "Table (query)\n",
      "?? rows x 8 columns\n",
      "$ isbn_id     \u001b[3m\u001b[90m<int32>\u001b[39m\u001b[23m 39745679, 40158378, 30928632, 6559564, 37397624, 21997422,…\n",
      "$ isbn \u001b[3m\u001b[90m<large_string>\u001b[39m\u001b[23m \"0000744395\", \"000074445X\", \"0001004735\", \"0001004743\", \"0…\n",
      "$ LOC        \u001b[3m\u001b[90m<uint32>\u001b[39m\u001b[23m 0, 0, 0, 0, 0, 0, 0, 0, 0, 0, 0, 0, 0, 0, 0, 1, 1, 0, 0, 0…\n",
      "$ OL         \u001b[3m\u001b[90m<uint32>\u001b[39m\u001b[23m 0, 0, 1, 1, 1, 1, 1, 1, 1, 1, 1, 1, 1, 1, 0, 2, 3, 1, 1, 1…\n",
      "$ GR          \u001b[3m\u001b[90m<int64>\u001b[39m\u001b[23m 1, 1, 0, 0, 0, 0, 0, 0, 0, 0, 0, 0, 0, 0, 1, 0, 1, 0, 0, 0…\n",
      "$ BX         \u001b[3m\u001b[90m<uint32>\u001b[39m\u001b[23m 0, 0, 0, 0, 0, 0, 0, 0, 0, 0, 0, 0, 0, 0, 0, 1, 1, 0, 0, 0…\n",
      "$ AZ14       \u001b[3m\u001b[90m<uint32>\u001b[39m\u001b[23m 0, 0, 0, 0, 0, 0, 0, 0, 0, 0, 0, 0, 0, 0, 0, 0, 0, 0, 0, 0…\n",
      "$ AZ18       \u001b[3m\u001b[90m<uint32>\u001b[39m\u001b[23m 0, 0, 0, 0, 0, 0, 0, 75, 0, 0, 0, 0, 0, 0, 0, 0, 0, 0, 390…\n",
      "Call `print()` for query details\n"
     ]
    }
   ],
   "source": [
    "bl = links %>% filter(cluster == big_id)\n",
    "bl = semi_join(isbns, bl) %>% arrange(isbn)\n",
    "bl %>% glimpse()"
   ]
  },
  {
   "cell_type": "markdown",
   "id": "b28be3d4",
   "metadata": {},
   "source": [
    "What are the things with the highest record count?\n"
   ]
  },
  {
   "cell_type": "code",
   "execution_count": 18,
   "id": "5583e446",
   "metadata": {},
   "outputs": [
    {
     "data": {
      "text/html": [
       "<table class=\"dataframe\">\n",
       "<caption>A rowwise_df: 47857 × 9</caption>\n",
       "<thead>\n",
       "\t<tr><th scope=col>isbn_id</th><th scope=col>isbn</th><th scope=col>LOC</th><th scope=col>OL</th><th scope=col>GR</th><th scope=col>BX</th><th scope=col>AZ14</th><th scope=col>AZ18</th><th scope=col>btot</th></tr>\n",
       "\t<tr><th scope=col>&lt;int&gt;</th><th scope=col>&lt;chr&gt;</th><th scope=col>&lt;int&gt;</th><th scope=col>&lt;int&gt;</th><th scope=col>&lt;int&gt;</th><th scope=col>&lt;int&gt;</th><th scope=col>&lt;int&gt;</th><th scope=col>&lt;int&gt;</th><th scope=col>&lt;int&gt;</th></tr>\n",
       "</thead>\n",
       "<tbody>\n",
       "\t<tr><td>39745679</td><td>0000744395</td><td>0</td><td>0</td><td>1</td><td>0</td><td>0</td><td>   0</td><td>   1</td></tr>\n",
       "\t<tr><td>40158378</td><td>000074445X</td><td>0</td><td>0</td><td>1</td><td>0</td><td>0</td><td>   0</td><td>   1</td></tr>\n",
       "\t<tr><td>30928632</td><td>0001004735</td><td>0</td><td>1</td><td>0</td><td>0</td><td>0</td><td>   0</td><td>   1</td></tr>\n",
       "\t<tr><td> 6559564</td><td>0001004743</td><td>0</td><td>1</td><td>0</td><td>0</td><td>0</td><td>   0</td><td>   1</td></tr>\n",
       "\t<tr><td>37397624</td><td>0001034375</td><td>0</td><td>1</td><td>0</td><td>0</td><td>0</td><td>   0</td><td>   1</td></tr>\n",
       "\t<tr><td>21997422</td><td>0001046403</td><td>0</td><td>1</td><td>0</td><td>0</td><td>0</td><td>   0</td><td>   1</td></tr>\n",
       "\t<tr><td>31143350</td><td>0001049283</td><td>0</td><td>1</td><td>0</td><td>0</td><td>0</td><td>   0</td><td>   1</td></tr>\n",
       "\t<tr><td> 7355270</td><td>0001054783</td><td>0</td><td>1</td><td>0</td><td>0</td><td>0</td><td>  75</td><td>  76</td></tr>\n",
       "\t<tr><td>27132324</td><td>0001385208</td><td>0</td><td>1</td><td>0</td><td>0</td><td>0</td><td>   0</td><td>   1</td></tr>\n",
       "\t<tr><td>38290750</td><td>0001847694</td><td>0</td><td>1</td><td>0</td><td>0</td><td>0</td><td>   0</td><td>   1</td></tr>\n",
       "\t<tr><td> 2957778</td><td>0001848259</td><td>0</td><td>1</td><td>0</td><td>0</td><td>0</td><td>   0</td><td>   1</td></tr>\n",
       "\t<tr><td>  822695</td><td>0001849123</td><td>0</td><td>1</td><td>0</td><td>0</td><td>0</td><td>   0</td><td>   1</td></tr>\n",
       "\t<tr><td>36861060</td><td>0001956671</td><td>0</td><td>1</td><td>0</td><td>0</td><td>0</td><td>   0</td><td>   1</td></tr>\n",
       "\t<tr><td>10097740</td><td>0001956795</td><td>0</td><td>1</td><td>0</td><td>0</td><td>0</td><td>   0</td><td>   1</td></tr>\n",
       "\t<tr><td>41291753</td><td>0002034840</td><td>0</td><td>0</td><td>1</td><td>0</td><td>0</td><td>   0</td><td>   1</td></tr>\n",
       "\t<tr><td> 2365315</td><td>0002219336</td><td>1</td><td>2</td><td>0</td><td>1</td><td>0</td><td>   0</td><td>   4</td></tr>\n",
       "\t<tr><td> 1170322</td><td>0002315394</td><td>1</td><td>3</td><td>1</td><td>1</td><td>0</td><td>   0</td><td>   6</td></tr>\n",
       "\t<tr><td>10795136</td><td>000272779X</td><td>0</td><td>1</td><td>0</td><td>0</td><td>0</td><td>   0</td><td>   1</td></tr>\n",
       "\t<tr><td>26641529</td><td>0003302245</td><td>0</td><td>1</td><td>0</td><td>0</td><td>0</td><td>3900</td><td>3901</td></tr>\n",
       "\t<tr><td>10665544</td><td>0003395359</td><td>0</td><td>1</td><td>0</td><td>0</td><td>0</td><td>   0</td><td>   1</td></tr>\n",
       "\t<tr><td> 9022377</td><td>0003700860</td><td>0</td><td>2</td><td>1</td><td>0</td><td>0</td><td>   0</td><td>   3</td></tr>\n",
       "\t<tr><td>26372219</td><td>0003702936</td><td>0</td><td>1</td><td>0</td><td>0</td><td>0</td><td>   0</td><td>   1</td></tr>\n",
       "\t<tr><td>38641828</td><td>0003708853</td><td>0</td><td>1</td><td>0</td><td>0</td><td>0</td><td>   0</td><td>   1</td></tr>\n",
       "\t<tr><td> 7984840</td><td>0004214072</td><td>0</td><td>2</td><td>0</td><td>0</td><td>0</td><td>   0</td><td>   2</td></tr>\n",
       "\t<tr><td>14701062</td><td>0004214501</td><td>0</td><td>1</td><td>0</td><td>0</td><td>0</td><td>   0</td><td>   1</td></tr>\n",
       "\t<tr><td>18673075</td><td>0004244702</td><td>0</td><td>1</td><td>0</td><td>0</td><td>0</td><td>   0</td><td>   1</td></tr>\n",
       "\t<tr><td>19014975</td><td>0004247256</td><td>0</td><td>1</td><td>0</td><td>0</td><td>0</td><td>   0</td><td>   1</td></tr>\n",
       "\t<tr><td>17070727</td><td>0004247264</td><td>0</td><td>1</td><td>0</td><td>0</td><td>0</td><td>   0</td><td>   1</td></tr>\n",
       "\t<tr><td> 9798002</td><td>0005304563</td><td>0</td><td>1</td><td>0</td><td>0</td><td>0</td><td>   0</td><td>   1</td></tr>\n",
       "\t<tr><td>26736381</td><td>0006109519</td><td>0</td><td>1</td><td>0</td><td>0</td><td>0</td><td>   0</td><td>   1</td></tr>\n",
       "\t<tr><td>⋮</td><td>⋮</td><td>⋮</td><td>⋮</td><td>⋮</td><td>⋮</td><td>⋮</td><td>⋮</td><td>⋮</td></tr>\n",
       "\t<tr><td>40219226</td><td>B01N1A58F4</td><td>0</td><td>0</td><td>1</td><td>0</td><td>0</td><td>0</td><td>1</td></tr>\n",
       "\t<tr><td>40572450</td><td>B01N4FCEX4</td><td>0</td><td>0</td><td>1</td><td>0</td><td>0</td><td>0</td><td>1</td></tr>\n",
       "\t<tr><td>41117196</td><td>B01N5JX21M</td><td>0</td><td>0</td><td>1</td><td>0</td><td>0</td><td>0</td><td>1</td></tr>\n",
       "\t<tr><td>40187244</td><td>B01N7ZJ4MT</td><td>0</td><td>0</td><td>1</td><td>0</td><td>0</td><td>0</td><td>1</td></tr>\n",
       "\t<tr><td>40906464</td><td>B01NAIYB6S</td><td>0</td><td>0</td><td>1</td><td>0</td><td>0</td><td>0</td><td>1</td></tr>\n",
       "\t<tr><td>40487195</td><td>B01NBKD6ZI</td><td>0</td><td>0</td><td>1</td><td>0</td><td>0</td><td>0</td><td>1</td></tr>\n",
       "\t<tr><td>40245816</td><td>B06VVSS7QH</td><td>0</td><td>0</td><td>1</td><td>0</td><td>0</td><td>0</td><td>1</td></tr>\n",
       "\t<tr><td>40499582</td><td>B06WP1M6KT</td><td>0</td><td>0</td><td>1</td><td>0</td><td>0</td><td>0</td><td>1</td></tr>\n",
       "\t<tr><td>41297448</td><td>B06X9HW4Z6</td><td>0</td><td>0</td><td>1</td><td>0</td><td>0</td><td>0</td><td>1</td></tr>\n",
       "\t<tr><td>40241139</td><td>B06XFPGRC7</td><td>0</td><td>0</td><td>1</td><td>0</td><td>0</td><td>0</td><td>1</td></tr>\n",
       "\t<tr><td>39989187</td><td>B06XQ4F351</td><td>0</td><td>0</td><td>1</td><td>0</td><td>0</td><td>0</td><td>1</td></tr>\n",
       "\t<tr><td>40118311</td><td>B06XQ64QV8</td><td>0</td><td>0</td><td>1</td><td>0</td><td>0</td><td>0</td><td>1</td></tr>\n",
       "\t<tr><td>40033247</td><td>B0716WRPFV</td><td>0</td><td>0</td><td>1</td><td>0</td><td>0</td><td>0</td><td>1</td></tr>\n",
       "\t<tr><td>40870280</td><td>B071RSDB49</td><td>0</td><td>0</td><td>1</td><td>0</td><td>0</td><td>0</td><td>1</td></tr>\n",
       "\t<tr><td>40213680</td><td>B0728MXM3Q</td><td>0</td><td>0</td><td>1</td><td>0</td><td>0</td><td>0</td><td>1</td></tr>\n",
       "\t<tr><td>40780930</td><td>B072F1WKW1</td><td>0</td><td>0</td><td>1</td><td>0</td><td>0</td><td>0</td><td>1</td></tr>\n",
       "\t<tr><td>40191645</td><td>B072L78PHK</td><td>0</td><td>0</td><td>1</td><td>0</td><td>0</td><td>0</td><td>1</td></tr>\n",
       "\t<tr><td>41240890</td><td>B072MQ8FL7</td><td>0</td><td>0</td><td>1</td><td>0</td><td>0</td><td>0</td><td>1</td></tr>\n",
       "\t<tr><td>40832083</td><td>B072S79HNS</td><td>0</td><td>0</td><td>1</td><td>0</td><td>0</td><td>0</td><td>1</td></tr>\n",
       "\t<tr><td>40340177</td><td>B072Z2KK5V</td><td>0</td><td>0</td><td>1</td><td>0</td><td>0</td><td>0</td><td>1</td></tr>\n",
       "\t<tr><td>39845811</td><td>B07381C14X</td><td>0</td><td>0</td><td>1</td><td>0</td><td>0</td><td>0</td><td>1</td></tr>\n",
       "\t<tr><td>40810824</td><td>B073GF59RD</td><td>0</td><td>0</td><td>1</td><td>0</td><td>0</td><td>0</td><td>1</td></tr>\n",
       "\t<tr><td>40719413</td><td>B073GGNYFL</td><td>0</td><td>0</td><td>1</td><td>0</td><td>0</td><td>0</td><td>1</td></tr>\n",
       "\t<tr><td>40101830</td><td>B073MZ23QX</td><td>0</td><td>0</td><td>1</td><td>0</td><td>0</td><td>0</td><td>1</td></tr>\n",
       "\t<tr><td>41316455</td><td>B073QM98F5</td><td>0</td><td>0</td><td>1</td><td>0</td><td>0</td><td>0</td><td>1</td></tr>\n",
       "\t<tr><td>41211939</td><td>B073SM1DVP</td><td>0</td><td>0</td><td>1</td><td>0</td><td>0</td><td>0</td><td>1</td></tr>\n",
       "\t<tr><td>40850733</td><td>B073SMQ7TV</td><td>0</td><td>0</td><td>1</td><td>0</td><td>0</td><td>0</td><td>1</td></tr>\n",
       "\t<tr><td>41236268</td><td>B074P9CM5T</td><td>0</td><td>0</td><td>1</td><td>0</td><td>0</td><td>0</td><td>1</td></tr>\n",
       "\t<tr><td>40564802</td><td>B074WFRH82</td><td>0</td><td>0</td><td>1</td><td>0</td><td>0</td><td>0</td><td>1</td></tr>\n",
       "\t<tr><td>40828138</td><td>B215071972</td><td>0</td><td>0</td><td>1</td><td>0</td><td>0</td><td>0</td><td>1</td></tr>\n",
       "</tbody>\n",
       "</table>\n"
      ],
      "text/latex": [
       "A rowwise\\_df: 47857 × 9\n",
       "\\begin{tabular}{lllllllll}\n",
       " isbn\\_id & isbn & LOC & OL & GR & BX & AZ14 & AZ18 & btot\\\\\n",
       " <int> & <chr> & <int> & <int> & <int> & <int> & <int> & <int> & <int>\\\\\n",
       "\\hline\n",
       "\t 39745679 & 0000744395 & 0 & 0 & 1 & 0 & 0 &    0 &    1\\\\\n",
       "\t 40158378 & 000074445X & 0 & 0 & 1 & 0 & 0 &    0 &    1\\\\\n",
       "\t 30928632 & 0001004735 & 0 & 1 & 0 & 0 & 0 &    0 &    1\\\\\n",
       "\t  6559564 & 0001004743 & 0 & 1 & 0 & 0 & 0 &    0 &    1\\\\\n",
       "\t 37397624 & 0001034375 & 0 & 1 & 0 & 0 & 0 &    0 &    1\\\\\n",
       "\t 21997422 & 0001046403 & 0 & 1 & 0 & 0 & 0 &    0 &    1\\\\\n",
       "\t 31143350 & 0001049283 & 0 & 1 & 0 & 0 & 0 &    0 &    1\\\\\n",
       "\t  7355270 & 0001054783 & 0 & 1 & 0 & 0 & 0 &   75 &   76\\\\\n",
       "\t 27132324 & 0001385208 & 0 & 1 & 0 & 0 & 0 &    0 &    1\\\\\n",
       "\t 38290750 & 0001847694 & 0 & 1 & 0 & 0 & 0 &    0 &    1\\\\\n",
       "\t  2957778 & 0001848259 & 0 & 1 & 0 & 0 & 0 &    0 &    1\\\\\n",
       "\t   822695 & 0001849123 & 0 & 1 & 0 & 0 & 0 &    0 &    1\\\\\n",
       "\t 36861060 & 0001956671 & 0 & 1 & 0 & 0 & 0 &    0 &    1\\\\\n",
       "\t 10097740 & 0001956795 & 0 & 1 & 0 & 0 & 0 &    0 &    1\\\\\n",
       "\t 41291753 & 0002034840 & 0 & 0 & 1 & 0 & 0 &    0 &    1\\\\\n",
       "\t  2365315 & 0002219336 & 1 & 2 & 0 & 1 & 0 &    0 &    4\\\\\n",
       "\t  1170322 & 0002315394 & 1 & 3 & 1 & 1 & 0 &    0 &    6\\\\\n",
       "\t 10795136 & 000272779X & 0 & 1 & 0 & 0 & 0 &    0 &    1\\\\\n",
       "\t 26641529 & 0003302245 & 0 & 1 & 0 & 0 & 0 & 3900 & 3901\\\\\n",
       "\t 10665544 & 0003395359 & 0 & 1 & 0 & 0 & 0 &    0 &    1\\\\\n",
       "\t  9022377 & 0003700860 & 0 & 2 & 1 & 0 & 0 &    0 &    3\\\\\n",
       "\t 26372219 & 0003702936 & 0 & 1 & 0 & 0 & 0 &    0 &    1\\\\\n",
       "\t 38641828 & 0003708853 & 0 & 1 & 0 & 0 & 0 &    0 &    1\\\\\n",
       "\t  7984840 & 0004214072 & 0 & 2 & 0 & 0 & 0 &    0 &    2\\\\\n",
       "\t 14701062 & 0004214501 & 0 & 1 & 0 & 0 & 0 &    0 &    1\\\\\n",
       "\t 18673075 & 0004244702 & 0 & 1 & 0 & 0 & 0 &    0 &    1\\\\\n",
       "\t 19014975 & 0004247256 & 0 & 1 & 0 & 0 & 0 &    0 &    1\\\\\n",
       "\t 17070727 & 0004247264 & 0 & 1 & 0 & 0 & 0 &    0 &    1\\\\\n",
       "\t  9798002 & 0005304563 & 0 & 1 & 0 & 0 & 0 &    0 &    1\\\\\n",
       "\t 26736381 & 0006109519 & 0 & 1 & 0 & 0 & 0 &    0 &    1\\\\\n",
       "\t ⋮ & ⋮ & ⋮ & ⋮ & ⋮ & ⋮ & ⋮ & ⋮ & ⋮\\\\\n",
       "\t 40219226 & B01N1A58F4 & 0 & 0 & 1 & 0 & 0 & 0 & 1\\\\\n",
       "\t 40572450 & B01N4FCEX4 & 0 & 0 & 1 & 0 & 0 & 0 & 1\\\\\n",
       "\t 41117196 & B01N5JX21M & 0 & 0 & 1 & 0 & 0 & 0 & 1\\\\\n",
       "\t 40187244 & B01N7ZJ4MT & 0 & 0 & 1 & 0 & 0 & 0 & 1\\\\\n",
       "\t 40906464 & B01NAIYB6S & 0 & 0 & 1 & 0 & 0 & 0 & 1\\\\\n",
       "\t 40487195 & B01NBKD6ZI & 0 & 0 & 1 & 0 & 0 & 0 & 1\\\\\n",
       "\t 40245816 & B06VVSS7QH & 0 & 0 & 1 & 0 & 0 & 0 & 1\\\\\n",
       "\t 40499582 & B06WP1M6KT & 0 & 0 & 1 & 0 & 0 & 0 & 1\\\\\n",
       "\t 41297448 & B06X9HW4Z6 & 0 & 0 & 1 & 0 & 0 & 0 & 1\\\\\n",
       "\t 40241139 & B06XFPGRC7 & 0 & 0 & 1 & 0 & 0 & 0 & 1\\\\\n",
       "\t 39989187 & B06XQ4F351 & 0 & 0 & 1 & 0 & 0 & 0 & 1\\\\\n",
       "\t 40118311 & B06XQ64QV8 & 0 & 0 & 1 & 0 & 0 & 0 & 1\\\\\n",
       "\t 40033247 & B0716WRPFV & 0 & 0 & 1 & 0 & 0 & 0 & 1\\\\\n",
       "\t 40870280 & B071RSDB49 & 0 & 0 & 1 & 0 & 0 & 0 & 1\\\\\n",
       "\t 40213680 & B0728MXM3Q & 0 & 0 & 1 & 0 & 0 & 0 & 1\\\\\n",
       "\t 40780930 & B072F1WKW1 & 0 & 0 & 1 & 0 & 0 & 0 & 1\\\\\n",
       "\t 40191645 & B072L78PHK & 0 & 0 & 1 & 0 & 0 & 0 & 1\\\\\n",
       "\t 41240890 & B072MQ8FL7 & 0 & 0 & 1 & 0 & 0 & 0 & 1\\\\\n",
       "\t 40832083 & B072S79HNS & 0 & 0 & 1 & 0 & 0 & 0 & 1\\\\\n",
       "\t 40340177 & B072Z2KK5V & 0 & 0 & 1 & 0 & 0 & 0 & 1\\\\\n",
       "\t 39845811 & B07381C14X & 0 & 0 & 1 & 0 & 0 & 0 & 1\\\\\n",
       "\t 40810824 & B073GF59RD & 0 & 0 & 1 & 0 & 0 & 0 & 1\\\\\n",
       "\t 40719413 & B073GGNYFL & 0 & 0 & 1 & 0 & 0 & 0 & 1\\\\\n",
       "\t 40101830 & B073MZ23QX & 0 & 0 & 1 & 0 & 0 & 0 & 1\\\\\n",
       "\t 41316455 & B073QM98F5 & 0 & 0 & 1 & 0 & 0 & 0 & 1\\\\\n",
       "\t 41211939 & B073SM1DVP & 0 & 0 & 1 & 0 & 0 & 0 & 1\\\\\n",
       "\t 40850733 & B073SMQ7TV & 0 & 0 & 1 & 0 & 0 & 0 & 1\\\\\n",
       "\t 41236268 & B074P9CM5T & 0 & 0 & 1 & 0 & 0 & 0 & 1\\\\\n",
       "\t 40564802 & B074WFRH82 & 0 & 0 & 1 & 0 & 0 & 0 & 1\\\\\n",
       "\t 40828138 & B215071972 & 0 & 0 & 1 & 0 & 0 & 0 & 1\\\\\n",
       "\\end{tabular}\n"
      ],
      "text/markdown": [
       "\n",
       "A rowwise_df: 47857 × 9\n",
       "\n",
       "| isbn_id &lt;int&gt; | isbn &lt;chr&gt; | LOC &lt;int&gt; | OL &lt;int&gt; | GR &lt;int&gt; | BX &lt;int&gt; | AZ14 &lt;int&gt; | AZ18 &lt;int&gt; | btot &lt;int&gt; |\n",
       "|---|---|---|---|---|---|---|---|---|\n",
       "| 39745679 | 0000744395 | 0 | 0 | 1 | 0 | 0 |    0 |    1 |\n",
       "| 40158378 | 000074445X | 0 | 0 | 1 | 0 | 0 |    0 |    1 |\n",
       "| 30928632 | 0001004735 | 0 | 1 | 0 | 0 | 0 |    0 |    1 |\n",
       "|  6559564 | 0001004743 | 0 | 1 | 0 | 0 | 0 |    0 |    1 |\n",
       "| 37397624 | 0001034375 | 0 | 1 | 0 | 0 | 0 |    0 |    1 |\n",
       "| 21997422 | 0001046403 | 0 | 1 | 0 | 0 | 0 |    0 |    1 |\n",
       "| 31143350 | 0001049283 | 0 | 1 | 0 | 0 | 0 |    0 |    1 |\n",
       "|  7355270 | 0001054783 | 0 | 1 | 0 | 0 | 0 |   75 |   76 |\n",
       "| 27132324 | 0001385208 | 0 | 1 | 0 | 0 | 0 |    0 |    1 |\n",
       "| 38290750 | 0001847694 | 0 | 1 | 0 | 0 | 0 |    0 |    1 |\n",
       "|  2957778 | 0001848259 | 0 | 1 | 0 | 0 | 0 |    0 |    1 |\n",
       "|   822695 | 0001849123 | 0 | 1 | 0 | 0 | 0 |    0 |    1 |\n",
       "| 36861060 | 0001956671 | 0 | 1 | 0 | 0 | 0 |    0 |    1 |\n",
       "| 10097740 | 0001956795 | 0 | 1 | 0 | 0 | 0 |    0 |    1 |\n",
       "| 41291753 | 0002034840 | 0 | 0 | 1 | 0 | 0 |    0 |    1 |\n",
       "|  2365315 | 0002219336 | 1 | 2 | 0 | 1 | 0 |    0 |    4 |\n",
       "|  1170322 | 0002315394 | 1 | 3 | 1 | 1 | 0 |    0 |    6 |\n",
       "| 10795136 | 000272779X | 0 | 1 | 0 | 0 | 0 |    0 |    1 |\n",
       "| 26641529 | 0003302245 | 0 | 1 | 0 | 0 | 0 | 3900 | 3901 |\n",
       "| 10665544 | 0003395359 | 0 | 1 | 0 | 0 | 0 |    0 |    1 |\n",
       "|  9022377 | 0003700860 | 0 | 2 | 1 | 0 | 0 |    0 |    3 |\n",
       "| 26372219 | 0003702936 | 0 | 1 | 0 | 0 | 0 |    0 |    1 |\n",
       "| 38641828 | 0003708853 | 0 | 1 | 0 | 0 | 0 |    0 |    1 |\n",
       "|  7984840 | 0004214072 | 0 | 2 | 0 | 0 | 0 |    0 |    2 |\n",
       "| 14701062 | 0004214501 | 0 | 1 | 0 | 0 | 0 |    0 |    1 |\n",
       "| 18673075 | 0004244702 | 0 | 1 | 0 | 0 | 0 |    0 |    1 |\n",
       "| 19014975 | 0004247256 | 0 | 1 | 0 | 0 | 0 |    0 |    1 |\n",
       "| 17070727 | 0004247264 | 0 | 1 | 0 | 0 | 0 |    0 |    1 |\n",
       "|  9798002 | 0005304563 | 0 | 1 | 0 | 0 | 0 |    0 |    1 |\n",
       "| 26736381 | 0006109519 | 0 | 1 | 0 | 0 | 0 |    0 |    1 |\n",
       "| ⋮ | ⋮ | ⋮ | ⋮ | ⋮ | ⋮ | ⋮ | ⋮ | ⋮ |\n",
       "| 40219226 | B01N1A58F4 | 0 | 0 | 1 | 0 | 0 | 0 | 1 |\n",
       "| 40572450 | B01N4FCEX4 | 0 | 0 | 1 | 0 | 0 | 0 | 1 |\n",
       "| 41117196 | B01N5JX21M | 0 | 0 | 1 | 0 | 0 | 0 | 1 |\n",
       "| 40187244 | B01N7ZJ4MT | 0 | 0 | 1 | 0 | 0 | 0 | 1 |\n",
       "| 40906464 | B01NAIYB6S | 0 | 0 | 1 | 0 | 0 | 0 | 1 |\n",
       "| 40487195 | B01NBKD6ZI | 0 | 0 | 1 | 0 | 0 | 0 | 1 |\n",
       "| 40245816 | B06VVSS7QH | 0 | 0 | 1 | 0 | 0 | 0 | 1 |\n",
       "| 40499582 | B06WP1M6KT | 0 | 0 | 1 | 0 | 0 | 0 | 1 |\n",
       "| 41297448 | B06X9HW4Z6 | 0 | 0 | 1 | 0 | 0 | 0 | 1 |\n",
       "| 40241139 | B06XFPGRC7 | 0 | 0 | 1 | 0 | 0 | 0 | 1 |\n",
       "| 39989187 | B06XQ4F351 | 0 | 0 | 1 | 0 | 0 | 0 | 1 |\n",
       "| 40118311 | B06XQ64QV8 | 0 | 0 | 1 | 0 | 0 | 0 | 1 |\n",
       "| 40033247 | B0716WRPFV | 0 | 0 | 1 | 0 | 0 | 0 | 1 |\n",
       "| 40870280 | B071RSDB49 | 0 | 0 | 1 | 0 | 0 | 0 | 1 |\n",
       "| 40213680 | B0728MXM3Q | 0 | 0 | 1 | 0 | 0 | 0 | 1 |\n",
       "| 40780930 | B072F1WKW1 | 0 | 0 | 1 | 0 | 0 | 0 | 1 |\n",
       "| 40191645 | B072L78PHK | 0 | 0 | 1 | 0 | 0 | 0 | 1 |\n",
       "| 41240890 | B072MQ8FL7 | 0 | 0 | 1 | 0 | 0 | 0 | 1 |\n",
       "| 40832083 | B072S79HNS | 0 | 0 | 1 | 0 | 0 | 0 | 1 |\n",
       "| 40340177 | B072Z2KK5V | 0 | 0 | 1 | 0 | 0 | 0 | 1 |\n",
       "| 39845811 | B07381C14X | 0 | 0 | 1 | 0 | 0 | 0 | 1 |\n",
       "| 40810824 | B073GF59RD | 0 | 0 | 1 | 0 | 0 | 0 | 1 |\n",
       "| 40719413 | B073GGNYFL | 0 | 0 | 1 | 0 | 0 | 0 | 1 |\n",
       "| 40101830 | B073MZ23QX | 0 | 0 | 1 | 0 | 0 | 0 | 1 |\n",
       "| 41316455 | B073QM98F5 | 0 | 0 | 1 | 0 | 0 | 0 | 1 |\n",
       "| 41211939 | B073SM1DVP | 0 | 0 | 1 | 0 | 0 | 0 | 1 |\n",
       "| 40850733 | B073SMQ7TV | 0 | 0 | 1 | 0 | 0 | 0 | 1 |\n",
       "| 41236268 | B074P9CM5T | 0 | 0 | 1 | 0 | 0 | 0 | 1 |\n",
       "| 40564802 | B074WFRH82 | 0 | 0 | 1 | 0 | 0 | 0 | 1 |\n",
       "| 40828138 | B215071972 | 0 | 0 | 1 | 0 | 0 | 0 | 1 |\n",
       "\n"
      ],
      "text/plain": [
       "      isbn_id  isbn       LOC OL GR BX AZ14 AZ18 btot\n",
       "1     39745679 0000744395 0   0  1  0  0       0    1\n",
       "2     40158378 000074445X 0   0  1  0  0       0    1\n",
       "3     30928632 0001004735 0   1  0  0  0       0    1\n",
       "4      6559564 0001004743 0   1  0  0  0       0    1\n",
       "5     37397624 0001034375 0   1  0  0  0       0    1\n",
       "6     21997422 0001046403 0   1  0  0  0       0    1\n",
       "7     31143350 0001049283 0   1  0  0  0       0    1\n",
       "8      7355270 0001054783 0   1  0  0  0      75   76\n",
       "9     27132324 0001385208 0   1  0  0  0       0    1\n",
       "10    38290750 0001847694 0   1  0  0  0       0    1\n",
       "11     2957778 0001848259 0   1  0  0  0       0    1\n",
       "12      822695 0001849123 0   1  0  0  0       0    1\n",
       "13    36861060 0001956671 0   1  0  0  0       0    1\n",
       "14    10097740 0001956795 0   1  0  0  0       0    1\n",
       "15    41291753 0002034840 0   0  1  0  0       0    1\n",
       "16     2365315 0002219336 1   2  0  1  0       0    4\n",
       "17     1170322 0002315394 1   3  1  1  0       0    6\n",
       "18    10795136 000272779X 0   1  0  0  0       0    1\n",
       "19    26641529 0003302245 0   1  0  0  0    3900 3901\n",
       "20    10665544 0003395359 0   1  0  0  0       0    1\n",
       "21     9022377 0003700860 0   2  1  0  0       0    3\n",
       "22    26372219 0003702936 0   1  0  0  0       0    1\n",
       "23    38641828 0003708853 0   1  0  0  0       0    1\n",
       "24     7984840 0004214072 0   2  0  0  0       0    2\n",
       "25    14701062 0004214501 0   1  0  0  0       0    1\n",
       "26    18673075 0004244702 0   1  0  0  0       0    1\n",
       "27    19014975 0004247256 0   1  0  0  0       0    1\n",
       "28    17070727 0004247264 0   1  0  0  0       0    1\n",
       "29     9798002 0005304563 0   1  0  0  0       0    1\n",
       "30    26736381 0006109519 0   1  0  0  0       0    1\n",
       "⋮     ⋮        ⋮          ⋮   ⋮  ⋮  ⋮  ⋮    ⋮    ⋮   \n",
       "47828 40219226 B01N1A58F4 0   0  1  0  0    0    1   \n",
       "47829 40572450 B01N4FCEX4 0   0  1  0  0    0    1   \n",
       "47830 41117196 B01N5JX21M 0   0  1  0  0    0    1   \n",
       "47831 40187244 B01N7ZJ4MT 0   0  1  0  0    0    1   \n",
       "47832 40906464 B01NAIYB6S 0   0  1  0  0    0    1   \n",
       "47833 40487195 B01NBKD6ZI 0   0  1  0  0    0    1   \n",
       "47834 40245816 B06VVSS7QH 0   0  1  0  0    0    1   \n",
       "47835 40499582 B06WP1M6KT 0   0  1  0  0    0    1   \n",
       "47836 41297448 B06X9HW4Z6 0   0  1  0  0    0    1   \n",
       "47837 40241139 B06XFPGRC7 0   0  1  0  0    0    1   \n",
       "47838 39989187 B06XQ4F351 0   0  1  0  0    0    1   \n",
       "47839 40118311 B06XQ64QV8 0   0  1  0  0    0    1   \n",
       "47840 40033247 B0716WRPFV 0   0  1  0  0    0    1   \n",
       "47841 40870280 B071RSDB49 0   0  1  0  0    0    1   \n",
       "47842 40213680 B0728MXM3Q 0   0  1  0  0    0    1   \n",
       "47843 40780930 B072F1WKW1 0   0  1  0  0    0    1   \n",
       "47844 40191645 B072L78PHK 0   0  1  0  0    0    1   \n",
       "47845 41240890 B072MQ8FL7 0   0  1  0  0    0    1   \n",
       "47846 40832083 B072S79HNS 0   0  1  0  0    0    1   \n",
       "47847 40340177 B072Z2KK5V 0   0  1  0  0    0    1   \n",
       "47848 39845811 B07381C14X 0   0  1  0  0    0    1   \n",
       "47849 40810824 B073GF59RD 0   0  1  0  0    0    1   \n",
       "47850 40719413 B073GGNYFL 0   0  1  0  0    0    1   \n",
       "47851 40101830 B073MZ23QX 0   0  1  0  0    0    1   \n",
       "47852 41316455 B073QM98F5 0   0  1  0  0    0    1   \n",
       "47853 41211939 B073SM1DVP 0   0  1  0  0    0    1   \n",
       "47854 40850733 B073SMQ7TV 0   0  1  0  0    0    1   \n",
       "47855 41236268 B074P9CM5T 0   0  1  0  0    0    1   \n",
       "47856 40564802 B074WFRH82 0   0  1  0  0    0    1   \n",
       "47857 40828138 B215071972 0   0  1  0  0    0    1   "
      ]
     },
     "metadata": {},
     "output_type": "display_data"
    }
   ],
   "source": [
    "bl %>% collect() %>% rowwise() %>% mutate(\n",
    "  btot = sum(c_across(!starts_with(\"isbn\")))\n",
    ") %>% slice_max(btot, n=20)"
   ]
  }
 ],
 "metadata": {
  "jupytext": {
   "text_representation": {
    "extension": ".qmd",
    "format_name": "quarto",
    "format_version": "1.0",
    "jupytext_version": "1.14.7"
   }
  },
  "kernelspec": {
   "display_name": "R (IRkernel)",
   "language": "R",
   "name": "ir"
  },
  "language_info": {
   "codemirror_mode": "r",
   "file_extension": ".r",
   "mimetype": "text/x-r-source",
   "name": "R",
   "pygments_lexer": "r",
   "version": "4.3.1"
  }
 },
 "nbformat": 4,
 "nbformat_minor": 5
}
