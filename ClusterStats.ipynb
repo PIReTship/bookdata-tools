{
 "cells": [
  {
   "cell_type": "markdown",
   "id": "d49044dd",
   "metadata": {},
   "source": [
    "# Book Clustering Statistics\n",
    "\n",
    "This notebook provides statistics on the results of our book clustering."
   ]
  },
  {
   "cell_type": "markdown",
   "id": "9ac1a06c",
   "metadata": {},
   "source": [
    "## Setup"
   ]
  },
  {
   "cell_type": "code",
   "execution_count": 1,
   "id": "2298a55d",
   "metadata": {
    "execution": {
     "iopub.execute_input": "2022-05-07T18:58:29.832384Z",
     "iopub.status.busy": "2022-05-07T18:58:29.831827Z",
     "iopub.status.idle": "2022-05-07T18:58:32.789557Z",
     "shell.execute_reply": "2022-05-07T18:58:32.788466Z"
    }
   },
   "outputs": [],
   "source": [
    "import pandas as pd\n",
    "import matplotlib.pyplot as plt\n",
    "import numpy as np"
   ]
  },
  {
   "cell_type": "markdown",
   "id": "ae2bdb6a",
   "metadata": {},
   "source": [
    "## Load Data\n",
    "\n",
    "Let's start by getting our clusters and their statistics:"
   ]
  },
  {
   "cell_type": "code",
   "execution_count": 2,
   "id": "377972eb",
   "metadata": {
    "execution": {
     "iopub.execute_input": "2022-05-07T18:58:32.794375Z",
     "iopub.status.busy": "2022-05-07T18:58:32.794100Z",
     "iopub.status.idle": "2022-05-07T18:58:33.775935Z",
     "shell.execute_reply": "2022-05-07T18:58:33.774527Z"
    }
   },
   "outputs": [
    {
     "name": "stdout",
     "output_type": "stream",
     "text": [
      "<class 'pandas.core.frame.DataFrame'>\n",
      "RangeIndex: 27925691 entries, 0 to 27925690\n",
      "Data columns (total 8 columns):\n",
      " #   Column         Dtype \n",
      "---  ------         ----- \n",
      " 0   cluster        int32 \n",
      " 1   n_nodes        uint32\n",
      " 2   n_isbns        uint32\n",
      " 3   n_loc_recs     uint32\n",
      " 4   n_ol_editions  uint32\n",
      " 5   n_ol_works     uint32\n",
      " 6   n_gr_books     uint32\n",
      " 7   n_gr_works     uint32\n",
      "dtypes: int32(1), uint32(7)\n",
      "memory usage: 852.2 MB\n"
     ]
    }
   ],
   "source": [
    "clusters = pd.read_parquet('book-links/cluster-stats.parquet')\n",
    "clusters.info()"
   ]
  },
  {
   "cell_type": "code",
   "execution_count": 3,
   "id": "0cb91576",
   "metadata": {
    "execution": {
     "iopub.execute_input": "2022-05-07T18:58:33.783923Z",
     "iopub.status.busy": "2022-05-07T18:58:33.783318Z",
     "iopub.status.idle": "2022-05-07T18:58:33.988437Z",
     "shell.execute_reply": "2022-05-07T18:58:33.987347Z"
    }
   },
   "outputs": [],
   "source": [
    "clusters.set_index('cluster', inplace=True)"
   ]
  },
  {
   "cell_type": "markdown",
   "id": "10358135",
   "metadata": {},
   "source": [
    "Describe the count columns for basic descriptive stats:"
   ]
  },
  {
   "cell_type": "code",
   "execution_count": 4,
   "id": "7f81f8f8",
   "metadata": {
    "execution": {
     "iopub.execute_input": "2022-05-07T18:58:33.992956Z",
     "iopub.status.busy": "2022-05-07T18:58:33.992627Z",
     "iopub.status.idle": "2022-05-07T18:58:39.539217Z",
     "shell.execute_reply": "2022-05-07T18:58:39.538536Z"
    }
   },
   "outputs": [
    {
     "data": {
      "text/html": [
       "<div>\n",
       "<style scoped>\n",
       "    .dataframe tbody tr th:only-of-type {\n",
       "        vertical-align: middle;\n",
       "    }\n",
       "\n",
       "    .dataframe tbody tr th {\n",
       "        vertical-align: top;\n",
       "    }\n",
       "\n",
       "    .dataframe thead th {\n",
       "        text-align: right;\n",
       "    }\n",
       "</style>\n",
       "<table border=\"1\" class=\"dataframe\">\n",
       "  <thead>\n",
       "    <tr style=\"text-align: right;\">\n",
       "      <th></th>\n",
       "      <th>n_nodes</th>\n",
       "      <th>n_isbns</th>\n",
       "      <th>n_loc_recs</th>\n",
       "      <th>n_ol_editions</th>\n",
       "      <th>n_ol_works</th>\n",
       "      <th>n_gr_books</th>\n",
       "      <th>n_gr_works</th>\n",
       "    </tr>\n",
       "  </thead>\n",
       "  <tbody>\n",
       "    <tr>\n",
       "      <th>count</th>\n",
       "      <td>2.792569e+07</td>\n",
       "      <td>2.792569e+07</td>\n",
       "      <td>2.792569e+07</td>\n",
       "      <td>2.792569e+07</td>\n",
       "      <td>2.792569e+07</td>\n",
       "      <td>2.792569e+07</td>\n",
       "      <td>2.792569e+07</td>\n",
       "    </tr>\n",
       "    <tr>\n",
       "      <th>mean</th>\n",
       "      <td>2.994550e+00</td>\n",
       "      <td>8.774559e-01</td>\n",
       "      <td>3.462970e-01</td>\n",
       "      <td>9.547825e-01</td>\n",
       "      <td>6.769805e-01</td>\n",
       "      <td>8.453345e-02</td>\n",
       "      <td>5.450042e-02</td>\n",
       "    </tr>\n",
       "    <tr>\n",
       "      <th>std</th>\n",
       "      <td>7.375757e+00</td>\n",
       "      <td>3.660644e+00</td>\n",
       "      <td>5.648575e-01</td>\n",
       "      <td>2.670434e+00</td>\n",
       "      <td>7.561602e-01</td>\n",
       "      <td>1.120087e+00</td>\n",
       "      <td>2.350896e-01</td>\n",
       "    </tr>\n",
       "    <tr>\n",
       "      <th>min</th>\n",
       "      <td>1.000000e+00</td>\n",
       "      <td>0.000000e+00</td>\n",
       "      <td>0.000000e+00</td>\n",
       "      <td>0.000000e+00</td>\n",
       "      <td>0.000000e+00</td>\n",
       "      <td>0.000000e+00</td>\n",
       "      <td>0.000000e+00</td>\n",
       "    </tr>\n",
       "    <tr>\n",
       "      <th>25%</th>\n",
       "      <td>1.000000e+00</td>\n",
       "      <td>0.000000e+00</td>\n",
       "      <td>0.000000e+00</td>\n",
       "      <td>0.000000e+00</td>\n",
       "      <td>0.000000e+00</td>\n",
       "      <td>0.000000e+00</td>\n",
       "      <td>0.000000e+00</td>\n",
       "    </tr>\n",
       "    <tr>\n",
       "      <th>50%</th>\n",
       "      <td>2.000000e+00</td>\n",
       "      <td>0.000000e+00</td>\n",
       "      <td>0.000000e+00</td>\n",
       "      <td>1.000000e+00</td>\n",
       "      <td>1.000000e+00</td>\n",
       "      <td>0.000000e+00</td>\n",
       "      <td>0.000000e+00</td>\n",
       "    </tr>\n",
       "    <tr>\n",
       "      <th>75%</th>\n",
       "      <td>4.000000e+00</td>\n",
       "      <td>2.000000e+00</td>\n",
       "      <td>1.000000e+00</td>\n",
       "      <td>1.000000e+00</td>\n",
       "      <td>1.000000e+00</td>\n",
       "      <td>0.000000e+00</td>\n",
       "      <td>0.000000e+00</td>\n",
       "    </tr>\n",
       "    <tr>\n",
       "      <th>max</th>\n",
       "      <td>1.734900e+04</td>\n",
       "      <td>7.976000e+03</td>\n",
       "      <td>6.120000e+02</td>\n",
       "      <td>5.096000e+03</td>\n",
       "      <td>2.368000e+03</td>\n",
       "      <td>3.118000e+03</td>\n",
       "      <td>8.800000e+01</td>\n",
       "    </tr>\n",
       "  </tbody>\n",
       "</table>\n",
       "</div>"
      ],
      "text/plain": [
       "            n_nodes       n_isbns    n_loc_recs  n_ol_editions    n_ol_works  \\\n",
       "count  2.792569e+07  2.792569e+07  2.792569e+07   2.792569e+07  2.792569e+07   \n",
       "mean   2.994550e+00  8.774559e-01  3.462970e-01   9.547825e-01  6.769805e-01   \n",
       "std    7.375757e+00  3.660644e+00  5.648575e-01   2.670434e+00  7.561602e-01   \n",
       "min    1.000000e+00  0.000000e+00  0.000000e+00   0.000000e+00  0.000000e+00   \n",
       "25%    1.000000e+00  0.000000e+00  0.000000e+00   0.000000e+00  0.000000e+00   \n",
       "50%    2.000000e+00  0.000000e+00  0.000000e+00   1.000000e+00  1.000000e+00   \n",
       "75%    4.000000e+00  2.000000e+00  1.000000e+00   1.000000e+00  1.000000e+00   \n",
       "max    1.734900e+04  7.976000e+03  6.120000e+02   5.096000e+03  2.368000e+03   \n",
       "\n",
       "         n_gr_books    n_gr_works  \n",
       "count  2.792569e+07  2.792569e+07  \n",
       "mean   8.453345e-02  5.450042e-02  \n",
       "std    1.120087e+00  2.350896e-01  \n",
       "min    0.000000e+00  0.000000e+00  \n",
       "25%    0.000000e+00  0.000000e+00  \n",
       "50%    0.000000e+00  0.000000e+00  \n",
       "75%    0.000000e+00  0.000000e+00  \n",
       "max    3.118000e+03  8.800000e+01  "
      ]
     },
     "execution_count": 4,
     "metadata": {},
     "output_type": "execute_result"
    }
   ],
   "source": [
    "clusters.describe()"
   ]
  },
  {
   "cell_type": "markdown",
   "id": "a72304a9",
   "metadata": {},
   "source": [
    "75% of clusters only contain 2 ISBNs (probably -10 and -13) and one book. OpenLibrary also contributes to the largest number of clusters."
   ]
  },
  {
   "cell_type": "markdown",
   "id": "c1b58ca5",
   "metadata": {},
   "source": [
    "## Clusters per Source\n",
    "\n",
    "How many clusters are connected to each source?"
   ]
  },
  {
   "cell_type": "code",
   "execution_count": 5,
   "id": "350456a1",
   "metadata": {
    "execution": {
     "iopub.execute_input": "2022-05-07T18:58:39.544987Z",
     "iopub.status.busy": "2022-05-07T18:58:39.544631Z",
     "iopub.status.idle": "2022-05-07T18:58:39.926380Z",
     "shell.execute_reply": "2022-05-07T18:58:39.925710Z"
    }
   },
   "outputs": [
    {
     "data": {
      "text/plain": [
       "n_nodes          27925691\n",
       "n_isbns          13201869\n",
       "n_loc_recs        9314956\n",
       "n_ol_editions    20525956\n",
       "n_ol_works       17723553\n",
       "n_gr_books        1509661\n",
       "n_gr_works        1509137\n",
       "dtype: int64"
      ]
     },
     "execution_count": 5,
     "metadata": {},
     "output_type": "execute_result"
    }
   ],
   "source": [
    "src_counts = pd.Series(dict(\n",
    "    (c, np.sum(clusters[c] > 0)) for c in clusters.columns\n",
    "))\n",
    "src_counts"
   ]
  },
  {
   "cell_type": "code",
   "execution_count": 6,
   "id": "cf24dc52",
   "metadata": {
    "execution": {
     "iopub.execute_input": "2022-05-07T18:58:39.931012Z",
     "iopub.status.busy": "2022-05-07T18:58:39.930719Z",
     "iopub.status.idle": "2022-05-07T18:58:40.139806Z",
     "shell.execute_reply": "2022-05-07T18:58:40.139154Z"
    }
   },
   "outputs": [
    {
     "data": {
      "image/png": "[encoded data removed]",
      "text/plain": [
       "<Figure size 432x288 with 1 Axes>"
      ]
     },
     "metadata": {
      "needs_background": "light"
     },
     "output_type": "display_data"
    }
   ],
   "source": [
    "src_counts.plot.barh()\n",
    "plt.xlabel('# of Clusters')\n",
    "plt.show()"
   ]
  },
  {
   "cell_type": "markdown",
   "id": "921f553e",
   "metadata": {},
   "source": [
    "## Distributions\n",
    "\n",
    "Let's look at the distributions of cluster sizes."
   ]
  },
  {
   "cell_type": "code",
   "execution_count": 7,
   "id": "ab12bd65",
   "metadata": {
    "execution": {
     "iopub.execute_input": "2022-05-07T18:58:40.144875Z",
     "iopub.status.busy": "2022-05-07T18:58:40.144583Z",
     "iopub.status.idle": "2022-05-07T18:58:41.176442Z",
     "shell.execute_reply": "2022-05-07T18:58:41.175323Z"
    }
   },
   "outputs": [
    {
     "data": {
      "text/html": [
       "<div>\n",
       "<style scoped>\n",
       "    .dataframe tbody tr th:only-of-type {\n",
       "        vertical-align: middle;\n",
       "    }\n",
       "\n",
       "    .dataframe tbody tr th {\n",
       "        vertical-align: top;\n",
       "    }\n",
       "\n",
       "    .dataframe thead th {\n",
       "        text-align: right;\n",
       "    }\n",
       "</style>\n",
       "<table border=\"1\" class=\"dataframe\">\n",
       "  <thead>\n",
       "    <tr style=\"text-align: right;\">\n",
       "      <th></th>\n",
       "      <th>RecType</th>\n",
       "      <th>RecCount</th>\n",
       "      <th>Clusters</th>\n",
       "    </tr>\n",
       "  </thead>\n",
       "  <tbody>\n",
       "    <tr>\n",
       "      <th>0</th>\n",
       "      <td>n_isbns</td>\n",
       "      <td>0</td>\n",
       "      <td>14723822</td>\n",
       "    </tr>\n",
       "    <tr>\n",
       "      <th>1</th>\n",
       "      <td>n_isbns</td>\n",
       "      <td>2</td>\n",
       "      <td>6256782</td>\n",
       "    </tr>\n",
       "    <tr>\n",
       "      <th>2</th>\n",
       "      <td>n_isbns</td>\n",
       "      <td>1</td>\n",
       "      <td>5807972</td>\n",
       "    </tr>\n",
       "    <tr>\n",
       "      <th>3</th>\n",
       "      <td>n_isbns</td>\n",
       "      <td>4</td>\n",
       "      <td>551072</td>\n",
       "    </tr>\n",
       "    <tr>\n",
       "      <th>4</th>\n",
       "      <td>n_isbns</td>\n",
       "      <td>3</td>\n",
       "      <td>268793</td>\n",
       "    </tr>\n",
       "  </tbody>\n",
       "</table>\n",
       "</div>"
      ],
      "text/plain": [
       "   RecType  RecCount  Clusters\n",
       "0  n_isbns         0  14723822\n",
       "1  n_isbns         2   6256782\n",
       "2  n_isbns         1   5807972\n",
       "3  n_isbns         4    551072\n",
       "4  n_isbns         3    268793"
      ]
     },
     "execution_count": 7,
     "metadata": {},
     "output_type": "execute_result"
    }
   ],
   "source": [
    "size_dist = pd.concat(dict(\n",
    "    (c, clusters[c].value_counts()) for c in clusters.columns if c != 'n_nodes'\n",
    "), names=['RecType'])\n",
    "size_dist.index.set_names(['RecType', 'RecCount'], inplace=True)\n",
    "size_dist = size_dist.reset_index(name='Clusters')\n",
    "size_dist.head()"
   ]
  },
  {
   "cell_type": "code",
   "execution_count": 8,
   "id": "240e5f19",
   "metadata": {
    "execution": {
     "iopub.execute_input": "2022-05-07T18:58:41.181802Z",
     "iopub.status.busy": "2022-05-07T18:58:41.181528Z",
     "iopub.status.idle": "2022-05-07T18:58:42.996852Z",
     "shell.execute_reply": "2022-05-07T18:58:42.996082Z"
    }
   },
   "outputs": [
    {
     "data": {
      "image/png": "[encoded data removed]",
      "text/plain": [
       "<Figure size 432x288 with 1 Axes>"
      ]
     },
     "metadata": {
      "needs_background": "light"
     },
     "output_type": "display_data"
    }
   ],
   "source": [
    "for rt, data in size_dist.groupby('RecType'):\n",
    "    plt.scatter(data['RecCount'], data['Clusters'], marker='1', label=rt)\n",
    "plt.legend()\n",
    "plt.xlabel('# of Records')\n",
    "plt.xscale('log')\n",
    "plt.ylabel('# of Clusters')\n",
    "plt.yscale('log')\n",
    "plt.show()"
   ]
  },
  {
   "cell_type": "markdown",
   "id": "b83fcc92",
   "metadata": {},
   "source": [
    "Looks mostly fine - we expect a lot of power laws - but the number of clusters with merged GoodReads works is concerning."
   ]
  },
  {
   "cell_type": "markdown",
   "id": "d5fbc875",
   "metadata": {},
   "source": [
    "## GoodReads Work Merging\n",
    "\n",
    "Why are GoodReads works merging? Let's look at those."
   ]
  },
  {
   "cell_type": "code",
   "execution_count": 9,
   "id": "e45ca151",
   "metadata": {
    "execution": {
     "iopub.execute_input": "2022-05-07T18:58:43.003708Z",
     "iopub.status.busy": "2022-05-07T18:58:43.003435Z",
     "iopub.status.idle": "2022-05-07T18:58:43.052807Z",
     "shell.execute_reply": "2022-05-07T18:58:43.051966Z"
    }
   },
   "outputs": [
    {
     "name": "stdout",
     "output_type": "stream",
     "text": [
      "<class 'pandas.core.frame.DataFrame'>\n",
      "Int64Index: 6694 entries, 100004141 to 114602483\n",
      "Data columns (total 7 columns):\n",
      " #   Column         Non-Null Count  Dtype \n",
      "---  ------         --------------  ----- \n",
      " 0   n_nodes        6694 non-null   uint32\n",
      " 1   n_isbns        6694 non-null   uint32\n",
      " 2   n_loc_recs     6694 non-null   uint32\n",
      " 3   n_ol_editions  6694 non-null   uint32\n",
      " 4   n_ol_works     6694 non-null   uint32\n",
      " 5   n_gr_books     6694 non-null   uint32\n",
      " 6   n_gr_works     6694 non-null   uint32\n",
      "dtypes: uint32(7)\n",
      "memory usage: 235.3 KB\n"
     ]
    }
   ],
   "source": [
    "gr_big = clusters[clusters['n_gr_works'] > 1].sort_values('n_gr_works', ascending=False)\n",
    "gr_big.info()"
   ]
  },
  {
   "cell_type": "markdown",
   "id": "0d00b936",
   "metadata": {},
   "source": [
    "We have a lot of these clusters. What fraction of the GoodReads-affected clusters is this?"
   ]
  },
  {
   "cell_type": "code",
   "execution_count": 10,
   "id": "59e9936b",
   "metadata": {
    "execution": {
     "iopub.execute_input": "2022-05-07T18:58:43.058295Z",
     "iopub.status.busy": "2022-05-07T18:58:43.058009Z",
     "iopub.status.idle": "2022-05-07T18:58:43.119262Z",
     "shell.execute_reply": "2022-05-07T18:58:43.118498Z"
    }
   },
   "outputs": [
    {
     "data": {
      "text/plain": [
       "0.0002397075868239035"
      ]
     },
     "execution_count": 10,
     "metadata": {},
     "output_type": "execute_result"
    }
   ],
   "source": [
    "len(gr_big) / clusters['n_gr_books'].count()"
   ]
  },
  {
   "cell_type": "markdown",
   "id": "47698ceb",
   "metadata": {},
   "source": [
    "Less than 1%. Not bad, but let's look."
   ]
  },
  {
   "cell_type": "code",
   "execution_count": 11,
   "id": "0413737a",
   "metadata": {
    "execution": {
     "iopub.execute_input": "2022-05-07T18:58:43.124793Z",
     "iopub.status.busy": "2022-05-07T18:58:43.124522Z",
     "iopub.status.idle": "2022-05-07T18:58:43.137623Z",
     "shell.execute_reply": "2022-05-07T18:58:43.136770Z"
    }
   },
   "outputs": [
    {
     "data": {
      "text/html": [
       "<div>\n",
       "<style scoped>\n",
       "    .dataframe tbody tr th:only-of-type {\n",
       "        vertical-align: middle;\n",
       "    }\n",
       "\n",
       "    .dataframe tbody tr th {\n",
       "        vertical-align: top;\n",
       "    }\n",
       "\n",
       "    .dataframe thead th {\n",
       "        text-align: right;\n",
       "    }\n",
       "</style>\n",
       "<table border=\"1\" class=\"dataframe\">\n",
       "  <thead>\n",
       "    <tr style=\"text-align: right;\">\n",
       "      <th></th>\n",
       "      <th>n_nodes</th>\n",
       "      <th>n_isbns</th>\n",
       "      <th>n_loc_recs</th>\n",
       "      <th>n_ol_editions</th>\n",
       "      <th>n_ol_works</th>\n",
       "      <th>n_gr_books</th>\n",
       "      <th>n_gr_works</th>\n",
       "    </tr>\n",
       "    <tr>\n",
       "      <th>cluster</th>\n",
       "      <th></th>\n",
       "      <th></th>\n",
       "      <th></th>\n",
       "      <th></th>\n",
       "      <th></th>\n",
       "      <th></th>\n",
       "      <th></th>\n",
       "    </tr>\n",
       "  </thead>\n",
       "  <tbody>\n",
       "    <tr>\n",
       "      <th>100004141</th>\n",
       "      <td>17349</td>\n",
       "      <td>7976</td>\n",
       "      <td>612</td>\n",
       "      <td>5066</td>\n",
       "      <td>489</td>\n",
       "      <td>3118</td>\n",
       "      <td>88</td>\n",
       "    </tr>\n",
       "    <tr>\n",
       "      <th>100066430</th>\n",
       "      <td>10906</td>\n",
       "      <td>3731</td>\n",
       "      <td>408</td>\n",
       "      <td>5096</td>\n",
       "      <td>329</td>\n",
       "      <td>1264</td>\n",
       "      <td>78</td>\n",
       "    </tr>\n",
       "    <tr>\n",
       "      <th>100307111</th>\n",
       "      <td>448</td>\n",
       "      <td>163</td>\n",
       "      <td>4</td>\n",
       "      <td>91</td>\n",
       "      <td>74</td>\n",
       "      <td>60</td>\n",
       "      <td>56</td>\n",
       "    </tr>\n",
       "    <tr>\n",
       "      <th>100162584</th>\n",
       "      <td>873</td>\n",
       "      <td>327</td>\n",
       "      <td>67</td>\n",
       "      <td>269</td>\n",
       "      <td>75</td>\n",
       "      <td>81</td>\n",
       "      <td>54</td>\n",
       "    </tr>\n",
       "    <tr>\n",
       "      <th>100092083</th>\n",
       "      <td>1113</td>\n",
       "      <td>424</td>\n",
       "      <td>61</td>\n",
       "      <td>231</td>\n",
       "      <td>145</td>\n",
       "      <td>200</td>\n",
       "      <td>52</td>\n",
       "    </tr>\n",
       "  </tbody>\n",
       "</table>\n",
       "</div>"
      ],
      "text/plain": [
       "           n_nodes  n_isbns  n_loc_recs  n_ol_editions  n_ol_works  \\\n",
       "cluster                                                              \n",
       "100004141    17349     7976         612           5066         489   \n",
       "100066430    10906     3731         408           5096         329   \n",
       "100307111      448      163           4             91          74   \n",
       "100162584      873      327          67            269          75   \n",
       "100092083     1113      424          61            231         145   \n",
       "\n",
       "           n_gr_books  n_gr_works  \n",
       "cluster                            \n",
       "100004141        3118          88  \n",
       "100066430        1264          78  \n",
       "100307111          60          56  \n",
       "100162584          81          54  \n",
       "100092083         200          52  "
      ]
     },
     "execution_count": 11,
     "metadata": {},
     "output_type": "execute_result"
    }
   ],
   "source": [
    "gr_big.head()"
   ]
  },
  {
   "cell_type": "markdown",
   "id": "2b2d06c3",
   "metadata": {},
   "source": [
    "## Large Cluster Debugging\n",
    "\n",
    "We have some pretty big clusters:"
   ]
  },
  {
   "cell_type": "code",
   "execution_count": 12,
   "id": "26c0c8a8",
   "metadata": {
    "execution": {
     "iopub.execute_input": "2022-05-07T18:58:43.143082Z",
     "iopub.status.busy": "2022-05-07T18:58:43.142820Z",
     "iopub.status.idle": "2022-05-07T18:58:44.150441Z",
     "shell.execute_reply": "2022-05-07T18:58:44.149672Z"
    }
   },
   "outputs": [
    {
     "data": {
      "text/html": [
       "<div>\n",
       "<style scoped>\n",
       "    .dataframe tbody tr th:only-of-type {\n",
       "        vertical-align: middle;\n",
       "    }\n",
       "\n",
       "    .dataframe tbody tr th {\n",
       "        vertical-align: top;\n",
       "    }\n",
       "\n",
       "    .dataframe thead th {\n",
       "        text-align: right;\n",
       "    }\n",
       "</style>\n",
       "<table border=\"1\" class=\"dataframe\">\n",
       "  <thead>\n",
       "    <tr style=\"text-align: right;\">\n",
       "      <th></th>\n",
       "      <th>n_nodes</th>\n",
       "      <th>n_isbns</th>\n",
       "      <th>n_loc_recs</th>\n",
       "      <th>n_ol_editions</th>\n",
       "      <th>n_ol_works</th>\n",
       "      <th>n_gr_books</th>\n",
       "      <th>n_gr_works</th>\n",
       "    </tr>\n",
       "    <tr>\n",
       "      <th>cluster</th>\n",
       "      <th></th>\n",
       "      <th></th>\n",
       "      <th></th>\n",
       "      <th></th>\n",
       "      <th></th>\n",
       "      <th></th>\n",
       "      <th></th>\n",
       "    </tr>\n",
       "  </thead>\n",
       "  <tbody>\n",
       "    <tr>\n",
       "      <th>100004141</th>\n",
       "      <td>17349</td>\n",
       "      <td>7976</td>\n",
       "      <td>612</td>\n",
       "      <td>5066</td>\n",
       "      <td>489</td>\n",
       "      <td>3118</td>\n",
       "      <td>88</td>\n",
       "    </tr>\n",
       "    <tr>\n",
       "      <th>105723403</th>\n",
       "      <td>11281</td>\n",
       "      <td>7520</td>\n",
       "      <td>0</td>\n",
       "      <td>3760</td>\n",
       "      <td>1</td>\n",
       "      <td>0</td>\n",
       "      <td>0</td>\n",
       "    </tr>\n",
       "    <tr>\n",
       "      <th>100066430</th>\n",
       "      <td>10906</td>\n",
       "      <td>3731</td>\n",
       "      <td>408</td>\n",
       "      <td>5096</td>\n",
       "      <td>329</td>\n",
       "      <td>1264</td>\n",
       "      <td>78</td>\n",
       "    </tr>\n",
       "    <tr>\n",
       "      <th>100379578</th>\n",
       "      <td>10132</td>\n",
       "      <td>6518</td>\n",
       "      <td>7</td>\n",
       "      <td>3572</td>\n",
       "      <td>35</td>\n",
       "      <td>0</td>\n",
       "      <td>0</td>\n",
       "    </tr>\n",
       "    <tr>\n",
       "      <th>100089994</th>\n",
       "      <td>7102</td>\n",
       "      <td>3540</td>\n",
       "      <td>162</td>\n",
       "      <td>1839</td>\n",
       "      <td>113</td>\n",
       "      <td>1421</td>\n",
       "      <td>27</td>\n",
       "    </tr>\n",
       "  </tbody>\n",
       "</table>\n",
       "</div>"
      ],
      "text/plain": [
       "           n_nodes  n_isbns  n_loc_recs  n_ol_editions  n_ol_works  \\\n",
       "cluster                                                              \n",
       "100004141    17349     7976         612           5066         489   \n",
       "105723403    11281     7520           0           3760           1   \n",
       "100066430    10906     3731         408           5096         329   \n",
       "100379578    10132     6518           7           3572          35   \n",
       "100089994     7102     3540         162           1839         113   \n",
       "\n",
       "           n_gr_books  n_gr_works  \n",
       "cluster                            \n",
       "100004141        3118          88  \n",
       "105723403           0           0  \n",
       "100066430        1264          78  \n",
       "100379578           0           0  \n",
       "100089994        1421          27  "
      ]
     },
     "execution_count": 12,
     "metadata": {},
     "output_type": "execute_result"
    }
   ],
   "source": [
    "big = clusters.nlargest(5, 'n_nodes')\n",
    "big"
   ]
  },
  {
   "cell_type": "markdown",
   "id": "ed50ae48",
   "metadata": {},
   "source": [
    "What is up with this? We should figure out what went wrong, if we can.  What are its ISBNs?"
   ]
  },
  {
   "cell_type": "code",
   "execution_count": 13,
   "id": "08ccb60e",
   "metadata": {
    "execution": {
     "iopub.execute_input": "2022-05-07T18:58:44.155907Z",
     "iopub.status.busy": "2022-05-07T18:58:44.155637Z",
     "iopub.status.idle": "2022-05-07T18:58:56.720531Z",
     "shell.execute_reply": "2022-05-07T18:58:56.719450Z"
    }
   },
   "outputs": [
    {
     "data": {
      "text/html": [
       "<div>\n",
       "<style scoped>\n",
       "    .dataframe tbody tr th:only-of-type {\n",
       "        vertical-align: middle;\n",
       "    }\n",
       "\n",
       "    .dataframe tbody tr th {\n",
       "        vertical-align: top;\n",
       "    }\n",
       "\n",
       "    .dataframe thead th {\n",
       "        text-align: right;\n",
       "    }\n",
       "</style>\n",
       "<table border=\"1\" class=\"dataframe\">\n",
       "  <thead>\n",
       "    <tr style=\"text-align: right;\">\n",
       "      <th></th>\n",
       "      <th>isbn</th>\n",
       "      <th>BX</th>\n",
       "      <th>OL</th>\n",
       "      <th>GR</th>\n",
       "      <th>LOC</th>\n",
       "      <th>AZ14</th>\n",
       "    </tr>\n",
       "    <tr>\n",
       "      <th>isbn_id</th>\n",
       "      <th></th>\n",
       "      <th></th>\n",
       "      <th></th>\n",
       "      <th></th>\n",
       "      <th></th>\n",
       "      <th></th>\n",
       "    </tr>\n",
       "  </thead>\n",
       "  <tbody>\n",
       "    <tr>\n",
       "      <th>1</th>\n",
       "      <td>034545104X</td>\n",
       "      <td>60</td>\n",
       "      <td>1</td>\n",
       "      <td>0</td>\n",
       "      <td>1</td>\n",
       "      <td>29</td>\n",
       "    </tr>\n",
       "    <tr>\n",
       "      <th>2</th>\n",
       "      <td>0155061224</td>\n",
       "      <td>2</td>\n",
       "      <td>1</td>\n",
       "      <td>0</td>\n",
       "      <td>1</td>\n",
       "      <td>0</td>\n",
       "    </tr>\n",
       "    <tr>\n",
       "      <th>3</th>\n",
       "      <td>0446520802</td>\n",
       "      <td>116</td>\n",
       "      <td>1</td>\n",
       "      <td>1</td>\n",
       "      <td>1</td>\n",
       "      <td>1371</td>\n",
       "    </tr>\n",
       "    <tr>\n",
       "      <th>4</th>\n",
       "      <td>052165615X</td>\n",
       "      <td>1</td>\n",
       "      <td>2</td>\n",
       "      <td>0</td>\n",
       "      <td>0</td>\n",
       "      <td>0</td>\n",
       "    </tr>\n",
       "    <tr>\n",
       "      <th>5</th>\n",
       "      <td>0521795028</td>\n",
       "      <td>1</td>\n",
       "      <td>1</td>\n",
       "      <td>1</td>\n",
       "      <td>1</td>\n",
       "      <td>0</td>\n",
       "    </tr>\n",
       "  </tbody>\n",
       "</table>\n",
       "</div>"
      ],
      "text/plain": [
       "               isbn   BX  OL  GR  LOC  AZ14\n",
       "isbn_id                                    \n",
       "1        034545104X   60   1   0    1    29\n",
       "2        0155061224    2   1   0    1     0\n",
       "3        0446520802  116   1   1    1  1371\n",
       "4        052165615X    1   2   0    0     0\n",
       "5        0521795028    1   1   1    1     0"
      ]
     },
     "execution_count": 13,
     "metadata": {},
     "output_type": "execute_result"
    }
   ],
   "source": [
    "isbns = pd.read_parquet('book-links/all-isbns.parquet').set_index('isbn_id')\n",
    "isbns.head()"
   ]
  },
  {
   "cell_type": "code",
   "execution_count": 14,
   "id": "e2fc6c95",
   "metadata": {
    "execution": {
     "iopub.execute_input": "2022-05-07T18:58:56.725436Z",
     "iopub.status.busy": "2022-05-07T18:58:56.725080Z",
     "iopub.status.idle": "2022-05-07T18:58:57.513788Z",
     "shell.execute_reply": "2022-05-07T18:58:57.512294Z"
    }
   },
   "outputs": [
    {
     "data": {
      "text/html": [
       "<div>\n",
       "<style scoped>\n",
       "    .dataframe tbody tr th:only-of-type {\n",
       "        vertical-align: middle;\n",
       "    }\n",
       "\n",
       "    .dataframe tbody tr th {\n",
       "        vertical-align: top;\n",
       "    }\n",
       "\n",
       "    .dataframe thead th {\n",
       "        text-align: right;\n",
       "    }\n",
       "</style>\n",
       "<table border=\"1\" class=\"dataframe\">\n",
       "  <thead>\n",
       "    <tr style=\"text-align: right;\">\n",
       "      <th></th>\n",
       "      <th>isbn_id</th>\n",
       "      <th>cluster</th>\n",
       "    </tr>\n",
       "  </thead>\n",
       "  <tbody>\n",
       "    <tr>\n",
       "      <th>0</th>\n",
       "      <td>24503563</td>\n",
       "      <td>924503563</td>\n",
       "    </tr>\n",
       "    <tr>\n",
       "      <th>1</th>\n",
       "      <td>24503562</td>\n",
       "      <td>924503562</td>\n",
       "    </tr>\n",
       "    <tr>\n",
       "      <th>2</th>\n",
       "      <td>24503561</td>\n",
       "      <td>924503561</td>\n",
       "    </tr>\n",
       "    <tr>\n",
       "      <th>3</th>\n",
       "      <td>24503560</td>\n",
       "      <td>924503560</td>\n",
       "    </tr>\n",
       "    <tr>\n",
       "      <th>4</th>\n",
       "      <td>24503559</td>\n",
       "      <td>924503559</td>\n",
       "    </tr>\n",
       "  </tbody>\n",
       "</table>\n",
       "</div>"
      ],
      "text/plain": [
       "    isbn_id    cluster\n",
       "0  24503563  924503563\n",
       "1  24503562  924503562\n",
       "2  24503561  924503561\n",
       "3  24503560  924503560\n",
       "4  24503559  924503559"
      ]
     },
     "execution_count": 14,
     "metadata": {},
     "output_type": "execute_result"
    }
   ],
   "source": [
    "links = pd.read_parquet('book-links/isbn-clusters.parquet', columns=['isbn_id', 'cluster'])\n",
    "links.head()"
   ]
  },
  {
   "cell_type": "code",
   "execution_count": 15,
   "id": "85a7a763",
   "metadata": {
    "execution": {
     "iopub.execute_input": "2022-05-07T18:58:57.520890Z",
     "iopub.status.busy": "2022-05-07T18:58:57.520398Z",
     "iopub.status.idle": "2022-05-07T18:59:03.942944Z",
     "shell.execute_reply": "2022-05-07T18:59:03.942154Z"
    }
   },
   "outputs": [
    {
     "data": {
      "text/html": [
       "<div>\n",
       "<style scoped>\n",
       "    .dataframe tbody tr th:only-of-type {\n",
       "        vertical-align: middle;\n",
       "    }\n",
       "\n",
       "    .dataframe tbody tr th {\n",
       "        vertical-align: top;\n",
       "    }\n",
       "\n",
       "    .dataframe thead th {\n",
       "        text-align: right;\n",
       "    }\n",
       "</style>\n",
       "<table border=\"1\" class=\"dataframe\">\n",
       "  <thead>\n",
       "    <tr style=\"text-align: right;\">\n",
       "      <th></th>\n",
       "      <th>isbn_id</th>\n",
       "      <th>isbn</th>\n",
       "      <th>BX</th>\n",
       "      <th>OL</th>\n",
       "      <th>GR</th>\n",
       "      <th>LOC</th>\n",
       "      <th>AZ14</th>\n",
       "    </tr>\n",
       "  </thead>\n",
       "  <tbody>\n",
       "    <tr>\n",
       "      <th>24484408</th>\n",
       "      <td>2925445</td>\n",
       "      <td>0001004735</td>\n",
       "      <td>0</td>\n",
       "      <td>1</td>\n",
       "      <td>0</td>\n",
       "      <td>0</td>\n",
       "      <td>0</td>\n",
       "    </tr>\n",
       "    <tr>\n",
       "      <th>24480813</th>\n",
       "      <td>15318407</td>\n",
       "      <td>0001848259</td>\n",
       "      <td>0</td>\n",
       "      <td>1</td>\n",
       "      <td>0</td>\n",
       "      <td>0</td>\n",
       "      <td>0</td>\n",
       "    </tr>\n",
       "    <tr>\n",
       "      <th>24483681</th>\n",
       "      <td>6705018</td>\n",
       "      <td>0003708853</td>\n",
       "      <td>0</td>\n",
       "      <td>2</td>\n",
       "      <td>0</td>\n",
       "      <td>0</td>\n",
       "      <td>0</td>\n",
       "    </tr>\n",
       "    <tr>\n",
       "      <th>24480056</th>\n",
       "      <td>3983056</td>\n",
       "      <td>0004214072</td>\n",
       "      <td>0</td>\n",
       "      <td>2</td>\n",
       "      <td>0</td>\n",
       "      <td>0</td>\n",
       "      <td>0</td>\n",
       "    </tr>\n",
       "    <tr>\n",
       "      <th>24484540</th>\n",
       "      <td>7475056</td>\n",
       "      <td>0004214501</td>\n",
       "      <td>0</td>\n",
       "      <td>1</td>\n",
       "      <td>0</td>\n",
       "      <td>0</td>\n",
       "      <td>0</td>\n",
       "    </tr>\n",
       "    <tr>\n",
       "      <th>...</th>\n",
       "      <td>...</td>\n",
       "      <td>...</td>\n",
       "      <td>...</td>\n",
       "      <td>...</td>\n",
       "      <td>...</td>\n",
       "      <td>...</td>\n",
       "      <td>...</td>\n",
       "    </tr>\n",
       "    <tr>\n",
       "      <th>24484954</th>\n",
       "      <td>12550223</td>\n",
       "      <td>9997718135</td>\n",
       "      <td>0</td>\n",
       "      <td>1</td>\n",
       "      <td>0</td>\n",
       "      <td>0</td>\n",
       "      <td>0</td>\n",
       "    </tr>\n",
       "    <tr>\n",
       "      <th>24484892</th>\n",
       "      <td>19981546</td>\n",
       "      <td>9998392802</td>\n",
       "      <td>0</td>\n",
       "      <td>1</td>\n",
       "      <td>0</td>\n",
       "      <td>0</td>\n",
       "      <td>0</td>\n",
       "    </tr>\n",
       "    <tr>\n",
       "      <th>24483760</th>\n",
       "      <td>10433004</td>\n",
       "      <td>9998556643</td>\n",
       "      <td>0</td>\n",
       "      <td>1</td>\n",
       "      <td>0</td>\n",
       "      <td>0</td>\n",
       "      <td>0</td>\n",
       "    </tr>\n",
       "    <tr>\n",
       "      <th>24478357</th>\n",
       "      <td>11437391</td>\n",
       "      <td>9998651174</td>\n",
       "      <td>0</td>\n",
       "      <td>1</td>\n",
       "      <td>0</td>\n",
       "      <td>0</td>\n",
       "      <td>0</td>\n",
       "    </tr>\n",
       "    <tr>\n",
       "      <th>24481486</th>\n",
       "      <td>17083944</td>\n",
       "      <td>9998708710</td>\n",
       "      <td>0</td>\n",
       "      <td>1</td>\n",
       "      <td>0</td>\n",
       "      <td>0</td>\n",
       "      <td>0</td>\n",
       "    </tr>\n",
       "  </tbody>\n",
       "</table>\n",
       "<p>7976 rows × 7 columns</p>\n",
       "</div>"
      ],
      "text/plain": [
       "           isbn_id        isbn  BX  OL  GR  LOC  AZ14\n",
       "24484408   2925445  0001004735   0   1   0    0     0\n",
       "24480813  15318407  0001848259   0   1   0    0     0\n",
       "24483681   6705018  0003708853   0   2   0    0     0\n",
       "24480056   3983056  0004214072   0   2   0    0     0\n",
       "24484540   7475056  0004214501   0   1   0    0     0\n",
       "...            ...         ...  ..  ..  ..  ...   ...\n",
       "24484954  12550223  9997718135   0   1   0    0     0\n",
       "24484892  19981546  9998392802   0   1   0    0     0\n",
       "24483760  10433004  9998556643   0   1   0    0     0\n",
       "24478357  11437391  9998651174   0   1   0    0     0\n",
       "24481486  17083944  9998708710   0   1   0    0     0\n",
       "\n",
       "[7976 rows x 7 columns]"
      ]
     },
     "execution_count": 15,
     "metadata": {},
     "output_type": "execute_result"
    }
   ],
   "source": [
    "big_id = big.index[0]\n",
    "bl = links[links['cluster'] == big_id].drop(columns=['cluster'])\n",
    "bl = bl.join(isbns, on='isbn_id')\n",
    "bl.sort_values('isbn')"
   ]
  },
  {
   "cell_type": "markdown",
   "id": "e38fc75e",
   "metadata": {},
   "source": [
    "What are the things with the highest record count (besides ratings)?"
   ]
  },
  {
   "cell_type": "code",
   "execution_count": 16,
   "id": "6619833e",
   "metadata": {
    "execution": {
     "iopub.execute_input": "2022-05-07T18:59:03.946874Z",
     "iopub.status.busy": "2022-05-07T18:59:03.946617Z",
     "iopub.status.idle": "2022-05-07T18:59:03.965394Z",
     "shell.execute_reply": "2022-05-07T18:59:03.964679Z"
    }
   },
   "outputs": [
    {
     "data": {
      "text/html": [
       "<div>\n",
       "<style scoped>\n",
       "    .dataframe tbody tr th:only-of-type {\n",
       "        vertical-align: middle;\n",
       "    }\n",
       "\n",
       "    .dataframe tbody tr th {\n",
       "        vertical-align: top;\n",
       "    }\n",
       "\n",
       "    .dataframe thead th {\n",
       "        text-align: right;\n",
       "    }\n",
       "</style>\n",
       "<table border=\"1\" class=\"dataframe\">\n",
       "  <thead>\n",
       "    <tr style=\"text-align: right;\">\n",
       "      <th></th>\n",
       "      <th>isbn_id</th>\n",
       "      <th>isbn</th>\n",
       "      <th>BX</th>\n",
       "      <th>OL</th>\n",
       "      <th>GR</th>\n",
       "      <th>LOC</th>\n",
       "      <th>AZ14</th>\n",
       "      <th>btot</th>\n",
       "    </tr>\n",
       "  </thead>\n",
       "  <tbody>\n",
       "    <tr>\n",
       "      <th>24477336</th>\n",
       "      <td>8132</td>\n",
       "      <td>1559029838</td>\n",
       "      <td>180</td>\n",
       "      <td>12</td>\n",
       "      <td>1</td>\n",
       "      <td>0</td>\n",
       "      <td>0</td>\n",
       "      <td>193</td>\n",
       "    </tr>\n",
       "    <tr>\n",
       "      <th>24483457</th>\n",
       "      <td>20603</td>\n",
       "      <td>0451523377</td>\n",
       "      <td>53</td>\n",
       "      <td>1</td>\n",
       "      <td>1</td>\n",
       "      <td>0</td>\n",
       "      <td>0</td>\n",
       "      <td>55</td>\n",
       "    </tr>\n",
       "    <tr>\n",
       "      <th>24482155</th>\n",
       "      <td>1451</td>\n",
       "      <td>006440188X</td>\n",
       "      <td>50</td>\n",
       "      <td>2</td>\n",
       "      <td>1</td>\n",
       "      <td>0</td>\n",
       "      <td>549</td>\n",
       "      <td>53</td>\n",
       "    </tr>\n",
       "    <tr>\n",
       "      <th>24479765</th>\n",
       "      <td>12955</td>\n",
       "      <td>0671517643</td>\n",
       "      <td>37</td>\n",
       "      <td>0</td>\n",
       "      <td>1</td>\n",
       "      <td>0</td>\n",
       "      <td>0</td>\n",
       "      <td>38</td>\n",
       "    </tr>\n",
       "    <tr>\n",
       "      <th>24483169</th>\n",
       "      <td>2709</td>\n",
       "      <td>185326086X</td>\n",
       "      <td>35</td>\n",
       "      <td>1</td>\n",
       "      <td>1</td>\n",
       "      <td>0</td>\n",
       "      <td>2</td>\n",
       "      <td>37</td>\n",
       "    </tr>\n",
       "    <tr>\n",
       "      <th>24483374</th>\n",
       "      <td>85507</td>\n",
       "      <td>0553212710</td>\n",
       "      <td>32</td>\n",
       "      <td>1</td>\n",
       "      <td>1</td>\n",
       "      <td>0</td>\n",
       "      <td>4</td>\n",
       "      <td>34</td>\n",
       "    </tr>\n",
       "    <tr>\n",
       "      <th>24478035</th>\n",
       "      <td>6469</td>\n",
       "      <td>0553211285</td>\n",
       "      <td>30</td>\n",
       "      <td>1</td>\n",
       "      <td>1</td>\n",
       "      <td>0</td>\n",
       "      <td>0</td>\n",
       "      <td>32</td>\n",
       "    </tr>\n",
       "    <tr>\n",
       "      <th>24477324</th>\n",
       "      <td>431</td>\n",
       "      <td>0451527747</td>\n",
       "      <td>30</td>\n",
       "      <td>0</td>\n",
       "      <td>1</td>\n",
       "      <td>0</td>\n",
       "      <td>0</td>\n",
       "      <td>31</td>\n",
       "    </tr>\n",
       "    <tr>\n",
       "      <th>24479130</th>\n",
       "      <td>29057</td>\n",
       "      <td>8496246086</td>\n",
       "      <td>30</td>\n",
       "      <td>0</td>\n",
       "      <td>1</td>\n",
       "      <td>0</td>\n",
       "      <td>0</td>\n",
       "      <td>31</td>\n",
       "    </tr>\n",
       "    <tr>\n",
       "      <th>24482553</th>\n",
       "      <td>14211</td>\n",
       "      <td>0140620869</td>\n",
       "      <td>29</td>\n",
       "      <td>1</td>\n",
       "      <td>1</td>\n",
       "      <td>0</td>\n",
       "      <td>0</td>\n",
       "      <td>31</td>\n",
       "    </tr>\n",
       "    <tr>\n",
       "      <th>24482955</th>\n",
       "      <td>32301</td>\n",
       "      <td>0064401871</td>\n",
       "      <td>28</td>\n",
       "      <td>1</td>\n",
       "      <td>1</td>\n",
       "      <td>0</td>\n",
       "      <td>202</td>\n",
       "      <td>30</td>\n",
       "    </tr>\n",
       "    <tr>\n",
       "      <th>24483526</th>\n",
       "      <td>47616</td>\n",
       "      <td>0812523016</td>\n",
       "      <td>25</td>\n",
       "      <td>2</td>\n",
       "      <td>1</td>\n",
       "      <td>0</td>\n",
       "      <td>0</td>\n",
       "      <td>28</td>\n",
       "    </tr>\n",
       "    <tr>\n",
       "      <th>24480640</th>\n",
       "      <td>11450</td>\n",
       "      <td>1853260312</td>\n",
       "      <td>24</td>\n",
       "      <td>2</td>\n",
       "      <td>1</td>\n",
       "      <td>0</td>\n",
       "      <td>0</td>\n",
       "      <td>27</td>\n",
       "    </tr>\n",
       "    <tr>\n",
       "      <th>24479871</th>\n",
       "      <td>9521</td>\n",
       "      <td>0451523415</td>\n",
       "      <td>24</td>\n",
       "      <td>1</td>\n",
       "      <td>1</td>\n",
       "      <td>0</td>\n",
       "      <td>0</td>\n",
       "      <td>26</td>\n",
       "    </tr>\n",
       "    <tr>\n",
       "      <th>24483162</th>\n",
       "      <td>43572</td>\n",
       "      <td>014062063X</td>\n",
       "      <td>23</td>\n",
       "      <td>1</td>\n",
       "      <td>1</td>\n",
       "      <td>0</td>\n",
       "      <td>0</td>\n",
       "      <td>25</td>\n",
       "    </tr>\n",
       "    <tr>\n",
       "      <th>24478736</th>\n",
       "      <td>38939</td>\n",
       "      <td>0812504690</td>\n",
       "      <td>20</td>\n",
       "      <td>3</td>\n",
       "      <td>1</td>\n",
       "      <td>0</td>\n",
       "      <td>0</td>\n",
       "      <td>24</td>\n",
       "    </tr>\n",
       "    <tr>\n",
       "      <th>24479767</th>\n",
       "      <td>21946</td>\n",
       "      <td>0140621199</td>\n",
       "      <td>18</td>\n",
       "      <td>2</td>\n",
       "      <td>1</td>\n",
       "      <td>0</td>\n",
       "      <td>1185</td>\n",
       "      <td>21</td>\n",
       "    </tr>\n",
       "    <tr>\n",
       "      <th>24479926</th>\n",
       "      <td>25219</td>\n",
       "      <td>0448060191</td>\n",
       "      <td>19</td>\n",
       "      <td>1</td>\n",
       "      <td>1</td>\n",
       "      <td>0</td>\n",
       "      <td>0</td>\n",
       "      <td>21</td>\n",
       "    </tr>\n",
       "    <tr>\n",
       "      <th>24481046</th>\n",
       "      <td>26234</td>\n",
       "      <td>059043053X</td>\n",
       "      <td>18</td>\n",
       "      <td>2</td>\n",
       "      <td>1</td>\n",
       "      <td>0</td>\n",
       "      <td>0</td>\n",
       "      <td>21</td>\n",
       "    </tr>\n",
       "    <tr>\n",
       "      <th>24481118</th>\n",
       "      <td>9645</td>\n",
       "      <td>014062032X</td>\n",
       "      <td>19</td>\n",
       "      <td>1</td>\n",
       "      <td>1</td>\n",
       "      <td>0</td>\n",
       "      <td>0</td>\n",
       "      <td>21</td>\n",
       "    </tr>\n",
       "  </tbody>\n",
       "</table>\n",
       "</div>"
      ],
      "text/plain": [
       "          isbn_id        isbn   BX  OL  GR  LOC  AZ14  btot\n",
       "24477336     8132  1559029838  180  12   1    0     0   193\n",
       "24483457    20603  0451523377   53   1   1    0     0    55\n",
       "24482155     1451  006440188X   50   2   1    0   549    53\n",
       "24479765    12955  0671517643   37   0   1    0     0    38\n",
       "24483169     2709  185326086X   35   1   1    0     2    37\n",
       "24483374    85507  0553212710   32   1   1    0     4    34\n",
       "24478035     6469  0553211285   30   1   1    0     0    32\n",
       "24477324      431  0451527747   30   0   1    0     0    31\n",
       "24479130    29057  8496246086   30   0   1    0     0    31\n",
       "24482553    14211  0140620869   29   1   1    0     0    31\n",
       "24482955    32301  0064401871   28   1   1    0   202    30\n",
       "24483526    47616  0812523016   25   2   1    0     0    28\n",
       "24480640    11450  1853260312   24   2   1    0     0    27\n",
       "24479871     9521  0451523415   24   1   1    0     0    26\n",
       "24483162    43572  014062063X   23   1   1    0     0    25\n",
       "24478736    38939  0812504690   20   3   1    0     0    24\n",
       "24479767    21946  0140621199   18   2   1    0  1185    21\n",
       "24479926    25219  0448060191   19   1   1    0     0    21\n",
       "24481046    26234  059043053X   18   2   1    0     0    21\n",
       "24481118     9645  014062032X   19   1   1    0     0    21"
      ]
     },
     "execution_count": 16,
     "metadata": {},
     "output_type": "execute_result"
    }
   ],
   "source": [
    "bl['btot'] = bl.iloc[:, 2:-2].sum(axis=1)\n",
    "bl.nlargest(20, 'btot')"
   ]
  },
  {
   "cell_type": "code",
   "execution_count": null,
   "id": "76d2ef18",
   "metadata": {},
   "outputs": [],
   "source": []
  }
 ],
 "metadata": {
  "jupytext": {
   "formats": "ipynb,py:percent"
  },
  "kernelspec": {
   "display_name": "Python 3 (ipykernel)",
   "language": "python",
   "name": "python3"
  },
  "language_info": {
   "codemirror_mode": {
    "name": "ipython",
    "version": 3
   },
   "file_extension": ".py",
   "mimetype": "text/x-python",
   "name": "python",
   "nbconvert_exporter": "python",
   "pygments_lexer": "ipython3",
   "version": "3.8.12"
  }
 },
 "nbformat": 4,
 "nbformat_minor": 5
}
