{
  "cells": [
    {
      "cell_type": "markdown",
      "metadata": {},
      "source": [
        "# Book Clustering Statistics\n",
        "\n",
        "This notebook provides statistics on the results of our book clustering.\n",
        "\n",
        "## Setup"
      ],
      "id": "421cf95c-117e-43ed-8bf5-87379eae933d"
    },
    {
      "cell_type": "code",
      "execution_count": null,
      "metadata": {},
      "outputs": [
        {
          "output_type": "stream",
          "name": "stderr",
          "text": [
            "── Attaching core tidyverse packages ──────────────────────── tidyverse 2.0.0 ──\n",
            "✔ dplyr     1.1.4     ✔ readr     2.1.5\n",
            "✔ forcats   1.0.0     ✔ stringr   1.5.1\n",
            "✔ ggplot2   3.5.1     ✔ tibble    3.2.1\n",
            "✔ lubridate 1.9.4     ✔ tidyr     1.3.1\n",
            "✔ purrr     1.0.2     \n",
            "── Conflicts ────────────────────────────────────────── tidyverse_conflicts() ──\n",
            "✖ dplyr::filter() masks stats::filter()\n",
            "✖ dplyr::lag()    masks stats::lag()\n",
            "ℹ Use the conflicted package (<http://conflicted.r-lib.org/>) to force all conflicts to become errors"
          ]
        }
      ],
      "source": [
        "library(tidyverse, warn.conflicts=FALSE)"
      ],
      "id": "bb9e7e99-2c16-441a-978f-14f37cb6d948"
    },
    {
      "cell_type": "markdown",
      "metadata": {},
      "source": [
        "I want to use `theme_minimal()` by default:"
      ],
      "id": "b2fff7be-8b76-4a80-85f1-45e6ba61f20d"
    },
    {
      "cell_type": "code",
      "execution_count": null,
      "metadata": {},
      "outputs": [],
      "source": [
        "theme_set(theme_minimal())"
      ],
      "id": "fd4e2e49-409e-4f40-9a83-b0ab349a8ec5"
    },
    {
      "cell_type": "markdown",
      "metadata": {},
      "source": [
        "And default image sizes aren’t great:"
      ],
      "id": "52f37329-4a71-440c-aea1-57fea7af3f51"
    },
    {
      "cell_type": "code",
      "execution_count": null,
      "metadata": {},
      "outputs": [],
      "source": [
        "options(repr.plot.width  = 7,\n",
        "        repr.plot.height = 4)"
      ],
      "id": "13366c67-98b8-40bc-a061-00f002022a0b"
    },
    {
      "cell_type": "markdown",
      "metadata": {},
      "source": [
        "## Load Data\n",
        "\n",
        "Let’s start by getting our clusters and their statistics:"
      ],
      "id": "e599a117-0123-409b-bb5a-1af34dd4ebbe"
    },
    {
      "cell_type": "code",
      "execution_count": null,
      "metadata": {},
      "outputs": [
        {
          "output_type": "stream",
          "name": "stdout",
          "text": [
            "Table\n",
            "41,149,070 rows x 8 columns\n",
            "$ cluster        <int32> 423896385, 454491654, 424930878, 449145631, 440372971, …\n",
            "$ n_nodes       <uint32> 2, 2, 2, 2, 2, 2, 2, 2, 2, 2, 2, 2, 2, 2, 2, 2, 2, 2, 2…\n",
            "$ n_isbns       <uint32> 0, 0, 0, 0, 0, 0, 0, 0, 0, 0, 0, 0, 0, 0, 0, 0, 0, 0, 0…\n",
            "$ n_loc_recs    <uint32> 0, 0, 0, 0, 0, 0, 0, 0, 0, 0, 0, 0, 0, 0, 0, 0, 0, 0, 0…\n",
            "$ n_ol_editions <uint32> 0, 0, 0, 0, 0, 0, 0, 0, 0, 0, 0, 0, 0, 0, 0, 0, 0, 0, 0…\n",
            "$ n_ol_works    <uint32> 0, 0, 0, 0, 0, 0, 0, 0, 0, 0, 0, 0, 0, 0, 0, 0, 0, 0, 0…\n",
            "$ n_gr_books    <uint32> 1, 1, 1, 1, 1, 1, 1, 1, 1, 1, 1, 1, 1, 1, 1, 1, 1, 1, 1…\n",
            "$ n_gr_works    <uint32> 1, 1, 1, 1, 1, 1, 1, 1, 1, 1, 1, 1, 1, 1, 1, 1, 1, 1, 1…"
          ]
        }
      ],
      "source": [
        "clusters = read_parquet(\"book-links/cluster-stats.parquet\", as_data_frame=FALSE)\n",
        "glimpse(clusters)"
      ],
      "id": "83aa221a-8abc-4ebf-ae33-e5220a04f78a"
    },
    {
      "cell_type": "markdown",
      "metadata": {},
      "source": [
        "Describe the count columns for basic descriptive stats:"
      ],
      "id": "ae40e49a-cf3a-4ddd-bb75-b3c96a3deee6"
    },
    {
      "cell_type": "code",
      "execution_count": null,
      "metadata": {},
      "outputs": [
        {
          "output_type": "stream",
          "name": "stdout",
          "text": [
            "    n_nodes             n_isbns           n_loc_recs       n_ol_editions     \n",
            " Min.   :     1.00   Min.   :    0.00   Min.   :   0.000   Min.   :    0.00  \n",
            " 1st Qu.:     2.00   1st Qu.:    0.00   1st Qu.:   0.000   1st Qu.:    1.00  \n",
            " Median :     3.00   Median :    1.00   Median :   0.000   Median :    1.00  \n",
            " Mean   :     3.38   Mean   :    1.08   Mean   :   0.235   Mean   :    1.14  \n",
            " 3rd Qu.:     4.00   3rd Qu.:    2.00   3rd Qu.:   0.000   3rd Qu.:    1.00  \n",
            " Max.   :106334.00   Max.   :51481.00   Max.   :1439.000   Max.   :44567.00  \n",
            "   n_ol_works          n_gr_books         n_gr_works       \n",
            " Min.   :   0.0000   Min.   :   0.000   Min.   :  0.00000  \n",
            " 1st Qu.:   1.0000   1st Qu.:   0.000   1st Qu.:  0.00000  \n",
            " Median :   1.0000   Median :   0.000   Median :  0.00000  \n",
            " Mean   :   0.8319   Mean   :   0.057   Mean   :  0.03699  \n",
            " 3rd Qu.:   1.0000   3rd Qu.:   0.000   3rd Qu.:  0.00000  \n",
            " Max.   :2329.0000   Max.   :7378.000   Max.   :295.00000  "
          ]
        }
      ],
      "source": [
        "clusters %>%\n",
        "  select(-cluster) %>%\n",
        "  collect() %>%\n",
        "  summary()"
      ],
      "id": "c650f787-9aa7-4b86-baea-42c264909382"
    },
    {
      "cell_type": "markdown",
      "metadata": {},
      "source": [
        "75% of clusters only contain 2 ISBNs (probably -10 and -13) and one\n",
        "book. OpenLibrary also contributes to the largest number of clusters.\n",
        "\n",
        "## Clusters per Source\n",
        "\n",
        "How many clusters are connected to each source?"
      ],
      "id": "55ebae4e-711d-41d2-9bab-1c10580b41bf"
    },
    {
      "cell_type": "code",
      "execution_count": null,
      "metadata": {},
      "outputs": [
        {
          "output_type": "stream",
          "name": "stdout",
          "text": [
            "# A tibble: 7 × 2\n",
            "  source           count\n",
            "  <chr>            <int>\n",
            "1 n_nodes       41149070\n",
            "2 n_isbns       24073256\n",
            "3 n_loc_recs     9277944\n",
            "4 n_ol_editions 34655323\n",
            "5 n_ol_works    32823913\n",
            "6 n_gr_books     1505224\n",
            "7 n_gr_works     1504700"
          ]
        }
      ],
      "source": [
        "src_counts = clusters %>%\n",
        "  summarize(across(-cluster, ~ sum(.x > 0))) %>%\n",
        "  collect() %>%\n",
        "  pivot_longer(everything(), names_to=\"source\", values_to=\"count\")\n",
        "src_counts"
      ],
      "id": "29227eda-d43f-42a5-bb70-34117abc87ed"
    },
    {
      "cell_type": "code",
      "execution_count": null,
      "metadata": {},
      "outputs": [
        {
          "output_type": "display_data",
          "metadata": {},
          "data": {
            "image/png": "[encoded data removed]"
          }
        }
      ],
      "source": [
        "ggplot(src_counts, aes(y=source, x=count)) +\n",
        "  geom_bar(stat='identity')"
      ],
      "id": "4b9d6e7e-4ae7-48bb-a730-4098a522ffff"
    },
    {
      "cell_type": "markdown",
      "metadata": {},
      "source": [
        "## Distributions\n",
        "\n",
        "Let’s look at the distributions of cluster sizes. Let’s first compute\n",
        "histograms of the number of records per cluster for each cluster type."
      ],
      "id": "56346fd7-bdce-46e2-8c1d-e79f181de9ef"
    },
    {
      "cell_type": "code",
      "execution_count": null,
      "metadata": {},
      "outputs": [
        {
          "output_type": "stream",
          "name": "stdout",
          "text": [
            "# A tibble: 6 × 3\n",
            "  rec_type nrecs    count\n",
            "  <fct>    <int>    <int>\n",
            "1 n_nodes      2 10611148\n",
            "2 n_nodes      1  6960647\n",
            "3 n_nodes      3  9248888\n",
            "4 n_nodes      4  8154636\n",
            "5 n_nodes      5  2148226\n",
            "6 n_nodes      6  1107105"
          ]
        }
      ],
      "source": [
        "size_dists = collect(clusters) %>%\n",
        "  gather(rec_type, nrecs, -cluster, factor_key=TRUE) %>%\n",
        "  summarize(count=n(), .by=c(\"rec_type\", \"nrecs\"))\n",
        "head(size_dists)"
      ],
      "id": "bbbf60d5-4416-4d5b-a1e0-b8854d617362"
    },
    {
      "cell_type": "code",
      "execution_count": null,
      "metadata": {},
      "outputs": [
        {
          "output_type": "stream",
          "name": "stderr",
          "text": [
            "Warning in scale_x_log10(): log-10 transformation introduced infinite values."
          ]
        },
        {
          "output_type": "display_data",
          "metadata": {},
          "data": {
            "image/png": "[encoded data removed]"
          }
        }
      ],
      "source": [
        "ggplot(size_dists) +\n",
        "  aes(x=nrecs, y=count, color=rec_type) +\n",
        "  geom_point() +\n",
        "  scale_x_log10() +\n",
        "  scale_y_log10() +\n",
        "  scale_color_brewer(type=\"qual\", palette=\"Dark2\") +\n",
        "  xlab(\"# of Records\") +\n",
        "  xlab(\"# of Clusters\") +\n",
        "  ggtitle(\"Distribution of cluster counts\")"
      ],
      "id": "8f6607fb-d83f-4023-9c13-5bf60617e444"
    },
    {
      "cell_type": "markdown",
      "metadata": {},
      "source": [
        "Looks mostly fine - we expect a lot of power laws - but the number of\n",
        "clusters with merged GoodReads works is concerning.\n",
        "\n",
        "## GoodReads Work Merging\n",
        "\n",
        "What’s going on with these clusters? Let’s take a peek at them."
      ],
      "id": "ecc0fedc-9ff9-42cb-b8f6-64ef02144166"
    },
    {
      "cell_type": "code",
      "execution_count": null,
      "metadata": {},
      "outputs": [
        {
          "output_type": "stream",
          "name": "stdout",
          "text": [
            "Table (query)\n",
            "10,080 rows x 8 columns\n",
            "$ cluster        <int32> 100015971, 100017732, 104007890, 100027819, 108359025, …\n",
            "$ n_nodes       <uint32> 106334, 9586, 520, 1602, 315, 513, 337, 304, 685, 610, …\n",
            "$ n_isbns       <uint32> 51481, 4624, 194, 780, 141, 225, 91, 120, 245, 299, 248…\n",
            "$ n_loc_recs    <uint32> 1439, 281, 6, 55, 1, 6, 38, 3, 2, 0, 0, 1, 111, 105, 0,…\n",
            "$ n_ol_editions <uint32> 44567, 3721, 113, 462, 51, 113, 64, 75, 185, 170, 153, …\n",
            "$ n_ol_works    <uint32> 1174, 342, 77, 78, 18, 38, 58, 21, 75, 45, 47, 25, 156,…\n",
            "$ n_gr_books    <uint32> 7378, 513, 69, 172, 53, 91, 46, 45, 140, 60, 51, 46, 59…\n",
            "$ n_gr_works    <uint32> 295, 105, 61, 55, 51, 40, 40, 40, 38, 36, 34, 31, 30, 3…\n",
            "Call `print()` for query details"
          ]
        }
      ],
      "source": [
        "gr_big = clusters %>%\n",
        "  filter(n_gr_works > 1) %>%\n",
        "  arrange(desc(n_gr_works))\n",
        "gr_big %>% glimpse()"
      ],
      "id": "d1a2a688-7252-4568-b58e-d121cfe36eb3"
    },
    {
      "cell_type": "markdown",
      "metadata": {},
      "source": [
        "We have a lot of these clusters. What fraction of the GoodReads-affected\n",
        "clusters is this?"
      ],
      "id": "9ed705b7-d263-433a-8491-1116f7377087"
    },
    {
      "cell_type": "code",
      "execution_count": null,
      "metadata": {},
      "outputs": [
        {
          "output_type": "stream",
          "name": "stdout",
          "text": [
            "Scalar\n",
            "0.0002449630088845264"
          ]
        }
      ],
      "source": [
        "nrow(gr_big) / sum(!is.na(clusters$n_gr_books))"
      ],
      "id": "256f2fba-dfd3-43fd-b755-38ef756917a2"
    },
    {
      "cell_type": "markdown",
      "metadata": {},
      "source": [
        "Less than 1%. Not bad, but let’s look at these largest clusters."
      ],
      "id": "f3482f90-8a46-4fa1-bdf6-d4ca98a4e4ef"
    },
    {
      "cell_type": "code",
      "execution_count": null,
      "metadata": {},
      "outputs": [
        {
          "output_type": "stream",
          "name": "stdout",
          "text": [
            "# A tibble: 6 × 8\n",
            "    cluster n_nodes n_isbns n_loc_recs n_ol_editions n_ol_works n_gr_books\n",
            "      <int>   <int>   <int>      <int>         <int>      <int>      <int>\n",
            "1 100015971  106334   51481       1439         44567       1174       7378\n",
            "2 100017732    9586    4624        281          3721        342        513\n",
            "3 104007890     520     194          6           113         77         69\n",
            "4 100027819    1602     780         55           462         78        172\n",
            "5 108359025     315     141          1            51         18         53\n",
            "6 100461776     513     225          6           113         38         91\n",
            "# ℹ 1 more variable: n_gr_works <int>"
          ]
        }
      ],
      "source": [
        "gr_big %>% head() %>% collect()"
      ],
      "id": "f5bafe11-f3b2-48a3-890b-948b5321d24e"
    },
    {
      "cell_type": "markdown",
      "metadata": {},
      "source": [
        "## Large Cluster Debugging\n",
        "\n",
        "We have some pretty big clusters:"
      ],
      "id": "e131e7f8-cc9d-45db-b84f-3c6581efd5b1"
    },
    {
      "cell_type": "code",
      "execution_count": null,
      "metadata": {},
      "outputs": [
        {
          "output_type": "stream",
          "name": "stdout",
          "text": [
            "# A tibble: 5 × 8\n",
            "    cluster n_nodes n_isbns n_loc_recs n_ol_editions n_ol_works n_gr_books\n",
            "      <int>   <int>   <int>      <int>         <int>      <int>      <int>\n",
            "1 100015971  106334   51481       1439         44567       1174       7378\n",
            "2 100066513   24435   12152        190         10644         69       1352\n",
            "3 114903691   11281    7520          0          3760          1          0\n",
            "4 124349756   10678    7118          0          3559          1          0\n",
            "5 101525098   10118    6518          7          3558         35          0\n",
            "# ℹ 1 more variable: n_gr_works <int>"
          ]
        }
      ],
      "source": [
        "big = clusters %>% slice_max(n_nodes, n=5, with_ties=FALSE) %>%\n",
        "  collect()\n",
        "big"
      ],
      "id": "38d57403-47a4-414e-964f-895526bf17f1"
    },
    {
      "cell_type": "markdown",
      "metadata": {},
      "source": [
        "What is up with this? We should figure out what went wrong, if we can.\n",
        "What are its ISBNs?"
      ],
      "id": "63c608d5-80f0-4a40-8a39-685c52fe2ecd"
    },
    {
      "cell_type": "code",
      "execution_count": null,
      "metadata": {},
      "outputs": [
        {
          "output_type": "stream",
          "name": "stdout",
          "text": [
            "Table\n",
            "44,471,261 rows x 7 columns\n",
            "$ isbn_id     <int32> 1, 2, 3, 4, 5, 6, 7, 8, 9, 10, 11, 12, 13, 14, 15, 16, 17,…\n",
            "$ isbn <large_string> \"9798737784591\", \"0757616526\", \"9781450450485\", \"067149746…\n",
            "$ LOC        <uint32> 0, 0, 0, 1, 1, 0, 0, 0, 0, 0, 0, 0, 0, 0, 0, 0, 0, 0, 0, 0…\n",
            "$ OL         <uint32> 1, 1, 1, 1, 1, 1, 1, 1, 1, 1, 1, 1, 1, 1, 1, 1, 1, 1, 1, 1…\n",
            "$ GR          <int64> 0, 0, 0, 0, 0, 0, 0, 0, 0, 0, 0, 0, 0, 0, 0, 0, 0, 1, 0, 0…\n",
            "$ AZ14       <uint32> 0, 0, 0, 0, 0, 0, 0, 0, 0, 0, 0, 0, 1, 0, 0, 0, 0, 0, 0, 0…\n",
            "$ AZ18       <uint32> 0, 0, 0, 0, 0, 0, 0, 0, 0, 0, 0, 0, 0, 0, 0, 0, 0, 0, 0, 0…"
          ]
        }
      ],
      "source": [
        "isbns = read_parquet('book-links/all-isbns.parquet', as_data_frame=FALSE)\n",
        "glimpse(isbns)"
      ],
      "id": "cef8fceb-0bf8-4690-93f2-7649cf15326b"
    },
    {
      "cell_type": "code",
      "execution_count": null,
      "metadata": {},
      "outputs": [
        {
          "output_type": "stream",
          "name": "stdout",
          "text": [
            "Table (query)\n",
            "44,471,261 rows x 2 columns\n",
            "$ isbn_id <int32> 44471261, 44471260, 44471259, 44471258, 44471257, 44471256, 44…\n",
            "$ cluster <int32> 944471261, 944471260, 944471259, 944471258, 944471257, 9444712…\n",
            "Call `print()` for query details"
          ]
        }
      ],
      "source": [
        "links = read_parquet(\"book-links/isbn-clusters.parquet\", as_data_frame=FALSE) %>%\n",
        "  select(isbn_id, cluster)\n",
        "glimpse(links)"
      ],
      "id": "dd5b4af6-42bd-4792-8536-459d3aa9f5ee"
    },
    {
      "cell_type": "markdown",
      "metadata": {},
      "source": [
        "Now let’s look up data for the largest cluster."
      ],
      "id": "917701f1-42c0-47c1-81aa-85173786841f"
    },
    {
      "cell_type": "code",
      "execution_count": null,
      "metadata": {},
      "outputs": [
        {
          "output_type": "stream",
          "name": "stdout",
          "text": [
            "[1] 100015971"
          ]
        }
      ],
      "source": [
        "big_id = big$cluster[1]\n",
        "big_id"
      ],
      "id": "379c5e7f-7748-448b-8931-2f79f18b114b"
    },
    {
      "cell_type": "code",
      "execution_count": null,
      "metadata": {},
      "outputs": [
        {
          "output_type": "stream",
          "name": "stdout",
          "text": [
            "Table (query)\n",
            "?? rows x 7 columns\n",
            "$ isbn_id     <int32> 42589707, 42591498, 4039948, 40954769, 6591039, 14459645, …\n",
            "$ isbn <large_string> \"0000744395\", \"000074445X\", \"0001004735\", \"0001004743\", \"0…\n",
            "$ LOC        <uint32> 0, 0, 0, 0, 0, 0, 0, 0, 0, 0, 0, 0, 0, 0, 0, 0, 0, 0, 1, 1…\n",
            "$ OL         <uint32> 0, 0, 1, 1, 1, 1, 1, 1, 1, 1, 1, 1, 1, 1, 1, 1, 1, 0, 2, 3…\n",
            "$ GR          <int64> 1, 1, 0, 0, 0, 0, 0, 0, 0, 0, 0, 0, 0, 0, 0, 0, 0, 1, 0, 1…\n",
            "$ AZ14       <uint32> 0, 0, 0, 0, 0, 0, 0, 0, 0, 0, 0, 0, 0, 0, 0, 0, 0, 0, 0, 0…\n",
            "$ AZ18       <uint32> 0, 0, 0, 0, 0, 0, 0, 75, 0, 0, 0, 0, 0, 0, 0, 0, 0, 0, 0, …\n",
            "Call `print()` for query details"
          ]
        }
      ],
      "source": [
        "bl = links %>% filter(cluster == big_id)\n",
        "bl = semi_join(isbns, bl) %>% arrange(isbn)\n",
        "bl %>% glimpse()"
      ],
      "id": "71399880-e4e9-4e27-8a90-d05edb31f588"
    },
    {
      "cell_type": "markdown",
      "metadata": {},
      "source": [
        "What are the things with the highest record count?"
      ],
      "id": "3b5735a0-4bd2-4594-8281-17a720f42018"
    },
    {
      "cell_type": "code",
      "execution_count": null,
      "metadata": {},
      "outputs": [
        {
          "output_type": "stream",
          "name": "stdout",
          "text": [
            "# A tibble: 51,481 × 8\n",
            "# Rowwise: \n",
            "    isbn_id isbn         LOC    OL    GR  AZ14  AZ18  btot\n",
            "      <int> <chr>      <int> <int> <int> <int> <int> <int>\n",
            " 1 42589707 0000744395     0     0     1     0     0     1\n",
            " 2 42591498 000074445X     0     0     1     0     0     1\n",
            " 3  4039948 0001004735     0     1     0     0     0     1\n",
            " 4 40954769 0001004743     0     1     0     0     0     1\n",
            " 5  6591039 0001034375     0     1     0     0     0     1\n",
            " 6 14459645 0001046403     0     1     0     0     0     1\n",
            " 7 18886973 0001049283     0     1     0     0     0     1\n",
            " 8   429256 0001054783     0     1     0     0    75    76\n",
            " 9  2306621 0001385208     0     1     0     0     0     1\n",
            "10 36828725 0001660047     0     1     0     0     0     1\n",
            "# ℹ 51,471 more rows"
          ]
        }
      ],
      "source": [
        "bl %>% collect() %>% rowwise() %>% mutate(\n",
        "  btot = sum(c_across(!starts_with(\"isbn\")))\n",
        ") %>% slice_max(btot, n=20)"
      ],
      "id": "09bbf225-b4eb-45a7-8c09-52bbd0c80827"
    }
  ],
  "nbformat": 4,
  "nbformat_minor": 5,
  "metadata": {
    "kernelspec": {
      "display_name": "Python 3",
      "language": "python",
      "name": "python3"
    }
  }
}