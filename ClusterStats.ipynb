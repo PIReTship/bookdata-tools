{
 "cells": [
  {
   "cell_type": "markdown",
   "id": "ed2bd4c0",
   "metadata": {},
   "source": [
    "# Book Clustering Statistics\n",
    "\n",
    "This notebook provides statistics on the results of our book clustering."
   ]
  },
  {
   "cell_type": "markdown",
   "id": "ba17fe0b",
   "metadata": {},
   "source": [
    "## Setup"
   ]
  },
  {
   "cell_type": "code",
   "execution_count": 1,
   "id": "4d611676",
   "metadata": {
    "execution": {
     "iopub.execute_input": "2022-08-26T16:55:52.312007Z",
     "iopub.status.busy": "2022-08-26T16:55:52.312007Z",
     "iopub.status.idle": "2022-08-26T16:55:54.541753Z",
     "shell.execute_reply": "2022-08-26T16:55:54.541753Z"
    }
   },
   "outputs": [],
   "source": [
    "import pandas as pd\n",
    "import matplotlib.pyplot as plt\n",
    "import numpy as np"
   ]
  },
  {
   "cell_type": "markdown",
   "id": "d42ffd26",
   "metadata": {},
   "source": [
    "## Load Data\n",
    "\n",
    "Let's start by getting our clusters and their statistics:"
   ]
  },
  {
   "cell_type": "code",
   "execution_count": 2,
   "id": "d6ebe916",
   "metadata": {
    "execution": {
     "iopub.execute_input": "2022-08-26T16:55:54.541753Z",
     "iopub.status.busy": "2022-08-26T16:55:54.541753Z",
     "iopub.status.idle": "2022-08-26T16:55:55.043783Z",
     "shell.execute_reply": "2022-08-26T16:55:55.042798Z"
    }
   },
   "outputs": [
    {
     "name": "stdout",
     "output_type": "stream",
     "text": [
      "<class 'pandas.core.frame.DataFrame'>\n",
      "RangeIndex: 31717371 entries, 0 to 31717370\n",
      "Data columns (total 8 columns):\n",
      " #   Column         Dtype \n",
      "---  ------         ----- \n",
      " 0   cluster        int32 \n",
      " 1   n_nodes        uint32\n",
      " 2   n_isbns        uint32\n",
      " 3   n_loc_recs     uint32\n",
      " 4   n_ol_editions  uint32\n",
      " 5   n_ol_works     uint32\n",
      " 6   n_gr_books     uint32\n",
      " 7   n_gr_works     uint32\n",
      "dtypes: int32(1), uint32(7)\n",
      "memory usage: 967.9 MB\n"
     ]
    }
   ],
   "source": [
    "clusters = pd.read_parquet('book-links/cluster-stats.parquet')\n",
    "clusters.info()"
   ]
  },
  {
   "cell_type": "code",
   "execution_count": 3,
   "id": "8c1f00ec",
   "metadata": {
    "execution": {
     "iopub.execute_input": "2022-08-26T16:55:55.048784Z",
     "iopub.status.busy": "2022-08-26T16:55:55.048298Z",
     "iopub.status.idle": "2022-08-26T16:55:55.211506Z",
     "shell.execute_reply": "2022-08-26T16:55:55.211506Z"
    }
   },
   "outputs": [],
   "source": [
    "clusters.set_index('cluster', inplace=True)"
   ]
  },
  {
   "cell_type": "markdown",
   "id": "7f93f032",
   "metadata": {},
   "source": [
    "Describe the count columns for basic descriptive stats:"
   ]
  },
  {
   "cell_type": "code",
   "execution_count": 4,
   "id": "3e2ccf3c",
   "metadata": {
    "execution": {
     "iopub.execute_input": "2022-08-26T16:55:55.227153Z",
     "iopub.status.busy": "2022-08-26T16:55:55.227153Z",
     "iopub.status.idle": "2022-08-26T16:56:01.098717Z",
     "shell.execute_reply": "2022-08-26T16:56:01.097330Z"
    }
   },
   "outputs": [
    {
     "data": {
      "text/html": [
       "<div>\n",
       "<style scoped>\n",
       "    .dataframe tbody tr th:only-of-type {\n",
       "        vertical-align: middle;\n",
       "    }\n",
       "\n",
       "    .dataframe tbody tr th {\n",
       "        vertical-align: top;\n",
       "    }\n",
       "\n",
       "    .dataframe thead th {\n",
       "        text-align: right;\n",
       "    }\n",
       "</style>\n",
       "<table border=\"1\" class=\"dataframe\">\n",
       "  <thead>\n",
       "    <tr style=\"text-align: right;\">\n",
       "      <th></th>\n",
       "      <th>n_nodes</th>\n",
       "      <th>n_isbns</th>\n",
       "      <th>n_loc_recs</th>\n",
       "      <th>n_ol_editions</th>\n",
       "      <th>n_ol_works</th>\n",
       "      <th>n_gr_books</th>\n",
       "      <th>n_gr_works</th>\n",
       "    </tr>\n",
       "  </thead>\n",
       "  <tbody>\n",
       "    <tr>\n",
       "      <th>count</th>\n",
       "      <td>3.171737e+07</td>\n",
       "      <td>3.171737e+07</td>\n",
       "      <td>3.171737e+07</td>\n",
       "      <td>3.171737e+07</td>\n",
       "      <td>3.171737e+07</td>\n",
       "      <td>3.171737e+07</td>\n",
       "      <td>3.171737e+07</td>\n",
       "    </tr>\n",
       "    <tr>\n",
       "      <th>mean</th>\n",
       "      <td>3.342299e+00</td>\n",
       "      <td>1.031456e+00</td>\n",
       "      <td>3.048986e-01</td>\n",
       "      <td>1.095140e+00</td>\n",
       "      <td>7.883911e-01</td>\n",
       "      <td>7.442783e-02</td>\n",
       "      <td>4.798512e-02</td>\n",
       "    </tr>\n",
       "    <tr>\n",
       "      <th>std</th>\n",
       "      <td>1.003193e+01</td>\n",
       "      <td>5.104504e+00</td>\n",
       "      <td>5.524211e-01</td>\n",
       "      <td>3.792497e+00</td>\n",
       "      <td>6.989674e-01</td>\n",
       "      <td>1.110550e+00</td>\n",
       "      <td>2.231912e-01</td>\n",
       "    </tr>\n",
       "    <tr>\n",
       "      <th>min</th>\n",
       "      <td>1.000000e+00</td>\n",
       "      <td>0.000000e+00</td>\n",
       "      <td>0.000000e+00</td>\n",
       "      <td>0.000000e+00</td>\n",
       "      <td>0.000000e+00</td>\n",
       "      <td>0.000000e+00</td>\n",
       "      <td>0.000000e+00</td>\n",
       "    </tr>\n",
       "    <tr>\n",
       "      <th>25%</th>\n",
       "      <td>2.000000e+00</td>\n",
       "      <td>0.000000e+00</td>\n",
       "      <td>0.000000e+00</td>\n",
       "      <td>1.000000e+00</td>\n",
       "      <td>0.000000e+00</td>\n",
       "      <td>0.000000e+00</td>\n",
       "      <td>0.000000e+00</td>\n",
       "    </tr>\n",
       "    <tr>\n",
       "      <th>50%</th>\n",
       "      <td>3.000000e+00</td>\n",
       "      <td>1.000000e+00</td>\n",
       "      <td>0.000000e+00</td>\n",
       "      <td>1.000000e+00</td>\n",
       "      <td>1.000000e+00</td>\n",
       "      <td>0.000000e+00</td>\n",
       "      <td>0.000000e+00</td>\n",
       "    </tr>\n",
       "    <tr>\n",
       "      <th>75%</th>\n",
       "      <td>4.000000e+00</td>\n",
       "      <td>2.000000e+00</td>\n",
       "      <td>1.000000e+00</td>\n",
       "      <td>1.000000e+00</td>\n",
       "      <td>1.000000e+00</td>\n",
       "      <td>0.000000e+00</td>\n",
       "      <td>0.000000e+00</td>\n",
       "    </tr>\n",
       "    <tr>\n",
       "      <th>max</th>\n",
       "      <td>2.902000e+04</td>\n",
       "      <td>1.437800e+04</td>\n",
       "      <td>6.730000e+02</td>\n",
       "      <td>9.939000e+03</td>\n",
       "      <td>2.368000e+03</td>\n",
       "      <td>3.390000e+03</td>\n",
       "      <td>1.320000e+02</td>\n",
       "    </tr>\n",
       "  </tbody>\n",
       "</table>\n",
       "</div>"
      ],
      "text/plain": [
       "            n_nodes       n_isbns    n_loc_recs  n_ol_editions    n_ol_works  \\\n",
       "count  3.171737e+07  3.171737e+07  3.171737e+07   3.171737e+07  3.171737e+07   \n",
       "mean   3.342299e+00  1.031456e+00  3.048986e-01   1.095140e+00  7.883911e-01   \n",
       "std    1.003193e+01  5.104504e+00  5.524211e-01   3.792497e+00  6.989674e-01   \n",
       "min    1.000000e+00  0.000000e+00  0.000000e+00   0.000000e+00  0.000000e+00   \n",
       "25%    2.000000e+00  0.000000e+00  0.000000e+00   1.000000e+00  0.000000e+00   \n",
       "50%    3.000000e+00  1.000000e+00  0.000000e+00   1.000000e+00  1.000000e+00   \n",
       "75%    4.000000e+00  2.000000e+00  1.000000e+00   1.000000e+00  1.000000e+00   \n",
       "max    2.902000e+04  1.437800e+04  6.730000e+02   9.939000e+03  2.368000e+03   \n",
       "\n",
       "         n_gr_books    n_gr_works  \n",
       "count  3.171737e+07  3.171737e+07  \n",
       "mean   7.442783e-02  4.798512e-02  \n",
       "std    1.110550e+00  2.231912e-01  \n",
       "min    0.000000e+00  0.000000e+00  \n",
       "25%    0.000000e+00  0.000000e+00  \n",
       "50%    0.000000e+00  0.000000e+00  \n",
       "75%    0.000000e+00  0.000000e+00  \n",
       "max    3.390000e+03  1.320000e+02  "
      ]
     },
     "execution_count": 4,
     "metadata": {},
     "output_type": "execute_result"
    }
   ],
   "source": [
    "clusters.describe()"
   ]
  },
  {
   "cell_type": "markdown",
   "id": "d4d56943",
   "metadata": {},
   "source": [
    "75% of clusters only contain 2 ISBNs (probably -10 and -13) and one book. OpenLibrary also contributes to the largest number of clusters."
   ]
  },
  {
   "cell_type": "markdown",
   "id": "b286083e",
   "metadata": {},
   "source": [
    "## Clusters per Source\n",
    "\n",
    "How many clusters are connected to each source?"
   ]
  },
  {
   "cell_type": "code",
   "execution_count": 5,
   "id": "88c8c4ef",
   "metadata": {
    "execution": {
     "iopub.execute_input": "2022-08-26T16:56:01.098717Z",
     "iopub.status.busy": "2022-08-26T16:56:01.098717Z",
     "iopub.status.idle": "2022-08-26T16:56:01.705593Z",
     "shell.execute_reply": "2022-08-26T16:56:01.705593Z"
    }
   },
   "outputs": [
    {
     "data": {
      "text/plain": [
       "n_nodes          31717371\n",
       "n_isbns          16882949\n",
       "n_loc_recs        9281528\n",
       "n_ol_editions    25814137\n",
       "n_ol_works       23754503\n",
       "n_gr_books        1506186\n",
       "n_gr_works        1505662\n",
       "dtype: int64"
      ]
     },
     "execution_count": 5,
     "metadata": {},
     "output_type": "execute_result"
    }
   ],
   "source": [
    "src_counts = pd.Series(dict(\n",
    "    (c, np.sum(clusters[c] > 0)) for c in clusters.columns\n",
    "))\n",
    "src_counts"
   ]
  },
  {
   "cell_type": "code",
   "execution_count": 6,
   "id": "d1744565",
   "metadata": {
    "execution": {
     "iopub.execute_input": "2022-08-26T16:56:01.705593Z",
     "iopub.status.busy": "2022-08-26T16:56:01.705593Z",
     "iopub.status.idle": "2022-08-26T16:56:02.349084Z",
     "shell.execute_reply": "2022-08-26T16:56:02.347734Z"
    }
   },
   "outputs": [
    {
     "data": {
      "image/png": "[encoded data removed]",
      "text/plain": [
       "<Figure size 432x288 with 1 Axes>"
      ]
     },
     "metadata": {
      "needs_background": "light"
     },
     "output_type": "display_data"
    }
   ],
   "source": [
    "src_counts.plot.barh()\n",
    "plt.xlabel('# of Clusters')\n",
    "plt.show()"
   ]
  },
  {
   "cell_type": "markdown",
   "id": "1c218fcf",
   "metadata": {},
   "source": [
    "## Distributions\n",
    "\n",
    "Let's look at the distributions of cluster sizes."
   ]
  },
  {
   "cell_type": "code",
   "execution_count": 7,
   "id": "b9482f4d",
   "metadata": {
    "execution": {
     "iopub.execute_input": "2022-08-26T16:56:02.351664Z",
     "iopub.status.busy": "2022-08-26T16:56:02.351664Z",
     "iopub.status.idle": "2022-08-26T16:56:03.910907Z",
     "shell.execute_reply": "2022-08-26T16:56:03.910907Z"
    }
   },
   "outputs": [
    {
     "data": {
      "text/html": [
       "<div>\n",
       "<style scoped>\n",
       "    .dataframe tbody tr th:only-of-type {\n",
       "        vertical-align: middle;\n",
       "    }\n",
       "\n",
       "    .dataframe tbody tr th {\n",
       "        vertical-align: top;\n",
       "    }\n",
       "\n",
       "    .dataframe thead th {\n",
       "        text-align: right;\n",
       "    }\n",
       "</style>\n",
       "<table border=\"1\" class=\"dataframe\">\n",
       "  <thead>\n",
       "    <tr style=\"text-align: right;\">\n",
       "      <th></th>\n",
       "      <th>RecType</th>\n",
       "      <th>RecCount</th>\n",
       "      <th>Clusters</th>\n",
       "    </tr>\n",
       "  </thead>\n",
       "  <tbody>\n",
       "    <tr>\n",
       "      <th>0</th>\n",
       "      <td>n_isbns</td>\n",
       "      <td>0</td>\n",
       "      <td>14834422</td>\n",
       "    </tr>\n",
       "    <tr>\n",
       "      <th>1</th>\n",
       "      <td>n_isbns</td>\n",
       "      <td>1</td>\n",
       "      <td>7480533</td>\n",
       "    </tr>\n",
       "    <tr>\n",
       "      <th>2</th>\n",
       "      <td>n_isbns</td>\n",
       "      <td>2</td>\n",
       "      <td>7435673</td>\n",
       "    </tr>\n",
       "    <tr>\n",
       "      <th>3</th>\n",
       "      <td>n_isbns</td>\n",
       "      <td>4</td>\n",
       "      <td>737604</td>\n",
       "    </tr>\n",
       "    <tr>\n",
       "      <th>4</th>\n",
       "      <td>n_isbns</td>\n",
       "      <td>3</td>\n",
       "      <td>617822</td>\n",
       "    </tr>\n",
       "  </tbody>\n",
       "</table>\n",
       "</div>"
      ],
      "text/plain": [
       "   RecType  RecCount  Clusters\n",
       "0  n_isbns         0  14834422\n",
       "1  n_isbns         1   7480533\n",
       "2  n_isbns         2   7435673\n",
       "3  n_isbns         4    737604\n",
       "4  n_isbns         3    617822"
      ]
     },
     "execution_count": 7,
     "metadata": {},
     "output_type": "execute_result"
    }
   ],
   "source": [
    "size_dist = pd.concat(dict(\n",
    "    (c, clusters[c].value_counts()) for c in clusters.columns if c != 'n_nodes'\n",
    "), names=['RecType'])\n",
    "size_dist.index.set_names(['RecType', 'RecCount'], inplace=True)\n",
    "size_dist = size_dist.reset_index(name='Clusters')\n",
    "size_dist.head()"
   ]
  },
  {
   "cell_type": "code",
   "execution_count": 8,
   "id": "4f4fef3a",
   "metadata": {
    "execution": {
     "iopub.execute_input": "2022-08-26T16:56:03.910907Z",
     "iopub.status.busy": "2022-08-26T16:56:03.910907Z",
     "iopub.status.idle": "2022-08-26T16:56:05.539931Z",
     "shell.execute_reply": "2022-08-26T16:56:05.539931Z"
    }
   },
   "outputs": [
    {
     "data": {
      "image/png": "[encoded data removed]",
      "text/plain": [
       "<Figure size 432x288 with 1 Axes>"
      ]
     },
     "metadata": {
      "needs_background": "light"
     },
     "output_type": "display_data"
    }
   ],
   "source": [
    "for rt, data in size_dist.groupby('RecType'):\n",
    "    plt.scatter(data['RecCount'], data['Clusters'], marker='1', label=rt)\n",
    "plt.legend()\n",
    "plt.xlabel('# of Records')\n",
    "plt.xscale('log')\n",
    "plt.ylabel('# of Clusters')\n",
    "plt.yscale('log')\n",
    "plt.show()"
   ]
  },
  {
   "cell_type": "markdown",
   "id": "e1c849d0",
   "metadata": {},
   "source": [
    "Looks mostly fine - we expect a lot of power laws - but the number of clusters with merged GoodReads works is concerning."
   ]
  },
  {
   "cell_type": "markdown",
   "id": "896f552d",
   "metadata": {},
   "source": [
    "## GoodReads Work Merging\n",
    "\n",
    "Why are GoodReads works merging? Let's look at those."
   ]
  },
  {
   "cell_type": "code",
   "execution_count": 9,
   "id": "7bf76300",
   "metadata": {
    "execution": {
     "iopub.execute_input": "2022-08-26T16:56:05.539931Z",
     "iopub.status.busy": "2022-08-26T16:56:05.539931Z",
     "iopub.status.idle": "2022-08-26T16:56:05.654900Z",
     "shell.execute_reply": "2022-08-26T16:56:05.652393Z"
    }
   },
   "outputs": [
    {
     "name": "stdout",
     "output_type": "stream",
     "text": [
      "<class 'pandas.core.frame.DataFrame'>\n",
      "Int64Index: 9258 entries, 100026918 to 109397422\n",
      "Data columns (total 7 columns):\n",
      " #   Column         Non-Null Count  Dtype \n",
      "---  ------         --------------  ----- \n",
      " 0   n_nodes        9258 non-null   uint32\n",
      " 1   n_isbns        9258 non-null   uint32\n",
      " 2   n_loc_recs     9258 non-null   uint32\n",
      " 3   n_ol_editions  9258 non-null   uint32\n",
      " 4   n_ol_works     9258 non-null   uint32\n",
      " 5   n_gr_books     9258 non-null   uint32\n",
      " 6   n_gr_works     9258 non-null   uint32\n",
      "dtypes: uint32(7)\n",
      "memory usage: 325.5 KB\n"
     ]
    }
   ],
   "source": [
    "gr_big = clusters[clusters['n_gr_works'] > 1].sort_values('n_gr_works', ascending=False)\n",
    "gr_big.info()"
   ]
  },
  {
   "cell_type": "markdown",
   "id": "f5ec5d6f",
   "metadata": {},
   "source": [
    "We have a lot of these clusters. What fraction of the GoodReads-affected clusters is this?"
   ]
  },
  {
   "cell_type": "code",
   "execution_count": 10,
   "id": "b8d8da6b",
   "metadata": {
    "execution": {
     "iopub.execute_input": "2022-08-26T16:56:05.664410Z",
     "iopub.status.busy": "2022-08-26T16:56:05.663891Z",
     "iopub.status.idle": "2022-08-26T16:56:05.732382Z",
     "shell.execute_reply": "2022-08-26T16:56:05.731647Z"
    }
   },
   "outputs": [
    {
     "data": {
      "text/plain": [
       "0.0002918905227044196"
      ]
     },
     "execution_count": 10,
     "metadata": {},
     "output_type": "execute_result"
    }
   ],
   "source": [
    "len(gr_big) / clusters['n_gr_books'].count()"
   ]
  },
  {
   "cell_type": "markdown",
   "id": "c0081772",
   "metadata": {},
   "source": [
    "Less than 1%. Not bad, but let's look."
   ]
  },
  {
   "cell_type": "code",
   "execution_count": 11,
   "id": "2661f75b",
   "metadata": {
    "execution": {
     "iopub.execute_input": "2022-08-26T16:56:05.732382Z",
     "iopub.status.busy": "2022-08-26T16:56:05.732382Z",
     "iopub.status.idle": "2022-08-26T16:56:05.765285Z",
     "shell.execute_reply": "2022-08-26T16:56:05.765285Z"
    }
   },
   "outputs": [
    {
     "data": {
      "text/html": [
       "<div>\n",
       "<style scoped>\n",
       "    .dataframe tbody tr th:only-of-type {\n",
       "        vertical-align: middle;\n",
       "    }\n",
       "\n",
       "    .dataframe tbody tr th {\n",
       "        vertical-align: top;\n",
       "    }\n",
       "\n",
       "    .dataframe thead th {\n",
       "        text-align: right;\n",
       "    }\n",
       "</style>\n",
       "<table border=\"1\" class=\"dataframe\">\n",
       "  <thead>\n",
       "    <tr style=\"text-align: right;\">\n",
       "      <th></th>\n",
       "      <th>n_nodes</th>\n",
       "      <th>n_isbns</th>\n",
       "      <th>n_loc_recs</th>\n",
       "      <th>n_ol_editions</th>\n",
       "      <th>n_ol_works</th>\n",
       "      <th>n_gr_books</th>\n",
       "      <th>n_gr_works</th>\n",
       "    </tr>\n",
       "    <tr>\n",
       "      <th>cluster</th>\n",
       "      <th></th>\n",
       "      <th></th>\n",
       "      <th></th>\n",
       "      <th></th>\n",
       "      <th></th>\n",
       "      <th></th>\n",
       "      <th></th>\n",
       "    </tr>\n",
       "  </thead>\n",
       "  <tbody>\n",
       "    <tr>\n",
       "      <th>100026918</th>\n",
       "      <td>29020</td>\n",
       "      <td>14378</td>\n",
       "      <td>673</td>\n",
       "      <td>9939</td>\n",
       "      <td>508</td>\n",
       "      <td>3390</td>\n",
       "      <td>132</td>\n",
       "    </tr>\n",
       "    <tr>\n",
       "      <th>100073294</th>\n",
       "      <td>17883</td>\n",
       "      <td>7331</td>\n",
       "      <td>496</td>\n",
       "      <td>8126</td>\n",
       "      <td>360</td>\n",
       "      <td>1481</td>\n",
       "      <td>89</td>\n",
       "    </tr>\n",
       "    <tr>\n",
       "      <th>100227025</th>\n",
       "      <td>6811</td>\n",
       "      <td>3314</td>\n",
       "      <td>192</td>\n",
       "      <td>2555</td>\n",
       "      <td>258</td>\n",
       "      <td>422</td>\n",
       "      <td>70</td>\n",
       "    </tr>\n",
       "    <tr>\n",
       "      <th>100122502</th>\n",
       "      <td>454</td>\n",
       "      <td>165</td>\n",
       "      <td>4</td>\n",
       "      <td>93</td>\n",
       "      <td>76</td>\n",
       "      <td>60</td>\n",
       "      <td>56</td>\n",
       "    </tr>\n",
       "    <tr>\n",
       "      <th>104486307</th>\n",
       "      <td>315</td>\n",
       "      <td>141</td>\n",
       "      <td>1</td>\n",
       "      <td>51</td>\n",
       "      <td>18</td>\n",
       "      <td>53</td>\n",
       "      <td>51</td>\n",
       "    </tr>\n",
       "  </tbody>\n",
       "</table>\n",
       "</div>"
      ],
      "text/plain": [
       "           n_nodes  n_isbns  n_loc_recs  n_ol_editions  n_ol_works  \\\n",
       "cluster                                                              \n",
       "100026918    29020    14378         673           9939         508   \n",
       "100073294    17883     7331         496           8126         360   \n",
       "100227025     6811     3314         192           2555         258   \n",
       "100122502      454      165           4             93          76   \n",
       "104486307      315      141           1             51          18   \n",
       "\n",
       "           n_gr_books  n_gr_works  \n",
       "cluster                            \n",
       "100026918        3390         132  \n",
       "100073294        1481          89  \n",
       "100227025         422          70  \n",
       "100122502          60          56  \n",
       "104486307          53          51  "
      ]
     },
     "execution_count": 11,
     "metadata": {},
     "output_type": "execute_result"
    }
   ],
   "source": [
    "gr_big.head()"
   ]
  },
  {
   "cell_type": "markdown",
   "id": "b7d0523e",
   "metadata": {},
   "source": [
    "## Large Cluster Debugging\n",
    "\n",
    "We have some pretty big clusters:"
   ]
  },
  {
   "cell_type": "code",
   "execution_count": 12,
   "id": "e53b8e92",
   "metadata": {
    "execution": {
     "iopub.execute_input": "2022-08-26T16:56:05.765285Z",
     "iopub.status.busy": "2022-08-26T16:56:05.765285Z",
     "iopub.status.idle": "2022-08-26T16:56:06.682597Z",
     "shell.execute_reply": "2022-08-26T16:56:06.681654Z"
    }
   },
   "outputs": [
    {
     "data": {
      "text/html": [
       "<div>\n",
       "<style scoped>\n",
       "    .dataframe tbody tr th:only-of-type {\n",
       "        vertical-align: middle;\n",
       "    }\n",
       "\n",
       "    .dataframe tbody tr th {\n",
       "        vertical-align: top;\n",
       "    }\n",
       "\n",
       "    .dataframe thead th {\n",
       "        text-align: right;\n",
       "    }\n",
       "</style>\n",
       "<table border=\"1\" class=\"dataframe\">\n",
       "  <thead>\n",
       "    <tr style=\"text-align: right;\">\n",
       "      <th></th>\n",
       "      <th>n_nodes</th>\n",
       "      <th>n_isbns</th>\n",
       "      <th>n_loc_recs</th>\n",
       "      <th>n_ol_editions</th>\n",
       "      <th>n_ol_works</th>\n",
       "      <th>n_gr_books</th>\n",
       "      <th>n_gr_works</th>\n",
       "    </tr>\n",
       "    <tr>\n",
       "      <th>cluster</th>\n",
       "      <th></th>\n",
       "      <th></th>\n",
       "      <th></th>\n",
       "      <th></th>\n",
       "      <th></th>\n",
       "      <th></th>\n",
       "      <th></th>\n",
       "    </tr>\n",
       "  </thead>\n",
       "  <tbody>\n",
       "    <tr>\n",
       "      <th>100026918</th>\n",
       "      <td>29020</td>\n",
       "      <td>14378</td>\n",
       "      <td>673</td>\n",
       "      <td>9939</td>\n",
       "      <td>508</td>\n",
       "      <td>3390</td>\n",
       "      <td>132</td>\n",
       "    </tr>\n",
       "    <tr>\n",
       "      <th>100073294</th>\n",
       "      <td>17883</td>\n",
       "      <td>7331</td>\n",
       "      <td>496</td>\n",
       "      <td>8126</td>\n",
       "      <td>360</td>\n",
       "      <td>1481</td>\n",
       "      <td>89</td>\n",
       "    </tr>\n",
       "    <tr>\n",
       "      <th>100044980</th>\n",
       "      <td>15635</td>\n",
       "      <td>7836</td>\n",
       "      <td>186</td>\n",
       "      <td>6168</td>\n",
       "      <td>89</td>\n",
       "      <td>1333</td>\n",
       "      <td>23</td>\n",
       "    </tr>\n",
       "    <tr>\n",
       "      <th>102066477</th>\n",
       "      <td>11281</td>\n",
       "      <td>7520</td>\n",
       "      <td>0</td>\n",
       "      <td>3760</td>\n",
       "      <td>1</td>\n",
       "      <td>0</td>\n",
       "      <td>0</td>\n",
       "    </tr>\n",
       "    <tr>\n",
       "      <th>100063034</th>\n",
       "      <td>11098</td>\n",
       "      <td>5647</td>\n",
       "      <td>178</td>\n",
       "      <td>3484</td>\n",
       "      <td>145</td>\n",
       "      <td>1599</td>\n",
       "      <td>45</td>\n",
       "    </tr>\n",
       "  </tbody>\n",
       "</table>\n",
       "</div>"
      ],
      "text/plain": [
       "           n_nodes  n_isbns  n_loc_recs  n_ol_editions  n_ol_works  \\\n",
       "cluster                                                              \n",
       "100026918    29020    14378         673           9939         508   \n",
       "100073294    17883     7331         496           8126         360   \n",
       "100044980    15635     7836         186           6168          89   \n",
       "102066477    11281     7520           0           3760           1   \n",
       "100063034    11098     5647         178           3484         145   \n",
       "\n",
       "           n_gr_books  n_gr_works  \n",
       "cluster                            \n",
       "100026918        3390         132  \n",
       "100073294        1481          89  \n",
       "100044980        1333          23  \n",
       "102066477           0           0  \n",
       "100063034        1599          45  "
      ]
     },
     "execution_count": 12,
     "metadata": {},
     "output_type": "execute_result"
    }
   ],
   "source": [
    "big = clusters.nlargest(5, 'n_nodes')\n",
    "big"
   ]
  },
  {
   "cell_type": "markdown",
   "id": "5c45feab",
   "metadata": {},
   "source": [
    "What is up with this? We should figure out what went wrong, if we can.  What are its ISBNs?"
   ]
  },
  {
   "cell_type": "code",
   "execution_count": 13,
   "id": "746de634",
   "metadata": {
    "execution": {
     "iopub.execute_input": "2022-08-26T16:56:06.682597Z",
     "iopub.status.busy": "2022-08-26T16:56:06.682597Z",
     "iopub.status.idle": "2022-08-26T16:56:26.036198Z",
     "shell.execute_reply": "2022-08-26T16:56:26.036198Z"
    }
   },
   "outputs": [
    {
     "data": {
      "text/html": [
       "<div>\n",
       "<style scoped>\n",
       "    .dataframe tbody tr th:only-of-type {\n",
       "        vertical-align: middle;\n",
       "    }\n",
       "\n",
       "    .dataframe tbody tr th {\n",
       "        vertical-align: top;\n",
       "    }\n",
       "\n",
       "    .dataframe thead th {\n",
       "        text-align: right;\n",
       "    }\n",
       "</style>\n",
       "<table border=\"1\" class=\"dataframe\">\n",
       "  <thead>\n",
       "    <tr style=\"text-align: right;\">\n",
       "      <th></th>\n",
       "      <th>isbn</th>\n",
       "      <th>LOC</th>\n",
       "      <th>BX</th>\n",
       "      <th>OL</th>\n",
       "      <th>AZ14</th>\n",
       "      <th>GR</th>\n",
       "    </tr>\n",
       "    <tr>\n",
       "      <th>isbn_id</th>\n",
       "      <th></th>\n",
       "      <th></th>\n",
       "      <th></th>\n",
       "      <th></th>\n",
       "      <th></th>\n",
       "      <th></th>\n",
       "    </tr>\n",
       "  </thead>\n",
       "  <tbody>\n",
       "    <tr>\n",
       "      <th>1</th>\n",
       "      <td>0836932722</td>\n",
       "      <td>2</td>\n",
       "      <td>0</td>\n",
       "      <td>3</td>\n",
       "      <td>0</td>\n",
       "      <td>0</td>\n",
       "    </tr>\n",
       "    <tr>\n",
       "      <th>2</th>\n",
       "      <td>0965406334</td>\n",
       "      <td>1</td>\n",
       "      <td>0</td>\n",
       "      <td>1</td>\n",
       "      <td>0</td>\n",
       "      <td>0</td>\n",
       "    </tr>\n",
       "    <tr>\n",
       "      <th>3</th>\n",
       "      <td>0780363175</td>\n",
       "      <td>1</td>\n",
       "      <td>0</td>\n",
       "      <td>2</td>\n",
       "      <td>0</td>\n",
       "      <td>0</td>\n",
       "    </tr>\n",
       "    <tr>\n",
       "      <th>4</th>\n",
       "      <td>0780363590</td>\n",
       "      <td>1</td>\n",
       "      <td>0</td>\n",
       "      <td>2</td>\n",
       "      <td>0</td>\n",
       "      <td>0</td>\n",
       "    </tr>\n",
       "    <tr>\n",
       "      <th>5</th>\n",
       "      <td>0780363604</td>\n",
       "      <td>1</td>\n",
       "      <td>0</td>\n",
       "      <td>2</td>\n",
       "      <td>0</td>\n",
       "      <td>0</td>\n",
       "    </tr>\n",
       "  </tbody>\n",
       "</table>\n",
       "</div>"
      ],
      "text/plain": [
       "               isbn  LOC  BX  OL  AZ14  GR\n",
       "isbn_id                                   \n",
       "1        0836932722    2   0   3     0   0\n",
       "2        0965406334    1   0   1     0   0\n",
       "3        0780363175    1   0   2     0   0\n",
       "4        0780363590    1   0   2     0   0\n",
       "5        0780363604    1   0   2     0   0"
      ]
     },
     "execution_count": 13,
     "metadata": {},
     "output_type": "execute_result"
    }
   ],
   "source": [
    "isbns = pd.read_parquet('book-links/all-isbns.parquet').set_index('isbn_id')\n",
    "isbns.head()"
   ]
  },
  {
   "cell_type": "code",
   "execution_count": 14,
   "id": "cace7030",
   "metadata": {
    "execution": {
     "iopub.execute_input": "2022-08-26T16:56:26.036198Z",
     "iopub.status.busy": "2022-08-26T16:56:26.036198Z",
     "iopub.status.idle": "2022-08-26T16:56:26.614337Z",
     "shell.execute_reply": "2022-08-26T16:56:26.612838Z"
    }
   },
   "outputs": [
    {
     "data": {
      "text/html": [
       "<div>\n",
       "<style scoped>\n",
       "    .dataframe tbody tr th:only-of-type {\n",
       "        vertical-align: middle;\n",
       "    }\n",
       "\n",
       "    .dataframe tbody tr th {\n",
       "        vertical-align: top;\n",
       "    }\n",
       "\n",
       "    .dataframe thead th {\n",
       "        text-align: right;\n",
       "    }\n",
       "</style>\n",
       "<table border=\"1\" class=\"dataframe\">\n",
       "  <thead>\n",
       "    <tr style=\"text-align: right;\">\n",
       "      <th></th>\n",
       "      <th>isbn_id</th>\n",
       "      <th>cluster</th>\n",
       "    </tr>\n",
       "  </thead>\n",
       "  <tbody>\n",
       "    <tr>\n",
       "      <th>0</th>\n",
       "      <td>32715077</td>\n",
       "      <td>421157376</td>\n",
       "    </tr>\n",
       "    <tr>\n",
       "      <th>1</th>\n",
       "      <td>32715076</td>\n",
       "      <td>452207636</td>\n",
       "    </tr>\n",
       "    <tr>\n",
       "      <th>2</th>\n",
       "      <td>32715075</td>\n",
       "      <td>442672906</td>\n",
       "    </tr>\n",
       "    <tr>\n",
       "      <th>3</th>\n",
       "      <td>32715073</td>\n",
       "      <td>451904727</td>\n",
       "    </tr>\n",
       "    <tr>\n",
       "      <th>4</th>\n",
       "      <td>32715071</td>\n",
       "      <td>456552743</td>\n",
       "    </tr>\n",
       "  </tbody>\n",
       "</table>\n",
       "</div>"
      ],
      "text/plain": [
       "    isbn_id    cluster\n",
       "0  32715077  421157376\n",
       "1  32715076  452207636\n",
       "2  32715075  442672906\n",
       "3  32715073  451904727\n",
       "4  32715071  456552743"
      ]
     },
     "execution_count": 14,
     "metadata": {},
     "output_type": "execute_result"
    }
   ],
   "source": [
    "links = pd.read_parquet('book-links/isbn-clusters.parquet', columns=['isbn_id', 'cluster'])\n",
    "links.head()"
   ]
  },
  {
   "cell_type": "code",
   "execution_count": 15,
   "id": "f6e2df3d",
   "metadata": {
    "execution": {
     "iopub.execute_input": "2022-08-26T16:56:26.624255Z",
     "iopub.status.busy": "2022-08-26T16:56:26.623755Z",
     "iopub.status.idle": "2022-08-26T16:56:30.353025Z",
     "shell.execute_reply": "2022-08-26T16:56:30.353025Z"
    }
   },
   "outputs": [
    {
     "data": {
      "text/html": [
       "<div>\n",
       "<style scoped>\n",
       "    .dataframe tbody tr th:only-of-type {\n",
       "        vertical-align: middle;\n",
       "    }\n",
       "\n",
       "    .dataframe tbody tr th {\n",
       "        vertical-align: top;\n",
       "    }\n",
       "\n",
       "    .dataframe thead th {\n",
       "        text-align: right;\n",
       "    }\n",
       "</style>\n",
       "<table border=\"1\" class=\"dataframe\">\n",
       "  <thead>\n",
       "    <tr style=\"text-align: right;\">\n",
       "      <th></th>\n",
       "      <th>isbn_id</th>\n",
       "      <th>isbn</th>\n",
       "      <th>LOC</th>\n",
       "      <th>BX</th>\n",
       "      <th>OL</th>\n",
       "      <th>AZ14</th>\n",
       "      <th>GR</th>\n",
       "    </tr>\n",
       "  </thead>\n",
       "  <tbody>\n",
       "    <tr>\n",
       "      <th>32684167</th>\n",
       "      <td>16521303</td>\n",
       "      <td>0001004735</td>\n",
       "      <td>0</td>\n",
       "      <td>0</td>\n",
       "      <td>1</td>\n",
       "      <td>0</td>\n",
       "      <td>0</td>\n",
       "    </tr>\n",
       "    <tr>\n",
       "      <th>32689007</th>\n",
       "      <td>12371885</td>\n",
       "      <td>0001848259</td>\n",
       "      <td>0</td>\n",
       "      <td>0</td>\n",
       "      <td>1</td>\n",
       "      <td>0</td>\n",
       "      <td>0</td>\n",
       "    </tr>\n",
       "    <tr>\n",
       "      <th>32685800</th>\n",
       "      <td>12221529</td>\n",
       "      <td>0001849123</td>\n",
       "      <td>0</td>\n",
       "      <td>0</td>\n",
       "      <td>1</td>\n",
       "      <td>0</td>\n",
       "      <td>0</td>\n",
       "    </tr>\n",
       "    <tr>\n",
       "      <th>32690202</th>\n",
       "      <td>15709149</td>\n",
       "      <td>0001956795</td>\n",
       "      <td>0</td>\n",
       "      <td>0</td>\n",
       "      <td>1</td>\n",
       "      <td>0</td>\n",
       "      <td>0</td>\n",
       "    </tr>\n",
       "    <tr>\n",
       "      <th>32688222</th>\n",
       "      <td>8619860</td>\n",
       "      <td>0003302245</td>\n",
       "      <td>0</td>\n",
       "      <td>0</td>\n",
       "      <td>1</td>\n",
       "      <td>0</td>\n",
       "      <td>0</td>\n",
       "    </tr>\n",
       "    <tr>\n",
       "      <th>...</th>\n",
       "      <td>...</td>\n",
       "      <td>...</td>\n",
       "      <td>...</td>\n",
       "      <td>...</td>\n",
       "      <td>...</td>\n",
       "      <td>...</td>\n",
       "      <td>...</td>\n",
       "    </tr>\n",
       "    <tr>\n",
       "      <th>32686615</th>\n",
       "      <td>32502746</td>\n",
       "      <td>B073GF59RD</td>\n",
       "      <td>0</td>\n",
       "      <td>0</td>\n",
       "      <td>0</td>\n",
       "      <td>0</td>\n",
       "      <td>1</td>\n",
       "    </tr>\n",
       "    <tr>\n",
       "      <th>32687099</th>\n",
       "      <td>32606432</td>\n",
       "      <td>B073GGNYFL</td>\n",
       "      <td>0</td>\n",
       "      <td>0</td>\n",
       "      <td>0</td>\n",
       "      <td>0</td>\n",
       "      <td>1</td>\n",
       "    </tr>\n",
       "    <tr>\n",
       "      <th>32685737</th>\n",
       "      <td>32629544</td>\n",
       "      <td>B073MZ23QX</td>\n",
       "      <td>0</td>\n",
       "      <td>0</td>\n",
       "      <td>0</td>\n",
       "      <td>0</td>\n",
       "      <td>1</td>\n",
       "    </tr>\n",
       "    <tr>\n",
       "      <th>32683394</th>\n",
       "      <td>32516874</td>\n",
       "      <td>B074P9CM5T</td>\n",
       "      <td>0</td>\n",
       "      <td>0</td>\n",
       "      <td>0</td>\n",
       "      <td>0</td>\n",
       "      <td>1</td>\n",
       "    </tr>\n",
       "    <tr>\n",
       "      <th>32678032</th>\n",
       "      <td>32489495</td>\n",
       "      <td>B074WFRH82</td>\n",
       "      <td>0</td>\n",
       "      <td>0</td>\n",
       "      <td>0</td>\n",
       "      <td>0</td>\n",
       "      <td>1</td>\n",
       "    </tr>\n",
       "  </tbody>\n",
       "</table>\n",
       "<p>14378 rows × 7 columns</p>\n",
       "</div>"
      ],
      "text/plain": [
       "           isbn_id        isbn  LOC  BX  OL  AZ14  GR\n",
       "32684167  16521303  0001004735    0   0   1     0   0\n",
       "32689007  12371885  0001848259    0   0   1     0   0\n",
       "32685800  12221529  0001849123    0   0   1     0   0\n",
       "32690202  15709149  0001956795    0   0   1     0   0\n",
       "32688222   8619860  0003302245    0   0   1     0   0\n",
       "...            ...         ...  ...  ..  ..   ...  ..\n",
       "32686615  32502746  B073GF59RD    0   0   0     0   1\n",
       "32687099  32606432  B073GGNYFL    0   0   0     0   1\n",
       "32685737  32629544  B073MZ23QX    0   0   0     0   1\n",
       "32683394  32516874  B074P9CM5T    0   0   0     0   1\n",
       "32678032  32489495  B074WFRH82    0   0   0     0   1\n",
       "\n",
       "[14378 rows x 7 columns]"
      ]
     },
     "execution_count": 15,
     "metadata": {},
     "output_type": "execute_result"
    }
   ],
   "source": [
    "big_id = big.index[0]\n",
    "bl = links[links['cluster'] == big_id].drop(columns=['cluster'])\n",
    "bl = bl.join(isbns, on='isbn_id')\n",
    "bl.sort_values('isbn')"
   ]
  },
  {
   "cell_type": "markdown",
   "id": "76c9505c",
   "metadata": {},
   "source": [
    "What are the things with the highest record count (besides ratings)?"
   ]
  },
  {
   "cell_type": "code",
   "execution_count": 16,
   "id": "4747c67a",
   "metadata": {
    "execution": {
     "iopub.execute_input": "2022-08-26T16:56:30.368784Z",
     "iopub.status.busy": "2022-08-26T16:56:30.368784Z",
     "iopub.status.idle": "2022-08-26T16:56:30.425756Z",
     "shell.execute_reply": "2022-08-26T16:56:30.425227Z"
    }
   },
   "outputs": [
    {
     "data": {
      "text/html": [
       "<div>\n",
       "<style scoped>\n",
       "    .dataframe tbody tr th:only-of-type {\n",
       "        vertical-align: middle;\n",
       "    }\n",
       "\n",
       "    .dataframe tbody tr th {\n",
       "        vertical-align: top;\n",
       "    }\n",
       "\n",
       "    .dataframe thead th {\n",
       "        text-align: right;\n",
       "    }\n",
       "</style>\n",
       "<table border=\"1\" class=\"dataframe\">\n",
       "  <thead>\n",
       "    <tr style=\"text-align: right;\">\n",
       "      <th></th>\n",
       "      <th>isbn_id</th>\n",
       "      <th>isbn</th>\n",
       "      <th>LOC</th>\n",
       "      <th>BX</th>\n",
       "      <th>OL</th>\n",
       "      <th>AZ14</th>\n",
       "      <th>GR</th>\n",
       "      <th>btot</th>\n",
       "    </tr>\n",
       "  </thead>\n",
       "  <tbody>\n",
       "    <tr>\n",
       "      <th>32677966</th>\n",
       "      <td>7126671</td>\n",
       "      <td>1559029838</td>\n",
       "      <td>0</td>\n",
       "      <td>180</td>\n",
       "      <td>14</td>\n",
       "      <td>0</td>\n",
       "      <td>1</td>\n",
       "      <td>194</td>\n",
       "    </tr>\n",
       "    <tr>\n",
       "      <th>32687993</th>\n",
       "      <td>7134515</td>\n",
       "      <td>0451523377</td>\n",
       "      <td>0</td>\n",
       "      <td>53</td>\n",
       "      <td>2</td>\n",
       "      <td>0</td>\n",
       "      <td>1</td>\n",
       "      <td>55</td>\n",
       "    </tr>\n",
       "    <tr>\n",
       "      <th>32686762</th>\n",
       "      <td>7122690</td>\n",
       "      <td>006440188X</td>\n",
       "      <td>0</td>\n",
       "      <td>50</td>\n",
       "      <td>2</td>\n",
       "      <td>549</td>\n",
       "      <td>1</td>\n",
       "      <td>52</td>\n",
       "    </tr>\n",
       "    <tr>\n",
       "      <th>32676373</th>\n",
       "      <td>7129702</td>\n",
       "      <td>0671517643</td>\n",
       "      <td>0</td>\n",
       "      <td>37</td>\n",
       "      <td>1</td>\n",
       "      <td>0</td>\n",
       "      <td>1</td>\n",
       "      <td>38</td>\n",
       "    </tr>\n",
       "    <tr>\n",
       "      <th>32687590</th>\n",
       "      <td>7123468</td>\n",
       "      <td>185326086X</td>\n",
       "      <td>0</td>\n",
       "      <td>35</td>\n",
       "      <td>1</td>\n",
       "      <td>2</td>\n",
       "      <td>1</td>\n",
       "      <td>36</td>\n",
       "    </tr>\n",
       "    <tr>\n",
       "      <th>32687906</th>\n",
       "      <td>7173362</td>\n",
       "      <td>0553212710</td>\n",
       "      <td>0</td>\n",
       "      <td>32</td>\n",
       "      <td>2</td>\n",
       "      <td>4</td>\n",
       "      <td>1</td>\n",
       "      <td>34</td>\n",
       "    </tr>\n",
       "    <tr>\n",
       "      <th>32685618</th>\n",
       "      <td>7125920</td>\n",
       "      <td>0590425919</td>\n",
       "      <td>0</td>\n",
       "      <td>31</td>\n",
       "      <td>1</td>\n",
       "      <td>0</td>\n",
       "      <td>1</td>\n",
       "      <td>32</td>\n",
       "    </tr>\n",
       "    <tr>\n",
       "      <th>32678637</th>\n",
       "      <td>7139595</td>\n",
       "      <td>8496246086</td>\n",
       "      <td>0</td>\n",
       "      <td>30</td>\n",
       "      <td>1</td>\n",
       "      <td>0</td>\n",
       "      <td>1</td>\n",
       "      <td>31</td>\n",
       "    </tr>\n",
       "    <tr>\n",
       "      <th>32680537</th>\n",
       "      <td>7125724</td>\n",
       "      <td>0553211285</td>\n",
       "      <td>0</td>\n",
       "      <td>30</td>\n",
       "      <td>1</td>\n",
       "      <td>0</td>\n",
       "      <td>1</td>\n",
       "      <td>31</td>\n",
       "    </tr>\n",
       "    <tr>\n",
       "      <th>32682452</th>\n",
       "      <td>7122014</td>\n",
       "      <td>0451527747</td>\n",
       "      <td>0</td>\n",
       "      <td>30</td>\n",
       "      <td>0</td>\n",
       "      <td>0</td>\n",
       "      <td>1</td>\n",
       "      <td>30</td>\n",
       "    </tr>\n",
       "    <tr>\n",
       "      <th>32683140</th>\n",
       "      <td>7130506</td>\n",
       "      <td>0140620869</td>\n",
       "      <td>0</td>\n",
       "      <td>29</td>\n",
       "      <td>1</td>\n",
       "      <td>0</td>\n",
       "      <td>1</td>\n",
       "      <td>30</td>\n",
       "    </tr>\n",
       "    <tr>\n",
       "      <th>32686933</th>\n",
       "      <td>7141610</td>\n",
       "      <td>0064401871</td>\n",
       "      <td>0</td>\n",
       "      <td>28</td>\n",
       "      <td>1</td>\n",
       "      <td>202</td>\n",
       "      <td>1</td>\n",
       "      <td>29</td>\n",
       "    </tr>\n",
       "    <tr>\n",
       "      <th>32688061</th>\n",
       "      <td>7151245</td>\n",
       "      <td>0812523016</td>\n",
       "      <td>0</td>\n",
       "      <td>25</td>\n",
       "      <td>2</td>\n",
       "      <td>0</td>\n",
       "      <td>1</td>\n",
       "      <td>27</td>\n",
       "    </tr>\n",
       "    <tr>\n",
       "      <th>32688949</th>\n",
       "      <td>7128806</td>\n",
       "      <td>1853260312</td>\n",
       "      <td>0</td>\n",
       "      <td>24</td>\n",
       "      <td>2</td>\n",
       "      <td>0</td>\n",
       "      <td>1</td>\n",
       "      <td>26</td>\n",
       "    </tr>\n",
       "    <tr>\n",
       "      <th>32676480</th>\n",
       "      <td>7127607</td>\n",
       "      <td>0451523415</td>\n",
       "      <td>0</td>\n",
       "      <td>24</td>\n",
       "      <td>1</td>\n",
       "      <td>0</td>\n",
       "      <td>1</td>\n",
       "      <td>25</td>\n",
       "    </tr>\n",
       "    <tr>\n",
       "      <th>32687580</th>\n",
       "      <td>7148672</td>\n",
       "      <td>014062063X</td>\n",
       "      <td>0</td>\n",
       "      <td>23</td>\n",
       "      <td>1</td>\n",
       "      <td>0</td>\n",
       "      <td>1</td>\n",
       "      <td>24</td>\n",
       "    </tr>\n",
       "    <tr>\n",
       "      <th>32679784</th>\n",
       "      <td>7145400</td>\n",
       "      <td>0812504690</td>\n",
       "      <td>0</td>\n",
       "      <td>20</td>\n",
       "      <td>3</td>\n",
       "      <td>0</td>\n",
       "      <td>1</td>\n",
       "      <td>23</td>\n",
       "    </tr>\n",
       "    <tr>\n",
       "      <th>32686985</th>\n",
       "      <td>1186352</td>\n",
       "      <td>0397306938</td>\n",
       "      <td>1</td>\n",
       "      <td>18</td>\n",
       "      <td>2</td>\n",
       "      <td>0</td>\n",
       "      <td>1</td>\n",
       "      <td>21</td>\n",
       "    </tr>\n",
       "    <tr>\n",
       "      <th>32676302</th>\n",
       "      <td>1466200</td>\n",
       "      <td>0140390693</td>\n",
       "      <td>1</td>\n",
       "      <td>18</td>\n",
       "      <td>1</td>\n",
       "      <td>0</td>\n",
       "      <td>1</td>\n",
       "      <td>20</td>\n",
       "    </tr>\n",
       "    <tr>\n",
       "      <th>32676376</th>\n",
       "      <td>7135315</td>\n",
       "      <td>0140621199</td>\n",
       "      <td>0</td>\n",
       "      <td>18</td>\n",
       "      <td>2</td>\n",
       "      <td>1185</td>\n",
       "      <td>1</td>\n",
       "      <td>20</td>\n",
       "    </tr>\n",
       "  </tbody>\n",
       "</table>\n",
       "</div>"
      ],
      "text/plain": [
       "          isbn_id        isbn  LOC   BX  OL  AZ14  GR  btot\n",
       "32677966  7126671  1559029838    0  180  14     0   1   194\n",
       "32687993  7134515  0451523377    0   53   2     0   1    55\n",
       "32686762  7122690  006440188X    0   50   2   549   1    52\n",
       "32676373  7129702  0671517643    0   37   1     0   1    38\n",
       "32687590  7123468  185326086X    0   35   1     2   1    36\n",
       "32687906  7173362  0553212710    0   32   2     4   1    34\n",
       "32685618  7125920  0590425919    0   31   1     0   1    32\n",
       "32678637  7139595  8496246086    0   30   1     0   1    31\n",
       "32680537  7125724  0553211285    0   30   1     0   1    31\n",
       "32682452  7122014  0451527747    0   30   0     0   1    30\n",
       "32683140  7130506  0140620869    0   29   1     0   1    30\n",
       "32686933  7141610  0064401871    0   28   1   202   1    29\n",
       "32688061  7151245  0812523016    0   25   2     0   1    27\n",
       "32688949  7128806  1853260312    0   24   2     0   1    26\n",
       "32676480  7127607  0451523415    0   24   1     0   1    25\n",
       "32687580  7148672  014062063X    0   23   1     0   1    24\n",
       "32679784  7145400  0812504690    0   20   3     0   1    23\n",
       "32686985  1186352  0397306938    1   18   2     0   1    21\n",
       "32676302  1466200  0140390693    1   18   1     0   1    20\n",
       "32676376  7135315  0140621199    0   18   2  1185   1    20"
      ]
     },
     "execution_count": 16,
     "metadata": {},
     "output_type": "execute_result"
    }
   ],
   "source": [
    "bl['btot'] = bl.iloc[:, 2:-2].sum(axis=1)\n",
    "bl.nlargest(20, 'btot')"
   ]
  },
  {
   "cell_type": "code",
   "execution_count": null,
   "id": "5095738d",
   "metadata": {},
   "outputs": [],
   "source": []
  }
 ],
 "metadata": {
  "jupytext": {
   "formats": "ipynb,py:percent"
  },
  "kernelspec": {
   "display_name": "Python 3 (ipykernel)",
   "language": "python",
   "name": "python3"
  },
  "language_info": {
   "codemirror_mode": {
    "name": "ipython",
    "version": 3
   },
   "file_extension": ".py",
   "mimetype": "text/x-python",
   "name": "python",
   "nbconvert_exporter": "python",
   "pygments_lexer": "ipython3",
   "version": "3.9.13"
  }
 },
 "nbformat": 4,
 "nbformat_minor": 5
}
