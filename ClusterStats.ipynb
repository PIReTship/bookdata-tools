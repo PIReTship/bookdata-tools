{
 "cells": [
  {
   "cell_type": "markdown",
   "id": "5b74f401",
   "metadata": {},
   "source": [
    "# Book Clustering Statistics\n",
    "\n",
    "This notebook provides statistics on the results of our book clustering."
   ]
  },
  {
   "cell_type": "markdown",
   "id": "f9ca73b8",
   "metadata": {},
   "source": [
    "## Setup"
   ]
  },
  {
   "cell_type": "code",
   "execution_count": 1,
   "id": "05a3fa5f",
   "metadata": {
    "execution": {
     "iopub.execute_input": "2021-10-16T18:13:13.146793Z",
     "iopub.status.busy": "2021-10-16T18:13:13.142999Z",
     "iopub.status.idle": "2021-10-16T18:13:14.542751Z",
     "shell.execute_reply": "2021-10-16T18:13:14.543835Z"
    }
   },
   "outputs": [],
   "source": [
    "import pandas as pd\n",
    "import seaborn as sns\n",
    "import matplotlib as mpl\n",
    "import matplotlib.pyplot as plt\n",
    "import numpy as np\n",
    "import json"
   ]
  },
  {
   "cell_type": "code",
   "execution_count": 2,
   "id": "b08f2649",
   "metadata": {
    "execution": {
     "iopub.execute_input": "2021-10-16T18:13:14.552057Z",
     "iopub.status.busy": "2021-10-16T18:13:14.550700Z",
     "iopub.status.idle": "2021-10-16T18:13:14.826159Z",
     "shell.execute_reply": "2021-10-16T18:13:14.827226Z"
    }
   },
   "outputs": [],
   "source": [
    "from bookdata.db import db_url"
   ]
  },
  {
   "cell_type": "markdown",
   "id": "0c2d7d4f",
   "metadata": {},
   "source": [
    "## Load Data\n",
    "\n",
    "Let's start by getting our clusters and their statistics:"
   ]
  },
  {
   "cell_type": "code",
   "execution_count": 3,
   "id": "b3564cff",
   "metadata": {
    "execution": {
     "iopub.execute_input": "2021-10-16T18:13:14.839435Z",
     "iopub.status.busy": "2021-10-16T18:13:14.835922Z",
     "iopub.status.idle": "2021-10-16T18:14:24.700153Z",
     "shell.execute_reply": "2021-10-16T18:14:24.701310Z"
    }
   },
   "outputs": [
    {
     "name": "stdout",
     "output_type": "stream",
     "text": [
      "<class 'pandas.core.frame.DataFrame'>\n",
      "RangeIndex: 13213677 entries, 0 to 13213676\n",
      "Data columns (total 7 columns):\n",
      " #   Column       Dtype  \n",
      "---  ------       -----  \n",
      " 0   cluster      int64  \n",
      " 1   isbns        int64  \n",
      " 2   loc_recs     float64\n",
      " 3   ol_editions  float64\n",
      " 4   ol_works     float64\n",
      " 5   gr_books     float64\n",
      " 6   gr_works     float64\n",
      "dtypes: float64(5), int64(2)\n",
      "memory usage: 705.7 MB\n"
     ]
    }
   ],
   "source": [
    "clusters = pd.read_sql_table('cluster_stats', db_url())\n",
    "clusters.info()"
   ]
  },
  {
   "cell_type": "code",
   "execution_count": 4,
   "id": "11b141dd",
   "metadata": {
    "execution": {
     "iopub.execute_input": "2021-10-16T18:14:24.710288Z",
     "iopub.status.busy": "2021-10-16T18:14:24.708935Z",
     "iopub.status.idle": "2021-10-16T18:14:24.713238Z",
     "shell.execute_reply": "2021-10-16T18:14:24.712050Z"
    }
   },
   "outputs": [],
   "source": [
    "clusters.set_index('cluster', inplace=True)"
   ]
  },
  {
   "cell_type": "markdown",
   "id": "34e0e2b3",
   "metadata": {},
   "source": [
    "Describe the count columns for basic descriptive stats:"
   ]
  },
  {
   "cell_type": "code",
   "execution_count": 5,
   "id": "63e91aea",
   "metadata": {
    "execution": {
     "iopub.execute_input": "2021-10-16T18:14:25.038665Z",
     "iopub.status.busy": "2021-10-16T18:14:25.037303Z",
     "iopub.status.idle": "2021-10-16T18:14:32.257825Z",
     "shell.execute_reply": "2021-10-16T18:14:32.258957Z"
    }
   },
   "outputs": [
    {
     "data": {
      "text/html": [
       "<div>\n",
       "<style scoped>\n",
       "    .dataframe tbody tr th:only-of-type {\n",
       "        vertical-align: middle;\n",
       "    }\n",
       "\n",
       "    .dataframe tbody tr th {\n",
       "        vertical-align: top;\n",
       "    }\n",
       "\n",
       "    .dataframe thead th {\n",
       "        text-align: right;\n",
       "    }\n",
       "</style>\n",
       "<table border=\"1\" class=\"dataframe\">\n",
       "  <thead>\n",
       "    <tr style=\"text-align: right;\">\n",
       "      <th></th>\n",
       "      <th>isbns</th>\n",
       "      <th>loc_recs</th>\n",
       "      <th>ol_editions</th>\n",
       "      <th>ol_works</th>\n",
       "      <th>gr_books</th>\n",
       "      <th>gr_works</th>\n",
       "    </tr>\n",
       "  </thead>\n",
       "  <tbody>\n",
       "    <tr>\n",
       "      <th>count</th>\n",
       "      <td>1.321368e+07</td>\n",
       "      <td>5.267327e+06</td>\n",
       "      <td>1.046579e+07</td>\n",
       "      <td>1.046579e+07</td>\n",
       "      <td>1.096636e+06</td>\n",
       "      <td>1.096636e+06</td>\n",
       "    </tr>\n",
       "    <tr>\n",
       "      <th>mean</th>\n",
       "      <td>1.852803e+00</td>\n",
       "      <td>1.067427e+00</td>\n",
       "      <td>1.366533e+00</td>\n",
       "      <td>9.462325e-01</td>\n",
       "      <td>1.495023e+00</td>\n",
       "      <td>1.011412e+00</td>\n",
       "    </tr>\n",
       "    <tr>\n",
       "      <th>std</th>\n",
       "      <td>5.119373e+00</td>\n",
       "      <td>6.441693e-01</td>\n",
       "      <td>2.960089e+00</td>\n",
       "      <td>9.833372e-01</td>\n",
       "      <td>3.977768e+00</td>\n",
       "      <td>2.816754e-01</td>\n",
       "    </tr>\n",
       "    <tr>\n",
       "      <th>min</th>\n",
       "      <td>1.000000e+00</td>\n",
       "      <td>1.000000e+00</td>\n",
       "      <td>1.000000e+00</td>\n",
       "      <td>0.000000e+00</td>\n",
       "      <td>1.000000e+00</td>\n",
       "      <td>0.000000e+00</td>\n",
       "    </tr>\n",
       "    <tr>\n",
       "      <th>25%</th>\n",
       "      <td>1.000000e+00</td>\n",
       "      <td>1.000000e+00</td>\n",
       "      <td>1.000000e+00</td>\n",
       "      <td>1.000000e+00</td>\n",
       "      <td>1.000000e+00</td>\n",
       "      <td>1.000000e+00</td>\n",
       "    </tr>\n",
       "    <tr>\n",
       "      <th>50%</th>\n",
       "      <td>2.000000e+00</td>\n",
       "      <td>1.000000e+00</td>\n",
       "      <td>1.000000e+00</td>\n",
       "      <td>1.000000e+00</td>\n",
       "      <td>1.000000e+00</td>\n",
       "      <td>1.000000e+00</td>\n",
       "    </tr>\n",
       "    <tr>\n",
       "      <th>75%</th>\n",
       "      <td>2.000000e+00</td>\n",
       "      <td>1.000000e+00</td>\n",
       "      <td>1.000000e+00</td>\n",
       "      <td>1.000000e+00</td>\n",
       "      <td>1.000000e+00</td>\n",
       "      <td>1.000000e+00</td>\n",
       "    </tr>\n",
       "    <tr>\n",
       "      <th>max</th>\n",
       "      <td>7.818000e+03</td>\n",
       "      <td>6.100000e+02</td>\n",
       "      <td>3.760000e+03</td>\n",
       "      <td>2.368000e+03</td>\n",
       "      <td>2.266000e+03</td>\n",
       "      <td>8.500000e+01</td>\n",
       "    </tr>\n",
       "  </tbody>\n",
       "</table>\n",
       "</div>"
      ],
      "text/plain": [
       "              isbns      loc_recs   ol_editions      ol_works      gr_books  \\\n",
       "count  1.321368e+07  5.267327e+06  1.046579e+07  1.046579e+07  1.096636e+06   \n",
       "mean   1.852803e+00  1.067427e+00  1.366533e+00  9.462325e-01  1.495023e+00   \n",
       "std    5.119373e+00  6.441693e-01  2.960089e+00  9.833372e-01  3.977768e+00   \n",
       "min    1.000000e+00  1.000000e+00  1.000000e+00  0.000000e+00  1.000000e+00   \n",
       "25%    1.000000e+00  1.000000e+00  1.000000e+00  1.000000e+00  1.000000e+00   \n",
       "50%    2.000000e+00  1.000000e+00  1.000000e+00  1.000000e+00  1.000000e+00   \n",
       "75%    2.000000e+00  1.000000e+00  1.000000e+00  1.000000e+00  1.000000e+00   \n",
       "max    7.818000e+03  6.100000e+02  3.760000e+03  2.368000e+03  2.266000e+03   \n",
       "\n",
       "           gr_works  \n",
       "count  1.096636e+06  \n",
       "mean   1.011412e+00  \n",
       "std    2.816754e-01  \n",
       "min    0.000000e+00  \n",
       "25%    1.000000e+00  \n",
       "50%    1.000000e+00  \n",
       "75%    1.000000e+00  \n",
       "max    8.500000e+01  "
      ]
     },
     "execution_count": 5,
     "metadata": {},
     "output_type": "execute_result"
    }
   ],
   "source": [
    "clusters.describe()"
   ]
  },
  {
   "cell_type": "markdown",
   "id": "f70d6a5e",
   "metadata": {},
   "source": [
    "75% of clusters only contain 2 ISBNs (probably -10 and -13) and one book. OpenLibrary also contributes to the largest number of clusters."
   ]
  },
  {
   "cell_type": "code",
   "execution_count": 6,
   "id": "b2f7d492",
   "metadata": {
    "execution": {
     "iopub.execute_input": "2021-10-16T18:14:32.266661Z",
     "iopub.status.busy": "2021-10-16T18:14:32.265280Z",
     "iopub.status.idle": "2021-10-16T18:14:34.571724Z",
     "shell.execute_reply": "2021-10-16T18:14:34.572850Z"
    }
   },
   "outputs": [
    {
     "data": {
      "text/plain": [
       "cluster\n",
       "0     8.0\n",
       "1     6.0\n",
       "2    25.0\n",
       "4     4.0\n",
       "5     3.0\n",
       "dtype: float64"
      ]
     },
     "execution_count": 6,
     "metadata": {},
     "output_type": "execute_result"
    }
   ],
   "source": [
    "tot = clusters.sum(axis=1)\n",
    "tot.head()"
   ]
  },
  {
   "cell_type": "code",
   "execution_count": 7,
   "id": "eea2dcff",
   "metadata": {
    "execution": {
     "iopub.execute_input": "2021-10-16T18:14:34.582552Z",
     "iopub.status.busy": "2021-10-16T18:14:34.581177Z",
     "iopub.status.idle": "2021-10-16T18:14:34.665421Z",
     "shell.execute_reply": "2021-10-16T18:14:34.666493Z"
    }
   },
   "outputs": [],
   "source": [
    "with open('book-links/cluster-stats.json', 'w') as csf:\n",
    "    json.dump({\n",
    "        'clusters': len(tot),\n",
    "        'largest': tot.max()\n",
    "    }, csf)"
   ]
  },
  {
   "cell_type": "markdown",
   "id": "c1569f89",
   "metadata": {},
   "source": [
    "## Clusters per Source\n",
    "\n",
    "How many clusters are connected to each source?"
   ]
  },
  {
   "cell_type": "code",
   "execution_count": 8,
   "id": "cd434cbd",
   "metadata": {
    "execution": {
     "iopub.execute_input": "2021-10-16T18:14:34.676680Z",
     "iopub.status.busy": "2021-10-16T18:14:34.675299Z",
     "iopub.status.idle": "2021-10-16T18:14:34.933751Z",
     "shell.execute_reply": "2021-10-16T18:14:34.932571Z"
    }
   },
   "outputs": [
    {
     "data": {
      "text/plain": [
       "isbns          13213677\n",
       "loc_recs        5267327\n",
       "ol_editions    10465794\n",
       "ol_works        8746760\n",
       "gr_books        1096636\n",
       "gr_works        1096612\n",
       "dtype: int64"
      ]
     },
     "execution_count": 8,
     "metadata": {},
     "output_type": "execute_result"
    }
   ],
   "source": [
    "src_counts = pd.Series(dict(\n",
    "    (c, np.sum(clusters[c] > 0)) for c in clusters.columns\n",
    "))\n",
    "src_counts"
   ]
  },
  {
   "cell_type": "code",
   "execution_count": 9,
   "id": "dba07877",
   "metadata": {
    "execution": {
     "iopub.execute_input": "2021-10-16T18:14:34.941202Z",
     "iopub.status.busy": "2021-10-16T18:14:34.939836Z",
     "iopub.status.idle": "2021-10-16T18:14:35.226868Z",
     "shell.execute_reply": "2021-10-16T18:14:35.228001Z"
    }
   },
   "outputs": [
    {
     "data": {
      "image/png": "[encoded data removed]",
      "text/plain": [
       "<Figure size 432x288 with 1 Axes>"
      ]
     },
     "metadata": {
      "needs_background": "light"
     },
     "output_type": "display_data"
    }
   ],
   "source": [
    "src_counts.plot.barh()\n",
    "plt.xlabel('# of Clusters')\n",
    "plt.show()"
   ]
  },
  {
   "cell_type": "markdown",
   "id": "57ec22e8",
   "metadata": {},
   "source": [
    "## Distributions\n",
    "\n",
    "Let's look at the distributions of cluster sizes."
   ]
  },
  {
   "cell_type": "code",
   "execution_count": 10,
   "id": "9ac0a306",
   "metadata": {
    "execution": {
     "iopub.execute_input": "2021-10-16T18:14:36.259619Z",
     "iopub.status.busy": "2021-10-16T18:14:36.158055Z",
     "iopub.status.idle": "2021-10-16T18:14:36.280225Z",
     "shell.execute_reply": "2021-10-16T18:14:36.281358Z"
    }
   },
   "outputs": [
    {
     "data": {
      "text/html": [
       "<div>\n",
       "<style scoped>\n",
       "    .dataframe tbody tr th:only-of-type {\n",
       "        vertical-align: middle;\n",
       "    }\n",
       "\n",
       "    .dataframe tbody tr th {\n",
       "        vertical-align: top;\n",
       "    }\n",
       "\n",
       "    .dataframe thead th {\n",
       "        text-align: right;\n",
       "    }\n",
       "</style>\n",
       "<table border=\"1\" class=\"dataframe\">\n",
       "  <thead>\n",
       "    <tr style=\"text-align: right;\">\n",
       "      <th></th>\n",
       "      <th>RecType</th>\n",
       "      <th>RecCount</th>\n",
       "      <th>Clusters</th>\n",
       "    </tr>\n",
       "  </thead>\n",
       "  <tbody>\n",
       "    <tr>\n",
       "      <th>0</th>\n",
       "      <td>isbns</td>\n",
       "      <td>2.0</td>\n",
       "      <td>6287903</td>\n",
       "    </tr>\n",
       "    <tr>\n",
       "      <th>1</th>\n",
       "      <td>isbns</td>\n",
       "      <td>1.0</td>\n",
       "      <td>5805115</td>\n",
       "    </tr>\n",
       "    <tr>\n",
       "      <th>2</th>\n",
       "      <td>isbns</td>\n",
       "      <td>4.0</td>\n",
       "      <td>538231</td>\n",
       "    </tr>\n",
       "    <tr>\n",
       "      <th>3</th>\n",
       "      <td>isbns</td>\n",
       "      <td>3.0</td>\n",
       "      <td>267960</td>\n",
       "    </tr>\n",
       "    <tr>\n",
       "      <th>4</th>\n",
       "      <td>isbns</td>\n",
       "      <td>6.0</td>\n",
       "      <td>95415</td>\n",
       "    </tr>\n",
       "  </tbody>\n",
       "</table>\n",
       "</div>"
      ],
      "text/plain": [
       "  RecType  RecCount  Clusters\n",
       "0   isbns       2.0   6287903\n",
       "1   isbns       1.0   5805115\n",
       "2   isbns       4.0    538231\n",
       "3   isbns       3.0    267960\n",
       "4   isbns       6.0     95415"
      ]
     },
     "execution_count": 10,
     "metadata": {},
     "output_type": "execute_result"
    }
   ],
   "source": [
    "size_dist = pd.concat(dict(\n",
    "    (c, clusters[c].value_counts()) for c in clusters.columns\n",
    "), names=['RecType'])\n",
    "size_dist.index.set_names(['RecType', 'RecCount'], inplace=True)\n",
    "size_dist = size_dist.reset_index(name='Clusters')\n",
    "size_dist.head()"
   ]
  },
  {
   "cell_type": "code",
   "execution_count": 11,
   "id": "be46ebbe",
   "metadata": {
    "execution": {
     "iopub.execute_input": "2021-10-16T18:14:36.290125Z",
     "iopub.status.busy": "2021-10-16T18:14:36.288747Z",
     "iopub.status.idle": "2021-10-16T18:14:38.109109Z",
     "shell.execute_reply": "2021-10-16T18:14:38.108440Z"
    }
   },
   "outputs": [
    {
     "data": {
      "image/png": "[encoded data removed]",
      "text/plain": [
       "<Figure size 432x288 with 1 Axes>"
      ]
     },
     "metadata": {
      "needs_background": "light"
     },
     "output_type": "display_data"
    }
   ],
   "source": [
    "for rt, data in size_dist.groupby('RecType'):\n",
    "    plt.scatter(data['RecCount'], data['Clusters'], marker='1', label=rt)\n",
    "plt.legend()\n",
    "plt.xscale('log')\n",
    "plt.yscale('log')"
   ]
  },
  {
   "cell_type": "markdown",
   "id": "e307d6ce",
   "metadata": {},
   "source": [
    "Looks mostly fine - we expect a lot of power laws - but the number of clusters with merged GoodReads works is concerning."
   ]
  },
  {
   "cell_type": "markdown",
   "id": "2c656b3f",
   "metadata": {},
   "source": [
    "## GoodReads Work Merging\n",
    "\n",
    "Why are GoodReads works merging? Let's look at those."
   ]
  },
  {
   "cell_type": "code",
   "execution_count": 12,
   "id": "ba14130f",
   "metadata": {
    "execution": {
     "iopub.execute_input": "2021-10-16T18:14:38.115661Z",
     "iopub.status.busy": "2021-10-16T18:14:38.114877Z",
     "iopub.status.idle": "2021-10-16T18:14:38.197075Z",
     "shell.execute_reply": "2021-10-16T18:14:38.197860Z"
    }
   },
   "outputs": [
    {
     "name": "stdout",
     "output_type": "stream",
     "text": [
      "<class 'pandas.core.frame.DataFrame'>\n",
      "Int64Index: 6552 entries, 9652 to 2941879\n",
      "Data columns (total 6 columns):\n",
      " #   Column       Non-Null Count  Dtype  \n",
      "---  ------       --------------  -----  \n",
      " 0   isbns        6552 non-null   int64  \n",
      " 1   loc_recs     5483 non-null   float64\n",
      " 2   ol_editions  6407 non-null   float64\n",
      " 3   ol_works     6407 non-null   float64\n",
      " 4   gr_books     6552 non-null   float64\n",
      " 5   gr_works     6552 non-null   float64\n",
      "dtypes: float64(5), int64(1)\n",
      "memory usage: 358.3 KB\n"
     ]
    }
   ],
   "source": [
    "gr_big = clusters[clusters['gr_works'] > 1].sort_values('gr_works', ascending=False)\n",
    "gr_big.info()"
   ]
  },
  {
   "cell_type": "markdown",
   "id": "e78e9a7d",
   "metadata": {},
   "source": [
    "We have 6K of these clusters. What fraction of the GoodReads-affected clusters is this?"
   ]
  },
  {
   "cell_type": "code",
   "execution_count": 13,
   "id": "d8b63cf6",
   "metadata": {
    "execution": {
     "iopub.execute_input": "2021-10-16T18:14:38.205247Z",
     "iopub.status.busy": "2021-10-16T18:14:38.204417Z",
     "iopub.status.idle": "2021-10-16T18:14:38.258224Z",
     "shell.execute_reply": "2021-10-16T18:14:38.258996Z"
    }
   },
   "outputs": [
    {
     "data": {
      "text/plain": [
       "0.005974635156970955"
      ]
     },
     "execution_count": 13,
     "metadata": {},
     "output_type": "execute_result"
    }
   ],
   "source": [
    "len(gr_big) / clusters['gr_books'].count()"
   ]
  },
  {
   "cell_type": "markdown",
   "id": "c043008f",
   "metadata": {},
   "source": [
    "Less than 1%. Not bad, but let's look."
   ]
  },
  {
   "cell_type": "code",
   "execution_count": 14,
   "id": "df9bbb76",
   "metadata": {
    "execution": {
     "iopub.execute_input": "2021-10-16T18:14:38.278781Z",
     "iopub.status.busy": "2021-10-16T18:14:38.271017Z",
     "iopub.status.idle": "2021-10-16T18:14:38.283907Z",
     "shell.execute_reply": "2021-10-16T18:14:38.284544Z"
    }
   },
   "outputs": [
    {
     "data": {
      "text/html": [
       "<div>\n",
       "<style scoped>\n",
       "    .dataframe tbody tr th:only-of-type {\n",
       "        vertical-align: middle;\n",
       "    }\n",
       "\n",
       "    .dataframe tbody tr th {\n",
       "        vertical-align: top;\n",
       "    }\n",
       "\n",
       "    .dataframe thead th {\n",
       "        text-align: right;\n",
       "    }\n",
       "</style>\n",
       "<table border=\"1\" class=\"dataframe\">\n",
       "  <thead>\n",
       "    <tr style=\"text-align: right;\">\n",
       "      <th></th>\n",
       "      <th>isbns</th>\n",
       "      <th>loc_recs</th>\n",
       "      <th>ol_editions</th>\n",
       "      <th>ol_works</th>\n",
       "      <th>gr_books</th>\n",
       "      <th>gr_works</th>\n",
       "    </tr>\n",
       "    <tr>\n",
       "      <th>cluster</th>\n",
       "      <th></th>\n",
       "      <th></th>\n",
       "      <th></th>\n",
       "      <th></th>\n",
       "      <th></th>\n",
       "      <th></th>\n",
       "    </tr>\n",
       "  </thead>\n",
       "  <tbody>\n",
       "    <tr>\n",
       "      <th>9652</th>\n",
       "      <td>7818</td>\n",
       "      <td>610.0</td>\n",
       "      <td>3432.0</td>\n",
       "      <td>455.0</td>\n",
       "      <td>2266.0</td>\n",
       "      <td>85.0</td>\n",
       "    </tr>\n",
       "    <tr>\n",
       "      <th>11175</th>\n",
       "      <td>3712</td>\n",
       "      <td>408.0</td>\n",
       "      <td>2007.0</td>\n",
       "      <td>322.0</td>\n",
       "      <td>883.0</td>\n",
       "      <td>78.0</td>\n",
       "    </tr>\n",
       "    <tr>\n",
       "      <th>124569</th>\n",
       "      <td>163</td>\n",
       "      <td>4.0</td>\n",
       "      <td>91.0</td>\n",
       "      <td>74.0</td>\n",
       "      <td>60.0</td>\n",
       "      <td>56.0</td>\n",
       "    </tr>\n",
       "    <tr>\n",
       "      <th>1098</th>\n",
       "      <td>327</td>\n",
       "      <td>67.0</td>\n",
       "      <td>269.0</td>\n",
       "      <td>72.0</td>\n",
       "      <td>80.0</td>\n",
       "      <td>54.0</td>\n",
       "    </tr>\n",
       "    <tr>\n",
       "      <th>822568</th>\n",
       "      <td>141</td>\n",
       "      <td>1.0</td>\n",
       "      <td>51.0</td>\n",
       "      <td>18.0</td>\n",
       "      <td>53.0</td>\n",
       "      <td>51.0</td>\n",
       "    </tr>\n",
       "  </tbody>\n",
       "</table>\n",
       "</div>"
      ],
      "text/plain": [
       "         isbns  loc_recs  ol_editions  ol_works  gr_books  gr_works\n",
       "cluster                                                            \n",
       "9652      7818     610.0       3432.0     455.0    2266.0      85.0\n",
       "11175     3712     408.0       2007.0     322.0     883.0      78.0\n",
       "124569     163       4.0         91.0      74.0      60.0      56.0\n",
       "1098       327      67.0        269.0      72.0      80.0      54.0\n",
       "822568     141       1.0         51.0      18.0      53.0      51.0"
      ]
     },
     "execution_count": 14,
     "metadata": {},
     "output_type": "execute_result"
    }
   ],
   "source": [
    "gr_big.head()"
   ]
  },
  {
   "cell_type": "markdown",
   "id": "2652dffd",
   "metadata": {},
   "source": [
    "What's that big cluster?"
   ]
  },
  {
   "cell_type": "code",
   "execution_count": 15,
   "id": "465c16b2",
   "metadata": {
    "execution": {
     "iopub.execute_input": "2021-10-16T18:14:38.296532Z",
     "iopub.status.busy": "2021-10-16T18:14:38.293504Z",
     "iopub.status.idle": "2021-10-16T18:14:40.646228Z",
     "shell.execute_reply": "2021-10-16T18:14:40.647385Z"
    }
   },
   "outputs": [
    {
     "data": {
      "text/html": [
       "<div>\n",
       "<style scoped>\n",
       "    .dataframe tbody tr th:only-of-type {\n",
       "        vertical-align: middle;\n",
       "    }\n",
       "\n",
       "    .dataframe tbody tr th {\n",
       "        vertical-align: top;\n",
       "    }\n",
       "\n",
       "    .dataframe thead th {\n",
       "        text-align: right;\n",
       "    }\n",
       "</style>\n",
       "<table border=\"1\" class=\"dataframe\">\n",
       "  <thead>\n",
       "    <tr style=\"text-align: right;\">\n",
       "      <th></th>\n",
       "      <th>gr_work_id</th>\n",
       "      <th>work_title</th>\n",
       "    </tr>\n",
       "  </thead>\n",
       "  <tbody>\n",
       "    <tr>\n",
       "      <th>0</th>\n",
       "      <td>145554</td>\n",
       "      <td>The Oxford Bookworms Library Stage 1 Best-sell...</td>\n",
       "    </tr>\n",
       "    <tr>\n",
       "      <th>1</th>\n",
       "      <td>674438</td>\n",
       "      <td>The Walrus and the Carpenter</td>\n",
       "    </tr>\n",
       "    <tr>\n",
       "      <th>2</th>\n",
       "      <td>789261</td>\n",
       "      <td>Dracula, Longman Annotated Novel (Longman Anno...</td>\n",
       "    </tr>\n",
       "    <tr>\n",
       "      <th>3</th>\n",
       "      <td>798741</td>\n",
       "      <td>Sleeping Beauty</td>\n",
       "    </tr>\n",
       "    <tr>\n",
       "      <th>4</th>\n",
       "      <td>879016</td>\n",
       "      <td>York Notes on \"Dracula\" (York Notes Advanced)</td>\n",
       "    </tr>\n",
       "    <tr>\n",
       "      <th>5</th>\n",
       "      <td>983168</td>\n",
       "      <td>The Complete Cheapskate: How to Get Out of Deb...</td>\n",
       "    </tr>\n",
       "    <tr>\n",
       "      <th>6</th>\n",
       "      <td>1112418</td>\n",
       "      <td>Vingt Mille Lieues Sous les Mers</td>\n",
       "    </tr>\n",
       "    <tr>\n",
       "      <th>7</th>\n",
       "      <td>1313599</td>\n",
       "      <td>A Little Princess</td>\n",
       "    </tr>\n",
       "    <tr>\n",
       "      <th>8</th>\n",
       "      <td>1411202</td>\n",
       "      <td>The Merry Adventures of Robin Hood</td>\n",
       "    </tr>\n",
       "    <tr>\n",
       "      <th>9</th>\n",
       "      <td>1483780</td>\n",
       "      <td>The House of the Seven Gables</td>\n",
       "    </tr>\n",
       "    <tr>\n",
       "      <th>10</th>\n",
       "      <td>1737393</td>\n",
       "      <td>Flambards: Trilogy (Flambards)</td>\n",
       "    </tr>\n",
       "    <tr>\n",
       "      <th>11</th>\n",
       "      <td>1738595</td>\n",
       "      <td>Heidi</td>\n",
       "    </tr>\n",
       "    <tr>\n",
       "      <th>12</th>\n",
       "      <td>1899044</td>\n",
       "      <td>All the Mowgli Stories</td>\n",
       "    </tr>\n",
       "    <tr>\n",
       "      <th>13</th>\n",
       "      <td>1924715</td>\n",
       "      <td>Voyage au centre de la Terre</td>\n",
       "    </tr>\n",
       "    <tr>\n",
       "      <th>14</th>\n",
       "      <td>2045908</td>\n",
       "      <td>Twenty Thousand Leagues Under the Sea: WITH Th...</td>\n",
       "    </tr>\n",
       "    <tr>\n",
       "      <th>15</th>\n",
       "      <td>2071224</td>\n",
       "      <td>Flambards</td>\n",
       "    </tr>\n",
       "    <tr>\n",
       "      <th>16</th>\n",
       "      <td>2375385</td>\n",
       "      <td>Alice's Adventures in Wonderland. Through the ...</td>\n",
       "    </tr>\n",
       "    <tr>\n",
       "      <th>17</th>\n",
       "      <td>3077988</td>\n",
       "      <td>Treasure Island</td>\n",
       "    </tr>\n",
       "    <tr>\n",
       "      <th>18</th>\n",
       "      <td>3165724</td>\n",
       "      <td>Dracula</td>\n",
       "    </tr>\n",
       "    <tr>\n",
       "      <th>19</th>\n",
       "      <td>3186437</td>\n",
       "      <td>The Secret Garden</td>\n",
       "    </tr>\n",
       "    <tr>\n",
       "      <th>20</th>\n",
       "      <td>3202901</td>\n",
       "      <td>The Second Jungle Book</td>\n",
       "    </tr>\n",
       "    <tr>\n",
       "      <th>21</th>\n",
       "      <td>3244642</td>\n",
       "      <td>Little Women</td>\n",
       "    </tr>\n",
       "    <tr>\n",
       "      <th>22</th>\n",
       "      <td>3274683</td>\n",
       "      <td>Daisy Miller</td>\n",
       "    </tr>\n",
       "    <tr>\n",
       "      <th>23</th>\n",
       "      <td>3394353</td>\n",
       "      <td>Rip Van Winkle</td>\n",
       "    </tr>\n",
       "    <tr>\n",
       "      <th>24</th>\n",
       "      <td>4528628</td>\n",
       "      <td>Daisy Miller and Other Stories</td>\n",
       "    </tr>\n",
       "    <tr>\n",
       "      <th>25</th>\n",
       "      <td>4537271</td>\n",
       "      <td>Le tour du monde en quatre-vingts jours</td>\n",
       "    </tr>\n",
       "    <tr>\n",
       "      <th>26</th>\n",
       "      <td>4553176</td>\n",
       "      <td>Les Aventures du Capitaine Hatteras</td>\n",
       "    </tr>\n",
       "    <tr>\n",
       "      <th>27</th>\n",
       "      <td>6609852</td>\n",
       "      <td>Dracula The Un-Dead</td>\n",
       "    </tr>\n",
       "    <tr>\n",
       "      <th>28</th>\n",
       "      <td>15777985</td>\n",
       "      <td>The Annotated Alice</td>\n",
       "    </tr>\n",
       "    <tr>\n",
       "      <th>29</th>\n",
       "      <td>17441265</td>\n",
       "      <td>The Jungle Book</td>\n",
       "    </tr>\n",
       "    <tr>\n",
       "      <th>30</th>\n",
       "      <td>18474405</td>\n",
       "      <td>Journey to the Center of the Earth (Wishbone C...</td>\n",
       "    </tr>\n",
       "    <tr>\n",
       "      <th>31</th>\n",
       "      <td>19168485</td>\n",
       "      <td>Heidi</td>\n",
       "    </tr>\n",
       "    <tr>\n",
       "      <th>32</th>\n",
       "      <td>20391248</td>\n",
       "      <td>Rip Van Winkle and The Legend of Sleepy Hollow</td>\n",
       "    </tr>\n",
       "    <tr>\n",
       "      <th>33</th>\n",
       "      <td>24816020</td>\n",
       "      <td>The Legend of Sleepy Hollow</td>\n",
       "    </tr>\n",
       "    <tr>\n",
       "      <th>34</th>\n",
       "      <td>41124790</td>\n",
       "      <td>Alice's Adventures Under Ground</td>\n",
       "    </tr>\n",
       "    <tr>\n",
       "      <th>35</th>\n",
       "      <td>41261371</td>\n",
       "      <td>Tom Sawyer &amp; Huckleberry Finn</td>\n",
       "    </tr>\n",
       "    <tr>\n",
       "      <th>36</th>\n",
       "      <td>41326609</td>\n",
       "      <td>The Adventures of Tom Sawyer</td>\n",
       "    </tr>\n",
       "    <tr>\n",
       "      <th>37</th>\n",
       "      <td>44902153</td>\n",
       "      <td>The Legend of Sleepy Hollow and Rip Van Winkle</td>\n",
       "    </tr>\n",
       "    <tr>\n",
       "      <th>38</th>\n",
       "      <td>45962572</td>\n",
       "      <td>Through the Looking-Glass, and What Alice Foun...</td>\n",
       "    </tr>\n",
       "    <tr>\n",
       "      <th>39</th>\n",
       "      <td>50563294</td>\n",
       "      <td>Treasure Island</td>\n",
       "    </tr>\n",
       "    <tr>\n",
       "      <th>40</th>\n",
       "      <td>55548884</td>\n",
       "      <td>Alice in Wonderland</td>\n",
       "    </tr>\n",
       "  </tbody>\n",
       "</table>\n",
       "</div>"
      ],
      "text/plain": [
       "    gr_work_id                                         work_title\n",
       "0       145554  The Oxford Bookworms Library Stage 1 Best-sell...\n",
       "1       674438                       The Walrus and the Carpenter\n",
       "2       789261  Dracula, Longman Annotated Novel (Longman Anno...\n",
       "3       798741                                    Sleeping Beauty\n",
       "4       879016      York Notes on \"Dracula\" (York Notes Advanced)\n",
       "5       983168  The Complete Cheapskate: How to Get Out of Deb...\n",
       "6      1112418                   Vingt Mille Lieues Sous les Mers\n",
       "7      1313599                                  A Little Princess\n",
       "8      1411202                 The Merry Adventures of Robin Hood\n",
       "9      1483780                      The House of the Seven Gables\n",
       "10     1737393                     Flambards: Trilogy (Flambards)\n",
       "11     1738595                                              Heidi\n",
       "12     1899044                             All the Mowgli Stories\n",
       "13     1924715                       Voyage au centre de la Terre\n",
       "14     2045908  Twenty Thousand Leagues Under the Sea: WITH Th...\n",
       "15     2071224                                          Flambards\n",
       "16     2375385  Alice's Adventures in Wonderland. Through the ...\n",
       "17     3077988                                    Treasure Island\n",
       "18     3165724                                            Dracula\n",
       "19     3186437                                  The Secret Garden\n",
       "20     3202901                             The Second Jungle Book\n",
       "21     3244642                                       Little Women\n",
       "22     3274683                                       Daisy Miller\n",
       "23     3394353                                     Rip Van Winkle\n",
       "24     4528628                     Daisy Miller and Other Stories\n",
       "25     4537271            Le tour du monde en quatre-vingts jours\n",
       "26     4553176                Les Aventures du Capitaine Hatteras\n",
       "27     6609852                                Dracula The Un-Dead\n",
       "28    15777985                                The Annotated Alice\n",
       "29    17441265                                    The Jungle Book\n",
       "30    18474405  Journey to the Center of the Earth (Wishbone C...\n",
       "31    19168485                                              Heidi\n",
       "32    20391248     Rip Van Winkle and The Legend of Sleepy Hollow\n",
       "33    24816020                        The Legend of Sleepy Hollow\n",
       "34    41124790                    Alice's Adventures Under Ground\n",
       "35    41261371                      Tom Sawyer & Huckleberry Finn\n",
       "36    41326609                       The Adventures of Tom Sawyer\n",
       "37    44902153     The Legend of Sleepy Hollow and Rip Van Winkle\n",
       "38    45962572  Through the Looking-Glass, and What Alice Foun...\n",
       "39    50563294                                    Treasure Island\n",
       "40    55548884                                Alice in Wonderland"
      ]
     },
     "execution_count": 15,
     "metadata": {},
     "output_type": "execute_result"
    }
   ],
   "source": [
    "biggest = gr_big.index[0]\n",
    "cluster_titles = pd.read_sql(f'''\n",
    "    SELECT DISTINCT gr_work_id, work_title\n",
    "    FROM gr.book_cluster\n",
    "    JOIN gr.book_ids USING (gr_book_id)\n",
    "    JOIN gr.work_title USING (gr_work_id)\n",
    "    WHERE cluster = {biggest} AND work_title IS NOT NULL;\n",
    "''', db_url())\n",
    "cluster_titles"
   ]
  },
  {
   "cell_type": "markdown",
   "id": "f4f62c99",
   "metadata": {},
   "source": [
    "Let's also find out how many *ratings* are affected by this."
   ]
  },
  {
   "cell_type": "code",
   "execution_count": 16,
   "id": "658718f3",
   "metadata": {
    "execution": {
     "iopub.execute_input": "2021-10-16T18:14:40.656754Z",
     "iopub.status.busy": "2021-10-16T18:14:40.655361Z",
     "iopub.status.idle": "2021-10-16T18:15:18.534417Z",
     "shell.execute_reply": "2021-10-16T18:15:18.535505Z"
    }
   },
   "outputs": [
    {
     "data": {
      "text/html": [
       "<div>\n",
       "<style scoped>\n",
       "    .dataframe tbody tr th:only-of-type {\n",
       "        vertical-align: middle;\n",
       "    }\n",
       "\n",
       "    .dataframe tbody tr th {\n",
       "        vertical-align: top;\n",
       "    }\n",
       "\n",
       "    .dataframe thead th {\n",
       "        text-align: right;\n",
       "    }\n",
       "</style>\n",
       "<table border=\"1\" class=\"dataframe\">\n",
       "  <thead>\n",
       "    <tr style=\"text-align: right;\">\n",
       "      <th></th>\n",
       "      <th>sum</th>\n",
       "      <th>avg</th>\n",
       "    </tr>\n",
       "  </thead>\n",
       "  <tbody>\n",
       "    <tr>\n",
       "      <th>0</th>\n",
       "      <td>17590121</td>\n",
       "      <td>0.093097</td>\n",
       "    </tr>\n",
       "  </tbody>\n",
       "</table>\n",
       "</div>"
      ],
      "text/plain": [
       "        sum       avg\n",
       "0  17590121  0.093097"
      ]
     },
     "execution_count": 16,
     "metadata": {},
     "output_type": "execute_result"
    }
   ],
   "source": [
    "pd.read_sql('''\n",
    "    SELECT SUM((gr_works > 1)::int), AVG((gr_works > 1)::int)\n",
    "    FROM gr.add_action\n",
    "    JOIN gr.cluster_stats ON (book_id = cluster)\n",
    "''', db_url())"
   ]
  },
  {
   "cell_type": "markdown",
   "id": "db75b29c",
   "metadata": {},
   "source": [
    "Almost 9% of our add-to-shelf actions are for such a book - that's disappointing."
   ]
  },
  {
   "cell_type": "code",
   "execution_count": null,
   "id": "262a33a2",
   "metadata": {},
   "outputs": [],
   "source": []
  }
 ],
 "metadata": {
  "jupytext": {
   "formats": "ipynb,py:percent"
  },
  "kernelspec": {
   "display_name": "Python 3 (ipykernel)",
   "language": "python",
   "name": "python3"
  },
  "language_info": {
   "codemirror_mode": {
    "name": "ipython",
    "version": 3
   },
   "file_extension": ".py",
   "mimetype": "text/x-python",
   "name": "python",
   "nbconvert_exporter": "python",
   "pygments_lexer": "ipython3",
   "version": "3.8.12"
  }
 },
 "nbformat": 4,
 "nbformat_minor": 5
}
