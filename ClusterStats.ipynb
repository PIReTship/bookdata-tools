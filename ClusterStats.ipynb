{
 "cells": [
  {
   "cell_type": "markdown",
   "id": "933ae909",
   "metadata": {},
   "source": [
    "# Book Clustering Statistics\n",
    "\n",
    "This notebook provides statistics on the results of our book clustering."
   ]
  },
  {
   "cell_type": "markdown",
   "id": "8146523a",
   "metadata": {},
   "source": [
    "## Setup"
   ]
  },
  {
   "cell_type": "code",
   "execution_count": 1,
   "id": "93a05952",
   "metadata": {
    "execution": {
     "iopub.execute_input": "2022-06-09T04:27:16.987537Z",
     "iopub.status.busy": "2022-06-09T04:27:16.986816Z",
     "iopub.status.idle": "2022-06-09T04:27:25.147619Z",
     "shell.execute_reply": "2022-06-09T04:27:25.146149Z"
    }
   },
   "outputs": [],
   "source": [
    "import pandas as pd\n",
    "import matplotlib.pyplot as plt\n",
    "import numpy as np"
   ]
  },
  {
   "cell_type": "markdown",
   "id": "5cefdc43",
   "metadata": {},
   "source": [
    "## Load Data\n",
    "\n",
    "Let's start by getting our clusters and their statistics:"
   ]
  },
  {
   "cell_type": "code",
   "execution_count": 2,
   "id": "ed831115",
   "metadata": {
    "execution": {
     "iopub.execute_input": "2022-06-09T04:27:25.155306Z",
     "iopub.status.busy": "2022-06-09T04:27:25.154711Z",
     "iopub.status.idle": "2022-06-09T04:27:26.332230Z",
     "shell.execute_reply": "2022-06-09T04:27:26.330177Z"
    }
   },
   "outputs": [
    {
     "name": "stdout",
     "output_type": "stream",
     "text": [
      "<class 'pandas.core.frame.DataFrame'>\n",
      "RangeIndex: 32185879 entries, 0 to 32185878\n",
      "Data columns (total 8 columns):\n",
      " #   Column         Dtype \n",
      "---  ------         ----- \n",
      " 0   cluster        int32 \n",
      " 1   n_nodes        uint32\n",
      " 2   n_isbns        uint32\n",
      " 3   n_loc_recs     uint32\n",
      " 4   n_ol_editions  uint32\n",
      " 5   n_ol_works     uint32\n",
      " 6   n_gr_books     uint32\n",
      " 7   n_gr_works     uint32\n",
      "dtypes: int32(1), uint32(7)\n",
      "memory usage: 982.2 MB\n"
     ]
    }
   ],
   "source": [
    "clusters = pd.read_parquet('book-links/cluster-stats.parquet')\n",
    "clusters.info()"
   ]
  },
  {
   "cell_type": "code",
   "execution_count": 3,
   "id": "fc892e94",
   "metadata": {
    "execution": {
     "iopub.execute_input": "2022-06-09T04:27:26.339988Z",
     "iopub.status.busy": "2022-06-09T04:27:26.339354Z",
     "iopub.status.idle": "2022-06-09T04:27:26.640500Z",
     "shell.execute_reply": "2022-06-09T04:27:26.639246Z"
    }
   },
   "outputs": [],
   "source": [
    "clusters.set_index('cluster', inplace=True)"
   ]
  },
  {
   "cell_type": "markdown",
   "id": "65d69cae",
   "metadata": {},
   "source": [
    "Describe the count columns for basic descriptive stats:"
   ]
  },
  {
   "cell_type": "code",
   "execution_count": 4,
   "id": "cacd4a05",
   "metadata": {
    "execution": {
     "iopub.execute_input": "2022-06-09T04:27:26.647688Z",
     "iopub.status.busy": "2022-06-09T04:27:26.647322Z",
     "iopub.status.idle": "2022-06-09T04:27:33.544871Z",
     "shell.execute_reply": "2022-06-09T04:27:33.543812Z"
    }
   },
   "outputs": [
    {
     "data": {
      "text/html": [
       "<div>\n",
       "<style scoped>\n",
       "    .dataframe tbody tr th:only-of-type {\n",
       "        vertical-align: middle;\n",
       "    }\n",
       "\n",
       "    .dataframe tbody tr th {\n",
       "        vertical-align: top;\n",
       "    }\n",
       "\n",
       "    .dataframe thead th {\n",
       "        text-align: right;\n",
       "    }\n",
       "</style>\n",
       "<table border=\"1\" class=\"dataframe\">\n",
       "  <thead>\n",
       "    <tr style=\"text-align: right;\">\n",
       "      <th></th>\n",
       "      <th>n_nodes</th>\n",
       "      <th>n_isbns</th>\n",
       "      <th>n_loc_recs</th>\n",
       "      <th>n_ol_editions</th>\n",
       "      <th>n_ol_works</th>\n",
       "      <th>n_gr_books</th>\n",
       "      <th>n_gr_works</th>\n",
       "    </tr>\n",
       "  </thead>\n",
       "  <tbody>\n",
       "    <tr>\n",
       "      <th>count</th>\n",
       "      <td>3.218588e+07</td>\n",
       "      <td>3.218588e+07</td>\n",
       "      <td>3.218588e+07</td>\n",
       "      <td>3.218588e+07</td>\n",
       "      <td>3.218588e+07</td>\n",
       "      <td>3.218588e+07</td>\n",
       "      <td>3.218588e+07</td>\n",
       "    </tr>\n",
       "    <tr>\n",
       "      <th>mean</th>\n",
       "      <td>3.293647e+00</td>\n",
       "      <td>1.016442e+00</td>\n",
       "      <td>3.004604e-01</td>\n",
       "      <td>1.079199e+00</td>\n",
       "      <td>7.769151e-01</td>\n",
       "      <td>7.334443e-02</td>\n",
       "      <td>4.728664e-02</td>\n",
       "    </tr>\n",
       "    <tr>\n",
       "      <th>std</th>\n",
       "      <td>9.868834e+00</td>\n",
       "      <td>4.981302e+00</td>\n",
       "      <td>5.495389e-01</td>\n",
       "      <td>3.766374e+00</td>\n",
       "      <td>7.002098e-01</td>\n",
       "      <td>1.102101e+00</td>\n",
       "      <td>2.215802e-01</td>\n",
       "    </tr>\n",
       "    <tr>\n",
       "      <th>min</th>\n",
       "      <td>1.000000e+00</td>\n",
       "      <td>0.000000e+00</td>\n",
       "      <td>0.000000e+00</td>\n",
       "      <td>0.000000e+00</td>\n",
       "      <td>0.000000e+00</td>\n",
       "      <td>0.000000e+00</td>\n",
       "      <td>0.000000e+00</td>\n",
       "    </tr>\n",
       "    <tr>\n",
       "      <th>25%</th>\n",
       "      <td>2.000000e+00</td>\n",
       "      <td>0.000000e+00</td>\n",
       "      <td>0.000000e+00</td>\n",
       "      <td>1.000000e+00</td>\n",
       "      <td>0.000000e+00</td>\n",
       "      <td>0.000000e+00</td>\n",
       "      <td>0.000000e+00</td>\n",
       "    </tr>\n",
       "    <tr>\n",
       "      <th>50%</th>\n",
       "      <td>3.000000e+00</td>\n",
       "      <td>1.000000e+00</td>\n",
       "      <td>0.000000e+00</td>\n",
       "      <td>1.000000e+00</td>\n",
       "      <td>1.000000e+00</td>\n",
       "      <td>0.000000e+00</td>\n",
       "      <td>0.000000e+00</td>\n",
       "    </tr>\n",
       "    <tr>\n",
       "      <th>75%</th>\n",
       "      <td>4.000000e+00</td>\n",
       "      <td>2.000000e+00</td>\n",
       "      <td>1.000000e+00</td>\n",
       "      <td>1.000000e+00</td>\n",
       "      <td>1.000000e+00</td>\n",
       "      <td>0.000000e+00</td>\n",
       "      <td>0.000000e+00</td>\n",
       "    </tr>\n",
       "    <tr>\n",
       "      <th>max</th>\n",
       "      <td>2.863000e+04</td>\n",
       "      <td>1.398800e+04</td>\n",
       "      <td>6.730000e+02</td>\n",
       "      <td>9.939000e+03</td>\n",
       "      <td>2.368000e+03</td>\n",
       "      <td>3.390000e+03</td>\n",
       "      <td>1.320000e+02</td>\n",
       "    </tr>\n",
       "  </tbody>\n",
       "</table>\n",
       "</div>"
      ],
      "text/plain": [
       "            n_nodes       n_isbns    n_loc_recs  n_ol_editions    n_ol_works  \\\n",
       "count  3.218588e+07  3.218588e+07  3.218588e+07   3.218588e+07  3.218588e+07   \n",
       "mean   3.293647e+00  1.016442e+00  3.004604e-01   1.079199e+00  7.769151e-01   \n",
       "std    9.868834e+00  4.981302e+00  5.495389e-01   3.766374e+00  7.002098e-01   \n",
       "min    1.000000e+00  0.000000e+00  0.000000e+00   0.000000e+00  0.000000e+00   \n",
       "25%    2.000000e+00  0.000000e+00  0.000000e+00   1.000000e+00  0.000000e+00   \n",
       "50%    3.000000e+00  1.000000e+00  0.000000e+00   1.000000e+00  1.000000e+00   \n",
       "75%    4.000000e+00  2.000000e+00  1.000000e+00   1.000000e+00  1.000000e+00   \n",
       "max    2.863000e+04  1.398800e+04  6.730000e+02   9.939000e+03  2.368000e+03   \n",
       "\n",
       "         n_gr_books    n_gr_works  \n",
       "count  3.218588e+07  3.218588e+07  \n",
       "mean   7.334443e-02  4.728664e-02  \n",
       "std    1.102101e+00  2.215802e-01  \n",
       "min    0.000000e+00  0.000000e+00  \n",
       "25%    0.000000e+00  0.000000e+00  \n",
       "50%    0.000000e+00  0.000000e+00  \n",
       "75%    0.000000e+00  0.000000e+00  \n",
       "max    3.390000e+03  1.320000e+02  "
      ]
     },
     "execution_count": 4,
     "metadata": {},
     "output_type": "execute_result"
    }
   ],
   "source": [
    "clusters.describe()"
   ]
  },
  {
   "cell_type": "markdown",
   "id": "43f7d878",
   "metadata": {},
   "source": [
    "75% of clusters only contain 2 ISBNs (probably -10 and -13) and one book. OpenLibrary also contributes to the largest number of clusters."
   ]
  },
  {
   "cell_type": "markdown",
   "id": "ec963b3b",
   "metadata": {},
   "source": [
    "## Clusters per Source\n",
    "\n",
    "How many clusters are connected to each source?"
   ]
  },
  {
   "cell_type": "code",
   "execution_count": 5,
   "id": "1978e25b",
   "metadata": {
    "execution": {
     "iopub.execute_input": "2022-06-09T04:27:33.549803Z",
     "iopub.status.busy": "2022-06-09T04:27:33.549450Z",
     "iopub.status.idle": "2022-06-09T04:27:34.294819Z",
     "shell.execute_reply": "2022-06-09T04:27:34.293845Z"
    }
   },
   "outputs": [
    {
     "data": {
      "text/plain": [
       "n_nodes          32185879\n",
       "n_isbns          17078096\n",
       "n_loc_recs        9281535\n",
       "n_ol_editions    25814159\n",
       "n_ol_works       23754524\n",
       "n_gr_books        1506465\n",
       "n_gr_works        1505941\n",
       "dtype: int64"
      ]
     },
     "execution_count": 5,
     "metadata": {},
     "output_type": "execute_result"
    }
   ],
   "source": [
    "src_counts = pd.Series(dict(\n",
    "    (c, np.sum(clusters[c] > 0)) for c in clusters.columns\n",
    "))\n",
    "src_counts"
   ]
  },
  {
   "cell_type": "code",
   "execution_count": 6,
   "id": "4fbf3691",
   "metadata": {
    "execution": {
     "iopub.execute_input": "2022-06-09T04:27:34.299297Z",
     "iopub.status.busy": "2022-06-09T04:27:34.298934Z",
     "iopub.status.idle": "2022-06-09T04:27:34.904957Z",
     "shell.execute_reply": "2022-06-09T04:27:34.903911Z"
    }
   },
   "outputs": [
    {
     "data": {
      "image/png": "[encoded data removed]",
      "text/plain": [
       "<Figure size 432x288 with 1 Axes>"
      ]
     },
     "metadata": {
      "needs_background": "light"
     },
     "output_type": "display_data"
    }
   ],
   "source": [
    "src_counts.plot.barh()\n",
    "plt.xlabel('# of Clusters')\n",
    "plt.show()"
   ]
  },
  {
   "cell_type": "markdown",
   "id": "d492ec7c",
   "metadata": {},
   "source": [
    "## Distributions\n",
    "\n",
    "Let's look at the distributions of cluster sizes."
   ]
  },
  {
   "cell_type": "code",
   "execution_count": 7,
   "id": "b714872c",
   "metadata": {
    "execution": {
     "iopub.execute_input": "2022-06-09T04:27:34.915623Z",
     "iopub.status.busy": "2022-06-09T04:27:34.915257Z",
     "iopub.status.idle": "2022-06-09T04:27:36.142583Z",
     "shell.execute_reply": "2022-06-09T04:27:36.141511Z"
    }
   },
   "outputs": [
    {
     "data": {
      "text/html": [
       "<div>\n",
       "<style scoped>\n",
       "    .dataframe tbody tr th:only-of-type {\n",
       "        vertical-align: middle;\n",
       "    }\n",
       "\n",
       "    .dataframe tbody tr th {\n",
       "        vertical-align: top;\n",
       "    }\n",
       "\n",
       "    .dataframe thead th {\n",
       "        text-align: right;\n",
       "    }\n",
       "</style>\n",
       "<table border=\"1\" class=\"dataframe\">\n",
       "  <thead>\n",
       "    <tr style=\"text-align: right;\">\n",
       "      <th></th>\n",
       "      <th>RecType</th>\n",
       "      <th>RecCount</th>\n",
       "      <th>Clusters</th>\n",
       "    </tr>\n",
       "  </thead>\n",
       "  <tbody>\n",
       "    <tr>\n",
       "      <th>0</th>\n",
       "      <td>n_isbns</td>\n",
       "      <td>0</td>\n",
       "      <td>15107783</td>\n",
       "    </tr>\n",
       "    <tr>\n",
       "      <th>1</th>\n",
       "      <td>n_isbns</td>\n",
       "      <td>1</td>\n",
       "      <td>7697118</td>\n",
       "    </tr>\n",
       "    <tr>\n",
       "      <th>2</th>\n",
       "      <td>n_isbns</td>\n",
       "      <td>2</td>\n",
       "      <td>7466668</td>\n",
       "    </tr>\n",
       "    <tr>\n",
       "      <th>3</th>\n",
       "      <td>n_isbns</td>\n",
       "      <td>4</td>\n",
       "      <td>740195</td>\n",
       "    </tr>\n",
       "    <tr>\n",
       "      <th>4</th>\n",
       "      <td>n_isbns</td>\n",
       "      <td>3</td>\n",
       "      <td>579577</td>\n",
       "    </tr>\n",
       "  </tbody>\n",
       "</table>\n",
       "</div>"
      ],
      "text/plain": [
       "   RecType  RecCount  Clusters\n",
       "0  n_isbns         0  15107783\n",
       "1  n_isbns         1   7697118\n",
       "2  n_isbns         2   7466668\n",
       "3  n_isbns         4    740195\n",
       "4  n_isbns         3    579577"
      ]
     },
     "execution_count": 7,
     "metadata": {},
     "output_type": "execute_result"
    }
   ],
   "source": [
    "size_dist = pd.concat(dict(\n",
    "    (c, clusters[c].value_counts()) for c in clusters.columns if c != 'n_nodes'\n",
    "), names=['RecType'])\n",
    "size_dist.index.set_names(['RecType', 'RecCount'], inplace=True)\n",
    "size_dist = size_dist.reset_index(name='Clusters')\n",
    "size_dist.head()"
   ]
  },
  {
   "cell_type": "code",
   "execution_count": 8,
   "id": "f3b44730",
   "metadata": {
    "execution": {
     "iopub.execute_input": "2022-06-09T04:27:36.147059Z",
     "iopub.status.busy": "2022-06-09T04:27:36.146704Z",
     "iopub.status.idle": "2022-06-09T04:27:37.981031Z",
     "shell.execute_reply": "2022-06-09T04:27:37.979966Z"
    }
   },
   "outputs": [
    {
     "data": {
      "image/png": "[encoded data removed]",
      "text/plain": [
       "<Figure size 432x288 with 1 Axes>"
      ]
     },
     "metadata": {
      "needs_background": "light"
     },
     "output_type": "display_data"
    }
   ],
   "source": [
    "for rt, data in size_dist.groupby('RecType'):\n",
    "    plt.scatter(data['RecCount'], data['Clusters'], marker='1', label=rt)\n",
    "plt.legend()\n",
    "plt.xlabel('# of Records')\n",
    "plt.xscale('log')\n",
    "plt.ylabel('# of Clusters')\n",
    "plt.yscale('log')\n",
    "plt.show()"
   ]
  },
  {
   "cell_type": "markdown",
   "id": "a1b6724b",
   "metadata": {},
   "source": [
    "Looks mostly fine - we expect a lot of power laws - but the number of clusters with merged GoodReads works is concerning."
   ]
  },
  {
   "cell_type": "markdown",
   "id": "718fa0c6",
   "metadata": {},
   "source": [
    "## GoodReads Work Merging\n",
    "\n",
    "Why are GoodReads works merging? Let's look at those."
   ]
  },
  {
   "cell_type": "code",
   "execution_count": 9,
   "id": "59404ec2",
   "metadata": {
    "execution": {
     "iopub.execute_input": "2022-06-09T04:27:37.986246Z",
     "iopub.status.busy": "2022-06-09T04:27:37.985796Z",
     "iopub.status.idle": "2022-06-09T04:27:38.049160Z",
     "shell.execute_reply": "2022-06-09T04:27:38.047828Z"
    }
   },
   "outputs": [
    {
     "name": "stdout",
     "output_type": "stream",
     "text": [
      "<class 'pandas.core.frame.DataFrame'>\n",
      "Int64Index: 8990 entries, 100026918 to 117956311\n",
      "Data columns (total 7 columns):\n",
      " #   Column         Non-Null Count  Dtype \n",
      "---  ------         --------------  ----- \n",
      " 0   n_nodes        8990 non-null   uint32\n",
      " 1   n_isbns        8990 non-null   uint32\n",
      " 2   n_loc_recs     8990 non-null   uint32\n",
      " 3   n_ol_editions  8990 non-null   uint32\n",
      " 4   n_ol_works     8990 non-null   uint32\n",
      " 5   n_gr_books     8990 non-null   uint32\n",
      " 6   n_gr_works     8990 non-null   uint32\n",
      "dtypes: uint32(7)\n",
      "memory usage: 316.1 KB\n"
     ]
    }
   ],
   "source": [
    "gr_big = clusters[clusters['n_gr_works'] > 1].sort_values('n_gr_works', ascending=False)\n",
    "gr_big.info()"
   ]
  },
  {
   "cell_type": "markdown",
   "id": "b76ec3cb",
   "metadata": {},
   "source": [
    "We have a lot of these clusters. What fraction of the GoodReads-affected clusters is this?"
   ]
  },
  {
   "cell_type": "code",
   "execution_count": 10,
   "id": "3ea91144",
   "metadata": {
    "execution": {
     "iopub.execute_input": "2022-06-09T04:27:38.059971Z",
     "iopub.status.busy": "2022-06-09T04:27:38.059608Z",
     "iopub.status.idle": "2022-06-09T04:27:38.132705Z",
     "shell.execute_reply": "2022-06-09T04:27:38.131504Z"
    }
   },
   "outputs": [
    {
     "data": {
      "text/plain": [
       "0.0002793150375044907"
      ]
     },
     "execution_count": 10,
     "metadata": {},
     "output_type": "execute_result"
    }
   ],
   "source": [
    "len(gr_big) / clusters['n_gr_books'].count()"
   ]
  },
  {
   "cell_type": "markdown",
   "id": "11e65164",
   "metadata": {},
   "source": [
    "Less than 1%. Not bad, but let's look."
   ]
  },
  {
   "cell_type": "code",
   "execution_count": 11,
   "id": "2a9cc374",
   "metadata": {
    "execution": {
     "iopub.execute_input": "2022-06-09T04:27:38.139122Z",
     "iopub.status.busy": "2022-06-09T04:27:38.138720Z",
     "iopub.status.idle": "2022-06-09T04:27:38.153911Z",
     "shell.execute_reply": "2022-06-09T04:27:38.152691Z"
    }
   },
   "outputs": [
    {
     "data": {
      "text/html": [
       "<div>\n",
       "<style scoped>\n",
       "    .dataframe tbody tr th:only-of-type {\n",
       "        vertical-align: middle;\n",
       "    }\n",
       "\n",
       "    .dataframe tbody tr th {\n",
       "        vertical-align: top;\n",
       "    }\n",
       "\n",
       "    .dataframe thead th {\n",
       "        text-align: right;\n",
       "    }\n",
       "</style>\n",
       "<table border=\"1\" class=\"dataframe\">\n",
       "  <thead>\n",
       "    <tr style=\"text-align: right;\">\n",
       "      <th></th>\n",
       "      <th>n_nodes</th>\n",
       "      <th>n_isbns</th>\n",
       "      <th>n_loc_recs</th>\n",
       "      <th>n_ol_editions</th>\n",
       "      <th>n_ol_works</th>\n",
       "      <th>n_gr_books</th>\n",
       "      <th>n_gr_works</th>\n",
       "    </tr>\n",
       "    <tr>\n",
       "      <th>cluster</th>\n",
       "      <th></th>\n",
       "      <th></th>\n",
       "      <th></th>\n",
       "      <th></th>\n",
       "      <th></th>\n",
       "      <th></th>\n",
       "      <th></th>\n",
       "    </tr>\n",
       "  </thead>\n",
       "  <tbody>\n",
       "    <tr>\n",
       "      <th>100026918</th>\n",
       "      <td>28630</td>\n",
       "      <td>13988</td>\n",
       "      <td>673</td>\n",
       "      <td>9939</td>\n",
       "      <td>508</td>\n",
       "      <td>3390</td>\n",
       "      <td>132</td>\n",
       "    </tr>\n",
       "    <tr>\n",
       "      <th>100073294</th>\n",
       "      <td>17698</td>\n",
       "      <td>7166</td>\n",
       "      <td>494</td>\n",
       "      <td>8116</td>\n",
       "      <td>358</td>\n",
       "      <td>1476</td>\n",
       "      <td>88</td>\n",
       "    </tr>\n",
       "    <tr>\n",
       "      <th>100227025</th>\n",
       "      <td>6789</td>\n",
       "      <td>3292</td>\n",
       "      <td>192</td>\n",
       "      <td>2555</td>\n",
       "      <td>258</td>\n",
       "      <td>422</td>\n",
       "      <td>70</td>\n",
       "    </tr>\n",
       "    <tr>\n",
       "      <th>100122502</th>\n",
       "      <td>454</td>\n",
       "      <td>165</td>\n",
       "      <td>4</td>\n",
       "      <td>93</td>\n",
       "      <td>76</td>\n",
       "      <td>60</td>\n",
       "      <td>56</td>\n",
       "    </tr>\n",
       "    <tr>\n",
       "      <th>104486307</th>\n",
       "      <td>315</td>\n",
       "      <td>141</td>\n",
       "      <td>1</td>\n",
       "      <td>51</td>\n",
       "      <td>18</td>\n",
       "      <td>53</td>\n",
       "      <td>51</td>\n",
       "    </tr>\n",
       "  </tbody>\n",
       "</table>\n",
       "</div>"
      ],
      "text/plain": [
       "           n_nodes  n_isbns  n_loc_recs  n_ol_editions  n_ol_works  \\\n",
       "cluster                                                              \n",
       "100026918    28630    13988         673           9939         508   \n",
       "100073294    17698     7166         494           8116         358   \n",
       "100227025     6789     3292         192           2555         258   \n",
       "100122502      454      165           4             93          76   \n",
       "104486307      315      141           1             51          18   \n",
       "\n",
       "           n_gr_books  n_gr_works  \n",
       "cluster                            \n",
       "100026918        3390         132  \n",
       "100073294        1476          88  \n",
       "100227025         422          70  \n",
       "100122502          60          56  \n",
       "104486307          53          51  "
      ]
     },
     "execution_count": 11,
     "metadata": {},
     "output_type": "execute_result"
    }
   ],
   "source": [
    "gr_big.head()"
   ]
  },
  {
   "cell_type": "markdown",
   "id": "53228050",
   "metadata": {},
   "source": [
    "## Large Cluster Debugging\n",
    "\n",
    "We have some pretty big clusters:"
   ]
  },
  {
   "cell_type": "code",
   "execution_count": 12,
   "id": "0d7a7f1e",
   "metadata": {
    "execution": {
     "iopub.execute_input": "2022-06-09T04:27:38.159564Z",
     "iopub.status.busy": "2022-06-09T04:27:38.159176Z",
     "iopub.status.idle": "2022-06-09T04:27:40.068851Z",
     "shell.execute_reply": "2022-06-09T04:27:40.067862Z"
    }
   },
   "outputs": [
    {
     "data": {
      "text/html": [
       "<div>\n",
       "<style scoped>\n",
       "    .dataframe tbody tr th:only-of-type {\n",
       "        vertical-align: middle;\n",
       "    }\n",
       "\n",
       "    .dataframe tbody tr th {\n",
       "        vertical-align: top;\n",
       "    }\n",
       "\n",
       "    .dataframe thead th {\n",
       "        text-align: right;\n",
       "    }\n",
       "</style>\n",
       "<table border=\"1\" class=\"dataframe\">\n",
       "  <thead>\n",
       "    <tr style=\"text-align: right;\">\n",
       "      <th></th>\n",
       "      <th>n_nodes</th>\n",
       "      <th>n_isbns</th>\n",
       "      <th>n_loc_recs</th>\n",
       "      <th>n_ol_editions</th>\n",
       "      <th>n_ol_works</th>\n",
       "      <th>n_gr_books</th>\n",
       "      <th>n_gr_works</th>\n",
       "    </tr>\n",
       "    <tr>\n",
       "      <th>cluster</th>\n",
       "      <th></th>\n",
       "      <th></th>\n",
       "      <th></th>\n",
       "      <th></th>\n",
       "      <th></th>\n",
       "      <th></th>\n",
       "      <th></th>\n",
       "    </tr>\n",
       "  </thead>\n",
       "  <tbody>\n",
       "    <tr>\n",
       "      <th>100026918</th>\n",
       "      <td>28630</td>\n",
       "      <td>13988</td>\n",
       "      <td>673</td>\n",
       "      <td>9939</td>\n",
       "      <td>508</td>\n",
       "      <td>3390</td>\n",
       "      <td>132</td>\n",
       "    </tr>\n",
       "    <tr>\n",
       "      <th>100073294</th>\n",
       "      <td>17698</td>\n",
       "      <td>7166</td>\n",
       "      <td>494</td>\n",
       "      <td>8116</td>\n",
       "      <td>358</td>\n",
       "      <td>1476</td>\n",
       "      <td>88</td>\n",
       "    </tr>\n",
       "    <tr>\n",
       "      <th>100044980</th>\n",
       "      <td>15480</td>\n",
       "      <td>7681</td>\n",
       "      <td>186</td>\n",
       "      <td>6168</td>\n",
       "      <td>89</td>\n",
       "      <td>1333</td>\n",
       "      <td>23</td>\n",
       "    </tr>\n",
       "    <tr>\n",
       "      <th>102066477</th>\n",
       "      <td>11281</td>\n",
       "      <td>7520</td>\n",
       "      <td>0</td>\n",
       "      <td>3760</td>\n",
       "      <td>1</td>\n",
       "      <td>0</td>\n",
       "      <td>0</td>\n",
       "    </tr>\n",
       "    <tr>\n",
       "      <th>100063034</th>\n",
       "      <td>10902</td>\n",
       "      <td>5451</td>\n",
       "      <td>178</td>\n",
       "      <td>3484</td>\n",
       "      <td>145</td>\n",
       "      <td>1599</td>\n",
       "      <td>45</td>\n",
       "    </tr>\n",
       "  </tbody>\n",
       "</table>\n",
       "</div>"
      ],
      "text/plain": [
       "           n_nodes  n_isbns  n_loc_recs  n_ol_editions  n_ol_works  \\\n",
       "cluster                                                              \n",
       "100026918    28630    13988         673           9939         508   \n",
       "100073294    17698     7166         494           8116         358   \n",
       "100044980    15480     7681         186           6168          89   \n",
       "102066477    11281     7520           0           3760           1   \n",
       "100063034    10902     5451         178           3484         145   \n",
       "\n",
       "           n_gr_books  n_gr_works  \n",
       "cluster                            \n",
       "100026918        3390         132  \n",
       "100073294        1476          88  \n",
       "100044980        1333          23  \n",
       "102066477           0           0  \n",
       "100063034        1599          45  "
      ]
     },
     "execution_count": 12,
     "metadata": {},
     "output_type": "execute_result"
    }
   ],
   "source": [
    "big = clusters.nlargest(5, 'n_nodes')\n",
    "big"
   ]
  },
  {
   "cell_type": "markdown",
   "id": "5f3ecad2",
   "metadata": {},
   "source": [
    "What is up with this? We should figure out what went wrong, if we can.  What are its ISBNs?"
   ]
  },
  {
   "cell_type": "code",
   "execution_count": 13,
   "id": "bd6c1084",
   "metadata": {
    "execution": {
     "iopub.execute_input": "2022-06-09T04:27:40.073973Z",
     "iopub.status.busy": "2022-06-09T04:27:40.073628Z",
     "iopub.status.idle": "2022-06-09T04:27:59.843636Z",
     "shell.execute_reply": "2022-06-09T04:27:59.842289Z"
    }
   },
   "outputs": [
    {
     "data": {
      "text/html": [
       "<div>\n",
       "<style scoped>\n",
       "    .dataframe tbody tr th:only-of-type {\n",
       "        vertical-align: middle;\n",
       "    }\n",
       "\n",
       "    .dataframe tbody tr th {\n",
       "        vertical-align: top;\n",
       "    }\n",
       "\n",
       "    .dataframe thead th {\n",
       "        text-align: right;\n",
       "    }\n",
       "</style>\n",
       "<table border=\"1\" class=\"dataframe\">\n",
       "  <thead>\n",
       "    <tr style=\"text-align: right;\">\n",
       "      <th></th>\n",
       "      <th>isbn</th>\n",
       "      <th>LOC</th>\n",
       "      <th>OL</th>\n",
       "      <th>GR</th>\n",
       "      <th>AZ14</th>\n",
       "      <th>BX</th>\n",
       "    </tr>\n",
       "    <tr>\n",
       "      <th>isbn_id</th>\n",
       "      <th></th>\n",
       "      <th></th>\n",
       "      <th></th>\n",
       "      <th></th>\n",
       "      <th></th>\n",
       "      <th></th>\n",
       "    </tr>\n",
       "  </thead>\n",
       "  <tbody>\n",
       "    <tr>\n",
       "      <th>1</th>\n",
       "      <td>0836932722</td>\n",
       "      <td>2</td>\n",
       "      <td>3</td>\n",
       "      <td>0</td>\n",
       "      <td>0</td>\n",
       "      <td>0</td>\n",
       "    </tr>\n",
       "    <tr>\n",
       "      <th>2</th>\n",
       "      <td>0965406334</td>\n",
       "      <td>1</td>\n",
       "      <td>1</td>\n",
       "      <td>0</td>\n",
       "      <td>0</td>\n",
       "      <td>0</td>\n",
       "    </tr>\n",
       "    <tr>\n",
       "      <th>3</th>\n",
       "      <td>0780363175</td>\n",
       "      <td>1</td>\n",
       "      <td>2</td>\n",
       "      <td>0</td>\n",
       "      <td>0</td>\n",
       "      <td>0</td>\n",
       "    </tr>\n",
       "    <tr>\n",
       "      <th>4</th>\n",
       "      <td>0780363590</td>\n",
       "      <td>1</td>\n",
       "      <td>2</td>\n",
       "      <td>0</td>\n",
       "      <td>0</td>\n",
       "      <td>0</td>\n",
       "    </tr>\n",
       "    <tr>\n",
       "      <th>5</th>\n",
       "      <td>0780363604</td>\n",
       "      <td>1</td>\n",
       "      <td>2</td>\n",
       "      <td>0</td>\n",
       "      <td>0</td>\n",
       "      <td>0</td>\n",
       "    </tr>\n",
       "  </tbody>\n",
       "</table>\n",
       "</div>"
      ],
      "text/plain": [
       "               isbn  LOC  OL  GR  AZ14  BX\n",
       "isbn_id                                   \n",
       "1        0836932722    2   3   0     0   0\n",
       "2        0965406334    1   1   0     0   0\n",
       "3        0780363175    1   2   0     0   0\n",
       "4        0780363590    1   2   0     0   0\n",
       "5        0780363604    1   2   0     0   0"
      ]
     },
     "execution_count": 13,
     "metadata": {},
     "output_type": "execute_result"
    }
   ],
   "source": [
    "isbns = pd.read_parquet('book-links/all-isbns.parquet').set_index('isbn_id')\n",
    "isbns.head()"
   ]
  },
  {
   "cell_type": "code",
   "execution_count": 14,
   "id": "a96eca1f",
   "metadata": {
    "execution": {
     "iopub.execute_input": "2022-06-09T04:27:59.848472Z",
     "iopub.status.busy": "2022-06-09T04:27:59.848092Z",
     "iopub.status.idle": "2022-06-09T04:28:00.968406Z",
     "shell.execute_reply": "2022-06-09T04:28:00.966559Z"
    }
   },
   "outputs": [
    {
     "data": {
      "text/html": [
       "<div>\n",
       "<style scoped>\n",
       "    .dataframe tbody tr th:only-of-type {\n",
       "        vertical-align: middle;\n",
       "    }\n",
       "\n",
       "    .dataframe tbody tr th {\n",
       "        vertical-align: top;\n",
       "    }\n",
       "\n",
       "    .dataframe thead th {\n",
       "        text-align: right;\n",
       "    }\n",
       "</style>\n",
       "<table border=\"1\" class=\"dataframe\">\n",
       "  <thead>\n",
       "    <tr style=\"text-align: right;\">\n",
       "      <th></th>\n",
       "      <th>isbn_id</th>\n",
       "      <th>cluster</th>\n",
       "    </tr>\n",
       "  </thead>\n",
       "  <tbody>\n",
       "    <tr>\n",
       "      <th>0</th>\n",
       "      <td>32715079</td>\n",
       "      <td>932715079</td>\n",
       "    </tr>\n",
       "    <tr>\n",
       "      <th>1</th>\n",
       "      <td>32715078</td>\n",
       "      <td>932715078</td>\n",
       "    </tr>\n",
       "    <tr>\n",
       "      <th>2</th>\n",
       "      <td>32715077</td>\n",
       "      <td>932715077</td>\n",
       "    </tr>\n",
       "    <tr>\n",
       "      <th>3</th>\n",
       "      <td>32715076</td>\n",
       "      <td>932715076</td>\n",
       "    </tr>\n",
       "    <tr>\n",
       "      <th>4</th>\n",
       "      <td>32715075</td>\n",
       "      <td>932715075</td>\n",
       "    </tr>\n",
       "  </tbody>\n",
       "</table>\n",
       "</div>"
      ],
      "text/plain": [
       "    isbn_id    cluster\n",
       "0  32715079  932715079\n",
       "1  32715078  932715078\n",
       "2  32715077  932715077\n",
       "3  32715076  932715076\n",
       "4  32715075  932715075"
      ]
     },
     "execution_count": 14,
     "metadata": {},
     "output_type": "execute_result"
    }
   ],
   "source": [
    "links = pd.read_parquet('book-links/isbn-clusters.parquet', columns=['isbn_id', 'cluster'])\n",
    "links.head()"
   ]
  },
  {
   "cell_type": "code",
   "execution_count": 15,
   "id": "8dad5833",
   "metadata": {
    "execution": {
     "iopub.execute_input": "2022-06-09T04:28:00.976313Z",
     "iopub.status.busy": "2022-06-09T04:28:00.975638Z",
     "iopub.status.idle": "2022-06-09T04:28:13.160394Z",
     "shell.execute_reply": "2022-06-09T04:28:13.158739Z"
    }
   },
   "outputs": [
    {
     "data": {
      "text/html": [
       "<div>\n",
       "<style scoped>\n",
       "    .dataframe tbody tr th:only-of-type {\n",
       "        vertical-align: middle;\n",
       "    }\n",
       "\n",
       "    .dataframe tbody tr th {\n",
       "        vertical-align: top;\n",
       "    }\n",
       "\n",
       "    .dataframe thead th {\n",
       "        text-align: right;\n",
       "    }\n",
       "</style>\n",
       "<table border=\"1\" class=\"dataframe\">\n",
       "  <thead>\n",
       "    <tr style=\"text-align: right;\">\n",
       "      <th></th>\n",
       "      <th>isbn_id</th>\n",
       "      <th>isbn</th>\n",
       "      <th>LOC</th>\n",
       "      <th>OL</th>\n",
       "      <th>GR</th>\n",
       "      <th>AZ14</th>\n",
       "      <th>BX</th>\n",
       "    </tr>\n",
       "  </thead>\n",
       "  <tbody>\n",
       "    <tr>\n",
       "      <th>32683703</th>\n",
       "      <td>16389852</td>\n",
       "      <td>0001004735</td>\n",
       "      <td>0</td>\n",
       "      <td>1</td>\n",
       "      <td>0</td>\n",
       "      <td>0</td>\n",
       "      <td>0</td>\n",
       "    </tr>\n",
       "    <tr>\n",
       "      <th>32689483</th>\n",
       "      <td>12209133</td>\n",
       "      <td>0001848259</td>\n",
       "      <td>0</td>\n",
       "      <td>1</td>\n",
       "      <td>0</td>\n",
       "      <td>0</td>\n",
       "      <td>0</td>\n",
       "    </tr>\n",
       "    <tr>\n",
       "      <th>32687967</th>\n",
       "      <td>12057536</td>\n",
       "      <td>0001849123</td>\n",
       "      <td>0</td>\n",
       "      <td>1</td>\n",
       "      <td>0</td>\n",
       "      <td>0</td>\n",
       "      <td>0</td>\n",
       "    </tr>\n",
       "    <tr>\n",
       "      <th>32690624</th>\n",
       "      <td>15571715</td>\n",
       "      <td>0001956795</td>\n",
       "      <td>0</td>\n",
       "      <td>1</td>\n",
       "      <td>0</td>\n",
       "      <td>0</td>\n",
       "      <td>0</td>\n",
       "    </tr>\n",
       "    <tr>\n",
       "      <th>32679290</th>\n",
       "      <td>8426238</td>\n",
       "      <td>0003302245</td>\n",
       "      <td>0</td>\n",
       "      <td>1</td>\n",
       "      <td>0</td>\n",
       "      <td>0</td>\n",
       "      <td>0</td>\n",
       "    </tr>\n",
       "    <tr>\n",
       "      <th>...</th>\n",
       "      <td>...</td>\n",
       "      <td>...</td>\n",
       "      <td>...</td>\n",
       "      <td>...</td>\n",
       "      <td>...</td>\n",
       "      <td>...</td>\n",
       "      <td>...</td>\n",
       "    </tr>\n",
       "    <tr>\n",
       "      <th>32682394</th>\n",
       "      <td>13696419</td>\n",
       "      <td>9998392802</td>\n",
       "      <td>0</td>\n",
       "      <td>1</td>\n",
       "      <td>0</td>\n",
       "      <td>0</td>\n",
       "      <td>0</td>\n",
       "    </tr>\n",
       "    <tr>\n",
       "      <th>32679930</th>\n",
       "      <td>27195482</td>\n",
       "      <td>9998556643</td>\n",
       "      <td>0</td>\n",
       "      <td>1</td>\n",
       "      <td>0</td>\n",
       "      <td>0</td>\n",
       "      <td>0</td>\n",
       "    </tr>\n",
       "    <tr>\n",
       "      <th>32680866</th>\n",
       "      <td>9563135</td>\n",
       "      <td>9998651174</td>\n",
       "      <td>0</td>\n",
       "      <td>1</td>\n",
       "      <td>0</td>\n",
       "      <td>0</td>\n",
       "      <td>0</td>\n",
       "    </tr>\n",
       "    <tr>\n",
       "      <th>32690804</th>\n",
       "      <td>22031186</td>\n",
       "      <td>9998708710</td>\n",
       "      <td>0</td>\n",
       "      <td>1</td>\n",
       "      <td>0</td>\n",
       "      <td>0</td>\n",
       "      <td>0</td>\n",
       "    </tr>\n",
       "    <tr>\n",
       "      <th>32685164</th>\n",
       "      <td>20348971</td>\n",
       "      <td>9998884985</td>\n",
       "      <td>0</td>\n",
       "      <td>1</td>\n",
       "      <td>0</td>\n",
       "      <td>0</td>\n",
       "      <td>0</td>\n",
       "    </tr>\n",
       "  </tbody>\n",
       "</table>\n",
       "<p>13988 rows × 7 columns</p>\n",
       "</div>"
      ],
      "text/plain": [
       "           isbn_id        isbn  LOC  OL  GR  AZ14  BX\n",
       "32683703  16389852  0001004735    0   1   0     0   0\n",
       "32689483  12209133  0001848259    0   1   0     0   0\n",
       "32687967  12057536  0001849123    0   1   0     0   0\n",
       "32690624  15571715  0001956795    0   1   0     0   0\n",
       "32679290   8426238  0003302245    0   1   0     0   0\n",
       "...            ...         ...  ...  ..  ..   ...  ..\n",
       "32682394  13696419  9998392802    0   1   0     0   0\n",
       "32679930  27195482  9998556643    0   1   0     0   0\n",
       "32680866   9563135  9998651174    0   1   0     0   0\n",
       "32690804  22031186  9998708710    0   1   0     0   0\n",
       "32685164  20348971  9998884985    0   1   0     0   0\n",
       "\n",
       "[13988 rows x 7 columns]"
      ]
     },
     "execution_count": 15,
     "metadata": {},
     "output_type": "execute_result"
    }
   ],
   "source": [
    "big_id = big.index[0]\n",
    "bl = links[links['cluster'] == big_id].drop(columns=['cluster'])\n",
    "bl = bl.join(isbns, on='isbn_id')\n",
    "bl.sort_values('isbn')"
   ]
  },
  {
   "cell_type": "markdown",
   "id": "976ce31e",
   "metadata": {},
   "source": [
    "What are the things with the highest record count (besides ratings)?"
   ]
  },
  {
   "cell_type": "code",
   "execution_count": 16,
   "id": "ef12a25e",
   "metadata": {
    "execution": {
     "iopub.execute_input": "2022-06-09T04:28:13.165919Z",
     "iopub.status.busy": "2022-06-09T04:28:13.165552Z",
     "iopub.status.idle": "2022-06-09T04:28:13.190417Z",
     "shell.execute_reply": "2022-06-09T04:28:13.189254Z"
    }
   },
   "outputs": [
    {
     "data": {
      "text/html": [
       "<div>\n",
       "<style scoped>\n",
       "    .dataframe tbody tr th:only-of-type {\n",
       "        vertical-align: middle;\n",
       "    }\n",
       "\n",
       "    .dataframe tbody tr th {\n",
       "        vertical-align: top;\n",
       "    }\n",
       "\n",
       "    .dataframe thead th {\n",
       "        text-align: right;\n",
       "    }\n",
       "</style>\n",
       "<table border=\"1\" class=\"dataframe\">\n",
       "  <thead>\n",
       "    <tr style=\"text-align: right;\">\n",
       "      <th></th>\n",
       "      <th>isbn_id</th>\n",
       "      <th>isbn</th>\n",
       "      <th>LOC</th>\n",
       "      <th>OL</th>\n",
       "      <th>GR</th>\n",
       "      <th>AZ14</th>\n",
       "      <th>BX</th>\n",
       "      <th>btot</th>\n",
       "    </tr>\n",
       "  </thead>\n",
       "  <tbody>\n",
       "    <tr>\n",
       "      <th>32680105</th>\n",
       "      <td>7621700</td>\n",
       "      <td>1559029838</td>\n",
       "      <td>0</td>\n",
       "      <td>14</td>\n",
       "      <td>1</td>\n",
       "      <td>0</td>\n",
       "      <td>180</td>\n",
       "      <td>15</td>\n",
       "    </tr>\n",
       "    <tr>\n",
       "      <th>32681636</th>\n",
       "      <td>7621702</td>\n",
       "      <td>9781559029834</td>\n",
       "      <td>0</td>\n",
       "      <td>11</td>\n",
       "      <td>0</td>\n",
       "      <td>0</td>\n",
       "      <td>0</td>\n",
       "      <td>11</td>\n",
       "    </tr>\n",
       "    <tr>\n",
       "      <th>32679670</th>\n",
       "      <td>871160</td>\n",
       "      <td>0394848284</td>\n",
       "      <td>3</td>\n",
       "      <td>7</td>\n",
       "      <td>0</td>\n",
       "      <td>4</td>\n",
       "      <td>2</td>\n",
       "      <td>10</td>\n",
       "    </tr>\n",
       "    <tr>\n",
       "      <th>32678103</th>\n",
       "      <td>4145077</td>\n",
       "      <td>9781402726019</td>\n",
       "      <td>3</td>\n",
       "      <td>4</td>\n",
       "      <td>1</td>\n",
       "      <td>0</td>\n",
       "      <td>0</td>\n",
       "      <td>8</td>\n",
       "    </tr>\n",
       "    <tr>\n",
       "      <th>32680076</th>\n",
       "      <td>4828587</td>\n",
       "      <td>9780192727992</td>\n",
       "      <td>1</td>\n",
       "      <td>6</td>\n",
       "      <td>1</td>\n",
       "      <td>0</td>\n",
       "      <td>0</td>\n",
       "      <td>8</td>\n",
       "    </tr>\n",
       "    <tr>\n",
       "      <th>32681858</th>\n",
       "      <td>13612768</td>\n",
       "      <td>1577595394</td>\n",
       "      <td>0</td>\n",
       "      <td>7</td>\n",
       "      <td>1</td>\n",
       "      <td>0</td>\n",
       "      <td>0</td>\n",
       "      <td>8</td>\n",
       "    </tr>\n",
       "    <tr>\n",
       "      <th>32685686</th>\n",
       "      <td>1395236</td>\n",
       "      <td>0716631970</td>\n",
       "      <td>4</td>\n",
       "      <td>4</td>\n",
       "      <td>0</td>\n",
       "      <td>0</td>\n",
       "      <td>0</td>\n",
       "      <td>8</td>\n",
       "    </tr>\n",
       "    <tr>\n",
       "      <th>32678100</th>\n",
       "      <td>4145078</td>\n",
       "      <td>1402726015</td>\n",
       "      <td>2</td>\n",
       "      <td>4</td>\n",
       "      <td>1</td>\n",
       "      <td>31</td>\n",
       "      <td>0</td>\n",
       "      <td>7</td>\n",
       "    </tr>\n",
       "    <tr>\n",
       "      <th>32681861</th>\n",
       "      <td>13612769</td>\n",
       "      <td>9781577595397</td>\n",
       "      <td>0</td>\n",
       "      <td>6</td>\n",
       "      <td>1</td>\n",
       "      <td>0</td>\n",
       "      <td>0</td>\n",
       "      <td>7</td>\n",
       "    </tr>\n",
       "    <tr>\n",
       "      <th>32685069</th>\n",
       "      <td>5108168</td>\n",
       "      <td>9780674035751</td>\n",
       "      <td>1</td>\n",
       "      <td>6</td>\n",
       "      <td>0</td>\n",
       "      <td>0</td>\n",
       "      <td>0</td>\n",
       "      <td>7</td>\n",
       "    </tr>\n",
       "    <tr>\n",
       "      <th>32677244</th>\n",
       "      <td>3547617</td>\n",
       "      <td>0393976149</td>\n",
       "      <td>2</td>\n",
       "      <td>3</td>\n",
       "      <td>1</td>\n",
       "      <td>4</td>\n",
       "      <td>0</td>\n",
       "      <td>6</td>\n",
       "    </tr>\n",
       "    <tr>\n",
       "      <th>32679632</th>\n",
       "      <td>5306988</td>\n",
       "      <td>9780194237499</td>\n",
       "      <td>1</td>\n",
       "      <td>4</td>\n",
       "      <td>1</td>\n",
       "      <td>0</td>\n",
       "      <td>0</td>\n",
       "      <td>6</td>\n",
       "    </tr>\n",
       "    <tr>\n",
       "      <th>32679633</th>\n",
       "      <td>5306989</td>\n",
       "      <td>0194237494</td>\n",
       "      <td>1</td>\n",
       "      <td>4</td>\n",
       "      <td>1</td>\n",
       "      <td>0</td>\n",
       "      <td>0</td>\n",
       "      <td>6</td>\n",
       "    </tr>\n",
       "    <tr>\n",
       "      <th>32679820</th>\n",
       "      <td>4482563</td>\n",
       "      <td>1402731523</td>\n",
       "      <td>1</td>\n",
       "      <td>4</td>\n",
       "      <td>1</td>\n",
       "      <td>8</td>\n",
       "      <td>0</td>\n",
       "      <td>6</td>\n",
       "    </tr>\n",
       "    <tr>\n",
       "      <th>32679821</th>\n",
       "      <td>4482562</td>\n",
       "      <td>9781402731525</td>\n",
       "      <td>1</td>\n",
       "      <td>4</td>\n",
       "      <td>1</td>\n",
       "      <td>0</td>\n",
       "      <td>0</td>\n",
       "      <td>6</td>\n",
       "    </tr>\n",
       "    <tr>\n",
       "      <th>32680137</th>\n",
       "      <td>4175379</td>\n",
       "      <td>9780192719997</td>\n",
       "      <td>2</td>\n",
       "      <td>3</td>\n",
       "      <td>1</td>\n",
       "      <td>0</td>\n",
       "      <td>0</td>\n",
       "      <td>6</td>\n",
       "    </tr>\n",
       "    <tr>\n",
       "      <th>32682726</th>\n",
       "      <td>9663904</td>\n",
       "      <td>9653120255</td>\n",
       "      <td>0</td>\n",
       "      <td>6</td>\n",
       "      <td>0</td>\n",
       "      <td>0</td>\n",
       "      <td>0</td>\n",
       "      <td>6</td>\n",
       "    </tr>\n",
       "    <tr>\n",
       "      <th>32682885</th>\n",
       "      <td>1788697</td>\n",
       "      <td>0393958043</td>\n",
       "      <td>1</td>\n",
       "      <td>4</td>\n",
       "      <td>1</td>\n",
       "      <td>9</td>\n",
       "      <td>0</td>\n",
       "      <td>6</td>\n",
       "    </tr>\n",
       "    <tr>\n",
       "      <th>32678101</th>\n",
       "      <td>4145073</td>\n",
       "      <td>9781402736919</td>\n",
       "      <td>1</td>\n",
       "      <td>3</td>\n",
       "      <td>1</td>\n",
       "      <td>0</td>\n",
       "      <td>0</td>\n",
       "      <td>5</td>\n",
       "    </tr>\n",
       "    <tr>\n",
       "      <th>32678102</th>\n",
       "      <td>4145074</td>\n",
       "      <td>1402736916</td>\n",
       "      <td>1</td>\n",
       "      <td>3</td>\n",
       "      <td>1</td>\n",
       "      <td>3</td>\n",
       "      <td>0</td>\n",
       "      <td>5</td>\n",
       "    </tr>\n",
       "  </tbody>\n",
       "</table>\n",
       "</div>"
      ],
      "text/plain": [
       "           isbn_id           isbn  LOC  OL  GR  AZ14   BX  btot\n",
       "32680105   7621700     1559029838    0  14   1     0  180    15\n",
       "32681636   7621702  9781559029834    0  11   0     0    0    11\n",
       "32679670    871160     0394848284    3   7   0     4    2    10\n",
       "32678103   4145077  9781402726019    3   4   1     0    0     8\n",
       "32680076   4828587  9780192727992    1   6   1     0    0     8\n",
       "32681858  13612768     1577595394    0   7   1     0    0     8\n",
       "32685686   1395236     0716631970    4   4   0     0    0     8\n",
       "32678100   4145078     1402726015    2   4   1    31    0     7\n",
       "32681861  13612769  9781577595397    0   6   1     0    0     7\n",
       "32685069   5108168  9780674035751    1   6   0     0    0     7\n",
       "32677244   3547617     0393976149    2   3   1     4    0     6\n",
       "32679632   5306988  9780194237499    1   4   1     0    0     6\n",
       "32679633   5306989     0194237494    1   4   1     0    0     6\n",
       "32679820   4482563     1402731523    1   4   1     8    0     6\n",
       "32679821   4482562  9781402731525    1   4   1     0    0     6\n",
       "32680137   4175379  9780192719997    2   3   1     0    0     6\n",
       "32682726   9663904     9653120255    0   6   0     0    0     6\n",
       "32682885   1788697     0393958043    1   4   1     9    0     6\n",
       "32678101   4145073  9781402736919    1   3   1     0    0     5\n",
       "32678102   4145074     1402736916    1   3   1     3    0     5"
      ]
     },
     "execution_count": 16,
     "metadata": {},
     "output_type": "execute_result"
    }
   ],
   "source": [
    "bl['btot'] = bl.iloc[:, 2:-2].sum(axis=1)\n",
    "bl.nlargest(20, 'btot')"
   ]
  },
  {
   "cell_type": "code",
   "execution_count": null,
   "id": "bf786c8c",
   "metadata": {},
   "outputs": [],
   "source": []
  }
 ],
 "metadata": {
  "jupytext": {
   "formats": "ipynb,py:percent"
  },
  "kernelspec": {
   "display_name": "Python 3 (ipykernel)",
   "language": "python",
   "name": "python3"
  },
  "language_info": {
   "codemirror_mode": {
    "name": "ipython",
    "version": 3
   },
   "file_extension": ".py",
   "mimetype": "text/x-python",
   "name": "python",
   "nbconvert_exporter": "python",
   "pygments_lexer": "ipython3",
   "version": "3.9.13"
  }
 },
 "nbformat": 4,
 "nbformat_minor": 5
}
