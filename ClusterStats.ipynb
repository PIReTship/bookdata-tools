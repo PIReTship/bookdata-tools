{
 "cells": [
  {
   "cell_type": "markdown",
   "id": "ebc6cb4a",
   "metadata": {},
   "source": [
    "# Book Clustering Statistics\n",
    "\n",
    "This notebook provides statistics on the results of our book clustering."
   ]
  },
  {
   "cell_type": "markdown",
   "id": "10d0aca9",
   "metadata": {},
   "source": [
    "## Setup"
   ]
  },
  {
   "cell_type": "code",
   "execution_count": 1,
   "id": "41b48fe5",
   "metadata": {
    "execution": {
     "iopub.execute_input": "2022-06-01T19:37:35.144306Z",
     "iopub.status.busy": "2022-06-01T19:37:35.143732Z",
     "iopub.status.idle": "2022-06-01T19:37:39.485378Z",
     "shell.execute_reply": "2022-06-01T19:37:39.484237Z"
    }
   },
   "outputs": [],
   "source": [
    "import pandas as pd\n",
    "import matplotlib.pyplot as plt\n",
    "import numpy as np"
   ]
  },
  {
   "cell_type": "markdown",
   "id": "74ae5f79",
   "metadata": {},
   "source": [
    "## Load Data\n",
    "\n",
    "Let's start by getting our clusters and their statistics:"
   ]
  },
  {
   "cell_type": "code",
   "execution_count": 2,
   "id": "7fb3b295",
   "metadata": {
    "execution": {
     "iopub.execute_input": "2022-06-01T19:37:39.490183Z",
     "iopub.status.busy": "2022-06-01T19:37:39.489890Z",
     "iopub.status.idle": "2022-06-01T19:37:40.763120Z",
     "shell.execute_reply": "2022-06-01T19:37:40.761956Z"
    }
   },
   "outputs": [
    {
     "name": "stdout",
     "output_type": "stream",
     "text": [
      "<class 'pandas.core.frame.DataFrame'>\n",
      "RangeIndex: 32185879 entries, 0 to 32185878\n",
      "Data columns (total 8 columns):\n",
      " #   Column         Dtype \n",
      "---  ------         ----- \n",
      " 0   cluster        int32 \n",
      " 1   n_nodes        uint32\n",
      " 2   n_isbns        uint32\n",
      " 3   n_loc_recs     uint32\n",
      " 4   n_ol_editions  uint32\n",
      " 5   n_ol_works     uint32\n",
      " 6   n_gr_books     uint32\n",
      " 7   n_gr_works     uint32\n",
      "dtypes: int32(1), uint32(7)\n",
      "memory usage: 982.2 MB\n"
     ]
    }
   ],
   "source": [
    "clusters = pd.read_parquet('book-links/cluster-stats.parquet')\n",
    "clusters.info()"
   ]
  },
  {
   "cell_type": "code",
   "execution_count": 3,
   "id": "01cf3739",
   "metadata": {
    "execution": {
     "iopub.execute_input": "2022-06-01T19:37:40.769380Z",
     "iopub.status.busy": "2022-06-01T19:37:40.768877Z",
     "iopub.status.idle": "2022-06-01T19:37:41.224562Z",
     "shell.execute_reply": "2022-06-01T19:37:41.223529Z"
    }
   },
   "outputs": [],
   "source": [
    "clusters.set_index('cluster', inplace=True)"
   ]
  },
  {
   "cell_type": "markdown",
   "id": "cf6ea694",
   "metadata": {},
   "source": [
    "Describe the count columns for basic descriptive stats:"
   ]
  },
  {
   "cell_type": "code",
   "execution_count": 4,
   "id": "735ec58b",
   "metadata": {
    "execution": {
     "iopub.execute_input": "2022-06-01T19:37:41.228991Z",
     "iopub.status.busy": "2022-06-01T19:37:41.228714Z",
     "iopub.status.idle": "2022-06-01T19:37:47.960734Z",
     "shell.execute_reply": "2022-06-01T19:37:47.959907Z"
    }
   },
   "outputs": [
    {
     "data": {
      "text/html": [
       "<div>\n",
       "<style scoped>\n",
       "    .dataframe tbody tr th:only-of-type {\n",
       "        vertical-align: middle;\n",
       "    }\n",
       "\n",
       "    .dataframe tbody tr th {\n",
       "        vertical-align: top;\n",
       "    }\n",
       "\n",
       "    .dataframe thead th {\n",
       "        text-align: right;\n",
       "    }\n",
       "</style>\n",
       "<table border=\"1\" class=\"dataframe\">\n",
       "  <thead>\n",
       "    <tr style=\"text-align: right;\">\n",
       "      <th></th>\n",
       "      <th>n_nodes</th>\n",
       "      <th>n_isbns</th>\n",
       "      <th>n_loc_recs</th>\n",
       "      <th>n_ol_editions</th>\n",
       "      <th>n_ol_works</th>\n",
       "      <th>n_gr_books</th>\n",
       "      <th>n_gr_works</th>\n",
       "    </tr>\n",
       "  </thead>\n",
       "  <tbody>\n",
       "    <tr>\n",
       "      <th>count</th>\n",
       "      <td>3.218588e+07</td>\n",
       "      <td>3.218588e+07</td>\n",
       "      <td>3.218588e+07</td>\n",
       "      <td>3.218588e+07</td>\n",
       "      <td>3.218588e+07</td>\n",
       "      <td>3.218588e+07</td>\n",
       "      <td>3.218588e+07</td>\n",
       "    </tr>\n",
       "    <tr>\n",
       "      <th>mean</th>\n",
       "      <td>3.293647e+00</td>\n",
       "      <td>1.016442e+00</td>\n",
       "      <td>3.004604e-01</td>\n",
       "      <td>1.079199e+00</td>\n",
       "      <td>7.769151e-01</td>\n",
       "      <td>7.334443e-02</td>\n",
       "      <td>4.728664e-02</td>\n",
       "    </tr>\n",
       "    <tr>\n",
       "      <th>std</th>\n",
       "      <td>9.868834e+00</td>\n",
       "      <td>4.981302e+00</td>\n",
       "      <td>5.495389e-01</td>\n",
       "      <td>3.766374e+00</td>\n",
       "      <td>7.002098e-01</td>\n",
       "      <td>1.102101e+00</td>\n",
       "      <td>2.215802e-01</td>\n",
       "    </tr>\n",
       "    <tr>\n",
       "      <th>min</th>\n",
       "      <td>1.000000e+00</td>\n",
       "      <td>0.000000e+00</td>\n",
       "      <td>0.000000e+00</td>\n",
       "      <td>0.000000e+00</td>\n",
       "      <td>0.000000e+00</td>\n",
       "      <td>0.000000e+00</td>\n",
       "      <td>0.000000e+00</td>\n",
       "    </tr>\n",
       "    <tr>\n",
       "      <th>25%</th>\n",
       "      <td>2.000000e+00</td>\n",
       "      <td>0.000000e+00</td>\n",
       "      <td>0.000000e+00</td>\n",
       "      <td>1.000000e+00</td>\n",
       "      <td>0.000000e+00</td>\n",
       "      <td>0.000000e+00</td>\n",
       "      <td>0.000000e+00</td>\n",
       "    </tr>\n",
       "    <tr>\n",
       "      <th>50%</th>\n",
       "      <td>3.000000e+00</td>\n",
       "      <td>1.000000e+00</td>\n",
       "      <td>0.000000e+00</td>\n",
       "      <td>1.000000e+00</td>\n",
       "      <td>1.000000e+00</td>\n",
       "      <td>0.000000e+00</td>\n",
       "      <td>0.000000e+00</td>\n",
       "    </tr>\n",
       "    <tr>\n",
       "      <th>75%</th>\n",
       "      <td>4.000000e+00</td>\n",
       "      <td>2.000000e+00</td>\n",
       "      <td>1.000000e+00</td>\n",
       "      <td>1.000000e+00</td>\n",
       "      <td>1.000000e+00</td>\n",
       "      <td>0.000000e+00</td>\n",
       "      <td>0.000000e+00</td>\n",
       "    </tr>\n",
       "    <tr>\n",
       "      <th>max</th>\n",
       "      <td>2.863000e+04</td>\n",
       "      <td>1.398800e+04</td>\n",
       "      <td>6.730000e+02</td>\n",
       "      <td>9.939000e+03</td>\n",
       "      <td>2.368000e+03</td>\n",
       "      <td>3.390000e+03</td>\n",
       "      <td>1.320000e+02</td>\n",
       "    </tr>\n",
       "  </tbody>\n",
       "</table>\n",
       "</div>"
      ],
      "text/plain": [
       "            n_nodes       n_isbns    n_loc_recs  n_ol_editions    n_ol_works  \\\n",
       "count  3.218588e+07  3.218588e+07  3.218588e+07   3.218588e+07  3.218588e+07   \n",
       "mean   3.293647e+00  1.016442e+00  3.004604e-01   1.079199e+00  7.769151e-01   \n",
       "std    9.868834e+00  4.981302e+00  5.495389e-01   3.766374e+00  7.002098e-01   \n",
       "min    1.000000e+00  0.000000e+00  0.000000e+00   0.000000e+00  0.000000e+00   \n",
       "25%    2.000000e+00  0.000000e+00  0.000000e+00   1.000000e+00  0.000000e+00   \n",
       "50%    3.000000e+00  1.000000e+00  0.000000e+00   1.000000e+00  1.000000e+00   \n",
       "75%    4.000000e+00  2.000000e+00  1.000000e+00   1.000000e+00  1.000000e+00   \n",
       "max    2.863000e+04  1.398800e+04  6.730000e+02   9.939000e+03  2.368000e+03   \n",
       "\n",
       "         n_gr_books    n_gr_works  \n",
       "count  3.218588e+07  3.218588e+07  \n",
       "mean   7.334443e-02  4.728664e-02  \n",
       "std    1.102101e+00  2.215802e-01  \n",
       "min    0.000000e+00  0.000000e+00  \n",
       "25%    0.000000e+00  0.000000e+00  \n",
       "50%    0.000000e+00  0.000000e+00  \n",
       "75%    0.000000e+00  0.000000e+00  \n",
       "max    3.390000e+03  1.320000e+02  "
      ]
     },
     "execution_count": 4,
     "metadata": {},
     "output_type": "execute_result"
    }
   ],
   "source": [
    "clusters.describe()"
   ]
  },
  {
   "cell_type": "markdown",
   "id": "01ffa803",
   "metadata": {},
   "source": [
    "75% of clusters only contain 2 ISBNs (probably -10 and -13) and one book. OpenLibrary also contributes to the largest number of clusters."
   ]
  },
  {
   "cell_type": "markdown",
   "id": "e600dff8",
   "metadata": {},
   "source": [
    "## Clusters per Source\n",
    "\n",
    "How many clusters are connected to each source?"
   ]
  },
  {
   "cell_type": "code",
   "execution_count": 5,
   "id": "f0e11104",
   "metadata": {
    "execution": {
     "iopub.execute_input": "2022-06-01T19:37:47.964388Z",
     "iopub.status.busy": "2022-06-01T19:37:47.964155Z",
     "iopub.status.idle": "2022-06-01T19:37:48.631772Z",
     "shell.execute_reply": "2022-06-01T19:37:48.631007Z"
    }
   },
   "outputs": [
    {
     "data": {
      "text/plain": [
       "n_nodes          32185879\n",
       "n_isbns          17078096\n",
       "n_loc_recs        9281535\n",
       "n_ol_editions    25814159\n",
       "n_ol_works       23754524\n",
       "n_gr_books        1506465\n",
       "n_gr_works        1505941\n",
       "dtype: int64"
      ]
     },
     "execution_count": 5,
     "metadata": {},
     "output_type": "execute_result"
    }
   ],
   "source": [
    "src_counts = pd.Series(dict(\n",
    "    (c, np.sum(clusters[c] > 0)) for c in clusters.columns\n",
    "))\n",
    "src_counts"
   ]
  },
  {
   "cell_type": "code",
   "execution_count": 6,
   "id": "80e1e9b1",
   "metadata": {
    "execution": {
     "iopub.execute_input": "2022-06-01T19:37:48.635164Z",
     "iopub.status.busy": "2022-06-01T19:37:48.634924Z",
     "iopub.status.idle": "2022-06-01T19:37:48.962168Z",
     "shell.execute_reply": "2022-06-01T19:37:48.961253Z"
    }
   },
   "outputs": [
    {
     "data": {
      "image/png": "[encoded data removed]",
      "text/plain": [
       "<Figure size 432x288 with 1 Axes>"
      ]
     },
     "metadata": {
      "needs_background": "light"
     },
     "output_type": "display_data"
    }
   ],
   "source": [
    "src_counts.plot.barh()\n",
    "plt.xlabel('# of Clusters')\n",
    "plt.show()"
   ]
  },
  {
   "cell_type": "markdown",
   "id": "c5fc399d",
   "metadata": {},
   "source": [
    "## Distributions\n",
    "\n",
    "Let's look at the distributions of cluster sizes."
   ]
  },
  {
   "cell_type": "code",
   "execution_count": 7,
   "id": "7214748f",
   "metadata": {
    "execution": {
     "iopub.execute_input": "2022-06-01T19:37:48.966178Z",
     "iopub.status.busy": "2022-06-01T19:37:48.965898Z",
     "iopub.status.idle": "2022-06-01T19:37:50.558382Z",
     "shell.execute_reply": "2022-06-01T19:37:50.557416Z"
    }
   },
   "outputs": [
    {
     "data": {
      "text/html": [
       "<div>\n",
       "<style scoped>\n",
       "    .dataframe tbody tr th:only-of-type {\n",
       "        vertical-align: middle;\n",
       "    }\n",
       "\n",
       "    .dataframe tbody tr th {\n",
       "        vertical-align: top;\n",
       "    }\n",
       "\n",
       "    .dataframe thead th {\n",
       "        text-align: right;\n",
       "    }\n",
       "</style>\n",
       "<table border=\"1\" class=\"dataframe\">\n",
       "  <thead>\n",
       "    <tr style=\"text-align: right;\">\n",
       "      <th></th>\n",
       "      <th>RecType</th>\n",
       "      <th>RecCount</th>\n",
       "      <th>Clusters</th>\n",
       "    </tr>\n",
       "  </thead>\n",
       "  <tbody>\n",
       "    <tr>\n",
       "      <th>0</th>\n",
       "      <td>n_isbns</td>\n",
       "      <td>0</td>\n",
       "      <td>15107783</td>\n",
       "    </tr>\n",
       "    <tr>\n",
       "      <th>1</th>\n",
       "      <td>n_isbns</td>\n",
       "      <td>1</td>\n",
       "      <td>7697118</td>\n",
       "    </tr>\n",
       "    <tr>\n",
       "      <th>2</th>\n",
       "      <td>n_isbns</td>\n",
       "      <td>2</td>\n",
       "      <td>7466668</td>\n",
       "    </tr>\n",
       "    <tr>\n",
       "      <th>3</th>\n",
       "      <td>n_isbns</td>\n",
       "      <td>4</td>\n",
       "      <td>740195</td>\n",
       "    </tr>\n",
       "    <tr>\n",
       "      <th>4</th>\n",
       "      <td>n_isbns</td>\n",
       "      <td>3</td>\n",
       "      <td>579577</td>\n",
       "    </tr>\n",
       "  </tbody>\n",
       "</table>\n",
       "</div>"
      ],
      "text/plain": [
       "   RecType  RecCount  Clusters\n",
       "0  n_isbns         0  15107783\n",
       "1  n_isbns         1   7697118\n",
       "2  n_isbns         2   7466668\n",
       "3  n_isbns         4    740195\n",
       "4  n_isbns         3    579577"
      ]
     },
     "execution_count": 7,
     "metadata": {},
     "output_type": "execute_result"
    }
   ],
   "source": [
    "size_dist = pd.concat(dict(\n",
    "    (c, clusters[c].value_counts()) for c in clusters.columns if c != 'n_nodes'\n",
    "), names=['RecType'])\n",
    "size_dist.index.set_names(['RecType', 'RecCount'], inplace=True)\n",
    "size_dist = size_dist.reset_index(name='Clusters')\n",
    "size_dist.head()"
   ]
  },
  {
   "cell_type": "code",
   "execution_count": 8,
   "id": "7c872ca8",
   "metadata": {
    "execution": {
     "iopub.execute_input": "2022-06-01T19:37:50.562450Z",
     "iopub.status.busy": "2022-06-01T19:37:50.562148Z",
     "iopub.status.idle": "2022-06-01T19:37:52.407400Z",
     "shell.execute_reply": "2022-06-01T19:37:52.406488Z"
    }
   },
   "outputs": [
    {
     "data": {
      "image/png": "[encoded data removed]",
      "text/plain": [
       "<Figure size 432x288 with 1 Axes>"
      ]
     },
     "metadata": {
      "needs_background": "light"
     },
     "output_type": "display_data"
    }
   ],
   "source": [
    "for rt, data in size_dist.groupby('RecType'):\n",
    "    plt.scatter(data['RecCount'], data['Clusters'], marker='1', label=rt)\n",
    "plt.legend()\n",
    "plt.xlabel('# of Records')\n",
    "plt.xscale('log')\n",
    "plt.ylabel('# of Clusters')\n",
    "plt.yscale('log')\n",
    "plt.show()"
   ]
  },
  {
   "cell_type": "markdown",
   "id": "f34f8b15",
   "metadata": {},
   "source": [
    "Looks mostly fine - we expect a lot of power laws - but the number of clusters with merged GoodReads works is concerning."
   ]
  },
  {
   "cell_type": "markdown",
   "id": "2fee9604",
   "metadata": {},
   "source": [
    "## GoodReads Work Merging\n",
    "\n",
    "Why are GoodReads works merging? Let's look at those."
   ]
  },
  {
   "cell_type": "code",
   "execution_count": 9,
   "id": "d95e4317",
   "metadata": {
    "execution": {
     "iopub.execute_input": "2022-06-01T19:37:52.411891Z",
     "iopub.status.busy": "2022-06-01T19:37:52.411625Z",
     "iopub.status.idle": "2022-06-01T19:37:52.478471Z",
     "shell.execute_reply": "2022-06-01T19:37:52.477532Z"
    }
   },
   "outputs": [
    {
     "name": "stdout",
     "output_type": "stream",
     "text": [
      "<class 'pandas.core.frame.DataFrame'>\n",
      "Int64Index: 8990 entries, 100026918 to 110748417\n",
      "Data columns (total 7 columns):\n",
      " #   Column         Non-Null Count  Dtype \n",
      "---  ------         --------------  ----- \n",
      " 0   n_nodes        8990 non-null   uint32\n",
      " 1   n_isbns        8990 non-null   uint32\n",
      " 2   n_loc_recs     8990 non-null   uint32\n",
      " 3   n_ol_editions  8990 non-null   uint32\n",
      " 4   n_ol_works     8990 non-null   uint32\n",
      " 5   n_gr_books     8990 non-null   uint32\n",
      " 6   n_gr_works     8990 non-null   uint32\n",
      "dtypes: uint32(7)\n",
      "memory usage: 316.1 KB\n"
     ]
    }
   ],
   "source": [
    "gr_big = clusters[clusters['n_gr_works'] > 1].sort_values('n_gr_works', ascending=False)\n",
    "gr_big.info()"
   ]
  },
  {
   "cell_type": "markdown",
   "id": "e7683f84",
   "metadata": {},
   "source": [
    "We have a lot of these clusters. What fraction of the GoodReads-affected clusters is this?"
   ]
  },
  {
   "cell_type": "code",
   "execution_count": 10,
   "id": "c6d461e3",
   "metadata": {
    "execution": {
     "iopub.execute_input": "2022-06-01T19:37:52.482481Z",
     "iopub.status.busy": "2022-06-01T19:37:52.482217Z",
     "iopub.status.idle": "2022-06-01T19:37:52.551272Z",
     "shell.execute_reply": "2022-06-01T19:37:52.550345Z"
    }
   },
   "outputs": [
    {
     "data": {
      "text/plain": [
       "0.0002793150375044907"
      ]
     },
     "execution_count": 10,
     "metadata": {},
     "output_type": "execute_result"
    }
   ],
   "source": [
    "len(gr_big) / clusters['n_gr_books'].count()"
   ]
  },
  {
   "cell_type": "markdown",
   "id": "d3134db8",
   "metadata": {},
   "source": [
    "Less than 1%. Not bad, but let's look."
   ]
  },
  {
   "cell_type": "code",
   "execution_count": 11,
   "id": "006da411",
   "metadata": {
    "execution": {
     "iopub.execute_input": "2022-06-01T19:37:52.555439Z",
     "iopub.status.busy": "2022-06-01T19:37:52.555014Z",
     "iopub.status.idle": "2022-06-01T19:37:52.568311Z",
     "shell.execute_reply": "2022-06-01T19:37:52.567433Z"
    }
   },
   "outputs": [
    {
     "data": {
      "text/html": [
       "<div>\n",
       "<style scoped>\n",
       "    .dataframe tbody tr th:only-of-type {\n",
       "        vertical-align: middle;\n",
       "    }\n",
       "\n",
       "    .dataframe tbody tr th {\n",
       "        vertical-align: top;\n",
       "    }\n",
       "\n",
       "    .dataframe thead th {\n",
       "        text-align: right;\n",
       "    }\n",
       "</style>\n",
       "<table border=\"1\" class=\"dataframe\">\n",
       "  <thead>\n",
       "    <tr style=\"text-align: right;\">\n",
       "      <th></th>\n",
       "      <th>n_nodes</th>\n",
       "      <th>n_isbns</th>\n",
       "      <th>n_loc_recs</th>\n",
       "      <th>n_ol_editions</th>\n",
       "      <th>n_ol_works</th>\n",
       "      <th>n_gr_books</th>\n",
       "      <th>n_gr_works</th>\n",
       "    </tr>\n",
       "    <tr>\n",
       "      <th>cluster</th>\n",
       "      <th></th>\n",
       "      <th></th>\n",
       "      <th></th>\n",
       "      <th></th>\n",
       "      <th></th>\n",
       "      <th></th>\n",
       "      <th></th>\n",
       "    </tr>\n",
       "  </thead>\n",
       "  <tbody>\n",
       "    <tr>\n",
       "      <th>100026918</th>\n",
       "      <td>28630</td>\n",
       "      <td>13988</td>\n",
       "      <td>673</td>\n",
       "      <td>9939</td>\n",
       "      <td>508</td>\n",
       "      <td>3390</td>\n",
       "      <td>132</td>\n",
       "    </tr>\n",
       "    <tr>\n",
       "      <th>100073294</th>\n",
       "      <td>17698</td>\n",
       "      <td>7166</td>\n",
       "      <td>494</td>\n",
       "      <td>8116</td>\n",
       "      <td>358</td>\n",
       "      <td>1476</td>\n",
       "      <td>88</td>\n",
       "    </tr>\n",
       "    <tr>\n",
       "      <th>100227025</th>\n",
       "      <td>6789</td>\n",
       "      <td>3292</td>\n",
       "      <td>192</td>\n",
       "      <td>2555</td>\n",
       "      <td>258</td>\n",
       "      <td>422</td>\n",
       "      <td>70</td>\n",
       "    </tr>\n",
       "    <tr>\n",
       "      <th>100122502</th>\n",
       "      <td>454</td>\n",
       "      <td>165</td>\n",
       "      <td>4</td>\n",
       "      <td>93</td>\n",
       "      <td>76</td>\n",
       "      <td>60</td>\n",
       "      <td>56</td>\n",
       "    </tr>\n",
       "    <tr>\n",
       "      <th>104486307</th>\n",
       "      <td>315</td>\n",
       "      <td>141</td>\n",
       "      <td>1</td>\n",
       "      <td>51</td>\n",
       "      <td>18</td>\n",
       "      <td>53</td>\n",
       "      <td>51</td>\n",
       "    </tr>\n",
       "  </tbody>\n",
       "</table>\n",
       "</div>"
      ],
      "text/plain": [
       "           n_nodes  n_isbns  n_loc_recs  n_ol_editions  n_ol_works  \\\n",
       "cluster                                                              \n",
       "100026918    28630    13988         673           9939         508   \n",
       "100073294    17698     7166         494           8116         358   \n",
       "100227025     6789     3292         192           2555         258   \n",
       "100122502      454      165           4             93          76   \n",
       "104486307      315      141           1             51          18   \n",
       "\n",
       "           n_gr_books  n_gr_works  \n",
       "cluster                            \n",
       "100026918        3390         132  \n",
       "100073294        1476          88  \n",
       "100227025         422          70  \n",
       "100122502          60          56  \n",
       "104486307          53          51  "
      ]
     },
     "execution_count": 11,
     "metadata": {},
     "output_type": "execute_result"
    }
   ],
   "source": [
    "gr_big.head()"
   ]
  },
  {
   "cell_type": "markdown",
   "id": "e0616380",
   "metadata": {},
   "source": [
    "## Large Cluster Debugging\n",
    "\n",
    "We have some pretty big clusters:"
   ]
  },
  {
   "cell_type": "code",
   "execution_count": 12,
   "id": "182c4e18",
   "metadata": {
    "execution": {
     "iopub.execute_input": "2022-06-01T19:37:52.572018Z",
     "iopub.status.busy": "2022-06-01T19:37:52.571766Z",
     "iopub.status.idle": "2022-06-01T19:37:54.329972Z",
     "shell.execute_reply": "2022-06-01T19:37:54.329054Z"
    }
   },
   "outputs": [
    {
     "data": {
      "text/html": [
       "<div>\n",
       "<style scoped>\n",
       "    .dataframe tbody tr th:only-of-type {\n",
       "        vertical-align: middle;\n",
       "    }\n",
       "\n",
       "    .dataframe tbody tr th {\n",
       "        vertical-align: top;\n",
       "    }\n",
       "\n",
       "    .dataframe thead th {\n",
       "        text-align: right;\n",
       "    }\n",
       "</style>\n",
       "<table border=\"1\" class=\"dataframe\">\n",
       "  <thead>\n",
       "    <tr style=\"text-align: right;\">\n",
       "      <th></th>\n",
       "      <th>n_nodes</th>\n",
       "      <th>n_isbns</th>\n",
       "      <th>n_loc_recs</th>\n",
       "      <th>n_ol_editions</th>\n",
       "      <th>n_ol_works</th>\n",
       "      <th>n_gr_books</th>\n",
       "      <th>n_gr_works</th>\n",
       "    </tr>\n",
       "    <tr>\n",
       "      <th>cluster</th>\n",
       "      <th></th>\n",
       "      <th></th>\n",
       "      <th></th>\n",
       "      <th></th>\n",
       "      <th></th>\n",
       "      <th></th>\n",
       "      <th></th>\n",
       "    </tr>\n",
       "  </thead>\n",
       "  <tbody>\n",
       "    <tr>\n",
       "      <th>100026918</th>\n",
       "      <td>28630</td>\n",
       "      <td>13988</td>\n",
       "      <td>673</td>\n",
       "      <td>9939</td>\n",
       "      <td>508</td>\n",
       "      <td>3390</td>\n",
       "      <td>132</td>\n",
       "    </tr>\n",
       "    <tr>\n",
       "      <th>100073294</th>\n",
       "      <td>17698</td>\n",
       "      <td>7166</td>\n",
       "      <td>494</td>\n",
       "      <td>8116</td>\n",
       "      <td>358</td>\n",
       "      <td>1476</td>\n",
       "      <td>88</td>\n",
       "    </tr>\n",
       "    <tr>\n",
       "      <th>100044980</th>\n",
       "      <td>15480</td>\n",
       "      <td>7681</td>\n",
       "      <td>186</td>\n",
       "      <td>6168</td>\n",
       "      <td>89</td>\n",
       "      <td>1333</td>\n",
       "      <td>23</td>\n",
       "    </tr>\n",
       "    <tr>\n",
       "      <th>102066477</th>\n",
       "      <td>11281</td>\n",
       "      <td>7520</td>\n",
       "      <td>0</td>\n",
       "      <td>3760</td>\n",
       "      <td>1</td>\n",
       "      <td>0</td>\n",
       "      <td>0</td>\n",
       "    </tr>\n",
       "    <tr>\n",
       "      <th>100063034</th>\n",
       "      <td>10902</td>\n",
       "      <td>5451</td>\n",
       "      <td>178</td>\n",
       "      <td>3484</td>\n",
       "      <td>145</td>\n",
       "      <td>1599</td>\n",
       "      <td>45</td>\n",
       "    </tr>\n",
       "  </tbody>\n",
       "</table>\n",
       "</div>"
      ],
      "text/plain": [
       "           n_nodes  n_isbns  n_loc_recs  n_ol_editions  n_ol_works  \\\n",
       "cluster                                                              \n",
       "100026918    28630    13988         673           9939         508   \n",
       "100073294    17698     7166         494           8116         358   \n",
       "100044980    15480     7681         186           6168          89   \n",
       "102066477    11281     7520           0           3760           1   \n",
       "100063034    10902     5451         178           3484         145   \n",
       "\n",
       "           n_gr_books  n_gr_works  \n",
       "cluster                            \n",
       "100026918        3390         132  \n",
       "100073294        1476          88  \n",
       "100044980        1333          23  \n",
       "102066477           0           0  \n",
       "100063034        1599          45  "
      ]
     },
     "execution_count": 12,
     "metadata": {},
     "output_type": "execute_result"
    }
   ],
   "source": [
    "big = clusters.nlargest(5, 'n_nodes')\n",
    "big"
   ]
  },
  {
   "cell_type": "markdown",
   "id": "890afc75",
   "metadata": {},
   "source": [
    "What is up with this? We should figure out what went wrong, if we can.  What are its ISBNs?"
   ]
  },
  {
   "cell_type": "code",
   "execution_count": 13,
   "id": "a81d381e",
   "metadata": {
    "execution": {
     "iopub.execute_input": "2022-06-01T19:37:54.334015Z",
     "iopub.status.busy": "2022-06-01T19:37:54.333747Z",
     "iopub.status.idle": "2022-06-01T19:38:14.912408Z",
     "shell.execute_reply": "2022-06-01T19:38:14.911311Z"
    }
   },
   "outputs": [
    {
     "data": {
      "text/html": [
       "<div>\n",
       "<style scoped>\n",
       "    .dataframe tbody tr th:only-of-type {\n",
       "        vertical-align: middle;\n",
       "    }\n",
       "\n",
       "    .dataframe tbody tr th {\n",
       "        vertical-align: top;\n",
       "    }\n",
       "\n",
       "    .dataframe thead th {\n",
       "        text-align: right;\n",
       "    }\n",
       "</style>\n",
       "<table border=\"1\" class=\"dataframe\">\n",
       "  <thead>\n",
       "    <tr style=\"text-align: right;\">\n",
       "      <th></th>\n",
       "      <th>isbn</th>\n",
       "      <th>AZ14</th>\n",
       "      <th>OL</th>\n",
       "      <th>BX</th>\n",
       "      <th>LOC</th>\n",
       "      <th>GR</th>\n",
       "    </tr>\n",
       "    <tr>\n",
       "      <th>isbn_id</th>\n",
       "      <th></th>\n",
       "      <th></th>\n",
       "      <th></th>\n",
       "      <th></th>\n",
       "      <th></th>\n",
       "      <th></th>\n",
       "    </tr>\n",
       "  </thead>\n",
       "  <tbody>\n",
       "    <tr>\n",
       "      <th>1</th>\n",
       "      <td>0000000116</td>\n",
       "      <td>2</td>\n",
       "      <td>0</td>\n",
       "      <td>0</td>\n",
       "      <td>0</td>\n",
       "      <td>0</td>\n",
       "    </tr>\n",
       "    <tr>\n",
       "      <th>2</th>\n",
       "      <td>0000000868</td>\n",
       "      <td>1</td>\n",
       "      <td>0</td>\n",
       "      <td>0</td>\n",
       "      <td>0</td>\n",
       "      <td>0</td>\n",
       "    </tr>\n",
       "    <tr>\n",
       "      <th>3</th>\n",
       "      <td>0000013714</td>\n",
       "      <td>14</td>\n",
       "      <td>0</td>\n",
       "      <td>0</td>\n",
       "      <td>0</td>\n",
       "      <td>0</td>\n",
       "    </tr>\n",
       "    <tr>\n",
       "      <th>4</th>\n",
       "      <td>0000015393</td>\n",
       "      <td>1</td>\n",
       "      <td>0</td>\n",
       "      <td>0</td>\n",
       "      <td>0</td>\n",
       "      <td>0</td>\n",
       "    </tr>\n",
       "    <tr>\n",
       "      <th>5</th>\n",
       "      <td>0000029831</td>\n",
       "      <td>5</td>\n",
       "      <td>0</td>\n",
       "      <td>0</td>\n",
       "      <td>0</td>\n",
       "      <td>0</td>\n",
       "    </tr>\n",
       "  </tbody>\n",
       "</table>\n",
       "</div>"
      ],
      "text/plain": [
       "               isbn  AZ14  OL  BX  LOC  GR\n",
       "isbn_id                                   \n",
       "1        0000000116     2   0   0    0   0\n",
       "2        0000000868     1   0   0    0   0\n",
       "3        0000013714    14   0   0    0   0\n",
       "4        0000015393     1   0   0    0   0\n",
       "5        0000029831     5   0   0    0   0"
      ]
     },
     "execution_count": 13,
     "metadata": {},
     "output_type": "execute_result"
    }
   ],
   "source": [
    "isbns = pd.read_parquet('book-links/all-isbns.parquet').set_index('isbn_id')\n",
    "isbns.head()"
   ]
  },
  {
   "cell_type": "code",
   "execution_count": 14,
   "id": "b68f5d63",
   "metadata": {
    "execution": {
     "iopub.execute_input": "2022-06-01T19:38:14.916706Z",
     "iopub.status.busy": "2022-06-01T19:38:14.916426Z",
     "iopub.status.idle": "2022-06-01T19:38:15.669978Z",
     "shell.execute_reply": "2022-06-01T19:38:15.668492Z"
    }
   },
   "outputs": [
    {
     "data": {
      "text/html": [
       "<div>\n",
       "<style scoped>\n",
       "    .dataframe tbody tr th:only-of-type {\n",
       "        vertical-align: middle;\n",
       "    }\n",
       "\n",
       "    .dataframe tbody tr th {\n",
       "        vertical-align: top;\n",
       "    }\n",
       "\n",
       "    .dataframe thead th {\n",
       "        text-align: right;\n",
       "    }\n",
       "</style>\n",
       "<table border=\"1\" class=\"dataframe\">\n",
       "  <thead>\n",
       "    <tr style=\"text-align: right;\">\n",
       "      <th></th>\n",
       "      <th>isbn_id</th>\n",
       "      <th>cluster</th>\n",
       "    </tr>\n",
       "  </thead>\n",
       "  <tbody>\n",
       "    <tr>\n",
       "      <th>0</th>\n",
       "      <td>32715079</td>\n",
       "      <td>932715079</td>\n",
       "    </tr>\n",
       "    <tr>\n",
       "      <th>1</th>\n",
       "      <td>32715078</td>\n",
       "      <td>932715078</td>\n",
       "    </tr>\n",
       "    <tr>\n",
       "      <th>2</th>\n",
       "      <td>32715077</td>\n",
       "      <td>932715077</td>\n",
       "    </tr>\n",
       "    <tr>\n",
       "      <th>3</th>\n",
       "      <td>32715076</td>\n",
       "      <td>932715076</td>\n",
       "    </tr>\n",
       "    <tr>\n",
       "      <th>4</th>\n",
       "      <td>32715075</td>\n",
       "      <td>932715075</td>\n",
       "    </tr>\n",
       "  </tbody>\n",
       "</table>\n",
       "</div>"
      ],
      "text/plain": [
       "    isbn_id    cluster\n",
       "0  32715079  932715079\n",
       "1  32715078  932715078\n",
       "2  32715077  932715077\n",
       "3  32715076  932715076\n",
       "4  32715075  932715075"
      ]
     },
     "execution_count": 14,
     "metadata": {},
     "output_type": "execute_result"
    }
   ],
   "source": [
    "links = pd.read_parquet('book-links/isbn-clusters.parquet', columns=['isbn_id', 'cluster'])\n",
    "links.head()"
   ]
  },
  {
   "cell_type": "code",
   "execution_count": 15,
   "id": "de8c2e28",
   "metadata": {
    "execution": {
     "iopub.execute_input": "2022-06-01T19:38:15.677393Z",
     "iopub.status.busy": "2022-06-01T19:38:15.676759Z",
     "iopub.status.idle": "2022-06-01T19:38:24.787302Z",
     "shell.execute_reply": "2022-06-01T19:38:24.786483Z"
    }
   },
   "outputs": [
    {
     "data": {
      "text/html": [
       "<div>\n",
       "<style scoped>\n",
       "    .dataframe tbody tr th:only-of-type {\n",
       "        vertical-align: middle;\n",
       "    }\n",
       "\n",
       "    .dataframe tbody tr th {\n",
       "        vertical-align: top;\n",
       "    }\n",
       "\n",
       "    .dataframe thead th {\n",
       "        text-align: right;\n",
       "    }\n",
       "</style>\n",
       "<table border=\"1\" class=\"dataframe\">\n",
       "  <thead>\n",
       "    <tr style=\"text-align: right;\">\n",
       "      <th></th>\n",
       "      <th>isbn_id</th>\n",
       "      <th>isbn</th>\n",
       "      <th>AZ14</th>\n",
       "      <th>OL</th>\n",
       "      <th>BX</th>\n",
       "      <th>LOC</th>\n",
       "      <th>GR</th>\n",
       "    </tr>\n",
       "  </thead>\n",
       "  <tbody>\n",
       "    <tr>\n",
       "      <th>32677720</th>\n",
       "      <td>14139358</td>\n",
       "      <td>0001004735</td>\n",
       "      <td>0</td>\n",
       "      <td>1</td>\n",
       "      <td>0</td>\n",
       "      <td>0</td>\n",
       "      <td>0</td>\n",
       "    </tr>\n",
       "    <tr>\n",
       "      <th>32671958</th>\n",
       "      <td>8857815</td>\n",
       "      <td>0001848259</td>\n",
       "      <td>0</td>\n",
       "      <td>1</td>\n",
       "      <td>0</td>\n",
       "      <td>0</td>\n",
       "      <td>0</td>\n",
       "    </tr>\n",
       "    <tr>\n",
       "      <th>32675452</th>\n",
       "      <td>8663707</td>\n",
       "      <td>0001849123</td>\n",
       "      <td>0</td>\n",
       "      <td>1</td>\n",
       "      <td>0</td>\n",
       "      <td>0</td>\n",
       "      <td>0</td>\n",
       "    </tr>\n",
       "    <tr>\n",
       "      <th>32673099</th>\n",
       "      <td>13112889</td>\n",
       "      <td>0001956795</td>\n",
       "      <td>0</td>\n",
       "      <td>1</td>\n",
       "      <td>0</td>\n",
       "      <td>0</td>\n",
       "      <td>0</td>\n",
       "    </tr>\n",
       "    <tr>\n",
       "      <th>32671173</th>\n",
       "      <td>4013294</td>\n",
       "      <td>0003302245</td>\n",
       "      <td>0</td>\n",
       "      <td>1</td>\n",
       "      <td>0</td>\n",
       "      <td>0</td>\n",
       "      <td>0</td>\n",
       "    </tr>\n",
       "    <tr>\n",
       "      <th>...</th>\n",
       "      <td>...</td>\n",
       "      <td>...</td>\n",
       "      <td>...</td>\n",
       "      <td>...</td>\n",
       "      <td>...</td>\n",
       "      <td>...</td>\n",
       "      <td>...</td>\n",
       "    </tr>\n",
       "    <tr>\n",
       "      <th>32673857</th>\n",
       "      <td>10739429</td>\n",
       "      <td>9998392802</td>\n",
       "      <td>0</td>\n",
       "      <td>1</td>\n",
       "      <td>0</td>\n",
       "      <td>0</td>\n",
       "      <td>0</td>\n",
       "    </tr>\n",
       "    <tr>\n",
       "      <th>32671813</th>\n",
       "      <td>27490539</td>\n",
       "      <td>9998556643</td>\n",
       "      <td>0</td>\n",
       "      <td>1</td>\n",
       "      <td>0</td>\n",
       "      <td>0</td>\n",
       "      <td>0</td>\n",
       "    </tr>\n",
       "    <tr>\n",
       "      <th>32665591</th>\n",
       "      <td>5471379</td>\n",
       "      <td>9998651174</td>\n",
       "      <td>0</td>\n",
       "      <td>1</td>\n",
       "      <td>0</td>\n",
       "      <td>0</td>\n",
       "      <td>0</td>\n",
       "    </tr>\n",
       "    <tr>\n",
       "      <th>32673279</th>\n",
       "      <td>21160208</td>\n",
       "      <td>9998708710</td>\n",
       "      <td>0</td>\n",
       "      <td>1</td>\n",
       "      <td>0</td>\n",
       "      <td>0</td>\n",
       "      <td>0</td>\n",
       "    </tr>\n",
       "    <tr>\n",
       "      <th>32667051</th>\n",
       "      <td>19077087</td>\n",
       "      <td>9998884985</td>\n",
       "      <td>0</td>\n",
       "      <td>1</td>\n",
       "      <td>0</td>\n",
       "      <td>0</td>\n",
       "      <td>0</td>\n",
       "    </tr>\n",
       "  </tbody>\n",
       "</table>\n",
       "<p>13988 rows × 7 columns</p>\n",
       "</div>"
      ],
      "text/plain": [
       "           isbn_id        isbn  AZ14  OL  BX  LOC  GR\n",
       "32677720  14139358  0001004735     0   1   0    0   0\n",
       "32671958   8857815  0001848259     0   1   0    0   0\n",
       "32675452   8663707  0001849123     0   1   0    0   0\n",
       "32673099  13112889  0001956795     0   1   0    0   0\n",
       "32671173   4013294  0003302245     0   1   0    0   0\n",
       "...            ...         ...   ...  ..  ..  ...  ..\n",
       "32673857  10739429  9998392802     0   1   0    0   0\n",
       "32671813  27490539  9998556643     0   1   0    0   0\n",
       "32665591   5471379  9998651174     0   1   0    0   0\n",
       "32673279  21160208  9998708710     0   1   0    0   0\n",
       "32667051  19077087  9998884985     0   1   0    0   0\n",
       "\n",
       "[13988 rows x 7 columns]"
      ]
     },
     "execution_count": 15,
     "metadata": {},
     "output_type": "execute_result"
    }
   ],
   "source": [
    "big_id = big.index[0]\n",
    "bl = links[links['cluster'] == big_id].drop(columns=['cluster'])\n",
    "bl = bl.join(isbns, on='isbn_id')\n",
    "bl.sort_values('isbn')"
   ]
  },
  {
   "cell_type": "markdown",
   "id": "b21467b8",
   "metadata": {},
   "source": [
    "What are the things with the highest record count (besides ratings)?"
   ]
  },
  {
   "cell_type": "code",
   "execution_count": 16,
   "id": "fa4102e6",
   "metadata": {
    "execution": {
     "iopub.execute_input": "2022-06-01T19:38:24.790700Z",
     "iopub.status.busy": "2022-06-01T19:38:24.790464Z",
     "iopub.status.idle": "2022-06-01T19:38:24.808676Z",
     "shell.execute_reply": "2022-06-01T19:38:24.808025Z"
    }
   },
   "outputs": [
    {
     "data": {
      "text/html": [
       "<div>\n",
       "<style scoped>\n",
       "    .dataframe tbody tr th:only-of-type {\n",
       "        vertical-align: middle;\n",
       "    }\n",
       "\n",
       "    .dataframe tbody tr th {\n",
       "        vertical-align: top;\n",
       "    }\n",
       "\n",
       "    .dataframe thead th {\n",
       "        text-align: right;\n",
       "    }\n",
       "</style>\n",
       "<table border=\"1\" class=\"dataframe\">\n",
       "  <thead>\n",
       "    <tr style=\"text-align: right;\">\n",
       "      <th></th>\n",
       "      <th>isbn_id</th>\n",
       "      <th>isbn</th>\n",
       "      <th>AZ14</th>\n",
       "      <th>OL</th>\n",
       "      <th>BX</th>\n",
       "      <th>LOC</th>\n",
       "      <th>GR</th>\n",
       "      <th>btot</th>\n",
       "    </tr>\n",
       "  </thead>\n",
       "  <tbody>\n",
       "    <tr>\n",
       "      <th>32670891</th>\n",
       "      <td>79766</td>\n",
       "      <td>014143984X</td>\n",
       "      <td>1614</td>\n",
       "      <td>3</td>\n",
       "      <td>9</td>\n",
       "      <td>1</td>\n",
       "      <td>1</td>\n",
       "      <td>1626</td>\n",
       "    </tr>\n",
       "    <tr>\n",
       "      <th>32673564</th>\n",
       "      <td>79762</td>\n",
       "      <td>0141439769</td>\n",
       "      <td>1353</td>\n",
       "      <td>1</td>\n",
       "      <td>2</td>\n",
       "      <td>0</td>\n",
       "      <td>1</td>\n",
       "      <td>1356</td>\n",
       "    </tr>\n",
       "    <tr>\n",
       "      <th>32669067</th>\n",
       "      <td>78216</td>\n",
       "      <td>0140621199</td>\n",
       "      <td>1185</td>\n",
       "      <td>2</td>\n",
       "      <td>18</td>\n",
       "      <td>0</td>\n",
       "      <td>1</td>\n",
       "      <td>1205</td>\n",
       "    </tr>\n",
       "    <tr>\n",
       "      <th>32665008</th>\n",
       "      <td>76573</td>\n",
       "      <td>0140390839</td>\n",
       "      <td>993</td>\n",
       "      <td>1</td>\n",
       "      <td>11</td>\n",
       "      <td>0</td>\n",
       "      <td>1</td>\n",
       "      <td>1005</td>\n",
       "    </tr>\n",
       "    <tr>\n",
       "      <th>32676123</th>\n",
       "      <td>32522</td>\n",
       "      <td>006440188X</td>\n",
       "      <td>549</td>\n",
       "      <td>2</td>\n",
       "      <td>50</td>\n",
       "      <td>0</td>\n",
       "      <td>1</td>\n",
       "      <td>601</td>\n",
       "    </tr>\n",
       "    <tr>\n",
       "      <th>32667944</th>\n",
       "      <td>79503</td>\n",
       "      <td>0141321008</td>\n",
       "      <td>509</td>\n",
       "      <td>1</td>\n",
       "      <td>0</td>\n",
       "      <td>0</td>\n",
       "      <td>1</td>\n",
       "      <td>510</td>\n",
       "    </tr>\n",
       "    <tr>\n",
       "      <th>32674957</th>\n",
       "      <td>101513</td>\n",
       "      <td>0199538794</td>\n",
       "      <td>363</td>\n",
       "      <td>0</td>\n",
       "      <td>0</td>\n",
       "      <td>0</td>\n",
       "      <td>1</td>\n",
       "      <td>363</td>\n",
       "    </tr>\n",
       "    <tr>\n",
       "      <th>32675278</th>\n",
       "      <td>76235</td>\n",
       "      <td>0140366679</td>\n",
       "      <td>276</td>\n",
       "      <td>1</td>\n",
       "      <td>14</td>\n",
       "      <td>0</td>\n",
       "      <td>1</td>\n",
       "      <td>291</td>\n",
       "    </tr>\n",
       "    <tr>\n",
       "      <th>32671988</th>\n",
       "      <td>76249</td>\n",
       "      <td>0140367217</td>\n",
       "      <td>256</td>\n",
       "      <td>2</td>\n",
       "      <td>7</td>\n",
       "      <td>0</td>\n",
       "      <td>1</td>\n",
       "      <td>265</td>\n",
       "    </tr>\n",
       "    <tr>\n",
       "      <th>32676289</th>\n",
       "      <td>32521</td>\n",
       "      <td>0064401871</td>\n",
       "      <td>202</td>\n",
       "      <td>1</td>\n",
       "      <td>28</td>\n",
       "      <td>0</td>\n",
       "      <td>1</td>\n",
       "      <td>231</td>\n",
       "    </tr>\n",
       "    <tr>\n",
       "      <th>32664830</th>\n",
       "      <td>2976972</td>\n",
       "      <td>1559029838</td>\n",
       "      <td>0</td>\n",
       "      <td>14</td>\n",
       "      <td>180</td>\n",
       "      <td>0</td>\n",
       "      <td>1</td>\n",
       "      <td>194</td>\n",
       "    </tr>\n",
       "    <tr>\n",
       "      <th>32666908</th>\n",
       "      <td>76539</td>\n",
       "      <td>0140390057</td>\n",
       "      <td>177</td>\n",
       "      <td>1</td>\n",
       "      <td>2</td>\n",
       "      <td>1</td>\n",
       "      <td>1</td>\n",
       "      <td>180</td>\n",
       "    </tr>\n",
       "    <tr>\n",
       "      <th>32666608</th>\n",
       "      <td>72297</td>\n",
       "      <td>0140022651</td>\n",
       "      <td>162</td>\n",
       "      <td>1</td>\n",
       "      <td>15</td>\n",
       "      <td>0</td>\n",
       "      <td>1</td>\n",
       "      <td>178</td>\n",
       "    </tr>\n",
       "    <tr>\n",
       "      <th>32673725</th>\n",
       "      <td>323526</td>\n",
       "      <td>0486408787</td>\n",
       "      <td>165</td>\n",
       "      <td>1</td>\n",
       "      <td>8</td>\n",
       "      <td>1</td>\n",
       "      <td>1</td>\n",
       "      <td>174</td>\n",
       "    </tr>\n",
       "    <tr>\n",
       "      <th>32674578</th>\n",
       "      <td>79539</td>\n",
       "      <td>0141325291</td>\n",
       "      <td>174</td>\n",
       "      <td>0</td>\n",
       "      <td>0</td>\n",
       "      <td>0</td>\n",
       "      <td>1</td>\n",
       "      <td>174</td>\n",
       "    </tr>\n",
       "    <tr>\n",
       "      <th>32672651</th>\n",
       "      <td>77341</td>\n",
       "      <td>014044906X</td>\n",
       "      <td>141</td>\n",
       "      <td>1</td>\n",
       "      <td>1</td>\n",
       "      <td>1</td>\n",
       "      <td>1</td>\n",
       "      <td>143</td>\n",
       "    </tr>\n",
       "    <tr>\n",
       "      <th>32674093</th>\n",
       "      <td>237758</td>\n",
       "      <td>0393048470</td>\n",
       "      <td>119</td>\n",
       "      <td>3</td>\n",
       "      <td>4</td>\n",
       "      <td>1</td>\n",
       "      <td>1</td>\n",
       "      <td>126</td>\n",
       "    </tr>\n",
       "    <tr>\n",
       "      <th>32665166</th>\n",
       "      <td>1184458</td>\n",
       "      <td>1463698720</td>\n",
       "      <td>85</td>\n",
       "      <td>1</td>\n",
       "      <td>0</td>\n",
       "      <td>0</td>\n",
       "      <td>0</td>\n",
       "      <td>86</td>\n",
       "    </tr>\n",
       "    <tr>\n",
       "      <th>32668854</th>\n",
       "      <td>296858</td>\n",
       "      <td>0451522842</td>\n",
       "      <td>75</td>\n",
       "      <td>1</td>\n",
       "      <td>2</td>\n",
       "      <td>0</td>\n",
       "      <td>1</td>\n",
       "      <td>78</td>\n",
       "    </tr>\n",
       "    <tr>\n",
       "      <th>32675822</th>\n",
       "      <td>296957</td>\n",
       "      <td>0451528832</td>\n",
       "      <td>72</td>\n",
       "      <td>1</td>\n",
       "      <td>0</td>\n",
       "      <td>1</td>\n",
       "      <td>1</td>\n",
       "      <td>73</td>\n",
       "    </tr>\n",
       "  </tbody>\n",
       "</table>\n",
       "</div>"
      ],
      "text/plain": [
       "          isbn_id        isbn  AZ14  OL   BX  LOC  GR  btot\n",
       "32670891    79766  014143984X  1614   3    9    1   1  1626\n",
       "32673564    79762  0141439769  1353   1    2    0   1  1356\n",
       "32669067    78216  0140621199  1185   2   18    0   1  1205\n",
       "32665008    76573  0140390839   993   1   11    0   1  1005\n",
       "32676123    32522  006440188X   549   2   50    0   1   601\n",
       "32667944    79503  0141321008   509   1    0    0   1   510\n",
       "32674957   101513  0199538794   363   0    0    0   1   363\n",
       "32675278    76235  0140366679   276   1   14    0   1   291\n",
       "32671988    76249  0140367217   256   2    7    0   1   265\n",
       "32676289    32521  0064401871   202   1   28    0   1   231\n",
       "32664830  2976972  1559029838     0  14  180    0   1   194\n",
       "32666908    76539  0140390057   177   1    2    1   1   180\n",
       "32666608    72297  0140022651   162   1   15    0   1   178\n",
       "32673725   323526  0486408787   165   1    8    1   1   174\n",
       "32674578    79539  0141325291   174   0    0    0   1   174\n",
       "32672651    77341  014044906X   141   1    1    1   1   143\n",
       "32674093   237758  0393048470   119   3    4    1   1   126\n",
       "32665166  1184458  1463698720    85   1    0    0   0    86\n",
       "32668854   296858  0451522842    75   1    2    0   1    78\n",
       "32675822   296957  0451528832    72   1    0    1   1    73"
      ]
     },
     "execution_count": 16,
     "metadata": {},
     "output_type": "execute_result"
    }
   ],
   "source": [
    "bl['btot'] = bl.iloc[:, 2:-2].sum(axis=1)\n",
    "bl.nlargest(20, 'btot')"
   ]
  },
  {
   "cell_type": "code",
   "execution_count": null,
   "id": "53175561",
   "metadata": {},
   "outputs": [],
   "source": []
  }
 ],
 "metadata": {
  "jupytext": {
   "formats": "ipynb,py:percent"
  },
  "kernelspec": {
   "display_name": "Python 3 (ipykernel)",
   "language": "python",
   "name": "python3"
  },
  "language_info": {
   "codemirror_mode": {
    "name": "ipython",
    "version": 3
   },
   "file_extension": ".py",
   "mimetype": "text/x-python",
   "name": "python",
   "nbconvert_exporter": "python",
   "pygments_lexer": "ipython3",
   "version": "3.8.12"
  }
 },
 "nbformat": 4,
 "nbformat_minor": 5
}
