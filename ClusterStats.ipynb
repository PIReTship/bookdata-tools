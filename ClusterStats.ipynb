{
 "cells": [
  {
   "cell_type": "raw",
   "id": "f9c391d9",
   "metadata": {},
   "source": [
    "---\n",
    "title: Book Clustering Statistics\n",
    "---"
   ]
  },
  {
   "cell_type": "markdown",
   "id": "16363b59",
   "metadata": {},
   "source": [
    "This notebook provides statistics on the results of our book clustering.\n",
    "\n",
    "\n",
    "## Setup\n"
   ]
  },
  {
   "cell_type": "code",
   "execution_count": 1,
   "id": "5aee56f3",
   "metadata": {},
   "outputs": [
    {
     "name": "stderr",
     "output_type": "stream",
     "text": [
      "── \u001b[1mAttaching core tidyverse packages\u001b[22m ──────────────────────── tidyverse 2.0.0 ──\n",
      "\u001b[32m✔\u001b[39m \u001b[34mdplyr    \u001b[39m 1.1.4     \u001b[32m✔\u001b[39m \u001b[34mreadr    \u001b[39m 2.1.5\n",
      "\u001b[32m✔\u001b[39m \u001b[34mforcats  \u001b[39m 1.0.0     \u001b[32m✔\u001b[39m \u001b[34mstringr  \u001b[39m 1.5.1\n",
      "\u001b[32m✔\u001b[39m \u001b[34mggplot2  \u001b[39m 3.4.4     \u001b[32m✔\u001b[39m \u001b[34mtibble   \u001b[39m 3.2.1\n",
      "\u001b[32m✔\u001b[39m \u001b[34mlubridate\u001b[39m 1.9.3     \u001b[32m✔\u001b[39m \u001b[34mtidyr    \u001b[39m 1.3.1\n",
      "\u001b[32m✔\u001b[39m \u001b[34mpurrr    \u001b[39m 1.0.2     \n"
     ]
    },
    {
     "name": "stderr",
     "output_type": "stream",
     "text": [
      "── \u001b[1mConflicts\u001b[22m ────────────────────────────────────────── tidyverse_conflicts() ──\n",
      "\u001b[31m✖\u001b[39m \u001b[34mdplyr\u001b[39m::\u001b[32mfilter()\u001b[39m masks \u001b[34mstats\u001b[39m::filter()\n",
      "\u001b[31m✖\u001b[39m \u001b[34mdplyr\u001b[39m::\u001b[32mlag()\u001b[39m    masks \u001b[34mstats\u001b[39m::lag()\n",
      "\u001b[36mℹ\u001b[39m Use the conflicted package (\u001b[3m\u001b[34m<http://conflicted.r-lib.org/>\u001b[39m\u001b[23m) to force all conflicts to become errors\n"
     ]
    }
   ],
   "source": [
    "library(tidyverse, warn.conflicts=FALSE)\n",
    "library(arrow, warn.conflicts=FALSE)"
   ]
  },
  {
   "cell_type": "markdown",
   "id": "8cddfa8c",
   "metadata": {},
   "source": [
    "I want to use `theme_minimal()` by default:\n"
   ]
  },
  {
   "cell_type": "code",
   "execution_count": 2,
   "id": "102edec1",
   "metadata": {},
   "outputs": [],
   "source": [
    "theme_set(theme_minimal())"
   ]
  },
  {
   "cell_type": "markdown",
   "id": "3246ada4",
   "metadata": {},
   "source": [
    "And default image sizes aren't great:\n"
   ]
  },
  {
   "cell_type": "code",
   "execution_count": 3,
   "id": "0ef52c30",
   "metadata": {},
   "outputs": [],
   "source": [
    "options(repr.plot.width  = 7,\n",
    "        repr.plot.height = 4)"
   ]
  },
  {
   "cell_type": "markdown",
   "id": "479c5e31",
   "metadata": {},
   "source": [
    "## Load Data\n",
    "\n",
    "Let's start by getting our clusters and their statistics:\n"
   ]
  },
  {
   "cell_type": "code",
   "execution_count": 4,
   "id": "43619a95",
   "metadata": {},
   "outputs": [
    {
     "name": "stdout",
     "output_type": "stream",
     "text": [
      "Table\n",
      "41,149,070 rows x 8 columns\n",
      "$ cluster        \u001b[3m\u001b[90m<int32>\u001b[39m\u001b[23m 423896385, 454491654, 424930878, 449145631, 440372971, …\n",
      "$ n_nodes       \u001b[3m\u001b[90m<uint32>\u001b[39m\u001b[23m 2, 2, 2, 2, 2, 2, 2, 2, 2, 2, 2, 2, 2, 2, 2, 2, 2, 2, 2…\n",
      "$ n_isbns       \u001b[3m\u001b[90m<uint32>\u001b[39m\u001b[23m 0, 0, 0, 0, 0, 0, 0, 0, 0, 0, 0, 0, 0, 0, 0, 0, 0, 0, 0…\n",
      "$ n_loc_recs    \u001b[3m\u001b[90m<uint32>\u001b[39m\u001b[23m 0, 0, 0, 0, 0, 0, 0, 0, 0, 0, 0, 0, 0, 0, 0, 0, 0, 0, 0…\n",
      "$ n_ol_editions \u001b[3m\u001b[90m<uint32>\u001b[39m\u001b[23m 0, 0, 0, 0, 0, 0, 0, 0, 0, 0, 0, 0, 0, 0, 0, 0, 0, 0, 0…\n",
      "$ n_ol_works    \u001b[3m\u001b[90m<uint32>\u001b[39m\u001b[23m 0, 0, 0, 0, 0, 0, 0, 0, 0, 0, 0, 0, 0, 0, 0, 0, 0, 0, 0…\n",
      "$ n_gr_books    \u001b[3m\u001b[90m<uint32>\u001b[39m\u001b[23m 1, 1, 1, 1, 1, 1, 1, 1, 1, 1, 1, 1, 1, 1, 1, 1, 1, 1, 1…\n",
      "$ n_gr_works    \u001b[3m\u001b[90m<uint32>\u001b[39m\u001b[23m 1, 1, 1, 1, 1, 1, 1, 1, 1, 1, 1, 1, 1, 1, 1, 1, 1, 1, 1…\n"
     ]
    }
   ],
   "source": [
    "clusters = read_parquet(\"book-links/cluster-stats.parquet\", as_data_frame=FALSE)\n",
    "glimpse(clusters)"
   ]
  },
  {
   "cell_type": "markdown",
   "id": "b5f9f949",
   "metadata": {},
   "source": [
    "Describe the count columns for basic descriptive stats:\n"
   ]
  },
  {
   "cell_type": "code",
   "execution_count": 5,
   "id": "b04dba65",
   "metadata": {},
   "outputs": [
    {
     "data": {
      "text/plain": [
       "    n_nodes             n_isbns           n_loc_recs       n_ol_editions     \n",
       " Min.   :     1.00   Min.   :    0.00   Min.   :   0.000   Min.   :    0.00  \n",
       " 1st Qu.:     2.00   1st Qu.:    0.00   1st Qu.:   0.000   1st Qu.:    1.00  \n",
       " Median :     3.00   Median :    1.00   Median :   0.000   Median :    1.00  \n",
       " Mean   :     3.38   Mean   :    1.08   Mean   :   0.235   Mean   :    1.14  \n",
       " 3rd Qu.:     4.00   3rd Qu.:    2.00   3rd Qu.:   0.000   3rd Qu.:    1.00  \n",
       " Max.   :106334.00   Max.   :51481.00   Max.   :1439.000   Max.   :44567.00  \n",
       "   n_ol_works          n_gr_books         n_gr_works       \n",
       " Min.   :   0.0000   Min.   :   0.000   Min.   :  0.00000  \n",
       " 1st Qu.:   1.0000   1st Qu.:   0.000   1st Qu.:  0.00000  \n",
       " Median :   1.0000   Median :   0.000   Median :  0.00000  \n",
       " Mean   :   0.8319   Mean   :   0.057   Mean   :  0.03699  \n",
       " 3rd Qu.:   1.0000   3rd Qu.:   0.000   3rd Qu.:  0.00000  \n",
       " Max.   :2329.0000   Max.   :7378.000   Max.   :295.00000  "
      ]
     },
     "metadata": {},
     "output_type": "display_data"
    }
   ],
   "source": [
    "clusters %>%\n",
    "  select(-cluster) %>%\n",
    "  collect() %>%\n",
    "  summary()"
   ]
  },
  {
   "cell_type": "markdown",
   "id": "64e2d679",
   "metadata": {},
   "source": [
    "75% of clusters only contain 2 ISBNs (probably -10 and -13) and one book. OpenLibrary also contributes to the largest number of clusters.\n",
    "\n",
    "## Clusters per Source\n",
    "\n",
    "How many clusters are connected to each source?\n"
   ]
  },
  {
   "cell_type": "code",
   "execution_count": 6,
   "id": "3adaa1a2",
   "metadata": {},
   "outputs": [
    {
     "data": {
      "text/html": [
       "<table class=\"dataframe\">\n",
       "<caption>A tibble: 7 × 2</caption>\n",
       "<thead>\n",
       "\t<tr><th scope=col>source</th><th scope=col>count</th></tr>\n",
       "\t<tr><th scope=col>&lt;chr&gt;</th><th scope=col>&lt;int&gt;</th></tr>\n",
       "</thead>\n",
       "<tbody>\n",
       "\t<tr><td>n_nodes      </td><td>41149070</td></tr>\n",
       "\t<tr><td>n_isbns      </td><td>24073256</td></tr>\n",
       "\t<tr><td>n_loc_recs   </td><td> 9277944</td></tr>\n",
       "\t<tr><td>n_ol_editions</td><td>34655323</td></tr>\n",
       "\t<tr><td>n_ol_works   </td><td>32823913</td></tr>\n",
       "\t<tr><td>n_gr_books   </td><td> 1505224</td></tr>\n",
       "\t<tr><td>n_gr_works   </td><td> 1504700</td></tr>\n",
       "</tbody>\n",
       "</table>\n"
      ],
      "text/latex": [
       "A tibble: 7 × 2\n",
       "\\begin{tabular}{ll}\n",
       " source & count\\\\\n",
       " <chr> & <int>\\\\\n",
       "\\hline\n",
       "\t n\\_nodes       & 41149070\\\\\n",
       "\t n\\_isbns       & 24073256\\\\\n",
       "\t n\\_loc\\_recs    &  9277944\\\\\n",
       "\t n\\_ol\\_editions & 34655323\\\\\n",
       "\t n\\_ol\\_works    & 32823913\\\\\n",
       "\t n\\_gr\\_books    &  1505224\\\\\n",
       "\t n\\_gr\\_works    &  1504700\\\\\n",
       "\\end{tabular}\n"
      ],
      "text/markdown": [
       "\n",
       "A tibble: 7 × 2\n",
       "\n",
       "| source &lt;chr&gt; | count &lt;int&gt; |\n",
       "|---|---|\n",
       "| n_nodes       | 41149070 |\n",
       "| n_isbns       | 24073256 |\n",
       "| n_loc_recs    |  9277944 |\n",
       "| n_ol_editions | 34655323 |\n",
       "| n_ol_works    | 32823913 |\n",
       "| n_gr_books    |  1505224 |\n",
       "| n_gr_works    |  1504700 |\n",
       "\n"
      ],
      "text/plain": [
       "  source        count   \n",
       "1 n_nodes       41149070\n",
       "2 n_isbns       24073256\n",
       "3 n_loc_recs     9277944\n",
       "4 n_ol_editions 34655323\n",
       "5 n_ol_works    32823913\n",
       "6 n_gr_books     1505224\n",
       "7 n_gr_works     1504700"
      ]
     },
     "metadata": {},
     "output_type": "display_data"
    }
   ],
   "source": [
    "src_counts = clusters %>%\n",
    "  summarize(across(-cluster, ~ sum(.x > 0))) %>%\n",
    "  collect() %>%\n",
    "  pivot_longer(everything(), names_to=\"source\", values_to=\"count\")\n",
    "src_counts"
   ]
  },
  {
   "cell_type": "code",
   "execution_count": 7,
   "id": "88365d76",
   "metadata": {},
   "outputs": [
    {
     "data": {
      "image/png": "[encoded data removed]",
      "text/plain": [
       "plot without title"
      ]
     },
     "metadata": {
      "image/png": {
       "height": 240,
       "width": 420
      }
     },
     "output_type": "display_data"
    }
   ],
   "source": [
    "ggplot(src_counts, aes(y=source, x=count)) +\n",
    "  geom_bar(stat='identity')"
   ]
  },
  {
   "cell_type": "markdown",
   "id": "93ebda89",
   "metadata": {},
   "source": [
    "## Distributions\n",
    "\n",
    "Let's look at the distributions of cluster sizes.  Let's first compute histograms\n",
    "of the number of records per cluster for each cluster type.\n"
   ]
  },
  {
   "cell_type": "code",
   "execution_count": 8,
   "id": "27b2901e",
   "metadata": {},
   "outputs": [
    {
     "data": {
      "text/html": [
       "<table class=\"dataframe\">\n",
       "<caption>A tibble: 6 × 3</caption>\n",
       "<thead>\n",
       "\t<tr><th scope=col>rec_type</th><th scope=col>nrecs</th><th scope=col>count</th></tr>\n",
       "\t<tr><th scope=col>&lt;fct&gt;</th><th scope=col>&lt;int&gt;</th><th scope=col>&lt;int&gt;</th></tr>\n",
       "</thead>\n",
       "<tbody>\n",
       "\t<tr><td>n_nodes</td><td>2</td><td>10611148</td></tr>\n",
       "\t<tr><td>n_nodes</td><td>1</td><td> 6960647</td></tr>\n",
       "\t<tr><td>n_nodes</td><td>3</td><td> 9248888</td></tr>\n",
       "\t<tr><td>n_nodes</td><td>4</td><td> 8154636</td></tr>\n",
       "\t<tr><td>n_nodes</td><td>5</td><td> 2148226</td></tr>\n",
       "\t<tr><td>n_nodes</td><td>6</td><td> 1107105</td></tr>\n",
       "</tbody>\n",
       "</table>\n"
      ],
      "text/latex": [
       "A tibble: 6 × 3\n",
       "\\begin{tabular}{lll}\n",
       " rec\\_type & nrecs & count\\\\\n",
       " <fct> & <int> & <int>\\\\\n",
       "\\hline\n",
       "\t n\\_nodes & 2 & 10611148\\\\\n",
       "\t n\\_nodes & 1 &  6960647\\\\\n",
       "\t n\\_nodes & 3 &  9248888\\\\\n",
       "\t n\\_nodes & 4 &  8154636\\\\\n",
       "\t n\\_nodes & 5 &  2148226\\\\\n",
       "\t n\\_nodes & 6 &  1107105\\\\\n",
       "\\end{tabular}\n"
      ],
      "text/markdown": [
       "\n",
       "A tibble: 6 × 3\n",
       "\n",
       "| rec_type &lt;fct&gt; | nrecs &lt;int&gt; | count &lt;int&gt; |\n",
       "|---|---|---|\n",
       "| n_nodes | 2 | 10611148 |\n",
       "| n_nodes | 1 |  6960647 |\n",
       "| n_nodes | 3 |  9248888 |\n",
       "| n_nodes | 4 |  8154636 |\n",
       "| n_nodes | 5 |  2148226 |\n",
       "| n_nodes | 6 |  1107105 |\n",
       "\n"
      ],
      "text/plain": [
       "  rec_type nrecs count   \n",
       "1 n_nodes  2     10611148\n",
       "2 n_nodes  1      6960647\n",
       "3 n_nodes  3      9248888\n",
       "4 n_nodes  4      8154636\n",
       "5 n_nodes  5      2148226\n",
       "6 n_nodes  6      1107105"
      ]
     },
     "metadata": {},
     "output_type": "display_data"
    }
   ],
   "source": [
    "size_dists = collect(clusters) %>%\n",
    "  gather(rec_type, nrecs, -cluster, factor_key=TRUE) %>%\n",
    "  summarize(count=n(), .by=c(\"rec_type\", \"nrecs\"))\n",
    "head(size_dists)"
   ]
  },
  {
   "cell_type": "code",
   "execution_count": 9,
   "id": "7ac748b0",
   "metadata": {},
   "outputs": [
    {
     "name": "stderr",
     "output_type": "stream",
     "text": [
      "Warning message:\n",
      "“\u001b[1m\u001b[22mTransformation introduced infinite values in continuous x-axis”\n"
     ]
    },
    {
     "data": {
      "image/png": "[encoded data removed]",
      "text/plain": [
       "plot without title"
      ]
     },
     "metadata": {
      "image/png": {
       "height": 240,
       "width": 420
      }
     },
     "output_type": "display_data"
    }
   ],
   "source": [
    "ggplot(size_dists) +\n",
    "  aes(x=nrecs, y=count, color=rec_type) +\n",
    "  geom_point() +\n",
    "  scale_x_log10() +\n",
    "  scale_y_log10() +\n",
    "  scale_color_brewer(type=\"qual\", palette=\"Dark2\") +\n",
    "  xlab(\"# of Records\") +\n",
    "  xlab(\"# of Clusters\") +\n",
    "  ggtitle(\"Distribution of cluster counts\")"
   ]
  },
  {
   "cell_type": "markdown",
   "id": "0c4f746b",
   "metadata": {},
   "source": [
    "Looks mostly fine - we expect a lot of power laws - but the number of clusters with merged GoodReads works is concerning.\n",
    "\n",
    "## GoodReads Work Merging\n",
    "\n",
    "What's going on with these clusters? Let's take a peek at them.\n"
   ]
  },
  {
   "cell_type": "code",
   "execution_count": 10,
   "id": "de011ede",
   "metadata": {},
   "outputs": [
    {
     "name": "stdout",
     "output_type": "stream",
     "text": [
      "Table (query)\n",
      "10,080 rows x 8 columns\n",
      "$ cluster        \u001b[3m\u001b[90m<int32>\u001b[39m\u001b[23m 100003920, 100127260, 100150667, 100150538, 100260134, …\n",
      "$ n_nodes       \u001b[3m\u001b[90m<uint32>\u001b[39m\u001b[23m 106334, 9586, 520, 1602, 315, 513, 304, 337, 685, 610, …\n",
      "$ n_isbns       \u001b[3m\u001b[90m<uint32>\u001b[39m\u001b[23m 51481, 4624, 194, 780, 141, 225, 120, 91, 245, 299, 248…\n",
      "$ n_loc_recs    \u001b[3m\u001b[90m<uint32>\u001b[39m\u001b[23m 1439, 281, 6, 55, 1, 6, 3, 38, 2, 0, 0, 1, 105, 111, 0,…\n",
      "$ n_ol_editions \u001b[3m\u001b[90m<uint32>\u001b[39m\u001b[23m 44567, 3721, 113, 462, 51, 113, 75, 64, 185, 170, 153, …\n",
      "$ n_ol_works    \u001b[3m\u001b[90m<uint32>\u001b[39m\u001b[23m 1174, 342, 77, 78, 18, 38, 21, 58, 75, 45, 47, 25, 185,…\n",
      "$ n_gr_books    \u001b[3m\u001b[90m<uint32>\u001b[39m\u001b[23m 7378, 513, 69, 172, 53, 91, 45, 46, 140, 60, 51, 46, 49…\n",
      "$ n_gr_works    \u001b[3m\u001b[90m<uint32>\u001b[39m\u001b[23m 295, 105, 61, 55, 51, 40, 40, 40, 38, 36, 34, 31, 30, 3…\n",
      "Call `print()` for query details\n"
     ]
    }
   ],
   "source": [
    "gr_big = clusters %>%\n",
    "  filter(n_gr_works > 1) %>%\n",
    "  arrange(desc(n_gr_works))\n",
    "gr_big %>% glimpse()"
   ]
  },
  {
   "cell_type": "markdown",
   "id": "3f7cb9cd",
   "metadata": {},
   "source": [
    "We have a lot of these clusters. What fraction of the GoodReads-affected clusters is this?\n"
   ]
  },
  {
   "cell_type": "code",
   "execution_count": 11,
   "id": "88bfe3dd",
   "metadata": {},
   "outputs": [
    {
     "data": {
      "text/plain": [
       "Scalar\n",
       "0.0002449630088845264"
      ]
     },
     "metadata": {},
     "output_type": "display_data"
    }
   ],
   "source": [
    "nrow(gr_big) / sum(!is.na(clusters$n_gr_books))"
   ]
  },
  {
   "cell_type": "markdown",
   "id": "78184884",
   "metadata": {},
   "source": [
    "Less than 1%. Not bad, but let's look at these largest clusters.\n"
   ]
  },
  {
   "cell_type": "code",
   "execution_count": 12,
   "id": "2c7a4b61",
   "metadata": {},
   "outputs": [
    {
     "data": {
      "text/html": [
       "<table class=\"dataframe\">\n",
       "<caption>A tibble: 6 × 8</caption>\n",
       "<thead>\n",
       "\t<tr><th scope=col>cluster</th><th scope=col>n_nodes</th><th scope=col>n_isbns</th><th scope=col>n_loc_recs</th><th scope=col>n_ol_editions</th><th scope=col>n_ol_works</th><th scope=col>n_gr_books</th><th scope=col>n_gr_works</th></tr>\n",
       "\t<tr><th scope=col>&lt;int&gt;</th><th scope=col>&lt;int&gt;</th><th scope=col>&lt;int&gt;</th><th scope=col>&lt;int&gt;</th><th scope=col>&lt;int&gt;</th><th scope=col>&lt;int&gt;</th><th scope=col>&lt;int&gt;</th><th scope=col>&lt;int&gt;</th></tr>\n",
       "</thead>\n",
       "<tbody>\n",
       "\t<tr><td>100003920</td><td>106334</td><td>51481</td><td>1439</td><td>44567</td><td>1174</td><td>7378</td><td>295</td></tr>\n",
       "\t<tr><td>100127260</td><td>  9586</td><td> 4624</td><td> 281</td><td> 3721</td><td> 342</td><td> 513</td><td>105</td></tr>\n",
       "\t<tr><td>100150667</td><td>   520</td><td>  194</td><td>   6</td><td>  113</td><td>  77</td><td>  69</td><td> 61</td></tr>\n",
       "\t<tr><td>100150538</td><td>  1602</td><td>  780</td><td>  55</td><td>  462</td><td>  78</td><td> 172</td><td> 55</td></tr>\n",
       "\t<tr><td>100260134</td><td>   315</td><td>  141</td><td>   1</td><td>   51</td><td>  18</td><td>  53</td><td> 51</td></tr>\n",
       "\t<tr><td>101889755</td><td>   337</td><td>   91</td><td>  38</td><td>   64</td><td>  58</td><td>  46</td><td> 40</td></tr>\n",
       "</tbody>\n",
       "</table>\n"
      ],
      "text/latex": [
       "A tibble: 6 × 8\n",
       "\\begin{tabular}{llllllll}\n",
       " cluster & n\\_nodes & n\\_isbns & n\\_loc\\_recs & n\\_ol\\_editions & n\\_ol\\_works & n\\_gr\\_books & n\\_gr\\_works\\\\\n",
       " <int> & <int> & <int> & <int> & <int> & <int> & <int> & <int>\\\\\n",
       "\\hline\n",
       "\t 100003920 & 106334 & 51481 & 1439 & 44567 & 1174 & 7378 & 295\\\\\n",
       "\t 100127260 &   9586 &  4624 &  281 &  3721 &  342 &  513 & 105\\\\\n",
       "\t 100150667 &    520 &   194 &    6 &   113 &   77 &   69 &  61\\\\\n",
       "\t 100150538 &   1602 &   780 &   55 &   462 &   78 &  172 &  55\\\\\n",
       "\t 100260134 &    315 &   141 &    1 &    51 &   18 &   53 &  51\\\\\n",
       "\t 101889755 &    337 &    91 &   38 &    64 &   58 &   46 &  40\\\\\n",
       "\\end{tabular}\n"
      ],
      "text/markdown": [
       "\n",
       "A tibble: 6 × 8\n",
       "\n",
       "| cluster &lt;int&gt; | n_nodes &lt;int&gt; | n_isbns &lt;int&gt; | n_loc_recs &lt;int&gt; | n_ol_editions &lt;int&gt; | n_ol_works &lt;int&gt; | n_gr_books &lt;int&gt; | n_gr_works &lt;int&gt; |\n",
       "|---|---|---|---|---|---|---|---|\n",
       "| 100003920 | 106334 | 51481 | 1439 | 44567 | 1174 | 7378 | 295 |\n",
       "| 100127260 |   9586 |  4624 |  281 |  3721 |  342 |  513 | 105 |\n",
       "| 100150667 |    520 |   194 |    6 |   113 |   77 |   69 |  61 |\n",
       "| 100150538 |   1602 |   780 |   55 |   462 |   78 |  172 |  55 |\n",
       "| 100260134 |    315 |   141 |    1 |    51 |   18 |   53 |  51 |\n",
       "| 101889755 |    337 |    91 |   38 |    64 |   58 |   46 |  40 |\n",
       "\n"
      ],
      "text/plain": [
       "  cluster   n_nodes n_isbns n_loc_recs n_ol_editions n_ol_works n_gr_books\n",
       "1 100003920 106334  51481   1439       44567         1174       7378      \n",
       "2 100127260   9586   4624    281        3721          342        513      \n",
       "3 100150667    520    194      6         113           77         69      \n",
       "4 100150538   1602    780     55         462           78        172      \n",
       "5 100260134    315    141      1          51           18         53      \n",
       "6 101889755    337     91     38          64           58         46      \n",
       "  n_gr_works\n",
       "1 295       \n",
       "2 105       \n",
       "3  61       \n",
       "4  55       \n",
       "5  51       \n",
       "6  40       "
      ]
     },
     "metadata": {},
     "output_type": "display_data"
    }
   ],
   "source": [
    "gr_big %>% head() %>% collect()"
   ]
  },
  {
   "cell_type": "markdown",
   "id": "d3b52648",
   "metadata": {},
   "source": [
    "## Large Cluster Debugging\n",
    "\n",
    "We have some pretty big clusters:\n"
   ]
  },
  {
   "cell_type": "code",
   "execution_count": 13,
   "id": "0266a846",
   "metadata": {},
   "outputs": [
    {
     "data": {
      "text/html": [
       "<table class=\"dataframe\">\n",
       "<caption>A tibble: 5 × 8</caption>\n",
       "<thead>\n",
       "\t<tr><th scope=col>cluster</th><th scope=col>n_nodes</th><th scope=col>n_isbns</th><th scope=col>n_loc_recs</th><th scope=col>n_ol_editions</th><th scope=col>n_ol_works</th><th scope=col>n_gr_books</th><th scope=col>n_gr_works</th></tr>\n",
       "\t<tr><th scope=col>&lt;int&gt;</th><th scope=col>&lt;int&gt;</th><th scope=col>&lt;int&gt;</th><th scope=col>&lt;int&gt;</th><th scope=col>&lt;int&gt;</th><th scope=col>&lt;int&gt;</th><th scope=col>&lt;int&gt;</th><th scope=col>&lt;int&gt;</th></tr>\n",
       "</thead>\n",
       "<tbody>\n",
       "\t<tr><td>100003920</td><td>106334</td><td>51481</td><td>1439</td><td>44567</td><td>1174</td><td>7378</td><td>295</td></tr>\n",
       "\t<tr><td>101110712</td><td> 24435</td><td>12152</td><td> 190</td><td>10644</td><td>  69</td><td>1352</td><td> 28</td></tr>\n",
       "\t<tr><td>111780550</td><td> 11281</td><td> 7520</td><td>   0</td><td> 3760</td><td>   1</td><td>   0</td><td>  0</td></tr>\n",
       "\t<tr><td>107938279</td><td> 10678</td><td> 7118</td><td>   0</td><td> 3559</td><td>   1</td><td>   0</td><td>  0</td></tr>\n",
       "\t<tr><td>100685594</td><td> 10118</td><td> 6518</td><td>   7</td><td> 3558</td><td>  35</td><td>   0</td><td>  0</td></tr>\n",
       "</tbody>\n",
       "</table>\n"
      ],
      "text/latex": [
       "A tibble: 5 × 8\n",
       "\\begin{tabular}{llllllll}\n",
       " cluster & n\\_nodes & n\\_isbns & n\\_loc\\_recs & n\\_ol\\_editions & n\\_ol\\_works & n\\_gr\\_books & n\\_gr\\_works\\\\\n",
       " <int> & <int> & <int> & <int> & <int> & <int> & <int> & <int>\\\\\n",
       "\\hline\n",
       "\t 100003920 & 106334 & 51481 & 1439 & 44567 & 1174 & 7378 & 295\\\\\n",
       "\t 101110712 &  24435 & 12152 &  190 & 10644 &   69 & 1352 &  28\\\\\n",
       "\t 111780550 &  11281 &  7520 &    0 &  3760 &    1 &    0 &   0\\\\\n",
       "\t 107938279 &  10678 &  7118 &    0 &  3559 &    1 &    0 &   0\\\\\n",
       "\t 100685594 &  10118 &  6518 &    7 &  3558 &   35 &    0 &   0\\\\\n",
       "\\end{tabular}\n"
      ],
      "text/markdown": [
       "\n",
       "A tibble: 5 × 8\n",
       "\n",
       "| cluster &lt;int&gt; | n_nodes &lt;int&gt; | n_isbns &lt;int&gt; | n_loc_recs &lt;int&gt; | n_ol_editions &lt;int&gt; | n_ol_works &lt;int&gt; | n_gr_books &lt;int&gt; | n_gr_works &lt;int&gt; |\n",
       "|---|---|---|---|---|---|---|---|\n",
       "| 100003920 | 106334 | 51481 | 1439 | 44567 | 1174 | 7378 | 295 |\n",
       "| 101110712 |  24435 | 12152 |  190 | 10644 |   69 | 1352 |  28 |\n",
       "| 111780550 |  11281 |  7520 |    0 |  3760 |    1 |    0 |   0 |\n",
       "| 107938279 |  10678 |  7118 |    0 |  3559 |    1 |    0 |   0 |\n",
       "| 100685594 |  10118 |  6518 |    7 |  3558 |   35 |    0 |   0 |\n",
       "\n"
      ],
      "text/plain": [
       "  cluster   n_nodes n_isbns n_loc_recs n_ol_editions n_ol_works n_gr_books\n",
       "1 100003920 106334  51481   1439       44567         1174       7378      \n",
       "2 101110712  24435  12152    190       10644           69       1352      \n",
       "3 111780550  11281   7520      0        3760            1          0      \n",
       "4 107938279  10678   7118      0        3559            1          0      \n",
       "5 100685594  10118   6518      7        3558           35          0      \n",
       "  n_gr_works\n",
       "1 295       \n",
       "2  28       \n",
       "3   0       \n",
       "4   0       \n",
       "5   0       "
      ]
     },
     "metadata": {},
     "output_type": "display_data"
    }
   ],
   "source": [
    "big = clusters %>% slice_max(n_nodes, n=5, with_ties=FALSE) %>%\n",
    "  collect()\n",
    "big"
   ]
  },
  {
   "cell_type": "markdown",
   "id": "63c2e106",
   "metadata": {},
   "source": [
    "What is up with this? We should figure out what went wrong, if we can.  What are its ISBNs?\n"
   ]
  },
  {
   "cell_type": "code",
   "execution_count": 14,
   "id": "e792ec84",
   "metadata": {},
   "outputs": [
    {
     "name": "stdout",
     "output_type": "stream",
     "text": [
      "Table\n",
      "44,471,261 rows x 7 columns\n",
      "$ isbn_id     \u001b[3m\u001b[90m<int32>\u001b[39m\u001b[23m 1, 2, 3, 4, 5, 6, 7, 8, 9, 10, 11, 12, 13, 14, 15, 16, 17,…\n",
      "$ isbn \u001b[3m\u001b[90m<large_string>\u001b[39m\u001b[23m \"9781593601607\", \"9781483140049\", \"9781872357089\", \"978178…\n",
      "$ LOC        \u001b[3m\u001b[90m<uint32>\u001b[39m\u001b[23m 0, 0, 0, 0, 0, 0, 0, 0, 0, 0, 0, 0, 0, 1, 0, 0, 0, 0, 1, 1…\n",
      "$ OL         \u001b[3m\u001b[90m<uint32>\u001b[39m\u001b[23m 1, 1, 1, 1, 1, 1, 1, 1, 1, 1, 1, 1, 1, 1, 1, 1, 1, 1, 1, 1…\n",
      "$ GR          \u001b[3m\u001b[90m<int64>\u001b[39m\u001b[23m 1, 0, 0, 0, 0, 0, 0, 0, 0, 1, 0, 0, 0, 0, 0, 0, 0, 0, 0, 0…\n",
      "$ AZ14       \u001b[3m\u001b[90m<uint32>\u001b[39m\u001b[23m 0, 0, 0, 0, 0, 0, 0, 0, 0, 0, 0, 0, 0, 0, 0, 0, 0, 0, 1, 0…\n",
      "$ AZ18       \u001b[3m\u001b[90m<uint32>\u001b[39m\u001b[23m 0, 0, 0, 0, 0, 1, 0, 0, 0, 3, 0, 0, 0, 0, 0, 0, 0, 0, 1, 0…\n"
     ]
    }
   ],
   "source": [
    "isbns = read_parquet('book-links/all-isbns.parquet', as_data_frame=FALSE)\n",
    "glimpse(isbns)"
   ]
  },
  {
   "cell_type": "code",
   "execution_count": 15,
   "id": "fe17c110",
   "metadata": {},
   "outputs": [
    {
     "name": "stdout",
     "output_type": "stream",
     "text": [
      "Table (query)\n",
      "44,471,261 rows x 2 columns\n",
      "$ isbn_id \u001b[3m\u001b[90m<int32>\u001b[39m\u001b[23m 44471261, 44471260, 44471259, 44471258, 44471257, 44471256, 44…\n",
      "$ cluster \u001b[3m\u001b[90m<int32>\u001b[39m\u001b[23m 944471261, 944471260, 944471259, 944471258, 944471257, 9444712…\n",
      "Call `print()` for query details\n"
     ]
    }
   ],
   "source": [
    "links = read_parquet(\"book-links/isbn-clusters.parquet\", as_data_frame=FALSE) %>%\n",
    "  select(isbn_id, cluster)\n",
    "glimpse(links)"
   ]
  },
  {
   "cell_type": "markdown",
   "id": "61111c3b",
   "metadata": {},
   "source": [
    "Now let's look up data for the largest cluster.\n"
   ]
  },
  {
   "cell_type": "code",
   "execution_count": 16,
   "id": "26449dc4",
   "metadata": {},
   "outputs": [
    {
     "data": {
      "text/html": [
       "100003920"
      ],
      "text/latex": [
       "100003920"
      ],
      "text/markdown": [
       "100003920"
      ],
      "text/plain": [
       "[1] 100003920"
      ]
     },
     "metadata": {},
     "output_type": "display_data"
    }
   ],
   "source": [
    "big_id = big$cluster[1]\n",
    "big_id"
   ]
  },
  {
   "cell_type": "code",
   "execution_count": 17,
   "id": "0a97cfdb",
   "metadata": {},
   "outputs": [
    {
     "name": "stdout",
     "output_type": "stream",
     "text": [
      "Table (query)\n",
      "?? rows x 7 columns\n",
      "$ isbn_id     \u001b[3m\u001b[90m<int32>\u001b[39m\u001b[23m 41407804, 42062628, 11502887, 14397303, 19141493, 40937273…\n",
      "$ isbn \u001b[3m\u001b[90m<large_string>\u001b[39m\u001b[23m \"0000744395\", \"000074445X\", \"0001004735\", \"0001004743\", \"0…\n",
      "$ LOC        \u001b[3m\u001b[90m<uint32>\u001b[39m\u001b[23m 0, 0, 0, 0, 0, 0, 0, 0, 0, 0, 0, 0, 0, 0, 0, 0, 0, 0, 1, 1…\n",
      "$ OL         \u001b[3m\u001b[90m<uint32>\u001b[39m\u001b[23m 0, 0, 1, 1, 1, 1, 1, 1, 1, 1, 1, 1, 1, 1, 1, 1, 1, 0, 2, 3…\n",
      "$ GR          \u001b[3m\u001b[90m<int64>\u001b[39m\u001b[23m 1, 1, 0, 0, 0, 0, 0, 0, 0, 0, 0, 0, 0, 0, 0, 0, 0, 1, 0, 1…\n",
      "$ AZ14       \u001b[3m\u001b[90m<uint32>\u001b[39m\u001b[23m 0, 0, 0, 0, 0, 0, 0, 0, 0, 0, 0, 0, 0, 0, 0, 0, 0, 0, 0, 0…\n",
      "$ AZ18       \u001b[3m\u001b[90m<uint32>\u001b[39m\u001b[23m 0, 0, 0, 0, 0, 0, 0, 75, 0, 0, 0, 0, 0, 0, 0, 0, 0, 0, 0, …\n",
      "Call `print()` for query details\n"
     ]
    }
   ],
   "source": [
    "bl = links %>% filter(cluster == big_id)\n",
    "bl = semi_join(isbns, bl) %>% arrange(isbn)\n",
    "bl %>% glimpse()"
   ]
  },
  {
   "cell_type": "markdown",
   "id": "3067397c",
   "metadata": {},
   "source": [
    "What are the things with the highest record count?\n"
   ]
  },
  {
   "cell_type": "code",
   "execution_count": 18,
   "id": "cfa2583f",
   "metadata": {},
   "outputs": [
    {
     "data": {
      "text/html": [
       "<table class=\"dataframe\">\n",
       "<caption>A rowwise_df: 51481 × 8</caption>\n",
       "<thead>\n",
       "\t<tr><th scope=col>isbn_id</th><th scope=col>isbn</th><th scope=col>LOC</th><th scope=col>OL</th><th scope=col>GR</th><th scope=col>AZ14</th><th scope=col>AZ18</th><th scope=col>btot</th></tr>\n",
       "\t<tr><th scope=col>&lt;int&gt;</th><th scope=col>&lt;chr&gt;</th><th scope=col>&lt;int&gt;</th><th scope=col>&lt;int&gt;</th><th scope=col>&lt;int&gt;</th><th scope=col>&lt;int&gt;</th><th scope=col>&lt;int&gt;</th><th scope=col>&lt;int&gt;</th></tr>\n",
       "</thead>\n",
       "<tbody>\n",
       "\t<tr><td>41407804</td><td>0000744395</td><td>0</td><td>0</td><td>1</td><td>0</td><td>   0</td><td>   1</td></tr>\n",
       "\t<tr><td>42062628</td><td>000074445X</td><td>0</td><td>0</td><td>1</td><td>0</td><td>   0</td><td>   1</td></tr>\n",
       "\t<tr><td>11502887</td><td>0001004735</td><td>0</td><td>1</td><td>0</td><td>0</td><td>   0</td><td>   1</td></tr>\n",
       "\t<tr><td>14397303</td><td>0001004743</td><td>0</td><td>1</td><td>0</td><td>0</td><td>   0</td><td>   1</td></tr>\n",
       "\t<tr><td>19141493</td><td>0001034375</td><td>0</td><td>1</td><td>0</td><td>0</td><td>   0</td><td>   1</td></tr>\n",
       "\t<tr><td>40937273</td><td>0001046403</td><td>0</td><td>1</td><td>0</td><td>0</td><td>   0</td><td>   1</td></tr>\n",
       "\t<tr><td> 6693084</td><td>0001049283</td><td>0</td><td>1</td><td>0</td><td>0</td><td>   0</td><td>   1</td></tr>\n",
       "\t<tr><td>30197848</td><td>0001054783</td><td>0</td><td>1</td><td>0</td><td>0</td><td>  75</td><td>  76</td></tr>\n",
       "\t<tr><td>33321586</td><td>0001385208</td><td>0</td><td>1</td><td>0</td><td>0</td><td>   0</td><td>   1</td></tr>\n",
       "\t<tr><td>31969676</td><td>0001660047</td><td>0</td><td>1</td><td>0</td><td>0</td><td>   0</td><td>   1</td></tr>\n",
       "\t<tr><td>15553922</td><td>0001660926</td><td>0</td><td>1</td><td>0</td><td>0</td><td>   0</td><td>   1</td></tr>\n",
       "\t<tr><td>30770041</td><td>0001661019</td><td>0</td><td>1</td><td>0</td><td>0</td><td>   0</td><td>   1</td></tr>\n",
       "\t<tr><td>17792203</td><td>0001847694</td><td>0</td><td>1</td><td>0</td><td>0</td><td>   0</td><td>   1</td></tr>\n",
       "\t<tr><td>26965565</td><td>0001848259</td><td>0</td><td>1</td><td>0</td><td>0</td><td>   0</td><td>   1</td></tr>\n",
       "\t<tr><td> 8473513</td><td>0001849123</td><td>0</td><td>1</td><td>0</td><td>0</td><td>   0</td><td>   1</td></tr>\n",
       "\t<tr><td>34007959</td><td>0001956671</td><td>0</td><td>1</td><td>0</td><td>0</td><td>   0</td><td>   1</td></tr>\n",
       "\t<tr><td>19235257</td><td>0001956795</td><td>0</td><td>1</td><td>0</td><td>0</td><td>   0</td><td>   1</td></tr>\n",
       "\t<tr><td>41619337</td><td>0002034840</td><td>0</td><td>0</td><td>1</td><td>0</td><td>   0</td><td>   1</td></tr>\n",
       "\t<tr><td> 2678626</td><td>0002219336</td><td>1</td><td>2</td><td>0</td><td>0</td><td>   0</td><td>   3</td></tr>\n",
       "\t<tr><td> 9935945</td><td>0002315394</td><td>1</td><td>3</td><td>1</td><td>0</td><td>   0</td><td>   5</td></tr>\n",
       "\t<tr><td>36299108</td><td>0003302245</td><td>0</td><td>1</td><td>0</td><td>0</td><td>3900</td><td>3901</td></tr>\n",
       "\t<tr><td>19681411</td><td>0003395359</td><td>0</td><td>1</td><td>0</td><td>0</td><td>   0</td><td>   1</td></tr>\n",
       "\t<tr><td>30397902</td><td>0003700860</td><td>0</td><td>2</td><td>1</td><td>0</td><td>   0</td><td>   3</td></tr>\n",
       "\t<tr><td>30858214</td><td>0003702936</td><td>0</td><td>1</td><td>0</td><td>0</td><td>   0</td><td>   1</td></tr>\n",
       "\t<tr><td>12786661</td><td>0003708853</td><td>0</td><td>1</td><td>0</td><td>0</td><td>   0</td><td>   1</td></tr>\n",
       "\t<tr><td>37344922</td><td>0004214072</td><td>0</td><td>2</td><td>0</td><td>0</td><td>   0</td><td>   2</td></tr>\n",
       "\t<tr><td>11125651</td><td>0004214501</td><td>0</td><td>1</td><td>0</td><td>0</td><td>   0</td><td>   1</td></tr>\n",
       "\t<tr><td>12746265</td><td>0004244702</td><td>0</td><td>1</td><td>0</td><td>0</td><td>   0</td><td>   1</td></tr>\n",
       "\t<tr><td>29211569</td><td>0004247256</td><td>0</td><td>1</td><td>0</td><td>0</td><td>   0</td><td>   1</td></tr>\n",
       "\t<tr><td> 6837553</td><td>0004247264</td><td>0</td><td>1</td><td>0</td><td>0</td><td>   0</td><td>   1</td></tr>\n",
       "\t<tr><td>⋮</td><td>⋮</td><td>⋮</td><td>⋮</td><td>⋮</td><td>⋮</td><td>⋮</td><td>⋮</td></tr>\n",
       "\t<tr><td>42697277</td><td>B01N1A58F4</td><td>0</td><td>0</td><td>1</td><td>0</td><td>0</td><td>1</td></tr>\n",
       "\t<tr><td>42017610</td><td>B01N5JX21M</td><td>0</td><td>0</td><td>1</td><td>0</td><td>0</td><td>1</td></tr>\n",
       "\t<tr><td>42503286</td><td>B01N7ZJ4MT</td><td>0</td><td>0</td><td>1</td><td>0</td><td>0</td><td>1</td></tr>\n",
       "\t<tr><td>41610140</td><td>B01NAIYB6S</td><td>0</td><td>0</td><td>1</td><td>0</td><td>0</td><td>1</td></tr>\n",
       "\t<tr><td>41309603</td><td>B01NBKD6ZI</td><td>0</td><td>0</td><td>1</td><td>0</td><td>0</td><td>1</td></tr>\n",
       "\t<tr><td>41945885</td><td>B06VVSS7QH</td><td>0</td><td>0</td><td>1</td><td>0</td><td>0</td><td>1</td></tr>\n",
       "\t<tr><td>42699618</td><td>B06WP1M6KT</td><td>0</td><td>0</td><td>1</td><td>0</td><td>0</td><td>1</td></tr>\n",
       "\t<tr><td>42159285</td><td>B06X9HW4Z6</td><td>0</td><td>0</td><td>1</td><td>0</td><td>0</td><td>1</td></tr>\n",
       "\t<tr><td>41317162</td><td>B06XFPGRC7</td><td>0</td><td>0</td><td>1</td><td>0</td><td>0</td><td>1</td></tr>\n",
       "\t<tr><td>41405924</td><td>B06XQ4F351</td><td>0</td><td>0</td><td>1</td><td>0</td><td>0</td><td>1</td></tr>\n",
       "\t<tr><td>42593673</td><td>B06XQ64QV8</td><td>0</td><td>0</td><td>1</td><td>0</td><td>0</td><td>1</td></tr>\n",
       "\t<tr><td>42278150</td><td>B06XY3R81W</td><td>0</td><td>0</td><td>1</td><td>0</td><td>0</td><td>1</td></tr>\n",
       "\t<tr><td>41450793</td><td>B0716WRPFV</td><td>0</td><td>0</td><td>1</td><td>0</td><td>0</td><td>1</td></tr>\n",
       "\t<tr><td>42002127</td><td>B071RSDB49</td><td>0</td><td>0</td><td>1</td><td>0</td><td>0</td><td>1</td></tr>\n",
       "\t<tr><td>41347557</td><td>B0728MXM3Q</td><td>0</td><td>0</td><td>1</td><td>0</td><td>0</td><td>1</td></tr>\n",
       "\t<tr><td>41464214</td><td>B072F1WKW1</td><td>0</td><td>0</td><td>1</td><td>0</td><td>0</td><td>1</td></tr>\n",
       "\t<tr><td>41970572</td><td>B072L78PHK</td><td>0</td><td>0</td><td>1</td><td>0</td><td>0</td><td>1</td></tr>\n",
       "\t<tr><td>42475729</td><td>B072MQ8FL7</td><td>0</td><td>0</td><td>1</td><td>0</td><td>0</td><td>1</td></tr>\n",
       "\t<tr><td>41421625</td><td>B072S79HNS</td><td>0</td><td>0</td><td>1</td><td>0</td><td>0</td><td>1</td></tr>\n",
       "\t<tr><td>41927152</td><td>B072Z2KK5V</td><td>0</td><td>0</td><td>1</td><td>0</td><td>0</td><td>1</td></tr>\n",
       "\t<tr><td>41707133</td><td>B07381C14X</td><td>0</td><td>0</td><td>1</td><td>0</td><td>0</td><td>1</td></tr>\n",
       "\t<tr><td>41349067</td><td>B073GF59RD</td><td>0</td><td>0</td><td>1</td><td>0</td><td>0</td><td>1</td></tr>\n",
       "\t<tr><td>41928917</td><td>B073GGNYFL</td><td>0</td><td>0</td><td>1</td><td>0</td><td>0</td><td>1</td></tr>\n",
       "\t<tr><td>42029193</td><td>B073MZ23QX</td><td>0</td><td>0</td><td>1</td><td>0</td><td>0</td><td>1</td></tr>\n",
       "\t<tr><td>41452617</td><td>B073QM98F5</td><td>0</td><td>0</td><td>1</td><td>0</td><td>0</td><td>1</td></tr>\n",
       "\t<tr><td>41474679</td><td>B073SM1DVP</td><td>0</td><td>0</td><td>1</td><td>0</td><td>0</td><td>1</td></tr>\n",
       "\t<tr><td>41529678</td><td>B073SMQ7TV</td><td>0</td><td>0</td><td>1</td><td>0</td><td>0</td><td>1</td></tr>\n",
       "\t<tr><td>42266578</td><td>B074P9CM5T</td><td>0</td><td>0</td><td>1</td><td>0</td><td>0</td><td>1</td></tr>\n",
       "\t<tr><td>41546978</td><td>B074WFRH82</td><td>0</td><td>0</td><td>1</td><td>0</td><td>0</td><td>1</td></tr>\n",
       "\t<tr><td>41637353</td><td>B215071972</td><td>0</td><td>0</td><td>1</td><td>0</td><td>0</td><td>1</td></tr>\n",
       "</tbody>\n",
       "</table>\n"
      ],
      "text/latex": [
       "A rowwise\\_df: 51481 × 8\n",
       "\\begin{tabular}{llllllll}\n",
       " isbn\\_id & isbn & LOC & OL & GR & AZ14 & AZ18 & btot\\\\\n",
       " <int> & <chr> & <int> & <int> & <int> & <int> & <int> & <int>\\\\\n",
       "\\hline\n",
       "\t 41407804 & 0000744395 & 0 & 0 & 1 & 0 &    0 &    1\\\\\n",
       "\t 42062628 & 000074445X & 0 & 0 & 1 & 0 &    0 &    1\\\\\n",
       "\t 11502887 & 0001004735 & 0 & 1 & 0 & 0 &    0 &    1\\\\\n",
       "\t 14397303 & 0001004743 & 0 & 1 & 0 & 0 &    0 &    1\\\\\n",
       "\t 19141493 & 0001034375 & 0 & 1 & 0 & 0 &    0 &    1\\\\\n",
       "\t 40937273 & 0001046403 & 0 & 1 & 0 & 0 &    0 &    1\\\\\n",
       "\t  6693084 & 0001049283 & 0 & 1 & 0 & 0 &    0 &    1\\\\\n",
       "\t 30197848 & 0001054783 & 0 & 1 & 0 & 0 &   75 &   76\\\\\n",
       "\t 33321586 & 0001385208 & 0 & 1 & 0 & 0 &    0 &    1\\\\\n",
       "\t 31969676 & 0001660047 & 0 & 1 & 0 & 0 &    0 &    1\\\\\n",
       "\t 15553922 & 0001660926 & 0 & 1 & 0 & 0 &    0 &    1\\\\\n",
       "\t 30770041 & 0001661019 & 0 & 1 & 0 & 0 &    0 &    1\\\\\n",
       "\t 17792203 & 0001847694 & 0 & 1 & 0 & 0 &    0 &    1\\\\\n",
       "\t 26965565 & 0001848259 & 0 & 1 & 0 & 0 &    0 &    1\\\\\n",
       "\t  8473513 & 0001849123 & 0 & 1 & 0 & 0 &    0 &    1\\\\\n",
       "\t 34007959 & 0001956671 & 0 & 1 & 0 & 0 &    0 &    1\\\\\n",
       "\t 19235257 & 0001956795 & 0 & 1 & 0 & 0 &    0 &    1\\\\\n",
       "\t 41619337 & 0002034840 & 0 & 0 & 1 & 0 &    0 &    1\\\\\n",
       "\t  2678626 & 0002219336 & 1 & 2 & 0 & 0 &    0 &    3\\\\\n",
       "\t  9935945 & 0002315394 & 1 & 3 & 1 & 0 &    0 &    5\\\\\n",
       "\t 36299108 & 0003302245 & 0 & 1 & 0 & 0 & 3900 & 3901\\\\\n",
       "\t 19681411 & 0003395359 & 0 & 1 & 0 & 0 &    0 &    1\\\\\n",
       "\t 30397902 & 0003700860 & 0 & 2 & 1 & 0 &    0 &    3\\\\\n",
       "\t 30858214 & 0003702936 & 0 & 1 & 0 & 0 &    0 &    1\\\\\n",
       "\t 12786661 & 0003708853 & 0 & 1 & 0 & 0 &    0 &    1\\\\\n",
       "\t 37344922 & 0004214072 & 0 & 2 & 0 & 0 &    0 &    2\\\\\n",
       "\t 11125651 & 0004214501 & 0 & 1 & 0 & 0 &    0 &    1\\\\\n",
       "\t 12746265 & 0004244702 & 0 & 1 & 0 & 0 &    0 &    1\\\\\n",
       "\t 29211569 & 0004247256 & 0 & 1 & 0 & 0 &    0 &    1\\\\\n",
       "\t  6837553 & 0004247264 & 0 & 1 & 0 & 0 &    0 &    1\\\\\n",
       "\t ⋮ & ⋮ & ⋮ & ⋮ & ⋮ & ⋮ & ⋮ & ⋮\\\\\n",
       "\t 42697277 & B01N1A58F4 & 0 & 0 & 1 & 0 & 0 & 1\\\\\n",
       "\t 42017610 & B01N5JX21M & 0 & 0 & 1 & 0 & 0 & 1\\\\\n",
       "\t 42503286 & B01N7ZJ4MT & 0 & 0 & 1 & 0 & 0 & 1\\\\\n",
       "\t 41610140 & B01NAIYB6S & 0 & 0 & 1 & 0 & 0 & 1\\\\\n",
       "\t 41309603 & B01NBKD6ZI & 0 & 0 & 1 & 0 & 0 & 1\\\\\n",
       "\t 41945885 & B06VVSS7QH & 0 & 0 & 1 & 0 & 0 & 1\\\\\n",
       "\t 42699618 & B06WP1M6KT & 0 & 0 & 1 & 0 & 0 & 1\\\\\n",
       "\t 42159285 & B06X9HW4Z6 & 0 & 0 & 1 & 0 & 0 & 1\\\\\n",
       "\t 41317162 & B06XFPGRC7 & 0 & 0 & 1 & 0 & 0 & 1\\\\\n",
       "\t 41405924 & B06XQ4F351 & 0 & 0 & 1 & 0 & 0 & 1\\\\\n",
       "\t 42593673 & B06XQ64QV8 & 0 & 0 & 1 & 0 & 0 & 1\\\\\n",
       "\t 42278150 & B06XY3R81W & 0 & 0 & 1 & 0 & 0 & 1\\\\\n",
       "\t 41450793 & B0716WRPFV & 0 & 0 & 1 & 0 & 0 & 1\\\\\n",
       "\t 42002127 & B071RSDB49 & 0 & 0 & 1 & 0 & 0 & 1\\\\\n",
       "\t 41347557 & B0728MXM3Q & 0 & 0 & 1 & 0 & 0 & 1\\\\\n",
       "\t 41464214 & B072F1WKW1 & 0 & 0 & 1 & 0 & 0 & 1\\\\\n",
       "\t 41970572 & B072L78PHK & 0 & 0 & 1 & 0 & 0 & 1\\\\\n",
       "\t 42475729 & B072MQ8FL7 & 0 & 0 & 1 & 0 & 0 & 1\\\\\n",
       "\t 41421625 & B072S79HNS & 0 & 0 & 1 & 0 & 0 & 1\\\\\n",
       "\t 41927152 & B072Z2KK5V & 0 & 0 & 1 & 0 & 0 & 1\\\\\n",
       "\t 41707133 & B07381C14X & 0 & 0 & 1 & 0 & 0 & 1\\\\\n",
       "\t 41349067 & B073GF59RD & 0 & 0 & 1 & 0 & 0 & 1\\\\\n",
       "\t 41928917 & B073GGNYFL & 0 & 0 & 1 & 0 & 0 & 1\\\\\n",
       "\t 42029193 & B073MZ23QX & 0 & 0 & 1 & 0 & 0 & 1\\\\\n",
       "\t 41452617 & B073QM98F5 & 0 & 0 & 1 & 0 & 0 & 1\\\\\n",
       "\t 41474679 & B073SM1DVP & 0 & 0 & 1 & 0 & 0 & 1\\\\\n",
       "\t 41529678 & B073SMQ7TV & 0 & 0 & 1 & 0 & 0 & 1\\\\\n",
       "\t 42266578 & B074P9CM5T & 0 & 0 & 1 & 0 & 0 & 1\\\\\n",
       "\t 41546978 & B074WFRH82 & 0 & 0 & 1 & 0 & 0 & 1\\\\\n",
       "\t 41637353 & B215071972 & 0 & 0 & 1 & 0 & 0 & 1\\\\\n",
       "\\end{tabular}\n"
      ],
      "text/markdown": [
       "\n",
       "A rowwise_df: 51481 × 8\n",
       "\n",
       "| isbn_id &lt;int&gt; | isbn &lt;chr&gt; | LOC &lt;int&gt; | OL &lt;int&gt; | GR &lt;int&gt; | AZ14 &lt;int&gt; | AZ18 &lt;int&gt; | btot &lt;int&gt; |\n",
       "|---|---|---|---|---|---|---|---|\n",
       "| 41407804 | 0000744395 | 0 | 0 | 1 | 0 |    0 |    1 |\n",
       "| 42062628 | 000074445X | 0 | 0 | 1 | 0 |    0 |    1 |\n",
       "| 11502887 | 0001004735 | 0 | 1 | 0 | 0 |    0 |    1 |\n",
       "| 14397303 | 0001004743 | 0 | 1 | 0 | 0 |    0 |    1 |\n",
       "| 19141493 | 0001034375 | 0 | 1 | 0 | 0 |    0 |    1 |\n",
       "| 40937273 | 0001046403 | 0 | 1 | 0 | 0 |    0 |    1 |\n",
       "|  6693084 | 0001049283 | 0 | 1 | 0 | 0 |    0 |    1 |\n",
       "| 30197848 | 0001054783 | 0 | 1 | 0 | 0 |   75 |   76 |\n",
       "| 33321586 | 0001385208 | 0 | 1 | 0 | 0 |    0 |    1 |\n",
       "| 31969676 | 0001660047 | 0 | 1 | 0 | 0 |    0 |    1 |\n",
       "| 15553922 | 0001660926 | 0 | 1 | 0 | 0 |    0 |    1 |\n",
       "| 30770041 | 0001661019 | 0 | 1 | 0 | 0 |    0 |    1 |\n",
       "| 17792203 | 0001847694 | 0 | 1 | 0 | 0 |    0 |    1 |\n",
       "| 26965565 | 0001848259 | 0 | 1 | 0 | 0 |    0 |    1 |\n",
       "|  8473513 | 0001849123 | 0 | 1 | 0 | 0 |    0 |    1 |\n",
       "| 34007959 | 0001956671 | 0 | 1 | 0 | 0 |    0 |    1 |\n",
       "| 19235257 | 0001956795 | 0 | 1 | 0 | 0 |    0 |    1 |\n",
       "| 41619337 | 0002034840 | 0 | 0 | 1 | 0 |    0 |    1 |\n",
       "|  2678626 | 0002219336 | 1 | 2 | 0 | 0 |    0 |    3 |\n",
       "|  9935945 | 0002315394 | 1 | 3 | 1 | 0 |    0 |    5 |\n",
       "| 36299108 | 0003302245 | 0 | 1 | 0 | 0 | 3900 | 3901 |\n",
       "| 19681411 | 0003395359 | 0 | 1 | 0 | 0 |    0 |    1 |\n",
       "| 30397902 | 0003700860 | 0 | 2 | 1 | 0 |    0 |    3 |\n",
       "| 30858214 | 0003702936 | 0 | 1 | 0 | 0 |    0 |    1 |\n",
       "| 12786661 | 0003708853 | 0 | 1 | 0 | 0 |    0 |    1 |\n",
       "| 37344922 | 0004214072 | 0 | 2 | 0 | 0 |    0 |    2 |\n",
       "| 11125651 | 0004214501 | 0 | 1 | 0 | 0 |    0 |    1 |\n",
       "| 12746265 | 0004244702 | 0 | 1 | 0 | 0 |    0 |    1 |\n",
       "| 29211569 | 0004247256 | 0 | 1 | 0 | 0 |    0 |    1 |\n",
       "|  6837553 | 0004247264 | 0 | 1 | 0 | 0 |    0 |    1 |\n",
       "| ⋮ | ⋮ | ⋮ | ⋮ | ⋮ | ⋮ | ⋮ | ⋮ |\n",
       "| 42697277 | B01N1A58F4 | 0 | 0 | 1 | 0 | 0 | 1 |\n",
       "| 42017610 | B01N5JX21M | 0 | 0 | 1 | 0 | 0 | 1 |\n",
       "| 42503286 | B01N7ZJ4MT | 0 | 0 | 1 | 0 | 0 | 1 |\n",
       "| 41610140 | B01NAIYB6S | 0 | 0 | 1 | 0 | 0 | 1 |\n",
       "| 41309603 | B01NBKD6ZI | 0 | 0 | 1 | 0 | 0 | 1 |\n",
       "| 41945885 | B06VVSS7QH | 0 | 0 | 1 | 0 | 0 | 1 |\n",
       "| 42699618 | B06WP1M6KT | 0 | 0 | 1 | 0 | 0 | 1 |\n",
       "| 42159285 | B06X9HW4Z6 | 0 | 0 | 1 | 0 | 0 | 1 |\n",
       "| 41317162 | B06XFPGRC7 | 0 | 0 | 1 | 0 | 0 | 1 |\n",
       "| 41405924 | B06XQ4F351 | 0 | 0 | 1 | 0 | 0 | 1 |\n",
       "| 42593673 | B06XQ64QV8 | 0 | 0 | 1 | 0 | 0 | 1 |\n",
       "| 42278150 | B06XY3R81W | 0 | 0 | 1 | 0 | 0 | 1 |\n",
       "| 41450793 | B0716WRPFV | 0 | 0 | 1 | 0 | 0 | 1 |\n",
       "| 42002127 | B071RSDB49 | 0 | 0 | 1 | 0 | 0 | 1 |\n",
       "| 41347557 | B0728MXM3Q | 0 | 0 | 1 | 0 | 0 | 1 |\n",
       "| 41464214 | B072F1WKW1 | 0 | 0 | 1 | 0 | 0 | 1 |\n",
       "| 41970572 | B072L78PHK | 0 | 0 | 1 | 0 | 0 | 1 |\n",
       "| 42475729 | B072MQ8FL7 | 0 | 0 | 1 | 0 | 0 | 1 |\n",
       "| 41421625 | B072S79HNS | 0 | 0 | 1 | 0 | 0 | 1 |\n",
       "| 41927152 | B072Z2KK5V | 0 | 0 | 1 | 0 | 0 | 1 |\n",
       "| 41707133 | B07381C14X | 0 | 0 | 1 | 0 | 0 | 1 |\n",
       "| 41349067 | B073GF59RD | 0 | 0 | 1 | 0 | 0 | 1 |\n",
       "| 41928917 | B073GGNYFL | 0 | 0 | 1 | 0 | 0 | 1 |\n",
       "| 42029193 | B073MZ23QX | 0 | 0 | 1 | 0 | 0 | 1 |\n",
       "| 41452617 | B073QM98F5 | 0 | 0 | 1 | 0 | 0 | 1 |\n",
       "| 41474679 | B073SM1DVP | 0 | 0 | 1 | 0 | 0 | 1 |\n",
       "| 41529678 | B073SMQ7TV | 0 | 0 | 1 | 0 | 0 | 1 |\n",
       "| 42266578 | B074P9CM5T | 0 | 0 | 1 | 0 | 0 | 1 |\n",
       "| 41546978 | B074WFRH82 | 0 | 0 | 1 | 0 | 0 | 1 |\n",
       "| 41637353 | B215071972 | 0 | 0 | 1 | 0 | 0 | 1 |\n",
       "\n"
      ],
      "text/plain": [
       "      isbn_id  isbn       LOC OL GR AZ14 AZ18 btot\n",
       "1     41407804 0000744395 0   0  1  0       0    1\n",
       "2     42062628 000074445X 0   0  1  0       0    1\n",
       "3     11502887 0001004735 0   1  0  0       0    1\n",
       "4     14397303 0001004743 0   1  0  0       0    1\n",
       "5     19141493 0001034375 0   1  0  0       0    1\n",
       "6     40937273 0001046403 0   1  0  0       0    1\n",
       "7      6693084 0001049283 0   1  0  0       0    1\n",
       "8     30197848 0001054783 0   1  0  0      75   76\n",
       "9     33321586 0001385208 0   1  0  0       0    1\n",
       "10    31969676 0001660047 0   1  0  0       0    1\n",
       "11    15553922 0001660926 0   1  0  0       0    1\n",
       "12    30770041 0001661019 0   1  0  0       0    1\n",
       "13    17792203 0001847694 0   1  0  0       0    1\n",
       "14    26965565 0001848259 0   1  0  0       0    1\n",
       "15     8473513 0001849123 0   1  0  0       0    1\n",
       "16    34007959 0001956671 0   1  0  0       0    1\n",
       "17    19235257 0001956795 0   1  0  0       0    1\n",
       "18    41619337 0002034840 0   0  1  0       0    1\n",
       "19     2678626 0002219336 1   2  0  0       0    3\n",
       "20     9935945 0002315394 1   3  1  0       0    5\n",
       "21    36299108 0003302245 0   1  0  0    3900 3901\n",
       "22    19681411 0003395359 0   1  0  0       0    1\n",
       "23    30397902 0003700860 0   2  1  0       0    3\n",
       "24    30858214 0003702936 0   1  0  0       0    1\n",
       "25    12786661 0003708853 0   1  0  0       0    1\n",
       "26    37344922 0004214072 0   2  0  0       0    2\n",
       "27    11125651 0004214501 0   1  0  0       0    1\n",
       "28    12746265 0004244702 0   1  0  0       0    1\n",
       "29    29211569 0004247256 0   1  0  0       0    1\n",
       "30     6837553 0004247264 0   1  0  0       0    1\n",
       "⋮     ⋮        ⋮          ⋮   ⋮  ⋮  ⋮    ⋮    ⋮   \n",
       "51452 42697277 B01N1A58F4 0   0  1  0    0    1   \n",
       "51453 42017610 B01N5JX21M 0   0  1  0    0    1   \n",
       "51454 42503286 B01N7ZJ4MT 0   0  1  0    0    1   \n",
       "51455 41610140 B01NAIYB6S 0   0  1  0    0    1   \n",
       "51456 41309603 B01NBKD6ZI 0   0  1  0    0    1   \n",
       "51457 41945885 B06VVSS7QH 0   0  1  0    0    1   \n",
       "51458 42699618 B06WP1M6KT 0   0  1  0    0    1   \n",
       "51459 42159285 B06X9HW4Z6 0   0  1  0    0    1   \n",
       "51460 41317162 B06XFPGRC7 0   0  1  0    0    1   \n",
       "51461 41405924 B06XQ4F351 0   0  1  0    0    1   \n",
       "51462 42593673 B06XQ64QV8 0   0  1  0    0    1   \n",
       "51463 42278150 B06XY3R81W 0   0  1  0    0    1   \n",
       "51464 41450793 B0716WRPFV 0   0  1  0    0    1   \n",
       "51465 42002127 B071RSDB49 0   0  1  0    0    1   \n",
       "51466 41347557 B0728MXM3Q 0   0  1  0    0    1   \n",
       "51467 41464214 B072F1WKW1 0   0  1  0    0    1   \n",
       "51468 41970572 B072L78PHK 0   0  1  0    0    1   \n",
       "51469 42475729 B072MQ8FL7 0   0  1  0    0    1   \n",
       "51470 41421625 B072S79HNS 0   0  1  0    0    1   \n",
       "51471 41927152 B072Z2KK5V 0   0  1  0    0    1   \n",
       "51472 41707133 B07381C14X 0   0  1  0    0    1   \n",
       "51473 41349067 B073GF59RD 0   0  1  0    0    1   \n",
       "51474 41928917 B073GGNYFL 0   0  1  0    0    1   \n",
       "51475 42029193 B073MZ23QX 0   0  1  0    0    1   \n",
       "51476 41452617 B073QM98F5 0   0  1  0    0    1   \n",
       "51477 41474679 B073SM1DVP 0   0  1  0    0    1   \n",
       "51478 41529678 B073SMQ7TV 0   0  1  0    0    1   \n",
       "51479 42266578 B074P9CM5T 0   0  1  0    0    1   \n",
       "51480 41546978 B074WFRH82 0   0  1  0    0    1   \n",
       "51481 41637353 B215071972 0   0  1  0    0    1   "
      ]
     },
     "metadata": {},
     "output_type": "display_data"
    }
   ],
   "source": [
    "bl %>% collect() %>% rowwise() %>% mutate(\n",
    "  btot = sum(c_across(!starts_with(\"isbn\")))\n",
    ") %>% slice_max(btot, n=20)"
   ]
  }
 ],
 "metadata": {
  "jupytext": {
   "text_representation": {
    "extension": ".qmd",
    "format_name": "quarto",
    "format_version": "1.0",
    "jupytext_version": "1.14.7"
   }
  },
  "kernelspec": {
   "display_name": "R (IRkernel)",
   "language": "R",
   "name": "ir"
  },
  "language_info": {
   "codemirror_mode": "r",
   "file_extension": ".r",
   "mimetype": "text/x-r-source",
   "name": "R",
   "pygments_lexer": "r",
   "version": "4.3.2"
  }
 },
 "nbformat": 4,
 "nbformat_minor": 5
}
