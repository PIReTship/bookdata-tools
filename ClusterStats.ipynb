{
  "cells": [
    {
      "cell_type": "markdown",
      "metadata": {},
      "source": [
        "# Book Clustering Statistics\n",
        "\n",
        "This notebook provides statistics on the results of our book clustering.\n",
        "\n",
        "## Setup"
      ],
      "id": "02b0eb49-a567-441a-8397-034d8399c7b0"
    },
    {
      "cell_type": "code",
      "execution_count": null,
      "metadata": {},
      "outputs": [
        {
          "output_type": "stream",
          "name": "stderr",
          "text": [
            "── Attaching core tidyverse packages ──────────────────────── tidyverse 2.0.0 ──\n",
            "✔ dplyr     1.1.4     ✔ readr     2.1.5\n",
            "✔ forcats   1.0.0     ✔ stringr   1.5.1\n",
            "✔ ggplot2   3.5.1     ✔ tibble    3.2.1\n",
            "✔ lubridate 1.9.4     ✔ tidyr     1.3.1\n",
            "✔ purrr     1.0.2     \n",
            "── Conflicts ────────────────────────────────────────── tidyverse_conflicts() ──\n",
            "✖ dplyr::filter() masks stats::filter()\n",
            "✖ dplyr::lag()    masks stats::lag()\n",
            "ℹ Use the conflicted package (<http://conflicted.r-lib.org/>) to force all conflicts to become errors"
          ]
        }
      ],
      "source": [
        "library(tidyverse, warn.conflicts=FALSE)"
      ],
      "id": "9fd43ed4-560b-407d-abd9-5045327c5873"
    },
    {
      "cell_type": "markdown",
      "metadata": {},
      "source": [
        "I want to use `theme_minimal()` by default:"
      ],
      "id": "faefcaf8-5607-4eb2-90a9-88ede17f8da9"
    },
    {
      "cell_type": "code",
      "execution_count": null,
      "metadata": {},
      "outputs": [],
      "source": [
        "theme_set(theme_minimal())"
      ],
      "id": "d5fb2939-ea08-40e3-b2a3-271fc59b38af"
    },
    {
      "cell_type": "markdown",
      "metadata": {},
      "source": [
        "And default image sizes aren’t great:"
      ],
      "id": "8c7d4df4-824d-4c2d-804b-8ac04b07ec77"
    },
    {
      "cell_type": "code",
      "execution_count": null,
      "metadata": {},
      "outputs": [],
      "source": [
        "options(repr.plot.width  = 7,\n",
        "        repr.plot.height = 4)"
      ],
      "id": "b304b35c-b7d9-4cfb-bfbd-1a60758a2222"
    },
    {
      "cell_type": "markdown",
      "metadata": {},
      "source": [
        "## Load Data\n",
        "\n",
        "Let’s start by getting our clusters and their statistics:"
      ],
      "id": "5970a2fe-3f44-4b72-b9d5-b593f0faf08f"
    },
    {
      "cell_type": "code",
      "execution_count": null,
      "metadata": {},
      "outputs": [
        {
          "output_type": "stream",
          "name": "stdout",
          "text": [
            "Table\n",
            "41,149,070 rows x 8 columns\n",
            "$ cluster        <int32> 423896385, 454491654, 424930878, 449145631, 440372971, …\n",
            "$ n_nodes       <uint32> 2, 2, 2, 2, 2, 2, 2, 2, 2, 2, 2, 2, 2, 2, 2, 2, 2, 2, 2…\n",
            "$ n_isbns       <uint32> 0, 0, 0, 0, 0, 0, 0, 0, 0, 0, 0, 0, 0, 0, 0, 0, 0, 0, 0…\n",
            "$ n_loc_recs    <uint32> 0, 0, 0, 0, 0, 0, 0, 0, 0, 0, 0, 0, 0, 0, 0, 0, 0, 0, 0…\n",
            "$ n_ol_editions <uint32> 0, 0, 0, 0, 0, 0, 0, 0, 0, 0, 0, 0, 0, 0, 0, 0, 0, 0, 0…\n",
            "$ n_ol_works    <uint32> 0, 0, 0, 0, 0, 0, 0, 0, 0, 0, 0, 0, 0, 0, 0, 0, 0, 0, 0…\n",
            "$ n_gr_books    <uint32> 1, 1, 1, 1, 1, 1, 1, 1, 1, 1, 1, 1, 1, 1, 1, 1, 1, 1, 1…\n",
            "$ n_gr_works    <uint32> 1, 1, 1, 1, 1, 1, 1, 1, 1, 1, 1, 1, 1, 1, 1, 1, 1, 1, 1…"
          ]
        }
      ],
      "source": [
        "clusters = read_parquet(\"book-links/cluster-stats.parquet\", as_data_frame=FALSE)\n",
        "glimpse(clusters)"
      ],
      "id": "511bed9a-34df-48c5-8a97-1cd89da4d4bc"
    },
    {
      "cell_type": "markdown",
      "metadata": {},
      "source": [
        "Describe the count columns for basic descriptive stats:"
      ],
      "id": "e8049beb-23dd-4caa-a316-3e42d09b32a4"
    },
    {
      "cell_type": "code",
      "execution_count": null,
      "metadata": {},
      "outputs": [
        {
          "output_type": "stream",
          "name": "stdout",
          "text": [
            "    n_nodes             n_isbns           n_loc_recs       n_ol_editions     \n",
            " Min.   :     1.00   Min.   :    0.00   Min.   :   0.000   Min.   :    0.00  \n",
            " 1st Qu.:     2.00   1st Qu.:    0.00   1st Qu.:   0.000   1st Qu.:    1.00  \n",
            " Median :     3.00   Median :    1.00   Median :   0.000   Median :    1.00  \n",
            " Mean   :     3.38   Mean   :    1.08   Mean   :   0.235   Mean   :    1.14  \n",
            " 3rd Qu.:     4.00   3rd Qu.:    2.00   3rd Qu.:   0.000   3rd Qu.:    1.00  \n",
            " Max.   :106334.00   Max.   :51481.00   Max.   :1439.000   Max.   :44567.00  \n",
            "   n_ol_works          n_gr_books         n_gr_works       \n",
            " Min.   :   0.0000   Min.   :   0.000   Min.   :  0.00000  \n",
            " 1st Qu.:   1.0000   1st Qu.:   0.000   1st Qu.:  0.00000  \n",
            " Median :   1.0000   Median :   0.000   Median :  0.00000  \n",
            " Mean   :   0.8319   Mean   :   0.057   Mean   :  0.03699  \n",
            " 3rd Qu.:   1.0000   3rd Qu.:   0.000   3rd Qu.:  0.00000  \n",
            " Max.   :2329.0000   Max.   :7378.000   Max.   :295.00000  "
          ]
        }
      ],
      "source": [
        "clusters %>%\n",
        "  select(-cluster) %>%\n",
        "  collect() %>%\n",
        "  summary()"
      ],
      "id": "f8de03c5-e719-4e12-bf16-535255d6d3f8"
    },
    {
      "cell_type": "markdown",
      "metadata": {},
      "source": [
        "75% of clusters only contain 2 ISBNs (probably -10 and -13) and one\n",
        "book. OpenLibrary also contributes to the largest number of clusters.\n",
        "\n",
        "## Clusters per Source\n",
        "\n",
        "How many clusters are connected to each source?"
      ],
      "id": "b9723a6b-b2a2-4fed-a6ac-1aadb930607d"
    },
    {
      "cell_type": "code",
      "execution_count": null,
      "metadata": {},
      "outputs": [
        {
          "output_type": "stream",
          "name": "stdout",
          "text": [
            "# A tibble: 7 × 2\n",
            "  source           count\n",
            "  <chr>            <int>\n",
            "1 n_nodes       41149070\n",
            "2 n_isbns       24073256\n",
            "3 n_loc_recs     9277944\n",
            "4 n_ol_editions 34655323\n",
            "5 n_ol_works    32823913\n",
            "6 n_gr_books     1505224\n",
            "7 n_gr_works     1504700"
          ]
        }
      ],
      "source": [
        "src_counts = clusters %>%\n",
        "  summarize(across(-cluster, ~ sum(.x > 0))) %>%\n",
        "  collect() %>%\n",
        "  pivot_longer(everything(), names_to=\"source\", values_to=\"count\")\n",
        "src_counts"
      ],
      "id": "a46120ec-e05e-49b7-8d2a-b8746eac6f4b"
    },
    {
      "cell_type": "code",
      "execution_count": null,
      "metadata": {},
      "outputs": [
        {
          "output_type": "display_data",
          "metadata": {},
          "data": {
            "image/png": "[encoded data removed]"
          }
        }
      ],
      "source": [
        "ggplot(src_counts, aes(y=source, x=count)) +\n",
        "  geom_bar(stat='identity')"
      ],
      "id": "106a5554-4d43-4bbb-9b41-674f2407ddd7"
    },
    {
      "cell_type": "markdown",
      "metadata": {},
      "source": [
        "## Distributions\n",
        "\n",
        "Let’s look at the distributions of cluster sizes. Let’s first compute\n",
        "histograms of the number of records per cluster for each cluster type."
      ],
      "id": "bf93434d-24f8-4a8e-99ac-22cb86b276d0"
    },
    {
      "cell_type": "code",
      "execution_count": null,
      "metadata": {},
      "outputs": [
        {
          "output_type": "stream",
          "name": "stdout",
          "text": [
            "# A tibble: 6 × 3\n",
            "  rec_type nrecs    count\n",
            "  <fct>    <int>    <int>\n",
            "1 n_nodes      2 10611148\n",
            "2 n_nodes      1  6960647\n",
            "3 n_nodes      3  9248888\n",
            "4 n_nodes      4  8154636\n",
            "5 n_nodes      5  2148226\n",
            "6 n_nodes      6  1107105"
          ]
        }
      ],
      "source": [
        "size_dists = collect(clusters) %>%\n",
        "  gather(rec_type, nrecs, -cluster, factor_key=TRUE) %>%\n",
        "  summarize(count=n(), .by=c(\"rec_type\", \"nrecs\"))\n",
        "head(size_dists)"
      ],
      "id": "cab89458-874d-44bd-873d-1fc503b64067"
    },
    {
      "cell_type": "code",
      "execution_count": null,
      "metadata": {},
      "outputs": [
        {
          "output_type": "stream",
          "name": "stderr",
          "text": [
            "Warning in scale_x_log10(): log-10 transformation introduced infinite values."
          ]
        },
        {
          "output_type": "display_data",
          "metadata": {},
          "data": {
            "image/png": "[encoded data removed]"
          }
        }
      ],
      "source": [
        "ggplot(size_dists) +\n",
        "  aes(x=nrecs, y=count, color=rec_type) +\n",
        "  geom_point() +\n",
        "  scale_x_log10() +\n",
        "  scale_y_log10() +\n",
        "  scale_color_brewer(type=\"qual\", palette=\"Dark2\") +\n",
        "  xlab(\"# of Records\") +\n",
        "  xlab(\"# of Clusters\") +\n",
        "  ggtitle(\"Distribution of cluster counts\")"
      ],
      "id": "99d5d2c6-0e89-4fd1-9c1c-616302c20517"
    },
    {
      "cell_type": "markdown",
      "metadata": {},
      "source": [
        "Looks mostly fine - we expect a lot of power laws - but the number of\n",
        "clusters with merged GoodReads works is concerning.\n",
        "\n",
        "## GoodReads Work Merging\n",
        "\n",
        "What’s going on with these clusters? Let’s take a peek at them."
      ],
      "id": "e0caa408-e999-4510-93e1-a1a7285fa0b9"
    },
    {
      "cell_type": "code",
      "execution_count": null,
      "metadata": {},
      "outputs": [
        {
          "output_type": "stream",
          "name": "stdout",
          "text": [
            "Table (query)\n",
            "10,080 rows x 8 columns\n",
            "$ cluster        <int32> 100015971, 100017732, 104007890, 100027819, 108359025, …\n",
            "$ n_nodes       <uint32> 106334, 9586, 520, 1602, 315, 337, 304, 513, 685, 610, …\n",
            "$ n_isbns       <uint32> 51481, 4624, 194, 780, 141, 91, 120, 225, 245, 299, 248…\n",
            "$ n_loc_recs    <uint32> 1439, 281, 6, 55, 1, 38, 3, 6, 2, 0, 0, 1, 111, 105, 0,…\n",
            "$ n_ol_editions <uint32> 44567, 3721, 113, 462, 51, 64, 75, 113, 185, 170, 153, …\n",
            "$ n_ol_works    <uint32> 1174, 342, 77, 78, 18, 58, 21, 38, 75, 45, 47, 25, 156,…\n",
            "$ n_gr_books    <uint32> 7378, 513, 69, 172, 53, 46, 45, 91, 140, 60, 51, 46, 59…\n",
            "$ n_gr_works    <uint32> 295, 105, 61, 55, 51, 40, 40, 40, 38, 36, 34, 31, 30, 3…\n",
            "Call `print()` for query details"
          ]
        }
      ],
      "source": [
        "gr_big = clusters %>%\n",
        "  filter(n_gr_works > 1) %>%\n",
        "  arrange(desc(n_gr_works))\n",
        "gr_big %>% glimpse()"
      ],
      "id": "67379b83-886f-4c07-988c-fabedb1f4503"
    },
    {
      "cell_type": "markdown",
      "metadata": {},
      "source": [
        "We have a lot of these clusters. What fraction of the GoodReads-affected\n",
        "clusters is this?"
      ],
      "id": "7986182a-60a1-423f-a7b0-52861e991e92"
    },
    {
      "cell_type": "code",
      "execution_count": null,
      "metadata": {},
      "outputs": [
        {
          "output_type": "stream",
          "name": "stdout",
          "text": [
            "Scalar\n",
            "0.0002449630088845264"
          ]
        }
      ],
      "source": [
        "nrow(gr_big) / sum(!is.na(clusters$n_gr_books))"
      ],
      "id": "70254be7-eadd-4d35-b3c1-f30a011136b0"
    },
    {
      "cell_type": "markdown",
      "metadata": {},
      "source": [
        "Less than 1%. Not bad, but let’s look at these largest clusters."
      ],
      "id": "5b16d556-bd7d-4972-ae8a-8f46d341f1c2"
    },
    {
      "cell_type": "code",
      "execution_count": null,
      "metadata": {},
      "outputs": [
        {
          "output_type": "stream",
          "name": "stdout",
          "text": [
            "# A tibble: 6 × 8\n",
            "    cluster n_nodes n_isbns n_loc_recs n_ol_editions n_ol_works n_gr_books\n",
            "      <int>   <int>   <int>      <int>         <int>      <int>      <int>\n",
            "1 100015971  106334   51481       1439         44567       1174       7378\n",
            "2 100017732    9586    4624        281          3721        342        513\n",
            "3 104007890     520     194          6           113         77         69\n",
            "4 100027819    1602     780         55           462         78        172\n",
            "5 108359025     315     141          1            51         18         53\n",
            "6 100108007     337      91         38            64         58         46\n",
            "# ℹ 1 more variable: n_gr_works <int>"
          ]
        }
      ],
      "source": [
        "gr_big %>% head() %>% collect()"
      ],
      "id": "233957a1-3173-4823-b805-e9aec28997cc"
    },
    {
      "cell_type": "markdown",
      "metadata": {},
      "source": [
        "## Large Cluster Debugging\n",
        "\n",
        "We have some pretty big clusters:"
      ],
      "id": "9a107faa-a986-47f9-a185-0060b8ff5581"
    },
    {
      "cell_type": "code",
      "execution_count": null,
      "metadata": {},
      "outputs": [
        {
          "output_type": "stream",
          "name": "stdout",
          "text": [
            "# A tibble: 5 × 8\n",
            "    cluster n_nodes n_isbns n_loc_recs n_ol_editions n_ol_works n_gr_books\n",
            "      <int>   <int>   <int>      <int>         <int>      <int>      <int>\n",
            "1 100015971  106334   51481       1439         44567       1174       7378\n",
            "2 100066513   24435   12152        190         10644         69       1352\n",
            "3 114903691   11281    7520          0          3760          1          0\n",
            "4 124349756   10678    7118          0          3559          1          0\n",
            "5 101525098   10118    6518          7          3558         35          0\n",
            "# ℹ 1 more variable: n_gr_works <int>"
          ]
        }
      ],
      "source": [
        "big = clusters %>% slice_max(n_nodes, n=5, with_ties=FALSE) %>%\n",
        "  collect()\n",
        "big"
      ],
      "id": "1ffe9189-d0fa-46f9-9f2a-4bcf05bfc67f"
    },
    {
      "cell_type": "markdown",
      "metadata": {},
      "source": [
        "What is up with this? We should figure out what went wrong, if we can.\n",
        "What are its ISBNs?"
      ],
      "id": "79f708ea-6aa3-4d7c-9772-4ab912a450e0"
    },
    {
      "cell_type": "code",
      "execution_count": null,
      "metadata": {},
      "outputs": [
        {
          "output_type": "stream",
          "name": "stdout",
          "text": [
            "Table\n",
            "44,471,261 rows x 7 columns\n",
            "$ isbn_id     <int32> 1, 2, 3, 4, 5, 6, 7, 8, 9, 10, 11, 12, 13, 14, 15, 16, 17,…\n",
            "$ isbn <large_string> \"9783640435067\", \"9781107337145\", \"8478465820\", \"978031253…\n",
            "$ LOC        <uint32> 0, 0, 0, 0, 0, 0, 1, 1, 0, 0, 0, 0, 0, 0, 0, 0, 1, 1, 0, 0…\n",
            "$ OL         <uint32> 1, 1, 1, 1, 1, 1, 1, 1, 1, 1, 1, 1, 1, 1, 1, 1, 1, 1, 1, 1…\n",
            "$ GR          <int64> 0, 0, 0, 1, 0, 0, 0, 0, 0, 0, 0, 0, 0, 0, 0, 0, 0, 0, 0, 0…\n",
            "$ AZ14       <uint32> 0, 0, 0, 0, 0, 0, 0, 0, 0, 0, 0, 0, 0, 0, 0, 0, 0, 0, 0, 0…\n",
            "$ AZ18       <uint32> 0, 0, 0, 0, 0, 0, 0, 0, 0, 0, 0, 0, 0, 0, 0, 0, 0, 0, 0, 0…"
          ]
        }
      ],
      "source": [
        "isbns = read_parquet('book-links/all-isbns.parquet', as_data_frame=FALSE)\n",
        "glimpse(isbns)"
      ],
      "id": "fc8f124c-1909-4ddd-92df-23efcb165e78"
    },
    {
      "cell_type": "code",
      "execution_count": null,
      "metadata": {},
      "outputs": [
        {
          "output_type": "stream",
          "name": "stdout",
          "text": [
            "Table (query)\n",
            "44,471,261 rows x 2 columns\n",
            "$ isbn_id <int32> 44471261, 44471260, 44471259, 44471258, 44471257, 44471256, 44…\n",
            "$ cluster <int32> 944471261, 944471260, 944471259, 944471258, 944471257, 9444712…\n",
            "Call `print()` for query details"
          ]
        }
      ],
      "source": [
        "links = read_parquet(\"book-links/isbn-clusters.parquet\", as_data_frame=FALSE) %>%\n",
        "  select(isbn_id, cluster)\n",
        "glimpse(links)"
      ],
      "id": "ade38f4f-2539-43b6-b77b-9360b529df24"
    },
    {
      "cell_type": "markdown",
      "metadata": {},
      "source": [
        "Now let’s look up data for the largest cluster."
      ],
      "id": "5b40ff36-e84a-4a1b-b026-45cbf9eea009"
    },
    {
      "cell_type": "code",
      "execution_count": null,
      "metadata": {},
      "outputs": [
        {
          "output_type": "stream",
          "name": "stdout",
          "text": [
            "[1] 100015971"
          ]
        }
      ],
      "source": [
        "big_id = big$cluster[1]\n",
        "big_id"
      ],
      "id": "2c6e3001-9b06-4f08-a538-18620ee402b6"
    },
    {
      "cell_type": "code",
      "execution_count": null,
      "metadata": {},
      "outputs": [
        {
          "output_type": "stream",
          "name": "stdout",
          "text": [
            "Table (query)\n",
            "?? rows x 7 columns\n",
            "$ isbn_id     <int32> 41577616, 42688032, 14338336, 24821157, 21065624, 26865403…\n",
            "$ isbn <large_string> \"0000744395\", \"000074445X\", \"0001004735\", \"0001004743\", \"0…\n",
            "$ LOC        <uint32> 0, 0, 0, 0, 0, 0, 0, 0, 0, 0, 0, 0, 0, 0, 0, 0, 0, 0, 1, 1…\n",
            "$ OL         <uint32> 0, 0, 1, 1, 1, 1, 1, 1, 1, 1, 1, 1, 1, 1, 1, 1, 1, 0, 2, 3…\n",
            "$ GR          <int64> 1, 1, 0, 0, 0, 0, 0, 0, 0, 0, 0, 0, 0, 0, 0, 0, 0, 1, 0, 1…\n",
            "$ AZ14       <uint32> 0, 0, 0, 0, 0, 0, 0, 0, 0, 0, 0, 0, 0, 0, 0, 0, 0, 0, 0, 0…\n",
            "$ AZ18       <uint32> 0, 0, 0, 0, 0, 0, 0, 75, 0, 0, 0, 0, 0, 0, 0, 0, 0, 0, 0, …\n",
            "Call `print()` for query details"
          ]
        }
      ],
      "source": [
        "bl = links %>% filter(cluster == big_id)\n",
        "bl = semi_join(isbns, bl) %>% arrange(isbn)\n",
        "bl %>% glimpse()"
      ],
      "id": "c4665bc8-7d60-4fb6-9b14-2923124ce1a5"
    },
    {
      "cell_type": "markdown",
      "metadata": {},
      "source": [
        "What are the things with the highest record count?"
      ],
      "id": "749c0d1c-0133-43d8-9235-c6a9dca532a8"
    },
    {
      "cell_type": "code",
      "execution_count": null,
      "metadata": {},
      "outputs": [
        {
          "output_type": "stream",
          "name": "stdout",
          "text": [
            "# A tibble: 51,481 × 8\n",
            "# Rowwise: \n",
            "    isbn_id isbn         LOC    OL    GR  AZ14  AZ18  btot\n",
            "      <int> <chr>      <int> <int> <int> <int> <int> <int>\n",
            " 1 41577616 0000744395     0     0     1     0     0     1\n",
            " 2 42688032 000074445X     0     0     1     0     0     1\n",
            " 3 14338336 0001004735     0     1     0     0     0     1\n",
            " 4 24821157 0001004743     0     1     0     0     0     1\n",
            " 5 21065624 0001034375     0     1     0     0     0     1\n",
            " 6 26865403 0001046403     0     1     0     0     0     1\n",
            " 7 18792783 0001049283     0     1     0     0     0     1\n",
            " 8 41009905 0001054783     0     1     0     0    75    76\n",
            " 9 32680189 0001385208     0     1     0     0     0     1\n",
            "10 32518057 0001660047     0     1     0     0     0     1\n",
            "# ℹ 51,471 more rows"
          ]
        }
      ],
      "source": [
        "bl %>% collect() %>% rowwise() %>% mutate(\n",
        "  btot = sum(c_across(!starts_with(\"isbn\")))\n",
        ") %>% slice_max(btot, n=20)"
      ],
      "id": "c9ad672b-c047-4bdf-b6c0-78dc165d0125"
    }
  ],
  "nbformat": 4,
  "nbformat_minor": 5,
  "metadata": {
    "kernelspec": {
      "display_name": "Python 3",
      "language": "python",
      "name": "python3"
    }
  }
}